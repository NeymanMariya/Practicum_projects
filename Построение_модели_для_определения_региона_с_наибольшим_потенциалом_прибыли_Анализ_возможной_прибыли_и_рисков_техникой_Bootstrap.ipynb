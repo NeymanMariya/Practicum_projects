{
  "cells": [
    {
      "cell_type": "markdown",
      "metadata": {
        "id": "CH9E3CVM1L4f"
      },
      "source": [
        "# Выбор локации для скважины"
      ]
    },
    {
      "cell_type": "markdown",
      "metadata": {
        "id": "4F9bUNbv1L4g"
      },
      "source": [
        "Для нефтедобывающей компании «ГлавРосГосНефть» нужно решить, где бурить новую скважину.\n",
        "\n",
        "Предоставлены пробы нефти в трёх регионах: в каждом 100 000 месторождений, где измерили качество нефти и объём её запасов. Нужно построить модель машинного обучения, которая поможет определить регион, где добыча принесёт наибольшую прибыль. Проанализируйте возможную прибыль и риски техникой *Bootstrap.*\n",
        "\n",
        "Шаги для выбора локации:\n",
        "\n",
        "- В избранном регионе ищут месторождения, для каждого определяют значения признаков;\n",
        "- Строят модель и оценивают объём запасов;\n",
        "- Выбирают месторождения с самым высокими оценками значений. Количество месторождений зависит от бюджета компании и стоимости разработки одной скважины;\n",
        "- Прибыль равна суммарной прибыли отобранных месторождений."
      ]
    },
    {
      "cell_type": "markdown",
      "metadata": {
        "id": "QaOH3z3Q1L4g"
      },
      "source": [
        "## Загрузка и подготовка данных"
      ]
    },
    {
      "cell_type": "markdown",
      "metadata": {
        "id": "xQ2M3xrk1L4h"
      },
      "source": [
        "### Импортируем необходимые библиотеки и функции, а также модели для обучения, настройки гиперпараметров и оценки качества и для работы с пайплайнами."
      ]
    },
    {
      "cell_type": "code",
      "execution_count": null,
      "metadata": {
        "id": "6EaoyyIw1L4h"
      },
      "outputs": [],
      "source": [
        "import pandas as pd\n",
        "#импортируем необходимые для проведения стат. анализа библиотеки\n",
        "pd.options.display.float_format = '{:,.2f}'.format\n",
        "!pip install --upgrade ipykernel -q\n",
        "!pip install --upgrade pip  -q\n",
        "!pip install matplotlib  -q\n",
        "!pip -q install scikit-learn==1.6.1  -q\n",
        "!pip install shap -q\n",
        "!pip install --upgrade scikit-learn -q\n",
        "!pip install phik -q\n",
        "!pip install ipython -q\n",
        "!pip install phik -q\n",
        "import time\n",
        "from phik import phik_matrix  # Импорт функции phik_matrix\n",
        "import phik\n",
        "import random\n",
        "from tqdm.notebook import tqdm\n",
        "from tqdm import tqdm\n",
        "from sklearn.model_selection import cross_val_score, KFold\n",
        "from sklearn.base import clone\n",
        "\n",
        "# создание констант\n",
        "RANDOM_STATE = 42\n",
        "#Кол-во точек при разведке\n",
        "boreholes = 500\n",
        "#Кол-во лучших точек\n",
        "best_place = 200\n",
        "#10 млрд руб. выделено на разработку скважин в каждом регионе\n",
        "summa = 10e9\n",
        "#доход с каждой единицы продукта скважины\n",
        "revenue_per_unit = 450e3\n",
        "#Число выборок для Bootstrap\n",
        "N_bootstrap = 1000\n",
        "\n",
        "#импортируем библиотеку для построения графиков\n",
        "import matplotlib.pyplot as plt\n",
        "import plotly.express as px\n",
        "\n",
        "#импортируем библиотеку для построения более сложных графиков\n",
        "import seaborn as sns\n",
        "\n",
        "#импортируем библиотеку для работы с многомерными массивами\n",
        "import numpy as np\n",
        "import seaborn as sns\n",
        "\n",
        "#импортируем библиотеку проведения статистического анализа (проведения стат. тестов и получения оценок рез-тов)\n",
        "from scipy import stats as st\n",
        "\n",
        "#функция для разделения данных\n",
        "from sklearn.model_selection import train_test_split\n",
        "\n",
        "#импортируем из библиотеки sklearn модели линейной регрессии\n",
        "from sklearn.linear_model import LinearRegression\n",
        "from sklearn.model_selection import RandomizedSearchCV\n",
        "\n",
        "#импортируем из библиотеки sklearn функции для оценки моделей машинного обучения.\n",
        "from sklearn.metrics import mean_squared_error, confusion_matrix\n",
        "\n",
        "from sklearn.utils import resample\n",
        "\n",
        "# загружаем нужные классы\n",
        "# класс ColumnTransformer помогает работать с данными разного типа в одном наборе\n",
        "from sklearn.pipeline import Pipeline\n",
        "from sklearn.compose import ColumnTransformer\n",
        "\n",
        "from sklearn.model_selection import GridSearchCV\n",
        "from sklearn.ensemble import RandomForestClassifier\n",
        "\n",
        "# класс для работы с пропусками\n",
        "from sklearn.impute import SimpleImputer"
      ]
    },
    {
      "cell_type": "markdown",
      "metadata": {
        "id": "jU318tAy1L4j"
      },
      "source": [
        "### Считываем данные из файлов изаписываем их в переменные."
      ]
    },
    {
      "cell_type": "code",
      "execution_count": null,
      "metadata": {
        "id": "pCsa51Ps1L4j"
      },
      "outputs": [],
      "source": [
        "#Считываем файлы с данными и записываем датасеты в соответствующие переменные\n",
        "\n",
        "#Данные геологоразведки 1-го региона\n",
        "try:\n",
        "    geo_data_0 = pd.read_csv('geo_data_0.csv', engine = 'python', sep = ',')\n",
        "except:\n",
        "    geo_data_0 = pd.read_csv('https://code.s3.yandex.net/datasets/geo_data_0.csv', sep = ',')\n",
        "\n",
        "#Данные геологоразведки 2-го региона\n",
        "try:\n",
        "    geo_data_1 = pd.read_csv('geo_data_1.csv', engine = 'python', sep = ',')\n",
        "except:\n",
        "    geo_data_1 = pd.read_csv('https://code.s3.yandex.net/datasets/geo_data_1.csv', sep = ',')\n",
        "\n",
        "#Данные геологоразведки 3-го региона\n",
        "try:\n",
        "    geo_data_2 = pd.read_csv('geo_data_2.csv', engine = 'python', sep = ',')\n",
        "except:\n",
        "    geo_data_2= pd.read_csv('https://code.s3.yandex.net/datasets/geo_data_2.csv', sep = ',')"
      ]
    },
    {
      "cell_type": "markdown",
      "metadata": {
        "id": "s-wn0X8_1L4k"
      },
      "source": [
        "### Изучим общую информацию о данных в 3-х датасетах"
      ]
    },
    {
      "cell_type": "code",
      "execution_count": null,
      "metadata": {
        "id": "VCuncrBo1L4k",
        "outputId": "459fd3f1-d3df-44a4-9b39-bb5987e8dbc3"
      },
      "outputs": [
        {
          "name": "stdout",
          "output_type": "stream",
          "text": [
            "<class 'pandas.core.frame.DataFrame'>\n",
            "RangeIndex: 100000 entries, 0 to 99999\n",
            "Data columns (total 5 columns):\n",
            " #   Column   Non-Null Count   Dtype  \n",
            "---  ------   --------------   -----  \n",
            " 0   id       100000 non-null  object \n",
            " 1   f0       100000 non-null  float64\n",
            " 2   f1       100000 non-null  float64\n",
            " 3   f2       100000 non-null  float64\n",
            " 4   product  100000 non-null  float64\n",
            "dtypes: float64(4), object(1)\n",
            "memory usage: 3.8+ MB\n"
          ]
        },
        {
          "data": {
            "text/html": [
              "<div>\n",
              "<style scoped>\n",
              "    .dataframe tbody tr th:only-of-type {\n",
              "        vertical-align: middle;\n",
              "    }\n",
              "\n",
              "    .dataframe tbody tr th {\n",
              "        vertical-align: top;\n",
              "    }\n",
              "\n",
              "    .dataframe thead th {\n",
              "        text-align: right;\n",
              "    }\n",
              "</style>\n",
              "<table border=\"1\" class=\"dataframe\">\n",
              "  <thead>\n",
              "    <tr style=\"text-align: right;\">\n",
              "      <th></th>\n",
              "      <th>id</th>\n",
              "      <th>f0</th>\n",
              "      <th>f1</th>\n",
              "      <th>f2</th>\n",
              "      <th>product</th>\n",
              "    </tr>\n",
              "  </thead>\n",
              "  <tbody>\n",
              "    <tr>\n",
              "      <th>0</th>\n",
              "      <td>txEyH</td>\n",
              "      <td>0.71</td>\n",
              "      <td>-0.50</td>\n",
              "      <td>1.22</td>\n",
              "      <td>105.28</td>\n",
              "    </tr>\n",
              "    <tr>\n",
              "      <th>1</th>\n",
              "      <td>2acmU</td>\n",
              "      <td>1.33</td>\n",
              "      <td>-0.34</td>\n",
              "      <td>4.37</td>\n",
              "      <td>73.04</td>\n",
              "    </tr>\n",
              "    <tr>\n",
              "      <th>2</th>\n",
              "      <td>409Wp</td>\n",
              "      <td>1.02</td>\n",
              "      <td>0.15</td>\n",
              "      <td>1.42</td>\n",
              "      <td>85.27</td>\n",
              "    </tr>\n",
              "    <tr>\n",
              "      <th>3</th>\n",
              "      <td>iJLyR</td>\n",
              "      <td>-0.03</td>\n",
              "      <td>0.14</td>\n",
              "      <td>2.98</td>\n",
              "      <td>168.62</td>\n",
              "    </tr>\n",
              "    <tr>\n",
              "      <th>4</th>\n",
              "      <td>Xdl7t</td>\n",
              "      <td>1.99</td>\n",
              "      <td>0.16</td>\n",
              "      <td>4.75</td>\n",
              "      <td>154.04</td>\n",
              "    </tr>\n",
              "  </tbody>\n",
              "</table>\n",
              "</div>"
            ],
            "text/plain": [
              "      id    f0    f1   f2  product\n",
              "0  txEyH  0.71 -0.50 1.22   105.28\n",
              "1  2acmU  1.33 -0.34 4.37    73.04\n",
              "2  409Wp  1.02  0.15 1.42    85.27\n",
              "3  iJLyR -0.03  0.14 2.98   168.62\n",
              "4  Xdl7t  1.99  0.16 4.75   154.04"
            ]
          },
          "metadata": {},
          "output_type": "display_data"
        }
      ],
      "source": [
        "geo_data_0.info()\n",
        "display (geo_data_0.head())"
      ]
    },
    {
      "cell_type": "code",
      "execution_count": null,
      "metadata": {
        "id": "oqu3lpFi1L4l",
        "outputId": "ccef6a50-cd7b-48d0-dbec-4845eedbb661"
      },
      "outputs": [
        {
          "name": "stdout",
          "output_type": "stream",
          "text": [
            "<class 'pandas.core.frame.DataFrame'>\n",
            "RangeIndex: 100000 entries, 0 to 99999\n",
            "Data columns (total 5 columns):\n",
            " #   Column   Non-Null Count   Dtype  \n",
            "---  ------   --------------   -----  \n",
            " 0   id       100000 non-null  object \n",
            " 1   f0       100000 non-null  float64\n",
            " 2   f1       100000 non-null  float64\n",
            " 3   f2       100000 non-null  float64\n",
            " 4   product  100000 non-null  float64\n",
            "dtypes: float64(4), object(1)\n",
            "memory usage: 3.8+ MB\n"
          ]
        },
        {
          "data": {
            "text/html": [
              "<div>\n",
              "<style scoped>\n",
              "    .dataframe tbody tr th:only-of-type {\n",
              "        vertical-align: middle;\n",
              "    }\n",
              "\n",
              "    .dataframe tbody tr th {\n",
              "        vertical-align: top;\n",
              "    }\n",
              "\n",
              "    .dataframe thead th {\n",
              "        text-align: right;\n",
              "    }\n",
              "</style>\n",
              "<table border=\"1\" class=\"dataframe\">\n",
              "  <thead>\n",
              "    <tr style=\"text-align: right;\">\n",
              "      <th></th>\n",
              "      <th>id</th>\n",
              "      <th>f0</th>\n",
              "      <th>f1</th>\n",
              "      <th>f2</th>\n",
              "      <th>product</th>\n",
              "    </tr>\n",
              "  </thead>\n",
              "  <tbody>\n",
              "    <tr>\n",
              "      <th>0</th>\n",
              "      <td>kBEdx</td>\n",
              "      <td>-15.00</td>\n",
              "      <td>-8.28</td>\n",
              "      <td>-0.01</td>\n",
              "      <td>3.18</td>\n",
              "    </tr>\n",
              "    <tr>\n",
              "      <th>1</th>\n",
              "      <td>62mP7</td>\n",
              "      <td>14.27</td>\n",
              "      <td>-3.48</td>\n",
              "      <td>1.00</td>\n",
              "      <td>26.95</td>\n",
              "    </tr>\n",
              "    <tr>\n",
              "      <th>2</th>\n",
              "      <td>vyE1P</td>\n",
              "      <td>6.26</td>\n",
              "      <td>-5.95</td>\n",
              "      <td>5.00</td>\n",
              "      <td>134.77</td>\n",
              "    </tr>\n",
              "    <tr>\n",
              "      <th>3</th>\n",
              "      <td>KcrkZ</td>\n",
              "      <td>-13.08</td>\n",
              "      <td>-11.51</td>\n",
              "      <td>5.00</td>\n",
              "      <td>137.95</td>\n",
              "    </tr>\n",
              "    <tr>\n",
              "      <th>4</th>\n",
              "      <td>AHL4O</td>\n",
              "      <td>12.70</td>\n",
              "      <td>-8.15</td>\n",
              "      <td>5.00</td>\n",
              "      <td>134.77</td>\n",
              "    </tr>\n",
              "  </tbody>\n",
              "</table>\n",
              "</div>"
            ],
            "text/plain": [
              "      id     f0     f1    f2  product\n",
              "0  kBEdx -15.00  -8.28 -0.01     3.18\n",
              "1  62mP7  14.27  -3.48  1.00    26.95\n",
              "2  vyE1P   6.26  -5.95  5.00   134.77\n",
              "3  KcrkZ -13.08 -11.51  5.00   137.95\n",
              "4  AHL4O  12.70  -8.15  5.00   134.77"
            ]
          },
          "metadata": {},
          "output_type": "display_data"
        }
      ],
      "source": [
        "geo_data_1.info()\n",
        "display (geo_data_1.head())"
      ]
    },
    {
      "cell_type": "code",
      "execution_count": null,
      "metadata": {
        "id": "k1N47tUz1L4l",
        "outputId": "41be7218-8e2b-420d-ca87-9a622c2730b0"
      },
      "outputs": [
        {
          "name": "stdout",
          "output_type": "stream",
          "text": [
            "<class 'pandas.core.frame.DataFrame'>\n",
            "RangeIndex: 100000 entries, 0 to 99999\n",
            "Data columns (total 5 columns):\n",
            " #   Column   Non-Null Count   Dtype  \n",
            "---  ------   --------------   -----  \n",
            " 0   id       100000 non-null  object \n",
            " 1   f0       100000 non-null  float64\n",
            " 2   f1       100000 non-null  float64\n",
            " 3   f2       100000 non-null  float64\n",
            " 4   product  100000 non-null  float64\n",
            "dtypes: float64(4), object(1)\n",
            "memory usage: 3.8+ MB\n"
          ]
        },
        {
          "data": {
            "text/html": [
              "<div>\n",
              "<style scoped>\n",
              "    .dataframe tbody tr th:only-of-type {\n",
              "        vertical-align: middle;\n",
              "    }\n",
              "\n",
              "    .dataframe tbody tr th {\n",
              "        vertical-align: top;\n",
              "    }\n",
              "\n",
              "    .dataframe thead th {\n",
              "        text-align: right;\n",
              "    }\n",
              "</style>\n",
              "<table border=\"1\" class=\"dataframe\">\n",
              "  <thead>\n",
              "    <tr style=\"text-align: right;\">\n",
              "      <th></th>\n",
              "      <th>id</th>\n",
              "      <th>f0</th>\n",
              "      <th>f1</th>\n",
              "      <th>f2</th>\n",
              "      <th>product</th>\n",
              "    </tr>\n",
              "  </thead>\n",
              "  <tbody>\n",
              "    <tr>\n",
              "      <th>0</th>\n",
              "      <td>fwXo0</td>\n",
              "      <td>-1.15</td>\n",
              "      <td>0.96</td>\n",
              "      <td>-0.83</td>\n",
              "      <td>27.76</td>\n",
              "    </tr>\n",
              "    <tr>\n",
              "      <th>1</th>\n",
              "      <td>WJtFt</td>\n",
              "      <td>0.26</td>\n",
              "      <td>0.27</td>\n",
              "      <td>-2.53</td>\n",
              "      <td>56.07</td>\n",
              "    </tr>\n",
              "    <tr>\n",
              "      <th>2</th>\n",
              "      <td>ovLUW</td>\n",
              "      <td>0.19</td>\n",
              "      <td>0.29</td>\n",
              "      <td>-5.59</td>\n",
              "      <td>62.87</td>\n",
              "    </tr>\n",
              "    <tr>\n",
              "      <th>3</th>\n",
              "      <td>q6cA6</td>\n",
              "      <td>2.24</td>\n",
              "      <td>-0.55</td>\n",
              "      <td>0.93</td>\n",
              "      <td>114.57</td>\n",
              "    </tr>\n",
              "    <tr>\n",
              "      <th>4</th>\n",
              "      <td>WPMUX</td>\n",
              "      <td>-0.52</td>\n",
              "      <td>1.72</td>\n",
              "      <td>5.90</td>\n",
              "      <td>149.60</td>\n",
              "    </tr>\n",
              "  </tbody>\n",
              "</table>\n",
              "</div>"
            ],
            "text/plain": [
              "      id    f0    f1    f2  product\n",
              "0  fwXo0 -1.15  0.96 -0.83    27.76\n",
              "1  WJtFt  0.26  0.27 -2.53    56.07\n",
              "2  ovLUW  0.19  0.29 -5.59    62.87\n",
              "3  q6cA6  2.24 -0.55  0.93   114.57\n",
              "4  WPMUX -0.52  1.72  5.90   149.60"
            ]
          },
          "metadata": {},
          "output_type": "display_data"
        }
      ],
      "source": [
        "geo_data_2.info()\n",
        "display (geo_data_2.head())"
      ]
    },
    {
      "cell_type": "markdown",
      "metadata": {
        "id": "N2a2RwNo1L4m"
      },
      "source": [
        "Пропусков в данных не обнаружено."
      ]
    },
    {
      "cell_type": "code",
      "execution_count": null,
      "metadata": {
        "id": "OdzSjIbI1L4m",
        "outputId": "ce0b6a76-2776-40f7-991d-b3592ae9fab4"
      },
      "outputs": [
        {
          "data": {
            "text/plain": [
              "0"
            ]
          },
          "metadata": {},
          "output_type": "display_data"
        },
        {
          "data": {
            "text/plain": [
              "0"
            ]
          },
          "metadata": {},
          "output_type": "display_data"
        },
        {
          "data": {
            "text/plain": [
              "0"
            ]
          },
          "metadata": {},
          "output_type": "display_data"
        }
      ],
      "source": [
        "#Проверим наличие явных дубликатов во всех датасетах\n",
        "display (geo_data_0.duplicated().sum(), geo_data_1.duplicated().sum(), geo_data_2.duplicated().sum())"
      ]
    },
    {
      "cell_type": "markdown",
      "metadata": {
        "id": "y9_9n-1w1L4m"
      },
      "source": [
        "Явных дубликатов не обнаружено."
      ]
    },
    {
      "cell_type": "markdown",
      "metadata": {
        "id": "9H63epHj1L4m"
      },
      "source": [
        "### Проведем исследовательский анализ данных"
      ]
    },
    {
      "cell_type": "code",
      "execution_count": null,
      "metadata": {
        "id": "KKe_7erY1L4m",
        "outputId": "64033d8f-ed6d-49be-e8f6-a1722d8f3201"
      },
      "outputs": [
        {
          "data": {
            "image/png": "[encoded data removed]",
            "text/plain": [
              "<Figure size 1008x1008 with 4 Axes>"
            ]
          },
          "metadata": {
            "needs_background": "light"
          },
          "output_type": "display_data"
        }
      ],
      "source": [
        "#Первый датасет\n",
        "geo_data_0.hist(figsize=(14, 14), color = '#543964');"
      ]
    },
    {
      "cell_type": "code",
      "execution_count": null,
      "metadata": {
        "id": "Kc3ZVbUn1L4m",
        "outputId": "20027715-781c-47fd-c950-edf968317595"
      },
      "outputs": [
        {
          "data": {
            "image/png": "[encoded data removed]",
            "text/plain": [
              "<Figure size 432x288 with 1 Axes>"
            ]
          },
          "metadata": {
            "needs_background": "light"
          },
          "output_type": "display_data"
        }
      ],
      "source": [
        "# Построение KDE графика плотности распределения целевого признака\n",
        "sns.kdeplot(geo_data_0['product'], color='#fe5a1d', label='Объём запасов в скважине, тыс. баррелей', alpha=0.5)\n",
        "\n",
        "# Настройка графика\n",
        "plt.legend(loc='best')\n",
        "plt.title('Плотность распределения объёмов запасов нефти в скважинах', pad=20)\n",
        "plt.xlabel('Объём запасов в скважине, тыс. баррелей')\n",
        "plt.ylabel('Плотность распределения')\n",
        "plt.grid(True)\n",
        "plt.show();"
      ]
    },
    {
      "cell_type": "code",
      "execution_count": null,
      "metadata": {
        "id": "i_U7WuPQ1L4n",
        "outputId": "9f10646c-e893-4748-c294-a74bc75f494a"
      },
      "outputs": [
        {
          "data": {
            "image/png": "[encoded data removed]",
            "text/plain": [
              "<Figure size 432x288 with 1 Axes>"
            ]
          },
          "metadata": {
            "needs_background": "light"
          },
          "output_type": "display_data"
        },
        {
          "data": {
            "text/plain": [
              "count   100,000.00\n",
              "mean         92.50\n",
              "std          44.29\n",
              "min           0.00\n",
              "25%          56.50\n",
              "50%          91.85\n",
              "75%         128.56\n",
              "max         185.36\n",
              "Name: product, dtype: float64"
            ]
          },
          "execution_count": 9,
          "metadata": {},
          "output_type": "execute_result"
        }
      ],
      "source": [
        "#График размаха объёмов запасов нефти в скважине, чтобы выявить выбросы/аномалии\n",
        "(sns.boxplot(data = geo_data_0, y = 'product', palette=\"bright\")\n",
        "    .set(title = 'График размаха объёмов запасов нефти', ylabel = 'Распределение объёмов запасов нефти, тыс. баррелей'))\n",
        "plt.show();\n",
        "\n",
        "#Доп. инфо\n",
        "geo_data_0['product'].describe()"
      ]
    },
    {
      "cell_type": "markdown",
      "metadata": {
        "id": "FR47pldZ1L4n"
      },
      "source": [
        "**В первом регионе** среднее значение целевой переменной - 92.5 тыс. баррелей нефти, медианное - 91.85 , минимальное - 0, максимальное - 185.36. Выбросов и аномалей не найдено."
      ]
    },
    {
      "cell_type": "code",
      "execution_count": null,
      "metadata": {
        "id": "25Ar-C_H1L4n",
        "outputId": "04f596c4-5c7a-4c2c-a8d3-e3707577ae44"
      },
      "outputs": [
        {
          "data": {
            "image/png": "[encoded data removed]",
            "text/plain": [
              "<Figure size 432x288 with 1 Axes>"
            ]
          },
          "metadata": {
            "needs_background": "light"
          },
          "output_type": "display_data"
        }
      ],
      "source": [
        "# Построение KDE графика плотности распределения признака f0\n",
        "sns.kdeplot(geo_data_0['f0'], color='#fe5a1d', label='f0', alpha=0.5)\n",
        "\n",
        "# Настройка графика\n",
        "plt.legend(loc='best')\n",
        "plt.title('Плотность распределения f0', pad=20)\n",
        "plt.xlabel('f0')\n",
        "plt.ylabel('Плотность распределения')\n",
        "plt.grid(True)\n",
        "plt.show();"
      ]
    },
    {
      "cell_type": "code",
      "execution_count": null,
      "metadata": {
        "id": "nhnKR4yd1L4n",
        "outputId": "325154a5-203e-4d3f-d6f0-7421b6f7af46"
      },
      "outputs": [
        {
          "data": {
            "image/png": "[encoded data removed]",
            "text/plain": [
              "<Figure size 432x288 with 1 Axes>"
            ]
          },
          "metadata": {
            "needs_background": "light"
          },
          "output_type": "display_data"
        },
        {
          "data": {
            "text/plain": [
              "count   100,000.00\n",
              "mean          0.50\n",
              "std           0.87\n",
              "min          -1.41\n",
              "25%          -0.07\n",
              "50%           0.50\n",
              "75%           1.07\n",
              "max           2.36\n",
              "Name: f0, dtype: float64"
            ]
          },
          "execution_count": 11,
          "metadata": {},
          "output_type": "execute_result"
        }
      ],
      "source": [
        "#График размаха признака f0, чтобы выявить выбросы/аномалии\n",
        "(sns.boxplot(data = geo_data_0, y = 'f0', palette=\"bright\")\n",
        "    .set(title = 'График размаха признака f0', ylabel = 'Распределение  признака f0'))\n",
        "plt.show();\n",
        "\n",
        "#Доп. инфо\n",
        "geo_data_0['f0'].describe()"
      ]
    },
    {
      "cell_type": "markdown",
      "metadata": {
        "id": "pHTA3wbJ1L4n"
      },
      "source": [
        "**В первом регионе** среднее значение признака **f0** - 0.5, медианное - 0.5 , минимальное - -1.41, максимальное - 2.36. Выбросов и аномалей не найдено."
      ]
    },
    {
      "cell_type": "code",
      "execution_count": null,
      "metadata": {
        "id": "iPXpEiNs1L4n",
        "outputId": "18c2e094-ef90-4df3-edd9-9163133a43d3"
      },
      "outputs": [
        {
          "data": {
            "image/png": "[encoded data removed]",
            "text/plain": [
              "<Figure size 432x288 with 1 Axes>"
            ]
          },
          "metadata": {
            "needs_background": "light"
          },
          "output_type": "display_data"
        }
      ],
      "source": [
        "# Построение KDE графика плотности распределения признака f1\n",
        "sns.kdeplot(geo_data_0['f1'], color='#fe5a1d', label='f1', alpha=0.5)\n",
        "\n",
        "# Настройка графика\n",
        "plt.legend(loc='best')\n",
        "plt.title('Плотность распределения f1', pad=20)\n",
        "plt.xlabel('f1')\n",
        "plt.ylabel('Плотность распределения')\n",
        "plt.grid(True)\n",
        "plt.show();"
      ]
    },
    {
      "cell_type": "code",
      "execution_count": null,
      "metadata": {
        "id": "jrmiEsPk1L4o",
        "outputId": "80fb6e6e-1da6-4807-fcb8-2c897f523095"
      },
      "outputs": [
        {
          "data": {
            "image/png": "[encoded data removed]",
            "text/plain": [
              "<Figure size 432x288 with 1 Axes>"
            ]
          },
          "metadata": {
            "needs_background": "light"
          },
          "output_type": "display_data"
        },
        {
          "data": {
            "text/plain": [
              "count   100,000.00\n",
              "mean          0.25\n",
              "std           0.50\n",
              "min          -0.85\n",
              "25%          -0.20\n",
              "50%           0.25\n",
              "75%           0.70\n",
              "max           1.34\n",
              "Name: f1, dtype: float64"
            ]
          },
          "execution_count": 13,
          "metadata": {},
          "output_type": "execute_result"
        }
      ],
      "source": [
        "#График размаха признака f1, чтобы выявить выбросы/аномалии\n",
        "(sns.boxplot(data = geo_data_0, y = 'f1', palette=\"bright\")\n",
        "    .set(title = 'График размаха признака f1', ylabel = 'Распределение  признака f1'))\n",
        "plt.show();\n",
        "\n",
        "#Доп. инфо\n",
        "geo_data_0['f1'].describe()"
      ]
    },
    {
      "cell_type": "markdown",
      "metadata": {
        "id": "Dej_NoSv1L4o"
      },
      "source": [
        "**В первом регионе** среднее значение признака **f1** - 0.25, медианное - 0.25 , минимальное - -0.85, максимальное - 1.34. Выбросов и аномалей не найдено."
      ]
    },
    {
      "cell_type": "code",
      "execution_count": null,
      "metadata": {
        "id": "QKZ0bkgZ1L4o",
        "outputId": "2eb713a1-f20c-4d38-8fd0-44e9df233087"
      },
      "outputs": [
        {
          "data": {
            "image/png": "[encoded data removed]",
            "text/plain": [
              "<Figure size 432x288 with 1 Axes>"
            ]
          },
          "metadata": {
            "needs_background": "light"
          },
          "output_type": "display_data"
        }
      ],
      "source": [
        "# Построение KDE графика плотности распределения признака f2\n",
        "sns.kdeplot(geo_data_0['f2'], color='#fe5a1d', label='f1', alpha=0.5)\n",
        "\n",
        "# Настройка графика\n",
        "plt.legend(loc='best')\n",
        "plt.title('Плотность распределения f2', pad=20)\n",
        "plt.xlabel('f2')\n",
        "plt.ylabel('Плотность распределения')\n",
        "plt.grid(True)\n",
        "plt.show();"
      ]
    },
    {
      "cell_type": "code",
      "execution_count": null,
      "metadata": {
        "id": "GEnC0br31L4o",
        "outputId": "a349ae93-0eda-4be7-85e3-27b94bcea6cf"
      },
      "outputs": [
        {
          "data": {
            "image/png": "[encoded data removed]",
            "text/plain": [
              "<Figure size 432x288 with 1 Axes>"
            ]
          },
          "metadata": {
            "needs_background": "light"
          },
          "output_type": "display_data"
        },
        {
          "data": {
            "text/plain": [
              "count   100,000.00\n",
              "mean          2.50\n",
              "std           3.25\n",
              "min         -12.09\n",
              "25%           0.29\n",
              "50%           2.52\n",
              "75%           4.72\n",
              "max          16.00\n",
              "Name: f2, dtype: float64"
            ]
          },
          "execution_count": 15,
          "metadata": {},
          "output_type": "execute_result"
        }
      ],
      "source": [
        "#График размаха признака f2, чтобы выявить выбросы/аномалии\n",
        "(sns.boxplot(data = geo_data_0, y = 'f2', palette=\"bright\")\n",
        "    .set(title = 'График размаха признака f2', ylabel = 'Распределение  признака f2'))\n",
        "plt.show();\n",
        "\n",
        "#Доп. инфо\n",
        "geo_data_0['f2'].describe()"
      ]
    },
    {
      "cell_type": "markdown",
      "metadata": {
        "id": "3-64J4jn1L4o"
      },
      "source": [
        "**В первом регионе** среднее значение признака **f2** - 2.5, медианное - 2.52 , минимальное - -12.09, максимальное - 16. Обнаружены выбросы в признаке f2."
      ]
    },
    {
      "cell_type": "markdown",
      "metadata": {
        "id": "5KHZwL4R1L4o"
      },
      "source": []
    },
    {
      "cell_type": "code",
      "execution_count": null,
      "metadata": {
        "id": "XMcann1T1L4s",
        "outputId": "23f5e132-4344-444d-8b8d-7fbe16ed1bc1"
      },
      "outputs": [
        {
          "data": {
            "image/png": "[encoded data removed]",
            "text/plain": [
              "<Figure size 1008x1008 with 4 Axes>"
            ]
          },
          "metadata": {
            "needs_background": "light"
          },
          "output_type": "display_data"
        }
      ],
      "source": [
        "geo_data_1.hist(figsize=(14, 14), color = '#543964');"
      ]
    },
    {
      "cell_type": "code",
      "execution_count": null,
      "metadata": {
        "id": "5kwKf1tV1L4s",
        "outputId": "551127ce-9fe1-4d07-a8a0-03cfeb5adbbb"
      },
      "outputs": [
        {
          "data": {
            "image/png": "[encoded data removed]",
            "text/plain": [
              "<Figure size 432x288 with 1 Axes>"
            ]
          },
          "metadata": {
            "needs_background": "light"
          },
          "output_type": "display_data"
        }
      ],
      "source": [
        "# Построение KDE графика плотности распределения целевого признака\n",
        "sns.kdeplot(geo_data_1['product'], color='#fe5a1d', label='Объём запасов в скважине, тыс. баррелей', alpha=0.5)\n",
        "\n",
        "# Настройка графика\n",
        "plt.legend(loc='best')\n",
        "plt.title('Плотность распределения объёмов запасов нефти в скважинах', pad=20)\n",
        "plt.xlabel('Объём запасов в скважине, тыс. баррелей')\n",
        "plt.ylabel('Плотность распределения')\n",
        "plt.grid(True)\n",
        "plt.show();"
      ]
    },
    {
      "cell_type": "code",
      "execution_count": null,
      "metadata": {
        "id": "oRUtJysf1L4s",
        "outputId": "d98ccdb9-2688-4a72-d364-b990bd2b8bb4"
      },
      "outputs": [
        {
          "data": {
            "image/png": "[encoded data removed]",
            "text/plain": [
              "<Figure size 432x288 with 1 Axes>"
            ]
          },
          "metadata": {
            "needs_background": "light"
          },
          "output_type": "display_data"
        },
        {
          "data": {
            "text/plain": [
              "count   100,000.00\n",
              "mean         68.83\n",
              "std          45.94\n",
              "min           0.00\n",
              "25%          26.95\n",
              "50%          57.09\n",
              "75%         107.81\n",
              "max         137.95\n",
              "Name: product, dtype: float64"
            ]
          },
          "execution_count": 18,
          "metadata": {},
          "output_type": "execute_result"
        }
      ],
      "source": [
        "#График размаха объёмов запасов нефти в скважине, чтобы выявить выбросы/аномалии\n",
        "(sns.boxplot(data = geo_data_1, y = 'product', palette=\"bright\")\n",
        "    .set(title = 'График размаха объёмов запасов нефти', ylabel = 'Распределение объёмов запасов нефти, тыс. баррелей'))\n",
        "plt.show();\n",
        "\n",
        "#Доп. инфо\n",
        "geo_data_1['product'].describe()"
      ]
    },
    {
      "cell_type": "markdown",
      "metadata": {
        "id": "uv7NEO3h1L4s"
      },
      "source": [
        "**Во втором регионе** среднее значение целевой переменной - 68.83 тыс. баррелей нефти, медианное - 57.09 , минимальное - 0, максимальное - 137.95. Выбросов и аномалей не найдено."
      ]
    },
    {
      "cell_type": "code",
      "execution_count": null,
      "metadata": {
        "id": "7vWCCjxH1L4s",
        "outputId": "bce54497-d212-4d78-cc91-ae2d75a208e1"
      },
      "outputs": [
        {
          "data": {
            "image/png": "[encoded data removed]",
            "text/plain": [
              "<Figure size 432x288 with 1 Axes>"
            ]
          },
          "metadata": {
            "needs_background": "light"
          },
          "output_type": "display_data"
        }
      ],
      "source": [
        "# Построение KDE графика плотности распределения признака f0\n",
        "sns.kdeplot(geo_data_1['f0'], color='#fe5a1d', label='f0', alpha=0.5)\n",
        "\n",
        "# Настройка графика\n",
        "plt.legend(loc='best')\n",
        "plt.title('Плотность распределения f0', pad=20)\n",
        "plt.xlabel('f0')\n",
        "plt.ylabel('Плотность распределения')\n",
        "plt.grid(True)\n",
        "plt.show();"
      ]
    },
    {
      "cell_type": "code",
      "execution_count": null,
      "metadata": {
        "id": "Vmt6Ul681L4t",
        "outputId": "313208cf-bf92-446f-8be6-ac89bd76066e"
      },
      "outputs": [
        {
          "data": {
            "image/png": "[encoded data removed]",
            "text/plain": [
              "<Figure size 432x288 with 1 Axes>"
            ]
          },
          "metadata": {
            "needs_background": "light"
          },
          "output_type": "display_data"
        },
        {
          "data": {
            "text/plain": [
              "count   100,000.00\n",
              "mean          1.14\n",
              "std           8.97\n",
              "min         -31.61\n",
              "25%          -6.30\n",
              "50%           1.15\n",
              "75%           8.62\n",
              "max          29.42\n",
              "Name: f0, dtype: float64"
            ]
          },
          "execution_count": 20,
          "metadata": {},
          "output_type": "execute_result"
        }
      ],
      "source": [
        "#График размаха признака f0, чтобы выявить выбросы/аномалии\n",
        "(sns.boxplot(data = geo_data_1, y = 'f0', palette=\"bright\")\n",
        "    .set(title = 'График размаха признака f0', ylabel = 'Распределение  признака f0'))\n",
        "plt.show();\n",
        "\n",
        "#Доп. инфо\n",
        "geo_data_1['f0'].describe()"
      ]
    },
    {
      "cell_type": "markdown",
      "metadata": {
        "id": "obJBcmRO1L4t"
      },
      "source": [
        "**Во втором регионе** среднее значение признака **f0** - 1.14, медианное - 1.15 , минимальное - -31.61, максимальное - 29.42. Выброс- минимальное значение."
      ]
    },
    {
      "cell_type": "code",
      "execution_count": null,
      "metadata": {
        "id": "_H7ToYj01L4t",
        "outputId": "a132a729-53fd-4b10-dd53-6a860721138b"
      },
      "outputs": [
        {
          "data": {
            "image/png": "[encoded data removed]",
            "text/plain": [
              "<Figure size 432x288 with 1 Axes>"
            ]
          },
          "metadata": {
            "needs_background": "light"
          },
          "output_type": "display_data"
        }
      ],
      "source": [
        "# Построение KDE графика плотности распределения признака f1\n",
        "sns.kdeplot(geo_data_1['f1'], color='#fe5a1d', label='f1', alpha=0.5)\n",
        "\n",
        "# Настройка графика\n",
        "plt.legend(loc='best')\n",
        "plt.title('Плотность распределения f1', pad=20)\n",
        "plt.xlabel('f1')\n",
        "plt.ylabel('Плотность распределения')\n",
        "plt.grid(True)\n",
        "plt.show();"
      ]
    },
    {
      "cell_type": "code",
      "execution_count": null,
      "metadata": {
        "id": "IDWEmWHo1L4t",
        "outputId": "9f4e5987-eb87-4ac7-c379-dd7ca52d5ef7"
      },
      "outputs": [
        {
          "data": {
            "image/png": "[encoded data removed]",
            "text/plain": [
              "<Figure size 432x288 with 1 Axes>"
            ]
          },
          "metadata": {
            "needs_background": "light"
          },
          "output_type": "display_data"
        },
        {
          "data": {
            "text/plain": [
              "count   100,000.00\n",
              "mean         -4.80\n",
              "std           5.12\n",
              "min         -26.36\n",
              "25%          -8.27\n",
              "50%          -4.81\n",
              "75%          -1.33\n",
              "max          18.73\n",
              "Name: f1, dtype: float64"
            ]
          },
          "execution_count": 22,
          "metadata": {},
          "output_type": "execute_result"
        }
      ],
      "source": [
        "#График размаха признака f1, чтобы выявить выбросы/аномалии\n",
        "(sns.boxplot(data = geo_data_1, y = 'f1', palette=\"bright\")\n",
        "    .set(title = 'График размаха признака f1', ylabel = 'Распределение  признака f1'))\n",
        "plt.show();\n",
        "\n",
        "#Доп. инфо\n",
        "geo_data_1['f1'].describe()"
      ]
    },
    {
      "cell_type": "markdown",
      "metadata": {
        "id": "9KgJ3IBo1L4t"
      },
      "source": [
        "**Во втором регионе** среднее значение признака **f1** - -4.8, медианное - -4.81 , минимальное - -26.36, максимальное - 18.73. Выбросы обнаружены.\n"
      ]
    },
    {
      "cell_type": "code",
      "execution_count": null,
      "metadata": {
        "id": "oaBwVPiV1L4t",
        "outputId": "6eea9d61-d2e2-4f45-fcf4-3db15fcae01b"
      },
      "outputs": [
        {
          "data": {
            "image/png": "[encoded data removed]",
            "text/plain": [
              "<Figure size 432x288 with 1 Axes>"
            ]
          },
          "metadata": {
            "needs_background": "light"
          },
          "output_type": "display_data"
        }
      ],
      "source": [
        "# Построение KDE графика плотности распределения признака f2\n",
        "sns.kdeplot(geo_data_1['f2'], color='#fe5a1d', label='f1', alpha=0.5)\n",
        "\n",
        "# Настройка графика\n",
        "plt.legend(loc='best')\n",
        "plt.title('Плотность распределения f2', pad=20)\n",
        "plt.xlabel('f2')\n",
        "plt.ylabel('Плотность распределения')\n",
        "plt.grid(True)\n",
        "plt.show();"
      ]
    },
    {
      "cell_type": "code",
      "execution_count": null,
      "metadata": {
        "id": "kcYvqly61L4u",
        "outputId": "7a5cd5dc-c676-4b46-b2ea-c0e1f64c11cd"
      },
      "outputs": [
        {
          "data": {
            "image/png": "[encoded data removed]",
            "text/plain": [
              "<Figure size 432x288 with 1 Axes>"
            ]
          },
          "metadata": {
            "needs_background": "light"
          },
          "output_type": "display_data"
        },
        {
          "data": {
            "text/plain": [
              "count   100,000.00\n",
              "mean          2.49\n",
              "std           1.70\n",
              "min          -0.02\n",
              "25%           1.00\n",
              "50%           2.01\n",
              "75%           4.00\n",
              "max           5.02\n",
              "Name: f2, dtype: float64"
            ]
          },
          "execution_count": 24,
          "metadata": {},
          "output_type": "execute_result"
        }
      ],
      "source": [
        "#График размаха признака f2, чтобы выявить выбросы/аномалии\n",
        "(sns.boxplot(data = geo_data_1, y = 'f2', palette=\"bright\")\n",
        "    .set(title = 'График размаха признака f2', ylabel = 'Распределение  признака f2'))\n",
        "plt.show();\n",
        "\n",
        "#Доп. инфо\n",
        "geo_data_1['f2'].describe()\n"
      ]
    },
    {
      "cell_type": "markdown",
      "metadata": {
        "id": "y--JUGxf1L4u"
      },
      "source": [
        "**Во втором регионе** среднее значение признака **f2** - 2.49, медианное - 2.01 , минимальное - -0.02, максимальное - 5.02. Выбросов и аномалей не найдено."
      ]
    },
    {
      "cell_type": "code",
      "execution_count": null,
      "metadata": {
        "id": "PnBpaji61L4u",
        "outputId": "85a804d4-a3f7-44cf-a258-0e0f1e2eb67e"
      },
      "outputs": [
        {
          "data": {
            "image/png": "[encoded data removed]",
            "text/plain": [
              "<Figure size 1008x1008 with 4 Axes>"
            ]
          },
          "metadata": {
            "needs_background": "light"
          },
          "output_type": "display_data"
        }
      ],
      "source": [
        "geo_data_2.hist(figsize=(14, 14), color = '#543964');"
      ]
    },
    {
      "cell_type": "code",
      "execution_count": null,
      "metadata": {
        "id": "lpN0-6l41L4u",
        "outputId": "4f1888fa-01a1-40f0-a75f-ffb5970d647e"
      },
      "outputs": [
        {
          "data": {
            "image/png": "[encoded data removed]",
            "text/plain": [
              "<Figure size 432x288 with 1 Axes>"
            ]
          },
          "metadata": {
            "needs_background": "light"
          },
          "output_type": "display_data"
        }
      ],
      "source": [
        "# Построение KDE графика плотности распределения целевого признака\n",
        "sns.kdeplot(geo_data_2['product'], color='#fe5a1d', label='Объём запасов в скважине, тыс. баррелей', alpha=0.5)\n",
        "\n",
        "# Настройка графика\n",
        "plt.legend(loc='best')\n",
        "plt.title('Плотность распределения объёмов запасов нефти в скважинах', pad=20)\n",
        "plt.xlabel('Объём запасов в скважине, тыс. баррелей')\n",
        "plt.ylabel('Плотность распределения')\n",
        "plt.grid(True)\n",
        "plt.show();"
      ]
    },
    {
      "cell_type": "code",
      "execution_count": null,
      "metadata": {
        "id": "SDtfZ38K1L4u",
        "outputId": "d15d90e7-8598-4a31-bdf1-3da7b96d208d"
      },
      "outputs": [
        {
          "data": {
            "image/png": "[encoded data removed]",
            "text/plain": [
              "<Figure size 432x288 with 1 Axes>"
            ]
          },
          "metadata": {
            "needs_background": "light"
          },
          "output_type": "display_data"
        },
        {
          "data": {
            "text/plain": [
              "count   100,000.00\n",
              "mean         95.00\n",
              "std          44.75\n",
              "min           0.00\n",
              "25%          59.45\n",
              "50%          94.93\n",
              "75%         130.60\n",
              "max         190.03\n",
              "Name: product, dtype: float64"
            ]
          },
          "execution_count": 27,
          "metadata": {},
          "output_type": "execute_result"
        }
      ],
      "source": [
        "#График размаха объёмов запасов нефти в скважине, чтобы выявить выбросы/аномалии\n",
        "(sns.boxplot(data = geo_data_2, y = 'product', palette=\"bright\")\n",
        "    .set(title = 'График размаха объёмов запасов нефти', ylabel = 'Распределение объёмов запасов нефти, тыс. баррелей'))\n",
        "plt.show();\n",
        "\n",
        "#Доп. инфо\n",
        "geo_data_2['product'].describe()"
      ]
    },
    {
      "cell_type": "markdown",
      "metadata": {
        "id": "ULpLNfk71L4v"
      },
      "source": [
        "**В третьем регионе** среднее значение целевой переменной - 95 тыс. баррелей нефти, медианное - 94.93 , минимальное - 0, максимальное - 190.03. Выбросов и аномалей не найдено."
      ]
    },
    {
      "cell_type": "code",
      "execution_count": null,
      "metadata": {
        "id": "oHPyB-eY1L4v",
        "outputId": "e0093d42-aaa9-49fd-d2b7-ba7a50632154"
      },
      "outputs": [
        {
          "data": {
            "image/png": "[encoded data removed]",
            "text/plain": [
              "<Figure size 432x288 with 1 Axes>"
            ]
          },
          "metadata": {
            "needs_background": "light"
          },
          "output_type": "display_data"
        }
      ],
      "source": [
        "# Построение KDE графика плотности распределения признака f0\n",
        "sns.kdeplot(geo_data_2['f0'], color='#fe5a1d', label='f0', alpha=0.5)\n",
        "\n",
        "# Настройка графика\n",
        "plt.legend(loc='best')\n",
        "plt.title('Плотность распределения f0', pad=20)\n",
        "plt.xlabel('f0')\n",
        "plt.ylabel('Плотность распределения')\n",
        "plt.grid(True)\n",
        "plt.show();"
      ]
    },
    {
      "cell_type": "code",
      "execution_count": null,
      "metadata": {
        "id": "4BAVnHLD1L4v",
        "outputId": "e3fa8e11-51b2-4db1-c4d2-22075b3ffda8"
      },
      "outputs": [
        {
          "data": {
            "image/png": "[encoded data removed]",
            "text/plain": [
              "<Figure size 432x288 with 1 Axes>"
            ]
          },
          "metadata": {
            "needs_background": "light"
          },
          "output_type": "display_data"
        },
        {
          "data": {
            "text/plain": [
              "count   100,000.00\n",
              "mean          0.00\n",
              "std           1.73\n",
              "min          -8.76\n",
              "25%          -1.16\n",
              "50%           0.01\n",
              "75%           1.16\n",
              "max           7.24\n",
              "Name: f0, dtype: float64"
            ]
          },
          "execution_count": 29,
          "metadata": {},
          "output_type": "execute_result"
        }
      ],
      "source": [
        "#График размаха признака f0, чтобы выявить выбросы/аномалии\n",
        "(sns.boxplot(data = geo_data_2, y = 'f0', palette=\"bright\")\n",
        "    .set(title = 'График размаха признака f0', ylabel = 'Распределение  признака f0'))\n",
        "plt.show();\n",
        "\n",
        "#Доп. инфо\n",
        "geo_data_2['f0'].describe()"
      ]
    },
    {
      "cell_type": "markdown",
      "metadata": {
        "id": "0ewC29eM1L4v"
      },
      "source": [
        "**В третьем регионе** среднее значение признака **f0** - 0, медианное - 0.01 , минимальное - -8.76, максимальное - 7.24. Выбросы найдены."
      ]
    },
    {
      "cell_type": "code",
      "execution_count": null,
      "metadata": {
        "id": "yb_uzLgr1L4v",
        "outputId": "f785655b-af04-4f68-e31f-a2cc7441b14e"
      },
      "outputs": [
        {
          "data": {
            "image/png": "[encoded data removed]",
            "text/plain": [
              "<Figure size 432x288 with 1 Axes>"
            ]
          },
          "metadata": {
            "needs_background": "light"
          },
          "output_type": "display_data"
        }
      ],
      "source": [
        "# Построение KDE графика плотности распределения признака f1\n",
        "sns.kdeplot(geo_data_2['f1'], color='#fe5a1d', label='f1', alpha=0.5)\n",
        "\n",
        "# Настройка графика\n",
        "plt.legend(loc='best')\n",
        "plt.title('Плотность распределения f1', pad=20)\n",
        "plt.xlabel('f1')\n",
        "plt.ylabel('Плотность распределения')\n",
        "plt.grid(True)\n",
        "plt.show();"
      ]
    },
    {
      "cell_type": "code",
      "execution_count": null,
      "metadata": {
        "id": "PMAA7Pxd1L4w",
        "outputId": "5c2e3125-1786-4fb7-b6ac-e722b316c228"
      },
      "outputs": [
        {
          "data": {
            "image/png": "[encoded data removed]",
            "text/plain": [
              "<Figure size 432x288 with 1 Axes>"
            ]
          },
          "metadata": {
            "needs_background": "light"
          },
          "output_type": "display_data"
        },
        {
          "data": {
            "text/plain": [
              "count   100,000.00\n",
              "mean         -0.00\n",
              "std           1.73\n",
              "min          -7.08\n",
              "25%          -1.17\n",
              "50%          -0.01\n",
              "75%           1.16\n",
              "max           7.84\n",
              "Name: f1, dtype: float64"
            ]
          },
          "execution_count": 31,
          "metadata": {},
          "output_type": "execute_result"
        }
      ],
      "source": [
        "#График размаха признака f1, чтобы выявить выбросы/аномалии\n",
        "(sns.boxplot(data = geo_data_2, y = 'f1', palette=\"bright\")\n",
        "    .set(title = 'График размаха признака f1', ylabel = 'Распределение  признака f1'))\n",
        "plt.show();\n",
        "\n",
        "#Доп. инфо\n",
        "geo_data_2['f1'].describe()"
      ]
    },
    {
      "cell_type": "markdown",
      "metadata": {
        "id": "XVZFuU_V1L4w"
      },
      "source": [
        "**В третьем регионе** среднее значение признака **f1** - 0, медианное - -0.01 , минимальное - -7.08, максимальное - 7.84. Выбросы найдены."
      ]
    },
    {
      "cell_type": "code",
      "execution_count": null,
      "metadata": {
        "id": "FtcKjNNK1L4w",
        "outputId": "ccf725a9-0b3d-4e6c-f7ca-4f25e399e859"
      },
      "outputs": [
        {
          "data": {
            "image/png": "[encoded data removed]",
            "text/plain": [
              "<Figure size 432x288 with 1 Axes>"
            ]
          },
          "metadata": {
            "needs_background": "light"
          },
          "output_type": "display_data"
        }
      ],
      "source": [
        "# Построение KDE графика плотности распределения признака f2\n",
        "sns.kdeplot(geo_data_2['f2'], color='#fe5a1d', label='f1', alpha=0.5)\n",
        "\n",
        "# Настройка графика\n",
        "plt.legend(loc='best')\n",
        "plt.title('Плотность распределения f2', pad=20)\n",
        "plt.xlabel('f2')\n",
        "plt.ylabel('Плотность распределения')\n",
        "plt.grid(True)\n",
        "plt.show();"
      ]
    },
    {
      "cell_type": "code",
      "execution_count": null,
      "metadata": {
        "id": "-WmK2jMx1L4w",
        "outputId": "71607f00-afd9-4a7b-8406-35a90edc44cd"
      },
      "outputs": [
        {
          "data": {
            "image/png": "[encoded data removed]",
            "text/plain": [
              "<Figure size 432x288 with 1 Axes>"
            ]
          },
          "metadata": {
            "needs_background": "light"
          },
          "output_type": "display_data"
        },
        {
          "data": {
            "text/plain": [
              "count   100,000.00\n",
              "mean          2.50\n",
              "std           3.47\n",
              "min         -11.97\n",
              "25%           0.13\n",
              "50%           2.48\n",
              "75%           4.86\n",
              "max          16.74\n",
              "Name: f2, dtype: float64"
            ]
          },
          "execution_count": 33,
          "metadata": {},
          "output_type": "execute_result"
        }
      ],
      "source": [
        "#График размаха признака f2, чтобы выявить выбросы/аномалии\n",
        "(sns.boxplot(data = geo_data_2, y = 'f2', palette=\"bright\")\n",
        "    .set(title = 'График размаха признака f2', ylabel = 'Распределение  признака f2'))\n",
        "plt.show();\n",
        "\n",
        "#Доп. инфо\n",
        "geo_data_2['f2'].describe()"
      ]
    },
    {
      "cell_type": "markdown",
      "metadata": {
        "id": "Lz1VznZT1L4w"
      },
      "source": [
        "**В третьем регионе** среднее значение признака **f2** - 2.5, медианное - -2.45 , минимальное - -11.97, максимальное - 16.74. Выбросы найдены."
      ]
    },
    {
      "cell_type": "markdown",
      "metadata": {
        "id": "xmqyVPtq1L4x"
      },
      "source": [
        "Проведем корреляционный анализ"
      ]
    },
    {
      "cell_type": "code",
      "execution_count": null,
      "metadata": {
        "id": "9JKH-Ia71L4x",
        "outputId": "9cac0ac9-9873-45fc-db90-6faa4098a13c"
      },
      "outputs": [
        {
          "name": "stdout",
          "output_type": "stream",
          "text": [
            "Name: phik\n",
            "Version: 0.12.4\n",
            "Summary: Phi_K correlation analyzer library\n",
            "Home-page: \n",
            "Author: \n",
            "Author-email: KPMG N.V. The Netherlands <kave@kpmg.com>\n",
            "License: \n",
            "Location: /opt/conda/lib/python3.9/site-packages\n",
            "Requires: joblib, matplotlib, numpy, pandas, scipy\n",
            "Required-by: \n",
            "Note: you may need to restart the kernel to use updated packages.\n"
          ]
        }
      ],
      "source": [
        "pip show phik"
      ]
    },
    {
      "cell_type": "markdown",
      "metadata": {
        "id": "99pO_eaB1L4x"
      },
      "source": [
        "### Корреляционный анализ"
      ]
    },
    {
      "cell_type": "code",
      "execution_count": null,
      "metadata": {
        "id": "qcbHiIud1L4x",
        "outputId": "5a274ab8-7822-43d5-8d69-d4a4c8d71dc6"
      },
      "outputs": [
        {
          "name": "stdout",
          "output_type": "stream",
          "text": [
            "interval columns not set, guessing: ['product', 'f0', 'f1', 'f2']\n",
            "interval columns not set, guessing: ['product', 'f0', 'f1', 'f2']\n",
            "interval columns not set, guessing: ['product', 'f0', 'f1', 'f2']\n"
          ]
        },
        {
          "data": {
            "image/png": "[encoded data removed]",
            "text/plain": [
              "<Figure size 1440x432 with 4 Axes>"
            ]
          },
          "metadata": {
            "needs_background": "light"
          },
          "output_type": "display_data"
        }
      ],
      "source": [
        "#Удалим столбец с id из датасетов, чтобы провести корреляционный анализ\n",
        "geo_data_0_copy = geo_data_0.copy()\n",
        "geo_data_0_copy = geo_data_0_copy.drop(columns=['id'])\n",
        "\n",
        "geo_data_1_copy = geo_data_1.copy()\n",
        "geo_data_1_copy = geo_data_1_copy.drop(columns=['id'])\n",
        "\n",
        "geo_data_2_copy = geo_data_2.copy()\n",
        "geo_data_2_copy = geo_data_2_copy.drop(columns=['id'])\n",
        "\n",
        "# Список непрерывных признаков\n",
        "interval_columns = ['product', 'f0', 'f1', 'f2']\n",
        "\n",
        "# Создаем фигуру с 3 подграфиками\n",
        "fig, axes = plt.subplots(1, 3, figsize=(20, 6))\n",
        "\n",
        "# Список датасетов\n",
        "datasets = [geo_data_0_copy, geo_data_1_copy, geo_data_2_copy]\n",
        "titles = ['Geo Data 0', 'Geo Data 1', 'Geo Data 2']\n",
        "\n",
        "# Для каждого датасета строим heatmap\n",
        "for i, (data, title) in enumerate(zip(datasets, titles)):\n",
        "    # Вычисляем матрицу phik\n",
        "    matrix = data[interval_columns].phik_matrix()\n",
        "    # Строим тепловую карту\n",
        "    sns.heatmap(matrix,\n",
        "                annot=True,\n",
        "                fmt=\".2f\",\n",
        "                cmap=\"coolwarm\",\n",
        "                cbar=i==2,\n",
        "                linewidths=0.2,\n",
        "                linecolor=\"black\",\n",
        "                ax=axes[i])\n",
        "    # Настройки подграфика\n",
        "    axes[i].set_title(f'Матрица Phik: {title}')\n",
        "    axes[i].set_xticklabels(axes[i].get_xticklabels(), rotation=45, ha='right')\n",
        "    axes[i].set_yticklabels(axes[i].get_yticklabels(), rotation=0)\n",
        "\n",
        "fig.suptitle('Сравнение матриц корреляции Phik для трех регионов', y=1.05, fontsize=14)\n",
        "plt.tight_layout()\n",
        "plt.show();"
      ]
    },
    {
      "cell_type": "markdown",
      "metadata": {
        "id": "wt7w1VR71L4y"
      },
      "source": [
        "**Из корреляционного анализа можно сделать следующие выводы**:\n",
        "- В первом регионе обнаружена сильная положительная взаимосвязь между признаками f1 и f0, а также между целевым признаком и f2  \n",
        "- Во втором регионе обнаружена сильная положительная взаимосвязь между целевым признаком и f2, а также целевым и f0  \n",
        "- Во третьем регионе обнаружена положительная взаимосвязь между целевым признаком и f2  "
      ]
    },
    {
      "cell_type": "markdown",
      "metadata": {
        "id": "3Af7gMzz1L4y"
      },
      "source": [
        "**Выводы:**\n",
        "\n",
        "В ходе первого этапа работы над проектом данные о нефтяных месторождениях по трем регонам были загружены данные в три датасета.\n",
        "   \n",
        "Названия характеристик месторождений соответствуют стилю, принятому в Python.  \n",
        "Дубликаты ни в одном из датасетах не обнаружены. Пропусков также не найдено.  \n",
        "Типы данных соответствуют данным в датасетах.  Категориальных данных в датасетах нет.\n",
        "\n",
        "В ходе второго этапа проведен исследовательский и корреляционный анализ данных.   \n",
        "В данных нескольких датасетов были найдены выбросы.   По тепловой карте корреляционной матрице найдены сильные линейные зависимости между данными в датасетах.   "
      ]
    },
    {
      "cell_type": "markdown",
      "metadata": {
        "id": "_d32q65w1L4y"
      },
      "source": [
        "## Обучение и проверка модели"
      ]
    },
    {
      "cell_type": "markdown",
      "metadata": {
        "id": "hF1B12mJ1L4y"
      },
      "source": [
        "По условиям проекта для прогноза целевого признака будет использована модель машинного обучения на основе линейной регрессии."
      ]
    },
    {
      "cell_type": "code",
      "execution_count": null,
      "metadata": {
        "id": "dcTQo-R01L4z",
        "outputId": "f46f1d3d-dbc0-4e24-8972-d2c2ae6e43bf"
      },
      "outputs": [
        {
          "data": {
            "text/plain": [
              "'Регион № 1:'"
            ]
          },
          "metadata": {},
          "output_type": "display_data"
        },
        {
          "data": {
            "text/plain": [
              "'Средний запас предсказанного сырья: 92.4 тыс. баррелей'"
            ]
          },
          "metadata": {},
          "output_type": "display_data"
        },
        {
          "data": {
            "text/plain": [
              "'RMSE модели: 37.8'"
            ]
          },
          "metadata": {},
          "output_type": "display_data"
        },
        {
          "data": {
            "text/plain": [
              "'Пример данных:'"
            ]
          },
          "metadata": {},
          "output_type": "display_data"
        },
        {
          "data": {
            "text/html": [
              "<div>\n",
              "<style scoped>\n",
              "    .dataframe tbody tr th:only-of-type {\n",
              "        vertical-align: middle;\n",
              "    }\n",
              "\n",
              "    .dataframe tbody tr th {\n",
              "        vertical-align: top;\n",
              "    }\n",
              "\n",
              "    .dataframe thead th {\n",
              "        text-align: right;\n",
              "    }\n",
              "</style>\n",
              "<table border=\"1\" class=\"dataframe\">\n",
              "  <thead>\n",
              "    <tr style=\"text-align: right;\">\n",
              "      <th></th>\n",
              "      <th>product</th>\n",
              "      <th>predict</th>\n",
              "    </tr>\n",
              "  </thead>\n",
              "  <tbody>\n",
              "    <tr>\n",
              "      <th>0</th>\n",
              "      <td>122.07</td>\n",
              "      <td>101.90</td>\n",
              "    </tr>\n",
              "    <tr>\n",
              "      <th>1</th>\n",
              "      <td>48.74</td>\n",
              "      <td>78.22</td>\n",
              "    </tr>\n",
              "    <tr>\n",
              "      <th>2</th>\n",
              "      <td>131.34</td>\n",
              "      <td>115.27</td>\n",
              "    </tr>\n",
              "    <tr>\n",
              "      <th>3</th>\n",
              "      <td>88.33</td>\n",
              "      <td>105.62</td>\n",
              "    </tr>\n",
              "    <tr>\n",
              "      <th>4</th>\n",
              "      <td>36.96</td>\n",
              "      <td>97.98</td>\n",
              "    </tr>\n",
              "  </tbody>\n",
              "</table>\n",
              "</div>"
            ],
            "text/plain": [
              "   product  predict\n",
              "0   122.07   101.90\n",
              "1    48.74    78.22\n",
              "2   131.34   115.27\n",
              "3    88.33   105.62\n",
              "4    36.96    97.98"
            ]
          },
          "metadata": {},
          "output_type": "display_data"
        },
        {
          "data": {
            "text/plain": [
              "'Регион № 2:'"
            ]
          },
          "metadata": {},
          "output_type": "display_data"
        },
        {
          "data": {
            "text/plain": [
              "'Средний запас предсказанного сырья: 68.7 тыс. баррелей'"
            ]
          },
          "metadata": {},
          "output_type": "display_data"
        },
        {
          "data": {
            "text/plain": [
              "'RMSE модели: 0.9'"
            ]
          },
          "metadata": {},
          "output_type": "display_data"
        },
        {
          "data": {
            "text/plain": [
              "'Пример данных:'"
            ]
          },
          "metadata": {},
          "output_type": "display_data"
        },
        {
          "data": {
            "text/html": [
              "<div>\n",
              "<style scoped>\n",
              "    .dataframe tbody tr th:only-of-type {\n",
              "        vertical-align: middle;\n",
              "    }\n",
              "\n",
              "    .dataframe tbody tr th {\n",
              "        vertical-align: top;\n",
              "    }\n",
              "\n",
              "    .dataframe thead th {\n",
              "        text-align: right;\n",
              "    }\n",
              "</style>\n",
              "<table border=\"1\" class=\"dataframe\">\n",
              "  <thead>\n",
              "    <tr style=\"text-align: right;\">\n",
              "      <th></th>\n",
              "      <th>product</th>\n",
              "      <th>predict</th>\n",
              "    </tr>\n",
              "  </thead>\n",
              "  <tbody>\n",
              "    <tr>\n",
              "      <th>0</th>\n",
              "      <td>0.00</td>\n",
              "      <td>0.84</td>\n",
              "    </tr>\n",
              "    <tr>\n",
              "      <th>1</th>\n",
              "      <td>53.91</td>\n",
              "      <td>52.92</td>\n",
              "    </tr>\n",
              "    <tr>\n",
              "      <th>2</th>\n",
              "      <td>134.77</td>\n",
              "      <td>135.11</td>\n",
              "    </tr>\n",
              "    <tr>\n",
              "      <th>3</th>\n",
              "      <td>107.81</td>\n",
              "      <td>109.49</td>\n",
              "    </tr>\n",
              "    <tr>\n",
              "      <th>4</th>\n",
              "      <td>0.00</td>\n",
              "      <td>-0.05</td>\n",
              "    </tr>\n",
              "  </tbody>\n",
              "</table>\n",
              "</div>"
            ],
            "text/plain": [
              "   product  predict\n",
              "0     0.00     0.84\n",
              "1    53.91    52.92\n",
              "2   134.77   135.11\n",
              "3   107.81   109.49\n",
              "4     0.00    -0.05"
            ]
          },
          "metadata": {},
          "output_type": "display_data"
        },
        {
          "data": {
            "text/plain": [
              "'Регион № 3:'"
            ]
          },
          "metadata": {},
          "output_type": "display_data"
        },
        {
          "data": {
            "text/plain": [
              "'Средний запас предсказанного сырья: 94.8 тыс. баррелей'"
            ]
          },
          "metadata": {},
          "output_type": "display_data"
        },
        {
          "data": {
            "text/plain": [
              "'RMSE модели: 40.1'"
            ]
          },
          "metadata": {},
          "output_type": "display_data"
        },
        {
          "data": {
            "text/plain": [
              "'Пример данных:'"
            ]
          },
          "metadata": {},
          "output_type": "display_data"
        },
        {
          "data": {
            "text/html": [
              "<div>\n",
              "<style scoped>\n",
              "    .dataframe tbody tr th:only-of-type {\n",
              "        vertical-align: middle;\n",
              "    }\n",
              "\n",
              "    .dataframe tbody tr th {\n",
              "        vertical-align: top;\n",
              "    }\n",
              "\n",
              "    .dataframe thead th {\n",
              "        text-align: right;\n",
              "    }\n",
              "</style>\n",
              "<table border=\"1\" class=\"dataframe\">\n",
              "  <thead>\n",
              "    <tr style=\"text-align: right;\">\n",
              "      <th></th>\n",
              "      <th>product</th>\n",
              "      <th>predict</th>\n",
              "    </tr>\n",
              "  </thead>\n",
              "  <tbody>\n",
              "    <tr>\n",
              "      <th>0</th>\n",
              "      <td>117.44</td>\n",
              "      <td>98.30</td>\n",
              "    </tr>\n",
              "    <tr>\n",
              "      <th>1</th>\n",
              "      <td>47.84</td>\n",
              "      <td>101.59</td>\n",
              "    </tr>\n",
              "    <tr>\n",
              "      <th>2</th>\n",
              "      <td>45.88</td>\n",
              "      <td>52.45</td>\n",
              "    </tr>\n",
              "    <tr>\n",
              "      <th>3</th>\n",
              "      <td>139.01</td>\n",
              "      <td>109.92</td>\n",
              "    </tr>\n",
              "    <tr>\n",
              "      <th>4</th>\n",
              "      <td>84.00</td>\n",
              "      <td>72.41</td>\n",
              "    </tr>\n",
              "  </tbody>\n",
              "</table>\n",
              "</div>"
            ],
            "text/plain": [
              "   product  predict\n",
              "0   117.44    98.30\n",
              "1    47.84   101.59\n",
              "2    45.88    52.45\n",
              "3   139.01   109.92\n",
              "4    84.00    72.41"
            ]
          },
          "metadata": {},
          "output_type": "display_data"
        }
      ],
      "source": [
        "# Инициализируем списки для хранения результатов\n",
        "predictions_valid = []  # список предсказаний\n",
        "true_target = []        # список правильных ответов (тренировочные)\n",
        "targets_valid = []      # список правильных ответов (валидационные)\n",
        "predictions_mean = []   # список средних предсказаний\n",
        "result_datasets = []    # список для хранения результирующих датасетов\n",
        "\n",
        "def work_with_dataset(df, region_num):\n",
        "    # Разделяем входные признаки и целевую переменную\n",
        "    features = df.drop([\"product\"], axis=1)\n",
        "    target = df[\"product\"]\n",
        "\n",
        "    # Разделяем данные на тренировочные и валидационные\n",
        "    features_train, features_valid, target_train, target_valid = train_test_split(\n",
        "        features, target, test_size=0.25, random_state = RANDOM_STATE)\n",
        "\n",
        "    # Создаём и обучаем модель\n",
        "    model = LinearRegression()\n",
        "    model.fit(features_train, target_train)\n",
        "\n",
        "    # Делаем предсказания\n",
        "    predictions = model.predict(features_valid)\n",
        "\n",
        "    # Сохраняем результаты\n",
        "    predictions_valid.append(predictions)\n",
        "    true_target.append(target_train.reset_index(drop=True))\n",
        "    targets_valid.append(target_valid.reset_index(drop=True))\n",
        "    predictions_mean.append(round(predictions.mean(), 0))\n",
        "\n",
        "    # Создаем датафрейм с реальными и предсказанными значениями\n",
        "    result_df = pd.DataFrame({\n",
        "        'product': target_valid.values,\n",
        "        'predict': predictions\n",
        "    })\n",
        "    result_datasets.append(result_df)\n",
        "\n",
        "    # Выводим метрику\n",
        "    display(f\"Регион № {region_num}:\")\n",
        "    display(\"Средний запас предсказанного сырья: {0:.1f} тыс. баррелей\".format(predictions.mean()))\n",
        "    display(\"RMSE модели: {0:.1f}\".format(np.sqrt(mean_squared_error(target_valid, predictions))))\n",
        "    display(\"Пример данных:\")\n",
        "    display(result_df.head())\n",
        "\n",
        "# Список датасетов для обработки\n",
        "datasets = [geo_data_0_copy, geo_data_1_copy, geo_data_2_copy]\n",
        "\n",
        "# Обрабатываем каждый датасет\n",
        "for i, dataset in enumerate(datasets, 1):\n",
        "    work_with_dataset(dataset, i)"
      ]
    },
    {
      "cell_type": "code",
      "execution_count": null,
      "metadata": {
        "id": "Qfk0PYUg1L4z",
        "outputId": "ad3ba42e-d322-4b23-e338-02d8b409c3b6"
      },
      "outputs": [
        {
          "data": {
            "text/html": [
              "<div>\n",
              "<style scoped>\n",
              "    .dataframe tbody tr th:only-of-type {\n",
              "        vertical-align: middle;\n",
              "    }\n",
              "\n",
              "    .dataframe tbody tr th {\n",
              "        vertical-align: top;\n",
              "    }\n",
              "\n",
              "    .dataframe thead th {\n",
              "        text-align: right;\n",
              "    }\n",
              "</style>\n",
              "<table border=\"1\" class=\"dataframe\">\n",
              "  <thead>\n",
              "    <tr style=\"text-align: right;\">\n",
              "      <th></th>\n",
              "      <th>product</th>\n",
              "      <th>predict</th>\n",
              "    </tr>\n",
              "  </thead>\n",
              "  <tbody>\n",
              "    <tr>\n",
              "      <th>0</th>\n",
              "      <td>122.07</td>\n",
              "      <td>101.90</td>\n",
              "    </tr>\n",
              "    <tr>\n",
              "      <th>1</th>\n",
              "      <td>48.74</td>\n",
              "      <td>78.22</td>\n",
              "    </tr>\n",
              "    <tr>\n",
              "      <th>2</th>\n",
              "      <td>131.34</td>\n",
              "      <td>115.27</td>\n",
              "    </tr>\n",
              "    <tr>\n",
              "      <th>3</th>\n",
              "      <td>88.33</td>\n",
              "      <td>105.62</td>\n",
              "    </tr>\n",
              "    <tr>\n",
              "      <th>4</th>\n",
              "      <td>36.96</td>\n",
              "      <td>97.98</td>\n",
              "    </tr>\n",
              "    <tr>\n",
              "      <th>...</th>\n",
              "      <td>...</td>\n",
              "      <td>...</td>\n",
              "    </tr>\n",
              "    <tr>\n",
              "      <th>24995</th>\n",
              "      <td>148.82</td>\n",
              "      <td>105.08</td>\n",
              "    </tr>\n",
              "    <tr>\n",
              "      <th>24996</th>\n",
              "      <td>123.45</td>\n",
              "      <td>74.77</td>\n",
              "    </tr>\n",
              "    <tr>\n",
              "      <th>24997</th>\n",
              "      <td>91.95</td>\n",
              "      <td>82.54</td>\n",
              "    </tr>\n",
              "    <tr>\n",
              "      <th>24998</th>\n",
              "      <td>149.30</td>\n",
              "      <td>81.83</td>\n",
              "    </tr>\n",
              "    <tr>\n",
              "      <th>24999</th>\n",
              "      <td>57.24</td>\n",
              "      <td>93.12</td>\n",
              "    </tr>\n",
              "  </tbody>\n",
              "</table>\n",
              "<p>25000 rows × 2 columns</p>\n",
              "</div>"
            ],
            "text/plain": [
              "       product  predict\n",
              "0       122.07   101.90\n",
              "1        48.74    78.22\n",
              "2       131.34   115.27\n",
              "3        88.33   105.62\n",
              "4        36.96    97.98\n",
              "...        ...      ...\n",
              "24995   148.82   105.08\n",
              "24996   123.45    74.77\n",
              "24997    91.95    82.54\n",
              "24998   149.30    81.83\n",
              "24999    57.24    93.12\n",
              "\n",
              "[25000 rows x 2 columns]"
            ]
          },
          "metadata": {},
          "output_type": "display_data"
        },
        {
          "data": {
            "text/html": [
              "<div>\n",
              "<style scoped>\n",
              "    .dataframe tbody tr th:only-of-type {\n",
              "        vertical-align: middle;\n",
              "    }\n",
              "\n",
              "    .dataframe tbody tr th {\n",
              "        vertical-align: top;\n",
              "    }\n",
              "\n",
              "    .dataframe thead th {\n",
              "        text-align: right;\n",
              "    }\n",
              "</style>\n",
              "<table border=\"1\" class=\"dataframe\">\n",
              "  <thead>\n",
              "    <tr style=\"text-align: right;\">\n",
              "      <th></th>\n",
              "      <th>product</th>\n",
              "      <th>predict</th>\n",
              "    </tr>\n",
              "  </thead>\n",
              "  <tbody>\n",
              "    <tr>\n",
              "      <th>0</th>\n",
              "      <td>0.00</td>\n",
              "      <td>0.84</td>\n",
              "    </tr>\n",
              "    <tr>\n",
              "      <th>1</th>\n",
              "      <td>53.91</td>\n",
              "      <td>52.92</td>\n",
              "    </tr>\n",
              "    <tr>\n",
              "      <th>2</th>\n",
              "      <td>134.77</td>\n",
              "      <td>135.11</td>\n",
              "    </tr>\n",
              "    <tr>\n",
              "      <th>3</th>\n",
              "      <td>107.81</td>\n",
              "      <td>109.49</td>\n",
              "    </tr>\n",
              "    <tr>\n",
              "      <th>4</th>\n",
              "      <td>0.00</td>\n",
              "      <td>-0.05</td>\n",
              "    </tr>\n",
              "    <tr>\n",
              "      <th>...</th>\n",
              "      <td>...</td>\n",
              "      <td>...</td>\n",
              "    </tr>\n",
              "    <tr>\n",
              "      <th>24995</th>\n",
              "      <td>107.81</td>\n",
              "      <td>108.35</td>\n",
              "    </tr>\n",
              "    <tr>\n",
              "      <th>24996</th>\n",
              "      <td>53.91</td>\n",
              "      <td>53.60</td>\n",
              "    </tr>\n",
              "    <tr>\n",
              "      <th>24997</th>\n",
              "      <td>26.95</td>\n",
              "      <td>26.71</td>\n",
              "    </tr>\n",
              "    <tr>\n",
              "      <th>24998</th>\n",
              "      <td>110.99</td>\n",
              "      <td>109.82</td>\n",
              "    </tr>\n",
              "    <tr>\n",
              "      <th>24999</th>\n",
              "      <td>134.77</td>\n",
              "      <td>135.45</td>\n",
              "    </tr>\n",
              "  </tbody>\n",
              "</table>\n",
              "<p>25000 rows × 2 columns</p>\n",
              "</div>"
            ],
            "text/plain": [
              "       product  predict\n",
              "0         0.00     0.84\n",
              "1        53.91    52.92\n",
              "2       134.77   135.11\n",
              "3       107.81   109.49\n",
              "4         0.00    -0.05\n",
              "...        ...      ...\n",
              "24995   107.81   108.35\n",
              "24996    53.91    53.60\n",
              "24997    26.95    26.71\n",
              "24998   110.99   109.82\n",
              "24999   134.77   135.45\n",
              "\n",
              "[25000 rows x 2 columns]"
            ]
          },
          "metadata": {},
          "output_type": "display_data"
        },
        {
          "data": {
            "text/html": [
              "<div>\n",
              "<style scoped>\n",
              "    .dataframe tbody tr th:only-of-type {\n",
              "        vertical-align: middle;\n",
              "    }\n",
              "\n",
              "    .dataframe tbody tr th {\n",
              "        vertical-align: top;\n",
              "    }\n",
              "\n",
              "    .dataframe thead th {\n",
              "        text-align: right;\n",
              "    }\n",
              "</style>\n",
              "<table border=\"1\" class=\"dataframe\">\n",
              "  <thead>\n",
              "    <tr style=\"text-align: right;\">\n",
              "      <th></th>\n",
              "      <th>product</th>\n",
              "      <th>predict</th>\n",
              "    </tr>\n",
              "  </thead>\n",
              "  <tbody>\n",
              "    <tr>\n",
              "      <th>0</th>\n",
              "      <td>117.44</td>\n",
              "      <td>98.30</td>\n",
              "    </tr>\n",
              "    <tr>\n",
              "      <th>1</th>\n",
              "      <td>47.84</td>\n",
              "      <td>101.59</td>\n",
              "    </tr>\n",
              "    <tr>\n",
              "      <th>2</th>\n",
              "      <td>45.88</td>\n",
              "      <td>52.45</td>\n",
              "    </tr>\n",
              "    <tr>\n",
              "      <th>3</th>\n",
              "      <td>139.01</td>\n",
              "      <td>109.92</td>\n",
              "    </tr>\n",
              "    <tr>\n",
              "      <th>4</th>\n",
              "      <td>84.00</td>\n",
              "      <td>72.41</td>\n",
              "    </tr>\n",
              "    <tr>\n",
              "      <th>...</th>\n",
              "      <td>...</td>\n",
              "      <td>...</td>\n",
              "    </tr>\n",
              "    <tr>\n",
              "      <th>24995</th>\n",
              "      <td>40.80</td>\n",
              "      <td>102.76</td>\n",
              "    </tr>\n",
              "    <tr>\n",
              "      <th>24996</th>\n",
              "      <td>87.14</td>\n",
              "      <td>93.43</td>\n",
              "    </tr>\n",
              "    <tr>\n",
              "      <th>24997</th>\n",
              "      <td>52.04</td>\n",
              "      <td>64.10</td>\n",
              "    </tr>\n",
              "    <tr>\n",
              "      <th>24998</th>\n",
              "      <td>136.96</td>\n",
              "      <td>83.76</td>\n",
              "    </tr>\n",
              "    <tr>\n",
              "      <th>24999</th>\n",
              "      <td>109.17</td>\n",
              "      <td>86.56</td>\n",
              "    </tr>\n",
              "  </tbody>\n",
              "</table>\n",
              "<p>25000 rows × 2 columns</p>\n",
              "</div>"
            ],
            "text/plain": [
              "       product  predict\n",
              "0       117.44    98.30\n",
              "1        47.84   101.59\n",
              "2        45.88    52.45\n",
              "3       139.01   109.92\n",
              "4        84.00    72.41\n",
              "...        ...      ...\n",
              "24995    40.80   102.76\n",
              "24996    87.14    93.43\n",
              "24997    52.04    64.10\n",
              "24998   136.96    83.76\n",
              "24999   109.17    86.56\n",
              "\n",
              "[25000 rows x 2 columns]"
            ]
          },
          "metadata": {},
          "output_type": "display_data"
        }
      ],
      "source": [
        "# Данные по регионам\n",
        "region1_results = result_datasets[0]  # Регион 1\n",
        "region2_results = result_datasets[1]  # Регион 2\n",
        "region3_results = result_datasets[2]  # Регион 3\n",
        "\n",
        "display (region1_results, region2_results, region3_results)"
      ]
    },
    {
      "cell_type": "code",
      "execution_count": null,
      "metadata": {
        "id": "MQ8IEhz21L4z",
        "outputId": "3cd8890e-3f6f-4b78-f2bc-37f13205075f"
      },
      "outputs": [
        {
          "data": {
            "image/png": "[encoded data removed]",
            "text/plain": [
              "<Figure size 432x432 with 1 Axes>"
            ]
          },
          "metadata": {},
          "output_type": "display_data"
        }
      ],
      "source": [
        "# Данные средних запасов по регионам\n",
        "regions = ['Регион 1', 'Регион 2', 'Регион 3']\n",
        "mean_reserves = predictions_mean  # список со средними запасами\n",
        "\n",
        "# Создаем круговую диаграмму\n",
        "plt.figure(figsize=(6, 6))\n",
        "plt.pie(mean_reserves,\n",
        "        labels=regions,\n",
        "        autopct='%1.1f%%',\n",
        "        startangle=90,\n",
        "        colors=['#ff9999','#66b3ff','#99ff99']\n",
        "        )\n",
        "plt.title('Распределение средних запасов нефти по регионам', pad=20)\n",
        "legend_labels = [f'{region}: {mean:.0f} тыс. баррелей'\n",
        "                 for region, mean in zip(regions, mean_reserves)]\n",
        "plt.legend(legend_labels, loc='upper right', bbox_to_anchor=(1.3, 1))\n",
        "plt.axis('equal')\n",
        "plt.tight_layout()\n",
        "plt.show();"
      ]
    },
    {
      "cell_type": "markdown",
      "metadata": {
        "id": "Nb4yq_ZO1L40"
      },
      "source": [
        "**Выводы:**\n",
        "1. Подготовка данных и моделирование:    \n",
        "\n",
        "Все исходные данные были разделены на обучающую (75%) и валидационную (25%) выборки.  \n",
        "Для каждого региона построены и обучены модели линейной регрессии.  \n",
        "Выполнены прогнозы объёмов сырья для валидационных выборок.  \n",
        "\n",
        "2. Результаты по регионам:  \n",
        "\n",
        "Сформированы массивы прогнозов и фактических значений для каждого региона.  \n",
        "\n",
        "3. Оценка точности моделей:  \n",
        "\n",
        "Регион 2 демонстрирует аномально низкую RMSE (0.89), что, вероятно, связано с:  \n",
        "полной линейной зависимостью (корреляция ~ 1.0) между признаком f2 и целевой переменной и возможным переобучением модели  \n",
        "\n",
        "Регионы 1 и 3 показывают существенно более высокие значения RMSE:  \n",
        "- Регион 1: 37.58  \n",
        "- Регион 3: 39.96  \n",
        "\n",
        "Такие показатели свидетельствуют о значительном разбросе данных в валидационных выборках  \n",
        "\n",
        "4. Анализ прогнозируемых запасов:  \n",
        "\n",
        "- Регион 2 имеет минимальные прогнозируемые запасы - всего 69 тыс. баррелей  \n",
        "- Для Регионов 1 и 3 этот показатель составляет 93-95 тыс. баррелей, что на ~35% выше  \n",
        "\n",
        "Выявленные особенности:  \n",
        "\n",
        "- Модель для Региона 2 требует дополнительной проверки на адекватность  \n",
        "\n",
        "- Для Регионов 1 и 3 необходимо исследовать причины высокого RMSE:  \n",
        "\n",
        "Возможна нелинейная зависимость  \n",
        "Требуется дополнительная предобработка данных  \n",
        "Может потребоваться выбор другой модели   "
      ]
    },
    {
      "cell_type": "code",
      "execution_count": null,
      "metadata": {
        "id": "VspTm5Hq1L41",
        "outputId": "fb87a390-8288-41db-f58e-8ca4aa80c52d"
      },
      "outputs": [
        {
          "data": {
            "text/html": [
              "<div>\n",
              "<style scoped>\n",
              "    .dataframe tbody tr th:only-of-type {\n",
              "        vertical-align: middle;\n",
              "    }\n",
              "\n",
              "    .dataframe tbody tr th {\n",
              "        vertical-align: top;\n",
              "    }\n",
              "\n",
              "    .dataframe thead th {\n",
              "        text-align: right;\n",
              "    }\n",
              "</style>\n",
              "<table border=\"1\" class=\"dataframe\">\n",
              "  <thead>\n",
              "    <tr style=\"text-align: right;\">\n",
              "      <th></th>\n",
              "      <th>f0</th>\n",
              "      <th>product</th>\n",
              "      <th>f2_f1</th>\n",
              "    </tr>\n",
              "  </thead>\n",
              "  <tbody>\n",
              "    <tr>\n",
              "      <th>0</th>\n",
              "      <td>-15.00</td>\n",
              "      <td>3.18</td>\n",
              "      <td>0.00</td>\n",
              "    </tr>\n",
              "    <tr>\n",
              "      <th>1</th>\n",
              "      <td>14.27</td>\n",
              "      <td>26.95</td>\n",
              "      <td>-0.29</td>\n",
              "    </tr>\n",
              "    <tr>\n",
              "      <th>2</th>\n",
              "      <td>6.26</td>\n",
              "      <td>134.77</td>\n",
              "      <td>-0.84</td>\n",
              "    </tr>\n",
              "    <tr>\n",
              "      <th>3</th>\n",
              "      <td>-13.08</td>\n",
              "      <td>137.95</td>\n",
              "      <td>-0.43</td>\n",
              "    </tr>\n",
              "    <tr>\n",
              "      <th>4</th>\n",
              "      <td>12.70</td>\n",
              "      <td>134.77</td>\n",
              "      <td>-0.61</td>\n",
              "    </tr>\n",
              "  </tbody>\n",
              "</table>\n",
              "</div>"
            ],
            "text/plain": [
              "      f0  product  f2_f1\n",
              "0 -15.00     3.18   0.00\n",
              "1  14.27    26.95  -0.29\n",
              "2   6.26   134.77  -0.84\n",
              "3 -13.08   137.95  -0.43\n",
              "4  12.70   134.77  -0.61"
            ]
          },
          "metadata": {},
          "output_type": "display_data"
        }
      ],
      "source": [
        "geo_data_1_copy1 = geo_data_1.copy()\n",
        "\n",
        "#Новый столбец с вычислением f2/f1\n",
        "geo_data_1_copy1['f2_f1'] = geo_data_1_copy['f2'] / geo_data_1_copy['f1']\n",
        "\n",
        "#Удаляем исходные столбцы и проверяем результат\n",
        "geo_data_1_copy1.drop(columns=['f2', 'f1', 'id'], inplace=True)\n",
        "display (geo_data_1_copy1.head())"
      ]
    },
    {
      "cell_type": "code",
      "execution_count": null,
      "metadata": {
        "id": "6kibp5ue1L41",
        "outputId": "f9fd93af-0688-4fc0-c48b-fe8de78fbec1"
      },
      "outputs": [
        {
          "data": {
            "text/plain": [
              "'Регион № 2:'"
            ]
          },
          "metadata": {},
          "output_type": "display_data"
        },
        {
          "data": {
            "text/plain": [
              "'Средний запас предсказанного сырья: 68.8 тыс. баррелей'"
            ]
          },
          "metadata": {},
          "output_type": "display_data"
        },
        {
          "data": {
            "text/plain": [
              "'RMSE модели: 45.9'"
            ]
          },
          "metadata": {},
          "output_type": "display_data"
        },
        {
          "data": {
            "text/plain": [
              "'Пример данных:'"
            ]
          },
          "metadata": {},
          "output_type": "display_data"
        },
        {
          "data": {
            "text/html": [
              "<div>\n",
              "<style scoped>\n",
              "    .dataframe tbody tr th:only-of-type {\n",
              "        vertical-align: middle;\n",
              "    }\n",
              "\n",
              "    .dataframe tbody tr th {\n",
              "        vertical-align: top;\n",
              "    }\n",
              "\n",
              "    .dataframe thead th {\n",
              "        text-align: right;\n",
              "    }\n",
              "</style>\n",
              "<table border=\"1\" class=\"dataframe\">\n",
              "  <thead>\n",
              "    <tr style=\"text-align: right;\">\n",
              "      <th></th>\n",
              "      <th>product</th>\n",
              "      <th>predict</th>\n",
              "    </tr>\n",
              "  </thead>\n",
              "  <tbody>\n",
              "    <tr>\n",
              "      <th>0</th>\n",
              "      <td>0.00</td>\n",
              "      <td>68.08</td>\n",
              "    </tr>\n",
              "    <tr>\n",
              "      <th>1</th>\n",
              "      <td>53.91</td>\n",
              "      <td>66.43</td>\n",
              "    </tr>\n",
              "    <tr>\n",
              "      <th>2</th>\n",
              "      <td>134.77</td>\n",
              "      <td>67.92</td>\n",
              "    </tr>\n",
              "    <tr>\n",
              "      <th>3</th>\n",
              "      <td>107.81</td>\n",
              "      <td>69.07</td>\n",
              "    </tr>\n",
              "    <tr>\n",
              "      <th>4</th>\n",
              "      <td>0.00</td>\n",
              "      <td>66.93</td>\n",
              "    </tr>\n",
              "  </tbody>\n",
              "</table>\n",
              "</div>"
            ],
            "text/plain": [
              "   product  predict\n",
              "0     0.00    68.08\n",
              "1    53.91    66.43\n",
              "2   134.77    67.92\n",
              "3   107.81    69.07\n",
              "4     0.00    66.93"
            ]
          },
          "metadata": {},
          "output_type": "display_data"
        }
      ],
      "source": [
        "work_with_dataset(geo_data_1_copy1, 2)"
      ]
    },
    {
      "cell_type": "markdown",
      "metadata": {
        "id": "kS22hNZh1L41"
      },
      "source": [
        "RMSE модели по 2-му региону увеличился - 46. Переобучения нет."
      ]
    },
    {
      "cell_type": "markdown",
      "metadata": {
        "id": "uGJuMQws1L41"
      },
      "source": [
        "## Подготовка к расчёту прибыли"
      ]
    },
    {
      "cell_type": "markdown",
      "metadata": {
        "id": "ajl6LbaF1L41"
      },
      "source": [
        "3.1. Все ключевые значения для расчётов сохраните в отдельных переменных."
      ]
    },
    {
      "cell_type": "markdown",
      "metadata": {
        "id": "irum7hdf1L42"
      },
      "source": [
        "3.2. Рассчитайте достаточный объём сырья для безубыточной разработки новой скважины. Сравните полученный объём сырья со средним запасом в каждом регионе."
      ]
    },
    {
      "cell_type": "code",
      "execution_count": null,
      "metadata": {
        "id": "nWNKTfzG1L42",
        "outputId": "7cc35e41-deb1-4907-cc05-6e7b11ee08df"
      },
      "outputs": [
        {
          "data": {
            "text/plain": [
              "'Минимально необходимый запас нефти в скважине для окупаемости ее разработки = 111.1 тыс. баррелей.'"
            ]
          },
          "metadata": {},
          "output_type": "display_data"
        },
        {
          "data": {
            "text/plain": [
              "'Средний запас нефти в скважинах Регионе 1 = 92.5 тыс. баррелей.'"
            ]
          },
          "metadata": {},
          "output_type": "display_data"
        },
        {
          "data": {
            "text/plain": [
              "'- Доля скважин с запасами нефти больше, чем пороговое значение = 36.6%'"
            ]
          },
          "metadata": {},
          "output_type": "display_data"
        },
        {
          "data": {
            "text/plain": [
              "'- Число скважин с запасами нефти больше, чем пороговое значение = 36583'"
            ]
          },
          "metadata": {},
          "output_type": "display_data"
        },
        {
          "data": {
            "text/plain": [
              "'Средний запас нефти в скважинах Регионе 2 = 68.8 тыс. баррелей.'"
            ]
          },
          "metadata": {},
          "output_type": "display_data"
        },
        {
          "data": {
            "text/plain": [
              "'- Доля скважин с запасами нефти больше, чем пороговое значение = 16.5%'"
            ]
          },
          "metadata": {},
          "output_type": "display_data"
        },
        {
          "data": {
            "text/plain": [
              "'- Число скважин с запасами нефти больше, чем пороговое значение = 16537'"
            ]
          },
          "metadata": {},
          "output_type": "display_data"
        },
        {
          "data": {
            "text/plain": [
              "'Средний запас нефти в скважинах Регионе 3 = 92.5 тыс. баррелей.'"
            ]
          },
          "metadata": {},
          "output_type": "display_data"
        },
        {
          "data": {
            "text/plain": [
              "'- Доля скважин с запасами нефти больше, чем пороговое значение = 36.6%'"
            ]
          },
          "metadata": {},
          "output_type": "display_data"
        },
        {
          "data": {
            "text/plain": [
              "'- Число скважин с запасами нефти больше, чем пороговое значение = 36583'"
            ]
          },
          "metadata": {},
          "output_type": "display_data"
        }
      ],
      "source": [
        "regions = ['Регионе 1', 'Регионе 2', 'Регионе 3']\n",
        "datasets = [geo_data_0_copy, geo_data_1_copy1, geo_data_0_copy]\n",
        "\n",
        "break_even = summa / (revenue_per_unit * best_place)\n",
        "display (f'Минимально необходимый запас нефти в скважине для окупаемости ее разработки = {break_even:.1f} тыс. баррелей.')\n",
        "\n",
        "for regions, datasets in zip(regions, datasets):\n",
        "    display()\n",
        "    display(f'Средний запас нефти в скважинах {regions} = {datasets[\"product\"].mean():.1f} тыс. баррелей.')\n",
        "    display(f'- Доля скважин с запасами нефти больше, чем пороговое значение = {len(datasets.query(\"product > @break_even\")) / len(datasets):.1%}')\n",
        "    display(f'- Число скважин с запасами нефти больше, чем пороговое значение = {len(datasets.query(\"product > @break_even\"))}')"
      ]
    },
    {
      "cell_type": "markdown",
      "metadata": {
        "id": "a5Cad2Cy1L42"
      },
      "source": [
        "3.3. Напишите выводы по этапу подготовки расчёта прибыли."
      ]
    },
    {
      "cell_type": "markdown",
      "metadata": {
        "id": "i15jgAeL1L42"
      },
      "source": [
        "**Выводы из расчета окупаемости проекта по разработке нефтяных месторождений**   \n",
        "Экономическая целесообразность разработки требует отбора скважин с запасами, которые значительно превышающими установленный средний порог.  \n",
        "Нужно учитывать, что:\n",
        "- точка безубыточности составляет в среднем 111 тыс. баррелей на скважину   \n",
        "- средние запасы по регионам варьируются в диапазоне 69 - 92 тыс. баррелей   \n",
        "\n",
        "Выбор высокопродуктивных объектов становится ключевым фактором окупаемости инвестиций."
      ]
    },
    {
      "cell_type": "markdown",
      "metadata": {
        "id": "Kiis649D1L42"
      },
      "source": [
        "## Расчёт прибыли и рисков"
      ]
    },
    {
      "cell_type": "markdown",
      "metadata": {
        "id": "-0rbMLyO1L42"
      },
      "source": [
        "4.1. Примените технику Bootstrap с 1000 выборок, чтобы найти распределение прибыли."
      ]
    },
    {
      "cell_type": "code",
      "execution_count": null,
      "metadata": {
        "id": "ykC6W-Pa1L43"
      },
      "outputs": [],
      "source": [
        "def calculate_profit(wells_df, revenue_per_unit, summa=summa):\n",
        "    wells = wells_df.copy()\n",
        "    wells['profit'] = wells['product'] * revenue_per_unit\n",
        "    total_profit = wells['profit'].sum() - summa\n",
        "    return wells, total_profit\n",
        "\n",
        "def select_and_calculate_profit(region1_results, region2_results, region3_results,\n",
        "                               revenue_per_unit, best_place=best_place, summa=summa):\n",
        "\n",
        "#Регион №1\n",
        "    top_region1 = region1_results.nlargest(best_place, 'predict')\n",
        "    wells1, profit1 = calculate_profit(top_region1, revenue_per_unit, summa)\n",
        "\n",
        "#Регион №2\n",
        "    top_region2 = region2_results.nlargest(best_place, 'predict')\n",
        "    wells2, profit2 = calculate_profit(top_region2, revenue_per_unit, summa)\n",
        "\n",
        "#Регион №3\n",
        "    top_region3 = region3_results.nlargest(best_place, 'predict')\n",
        "    wells3, profit3 = calculate_profit(top_region3, revenue_per_unit, summa)\n",
        "\n",
        "#Вывод результатов\n",
        "    print(f'Регион 1: Суммарная прибыль топ-{best_place} скважин = {profit1:,.0f} руб.')\n",
        "    print(f'Регион 2: Суммарная прибыль топ-{best_place} скважин = {profit2:,.0f} руб.')\n",
        "    print(f'Регион 3: Суммарная прибыль топ-{best_place} скважин = {profit3:,.0f} руб.')\n",
        "\n",
        "    return wells1, wells2, wells3"
      ]
    },
    {
      "cell_type": "code",
      "execution_count": null,
      "metadata": {
        "id": "soyB5Nuk1L43",
        "outputId": "418a3086-cf69-461e-e32c-07eea3a72de3"
      },
      "outputs": [
        {
          "name": "stdout",
          "output_type": "stream",
          "text": [
            "Регион 1: Суммарная прибыль топ-200 скважин = 3,359,141,114 руб.\n",
            "Регион 2: Суммарная прибыль топ-200 скважин = 2,415,086,697 руб.\n",
            "Регион 3: Суммарная прибыль топ-200 скважин = 2,598,571,759 руб.\n"
          ]
        }
      ],
      "source": [
        "top1, top2, top3 = select_and_calculate_profit(\n",
        "    region1_results,\n",
        "    region2_results,\n",
        "    region3_results,\n",
        "    revenue_per_unit,\n",
        "    best_place,\n",
        "    summa)"
      ]
    },
    {
      "cell_type": "markdown",
      "metadata": {
        "id": "1NvVygSn1L44"
      },
      "source": [
        "4.2. Найдите среднюю прибыль, 95%-й доверительный интервал и риск убытков. Убыток — это отрицательная прибыль."
      ]
    },
    {
      "cell_type": "code",
      "execution_count": null,
      "metadata": {
        "id": "Rw1TWj6a1L44"
      },
      "outputs": [],
      "source": [
        "def profit(target, predictions, n_bootstrap=N_bootstrap, revenue_per_unit=revenue_per_unit, fixed_costs=summa):\n",
        "    combined = pd.DataFrame({'target': target, 'predict': predictions})\n",
        "    top_wells = combined.nlargest(best_place, 'predict')\n",
        "    return ((top_wells['target'] * revenue_per_unit).sum()- fixed_costs) / 1_000_000\n",
        "\n",
        "def bootstrap(target, predict, n_samples):\n",
        "    state = np.random.RandomState(RANDOM_STATE)\n",
        "    profits = []\n",
        "\n",
        "    for _ in tqdm(range(N_bootstrap), desc='Bootstrap итерации'):\n",
        "        idx = state.choice(len(target), size=n_samples, replace=True)\n",
        "        target_subsample = target.iloc[idx]\n",
        "        probs_subsample = predict.iloc[idx]\n",
        "        profits.append(profit(target_subsample, probs_subsample, best_place))\n",
        "\n",
        "    profits = pd.Series(profits)\n",
        "    risk = (profits < 0).mean()\n",
        "\n",
        "    return {\n",
        "        'mean_profit': profits.mean(),\n",
        "        'ci_95': (profits.quantile(0.025), profits.quantile(0.975)),\n",
        "        'risk': risk,\n",
        "        'profits': profits\n",
        "    }\n",
        "#Функция для анализ регионов с bootstrap\n",
        "def analyze_regions(targets, predictions, sample_size=boreholes):\n",
        "    results = []\n",
        "    risk_values = []\n",
        "\n",
        "    for i in range(3):\n",
        "        display(f'Анализ региона {i+1}:')\n",
        "        region_results = bootstrap(targets[i], predictions[i], sample_size)\n",
        "        results.append({\n",
        "            'Регион': f'Регион {i+1}',\n",
        "            'Средняя прибыль (млн руб.)': f'{region_results[\"mean_profit\"]:.2f}',\n",
        "            '95% ДИ (млн руб.)': f'{region_results[\"ci_95\"][0]:.2f} - {region_results[\"ci_95\"][1]:.2f}',\n",
        "            'Риск убытков (%)': f'{region_results[\"risk\"]:.1%}'\n",
        "        })\n",
        "\n",
        "        risk_values.append(region_results[\"risk\"] * 100)\n",
        "        display(f'Средняя прибыль: {region_results[\"mean_profit\"]:.2f} млн руб.')\n",
        "        display(f'95% ДИ: [{region_results[\"ci_95\"][0]:.2f}, {region_results[\"ci_95\"][1]:.2f}] млн руб.')\n",
        "        display(f'Риск убытков: {region_results[\"risk\"]:.1%}')\n",
        "\n",
        "    plot_risk_distribution(risk_values)\n",
        "    return pd.DataFrame(results)"
      ]
    },
    {
      "cell_type": "code",
      "execution_count": null,
      "metadata": {
        "id": "V8KTPPkN1L44"
      },
      "outputs": [],
      "source": [
        "# Визуализация рисков по регионам\n",
        "def plot_risk_distribution(risk_values):\n",
        "    plt.figure(figsize=(10, 6))\n",
        "    colors = ['purple', 'green', 'orange']\n",
        "    regions = ['Регион №1', 'Регион №2', 'Регион №3']\n",
        "    bars = plt.bar(regions, risk_values, color=colors)\n",
        "    for bar in bars:\n",
        "        height = bar.get_height()\n",
        "        plt.text(bar.get_x() + bar.get_width()/2., height,\n",
        "                f'{height:.1f}%',\n",
        "                ha='center', va='bottom',\n",
        "                fontdict={'fontweight': boreholes, 'size': 12})\n",
        "    plt.title(\"Риск убытков при разработке скважин\", fontsize=14, pad=20)\n",
        "    plt.ylabel('Риск, %', fontsize=12)\n",
        "    plt.show()"
      ]
    },
    {
      "cell_type": "code",
      "execution_count": null,
      "metadata": {
        "id": "BR5ziijW1L44",
        "outputId": "b6530c48-998d-4df8-beb5-68e68d1d2c74"
      },
      "outputs": [
        {
          "data": {
            "text/plain": [
              "'Анализ региона 1:'"
            ]
          },
          "metadata": {},
          "output_type": "display_data"
        },
        {
          "name": "stderr",
          "output_type": "stream",
          "text": [
            "Bootstrap итерации: 100%|██████████| 1000/1000 [00:01<00:00, 550.43it/s]\n"
          ]
        },
        {
          "data": {
            "text/plain": [
              "'Средняя прибыль: 399.58 млн руб.'"
            ]
          },
          "metadata": {},
          "output_type": "display_data"
        },
        {
          "data": {
            "text/plain": [
              "'95% ДИ: [-110.47, 897.46] млн руб.'"
            ]
          },
          "metadata": {},
          "output_type": "display_data"
        },
        {
          "data": {
            "text/plain": [
              "'Риск убытков: 6.0%'"
            ]
          },
          "metadata": {},
          "output_type": "display_data"
        },
        {
          "data": {
            "text/plain": [
              "'Анализ региона 2:'"
            ]
          },
          "metadata": {},
          "output_type": "display_data"
        },
        {
          "name": "stderr",
          "output_type": "stream",
          "text": [
            "Bootstrap итерации: 100%|██████████| 1000/1000 [00:01<00:00, 531.72it/s]\n"
          ]
        },
        {
          "data": {
            "text/plain": [
              "'Средняя прибыль: 452.05 млн руб.'"
            ]
          },
          "metadata": {},
          "output_type": "display_data"
        },
        {
          "data": {
            "text/plain": [
              "'95% ДИ: [61.68, 845.34] млн руб.'"
            ]
          },
          "metadata": {},
          "output_type": "display_data"
        },
        {
          "data": {
            "text/plain": [
              "'Риск убытков: 1.5%'"
            ]
          },
          "metadata": {},
          "output_type": "display_data"
        },
        {
          "data": {
            "text/plain": [
              "'Анализ региона 3:'"
            ]
          },
          "metadata": {},
          "output_type": "display_data"
        },
        {
          "name": "stderr",
          "output_type": "stream",
          "text": [
            "Bootstrap итерации: 100%|██████████| 1000/1000 [00:01<00:00, 546.42it/s]\n"
          ]
        },
        {
          "data": {
            "text/plain": [
              "'Средняя прибыль: 375.01 млн руб.'"
            ]
          },
          "metadata": {},
          "output_type": "display_data"
        },
        {
          "data": {
            "text/plain": [
              "'95% ДИ: [-144.77, 888.39] млн руб.'"
            ]
          },
          "metadata": {},
          "output_type": "display_data"
        },
        {
          "data": {
            "text/plain": [
              "'Риск убытков: 8.0%'"
            ]
          },
          "metadata": {},
          "output_type": "display_data"
        },
        {
          "data": {
            "image/png": "[encoded data removed]",
            "text/plain": [
              "<Figure size 720x432 with 1 Axes>"
            ]
          },
          "metadata": {
            "needs_background": "light"
          },
          "output_type": "display_data"
        },
        {
          "data": {
            "text/html": [
              "<div>\n",
              "<style scoped>\n",
              "    .dataframe tbody tr th:only-of-type {\n",
              "        vertical-align: middle;\n",
              "    }\n",
              "\n",
              "    .dataframe tbody tr th {\n",
              "        vertical-align: top;\n",
              "    }\n",
              "\n",
              "    .dataframe thead th {\n",
              "        text-align: right;\n",
              "    }\n",
              "</style>\n",
              "<table border=\"1\" class=\"dataframe\">\n",
              "  <thead>\n",
              "    <tr style=\"text-align: right;\">\n",
              "      <th></th>\n",
              "      <th>Регион</th>\n",
              "      <th>Средняя прибыль (млн руб.)</th>\n",
              "      <th>95% ДИ (млн руб.)</th>\n",
              "      <th>Риск убытков (%)</th>\n",
              "    </tr>\n",
              "  </thead>\n",
              "  <tbody>\n",
              "    <tr>\n",
              "      <th>0</th>\n",
              "      <td>Регион 1</td>\n",
              "      <td>399.58</td>\n",
              "      <td>-110.47 - 897.46</td>\n",
              "      <td>6.0%</td>\n",
              "    </tr>\n",
              "    <tr>\n",
              "      <th>1</th>\n",
              "      <td>Регион 2</td>\n",
              "      <td>452.05</td>\n",
              "      <td>61.68 - 845.34</td>\n",
              "      <td>1.5%</td>\n",
              "    </tr>\n",
              "    <tr>\n",
              "      <th>2</th>\n",
              "      <td>Регион 3</td>\n",
              "      <td>375.01</td>\n",
              "      <td>-144.77 - 888.39</td>\n",
              "      <td>8.0%</td>\n",
              "    </tr>\n",
              "  </tbody>\n",
              "</table>\n",
              "</div>"
            ],
            "text/plain": [
              "     Регион Средняя прибыль (млн руб.) 95% ДИ (млн руб.) Риск убытков (%)\n",
              "0  Регион 1                     399.58  -110.47 - 897.46             6.0%\n",
              "1  Регион 2                     452.05    61.68 - 845.34             1.5%\n",
              "2  Регион 3                     375.01  -144.77 - 888.39             8.0%"
            ]
          },
          "metadata": {},
          "output_type": "display_data"
        }
      ],
      "source": [
        "if __name__ == \"__main__\":\n",
        "    test_targets = [\n",
        "        region1_results['product'],\n",
        "        region2_results['product'],\n",
        "        region3_results['product']]\n",
        "    test_predictions = [\n",
        "        region1_results['predict'],\n",
        "        region2_results['predict'],\n",
        "        region3_results['predict']]\n",
        "    results_df = analyze_regions(test_targets, test_predictions)\n",
        "    display(results_df)"
      ]
    },
    {
      "cell_type": "markdown",
      "metadata": {
        "id": "LKuDXrby1L45"
      },
      "source": [
        "5.3. Напишите выводы: предложите регион для разработки скважин и обоснуйте выбор."
      ]
    },
    {
      "cell_type": "markdown",
      "metadata": {
        "id": "wTORAH_w1L45"
      },
      "source": [
        "**Результаты анализа:**\n",
        "✓ Был расчитан уровень риска по всем трем регионам при разработке 500 месторождений:  \n",
        "- 6% в первом регионе с учетом средней прибыли в 400 млн.руб.   \n",
        "- 1.5% во втором регионе с учетом средней прибыли в 452 млн.руб.  \n",
        "- 8% в третьем регионе с учетом средней прибыли в 375 млн.руб.   \n",
        "\n",
        "✓ Регион №2 с минимальным уровнем риска и самым лучшим показателем средней прибыли.  \n",
        "✓ Регион № 3 - самый рискованный для разработки и показывает меньшую среднюю прибыль."
      ]
    },
    {
      "cell_type": "markdown",
      "metadata": {
        "id": "NbC3Fbbb1L45"
      },
      "source": [
        "## **Итоговый Вывод:**   \n",
        "## Результаты анализа трёх регионов\n",
        "\n",
        "### Сравнительный анализ прибыльности:\n",
        "\n",
        "#### Регион №2 - **РЕКОМЕНДУЕМЫЙ**:\n",
        "- **Прибыльность**: Самая высокая средняя прибыль\n",
        "- **Риски**: Минимальный уровень риска потерь\n",
        "- **Стабильность**: Наиболее предсказуемые результаты\n",
        "\n",
        "#### Регион №1:\n",
        "- **Прибыльность**: Средние показатели доходности\n",
        "- **Риски**: Умеренный уровень риска\n",
        "- **Потенциал**: Возможен для рассмотрения при диверсификации\n",
        "\n",
        "#### Регион №3 - **НЕ РЕКОМЕНДУЕТСЯ**:\n",
        "- **Прибыльность**: Самая низкая средняя прибыль\n",
        "- **Риски**: Максимальный уровень риска\n",
        "- **Стабильность**: Высокая волатильность результатов\n",
        "\n",
        "## Анализ прибыли по объёмам разработки\n",
        "\n",
        "### Для 200 лучших месторождений:\n",
        "- **Регион 2**: Оптимальное соотношение прибыли и риска\n",
        "- **Регион 1**: Приемлемые показатели с повышенным риском\n",
        "- **Регион 3**: Низкая прибыль при высоких рисках\n",
        "\n",
        "### Для 500 лучших месторождений:\n",
        "- **Регион 2**: Сохраняет лидерство по прибыльности\n",
        "- **Регион 1**: Увеличивается разрыв с лидером\n",
        "- **Регион 3**: Риски превышают потенциальную выгоду\n",
        "\n",
        "## Рекомендации для компании «ГлавРосГосНефть»\n",
        "\n",
        "### Приоритетная стратегия:\n",
        "**Разработка в Регионе №2** - оптимальное решение по критериям:\n",
        "-  **Максимальная прибыль** - наивысшая доходность инвестиций\n",
        "-  **Минимальные риски** - стабильные и предсказуемые результаты\n",
        "-  **Эффективность бюджета** - лучшее использование выделенных средств\n"
      ]
    }
  ],
  "metadata": {
    "ExecuteTimeLog": [
      {
        "duration": 12,
        "start_time": "2025-03-28T16:34:30.916Z"
      },
      {
        "duration": 53,
        "start_time": "2025-04-01T16:03:22.264Z"
      },
      {
        "duration": 15248,
        "start_time": "2025-04-01T16:04:25.306Z"
      },
      {
        "duration": 1113,
        "start_time": "2025-04-01T16:04:40.557Z"
      },
      {
        "duration": 891,
        "start_time": "2025-04-01T16:05:54.819Z"
      },
      {
        "duration": 3,
        "start_time": "2025-04-01T16:06:23.785Z"
      },
      {
        "duration": 112,
        "start_time": "2025-04-01T16:06:46.686Z"
      },
      {
        "duration": 23,
        "start_time": "2025-04-01T16:06:56.743Z"
      },
      {
        "duration": 1011,
        "start_time": "2025-04-01T16:07:34.631Z"
      },
      {
        "duration": 19,
        "start_time": "2025-04-01T16:07:36.408Z"
      },
      {
        "duration": 20,
        "start_time": "2025-04-01T16:08:03.002Z"
      },
      {
        "duration": 20,
        "start_time": "2025-04-01T16:08:03.927Z"
      },
      {
        "duration": 24,
        "start_time": "2025-04-01T16:08:15.518Z"
      },
      {
        "duration": 20,
        "start_time": "2025-04-01T16:08:16.143Z"
      },
      {
        "duration": 20,
        "start_time": "2025-04-01T16:08:17.008Z"
      },
      {
        "duration": 110,
        "start_time": "2025-04-01T16:09:51.077Z"
      },
      {
        "duration": 1052,
        "start_time": "2025-04-01T16:17:54.590Z"
      },
      {
        "duration": 482,
        "start_time": "2025-04-01T16:18:47.024Z"
      },
      {
        "duration": 459,
        "start_time": "2025-04-01T16:19:37.517Z"
      },
      {
        "duration": 514,
        "start_time": "2025-04-01T16:19:51.814Z"
      },
      {
        "duration": 823,
        "start_time": "2025-04-01T16:24:39.098Z"
      },
      {
        "duration": 1380,
        "start_time": "2025-04-01T16:26:39.973Z"
      },
      {
        "duration": 1073,
        "start_time": "2025-04-01T16:27:58.190Z"
      },
      {
        "duration": 16881,
        "start_time": "2025-04-01T16:28:55.931Z"
      },
      {
        "duration": 1301,
        "start_time": "2025-04-01T16:29:12.815Z"
      },
      {
        "duration": 25,
        "start_time": "2025-04-01T16:29:14.118Z"
      },
      {
        "duration": 20,
        "start_time": "2025-04-01T16:29:14.145Z"
      },
      {
        "duration": 49,
        "start_time": "2025-04-01T16:29:14.167Z"
      },
      {
        "duration": 134,
        "start_time": "2025-04-01T16:29:14.219Z"
      },
      {
        "duration": 607,
        "start_time": "2025-04-01T16:29:14.355Z"
      },
      {
        "duration": 594,
        "start_time": "2025-04-01T16:29:14.964Z"
      },
      {
        "duration": 1092,
        "start_time": "2025-04-01T16:29:15.560Z"
      },
      {
        "duration": 0,
        "start_time": "2025-04-01T16:29:16.654Z"
      },
      {
        "duration": 0,
        "start_time": "2025-04-01T16:29:16.655Z"
      },
      {
        "duration": 116,
        "start_time": "2025-04-01T16:31:37.151Z"
      },
      {
        "duration": 3696,
        "start_time": "2025-04-01T16:37:13.267Z"
      },
      {
        "duration": 413,
        "start_time": "2025-04-01T16:38:29.065Z"
      },
      {
        "duration": 328,
        "start_time": "2025-04-01T16:38:38.113Z"
      },
      {
        "duration": 454,
        "start_time": "2025-04-01T16:38:47.320Z"
      },
      {
        "duration": 592,
        "start_time": "2025-04-01T16:40:27.181Z"
      },
      {
        "duration": 727,
        "start_time": "2025-04-01T16:41:00.034Z"
      },
      {
        "duration": 668,
        "start_time": "2025-04-01T16:41:42.842Z"
      },
      {
        "duration": 116,
        "start_time": "2025-04-01T16:43:54.236Z"
      },
      {
        "duration": 91,
        "start_time": "2025-04-01T16:44:23.756Z"
      },
      {
        "duration": 110,
        "start_time": "2025-04-01T16:44:55.796Z"
      },
      {
        "duration": 510,
        "start_time": "2025-04-01T16:45:47.769Z"
      },
      {
        "duration": 565,
        "start_time": "2025-04-01T16:53:49.900Z"
      },
      {
        "duration": 117,
        "start_time": "2025-04-01T16:53:52.225Z"
      },
      {
        "duration": 624,
        "start_time": "2025-04-01T16:55:27.452Z"
      },
      {
        "duration": 106,
        "start_time": "2025-04-01T16:55:42.666Z"
      },
      {
        "duration": 657,
        "start_time": "2025-04-01T16:57:30.969Z"
      },
      {
        "duration": 665,
        "start_time": "2025-04-01T16:57:40.856Z"
      },
      {
        "duration": 104,
        "start_time": "2025-04-01T16:57:55.152Z"
      },
      {
        "duration": 515,
        "start_time": "2025-04-01T16:59:37.941Z"
      },
      {
        "duration": 235,
        "start_time": "2025-04-01T17:00:02.070Z"
      },
      {
        "duration": 488,
        "start_time": "2025-04-01T17:01:21.794Z"
      },
      {
        "duration": 601,
        "start_time": "2025-04-01T17:02:19.071Z"
      },
      {
        "duration": 123,
        "start_time": "2025-04-01T17:02:26.887Z"
      },
      {
        "duration": 625,
        "start_time": "2025-04-01T17:03:18.273Z"
      },
      {
        "duration": 149,
        "start_time": "2025-04-01T17:03:27.456Z"
      },
      {
        "duration": 613,
        "start_time": "2025-04-01T17:04:34.904Z"
      },
      {
        "duration": 614,
        "start_time": "2025-04-01T17:04:44.697Z"
      },
      {
        "duration": 107,
        "start_time": "2025-04-01T17:04:54.625Z"
      },
      {
        "duration": 731,
        "start_time": "2025-04-01T17:06:16.802Z"
      },
      {
        "duration": 111,
        "start_time": "2025-04-01T17:06:26.701Z"
      },
      {
        "duration": 16,
        "start_time": "2025-04-01T17:10:33.583Z"
      },
      {
        "duration": 19083,
        "start_time": "2025-04-01T17:11:59.576Z"
      },
      {
        "duration": 1186,
        "start_time": "2025-04-01T17:12:18.661Z"
      },
      {
        "duration": 25,
        "start_time": "2025-04-01T17:12:19.849Z"
      },
      {
        "duration": 57,
        "start_time": "2025-04-01T17:12:19.876Z"
      },
      {
        "duration": 82,
        "start_time": "2025-04-01T17:12:19.936Z"
      },
      {
        "duration": 126,
        "start_time": "2025-04-01T17:12:20.021Z"
      },
      {
        "duration": 663,
        "start_time": "2025-04-01T17:12:20.150Z"
      },
      {
        "duration": 715,
        "start_time": "2025-04-01T17:12:20.815Z"
      },
      {
        "duration": 137,
        "start_time": "2025-04-01T17:12:21.532Z"
      },
      {
        "duration": 599,
        "start_time": "2025-04-01T17:12:21.671Z"
      },
      {
        "duration": 159,
        "start_time": "2025-04-01T17:12:22.272Z"
      },
      {
        "duration": 649,
        "start_time": "2025-04-01T17:12:22.433Z"
      },
      {
        "duration": 114,
        "start_time": "2025-04-01T17:12:23.085Z"
      },
      {
        "duration": 657,
        "start_time": "2025-04-01T17:12:23.208Z"
      },
      {
        "duration": 108,
        "start_time": "2025-04-01T17:12:23.867Z"
      },
      {
        "duration": 488,
        "start_time": "2025-04-01T17:12:23.977Z"
      },
      {
        "duration": 608,
        "start_time": "2025-04-01T17:12:24.467Z"
      },
      {
        "duration": 139,
        "start_time": "2025-04-01T17:12:25.077Z"
      },
      {
        "duration": 611,
        "start_time": "2025-04-01T17:12:25.218Z"
      },
      {
        "duration": 123,
        "start_time": "2025-04-01T17:12:25.831Z"
      },
      {
        "duration": 685,
        "start_time": "2025-04-01T17:12:25.956Z"
      },
      {
        "duration": 249,
        "start_time": "2025-04-01T17:12:26.643Z"
      },
      {
        "duration": 585,
        "start_time": "2025-04-01T17:12:26.894Z"
      },
      {
        "duration": 145,
        "start_time": "2025-04-01T17:12:27.481Z"
      },
      {
        "duration": 493,
        "start_time": "2025-04-01T17:12:27.628Z"
      },
      {
        "duration": 557,
        "start_time": "2025-04-01T17:12:28.124Z"
      },
      {
        "duration": 135,
        "start_time": "2025-04-01T17:12:28.684Z"
      },
      {
        "duration": 601,
        "start_time": "2025-04-01T17:12:28.821Z"
      },
      {
        "duration": 127,
        "start_time": "2025-04-01T17:12:29.424Z"
      },
      {
        "duration": 691,
        "start_time": "2025-04-01T17:12:29.553Z"
      },
      {
        "duration": 136,
        "start_time": "2025-04-01T17:12:30.247Z"
      },
      {
        "duration": 642,
        "start_time": "2025-04-01T17:12:30.385Z"
      },
      {
        "duration": 117,
        "start_time": "2025-04-01T17:12:31.029Z"
      },
      {
        "duration": 167,
        "start_time": "2025-04-01T17:12:31.148Z"
      },
      {
        "duration": 127,
        "start_time": "2025-04-01T17:17:08.600Z"
      },
      {
        "duration": 136,
        "start_time": "2025-04-01T17:17:23.264Z"
      },
      {
        "duration": 19079,
        "start_time": "2025-04-01T17:17:37.008Z"
      },
      {
        "duration": 18226,
        "start_time": "2025-04-01T17:20:24.009Z"
      },
      {
        "duration": 1267,
        "start_time": "2025-04-01T17:20:42.238Z"
      },
      {
        "duration": 26,
        "start_time": "2025-04-01T17:20:43.507Z"
      },
      {
        "duration": 21,
        "start_time": "2025-04-01T17:20:43.536Z"
      },
      {
        "duration": 51,
        "start_time": "2025-04-01T17:20:43.560Z"
      },
      {
        "duration": 124,
        "start_time": "2025-04-01T17:20:43.613Z"
      },
      {
        "duration": 599,
        "start_time": "2025-04-01T17:20:43.739Z"
      },
      {
        "duration": 644,
        "start_time": "2025-04-01T17:20:44.341Z"
      },
      {
        "duration": 127,
        "start_time": "2025-04-01T17:20:44.988Z"
      },
      {
        "duration": 513,
        "start_time": "2025-04-01T17:20:45.120Z"
      },
      {
        "duration": 127,
        "start_time": "2025-04-01T17:20:45.635Z"
      },
      {
        "duration": 571,
        "start_time": "2025-04-01T17:20:45.765Z"
      },
      {
        "duration": 104,
        "start_time": "2025-04-01T17:20:46.339Z"
      },
      {
        "duration": 699,
        "start_time": "2025-04-01T17:20:46.445Z"
      },
      {
        "duration": 110,
        "start_time": "2025-04-01T17:20:47.147Z"
      },
      {
        "duration": 511,
        "start_time": "2025-04-01T17:20:47.259Z"
      },
      {
        "duration": 605,
        "start_time": "2025-04-01T17:20:47.773Z"
      },
      {
        "duration": 125,
        "start_time": "2025-04-01T17:20:48.381Z"
      },
      {
        "duration": 600,
        "start_time": "2025-04-01T17:20:48.508Z"
      },
      {
        "duration": 249,
        "start_time": "2025-04-01T17:20:49.110Z"
      },
      {
        "duration": 722,
        "start_time": "2025-04-01T17:20:49.361Z"
      },
      {
        "duration": 121,
        "start_time": "2025-04-01T17:20:50.085Z"
      },
      {
        "duration": 536,
        "start_time": "2025-04-01T17:20:50.208Z"
      },
      {
        "duration": 104,
        "start_time": "2025-04-01T17:20:50.746Z"
      },
      {
        "duration": 509,
        "start_time": "2025-04-01T17:20:50.851Z"
      },
      {
        "duration": 606,
        "start_time": "2025-04-01T17:20:51.362Z"
      },
      {
        "duration": 121,
        "start_time": "2025-04-01T17:20:51.970Z"
      },
      {
        "duration": 620,
        "start_time": "2025-04-01T17:20:52.104Z"
      },
      {
        "duration": 122,
        "start_time": "2025-04-01T17:20:52.726Z"
      },
      {
        "duration": 662,
        "start_time": "2025-04-01T17:20:52.850Z"
      },
      {
        "duration": 117,
        "start_time": "2025-04-01T17:20:53.515Z"
      },
      {
        "duration": 683,
        "start_time": "2025-04-01T17:20:53.635Z"
      },
      {
        "duration": 111,
        "start_time": "2025-04-01T17:20:54.320Z"
      },
      {
        "duration": 142122,
        "start_time": "2025-04-01T17:20:54.433Z"
      },
      {
        "duration": 1584,
        "start_time": "2025-04-01T17:23:16.559Z"
      },
      {
        "duration": 681,
        "start_time": "2025-04-01T17:25:23.074Z"
      },
      {
        "duration": 163,
        "start_time": "2025-04-01T17:28:10.507Z"
      },
      {
        "duration": 1559,
        "start_time": "2025-04-01T17:28:31.663Z"
      },
      {
        "duration": 3,
        "start_time": "2025-04-01T17:34:56.462Z"
      },
      {
        "duration": 3,
        "start_time": "2025-04-01T17:35:00.815Z"
      },
      {
        "duration": 1672,
        "start_time": "2025-04-01T17:35:45.920Z"
      },
      {
        "duration": 1664,
        "start_time": "2025-04-01T17:35:56.984Z"
      },
      {
        "duration": 3,
        "start_time": "2025-04-01T17:39:59.186Z"
      },
      {
        "duration": 4,
        "start_time": "2025-04-01T17:42:58.703Z"
      },
      {
        "duration": 4,
        "start_time": "2025-04-01T17:46:38.046Z"
      },
      {
        "duration": 15,
        "start_time": "2025-04-01T17:46:38.597Z"
      },
      {
        "duration": 20091,
        "start_time": "2025-04-01T17:47:19.806Z"
      },
      {
        "duration": 13,
        "start_time": "2025-04-01T17:47:39.900Z"
      },
      {
        "duration": 8,
        "start_time": "2025-04-01T17:47:39.916Z"
      },
      {
        "duration": 21,
        "start_time": "2025-04-01T17:47:39.928Z"
      },
      {
        "duration": 0,
        "start_time": "2025-04-01T17:47:39.951Z"
      },
      {
        "duration": 16,
        "start_time": "2025-04-01T17:48:08.246Z"
      },
      {
        "duration": 3,
        "start_time": "2025-04-01T17:49:33.895Z"
      },
      {
        "duration": 3,
        "start_time": "2025-04-01T17:49:43.617Z"
      },
      {
        "duration": 18,
        "start_time": "2025-04-01T17:57:42.703Z"
      },
      {
        "duration": 17,
        "start_time": "2025-04-01T17:59:16.714Z"
      },
      {
        "duration": 14,
        "start_time": "2025-04-01T17:59:43.973Z"
      },
      {
        "duration": 3,
        "start_time": "2025-04-01T17:59:44.901Z"
      },
      {
        "duration": 3,
        "start_time": "2025-04-01T17:59:46.447Z"
      },
      {
        "duration": 3,
        "start_time": "2025-04-01T17:59:47.137Z"
      },
      {
        "duration": 3,
        "start_time": "2025-04-01T17:59:48.963Z"
      },
      {
        "duration": 257,
        "start_time": "2025-04-01T18:01:27.149Z"
      },
      {
        "duration": 15,
        "start_time": "2025-04-01T18:01:30.662Z"
      },
      {
        "duration": 4,
        "start_time": "2025-04-01T18:01:31.365Z"
      },
      {
        "duration": 4,
        "start_time": "2025-04-01T18:01:32.461Z"
      },
      {
        "duration": 4,
        "start_time": "2025-04-01T18:01:33.980Z"
      },
      {
        "duration": 3,
        "start_time": "2025-04-01T18:01:35.422Z"
      },
      {
        "duration": 182,
        "start_time": "2025-04-01T18:01:36.522Z"
      },
      {
        "duration": 76,
        "start_time": "2025-04-01T18:04:12.050Z"
      },
      {
        "duration": 13,
        "start_time": "2025-04-01T18:04:37.360Z"
      },
      {
        "duration": 19,
        "start_time": "2025-04-01T18:06:36.814Z"
      },
      {
        "duration": 108,
        "start_time": "2025-04-01T18:10:31.499Z"
      },
      {
        "duration": 18527,
        "start_time": "2025-04-01T18:11:25.675Z"
      },
      {
        "duration": 300,
        "start_time": "2025-04-01T18:11:44.205Z"
      },
      {
        "duration": 18,
        "start_time": "2025-04-01T18:12:52.086Z"
      },
      {
        "duration": 18,
        "start_time": "2025-04-01T18:16:59.296Z"
      },
      {
        "duration": 17462,
        "start_time": "2025-04-01T18:17:41.680Z"
      },
      {
        "duration": 0,
        "start_time": "2025-04-01T18:18:00.216Z"
      },
      {
        "duration": 946,
        "start_time": "2025-04-01T18:18:12.661Z"
      },
      {
        "duration": 17437,
        "start_time": "2025-04-01T18:19:03.739Z"
      },
      {
        "duration": 934,
        "start_time": "2025-04-01T18:19:21.179Z"
      },
      {
        "duration": 8,
        "start_time": "2025-04-01T18:21:09.470Z"
      },
      {
        "duration": 14,
        "start_time": "2025-04-01T18:40:27.305Z"
      },
      {
        "duration": 32,
        "start_time": "2025-04-01T18:43:43.720Z"
      },
      {
        "duration": 18678,
        "start_time": "2025-04-01T18:44:14.112Z"
      },
      {
        "duration": 1112,
        "start_time": "2025-04-01T18:44:32.794Z"
      },
      {
        "duration": 27,
        "start_time": "2025-04-01T18:44:33.908Z"
      },
      {
        "duration": 21,
        "start_time": "2025-04-01T18:44:33.939Z"
      },
      {
        "duration": 50,
        "start_time": "2025-04-01T18:44:33.962Z"
      },
      {
        "duration": 124,
        "start_time": "2025-04-01T18:44:34.014Z"
      },
      {
        "duration": 615,
        "start_time": "2025-04-01T18:44:34.141Z"
      },
      {
        "duration": 613,
        "start_time": "2025-04-01T18:44:34.759Z"
      },
      {
        "duration": 135,
        "start_time": "2025-04-01T18:44:35.375Z"
      },
      {
        "duration": 526,
        "start_time": "2025-04-01T18:44:35.515Z"
      },
      {
        "duration": 121,
        "start_time": "2025-04-01T18:44:36.043Z"
      },
      {
        "duration": 578,
        "start_time": "2025-04-01T18:44:36.166Z"
      },
      {
        "duration": 123,
        "start_time": "2025-04-01T18:44:36.746Z"
      },
      {
        "duration": 778,
        "start_time": "2025-04-01T18:44:36.871Z"
      },
      {
        "duration": 107,
        "start_time": "2025-04-01T18:44:37.651Z"
      },
      {
        "duration": 461,
        "start_time": "2025-04-01T18:44:37.760Z"
      },
      {
        "duration": 630,
        "start_time": "2025-04-01T18:44:38.224Z"
      },
      {
        "duration": 123,
        "start_time": "2025-04-01T18:44:38.856Z"
      },
      {
        "duration": 735,
        "start_time": "2025-04-01T18:44:38.981Z"
      },
      {
        "duration": 133,
        "start_time": "2025-04-01T18:44:39.718Z"
      },
      {
        "duration": 687,
        "start_time": "2025-04-01T18:44:39.854Z"
      },
      {
        "duration": 115,
        "start_time": "2025-04-01T18:44:40.544Z"
      },
      {
        "duration": 621,
        "start_time": "2025-04-01T18:44:40.661Z"
      },
      {
        "duration": 104,
        "start_time": "2025-04-01T18:44:41.284Z"
      },
      {
        "duration": 524,
        "start_time": "2025-04-01T18:44:41.390Z"
      },
      {
        "duration": 760,
        "start_time": "2025-04-01T18:44:41.917Z"
      },
      {
        "duration": 125,
        "start_time": "2025-04-01T18:44:42.680Z"
      },
      {
        "duration": 637,
        "start_time": "2025-04-01T18:44:42.811Z"
      },
      {
        "duration": 126,
        "start_time": "2025-04-01T18:44:43.450Z"
      },
      {
        "duration": 641,
        "start_time": "2025-04-01T18:44:43.578Z"
      },
      {
        "duration": 117,
        "start_time": "2025-04-01T18:44:44.221Z"
      },
      {
        "duration": 884,
        "start_time": "2025-04-01T18:44:44.341Z"
      },
      {
        "duration": 109,
        "start_time": "2025-04-01T18:44:45.228Z"
      },
      {
        "duration": 1513,
        "start_time": "2025-04-01T18:44:45.339Z"
      },
      {
        "duration": 1692,
        "start_time": "2025-04-01T18:44:46.855Z"
      },
      {
        "duration": 14,
        "start_time": "2025-04-01T18:44:48.549Z"
      },
      {
        "duration": 80,
        "start_time": "2025-04-01T18:44:48.565Z"
      },
      {
        "duration": 4,
        "start_time": "2025-04-01T18:44:48.647Z"
      },
      {
        "duration": 3,
        "start_time": "2025-04-01T18:44:48.653Z"
      },
      {
        "duration": 3,
        "start_time": "2025-04-01T18:44:48.658Z"
      },
      {
        "duration": 1212,
        "start_time": "2025-04-01T18:44:48.663Z"
      },
      {
        "duration": 0,
        "start_time": "2025-04-01T18:44:49.877Z"
      },
      {
        "duration": 0,
        "start_time": "2025-04-01T18:44:49.879Z"
      },
      {
        "duration": 0,
        "start_time": "2025-04-01T18:44:49.880Z"
      },
      {
        "duration": 36563,
        "start_time": "2025-04-02T04:28:24.752Z"
      },
      {
        "duration": 1204,
        "start_time": "2025-04-02T04:29:01.317Z"
      },
      {
        "duration": 26,
        "start_time": "2025-04-02T04:29:02.523Z"
      },
      {
        "duration": 22,
        "start_time": "2025-04-02T04:29:02.551Z"
      },
      {
        "duration": 29,
        "start_time": "2025-04-02T04:29:02.575Z"
      },
      {
        "duration": 159,
        "start_time": "2025-04-02T04:29:02.606Z"
      },
      {
        "duration": 521,
        "start_time": "2025-04-02T04:29:02.767Z"
      },
      {
        "duration": 648,
        "start_time": "2025-04-02T04:29:03.290Z"
      },
      {
        "duration": 229,
        "start_time": "2025-04-02T04:29:03.940Z"
      },
      {
        "duration": 543,
        "start_time": "2025-04-02T04:29:04.171Z"
      },
      {
        "duration": 126,
        "start_time": "2025-04-02T04:29:04.715Z"
      },
      {
        "duration": 579,
        "start_time": "2025-04-02T04:29:04.843Z"
      },
      {
        "duration": 101,
        "start_time": "2025-04-02T04:29:05.423Z"
      },
      {
        "duration": 675,
        "start_time": "2025-04-02T04:29:05.525Z"
      },
      {
        "duration": 130,
        "start_time": "2025-04-02T04:29:06.202Z"
      },
      {
        "duration": 501,
        "start_time": "2025-04-02T04:29:06.333Z"
      },
      {
        "duration": 590,
        "start_time": "2025-04-02T04:29:06.836Z"
      },
      {
        "duration": 146,
        "start_time": "2025-04-02T04:29:07.428Z"
      },
      {
        "duration": 612,
        "start_time": "2025-04-02T04:29:07.575Z"
      },
      {
        "duration": 116,
        "start_time": "2025-04-02T04:29:08.189Z"
      },
      {
        "duration": 785,
        "start_time": "2025-04-02T04:29:08.306Z"
      },
      {
        "duration": 109,
        "start_time": "2025-04-02T04:29:09.093Z"
      },
      {
        "duration": 602,
        "start_time": "2025-04-02T04:29:09.204Z"
      },
      {
        "duration": 109,
        "start_time": "2025-04-02T04:29:09.807Z"
      },
      {
        "duration": 521,
        "start_time": "2025-04-02T04:29:09.918Z"
      },
      {
        "duration": 609,
        "start_time": "2025-04-02T04:29:10.441Z"
      },
      {
        "duration": 128,
        "start_time": "2025-04-02T04:29:11.053Z"
      },
      {
        "duration": 610,
        "start_time": "2025-04-02T04:29:11.186Z"
      },
      {
        "duration": 133,
        "start_time": "2025-04-02T04:29:11.798Z"
      },
      {
        "duration": 677,
        "start_time": "2025-04-02T04:29:11.933Z"
      },
      {
        "duration": 123,
        "start_time": "2025-04-02T04:29:12.612Z"
      },
      {
        "duration": 659,
        "start_time": "2025-04-02T04:29:12.736Z"
      },
      {
        "duration": 251,
        "start_time": "2025-04-02T04:29:13.397Z"
      },
      {
        "duration": 1616,
        "start_time": "2025-04-02T04:29:13.650Z"
      },
      {
        "duration": 1787,
        "start_time": "2025-04-02T04:29:15.269Z"
      },
      {
        "duration": 18,
        "start_time": "2025-04-02T04:29:17.062Z"
      },
      {
        "duration": 49,
        "start_time": "2025-04-02T04:29:17.082Z"
      },
      {
        "duration": 4,
        "start_time": "2025-04-02T04:29:17.133Z"
      },
      {
        "duration": 8,
        "start_time": "2025-04-02T04:29:17.139Z"
      },
      {
        "duration": 18,
        "start_time": "2025-04-02T04:29:17.148Z"
      },
      {
        "duration": 905,
        "start_time": "2025-04-02T04:29:17.168Z"
      },
      {
        "duration": 208,
        "start_time": "2025-04-02T04:29:18.076Z"
      },
      {
        "duration": 15,
        "start_time": "2025-04-02T04:29:18.287Z"
      },
      {
        "duration": 212,
        "start_time": "2025-04-02T04:29:18.304Z"
      },
      {
        "duration": 969,
        "start_time": "2025-04-02T04:30:17.594Z"
      },
      {
        "duration": 974,
        "start_time": "2025-04-02T04:30:43.002Z"
      },
      {
        "duration": 33,
        "start_time": "2025-04-02T04:30:57.135Z"
      },
      {
        "duration": 15,
        "start_time": "2025-04-02T04:32:23.522Z"
      },
      {
        "duration": 19414,
        "start_time": "2025-04-02T04:32:38.903Z"
      },
      {
        "duration": 1040,
        "start_time": "2025-04-02T04:32:58.319Z"
      },
      {
        "duration": 30,
        "start_time": "2025-04-02T04:32:59.361Z"
      },
      {
        "duration": 20,
        "start_time": "2025-04-02T04:32:59.395Z"
      },
      {
        "duration": 51,
        "start_time": "2025-04-02T04:32:59.418Z"
      },
      {
        "duration": 143,
        "start_time": "2025-04-02T04:32:59.471Z"
      },
      {
        "duration": 677,
        "start_time": "2025-04-02T04:32:59.616Z"
      },
      {
        "duration": 643,
        "start_time": "2025-04-02T04:33:00.295Z"
      },
      {
        "duration": 140,
        "start_time": "2025-04-02T04:33:00.940Z"
      },
      {
        "duration": 616,
        "start_time": "2025-04-02T04:33:01.084Z"
      },
      {
        "duration": 131,
        "start_time": "2025-04-02T04:33:01.702Z"
      },
      {
        "duration": 591,
        "start_time": "2025-04-02T04:33:01.835Z"
      },
      {
        "duration": 110,
        "start_time": "2025-04-02T04:33:02.429Z"
      },
      {
        "duration": 666,
        "start_time": "2025-04-02T04:33:02.541Z"
      },
      {
        "duration": 123,
        "start_time": "2025-04-02T04:33:03.210Z"
      },
      {
        "duration": 526,
        "start_time": "2025-04-02T04:33:03.336Z"
      },
      {
        "duration": 585,
        "start_time": "2025-04-02T04:33:03.864Z"
      },
      {
        "duration": 136,
        "start_time": "2025-04-02T04:33:04.451Z"
      },
      {
        "duration": 791,
        "start_time": "2025-04-02T04:33:04.589Z"
      },
      {
        "duration": 124,
        "start_time": "2025-04-02T04:33:05.382Z"
      },
      {
        "duration": 713,
        "start_time": "2025-04-02T04:33:05.509Z"
      },
      {
        "duration": 123,
        "start_time": "2025-04-02T04:33:06.224Z"
      },
      {
        "duration": 601,
        "start_time": "2025-04-02T04:33:06.349Z"
      },
      {
        "duration": 121,
        "start_time": "2025-04-02T04:33:06.953Z"
      },
      {
        "duration": 594,
        "start_time": "2025-04-02T04:33:07.076Z"
      },
      {
        "duration": 686,
        "start_time": "2025-04-02T04:33:07.672Z"
      },
      {
        "duration": 145,
        "start_time": "2025-04-02T04:33:08.362Z"
      },
      {
        "duration": 806,
        "start_time": "2025-04-02T04:33:08.512Z"
      },
      {
        "duration": 131,
        "start_time": "2025-04-02T04:33:09.321Z"
      },
      {
        "duration": 658,
        "start_time": "2025-04-02T04:33:09.454Z"
      },
      {
        "duration": 125,
        "start_time": "2025-04-02T04:33:10.114Z"
      },
      {
        "duration": 740,
        "start_time": "2025-04-02T04:33:10.242Z"
      },
      {
        "duration": 118,
        "start_time": "2025-04-02T04:33:10.984Z"
      },
      {
        "duration": 1563,
        "start_time": "2025-04-02T04:33:11.104Z"
      },
      {
        "duration": 1777,
        "start_time": "2025-04-02T04:33:12.670Z"
      },
      {
        "duration": 28,
        "start_time": "2025-04-02T04:33:14.450Z"
      },
      {
        "duration": 4,
        "start_time": "2025-04-02T04:33:14.481Z"
      },
      {
        "duration": 3,
        "start_time": "2025-04-02T04:33:14.487Z"
      },
      {
        "duration": 6,
        "start_time": "2025-04-02T04:33:14.492Z"
      },
      {
        "duration": 4,
        "start_time": "2025-04-02T04:33:14.500Z"
      },
      {
        "duration": 971,
        "start_time": "2025-04-02T04:33:14.506Z"
      },
      {
        "duration": 130,
        "start_time": "2025-04-02T04:33:15.565Z"
      },
      {
        "duration": 68,
        "start_time": "2025-04-02T04:33:15.698Z"
      },
      {
        "duration": 177,
        "start_time": "2025-04-02T04:33:15.769Z"
      },
      {
        "duration": 11,
        "start_time": "2025-04-02T04:40:23.906Z"
      },
      {
        "duration": 10,
        "start_time": "2025-04-02T04:44:00.352Z"
      },
      {
        "duration": 20,
        "start_time": "2025-04-02T04:47:56.000Z"
      },
      {
        "duration": 20,
        "start_time": "2025-04-02T04:48:05.890Z"
      },
      {
        "duration": 20,
        "start_time": "2025-04-02T04:49:54.748Z"
      },
      {
        "duration": 18,
        "start_time": "2025-04-02T04:56:41.651Z"
      },
      {
        "duration": 18,
        "start_time": "2025-04-02T04:57:34.183Z"
      },
      {
        "duration": 23,
        "start_time": "2025-04-02T04:57:56.014Z"
      },
      {
        "duration": 22,
        "start_time": "2025-04-02T05:03:14.122Z"
      },
      {
        "duration": 20,
        "start_time": "2025-04-02T05:03:16.239Z"
      },
      {
        "duration": 18,
        "start_time": "2025-04-02T05:03:21.163Z"
      },
      {
        "duration": 18,
        "start_time": "2025-04-02T05:11:29.830Z"
      },
      {
        "duration": 9,
        "start_time": "2025-04-02T05:11:47.886Z"
      },
      {
        "duration": 28,
        "start_time": "2025-04-02T05:11:51.931Z"
      },
      {
        "duration": 102,
        "start_time": "2025-04-02T05:11:58.515Z"
      },
      {
        "duration": 17952,
        "start_time": "2025-04-02T05:12:42.089Z"
      },
      {
        "duration": 111,
        "start_time": "2025-04-02T05:13:00.058Z"
      },
      {
        "duration": 354,
        "start_time": "2025-04-02T05:13:00.172Z"
      },
      {
        "duration": 0,
        "start_time": "2025-04-02T05:13:00.528Z"
      },
      {
        "duration": 96,
        "start_time": "2025-04-02T05:13:03.467Z"
      },
      {
        "duration": 3,
        "start_time": "2025-04-02T05:13:12.839Z"
      },
      {
        "duration": 10,
        "start_time": "2025-04-02T05:13:14.048Z"
      },
      {
        "duration": 28,
        "start_time": "2025-04-02T05:13:19.847Z"
      },
      {
        "duration": 111,
        "start_time": "2025-04-02T05:13:21.292Z"
      },
      {
        "duration": 40,
        "start_time": "2025-04-02T05:16:53.788Z"
      },
      {
        "duration": 7033,
        "start_time": "2025-04-02T05:19:25.430Z"
      },
      {
        "duration": 7258,
        "start_time": "2025-04-02T05:26:31.007Z"
      },
      {
        "duration": 30,
        "start_time": "2025-04-02T05:26:42.321Z"
      },
      {
        "duration": 105,
        "start_time": "2025-04-02T05:26:49.314Z"
      },
      {
        "duration": 7585,
        "start_time": "2025-04-02T05:30:33.693Z"
      },
      {
        "duration": 8,
        "start_time": "2025-04-02T05:34:09.430Z"
      },
      {
        "duration": 32,
        "start_time": "2025-04-02T05:34:14.630Z"
      },
      {
        "duration": 17,
        "start_time": "2025-04-02T05:34:23.902Z"
      },
      {
        "duration": 24,
        "start_time": "2025-04-02T05:34:38.115Z"
      },
      {
        "duration": 8,
        "start_time": "2025-04-02T16:51:41.750Z"
      },
      {
        "duration": 36293,
        "start_time": "2025-04-02T16:52:01.103Z"
      },
      {
        "duration": 1456,
        "start_time": "2025-04-02T16:52:37.398Z"
      },
      {
        "duration": 25,
        "start_time": "2025-04-02T16:52:38.855Z"
      },
      {
        "duration": 43,
        "start_time": "2025-04-02T16:52:38.882Z"
      },
      {
        "duration": 20,
        "start_time": "2025-04-02T16:52:38.927Z"
      },
      {
        "duration": 129,
        "start_time": "2025-04-02T16:52:38.948Z"
      },
      {
        "duration": 553,
        "start_time": "2025-04-02T16:52:39.078Z"
      },
      {
        "duration": 712,
        "start_time": "2025-04-02T16:52:39.633Z"
      },
      {
        "duration": 235,
        "start_time": "2025-04-02T16:52:40.348Z"
      },
      {
        "duration": 590,
        "start_time": "2025-04-02T16:52:40.587Z"
      },
      {
        "duration": 136,
        "start_time": "2025-04-02T16:52:41.179Z"
      },
      {
        "duration": 569,
        "start_time": "2025-04-02T16:52:41.317Z"
      },
      {
        "duration": 109,
        "start_time": "2025-04-02T16:52:41.888Z"
      },
      {
        "duration": 679,
        "start_time": "2025-04-02T16:52:41.998Z"
      },
      {
        "duration": 117,
        "start_time": "2025-04-02T16:52:42.678Z"
      },
      {
        "duration": 511,
        "start_time": "2025-04-02T16:52:42.797Z"
      },
      {
        "duration": 677,
        "start_time": "2025-04-02T16:52:43.310Z"
      },
      {
        "duration": 131,
        "start_time": "2025-04-02T16:52:43.988Z"
      },
      {
        "duration": 641,
        "start_time": "2025-04-02T16:52:44.121Z"
      },
      {
        "duration": 121,
        "start_time": "2025-04-02T16:52:44.763Z"
      },
      {
        "duration": 795,
        "start_time": "2025-04-02T16:52:44.885Z"
      },
      {
        "duration": 125,
        "start_time": "2025-04-02T16:52:45.682Z"
      },
      {
        "duration": 623,
        "start_time": "2025-04-02T16:52:45.809Z"
      },
      {
        "duration": 110,
        "start_time": "2025-04-02T16:52:46.434Z"
      },
      {
        "duration": 568,
        "start_time": "2025-04-02T16:52:46.546Z"
      },
      {
        "duration": 610,
        "start_time": "2025-04-02T16:52:47.115Z"
      },
      {
        "duration": 153,
        "start_time": "2025-04-02T16:52:47.728Z"
      },
      {
        "duration": 680,
        "start_time": "2025-04-02T16:52:47.885Z"
      },
      {
        "duration": 132,
        "start_time": "2025-04-02T16:52:48.566Z"
      },
      {
        "duration": 676,
        "start_time": "2025-04-02T16:52:48.700Z"
      },
      {
        "duration": 131,
        "start_time": "2025-04-02T16:52:49.377Z"
      },
      {
        "duration": 652,
        "start_time": "2025-04-02T16:52:49.509Z"
      },
      {
        "duration": 239,
        "start_time": "2025-04-02T16:52:50.162Z"
      },
      {
        "duration": 1578,
        "start_time": "2025-04-02T16:52:50.407Z"
      },
      {
        "duration": 1777,
        "start_time": "2025-04-02T16:52:51.987Z"
      },
      {
        "duration": 19,
        "start_time": "2025-04-02T16:52:53.765Z"
      },
      {
        "duration": 36,
        "start_time": "2025-04-02T16:52:53.786Z"
      },
      {
        "duration": 21,
        "start_time": "2025-04-02T16:52:53.824Z"
      },
      {
        "duration": 79,
        "start_time": "2025-04-02T16:52:53.847Z"
      },
      {
        "duration": 392,
        "start_time": "2025-04-02T16:56:22.995Z"
      },
      {
        "duration": 96,
        "start_time": "2025-04-02T17:01:07.013Z"
      },
      {
        "duration": 15,
        "start_time": "2025-04-02T17:03:12.662Z"
      },
      {
        "duration": 23,
        "start_time": "2025-04-02T17:05:24.408Z"
      },
      {
        "duration": 22,
        "start_time": "2025-04-02T17:05:59.892Z"
      },
      {
        "duration": 22,
        "start_time": "2025-04-02T17:06:19.517Z"
      },
      {
        "duration": 19,
        "start_time": "2025-04-02T17:06:48.249Z"
      },
      {
        "duration": 1031,
        "start_time": "2025-04-02T17:23:28.004Z"
      },
      {
        "duration": 6,
        "start_time": "2025-04-02T17:24:19.129Z"
      },
      {
        "duration": 6,
        "start_time": "2025-04-02T17:24:38.637Z"
      },
      {
        "duration": 994,
        "start_time": "2025-04-02T17:25:45.561Z"
      },
      {
        "duration": 1057,
        "start_time": "2025-04-02T17:27:29.543Z"
      },
      {
        "duration": 130,
        "start_time": "2025-04-02T17:42:05.375Z"
      },
      {
        "duration": 362,
        "start_time": "2025-04-02T17:42:16.159Z"
      },
      {
        "duration": 364,
        "start_time": "2025-04-02T17:43:29.848Z"
      },
      {
        "duration": 8,
        "start_time": "2025-04-02T17:45:09.435Z"
      },
      {
        "duration": 335,
        "start_time": "2025-04-02T17:45:36.978Z"
      },
      {
        "duration": 416,
        "start_time": "2025-04-02T17:46:46.698Z"
      },
      {
        "duration": 262,
        "start_time": "2025-04-02T17:49:02.320Z"
      },
      {
        "duration": 430,
        "start_time": "2025-04-02T17:49:41.600Z"
      },
      {
        "duration": 366,
        "start_time": "2025-04-02T17:50:06.864Z"
      },
      {
        "duration": 433,
        "start_time": "2025-04-02T17:50:31.978Z"
      },
      {
        "duration": 100549,
        "start_time": "2025-04-03T11:44:21.955Z"
      },
      {
        "duration": 1207,
        "start_time": "2025-04-03T11:46:02.506Z"
      },
      {
        "duration": 28,
        "start_time": "2025-04-03T11:46:03.714Z"
      },
      {
        "duration": 91,
        "start_time": "2025-04-03T11:46:03.744Z"
      },
      {
        "duration": 38,
        "start_time": "2025-04-03T11:46:03.839Z"
      },
      {
        "duration": 123,
        "start_time": "2025-04-03T11:46:03.879Z"
      },
      {
        "duration": 533,
        "start_time": "2025-04-03T11:46:04.004Z"
      },
      {
        "duration": 639,
        "start_time": "2025-04-03T11:46:04.539Z"
      },
      {
        "duration": 230,
        "start_time": "2025-04-03T11:46:05.180Z"
      },
      {
        "duration": 705,
        "start_time": "2025-04-03T11:46:05.411Z"
      },
      {
        "duration": 229,
        "start_time": "2025-04-03T11:46:06.118Z"
      },
      {
        "duration": 1016,
        "start_time": "2025-04-03T11:46:06.405Z"
      },
      {
        "duration": 147,
        "start_time": "2025-04-03T11:46:07.422Z"
      },
      {
        "duration": 671,
        "start_time": "2025-04-03T11:46:07.573Z"
      },
      {
        "duration": 117,
        "start_time": "2025-04-03T11:46:08.247Z"
      },
      {
        "duration": 518,
        "start_time": "2025-04-03T11:46:08.366Z"
      },
      {
        "duration": 598,
        "start_time": "2025-04-03T11:46:08.886Z"
      },
      {
        "duration": 137,
        "start_time": "2025-04-03T11:46:09.486Z"
      },
      {
        "duration": 697,
        "start_time": "2025-04-03T11:46:09.625Z"
      },
      {
        "duration": 117,
        "start_time": "2025-04-03T11:46:10.324Z"
      },
      {
        "duration": 796,
        "start_time": "2025-04-03T11:46:10.443Z"
      },
      {
        "duration": 109,
        "start_time": "2025-04-03T11:46:11.242Z"
      },
      {
        "duration": 592,
        "start_time": "2025-04-03T11:46:11.353Z"
      },
      {
        "duration": 110,
        "start_time": "2025-04-03T11:46:11.948Z"
      },
      {
        "duration": 518,
        "start_time": "2025-04-03T11:46:12.060Z"
      },
      {
        "duration": 604,
        "start_time": "2025-04-03T11:46:12.580Z"
      },
      {
        "duration": 129,
        "start_time": "2025-04-03T11:46:13.186Z"
      },
      {
        "duration": 620,
        "start_time": "2025-04-03T11:46:13.317Z"
      },
      {
        "duration": 128,
        "start_time": "2025-04-03T11:46:13.940Z"
      },
      {
        "duration": 671,
        "start_time": "2025-04-03T11:46:14.070Z"
      },
      {
        "duration": 119,
        "start_time": "2025-04-03T11:46:14.742Z"
      },
      {
        "duration": 658,
        "start_time": "2025-04-03T11:46:14.862Z"
      },
      {
        "duration": 243,
        "start_time": "2025-04-03T11:46:15.522Z"
      },
      {
        "duration": 1598,
        "start_time": "2025-04-03T11:46:15.767Z"
      },
      {
        "duration": 1782,
        "start_time": "2025-04-03T11:46:17.367Z"
      },
      {
        "duration": 462,
        "start_time": "2025-04-03T11:46:19.151Z"
      },
      {
        "duration": 365,
        "start_time": "2025-04-03T11:46:19.705Z"
      },
      {
        "duration": 3,
        "start_time": "2025-04-03T11:46:20.072Z"
      },
      {
        "duration": 39,
        "start_time": "2025-04-03T11:46:20.076Z"
      },
      {
        "duration": 27,
        "start_time": "2025-04-03T11:53:23.291Z"
      },
      {
        "duration": 25,
        "start_time": "2025-04-03T11:53:47.346Z"
      },
      {
        "duration": 25,
        "start_time": "2025-04-03T11:53:55.026Z"
      },
      {
        "duration": 25,
        "start_time": "2025-04-03T11:56:01.930Z"
      },
      {
        "duration": 24,
        "start_time": "2025-04-03T11:56:13.786Z"
      },
      {
        "duration": 24,
        "start_time": "2025-04-03T11:56:23.945Z"
      },
      {
        "duration": 24,
        "start_time": "2025-04-03T11:56:50.233Z"
      },
      {
        "duration": 25,
        "start_time": "2025-04-03T11:57:04.562Z"
      },
      {
        "duration": 3,
        "start_time": "2025-04-03T12:07:15.353Z"
      },
      {
        "duration": 161,
        "start_time": "2025-04-03T12:09:47.558Z"
      },
      {
        "duration": 18585,
        "start_time": "2025-04-03T12:10:32.622Z"
      },
      {
        "duration": 45,
        "start_time": "2025-04-03T12:10:51.209Z"
      },
      {
        "duration": 33,
        "start_time": "2025-04-03T12:12:13.637Z"
      },
      {
        "duration": 17,
        "start_time": "2025-04-03T12:17:03.840Z"
      },
      {
        "duration": 24,
        "start_time": "2025-04-03T12:19:02.632Z"
      },
      {
        "duration": 18087,
        "start_time": "2025-04-03T12:25:24.325Z"
      },
      {
        "duration": 4,
        "start_time": "2025-04-03T12:26:11.555Z"
      },
      {
        "duration": 40,
        "start_time": "2025-04-03T12:26:13.231Z"
      },
      {
        "duration": 33,
        "start_time": "2025-04-03T12:31:48.068Z"
      },
      {
        "duration": 32,
        "start_time": "2025-04-03T12:32:08.482Z"
      },
      {
        "duration": 3,
        "start_time": "2025-04-03T12:35:22.153Z"
      },
      {
        "duration": 31,
        "start_time": "2025-04-03T12:35:24.503Z"
      },
      {
        "duration": 5,
        "start_time": "2025-04-03T13:17:19.116Z"
      },
      {
        "duration": 13,
        "start_time": "2025-04-03T13:18:06.092Z"
      },
      {
        "duration": 1316,
        "start_time": "2025-04-03T13:18:24.610Z"
      },
      {
        "duration": 1037,
        "start_time": "2025-04-03T13:19:22.332Z"
      },
      {
        "duration": 24,
        "start_time": "2025-04-03T13:29:57.068Z"
      },
      {
        "duration": 12,
        "start_time": "2025-04-03T13:30:09.650Z"
      },
      {
        "duration": 11,
        "start_time": "2025-04-03T13:32:14.466Z"
      },
      {
        "duration": 19422,
        "start_time": "2025-04-03T13:32:34.504Z"
      },
      {
        "duration": 1252,
        "start_time": "2025-04-03T13:32:53.929Z"
      },
      {
        "duration": 43,
        "start_time": "2025-04-03T13:32:55.184Z"
      },
      {
        "duration": 71,
        "start_time": "2025-04-03T13:32:55.230Z"
      },
      {
        "duration": 22,
        "start_time": "2025-04-03T13:32:55.304Z"
      },
      {
        "duration": 140,
        "start_time": "2025-04-03T13:32:55.329Z"
      },
      {
        "duration": 753,
        "start_time": "2025-04-03T13:32:55.471Z"
      },
      {
        "duration": 710,
        "start_time": "2025-04-03T13:32:56.228Z"
      },
      {
        "duration": 144,
        "start_time": "2025-04-03T13:32:56.941Z"
      },
      {
        "duration": 616,
        "start_time": "2025-04-03T13:32:57.088Z"
      },
      {
        "duration": 138,
        "start_time": "2025-04-03T13:32:57.707Z"
      },
      {
        "duration": 701,
        "start_time": "2025-04-03T13:32:57.847Z"
      },
      {
        "duration": 123,
        "start_time": "2025-04-03T13:32:58.550Z"
      },
      {
        "duration": 650,
        "start_time": "2025-04-03T13:32:58.675Z"
      },
      {
        "duration": 117,
        "start_time": "2025-04-03T13:32:59.328Z"
      },
      {
        "duration": 518,
        "start_time": "2025-04-03T13:32:59.447Z"
      },
      {
        "duration": 610,
        "start_time": "2025-04-03T13:32:59.967Z"
      },
      {
        "duration": 146,
        "start_time": "2025-04-03T13:33:00.579Z"
      },
      {
        "duration": 706,
        "start_time": "2025-04-03T13:33:00.728Z"
      },
      {
        "duration": 131,
        "start_time": "2025-04-03T13:33:01.437Z"
      },
      {
        "duration": 1253,
        "start_time": "2025-04-03T13:33:01.571Z"
      },
      {
        "duration": 585,
        "start_time": "2025-04-03T13:33:02.826Z"
      },
      {
        "duration": 793,
        "start_time": "2025-04-03T13:33:03.413Z"
      },
      {
        "duration": 118,
        "start_time": "2025-04-03T13:33:04.209Z"
      },
      {
        "duration": 528,
        "start_time": "2025-04-03T13:33:04.329Z"
      },
      {
        "duration": 644,
        "start_time": "2025-04-03T13:33:04.860Z"
      },
      {
        "duration": 138,
        "start_time": "2025-04-03T13:33:05.507Z"
      },
      {
        "duration": 682,
        "start_time": "2025-04-03T13:33:05.650Z"
      },
      {
        "duration": 131,
        "start_time": "2025-04-03T13:33:06.335Z"
      },
      {
        "duration": 671,
        "start_time": "2025-04-03T13:33:06.467Z"
      },
      {
        "duration": 124,
        "start_time": "2025-04-03T13:33:07.141Z"
      },
      {
        "duration": 703,
        "start_time": "2025-04-03T13:33:07.267Z"
      },
      {
        "duration": 117,
        "start_time": "2025-04-03T13:33:07.972Z"
      },
      {
        "duration": 1567,
        "start_time": "2025-04-03T13:33:08.091Z"
      },
      {
        "duration": 2033,
        "start_time": "2025-04-03T13:33:09.661Z"
      },
      {
        "duration": 710,
        "start_time": "2025-04-03T13:33:11.696Z"
      },
      {
        "duration": 22,
        "start_time": "2025-04-03T13:33:12.408Z"
      },
      {
        "duration": 257,
        "start_time": "2025-04-03T13:33:12.431Z"
      },
      {
        "duration": 16,
        "start_time": "2025-04-03T13:33:12.691Z"
      },
      {
        "duration": 162,
        "start_time": "2025-04-03T13:33:12.709Z"
      },
      {
        "duration": 0,
        "start_time": "2025-04-03T13:33:12.873Z"
      },
      {
        "duration": 0,
        "start_time": "2025-04-03T13:33:12.874Z"
      },
      {
        "duration": 0,
        "start_time": "2025-04-03T13:33:12.876Z"
      },
      {
        "duration": 0,
        "start_time": "2025-04-03T13:33:12.878Z"
      },
      {
        "duration": 0,
        "start_time": "2025-04-03T13:33:12.880Z"
      },
      {
        "duration": 26,
        "start_time": "2025-04-03T13:33:34.397Z"
      },
      {
        "duration": 4,
        "start_time": "2025-04-03T13:33:41.142Z"
      },
      {
        "duration": 5,
        "start_time": "2025-04-03T13:33:42.021Z"
      },
      {
        "duration": 972,
        "start_time": "2025-04-03T13:33:45.669Z"
      },
      {
        "duration": 19,
        "start_time": "2025-04-03T13:34:45.758Z"
      },
      {
        "duration": 5,
        "start_time": "2025-04-03T13:35:38.844Z"
      },
      {
        "duration": 22,
        "start_time": "2025-04-03T13:35:40.149Z"
      },
      {
        "duration": 5,
        "start_time": "2025-04-03T13:36:40.052Z"
      },
      {
        "duration": 4,
        "start_time": "2025-04-03T13:36:44.123Z"
      },
      {
        "duration": 7,
        "start_time": "2025-04-03T13:36:44.612Z"
      },
      {
        "duration": 19,
        "start_time": "2025-04-03T13:36:45.284Z"
      },
      {
        "duration": 4,
        "start_time": "2025-04-03T13:39:34.180Z"
      },
      {
        "duration": 7,
        "start_time": "2025-04-03T13:39:36.628Z"
      },
      {
        "duration": 6,
        "start_time": "2025-04-03T13:40:52.115Z"
      },
      {
        "duration": 6,
        "start_time": "2025-04-03T13:40:52.900Z"
      },
      {
        "duration": 1235,
        "start_time": "2025-04-03T13:40:54.572Z"
      },
      {
        "duration": 1297,
        "start_time": "2025-04-03T13:43:48.922Z"
      },
      {
        "duration": 1246,
        "start_time": "2025-04-03T13:43:51.132Z"
      },
      {
        "duration": 1336,
        "start_time": "2025-04-03T13:43:54.187Z"
      },
      {
        "duration": 1252,
        "start_time": "2025-04-03T13:45:13.169Z"
      },
      {
        "duration": 1245,
        "start_time": "2025-04-03T13:45:30.290Z"
      },
      {
        "duration": 85,
        "start_time": "2025-04-03T13:46:05.124Z"
      },
      {
        "duration": 241,
        "start_time": "2025-04-03T13:49:37.478Z"
      },
      {
        "duration": 9,
        "start_time": "2025-04-03T16:27:21.683Z"
      },
      {
        "duration": 36850,
        "start_time": "2025-04-03T16:28:07.800Z"
      },
      {
        "duration": 1317,
        "start_time": "2025-04-03T16:28:44.652Z"
      },
      {
        "duration": 25,
        "start_time": "2025-04-03T16:28:45.971Z"
      },
      {
        "duration": 52,
        "start_time": "2025-04-03T16:28:45.997Z"
      },
      {
        "duration": 19,
        "start_time": "2025-04-03T16:28:46.050Z"
      },
      {
        "duration": 112,
        "start_time": "2025-04-03T16:28:46.071Z"
      },
      {
        "duration": 529,
        "start_time": "2025-04-03T16:28:46.184Z"
      },
      {
        "duration": 729,
        "start_time": "2025-04-03T16:28:46.715Z"
      },
      {
        "duration": 214,
        "start_time": "2025-04-03T16:28:47.446Z"
      },
      {
        "duration": 553,
        "start_time": "2025-04-03T16:28:47.662Z"
      },
      {
        "duration": 120,
        "start_time": "2025-04-03T16:28:48.217Z"
      },
      {
        "duration": 584,
        "start_time": "2025-04-03T16:28:48.339Z"
      },
      {
        "duration": 108,
        "start_time": "2025-04-03T16:28:48.925Z"
      },
      {
        "duration": 669,
        "start_time": "2025-04-03T16:28:49.035Z"
      },
      {
        "duration": 116,
        "start_time": "2025-04-03T16:28:49.705Z"
      },
      {
        "duration": 507,
        "start_time": "2025-04-03T16:28:49.822Z"
      },
      {
        "duration": 616,
        "start_time": "2025-04-03T16:28:50.330Z"
      },
      {
        "duration": 129,
        "start_time": "2025-04-03T16:28:50.948Z"
      },
      {
        "duration": 610,
        "start_time": "2025-04-03T16:28:51.078Z"
      },
      {
        "duration": 120,
        "start_time": "2025-04-03T16:28:51.689Z"
      },
      {
        "duration": 783,
        "start_time": "2025-04-03T16:28:51.811Z"
      },
      {
        "duration": 110,
        "start_time": "2025-04-03T16:28:52.596Z"
      },
      {
        "duration": 609,
        "start_time": "2025-04-03T16:28:52.708Z"
      },
      {
        "duration": 114,
        "start_time": "2025-04-03T16:28:53.319Z"
      },
      {
        "duration": 510,
        "start_time": "2025-04-03T16:28:53.435Z"
      },
      {
        "duration": 648,
        "start_time": "2025-04-03T16:28:53.947Z"
      },
      {
        "duration": 143,
        "start_time": "2025-04-03T16:28:54.596Z"
      },
      {
        "duration": 673,
        "start_time": "2025-04-03T16:28:54.743Z"
      },
      {
        "duration": 122,
        "start_time": "2025-04-03T16:28:55.417Z"
      },
      {
        "duration": 657,
        "start_time": "2025-04-03T16:28:55.541Z"
      },
      {
        "duration": 114,
        "start_time": "2025-04-03T16:28:56.200Z"
      },
      {
        "duration": 703,
        "start_time": "2025-04-03T16:28:56.316Z"
      },
      {
        "duration": 228,
        "start_time": "2025-04-03T16:28:57.021Z"
      },
      {
        "duration": 1479,
        "start_time": "2025-04-03T16:28:57.251Z"
      },
      {
        "duration": 1699,
        "start_time": "2025-04-03T16:28:58.732Z"
      },
      {
        "duration": 645,
        "start_time": "2025-04-03T16:29:00.433Z"
      },
      {
        "duration": 21,
        "start_time": "2025-04-03T16:29:01.079Z"
      },
      {
        "duration": 248,
        "start_time": "2025-04-03T16:29:01.102Z"
      },
      {
        "duration": 3,
        "start_time": "2025-04-03T16:29:01.352Z"
      },
      {
        "duration": 23,
        "start_time": "2025-04-03T16:29:01.377Z"
      },
      {
        "duration": 83,
        "start_time": "2025-04-03T16:29:01.402Z"
      },
      {
        "duration": 0,
        "start_time": "2025-04-03T16:29:01.487Z"
      },
      {
        "duration": 0,
        "start_time": "2025-04-03T16:29:01.488Z"
      },
      {
        "duration": 0,
        "start_time": "2025-04-03T16:29:01.489Z"
      },
      {
        "duration": 0,
        "start_time": "2025-04-03T16:29:01.491Z"
      },
      {
        "duration": 1,
        "start_time": "2025-04-03T16:29:01.492Z"
      },
      {
        "duration": 0,
        "start_time": "2025-04-03T16:29:01.494Z"
      },
      {
        "duration": 0,
        "start_time": "2025-04-03T16:29:01.495Z"
      },
      {
        "duration": 4,
        "start_time": "2025-04-03T16:29:40.194Z"
      },
      {
        "duration": 149,
        "start_time": "2025-04-03T16:30:22.957Z"
      },
      {
        "duration": 31,
        "start_time": "2025-04-03T16:33:45.971Z"
      },
      {
        "duration": 5,
        "start_time": "2025-04-03T16:35:40.695Z"
      },
      {
        "duration": 5,
        "start_time": "2025-04-03T16:35:47.276Z"
      },
      {
        "duration": 29,
        "start_time": "2025-04-03T16:35:50.608Z"
      },
      {
        "duration": 8,
        "start_time": "2025-04-03T16:44:10.553Z"
      },
      {
        "duration": 2052,
        "start_time": "2025-04-03T16:45:27.213Z"
      },
      {
        "duration": 8,
        "start_time": "2025-04-03T16:46:21.454Z"
      },
      {
        "duration": 8,
        "start_time": "2025-04-03T16:47:10.053Z"
      },
      {
        "duration": 9,
        "start_time": "2025-04-03T16:48:16.970Z"
      },
      {
        "duration": 1939,
        "start_time": "2025-04-03T16:48:21.990Z"
      },
      {
        "duration": 135,
        "start_time": "2025-04-03T16:51:36.175Z"
      },
      {
        "duration": 2280,
        "start_time": "2025-04-03T16:51:38.031Z"
      },
      {
        "duration": 2408,
        "start_time": "2025-04-03T16:55:12.877Z"
      },
      {
        "duration": 4,
        "start_time": "2025-04-03T16:56:06.918Z"
      },
      {
        "duration": 28,
        "start_time": "2025-04-03T16:56:08.566Z"
      },
      {
        "duration": 11,
        "start_time": "2025-04-03T16:56:09.630Z"
      },
      {
        "duration": 2480,
        "start_time": "2025-04-03T16:56:10.406Z"
      },
      {
        "duration": 12,
        "start_time": "2025-04-03T17:00:01.704Z"
      },
      {
        "duration": 2244,
        "start_time": "2025-04-03T17:00:03.745Z"
      },
      {
        "duration": 5,
        "start_time": "2025-04-03T17:01:12.231Z"
      },
      {
        "duration": 5,
        "start_time": "2025-04-03T17:01:37.770Z"
      },
      {
        "duration": 2461,
        "start_time": "2025-04-03T17:01:39.277Z"
      },
      {
        "duration": 9,
        "start_time": "2025-04-03T17:03:19.985Z"
      },
      {
        "duration": 12,
        "start_time": "2025-04-03T17:03:21.869Z"
      },
      {
        "duration": 9,
        "start_time": "2025-04-03T17:04:19.481Z"
      },
      {
        "duration": 1002,
        "start_time": "2025-04-03T17:04:20.893Z"
      },
      {
        "duration": 13,
        "start_time": "2025-04-03T17:05:33.914Z"
      },
      {
        "duration": 1012,
        "start_time": "2025-04-03T17:05:36.189Z"
      },
      {
        "duration": 957,
        "start_time": "2025-04-03T17:05:54.202Z"
      },
      {
        "duration": 19465,
        "start_time": "2025-04-03T17:06:23.411Z"
      },
      {
        "duration": 1216,
        "start_time": "2025-04-03T17:06:42.879Z"
      },
      {
        "duration": 27,
        "start_time": "2025-04-03T17:06:44.098Z"
      },
      {
        "duration": 21,
        "start_time": "2025-04-03T17:06:44.128Z"
      },
      {
        "duration": 42,
        "start_time": "2025-04-03T17:06:44.152Z"
      },
      {
        "duration": 132,
        "start_time": "2025-04-03T17:06:44.197Z"
      },
      {
        "duration": 675,
        "start_time": "2025-04-03T17:06:44.331Z"
      },
      {
        "duration": 673,
        "start_time": "2025-04-03T17:06:45.008Z"
      },
      {
        "duration": 130,
        "start_time": "2025-04-03T17:06:45.684Z"
      },
      {
        "duration": 619,
        "start_time": "2025-04-03T17:06:45.819Z"
      },
      {
        "duration": 130,
        "start_time": "2025-04-03T17:06:46.440Z"
      },
      {
        "duration": 582,
        "start_time": "2025-04-03T17:06:46.576Z"
      },
      {
        "duration": 121,
        "start_time": "2025-04-03T17:06:47.161Z"
      },
      {
        "duration": 631,
        "start_time": "2025-04-03T17:06:47.284Z"
      },
      {
        "duration": 117,
        "start_time": "2025-04-03T17:06:47.917Z"
      },
      {
        "duration": 534,
        "start_time": "2025-04-03T17:06:48.036Z"
      },
      {
        "duration": 692,
        "start_time": "2025-04-03T17:06:48.572Z"
      },
      {
        "duration": 132,
        "start_time": "2025-04-03T17:06:49.267Z"
      },
      {
        "duration": 711,
        "start_time": "2025-04-03T17:06:49.401Z"
      },
      {
        "duration": 128,
        "start_time": "2025-04-03T17:06:50.115Z"
      },
      {
        "duration": 690,
        "start_time": "2025-04-03T17:06:50.245Z"
      },
      {
        "duration": 252,
        "start_time": "2025-04-03T17:06:50.938Z"
      },
      {
        "duration": 646,
        "start_time": "2025-04-03T17:06:51.193Z"
      },
      {
        "duration": 137,
        "start_time": "2025-04-03T17:06:51.841Z"
      },
      {
        "duration": 561,
        "start_time": "2025-04-03T17:06:51.981Z"
      },
      {
        "duration": 605,
        "start_time": "2025-04-03T17:06:52.545Z"
      },
      {
        "duration": 133,
        "start_time": "2025-04-03T17:06:53.152Z"
      },
      {
        "duration": 627,
        "start_time": "2025-04-03T17:06:53.290Z"
      },
      {
        "duration": 137,
        "start_time": "2025-04-03T17:06:53.919Z"
      },
      {
        "duration": 749,
        "start_time": "2025-04-03T17:06:54.058Z"
      },
      {
        "duration": 150,
        "start_time": "2025-04-03T17:06:54.808Z"
      },
      {
        "duration": 641,
        "start_time": "2025-04-03T17:06:54.961Z"
      },
      {
        "duration": 118,
        "start_time": "2025-04-03T17:06:55.605Z"
      },
      {
        "duration": 1581,
        "start_time": "2025-04-03T17:06:55.726Z"
      },
      {
        "duration": 1925,
        "start_time": "2025-04-03T17:06:57.310Z"
      },
      {
        "duration": 642,
        "start_time": "2025-04-03T17:06:59.237Z"
      },
      {
        "duration": 22,
        "start_time": "2025-04-03T17:06:59.882Z"
      },
      {
        "duration": 328,
        "start_time": "2025-04-03T17:06:59.906Z"
      },
      {
        "duration": 4,
        "start_time": "2025-04-03T17:07:00.236Z"
      },
      {
        "duration": 169,
        "start_time": "2025-04-03T17:07:00.242Z"
      },
      {
        "duration": 37,
        "start_time": "2025-04-03T17:07:00.414Z"
      },
      {
        "duration": 46,
        "start_time": "2025-04-03T17:07:00.454Z"
      },
      {
        "duration": 102,
        "start_time": "2025-04-03T17:07:00.502Z"
      },
      {
        "duration": 134,
        "start_time": "2025-04-03T17:07:00.607Z"
      },
      {
        "duration": 978,
        "start_time": "2025-04-03T17:07:00.743Z"
      },
      {
        "duration": 4,
        "start_time": "2025-04-03T17:07:01.723Z"
      },
      {
        "duration": 30,
        "start_time": "2025-04-03T17:07:01.728Z"
      },
      {
        "duration": 260,
        "start_time": "2025-04-03T17:07:01.760Z"
      },
      {
        "duration": 0,
        "start_time": "2025-04-03T17:07:02.023Z"
      },
      {
        "duration": 0,
        "start_time": "2025-04-03T17:07:02.025Z"
      },
      {
        "duration": 10,
        "start_time": "2025-04-03T17:16:07.245Z"
      },
      {
        "duration": 1366,
        "start_time": "2025-04-03T17:16:25.581Z"
      },
      {
        "duration": 11,
        "start_time": "2025-04-03T17:20:43.655Z"
      },
      {
        "duration": 1949,
        "start_time": "2025-04-03T17:20:46.456Z"
      },
      {
        "duration": 9,
        "start_time": "2025-04-03T17:21:50.446Z"
      },
      {
        "duration": 20903,
        "start_time": "2025-04-03T17:22:07.959Z"
      },
      {
        "duration": 1220,
        "start_time": "2025-04-03T17:22:28.864Z"
      },
      {
        "duration": 35,
        "start_time": "2025-04-03T17:22:30.093Z"
      },
      {
        "duration": 22,
        "start_time": "2025-04-03T17:22:30.130Z"
      },
      {
        "duration": 133,
        "start_time": "2025-04-03T17:22:30.154Z"
      },
      {
        "duration": 167,
        "start_time": "2025-04-03T17:22:30.291Z"
      },
      {
        "duration": 737,
        "start_time": "2025-04-03T17:22:30.459Z"
      },
      {
        "duration": 850,
        "start_time": "2025-04-03T17:22:31.199Z"
      },
      {
        "duration": 176,
        "start_time": "2025-04-03T17:22:32.053Z"
      },
      {
        "duration": 666,
        "start_time": "2025-04-03T17:22:32.233Z"
      },
      {
        "duration": 137,
        "start_time": "2025-04-03T17:22:32.902Z"
      },
      {
        "duration": 672,
        "start_time": "2025-04-03T17:22:33.042Z"
      },
      {
        "duration": 137,
        "start_time": "2025-04-03T17:22:33.716Z"
      },
      {
        "duration": 708,
        "start_time": "2025-04-03T17:22:33.855Z"
      },
      {
        "duration": 133,
        "start_time": "2025-04-03T17:22:34.565Z"
      },
      {
        "duration": 559,
        "start_time": "2025-04-03T17:22:34.701Z"
      },
      {
        "duration": 650,
        "start_time": "2025-04-03T17:22:35.262Z"
      },
      {
        "duration": 145,
        "start_time": "2025-04-03T17:22:35.916Z"
      },
      {
        "duration": 713,
        "start_time": "2025-04-03T17:22:36.063Z"
      },
      {
        "duration": 155,
        "start_time": "2025-04-03T17:22:36.780Z"
      },
      {
        "duration": 729,
        "start_time": "2025-04-03T17:22:36.937Z"
      },
      {
        "duration": 277,
        "start_time": "2025-04-03T17:22:37.668Z"
      },
      {
        "duration": 644,
        "start_time": "2025-04-03T17:22:37.947Z"
      },
      {
        "duration": 122,
        "start_time": "2025-04-03T17:22:38.595Z"
      },
      {
        "duration": 519,
        "start_time": "2025-04-03T17:22:38.719Z"
      },
      {
        "duration": 674,
        "start_time": "2025-04-03T17:22:39.240Z"
      },
      {
        "duration": 137,
        "start_time": "2025-04-03T17:22:39.916Z"
      },
      {
        "duration": 700,
        "start_time": "2025-04-03T17:22:40.058Z"
      },
      {
        "duration": 159,
        "start_time": "2025-04-03T17:22:40.760Z"
      },
      {
        "duration": 746,
        "start_time": "2025-04-03T17:22:40.921Z"
      },
      {
        "duration": 153,
        "start_time": "2025-04-03T17:22:41.669Z"
      },
      {
        "duration": 662,
        "start_time": "2025-04-03T17:22:41.824Z"
      },
      {
        "duration": 117,
        "start_time": "2025-04-03T17:22:42.488Z"
      },
      {
        "duration": 1626,
        "start_time": "2025-04-03T17:22:42.608Z"
      },
      {
        "duration": 1912,
        "start_time": "2025-04-03T17:22:44.237Z"
      },
      {
        "duration": 634,
        "start_time": "2025-04-03T17:22:46.151Z"
      },
      {
        "duration": 26,
        "start_time": "2025-04-03T17:22:46.787Z"
      },
      {
        "duration": 486,
        "start_time": "2025-04-03T17:22:46.815Z"
      },
      {
        "duration": 4,
        "start_time": "2025-04-03T17:22:47.304Z"
      },
      {
        "duration": 124,
        "start_time": "2025-04-03T17:22:47.310Z"
      },
      {
        "duration": 5,
        "start_time": "2025-04-03T17:22:47.436Z"
      },
      {
        "duration": 5,
        "start_time": "2025-04-03T17:22:47.478Z"
      },
      {
        "duration": 97,
        "start_time": "2025-04-03T17:22:47.485Z"
      },
      {
        "duration": 13,
        "start_time": "2025-04-03T17:22:47.585Z"
      },
      {
        "duration": 498,
        "start_time": "2025-04-03T17:22:47.601Z"
      },
      {
        "duration": 0,
        "start_time": "2025-04-03T17:22:48.102Z"
      },
      {
        "duration": 0,
        "start_time": "2025-04-03T17:22:48.103Z"
      },
      {
        "duration": 0,
        "start_time": "2025-04-03T17:22:48.105Z"
      },
      {
        "duration": 0,
        "start_time": "2025-04-03T17:22:48.106Z"
      },
      {
        "duration": 0,
        "start_time": "2025-04-03T17:22:48.107Z"
      },
      {
        "duration": 0,
        "start_time": "2025-04-03T17:22:48.108Z"
      },
      {
        "duration": 0,
        "start_time": "2025-04-03T17:22:48.109Z"
      },
      {
        "duration": 10,
        "start_time": "2025-04-03T17:23:33.314Z"
      },
      {
        "duration": 1123,
        "start_time": "2025-04-03T17:23:37.203Z"
      },
      {
        "duration": 21,
        "start_time": "2025-04-03T17:23:57.772Z"
      },
      {
        "duration": 1412,
        "start_time": "2025-04-03T17:24:00.305Z"
      },
      {
        "duration": 11,
        "start_time": "2025-04-03T17:24:07.861Z"
      },
      {
        "duration": 1906,
        "start_time": "2025-04-03T17:24:13.577Z"
      },
      {
        "duration": 4,
        "start_time": "2025-04-03T17:28:43.548Z"
      },
      {
        "duration": 33,
        "start_time": "2025-04-03T17:28:44.324Z"
      },
      {
        "duration": 10,
        "start_time": "2025-04-03T17:28:45.395Z"
      },
      {
        "duration": 1029,
        "start_time": "2025-04-03T17:28:46.489Z"
      },
      {
        "duration": 10,
        "start_time": "2025-04-03T17:28:49.571Z"
      },
      {
        "duration": 1389,
        "start_time": "2025-04-03T17:28:50.549Z"
      },
      {
        "duration": 12,
        "start_time": "2025-04-03T17:28:58.726Z"
      },
      {
        "duration": 1887,
        "start_time": "2025-04-03T17:28:59.876Z"
      },
      {
        "duration": 11,
        "start_time": "2025-04-03T17:29:33.841Z"
      },
      {
        "duration": 1824,
        "start_time": "2025-04-03T17:29:34.634Z"
      },
      {
        "duration": 13,
        "start_time": "2025-04-03T17:36:14.408Z"
      },
      {
        "duration": 2261,
        "start_time": "2025-04-03T17:36:16.431Z"
      },
      {
        "duration": 12,
        "start_time": "2025-04-03T17:38:43.162Z"
      },
      {
        "duration": 2210,
        "start_time": "2025-04-03T17:38:45.106Z"
      },
      {
        "duration": 13,
        "start_time": "2025-04-03T17:40:03.330Z"
      },
      {
        "duration": 2226,
        "start_time": "2025-04-03T17:40:03.912Z"
      },
      {
        "duration": 14,
        "start_time": "2025-04-03T17:41:45.399Z"
      },
      {
        "duration": 2206,
        "start_time": "2025-04-03T17:41:47.173Z"
      },
      {
        "duration": 8,
        "start_time": "2025-04-03T17:43:17.188Z"
      },
      {
        "duration": 32,
        "start_time": "2025-04-03T17:43:18.023Z"
      },
      {
        "duration": 16,
        "start_time": "2025-04-03T17:47:55.283Z"
      },
      {
        "duration": 1294,
        "start_time": "2025-04-03T17:47:56.338Z"
      },
      {
        "duration": 12,
        "start_time": "2025-04-03T17:54:00.975Z"
      },
      {
        "duration": 2253,
        "start_time": "2025-04-03T17:54:02.357Z"
      },
      {
        "duration": 10,
        "start_time": "2025-04-03T17:56:13.299Z"
      },
      {
        "duration": 1168,
        "start_time": "2025-04-03T17:56:15.612Z"
      },
      {
        "duration": 12,
        "start_time": "2025-04-03T17:59:06.314Z"
      },
      {
        "duration": 2273,
        "start_time": "2025-04-03T17:59:08.241Z"
      },
      {
        "duration": 1121,
        "start_time": "2025-04-03T17:59:42.092Z"
      },
      {
        "duration": 12,
        "start_time": "2025-04-03T17:59:54.393Z"
      },
      {
        "duration": 2197,
        "start_time": "2025-04-03T17:59:55.509Z"
      },
      {
        "duration": 19034,
        "start_time": "2025-04-03T18:01:05.256Z"
      },
      {
        "duration": 1105,
        "start_time": "2025-04-03T18:01:24.293Z"
      },
      {
        "duration": 28,
        "start_time": "2025-04-03T18:01:25.400Z"
      },
      {
        "duration": 44,
        "start_time": "2025-04-03T18:01:25.432Z"
      },
      {
        "duration": 76,
        "start_time": "2025-04-03T18:01:25.479Z"
      },
      {
        "duration": 136,
        "start_time": "2025-04-03T18:01:25.558Z"
      },
      {
        "duration": 659,
        "start_time": "2025-04-03T18:01:25.697Z"
      },
      {
        "duration": 613,
        "start_time": "2025-04-03T18:01:26.359Z"
      },
      {
        "duration": 125,
        "start_time": "2025-04-03T18:01:26.977Z"
      },
      {
        "duration": 601,
        "start_time": "2025-04-03T18:01:27.105Z"
      },
      {
        "duration": 123,
        "start_time": "2025-04-03T18:01:27.708Z"
      },
      {
        "duration": 616,
        "start_time": "2025-04-03T18:01:27.833Z"
      },
      {
        "duration": 119,
        "start_time": "2025-04-03T18:01:28.451Z"
      },
      {
        "duration": 722,
        "start_time": "2025-04-03T18:01:28.572Z"
      },
      {
        "duration": 111,
        "start_time": "2025-04-03T18:01:29.296Z"
      },
      {
        "duration": 487,
        "start_time": "2025-04-03T18:01:29.409Z"
      },
      {
        "duration": 647,
        "start_time": "2025-04-03T18:01:29.898Z"
      },
      {
        "duration": 123,
        "start_time": "2025-04-03T18:01:30.547Z"
      },
      {
        "duration": 617,
        "start_time": "2025-04-03T18:01:30.675Z"
      },
      {
        "duration": 116,
        "start_time": "2025-04-03T18:01:31.294Z"
      },
      {
        "duration": 735,
        "start_time": "2025-04-03T18:01:31.412Z"
      },
      {
        "duration": 251,
        "start_time": "2025-04-03T18:01:32.149Z"
      },
      {
        "duration": 621,
        "start_time": "2025-04-03T18:01:32.402Z"
      },
      {
        "duration": 107,
        "start_time": "2025-04-03T18:01:33.025Z"
      },
      {
        "duration": 509,
        "start_time": "2025-04-03T18:01:33.134Z"
      },
      {
        "duration": 604,
        "start_time": "2025-04-03T18:01:33.645Z"
      },
      {
        "duration": 132,
        "start_time": "2025-04-03T18:01:34.251Z"
      },
      {
        "duration": 617,
        "start_time": "2025-04-03T18:01:34.388Z"
      },
      {
        "duration": 120,
        "start_time": "2025-04-03T18:01:35.007Z"
      },
      {
        "duration": 664,
        "start_time": "2025-04-03T18:01:35.129Z"
      },
      {
        "duration": 132,
        "start_time": "2025-04-03T18:01:35.795Z"
      },
      {
        "duration": 667,
        "start_time": "2025-04-03T18:01:35.929Z"
      },
      {
        "duration": 114,
        "start_time": "2025-04-03T18:01:36.598Z"
      },
      {
        "duration": 1508,
        "start_time": "2025-04-03T18:01:36.714Z"
      },
      {
        "duration": 1895,
        "start_time": "2025-04-03T18:01:38.225Z"
      },
      {
        "duration": 555,
        "start_time": "2025-04-03T18:01:40.123Z"
      },
      {
        "duration": 21,
        "start_time": "2025-04-03T18:01:40.680Z"
      },
      {
        "duration": 309,
        "start_time": "2025-04-03T18:01:40.703Z"
      },
      {
        "duration": 3,
        "start_time": "2025-04-03T18:01:41.015Z"
      },
      {
        "duration": 36,
        "start_time": "2025-04-03T18:01:41.020Z"
      },
      {
        "duration": 5,
        "start_time": "2025-04-03T18:01:41.058Z"
      },
      {
        "duration": 84,
        "start_time": "2025-04-03T18:01:41.065Z"
      },
      {
        "duration": 20,
        "start_time": "2025-04-03T18:01:41.151Z"
      },
      {
        "duration": 1268,
        "start_time": "2025-04-03T18:01:41.173Z"
      },
      {
        "duration": 12,
        "start_time": "2025-04-03T18:01:42.443Z"
      },
      {
        "duration": 2270,
        "start_time": "2025-04-03T18:01:42.456Z"
      },
      {
        "duration": 2209,
        "start_time": "2025-04-03T18:01:44.728Z"
      },
      {
        "duration": 6,
        "start_time": "2025-04-03T18:02:41.026Z"
      },
      {
        "duration": 33,
        "start_time": "2025-04-03T18:02:42.178Z"
      },
      {
        "duration": 5,
        "start_time": "2025-04-03T18:02:57.896Z"
      },
      {
        "duration": 32,
        "start_time": "2025-04-03T18:03:02.371Z"
      },
      {
        "duration": 5,
        "start_time": "2025-04-03T18:03:05.723Z"
      },
      {
        "duration": 31,
        "start_time": "2025-04-03T18:03:06.495Z"
      },
      {
        "duration": 10,
        "start_time": "2025-04-03T18:03:46.697Z"
      },
      {
        "duration": 1161,
        "start_time": "2025-04-03T18:03:47.617Z"
      },
      {
        "duration": 21,
        "start_time": "2025-04-03T18:03:57.369Z"
      },
      {
        "duration": 2437,
        "start_time": "2025-04-03T18:03:59.156Z"
      },
      {
        "duration": 13,
        "start_time": "2025-04-03T18:07:39.202Z"
      },
      {
        "duration": 2177,
        "start_time": "2025-04-03T18:07:42.323Z"
      },
      {
        "duration": 37,
        "start_time": "2025-04-03T18:12:48.369Z"
      },
      {
        "duration": 19263,
        "start_time": "2025-04-03T18:15:17.762Z"
      },
      {
        "duration": 1193,
        "start_time": "2025-04-03T18:15:37.027Z"
      },
      {
        "duration": 27,
        "start_time": "2025-04-03T18:15:38.222Z"
      },
      {
        "duration": 33,
        "start_time": "2025-04-03T18:15:38.252Z"
      },
      {
        "duration": 20,
        "start_time": "2025-04-03T18:15:38.287Z"
      },
      {
        "duration": 148,
        "start_time": "2025-04-03T18:15:38.309Z"
      },
      {
        "duration": 655,
        "start_time": "2025-04-03T18:15:38.458Z"
      },
      {
        "duration": 644,
        "start_time": "2025-04-03T18:15:39.115Z"
      },
      {
        "duration": 133,
        "start_time": "2025-04-03T18:15:39.761Z"
      },
      {
        "duration": 623,
        "start_time": "2025-04-03T18:15:39.897Z"
      },
      {
        "duration": 125,
        "start_time": "2025-04-03T18:15:40.522Z"
      },
      {
        "duration": 585,
        "start_time": "2025-04-03T18:15:40.649Z"
      },
      {
        "duration": 111,
        "start_time": "2025-04-03T18:15:41.237Z"
      },
      {
        "duration": 657,
        "start_time": "2025-04-03T18:15:41.351Z"
      },
      {
        "duration": 131,
        "start_time": "2025-04-03T18:15:42.012Z"
      },
      {
        "duration": 508,
        "start_time": "2025-04-03T18:15:42.145Z"
      },
      {
        "duration": 598,
        "start_time": "2025-04-03T18:15:42.655Z"
      },
      {
        "duration": 137,
        "start_time": "2025-04-03T18:15:43.256Z"
      },
      {
        "duration": 687,
        "start_time": "2025-04-03T18:15:43.396Z"
      },
      {
        "duration": 120,
        "start_time": "2025-04-03T18:15:44.086Z"
      },
      {
        "duration": 708,
        "start_time": "2025-04-03T18:15:44.208Z"
      },
      {
        "duration": 270,
        "start_time": "2025-04-03T18:15:44.918Z"
      },
      {
        "duration": 544,
        "start_time": "2025-04-03T18:15:45.191Z"
      },
      {
        "duration": 124,
        "start_time": "2025-04-03T18:15:45.737Z"
      },
      {
        "duration": 547,
        "start_time": "2025-04-03T18:15:45.863Z"
      },
      {
        "duration": 665,
        "start_time": "2025-04-03T18:15:46.412Z"
      },
      {
        "duration": 131,
        "start_time": "2025-04-03T18:15:47.079Z"
      },
      {
        "duration": 683,
        "start_time": "2025-04-03T18:15:47.216Z"
      },
      {
        "duration": 129,
        "start_time": "2025-04-03T18:15:47.901Z"
      },
      {
        "duration": 775,
        "start_time": "2025-04-03T18:15:48.032Z"
      },
      {
        "duration": 125,
        "start_time": "2025-04-03T18:15:48.810Z"
      },
      {
        "duration": 660,
        "start_time": "2025-04-03T18:15:48.937Z"
      },
      {
        "duration": 117,
        "start_time": "2025-04-03T18:15:49.599Z"
      },
      {
        "duration": 1560,
        "start_time": "2025-04-03T18:15:49.718Z"
      },
      {
        "duration": 1948,
        "start_time": "2025-04-03T18:15:51.281Z"
      },
      {
        "duration": 646,
        "start_time": "2025-04-03T18:15:53.231Z"
      },
      {
        "duration": 24,
        "start_time": "2025-04-03T18:15:53.879Z"
      },
      {
        "duration": 316,
        "start_time": "2025-04-03T18:15:53.905Z"
      },
      {
        "duration": 4,
        "start_time": "2025-04-03T18:15:54.223Z"
      },
      {
        "duration": 59,
        "start_time": "2025-04-03T18:15:54.229Z"
      },
      {
        "duration": 5,
        "start_time": "2025-04-03T18:15:54.290Z"
      },
      {
        "duration": 50,
        "start_time": "2025-04-03T18:15:54.297Z"
      },
      {
        "duration": 9,
        "start_time": "2025-04-03T18:15:54.349Z"
      },
      {
        "duration": 1282,
        "start_time": "2025-04-03T18:15:54.378Z"
      },
      {
        "duration": 24,
        "start_time": "2025-04-03T18:15:55.662Z"
      },
      {
        "duration": 2221,
        "start_time": "2025-04-03T18:15:55.688Z"
      },
      {
        "duration": 19044,
        "start_time": "2025-04-03T18:29:04.259Z"
      },
      {
        "duration": 2194,
        "start_time": "2025-04-03T18:29:23.306Z"
      },
      {
        "duration": 26,
        "start_time": "2025-04-03T18:29:25.502Z"
      },
      {
        "duration": 20,
        "start_time": "2025-04-03T18:29:25.531Z"
      },
      {
        "duration": 135,
        "start_time": "2025-04-03T18:29:25.553Z"
      },
      {
        "duration": 146,
        "start_time": "2025-04-03T18:29:25.690Z"
      },
      {
        "duration": 671,
        "start_time": "2025-04-03T18:29:25.838Z"
      },
      {
        "duration": 630,
        "start_time": "2025-04-03T18:29:26.511Z"
      },
      {
        "duration": 133,
        "start_time": "2025-04-03T18:29:27.143Z"
      },
      {
        "duration": 539,
        "start_time": "2025-04-03T18:29:27.280Z"
      },
      {
        "duration": 123,
        "start_time": "2025-04-03T18:29:27.821Z"
      },
      {
        "duration": 597,
        "start_time": "2025-04-03T18:29:27.945Z"
      },
      {
        "duration": 109,
        "start_time": "2025-04-03T18:29:28.545Z"
      },
      {
        "duration": 643,
        "start_time": "2025-04-03T18:29:28.656Z"
      },
      {
        "duration": 122,
        "start_time": "2025-04-03T18:29:29.301Z"
      },
      {
        "duration": 508,
        "start_time": "2025-04-03T18:29:29.425Z"
      },
      {
        "duration": 616,
        "start_time": "2025-04-03T18:29:29.934Z"
      },
      {
        "duration": 136,
        "start_time": "2025-04-03T18:29:30.552Z"
      },
      {
        "duration": 627,
        "start_time": "2025-04-03T18:29:30.690Z"
      },
      {
        "duration": 120,
        "start_time": "2025-04-03T18:29:31.319Z"
      },
      {
        "duration": 728,
        "start_time": "2025-04-03T18:29:31.441Z"
      },
      {
        "duration": 259,
        "start_time": "2025-04-03T18:29:32.170Z"
      },
      {
        "duration": 604,
        "start_time": "2025-04-03T18:29:32.431Z"
      },
      {
        "duration": 116,
        "start_time": "2025-04-03T18:29:33.037Z"
      },
      {
        "duration": 528,
        "start_time": "2025-04-03T18:29:33.155Z"
      },
      {
        "duration": 566,
        "start_time": "2025-04-03T18:29:33.685Z"
      },
      {
        "duration": 129,
        "start_time": "2025-04-03T18:29:34.253Z"
      },
      {
        "duration": 625,
        "start_time": "2025-04-03T18:29:34.386Z"
      },
      {
        "duration": 127,
        "start_time": "2025-04-03T18:29:35.012Z"
      },
      {
        "duration": 689,
        "start_time": "2025-04-03T18:29:35.142Z"
      },
      {
        "duration": 143,
        "start_time": "2025-04-03T18:29:35.834Z"
      },
      {
        "duration": 625,
        "start_time": "2025-04-03T18:29:35.980Z"
      },
      {
        "duration": 125,
        "start_time": "2025-04-03T18:29:36.607Z"
      },
      {
        "duration": 1513,
        "start_time": "2025-04-03T18:29:36.735Z"
      },
      {
        "duration": 1878,
        "start_time": "2025-04-03T18:29:38.252Z"
      },
      {
        "duration": 644,
        "start_time": "2025-04-03T18:29:40.133Z"
      },
      {
        "duration": 22,
        "start_time": "2025-04-03T18:29:40.779Z"
      },
      {
        "duration": 240,
        "start_time": "2025-04-03T18:29:40.803Z"
      },
      {
        "duration": 4,
        "start_time": "2025-04-03T18:29:41.045Z"
      },
      {
        "duration": 46,
        "start_time": "2025-04-03T18:29:41.076Z"
      },
      {
        "duration": 5,
        "start_time": "2025-04-03T18:29:41.123Z"
      },
      {
        "duration": 59,
        "start_time": "2025-04-03T18:29:41.130Z"
      },
      {
        "duration": 9,
        "start_time": "2025-04-03T18:29:41.192Z"
      },
      {
        "duration": 1275,
        "start_time": "2025-04-03T18:29:41.203Z"
      },
      {
        "duration": 12,
        "start_time": "2025-04-03T18:29:42.481Z"
      },
      {
        "duration": 2224,
        "start_time": "2025-04-03T18:29:42.495Z"
      },
      {
        "duration": 587,
        "start_time": "2025-04-03T18:31:55.790Z"
      },
      {
        "duration": 19376,
        "start_time": "2025-04-03T18:33:05.885Z"
      },
      {
        "duration": 1500,
        "start_time": "2025-04-03T18:33:25.263Z"
      },
      {
        "duration": 29,
        "start_time": "2025-04-03T18:33:26.765Z"
      },
      {
        "duration": 20,
        "start_time": "2025-04-03T18:33:26.796Z"
      },
      {
        "duration": 22,
        "start_time": "2025-04-03T18:33:26.818Z"
      },
      {
        "duration": 150,
        "start_time": "2025-04-03T18:33:26.842Z"
      },
      {
        "duration": 623,
        "start_time": "2025-04-03T18:33:26.994Z"
      },
      {
        "duration": 636,
        "start_time": "2025-04-03T18:33:27.619Z"
      },
      {
        "duration": 128,
        "start_time": "2025-04-03T18:33:28.257Z"
      },
      {
        "duration": 644,
        "start_time": "2025-04-03T18:33:28.389Z"
      },
      {
        "duration": 125,
        "start_time": "2025-04-03T18:33:29.035Z"
      },
      {
        "duration": 581,
        "start_time": "2025-04-03T18:33:29.162Z"
      },
      {
        "duration": 107,
        "start_time": "2025-04-03T18:33:29.745Z"
      },
      {
        "duration": 666,
        "start_time": "2025-04-03T18:33:29.854Z"
      },
      {
        "duration": 126,
        "start_time": "2025-04-03T18:33:30.523Z"
      },
      {
        "duration": 588,
        "start_time": "2025-04-03T18:33:30.652Z"
      },
      {
        "duration": 616,
        "start_time": "2025-04-03T18:33:31.242Z"
      },
      {
        "duration": 145,
        "start_time": "2025-04-03T18:33:31.860Z"
      },
      {
        "duration": 698,
        "start_time": "2025-04-03T18:33:32.008Z"
      },
      {
        "duration": 123,
        "start_time": "2025-04-03T18:33:32.708Z"
      },
      {
        "duration": 699,
        "start_time": "2025-04-03T18:33:32.833Z"
      },
      {
        "duration": 255,
        "start_time": "2025-04-03T18:33:33.534Z"
      },
      {
        "duration": 541,
        "start_time": "2025-04-03T18:33:33.791Z"
      },
      {
        "duration": 118,
        "start_time": "2025-04-03T18:33:34.334Z"
      },
      {
        "duration": 528,
        "start_time": "2025-04-03T18:33:34.454Z"
      },
      {
        "duration": 580,
        "start_time": "2025-04-03T18:33:34.985Z"
      },
      {
        "duration": 129,
        "start_time": "2025-04-03T18:33:35.567Z"
      },
      {
        "duration": 712,
        "start_time": "2025-04-03T18:33:35.701Z"
      },
      {
        "duration": 129,
        "start_time": "2025-04-03T18:33:36.415Z"
      },
      {
        "duration": 759,
        "start_time": "2025-04-03T18:33:36.546Z"
      },
      {
        "duration": 127,
        "start_time": "2025-04-03T18:33:37.308Z"
      },
      {
        "duration": 657,
        "start_time": "2025-04-03T18:33:37.437Z"
      },
      {
        "duration": 117,
        "start_time": "2025-04-03T18:33:38.096Z"
      },
      {
        "duration": 1572,
        "start_time": "2025-04-03T18:33:38.215Z"
      },
      {
        "duration": 1840,
        "start_time": "2025-04-03T18:33:39.789Z"
      },
      {
        "duration": 553,
        "start_time": "2025-04-03T18:33:41.632Z"
      },
      {
        "duration": 23,
        "start_time": "2025-04-03T18:33:42.278Z"
      },
      {
        "duration": 311,
        "start_time": "2025-04-03T18:33:42.304Z"
      },
      {
        "duration": 4,
        "start_time": "2025-04-03T18:33:42.617Z"
      },
      {
        "duration": 64,
        "start_time": "2025-04-03T18:33:42.624Z"
      },
      {
        "duration": 5,
        "start_time": "2025-04-03T18:33:42.690Z"
      },
      {
        "duration": 38,
        "start_time": "2025-04-03T18:33:42.697Z"
      },
      {
        "duration": 9,
        "start_time": "2025-04-03T18:33:42.737Z"
      },
      {
        "duration": 1171,
        "start_time": "2025-04-03T18:33:42.778Z"
      },
      {
        "duration": 26,
        "start_time": "2025-04-03T18:33:43.951Z"
      },
      {
        "duration": 2154,
        "start_time": "2025-04-03T18:33:43.979Z"
      },
      {
        "duration": 38306,
        "start_time": "2025-04-04T15:04:36.621Z"
      },
      {
        "duration": 1171,
        "start_time": "2025-04-04T15:05:14.929Z"
      },
      {
        "duration": 39,
        "start_time": "2025-04-04T15:05:16.108Z"
      },
      {
        "duration": 43,
        "start_time": "2025-04-04T15:05:16.149Z"
      },
      {
        "duration": 21,
        "start_time": "2025-04-04T15:05:16.193Z"
      },
      {
        "duration": 142,
        "start_time": "2025-04-04T15:05:16.216Z"
      },
      {
        "duration": 580,
        "start_time": "2025-04-04T15:05:16.360Z"
      },
      {
        "duration": 730,
        "start_time": "2025-04-04T15:05:16.942Z"
      },
      {
        "duration": 234,
        "start_time": "2025-04-04T15:05:17.678Z"
      },
      {
        "duration": 607,
        "start_time": "2025-04-04T15:05:17.914Z"
      },
      {
        "duration": 129,
        "start_time": "2025-04-04T15:05:18.523Z"
      },
      {
        "duration": 680,
        "start_time": "2025-04-04T15:05:18.654Z"
      },
      {
        "duration": 112,
        "start_time": "2025-04-04T15:05:19.336Z"
      },
      {
        "duration": 765,
        "start_time": "2025-04-04T15:05:19.449Z"
      },
      {
        "duration": 121,
        "start_time": "2025-04-04T15:05:20.217Z"
      },
      {
        "duration": 527,
        "start_time": "2025-04-04T15:05:20.340Z"
      },
      {
        "duration": 683,
        "start_time": "2025-04-04T15:05:20.869Z"
      },
      {
        "duration": 125,
        "start_time": "2025-04-04T15:05:21.555Z"
      },
      {
        "duration": 644,
        "start_time": "2025-04-04T15:05:21.682Z"
      },
      {
        "duration": 126,
        "start_time": "2025-04-04T15:05:22.327Z"
      },
      {
        "duration": 751,
        "start_time": "2025-04-04T15:05:22.455Z"
      },
      {
        "duration": 118,
        "start_time": "2025-04-04T15:05:23.207Z"
      },
      {
        "duration": 600,
        "start_time": "2025-04-04T15:05:23.327Z"
      },
      {
        "duration": 115,
        "start_time": "2025-04-04T15:05:23.929Z"
      },
      {
        "duration": 548,
        "start_time": "2025-04-04T15:05:24.046Z"
      },
      {
        "duration": 567,
        "start_time": "2025-04-04T15:05:24.596Z"
      },
      {
        "duration": 147,
        "start_time": "2025-04-04T15:05:25.167Z"
      },
      {
        "duration": 731,
        "start_time": "2025-04-04T15:05:25.316Z"
      },
      {
        "duration": 138,
        "start_time": "2025-04-04T15:05:26.048Z"
      },
      {
        "duration": 736,
        "start_time": "2025-04-04T15:05:26.188Z"
      },
      {
        "duration": 128,
        "start_time": "2025-04-04T15:05:26.926Z"
      },
      {
        "duration": 746,
        "start_time": "2025-04-04T15:05:27.056Z"
      },
      {
        "duration": 231,
        "start_time": "2025-04-04T15:05:27.804Z"
      },
      {
        "duration": 1548,
        "start_time": "2025-04-04T15:05:28.037Z"
      },
      {
        "duration": 1716,
        "start_time": "2025-04-04T15:05:29.587Z"
      },
      {
        "duration": 674,
        "start_time": "2025-04-04T15:05:31.306Z"
      },
      {
        "duration": 34,
        "start_time": "2025-04-04T15:05:31.981Z"
      },
      {
        "duration": 301,
        "start_time": "2025-04-04T15:05:32.018Z"
      },
      {
        "duration": 3,
        "start_time": "2025-04-04T15:05:32.321Z"
      },
      {
        "duration": 153,
        "start_time": "2025-04-04T15:05:32.326Z"
      },
      {
        "duration": 5,
        "start_time": "2025-04-04T15:05:32.481Z"
      },
      {
        "duration": 64,
        "start_time": "2025-04-04T15:05:32.488Z"
      },
      {
        "duration": 8,
        "start_time": "2025-04-04T15:05:32.554Z"
      },
      {
        "duration": 1271,
        "start_time": "2025-04-04T15:05:32.564Z"
      },
      {
        "duration": 12,
        "start_time": "2025-04-04T15:05:33.838Z"
      },
      {
        "duration": 2419,
        "start_time": "2025-04-04T15:05:33.876Z"
      },
      {
        "duration": 19324,
        "start_time": "2025-04-04T15:09:08.022Z"
      },
      {
        "duration": 974,
        "start_time": "2025-04-04T15:09:27.349Z"
      },
      {
        "duration": 110,
        "start_time": "2025-04-04T15:09:28.324Z"
      },
      {
        "duration": 20,
        "start_time": "2025-04-04T15:09:28.436Z"
      },
      {
        "duration": 20,
        "start_time": "2025-04-04T15:09:28.476Z"
      },
      {
        "duration": 123,
        "start_time": "2025-04-04T15:09:28.498Z"
      },
      {
        "duration": 520,
        "start_time": "2025-04-04T15:09:28.623Z"
      },
      {
        "duration": 618,
        "start_time": "2025-04-04T15:09:29.145Z"
      },
      {
        "duration": 129,
        "start_time": "2025-04-04T15:09:29.765Z"
      },
      {
        "duration": 623,
        "start_time": "2025-04-04T15:09:29.896Z"
      },
      {
        "duration": 125,
        "start_time": "2025-04-04T15:09:30.521Z"
      },
      {
        "duration": 584,
        "start_time": "2025-04-04T15:09:30.649Z"
      },
      {
        "duration": 105,
        "start_time": "2025-04-04T15:09:31.235Z"
      },
      {
        "duration": 723,
        "start_time": "2025-04-04T15:09:31.345Z"
      },
      {
        "duration": 124,
        "start_time": "2025-04-04T15:09:32.070Z"
      },
      {
        "duration": 599,
        "start_time": "2025-04-04T15:09:32.196Z"
      },
      {
        "duration": 542,
        "start_time": "2025-04-04T15:09:32.797Z"
      },
      {
        "duration": 122,
        "start_time": "2025-04-04T15:09:33.342Z"
      },
      {
        "duration": 612,
        "start_time": "2025-04-04T15:09:33.466Z"
      },
      {
        "duration": 115,
        "start_time": "2025-04-04T15:09:34.080Z"
      },
      {
        "duration": 703,
        "start_time": "2025-04-04T15:09:34.197Z"
      },
      {
        "duration": 103,
        "start_time": "2025-04-04T15:09:34.902Z"
      },
      {
        "duration": 617,
        "start_time": "2025-04-04T15:09:35.006Z"
      },
      {
        "duration": 109,
        "start_time": "2025-04-04T15:09:35.625Z"
      },
      {
        "duration": 528,
        "start_time": "2025-04-04T15:09:35.735Z"
      },
      {
        "duration": 719,
        "start_time": "2025-04-04T15:09:36.265Z"
      },
      {
        "duration": 125,
        "start_time": "2025-04-04T15:09:36.986Z"
      },
      {
        "duration": 678,
        "start_time": "2025-04-04T15:09:37.113Z"
      },
      {
        "duration": 120,
        "start_time": "2025-04-04T15:09:37.794Z"
      },
      {
        "duration": 671,
        "start_time": "2025-04-04T15:09:37.916Z"
      },
      {
        "duration": 115,
        "start_time": "2025-04-04T15:09:38.590Z"
      },
      {
        "duration": 682,
        "start_time": "2025-04-04T15:09:38.707Z"
      },
      {
        "duration": 119,
        "start_time": "2025-04-04T15:09:39.391Z"
      },
      {
        "duration": 1728,
        "start_time": "2025-04-04T15:09:39.512Z"
      },
      {
        "duration": 1764,
        "start_time": "2025-04-04T15:09:41.243Z"
      },
      {
        "duration": 576,
        "start_time": "2025-04-04T15:09:43.009Z"
      },
      {
        "duration": 20,
        "start_time": "2025-04-04T15:09:43.677Z"
      },
      {
        "duration": 337,
        "start_time": "2025-04-04T15:09:43.699Z"
      },
      {
        "duration": 3,
        "start_time": "2025-04-04T15:09:44.038Z"
      },
      {
        "duration": 52,
        "start_time": "2025-04-04T15:09:44.043Z"
      },
      {
        "duration": 5,
        "start_time": "2025-04-04T15:09:44.101Z"
      },
      {
        "duration": 37,
        "start_time": "2025-04-04T15:09:44.108Z"
      },
      {
        "duration": 34,
        "start_time": "2025-04-04T15:09:44.146Z"
      },
      {
        "duration": 1229,
        "start_time": "2025-04-04T15:09:44.182Z"
      },
      {
        "duration": 132,
        "start_time": "2025-04-04T15:09:45.413Z"
      },
      {
        "duration": 2254,
        "start_time": "2025-04-04T15:09:45.547Z"
      },
      {
        "duration": 397,
        "start_time": "2025-04-04T15:16:45.247Z"
      },
      {
        "duration": 3,
        "start_time": "2025-04-04T15:22:05.315Z"
      },
      {
        "duration": 215,
        "start_time": "2025-04-04T15:22:42.909Z"
      },
      {
        "duration": 199,
        "start_time": "2025-04-04T15:22:59.909Z"
      },
      {
        "duration": 234,
        "start_time": "2025-04-04T15:23:08.171Z"
      },
      {
        "duration": 29,
        "start_time": "2025-04-04T15:48:11.994Z"
      },
      {
        "duration": 125,
        "start_time": "2025-04-04T15:49:39.890Z"
      },
      {
        "duration": 48,
        "start_time": "2025-04-04T15:49:49.074Z"
      },
      {
        "duration": 18015,
        "start_time": "2025-04-04T15:50:16.020Z"
      },
      {
        "duration": 1362,
        "start_time": "2025-04-04T15:50:34.038Z"
      },
      {
        "duration": 107,
        "start_time": "2025-04-04T15:50:35.402Z"
      },
      {
        "duration": 18,
        "start_time": "2025-04-04T15:50:35.511Z"
      },
      {
        "duration": 21,
        "start_time": "2025-04-04T15:50:35.531Z"
      },
      {
        "duration": 114,
        "start_time": "2025-04-04T15:50:35.577Z"
      },
      {
        "duration": 552,
        "start_time": "2025-04-04T15:50:35.693Z"
      },
      {
        "duration": 609,
        "start_time": "2025-04-04T15:50:36.248Z"
      },
      {
        "duration": 136,
        "start_time": "2025-04-04T15:50:36.860Z"
      },
      {
        "duration": 620,
        "start_time": "2025-04-04T15:50:37.001Z"
      },
      {
        "duration": 126,
        "start_time": "2025-04-04T15:50:37.623Z"
      },
      {
        "duration": 580,
        "start_time": "2025-04-04T15:50:37.752Z"
      },
      {
        "duration": 114,
        "start_time": "2025-04-04T15:50:38.334Z"
      },
      {
        "duration": 632,
        "start_time": "2025-04-04T15:50:38.450Z"
      },
      {
        "duration": 108,
        "start_time": "2025-04-04T15:50:39.084Z"
      },
      {
        "duration": 590,
        "start_time": "2025-04-04T15:50:39.194Z"
      },
      {
        "duration": 541,
        "start_time": "2025-04-04T15:50:39.786Z"
      },
      {
        "duration": 126,
        "start_time": "2025-04-04T15:50:40.329Z"
      },
      {
        "duration": 629,
        "start_time": "2025-04-04T15:50:40.457Z"
      },
      {
        "duration": 112,
        "start_time": "2025-04-04T15:50:41.088Z"
      },
      {
        "duration": 682,
        "start_time": "2025-04-04T15:50:41.201Z"
      },
      {
        "duration": 110,
        "start_time": "2025-04-04T15:50:41.885Z"
      },
      {
        "duration": 635,
        "start_time": "2025-04-04T15:50:41.998Z"
      },
      {
        "duration": 114,
        "start_time": "2025-04-04T15:50:42.635Z"
      },
      {
        "duration": 504,
        "start_time": "2025-04-04T15:50:42.751Z"
      },
      {
        "duration": 702,
        "start_time": "2025-04-04T15:50:43.256Z"
      },
      {
        "duration": 121,
        "start_time": "2025-04-04T15:50:43.960Z"
      },
      {
        "duration": 618,
        "start_time": "2025-04-04T15:50:44.085Z"
      },
      {
        "duration": 121,
        "start_time": "2025-04-04T15:50:44.705Z"
      },
      {
        "duration": 644,
        "start_time": "2025-04-04T15:50:44.828Z"
      },
      {
        "duration": 117,
        "start_time": "2025-04-04T15:50:45.476Z"
      },
      {
        "duration": 632,
        "start_time": "2025-04-04T15:50:45.595Z"
      },
      {
        "duration": 121,
        "start_time": "2025-04-04T15:50:46.230Z"
      },
      {
        "duration": 1540,
        "start_time": "2025-04-04T15:50:46.353Z"
      },
      {
        "duration": 1720,
        "start_time": "2025-04-04T15:50:47.896Z"
      },
      {
        "duration": 562,
        "start_time": "2025-04-04T15:50:49.618Z"
      },
      {
        "duration": 111,
        "start_time": "2025-04-04T15:50:50.183Z"
      },
      {
        "duration": 242,
        "start_time": "2025-04-04T15:50:50.296Z"
      },
      {
        "duration": 21,
        "start_time": "2025-04-04T15:50:50.541Z"
      },
      {
        "duration": 169,
        "start_time": "2025-04-04T15:50:50.577Z"
      },
      {
        "duration": 0,
        "start_time": "2025-04-04T15:50:50.748Z"
      },
      {
        "duration": 0,
        "start_time": "2025-04-04T15:50:50.750Z"
      },
      {
        "duration": 0,
        "start_time": "2025-04-04T15:50:50.752Z"
      },
      {
        "duration": 0,
        "start_time": "2025-04-04T15:50:50.753Z"
      },
      {
        "duration": 0,
        "start_time": "2025-04-04T15:50:50.754Z"
      },
      {
        "duration": 0,
        "start_time": "2025-04-04T15:50:50.755Z"
      },
      {
        "duration": 0,
        "start_time": "2025-04-04T15:50:50.776Z"
      },
      {
        "duration": 0,
        "start_time": "2025-04-04T15:50:50.778Z"
      },
      {
        "duration": 847,
        "start_time": "2025-04-04T15:55:21.235Z"
      },
      {
        "duration": 18487,
        "start_time": "2025-04-04T15:56:13.901Z"
      },
      {
        "duration": 1048,
        "start_time": "2025-04-04T15:56:32.390Z"
      },
      {
        "duration": 110,
        "start_time": "2025-04-04T15:56:33.440Z"
      },
      {
        "duration": 32,
        "start_time": "2025-04-04T15:56:33.552Z"
      },
      {
        "duration": 19,
        "start_time": "2025-04-04T15:56:33.587Z"
      },
      {
        "duration": 156,
        "start_time": "2025-04-04T15:56:33.608Z"
      },
      {
        "duration": 542,
        "start_time": "2025-04-04T15:56:33.766Z"
      },
      {
        "duration": 637,
        "start_time": "2025-04-04T15:56:34.310Z"
      },
      {
        "duration": 128,
        "start_time": "2025-04-04T15:56:34.949Z"
      },
      {
        "duration": 538,
        "start_time": "2025-04-04T15:56:35.080Z"
      },
      {
        "duration": 126,
        "start_time": "2025-04-04T15:56:35.621Z"
      },
      {
        "duration": 573,
        "start_time": "2025-04-04T15:56:35.749Z"
      },
      {
        "duration": 111,
        "start_time": "2025-04-04T15:56:36.324Z"
      },
      {
        "duration": 667,
        "start_time": "2025-04-04T15:56:36.437Z"
      },
      {
        "duration": 114,
        "start_time": "2025-04-04T15:56:37.106Z"
      },
      {
        "duration": 621,
        "start_time": "2025-04-04T15:56:37.222Z"
      },
      {
        "duration": 590,
        "start_time": "2025-04-04T15:56:37.845Z"
      },
      {
        "duration": 127,
        "start_time": "2025-04-04T15:56:38.437Z"
      },
      {
        "duration": 613,
        "start_time": "2025-04-04T15:56:38.566Z"
      },
      {
        "duration": 110,
        "start_time": "2025-04-04T15:56:39.181Z"
      },
      {
        "duration": 613,
        "start_time": "2025-04-04T15:56:39.292Z"
      },
      {
        "duration": 106,
        "start_time": "2025-04-04T15:56:39.907Z"
      },
      {
        "duration": 606,
        "start_time": "2025-04-04T15:56:40.015Z"
      },
      {
        "duration": 116,
        "start_time": "2025-04-04T15:56:40.623Z"
      },
      {
        "duration": 520,
        "start_time": "2025-04-04T15:56:40.741Z"
      },
      {
        "duration": 700,
        "start_time": "2025-04-04T15:56:41.263Z"
      },
      {
        "duration": 155,
        "start_time": "2025-04-04T15:56:41.965Z"
      },
      {
        "duration": 677,
        "start_time": "2025-04-04T15:56:42.125Z"
      },
      {
        "duration": 129,
        "start_time": "2025-04-04T15:56:42.804Z"
      },
      {
        "duration": 655,
        "start_time": "2025-04-04T15:56:42.935Z"
      },
      {
        "duration": 119,
        "start_time": "2025-04-04T15:56:43.593Z"
      },
      {
        "duration": 664,
        "start_time": "2025-04-04T15:56:43.714Z"
      },
      {
        "duration": 115,
        "start_time": "2025-04-04T15:56:44.381Z"
      },
      {
        "duration": 1508,
        "start_time": "2025-04-04T15:56:44.498Z"
      },
      {
        "duration": 1721,
        "start_time": "2025-04-04T15:56:46.009Z"
      },
      {
        "duration": 645,
        "start_time": "2025-04-04T15:56:47.733Z"
      },
      {
        "duration": 21,
        "start_time": "2025-04-04T15:56:48.380Z"
      },
      {
        "duration": 223,
        "start_time": "2025-04-04T15:56:48.403Z"
      },
      {
        "duration": 18,
        "start_time": "2025-04-04T15:56:48.628Z"
      },
      {
        "duration": 135,
        "start_time": "2025-04-04T15:56:48.648Z"
      },
      {
        "duration": 93,
        "start_time": "2025-04-04T15:56:48.785Z"
      },
      {
        "duration": 55,
        "start_time": "2025-04-04T15:56:48.881Z"
      },
      {
        "duration": 5,
        "start_time": "2025-04-04T15:56:48.938Z"
      },
      {
        "duration": 57,
        "start_time": "2025-04-04T15:56:48.944Z"
      },
      {
        "duration": 10,
        "start_time": "2025-04-04T15:56:49.003Z"
      },
      {
        "duration": 1163,
        "start_time": "2025-04-04T15:56:49.014Z"
      },
      {
        "duration": 137,
        "start_time": "2025-04-04T15:56:50.180Z"
      },
      {
        "duration": 2243,
        "start_time": "2025-04-04T15:56:50.319Z"
      },
      {
        "duration": 19313,
        "start_time": "2025-04-04T16:12:01.347Z"
      },
      {
        "duration": 1365,
        "start_time": "2025-04-04T16:12:20.663Z"
      },
      {
        "duration": 126,
        "start_time": "2025-04-04T16:12:22.032Z"
      },
      {
        "duration": 30,
        "start_time": "2025-04-04T16:12:22.160Z"
      },
      {
        "duration": 31,
        "start_time": "2025-04-04T16:12:22.192Z"
      },
      {
        "duration": 135,
        "start_time": "2025-04-04T16:12:22.225Z"
      },
      {
        "duration": 545,
        "start_time": "2025-04-04T16:12:22.362Z"
      },
      {
        "duration": 650,
        "start_time": "2025-04-04T16:12:22.910Z"
      },
      {
        "duration": 133,
        "start_time": "2025-04-04T16:12:23.562Z"
      },
      {
        "duration": 609,
        "start_time": "2025-04-04T16:12:23.699Z"
      },
      {
        "duration": 123,
        "start_time": "2025-04-04T16:12:24.310Z"
      },
      {
        "duration": 600,
        "start_time": "2025-04-04T16:12:24.435Z"
      },
      {
        "duration": 107,
        "start_time": "2025-04-04T16:12:25.038Z"
      },
      {
        "duration": 660,
        "start_time": "2025-04-04T16:12:25.147Z"
      },
      {
        "duration": 139,
        "start_time": "2025-04-04T16:12:25.810Z"
      },
      {
        "duration": 618,
        "start_time": "2025-04-04T16:12:25.951Z"
      },
      {
        "duration": 662,
        "start_time": "2025-04-04T16:12:26.576Z"
      },
      {
        "duration": 124,
        "start_time": "2025-04-04T16:12:27.241Z"
      },
      {
        "duration": 636,
        "start_time": "2025-04-04T16:12:27.367Z"
      },
      {
        "duration": 114,
        "start_time": "2025-04-04T16:12:28.006Z"
      },
      {
        "duration": 693,
        "start_time": "2025-04-04T16:12:28.122Z"
      },
      {
        "duration": 116,
        "start_time": "2025-04-04T16:12:28.818Z"
      },
      {
        "duration": 587,
        "start_time": "2025-04-04T16:12:28.936Z"
      },
      {
        "duration": 111,
        "start_time": "2025-04-04T16:12:29.526Z"
      },
      {
        "duration": 519,
        "start_time": "2025-04-04T16:12:29.639Z"
      },
      {
        "duration": 701,
        "start_time": "2025-04-04T16:12:30.160Z"
      },
      {
        "duration": 136,
        "start_time": "2025-04-04T16:12:30.864Z"
      },
      {
        "duration": 694,
        "start_time": "2025-04-04T16:12:31.004Z"
      },
      {
        "duration": 133,
        "start_time": "2025-04-04T16:12:31.700Z"
      },
      {
        "duration": 658,
        "start_time": "2025-04-04T16:12:31.835Z"
      },
      {
        "duration": 113,
        "start_time": "2025-04-04T16:12:32.495Z"
      },
      {
        "duration": 679,
        "start_time": "2025-04-04T16:12:32.610Z"
      },
      {
        "duration": 115,
        "start_time": "2025-04-04T16:12:33.291Z"
      },
      {
        "duration": 1515,
        "start_time": "2025-04-04T16:12:33.408Z"
      },
      {
        "duration": 1776,
        "start_time": "2025-04-04T16:12:34.926Z"
      },
      {
        "duration": 574,
        "start_time": "2025-04-04T16:12:36.704Z"
      },
      {
        "duration": 19,
        "start_time": "2025-04-04T16:12:37.280Z"
      },
      {
        "duration": 395,
        "start_time": "2025-04-04T16:12:37.301Z"
      },
      {
        "duration": 21,
        "start_time": "2025-04-04T16:12:37.698Z"
      },
      {
        "duration": 157,
        "start_time": "2025-04-04T16:12:37.721Z"
      },
      {
        "duration": 41,
        "start_time": "2025-04-04T16:12:37.881Z"
      },
      {
        "duration": 5,
        "start_time": "2025-04-04T16:12:37.924Z"
      },
      {
        "duration": 67,
        "start_time": "2025-04-04T16:12:37.930Z"
      },
      {
        "duration": 20,
        "start_time": "2025-04-04T16:12:37.999Z"
      },
      {
        "duration": 1185,
        "start_time": "2025-04-04T16:12:38.021Z"
      },
      {
        "duration": 136,
        "start_time": "2025-04-04T16:12:39.209Z"
      },
      {
        "duration": 2161,
        "start_time": "2025-04-04T16:12:39.347Z"
      },
      {
        "duration": 18211,
        "start_time": "2025-04-04T16:18:21.827Z"
      },
      {
        "duration": 1211,
        "start_time": "2025-04-04T16:18:40.041Z"
      },
      {
        "duration": 109,
        "start_time": "2025-04-04T16:18:41.254Z"
      },
      {
        "duration": 31,
        "start_time": "2025-04-04T16:18:41.365Z"
      },
      {
        "duration": 18,
        "start_time": "2025-04-04T16:18:41.398Z"
      },
      {
        "duration": 133,
        "start_time": "2025-04-04T16:18:41.417Z"
      },
      {
        "duration": 551,
        "start_time": "2025-04-04T16:18:41.552Z"
      },
      {
        "duration": 639,
        "start_time": "2025-04-04T16:18:42.105Z"
      },
      {
        "duration": 131,
        "start_time": "2025-04-04T16:18:42.746Z"
      },
      {
        "duration": 534,
        "start_time": "2025-04-04T16:18:42.880Z"
      },
      {
        "duration": 126,
        "start_time": "2025-04-04T16:18:43.416Z"
      },
      {
        "duration": 579,
        "start_time": "2025-04-04T16:18:43.544Z"
      },
      {
        "duration": 104,
        "start_time": "2025-04-04T16:18:44.125Z"
      },
      {
        "duration": 686,
        "start_time": "2025-04-04T16:18:44.232Z"
      },
      {
        "duration": 111,
        "start_time": "2025-04-04T16:18:44.920Z"
      },
      {
        "duration": 590,
        "start_time": "2025-04-04T16:18:45.033Z"
      },
      {
        "duration": 884,
        "start_time": "2025-04-04T16:18:45.625Z"
      },
      {
        "duration": 294,
        "start_time": "2025-04-04T16:18:46.511Z"
      },
      {
        "duration": 1111,
        "start_time": "2025-04-04T16:18:46.807Z"
      },
      {
        "duration": 266,
        "start_time": "2025-04-04T16:18:47.920Z"
      },
      {
        "duration": 1232,
        "start_time": "2025-04-04T16:18:48.188Z"
      },
      {
        "duration": 175,
        "start_time": "2025-04-04T16:18:49.422Z"
      },
      {
        "duration": 1010,
        "start_time": "2025-04-04T16:18:49.600Z"
      },
      {
        "duration": 266,
        "start_time": "2025-04-04T16:18:50.612Z"
      },
      {
        "duration": 658,
        "start_time": "2025-04-04T16:18:50.880Z"
      },
      {
        "duration": 749,
        "start_time": "2025-04-04T16:18:51.540Z"
      },
      {
        "duration": 130,
        "start_time": "2025-04-04T16:18:52.291Z"
      },
      {
        "duration": 673,
        "start_time": "2025-04-04T16:18:52.427Z"
      },
      {
        "duration": 130,
        "start_time": "2025-04-04T16:18:53.103Z"
      },
      {
        "duration": 710,
        "start_time": "2025-04-04T16:18:53.236Z"
      },
      {
        "duration": 132,
        "start_time": "2025-04-04T16:18:53.948Z"
      },
      {
        "duration": 707,
        "start_time": "2025-04-04T16:18:54.082Z"
      },
      {
        "duration": 110,
        "start_time": "2025-04-04T16:18:54.791Z"
      },
      {
        "duration": 1531,
        "start_time": "2025-04-04T16:18:54.903Z"
      },
      {
        "duration": 1679,
        "start_time": "2025-04-04T16:18:56.436Z"
      },
      {
        "duration": 466,
        "start_time": "2025-04-04T16:18:58.117Z"
      },
      {
        "duration": 21,
        "start_time": "2025-04-04T16:18:58.676Z"
      },
      {
        "duration": 222,
        "start_time": "2025-04-04T16:18:58.699Z"
      },
      {
        "duration": 20,
        "start_time": "2025-04-04T16:18:58.923Z"
      },
      {
        "duration": 140,
        "start_time": "2025-04-04T16:18:58.945Z"
      },
      {
        "duration": 119,
        "start_time": "2025-04-04T16:18:59.088Z"
      },
      {
        "duration": 5,
        "start_time": "2025-04-04T16:18:59.209Z"
      },
      {
        "duration": 73,
        "start_time": "2025-04-04T16:18:59.216Z"
      },
      {
        "duration": 9,
        "start_time": "2025-04-04T16:18:59.291Z"
      },
      {
        "duration": 1206,
        "start_time": "2025-04-04T16:18:59.302Z"
      },
      {
        "duration": 134,
        "start_time": "2025-04-04T16:19:00.510Z"
      },
      {
        "duration": 2251,
        "start_time": "2025-04-04T16:19:00.646Z"
      },
      {
        "duration": 19166,
        "start_time": "2025-04-04T16:20:26.305Z"
      },
      {
        "duration": 1084,
        "start_time": "2025-04-04T16:20:45.476Z"
      },
      {
        "duration": 114,
        "start_time": "2025-04-04T16:20:46.563Z"
      },
      {
        "duration": 19,
        "start_time": "2025-04-04T16:20:46.680Z"
      },
      {
        "duration": 20,
        "start_time": "2025-04-04T16:20:46.701Z"
      },
      {
        "duration": 149,
        "start_time": "2025-04-04T16:20:46.723Z"
      },
      {
        "duration": 522,
        "start_time": "2025-04-04T16:20:46.873Z"
      },
      {
        "duration": 541,
        "start_time": "2025-04-04T16:20:47.397Z"
      },
      {
        "duration": 118,
        "start_time": "2025-04-04T16:20:47.940Z"
      },
      {
        "duration": 554,
        "start_time": "2025-04-04T16:20:48.061Z"
      },
      {
        "duration": 133,
        "start_time": "2025-04-04T16:20:48.617Z"
      },
      {
        "duration": 578,
        "start_time": "2025-04-04T16:20:48.753Z"
      },
      {
        "duration": 101,
        "start_time": "2025-04-04T16:20:49.333Z"
      },
      {
        "duration": 661,
        "start_time": "2025-04-04T16:20:49.436Z"
      },
      {
        "duration": 118,
        "start_time": "2025-04-04T16:20:50.099Z"
      },
      {
        "duration": 628,
        "start_time": "2025-04-04T16:20:50.219Z"
      },
      {
        "duration": 599,
        "start_time": "2025-04-04T16:20:50.850Z"
      },
      {
        "duration": 126,
        "start_time": "2025-04-04T16:20:51.451Z"
      },
      {
        "duration": 645,
        "start_time": "2025-04-04T16:20:51.579Z"
      },
      {
        "duration": 112,
        "start_time": "2025-04-04T16:20:52.227Z"
      },
      {
        "duration": 652,
        "start_time": "2025-04-04T16:20:52.341Z"
      },
      {
        "duration": 204,
        "start_time": "2025-04-04T16:20:52.995Z"
      },
      {
        "duration": 982,
        "start_time": "2025-04-04T16:20:53.201Z"
      },
      {
        "duration": 200,
        "start_time": "2025-04-04T16:20:54.185Z"
      },
      {
        "duration": 629,
        "start_time": "2025-04-04T16:20:54.387Z"
      },
      {
        "duration": 713,
        "start_time": "2025-04-04T16:20:55.018Z"
      },
      {
        "duration": 152,
        "start_time": "2025-04-04T16:20:55.733Z"
      },
      {
        "duration": 629,
        "start_time": "2025-04-04T16:20:55.891Z"
      },
      {
        "duration": 140,
        "start_time": "2025-04-04T16:20:56.522Z"
      },
      {
        "duration": 653,
        "start_time": "2025-04-04T16:20:56.664Z"
      },
      {
        "duration": 125,
        "start_time": "2025-04-04T16:20:57.319Z"
      },
      {
        "duration": 629,
        "start_time": "2025-04-04T16:20:57.447Z"
      },
      {
        "duration": 111,
        "start_time": "2025-04-04T16:20:58.079Z"
      },
      {
        "duration": 1501,
        "start_time": "2025-04-04T16:20:58.192Z"
      },
      {
        "duration": 1751,
        "start_time": "2025-04-04T16:20:59.696Z"
      },
      {
        "duration": 628,
        "start_time": "2025-04-04T16:21:01.450Z"
      },
      {
        "duration": 20,
        "start_time": "2025-04-04T16:21:02.080Z"
      },
      {
        "duration": 222,
        "start_time": "2025-04-04T16:21:02.101Z"
      },
      {
        "duration": 12,
        "start_time": "2025-04-04T16:21:02.325Z"
      },
      {
        "duration": 238,
        "start_time": "2025-04-04T16:21:02.339Z"
      },
      {
        "duration": 43,
        "start_time": "2025-04-04T16:21:02.580Z"
      },
      {
        "duration": 132,
        "start_time": "2025-04-04T16:21:02.625Z"
      },
      {
        "duration": 80,
        "start_time": "2025-04-04T16:21:02.759Z"
      },
      {
        "duration": 10,
        "start_time": "2025-04-04T16:21:02.841Z"
      },
      {
        "duration": 1288,
        "start_time": "2025-04-04T16:21:02.853Z"
      },
      {
        "duration": 155,
        "start_time": "2025-04-04T16:21:04.144Z"
      },
      {
        "duration": 2314,
        "start_time": "2025-04-04T16:21:04.301Z"
      },
      {
        "duration": 162,
        "start_time": "2025-04-04T16:26:50.217Z"
      },
      {
        "duration": 18250,
        "start_time": "2025-04-04T16:27:15.108Z"
      },
      {
        "duration": 981,
        "start_time": "2025-04-04T16:27:33.361Z"
      },
      {
        "duration": 103,
        "start_time": "2025-04-04T16:27:34.344Z"
      },
      {
        "duration": 28,
        "start_time": "2025-04-04T16:27:34.450Z"
      },
      {
        "duration": 18,
        "start_time": "2025-04-04T16:27:34.480Z"
      },
      {
        "duration": 139,
        "start_time": "2025-04-04T16:27:34.500Z"
      },
      {
        "duration": 535,
        "start_time": "2025-04-04T16:27:34.641Z"
      },
      {
        "duration": 566,
        "start_time": "2025-04-04T16:27:35.178Z"
      },
      {
        "duration": 143,
        "start_time": "2025-04-04T16:27:35.745Z"
      },
      {
        "duration": 535,
        "start_time": "2025-04-04T16:27:35.892Z"
      },
      {
        "duration": 134,
        "start_time": "2025-04-04T16:27:36.429Z"
      },
      {
        "duration": 586,
        "start_time": "2025-04-04T16:27:36.566Z"
      },
      {
        "duration": 114,
        "start_time": "2025-04-04T16:27:37.154Z"
      },
      {
        "duration": 633,
        "start_time": "2025-04-04T16:27:37.276Z"
      },
      {
        "duration": 114,
        "start_time": "2025-04-04T16:27:37.911Z"
      },
      {
        "duration": 604,
        "start_time": "2025-04-04T16:27:38.027Z"
      },
      {
        "duration": 608,
        "start_time": "2025-04-04T16:27:38.633Z"
      },
      {
        "duration": 134,
        "start_time": "2025-04-04T16:27:39.243Z"
      },
      {
        "duration": 613,
        "start_time": "2025-04-04T16:27:39.380Z"
      },
      {
        "duration": 121,
        "start_time": "2025-04-04T16:27:39.996Z"
      },
      {
        "duration": 688,
        "start_time": "2025-04-04T16:27:40.120Z"
      },
      {
        "duration": 115,
        "start_time": "2025-04-04T16:27:40.810Z"
      },
      {
        "duration": 985,
        "start_time": "2025-04-04T16:27:40.927Z"
      },
      {
        "duration": 278,
        "start_time": "2025-04-04T16:27:41.914Z"
      },
      {
        "duration": 778,
        "start_time": "2025-04-04T16:27:42.193Z"
      },
      {
        "duration": 686,
        "start_time": "2025-04-04T16:27:42.975Z"
      },
      {
        "duration": 126,
        "start_time": "2025-04-04T16:27:43.663Z"
      },
      {
        "duration": 606,
        "start_time": "2025-04-04T16:27:43.795Z"
      },
      {
        "duration": 129,
        "start_time": "2025-04-04T16:27:44.404Z"
      },
      {
        "duration": 650,
        "start_time": "2025-04-04T16:27:44.535Z"
      },
      {
        "duration": 118,
        "start_time": "2025-04-04T16:27:45.187Z"
      },
      {
        "duration": 701,
        "start_time": "2025-04-04T16:27:45.307Z"
      },
      {
        "duration": 114,
        "start_time": "2025-04-04T16:27:46.010Z"
      },
      {
        "duration": 1525,
        "start_time": "2025-04-04T16:27:46.126Z"
      },
      {
        "duration": 1695,
        "start_time": "2025-04-04T16:27:47.654Z"
      },
      {
        "duration": 627,
        "start_time": "2025-04-04T16:27:49.351Z"
      },
      {
        "duration": 21,
        "start_time": "2025-04-04T16:27:49.980Z"
      },
      {
        "duration": 222,
        "start_time": "2025-04-04T16:27:50.004Z"
      },
      {
        "duration": 21,
        "start_time": "2025-04-04T16:27:50.229Z"
      },
      {
        "duration": 192,
        "start_time": "2025-04-04T16:27:50.252Z"
      },
      {
        "duration": 0,
        "start_time": "2025-04-04T16:27:50.446Z"
      },
      {
        "duration": 0,
        "start_time": "2025-04-04T16:27:50.448Z"
      },
      {
        "duration": 0,
        "start_time": "2025-04-04T16:27:50.449Z"
      },
      {
        "duration": 0,
        "start_time": "2025-04-04T16:27:50.451Z"
      },
      {
        "duration": 0,
        "start_time": "2025-04-04T16:27:50.452Z"
      },
      {
        "duration": 0,
        "start_time": "2025-04-04T16:27:50.453Z"
      },
      {
        "duration": 0,
        "start_time": "2025-04-04T16:27:50.455Z"
      },
      {
        "duration": 18,
        "start_time": "2025-04-04T16:29:27.951Z"
      },
      {
        "duration": 124,
        "start_time": "2025-04-04T16:29:36.855Z"
      },
      {
        "duration": 18543,
        "start_time": "2025-04-04T16:30:44.316Z"
      },
      {
        "duration": 1101,
        "start_time": "2025-04-04T16:31:02.862Z"
      },
      {
        "duration": 106,
        "start_time": "2025-04-04T16:31:03.965Z"
      },
      {
        "duration": 19,
        "start_time": "2025-04-04T16:31:04.077Z"
      },
      {
        "duration": 70,
        "start_time": "2025-04-04T16:31:04.097Z"
      },
      {
        "duration": 131,
        "start_time": "2025-04-04T16:31:04.170Z"
      },
      {
        "duration": 530,
        "start_time": "2025-04-04T16:31:04.302Z"
      },
      {
        "duration": 618,
        "start_time": "2025-04-04T16:31:04.834Z"
      },
      {
        "duration": 131,
        "start_time": "2025-04-04T16:31:05.454Z"
      },
      {
        "duration": 570,
        "start_time": "2025-04-04T16:31:05.588Z"
      },
      {
        "duration": 132,
        "start_time": "2025-04-04T16:31:06.160Z"
      },
      {
        "duration": 645,
        "start_time": "2025-04-04T16:31:06.294Z"
      },
      {
        "duration": 113,
        "start_time": "2025-04-04T16:31:06.941Z"
      },
      {
        "duration": 653,
        "start_time": "2025-04-04T16:31:07.056Z"
      },
      {
        "duration": 114,
        "start_time": "2025-04-04T16:31:07.711Z"
      },
      {
        "duration": 596,
        "start_time": "2025-04-04T16:31:07.827Z"
      },
      {
        "duration": 966,
        "start_time": "2025-04-04T16:31:08.425Z"
      },
      {
        "duration": 219,
        "start_time": "2025-04-04T16:31:09.393Z"
      },
      {
        "duration": 1067,
        "start_time": "2025-04-04T16:31:09.614Z"
      },
      {
        "duration": 220,
        "start_time": "2025-04-04T16:31:10.683Z"
      },
      {
        "duration": 1179,
        "start_time": "2025-04-04T16:31:10.905Z"
      },
      {
        "duration": 159,
        "start_time": "2025-04-04T16:31:12.086Z"
      },
      {
        "duration": 581,
        "start_time": "2025-04-04T16:31:12.247Z"
      },
      {
        "duration": 114,
        "start_time": "2025-04-04T16:31:12.830Z"
      },
      {
        "duration": 515,
        "start_time": "2025-04-04T16:31:12.947Z"
      },
      {
        "duration": 680,
        "start_time": "2025-04-04T16:31:13.464Z"
      },
      {
        "duration": 121,
        "start_time": "2025-04-04T16:31:14.146Z"
      },
      {
        "duration": 627,
        "start_time": "2025-04-04T16:31:14.276Z"
      },
      {
        "duration": 129,
        "start_time": "2025-04-04T16:31:14.905Z"
      },
      {
        "duration": 664,
        "start_time": "2025-04-04T16:31:15.037Z"
      },
      {
        "duration": 121,
        "start_time": "2025-04-04T16:31:15.703Z"
      },
      {
        "duration": 659,
        "start_time": "2025-04-04T16:31:15.828Z"
      },
      {
        "duration": 119,
        "start_time": "2025-04-04T16:31:16.490Z"
      },
      {
        "duration": 1535,
        "start_time": "2025-04-04T16:31:16.611Z"
      },
      {
        "duration": 1700,
        "start_time": "2025-04-04T16:31:18.148Z"
      },
      {
        "duration": 628,
        "start_time": "2025-04-04T16:31:19.850Z"
      },
      {
        "duration": 21,
        "start_time": "2025-04-04T16:31:20.480Z"
      },
      {
        "duration": 236,
        "start_time": "2025-04-04T16:31:20.502Z"
      },
      {
        "duration": 20,
        "start_time": "2025-04-04T16:31:20.740Z"
      },
      {
        "duration": 203,
        "start_time": "2025-04-04T16:31:20.776Z"
      },
      {
        "duration": 36,
        "start_time": "2025-04-04T16:31:20.981Z"
      },
      {
        "duration": 5,
        "start_time": "2025-04-04T16:31:21.019Z"
      },
      {
        "duration": 78,
        "start_time": "2025-04-04T16:31:21.026Z"
      },
      {
        "duration": 9,
        "start_time": "2025-04-04T16:31:21.107Z"
      },
      {
        "duration": 1211,
        "start_time": "2025-04-04T16:31:21.118Z"
      },
      {
        "duration": 146,
        "start_time": "2025-04-04T16:31:22.331Z"
      },
      {
        "duration": 2132,
        "start_time": "2025-04-04T16:31:22.479Z"
      },
      {
        "duration": 18962,
        "start_time": "2025-04-04T16:32:14.682Z"
      },
      {
        "duration": 989,
        "start_time": "2025-04-04T16:32:33.647Z"
      },
      {
        "duration": 113,
        "start_time": "2025-04-04T16:32:34.638Z"
      },
      {
        "duration": 29,
        "start_time": "2025-04-04T16:32:34.753Z"
      },
      {
        "duration": 19,
        "start_time": "2025-04-04T16:32:34.784Z"
      },
      {
        "duration": 131,
        "start_time": "2025-04-04T16:32:34.805Z"
      },
      {
        "duration": 523,
        "start_time": "2025-04-04T16:32:34.938Z"
      },
      {
        "duration": 705,
        "start_time": "2025-04-04T16:32:35.463Z"
      },
      {
        "duration": 124,
        "start_time": "2025-04-04T16:32:36.171Z"
      },
      {
        "duration": 627,
        "start_time": "2025-04-04T16:32:36.299Z"
      },
      {
        "duration": 121,
        "start_time": "2025-04-04T16:32:36.928Z"
      },
      {
        "duration": 568,
        "start_time": "2025-04-04T16:32:37.051Z"
      },
      {
        "duration": 104,
        "start_time": "2025-04-04T16:32:37.621Z"
      },
      {
        "duration": 1062,
        "start_time": "2025-04-04T16:32:37.727Z"
      },
      {
        "duration": 210,
        "start_time": "2025-04-04T16:32:38.791Z"
      },
      {
        "duration": 1294,
        "start_time": "2025-04-04T16:32:39.003Z"
      },
      {
        "duration": 817,
        "start_time": "2025-04-04T16:32:40.299Z"
      },
      {
        "duration": 122,
        "start_time": "2025-04-04T16:32:41.118Z"
      },
      {
        "duration": 629,
        "start_time": "2025-04-04T16:32:41.242Z"
      },
      {
        "duration": 114,
        "start_time": "2025-04-04T16:32:41.876Z"
      },
      {
        "duration": 703,
        "start_time": "2025-04-04T16:32:41.993Z"
      },
      {
        "duration": 113,
        "start_time": "2025-04-04T16:32:42.699Z"
      },
      {
        "duration": 597,
        "start_time": "2025-04-04T16:32:42.814Z"
      },
      {
        "duration": 108,
        "start_time": "2025-04-04T16:32:43.413Z"
      },
      {
        "duration": 510,
        "start_time": "2025-04-04T16:32:43.523Z"
      },
      {
        "duration": 728,
        "start_time": "2025-04-04T16:32:44.036Z"
      },
      {
        "duration": 124,
        "start_time": "2025-04-04T16:32:44.767Z"
      },
      {
        "duration": 613,
        "start_time": "2025-04-04T16:32:44.896Z"
      },
      {
        "duration": 124,
        "start_time": "2025-04-04T16:32:45.511Z"
      },
      {
        "duration": 670,
        "start_time": "2025-04-04T16:32:45.638Z"
      },
      {
        "duration": 116,
        "start_time": "2025-04-04T16:32:46.310Z"
      },
      {
        "duration": 651,
        "start_time": "2025-04-04T16:32:46.428Z"
      },
      {
        "duration": 107,
        "start_time": "2025-04-04T16:32:47.081Z"
      },
      {
        "duration": 1527,
        "start_time": "2025-04-04T16:32:47.190Z"
      },
      {
        "duration": 1713,
        "start_time": "2025-04-04T16:32:48.720Z"
      },
      {
        "duration": 645,
        "start_time": "2025-04-04T16:32:50.435Z"
      },
      {
        "duration": 21,
        "start_time": "2025-04-04T16:32:51.082Z"
      },
      {
        "duration": 223,
        "start_time": "2025-04-04T16:32:51.105Z"
      },
      {
        "duration": 11,
        "start_time": "2025-04-04T16:32:51.330Z"
      },
      {
        "duration": 136,
        "start_time": "2025-04-04T16:32:51.342Z"
      },
      {
        "duration": 130,
        "start_time": "2025-04-04T16:32:51.481Z"
      },
      {
        "duration": 5,
        "start_time": "2025-04-04T16:32:51.612Z"
      },
      {
        "duration": 141,
        "start_time": "2025-04-04T16:32:51.619Z"
      },
      {
        "duration": 9,
        "start_time": "2025-04-04T16:32:51.762Z"
      },
      {
        "duration": 1174,
        "start_time": "2025-04-04T16:32:51.773Z"
      },
      {
        "duration": 138,
        "start_time": "2025-04-04T16:32:52.949Z"
      },
      {
        "duration": 2117,
        "start_time": "2025-04-04T16:32:53.089Z"
      },
      {
        "duration": 18536,
        "start_time": "2025-04-04T16:34:45.822Z"
      },
      {
        "duration": 1251,
        "start_time": "2025-04-04T16:35:04.360Z"
      },
      {
        "duration": 106,
        "start_time": "2025-04-04T16:35:05.613Z"
      },
      {
        "duration": 20,
        "start_time": "2025-04-04T16:35:05.721Z"
      },
      {
        "duration": 37,
        "start_time": "2025-04-04T16:35:05.742Z"
      },
      {
        "duration": 149,
        "start_time": "2025-04-04T16:35:05.781Z"
      },
      {
        "duration": 527,
        "start_time": "2025-04-04T16:35:05.931Z"
      },
      {
        "duration": 687,
        "start_time": "2025-04-04T16:35:06.460Z"
      },
      {
        "duration": 133,
        "start_time": "2025-04-04T16:35:07.149Z"
      },
      {
        "duration": 550,
        "start_time": "2025-04-04T16:35:07.285Z"
      },
      {
        "duration": 123,
        "start_time": "2025-04-04T16:35:07.837Z"
      },
      {
        "duration": 568,
        "start_time": "2025-04-04T16:35:07.962Z"
      },
      {
        "duration": 97,
        "start_time": "2025-04-04T16:35:08.533Z"
      },
      {
        "duration": 666,
        "start_time": "2025-04-04T16:35:08.632Z"
      },
      {
        "duration": 118,
        "start_time": "2025-04-04T16:35:09.300Z"
      },
      {
        "duration": 598,
        "start_time": "2025-04-04T16:35:09.420Z"
      },
      {
        "duration": 625,
        "start_time": "2025-04-04T16:35:10.020Z"
      },
      {
        "duration": 132,
        "start_time": "2025-04-04T16:35:10.647Z"
      },
      {
        "duration": 630,
        "start_time": "2025-04-04T16:35:10.781Z"
      },
      {
        "duration": 112,
        "start_time": "2025-04-04T16:35:11.413Z"
      },
      {
        "duration": 691,
        "start_time": "2025-04-04T16:35:11.527Z"
      },
      {
        "duration": 112,
        "start_time": "2025-04-04T16:35:12.220Z"
      },
      {
        "duration": 593,
        "start_time": "2025-04-04T16:35:12.335Z"
      },
      {
        "duration": 112,
        "start_time": "2025-04-04T16:35:12.931Z"
      },
      {
        "duration": 528,
        "start_time": "2025-04-04T16:35:13.045Z"
      },
      {
        "duration": 675,
        "start_time": "2025-04-04T16:35:13.575Z"
      },
      {
        "duration": 135,
        "start_time": "2025-04-04T16:35:14.253Z"
      },
      {
        "duration": 694,
        "start_time": "2025-04-04T16:35:14.395Z"
      },
      {
        "duration": 125,
        "start_time": "2025-04-04T16:35:15.091Z"
      },
      {
        "duration": 686,
        "start_time": "2025-04-04T16:35:15.219Z"
      },
      {
        "duration": 126,
        "start_time": "2025-04-04T16:35:15.908Z"
      },
      {
        "duration": 649,
        "start_time": "2025-04-04T16:35:16.036Z"
      },
      {
        "duration": 115,
        "start_time": "2025-04-04T16:35:16.687Z"
      },
      {
        "duration": 1530,
        "start_time": "2025-04-04T16:35:16.804Z"
      },
      {
        "duration": 1698,
        "start_time": "2025-04-04T16:35:18.336Z"
      },
      {
        "duration": 639,
        "start_time": "2025-04-04T16:35:20.036Z"
      },
      {
        "duration": 23,
        "start_time": "2025-04-04T16:35:20.678Z"
      },
      {
        "duration": 319,
        "start_time": "2025-04-04T16:35:20.703Z"
      },
      {
        "duration": 19,
        "start_time": "2025-04-04T16:35:21.024Z"
      },
      {
        "duration": 134,
        "start_time": "2025-04-04T16:35:21.045Z"
      },
      {
        "duration": 127,
        "start_time": "2025-04-04T16:35:21.182Z"
      },
      {
        "duration": 5,
        "start_time": "2025-04-04T16:35:21.311Z"
      },
      {
        "duration": 68,
        "start_time": "2025-04-04T16:35:21.318Z"
      },
      {
        "duration": 9,
        "start_time": "2025-04-04T16:35:21.388Z"
      },
      {
        "duration": 1902,
        "start_time": "2025-04-04T16:35:21.399Z"
      },
      {
        "duration": 298,
        "start_time": "2025-04-04T16:35:23.303Z"
      },
      {
        "duration": 2392,
        "start_time": "2025-04-04T16:35:23.603Z"
      },
      {
        "duration": 65,
        "start_time": "2025-04-04T16:39:40.335Z"
      },
      {
        "duration": 33,
        "start_time": "2025-04-04T16:40:38.024Z"
      },
      {
        "duration": 19204,
        "start_time": "2025-04-04T16:40:52.710Z"
      },
      {
        "duration": 1329,
        "start_time": "2025-04-04T16:41:11.916Z"
      },
      {
        "duration": 116,
        "start_time": "2025-04-04T16:41:13.246Z"
      },
      {
        "duration": 25,
        "start_time": "2025-04-04T16:41:13.364Z"
      },
      {
        "duration": 26,
        "start_time": "2025-04-04T16:41:13.391Z"
      },
      {
        "duration": 184,
        "start_time": "2025-04-04T16:41:13.419Z"
      },
      {
        "duration": 517,
        "start_time": "2025-04-04T16:41:13.604Z"
      },
      {
        "duration": 642,
        "start_time": "2025-04-04T16:41:14.123Z"
      },
      {
        "duration": 124,
        "start_time": "2025-04-04T16:41:14.767Z"
      },
      {
        "duration": 528,
        "start_time": "2025-04-04T16:41:14.895Z"
      },
      {
        "duration": 123,
        "start_time": "2025-04-04T16:41:15.425Z"
      },
      {
        "duration": 619,
        "start_time": "2025-04-04T16:41:15.550Z"
      },
      {
        "duration": 116,
        "start_time": "2025-04-04T16:41:16.170Z"
      },
      {
        "duration": 762,
        "start_time": "2025-04-04T16:41:16.288Z"
      },
      {
        "duration": 114,
        "start_time": "2025-04-04T16:41:17.053Z"
      },
      {
        "duration": 613,
        "start_time": "2025-04-04T16:41:17.177Z"
      },
      {
        "duration": 547,
        "start_time": "2025-04-04T16:41:17.792Z"
      },
      {
        "duration": 136,
        "start_time": "2025-04-04T16:41:18.341Z"
      },
      {
        "duration": 632,
        "start_time": "2025-04-04T16:41:18.479Z"
      },
      {
        "duration": 119,
        "start_time": "2025-04-04T16:41:19.113Z"
      },
      {
        "duration": 673,
        "start_time": "2025-04-04T16:41:19.234Z"
      },
      {
        "duration": 110,
        "start_time": "2025-04-04T16:41:19.909Z"
      },
      {
        "duration": 592,
        "start_time": "2025-04-04T16:41:20.022Z"
      },
      {
        "duration": 116,
        "start_time": "2025-04-04T16:41:20.616Z"
      },
      {
        "duration": 525,
        "start_time": "2025-04-04T16:41:20.734Z"
      },
      {
        "duration": 696,
        "start_time": "2025-04-04T16:41:21.261Z"
      },
      {
        "duration": 158,
        "start_time": "2025-04-04T16:41:21.959Z"
      },
      {
        "duration": 673,
        "start_time": "2025-04-04T16:41:22.122Z"
      },
      {
        "duration": 120,
        "start_time": "2025-04-04T16:41:22.796Z"
      },
      {
        "duration": 682,
        "start_time": "2025-04-04T16:41:22.918Z"
      },
      {
        "duration": 115,
        "start_time": "2025-04-04T16:41:23.602Z"
      },
      {
        "duration": 671,
        "start_time": "2025-04-04T16:41:23.718Z"
      },
      {
        "duration": 118,
        "start_time": "2025-04-04T16:41:24.391Z"
      },
      {
        "duration": 1547,
        "start_time": "2025-04-04T16:41:24.510Z"
      },
      {
        "duration": 1685,
        "start_time": "2025-04-04T16:41:26.061Z"
      },
      {
        "duration": 630,
        "start_time": "2025-04-04T16:41:27.748Z"
      },
      {
        "duration": 20,
        "start_time": "2025-04-04T16:41:28.381Z"
      },
      {
        "duration": 222,
        "start_time": "2025-04-04T16:41:28.402Z"
      },
      {
        "duration": 19,
        "start_time": "2025-04-04T16:41:28.626Z"
      },
      {
        "duration": 133,
        "start_time": "2025-04-04T16:41:28.646Z"
      },
      {
        "duration": 126,
        "start_time": "2025-04-04T16:41:28.782Z"
      },
      {
        "duration": 5,
        "start_time": "2025-04-04T16:41:28.909Z"
      },
      {
        "duration": 73,
        "start_time": "2025-04-04T16:41:28.916Z"
      },
      {
        "duration": 9,
        "start_time": "2025-04-04T16:41:28.991Z"
      },
      {
        "duration": 1139,
        "start_time": "2025-04-04T16:41:29.002Z"
      },
      {
        "duration": 140,
        "start_time": "2025-04-04T16:41:30.143Z"
      },
      {
        "duration": 2420,
        "start_time": "2025-04-04T16:41:30.285Z"
      },
      {
        "duration": 33,
        "start_time": "2025-04-04T16:44:14.220Z"
      },
      {
        "duration": 6,
        "start_time": "2025-04-04T16:49:19.772Z"
      },
      {
        "duration": 32,
        "start_time": "2025-04-04T16:49:52.838Z"
      },
      {
        "duration": 31,
        "start_time": "2025-04-04T16:51:06.390Z"
      },
      {
        "duration": 10,
        "start_time": "2025-04-04T17:59:46.852Z"
      },
      {
        "duration": 1300,
        "start_time": "2025-04-04T17:59:48.577Z"
      },
      {
        "duration": 14,
        "start_time": "2025-04-04T18:03:36.062Z"
      },
      {
        "duration": 13,
        "start_time": "2025-04-04T18:05:35.595Z"
      },
      {
        "duration": 126,
        "start_time": "2025-04-04T18:05:36.250Z"
      },
      {
        "duration": 14,
        "start_time": "2025-04-04T18:06:22.852Z"
      },
      {
        "duration": 19,
        "start_time": "2025-04-04T18:06:25.361Z"
      },
      {
        "duration": 13,
        "start_time": "2025-04-04T18:07:29.532Z"
      },
      {
        "duration": 18,
        "start_time": "2025-04-04T18:07:31.135Z"
      },
      {
        "duration": 22488,
        "start_time": "2025-04-04T18:08:25.224Z"
      },
      {
        "duration": 1280,
        "start_time": "2025-04-04T18:08:47.715Z"
      },
      {
        "duration": 121,
        "start_time": "2025-04-04T18:08:48.998Z"
      },
      {
        "duration": 22,
        "start_time": "2025-04-04T18:08:49.123Z"
      },
      {
        "duration": 48,
        "start_time": "2025-04-04T18:08:49.148Z"
      },
      {
        "duration": 153,
        "start_time": "2025-04-04T18:08:49.198Z"
      },
      {
        "duration": 570,
        "start_time": "2025-04-04T18:08:49.353Z"
      },
      {
        "duration": 635,
        "start_time": "2025-04-04T18:08:49.926Z"
      },
      {
        "duration": 244,
        "start_time": "2025-04-04T18:08:50.564Z"
      },
      {
        "duration": 1072,
        "start_time": "2025-04-04T18:08:50.814Z"
      },
      {
        "duration": 315,
        "start_time": "2025-04-04T18:08:51.889Z"
      },
      {
        "duration": 1107,
        "start_time": "2025-04-04T18:08:52.206Z"
      },
      {
        "duration": 201,
        "start_time": "2025-04-04T18:08:53.315Z"
      },
      {
        "duration": 1163,
        "start_time": "2025-04-04T18:08:53.518Z"
      },
      {
        "duration": 125,
        "start_time": "2025-04-04T18:08:54.683Z"
      },
      {
        "duration": 638,
        "start_time": "2025-04-04T18:08:54.810Z"
      },
      {
        "duration": 632,
        "start_time": "2025-04-04T18:08:55.451Z"
      },
      {
        "duration": 133,
        "start_time": "2025-04-04T18:08:56.085Z"
      },
      {
        "duration": 704,
        "start_time": "2025-04-04T18:08:56.220Z"
      },
      {
        "duration": 134,
        "start_time": "2025-04-04T18:08:56.927Z"
      },
      {
        "duration": 656,
        "start_time": "2025-04-04T18:08:57.064Z"
      },
      {
        "duration": 116,
        "start_time": "2025-04-04T18:08:57.723Z"
      },
      {
        "duration": 581,
        "start_time": "2025-04-04T18:08:57.841Z"
      },
      {
        "duration": 116,
        "start_time": "2025-04-04T18:08:58.425Z"
      },
      {
        "duration": 562,
        "start_time": "2025-04-04T18:08:58.543Z"
      },
      {
        "duration": 750,
        "start_time": "2025-04-04T18:08:59.107Z"
      },
      {
        "duration": 135,
        "start_time": "2025-04-04T18:08:59.860Z"
      },
      {
        "duration": 693,
        "start_time": "2025-04-04T18:09:00.000Z"
      },
      {
        "duration": 133,
        "start_time": "2025-04-04T18:09:00.695Z"
      },
      {
        "duration": 667,
        "start_time": "2025-04-04T18:09:00.830Z"
      },
      {
        "duration": 121,
        "start_time": "2025-04-04T18:09:01.500Z"
      },
      {
        "duration": 709,
        "start_time": "2025-04-04T18:09:01.623Z"
      },
      {
        "duration": 118,
        "start_time": "2025-04-04T18:09:02.335Z"
      },
      {
        "duration": 1565,
        "start_time": "2025-04-04T18:09:02.455Z"
      },
      {
        "duration": 1770,
        "start_time": "2025-04-04T18:09:04.023Z"
      },
      {
        "duration": 582,
        "start_time": "2025-04-04T18:09:05.795Z"
      },
      {
        "duration": 21,
        "start_time": "2025-04-04T18:09:06.379Z"
      },
      {
        "duration": 302,
        "start_time": "2025-04-04T18:09:06.402Z"
      },
      {
        "duration": 21,
        "start_time": "2025-04-04T18:09:06.706Z"
      },
      {
        "duration": 149,
        "start_time": "2025-04-04T18:09:06.730Z"
      },
      {
        "duration": 127,
        "start_time": "2025-04-04T18:09:06.882Z"
      },
      {
        "duration": 13,
        "start_time": "2025-04-04T18:09:07.011Z"
      },
      {
        "duration": 133,
        "start_time": "2025-04-04T18:09:07.026Z"
      },
      {
        "duration": 10,
        "start_time": "2025-04-04T18:09:07.161Z"
      },
      {
        "duration": 1205,
        "start_time": "2025-04-04T18:09:07.173Z"
      },
      {
        "duration": 2098,
        "start_time": "2025-04-04T18:09:08.380Z"
      },
      {
        "duration": 14,
        "start_time": "2025-04-04T18:09:10.480Z"
      },
      {
        "duration": 293,
        "start_time": "2025-04-04T18:09:10.496Z"
      },
      {
        "duration": 0,
        "start_time": "2025-04-04T18:09:10.791Z"
      },
      {
        "duration": 0,
        "start_time": "2025-04-04T18:09:10.793Z"
      },
      {
        "duration": 9,
        "start_time": "2025-04-04T18:11:06.986Z"
      },
      {
        "duration": 1160,
        "start_time": "2025-04-04T18:11:08.524Z"
      },
      {
        "duration": 14,
        "start_time": "2025-04-04T18:11:41.665Z"
      },
      {
        "duration": 16,
        "start_time": "2025-04-04T18:11:43.844Z"
      },
      {
        "duration": 21,
        "start_time": "2025-04-04T18:15:06.326Z"
      },
      {
        "duration": 18,
        "start_time": "2025-04-04T18:15:07.454Z"
      },
      {
        "duration": 21047,
        "start_time": "2025-04-04T18:17:39.479Z"
      },
      {
        "duration": 16,
        "start_time": "2025-04-04T18:18:00.529Z"
      },
      {
        "duration": 2642,
        "start_time": "2025-04-04T18:18:00.547Z"
      },
      {
        "duration": 15,
        "start_time": "2025-04-04T18:19:36.702Z"
      },
      {
        "duration": 2617,
        "start_time": "2025-04-04T18:19:37.910Z"
      },
      {
        "duration": 14,
        "start_time": "2025-04-04T18:21:27.406Z"
      },
      {
        "duration": 20,
        "start_time": "2025-04-04T18:22:04.386Z"
      },
      {
        "duration": 21,
        "start_time": "2025-04-04T18:22:06.079Z"
      },
      {
        "duration": 86,
        "start_time": "2025-04-04T18:22:50.386Z"
      },
      {
        "duration": 81,
        "start_time": "2025-04-04T18:23:37.102Z"
      },
      {
        "duration": 13,
        "start_time": "2025-04-04T18:23:38.670Z"
      },
      {
        "duration": 18,
        "start_time": "2025-04-04T18:24:59.495Z"
      },
      {
        "duration": 2593,
        "start_time": "2025-04-04T18:25:01.111Z"
      },
      {
        "duration": 20777,
        "start_time": "2025-04-04T18:28:51.129Z"
      },
      {
        "duration": 1261,
        "start_time": "2025-04-04T18:29:11.909Z"
      },
      {
        "duration": 127,
        "start_time": "2025-04-04T18:29:13.172Z"
      },
      {
        "duration": 20,
        "start_time": "2025-04-04T18:29:13.302Z"
      },
      {
        "duration": 21,
        "start_time": "2025-04-04T18:29:13.323Z"
      },
      {
        "duration": 168,
        "start_time": "2025-04-04T18:29:13.346Z"
      },
      {
        "duration": 604,
        "start_time": "2025-04-04T18:29:13.516Z"
      },
      {
        "duration": 805,
        "start_time": "2025-04-04T18:29:14.122Z"
      },
      {
        "duration": 150,
        "start_time": "2025-04-04T18:29:14.929Z"
      },
      {
        "duration": 606,
        "start_time": "2025-04-04T18:29:15.085Z"
      },
      {
        "duration": 157,
        "start_time": "2025-04-04T18:29:15.693Z"
      },
      {
        "duration": 729,
        "start_time": "2025-04-04T18:29:15.853Z"
      },
      {
        "duration": 123,
        "start_time": "2025-04-04T18:29:16.585Z"
      },
      {
        "duration": 769,
        "start_time": "2025-04-04T18:29:16.710Z"
      },
      {
        "duration": 137,
        "start_time": "2025-04-04T18:29:17.482Z"
      },
      {
        "duration": 672,
        "start_time": "2025-04-04T18:29:17.621Z"
      },
      {
        "duration": 709,
        "start_time": "2025-04-04T18:29:18.295Z"
      },
      {
        "duration": 147,
        "start_time": "2025-04-04T18:29:19.007Z"
      },
      {
        "duration": 681,
        "start_time": "2025-04-04T18:29:19.157Z"
      },
      {
        "duration": 149,
        "start_time": "2025-04-04T18:29:19.841Z"
      },
      {
        "duration": 649,
        "start_time": "2025-04-04T18:29:19.993Z"
      },
      {
        "duration": 119,
        "start_time": "2025-04-04T18:29:20.646Z"
      },
      {
        "duration": 616,
        "start_time": "2025-04-04T18:29:20.767Z"
      },
      {
        "duration": 130,
        "start_time": "2025-04-04T18:29:21.386Z"
      },
      {
        "duration": 627,
        "start_time": "2025-04-04T18:29:21.518Z"
      },
      {
        "duration": 773,
        "start_time": "2025-04-04T18:29:22.146Z"
      },
      {
        "duration": 129,
        "start_time": "2025-04-04T18:29:22.921Z"
      },
      {
        "duration": 706,
        "start_time": "2025-04-04T18:29:23.055Z"
      },
      {
        "duration": 144,
        "start_time": "2025-04-04T18:29:23.763Z"
      },
      {
        "duration": 758,
        "start_time": "2025-04-04T18:29:23.909Z"
      },
      {
        "duration": 152,
        "start_time": "2025-04-04T18:29:24.669Z"
      },
      {
        "duration": 747,
        "start_time": "2025-04-04T18:29:24.823Z"
      },
      {
        "duration": 131,
        "start_time": "2025-04-04T18:29:25.576Z"
      },
      {
        "duration": 1729,
        "start_time": "2025-04-04T18:29:25.709Z"
      },
      {
        "duration": 2008,
        "start_time": "2025-04-04T18:29:27.441Z"
      },
      {
        "duration": 548,
        "start_time": "2025-04-04T18:29:29.451Z"
      },
      {
        "duration": 40,
        "start_time": "2025-04-04T18:29:30.078Z"
      },
      {
        "duration": 310,
        "start_time": "2025-04-04T18:29:30.120Z"
      },
      {
        "duration": 18,
        "start_time": "2025-04-04T18:29:30.433Z"
      },
      {
        "duration": 135,
        "start_time": "2025-04-04T18:29:30.453Z"
      },
      {
        "duration": 125,
        "start_time": "2025-04-04T18:29:30.591Z"
      },
      {
        "duration": 99,
        "start_time": "2025-04-04T18:29:30.718Z"
      },
      {
        "duration": 50,
        "start_time": "2025-04-04T18:29:30.819Z"
      },
      {
        "duration": 11,
        "start_time": "2025-04-04T18:29:30.871Z"
      },
      {
        "duration": 1536,
        "start_time": "2025-04-04T18:29:30.885Z"
      },
      {
        "duration": 157,
        "start_time": "2025-04-04T18:29:32.423Z"
      },
      {
        "duration": 2800,
        "start_time": "2025-04-04T18:29:32.583Z"
      },
      {
        "duration": 85,
        "start_time": "2025-04-04T18:31:58.507Z"
      },
      {
        "duration": 21912,
        "start_time": "2025-04-04T18:32:31.606Z"
      },
      {
        "duration": 1001,
        "start_time": "2025-04-04T18:32:53.525Z"
      },
      {
        "duration": 118,
        "start_time": "2025-04-04T18:32:54.528Z"
      },
      {
        "duration": 35,
        "start_time": "2025-04-04T18:32:54.649Z"
      },
      {
        "duration": 22,
        "start_time": "2025-04-04T18:32:54.687Z"
      },
      {
        "duration": 151,
        "start_time": "2025-04-04T18:32:54.711Z"
      },
      {
        "duration": 564,
        "start_time": "2025-04-04T18:32:54.864Z"
      },
      {
        "duration": 649,
        "start_time": "2025-04-04T18:32:55.430Z"
      },
      {
        "duration": 143,
        "start_time": "2025-04-04T18:32:56.082Z"
      },
      {
        "duration": 644,
        "start_time": "2025-04-04T18:32:56.227Z"
      },
      {
        "duration": 132,
        "start_time": "2025-04-04T18:32:56.873Z"
      },
      {
        "duration": 656,
        "start_time": "2025-04-04T18:32:57.007Z"
      },
      {
        "duration": 118,
        "start_time": "2025-04-04T18:32:57.667Z"
      },
      {
        "duration": 640,
        "start_time": "2025-04-04T18:32:57.788Z"
      },
      {
        "duration": 121,
        "start_time": "2025-04-04T18:32:58.430Z"
      },
      {
        "duration": 684,
        "start_time": "2025-04-04T18:32:58.553Z"
      },
      {
        "duration": 618,
        "start_time": "2025-04-04T18:32:59.239Z"
      },
      {
        "duration": 146,
        "start_time": "2025-04-04T18:32:59.859Z"
      },
      {
        "duration": 740,
        "start_time": "2025-04-04T18:33:00.007Z"
      },
      {
        "duration": 137,
        "start_time": "2025-04-04T18:33:00.749Z"
      },
      {
        "duration": 648,
        "start_time": "2025-04-04T18:33:00.890Z"
      },
      {
        "duration": 131,
        "start_time": "2025-04-04T18:33:01.539Z"
      },
      {
        "duration": 644,
        "start_time": "2025-04-04T18:33:01.676Z"
      },
      {
        "duration": 129,
        "start_time": "2025-04-04T18:33:02.322Z"
      },
      {
        "duration": 605,
        "start_time": "2025-04-04T18:33:02.453Z"
      },
      {
        "duration": 849,
        "start_time": "2025-04-04T18:33:03.060Z"
      },
      {
        "duration": 148,
        "start_time": "2025-04-04T18:33:03.911Z"
      },
      {
        "duration": 792,
        "start_time": "2025-04-04T18:33:04.062Z"
      },
      {
        "duration": 137,
        "start_time": "2025-04-04T18:33:04.857Z"
      },
      {
        "duration": 783,
        "start_time": "2025-04-04T18:33:04.997Z"
      },
      {
        "duration": 161,
        "start_time": "2025-04-04T18:33:05.784Z"
      },
      {
        "duration": 828,
        "start_time": "2025-04-04T18:33:05.948Z"
      },
      {
        "duration": 137,
        "start_time": "2025-04-04T18:33:06.779Z"
      },
      {
        "duration": 1637,
        "start_time": "2025-04-04T18:33:06.917Z"
      },
      {
        "duration": 1992,
        "start_time": "2025-04-04T18:33:08.557Z"
      },
      {
        "duration": 530,
        "start_time": "2025-04-04T18:33:10.551Z"
      },
      {
        "duration": 107,
        "start_time": "2025-04-04T18:33:11.084Z"
      },
      {
        "duration": 298,
        "start_time": "2025-04-04T18:33:11.194Z"
      },
      {
        "duration": 20,
        "start_time": "2025-04-04T18:33:11.494Z"
      },
      {
        "duration": 164,
        "start_time": "2025-04-04T18:33:11.521Z"
      },
      {
        "duration": 39,
        "start_time": "2025-04-04T18:33:11.688Z"
      },
      {
        "duration": 7,
        "start_time": "2025-04-04T18:33:11.729Z"
      },
      {
        "duration": 39,
        "start_time": "2025-04-04T18:33:11.778Z"
      },
      {
        "duration": 10,
        "start_time": "2025-04-04T18:33:11.818Z"
      },
      {
        "duration": 1396,
        "start_time": "2025-04-04T18:33:11.830Z"
      },
      {
        "duration": 164,
        "start_time": "2025-04-04T18:33:13.228Z"
      },
      {
        "duration": 2746,
        "start_time": "2025-04-04T18:33:13.394Z"
      },
      {
        "duration": 14,
        "start_time": "2025-04-04T18:52:17.876Z"
      },
      {
        "duration": 2698,
        "start_time": "2025-04-04T18:52:20.083Z"
      },
      {
        "duration": 212,
        "start_time": "2025-04-04T18:56:44.885Z"
      },
      {
        "duration": 21120,
        "start_time": "2025-04-04T18:57:12.746Z"
      },
      {
        "duration": 45,
        "start_time": "2025-04-04T18:57:33.869Z"
      },
      {
        "duration": 12,
        "start_time": "2025-04-04T18:57:59.912Z"
      },
      {
        "duration": 27,
        "start_time": "2025-04-04T18:58:01.990Z"
      },
      {
        "duration": 13,
        "start_time": "2025-04-04T18:59:45.834Z"
      },
      {
        "duration": 3581,
        "start_time": "2025-04-04T18:59:47.126Z"
      },
      {
        "duration": 13,
        "start_time": "2025-04-04T19:01:49.753Z"
      },
      {
        "duration": 25,
        "start_time": "2025-04-04T19:03:51.876Z"
      },
      {
        "duration": 3527,
        "start_time": "2025-04-04T19:04:01.896Z"
      },
      {
        "duration": 12,
        "start_time": "2025-04-04T19:12:39.941Z"
      },
      {
        "duration": 1131,
        "start_time": "2025-04-04T19:12:41.999Z"
      },
      {
        "duration": 3513,
        "start_time": "2025-04-04T19:12:58.208Z"
      },
      {
        "duration": 13,
        "start_time": "2025-04-04T19:13:53.645Z"
      },
      {
        "duration": 3499,
        "start_time": "2025-04-04T19:13:54.484Z"
      },
      {
        "duration": 16,
        "start_time": "2025-04-04T19:14:20.792Z"
      },
      {
        "duration": 3549,
        "start_time": "2025-04-04T19:14:25.654Z"
      },
      {
        "duration": 86,
        "start_time": "2025-04-04T19:16:32.175Z"
      },
      {
        "duration": 3596,
        "start_time": "2025-04-04T19:16:33.459Z"
      },
      {
        "duration": 21,
        "start_time": "2025-04-04T19:18:15.970Z"
      },
      {
        "duration": 3302,
        "start_time": "2025-04-04T19:18:16.950Z"
      },
      {
        "duration": 12,
        "start_time": "2025-04-04T19:20:21.037Z"
      },
      {
        "duration": 3154,
        "start_time": "2025-04-04T19:20:21.857Z"
      },
      {
        "duration": 10,
        "start_time": "2025-04-04T19:21:08.478Z"
      },
      {
        "duration": 3170,
        "start_time": "2025-04-04T19:21:09.486Z"
      },
      {
        "duration": 20,
        "start_time": "2025-04-04T19:26:50.734Z"
      },
      {
        "duration": 3102,
        "start_time": "2025-04-04T19:26:51.737Z"
      },
      {
        "duration": 13,
        "start_time": "2025-04-04T19:27:18.366Z"
      },
      {
        "duration": 3129,
        "start_time": "2025-04-04T19:27:19.029Z"
      },
      {
        "duration": 10,
        "start_time": "2025-04-04T19:33:14.037Z"
      },
      {
        "duration": 5,
        "start_time": "2025-04-04T19:33:14.680Z"
      },
      {
        "duration": 5,
        "start_time": "2025-04-04T19:33:18.731Z"
      },
      {
        "duration": 2983,
        "start_time": "2025-04-04T19:33:25.244Z"
      },
      {
        "duration": 2903,
        "start_time": "2025-04-04T19:34:27.302Z"
      },
      {
        "duration": 10,
        "start_time": "2025-04-04T19:35:57.786Z"
      },
      {
        "duration": 5,
        "start_time": "2025-04-04T19:35:58.506Z"
      },
      {
        "duration": 2934,
        "start_time": "2025-04-04T19:35:59.106Z"
      },
      {
        "duration": 13,
        "start_time": "2025-04-04T19:37:24.026Z"
      },
      {
        "duration": 2150,
        "start_time": "2025-04-04T19:37:26.245Z"
      },
      {
        "duration": 13,
        "start_time": "2025-04-04T19:38:08.284Z"
      },
      {
        "duration": 2491,
        "start_time": "2025-04-04T19:38:08.922Z"
      },
      {
        "duration": 15,
        "start_time": "2025-04-04T19:39:10.823Z"
      },
      {
        "duration": 1831,
        "start_time": "2025-04-04T19:39:11.412Z"
      },
      {
        "duration": 17,
        "start_time": "2025-04-04T19:45:33.384Z"
      },
      {
        "duration": 19,
        "start_time": "2025-04-04T19:45:34.127Z"
      },
      {
        "duration": 6,
        "start_time": "2025-04-04T19:46:19.843Z"
      },
      {
        "duration": 12,
        "start_time": "2025-04-04T19:46:24.619Z"
      },
      {
        "duration": 27,
        "start_time": "2025-04-04T19:46:25.467Z"
      },
      {
        "duration": 6,
        "start_time": "2025-04-04T19:52:05.952Z"
      },
      {
        "duration": 13,
        "start_time": "2025-04-04T19:52:06.731Z"
      },
      {
        "duration": 13,
        "start_time": "2025-04-04T19:52:28.574Z"
      },
      {
        "duration": 6,
        "start_time": "2025-04-04T19:52:31.387Z"
      },
      {
        "duration": 12,
        "start_time": "2025-04-04T19:52:31.902Z"
      },
      {
        "duration": 6,
        "start_time": "2025-04-04T19:53:40.904Z"
      },
      {
        "duration": 11,
        "start_time": "2025-04-04T19:53:42.271Z"
      },
      {
        "duration": 7,
        "start_time": "2025-04-04T19:55:43.777Z"
      },
      {
        "duration": 14,
        "start_time": "2025-04-04T19:55:45.077Z"
      },
      {
        "duration": 35,
        "start_time": "2025-04-04T19:55:58.321Z"
      },
      {
        "duration": 13,
        "start_time": "2025-04-04T19:56:33.229Z"
      },
      {
        "duration": 1744,
        "start_time": "2025-04-04T19:56:35.234Z"
      },
      {
        "duration": 6,
        "start_time": "2025-04-04T19:57:04.597Z"
      },
      {
        "duration": 7,
        "start_time": "2025-04-04T19:57:05.370Z"
      },
      {
        "duration": 13,
        "start_time": "2025-04-04T19:57:06.406Z"
      },
      {
        "duration": 35,
        "start_time": "2025-04-04T19:57:22.066Z"
      },
      {
        "duration": 9,
        "start_time": "2025-04-04T19:57:30.923Z"
      },
      {
        "duration": 32,
        "start_time": "2025-04-04T19:57:34.143Z"
      },
      {
        "duration": 18991,
        "start_time": "2025-04-04T19:57:53.422Z"
      },
      {
        "duration": 1186,
        "start_time": "2025-04-04T19:58:12.416Z"
      },
      {
        "duration": 113,
        "start_time": "2025-04-04T19:58:13.604Z"
      },
      {
        "duration": 21,
        "start_time": "2025-04-04T19:58:13.720Z"
      },
      {
        "duration": 41,
        "start_time": "2025-04-04T19:58:13.743Z"
      },
      {
        "duration": 139,
        "start_time": "2025-04-04T19:58:13.786Z"
      },
      {
        "duration": 542,
        "start_time": "2025-04-04T19:58:13.927Z"
      },
      {
        "duration": 694,
        "start_time": "2025-04-04T19:58:14.476Z"
      },
      {
        "duration": 140,
        "start_time": "2025-04-04T19:58:15.175Z"
      },
      {
        "duration": 643,
        "start_time": "2025-04-04T19:58:15.319Z"
      },
      {
        "duration": 134,
        "start_time": "2025-04-04T19:58:15.964Z"
      },
      {
        "duration": 655,
        "start_time": "2025-04-04T19:58:16.100Z"
      },
      {
        "duration": 111,
        "start_time": "2025-04-04T19:58:16.757Z"
      },
      {
        "duration": 662,
        "start_time": "2025-04-04T19:58:16.871Z"
      },
      {
        "duration": 122,
        "start_time": "2025-04-04T19:58:17.535Z"
      },
      {
        "duration": 627,
        "start_time": "2025-04-04T19:58:17.660Z"
      },
      {
        "duration": 560,
        "start_time": "2025-04-04T19:58:18.290Z"
      },
      {
        "duration": 131,
        "start_time": "2025-04-04T19:58:18.851Z"
      },
      {
        "duration": 612,
        "start_time": "2025-04-04T19:58:18.985Z"
      },
      {
        "duration": 123,
        "start_time": "2025-04-04T19:58:19.599Z"
      },
      {
        "duration": 695,
        "start_time": "2025-04-04T19:58:19.725Z"
      },
      {
        "duration": 119,
        "start_time": "2025-04-04T19:58:20.422Z"
      },
      {
        "duration": 597,
        "start_time": "2025-04-04T19:58:20.544Z"
      },
      {
        "duration": 117,
        "start_time": "2025-04-04T19:58:21.144Z"
      },
      {
        "duration": 558,
        "start_time": "2025-04-04T19:58:21.263Z"
      },
      {
        "duration": 732,
        "start_time": "2025-04-04T19:58:21.823Z"
      },
      {
        "duration": 132,
        "start_time": "2025-04-04T19:58:22.557Z"
      },
      {
        "duration": 604,
        "start_time": "2025-04-04T19:58:22.694Z"
      },
      {
        "duration": 126,
        "start_time": "2025-04-04T19:58:23.300Z"
      },
      {
        "duration": 685,
        "start_time": "2025-04-04T19:58:23.428Z"
      },
      {
        "duration": 121,
        "start_time": "2025-04-04T19:58:24.116Z"
      },
      {
        "duration": 661,
        "start_time": "2025-04-04T19:58:24.239Z"
      },
      {
        "duration": 116,
        "start_time": "2025-04-04T19:58:24.903Z"
      },
      {
        "duration": 1609,
        "start_time": "2025-04-04T19:58:25.021Z"
      },
      {
        "duration": 1779,
        "start_time": "2025-04-04T19:58:26.632Z"
      },
      {
        "duration": 565,
        "start_time": "2025-04-04T19:58:28.414Z"
      },
      {
        "duration": 110,
        "start_time": "2025-04-04T19:58:28.982Z"
      },
      {
        "duration": 417,
        "start_time": "2025-04-04T19:58:29.094Z"
      },
      {
        "duration": 19,
        "start_time": "2025-04-04T19:58:29.514Z"
      },
      {
        "duration": 244,
        "start_time": "2025-04-04T19:58:29.535Z"
      },
      {
        "duration": 34,
        "start_time": "2025-04-04T19:58:29.781Z"
      },
      {
        "duration": 5,
        "start_time": "2025-04-04T19:58:29.817Z"
      },
      {
        "duration": 52,
        "start_time": "2025-04-04T19:58:29.824Z"
      },
      {
        "duration": 11,
        "start_time": "2025-04-04T19:58:29.878Z"
      },
      {
        "duration": 30,
        "start_time": "2025-04-04T19:58:29.891Z"
      },
      {
        "duration": 11,
        "start_time": "2025-04-04T19:58:29.924Z"
      },
      {
        "duration": 1957,
        "start_time": "2025-04-04T19:58:29.937Z"
      },
      {
        "duration": 10,
        "start_time": "2025-04-04T19:58:31.896Z"
      },
      {
        "duration": 31,
        "start_time": "2025-04-04T19:58:31.908Z"
      },
      {
        "duration": 3038,
        "start_time": "2025-04-04T19:58:31.941Z"
      },
      {
        "duration": 18678,
        "start_time": "2025-04-04T20:04:35.105Z"
      },
      {
        "duration": 1105,
        "start_time": "2025-04-04T20:04:53.786Z"
      },
      {
        "duration": 123,
        "start_time": "2025-04-04T20:04:54.893Z"
      },
      {
        "duration": 20,
        "start_time": "2025-04-04T20:04:55.020Z"
      },
      {
        "duration": 44,
        "start_time": "2025-04-04T20:04:55.042Z"
      },
      {
        "duration": 152,
        "start_time": "2025-04-04T20:04:55.090Z"
      },
      {
        "duration": 555,
        "start_time": "2025-04-04T20:04:55.244Z"
      },
      {
        "duration": 653,
        "start_time": "2025-04-04T20:04:55.802Z"
      },
      {
        "duration": 140,
        "start_time": "2025-04-04T20:04:56.457Z"
      },
      {
        "duration": 609,
        "start_time": "2025-04-04T20:04:56.600Z"
      },
      {
        "duration": 121,
        "start_time": "2025-04-04T20:04:57.211Z"
      },
      {
        "duration": 592,
        "start_time": "2025-04-04T20:04:57.334Z"
      },
      {
        "duration": 104,
        "start_time": "2025-04-04T20:04:57.928Z"
      },
      {
        "duration": 668,
        "start_time": "2025-04-04T20:04:58.035Z"
      },
      {
        "duration": 120,
        "start_time": "2025-04-04T20:04:58.705Z"
      },
      {
        "duration": 620,
        "start_time": "2025-04-04T20:04:58.827Z"
      },
      {
        "duration": 608,
        "start_time": "2025-04-04T20:04:59.449Z"
      },
      {
        "duration": 128,
        "start_time": "2025-04-04T20:05:00.059Z"
      },
      {
        "duration": 625,
        "start_time": "2025-04-04T20:05:00.189Z"
      },
      {
        "duration": 122,
        "start_time": "2025-04-04T20:05:00.816Z"
      },
      {
        "duration": 688,
        "start_time": "2025-04-04T20:05:00.940Z"
      },
      {
        "duration": 114,
        "start_time": "2025-04-04T20:05:01.630Z"
      },
      {
        "duration": 618,
        "start_time": "2025-04-04T20:05:01.746Z"
      },
      {
        "duration": 115,
        "start_time": "2025-04-04T20:05:02.366Z"
      },
      {
        "duration": 541,
        "start_time": "2025-04-04T20:05:02.483Z"
      },
      {
        "duration": 720,
        "start_time": "2025-04-04T20:05:03.026Z"
      },
      {
        "duration": 136,
        "start_time": "2025-04-04T20:05:03.748Z"
      },
      {
        "duration": 626,
        "start_time": "2025-04-04T20:05:03.889Z"
      },
      {
        "duration": 123,
        "start_time": "2025-04-04T20:05:04.517Z"
      },
      {
        "duration": 752,
        "start_time": "2025-04-04T20:05:04.642Z"
      },
      {
        "duration": 126,
        "start_time": "2025-04-04T20:05:05.396Z"
      },
      {
        "duration": 703,
        "start_time": "2025-04-04T20:05:05.524Z"
      },
      {
        "duration": 121,
        "start_time": "2025-04-04T20:05:06.229Z"
      },
      {
        "duration": 1569,
        "start_time": "2025-04-04T20:05:06.352Z"
      },
      {
        "duration": 1709,
        "start_time": "2025-04-04T20:05:07.924Z"
      },
      {
        "duration": 551,
        "start_time": "2025-04-04T20:05:09.635Z"
      },
      {
        "duration": 20,
        "start_time": "2025-04-04T20:05:10.278Z"
      },
      {
        "duration": 238,
        "start_time": "2025-04-04T20:05:10.300Z"
      },
      {
        "duration": 20,
        "start_time": "2025-04-04T20:05:10.541Z"
      },
      {
        "duration": 200,
        "start_time": "2025-04-04T20:05:10.578Z"
      },
      {
        "duration": 36,
        "start_time": "2025-04-04T20:05:10.782Z"
      },
      {
        "duration": 7,
        "start_time": "2025-04-04T20:05:10.819Z"
      },
      {
        "duration": 50,
        "start_time": "2025-04-04T20:05:10.827Z"
      },
      {
        "duration": 11,
        "start_time": "2025-04-04T20:05:10.880Z"
      },
      {
        "duration": 1979,
        "start_time": "2025-04-04T20:05:10.893Z"
      },
      {
        "duration": 10,
        "start_time": "2025-04-04T20:05:12.877Z"
      },
      {
        "duration": 6,
        "start_time": "2025-04-04T20:05:12.889Z"
      },
      {
        "duration": 3314,
        "start_time": "2025-04-04T20:05:12.897Z"
      },
      {
        "duration": 7,
        "start_time": "2025-04-04T20:06:22.491Z"
      },
      {
        "duration": 12,
        "start_time": "2025-04-04T20:06:23.727Z"
      },
      {
        "duration": 7,
        "start_time": "2025-04-04T20:07:52.951Z"
      },
      {
        "duration": 12,
        "start_time": "2025-04-04T20:07:53.597Z"
      },
      {
        "duration": 11,
        "start_time": "2025-04-04T20:08:55.605Z"
      },
      {
        "duration": 1753,
        "start_time": "2025-04-04T20:08:57.546Z"
      },
      {
        "duration": 11,
        "start_time": "2025-04-04T20:11:37.851Z"
      },
      {
        "duration": 144,
        "start_time": "2025-04-04T20:11:38.650Z"
      },
      {
        "duration": 12,
        "start_time": "2025-04-04T20:12:54.123Z"
      },
      {
        "duration": 1701,
        "start_time": "2025-04-04T20:12:54.686Z"
      },
      {
        "duration": 9,
        "start_time": "2025-04-04T20:13:19.248Z"
      },
      {
        "duration": 5,
        "start_time": "2025-04-04T20:13:20.274Z"
      },
      {
        "duration": 2920,
        "start_time": "2025-04-04T20:13:23.158Z"
      },
      {
        "duration": 19,
        "start_time": "2025-04-04T20:15:08.053Z"
      },
      {
        "duration": 3570,
        "start_time": "2025-04-04T20:15:32.548Z"
      },
      {
        "duration": 10,
        "start_time": "2025-04-04T20:19:23.183Z"
      },
      {
        "duration": 11,
        "start_time": "2025-04-04T20:19:46.274Z"
      },
      {
        "duration": 11,
        "start_time": "2025-04-04T20:20:11.562Z"
      },
      {
        "duration": 6,
        "start_time": "2025-04-04T20:21:21.843Z"
      },
      {
        "duration": 11,
        "start_time": "2025-04-04T20:21:22.524Z"
      },
      {
        "duration": 12,
        "start_time": "2025-04-04T20:22:44.842Z"
      },
      {
        "duration": 1826,
        "start_time": "2025-04-04T20:22:45.762Z"
      },
      {
        "duration": 16,
        "start_time": "2025-04-04T20:23:17.937Z"
      },
      {
        "duration": 5,
        "start_time": "2025-04-04T20:23:18.681Z"
      },
      {
        "duration": 2858,
        "start_time": "2025-04-04T20:23:19.859Z"
      },
      {
        "duration": 3527,
        "start_time": "2025-04-04T20:24:02.715Z"
      },
      {
        "duration": 19236,
        "start_time": "2025-04-04T20:25:41.565Z"
      },
      {
        "duration": 1210,
        "start_time": "2025-04-04T20:26:00.804Z"
      },
      {
        "duration": 128,
        "start_time": "2025-04-04T20:26:02.018Z"
      },
      {
        "duration": 31,
        "start_time": "2025-04-04T20:26:02.148Z"
      },
      {
        "duration": 23,
        "start_time": "2025-04-04T20:26:02.181Z"
      },
      {
        "duration": 156,
        "start_time": "2025-04-04T20:26:02.207Z"
      },
      {
        "duration": 553,
        "start_time": "2025-04-04T20:26:02.366Z"
      },
      {
        "duration": 636,
        "start_time": "2025-04-04T20:26:02.922Z"
      },
      {
        "duration": 133,
        "start_time": "2025-04-04T20:26:03.560Z"
      },
      {
        "duration": 543,
        "start_time": "2025-04-04T20:26:03.697Z"
      },
      {
        "duration": 133,
        "start_time": "2025-04-04T20:26:04.243Z"
      },
      {
        "duration": 567,
        "start_time": "2025-04-04T20:26:04.378Z"
      },
      {
        "duration": 109,
        "start_time": "2025-04-04T20:26:04.948Z"
      },
      {
        "duration": 647,
        "start_time": "2025-04-04T20:26:05.059Z"
      },
      {
        "duration": 120,
        "start_time": "2025-04-04T20:26:05.708Z"
      },
      {
        "duration": 637,
        "start_time": "2025-04-04T20:26:05.831Z"
      },
      {
        "duration": 664,
        "start_time": "2025-04-04T20:26:06.476Z"
      },
      {
        "duration": 135,
        "start_time": "2025-04-04T20:26:07.142Z"
      },
      {
        "duration": 625,
        "start_time": "2025-04-04T20:26:07.279Z"
      },
      {
        "duration": 120,
        "start_time": "2025-04-04T20:26:07.906Z"
      },
      {
        "duration": 674,
        "start_time": "2025-04-04T20:26:08.028Z"
      },
      {
        "duration": 109,
        "start_time": "2025-04-04T20:26:08.704Z"
      },
      {
        "duration": 598,
        "start_time": "2025-04-04T20:26:08.816Z"
      },
      {
        "duration": 113,
        "start_time": "2025-04-04T20:26:09.416Z"
      },
      {
        "duration": 872,
        "start_time": "2025-04-04T20:26:09.531Z"
      },
      {
        "duration": 1201,
        "start_time": "2025-04-04T20:26:10.405Z"
      },
      {
        "duration": 139,
        "start_time": "2025-04-04T20:26:11.609Z"
      },
      {
        "duration": 810,
        "start_time": "2025-04-04T20:26:11.753Z"
      },
      {
        "duration": 130,
        "start_time": "2025-04-04T20:26:12.565Z"
      },
      {
        "duration": 697,
        "start_time": "2025-04-04T20:26:12.698Z"
      },
      {
        "duration": 127,
        "start_time": "2025-04-04T20:26:13.397Z"
      },
      {
        "duration": 679,
        "start_time": "2025-04-04T20:26:13.527Z"
      },
      {
        "duration": 119,
        "start_time": "2025-04-04T20:26:14.209Z"
      },
      {
        "duration": 1561,
        "start_time": "2025-04-04T20:26:14.330Z"
      },
      {
        "duration": 1828,
        "start_time": "2025-04-04T20:26:15.894Z"
      },
      {
        "duration": 654,
        "start_time": "2025-04-04T20:26:17.724Z"
      },
      {
        "duration": 22,
        "start_time": "2025-04-04T20:26:18.380Z"
      },
      {
        "duration": 226,
        "start_time": "2025-04-04T20:26:18.404Z"
      },
      {
        "duration": 20,
        "start_time": "2025-04-04T20:26:18.632Z"
      },
      {
        "duration": 223,
        "start_time": "2025-04-04T20:26:18.654Z"
      },
      {
        "duration": 38,
        "start_time": "2025-04-04T20:26:18.879Z"
      },
      {
        "duration": 6,
        "start_time": "2025-04-04T20:26:18.919Z"
      },
      {
        "duration": 51,
        "start_time": "2025-04-04T20:26:18.926Z"
      },
      {
        "duration": 8,
        "start_time": "2025-04-04T20:26:18.979Z"
      },
      {
        "duration": 32,
        "start_time": "2025-04-04T20:26:18.989Z"
      },
      {
        "duration": 2810,
        "start_time": "2025-04-04T20:26:19.023Z"
      },
      {
        "duration": 10,
        "start_time": "2025-04-04T20:29:23.906Z"
      },
      {
        "duration": 5,
        "start_time": "2025-04-04T20:29:24.942Z"
      },
      {
        "duration": 157,
        "start_time": "2025-04-04T20:29:26.470Z"
      },
      {
        "duration": 11,
        "start_time": "2025-04-04T20:31:15.564Z"
      },
      {
        "duration": 10,
        "start_time": "2025-04-04T20:31:18.074Z"
      },
      {
        "duration": 11,
        "start_time": "2025-04-04T20:31:18.795Z"
      },
      {
        "duration": 3050,
        "start_time": "2025-04-04T20:31:19.884Z"
      },
      {
        "duration": 6,
        "start_time": "2025-04-04T20:34:25.626Z"
      },
      {
        "duration": 12,
        "start_time": "2025-04-04T20:34:41.010Z"
      },
      {
        "duration": 8,
        "start_time": "2025-04-04T20:35:46.614Z"
      },
      {
        "duration": 22,
        "start_time": "2025-04-04T20:35:47.203Z"
      },
      {
        "duration": 140,
        "start_time": "2025-04-04T20:38:54.689Z"
      },
      {
        "duration": 27,
        "start_time": "2025-04-04T20:38:59.209Z"
      },
      {
        "duration": 13,
        "start_time": "2025-04-04T20:39:21.189Z"
      },
      {
        "duration": 9,
        "start_time": "2025-04-04T20:40:51.458Z"
      },
      {
        "duration": 13,
        "start_time": "2025-04-04T20:40:52.253Z"
      },
      {
        "duration": 9,
        "start_time": "2025-04-04T20:41:21.189Z"
      },
      {
        "duration": 14,
        "start_time": "2025-04-04T20:41:21.770Z"
      },
      {
        "duration": 14,
        "start_time": "2025-04-04T20:43:02.764Z"
      },
      {
        "duration": 73,
        "start_time": "2025-04-04T20:43:03.455Z"
      },
      {
        "duration": 70,
        "start_time": "2025-04-04T20:43:23.542Z"
      },
      {
        "duration": 28,
        "start_time": "2025-04-04T20:43:44.846Z"
      },
      {
        "duration": 9,
        "start_time": "2025-04-04T20:44:55.334Z"
      },
      {
        "duration": 32,
        "start_time": "2025-04-04T20:44:55.985Z"
      },
      {
        "duration": 9,
        "start_time": "2025-04-04T20:45:17.789Z"
      },
      {
        "duration": 5604,
        "start_time": "2025-04-04T20:45:19.080Z"
      },
      {
        "duration": 9,
        "start_time": "2025-04-04T20:46:01.125Z"
      },
      {
        "duration": 5572,
        "start_time": "2025-04-04T20:46:01.853Z"
      },
      {
        "duration": 5,
        "start_time": "2025-04-04T20:47:14.334Z"
      },
      {
        "duration": 18950,
        "start_time": "2025-04-04T20:49:24.837Z"
      },
      {
        "duration": 1295,
        "start_time": "2025-04-04T20:49:43.790Z"
      },
      {
        "duration": 120,
        "start_time": "2025-04-04T20:49:45.087Z"
      },
      {
        "duration": 20,
        "start_time": "2025-04-04T20:49:45.210Z"
      },
      {
        "duration": 40,
        "start_time": "2025-04-04T20:49:45.232Z"
      },
      {
        "duration": 133,
        "start_time": "2025-04-04T20:49:45.276Z"
      },
      {
        "duration": 571,
        "start_time": "2025-04-04T20:49:45.410Z"
      },
      {
        "duration": 684,
        "start_time": "2025-04-04T20:49:45.983Z"
      },
      {
        "duration": 146,
        "start_time": "2025-04-04T20:49:46.670Z"
      },
      {
        "duration": 614,
        "start_time": "2025-04-04T20:49:46.820Z"
      },
      {
        "duration": 126,
        "start_time": "2025-04-04T20:49:47.437Z"
      },
      {
        "duration": 585,
        "start_time": "2025-04-04T20:49:47.565Z"
      },
      {
        "duration": 114,
        "start_time": "2025-04-04T20:49:48.152Z"
      },
      {
        "duration": 750,
        "start_time": "2025-04-04T20:49:48.268Z"
      },
      {
        "duration": 120,
        "start_time": "2025-04-04T20:49:49.020Z"
      },
      {
        "duration": 639,
        "start_time": "2025-04-04T20:49:49.142Z"
      },
      {
        "duration": 576,
        "start_time": "2025-04-04T20:49:49.783Z"
      },
      {
        "duration": 133,
        "start_time": "2025-04-04T20:49:50.361Z"
      },
      {
        "duration": 636,
        "start_time": "2025-04-04T20:49:50.496Z"
      },
      {
        "duration": 123,
        "start_time": "2025-04-04T20:49:51.134Z"
      },
      {
        "duration": 681,
        "start_time": "2025-04-04T20:49:51.259Z"
      },
      {
        "duration": 147,
        "start_time": "2025-04-04T20:49:51.942Z"
      },
      {
        "duration": 562,
        "start_time": "2025-04-04T20:49:52.091Z"
      },
      {
        "duration": 132,
        "start_time": "2025-04-04T20:49:52.655Z"
      },
      {
        "duration": 555,
        "start_time": "2025-04-04T20:49:52.789Z"
      },
      {
        "duration": 746,
        "start_time": "2025-04-04T20:49:53.346Z"
      },
      {
        "duration": 143,
        "start_time": "2025-04-04T20:49:54.094Z"
      },
      {
        "duration": 685,
        "start_time": "2025-04-04T20:49:54.241Z"
      },
      {
        "duration": 130,
        "start_time": "2025-04-04T20:49:54.929Z"
      },
      {
        "duration": 651,
        "start_time": "2025-04-04T20:49:55.061Z"
      },
      {
        "duration": 135,
        "start_time": "2025-04-04T20:49:55.714Z"
      },
      {
        "duration": 701,
        "start_time": "2025-04-04T20:49:55.852Z"
      },
      {
        "duration": 133,
        "start_time": "2025-04-04T20:49:56.556Z"
      },
      {
        "duration": 1557,
        "start_time": "2025-04-04T20:49:56.691Z"
      },
      {
        "duration": 1777,
        "start_time": "2025-04-04T20:49:58.251Z"
      },
      {
        "duration": 647,
        "start_time": "2025-04-04T20:50:00.031Z"
      },
      {
        "duration": 21,
        "start_time": "2025-04-04T20:50:00.681Z"
      },
      {
        "duration": 392,
        "start_time": "2025-04-04T20:50:00.704Z"
      },
      {
        "duration": 19,
        "start_time": "2025-04-04T20:50:01.098Z"
      },
      {
        "duration": 162,
        "start_time": "2025-04-04T20:50:01.121Z"
      },
      {
        "duration": 37,
        "start_time": "2025-04-04T20:50:01.285Z"
      },
      {
        "duration": 102,
        "start_time": "2025-04-04T20:50:01.324Z"
      },
      {
        "duration": 135,
        "start_time": "2025-04-04T20:50:01.428Z"
      },
      {
        "duration": 13,
        "start_time": "2025-04-04T20:50:01.565Z"
      },
      {
        "duration": 5474,
        "start_time": "2025-04-04T20:50:01.580Z"
      },
      {
        "duration": 5,
        "start_time": "2025-04-04T20:50:07.056Z"
      },
      {
        "duration": 9,
        "start_time": "2025-04-04T20:50:07.077Z"
      },
      {
        "duration": 2852,
        "start_time": "2025-04-04T20:50:07.088Z"
      },
      {
        "duration": 5,
        "start_time": "2025-04-04T20:50:47.559Z"
      },
      {
        "duration": 982,
        "start_time": "2025-04-04T20:51:35.948Z"
      },
      {
        "duration": 867,
        "start_time": "2025-04-04T20:51:52.700Z"
      },
      {
        "duration": 12,
        "start_time": "2025-04-04T20:52:19.808Z"
      },
      {
        "duration": 200,
        "start_time": "2025-04-04T20:52:27.839Z"
      },
      {
        "duration": 10,
        "start_time": "2025-04-04T20:53:13.441Z"
      },
      {
        "duration": 5910,
        "start_time": "2025-04-04T20:53:20.096Z"
      },
      {
        "duration": 18976,
        "start_time": "2025-04-04T20:53:54.895Z"
      },
      {
        "duration": 1144,
        "start_time": "2025-04-04T20:54:13.877Z"
      },
      {
        "duration": 119,
        "start_time": "2025-04-04T20:54:15.023Z"
      },
      {
        "duration": 34,
        "start_time": "2025-04-04T20:54:15.144Z"
      },
      {
        "duration": 23,
        "start_time": "2025-04-04T20:54:15.181Z"
      },
      {
        "duration": 144,
        "start_time": "2025-04-04T20:54:15.206Z"
      },
      {
        "duration": 594,
        "start_time": "2025-04-04T20:54:15.353Z"
      },
      {
        "duration": 623,
        "start_time": "2025-04-04T20:54:15.949Z"
      },
      {
        "duration": 132,
        "start_time": "2025-04-04T20:54:16.575Z"
      },
      {
        "duration": 614,
        "start_time": "2025-04-04T20:54:16.710Z"
      },
      {
        "duration": 135,
        "start_time": "2025-04-04T20:54:17.326Z"
      },
      {
        "duration": 576,
        "start_time": "2025-04-04T20:54:17.463Z"
      },
      {
        "duration": 111,
        "start_time": "2025-04-04T20:54:18.042Z"
      },
      {
        "duration": 658,
        "start_time": "2025-04-04T20:54:18.155Z"
      },
      {
        "duration": 119,
        "start_time": "2025-04-04T20:54:18.815Z"
      },
      {
        "duration": 628,
        "start_time": "2025-04-04T20:54:18.936Z"
      },
      {
        "duration": 583,
        "start_time": "2025-04-04T20:54:19.567Z"
      },
      {
        "duration": 134,
        "start_time": "2025-04-04T20:54:20.152Z"
      },
      {
        "duration": 616,
        "start_time": "2025-04-04T20:54:20.289Z"
      },
      {
        "duration": 123,
        "start_time": "2025-04-04T20:54:20.908Z"
      },
      {
        "duration": 711,
        "start_time": "2025-04-04T20:54:21.033Z"
      },
      {
        "duration": 123,
        "start_time": "2025-04-04T20:54:21.746Z"
      },
      {
        "duration": 583,
        "start_time": "2025-04-04T20:54:21.871Z"
      },
      {
        "duration": 124,
        "start_time": "2025-04-04T20:54:22.456Z"
      },
      {
        "duration": 555,
        "start_time": "2025-04-04T20:54:22.582Z"
      },
      {
        "duration": 740,
        "start_time": "2025-04-04T20:54:23.139Z"
      },
      {
        "duration": 132,
        "start_time": "2025-04-04T20:54:23.881Z"
      },
      {
        "duration": 689,
        "start_time": "2025-04-04T20:54:24.017Z"
      },
      {
        "duration": 127,
        "start_time": "2025-04-04T20:54:24.708Z"
      },
      {
        "duration": 675,
        "start_time": "2025-04-04T20:54:24.837Z"
      },
      {
        "duration": 120,
        "start_time": "2025-04-04T20:54:25.515Z"
      },
      {
        "duration": 674,
        "start_time": "2025-04-04T20:54:25.637Z"
      },
      {
        "duration": 122,
        "start_time": "2025-04-04T20:54:26.313Z"
      },
      {
        "duration": 1625,
        "start_time": "2025-04-04T20:54:26.438Z"
      },
      {
        "duration": 1763,
        "start_time": "2025-04-04T20:54:28.066Z"
      },
      {
        "duration": 649,
        "start_time": "2025-04-04T20:54:29.831Z"
      },
      {
        "duration": 21,
        "start_time": "2025-04-04T20:54:30.482Z"
      },
      {
        "duration": 227,
        "start_time": "2025-04-04T20:54:30.506Z"
      },
      {
        "duration": 56,
        "start_time": "2025-04-04T20:54:30.735Z"
      },
      {
        "duration": 188,
        "start_time": "2025-04-04T20:54:30.793Z"
      },
      {
        "duration": 38,
        "start_time": "2025-04-04T20:54:30.984Z"
      },
      {
        "duration": 7,
        "start_time": "2025-04-04T20:54:31.024Z"
      },
      {
        "duration": 49,
        "start_time": "2025-04-04T20:54:31.033Z"
      },
      {
        "duration": 25,
        "start_time": "2025-04-04T20:54:31.085Z"
      },
      {
        "duration": 5658,
        "start_time": "2025-04-04T20:54:31.112Z"
      },
      {
        "duration": 9,
        "start_time": "2025-04-04T20:55:51.318Z"
      },
      {
        "duration": 5,
        "start_time": "2025-04-04T20:55:52.186Z"
      },
      {
        "duration": 5626,
        "start_time": "2025-04-04T20:55:53.191Z"
      },
      {
        "duration": 9,
        "start_time": "2025-04-04T21:00:16.746Z"
      },
      {
        "duration": 5,
        "start_time": "2025-04-04T21:00:17.432Z"
      },
      {
        "duration": 5631,
        "start_time": "2025-04-04T21:00:19.821Z"
      },
      {
        "duration": 9,
        "start_time": "2025-04-04T21:01:16.010Z"
      },
      {
        "duration": 5,
        "start_time": "2025-04-04T21:01:16.705Z"
      },
      {
        "duration": 5790,
        "start_time": "2025-04-04T21:01:17.554Z"
      },
      {
        "duration": 11,
        "start_time": "2025-04-04T21:02:15.158Z"
      },
      {
        "duration": 5,
        "start_time": "2025-04-04T21:02:15.925Z"
      },
      {
        "duration": 5715,
        "start_time": "2025-04-04T21:02:16.546Z"
      },
      {
        "duration": 19238,
        "start_time": "2025-04-04T21:05:20.966Z"
      },
      {
        "duration": 1217,
        "start_time": "2025-04-04T21:05:40.207Z"
      },
      {
        "duration": 110,
        "start_time": "2025-04-04T21:05:41.426Z"
      },
      {
        "duration": 20,
        "start_time": "2025-04-04T21:05:41.539Z"
      },
      {
        "duration": 88,
        "start_time": "2025-04-04T21:05:41.561Z"
      },
      {
        "duration": 129,
        "start_time": "2025-04-04T21:05:41.652Z"
      },
      {
        "duration": 584,
        "start_time": "2025-04-04T21:05:41.784Z"
      },
      {
        "duration": 590,
        "start_time": "2025-04-04T21:05:42.376Z"
      },
      {
        "duration": 131,
        "start_time": "2025-04-04T21:05:42.977Z"
      },
      {
        "duration": 619,
        "start_time": "2025-04-04T21:05:43.112Z"
      },
      {
        "duration": 132,
        "start_time": "2025-04-04T21:05:43.734Z"
      },
      {
        "duration": 578,
        "start_time": "2025-04-04T21:05:43.868Z"
      },
      {
        "duration": 108,
        "start_time": "2025-04-04T21:05:44.448Z"
      },
      {
        "duration": 661,
        "start_time": "2025-04-04T21:05:44.558Z"
      },
      {
        "duration": 118,
        "start_time": "2025-04-04T21:05:45.222Z"
      },
      {
        "duration": 661,
        "start_time": "2025-04-04T21:05:45.342Z"
      },
      {
        "duration": 653,
        "start_time": "2025-04-04T21:05:46.005Z"
      },
      {
        "duration": 139,
        "start_time": "2025-04-04T21:05:46.660Z"
      },
      {
        "duration": 702,
        "start_time": "2025-04-04T21:05:46.801Z"
      },
      {
        "duration": 121,
        "start_time": "2025-04-04T21:05:47.505Z"
      },
      {
        "duration": 722,
        "start_time": "2025-04-04T21:05:47.628Z"
      },
      {
        "duration": 111,
        "start_time": "2025-04-04T21:05:48.352Z"
      },
      {
        "duration": 577,
        "start_time": "2025-04-04T21:05:48.465Z"
      },
      {
        "duration": 115,
        "start_time": "2025-04-04T21:05:49.044Z"
      },
      {
        "duration": 542,
        "start_time": "2025-04-04T21:05:49.161Z"
      },
      {
        "duration": 753,
        "start_time": "2025-04-04T21:05:49.705Z"
      },
      {
        "duration": 138,
        "start_time": "2025-04-04T21:05:50.460Z"
      },
      {
        "duration": 728,
        "start_time": "2025-04-04T21:05:50.603Z"
      },
      {
        "duration": 123,
        "start_time": "2025-04-04T21:05:51.333Z"
      },
      {
        "duration": 715,
        "start_time": "2025-04-04T21:05:51.458Z"
      },
      {
        "duration": 117,
        "start_time": "2025-04-04T21:05:52.175Z"
      },
      {
        "duration": 624,
        "start_time": "2025-04-04T21:05:52.295Z"
      },
      {
        "duration": 116,
        "start_time": "2025-04-04T21:05:52.921Z"
      },
      {
        "duration": 1615,
        "start_time": "2025-04-04T21:05:53.039Z"
      },
      {
        "duration": 1783,
        "start_time": "2025-04-04T21:05:54.656Z"
      },
      {
        "duration": 736,
        "start_time": "2025-04-04T21:05:56.442Z"
      },
      {
        "duration": 23,
        "start_time": "2025-04-04T21:05:57.180Z"
      },
      {
        "duration": 228,
        "start_time": "2025-04-04T21:05:57.205Z"
      },
      {
        "duration": 20,
        "start_time": "2025-04-04T21:05:57.435Z"
      },
      {
        "duration": 202,
        "start_time": "2025-04-04T21:05:57.477Z"
      },
      {
        "duration": 37,
        "start_time": "2025-04-04T21:05:57.681Z"
      },
      {
        "duration": 6,
        "start_time": "2025-04-04T21:05:57.721Z"
      },
      {
        "duration": 51,
        "start_time": "2025-04-04T21:05:57.729Z"
      },
      {
        "duration": 9,
        "start_time": "2025-04-04T21:05:57.782Z"
      },
      {
        "duration": 94,
        "start_time": "2025-04-04T21:05:57.793Z"
      },
      {
        "duration": 5683,
        "start_time": "2025-04-04T21:05:57.890Z"
      },
      {
        "duration": 9,
        "start_time": "2025-04-04T21:07:48.206Z"
      },
      {
        "duration": 6,
        "start_time": "2025-04-04T21:07:48.933Z"
      },
      {
        "duration": 153,
        "start_time": "2025-04-04T21:07:50.066Z"
      },
      {
        "duration": 133,
        "start_time": "2025-04-04T21:07:57.974Z"
      },
      {
        "duration": 5,
        "start_time": "2025-04-04T21:07:58.417Z"
      },
      {
        "duration": 5620,
        "start_time": "2025-04-04T21:07:58.933Z"
      },
      {
        "duration": 20230,
        "start_time": "2025-04-04T21:14:32.504Z"
      },
      {
        "duration": 1175,
        "start_time": "2025-04-04T21:14:52.738Z"
      },
      {
        "duration": 114,
        "start_time": "2025-04-04T21:14:53.915Z"
      },
      {
        "duration": 21,
        "start_time": "2025-04-04T21:14:54.031Z"
      },
      {
        "duration": 40,
        "start_time": "2025-04-04T21:14:54.054Z"
      },
      {
        "duration": 170,
        "start_time": "2025-04-04T21:14:54.096Z"
      },
      {
        "duration": 548,
        "start_time": "2025-04-04T21:14:54.268Z"
      },
      {
        "duration": 646,
        "start_time": "2025-04-04T21:14:54.818Z"
      },
      {
        "duration": 134,
        "start_time": "2025-04-04T21:14:55.466Z"
      },
      {
        "duration": 639,
        "start_time": "2025-04-04T21:14:55.604Z"
      },
      {
        "duration": 142,
        "start_time": "2025-04-04T21:14:56.246Z"
      },
      {
        "duration": 555,
        "start_time": "2025-04-04T21:14:56.390Z"
      },
      {
        "duration": 112,
        "start_time": "2025-04-04T21:14:56.947Z"
      },
      {
        "duration": 648,
        "start_time": "2025-04-04T21:14:57.060Z"
      },
      {
        "duration": 116,
        "start_time": "2025-04-04T21:14:57.710Z"
      },
      {
        "duration": 622,
        "start_time": "2025-04-04T21:14:57.828Z"
      },
      {
        "duration": 599,
        "start_time": "2025-04-04T21:14:58.452Z"
      },
      {
        "duration": 135,
        "start_time": "2025-04-04T21:14:59.053Z"
      },
      {
        "duration": 608,
        "start_time": "2025-04-04T21:14:59.190Z"
      },
      {
        "duration": 115,
        "start_time": "2025-04-04T21:14:59.801Z"
      },
      {
        "duration": 690,
        "start_time": "2025-04-04T21:14:59.918Z"
      },
      {
        "duration": 118,
        "start_time": "2025-04-04T21:15:00.611Z"
      },
      {
        "duration": 603,
        "start_time": "2025-04-04T21:15:00.732Z"
      },
      {
        "duration": 122,
        "start_time": "2025-04-04T21:15:01.338Z"
      },
      {
        "duration": 546,
        "start_time": "2025-04-04T21:15:01.463Z"
      },
      {
        "duration": 760,
        "start_time": "2025-04-04T21:15:02.012Z"
      },
      {
        "duration": 137,
        "start_time": "2025-04-04T21:15:02.774Z"
      },
      {
        "duration": 706,
        "start_time": "2025-04-04T21:15:02.915Z"
      },
      {
        "duration": 129,
        "start_time": "2025-04-04T21:15:03.623Z"
      },
      {
        "duration": 673,
        "start_time": "2025-04-04T21:15:03.754Z"
      },
      {
        "duration": 127,
        "start_time": "2025-04-04T21:15:04.429Z"
      },
      {
        "duration": 656,
        "start_time": "2025-04-04T21:15:04.558Z"
      },
      {
        "duration": 123,
        "start_time": "2025-04-04T21:15:05.216Z"
      },
      {
        "duration": 1676,
        "start_time": "2025-04-04T21:15:05.341Z"
      },
      {
        "duration": 1793,
        "start_time": "2025-04-04T21:15:07.020Z"
      },
      {
        "duration": 661,
        "start_time": "2025-04-04T21:15:08.816Z"
      },
      {
        "duration": 21,
        "start_time": "2025-04-04T21:15:09.479Z"
      },
      {
        "duration": 277,
        "start_time": "2025-04-04T21:15:09.502Z"
      },
      {
        "duration": 20,
        "start_time": "2025-04-04T21:15:09.781Z"
      },
      {
        "duration": 272,
        "start_time": "2025-04-04T21:15:09.803Z"
      },
      {
        "duration": 37,
        "start_time": "2025-04-04T21:15:10.078Z"
      },
      {
        "duration": 5,
        "start_time": "2025-04-04T21:15:10.117Z"
      },
      {
        "duration": 18,
        "start_time": "2025-04-04T21:15:10.124Z"
      },
      {
        "duration": 37,
        "start_time": "2025-04-04T21:15:10.144Z"
      },
      {
        "duration": 16,
        "start_time": "2025-04-04T21:15:10.184Z"
      },
      {
        "duration": 5915,
        "start_time": "2025-04-04T21:15:10.202Z"
      },
      {
        "duration": 10,
        "start_time": "2025-04-04T21:16:35.353Z"
      },
      {
        "duration": 6,
        "start_time": "2025-04-04T21:16:35.902Z"
      },
      {
        "duration": 5846,
        "start_time": "2025-04-04T21:16:36.501Z"
      },
      {
        "duration": 6,
        "start_time": "2025-04-04T21:18:18.099Z"
      },
      {
        "duration": 5706,
        "start_time": "2025-04-04T21:18:19.104Z"
      }
    ],
    "kernelspec": {
      "display_name": "Python 3 (ipykernel)",
      "language": "python",
      "name": "python3"
    },
    "language_info": {
      "codemirror_mode": {
        "name": "ipython",
        "version": 3
      },
      "file_extension": ".py",
      "mimetype": "text/x-python",
      "name": "python",
      "nbconvert_exporter": "python",
      "pygments_lexer": "ipython3",
      "version": "3.9.5"
    },
    "toc": {
      "base_numbering": 1,
      "nav_menu": {},
      "number_sections": true,
      "sideBar": true,
      "skip_h1_title": true,
      "title_cell": "Table of Contents",
      "title_sidebar": "Contents",
      "toc_cell": false,
      "toc_position": {
        "height": "calc(100% - 180px)",
        "left": "10px",
        "top": "150px",
        "width": "187.378px"
      },
      "toc_section_display": true,
      "toc_window_display": true
    },
    "colab": {
      "provenance": [],
      "toc_visible": true
    }
  },
  "nbformat": 4,
  "nbformat_minor": 0
}