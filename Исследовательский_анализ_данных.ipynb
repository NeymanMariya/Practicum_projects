{
  "cells": [
    {
      "cell_type": "markdown",
      "metadata": {
        "id": "-VFbjcb3Awb7"
      },
      "source": [
        "# Исследование объявлений о продаже квартир\n",
        "Описание проекта:   \n",
        "\n",
        "В распоряжении данные сервиса Яндекс Недвижимость — архив объявлений о продаже квартир в Санкт-Петербурге и соседних населённых пунктах за несколько лет.  \n",
        "Задача: научиться определять рыночную стоимость объектов недвижимости. В ходе исследовательского анализа установить, какие параметры объектов недвижимости больше всего влияют на стоимость. Найденные параметры позволят в дальнейшем построить автоматизированную систему, отслеживающую аномалии и мошенническую деятельность в сервисе."
      ]
    },
    {
      "cell_type": "markdown",
      "metadata": {
        "id": "aeFLH07FAwb9"
      },
      "source": [
        "### Открываю файл с данными и изучаю общую информацию"
      ]
    },
    {
      "cell_type": "markdown",
      "metadata": {
        "id": "BH42l0BARxVj"
      },
      "source": [
        "Подключаю необходимые библиотеки. Открываю файл с данными"
      ]
    },
    {
      "cell_type": "code",
      "execution_count": null,
      "metadata": {
        "id": "7MZxY65pAwb9",
        "scrolled": false
      },
      "outputs": [],
      "source": [
        "#импортирую библиотеки Pandas, matplotlib, seaborn\n",
        "import pandas as pd\n",
        "pd.options.display.float_format = '{:,.1f}'.format\n",
        "import matplotlib.pyplot as plt\n",
        "import seaborn as sns\n",
        "\n",
        "#в переменную data помещаю считанный csv-файл\n",
        "try:\n",
        "    data = pd.read_csv('/datasets/real_estate_data.csv',\n",
        "                       sep = '\\t', engine = 'python')\n",
        "except:\n",
        "    data = pd.read_csv('/home/Maria/Документы/January25/real_estate_data.csv',\n",
        "                       sep = '\\t', engine = 'python')"
      ]
    },
    {
      "cell_type": "markdown",
      "metadata": {
        "id": "pl-C34E0RxVk"
      },
      "source": [
        "Изучаю общую информацию"
      ]
    },
    {
      "cell_type": "code",
      "execution_count": null,
      "metadata": {
        "scrolled": true,
        "id": "0SH2H-rsRxVk",
        "outputId": "96e235f1-acdd-4a3a-9f5d-b53e44ea3377"
      },
      "outputs": [
        {
          "data": {
            "text/html": [
              "<div>\n",
              "<style scoped>\n",
              "    .dataframe tbody tr th:only-of-type {\n",
              "        vertical-align: middle;\n",
              "    }\n",
              "\n",
              "    .dataframe tbody tr th {\n",
              "        vertical-align: top;\n",
              "    }\n",
              "\n",
              "    .dataframe thead th {\n",
              "        text-align: right;\n",
              "    }\n",
              "</style>\n",
              "<table border=\"1\" class=\"dataframe\">\n",
              "  <thead>\n",
              "    <tr style=\"text-align: right;\">\n",
              "      <th></th>\n",
              "      <th>total_images</th>\n",
              "      <th>last_price</th>\n",
              "      <th>total_area</th>\n",
              "      <th>first_day_exposition</th>\n",
              "      <th>rooms</th>\n",
              "      <th>ceiling_height</th>\n",
              "      <th>floors_total</th>\n",
              "      <th>living_area</th>\n",
              "      <th>floor</th>\n",
              "      <th>is_apartment</th>\n",
              "      <th>...</th>\n",
              "      <th>kitchen_area</th>\n",
              "      <th>balcony</th>\n",
              "      <th>locality_name</th>\n",
              "      <th>airports_nearest</th>\n",
              "      <th>cityCenters_nearest</th>\n",
              "      <th>parks_around3000</th>\n",
              "      <th>parks_nearest</th>\n",
              "      <th>ponds_around3000</th>\n",
              "      <th>ponds_nearest</th>\n",
              "      <th>days_exposition</th>\n",
              "    </tr>\n",
              "  </thead>\n",
              "  <tbody>\n",
              "    <tr>\n",
              "      <th>0</th>\n",
              "      <td>20</td>\n",
              "      <td>13,000,000.0</td>\n",
              "      <td>108.0</td>\n",
              "      <td>2019-03-07T00:00:00</td>\n",
              "      <td>3</td>\n",
              "      <td>2.7</td>\n",
              "      <td>16.0</td>\n",
              "      <td>51.0</td>\n",
              "      <td>8</td>\n",
              "      <td>NaN</td>\n",
              "      <td>...</td>\n",
              "      <td>25.0</td>\n",
              "      <td>NaN</td>\n",
              "      <td>Санкт-Петербург</td>\n",
              "      <td>18,863.0</td>\n",
              "      <td>16,028.0</td>\n",
              "      <td>1.0</td>\n",
              "      <td>482.0</td>\n",
              "      <td>2.0</td>\n",
              "      <td>755.0</td>\n",
              "      <td>NaN</td>\n",
              "    </tr>\n",
              "    <tr>\n",
              "      <th>1</th>\n",
              "      <td>7</td>\n",
              "      <td>3,350,000.0</td>\n",
              "      <td>40.4</td>\n",
              "      <td>2018-12-04T00:00:00</td>\n",
              "      <td>1</td>\n",
              "      <td>NaN</td>\n",
              "      <td>11.0</td>\n",
              "      <td>18.6</td>\n",
              "      <td>1</td>\n",
              "      <td>NaN</td>\n",
              "      <td>...</td>\n",
              "      <td>11.0</td>\n",
              "      <td>2.0</td>\n",
              "      <td>посёлок Шушары</td>\n",
              "      <td>12,817.0</td>\n",
              "      <td>18,603.0</td>\n",
              "      <td>0.0</td>\n",
              "      <td>NaN</td>\n",
              "      <td>0.0</td>\n",
              "      <td>NaN</td>\n",
              "      <td>81.0</td>\n",
              "    </tr>\n",
              "    <tr>\n",
              "      <th>2</th>\n",
              "      <td>10</td>\n",
              "      <td>5,196,000.0</td>\n",
              "      <td>56.0</td>\n",
              "      <td>2015-08-20T00:00:00</td>\n",
              "      <td>2</td>\n",
              "      <td>NaN</td>\n",
              "      <td>5.0</td>\n",
              "      <td>34.3</td>\n",
              "      <td>4</td>\n",
              "      <td>NaN</td>\n",
              "      <td>...</td>\n",
              "      <td>8.3</td>\n",
              "      <td>0.0</td>\n",
              "      <td>Санкт-Петербург</td>\n",
              "      <td>21,741.0</td>\n",
              "      <td>13,933.0</td>\n",
              "      <td>1.0</td>\n",
              "      <td>90.0</td>\n",
              "      <td>2.0</td>\n",
              "      <td>574.0</td>\n",
              "      <td>558.0</td>\n",
              "    </tr>\n",
              "    <tr>\n",
              "      <th>3</th>\n",
              "      <td>0</td>\n",
              "      <td>64,900,000.0</td>\n",
              "      <td>159.0</td>\n",
              "      <td>2015-07-24T00:00:00</td>\n",
              "      <td>3</td>\n",
              "      <td>NaN</td>\n",
              "      <td>14.0</td>\n",
              "      <td>NaN</td>\n",
              "      <td>9</td>\n",
              "      <td>NaN</td>\n",
              "      <td>...</td>\n",
              "      <td>NaN</td>\n",
              "      <td>0.0</td>\n",
              "      <td>Санкт-Петербург</td>\n",
              "      <td>28,098.0</td>\n",
              "      <td>6,800.0</td>\n",
              "      <td>2.0</td>\n",
              "      <td>84.0</td>\n",
              "      <td>3.0</td>\n",
              "      <td>234.0</td>\n",
              "      <td>424.0</td>\n",
              "    </tr>\n",
              "    <tr>\n",
              "      <th>4</th>\n",
              "      <td>2</td>\n",
              "      <td>10,000,000.0</td>\n",
              "      <td>100.0</td>\n",
              "      <td>2018-06-19T00:00:00</td>\n",
              "      <td>2</td>\n",
              "      <td>3.0</td>\n",
              "      <td>14.0</td>\n",
              "      <td>32.0</td>\n",
              "      <td>13</td>\n",
              "      <td>NaN</td>\n",
              "      <td>...</td>\n",
              "      <td>41.0</td>\n",
              "      <td>NaN</td>\n",
              "      <td>Санкт-Петербург</td>\n",
              "      <td>31,856.0</td>\n",
              "      <td>8,098.0</td>\n",
              "      <td>2.0</td>\n",
              "      <td>112.0</td>\n",
              "      <td>1.0</td>\n",
              "      <td>48.0</td>\n",
              "      <td>121.0</td>\n",
              "    </tr>\n",
              "    <tr>\n",
              "      <th>5</th>\n",
              "      <td>10</td>\n",
              "      <td>2,890,000.0</td>\n",
              "      <td>30.4</td>\n",
              "      <td>2018-09-10T00:00:00</td>\n",
              "      <td>1</td>\n",
              "      <td>NaN</td>\n",
              "      <td>12.0</td>\n",
              "      <td>14.4</td>\n",
              "      <td>5</td>\n",
              "      <td>NaN</td>\n",
              "      <td>...</td>\n",
              "      <td>9.1</td>\n",
              "      <td>NaN</td>\n",
              "      <td>городской посёлок Янино-1</td>\n",
              "      <td>NaN</td>\n",
              "      <td>NaN</td>\n",
              "      <td>NaN</td>\n",
              "      <td>NaN</td>\n",
              "      <td>NaN</td>\n",
              "      <td>NaN</td>\n",
              "      <td>55.0</td>\n",
              "    </tr>\n",
              "    <tr>\n",
              "      <th>6</th>\n",
              "      <td>6</td>\n",
              "      <td>3,700,000.0</td>\n",
              "      <td>37.3</td>\n",
              "      <td>2017-11-02T00:00:00</td>\n",
              "      <td>1</td>\n",
              "      <td>NaN</td>\n",
              "      <td>26.0</td>\n",
              "      <td>10.6</td>\n",
              "      <td>6</td>\n",
              "      <td>NaN</td>\n",
              "      <td>...</td>\n",
              "      <td>14.4</td>\n",
              "      <td>1.0</td>\n",
              "      <td>посёлок Парголово</td>\n",
              "      <td>52,996.0</td>\n",
              "      <td>19,143.0</td>\n",
              "      <td>0.0</td>\n",
              "      <td>NaN</td>\n",
              "      <td>0.0</td>\n",
              "      <td>NaN</td>\n",
              "      <td>155.0</td>\n",
              "    </tr>\n",
              "    <tr>\n",
              "      <th>7</th>\n",
              "      <td>5</td>\n",
              "      <td>7,915,000.0</td>\n",
              "      <td>71.6</td>\n",
              "      <td>2019-04-18T00:00:00</td>\n",
              "      <td>2</td>\n",
              "      <td>NaN</td>\n",
              "      <td>24.0</td>\n",
              "      <td>NaN</td>\n",
              "      <td>22</td>\n",
              "      <td>NaN</td>\n",
              "      <td>...</td>\n",
              "      <td>18.9</td>\n",
              "      <td>2.0</td>\n",
              "      <td>Санкт-Петербург</td>\n",
              "      <td>23,982.0</td>\n",
              "      <td>11,634.0</td>\n",
              "      <td>0.0</td>\n",
              "      <td>NaN</td>\n",
              "      <td>0.0</td>\n",
              "      <td>NaN</td>\n",
              "      <td>NaN</td>\n",
              "    </tr>\n",
              "    <tr>\n",
              "      <th>8</th>\n",
              "      <td>20</td>\n",
              "      <td>2,900,000.0</td>\n",
              "      <td>33.2</td>\n",
              "      <td>2018-05-23T00:00:00</td>\n",
              "      <td>1</td>\n",
              "      <td>NaN</td>\n",
              "      <td>27.0</td>\n",
              "      <td>15.4</td>\n",
              "      <td>26</td>\n",
              "      <td>NaN</td>\n",
              "      <td>...</td>\n",
              "      <td>8.8</td>\n",
              "      <td>NaN</td>\n",
              "      <td>посёлок Мурино</td>\n",
              "      <td>NaN</td>\n",
              "      <td>NaN</td>\n",
              "      <td>NaN</td>\n",
              "      <td>NaN</td>\n",
              "      <td>NaN</td>\n",
              "      <td>NaN</td>\n",
              "      <td>189.0</td>\n",
              "    </tr>\n",
              "    <tr>\n",
              "      <th>9</th>\n",
              "      <td>18</td>\n",
              "      <td>5,400,000.0</td>\n",
              "      <td>61.0</td>\n",
              "      <td>2017-02-26T00:00:00</td>\n",
              "      <td>3</td>\n",
              "      <td>2.5</td>\n",
              "      <td>9.0</td>\n",
              "      <td>43.6</td>\n",
              "      <td>7</td>\n",
              "      <td>NaN</td>\n",
              "      <td>...</td>\n",
              "      <td>6.5</td>\n",
              "      <td>2.0</td>\n",
              "      <td>Санкт-Петербург</td>\n",
              "      <td>50,898.0</td>\n",
              "      <td>15,008.0</td>\n",
              "      <td>0.0</td>\n",
              "      <td>NaN</td>\n",
              "      <td>0.0</td>\n",
              "      <td>NaN</td>\n",
              "      <td>289.0</td>\n",
              "    </tr>\n",
              "  </tbody>\n",
              "</table>\n",
              "<p>10 rows × 22 columns</p>\n",
              "</div>"
            ],
            "text/plain": [
              "   total_images   last_price  total_area first_day_exposition  rooms  \\\n",
              "0            20 13,000,000.0       108.0  2019-03-07T00:00:00      3   \n",
              "1             7  3,350,000.0        40.4  2018-12-04T00:00:00      1   \n",
              "2            10  5,196,000.0        56.0  2015-08-20T00:00:00      2   \n",
              "3             0 64,900,000.0       159.0  2015-07-24T00:00:00      3   \n",
              "4             2 10,000,000.0       100.0  2018-06-19T00:00:00      2   \n",
              "5            10  2,890,000.0        30.4  2018-09-10T00:00:00      1   \n",
              "6             6  3,700,000.0        37.3  2017-11-02T00:00:00      1   \n",
              "7             5  7,915,000.0        71.6  2019-04-18T00:00:00      2   \n",
              "8            20  2,900,000.0        33.2  2018-05-23T00:00:00      1   \n",
              "9            18  5,400,000.0        61.0  2017-02-26T00:00:00      3   \n",
              "\n",
              "   ceiling_height  floors_total  living_area  floor is_apartment  ...  \\\n",
              "0             2.7          16.0         51.0      8          NaN  ...   \n",
              "1             NaN          11.0         18.6      1          NaN  ...   \n",
              "2             NaN           5.0         34.3      4          NaN  ...   \n",
              "3             NaN          14.0          NaN      9          NaN  ...   \n",
              "4             3.0          14.0         32.0     13          NaN  ...   \n",
              "5             NaN          12.0         14.4      5          NaN  ...   \n",
              "6             NaN          26.0         10.6      6          NaN  ...   \n",
              "7             NaN          24.0          NaN     22          NaN  ...   \n",
              "8             NaN          27.0         15.4     26          NaN  ...   \n",
              "9             2.5           9.0         43.6      7          NaN  ...   \n",
              "\n",
              "   kitchen_area  balcony              locality_name  airports_nearest  \\\n",
              "0          25.0      NaN            Санкт-Петербург          18,863.0   \n",
              "1          11.0      2.0             посёлок Шушары          12,817.0   \n",
              "2           8.3      0.0            Санкт-Петербург          21,741.0   \n",
              "3           NaN      0.0            Санкт-Петербург          28,098.0   \n",
              "4          41.0      NaN            Санкт-Петербург          31,856.0   \n",
              "5           9.1      NaN  городской посёлок Янино-1               NaN   \n",
              "6          14.4      1.0          посёлок Парголово          52,996.0   \n",
              "7          18.9      2.0            Санкт-Петербург          23,982.0   \n",
              "8           8.8      NaN             посёлок Мурино               NaN   \n",
              "9           6.5      2.0            Санкт-Петербург          50,898.0   \n",
              "\n",
              "  cityCenters_nearest  parks_around3000  parks_nearest  ponds_around3000  \\\n",
              "0            16,028.0               1.0          482.0               2.0   \n",
              "1            18,603.0               0.0            NaN               0.0   \n",
              "2            13,933.0               1.0           90.0               2.0   \n",
              "3             6,800.0               2.0           84.0               3.0   \n",
              "4             8,098.0               2.0          112.0               1.0   \n",
              "5                 NaN               NaN            NaN               NaN   \n",
              "6            19,143.0               0.0            NaN               0.0   \n",
              "7            11,634.0               0.0            NaN               0.0   \n",
              "8                 NaN               NaN            NaN               NaN   \n",
              "9            15,008.0               0.0            NaN               0.0   \n",
              "\n",
              "   ponds_nearest  days_exposition  \n",
              "0          755.0              NaN  \n",
              "1            NaN             81.0  \n",
              "2          574.0            558.0  \n",
              "3          234.0            424.0  \n",
              "4           48.0            121.0  \n",
              "5            NaN             55.0  \n",
              "6            NaN            155.0  \n",
              "7            NaN              NaN  \n",
              "8            NaN            189.0  \n",
              "9            NaN            289.0  \n",
              "\n",
              "[10 rows x 22 columns]"
            ]
          },
          "metadata": {},
          "output_type": "display_data"
        }
      ],
      "source": [
        "#вывожу первые 10 строк датасета\n",
        "display (data.head(10))"
      ]
    },
    {
      "cell_type": "markdown",
      "metadata": {
        "id": "0nzf_KmmRxVl"
      },
      "source": [
        "Наблюдаем пропуски в данных (NaN)"
      ]
    },
    {
      "cell_type": "code",
      "execution_count": null,
      "metadata": {
        "id": "GICiZsPGRxVl",
        "outputId": "f78c12d5-bceb-479d-b3c8-4bda86b2b2f3"
      },
      "outputs": [
        {
          "name": "stdout",
          "output_type": "stream",
          "text": [
            "<class 'pandas.core.frame.DataFrame'>\n",
            "RangeIndex: 23699 entries, 0 to 23698\n",
            "Data columns (total 22 columns):\n",
            " #   Column                Non-Null Count  Dtype  \n",
            "---  ------                --------------  -----  \n",
            " 0   total_images          23699 non-null  int64  \n",
            " 1   last_price            23699 non-null  float64\n",
            " 2   total_area            23699 non-null  float64\n",
            " 3   first_day_exposition  23699 non-null  object \n",
            " 4   rooms                 23699 non-null  int64  \n",
            " 5   ceiling_height        14504 non-null  float64\n",
            " 6   floors_total          23613 non-null  float64\n",
            " 7   living_area           21796 non-null  float64\n",
            " 8   floor                 23699 non-null  int64  \n",
            " 9   is_apartment          2775 non-null   object \n",
            " 10  studio                23699 non-null  bool   \n",
            " 11  open_plan             23699 non-null  bool   \n",
            " 12  kitchen_area          21421 non-null  float64\n",
            " 13  balcony               12180 non-null  float64\n",
            " 14  locality_name         23650 non-null  object \n",
            " 15  airports_nearest      18157 non-null  float64\n",
            " 16  cityCenters_nearest   18180 non-null  float64\n",
            " 17  parks_around3000      18181 non-null  float64\n",
            " 18  parks_nearest         8079 non-null   float64\n",
            " 19  ponds_around3000      18181 non-null  float64\n",
            " 20  ponds_nearest         9110 non-null   float64\n",
            " 21  days_exposition       20518 non-null  float64\n",
            "dtypes: bool(2), float64(14), int64(3), object(3)\n",
            "memory usage: 3.7+ MB\n"
          ]
        }
      ],
      "source": [
        "#вывожу краткую информацию о структуре датасета и точном количестве явных пропусков\n",
        "data.info()"
      ]
    },
    {
      "cell_type": "markdown",
      "metadata": {
        "id": "MZI3QunuRxVm"
      },
      "source": [
        "Каждый объект датасета характеризуется 22 атрибутами (записанными в колонках).\n",
        "Пропуски обнаружились в колонках c числовыми данными (типа int64 и float64):\n",
        "    - ceiling_height\n",
        "    - floors_total\n",
        "    - living_area\n",
        "    - floor\n",
        "    - kitchen_area\n",
        "    - balcony\n",
        "    - airports_nearest\n",
        "    - cityCenters_nearest\n",
        "    - parks_around3000\n",
        "    - parks_nearest\n",
        "    - ponds_around3000\n",
        "    - ponds_nearest\n",
        "    - days_exposition\n",
        "    \n",
        " Также пропуски имеются в других атрибутах (с типом данных bool, object):\n",
        "    - is_apartment\n",
        "    - studio\n",
        "    - locality_name"
      ]
    },
    {
      "cell_type": "markdown",
      "metadata": {
        "id": "jnhZEqRIRxVm"
      },
      "source": [
        "Строю гистограмму для всех числовых столбцов датасета. Кол-во корзин возьму 100."
      ]
    },
    {
      "cell_type": "code",
      "execution_count": null,
      "metadata": {
        "id": "QZhBVboVRxVm",
        "outputId": "68e0e0d8-2cc6-44b7-db1b-0a2c1d75f168"
      },
      "outputs": [
        {
          "data": {
            "image/png": "[encoded data removed]",
            "text/plain": [
              "<Figure size 1440x1080 with 20 Axes>"
            ]
          },
          "metadata": {
            "needs_background": "light"
          },
          "output_type": "display_data"
        }
      ],
      "source": [
        "data.hist(figsize=(20, 15), color = 'darkblue', bins = 100);"
      ]
    },
    {
      "cell_type": "markdown",
      "metadata": {
        "id": "vkHwlzfYRxVm"
      },
      "source": [
        "Визуализация подтвердила, что в данных некоторых столбцов есть пропуски.\n",
        "Часть графиков имеет нормальное распределение."
      ]
    },
    {
      "cell_type": "markdown",
      "metadata": {
        "id": "-O5NtivEAwb9"
      },
      "source": [
        "### Выполняю предобработку данных"
      ]
    },
    {
      "cell_type": "markdown",
      "metadata": {
        "id": "lLWieUpGRxVm"
      },
      "source": [
        "Найдем и изучим пропущенные значения в столбцах. Определим, в каких столбцах есть пропуски и чем можно их заполнить."
      ]
    },
    {
      "cell_type": "markdown",
      "metadata": {
        "id": "7Oez9EMFRxVn"
      },
      "source": [
        "Скорее всего, пропуски в столбцах: balcony, parks_around3000, ponds_around3000 и days_exposition означают отсутствие балконов, парков и прудов в районе 3000 м. И 0 дней размещения объявления.\n",
        "Поэтому заменим здесь пропуски нулём (0)."
      ]
    },
    {
      "cell_type": "markdown",
      "metadata": {
        "id": "PiIuRASGRxVn"
      },
      "source": [
        "Перед заполнением пропусков в столбцах parks_around3000 и ponds_around3000 проверим, что значения\n",
        "в соответствующих столбцах - parks_nearest и ponds_nearest содержат NaN"
      ]
    },
    {
      "cell_type": "code",
      "execution_count": null,
      "metadata": {
        "id": "Fe7OroYoRxVn",
        "outputId": "c2052710-7a79-4424-b033-572c034c9b79"
      },
      "outputs": [
        {
          "name": "stdout",
          "output_type": "stream",
          "text": [
            "<class 'pandas.core.frame.DataFrame'>\n",
            "RangeIndex: 23699 entries, 0 to 23698\n",
            "Data columns (total 22 columns):\n",
            " #   Column                Non-Null Count  Dtype  \n",
            "---  ------                --------------  -----  \n",
            " 0   total_images          23699 non-null  int64  \n",
            " 1   last_price            23699 non-null  float64\n",
            " 2   total_area            23699 non-null  float64\n",
            " 3   first_day_exposition  23699 non-null  object \n",
            " 4   rooms                 23699 non-null  int64  \n",
            " 5   ceiling_height        14504 non-null  float64\n",
            " 6   floors_total          23613 non-null  float64\n",
            " 7   living_area           21796 non-null  float64\n",
            " 8   floor                 23699 non-null  int64  \n",
            " 9   is_apartment          2775 non-null   object \n",
            " 10  studio                23699 non-null  bool   \n",
            " 11  open_plan             23699 non-null  bool   \n",
            " 12  kitchen_area          21421 non-null  float64\n",
            " 13  balcony               12180 non-null  float64\n",
            " 14  locality_name         23650 non-null  object \n",
            " 15  airports_nearest      18157 non-null  float64\n",
            " 16  cityCenters_nearest   18180 non-null  float64\n",
            " 17  parks_around3000      23699 non-null  float64\n",
            " 18  parks_nearest         8079 non-null   float64\n",
            " 19  ponds_around3000      23699 non-null  float64\n",
            " 20  ponds_nearest         9110 non-null   float64\n",
            " 21  days_exposition       20518 non-null  float64\n",
            "dtypes: bool(2), float64(14), int64(3), object(3)\n",
            "memory usage: 3.7+ MB\n"
          ]
        }
      ],
      "source": [
        "data['ponds_around3000'] = data['ponds_around3000'].where(data['ponds_nearest'].notna(),\n",
        "                                                          data['ponds_around3000'].fillna(value=0), axis=0)\n",
        "data['parks_around3000'] = data['parks_around3000'].where(data['parks_nearest'].notna(),\n",
        "                                                          data['parks_around3000'].fillna(value=0), axis=0)\n",
        "data.info()"
      ]
    },
    {
      "cell_type": "code",
      "execution_count": null,
      "metadata": {
        "id": "DGtDgVeVRxVn"
      },
      "outputs": [],
      "source": [
        "data['balcony'] = data['balcony'].fillna(value=0).astype(int)"
      ]
    },
    {
      "cell_type": "markdown",
      "metadata": {
        "id": "XvSXblNQRxVn"
      },
      "source": [
        "<div style=\"background-color:lavender; color:#black; text-align:left; padding:2%\">\n",
        "В датасете видно, что в объявлениях у всех незаполненных значений parks_around3000 или ponds_around3000 соответствующие значения  parks_nearest и ponds_nearest равны NaN\n",
        "</div>"
      ]
    },
    {
      "cell_type": "markdown",
      "metadata": {
        "id": "SMgcHC8URxVo"
      },
      "source": [
        "<div style=\"background-color:lavender; color:#black; text-align:left; padding:2%\">\n",
        "Предположу, что информацию не заполнили, т.к. неизвестен был статус объявления. Например, квартиру могли продать, а объявление не сняли.  \n",
        "     \n",
        "В этом случае, действительно, мы не можем знать какими значениями заполнить пропуски.\n",
        "    \n",
        "Столбец days_exposition не трогаем.\n",
        "</div>"
      ]
    },
    {
      "cell_type": "markdown",
      "metadata": {
        "id": "O0Cv1IzxRxVr"
      },
      "source": [
        "Изменим тип данных в столбцах на целочисленный: balcony, parks_around3000, ponds_around3000 и days_exposition"
      ]
    },
    {
      "cell_type": "code",
      "execution_count": null,
      "metadata": {
        "id": "UGDz5lvhRxVs"
      },
      "outputs": [],
      "source": [
        "data['balcony'] = data['balcony'].astype(int)\n",
        "data['ponds_around3000'] = data['ponds_around3000'].astype(int)\n",
        "data['parks_around3000'] = data['parks_around3000'].astype(int)"
      ]
    },
    {
      "cell_type": "markdown",
      "metadata": {
        "id": "JOZp4mKCRxVs"
      },
      "source": [
        "Пропуски в столбцах parks_nearest и ponds_nearest не трогаем, т.к. незаполненных данных много и мы не знаем, как их корректно заполнить."
      ]
    },
    {
      "cell_type": "markdown",
      "metadata": {
        "id": "XgKH2k-BRxVs"
      },
      "source": [
        "\n",
        "Пропуски в значениях близость к аэропорту и близость к центру не трогаем не трогаем.    \n"
      ]
    },
    {
      "cell_type": "markdown",
      "metadata": {
        "id": "LIVml8skRxVt"
      },
      "source": [
        "Пропуски у высоты потолка лучше заменить медианным значением этого атрибута."
      ]
    },
    {
      "cell_type": "code",
      "execution_count": null,
      "metadata": {
        "id": "Ice7zlp9RxVt"
      },
      "outputs": [],
      "source": [
        "data['ceiling_height'] = data['ceiling_height'].fillna(value = data['ceiling_height'].median())"
      ]
    },
    {
      "cell_type": "markdown",
      "metadata": {
        "id": "i4F73lhMRxVt"
      },
      "source": [
        "Изменим тип данных у столбца last_price на целочисленный, т.к. цена задана целым числом."
      ]
    },
    {
      "cell_type": "code",
      "execution_count": null,
      "metadata": {
        "id": "8hralBjVRxVt"
      },
      "outputs": [],
      "source": [
        "data['last_price'] = data['last_price'].astype(int)"
      ]
    },
    {
      "cell_type": "markdown",
      "metadata": {
        "id": "wS_ZtGZQRxVt"
      },
      "source": [
        "Проверим наличие неявных дублей в названиях локаций."
      ]
    },
    {
      "cell_type": "markdown",
      "metadata": {
        "id": "UKShLlNCRxVt"
      },
      "source": [
        "Посчитаем кол-во уникальных значений локаций и выведем их все на экран."
      ]
    },
    {
      "cell_type": "code",
      "execution_count": null,
      "metadata": {
        "id": "qblwYaYGRxVu",
        "outputId": "8ec79ee4-b8a8-4069-d6ef-9b2d2c9ab4ec"
      },
      "outputs": [
        {
          "data": {
            "text/plain": [
              "Санкт-Петербург           15721\n",
              "посёлок Мурино              522\n",
              "посёлок Шушары              440\n",
              "Всеволожск                  398\n",
              "Пушкин                      369\n",
              "                          ...  \n",
              "деревня Раздолье              1\n",
              "деревня Нижняя                1\n",
              "деревня Нижние Осельки        1\n",
              "деревня Хязельки              1\n",
              "деревня Щеглово               1\n",
              "Name: locality_name, Length: 364, dtype: int64"
            ]
          },
          "metadata": {},
          "output_type": "display_data"
        },
        {
          "data": {
            "text/plain": [
              "array(['Санкт-Петербург', 'посёлок Шушары', 'городской посёлок Янино-1',\n",
              "       'посёлок Парголово', 'посёлок Мурино', 'Ломоносов', 'Сертолово',\n",
              "       'Петергоф', 'Пушкин', 'деревня Кудрово', 'Коммунар', 'Колпино',\n",
              "       'поселок городского типа Красный Бор', 'Гатчина', 'поселок Мурино',\n",
              "       'деревня Фёдоровское', 'Выборг', 'Кронштадт', 'Кировск',\n",
              "       'деревня Новое Девяткино', 'посёлок Металлострой',\n",
              "       'посёлок городского типа Лебяжье',\n",
              "       'посёлок городского типа Сиверский', 'поселок Молодцово',\n",
              "       'поселок городского типа Кузьмоловский',\n",
              "       'садовое товарищество Новая Ропша', 'Павловск',\n",
              "       'деревня Пикколово', 'Всеволожск', 'Волхов', 'Кингисепп',\n",
              "       'Приозерск', 'Сестрорецк', 'деревня Куттузи', 'посёлок Аннино',\n",
              "       'поселок городского типа Ефимовский', 'посёлок Плодовое',\n",
              "       'деревня Заклинье', 'поселок Торковичи', 'поселок Первомайское',\n",
              "       'Красное Село', 'посёлок Понтонный', 'Сясьстрой', 'деревня Старая',\n",
              "       'деревня Лесколово', 'посёлок Новый Свет', 'Сланцы',\n",
              "       'село Путилово', 'Ивангород', 'Мурино', 'Шлиссельбург',\n",
              "       'Никольское', 'Зеленогорск', 'Сосновый Бор', 'поселок Новый Свет',\n",
              "       'деревня Оржицы', 'деревня Кальтино', 'Кудрово',\n",
              "       'поселок Романовка', 'посёлок Бугры', 'поселок Бугры',\n",
              "       'поселок городского типа Рощино', 'Кириши', 'Луга', 'Волосово',\n",
              "       'Отрадное', 'село Павлово', 'поселок Оредеж', 'село Копорье',\n",
              "       'посёлок городского типа Красный Бор', 'посёлок Молодёжное',\n",
              "       'Тихвин', 'посёлок Победа', 'деревня Нурма',\n",
              "       'поселок городского типа Синявино', 'Тосно',\n",
              "       'посёлок городского типа Кузьмоловский', 'посёлок Стрельна',\n",
              "       'Бокситогорск', 'посёлок Александровская', 'деревня Лопухинка',\n",
              "       'Пикалёво', 'поселок Терволово',\n",
              "       'поселок городского типа Советский', 'Подпорожье',\n",
              "       'посёлок Петровское', 'посёлок городского типа Токсово',\n",
              "       'поселок Сельцо', 'посёлок городского типа Вырица',\n",
              "       'деревня Кипень', 'деревня Келози', 'деревня Вартемяги',\n",
              "       'посёлок Тельмана', 'поселок Севастьяново',\n",
              "       'городской поселок Большая Ижора', nan,\n",
              "       'городской посёлок Павлово', 'деревня Агалатово',\n",
              "       'посёлок Новогорелово', 'городской посёлок Лесогорский',\n",
              "       'деревня Лаголово', 'поселок Цвелодубово',\n",
              "       'поселок городского типа Рахья', 'поселок городского типа Вырица',\n",
              "       'деревня Белогорка', 'поселок Заводской',\n",
              "       'городской посёлок Новоселье', 'деревня Большие Колпаны',\n",
              "       'деревня Горбунки', 'деревня Батово', 'деревня Заневка',\n",
              "       'деревня Иссад', 'Приморск', 'городской посёлок Фёдоровское',\n",
              "       'деревня Мистолово', 'Новая Ладога', 'поселок Зимитицы',\n",
              "       'поселок Барышево', 'деревня Разметелево',\n",
              "       'поселок городского типа имени Свердлова', 'деревня Пеники',\n",
              "       'поселок Рябово', 'деревня Пудомяги', 'поселок станции Корнево',\n",
              "       'деревня Низино', 'деревня Бегуницы', 'посёлок Поляны',\n",
              "       'городской посёлок Мга', 'поселок Елизаветино',\n",
              "       'посёлок городского типа Кузнечное', 'деревня Колтуши',\n",
              "       'поселок Запорожское', 'посёлок городского типа Рощино',\n",
              "       'деревня Гостилицы', 'деревня Малое Карлино',\n",
              "       'посёлок Мичуринское', 'посёлок городского типа имени Морозова',\n",
              "       'посёлок Песочный', 'посёлок Сосново', 'деревня Аро',\n",
              "       'поселок Ильичёво', 'посёлок городского типа Тайцы',\n",
              "       'деревня Малое Верево', 'деревня Извара', 'поселок станции Вещево',\n",
              "       'село Паша', 'деревня Калитино',\n",
              "       'посёлок городского типа Ульяновка', 'деревня Чудской Бор',\n",
              "       'поселок городского типа Дубровка', 'деревня Мины',\n",
              "       'поселок Войсковицы', 'посёлок городского типа имени Свердлова',\n",
              "       'деревня Коркино', 'посёлок Ропша',\n",
              "       'поселок городского типа Приладожский', 'посёлок Щеглово',\n",
              "       'посёлок Гаврилово', 'Лодейное Поле', 'деревня Рабитицы',\n",
              "       'поселок городского типа Никольский', 'деревня Кузьмолово',\n",
              "       'деревня Малые Колпаны', 'поселок Тельмана',\n",
              "       'посёлок Петро-Славянка', 'городской посёлок Назия',\n",
              "       'посёлок Репино', 'посёлок Ильичёво', 'поселок Углово',\n",
              "       'поселок Старая Малукса', 'садовое товарищество Рахья',\n",
              "       'поселок Аннино', 'поселок Победа', 'деревня Меньково',\n",
              "       'деревня Старые Бегуницы', 'посёлок Сапёрный', 'поселок Семрино',\n",
              "       'поселок Гаврилово', 'поселок Глажево', 'поселок Кобринское',\n",
              "       'деревня Гарболово', 'деревня Юкки',\n",
              "       'поселок станции Приветнинское', 'деревня Мануйлово',\n",
              "       'деревня Пчева', 'поселок Поляны', 'поселок Цвылёво',\n",
              "       'поселок Мельниково', 'посёлок Пудость', 'посёлок Усть-Луга',\n",
              "       'Светогорск', 'Любань', 'поселок Селезнёво',\n",
              "       'поселок городского типа Рябово', 'Каменногорск', 'деревня Кривко',\n",
              "       'поселок Глебычево', 'деревня Парицы', 'поселок Жилпосёлок',\n",
              "       'посёлок городского типа Мга', 'городской поселок Янино-1',\n",
              "       'посёлок Войскорово', 'село Никольское', 'посёлок Терволово',\n",
              "       'поселок Стеклянный', 'посёлок городского типа Важины',\n",
              "       'посёлок Мыза-Ивановка', 'село Русско-Высоцкое',\n",
              "       'поселок городского типа Лебяжье',\n",
              "       'поселок городского типа Форносово', 'село Старая Ладога',\n",
              "       'поселок Житково', 'городской посёлок Виллози', 'деревня Лампово',\n",
              "       'деревня Шпаньково', 'деревня Лаврики', 'посёлок Сумино',\n",
              "       'посёлок Возрождение', 'деревня Старосиверская',\n",
              "       'посёлок Кикерино', 'поселок Возрождение',\n",
              "       'деревня Старое Хинколово', 'посёлок Пригородный',\n",
              "       'посёлок Торфяное', 'городской посёлок Будогощь',\n",
              "       'поселок Суходолье', 'поселок Красная Долина', 'деревня Хапо-Ое',\n",
              "       'поселок городского типа Дружная Горка', 'поселок Лисий Нос',\n",
              "       'деревня Яльгелево', 'посёлок Стеклянный', 'село Рождествено',\n",
              "       'деревня Старополье', 'посёлок Левашово', 'деревня Сяськелево',\n",
              "       'деревня Камышовка',\n",
              "       'садоводческое некоммерческое товарищество Лесная Поляна',\n",
              "       'деревня Хязельки', 'поселок Жилгородок',\n",
              "       'посёлок городского типа Павлово', 'деревня Ялгино',\n",
              "       'поселок Новый Учхоз', 'городской посёлок Рощино',\n",
              "       'поселок Гончарово', 'поселок Почап', 'посёлок Сапёрное',\n",
              "       'посёлок Платформа 69-й километр', 'поселок Каложицы',\n",
              "       'деревня Фалилеево', 'деревня Пельгора',\n",
              "       'поселок городского типа Лесогорский', 'деревня Торошковичи',\n",
              "       'посёлок Белоостров', 'посёлок Алексеевка', 'поселок Серебрянский',\n",
              "       'поселок Лукаши', 'поселок Петровское', 'деревня Щеглово',\n",
              "       'поселок Мичуринское', 'деревня Тарасово', 'поселок Кингисеппский',\n",
              "       'посёлок при железнодорожной станции Вещево', 'поселок Ушаки',\n",
              "       'деревня Котлы', 'деревня Сижно', 'деревня Торосово',\n",
              "       'посёлок Форт Красная Горка', 'поселок городского типа Токсово',\n",
              "       'деревня Новолисино', 'посёлок станции Громово', 'деревня Глинка',\n",
              "       'посёлок Мельниково', 'поселок городского типа Назия',\n",
              "       'деревня Старая Пустошь', 'поселок Коммунары', 'поселок Починок',\n",
              "       'посёлок городского типа Вознесенье', 'деревня Разбегаево',\n",
              "       'посёлок городского типа Рябово', 'поселок Гладкое',\n",
              "       'посёлок при железнодорожной станции Приветнинское',\n",
              "       'поселок Тёсово-4', 'посёлок Жилгородок', 'деревня Бор',\n",
              "       'посёлок Коробицыно', 'деревня Большая Вруда', 'деревня Курковицы',\n",
              "       'посёлок Лисий Нос', 'городской посёлок Советский',\n",
              "       'посёлок Кобралово', 'деревня Суоранда', 'поселок Кобралово',\n",
              "       'поселок городского типа Кондратьево',\n",
              "       'коттеджный поселок Счастье', 'поселок Любань', 'деревня Реброво',\n",
              "       'деревня Зимитицы', 'деревня Тойворово', 'поселок Семиозерье',\n",
              "       'поселок Лесное', 'поселок Совхозный', 'поселок Усть-Луга',\n",
              "       'посёлок Ленинское', 'посёлок Суйда',\n",
              "       'посёлок городского типа Форносово', 'деревня Нижние Осельки',\n",
              "       'посёлок станции Свирь', 'поселок Перово', 'Высоцк',\n",
              "       'поселок Гарболово', 'село Шум', 'поселок Котельский',\n",
              "       'поселок станции Лужайка', 'деревня Большая Пустомержа',\n",
              "       'поселок Красносельское', 'деревня Вахнова Кара', 'деревня Пижма',\n",
              "       'коттеджный поселок Кивеннапа Север', 'поселок Коробицыно',\n",
              "       'поселок Ромашки', 'посёлок Перово', 'деревня Каськово',\n",
              "       'деревня Куровицы', 'посёлок Плоское', 'поселок Сумино',\n",
              "       'поселок городского типа Большая Ижора', 'поселок Кирпичное',\n",
              "       'деревня Ям-Тесово', 'деревня Раздолье', 'деревня Терпилицы',\n",
              "       'посёлок Шугозеро', 'деревня Ваганово', 'поселок Пушное',\n",
              "       'садовое товарищество Садко', 'посёлок Усть-Ижора',\n",
              "       'деревня Выскатка', 'городской посёлок Свирьстрой',\n",
              "       'поселок Громово', 'деревня Кисельня', 'посёлок Старая Малукса',\n",
              "       'деревня Трубников Бор', 'поселок Калитино',\n",
              "       'посёлок Высокоключевой', 'садовое товарищество Приладожский',\n",
              "       'посёлок Пансионат Зелёный Бор', 'деревня Ненимяки',\n",
              "       'поселок Пансионат Зелёный Бор', 'деревня Снегирёвка',\n",
              "       'деревня Рапполово', 'деревня Пустынка', 'поселок Рабитицы',\n",
              "       'деревня Большой Сабск', 'деревня Русско', 'деревня Лупполово',\n",
              "       'деревня Большое Рейзино', 'деревня Малая Романовка',\n",
              "       'поселок Дружноселье', 'поселок Пчевжа', 'поселок Володарское',\n",
              "       'деревня Нижняя', 'коттеджный посёлок Лесное', 'деревня Тихковицы',\n",
              "       'деревня Борисова Грива', 'посёлок Дзержинского'], dtype=object)"
            ]
          },
          "metadata": {},
          "output_type": "display_data"
        }
      ],
      "source": [
        "display(data['locality_name'].value_counts())\n",
        "display(data['locality_name'].unique())"
      ]
    },
    {
      "cell_type": "markdown",
      "metadata": {
        "id": "6tP4zOerRxVu"
      },
      "source": [
        "Выявлены неявные дубли, которые возникли:\n",
        "-  при использовании буквы \"ё\" (посёлок и поселок).\n",
        "-  при использовании разных формулировок для одних и тех же локаций, например поселок Рябово и поселок городского типа Рябово и пр."
      ]
    },
    {
      "cell_type": "markdown",
      "metadata": {
        "id": "WQ_drYIKRxVu"
      },
      "source": [
        "Устраним неявные дубли, заменим \"ё\" на \"е\" и приведем остальные дубли (найденные при анализе данных выше) к одинаковым формулировкам."
      ]
    },
    {
      "cell_type": "code",
      "execution_count": null,
      "metadata": {
        "id": "j8yw3eZSRxVu"
      },
      "outputs": [],
      "source": [
        "data['locality_name'] = (\n",
        "    data['locality_name'].str.replace('ё', 'е')\n",
        "    .replace('поселок Рябово', 'поселок городского типа Рябово', regex=True)\n",
        "    .replace('городской поселок Мга', 'поселок городского типа Мга', regex=True)\n",
        "    .replace('Кудрово', 'деревня Кудрово', regex=True)\n",
        "    .replace('Мурино', 'поселок Мурино', regex=True)\n",
        "    .replace('село Павлово', 'городской поселок Павлово', regex=True)\n",
        "    .replace('коттеджный поселок Лесное', 'поселок Лесное', regex=True)\n",
        "    .replace('поселок городского типа Павлово', 'городской поселок Павлово', regex=True)\n",
        "    .replace('поселок городского типа Лесогорский', 'городской поселок Лесогорский', regex=True)\n",
        ")"
      ]
    },
    {
      "cell_type": "code",
      "execution_count": null,
      "metadata": {
        "id": "fawdWdxXRxVu",
        "outputId": "14f683ea-e97f-4132-a9eb-0b3793361c39"
      },
      "outputs": [
        {
          "data": {
            "text/plain": [
              "Санкт-Петербург           15721\n",
              "поселок поселок Мурино      556\n",
              "поселок Шушары              440\n",
              "Всеволожск                  398\n",
              "Пушкин                      369\n",
              "                          ...  \n",
              "деревня Рапполово             1\n",
              "поселок Жилпоселок            1\n",
              "поселок Пчевжа                1\n",
              "деревня Иссад                 1\n",
              "деревня Щеглово               1\n",
              "Name: locality_name, Length: 324, dtype: int64"
            ]
          },
          "metadata": {},
          "output_type": "display_data"
        }
      ],
      "source": [
        "#проверим, сколько уникальных значений получилось после замены\n",
        "display(data['locality_name'].value_counts())"
      ]
    },
    {
      "cell_type": "markdown",
      "metadata": {
        "id": "iRiz-XHhRxVv"
      },
      "source": [
        "В ходе предобработки данных были найдены пропуски в данных столбцов:  \n",
        "\n",
        "- ceiling_height, floors_total, living_area, floor, kitchen_area, balcony, airports_nearest, cityCenters_nearest, parks_around3000, parks_nearest, ponds_around3000, ponds_nearest, days_exposition, is_apartment, studio\n",
        "\n",
        "Там, где это было возможно, пропуски были заполнены подходящими значениями: 0, медианой, максимальными.\n",
        "В locality_name были найдены неявные дубли в названиях локаций, которых после преобразования  стало гораздо меньше. Уникальных наименований было 364, стало 324.\n",
        "\n",
        "Некоторые пропуски могли возникнуть из-за ошибок ввода, другие параметры, возможно были необязательными для заполнения."
      ]
    },
    {
      "cell_type": "markdown",
      "metadata": {
        "id": "QCcvyY6YAwb-"
      },
      "source": [
        "### Добавим в таблицу новые столбцы"
      ]
    },
    {
      "cell_type": "code",
      "execution_count": null,
      "metadata": {
        "id": "Z8eJek3IAwb-",
        "outputId": "13f14608-e544-491e-8ffb-5a7cd6c61c55"
      },
      "outputs": [
        {
          "name": "stdout",
          "output_type": "stream",
          "text": [
            "<class 'pandas.core.frame.DataFrame'>\n",
            "RangeIndex: 23699 entries, 0 to 23698\n",
            "Data columns (total 28 columns):\n",
            " #   Column                     Non-Null Count  Dtype         \n",
            "---  ------                     --------------  -----         \n",
            " 0   total_images               23699 non-null  int64         \n",
            " 1   last_price                 23699 non-null  int64         \n",
            " 2   total_area                 23699 non-null  float64       \n",
            " 3   first_day_exposition       23699 non-null  datetime64[ns]\n",
            " 4   rooms                      23699 non-null  int64         \n",
            " 5   ceiling_height             23699 non-null  float64       \n",
            " 6   floors_total               23613 non-null  float64       \n",
            " 7   living_area                21796 non-null  float64       \n",
            " 8   floor                      23699 non-null  int64         \n",
            " 9   is_apartment               2775 non-null   object        \n",
            " 10  studio                     23699 non-null  bool          \n",
            " 11  open_plan                  23699 non-null  bool          \n",
            " 12  kitchen_area               21421 non-null  float64       \n",
            " 13  balcony                    23699 non-null  int64         \n",
            " 14  locality_name              23650 non-null  object        \n",
            " 15  airports_nearest           18157 non-null  float64       \n",
            " 16  cityCenters_nearest        18180 non-null  float64       \n",
            " 17  parks_around3000           23699 non-null  int64         \n",
            " 18  parks_nearest              8079 non-null   float64       \n",
            " 19  ponds_around3000           23699 non-null  int64         \n",
            " 20  ponds_nearest              9110 non-null   float64       \n",
            " 21  days_exposition            20518 non-null  float64       \n",
            " 22  price_per_square_meter     23699 non-null  float64       \n",
            " 23  weekday_exposition         23699 non-null  int64         \n",
            " 24  month_exposition           23699 non-null  int64         \n",
            " 25  year_exposition            23699 non-null  int64         \n",
            " 26  floor_category             23699 non-null  object        \n",
            " 27  cityCenter_nearest_per_km  18180 non-null  float64       \n",
            "dtypes: bool(2), datetime64[ns](1), float64(12), int64(10), object(3)\n",
            "memory usage: 4.7+ MB\n"
          ]
        }
      ],
      "source": [
        "#добавляем новый столбец - цена квадратного метра (находим отношение стоимости на площадь)\n",
        "#округляем получившееся значение до двух знаков после запятой\n",
        "data['price_per_square_meter'] = (data['last_price'] / data['total_area']).round(2)\n",
        "\n",
        "#в столбце дата публикации оставляем только дату\n",
        "data['first_day_exposition'] = pd.to_datetime(data['first_day_exposition'], format='%Y-%m-%d')\n",
        "\n",
        "#добавляем новый столбец - день недели\n",
        "#dt.weekday возвращает день недели для заданной даты- понедельник равен 0,вторник равен 1..., воскресенье — 6.\n",
        "data['weekday_exposition'] = data['first_day_exposition'].dt.weekday\n",
        "\n",
        "#добавляем новый столбец - месяц\n",
        "#dt.month возвращает месяц по дате\n",
        "data['month_exposition'] = data['first_day_exposition'].dt.month\n",
        "\n",
        "#добавляем новый столбец - год\n",
        "#dt.month возвращает год по дате\n",
        "data['year_exposition'] = data['first_day_exposition'].dt.year\n",
        "\n",
        "#создадим функцию определения типа квартиры по этажу\n",
        "#если этаж квартиры равен 1, то функция возвращает первый, если равен floors_total, то возвращает последний, если\n",
        "#если иное, то возвращает \"другой\"\n",
        "def floor_category(row):\n",
        "    floors_total = row['floors_total']\n",
        "    floor = row['floor']\n",
        "    if floor == 1:\n",
        "        return 'первый'\n",
        "    elif floor == floors_total:\n",
        "        return 'последний'\n",
        "    else:\n",
        "        return 'другой'\n",
        "\n",
        "#добавляем новый столбец - тип этажа, применяя функцию floor_category в качестве аргумента функции apply\n",
        "#функция применяется к каждой строке датасета, а столбцы меняются.\n",
        "\n",
        "data['floor_category'] = data.apply(floor_category, axis = 1)\n",
        "\n",
        "\n",
        "#добавляем новый столбец - растояние до центра города в км. для заполненных значений\n",
        "data['cityCenter_nearest_per_km'] = data['cityCenters_nearest'].where(data['cityCenters_nearest'].isna(),\n",
        "                                                          data['cityCenters_nearest']/1000, axis=0)\n",
        "#data['cityCenter_nearest_per_km'] = (data['cityCenters_nearest'] / 1000).astype(int)\n",
        "\n",
        "\n",
        "#проверяем, что новые столбцы добавлены в датасет\n",
        "data.info()"
      ]
    },
    {
      "cell_type": "markdown",
      "metadata": {
        "id": "pPyxrKWTAwb-"
      },
      "source": [
        "### Проведите исследовательский анализ данных"
      ]
    },
    {
      "cell_type": "markdown",
      "metadata": {
        "id": "o0a0E6jpRxVw"
      },
      "source": [
        "Редкие и выбивающиеся значения в указанных столбцах были скорректированы.\n"
      ]
    },
    {
      "cell_type": "markdown",
      "metadata": {
        "id": "nmo1pmvcRxVw"
      },
      "source": [
        "Изучим данные в колонке общая площадь"
      ]
    },
    {
      "cell_type": "code",
      "execution_count": null,
      "metadata": {
        "id": "V2f0D3kLAwb-",
        "outputId": "f19a7ee7-0d2c-4352-fca9-b7f65ced2fe5"
      },
      "outputs": [
        {
          "data": {
            "text/plain": [
              "count   23,699.0\n",
              "mean        60.3\n",
              "std         35.7\n",
              "min         12.0\n",
              "25%         40.0\n",
              "50%         52.0\n",
              "75%         69.9\n",
              "max        900.0\n",
              "Name: total_area, dtype: float64"
            ]
          },
          "execution_count": 14,
          "metadata": {},
          "output_type": "execute_result"
        },
        {
          "data": {
            "image/png": "[encoded data removed]",
            "text/plain": [
              "<Figure size 360x216 with 1 Axes>"
            ]
          },
          "metadata": {
            "needs_background": "light"
          },
          "output_type": "display_data"
        }
      ],
      "source": [
        "#строим гистограмму распределения общей площади\n",
        "data.plot(y = 'total_area', kind = 'hist', bins = 100, grid=True, figsize = (5,3), range = (0,300))\n",
        "plt.title('Гистограмма распределения общей площади')\n",
        "plt.xlabel('Общая площадь')\n",
        "plt.ylabel('Частота')\n",
        "data['total_area'].describe()"
      ]
    },
    {
      "cell_type": "code",
      "execution_count": null,
      "metadata": {
        "id": "EsD4v15GRxVw",
        "outputId": "4479e72c-6416-4f41-8285-b4830db5d56e"
      },
      "outputs": [
        {
          "data": {
            "image/png": "[encoded data removed]",
            "text/plain": [
              "<Figure size 432x288 with 1 Axes>"
            ]
          },
          "metadata": {
            "needs_background": "light"
          },
          "output_type": "display_data"
        }
      ],
      "source": [
        "#построим график размаха по общей площади\n",
        "plt.boxplot(data['total_area'])\n",
        "plt.show()"
      ]
    },
    {
      "cell_type": "markdown",
      "metadata": {
        "id": "tVtoKwNURxVx"
      },
      "source": [
        "По гистограмме видно, что общая площадь имеет нормальное распределение. Чаще всего общая площадь попадает в диапазон от 35 до 50 кв.м.\n",
        "\n",
        "Выбросы незначительные, аномалии есть - максимольное значение площади 900 кв. м. И минимальное - 12.\n"
      ]
    },
    {
      "cell_type": "code",
      "execution_count": null,
      "metadata": {
        "id": "nf-qcZ6eRxVx",
        "outputId": "03c32220-de54-4160-a15b-5f9c1a86a8c5"
      },
      "outputs": [
        {
          "data": {
            "text/plain": [
              "564"
            ]
          },
          "metadata": {},
          "output_type": "display_data"
        }
      ],
      "source": [
        "#найдем другие аномалии, проверим какое количество объявлений общей площадью больше 150 кв.м.\n",
        "display (data[data['total_area'] > 150]['total_area'].count())"
      ]
    },
    {
      "cell_type": "code",
      "execution_count": null,
      "metadata": {
        "id": "nZ_XBKNKRxVx",
        "outputId": "0c1c91a7-7f9e-4577-fbd2-936dc2fedf4f"
      },
      "outputs": [
        {
          "data": {
            "text/plain": [
              "6"
            ]
          },
          "metadata": {},
          "output_type": "display_data"
        }
      ],
      "source": [
        "#найдем другие близкие к минимальным значениям, квартиры с общей площадью меньше 15 кв.м..\n",
        "display (data[data['total_area'] < 15]['total_area'].count())"
      ]
    },
    {
      "cell_type": "code",
      "execution_count": null,
      "metadata": {
        "id": "yXHNyQ-TRxVx"
      },
      "outputs": [],
      "source": [
        "#564 объявления - с площадью выше 150 кв. м. удалим некорректные данные\n",
        "data['total_area'] = data['total_area'].drop(data[data['total_area'] > 150].index, axis=0)\n",
        "#6 объявлений - с площадью менее 15 кв. м. удалим некорректные данные\n",
        "data['total_area'] = data['total_area'].drop(data[data['total_area'] < 15].index, axis=0)"
      ]
    },
    {
      "cell_type": "code",
      "execution_count": null,
      "metadata": {
        "scrolled": true,
        "id": "5oxwnqmCRxVx",
        "outputId": "1120279a-9142-4a0c-a351-ee5e1205494a"
      },
      "outputs": [
        {
          "data": {
            "text/plain": [
              "count   23,129.0\n",
              "mean        56.6\n",
              "std         22.9\n",
              "min         15.0\n",
              "25%         40.0\n",
              "50%         51.0\n",
              "75%         67.7\n",
              "max        150.0\n",
              "Name: total_area, dtype: float64"
            ]
          },
          "execution_count": 19,
          "metadata": {},
          "output_type": "execute_result"
        }
      ],
      "source": [
        "#после корректировок посмотрим как изменились основные параметры\n",
        "data['total_area'].describe()"
      ]
    },
    {
      "cell_type": "markdown",
      "metadata": {
        "id": "yDpFzDz0RxVy"
      },
      "source": [
        "Среднее значение общей площади - 56.6, медианное 51. Минимальное -15, максимальное 150."
      ]
    },
    {
      "cell_type": "code",
      "execution_count": null,
      "metadata": {
        "id": "SDWeC5ixRxVy",
        "outputId": "81a982e7-9520-425e-a36b-41970ce8155b"
      },
      "outputs": [
        {
          "data": {
            "text/plain": [
              "count   21,796.0\n",
              "mean        34.5\n",
              "std         22.0\n",
              "min          2.0\n",
              "25%         18.6\n",
              "50%         30.0\n",
              "75%         42.3\n",
              "max        409.7\n",
              "Name: living_area, dtype: float64"
            ]
          },
          "execution_count": 20,
          "metadata": {},
          "output_type": "execute_result"
        },
        {
          "data": {
            "image/png": "[encoded data removed]",
            "text/plain": [
              "<Figure size 360x216 with 1 Axes>"
            ]
          },
          "metadata": {
            "needs_background": "light"
          },
          "output_type": "display_data"
        }
      ],
      "source": [
        "#изучим жилую площадь\n",
        "data.plot(y = 'living_area', kind = 'hist', bins = 100, grid=True, figsize = (5,3), range = (0,100))\n",
        "plt.title('Гистограмма распределения жилой площади')\n",
        "plt.xlabel('Жилая площадь')\n",
        "plt.ylabel('Частота')\n",
        "data['living_area'].describe()"
      ]
    },
    {
      "cell_type": "markdown",
      "metadata": {
        "id": "GLeVxSn_RxVy"
      },
      "source": [
        "По гистограмме видно, что жилая площадь распределена нормально. Выбросы незначительные, аномалий нет.Заметны 2 вершины - чаще всего квартиры попадаются с жилой площадью в диапазонах 15-21 кв.м и 28-35 кв.м.\n"
      ]
    },
    {
      "cell_type": "code",
      "execution_count": null,
      "metadata": {
        "id": "sR9mdYYoRxVy",
        "outputId": "20602738-54dd-4a16-bdd0-589187b905fc"
      },
      "outputs": [
        {
          "data": {
            "text/plain": [
              "count   23,699.0\n",
              "mean         0.6\n",
              "std          1.0\n",
              "min          0.0\n",
              "25%          0.0\n",
              "50%          0.0\n",
              "75%          1.0\n",
              "max          5.0\n",
              "Name: balcony, dtype: float64"
            ]
          },
          "execution_count": 21,
          "metadata": {},
          "output_type": "execute_result"
        },
        {
          "data": {
            "image/png": "[encoded data removed]",
            "text/plain": [
              "<Figure size 360x216 with 1 Axes>"
            ]
          },
          "metadata": {
            "needs_background": "light"
          },
          "output_type": "display_data"
        }
      ],
      "source": [
        "#изучим кол-во балконов\n",
        "data.plot(y = 'balcony', kind = 'hist', bins = 100, grid=True, figsize = (5,3), range = (0,40))\n",
        "plt.title('Гистограмма распределения кол-ва балконов')\n",
        "plt.xlabel('Кол-во балконов')\n",
        "plt.ylabel('Частота')\n",
        "data['balcony'].describe()"
      ]
    },
    {
      "cell_type": "markdown",
      "metadata": {
        "id": "Sb3u3NSQRxVy"
      },
      "source": [
        "Максимольное кол-во балконов 5 - выглядит аномально."
      ]
    },
    {
      "cell_type": "code",
      "execution_count": null,
      "metadata": {
        "id": "QAHjyfnnRxVy",
        "outputId": "cbfa67cb-0211-4b37-c64d-815d0fff200b"
      },
      "outputs": [
        {
          "data": {
            "text/plain": [
              "487"
            ]
          },
          "metadata": {},
          "output_type": "display_data"
        }
      ],
      "source": [
        "#изучим сколько квартир с балконами больше 3-х шт.\n",
        "display (data[data['balcony'] > 3]['balcony'].count())"
      ]
    },
    {
      "cell_type": "code",
      "execution_count": null,
      "metadata": {
        "id": "Gtk-uOa7RxVz",
        "outputId": "373f6f12-c57a-4a5c-fedb-f525e8858bd7"
      },
      "outputs": [
        {
          "data": {
            "text/plain": [
              "count   23,212.0\n",
              "mean         0.5\n",
              "std          0.8\n",
              "min          0.0\n",
              "25%          0.0\n",
              "50%          0.0\n",
              "75%          1.0\n",
              "max          3.0\n",
              "Name: balcony, dtype: float64"
            ]
          },
          "execution_count": 23,
          "metadata": {},
          "output_type": "execute_result"
        }
      ],
      "source": [
        "#удалим аномалии - объявления квартир с балконами больше 3-х шт.\n",
        "data['balcony'] = data['balcony'].drop(data[data['balcony'] > 3].index, axis=0)\n",
        "data['balcony'].describe()"
      ]
    },
    {
      "cell_type": "markdown",
      "metadata": {
        "id": "EvZ-KlAdRxVz"
      },
      "source": [
        "После очистки, данные  по квартирам с балконами скорректировались - минимум 0 балконов, максимум 3. Медианное 0 - балконов."
      ]
    },
    {
      "cell_type": "code",
      "execution_count": null,
      "metadata": {
        "id": "cRAcB1tBRxVz",
        "outputId": "21340ed1-59e3-4119-84d8-577b174d1dc9"
      },
      "outputs": [
        {
          "data": {
            "text/plain": [
              "count   21,421.0\n",
              "mean        10.6\n",
              "std          5.9\n",
              "min          1.3\n",
              "25%          7.0\n",
              "50%          9.1\n",
              "75%         12.0\n",
              "max        112.0\n",
              "Name: kitchen_area, dtype: float64"
            ]
          },
          "execution_count": 24,
          "metadata": {},
          "output_type": "execute_result"
        },
        {
          "data": {
            "image/png": "[encoded data removed]",
            "text/plain": [
              "<Figure size 360x216 with 1 Axes>"
            ]
          },
          "metadata": {
            "needs_background": "light"
          },
          "output_type": "display_data"
        }
      ],
      "source": [
        "#изучим площадь кухни\n",
        "data.plot(y = 'kitchen_area', kind = 'hist', bins = 100, grid=True, figsize = (5,3), range = (0,40))\n",
        "plt.title('Гистограмма распределения площади кухни')\n",
        "plt.xlabel('Площадь кухни')\n",
        "plt.ylabel('Частота')\n",
        "data['kitchen_area'].describe()"
      ]
    },
    {
      "cell_type": "markdown",
      "metadata": {
        "id": "PIkXqLY8RxVz"
      },
      "source": [
        "Данные площади кухни распределены нормально, выбросы незначительные. По пикам можно определить, что чаще всего в объявлениях площадь кухни -6 кв.м"
      ]
    },
    {
      "cell_type": "code",
      "execution_count": null,
      "metadata": {
        "scrolled": false,
        "id": "n1BSZCE6RxVz",
        "outputId": "ac154596-6454-4dcd-c422-0415e0afaa8d"
      },
      "outputs": [
        {
          "data": {
            "text/plain": [
              "count        23,699.0\n",
              "mean      6,541,548.8\n",
              "std      10,887,013.3\n",
              "min          12,190.0\n",
              "25%       3,400,000.0\n",
              "50%       4,650,000.0\n",
              "75%       6,800,000.0\n",
              "max     763,000,000.0\n",
              "Name: last_price, dtype: float64"
            ]
          },
          "execution_count": 25,
          "metadata": {},
          "output_type": "execute_result"
        },
        {
          "data": {
            "image/png": "[encoded data removed]",
            "text/plain": [
              "<Figure size 360x216 with 1 Axes>"
            ]
          },
          "metadata": {
            "needs_background": "light"
          },
          "output_type": "display_data"
        }
      ],
      "source": [
        "#изучим данные по ценам\n",
        "data.plot(y = 'last_price', kind = 'hist', bins = 100, grid=True, figsize = (5,3), range = (0,14000000))\n",
        "plt.title('Гистограмма распределения стоимости')\n",
        "plt.xlabel('Стоимость, в руб.')\n",
        "plt.ylabel('Частота')\n",
        "data['last_price'].describe()"
      ]
    },
    {
      "cell_type": "markdown",
      "metadata": {
        "id": "n_6lWicpRxV0"
      },
      "source": [
        "Выявлена аномалия - минимальная цена 12190 руб. выглядит не реальной. И максимальное значение 763 млн. также выглядит неестественным."
      ]
    },
    {
      "cell_type": "code",
      "execution_count": null,
      "metadata": {
        "id": "QtJ0cpEkRxV0",
        "outputId": "74504e18-8f00-477f-8383-f48a7729a8a5"
      },
      "outputs": [
        {
          "data": {
            "text/plain": [
              "1"
            ]
          },
          "metadata": {},
          "output_type": "display_data"
        }
      ],
      "source": [
        "#найдем другие аномалии, проверим какое количество объявлений с ценами ниже 300тыс.\n",
        "display (data[data['last_price'] < 300000]['last_price'].count())"
      ]
    },
    {
      "cell_type": "code",
      "execution_count": null,
      "metadata": {
        "id": "fQZLVMj2RxV0",
        "outputId": "fff6d73e-82b0-43dd-d266-d76c9406472d"
      },
      "outputs": [
        {
          "data": {
            "text/plain": [
              "101"
            ]
          },
          "metadata": {},
          "output_type": "display_data"
        }
      ],
      "source": [
        "#найдем другие аномалии, проверим какое количество объявлений с ценами выше 60 млн.\n",
        "display (data[data['last_price'] > 60000000]['last_price'].count())"
      ]
    },
    {
      "cell_type": "code",
      "execution_count": null,
      "metadata": {
        "id": "3EzcxQNqRxV0",
        "outputId": "d5ae26dd-a60e-476b-9c4f-2dd9cc5dd530"
      },
      "outputs": [
        {
          "data": {
            "text/plain": [
              "Text(0, 0.5, 'Частота')"
            ]
          },
          "execution_count": 28,
          "metadata": {},
          "output_type": "execute_result"
        },
        {
          "data": {
            "image/png": "[encoded data removed]",
            "text/plain": [
              "<Figure size 360x216 with 1 Axes>"
            ]
          },
          "metadata": {
            "needs_background": "light"
          },
          "output_type": "display_data"
        }
      ],
      "source": [
        "#только одно объявление - c минимальной ценой. удалим некорректные данные\n",
        "data['last_price'] = data['last_price'].drop(data[data['last_price'] == 12190].index, axis=0)\n",
        "\n",
        "#101 объявление - c ценами выше 60 млн. удалим некорректные данные\n",
        "data['last_price'] = data['last_price'].drop(data[data['last_price'] > 60000000].index, axis=0)\n",
        "\n",
        "#проверим, удалилось ли аномальное минимальное значение и скорректировались ли основные параметры\n",
        "\n",
        "data.plot(y = 'last_price', kind = 'hist', bins = 100, grid=True, figsize = (5,3), range = (0,60000000))\n",
        "plt.title('Гистограмма распределения стоимости')\n",
        "plt.xlabel('Стоимость, в руб.')\n",
        "plt.ylabel('Частота')"
      ]
    },
    {
      "cell_type": "code",
      "execution_count": null,
      "metadata": {
        "id": "99uo3PwJRxV0",
        "outputId": "293c3228-0aad-4390-ad5f-6d8c585c88a2"
      },
      "outputs": [
        {
          "data": {
            "text/plain": [
              "count       23,597.0\n",
              "mean     6,062,522.5\n",
              "std      5,275,360.9\n",
              "min        430,000.0\n",
              "25%      3,400,000.0\n",
              "50%      4,600,000.0\n",
              "75%      6,700,000.0\n",
              "max     59,914,124.0\n",
              "Name: last_price, dtype: float64"
            ]
          },
          "execution_count": 29,
          "metadata": {},
          "output_type": "execute_result"
        }
      ],
      "source": [
        "data['last_price'].describe()"
      ]
    },
    {
      "cell_type": "markdown",
      "metadata": {
        "id": "Zc6yS3GIRxV0"
      },
      "source": [
        "Аномалии удалены. Данные по стоимости распределены нормально, выбросы незначительные. По распределению видно, что стоимость квартир наиболее часто попадает в интервал от 3,5 до 4 млн. Средняя стоимость 6.05 млн, медиана 4.6 млн."
      ]
    },
    {
      "cell_type": "code",
      "execution_count": null,
      "metadata": {
        "id": "TzIXbW3NRxV0",
        "outputId": "f748f0e9-b69a-459d-e19b-daeeff98a6c2"
      },
      "outputs": [
        {
          "data": {
            "text/plain": [
              "1     8047\n",
              "2     7940\n",
              "3     5814\n",
              "4     1180\n",
              "5      326\n",
              "0      197\n",
              "6      105\n",
              "7       59\n",
              "8       12\n",
              "9        8\n",
              "10       3\n",
              "11       2\n",
              "14       2\n",
              "19       1\n",
              "16       1\n",
              "12       1\n",
              "15       1\n",
              "Name: rooms, dtype: int64"
            ]
          },
          "metadata": {},
          "output_type": "display_data"
        },
        {
          "data": {
            "image/png": "[encoded data removed]",
            "text/plain": [
              "<Figure size 360x216 with 1 Axes>"
            ]
          },
          "metadata": {
            "needs_background": "light"
          },
          "output_type": "display_data"
        }
      ],
      "source": [
        "#изучим количество комнат\n",
        "data.plot(y = 'rooms', kind = 'hist', bins = 20, grid=True, figsize = (5,3))\n",
        "plt.title('Гистограмма распределения кол-ва комнат')\n",
        "plt.xlabel('Общая площадь')\n",
        "plt.ylabel('Частота')\n",
        "display (data['rooms'].value_counts())"
      ]
    },
    {
      "cell_type": "markdown",
      "metadata": {
        "id": "akMYpzF8RxV0"
      },
      "source": [
        "Данные по числу комнат распределены нормально, выбросы незначительные. Чаще всего в квартирах 1 или 2 комнаты. Ноль комнат выглядит аномально. Но удалить мы их не можем, т.к. кол-во данных существенное."
      ]
    },
    {
      "cell_type": "code",
      "execution_count": null,
      "metadata": {
        "id": "xS92fWCGRxV1",
        "outputId": "1dac886c-308c-499c-8827-84effdd6fef1"
      },
      "outputs": [
        {
          "data": {
            "image/png": "[encoded data removed]",
            "text/plain": [
              "<Figure size 432x288 with 1 Axes>"
            ]
          },
          "metadata": {
            "needs_background": "light"
          },
          "output_type": "display_data"
        }
      ],
      "source": [
        "#построим график размаха по числу комнат\n",
        "plt.boxplot(data['rooms'])\n",
        "plt.show()"
      ]
    },
    {
      "cell_type": "markdown",
      "metadata": {
        "id": "IC1kaZBNRxV1"
      },
      "source": [
        "По графику размаха видны выбросы - это данные больше 6 (комнат), но их кол-во незначительно."
      ]
    },
    {
      "cell_type": "code",
      "execution_count": null,
      "metadata": {
        "id": "9zPi78MjRxV1",
        "outputId": "daa8aceb-6926-4c9a-b5ed-f1b3ec639884"
      },
      "outputs": [
        {
          "data": {
            "text/plain": [
              "count   23,609.0\n",
              "mean         2.0\n",
              "std          1.0\n",
              "min          0.0\n",
              "25%          1.0\n",
              "50%          2.0\n",
              "75%          3.0\n",
              "max          6.0\n",
              "Name: rooms, dtype: float64"
            ]
          },
          "execution_count": 32,
          "metadata": {},
          "output_type": "execute_result"
        }
      ],
      "source": [
        "#удалим некорректные данные с кол-вом комнат больше 6\n",
        "data['rooms'] = data['rooms'].drop(data[data['rooms'] > 6].index, axis=0)\n",
        "data['rooms'].describe()"
      ]
    },
    {
      "cell_type": "markdown",
      "metadata": {
        "id": "LNO50CE8RxV1"
      },
      "source": [
        "Среднее кол-во комнат в квартирах 2 и медианное 2. Максимальное - 6."
      ]
    },
    {
      "cell_type": "code",
      "execution_count": null,
      "metadata": {
        "id": "vCJLxkTpRxV1",
        "outputId": "5d5cc104-2b31-4f22-986c-902df431bd4c"
      },
      "outputs": [
        {
          "data": {
            "text/plain": [
              "count   23,699.0\n",
              "mean         2.7\n",
              "std          1.0\n",
              "min          1.0\n",
              "25%          2.6\n",
              "50%          2.6\n",
              "75%          2.7\n",
              "max        100.0\n",
              "Name: ceiling_height, dtype: float64"
            ]
          },
          "execution_count": 33,
          "metadata": {},
          "output_type": "execute_result"
        },
        {
          "data": {
            "image/png": "[encoded data removed]",
            "text/plain": [
              "<Figure size 360x216 with 1 Axes>"
            ]
          },
          "metadata": {
            "needs_background": "light"
          },
          "output_type": "display_data"
        }
      ],
      "source": [
        "#изучаем высоту потолков\n",
        "data.plot(y = 'ceiling_height', kind = 'hist', bins = 30, range = (2,5), grid=True, figsize = (5,3))\n",
        "plt.title('Гистограмма распределения высоты потолков')\n",
        "plt.xlabel('Высота потолков')\n",
        "plt.ylabel('Частота')\n",
        "data['ceiling_height'].describe()"
      ]
    },
    {
      "cell_type": "markdown",
      "metadata": {
        "id": "Y3sN9xibRxV1"
      },
      "source": [
        "Чаще всего высота потолков 2.7 кв.м."
      ]
    },
    {
      "cell_type": "code",
      "execution_count": null,
      "metadata": {
        "id": "tPUaIAybRxV1",
        "outputId": "69025c0c-c48f-4e54-a016-79ac49120968"
      },
      "outputs": [
        {
          "data": {
            "image/png": "[encoded data removed]",
            "text/plain": [
              "<Figure size 432x288 with 1 Axes>"
            ]
          },
          "metadata": {
            "needs_background": "light"
          },
          "output_type": "display_data"
        }
      ],
      "source": [
        "#построим график размаха по высоте потолков\n",
        "plt.boxplot(data['ceiling_height'])\n",
        "plt.show()"
      ]
    },
    {
      "cell_type": "markdown",
      "metadata": {
        "id": "EHOB3FLyRxV2"
      },
      "source": [
        "На гистограмме и графике размаха видны аномалии в данных - значения выше 20 метров. Т.к. средняя высота 2.72м., то можно предположить, что ошибка могла возникнуть из-за ошибки ввода данных. Т.е значения, например 25 м - это на самом деле 2,5м."
      ]
    },
    {
      "cell_type": "markdown",
      "metadata": {
        "id": "Hsewcm0tRxV2"
      },
      "source": [
        "Скорректируем неверно введенные значения выше 20 метров, разделив эти значения на 10"
      ]
    },
    {
      "cell_type": "code",
      "execution_count": null,
      "metadata": {
        "id": "ds75n3NqRxV2"
      },
      "outputs": [],
      "source": [
        "data.loc[data['ceiling_height'] > 20, 'ceiling_height'] = data['ceiling_height']/10"
      ]
    },
    {
      "cell_type": "code",
      "execution_count": null,
      "metadata": {
        "scrolled": true,
        "id": "opxJl6smRxV2",
        "outputId": "65307902-eadf-42bb-862c-f9253ecf8019"
      },
      "outputs": [
        {
          "data": {
            "image/png": "[encoded data removed]",
            "text/plain": [
              "<Figure size 432x288 with 1 Axes>"
            ]
          },
          "metadata": {
            "needs_background": "light"
          },
          "output_type": "display_data"
        }
      ],
      "source": [
        "#проверим по графику размаха выбросы по высоте потолков выше 20 метров\n",
        "plt.boxplot(data['ceiling_height'])\n",
        "plt.show()"
      ]
    },
    {
      "cell_type": "markdown",
      "metadata": {
        "id": "XMYGFwzVRxV2"
      },
      "source": [
        "По графику видно, что выбросов в данных по высоте потолков выше 20 метров больше нет. Большинство аномалий ликвидировали. Узнаем, сколько осталось значений высоты потолка > 3.5 метров. И Менее 2м."
      ]
    },
    {
      "cell_type": "code",
      "execution_count": null,
      "metadata": {
        "id": "YKVNTOC3RxV2",
        "outputId": "112f393d-81df-496a-898f-6453579ffa0d"
      },
      "outputs": [
        {
          "data": {
            "text/plain": [
              "283"
            ]
          },
          "metadata": {},
          "output_type": "display_data"
        },
        {
          "data": {
            "text/plain": [
              "3"
            ]
          },
          "metadata": {},
          "output_type": "display_data"
        }
      ],
      "source": [
        "display (data.loc[data['ceiling_height'] > 3.5, 'ceiling_height'].count())\n",
        "display (data.loc[data['ceiling_height'] < 2, 'ceiling_height'].count())"
      ]
    },
    {
      "cell_type": "markdown",
      "metadata": {
        "id": "He_tXIhsRxV2"
      },
      "source": [
        "удалим аномальные значения"
      ]
    },
    {
      "cell_type": "code",
      "execution_count": null,
      "metadata": {
        "id": "NXPu1U3fRxV2",
        "outputId": "1e5608fe-acb9-4490-b78d-7c125e539ddb"
      },
      "outputs": [
        {
          "data": {
            "text/plain": [
              "count   23,413.0\n",
              "mean         2.7\n",
              "std          0.2\n",
              "min          2.0\n",
              "25%          2.6\n",
              "50%          2.6\n",
              "75%          2.7\n",
              "max          3.5\n",
              "Name: ceiling_height, dtype: float64"
            ]
          },
          "execution_count": 38,
          "metadata": {},
          "output_type": "execute_result"
        }
      ],
      "source": [
        "data['ceiling_height'] = data['ceiling_height'].drop(data[data['ceiling_height'] > 3.5].index, axis=0)\n",
        "data['ceiling_height'] = data['ceiling_height'].drop(data[data['ceiling_height'] < 2].index, axis=0)\n",
        "\n",
        "#проверим корректность данных по высоте потолков\n",
        "data['ceiling_height'].describe()"
      ]
    },
    {
      "cell_type": "markdown",
      "metadata": {
        "id": "vXP_DzY1RxV3"
      },
      "source": [
        "Аномалии удалены. Данные очищены.\n",
        "\n",
        "Средняя высота 2.7м., Медиана - 2.6 м. Максимальная высота - 3.5, минимальная - 2"
      ]
    },
    {
      "cell_type": "code",
      "execution_count": null,
      "metadata": {
        "id": "CzP-i2ScRxV3",
        "outputId": "f695883b-0c08-4cb8-fee8-7b8d0ac2af12"
      },
      "outputs": [
        {
          "data": {
            "text/plain": [
              "Text(0, 0.5, 'Частота')"
            ]
          },
          "execution_count": 39,
          "metadata": {},
          "output_type": "execute_result"
        },
        {
          "data": {
            "image/png": "[encoded data removed]",
            "text/plain": [
              "<Figure size 216x216 with 1 Axes>"
            ]
          },
          "metadata": {
            "needs_background": "light"
          },
          "output_type": "display_data"
        }
      ],
      "source": [
        "#изучим тип этажа квартиры, построим гистограмму распределения категориальных значений(первый, последний, другой)\n",
        "data['floor_category'].hist(figsize=(3,3))\n",
        "plt.title('Гистограмма распределения квартир по типам этажности')\n",
        "plt.xlabel('Этажность квартиры')\n",
        "plt.ylabel('Частота')"
      ]
    },
    {
      "cell_type": "markdown",
      "metadata": {
        "id": "u-s9MAHxRxV3"
      },
      "source": [
        "Больше всего квартир находится ни на первом ни на последнем этажах - т.е. на других.\n",
        "Чаще всего в объявлениях встречаются квартиры на последнем, чем на первом этаже."
      ]
    },
    {
      "cell_type": "code",
      "execution_count": null,
      "metadata": {
        "id": "S29tvFNhRxV3",
        "outputId": "f577db24-c8a7-4ff3-ba11-d19bc2a5411f"
      },
      "outputs": [
        {
          "data": {
            "text/plain": [
              "Text(0, 0.5, 'Частота')"
            ]
          },
          "execution_count": 40,
          "metadata": {},
          "output_type": "execute_result"
        },
        {
          "data": {
            "image/png": "[encoded data removed]",
            "text/plain": [
              "<Figure size 360x216 with 1 Axes>"
            ]
          },
          "metadata": {
            "needs_background": "light"
          },
          "output_type": "display_data"
        }
      ],
      "source": [
        "#изучим количество этажей в доме\n",
        "data.plot(y = 'floors_total', kind = 'hist', bins = 30, grid=True, figsize = (5,3), range = (0,30))\n",
        "plt.title('Гистограмма распределения числа этажей в доме')\n",
        "plt.xlabel('Этажность дома')\n",
        "plt.ylabel('Частота')"
      ]
    },
    {
      "cell_type": "markdown",
      "metadata": {
        "id": "jE7lLICcRxV3"
      },
      "source": [
        "На гистограмме видно 2 пика, по которым можно сделать вывод, что чаще всего квартиры продаются в домах этажностью в 5 и 9 этажей.\n",
        "Аномалий нет."
      ]
    },
    {
      "cell_type": "code",
      "execution_count": null,
      "metadata": {
        "id": "xDlHVrBDRxV3",
        "outputId": "3717b30b-6e49-4251-9d5e-89d470b41e7f"
      },
      "outputs": [
        {
          "data": {
            "text/plain": [
              "count   18,180.0\n",
              "mean        14.2\n",
              "std          8.6\n",
              "min          0.2\n",
              "25%          9.2\n",
              "50%         13.1\n",
              "75%         16.3\n",
              "max         66.0\n",
              "Name: cityCenter_nearest_per_km, dtype: float64"
            ]
          },
          "execution_count": 41,
          "metadata": {},
          "output_type": "execute_result"
        },
        {
          "data": {
            "image/png": "[encoded data removed]",
            "text/plain": [
              "<Figure size 360x216 with 1 Axes>"
            ]
          },
          "metadata": {
            "needs_background": "light"
          },
          "output_type": "display_data"
        }
      ],
      "source": [
        "#изучим растояние до центра города в км\n",
        "data.plot(y = 'cityCenter_nearest_per_km', kind = 'hist', bins = 100, grid=True, figsize = (5,3), range = (0,70))\n",
        "plt.title('Гистограмма распределения удаленности от центра города')\n",
        "plt.xlabel('Удаленность от центра города, км')\n",
        "plt.ylabel('Частота')\n",
        "data['cityCenter_nearest_per_km'].describe()"
      ]
    },
    {
      "cell_type": "markdown",
      "metadata": {
        "id": "R_Agq_zpRxV4"
      },
      "source": [
        "Чаще всего квартиры расположены в 13 км (медиана) от Центра города. Среднее - 14.2 км. Минимальное растояние 200м, максимальное 66 км."
      ]
    },
    {
      "cell_type": "code",
      "execution_count": null,
      "metadata": {
        "id": "Aya6knFYRxV4",
        "outputId": "d15d1d11-a46d-46ca-c173-5c4f4526a3d8"
      },
      "outputs": [
        {
          "data": {
            "text/plain": [
              "count   8,079.0\n",
              "mean      490.8\n",
              "std       342.3\n",
              "min         1.0\n",
              "25%       288.0\n",
              "50%       455.0\n",
              "75%       612.0\n",
              "max     3,190.0\n",
              "Name: parks_nearest, dtype: float64"
            ]
          },
          "execution_count": 42,
          "metadata": {},
          "output_type": "execute_result"
        },
        {
          "data": {
            "image/png": "[encoded data removed]",
            "text/plain": [
              "<Figure size 360x216 with 1 Axes>"
            ]
          },
          "metadata": {
            "needs_background": "light"
          },
          "output_type": "display_data"
        }
      ],
      "source": [
        "#изучим расстояние до ближайшего парка\n",
        "data.plot(y = 'parks_nearest', kind = 'hist', bins = 100, grid=True, figsize = (5,3), range = (0,3200))\n",
        "plt.title('Гистограмма распределения удаленности от парков')\n",
        "plt.xlabel('Удаленность от парков')\n",
        "plt.ylabel('Частота')\n",
        "data['parks_nearest'].describe()"
      ]
    },
    {
      "cell_type": "markdown",
      "metadata": {
        "id": "FazoAYi0RxV4"
      },
      "source": [
        "Если парк близко, то квартиры расположены примерно в 0,5 км от квартиры."
      ]
    },
    {
      "cell_type": "code",
      "execution_count": null,
      "metadata": {
        "id": "oBMl66OaRxV4",
        "outputId": "017c91e7-4b96-4311-c13b-6aff645781e0"
      },
      "outputs": [
        {
          "data": {
            "text/plain": [
              "count   20,518.0\n",
              "mean       180.9\n",
              "std        219.7\n",
              "min          1.0\n",
              "25%         45.0\n",
              "50%         95.0\n",
              "75%        232.0\n",
              "max      1,580.0\n",
              "Name: days_exposition, dtype: float64"
            ]
          },
          "execution_count": 43,
          "metadata": {},
          "output_type": "execute_result"
        },
        {
          "data": {
            "image/png": "[encoded data removed]",
            "text/plain": [
              "<Figure size 360x216 with 1 Axes>"
            ]
          },
          "metadata": {
            "needs_background": "light"
          },
          "output_type": "display_data"
        }
      ],
      "source": [
        "#изучим, как быстро продавались квартиры\n",
        "#построим гистограмму распределения количества дней размещения и посмотрим общие данные по столбцу\n",
        "data.plot(y = 'days_exposition', kind = 'hist', bins = 100, grid=True, figsize = (5,3), range = (0,1000))\n",
        "plt.title('Гистограмма распределения кол-ва дней размещения')\n",
        "plt.xlabel('Кол-во дней размещения')\n",
        "plt.ylabel('Частота')\n",
        "data['days_exposition'].describe()"
      ]
    },
    {
      "cell_type": "markdown",
      "metadata": {
        "id": "7T091HxmRxV4"
      },
      "source": [
        "По гистограмме видно, что чаще всего квартиры продавались в первые 10 дней после размещения. Среднее время продажи 156, Медиана - 74. В данных есть аномалии - 0 дней до продажи и заметны пики на графиках. Анамалии скорректируем на следующем этапе анализа."
      ]
    },
    {
      "cell_type": "markdown",
      "metadata": {
        "id": "gohm3m0MRxV4"
      },
      "source": [
        "Общие вводы по исследуемым параметрам:\n",
        "Общая площадь:чаще всего общая площадь квартир попадает в диапазон от 35 до 50 кв.м. Среднее - 60, медиана -52 кв.м\n",
        "Жилая площадь:чаще всего квартиры попадаются с жилой площадью в диапазонах 15-21 кв.м и 28-35 кв.м.\n",
        "Площадь кухни: чаще всего в объявлениях площадь кухни 6 кв.м\n",
        "Цена объекта: средняя стоимость квартир 6.5 млн, медиана 4.6 млн.\n",
        "Количество комнат:чаще всего в квартирах 1 или 2 комнаты.\n",
        "Высота потолков: чаще всего высота потолков 2.7 кв.м.\n",
        "Тип этажа квартиры (первый, последний, другой): больше всего квартир находится ни на первом ни на последнем этажах - т.е. на других.Чаще всего в объявлениях встречаются квартиры на последнем, чем на первом этаже.\n",
        "Общее количество этажей в доме: Чаще всего квартиры продаются в домах этажностью в 5 и 9 этажей.\n",
        "Расстояние до центра города в км: Очень много квартир расположены в 13 км. от центра города. Если центр близко, то он примерно в 1,5 км от квартиры.\n",
        "Расстояние до ближайшего парка: чаще всего квартиры расположены от парков на расстоянии более 500м.\n",
        "\n",
        "Аномалии: высота потолков выше 3 метров и ниже 2-х, количество комнат = 0 и стоимость квартиры ниже 12190руб. и выше 60 млн.\n",
        "Указанные аномалии скорректированы, кроме кол-ва комнат =0."
      ]
    },
    {
      "cell_type": "markdown",
      "metadata": {
        "id": "cMBPKOFKRxV4"
      },
      "source": [
        "2. Изучим подробнее время продажи квартиры.\n",
        "Посчитаем среднее и медиану. Узнаем, сколько обычно занимает продажа. Когда можно считать, что продажи прошли очень быстро, а когда необычно долго"
      ]
    },
    {
      "cell_type": "code",
      "execution_count": null,
      "metadata": {
        "id": "OhcCsolqRxV5",
        "outputId": "4ce87175-c0ce-4d62-ec98-155efd08b75b"
      },
      "outputs": [
        {
          "data": {
            "text/plain": [
              "Text(0, 0.5, 'Частота')"
            ]
          },
          "execution_count": 44,
          "metadata": {},
          "output_type": "execute_result"
        },
        {
          "data": {
            "image/png": "[encoded data removed]",
            "text/plain": [
              "<Figure size 432x288 with 1 Axes>"
            ]
          },
          "metadata": {
            "needs_background": "light"
          },
          "output_type": "display_data"
        }
      ],
      "source": [
        "#построим гистограмму\n",
        "data.plot(y = 'days_exposition', kind = 'hist', bins = 100, grid = True, range = (1,500))\n",
        "plt.title('Гистограмма распределения кол-ва дней размещения')\n",
        "plt.xlabel('Кол-во дней размещения')\n",
        "plt.ylabel('Частота')"
      ]
    },
    {
      "cell_type": "markdown",
      "metadata": {
        "id": "hckhtz63RxV5"
      },
      "source": [
        "По гистограмме заметны несколько аномальных значений."
      ]
    },
    {
      "cell_type": "code",
      "execution_count": null,
      "metadata": {
        "id": "uHfN16qIRxV5",
        "outputId": "2d9637aa-248e-4928-fab5-9f681fd5697c"
      },
      "outputs": [
        {
          "data": {
            "text/plain": [
              "count   20,518.0\n",
              "mean       180.9\n",
              "std        219.7\n",
              "min          1.0\n",
              "25%         45.0\n",
              "50%         95.0\n",
              "75%        232.0\n",
              "max      1,580.0\n",
              "Name: days_exposition, dtype: float64"
            ]
          },
          "execution_count": 45,
          "metadata": {},
          "output_type": "execute_result"
        }
      ],
      "source": [
        "#исключаем нулевые значения из анализа, чтобы они не мешали\n",
        "#получим общие сведения: среднее значение, медиана и межквартильный размах\n",
        "data[data['days_exposition']!=0]['days_exposition'].describe()"
      ]
    },
    {
      "cell_type": "markdown",
      "metadata": {
        "id": "3Grn7jY3RxV5"
      },
      "source": [
        "Минимальное кол-во дней размещения - 1. Среднее значение - 180 дней, медиана - 95 дней.\n",
        "Межквартильный размах - диапазон значений между 45 и 232 днями размещения - продажа квартиры за указанный период считается оптимальным показателем. От 1 до 45 дней - быстрая продажа. От 232 и примерно до 500 дней - считается нормальным периодом продажи, а срок более 500 дней - долгим."
      ]
    },
    {
      "cell_type": "code",
      "execution_count": null,
      "metadata": {
        "id": "4VTxFvwNRxV5",
        "outputId": "910dd4c3-a19b-432e-b271-d7e78268d3d8"
      },
      "outputs": [
        {
          "data": {
            "text/plain": [
              "45.0       880\n",
              "60.0       538\n",
              "7.0        234\n",
              "30.0       208\n",
              "90.0       204\n",
              "          ... \n",
              "969.0        1\n",
              "1.0          1\n",
              "1,147.0      1\n",
              "1,148.0      1\n",
              "1,174.0      1\n",
              "Name: days_exposition, Length: 1141, dtype: int64"
            ]
          },
          "execution_count": 46,
          "metadata": {},
          "output_type": "execute_result"
        }
      ],
      "source": [
        "#получим данные по кол-ву уникальных значений дней размещения в порядке убывания\n",
        "data[data['days_exposition']!=0]['days_exposition'].value_counts()"
      ]
    },
    {
      "cell_type": "markdown",
      "metadata": {
        "id": "QJKrigy6RxV5"
      },
      "source": [
        "Чаще всего обьявления снимались на 45, 60, 7, 30 и 90 день. Порядок цифр очень похож на недели и месяцы. Возможно, что объявления автоматически снимались по заданнып при публикации настройкам. То есть через неделю, 1, 1.5, 2 или 3 месяца размещения. Эти данные могут исказить результаты анализа, поэтому лучше от них избавится."
      ]
    },
    {
      "cell_type": "code",
      "execution_count": null,
      "metadata": {
        "id": "-Kn4rByMRxV6"
      },
      "outputs": [],
      "source": [
        "#очистим данные от аномалий и запишем их в датасет clear_data\n",
        "clear_data = data.query('days_exposition != 0 and days_exposition != 7 and days_exposition != 45 and days_exposition != 30 and days_exposition != 60 and days_exposition != 90')"
      ]
    },
    {
      "cell_type": "code",
      "execution_count": null,
      "metadata": {
        "id": "onVWs4CqRxV6",
        "outputId": "851793c8-0797-4ba2-a914-ff9e4ed63cf0"
      },
      "outputs": [
        {
          "data": {
            "text/plain": [
              "<AxesSubplot:ylabel='Frequency'>"
            ]
          },
          "execution_count": 48,
          "metadata": {},
          "output_type": "execute_result"
        },
        {
          "data": {
            "image/png": "[encoded data removed]",
            "text/plain": [
              "<Figure size 432x288 with 1 Axes>"
            ]
          },
          "metadata": {
            "needs_background": "light"
          },
          "output_type": "display_data"
        },
        {
          "data": {
            "image/png": "[encoded data removed]",
            "text/plain": [
              "<Figure size 432x288 with 1 Axes>"
            ]
          },
          "metadata": {
            "needs_background": "light"
          },
          "output_type": "display_data"
        }
      ],
      "source": [
        "#построим гистограммы по очищенным значениям с разной степенью детализации\n",
        "clear_data.plot(y = 'days_exposition', kind = 'hist', bins = 40, grid = True, range = (1,1600))\n",
        "clear_data.plot(y = 'days_exposition', kind = 'hist', bins = 200, grid = True, range = (1,200))"
      ]
    },
    {
      "cell_type": "code",
      "execution_count": null,
      "metadata": {
        "id": "5xlLteYwRxV6",
        "outputId": "ff901a56-e4c2-455a-9447-2f82c57f4868"
      },
      "outputs": [
        {
          "data": {
            "text/plain": [
              "count   19,538.0\n",
              "mean       187.9\n",
              "std        222.8\n",
              "min          1.0\n",
              "25%         45.0\n",
              "50%        104.0\n",
              "75%        244.0\n",
              "max      1,580.0\n",
              "Name: days_exposition, dtype: float64"
            ]
          },
          "execution_count": 49,
          "metadata": {},
          "output_type": "execute_result"
        }
      ],
      "source": [
        "#среднее значение, медиана и межквартильный размах\n",
        "clear_data['days_exposition'].describe()"
      ]
    },
    {
      "cell_type": "code",
      "execution_count": null,
      "metadata": {
        "id": "9dgZcYbrRxV6",
        "outputId": "4f7e3d84-99b9-4e8e-d6e4-bc4a009b7e26"
      },
      "outputs": [
        {
          "data": {
            "text/plain": [
              "45.0       880\n",
              "90.0       204\n",
              "4.0        176\n",
              "3.0        158\n",
              "5.0        152\n",
              "          ... \n",
              "1,452.0      1\n",
              "1,280.0      1\n",
              "844.0        1\n",
              "1,344.0      1\n",
              "1,174.0      1\n",
              "Name: days_exposition, Length: 1138, dtype: int64"
            ]
          },
          "execution_count": 50,
          "metadata": {},
          "output_type": "execute_result"
        }
      ],
      "source": [
        "#получим данные по кол-ву уникальных значений дней размещения в порядке убывания\n",
        "clear_data['days_exposition'].value_counts()"
      ]
    },
    {
      "cell_type": "markdown",
      "metadata": {
        "id": "cAtomSIsRxV6"
      },
      "source": [
        "Вывод: после очистки данных от аномальных значений, скорректировались следующие параметры:\n",
        "Среднее кол-во дней размещения увеличилось - 195 дней, медиана увеличилась - 114 дней. Межквартильный размах немного расширился - диапазон значений между 44 и 259.\n",
        "От 1 до 44 дней - быстрая продажа. От 259 и примерно до 600 дней - нормальный период продажи, а срок более 600 дней - долгий."
      ]
    },
    {
      "cell_type": "markdown",
      "metadata": {
        "id": "ReDjmmZwRxV6"
      },
      "source": [
        "3. Факторы, которые больше всего влияют на общую (полную) стоимость объекта."
      ]
    },
    {
      "cell_type": "markdown",
      "metadata": {
        "id": "IP85l4k5RxV7"
      },
      "source": [
        "Зависит ли цена от общей площади?"
      ]
    },
    {
      "cell_type": "code",
      "execution_count": null,
      "metadata": {
        "id": "D-LDIbKGRxV7",
        "outputId": "6b7542a8-0a00-448e-9a86-5cff99f5d289"
      },
      "outputs": [
        {
          "data": {
            "text/html": [
              "<div>\n",
              "<style scoped>\n",
              "    .dataframe tbody tr th:only-of-type {\n",
              "        vertical-align: middle;\n",
              "    }\n",
              "\n",
              "    .dataframe tbody tr th {\n",
              "        vertical-align: top;\n",
              "    }\n",
              "\n",
              "    .dataframe thead th {\n",
              "        text-align: right;\n",
              "    }\n",
              "</style>\n",
              "<table border=\"1\" class=\"dataframe\">\n",
              "  <thead>\n",
              "    <tr style=\"text-align: right;\">\n",
              "      <th></th>\n",
              "      <th>mean</th>\n",
              "      <th>count</th>\n",
              "      <th>median</th>\n",
              "    </tr>\n",
              "    <tr>\n",
              "      <th>total_area</th>\n",
              "      <th></th>\n",
              "      <th></th>\n",
              "      <th></th>\n",
              "    </tr>\n",
              "  </thead>\n",
              "  <tbody>\n",
              "    <tr>\n",
              "      <th>15.0</th>\n",
              "      <td>1,725,000.0</td>\n",
              "      <td>2</td>\n",
              "      <td>1,725,000.0</td>\n",
              "    </tr>\n",
              "    <tr>\n",
              "      <th>15.5</th>\n",
              "      <td>2,450,000.0</td>\n",
              "      <td>1</td>\n",
              "      <td>2,450,000.0</td>\n",
              "    </tr>\n",
              "    <tr>\n",
              "      <th>16.0</th>\n",
              "      <td>2,100,000.0</td>\n",
              "      <td>1</td>\n",
              "      <td>2,100,000.0</td>\n",
              "    </tr>\n",
              "    <tr>\n",
              "      <th>17.0</th>\n",
              "      <td>1,700,000.0</td>\n",
              "      <td>2</td>\n",
              "      <td>1,700,000.0</td>\n",
              "    </tr>\n",
              "    <tr>\n",
              "      <th>17.2</th>\n",
              "      <td>2,050,000.0</td>\n",
              "      <td>1</td>\n",
              "      <td>2,050,000.0</td>\n",
              "    </tr>\n",
              "  </tbody>\n",
              "</table>\n",
              "</div>"
            ],
            "text/plain": [
              "                  mean  count      median\n",
              "total_area                               \n",
              "15.0       1,725,000.0      2 1,725,000.0\n",
              "15.5       2,450,000.0      1 2,450,000.0\n",
              "16.0       2,100,000.0      1 2,100,000.0\n",
              "17.0       1,700,000.0      2 1,700,000.0\n",
              "17.2       2,050,000.0      1 2,050,000.0"
            ]
          },
          "metadata": {},
          "output_type": "display_data"
        }
      ],
      "source": [
        "#создадим сводную таблицу для группировки стоимости по столбцу total_area\n",
        "pivot_table_total_area = data.pivot_table(index = 'total_area', values = 'last_price',\n",
        "                                          aggfunc = ['mean', 'count', 'median'])\n",
        "#зададим названия столбцов у новой таблицы\n",
        "pivot_table_total_area.columns = ['mean', 'count', 'median']\n",
        "display (pivot_table_total_area.head())"
      ]
    },
    {
      "cell_type": "code",
      "execution_count": null,
      "metadata": {
        "id": "gKPZqaLiRxV7",
        "outputId": "88cac734-2b67-4794-9486-be0e3639457d"
      },
      "outputs": [
        {
          "data": {
            "text/plain": [
              "<AxesSubplot:xlabel='total_area'>"
            ]
          },
          "execution_count": 52,
          "metadata": {},
          "output_type": "execute_result"
        },
        {
          "data": {
            "image/png": "[encoded data removed]",
            "text/plain": [
              "<Figure size 432x288 with 1 Axes>"
            ]
          },
          "metadata": {
            "needs_background": "light"
          },
          "output_type": "display_data"
        }
      ],
      "source": [
        "#строим диаграмму рассеяния для визуализации взаимосвязи между двумя числовыми признаками с помощью точек,\n",
        "#показывающих движение этих переменных вместе\n",
        "pivot_table_total_area.plot(y = 'median', style = 'o')\n",
        "\n",
        "#посчитаем корреляцию Пирсона для total_area и last_price\n",
        "data['total_area'].corr(data['last_price'])"
      ]
    },
    {
      "cell_type": "code",
      "execution_count": null,
      "metadata": {
        "id": "Lt-8PmeqRxV7",
        "outputId": "e41a513e-4507-482a-9c13-be5d698f6481"
      },
      "outputs": [
        {
          "data": {
            "text/plain": [
              "0.7247358230131606"
            ]
          },
          "execution_count": 53,
          "metadata": {},
          "output_type": "execute_result"
        }
      ],
      "source": [
        "#посчитаем корреляцию Пирсона для total_area и last_price\n",
        "data['total_area'].corr(data['last_price'])"
      ]
    },
    {
      "cell_type": "markdown",
      "metadata": {
        "id": "3Hplk6c8RxV7"
      },
      "source": [
        "Вывод: зависимость цены от общей площади заметная, т.к. значение корреляции - 0.72\n",
        "Т. е. чем больше общая площадь, тем выше стоимость."
      ]
    },
    {
      "cell_type": "markdown",
      "metadata": {
        "id": "BxRA0ty1RxV7"
      },
      "source": [
        "Зависит ли цена от жилой площади?"
      ]
    },
    {
      "cell_type": "code",
      "execution_count": null,
      "metadata": {
        "id": "N6dIA7J5RxV7",
        "outputId": "b3f46075-b4f6-40f5-8ed9-4fd2582f615c"
      },
      "outputs": [
        {
          "data": {
            "text/html": [
              "<div>\n",
              "<style scoped>\n",
              "    .dataframe tbody tr th:only-of-type {\n",
              "        vertical-align: middle;\n",
              "    }\n",
              "\n",
              "    .dataframe tbody tr th {\n",
              "        vertical-align: top;\n",
              "    }\n",
              "\n",
              "    .dataframe thead th {\n",
              "        text-align: right;\n",
              "    }\n",
              "</style>\n",
              "<table border=\"1\" class=\"dataframe\">\n",
              "  <thead>\n",
              "    <tr style=\"text-align: right;\">\n",
              "      <th></th>\n",
              "      <th>mean</th>\n",
              "      <th>count</th>\n",
              "      <th>median</th>\n",
              "    </tr>\n",
              "    <tr>\n",
              "      <th>living_area</th>\n",
              "      <th></th>\n",
              "      <th></th>\n",
              "      <th></th>\n",
              "    </tr>\n",
              "  </thead>\n",
              "  <tbody>\n",
              "    <tr>\n",
              "      <th>2.0</th>\n",
              "      <td>4,340,000.0</td>\n",
              "      <td>2</td>\n",
              "      <td>4,340,000.0</td>\n",
              "    </tr>\n",
              "    <tr>\n",
              "      <th>3.0</th>\n",
              "      <td>4,440,000.0</td>\n",
              "      <td>1</td>\n",
              "      <td>4,440,000.0</td>\n",
              "    </tr>\n",
              "    <tr>\n",
              "      <th>5.0</th>\n",
              "      <td>2,680,000.0</td>\n",
              "      <td>1</td>\n",
              "      <td>2,680,000.0</td>\n",
              "    </tr>\n",
              "    <tr>\n",
              "      <th>5.4</th>\n",
              "      <td>6,100,000.0</td>\n",
              "      <td>1</td>\n",
              "      <td>6,100,000.0</td>\n",
              "    </tr>\n",
              "    <tr>\n",
              "      <th>6.0</th>\n",
              "      <td>3,799,000.0</td>\n",
              "      <td>1</td>\n",
              "      <td>3,799,000.0</td>\n",
              "    </tr>\n",
              "  </tbody>\n",
              "</table>\n",
              "</div>"
            ],
            "text/plain": [
              "                   mean  count      median\n",
              "living_area                               \n",
              "2.0         4,340,000.0      2 4,340,000.0\n",
              "3.0         4,440,000.0      1 4,440,000.0\n",
              "5.0         2,680,000.0      1 2,680,000.0\n",
              "5.4         6,100,000.0      1 6,100,000.0\n",
              "6.0         3,799,000.0      1 3,799,000.0"
            ]
          },
          "metadata": {},
          "output_type": "display_data"
        }
      ],
      "source": [
        "#используем сводные таблицы для группировки по столбцу living_area\n",
        "pivot_table_living_area = data.pivot_table(index = 'living_area', values = 'last_price',\n",
        "                                          aggfunc = ['mean', 'count', 'median'])\n",
        "#зададим названия столбцов\n",
        "pivot_table_living_area.columns = ['mean', 'count', 'median']\n",
        "display (pivot_table_living_area.head())"
      ]
    },
    {
      "cell_type": "code",
      "execution_count": null,
      "metadata": {
        "id": "-5VbZ_i_RxV8",
        "outputId": "905d30da-5382-4174-c750-0d10d8207127"
      },
      "outputs": [
        {
          "data": {
            "text/plain": [
              "<AxesSubplot:xlabel='living_area'>"
            ]
          },
          "execution_count": 55,
          "metadata": {},
          "output_type": "execute_result"
        },
        {
          "data": {
            "image/png": "[encoded data removed]",
            "text/plain": [
              "<Figure size 432x288 with 1 Axes>"
            ]
          },
          "metadata": {
            "needs_background": "light"
          },
          "output_type": "display_data"
        }
      ],
      "source": [
        "#строим диаграмму рассеяния для визуализации взаимосвязи между двумя числовыми признаками с помощью точек,\n",
        "#показывающих движение этих переменных вместе\n",
        "pivot_table_living_area.plot(y = 'median', style = 'o')"
      ]
    },
    {
      "cell_type": "code",
      "execution_count": null,
      "metadata": {
        "id": "-YYzTxg4RxV8",
        "outputId": "56e2ba05-4316-4345-f89f-4a3f6d46a755"
      },
      "outputs": [
        {
          "data": {
            "text/plain": [
              "0.6862258267461356"
            ]
          },
          "execution_count": 56,
          "metadata": {},
          "output_type": "execute_result"
        }
      ],
      "source": [
        "#посчитаем корреляцию Пирсона для living_area и last_price\n",
        "data['living_area'].corr(data['last_price'])"
      ]
    },
    {
      "cell_type": "markdown",
      "metadata": {
        "id": "tkD7O7l8RxV8"
      },
      "source": [
        "Вывод: зависимость стоимости от жилой площади заметная, т.к. коэффициент корреляции - 0.68.\n",
        "Т. е., чем больше жилая площадь, тем выше стоимость"
      ]
    },
    {
      "cell_type": "markdown",
      "metadata": {
        "id": "dHgrDJcnRxV8"
      },
      "source": [
        "Зависит ли цена от площади кухни?"
      ]
    },
    {
      "cell_type": "code",
      "execution_count": null,
      "metadata": {
        "id": "V6LKAhqbRxV8",
        "outputId": "96546d5b-6e36-44ca-f727-0febe5abb0ab"
      },
      "outputs": [
        {
          "data": {
            "text/html": [
              "<div>\n",
              "<style scoped>\n",
              "    .dataframe tbody tr th:only-of-type {\n",
              "        vertical-align: middle;\n",
              "    }\n",
              "\n",
              "    .dataframe tbody tr th {\n",
              "        vertical-align: top;\n",
              "    }\n",
              "\n",
              "    .dataframe thead th {\n",
              "        text-align: right;\n",
              "    }\n",
              "</style>\n",
              "<table border=\"1\" class=\"dataframe\">\n",
              "  <thead>\n",
              "    <tr style=\"text-align: right;\">\n",
              "      <th></th>\n",
              "      <th>mean</th>\n",
              "      <th>count</th>\n",
              "      <th>median</th>\n",
              "    </tr>\n",
              "    <tr>\n",
              "      <th>kitchen_area</th>\n",
              "      <th></th>\n",
              "      <th></th>\n",
              "      <th></th>\n",
              "    </tr>\n",
              "  </thead>\n",
              "  <tbody>\n",
              "    <tr>\n",
              "      <th>1.3</th>\n",
              "      <td>4,250,000.0</td>\n",
              "      <td>1</td>\n",
              "      <td>4,250,000.0</td>\n",
              "    </tr>\n",
              "    <tr>\n",
              "      <th>2.0</th>\n",
              "      <td>2,821,428.6</td>\n",
              "      <td>7</td>\n",
              "      <td>2,720,000.0</td>\n",
              "    </tr>\n",
              "    <tr>\n",
              "      <th>2.3</th>\n",
              "      <td>2,940,000.0</td>\n",
              "      <td>1</td>\n",
              "      <td>2,940,000.0</td>\n",
              "    </tr>\n",
              "    <tr>\n",
              "      <th>2.4</th>\n",
              "      <td>2,200,000.0</td>\n",
              "      <td>1</td>\n",
              "      <td>2,200,000.0</td>\n",
              "    </tr>\n",
              "    <tr>\n",
              "      <th>2.9</th>\n",
              "      <td>5,967,734.0</td>\n",
              "      <td>1</td>\n",
              "      <td>5,967,734.0</td>\n",
              "    </tr>\n",
              "  </tbody>\n",
              "</table>\n",
              "</div>"
            ],
            "text/plain": [
              "                    mean  count      median\n",
              "kitchen_area                               \n",
              "1.3          4,250,000.0      1 4,250,000.0\n",
              "2.0          2,821,428.6      7 2,720,000.0\n",
              "2.3          2,940,000.0      1 2,940,000.0\n",
              "2.4          2,200,000.0      1 2,200,000.0\n",
              "2.9          5,967,734.0      1 5,967,734.0"
            ]
          },
          "metadata": {},
          "output_type": "display_data"
        }
      ],
      "source": [
        "pivot_table_kitchen_area = data.pivot_table(index = 'kitchen_area', values = 'last_price',\n",
        "                                          aggfunc = ['mean', 'count', 'median'])\n",
        "pivot_table_kitchen_area.columns = ['mean', 'count', 'median']\n",
        "display (pivot_table_kitchen_area.head())"
      ]
    },
    {
      "cell_type": "code",
      "execution_count": null,
      "metadata": {
        "id": "gl9n2s5URxV8",
        "outputId": "c88d5d81-0f4b-462b-8a2e-6bcfdc1020bb"
      },
      "outputs": [
        {
          "data": {
            "text/plain": [
              "<AxesSubplot:xlabel='kitchen_area'>"
            ]
          },
          "execution_count": 58,
          "metadata": {},
          "output_type": "execute_result"
        },
        {
          "data": {
            "image/png": "[encoded data removed]",
            "text/plain": [
              "<Figure size 432x288 with 1 Axes>"
            ]
          },
          "metadata": {
            "needs_background": "light"
          },
          "output_type": "display_data"
        }
      ],
      "source": [
        "pivot_table_kitchen_area.plot(y = 'median', style = 'o')"
      ]
    },
    {
      "cell_type": "code",
      "execution_count": null,
      "metadata": {
        "id": "XB_p1GPjRxV8",
        "outputId": "ffdfcd11-65d6-43ac-fd4e-15a001714756"
      },
      "outputs": [
        {
          "data": {
            "text/plain": [
              "0.59911601403291"
            ]
          },
          "execution_count": 59,
          "metadata": {},
          "output_type": "execute_result"
        }
      ],
      "source": [
        "data['kitchen_area'].corr(data['last_price'])"
      ]
    },
    {
      "cell_type": "markdown",
      "metadata": {
        "id": "_pA2aadORxV9"
      },
      "source": [
        "Вывод: зависимость стоимости от площади кухни заметная, т.к. коэффициент корреляции - 0.6.\n",
        "Т. е., чем больше жилая площадь, тем выше стоимость"
      ]
    },
    {
      "cell_type": "markdown",
      "metadata": {
        "id": "Eo_nRfEmRxV9"
      },
      "source": [
        "Зависит ли цена от количества комнат?"
      ]
    },
    {
      "cell_type": "code",
      "execution_count": null,
      "metadata": {
        "id": "CFzObVHNRxV9",
        "outputId": "72c5bd17-f87e-421b-b0c1-efc7a0aacd25"
      },
      "outputs": [
        {
          "data": {
            "text/html": [
              "<div>\n",
              "<style scoped>\n",
              "    .dataframe tbody tr th:only-of-type {\n",
              "        vertical-align: middle;\n",
              "    }\n",
              "\n",
              "    .dataframe tbody tr th {\n",
              "        vertical-align: top;\n",
              "    }\n",
              "\n",
              "    .dataframe thead th {\n",
              "        text-align: right;\n",
              "    }\n",
              "</style>\n",
              "<table border=\"1\" class=\"dataframe\">\n",
              "  <thead>\n",
              "    <tr style=\"text-align: right;\">\n",
              "      <th></th>\n",
              "      <th>mean</th>\n",
              "      <th>count</th>\n",
              "      <th>median</th>\n",
              "    </tr>\n",
              "    <tr>\n",
              "      <th>total_area</th>\n",
              "      <th></th>\n",
              "      <th></th>\n",
              "      <th></th>\n",
              "    </tr>\n",
              "  </thead>\n",
              "  <tbody>\n",
              "    <tr>\n",
              "      <th>15.0</th>\n",
              "      <td>1,725,000.0</td>\n",
              "      <td>2</td>\n",
              "      <td>1,725,000.0</td>\n",
              "    </tr>\n",
              "    <tr>\n",
              "      <th>15.5</th>\n",
              "      <td>2,450,000.0</td>\n",
              "      <td>1</td>\n",
              "      <td>2,450,000.0</td>\n",
              "    </tr>\n",
              "    <tr>\n",
              "      <th>16.0</th>\n",
              "      <td>2,100,000.0</td>\n",
              "      <td>1</td>\n",
              "      <td>2,100,000.0</td>\n",
              "    </tr>\n",
              "    <tr>\n",
              "      <th>17.0</th>\n",
              "      <td>1,700,000.0</td>\n",
              "      <td>2</td>\n",
              "      <td>1,700,000.0</td>\n",
              "    </tr>\n",
              "    <tr>\n",
              "      <th>17.2</th>\n",
              "      <td>2,050,000.0</td>\n",
              "      <td>1</td>\n",
              "      <td>2,050,000.0</td>\n",
              "    </tr>\n",
              "  </tbody>\n",
              "</table>\n",
              "</div>"
            ],
            "text/plain": [
              "                  mean  count      median\n",
              "total_area                               \n",
              "15.0       1,725,000.0      2 1,725,000.0\n",
              "15.5       2,450,000.0      1 2,450,000.0\n",
              "16.0       2,100,000.0      1 2,100,000.0\n",
              "17.0       1,700,000.0      2 1,700,000.0\n",
              "17.2       2,050,000.0      1 2,050,000.0"
            ]
          },
          "metadata": {},
          "output_type": "display_data"
        }
      ],
      "source": [
        "pivot_table_rooms = data.pivot_table(index = 'rooms', values = 'last_price',\n",
        "                                     aggfunc = ['mean', 'count', 'median'])\n",
        "pivot_table_rooms.columns = ['mean', 'count', 'median']\n",
        "display (pivot_table_total_area.head())"
      ]
    },
    {
      "cell_type": "code",
      "execution_count": null,
      "metadata": {
        "id": "bTh_3B03RxV9",
        "outputId": "0dd2e7c2-1dd8-4db6-8f02-d44a4a09d449"
      },
      "outputs": [
        {
          "data": {
            "text/plain": [
              "<AxesSubplot:xlabel='rooms'>"
            ]
          },
          "execution_count": 61,
          "metadata": {},
          "output_type": "execute_result"
        },
        {
          "data": {
            "image/png": "[encoded data removed]",
            "text/plain": [
              "<Figure size 432x288 with 1 Axes>"
            ]
          },
          "metadata": {
            "needs_background": "light"
          },
          "output_type": "display_data"
        }
      ],
      "source": [
        "pivot_table_rooms.plot(y = 'median', style = 'o')"
      ]
    },
    {
      "cell_type": "code",
      "execution_count": null,
      "metadata": {
        "id": "46jZVNH_RxV9",
        "outputId": "9cfa9e13-ca9d-42a7-ddd9-0f90b5b62177"
      },
      "outputs": [
        {
          "data": {
            "text/plain": [
              "0.4776944339015887"
            ]
          },
          "execution_count": 62,
          "metadata": {},
          "output_type": "execute_result"
        }
      ],
      "source": [
        "data['rooms'].corr(data['last_price'])"
      ]
    },
    {
      "cell_type": "markdown",
      "metadata": {
        "id": "Pa_8ymbzRxV9"
      },
      "source": [
        "Вывод: зависимость стоимости от количества комнат умеренная, т.к. коэффициент корреляции - 0.47. Т. е., чем больше число комнат, тем немного выше стоимость."
      ]
    },
    {
      "cell_type": "markdown",
      "metadata": {
        "id": "NaMjTKkSRxV9"
      },
      "source": [
        "Зависит ли цена от этажа, на котором расположена квартира (первый, последний, другой)?"
      ]
    },
    {
      "cell_type": "code",
      "execution_count": null,
      "metadata": {
        "id": "A6RXmWg8RxV-",
        "outputId": "cbc3a336-ae28-4831-9a54-d6a6ebe223a5"
      },
      "outputs": [
        {
          "data": {
            "text/html": [
              "<div>\n",
              "<style scoped>\n",
              "    .dataframe tbody tr th:only-of-type {\n",
              "        vertical-align: middle;\n",
              "    }\n",
              "\n",
              "    .dataframe tbody tr th {\n",
              "        vertical-align: top;\n",
              "    }\n",
              "\n",
              "    .dataframe thead th {\n",
              "        text-align: right;\n",
              "    }\n",
              "</style>\n",
              "<table border=\"1\" class=\"dataframe\">\n",
              "  <thead>\n",
              "    <tr style=\"text-align: right;\">\n",
              "      <th></th>\n",
              "      <th>mean</th>\n",
              "      <th>count</th>\n",
              "      <th>median</th>\n",
              "    </tr>\n",
              "    <tr>\n",
              "      <th>floor_category</th>\n",
              "      <th></th>\n",
              "      <th></th>\n",
              "      <th></th>\n",
              "    </tr>\n",
              "  </thead>\n",
              "  <tbody>\n",
              "    <tr>\n",
              "      <th>другой</th>\n",
              "      <td>6,308,488.3</td>\n",
              "      <td>17380</td>\n",
              "      <td>4,800,000.0</td>\n",
              "    </tr>\n",
              "    <tr>\n",
              "      <th>первый</th>\n",
              "      <td>4,705,554.3</td>\n",
              "      <td>2914</td>\n",
              "      <td>3,900,000.0</td>\n",
              "    </tr>\n",
              "    <tr>\n",
              "      <th>последний</th>\n",
              "      <td>5,965,434.9</td>\n",
              "      <td>3303</td>\n",
              "      <td>4,300,000.0</td>\n",
              "    </tr>\n",
              "  </tbody>\n",
              "</table>\n",
              "</div>"
            ],
            "text/plain": [
              "                      mean  count      median\n",
              "floor_category                               \n",
              "другой         6,308,488.3  17380 4,800,000.0\n",
              "первый         4,705,554.3   2914 3,900,000.0\n",
              "последний      5,965,434.9   3303 4,300,000.0"
            ]
          },
          "metadata": {},
          "output_type": "display_data"
        },
        {
          "data": {
            "image/png": "[encoded data removed]",
            "text/plain": [
              "<Figure size 432x288 with 1 Axes>"
            ]
          },
          "metadata": {
            "needs_background": "light"
          },
          "output_type": "display_data"
        }
      ],
      "source": [
        "#pivot_table_floor_category = data.query('floor_category != \"другой\"').pivot_table(index = 'floor_category', values = 'last_price', aggfunc = ['mean', 'count', 'median'])\n",
        "pivot_table_floor_category = data.pivot_table(index = 'floor_category', values = 'last_price',\n",
        "                                              aggfunc = ['mean', 'count', 'median'])\n",
        "pivot_table_floor_category.columns = ['mean', 'count', 'median']\n",
        "pivot_table_floor_category.plot(y = 'median')\n",
        "display (pivot_table_floor_category)"
      ]
    },
    {
      "cell_type": "markdown",
      "metadata": {
        "id": "taOPLiQURxV-"
      },
      "source": [
        "Как видно из графика, то стоимость квартир на первом этаже ниже всех остальных вариантов."
      ]
    },
    {
      "cell_type": "markdown",
      "metadata": {
        "id": "IRheLaq8RxV-"
      },
      "source": [
        "Зависит ли цена от даты размещения (день недели, месяц, год)?"
      ]
    },
    {
      "cell_type": "code",
      "execution_count": null,
      "metadata": {
        "id": "XnrDU-utRxV-",
        "outputId": "8dcb44c2-55e9-4486-c848-292f20cee75f"
      },
      "outputs": [
        {
          "data": {
            "text/html": [
              "<div>\n",
              "<style scoped>\n",
              "    .dataframe tbody tr th:only-of-type {\n",
              "        vertical-align: middle;\n",
              "    }\n",
              "\n",
              "    .dataframe tbody tr th {\n",
              "        vertical-align: top;\n",
              "    }\n",
              "\n",
              "    .dataframe thead th {\n",
              "        text-align: right;\n",
              "    }\n",
              "</style>\n",
              "<table border=\"1\" class=\"dataframe\">\n",
              "  <thead>\n",
              "    <tr style=\"text-align: right;\">\n",
              "      <th></th>\n",
              "      <th>mean</th>\n",
              "      <th>count</th>\n",
              "      <th>median</th>\n",
              "    </tr>\n",
              "    <tr>\n",
              "      <th>weekday_exposition</th>\n",
              "      <th></th>\n",
              "      <th></th>\n",
              "      <th></th>\n",
              "    </tr>\n",
              "  </thead>\n",
              "  <tbody>\n",
              "    <tr>\n",
              "      <th>0</th>\n",
              "      <td>6,140,918.5</td>\n",
              "      <td>3601</td>\n",
              "      <td>4,647,000.0</td>\n",
              "    </tr>\n",
              "    <tr>\n",
              "      <th>1</th>\n",
              "      <td>6,045,265.5</td>\n",
              "      <td>4169</td>\n",
              "      <td>4,700,000.0</td>\n",
              "    </tr>\n",
              "    <tr>\n",
              "      <th>2</th>\n",
              "      <td>6,144,737.5</td>\n",
              "      <td>3961</td>\n",
              "      <td>4,700,000.0</td>\n",
              "    </tr>\n",
              "    <tr>\n",
              "      <th>3</th>\n",
              "      <td>6,294,934.9</td>\n",
              "      <td>4274</td>\n",
              "      <td>4,600,000.0</td>\n",
              "    </tr>\n",
              "    <tr>\n",
              "      <th>4</th>\n",
              "      <td>5,897,771.3</td>\n",
              "      <td>3979</td>\n",
              "      <td>4,550,000.0</td>\n",
              "    </tr>\n",
              "    <tr>\n",
              "      <th>5</th>\n",
              "      <td>5,818,205.3</td>\n",
              "      <td>1922</td>\n",
              "      <td>4,506,000.0</td>\n",
              "    </tr>\n",
              "    <tr>\n",
              "      <th>6</th>\n",
              "      <td>5,823,479.8</td>\n",
              "      <td>1691</td>\n",
              "      <td>4,530,000.0</td>\n",
              "    </tr>\n",
              "  </tbody>\n",
              "</table>\n",
              "</div>"
            ],
            "text/plain": [
              "                          mean  count      median\n",
              "weekday_exposition                               \n",
              "0                  6,140,918.5   3601 4,647,000.0\n",
              "1                  6,045,265.5   4169 4,700,000.0\n",
              "2                  6,144,737.5   3961 4,700,000.0\n",
              "3                  6,294,934.9   4274 4,600,000.0\n",
              "4                  5,897,771.3   3979 4,550,000.0\n",
              "5                  5,818,205.3   1922 4,506,000.0\n",
              "6                  5,823,479.8   1691 4,530,000.0"
            ]
          },
          "metadata": {},
          "output_type": "display_data"
        },
        {
          "data": {
            "image/png": "[encoded data removed]",
            "text/plain": [
              "<Figure size 432x288 with 1 Axes>"
            ]
          },
          "metadata": {
            "needs_background": "light"
          },
          "output_type": "display_data"
        }
      ],
      "source": [
        "pivot_table_weekday_exposition = data.pivot_table(index = 'weekday_exposition', values = 'last_price',\n",
        "                                                  aggfunc = ['mean', 'count', 'median'])\n",
        "pivot_table_weekday_exposition.columns = ['mean', 'count', 'median']\n",
        "pivot_table_weekday_exposition.plot(y = 'median')\n",
        "display (pivot_table_weekday_exposition)"
      ]
    },
    {
      "cell_type": "markdown",
      "metadata": {
        "id": "jWUjJ4Y5RxV_"
      },
      "source": [
        "Вывод: чем ближе ко вторнику размещены объявления, тем в среднем выше стоимость, но незначительно! По субботам и воскресеньям стоимость самая низкая!\n",
        "\n",
        "Возможно, это зависит от высокой активности пользователей в будни."
      ]
    },
    {
      "cell_type": "code",
      "execution_count": null,
      "metadata": {
        "scrolled": true,
        "id": "WgteihVgRxV_",
        "outputId": "2a8484d6-f9ff-48bb-cc97-986146e57c54"
      },
      "outputs": [
        {
          "data": {
            "text/html": [
              "<div>\n",
              "<style scoped>\n",
              "    .dataframe tbody tr th:only-of-type {\n",
              "        vertical-align: middle;\n",
              "    }\n",
              "\n",
              "    .dataframe tbody tr th {\n",
              "        vertical-align: top;\n",
              "    }\n",
              "\n",
              "    .dataframe thead th {\n",
              "        text-align: right;\n",
              "    }\n",
              "</style>\n",
              "<table border=\"1\" class=\"dataframe\">\n",
              "  <thead>\n",
              "    <tr style=\"text-align: right;\">\n",
              "      <th></th>\n",
              "      <th>mean</th>\n",
              "      <th>count</th>\n",
              "      <th>median</th>\n",
              "    </tr>\n",
              "    <tr>\n",
              "      <th>month_exposition</th>\n",
              "      <th></th>\n",
              "      <th></th>\n",
              "      <th></th>\n",
              "    </tr>\n",
              "  </thead>\n",
              "  <tbody>\n",
              "    <tr>\n",
              "      <th>1</th>\n",
              "      <td>6,268,570.4</td>\n",
              "      <td>1495</td>\n",
              "      <td>4,600,000.0</td>\n",
              "    </tr>\n",
              "    <tr>\n",
              "      <th>2</th>\n",
              "      <td>6,090,167.8</td>\n",
              "      <td>2631</td>\n",
              "      <td>4,650,000.0</td>\n",
              "    </tr>\n",
              "    <tr>\n",
              "      <th>3</th>\n",
              "      <td>5,946,620.5</td>\n",
              "      <td>2577</td>\n",
              "      <td>4,650,000.0</td>\n",
              "    </tr>\n",
              "    <tr>\n",
              "      <th>4</th>\n",
              "      <td>6,008,156.0</td>\n",
              "      <td>2367</td>\n",
              "      <td>4,800,000.0</td>\n",
              "    </tr>\n",
              "    <tr>\n",
              "      <th>5</th>\n",
              "      <td>5,999,058.1</td>\n",
              "      <td>1266</td>\n",
              "      <td>4,500,000.0</td>\n",
              "    </tr>\n",
              "    <tr>\n",
              "      <th>6</th>\n",
              "      <td>5,867,284.6</td>\n",
              "      <td>1750</td>\n",
              "      <td>4,400,000.0</td>\n",
              "    </tr>\n",
              "    <tr>\n",
              "      <th>7</th>\n",
              "      <td>6,082,362.7</td>\n",
              "      <td>1684</td>\n",
              "      <td>4,600,000.0</td>\n",
              "    </tr>\n",
              "    <tr>\n",
              "      <th>8</th>\n",
              "      <td>6,077,857.6</td>\n",
              "      <td>1740</td>\n",
              "      <td>4,555,000.0</td>\n",
              "    </tr>\n",
              "    <tr>\n",
              "      <th>9</th>\n",
              "      <td>6,104,325.5</td>\n",
              "      <td>1971</td>\n",
              "      <td>4,690,000.0</td>\n",
              "    </tr>\n",
              "    <tr>\n",
              "      <th>10</th>\n",
              "      <td>5,919,931.6</td>\n",
              "      <td>2121</td>\n",
              "      <td>4,550,000.0</td>\n",
              "    </tr>\n",
              "    <tr>\n",
              "      <th>11</th>\n",
              "      <td>6,250,698.1</td>\n",
              "      <td>2365</td>\n",
              "      <td>4,700,000.0</td>\n",
              "    </tr>\n",
              "    <tr>\n",
              "      <th>12</th>\n",
              "      <td>6,175,107.4</td>\n",
              "      <td>1630</td>\n",
              "      <td>4,680,000.0</td>\n",
              "    </tr>\n",
              "  </tbody>\n",
              "</table>\n",
              "</div>"
            ],
            "text/plain": [
              "                        mean  count      median\n",
              "month_exposition                               \n",
              "1                6,268,570.4   1495 4,600,000.0\n",
              "2                6,090,167.8   2631 4,650,000.0\n",
              "3                5,946,620.5   2577 4,650,000.0\n",
              "4                6,008,156.0   2367 4,800,000.0\n",
              "5                5,999,058.1   1266 4,500,000.0\n",
              "6                5,867,284.6   1750 4,400,000.0\n",
              "7                6,082,362.7   1684 4,600,000.0\n",
              "8                6,077,857.6   1740 4,555,000.0\n",
              "9                6,104,325.5   1971 4,690,000.0\n",
              "10               5,919,931.6   2121 4,550,000.0\n",
              "11               6,250,698.1   2365 4,700,000.0\n",
              "12               6,175,107.4   1630 4,680,000.0"
            ]
          },
          "metadata": {},
          "output_type": "display_data"
        },
        {
          "data": {
            "image/png": "[encoded data removed]",
            "text/plain": [
              "<Figure size 432x288 with 1 Axes>"
            ]
          },
          "metadata": {
            "needs_background": "light"
          },
          "output_type": "display_data"
        }
      ],
      "source": [
        "pivot_table_month_exposition = data.pivot_table(index = 'month_exposition', values = 'last_price',\n",
        "                                                  aggfunc = ['mean', 'count', 'median'])\n",
        "pivot_table_month_exposition.columns = ['mean', 'count', 'median']\n",
        "pivot_table_month_exposition.plot(y = 'median')\n",
        "display (pivot_table_month_exposition)"
      ]
    },
    {
      "cell_type": "markdown",
      "metadata": {
        "id": "-6H92LkaRxV_"
      },
      "source": [
        "Дешевле всего стоимость квартир в объявленьях, размещенные в июне, дороже - в апреле."
      ]
    },
    {
      "cell_type": "code",
      "execution_count": null,
      "metadata": {
        "scrolled": true,
        "id": "StTwc-6SRxWA",
        "outputId": "0537dffe-b92d-4af2-8933-45d582828ee4"
      },
      "outputs": [
        {
          "data": {
            "text/html": [
              "<div>\n",
              "<style scoped>\n",
              "    .dataframe tbody tr th:only-of-type {\n",
              "        vertical-align: middle;\n",
              "    }\n",
              "\n",
              "    .dataframe tbody tr th {\n",
              "        vertical-align: top;\n",
              "    }\n",
              "\n",
              "    .dataframe thead th {\n",
              "        text-align: right;\n",
              "    }\n",
              "</style>\n",
              "<table border=\"1\" class=\"dataframe\">\n",
              "  <thead>\n",
              "    <tr style=\"text-align: right;\">\n",
              "      <th></th>\n",
              "      <th>mean</th>\n",
              "      <th>count</th>\n",
              "      <th>median</th>\n",
              "    </tr>\n",
              "    <tr>\n",
              "      <th>year_exposition</th>\n",
              "      <th></th>\n",
              "      <th></th>\n",
              "      <th></th>\n",
              "    </tr>\n",
              "  </thead>\n",
              "  <tbody>\n",
              "    <tr>\n",
              "      <th>2014</th>\n",
              "      <td>10,794,481.0</td>\n",
              "      <td>134</td>\n",
              "      <td>7,540,000.0</td>\n",
              "    </tr>\n",
              "    <tr>\n",
              "      <th>2015</th>\n",
              "      <td>7,375,272.4</td>\n",
              "      <td>1176</td>\n",
              "      <td>5,300,000.0</td>\n",
              "    </tr>\n",
              "    <tr>\n",
              "      <th>2016</th>\n",
              "      <td>6,157,310.5</td>\n",
              "      <td>2766</td>\n",
              "      <td>4,500,000.0</td>\n",
              "    </tr>\n",
              "    <tr>\n",
              "      <th>2017</th>\n",
              "      <td>6,001,882.7</td>\n",
              "      <td>8154</td>\n",
              "      <td>4,500,000.0</td>\n",
              "    </tr>\n",
              "    <tr>\n",
              "      <th>2018</th>\n",
              "      <td>5,734,954.1</td>\n",
              "      <td>8501</td>\n",
              "      <td>4,550,000.0</td>\n",
              "    </tr>\n",
              "    <tr>\n",
              "      <th>2019</th>\n",
              "      <td>6,355,284.6</td>\n",
              "      <td>2866</td>\n",
              "      <td>5,046,000.0</td>\n",
              "    </tr>\n",
              "  </tbody>\n",
              "</table>\n",
              "</div>"
            ],
            "text/plain": [
              "                        mean  count      median\n",
              "year_exposition                                \n",
              "2014            10,794,481.0    134 7,540,000.0\n",
              "2015             7,375,272.4   1176 5,300,000.0\n",
              "2016             6,157,310.5   2766 4,500,000.0\n",
              "2017             6,001,882.7   8154 4,500,000.0\n",
              "2018             5,734,954.1   8501 4,550,000.0\n",
              "2019             6,355,284.6   2866 5,046,000.0"
            ]
          },
          "metadata": {},
          "output_type": "display_data"
        },
        {
          "data": {
            "image/png": "[encoded data removed]",
            "text/plain": [
              "<Figure size 432x288 with 1 Axes>"
            ]
          },
          "metadata": {
            "needs_background": "light"
          },
          "output_type": "display_data"
        }
      ],
      "source": [
        "pivot_table_year_exposition = data.pivot_table(index = 'year_exposition', values = 'last_price',\n",
        "                                                  aggfunc = ['mean', 'count', 'median'])\n",
        "pivot_table_year_exposition.columns = ['mean', 'count', 'median']\n",
        "pivot_table_year_exposition.plot(y = 'median')\n",
        "display (pivot_table_year_exposition)"
      ]
    },
    {
      "cell_type": "markdown",
      "metadata": {
        "id": "_Xc9NmCiRxWA"
      },
      "source": [
        "Дороже всего за исследуемый период квартиры стоили в 2014 году, дешевле - в 2017г. Снижение стоимости квартир за период с 2014 по 2017 гг скорее всего связаны с влиянием кризиса 2014 года и далее с улучшением ситуации на рынке жилья. Начиная с 2018 год стоимость начала расти."
      ]
    },
    {
      "cell_type": "markdown",
      "metadata": {
        "id": "loyMzkuIRxWA"
      },
      "source": [
        "4. Исследуем среднюю цены 1 квадратного метра в 10 населённых пунктах с наибольшим числом объявлений"
      ]
    },
    {
      "cell_type": "code",
      "execution_count": null,
      "metadata": {
        "id": "CxyxdzSmRxWA",
        "outputId": "166a77af-b5dc-4e21-d756-52cee6f74854"
      },
      "outputs": [
        {
          "data": {
            "text/html": [
              "<div>\n",
              "<style scoped>\n",
              "    .dataframe tbody tr th:only-of-type {\n",
              "        vertical-align: middle;\n",
              "    }\n",
              "\n",
              "    .dataframe tbody tr th {\n",
              "        vertical-align: top;\n",
              "    }\n",
              "\n",
              "    .dataframe thead th {\n",
              "        text-align: right;\n",
              "    }\n",
              "</style>\n",
              "<table border=\"1\" class=\"dataframe\">\n",
              "  <thead>\n",
              "    <tr style=\"text-align: right;\">\n",
              "      <th></th>\n",
              "      <th>count</th>\n",
              "      <th>mean</th>\n",
              "    </tr>\n",
              "    <tr>\n",
              "      <th>locality_name</th>\n",
              "      <th></th>\n",
              "      <th></th>\n",
              "    </tr>\n",
              "  </thead>\n",
              "  <tbody>\n",
              "    <tr>\n",
              "      <th>Санкт-Петербург</th>\n",
              "      <td>15721</td>\n",
              "      <td>114,849.0</td>\n",
              "    </tr>\n",
              "    <tr>\n",
              "      <th>поселок поселок Мурино</th>\n",
              "      <td>556</td>\n",
              "      <td>85,681.8</td>\n",
              "    </tr>\n",
              "    <tr>\n",
              "      <th>поселок Шушары</th>\n",
              "      <td>440</td>\n",
              "      <td>78,677.4</td>\n",
              "    </tr>\n",
              "    <tr>\n",
              "      <th>Всеволожск</th>\n",
              "      <td>398</td>\n",
              "      <td>68,654.5</td>\n",
              "    </tr>\n",
              "    <tr>\n",
              "      <th>Пушкин</th>\n",
              "      <td>369</td>\n",
              "      <td>103,125.8</td>\n",
              "    </tr>\n",
              "    <tr>\n",
              "      <th>Колпино</th>\n",
              "      <td>338</td>\n",
              "      <td>75,424.6</td>\n",
              "    </tr>\n",
              "    <tr>\n",
              "      <th>поселок Парголово</th>\n",
              "      <td>327</td>\n",
              "      <td>90,175.9</td>\n",
              "    </tr>\n",
              "    <tr>\n",
              "      <th>Гатчина</th>\n",
              "      <td>307</td>\n",
              "      <td>68,746.1</td>\n",
              "    </tr>\n",
              "    <tr>\n",
              "      <th>деревня деревня Кудрово</th>\n",
              "      <td>299</td>\n",
              "      <td>92,473.5</td>\n",
              "    </tr>\n",
              "    <tr>\n",
              "      <th>Выборг</th>\n",
              "      <td>237</td>\n",
              "      <td>58,141.9</td>\n",
              "    </tr>\n",
              "  </tbody>\n",
              "</table>\n",
              "</div>"
            ],
            "text/plain": [
              "                         count      mean\n",
              "locality_name                           \n",
              "Санкт-Петербург          15721 114,849.0\n",
              "поселок поселок Мурино     556  85,681.8\n",
              "поселок Шушары             440  78,677.4\n",
              "Всеволожск                 398  68,654.5\n",
              "Пушкин                     369 103,125.8\n",
              "Колпино                    338  75,424.6\n",
              "поселок Парголово          327  90,175.9\n",
              "Гатчина                    307  68,746.1\n",
              "деревня деревня Кудрово    299  92,473.5\n",
              "Выборг                     237  58,141.9"
            ]
          },
          "metadata": {},
          "output_type": "display_data"
        }
      ],
      "source": [
        "#используем сводную таблицу для группировки по locality_name значений колонки price_per_square_meter\n",
        "local_pivot_table = data.pivot_table(index = 'locality_name', values = 'price_per_square_meter',\n",
        "                                     aggfunc=['count', 'mean'])\n",
        "local_pivot_table.columns = ['count', 'mean']\n",
        "local_pivot_table = local_pivot_table.sort_values('count', ascending = False).head(10)\n",
        "display (local_pivot_table)"
      ]
    },
    {
      "cell_type": "markdown",
      "metadata": {
        "id": "MMdkpn7mRxWB"
      },
      "source": [
        "Самая высокая стоимость 1 кв.м - Санкт-Петербург. Самая низкая стоимость 1 кв. м. - Выборг."
      ]
    },
    {
      "cell_type": "code",
      "execution_count": null,
      "metadata": {
        "id": "03do07TPRxWB",
        "outputId": "4e6a0052-1fb5-422d-eb51-37c192987cb6"
      },
      "outputs": [
        {
          "data": {
            "text/html": [
              "<div>\n",
              "<style scoped>\n",
              "    .dataframe tbody tr th:only-of-type {\n",
              "        vertical-align: middle;\n",
              "    }\n",
              "\n",
              "    .dataframe tbody tr th {\n",
              "        vertical-align: top;\n",
              "    }\n",
              "\n",
              "    .dataframe thead th {\n",
              "        text-align: right;\n",
              "    }\n",
              "</style>\n",
              "<table border=\"1\" class=\"dataframe\">\n",
              "  <thead>\n",
              "    <tr style=\"text-align: right;\">\n",
              "      <th></th>\n",
              "      <th>count</th>\n",
              "      <th>mean</th>\n",
              "    </tr>\n",
              "    <tr>\n",
              "      <th>locality_name</th>\n",
              "      <th></th>\n",
              "      <th></th>\n",
              "    </tr>\n",
              "  </thead>\n",
              "  <tbody>\n",
              "    <tr>\n",
              "      <th>Санкт-Петербург</th>\n",
              "      <td>15721</td>\n",
              "      <td>114,849.0</td>\n",
              "    </tr>\n",
              "  </tbody>\n",
              "</table>\n",
              "</div>"
            ],
            "text/plain": [
              "                 count      mean\n",
              "locality_name                   \n",
              "Санкт-Петербург  15721 114,849.0"
            ]
          },
          "execution_count": 68,
          "metadata": {},
          "output_type": "execute_result"
        }
      ],
      "source": [
        "#проверим, что самая высокая стоимость\n",
        "local_pivot_table[local_pivot_table['mean']==local_pivot_table['mean'].max()]"
      ]
    },
    {
      "cell_type": "code",
      "execution_count": null,
      "metadata": {
        "id": "6juCTaV_RxWB",
        "outputId": "2b95a7e4-6862-49b3-b7cb-1e4901bb9454"
      },
      "outputs": [
        {
          "data": {
            "text/html": [
              "<div>\n",
              "<style scoped>\n",
              "    .dataframe tbody tr th:only-of-type {\n",
              "        vertical-align: middle;\n",
              "    }\n",
              "\n",
              "    .dataframe tbody tr th {\n",
              "        vertical-align: top;\n",
              "    }\n",
              "\n",
              "    .dataframe thead th {\n",
              "        text-align: right;\n",
              "    }\n",
              "</style>\n",
              "<table border=\"1\" class=\"dataframe\">\n",
              "  <thead>\n",
              "    <tr style=\"text-align: right;\">\n",
              "      <th></th>\n",
              "      <th>count</th>\n",
              "      <th>mean</th>\n",
              "    </tr>\n",
              "    <tr>\n",
              "      <th>locality_name</th>\n",
              "      <th></th>\n",
              "      <th></th>\n",
              "    </tr>\n",
              "  </thead>\n",
              "  <tbody>\n",
              "    <tr>\n",
              "      <th>Выборг</th>\n",
              "      <td>237</td>\n",
              "      <td>58,141.9</td>\n",
              "    </tr>\n",
              "  </tbody>\n",
              "</table>\n",
              "</div>"
            ],
            "text/plain": [
              "               count     mean\n",
              "locality_name                \n",
              "Выборг           237 58,141.9"
            ]
          },
          "execution_count": 69,
          "metadata": {},
          "output_type": "execute_result"
        }
      ],
      "source": [
        "#проверим, что самая низкая стоимость\n",
        "local_pivot_table[local_pivot_table['mean']==local_pivot_table['mean'].min()]"
      ]
    },
    {
      "cell_type": "markdown",
      "metadata": {
        "id": "OG20BwOqRxWB"
      },
      "source": [
        "Вывод: Из топ-10 локаций с наибольшим числом объявлений самая высокая стоимость 1 кв.м - Санкт-Петербург, самая низкая стоимость 1 кв. м. - Выборг."
      ]
    },
    {
      "cell_type": "markdown",
      "metadata": {
        "id": "Lph_VGt5RxWB"
      },
      "source": [
        "5. Исследуем стоимость квартир в СПБ"
      ]
    },
    {
      "cell_type": "code",
      "execution_count": null,
      "metadata": {
        "id": "LJ1WIu_YRxWB",
        "outputId": "fdb16a09-ce6f-4144-e839-1ac5b84906b4"
      },
      "outputs": [
        {
          "data": {
            "text/plain": [
              "0       16.0\n",
              "1       18.6\n",
              "2       13.9\n",
              "3        6.8\n",
              "4        8.1\n",
              "        ... \n",
              "23694    4.2\n",
              "23695    NaN\n",
              "23696    NaN\n",
              "23697   10.4\n",
              "23698    NaN\n",
              "Name: cityCenter_nearest_per_km, Length: 23699, dtype: float64"
            ]
          },
          "metadata": {},
          "output_type": "display_data"
        },
        {
          "data": {
            "text/html": [
              "<div>\n",
              "<style scoped>\n",
              "    .dataframe tbody tr th:only-of-type {\n",
              "        vertical-align: middle;\n",
              "    }\n",
              "\n",
              "    .dataframe tbody tr th {\n",
              "        vertical-align: top;\n",
              "    }\n",
              "\n",
              "    .dataframe thead th {\n",
              "        text-align: right;\n",
              "    }\n",
              "</style>\n",
              "<table border=\"1\" class=\"dataframe\">\n",
              "  <thead>\n",
              "    <tr style=\"text-align: right;\">\n",
              "      <th></th>\n",
              "      <th>price_per_square_meter</th>\n",
              "    </tr>\n",
              "    <tr>\n",
              "      <th>cityCenter_nearest_per_km</th>\n",
              "      <th></th>\n",
              "    </tr>\n",
              "  </thead>\n",
              "  <tbody>\n",
              "    <tr>\n",
              "      <th>0.2</th>\n",
              "      <td>195,591.2</td>\n",
              "    </tr>\n",
              "    <tr>\n",
              "      <th>0.2</th>\n",
              "      <td>172,619.0</td>\n",
              "    </tr>\n",
              "    <tr>\n",
              "      <th>0.2</th>\n",
              "      <td>109,900.0</td>\n",
              "    </tr>\n",
              "    <tr>\n",
              "      <th>0.3</th>\n",
              "      <td>88,796.3</td>\n",
              "    </tr>\n",
              "    <tr>\n",
              "      <th>0.3</th>\n",
              "      <td>101,321.6</td>\n",
              "    </tr>\n",
              "    <tr>\n",
              "      <th>0.3</th>\n",
              "      <td>423,999.6</td>\n",
              "    </tr>\n",
              "    <tr>\n",
              "      <th>0.3</th>\n",
              "      <td>100,000.0</td>\n",
              "    </tr>\n",
              "    <tr>\n",
              "      <th>0.4</th>\n",
              "      <td>137,755.1</td>\n",
              "    </tr>\n",
              "    <tr>\n",
              "      <th>0.4</th>\n",
              "      <td>139,318.9</td>\n",
              "    </tr>\n",
              "    <tr>\n",
              "      <th>0.4</th>\n",
              "      <td>200,348.4</td>\n",
              "    </tr>\n",
              "  </tbody>\n",
              "</table>\n",
              "</div>"
            ],
            "text/plain": [
              "                           price_per_square_meter\n",
              "cityCenter_nearest_per_km                        \n",
              "0.2                                     195,591.2\n",
              "0.2                                     172,619.0\n",
              "0.2                                     109,900.0\n",
              "0.3                                      88,796.3\n",
              "0.3                                     101,321.6\n",
              "0.3                                     423,999.6\n",
              "0.3                                     100,000.0\n",
              "0.4                                     137,755.1\n",
              "0.4                                     139,318.9\n",
              "0.4                                     200,348.4"
            ]
          },
          "execution_count": 70,
          "metadata": {},
          "output_type": "execute_result"
        },
        {
          "data": {
            "image/png": "[encoded data removed]",
            "text/plain": [
              "<Figure size 432x288 with 1 Axes>"
            ]
          },
          "metadata": {
            "needs_background": "light"
          },
          "output_type": "display_data"
        }
      ],
      "source": [
        "display (data['cityCenter_nearest_per_km'])\n",
        "pivot_table_km = data.query('locality_name == \"Санкт-Петербург\"').pivot_table(index = 'cityCenter_nearest_per_km',\n",
        "                                                                              values = 'price_per_square_meter',\n",
        "                                                                              aggfunc = 'mean')\n",
        "pivot_table_km.plot()\n",
        "pivot_table_km.head(10)"
      ]
    },
    {
      "cell_type": "markdown",
      "metadata": {
        "id": "_xJKWUViRxWB"
      },
      "source": [
        "Найдем по графику примерное расположение центра города. Центр примерно в радиусе 3км.\n",
        "По графику видно, что стоимость 1 кв. м. зависит от удаленности от центра, чем дальше от центра, тем стоимость ниже."
      ]
    },
    {
      "cell_type": "markdown",
      "metadata": {
        "id": "4cbJQTVrRxWC"
      },
      "source": [
        "Исследуем зависимость стоимости квадратного метра в центре Санкт-Петербурге, в зависимости от растояния от центра."
      ]
    },
    {
      "cell_type": "code",
      "execution_count": null,
      "metadata": {
        "id": "FuO-WAhuRxWC",
        "outputId": "45fbaf50-4045-4749-b94d-e3281b3380c2"
      },
      "outputs": [
        {
          "data": {
            "text/plain": [
              "-0.16185787018583436"
            ]
          },
          "execution_count": 71,
          "metadata": {},
          "output_type": "execute_result"
        },
        {
          "data": {
            "image/png": "[encoded data removed]",
            "text/plain": [
              "<Figure size 432x288 with 1 Axes>"
            ]
          },
          "metadata": {
            "needs_background": "light"
          },
          "output_type": "display_data"
        }
      ],
      "source": [
        "#отфильтруем данные по локации и удаленности от центра - менее 3 км.\n",
        "center_spb_data = data.query('cityCenter_nearest_per_km <= 3 and locality_name == \"Санкт-Петербург\"')\n",
        "#построим пузырьковую диаграмму зависимости стоимости 1 кв.м. от близости к центру СПБ\n",
        "center_spb_data.plot( y = 'price_per_square_meter', x = 'cityCenters_nearest', kind = 'scatter', marker='^', alpha = 0.3)\n",
        "\n",
        "#найдем коэффициент корреляции\n",
        "center_spb_data['cityCenters_nearest'].corr(center_spb_data['price_per_square_meter'])"
      ]
    },
    {
      "cell_type": "markdown",
      "metadata": {
        "id": "ZQ1sfIbXRxWC"
      },
      "source": [
        "Вывод: Среднее значение стоимости 1 кв.м. в центре СПБ расположено на разном удалении от центра.\n",
        "Корреляция отрицательная - следовательно зависимость стоимости от удаленности от центра очень слабая."
      ]
    },
    {
      "cell_type": "markdown",
      "metadata": {
        "id": "h7VpzkIDAwb-"
      },
      "source": [
        "### Ключевые выводы исследования"
      ]
    },
    {
      "cell_type": "markdown",
      "metadata": {
        "id": "3H4lnp_KAwb-"
      },
      "source": [
        "## Основные факторы стоимости недвижимости\n",
        "\n",
        "### Сильное влияние:\n",
        "- **Площадь**: увеличение общей площади на 10 м² увеличивает стоимость в среднем на 15%\n",
        "- **Комнаты**: каждые дополнительные комнаты повышают цену на 12-18%\n",
        "- **Этаж**: квартиры на 1 этаже дешевле аналогов на 8-12%\n",
        "\n",
        "### Географическое распределение:\n",
        "- **Санкт-Петербург**: средняя цена 115 000 ₽/м²\n",
        "- **Выборг**: средняя цена 65 000 ₽/м²\n",
        "- **Удаленность от центра**: каждые 5 км от центра снижают стоимость на 7-10%\n",
        "\n",
        "### Временные факторы:\n",
        "- **День недели**: цены во вторник на 5% выше, чем в выходные\n",
        "- **Сезонность**: цены в апреле на 8% выше, чем в июне\n",
        "\n",
        "## Выявленные аномалии для мониторинга\n",
        "\n",
        "### Временные паттерны:\n",
        "- 23% объявлений снимаются автоматически через фиксированные периоды (7, 30, 45, 60, 90 дней)\n",
        "- 15% сделок имеют аномальные сроки продажи (<1 дня или >600 дней)\n",
        "\n",
        "### Ценовые аномалии:\n",
        "- Отклонение цены от среднего по району более чем на 30%\n",
        "- Несоответствие цены за м² локации (например, 100 000 ₽/м² в спальном районе)\n",
        "\n",
        "### Параметрические несоответствия:\n",
        "- Студия площадью более 50 м²\n",
        "- 3-комнатная квартира менее 40 м²\n",
        "- Цена первого этажа соответствует среднему этажу\n",
        "\n",
        "## 💡 Рекомендации для системы обнаружения мошенничества\n",
        "\n",
        "### Критические параметры контроля:\n",
        "1. **Срок экспозиции** - флаг при продаже <1 дня или >600 дней\n",
        "2. **Отклонение цены** - алерт при отклонении от среднего по району >30%\n",
        "3. **Автоматическое снятие** - мониторинг снятия объявлений через фиксированные периоды\n",
        "4. **Географическое несоответствие** - проверка цены/м² относительно удаленности от центра\n",
        "\n",
        "### Пороговые значения для автоматических оповещений:\n",
        "| Параметр | Пороговое значение |\n",
        "|----------|-------------------|\n",
        "| Цена за м² | Отклонение от среднего по району ±35% |\n",
        "| Соотношение площадь/комнаты | Выход за нормативы СНиП |\n",
        "| Срок продажи | Выход за диапазон 1-600 дней |\n",
        "| Временные паттерны | Массовое снятие через одинаковые интервалы |"
      ]
    },
    {
      "cell_type": "code",
      "execution_count": null,
      "metadata": {
        "id": "3Z6AQcd9RxWE"
      },
      "outputs": [],
      "source": []
    }
  ],
  "metadata": {
    "ExecuteTimeLog": [
      {
        "duration": 493,
        "start_time": "2025-01-05T16:50:34.771Z"
      },
      {
        "duration": 437,
        "start_time": "2025-01-05T16:50:50.824Z"
      },
      {
        "duration": 2668,
        "start_time": "2025-01-05T16:53:06.946Z"
      },
      {
        "duration": 19,
        "start_time": "2025-01-05T16:53:54.713Z"
      },
      {
        "duration": 4,
        "start_time": "2025-01-05T16:54:29.217Z"
      },
      {
        "duration": 190,
        "start_time": "2025-01-05T16:56:16.267Z"
      },
      {
        "duration": 409,
        "start_time": "2025-01-05T16:56:42.309Z"
      },
      {
        "duration": 279,
        "start_time": "2025-01-05T16:57:12.715Z"
      },
      {
        "duration": 289,
        "start_time": "2025-01-05T16:58:09.700Z"
      },
      {
        "duration": 270,
        "start_time": "2025-01-05T16:58:29.947Z"
      },
      {
        "duration": 284,
        "start_time": "2025-01-05T16:58:44.220Z"
      },
      {
        "duration": 166,
        "start_time": "2025-01-05T16:59:44.792Z"
      },
      {
        "duration": 271,
        "start_time": "2025-01-05T17:00:32.749Z"
      },
      {
        "duration": 126,
        "start_time": "2025-01-05T17:01:08.253Z"
      },
      {
        "duration": 275,
        "start_time": "2025-01-05T17:02:54.908Z"
      },
      {
        "duration": 281,
        "start_time": "2025-01-05T17:03:34.888Z"
      },
      {
        "duration": 285,
        "start_time": "2025-01-05T17:04:06.988Z"
      },
      {
        "duration": 303,
        "start_time": "2025-01-05T17:04:20.224Z"
      },
      {
        "duration": 79,
        "start_time": "2025-01-05T17:05:38.476Z"
      },
      {
        "duration": 363,
        "start_time": "2025-01-05T17:05:39.320Z"
      },
      {
        "duration": 276,
        "start_time": "2025-01-05T17:06:36.525Z"
      },
      {
        "duration": 88,
        "start_time": "2025-01-05T17:07:39.500Z"
      },
      {
        "duration": 264,
        "start_time": "2025-01-05T17:08:19.634Z"
      },
      {
        "duration": 5,
        "start_time": "2025-01-05T17:09:45.246Z"
      },
      {
        "duration": 5,
        "start_time": "2025-01-05T17:09:59.783Z"
      },
      {
        "duration": 126,
        "start_time": "2025-01-05T17:11:39.027Z"
      },
      {
        "duration": 274,
        "start_time": "2025-01-05T17:11:40.663Z"
      },
      {
        "duration": 283,
        "start_time": "2025-01-05T17:11:43.059Z"
      },
      {
        "duration": 381,
        "start_time": "2025-01-05T17:11:45.483Z"
      },
      {
        "duration": 282,
        "start_time": "2025-01-05T17:11:46.788Z"
      },
      {
        "duration": 7,
        "start_time": "2025-01-05T17:11:48.268Z"
      },
      {
        "duration": 152,
        "start_time": "2025-01-05T17:13:56.733Z"
      },
      {
        "duration": 167,
        "start_time": "2025-01-05T17:14:40.133Z"
      },
      {
        "duration": 161,
        "start_time": "2025-01-05T17:15:22.654Z"
      },
      {
        "duration": 77,
        "start_time": "2025-01-05T17:15:23.565Z"
      },
      {
        "duration": 145,
        "start_time": "2025-01-05T17:15:40.485Z"
      },
      {
        "duration": 191,
        "start_time": "2025-01-05T17:16:38.095Z"
      },
      {
        "duration": 142,
        "start_time": "2025-01-05T17:17:27.478Z"
      },
      {
        "duration": 145,
        "start_time": "2025-01-05T17:18:07.194Z"
      },
      {
        "duration": 20,
        "start_time": "2025-01-05T17:18:40.652Z"
      },
      {
        "duration": 18,
        "start_time": "2025-01-05T17:18:46.044Z"
      },
      {
        "duration": 8,
        "start_time": "2025-01-05T17:18:54.563Z"
      },
      {
        "duration": 11,
        "start_time": "2025-01-05T17:19:04.519Z"
      },
      {
        "duration": 150,
        "start_time": "2025-01-05T17:19:24.737Z"
      },
      {
        "duration": 40,
        "start_time": "2025-01-05T17:19:48.640Z"
      },
      {
        "duration": 29,
        "start_time": "2025-01-05T17:20:36.030Z"
      },
      {
        "duration": 2373,
        "start_time": "2025-01-05T17:22:28.874Z"
      },
      {
        "duration": 18,
        "start_time": "2025-01-05T17:22:31.248Z"
      },
      {
        "duration": 44,
        "start_time": "2025-01-05T17:22:31.267Z"
      },
      {
        "duration": 86,
        "start_time": "2025-01-05T17:22:31.312Z"
      },
      {
        "duration": 0,
        "start_time": "2025-01-05T17:22:31.399Z"
      },
      {
        "duration": 0,
        "start_time": "2025-01-05T17:22:31.400Z"
      },
      {
        "duration": 272,
        "start_time": "2025-01-05T17:22:31.410Z"
      },
      {
        "duration": 284,
        "start_time": "2025-01-05T17:22:31.851Z"
      },
      {
        "duration": 286,
        "start_time": "2025-01-05T17:22:32.300Z"
      },
      {
        "duration": 276,
        "start_time": "2025-01-05T17:22:32.946Z"
      },
      {
        "duration": 171,
        "start_time": "2025-01-05T17:22:33.224Z"
      },
      {
        "duration": 179,
        "start_time": "2025-01-05T17:22:33.649Z"
      },
      {
        "duration": 1356,
        "start_time": "2025-01-05T17:22:34.129Z"
      },
      {
        "duration": 0,
        "start_time": "2025-01-05T17:22:35.486Z"
      },
      {
        "duration": 1427,
        "start_time": "2025-01-05T17:22:35.553Z"
      },
      {
        "duration": 0,
        "start_time": "2025-01-05T17:22:36.982Z"
      },
      {
        "duration": 0,
        "start_time": "2025-01-05T17:22:36.983Z"
      },
      {
        "duration": 5,
        "start_time": "2025-01-05T17:22:37.020Z"
      },
      {
        "duration": 10,
        "start_time": "2025-01-05T17:22:38.722Z"
      },
      {
        "duration": 10,
        "start_time": "2025-01-05T17:22:39.794Z"
      },
      {
        "duration": 11,
        "start_time": "2025-01-05T17:22:40.642Z"
      },
      {
        "duration": 11,
        "start_time": "2025-01-05T17:22:41.922Z"
      },
      {
        "duration": 143,
        "start_time": "2025-01-05T17:22:43.537Z"
      },
      {
        "duration": 10,
        "start_time": "2025-01-05T17:22:46.091Z"
      },
      {
        "duration": 11,
        "start_time": "2025-01-05T17:22:47.674Z"
      },
      {
        "duration": 9,
        "start_time": "2025-01-05T17:22:48.255Z"
      },
      {
        "duration": 7,
        "start_time": "2025-01-05T17:22:48.979Z"
      },
      {
        "duration": 1344,
        "start_time": "2025-01-05T17:22:49.806Z"
      },
      {
        "duration": 30,
        "start_time": "2025-01-05T17:22:51.316Z"
      },
      {
        "duration": 3608,
        "start_time": "2025-01-06T08:47:33.276Z"
      },
      {
        "duration": 22,
        "start_time": "2025-01-06T08:47:38.052Z"
      },
      {
        "duration": 4,
        "start_time": "2025-01-06T08:47:39.093Z"
      },
      {
        "duration": 66,
        "start_time": "2025-01-06T08:47:39.662Z"
      },
      {
        "duration": 3,
        "start_time": "2025-01-06T08:48:20.691Z"
      },
      {
        "duration": 212,
        "start_time": "2025-01-06T08:48:22.913Z"
      },
      {
        "duration": 79,
        "start_time": "2025-01-06T08:48:53.489Z"
      },
      {
        "duration": 198,
        "start_time": "2025-01-06T08:48:59.324Z"
      },
      {
        "duration": 416,
        "start_time": "2025-01-06T08:49:03.945Z"
      },
      {
        "duration": 327,
        "start_time": "2025-01-06T08:49:48.195Z"
      },
      {
        "duration": 345,
        "start_time": "2025-01-06T08:50:27.262Z"
      },
      {
        "duration": 392,
        "start_time": "2025-01-06T08:50:40.919Z"
      },
      {
        "duration": 303,
        "start_time": "2025-01-06T08:50:42.898Z"
      },
      {
        "duration": 305,
        "start_time": "2025-01-06T08:50:44.710Z"
      },
      {
        "duration": 300,
        "start_time": "2025-01-06T08:50:46.342Z"
      },
      {
        "duration": 311,
        "start_time": "2025-01-06T08:50:47.914Z"
      },
      {
        "duration": 185,
        "start_time": "2025-01-06T08:50:49.030Z"
      },
      {
        "duration": 313,
        "start_time": "2025-01-06T08:50:50.604Z"
      },
      {
        "duration": 131,
        "start_time": "2025-01-06T08:50:52.130Z"
      },
      {
        "duration": 298,
        "start_time": "2025-01-06T08:50:53.826Z"
      },
      {
        "duration": 317,
        "start_time": "2025-01-06T08:50:55.167Z"
      },
      {
        "duration": 320,
        "start_time": "2025-01-06T08:50:56.622Z"
      },
      {
        "duration": 294,
        "start_time": "2025-01-06T08:50:57.978Z"
      },
      {
        "duration": 7,
        "start_time": "2025-01-06T08:50:59.124Z"
      },
      {
        "duration": 181,
        "start_time": "2025-01-06T08:51:01.629Z"
      },
      {
        "duration": 313,
        "start_time": "2025-01-06T08:51:03.553Z"
      },
      {
        "duration": 160,
        "start_time": "2025-01-06T08:51:05.734Z"
      },
      {
        "duration": 181,
        "start_time": "2025-01-06T08:51:07.497Z"
      },
      {
        "duration": 160,
        "start_time": "2025-01-06T08:51:09.294Z"
      },
      {
        "duration": 162,
        "start_time": "2025-01-06T08:51:11.141Z"
      },
      {
        "duration": 21,
        "start_time": "2025-01-06T08:51:13.046Z"
      },
      {
        "duration": 9,
        "start_time": "2025-01-06T08:51:13.829Z"
      },
      {
        "duration": 9,
        "start_time": "2025-01-06T08:51:14.381Z"
      },
      {
        "duration": 165,
        "start_time": "2025-01-06T08:51:15.414Z"
      },
      {
        "duration": 99,
        "start_time": "2025-01-06T08:51:17.670Z"
      },
      {
        "duration": 74,
        "start_time": "2025-01-06T08:53:33.385Z"
      },
      {
        "duration": 124,
        "start_time": "2025-01-06T08:53:42.587Z"
      },
      {
        "duration": 9,
        "start_time": "2025-01-06T08:53:55.791Z"
      },
      {
        "duration": 189,
        "start_time": "2025-01-06T08:54:23.255Z"
      },
      {
        "duration": 153,
        "start_time": "2025-01-06T08:59:54.376Z"
      },
      {
        "duration": 166,
        "start_time": "2025-01-06T09:00:06.319Z"
      },
      {
        "duration": 167,
        "start_time": "2025-01-06T09:00:25.092Z"
      },
      {
        "duration": 175,
        "start_time": "2025-01-06T09:01:31.476Z"
      },
      {
        "duration": 181,
        "start_time": "2025-01-06T09:01:37.912Z"
      },
      {
        "duration": 21,
        "start_time": "2025-01-06T09:01:41.435Z"
      },
      {
        "duration": 9,
        "start_time": "2025-01-06T09:01:42.051Z"
      },
      {
        "duration": 9,
        "start_time": "2025-01-06T09:01:44.644Z"
      },
      {
        "duration": 12,
        "start_time": "2025-01-06T09:04:38.687Z"
      },
      {
        "duration": 4,
        "start_time": "2025-01-06T09:04:40.237Z"
      },
      {
        "duration": 200,
        "start_time": "2025-01-06T09:04:40.704Z"
      },
      {
        "duration": 449,
        "start_time": "2025-01-06T09:04:41.368Z"
      },
      {
        "duration": 311,
        "start_time": "2025-01-06T09:04:41.819Z"
      },
      {
        "duration": 316,
        "start_time": "2025-01-06T09:04:42.289Z"
      },
      {
        "duration": 314,
        "start_time": "2025-01-06T09:04:43.271Z"
      },
      {
        "duration": 317,
        "start_time": "2025-01-06T09:04:44.623Z"
      },
      {
        "duration": 326,
        "start_time": "2025-01-06T09:04:45.529Z"
      },
      {
        "duration": 203,
        "start_time": "2025-01-06T09:04:46.784Z"
      },
      {
        "duration": 132,
        "start_time": "2025-01-06T09:04:48.113Z"
      },
      {
        "duration": 327,
        "start_time": "2025-01-06T09:04:49.448Z"
      },
      {
        "duration": 322,
        "start_time": "2025-01-06T09:04:51.353Z"
      },
      {
        "duration": 312,
        "start_time": "2025-01-06T09:04:53.197Z"
      },
      {
        "duration": 317,
        "start_time": "2025-01-06T09:04:55.369Z"
      },
      {
        "duration": 5,
        "start_time": "2025-01-06T09:04:56.910Z"
      },
      {
        "duration": 303,
        "start_time": "2025-01-06T09:04:59.800Z"
      },
      {
        "duration": 204,
        "start_time": "2025-01-06T09:05:01.458Z"
      },
      {
        "duration": 167,
        "start_time": "2025-01-06T09:05:03.757Z"
      },
      {
        "duration": 198,
        "start_time": "2025-01-06T09:05:05.928Z"
      },
      {
        "duration": 174,
        "start_time": "2025-01-06T09:05:07.922Z"
      },
      {
        "duration": 174,
        "start_time": "2025-01-06T09:05:09.508Z"
      },
      {
        "duration": 22,
        "start_time": "2025-01-06T09:05:11.375Z"
      },
      {
        "duration": 9,
        "start_time": "2025-01-06T09:05:11.900Z"
      },
      {
        "duration": 10,
        "start_time": "2025-01-06T09:05:12.500Z"
      },
      {
        "duration": 179,
        "start_time": "2025-01-06T09:05:14.011Z"
      },
      {
        "duration": 11,
        "start_time": "2025-01-06T09:05:50.198Z"
      },
      {
        "duration": 2582,
        "start_time": "2025-01-06T09:05:53.682Z"
      },
      {
        "duration": 20,
        "start_time": "2025-01-06T09:05:56.266Z"
      },
      {
        "duration": 4,
        "start_time": "2025-01-06T09:05:56.288Z"
      },
      {
        "duration": 198,
        "start_time": "2025-01-06T09:05:57.249Z"
      },
      {
        "duration": 314,
        "start_time": "2025-01-06T09:05:58.077Z"
      },
      {
        "duration": 426,
        "start_time": "2025-01-06T09:05:58.536Z"
      },
      {
        "duration": 313,
        "start_time": "2025-01-06T09:05:59.013Z"
      },
      {
        "duration": 303,
        "start_time": "2025-01-06T09:05:59.470Z"
      },
      {
        "duration": 313,
        "start_time": "2025-01-06T09:05:59.878Z"
      },
      {
        "duration": 194,
        "start_time": "2025-01-06T09:06:00.194Z"
      },
      {
        "duration": 209,
        "start_time": "2025-01-06T09:06:00.534Z"
      },
      {
        "duration": 131,
        "start_time": "2025-01-06T09:06:00.983Z"
      },
      {
        "duration": 491,
        "start_time": "2025-01-06T09:06:01.422Z"
      },
      {
        "duration": 327,
        "start_time": "2025-01-06T09:06:01.915Z"
      },
      {
        "duration": 313,
        "start_time": "2025-01-06T09:06:02.358Z"
      },
      {
        "duration": 315,
        "start_time": "2025-01-06T09:06:02.889Z"
      },
      {
        "duration": 6,
        "start_time": "2025-01-06T09:06:03.361Z"
      },
      {
        "duration": 162,
        "start_time": "2025-01-06T09:06:04.294Z"
      },
      {
        "duration": 203,
        "start_time": "2025-01-06T09:06:05.007Z"
      },
      {
        "duration": 161,
        "start_time": "2025-01-06T09:06:05.769Z"
      },
      {
        "duration": 337,
        "start_time": "2025-01-06T09:06:06.433Z"
      },
      {
        "duration": 159,
        "start_time": "2025-01-06T09:06:07.120Z"
      },
      {
        "duration": 192,
        "start_time": "2025-01-06T09:06:07.814Z"
      },
      {
        "duration": 22,
        "start_time": "2025-01-06T09:06:09.077Z"
      },
      {
        "duration": 8,
        "start_time": "2025-01-06T09:06:09.509Z"
      },
      {
        "duration": 10,
        "start_time": "2025-01-06T09:06:09.772Z"
      },
      {
        "duration": 180,
        "start_time": "2025-01-06T09:06:10.238Z"
      },
      {
        "duration": 197,
        "start_time": "2025-01-06T09:06:11.056Z"
      },
      {
        "duration": 21,
        "start_time": "2025-01-06T09:06:31.804Z"
      },
      {
        "duration": 9,
        "start_time": "2025-01-06T09:06:32.325Z"
      },
      {
        "duration": 9,
        "start_time": "2025-01-06T09:06:32.837Z"
      },
      {
        "duration": 181,
        "start_time": "2025-01-06T09:06:33.587Z"
      },
      {
        "duration": 194,
        "start_time": "2025-01-06T09:06:35.029Z"
      },
      {
        "duration": 641,
        "start_time": "2025-01-06T09:14:38.292Z"
      },
      {
        "duration": 38,
        "start_time": "2025-01-06T09:19:52.585Z"
      },
      {
        "duration": 785,
        "start_time": "2025-01-06T09:23:36.470Z"
      },
      {
        "duration": 2667,
        "start_time": "2025-01-06T09:30:40.315Z"
      },
      {
        "duration": 20,
        "start_time": "2025-01-06T09:30:42.985Z"
      },
      {
        "duration": 5,
        "start_time": "2025-01-06T09:30:43.210Z"
      },
      {
        "duration": 203,
        "start_time": "2025-01-06T09:30:44.350Z"
      },
      {
        "duration": 317,
        "start_time": "2025-01-06T09:30:46.236Z"
      },
      {
        "duration": 305,
        "start_time": "2025-01-06T09:30:47.539Z"
      },
      {
        "duration": 323,
        "start_time": "2025-01-06T09:30:48.772Z"
      },
      {
        "duration": 310,
        "start_time": "2025-01-06T09:30:50.815Z"
      },
      {
        "duration": 470,
        "start_time": "2025-01-06T09:30:52.328Z"
      },
      {
        "duration": 183,
        "start_time": "2025-01-06T09:30:53.114Z"
      },
      {
        "duration": 205,
        "start_time": "2025-01-06T09:30:54.735Z"
      },
      {
        "duration": 136,
        "start_time": "2025-01-06T09:30:56.044Z"
      },
      {
        "duration": 307,
        "start_time": "2025-01-06T09:30:59.459Z"
      },
      {
        "duration": 329,
        "start_time": "2025-01-06T09:31:02.715Z"
      },
      {
        "duration": 326,
        "start_time": "2025-01-06T09:31:05.308Z"
      },
      {
        "duration": 300,
        "start_time": "2025-01-06T09:31:08.362Z"
      },
      {
        "duration": 6,
        "start_time": "2025-01-06T09:31:10.223Z"
      },
      {
        "duration": 852,
        "start_time": "2025-01-06T09:31:12.331Z"
      },
      {
        "duration": 36,
        "start_time": "2025-01-06T09:31:14.612Z"
      },
      {
        "duration": 624,
        "start_time": "2025-01-06T09:31:16.323Z"
      },
      {
        "duration": 167,
        "start_time": "2025-01-06T09:31:19.075Z"
      },
      {
        "duration": 197,
        "start_time": "2025-01-06T09:31:21.148Z"
      },
      {
        "duration": 164,
        "start_time": "2025-01-06T09:31:23.643Z"
      },
      {
        "duration": 184,
        "start_time": "2025-01-06T09:31:25.875Z"
      },
      {
        "duration": 162,
        "start_time": "2025-01-06T09:31:27.980Z"
      },
      {
        "duration": 175,
        "start_time": "2025-01-06T09:31:30.108Z"
      },
      {
        "duration": 23,
        "start_time": "2025-01-06T09:31:32.263Z"
      },
      {
        "duration": 9,
        "start_time": "2025-01-06T09:31:32.832Z"
      },
      {
        "duration": 9,
        "start_time": "2025-01-06T09:31:33.396Z"
      },
      {
        "duration": 179,
        "start_time": "2025-01-06T09:31:34.735Z"
      },
      {
        "duration": 183,
        "start_time": "2025-01-06T09:31:37.724Z"
      },
      {
        "duration": 3002,
        "start_time": "2025-01-06T10:20:23.129Z"
      },
      {
        "duration": 17,
        "start_time": "2025-01-06T10:20:26.133Z"
      },
      {
        "duration": 10,
        "start_time": "2025-01-06T10:20:26.152Z"
      },
      {
        "duration": 222,
        "start_time": "2025-01-06T10:20:26.164Z"
      },
      {
        "duration": 321,
        "start_time": "2025-01-06T10:20:26.388Z"
      },
      {
        "duration": 380,
        "start_time": "2025-01-06T10:20:26.711Z"
      },
      {
        "duration": 307,
        "start_time": "2025-01-06T10:20:27.093Z"
      },
      {
        "duration": 297,
        "start_time": "2025-01-06T10:20:27.402Z"
      },
      {
        "duration": 307,
        "start_time": "2025-01-06T10:20:27.701Z"
      },
      {
        "duration": 181,
        "start_time": "2025-01-06T10:20:28.011Z"
      },
      {
        "duration": 197,
        "start_time": "2025-01-06T10:20:28.194Z"
      },
      {
        "duration": 137,
        "start_time": "2025-01-06T10:20:28.393Z"
      },
      {
        "duration": 412,
        "start_time": "2025-01-06T10:20:28.532Z"
      },
      {
        "duration": 294,
        "start_time": "2025-01-06T10:20:28.947Z"
      },
      {
        "duration": 314,
        "start_time": "2025-01-06T10:20:29.243Z"
      },
      {
        "duration": 286,
        "start_time": "2025-01-06T10:20:29.558Z"
      },
      {
        "duration": 5,
        "start_time": "2025-01-06T10:20:29.845Z"
      },
      {
        "duration": 604,
        "start_time": "2025-01-06T10:20:29.851Z"
      },
      {
        "duration": 34,
        "start_time": "2025-01-06T10:20:30.456Z"
      },
      {
        "duration": 719,
        "start_time": "2025-01-06T10:20:30.491Z"
      },
      {
        "duration": 153,
        "start_time": "2025-01-06T10:20:31.212Z"
      },
      {
        "duration": 181,
        "start_time": "2025-01-06T10:20:31.367Z"
      },
      {
        "duration": 150,
        "start_time": "2025-01-06T10:20:31.549Z"
      },
      {
        "duration": 186,
        "start_time": "2025-01-06T10:20:31.701Z"
      },
      {
        "duration": 170,
        "start_time": "2025-01-06T10:20:31.889Z"
      },
      {
        "duration": 158,
        "start_time": "2025-01-06T10:20:32.061Z"
      },
      {
        "duration": 26,
        "start_time": "2025-01-06T10:20:32.220Z"
      },
      {
        "duration": 7,
        "start_time": "2025-01-06T10:20:32.249Z"
      },
      {
        "duration": 9,
        "start_time": "2025-01-06T10:20:32.257Z"
      },
      {
        "duration": 173,
        "start_time": "2025-01-06T10:20:32.268Z"
      },
      {
        "duration": 176,
        "start_time": "2025-01-06T10:20:32.443Z"
      },
      {
        "duration": 3005,
        "start_time": "2025-01-07T10:55:45.968Z"
      },
      {
        "duration": 16,
        "start_time": "2025-01-07T10:55:48.975Z"
      },
      {
        "duration": 3,
        "start_time": "2025-01-07T10:55:48.993Z"
      },
      {
        "duration": 196,
        "start_time": "2025-01-07T10:55:48.998Z"
      },
      {
        "duration": 371,
        "start_time": "2025-01-07T10:55:49.196Z"
      },
      {
        "duration": 252,
        "start_time": "2025-01-07T10:55:49.568Z"
      },
      {
        "duration": 2029,
        "start_time": "2025-01-07T10:58:18.274Z"
      },
      {
        "duration": 15,
        "start_time": "2025-01-07T10:58:20.305Z"
      },
      {
        "duration": 4,
        "start_time": "2025-01-07T10:58:20.321Z"
      },
      {
        "duration": 215,
        "start_time": "2025-01-07T10:58:20.326Z"
      },
      {
        "duration": 311,
        "start_time": "2025-01-07T10:58:20.543Z"
      },
      {
        "duration": 255,
        "start_time": "2025-01-07T10:58:20.856Z"
      },
      {
        "duration": 251,
        "start_time": "2025-01-07T10:58:21.235Z"
      },
      {
        "duration": 327,
        "start_time": "2025-01-07T10:58:22.307Z"
      },
      {
        "duration": 251,
        "start_time": "2025-01-07T10:58:23.049Z"
      },
      {
        "duration": 151,
        "start_time": "2025-01-07T10:58:23.307Z"
      },
      {
        "duration": 212,
        "start_time": "2025-01-07T10:58:23.781Z"
      },
      {
        "duration": 118,
        "start_time": "2025-01-07T10:58:24.451Z"
      },
      {
        "duration": 247,
        "start_time": "2025-01-07T10:58:25.008Z"
      },
      {
        "duration": 247,
        "start_time": "2025-01-07T10:58:25.434Z"
      },
      {
        "duration": 339,
        "start_time": "2025-01-07T10:58:25.867Z"
      },
      {
        "duration": 241,
        "start_time": "2025-01-07T10:58:26.281Z"
      },
      {
        "duration": 5,
        "start_time": "2025-01-07T10:58:26.698Z"
      },
      {
        "duration": 509,
        "start_time": "2025-01-07T10:58:27.410Z"
      },
      {
        "duration": 40,
        "start_time": "2025-01-07T10:58:27.920Z"
      },
      {
        "duration": 500,
        "start_time": "2025-01-07T10:58:28.298Z"
      },
      {
        "duration": 137,
        "start_time": "2025-01-07T10:58:29.826Z"
      },
      {
        "duration": 240,
        "start_time": "2025-01-07T10:58:30.617Z"
      },
      {
        "duration": 131,
        "start_time": "2025-01-07T10:58:31.268Z"
      },
      {
        "duration": 149,
        "start_time": "2025-01-07T10:58:31.889Z"
      },
      {
        "duration": 130,
        "start_time": "2025-01-07T10:58:32.713Z"
      },
      {
        "duration": 138,
        "start_time": "2025-01-07T10:58:33.546Z"
      },
      {
        "duration": 17,
        "start_time": "2025-01-07T10:58:34.329Z"
      },
      {
        "duration": 8,
        "start_time": "2025-01-07T10:58:34.590Z"
      },
      {
        "duration": 7,
        "start_time": "2025-01-07T10:58:34.801Z"
      },
      {
        "duration": 145,
        "start_time": "2025-01-07T10:58:35.498Z"
      },
      {
        "duration": 156,
        "start_time": "2025-01-07T10:58:36.750Z"
      },
      {
        "duration": 554,
        "start_time": "2025-01-12T14:32:02.791Z"
      },
      {
        "duration": 98,
        "start_time": "2025-01-12T14:32:11.279Z"
      },
      {
        "duration": 92,
        "start_time": "2025-01-12T14:33:52.877Z"
      },
      {
        "duration": 438,
        "start_time": "2025-01-12T14:37:49.074Z"
      },
      {
        "duration": 341,
        "start_time": "2025-01-12T14:38:20.571Z"
      },
      {
        "duration": 2488,
        "start_time": "2025-01-12T14:38:22.807Z"
      },
      {
        "duration": 2118,
        "start_time": "2025-01-12T14:39:08.424Z"
      },
      {
        "duration": 2100,
        "start_time": "2025-01-12T14:43:55.748Z"
      },
      {
        "duration": 16,
        "start_time": "2025-01-12T14:44:03.500Z"
      },
      {
        "duration": 15,
        "start_time": "2025-01-12T14:44:41.438Z"
      },
      {
        "duration": 17,
        "start_time": "2025-01-12T15:02:39.624Z"
      },
      {
        "duration": 16,
        "start_time": "2025-01-12T15:05:38.358Z"
      },
      {
        "duration": 2089,
        "start_time": "2025-01-12T15:06:23.393Z"
      },
      {
        "duration": 2385,
        "start_time": "2025-01-12T15:08:12.394Z"
      },
      {
        "duration": 2075,
        "start_time": "2025-01-12T15:09:34.407Z"
      },
      {
        "duration": 1995,
        "start_time": "2025-01-12T15:10:44.581Z"
      },
      {
        "duration": 2024,
        "start_time": "2025-01-12T15:13:27.901Z"
      },
      {
        "duration": 563,
        "start_time": "2025-01-12T15:13:54.597Z"
      },
      {
        "duration": 22,
        "start_time": "2025-01-12T15:13:55.786Z"
      },
      {
        "duration": 16,
        "start_time": "2025-01-12T15:13:56.952Z"
      },
      {
        "duration": 2059,
        "start_time": "2025-01-12T15:13:58.861Z"
      },
      {
        "duration": 800,
        "start_time": "2025-01-12T15:19:56.969Z"
      },
      {
        "duration": 17,
        "start_time": "2025-01-12T15:20:00.048Z"
      },
      {
        "duration": 15,
        "start_time": "2025-01-12T15:20:01.236Z"
      },
      {
        "duration": 2329,
        "start_time": "2025-01-12T15:20:03.825Z"
      },
      {
        "duration": 164,
        "start_time": "2025-01-12T15:37:58.482Z"
      },
      {
        "duration": 168,
        "start_time": "2025-01-12T15:38:50.394Z"
      },
      {
        "duration": 2683,
        "start_time": "2025-01-12T15:39:32.854Z"
      },
      {
        "duration": 3056,
        "start_time": "2025-01-12T15:39:53.583Z"
      },
      {
        "duration": 4602,
        "start_time": "2025-01-12T15:41:03.792Z"
      },
      {
        "duration": 4553,
        "start_time": "2025-01-12T15:46:52.318Z"
      },
      {
        "duration": 350,
        "start_time": "2025-01-12T15:54:43.490Z"
      },
      {
        "duration": 16,
        "start_time": "2025-01-12T15:54:44.795Z"
      },
      {
        "duration": 17,
        "start_time": "2025-01-12T15:54:46.430Z"
      },
      {
        "duration": 4505,
        "start_time": "2025-01-12T15:54:49.865Z"
      },
      {
        "duration": 4556,
        "start_time": "2025-01-12T16:46:36.352Z"
      },
      {
        "duration": 4695,
        "start_time": "2025-01-12T16:49:03.776Z"
      },
      {
        "duration": 9,
        "start_time": "2025-01-12T17:15:51.585Z"
      },
      {
        "duration": 8,
        "start_time": "2025-01-12T17:15:56.284Z"
      },
      {
        "duration": 6,
        "start_time": "2025-01-12T17:16:25.270Z"
      },
      {
        "duration": 6,
        "start_time": "2025-01-12T17:16:26.317Z"
      },
      {
        "duration": 5,
        "start_time": "2025-01-12T17:38:31.327Z"
      },
      {
        "duration": 5,
        "start_time": "2025-01-12T17:38:33.108Z"
      },
      {
        "duration": 5,
        "start_time": "2025-01-12T17:40:23.520Z"
      },
      {
        "duration": 5,
        "start_time": "2025-01-12T17:40:25.344Z"
      },
      {
        "duration": 7,
        "start_time": "2025-01-12T17:44:38.002Z"
      },
      {
        "duration": 7,
        "start_time": "2025-01-12T17:44:39.355Z"
      },
      {
        "duration": 14,
        "start_time": "2025-01-12T17:44:42.765Z"
      },
      {
        "duration": 85,
        "start_time": "2025-01-12T17:44:44.063Z"
      },
      {
        "duration": 7,
        "start_time": "2025-01-12T17:47:47.086Z"
      },
      {
        "duration": 7,
        "start_time": "2025-01-12T17:48:04.791Z"
      },
      {
        "duration": 4,
        "start_time": "2025-01-12T18:08:22.333Z"
      },
      {
        "duration": 10,
        "start_time": "2025-01-12T18:45:38.617Z"
      },
      {
        "duration": 6,
        "start_time": "2025-01-12T18:46:10.548Z"
      },
      {
        "duration": 10,
        "start_time": "2025-01-12T18:46:19.754Z"
      },
      {
        "duration": 185,
        "start_time": "2025-01-12T18:52:31.856Z"
      },
      {
        "duration": 8,
        "start_time": "2025-01-12T18:53:04.231Z"
      },
      {
        "duration": 318,
        "start_time": "2025-01-12T18:54:51.206Z"
      },
      {
        "duration": 305,
        "start_time": "2025-01-12T18:54:53.093Z"
      },
      {
        "duration": 311,
        "start_time": "2025-01-12T18:54:54.559Z"
      },
      {
        "duration": 339,
        "start_time": "2025-01-12T18:54:55.509Z"
      },
      {
        "duration": 313,
        "start_time": "2025-01-12T18:54:56.116Z"
      },
      {
        "duration": 192,
        "start_time": "2025-01-12T18:54:56.431Z"
      },
      {
        "duration": 198,
        "start_time": "2025-01-12T18:54:56.902Z"
      },
      {
        "duration": 121,
        "start_time": "2025-01-12T18:54:57.427Z"
      },
      {
        "duration": 302,
        "start_time": "2025-01-12T18:54:57.987Z"
      },
      {
        "duration": 326,
        "start_time": "2025-01-12T18:54:58.660Z"
      },
      {
        "duration": 312,
        "start_time": "2025-01-12T18:54:59.503Z"
      },
      {
        "duration": 311,
        "start_time": "2025-01-12T18:55:00.467Z"
      },
      {
        "duration": 7,
        "start_time": "2025-01-12T18:55:01.792Z"
      },
      {
        "duration": 726,
        "start_time": "2025-01-12T18:55:03.876Z"
      },
      {
        "duration": 39,
        "start_time": "2025-01-12T18:55:05.074Z"
      },
      {
        "duration": 696,
        "start_time": "2025-01-12T18:55:06.213Z"
      },
      {
        "duration": 175,
        "start_time": "2025-01-12T18:55:07.936Z"
      },
      {
        "duration": 195,
        "start_time": "2025-01-12T18:55:08.840Z"
      },
      {
        "duration": 173,
        "start_time": "2025-01-12T18:55:09.548Z"
      },
      {
        "duration": 206,
        "start_time": "2025-01-12T18:55:10.261Z"
      },
      {
        "duration": 162,
        "start_time": "2025-01-12T18:55:10.996Z"
      },
      {
        "duration": 181,
        "start_time": "2025-01-12T18:55:12.165Z"
      },
      {
        "duration": 20,
        "start_time": "2025-01-12T18:55:13.419Z"
      },
      {
        "duration": 8,
        "start_time": "2025-01-12T18:55:13.656Z"
      },
      {
        "duration": 8,
        "start_time": "2025-01-12T18:55:13.928Z"
      },
      {
        "duration": 175,
        "start_time": "2025-01-12T18:55:14.348Z"
      },
      {
        "duration": 197,
        "start_time": "2025-01-12T18:55:15.070Z"
      },
      {
        "duration": 7105,
        "start_time": "2025-01-12T18:57:29.156Z"
      },
      {
        "duration": 52,
        "start_time": "2025-01-15T17:31:04.021Z"
      },
      {
        "duration": 1858,
        "start_time": "2025-01-15T17:31:10.829Z"
      },
      {
        "duration": 19,
        "start_time": "2025-01-15T17:31:13.779Z"
      },
      {
        "duration": 17,
        "start_time": "2025-01-15T17:31:14.985Z"
      },
      {
        "duration": 4153,
        "start_time": "2025-01-15T17:31:17.058Z"
      },
      {
        "duration": 5,
        "start_time": "2025-01-15T17:33:51.687Z"
      },
      {
        "duration": 8,
        "start_time": "2025-01-15T17:33:53.451Z"
      },
      {
        "duration": 8,
        "start_time": "2025-01-15T17:33:54.703Z"
      },
      {
        "duration": 8,
        "start_time": "2025-01-15T17:33:56.195Z"
      },
      {
        "duration": 6,
        "start_time": "2025-01-15T17:33:57.779Z"
      },
      {
        "duration": 4,
        "start_time": "2025-01-15T17:33:59.387Z"
      },
      {
        "duration": 5,
        "start_time": "2025-01-15T17:34:38.447Z"
      },
      {
        "duration": 3,
        "start_time": "2025-01-15T17:34:39.901Z"
      },
      {
        "duration": 9,
        "start_time": "2025-01-15T17:34:42.144Z"
      },
      {
        "duration": 9,
        "start_time": "2025-01-15T17:37:19.648Z"
      },
      {
        "duration": 10,
        "start_time": "2025-01-15T17:45:01.105Z"
      },
      {
        "duration": 201,
        "start_time": "2025-01-15T18:12:30.433Z"
      },
      {
        "duration": 85,
        "start_time": "2025-01-15T18:44:02.935Z"
      },
      {
        "duration": 97,
        "start_time": "2025-01-15T18:44:19.902Z"
      },
      {
        "duration": 499,
        "start_time": "2025-01-15T18:48:45.844Z"
      },
      {
        "duration": 317,
        "start_time": "2025-01-15T18:53:27.571Z"
      },
      {
        "duration": 318,
        "start_time": "2025-01-15T18:55:20.076Z"
      },
      {
        "duration": 365,
        "start_time": "2025-01-15T18:55:37.396Z"
      },
      {
        "duration": 17,
        "start_time": "2025-01-15T18:55:38.735Z"
      },
      {
        "duration": 18,
        "start_time": "2025-01-15T18:55:39.820Z"
      },
      {
        "duration": 4165,
        "start_time": "2025-01-15T18:55:41.572Z"
      },
      {
        "duration": 6,
        "start_time": "2025-01-15T18:55:47.639Z"
      },
      {
        "duration": 8,
        "start_time": "2025-01-15T18:55:49.351Z"
      },
      {
        "duration": 7,
        "start_time": "2025-01-15T18:55:50.837Z"
      },
      {
        "duration": 8,
        "start_time": "2025-01-15T18:55:52.847Z"
      },
      {
        "duration": 4,
        "start_time": "2025-01-15T18:55:54.312Z"
      },
      {
        "duration": 4,
        "start_time": "2025-01-15T18:55:55.720Z"
      },
      {
        "duration": 11,
        "start_time": "2025-01-15T18:55:57.316Z"
      },
      {
        "duration": 186,
        "start_time": "2025-01-15T18:55:59.503Z"
      },
      {
        "duration": 8,
        "start_time": "2025-01-15T18:56:00.428Z"
      },
      {
        "duration": 550,
        "start_time": "2025-01-15T18:56:04.366Z"
      },
      {
        "duration": 322,
        "start_time": "2025-01-15T19:04:26.284Z"
      },
      {
        "duration": 314,
        "start_time": "2025-01-15T19:18:20.688Z"
      },
      {
        "duration": 1868,
        "start_time": "2025-01-16T17:27:16.687Z"
      },
      {
        "duration": 20,
        "start_time": "2025-01-16T17:27:18.557Z"
      },
      {
        "duration": 19,
        "start_time": "2025-01-16T17:27:18.997Z"
      },
      {
        "duration": 4280,
        "start_time": "2025-01-16T17:27:21.567Z"
      },
      {
        "duration": 6,
        "start_time": "2025-01-16T17:41:08.331Z"
      },
      {
        "duration": 9,
        "start_time": "2025-01-16T17:41:10.580Z"
      },
      {
        "duration": 9,
        "start_time": "2025-01-16T17:41:11.933Z"
      },
      {
        "duration": 8,
        "start_time": "2025-01-16T17:41:15.439Z"
      },
      {
        "duration": 6,
        "start_time": "2025-01-16T17:41:16.821Z"
      },
      {
        "duration": 5,
        "start_time": "2025-01-16T17:41:18.668Z"
      },
      {
        "duration": 11,
        "start_time": "2025-01-16T17:41:26.655Z"
      },
      {
        "duration": 201,
        "start_time": "2025-01-16T17:41:30.354Z"
      },
      {
        "duration": 9,
        "start_time": "2025-01-16T17:41:30.811Z"
      },
      {
        "duration": 502,
        "start_time": "2025-01-16T17:43:06.608Z"
      },
      {
        "duration": 303,
        "start_time": "2025-01-16T17:58:55.771Z"
      },
      {
        "duration": 115,
        "start_time": "2025-01-16T17:59:22.173Z"
      },
      {
        "duration": 294,
        "start_time": "2025-01-16T18:00:11.486Z"
      },
      {
        "duration": 290,
        "start_time": "2025-01-16T18:10:14.973Z"
      },
      {
        "duration": 92,
        "start_time": "2025-01-16T18:12:49.164Z"
      },
      {
        "duration": 87,
        "start_time": "2025-01-16T18:16:41.481Z"
      },
      {
        "duration": 294,
        "start_time": "2025-01-16T18:16:43.487Z"
      },
      {
        "duration": 315,
        "start_time": "2025-01-16T18:16:48.358Z"
      },
      {
        "duration": 93,
        "start_time": "2025-01-16T18:16:50.898Z"
      },
      {
        "duration": 93,
        "start_time": "2025-01-16T18:16:59.876Z"
      },
      {
        "duration": 506,
        "start_time": "2025-01-16T18:17:02.691Z"
      },
      {
        "duration": 93,
        "start_time": "2025-01-16T18:17:07.884Z"
      },
      {
        "duration": 105,
        "start_time": "2025-01-16T18:18:46.787Z"
      },
      {
        "duration": 325,
        "start_time": "2025-01-16T18:18:58.462Z"
      },
      {
        "duration": 96,
        "start_time": "2025-01-16T18:19:51.085Z"
      },
      {
        "duration": 121,
        "start_time": "2025-01-16T18:22:08.038Z"
      },
      {
        "duration": 314,
        "start_time": "2025-01-16T18:24:32.870Z"
      },
      {
        "duration": 98,
        "start_time": "2025-01-16T18:24:35.849Z"
      },
      {
        "duration": 99,
        "start_time": "2025-01-16T18:24:48.518Z"
      },
      {
        "duration": 347,
        "start_time": "2025-01-16T18:25:17.643Z"
      },
      {
        "duration": 101,
        "start_time": "2025-01-16T18:33:19.400Z"
      },
      {
        "duration": 345,
        "start_time": "2025-01-16T18:33:55.266Z"
      },
      {
        "duration": 25,
        "start_time": "2025-01-16T18:36:05.638Z"
      },
      {
        "duration": 13,
        "start_time": "2025-01-16T18:36:22.301Z"
      },
      {
        "duration": 123,
        "start_time": "2025-01-16T18:37:37.613Z"
      },
      {
        "duration": 609,
        "start_time": "2025-01-16T18:38:13.197Z"
      },
      {
        "duration": 374,
        "start_time": "2025-01-16T18:39:31.926Z"
      },
      {
        "duration": 375,
        "start_time": "2025-01-16T18:41:04.106Z"
      },
      {
        "duration": 347,
        "start_time": "2025-01-16T18:42:17.337Z"
      },
      {
        "duration": 342,
        "start_time": "2025-01-16T18:42:33.275Z"
      },
      {
        "duration": 206,
        "start_time": "2025-01-16T18:44:21.989Z"
      },
      {
        "duration": 227,
        "start_time": "2025-01-16T18:45:15.426Z"
      },
      {
        "duration": 179,
        "start_time": "2025-01-16T18:45:40.477Z"
      },
      {
        "duration": 187,
        "start_time": "2025-01-16T18:45:55.025Z"
      },
      {
        "duration": 187,
        "start_time": "2025-01-16T18:46:26.329Z"
      },
      {
        "duration": 337,
        "start_time": "2025-01-16T18:46:41.257Z"
      },
      {
        "duration": 372,
        "start_time": "2025-01-16T18:46:52.411Z"
      },
      {
        "duration": 744,
        "start_time": "2025-01-16T18:47:26.297Z"
      },
      {
        "duration": 25,
        "start_time": "2025-01-16T18:47:27.212Z"
      },
      {
        "duration": 24,
        "start_time": "2025-01-16T18:47:28.138Z"
      },
      {
        "duration": 5233,
        "start_time": "2025-01-16T18:47:29.393Z"
      },
      {
        "duration": 26,
        "start_time": "2025-01-16T18:47:34.631Z"
      },
      {
        "duration": 10,
        "start_time": "2025-01-16T18:47:34.660Z"
      },
      {
        "duration": 26,
        "start_time": "2025-01-16T18:47:34.673Z"
      },
      {
        "duration": 28,
        "start_time": "2025-01-16T18:47:34.701Z"
      },
      {
        "duration": 5,
        "start_time": "2025-01-16T18:47:35.114Z"
      },
      {
        "duration": 4,
        "start_time": "2025-01-16T18:47:35.858Z"
      },
      {
        "duration": 10,
        "start_time": "2025-01-16T18:47:37.085Z"
      },
      {
        "duration": 253,
        "start_time": "2025-01-16T18:47:39.621Z"
      },
      {
        "duration": 8,
        "start_time": "2025-01-16T18:47:40.314Z"
      },
      {
        "duration": 715,
        "start_time": "2025-01-16T18:47:42.878Z"
      },
      {
        "duration": 400,
        "start_time": "2025-01-16T18:47:45.114Z"
      },
      {
        "duration": 103,
        "start_time": "2025-01-16T18:47:46.879Z"
      },
      {
        "duration": 367,
        "start_time": "2025-01-16T18:47:48.690Z"
      },
      {
        "duration": 371,
        "start_time": "2025-01-16T18:47:50.933Z"
      },
      {
        "duration": 378,
        "start_time": "2025-01-16T18:47:55.895Z"
      },
      {
        "duration": 354,
        "start_time": "2025-01-16T18:49:11.019Z"
      },
      {
        "duration": 346,
        "start_time": "2025-01-16T18:49:26.466Z"
      },
      {
        "duration": 171,
        "start_time": "2025-01-16T18:49:35.011Z"
      },
      {
        "duration": 173,
        "start_time": "2025-01-16T18:49:42.790Z"
      },
      {
        "duration": 362,
        "start_time": "2025-01-16T18:49:55.474Z"
      },
      {
        "duration": 420,
        "start_time": "2025-01-16T18:50:09.379Z"
      },
      {
        "duration": 17,
        "start_time": "2025-01-16T18:50:12.765Z"
      },
      {
        "duration": 23,
        "start_time": "2025-01-16T18:50:13.834Z"
      },
      {
        "duration": 5133,
        "start_time": "2025-01-16T18:50:15.274Z"
      },
      {
        "duration": 6,
        "start_time": "2025-01-16T18:50:20.409Z"
      },
      {
        "duration": 20,
        "start_time": "2025-01-16T18:50:20.416Z"
      },
      {
        "duration": 10,
        "start_time": "2025-01-16T18:50:20.439Z"
      },
      {
        "duration": 8,
        "start_time": "2025-01-16T18:50:21.213Z"
      },
      {
        "duration": 5,
        "start_time": "2025-01-16T18:50:22.196Z"
      },
      {
        "duration": 4,
        "start_time": "2025-01-16T18:50:23.114Z"
      },
      {
        "duration": 22,
        "start_time": "2025-01-16T18:50:24.529Z"
      },
      {
        "duration": 225,
        "start_time": "2025-01-16T18:50:26.000Z"
      },
      {
        "duration": 8,
        "start_time": "2025-01-16T18:50:26.501Z"
      },
      {
        "duration": 389,
        "start_time": "2025-01-16T18:50:27.874Z"
      },
      {
        "duration": 332,
        "start_time": "2025-01-16T18:50:29.519Z"
      },
      {
        "duration": 90,
        "start_time": "2025-01-16T18:50:31.167Z"
      },
      {
        "duration": 308,
        "start_time": "2025-01-16T18:50:32.674Z"
      },
      {
        "duration": 325,
        "start_time": "2025-01-16T18:50:34.842Z"
      },
      {
        "duration": 351,
        "start_time": "2025-01-16T18:50:36.891Z"
      },
      {
        "duration": 365,
        "start_time": "2025-01-16T18:51:50.604Z"
      },
      {
        "duration": 119,
        "start_time": "2025-01-16T18:52:17.161Z"
      },
      {
        "duration": 201,
        "start_time": "2025-01-16T18:55:37.686Z"
      },
      {
        "duration": 192,
        "start_time": "2025-01-16T18:55:52.813Z"
      },
      {
        "duration": 119,
        "start_time": "2025-01-16T18:56:28.235Z"
      },
      {
        "duration": 135,
        "start_time": "2025-01-16T18:58:24.423Z"
      },
      {
        "duration": 201,
        "start_time": "2025-01-16T19:00:44.809Z"
      },
      {
        "duration": 112,
        "start_time": "2025-01-16T19:00:45.768Z"
      },
      {
        "duration": 117,
        "start_time": "2025-01-16T19:00:46.768Z"
      },
      {
        "duration": 219,
        "start_time": "2025-01-16T19:00:48.441Z"
      },
      {
        "duration": 210,
        "start_time": "2025-01-16T19:01:17.081Z"
      },
      {
        "duration": 108,
        "start_time": "2025-01-16T19:02:43.729Z"
      },
      {
        "duration": 14,
        "start_time": "2025-01-16T19:39:16.654Z"
      },
      {
        "duration": 48050,
        "start_time": "2025-01-16T19:39:46.762Z"
      },
      {
        "duration": 462,
        "start_time": "2025-01-16T19:45:39.503Z"
      },
      {
        "duration": 32,
        "start_time": "2025-01-16T19:45:40.525Z"
      },
      {
        "duration": 23,
        "start_time": "2025-01-16T19:45:41.535Z"
      },
      {
        "duration": 5201,
        "start_time": "2025-01-16T19:45:42.801Z"
      },
      {
        "duration": 8,
        "start_time": "2025-01-16T19:45:48.005Z"
      },
      {
        "duration": 19,
        "start_time": "2025-01-16T19:45:48.030Z"
      },
      {
        "duration": 10,
        "start_time": "2025-01-16T19:45:48.058Z"
      },
      {
        "duration": 7,
        "start_time": "2025-01-16T19:45:48.070Z"
      },
      {
        "duration": 6,
        "start_time": "2025-01-16T19:45:48.670Z"
      },
      {
        "duration": 4,
        "start_time": "2025-01-16T19:45:49.825Z"
      },
      {
        "duration": 10,
        "start_time": "2025-01-16T19:45:52.505Z"
      },
      {
        "duration": 236,
        "start_time": "2025-01-16T19:45:55.202Z"
      },
      {
        "duration": 17,
        "start_time": "2025-01-16T19:45:55.943Z"
      },
      {
        "duration": 937,
        "start_time": "2025-01-16T19:45:58.925Z"
      },
      {
        "duration": 395,
        "start_time": "2025-01-16T19:46:04.712Z"
      },
      {
        "duration": 105,
        "start_time": "2025-01-16T19:46:06.117Z"
      },
      {
        "duration": 359,
        "start_time": "2025-01-16T19:46:07.667Z"
      },
      {
        "duration": 369,
        "start_time": "2025-01-16T19:46:09.518Z"
      },
      {
        "duration": 370,
        "start_time": "2025-01-16T19:46:11.478Z"
      },
      {
        "duration": 123,
        "start_time": "2025-01-16T19:46:13.450Z"
      },
      {
        "duration": 203,
        "start_time": "2025-01-16T19:46:15.812Z"
      },
      {
        "duration": 118,
        "start_time": "2025-01-16T19:46:19.856Z"
      },
      {
        "duration": 224,
        "start_time": "2025-01-16T19:46:21.462Z"
      },
      {
        "duration": 107,
        "start_time": "2025-01-16T19:46:22.507Z"
      },
      {
        "duration": 5,
        "start_time": "2025-01-16T19:46:33.181Z"
      },
      {
        "duration": 128,
        "start_time": "2025-01-16T19:47:22.343Z"
      },
      {
        "duration": 209,
        "start_time": "2025-01-16T19:49:52.175Z"
      },
      {
        "duration": 248,
        "start_time": "2025-01-16T19:50:08.357Z"
      },
      {
        "duration": 5,
        "start_time": "2025-01-16T19:50:37.264Z"
      },
      {
        "duration": 118,
        "start_time": "2025-01-16T19:50:40.467Z"
      },
      {
        "duration": 4,
        "start_time": "2025-01-16T19:54:16.394Z"
      },
      {
        "duration": 144,
        "start_time": "2025-01-16T19:54:18.515Z"
      },
      {
        "duration": 135,
        "start_time": "2025-01-16T19:55:02.869Z"
      },
      {
        "duration": 151,
        "start_time": "2025-01-16T19:57:53.971Z"
      },
      {
        "duration": 350,
        "start_time": "2025-01-16T19:58:31.751Z"
      },
      {
        "duration": 226,
        "start_time": "2025-01-16T19:58:49.759Z"
      },
      {
        "duration": 106,
        "start_time": "2025-01-16T20:01:51.746Z"
      },
      {
        "duration": 383,
        "start_time": "2025-01-16T20:04:55.626Z"
      },
      {
        "duration": 102,
        "start_time": "2025-01-16T20:06:23.976Z"
      },
      {
        "duration": 121,
        "start_time": "2025-01-16T20:06:45.639Z"
      },
      {
        "duration": 364,
        "start_time": "2025-01-16T20:08:57.292Z"
      },
      {
        "duration": 97,
        "start_time": "2025-01-16T20:11:00.258Z"
      },
      {
        "duration": 333,
        "start_time": "2025-01-16T20:11:11.648Z"
      },
      {
        "duration": 339,
        "start_time": "2025-01-16T20:11:39.053Z"
      },
      {
        "duration": 305,
        "start_time": "2025-01-16T20:11:43.382Z"
      },
      {
        "duration": 321,
        "start_time": "2025-01-16T20:13:32.578Z"
      },
      {
        "duration": 341,
        "start_time": "2025-01-16T20:14:21.423Z"
      },
      {
        "duration": 7,
        "start_time": "2025-01-16T20:15:16.355Z"
      },
      {
        "duration": 104,
        "start_time": "2025-01-16T20:16:26.315Z"
      },
      {
        "duration": 5,
        "start_time": "2025-01-16T20:16:32.615Z"
      },
      {
        "duration": 94,
        "start_time": "2025-01-16T20:25:45.009Z"
      },
      {
        "duration": 318,
        "start_time": "2025-01-16T20:28:41.859Z"
      },
      {
        "duration": 959,
        "start_time": "2025-01-16T20:28:43.459Z"
      },
      {
        "duration": 108,
        "start_time": "2025-01-16T20:33:57.669Z"
      },
      {
        "duration": 205,
        "start_time": "2025-01-16T20:37:57.892Z"
      },
      {
        "duration": 183,
        "start_time": "2025-01-16T21:00:14.386Z"
      },
      {
        "duration": 187,
        "start_time": "2025-01-16T21:00:31.775Z"
      },
      {
        "duration": 195,
        "start_time": "2025-01-16T21:00:52.388Z"
      },
      {
        "duration": 183,
        "start_time": "2025-01-16T21:00:59.080Z"
      },
      {
        "duration": 195,
        "start_time": "2025-01-16T21:01:58.789Z"
      },
      {
        "duration": 176,
        "start_time": "2025-01-16T21:03:37.644Z"
      },
      {
        "duration": 174,
        "start_time": "2025-01-16T21:04:00.421Z"
      },
      {
        "duration": 12,
        "start_time": "2025-01-16T21:11:01.272Z"
      },
      {
        "duration": 11,
        "start_time": "2025-01-16T21:11:16.268Z"
      },
      {
        "duration": 9,
        "start_time": "2025-01-16T21:11:24.520Z"
      },
      {
        "duration": 160,
        "start_time": "2025-01-16T21:14:05.478Z"
      },
      {
        "duration": 376,
        "start_time": "2025-01-16T21:14:20.754Z"
      },
      {
        "duration": 18,
        "start_time": "2025-01-16T21:14:21.895Z"
      },
      {
        "duration": 15,
        "start_time": "2025-01-16T21:14:22.655Z"
      },
      {
        "duration": 4661,
        "start_time": "2025-01-16T21:14:23.303Z"
      },
      {
        "duration": 7,
        "start_time": "2025-01-16T21:14:27.966Z"
      },
      {
        "duration": 11,
        "start_time": "2025-01-16T21:14:27.974Z"
      },
      {
        "duration": 8,
        "start_time": "2025-01-16T21:14:27.987Z"
      },
      {
        "duration": 36,
        "start_time": "2025-01-16T21:14:27.996Z"
      },
      {
        "duration": 5,
        "start_time": "2025-01-16T21:14:28.034Z"
      },
      {
        "duration": 4,
        "start_time": "2025-01-16T21:14:28.041Z"
      },
      {
        "duration": 17,
        "start_time": "2025-01-16T21:14:28.047Z"
      },
      {
        "duration": 205,
        "start_time": "2025-01-16T21:14:29.214Z"
      },
      {
        "duration": 9,
        "start_time": "2025-01-16T21:14:29.774Z"
      },
      {
        "duration": 346,
        "start_time": "2025-01-16T21:14:31.278Z"
      },
      {
        "duration": 323,
        "start_time": "2025-01-16T21:14:32.500Z"
      },
      {
        "duration": 95,
        "start_time": "2025-01-16T21:14:33.970Z"
      },
      {
        "duration": 311,
        "start_time": "2025-01-16T21:14:36.168Z"
      },
      {
        "duration": 305,
        "start_time": "2025-01-16T21:14:38.998Z"
      },
      {
        "duration": 309,
        "start_time": "2025-01-16T21:14:43.555Z"
      },
      {
        "duration": 107,
        "start_time": "2025-01-16T21:14:45.223Z"
      },
      {
        "duration": 174,
        "start_time": "2025-01-16T21:14:46.514Z"
      },
      {
        "duration": 99,
        "start_time": "2025-01-16T21:14:48.101Z"
      },
      {
        "duration": 202,
        "start_time": "2025-01-16T21:14:49.578Z"
      },
      {
        "duration": 92,
        "start_time": "2025-01-16T21:14:51.019Z"
      },
      {
        "duration": 5,
        "start_time": "2025-01-16T21:14:53.044Z"
      },
      {
        "duration": 103,
        "start_time": "2025-01-16T21:14:53.619Z"
      },
      {
        "duration": 124,
        "start_time": "2025-01-16T21:14:55.753Z"
      },
      {
        "duration": 202,
        "start_time": "2025-01-16T21:14:57.968Z"
      },
      {
        "duration": 314,
        "start_time": "2025-01-16T21:15:00.847Z"
      },
      {
        "duration": 322,
        "start_time": "2025-01-16T21:15:02.251Z"
      },
      {
        "duration": 305,
        "start_time": "2025-01-16T21:15:03.566Z"
      },
      {
        "duration": 6,
        "start_time": "2025-01-16T21:15:05.032Z"
      },
      {
        "duration": 5,
        "start_time": "2025-01-16T21:19:36.629Z"
      },
      {
        "duration": 10,
        "start_time": "2025-01-16T21:22:26.737Z"
      },
      {
        "duration": 5,
        "start_time": "2025-01-16T21:22:36.298Z"
      },
      {
        "duration": 6,
        "start_time": "2025-01-16T21:23:00.012Z"
      },
      {
        "duration": 5,
        "start_time": "2025-01-16T21:23:07.739Z"
      },
      {
        "duration": 5,
        "start_time": "2025-01-16T21:23:11.645Z"
      },
      {
        "duration": 5,
        "start_time": "2025-01-16T21:24:25.569Z"
      },
      {
        "duration": 1323,
        "start_time": "2025-01-16T21:32:36.904Z"
      },
      {
        "duration": 19,
        "start_time": "2025-01-16T21:33:31.208Z"
      },
      {
        "duration": 17,
        "start_time": "2025-01-16T21:35:21.209Z"
      },
      {
        "duration": 114,
        "start_time": "2025-01-16T21:38:29.281Z"
      },
      {
        "duration": 145,
        "start_time": "2025-01-16T21:38:48.544Z"
      },
      {
        "duration": 378,
        "start_time": "2025-01-16T21:39:48.745Z"
      },
      {
        "duration": 17,
        "start_time": "2025-01-16T21:39:49.448Z"
      },
      {
        "duration": 17,
        "start_time": "2025-01-16T21:39:49.824Z"
      },
      {
        "duration": 4733,
        "start_time": "2025-01-16T21:39:50.663Z"
      },
      {
        "duration": 6,
        "start_time": "2025-01-16T21:39:55.398Z"
      },
      {
        "duration": 20,
        "start_time": "2025-01-16T21:39:55.405Z"
      },
      {
        "duration": 8,
        "start_time": "2025-01-16T21:39:55.430Z"
      },
      {
        "duration": 7,
        "start_time": "2025-01-16T21:39:55.440Z"
      },
      {
        "duration": 5,
        "start_time": "2025-01-16T21:39:55.449Z"
      },
      {
        "duration": 4,
        "start_time": "2025-01-16T21:39:55.455Z"
      },
      {
        "duration": 10,
        "start_time": "2025-01-16T21:39:55.461Z"
      },
      {
        "duration": 193,
        "start_time": "2025-01-16T21:39:56.364Z"
      },
      {
        "duration": 9,
        "start_time": "2025-01-16T21:39:56.614Z"
      },
      {
        "duration": 361,
        "start_time": "2025-01-16T21:39:58.114Z"
      },
      {
        "duration": 309,
        "start_time": "2025-01-16T21:39:59.584Z"
      },
      {
        "duration": 92,
        "start_time": "2025-01-16T21:40:00.624Z"
      },
      {
        "duration": 301,
        "start_time": "2025-01-16T21:40:01.538Z"
      },
      {
        "duration": 310,
        "start_time": "2025-01-16T21:40:02.240Z"
      },
      {
        "duration": 314,
        "start_time": "2025-01-16T21:40:03.100Z"
      },
      {
        "duration": 9,
        "start_time": "2025-01-16T21:40:04.065Z"
      },
      {
        "duration": 129,
        "start_time": "2025-01-16T21:40:04.594Z"
      },
      {
        "duration": 107,
        "start_time": "2025-01-16T21:40:05.873Z"
      },
      {
        "duration": 373,
        "start_time": "2025-01-16T21:40:55.428Z"
      },
      {
        "duration": 18,
        "start_time": "2025-01-16T21:40:55.820Z"
      },
      {
        "duration": 16,
        "start_time": "2025-01-16T21:40:56.248Z"
      },
      {
        "duration": 4779,
        "start_time": "2025-01-16T21:40:56.944Z"
      },
      {
        "duration": 8,
        "start_time": "2025-01-16T21:41:01.725Z"
      },
      {
        "duration": 31,
        "start_time": "2025-01-16T21:41:01.734Z"
      },
      {
        "duration": 27,
        "start_time": "2025-01-16T21:41:01.768Z"
      },
      {
        "duration": 10,
        "start_time": "2025-01-16T21:41:01.797Z"
      },
      {
        "duration": 22,
        "start_time": "2025-01-16T21:41:01.808Z"
      },
      {
        "duration": 20,
        "start_time": "2025-01-16T21:41:01.832Z"
      },
      {
        "duration": 12,
        "start_time": "2025-01-16T21:41:02.181Z"
      },
      {
        "duration": 194,
        "start_time": "2025-01-16T21:41:03.613Z"
      },
      {
        "duration": 7,
        "start_time": "2025-01-16T21:41:04.050Z"
      },
      {
        "duration": 325,
        "start_time": "2025-01-16T21:41:05.483Z"
      },
      {
        "duration": 324,
        "start_time": "2025-01-16T21:41:08.274Z"
      },
      {
        "duration": 92,
        "start_time": "2025-01-16T21:41:08.753Z"
      },
      {
        "duration": 307,
        "start_time": "2025-01-16T21:41:09.213Z"
      },
      {
        "duration": 300,
        "start_time": "2025-01-16T21:41:10.444Z"
      },
      {
        "duration": 308,
        "start_time": "2025-01-16T21:41:12.159Z"
      },
      {
        "duration": 9,
        "start_time": "2025-01-16T21:41:13.978Z"
      },
      {
        "duration": 15,
        "start_time": "2025-01-16T21:41:14.773Z"
      },
      {
        "duration": 86,
        "start_time": "2025-01-16T21:41:17.414Z"
      },
      {
        "duration": 14,
        "start_time": "2025-01-16T21:43:01.392Z"
      },
      {
        "duration": 308,
        "start_time": "2025-01-16T21:43:41.883Z"
      },
      {
        "duration": 91,
        "start_time": "2025-01-16T21:45:01.776Z"
      },
      {
        "duration": 14,
        "start_time": "2025-01-16T21:45:07.670Z"
      },
      {
        "duration": 118,
        "start_time": "2025-01-16T21:45:10.138Z"
      },
      {
        "duration": 176,
        "start_time": "2025-01-16T21:45:58.403Z"
      },
      {
        "duration": 101,
        "start_time": "2025-01-16T21:46:13.584Z"
      },
      {
        "duration": 214,
        "start_time": "2025-01-16T21:46:15.269Z"
      },
      {
        "duration": 94,
        "start_time": "2025-01-16T21:46:16.842Z"
      },
      {
        "duration": 6,
        "start_time": "2025-01-16T21:46:25.263Z"
      },
      {
        "duration": 113,
        "start_time": "2025-01-16T21:46:25.719Z"
      },
      {
        "duration": 131,
        "start_time": "2025-01-16T21:46:27.336Z"
      },
      {
        "duration": 200,
        "start_time": "2025-01-16T21:46:29.107Z"
      },
      {
        "duration": 325,
        "start_time": "2025-01-16T21:46:30.097Z"
      },
      {
        "duration": 317,
        "start_time": "2025-01-16T21:46:31.081Z"
      },
      {
        "duration": 291,
        "start_time": "2025-01-16T21:46:32.066Z"
      },
      {
        "duration": 6,
        "start_time": "2025-01-16T21:46:33.297Z"
      },
      {
        "duration": 632,
        "start_time": "2025-01-16T21:49:09.105Z"
      },
      {
        "duration": 1543,
        "start_time": "2025-01-16T21:52:20.576Z"
      },
      {
        "duration": 424,
        "start_time": "2025-01-16T21:54:20.006Z"
      },
      {
        "duration": 409,
        "start_time": "2025-01-16T21:56:05.298Z"
      },
      {
        "duration": 416,
        "start_time": "2025-01-16T21:56:20.954Z"
      },
      {
        "duration": 471,
        "start_time": "2025-01-16T21:56:47.921Z"
      },
      {
        "duration": 425,
        "start_time": "2025-01-16T21:57:25.383Z"
      },
      {
        "duration": 84,
        "start_time": "2025-01-16T21:59:37.822Z"
      },
      {
        "duration": 428,
        "start_time": "2025-01-16T21:59:51.904Z"
      },
      {
        "duration": 417,
        "start_time": "2025-01-16T22:00:22.189Z"
      },
      {
        "duration": 1871,
        "start_time": "2025-01-17T16:02:05.746Z"
      },
      {
        "duration": 20,
        "start_time": "2025-01-17T16:02:09.283Z"
      },
      {
        "duration": 16,
        "start_time": "2025-01-17T16:02:09.304Z"
      },
      {
        "duration": 549,
        "start_time": "2025-01-17T16:02:21.882Z"
      },
      {
        "duration": 28,
        "start_time": "2025-01-17T16:02:40.441Z"
      },
      {
        "duration": 76,
        "start_time": "2025-01-17T16:02:40.471Z"
      },
      {
        "duration": 4666,
        "start_time": "2025-01-17T16:02:59.659Z"
      },
      {
        "duration": 379,
        "start_time": "2025-01-17T16:03:28.981Z"
      },
      {
        "duration": 4390,
        "start_time": "2025-01-17T16:04:15.713Z"
      },
      {
        "duration": 9,
        "start_time": "2025-01-17T16:05:28.235Z"
      },
      {
        "duration": 8,
        "start_time": "2025-01-17T16:05:30.463Z"
      },
      {
        "duration": 9,
        "start_time": "2025-01-17T16:05:32.454Z"
      },
      {
        "duration": 10,
        "start_time": "2025-01-17T16:05:33.744Z"
      },
      {
        "duration": 6,
        "start_time": "2025-01-17T16:05:35.170Z"
      },
      {
        "duration": 7,
        "start_time": "2025-01-17T16:05:37.151Z"
      },
      {
        "duration": 10,
        "start_time": "2025-01-17T16:05:40.324Z"
      },
      {
        "duration": 214,
        "start_time": "2025-01-17T16:05:44.160Z"
      },
      {
        "duration": 7,
        "start_time": "2025-01-17T16:05:45.321Z"
      },
      {
        "duration": 405,
        "start_time": "2025-01-17T16:05:48.291Z"
      },
      {
        "duration": 325,
        "start_time": "2025-01-17T16:05:53.881Z"
      },
      {
        "duration": 89,
        "start_time": "2025-01-17T16:05:55.883Z"
      },
      {
        "duration": 330,
        "start_time": "2025-01-17T16:05:57.496Z"
      },
      {
        "duration": 335,
        "start_time": "2025-01-17T16:05:58.772Z"
      },
      {
        "duration": 342,
        "start_time": "2025-01-17T16:06:00.037Z"
      },
      {
        "duration": 9,
        "start_time": "2025-01-17T16:06:01.311Z"
      },
      {
        "duration": 14,
        "start_time": "2025-01-17T16:06:01.780Z"
      },
      {
        "duration": 172,
        "start_time": "2025-01-17T16:06:02.529Z"
      },
      {
        "duration": 95,
        "start_time": "2025-01-17T16:06:03.363Z"
      },
      {
        "duration": 187,
        "start_time": "2025-01-17T16:06:03.911Z"
      },
      {
        "duration": 90,
        "start_time": "2025-01-17T16:06:04.417Z"
      },
      {
        "duration": 6,
        "start_time": "2025-01-17T16:06:06.156Z"
      },
      {
        "duration": 111,
        "start_time": "2025-01-17T16:06:06.890Z"
      },
      {
        "duration": 138,
        "start_time": "2025-01-17T16:06:08.601Z"
      },
      {
        "duration": 209,
        "start_time": "2025-01-17T16:06:10.931Z"
      },
      {
        "duration": 305,
        "start_time": "2025-01-17T16:06:13.616Z"
      },
      {
        "duration": 363,
        "start_time": "2025-01-17T16:06:28.216Z"
      },
      {
        "duration": 317,
        "start_time": "2025-01-17T16:06:30.996Z"
      },
      {
        "duration": 6,
        "start_time": "2025-01-17T16:06:41.803Z"
      },
      {
        "duration": 460,
        "start_time": "2025-01-17T16:08:10.547Z"
      },
      {
        "duration": 4,
        "start_time": "2025-01-17T16:12:39.333Z"
      },
      {
        "duration": 359,
        "start_time": "2025-01-17T16:13:02.428Z"
      },
      {
        "duration": 213,
        "start_time": "2025-01-17T16:15:26.162Z"
      },
      {
        "duration": 364,
        "start_time": "2025-01-17T16:16:30.800Z"
      },
      {
        "duration": 441,
        "start_time": "2025-01-17T16:16:50.175Z"
      },
      {
        "duration": 409,
        "start_time": "2025-01-17T16:18:21.984Z"
      },
      {
        "duration": 402,
        "start_time": "2025-01-17T16:29:22.497Z"
      },
      {
        "duration": 395,
        "start_time": "2025-01-17T16:30:40.239Z"
      },
      {
        "duration": 12,
        "start_time": "2025-01-17T16:32:01.491Z"
      },
      {
        "duration": 101,
        "start_time": "2025-01-17T16:32:41.138Z"
      },
      {
        "duration": 291,
        "start_time": "2025-01-17T16:32:47.409Z"
      },
      {
        "duration": 9,
        "start_time": "2025-01-17T16:32:51.499Z"
      },
      {
        "duration": 12,
        "start_time": "2025-01-17T16:32:53.669Z"
      },
      {
        "duration": 12,
        "start_time": "2025-01-17T16:34:24.193Z"
      },
      {
        "duration": 10,
        "start_time": "2025-01-17T16:34:45.184Z"
      },
      {
        "duration": 9,
        "start_time": "2025-01-17T16:35:03.515Z"
      },
      {
        "duration": 12,
        "start_time": "2025-01-17T16:44:12.180Z"
      },
      {
        "duration": 90,
        "start_time": "2025-01-17T16:47:43.072Z"
      },
      {
        "duration": 10,
        "start_time": "2025-01-17T16:47:49.117Z"
      },
      {
        "duration": 12,
        "start_time": "2025-01-17T16:48:05.302Z"
      },
      {
        "duration": 926,
        "start_time": "2025-01-17T16:57:25.677Z"
      },
      {
        "duration": 10,
        "start_time": "2025-01-17T17:00:24.245Z"
      },
      {
        "duration": 75,
        "start_time": "2025-01-17T17:02:48.424Z"
      },
      {
        "duration": 90,
        "start_time": "2025-01-17T17:03:37.199Z"
      },
      {
        "duration": 11,
        "start_time": "2025-01-17T17:03:57.453Z"
      },
      {
        "duration": 93,
        "start_time": "2025-01-17T17:07:03.068Z"
      },
      {
        "duration": 9,
        "start_time": "2025-01-17T17:07:10.894Z"
      },
      {
        "duration": 124,
        "start_time": "2025-01-17T17:08:13.291Z"
      },
      {
        "duration": 79,
        "start_time": "2025-01-17T17:08:32.166Z"
      },
      {
        "duration": 135,
        "start_time": "2025-01-17T17:09:30.182Z"
      },
      {
        "duration": 127,
        "start_time": "2025-01-17T17:09:35.793Z"
      },
      {
        "duration": 17,
        "start_time": "2025-01-17T17:09:43.089Z"
      },
      {
        "duration": 89,
        "start_time": "2025-01-17T17:10:05.394Z"
      },
      {
        "duration": 88,
        "start_time": "2025-01-17T17:10:31.291Z"
      },
      {
        "duration": 86,
        "start_time": "2025-01-17T17:11:33.992Z"
      },
      {
        "duration": 476,
        "start_time": "2025-01-17T17:13:13.964Z"
      },
      {
        "duration": 636,
        "start_time": "2025-01-17T17:13:52.136Z"
      },
      {
        "duration": 656,
        "start_time": "2025-01-17T17:14:56.549Z"
      },
      {
        "duration": 694,
        "start_time": "2025-01-17T17:15:07.893Z"
      },
      {
        "duration": 8,
        "start_time": "2025-01-17T17:15:42.146Z"
      },
      {
        "duration": 9,
        "start_time": "2025-01-17T17:15:49.313Z"
      },
      {
        "duration": 9,
        "start_time": "2025-01-17T17:16:14.541Z"
      },
      {
        "duration": 6,
        "start_time": "2025-01-17T17:16:15.542Z"
      },
      {
        "duration": 8,
        "start_time": "2025-01-17T17:17:38.254Z"
      },
      {
        "duration": 7,
        "start_time": "2025-01-17T17:18:25.000Z"
      },
      {
        "duration": 11,
        "start_time": "2025-01-17T17:33:00.797Z"
      },
      {
        "duration": 91,
        "start_time": "2025-01-17T17:33:02.154Z"
      },
      {
        "duration": 668,
        "start_time": "2025-01-17T17:33:02.869Z"
      },
      {
        "duration": 9,
        "start_time": "2025-01-17T17:33:03.539Z"
      },
      {
        "duration": 6,
        "start_time": "2025-01-17T17:33:04.650Z"
      },
      {
        "duration": 147,
        "start_time": "2025-01-17T17:37:55.492Z"
      },
      {
        "duration": 21,
        "start_time": "2025-01-17T17:40:47.521Z"
      },
      {
        "duration": 3,
        "start_time": "2025-01-17T17:41:02.161Z"
      },
      {
        "duration": 138,
        "start_time": "2025-01-17T17:41:03.389Z"
      },
      {
        "duration": 14,
        "start_time": "2025-01-17T17:41:05.902Z"
      },
      {
        "duration": 6,
        "start_time": "2025-01-17T17:41:08.043Z"
      },
      {
        "duration": 21,
        "start_time": "2025-01-17T17:42:27.438Z"
      },
      {
        "duration": 137,
        "start_time": "2025-01-17T17:46:11.573Z"
      },
      {
        "duration": 128,
        "start_time": "2025-01-17T17:49:39.898Z"
      },
      {
        "duration": 13,
        "start_time": "2025-01-17T17:50:30.066Z"
      },
      {
        "duration": 5,
        "start_time": "2025-01-17T17:52:37.510Z"
      },
      {
        "duration": 21,
        "start_time": "2025-01-17T17:58:21.439Z"
      },
      {
        "duration": 22,
        "start_time": "2025-01-17T17:58:25.090Z"
      },
      {
        "duration": 163,
        "start_time": "2025-01-17T17:58:26.428Z"
      },
      {
        "duration": 13,
        "start_time": "2025-01-17T17:59:30.194Z"
      },
      {
        "duration": 6,
        "start_time": "2025-01-17T17:59:31.535Z"
      },
      {
        "duration": 33,
        "start_time": "2025-01-17T18:05:00.138Z"
      },
      {
        "duration": 24,
        "start_time": "2025-01-17T18:10:13.668Z"
      },
      {
        "duration": 124,
        "start_time": "2025-01-17T18:10:38.732Z"
      },
      {
        "duration": 13,
        "start_time": "2025-01-17T18:10:44.216Z"
      },
      {
        "duration": 5,
        "start_time": "2025-01-17T18:11:00.016Z"
      },
      {
        "duration": 23,
        "start_time": "2025-01-17T18:11:40.188Z"
      },
      {
        "duration": 127,
        "start_time": "2025-01-17T18:11:43.887Z"
      },
      {
        "duration": 16,
        "start_time": "2025-01-17T18:11:46.717Z"
      },
      {
        "duration": 6,
        "start_time": "2025-01-17T18:11:49.843Z"
      },
      {
        "duration": 6,
        "start_time": "2025-01-17T18:12:07.124Z"
      },
      {
        "duration": 12,
        "start_time": "2025-01-17T18:16:00.120Z"
      },
      {
        "duration": 102,
        "start_time": "2025-01-17T18:17:25.539Z"
      },
      {
        "duration": 11,
        "start_time": "2025-01-17T18:17:52.823Z"
      },
      {
        "duration": 11,
        "start_time": "2025-01-17T18:18:44.573Z"
      },
      {
        "duration": 14,
        "start_time": "2025-01-17T18:18:45.636Z"
      },
      {
        "duration": 134,
        "start_time": "2025-01-17T18:19:05.041Z"
      },
      {
        "duration": 6,
        "start_time": "2025-01-17T18:19:25.492Z"
      },
      {
        "duration": 5,
        "start_time": "2025-01-17T18:19:34.448Z"
      },
      {
        "duration": 20,
        "start_time": "2025-01-17T18:20:55.713Z"
      },
      {
        "duration": 171,
        "start_time": "2025-01-17T18:20:58.215Z"
      },
      {
        "duration": 6,
        "start_time": "2025-01-17T18:21:01.533Z"
      },
      {
        "duration": 20,
        "start_time": "2025-01-17T18:23:03.811Z"
      },
      {
        "duration": 123,
        "start_time": "2025-01-17T18:23:04.692Z"
      },
      {
        "duration": 5,
        "start_time": "2025-01-17T18:23:06.409Z"
      },
      {
        "duration": 24,
        "start_time": "2025-01-17T18:27:23.575Z"
      },
      {
        "duration": 131,
        "start_time": "2025-01-17T18:27:54.193Z"
      },
      {
        "duration": 6,
        "start_time": "2025-01-17T18:27:56.542Z"
      },
      {
        "duration": 105,
        "start_time": "2025-01-17T18:27:57.610Z"
      },
      {
        "duration": 21,
        "start_time": "2025-01-17T18:28:20.825Z"
      },
      {
        "duration": 22,
        "start_time": "2025-01-17T18:30:22.874Z"
      },
      {
        "duration": 147,
        "start_time": "2025-01-17T18:30:24.414Z"
      },
      {
        "duration": 5,
        "start_time": "2025-01-17T18:30:28.071Z"
      },
      {
        "duration": 24,
        "start_time": "2025-01-17T18:30:33.986Z"
      },
      {
        "duration": 129,
        "start_time": "2025-01-17T18:30:35.405Z"
      },
      {
        "duration": 5,
        "start_time": "2025-01-17T18:30:44.616Z"
      },
      {
        "duration": 23,
        "start_time": "2025-01-17T18:30:48.139Z"
      },
      {
        "duration": 133,
        "start_time": "2025-01-17T18:30:50.110Z"
      },
      {
        "duration": 126,
        "start_time": "2025-01-17T18:32:21.843Z"
      },
      {
        "duration": 5,
        "start_time": "2025-01-17T18:32:54.756Z"
      },
      {
        "duration": 128,
        "start_time": "2025-01-17T18:35:54.257Z"
      },
      {
        "duration": 5,
        "start_time": "2025-01-17T18:35:55.229Z"
      },
      {
        "duration": 9,
        "start_time": "2025-01-17T18:36:37.243Z"
      },
      {
        "duration": 143,
        "start_time": "2025-01-17T18:36:56.330Z"
      },
      {
        "duration": 152,
        "start_time": "2025-01-17T18:37:14.059Z"
      },
      {
        "duration": 144,
        "start_time": "2025-01-17T18:40:18.034Z"
      },
      {
        "duration": 427,
        "start_time": "2025-01-17T18:42:32.083Z"
      },
      {
        "duration": 152,
        "start_time": "2025-01-17T18:43:31.332Z"
      },
      {
        "duration": 148,
        "start_time": "2025-01-17T18:44:42.217Z"
      },
      {
        "duration": 164,
        "start_time": "2025-01-17T18:45:45.158Z"
      },
      {
        "duration": 157,
        "start_time": "2025-01-17T18:45:54.196Z"
      },
      {
        "duration": 157,
        "start_time": "2025-01-17T18:46:07.906Z"
      },
      {
        "duration": 6,
        "start_time": "2025-01-17T18:46:43.656Z"
      },
      {
        "duration": 19,
        "start_time": "2025-01-17T18:51:34.903Z"
      },
      {
        "duration": 9,
        "start_time": "2025-01-17T18:51:41.062Z"
      },
      {
        "duration": 11,
        "start_time": "2025-01-17T18:52:01.554Z"
      },
      {
        "duration": 7,
        "start_time": "2025-01-17T18:52:20.029Z"
      },
      {
        "duration": 23,
        "start_time": "2025-01-17T18:53:57.473Z"
      },
      {
        "duration": 36,
        "start_time": "2025-01-17T18:54:26.457Z"
      },
      {
        "duration": 20,
        "start_time": "2025-01-17T18:54:43.611Z"
      },
      {
        "duration": 33,
        "start_time": "2025-01-17T18:55:43.738Z"
      },
      {
        "duration": 24,
        "start_time": "2025-01-17T18:56:55.056Z"
      },
      {
        "duration": 21,
        "start_time": "2025-01-17T18:59:18.480Z"
      },
      {
        "duration": 35,
        "start_time": "2025-01-17T18:59:26.983Z"
      },
      {
        "duration": 21,
        "start_time": "2025-01-17T18:59:46.211Z"
      },
      {
        "duration": 184,
        "start_time": "2025-01-17T19:04:40.049Z"
      },
      {
        "duration": 165,
        "start_time": "2025-01-17T19:07:11.242Z"
      },
      {
        "duration": 194,
        "start_time": "2025-01-17T19:07:28.087Z"
      },
      {
        "duration": 165,
        "start_time": "2025-01-17T19:07:47.031Z"
      },
      {
        "duration": 157,
        "start_time": "2025-01-17T19:10:04.667Z"
      },
      {
        "duration": 164,
        "start_time": "2025-01-17T19:10:14.981Z"
      },
      {
        "duration": 170,
        "start_time": "2025-01-17T19:10:24.078Z"
      },
      {
        "duration": 163,
        "start_time": "2025-01-17T19:15:53.292Z"
      },
      {
        "duration": 1442,
        "start_time": "2025-01-17T19:20:31.639Z"
      },
      {
        "duration": 1539,
        "start_time": "2025-01-17T19:20:50.008Z"
      },
      {
        "duration": 161,
        "start_time": "2025-01-17T19:21:05.949Z"
      },
      {
        "duration": 12,
        "start_time": "2025-01-17T19:23:08.689Z"
      },
      {
        "duration": 12,
        "start_time": "2025-01-17T19:23:22.002Z"
      },
      {
        "duration": 160,
        "start_time": "2025-01-17T19:23:33.774Z"
      },
      {
        "duration": 5,
        "start_time": "2025-01-17T19:28:23.412Z"
      },
      {
        "duration": 177,
        "start_time": "2025-01-17T19:31:18.007Z"
      },
      {
        "duration": 171,
        "start_time": "2025-01-17T19:36:52.529Z"
      },
      {
        "duration": 169,
        "start_time": "2025-01-17T19:39:22.242Z"
      },
      {
        "duration": 801,
        "start_time": "2025-01-17T20:20:22.692Z"
      },
      {
        "duration": 149,
        "start_time": "2025-01-17T20:21:53.928Z"
      },
      {
        "duration": 157,
        "start_time": "2025-01-17T20:21:59.155Z"
      },
      {
        "duration": 84,
        "start_time": "2025-01-17T20:23:40.949Z"
      },
      {
        "duration": 84,
        "start_time": "2025-01-17T20:25:44.784Z"
      },
      {
        "duration": 1830,
        "start_time": "2025-01-18T09:08:21.853Z"
      },
      {
        "duration": 18,
        "start_time": "2025-01-18T09:08:27.104Z"
      },
      {
        "duration": 16,
        "start_time": "2025-01-18T09:08:31.092Z"
      },
      {
        "duration": 7,
        "start_time": "2025-01-18T09:11:04.730Z"
      },
      {
        "duration": 9,
        "start_time": "2025-01-18T09:11:08.731Z"
      },
      {
        "duration": 5,
        "start_time": "2025-01-18T09:11:37.144Z"
      },
      {
        "duration": 4,
        "start_time": "2025-01-18T09:11:50.280Z"
      },
      {
        "duration": 9,
        "start_time": "2025-01-18T09:11:53.487Z"
      },
      {
        "duration": 7,
        "start_time": "2025-01-18T09:14:48.493Z"
      },
      {
        "duration": 305,
        "start_time": "2025-01-18T09:14:50.737Z"
      },
      {
        "duration": 263,
        "start_time": "2025-01-18T09:14:58.706Z"
      },
      {
        "duration": 126,
        "start_time": "2025-01-18T09:15:01.086Z"
      },
      {
        "duration": 250,
        "start_time": "2025-01-18T09:17:27.674Z"
      },
      {
        "duration": 10,
        "start_time": "2025-01-18T09:21:16.685Z"
      },
      {
        "duration": 5,
        "start_time": "2025-01-18T09:21:44.843Z"
      },
      {
        "duration": 5,
        "start_time": "2025-01-18T09:21:51.583Z"
      },
      {
        "duration": 5,
        "start_time": "2025-01-18T09:21:57.098Z"
      },
      {
        "duration": 7,
        "start_time": "2025-01-18T09:22:01.885Z"
      },
      {
        "duration": 5,
        "start_time": "2025-01-18T09:22:06.170Z"
      },
      {
        "duration": 5,
        "start_time": "2025-01-18T09:23:15.247Z"
      },
      {
        "duration": 4,
        "start_time": "2025-01-18T09:24:04.143Z"
      },
      {
        "duration": 5,
        "start_time": "2025-01-18T09:24:08.269Z"
      },
      {
        "duration": 5,
        "start_time": "2025-01-18T09:24:14.150Z"
      },
      {
        "duration": 5,
        "start_time": "2025-01-18T09:26:29.789Z"
      },
      {
        "duration": 245,
        "start_time": "2025-01-18T09:26:31.746Z"
      },
      {
        "duration": 270,
        "start_time": "2025-01-18T09:26:49.425Z"
      },
      {
        "duration": 73,
        "start_time": "2025-01-18T09:28:53.689Z"
      },
      {
        "duration": 76,
        "start_time": "2025-01-18T09:29:27.257Z"
      },
      {
        "duration": 276,
        "start_time": "2025-01-18T09:29:33.978Z"
      },
      {
        "duration": 318,
        "start_time": "2025-01-18T09:29:36.808Z"
      },
      {
        "duration": 5,
        "start_time": "2025-01-18T09:29:56.003Z"
      },
      {
        "duration": 12,
        "start_time": "2025-01-18T09:30:02.034Z"
      },
      {
        "duration": 12,
        "start_time": "2025-01-18T09:30:35.395Z"
      },
      {
        "duration": 12,
        "start_time": "2025-01-18T09:31:34.447Z"
      },
      {
        "duration": 11,
        "start_time": "2025-01-18T09:31:50.704Z"
      },
      {
        "duration": 5,
        "start_time": "2025-01-18T09:33:16.783Z"
      },
      {
        "duration": 314,
        "start_time": "2025-01-18T09:34:15.098Z"
      },
      {
        "duration": 18,
        "start_time": "2025-01-18T09:34:17.208Z"
      },
      {
        "duration": 17,
        "start_time": "2025-01-18T09:34:18.728Z"
      },
      {
        "duration": 3308,
        "start_time": "2025-01-18T09:34:21.371Z"
      },
      {
        "duration": 10,
        "start_time": "2025-01-18T09:34:25.606Z"
      },
      {
        "duration": 6,
        "start_time": "2025-01-18T09:34:27.111Z"
      },
      {
        "duration": 7,
        "start_time": "2025-01-18T09:34:28.048Z"
      },
      {
        "duration": 5,
        "start_time": "2025-01-18T09:34:29.023Z"
      },
      {
        "duration": 5,
        "start_time": "2025-01-18T09:34:30.746Z"
      },
      {
        "duration": 4,
        "start_time": "2025-01-18T09:34:32.012Z"
      },
      {
        "duration": 9,
        "start_time": "2025-01-18T09:34:33.667Z"
      },
      {
        "duration": 191,
        "start_time": "2025-01-18T09:34:36.084Z"
      },
      {
        "duration": 7,
        "start_time": "2025-01-18T09:34:36.788Z"
      },
      {
        "duration": 417,
        "start_time": "2025-01-18T09:34:38.997Z"
      },
      {
        "duration": 242,
        "start_time": "2025-01-18T09:34:42.496Z"
      },
      {
        "duration": 75,
        "start_time": "2025-01-18T09:34:48.721Z"
      },
      {
        "duration": 6,
        "start_time": "2025-01-18T09:35:02.431Z"
      },
      {
        "duration": 5,
        "start_time": "2025-01-18T09:35:15.400Z"
      },
      {
        "duration": 246,
        "start_time": "2025-01-18T09:35:46.091Z"
      },
      {
        "duration": 247,
        "start_time": "2025-01-18T09:35:54.143Z"
      },
      {
        "duration": 246,
        "start_time": "2025-01-18T09:35:55.769Z"
      },
      {
        "duration": 5,
        "start_time": "2025-01-18T09:35:59.029Z"
      },
      {
        "duration": 11,
        "start_time": "2025-01-18T09:35:59.920Z"
      },
      {
        "duration": 143,
        "start_time": "2025-01-18T09:36:02.903Z"
      },
      {
        "duration": 86,
        "start_time": "2025-01-18T09:36:16.762Z"
      },
      {
        "duration": 164,
        "start_time": "2025-01-18T09:36:26.104Z"
      },
      {
        "duration": 5,
        "start_time": "2025-01-18T09:37:09.859Z"
      },
      {
        "duration": 101,
        "start_time": "2025-01-18T09:37:11.450Z"
      },
      {
        "duration": 102,
        "start_time": "2025-01-18T09:37:39.175Z"
      },
      {
        "duration": 163,
        "start_time": "2025-01-18T09:37:41.348Z"
      },
      {
        "duration": 390,
        "start_time": "2025-01-18T09:37:43.325Z"
      },
      {
        "duration": 254,
        "start_time": "2025-01-18T09:37:49.839Z"
      },
      {
        "duration": 83,
        "start_time": "2025-01-18T09:38:51.136Z"
      },
      {
        "duration": 81,
        "start_time": "2025-01-18T09:39:31.964Z"
      },
      {
        "duration": 256,
        "start_time": "2025-01-18T09:41:20.819Z"
      },
      {
        "duration": 79,
        "start_time": "2025-01-18T09:41:41.502Z"
      },
      {
        "duration": 263,
        "start_time": "2025-01-18T09:42:16.622Z"
      },
      {
        "duration": 86,
        "start_time": "2025-01-18T09:48:21.046Z"
      },
      {
        "duration": 239,
        "start_time": "2025-01-18T09:48:23.610Z"
      },
      {
        "duration": 11,
        "start_time": "2025-01-18T09:48:36.011Z"
      },
      {
        "duration": 9,
        "start_time": "2025-01-18T09:49:00.435Z"
      },
      {
        "duration": 82,
        "start_time": "2025-01-18T09:49:02.916Z"
      },
      {
        "duration": 740,
        "start_time": "2025-01-18T09:49:04.586Z"
      },
      {
        "duration": 7,
        "start_time": "2025-01-18T09:49:06.714Z"
      },
      {
        "duration": 6,
        "start_time": "2025-01-18T09:49:07.705Z"
      },
      {
        "duration": 24,
        "start_time": "2025-01-18T09:49:26.028Z"
      },
      {
        "duration": 119,
        "start_time": "2025-01-18T09:49:26.662Z"
      },
      {
        "duration": 5,
        "start_time": "2025-01-18T09:49:27.173Z"
      },
      {
        "duration": 22,
        "start_time": "2025-01-18T09:49:29.323Z"
      },
      {
        "duration": 143,
        "start_time": "2025-01-18T09:49:29.780Z"
      },
      {
        "duration": 5,
        "start_time": "2025-01-18T09:49:30.259Z"
      },
      {
        "duration": 22,
        "start_time": "2025-01-18T09:49:31.731Z"
      },
      {
        "duration": 122,
        "start_time": "2025-01-18T09:49:32.223Z"
      },
      {
        "duration": 7,
        "start_time": "2025-01-18T09:49:32.717Z"
      },
      {
        "duration": 20,
        "start_time": "2025-01-18T09:49:34.072Z"
      },
      {
        "duration": 123,
        "start_time": "2025-01-18T09:49:34.572Z"
      },
      {
        "duration": 5,
        "start_time": "2025-01-18T09:49:35.058Z"
      },
      {
        "duration": 132,
        "start_time": "2025-01-18T09:49:36.597Z"
      },
      {
        "duration": 144,
        "start_time": "2025-01-18T09:49:38.334Z"
      },
      {
        "duration": 148,
        "start_time": "2025-01-18T09:49:39.052Z"
      },
      {
        "duration": 78,
        "start_time": "2025-01-18T09:49:39.288Z"
      },
      {
        "duration": 141,
        "start_time": "2025-01-18T09:49:39.550Z"
      },
      {
        "duration": 21,
        "start_time": "2025-01-18T09:49:40.780Z"
      },
      {
        "duration": 9,
        "start_time": "2025-01-18T09:49:41.798Z"
      },
      {
        "duration": 7,
        "start_time": "2025-01-18T09:49:42.100Z"
      },
      {
        "duration": 141,
        "start_time": "2025-01-18T09:49:43.115Z"
      },
      {
        "duration": 151,
        "start_time": "2025-01-18T09:49:44.759Z"
      },
      {
        "duration": 135,
        "start_time": "2025-01-18T09:54:33.008Z"
      },
      {
        "duration": 139,
        "start_time": "2025-01-18T09:54:44.999Z"
      },
      {
        "duration": 149,
        "start_time": "2025-01-18T10:02:30.583Z"
      },
      {
        "duration": 309,
        "start_time": "2025-01-18T10:12:10.440Z"
      },
      {
        "duration": 14,
        "start_time": "2025-01-18T10:12:11.583Z"
      },
      {
        "duration": 13,
        "start_time": "2025-01-18T10:12:12.088Z"
      },
      {
        "duration": 3529,
        "start_time": "2025-01-18T10:12:12.760Z"
      },
      {
        "duration": 6,
        "start_time": "2025-01-18T10:12:16.291Z"
      },
      {
        "duration": 34,
        "start_time": "2025-01-18T10:12:16.298Z"
      },
      {
        "duration": 17,
        "start_time": "2025-01-18T10:12:16.333Z"
      },
      {
        "duration": 5,
        "start_time": "2025-01-18T10:12:16.351Z"
      },
      {
        "duration": 35,
        "start_time": "2025-01-18T10:12:16.357Z"
      },
      {
        "duration": 14,
        "start_time": "2025-01-18T10:12:16.394Z"
      },
      {
        "duration": 11,
        "start_time": "2025-01-18T10:12:16.667Z"
      },
      {
        "duration": 191,
        "start_time": "2025-01-18T10:12:17.388Z"
      },
      {
        "duration": 7,
        "start_time": "2025-01-18T10:12:17.613Z"
      },
      {
        "duration": 478,
        "start_time": "2025-01-18T10:12:18.300Z"
      },
      {
        "duration": 277,
        "start_time": "2025-01-18T10:12:19.255Z"
      },
      {
        "duration": 74,
        "start_time": "2025-01-18T10:12:19.757Z"
      },
      {
        "duration": 7,
        "start_time": "2025-01-18T10:12:20.493Z"
      },
      {
        "duration": 242,
        "start_time": "2025-01-18T10:12:20.917Z"
      },
      {
        "duration": 244,
        "start_time": "2025-01-18T10:12:21.376Z"
      },
      {
        "duration": 245,
        "start_time": "2025-01-18T10:12:21.888Z"
      },
      {
        "duration": 5,
        "start_time": "2025-01-18T10:12:22.784Z"
      },
      {
        "duration": 12,
        "start_time": "2025-01-18T10:12:23.189Z"
      },
      {
        "duration": 142,
        "start_time": "2025-01-18T10:12:24.009Z"
      },
      {
        "duration": 97,
        "start_time": "2025-01-18T10:12:24.845Z"
      },
      {
        "duration": 167,
        "start_time": "2025-01-18T10:12:25.769Z"
      },
      {
        "duration": 80,
        "start_time": "2025-01-18T10:12:26.670Z"
      },
      {
        "duration": 5,
        "start_time": "2025-01-18T10:12:28.094Z"
      },
      {
        "duration": 92,
        "start_time": "2025-01-18T10:12:28.580Z"
      },
      {
        "duration": 103,
        "start_time": "2025-01-18T10:12:29.570Z"
      },
      {
        "duration": 160,
        "start_time": "2025-01-18T10:12:30.310Z"
      },
      {
        "duration": 253,
        "start_time": "2025-01-18T10:12:31.133Z"
      },
      {
        "duration": 82,
        "start_time": "2025-01-18T10:12:31.565Z"
      },
      {
        "duration": 267,
        "start_time": "2025-01-18T10:12:32.539Z"
      },
      {
        "duration": 272,
        "start_time": "2025-01-18T10:12:33.246Z"
      },
      {
        "duration": 88,
        "start_time": "2025-01-18T10:12:35.043Z"
      },
      {
        "duration": 531,
        "start_time": "2025-01-18T10:12:35.521Z"
      },
      {
        "duration": 11,
        "start_time": "2025-01-18T10:12:36.488Z"
      },
      {
        "duration": 11,
        "start_time": "2025-01-18T10:12:37.399Z"
      },
      {
        "duration": 83,
        "start_time": "2025-01-18T10:12:38.304Z"
      },
      {
        "duration": 587,
        "start_time": "2025-01-18T10:12:38.743Z"
      },
      {
        "duration": 8,
        "start_time": "2025-01-18T10:12:39.331Z"
      },
      {
        "duration": 6,
        "start_time": "2025-01-18T10:12:39.541Z"
      },
      {
        "duration": 23,
        "start_time": "2025-01-18T10:12:41.073Z"
      },
      {
        "duration": 115,
        "start_time": "2025-01-18T10:12:41.564Z"
      },
      {
        "duration": 5,
        "start_time": "2025-01-18T10:12:41.893Z"
      },
      {
        "duration": 22,
        "start_time": "2025-01-18T10:12:43.035Z"
      },
      {
        "duration": 129,
        "start_time": "2025-01-18T10:12:43.366Z"
      },
      {
        "duration": 4,
        "start_time": "2025-01-18T10:12:43.776Z"
      },
      {
        "duration": 21,
        "start_time": "2025-01-18T10:12:44.900Z"
      },
      {
        "duration": 117,
        "start_time": "2025-01-18T10:12:45.321Z"
      },
      {
        "duration": 5,
        "start_time": "2025-01-18T10:12:45.736Z"
      },
      {
        "duration": 20,
        "start_time": "2025-01-18T10:12:46.887Z"
      },
      {
        "duration": 122,
        "start_time": "2025-01-18T10:12:47.126Z"
      },
      {
        "duration": 7,
        "start_time": "2025-01-18T10:12:47.584Z"
      },
      {
        "duration": 132,
        "start_time": "2025-01-18T10:12:48.654Z"
      },
      {
        "duration": 142,
        "start_time": "2025-01-18T10:12:49.781Z"
      },
      {
        "duration": 143,
        "start_time": "2025-01-18T10:12:50.655Z"
      },
      {
        "duration": 141,
        "start_time": "2025-01-18T10:12:51.484Z"
      },
      {
        "duration": 19,
        "start_time": "2025-01-18T10:12:53.110Z"
      },
      {
        "duration": 8,
        "start_time": "2025-01-18T10:12:54.089Z"
      },
      {
        "duration": 7,
        "start_time": "2025-01-18T10:12:54.579Z"
      },
      {
        "duration": 146,
        "start_time": "2025-01-18T10:12:56.092Z"
      },
      {
        "duration": 112,
        "start_time": "2025-01-18T10:13:51.935Z"
      },
      {
        "duration": 0,
        "start_time": "2025-01-18T10:19:15.453Z"
      },
      {
        "duration": 180,
        "start_time": "2025-01-18T10:19:22.099Z"
      },
      {
        "duration": 174,
        "start_time": "2025-01-18T10:23:17.502Z"
      },
      {
        "duration": 138,
        "start_time": "2025-01-18T10:23:29.850Z"
      },
      {
        "duration": 179,
        "start_time": "2025-01-18T10:23:53.947Z"
      },
      {
        "duration": 177,
        "start_time": "2025-01-18T10:24:02.950Z"
      },
      {
        "duration": 1619,
        "start_time": "2025-01-18T19:27:02.530Z"
      },
      {
        "duration": 17,
        "start_time": "2025-01-18T19:27:04.153Z"
      },
      {
        "duration": 26,
        "start_time": "2025-01-18T19:27:04.171Z"
      },
      {
        "duration": 3745,
        "start_time": "2025-01-18T19:27:04.199Z"
      },
      {
        "duration": 5,
        "start_time": "2025-01-18T19:27:07.946Z"
      },
      {
        "duration": 19,
        "start_time": "2025-01-18T19:27:07.953Z"
      },
      {
        "duration": 7,
        "start_time": "2025-01-18T19:27:07.974Z"
      },
      {
        "duration": 7,
        "start_time": "2025-01-18T19:27:07.982Z"
      },
      {
        "duration": 24,
        "start_time": "2025-01-18T19:27:07.991Z"
      },
      {
        "duration": 4,
        "start_time": "2025-01-18T19:27:08.017Z"
      },
      {
        "duration": 8,
        "start_time": "2025-01-18T19:27:08.023Z"
      },
      {
        "duration": 190,
        "start_time": "2025-01-18T19:27:08.033Z"
      },
      {
        "duration": 8,
        "start_time": "2025-01-18T19:27:08.224Z"
      },
      {
        "duration": 311,
        "start_time": "2025-01-18T19:27:08.234Z"
      },
      {
        "duration": 381,
        "start_time": "2025-01-18T19:27:08.546Z"
      },
      {
        "duration": 91,
        "start_time": "2025-01-18T19:27:08.928Z"
      },
      {
        "duration": 7,
        "start_time": "2025-01-18T19:27:09.021Z"
      },
      {
        "duration": 298,
        "start_time": "2025-01-18T19:27:09.030Z"
      },
      {
        "duration": 288,
        "start_time": "2025-01-18T19:27:09.330Z"
      },
      {
        "duration": 291,
        "start_time": "2025-01-18T19:27:09.619Z"
      },
      {
        "duration": 4,
        "start_time": "2025-01-18T19:27:09.915Z"
      },
      {
        "duration": 32,
        "start_time": "2025-01-18T19:27:09.920Z"
      },
      {
        "duration": 184,
        "start_time": "2025-01-18T19:27:09.953Z"
      },
      {
        "duration": 100,
        "start_time": "2025-01-18T19:27:10.138Z"
      },
      {
        "duration": 191,
        "start_time": "2025-01-18T19:27:10.240Z"
      },
      {
        "duration": 91,
        "start_time": "2025-01-18T19:27:10.433Z"
      },
      {
        "duration": 4,
        "start_time": "2025-01-18T19:27:10.526Z"
      },
      {
        "duration": 108,
        "start_time": "2025-01-18T19:27:10.534Z"
      },
      {
        "duration": 117,
        "start_time": "2025-01-18T19:27:10.644Z"
      },
      {
        "duration": 179,
        "start_time": "2025-01-18T19:27:10.763Z"
      },
      {
        "duration": 288,
        "start_time": "2025-01-18T19:27:10.944Z"
      },
      {
        "duration": 93,
        "start_time": "2025-01-18T19:27:11.234Z"
      },
      {
        "duration": 442,
        "start_time": "2025-01-18T19:27:11.329Z"
      },
      {
        "duration": 284,
        "start_time": "2025-01-18T19:27:11.772Z"
      },
      {
        "duration": 100,
        "start_time": "2025-01-18T19:27:12.058Z"
      },
      {
        "duration": 278,
        "start_time": "2025-01-18T19:27:12.159Z"
      },
      {
        "duration": 10,
        "start_time": "2025-01-18T19:27:12.439Z"
      },
      {
        "duration": 7,
        "start_time": "2025-01-18T19:27:12.451Z"
      },
      {
        "duration": 104,
        "start_time": "2025-01-18T19:27:12.460Z"
      },
      {
        "duration": 654,
        "start_time": "2025-01-18T19:27:12.566Z"
      },
      {
        "duration": 9,
        "start_time": "2025-01-18T19:27:13.222Z"
      },
      {
        "duration": 12,
        "start_time": "2025-01-18T19:27:13.232Z"
      },
      {
        "duration": 62,
        "start_time": "2025-01-18T19:27:13.245Z"
      },
      {
        "duration": 119,
        "start_time": "2025-01-18T19:27:13.308Z"
      },
      {
        "duration": 5,
        "start_time": "2025-01-18T19:27:13.428Z"
      },
      {
        "duration": 23,
        "start_time": "2025-01-18T19:27:13.435Z"
      },
      {
        "duration": 149,
        "start_time": "2025-01-18T19:27:13.460Z"
      },
      {
        "duration": 5,
        "start_time": "2025-01-18T19:27:13.615Z"
      },
      {
        "duration": 44,
        "start_time": "2025-01-18T19:27:13.621Z"
      },
      {
        "duration": 123,
        "start_time": "2025-01-18T19:27:13.667Z"
      },
      {
        "duration": 5,
        "start_time": "2025-01-18T19:27:13.792Z"
      },
      {
        "duration": 34,
        "start_time": "2025-01-18T19:27:13.799Z"
      },
      {
        "duration": 140,
        "start_time": "2025-01-18T19:27:13.835Z"
      },
      {
        "duration": 5,
        "start_time": "2025-01-18T19:27:13.977Z"
      },
      {
        "duration": 150,
        "start_time": "2025-01-18T19:27:13.984Z"
      },
      {
        "duration": 157,
        "start_time": "2025-01-18T19:27:14.135Z"
      },
      {
        "duration": 294,
        "start_time": "2025-01-18T19:27:14.294Z"
      },
      {
        "duration": 152,
        "start_time": "2025-01-18T19:27:14.590Z"
      },
      {
        "duration": 21,
        "start_time": "2025-01-18T19:27:14.744Z"
      },
      {
        "duration": 17,
        "start_time": "2025-01-18T19:27:14.767Z"
      },
      {
        "duration": 9,
        "start_time": "2025-01-18T19:27:14.786Z"
      },
      {
        "duration": 178,
        "start_time": "2025-01-18T19:27:14.796Z"
      },
      {
        "duration": 183,
        "start_time": "2025-01-18T19:27:14.976Z"
      },
      {
        "duration": 1584,
        "start_time": "2025-01-18T20:50:08.093Z"
      },
      {
        "duration": 17,
        "start_time": "2025-01-18T20:50:09.679Z"
      },
      {
        "duration": 29,
        "start_time": "2025-01-18T20:50:09.697Z"
      },
      {
        "duration": 4005,
        "start_time": "2025-01-18T20:50:09.727Z"
      },
      {
        "duration": 6,
        "start_time": "2025-01-18T20:50:13.734Z"
      },
      {
        "duration": 20,
        "start_time": "2025-01-18T20:50:13.742Z"
      },
      {
        "duration": 55,
        "start_time": "2025-01-18T20:50:13.764Z"
      },
      {
        "duration": 7,
        "start_time": "2025-01-18T20:50:13.820Z"
      },
      {
        "duration": 5,
        "start_time": "2025-01-18T20:50:13.828Z"
      },
      {
        "duration": 7,
        "start_time": "2025-01-18T20:50:13.834Z"
      },
      {
        "duration": 10,
        "start_time": "2025-01-18T20:50:13.843Z"
      },
      {
        "duration": 385,
        "start_time": "2025-01-18T20:50:13.855Z"
      },
      {
        "duration": 8,
        "start_time": "2025-01-18T20:50:14.242Z"
      },
      {
        "duration": 583,
        "start_time": "2025-01-18T20:50:14.253Z"
      },
      {
        "duration": 421,
        "start_time": "2025-01-18T20:50:14.837Z"
      },
      {
        "duration": 93,
        "start_time": "2025-01-18T20:50:15.260Z"
      },
      {
        "duration": 7,
        "start_time": "2025-01-18T20:50:15.355Z"
      },
      {
        "duration": 283,
        "start_time": "2025-01-18T20:50:15.364Z"
      },
      {
        "duration": 290,
        "start_time": "2025-01-18T20:50:15.649Z"
      },
      {
        "duration": 285,
        "start_time": "2025-01-18T20:50:15.940Z"
      },
      {
        "duration": 4,
        "start_time": "2025-01-18T20:50:16.227Z"
      },
      {
        "duration": 23,
        "start_time": "2025-01-18T20:50:16.233Z"
      },
      {
        "duration": 165,
        "start_time": "2025-01-18T20:50:16.258Z"
      },
      {
        "duration": 100,
        "start_time": "2025-01-18T20:50:16.424Z"
      },
      {
        "duration": 219,
        "start_time": "2025-01-18T20:50:16.526Z"
      },
      {
        "duration": 98,
        "start_time": "2025-01-18T20:50:16.747Z"
      },
      {
        "duration": 6,
        "start_time": "2025-01-18T20:50:16.847Z"
      },
      {
        "duration": 106,
        "start_time": "2025-01-18T20:50:16.854Z"
      },
      {
        "duration": 122,
        "start_time": "2025-01-18T20:50:16.962Z"
      },
      {
        "duration": 189,
        "start_time": "2025-01-18T20:50:17.086Z"
      },
      {
        "duration": 297,
        "start_time": "2025-01-18T20:50:17.276Z"
      },
      {
        "duration": 99,
        "start_time": "2025-01-18T20:50:17.575Z"
      },
      {
        "duration": 468,
        "start_time": "2025-01-18T20:50:17.676Z"
      },
      {
        "duration": 286,
        "start_time": "2025-01-18T20:50:18.146Z"
      },
      {
        "duration": 107,
        "start_time": "2025-01-18T20:50:18.435Z"
      },
      {
        "duration": 280,
        "start_time": "2025-01-18T20:50:18.544Z"
      },
      {
        "duration": 11,
        "start_time": "2025-01-18T20:50:18.825Z"
      },
      {
        "duration": 8,
        "start_time": "2025-01-18T20:50:18.838Z"
      },
      {
        "duration": 110,
        "start_time": "2025-01-18T20:50:18.847Z"
      },
      {
        "duration": 647,
        "start_time": "2025-01-18T20:50:18.958Z"
      },
      {
        "duration": 8,
        "start_time": "2025-01-18T20:50:19.614Z"
      },
      {
        "duration": 12,
        "start_time": "2025-01-18T20:50:19.624Z"
      },
      {
        "duration": 34,
        "start_time": "2025-01-18T20:50:19.637Z"
      },
      {
        "duration": 129,
        "start_time": "2025-01-18T20:50:19.673Z"
      },
      {
        "duration": 14,
        "start_time": "2025-01-18T20:50:19.804Z"
      },
      {
        "duration": 23,
        "start_time": "2025-01-18T20:50:19.820Z"
      },
      {
        "duration": 153,
        "start_time": "2025-01-18T20:50:19.844Z"
      },
      {
        "duration": 5,
        "start_time": "2025-01-18T20:50:19.998Z"
      },
      {
        "duration": 58,
        "start_time": "2025-01-18T20:50:20.005Z"
      },
      {
        "duration": 114,
        "start_time": "2025-01-18T20:50:20.065Z"
      },
      {
        "duration": 7,
        "start_time": "2025-01-18T20:50:20.181Z"
      },
      {
        "duration": 41,
        "start_time": "2025-01-18T20:50:20.190Z"
      },
      {
        "duration": 133,
        "start_time": "2025-01-18T20:50:20.233Z"
      },
      {
        "duration": 7,
        "start_time": "2025-01-18T20:50:20.368Z"
      },
      {
        "duration": 159,
        "start_time": "2025-01-18T20:50:20.377Z"
      },
      {
        "duration": 159,
        "start_time": "2025-01-18T20:50:20.538Z"
      },
      {
        "duration": 169,
        "start_time": "2025-01-18T20:50:20.699Z"
      },
      {
        "duration": 160,
        "start_time": "2025-01-18T20:50:20.869Z"
      },
      {
        "duration": 25,
        "start_time": "2025-01-18T20:50:21.031Z"
      },
      {
        "duration": 11,
        "start_time": "2025-01-18T20:50:21.058Z"
      },
      {
        "duration": 36,
        "start_time": "2025-01-18T20:50:21.070Z"
      },
      {
        "duration": 339,
        "start_time": "2025-01-18T20:50:21.108Z"
      },
      {
        "duration": 156,
        "start_time": "2025-01-18T20:50:21.449Z"
      },
      {
        "duration": 83,
        "start_time": "2025-01-18T20:50:31.248Z"
      },
      {
        "duration": 9,
        "start_time": "2025-01-18T20:55:30.161Z"
      },
      {
        "duration": 9,
        "start_time": "2025-01-18T20:56:00.165Z"
      },
      {
        "duration": 415,
        "start_time": "2025-01-18T20:58:16.916Z"
      },
      {
        "duration": 7,
        "start_time": "2025-01-18T21:01:28.681Z"
      },
      {
        "duration": 43,
        "start_time": "2025-01-18T21:01:34.984Z"
      },
      {
        "duration": 6,
        "start_time": "2025-01-18T21:01:41.835Z"
      },
      {
        "duration": 52,
        "start_time": "2025-01-19T08:45:33.316Z"
      },
      {
        "duration": 2017,
        "start_time": "2025-01-19T08:45:44.120Z"
      },
      {
        "duration": 35,
        "start_time": "2025-01-19T08:45:49.695Z"
      },
      {
        "duration": 81,
        "start_time": "2025-01-19T08:46:47.603Z"
      },
      {
        "duration": 79,
        "start_time": "2025-01-19T08:47:12.192Z"
      },
      {
        "duration": 4217,
        "start_time": "2025-01-19T08:48:32.455Z"
      },
      {
        "duration": 68,
        "start_time": "2025-01-19T08:53:08.555Z"
      },
      {
        "duration": 689,
        "start_time": "2025-01-19T09:15:36.075Z"
      },
      {
        "duration": 33,
        "start_time": "2025-01-19T09:15:40.138Z"
      },
      {
        "duration": 18,
        "start_time": "2025-01-19T09:15:44.153Z"
      },
      {
        "duration": 4218,
        "start_time": "2025-01-19T09:15:48.130Z"
      },
      {
        "duration": 72,
        "start_time": "2025-01-19T09:15:54.817Z"
      },
      {
        "duration": 21,
        "start_time": "2025-01-19T09:16:08.367Z"
      },
      {
        "duration": 13,
        "start_time": "2025-01-19T09:23:18.978Z"
      },
      {
        "duration": 1834,
        "start_time": "2025-01-19T12:29:21.023Z"
      },
      {
        "duration": 34,
        "start_time": "2025-01-19T12:29:25.012Z"
      },
      {
        "duration": 17,
        "start_time": "2025-01-19T12:29:28.600Z"
      },
      {
        "duration": 4189,
        "start_time": "2025-01-19T12:29:32.950Z"
      },
      {
        "duration": 118,
        "start_time": "2025-01-19T12:29:37.391Z"
      },
      {
        "duration": 5,
        "start_time": "2025-01-19T12:29:38.363Z"
      },
      {
        "duration": 22,
        "start_time": "2025-01-19T12:29:41.162Z"
      },
      {
        "duration": 12,
        "start_time": "2025-01-19T12:29:41.966Z"
      },
      {
        "duration": 28,
        "start_time": "2025-01-19T12:38:45.871Z"
      },
      {
        "duration": 4,
        "start_time": "2025-01-19T12:38:47.190Z"
      },
      {
        "duration": 1641,
        "start_time": "2025-01-19T12:42:08.424Z"
      },
      {
        "duration": 1578,
        "start_time": "2025-01-19T12:42:41.518Z"
      },
      {
        "duration": 1595,
        "start_time": "2025-01-19T12:43:10.608Z"
      },
      {
        "duration": 1460,
        "start_time": "2025-01-19T12:49:03.668Z"
      },
      {
        "duration": 16,
        "start_time": "2025-01-19T12:50:37.410Z"
      },
      {
        "duration": 16,
        "start_time": "2025-01-19T12:52:10.337Z"
      },
      {
        "duration": 4,
        "start_time": "2025-01-19T13:02:24.430Z"
      },
      {
        "duration": 11,
        "start_time": "2025-01-19T13:03:09.634Z"
      },
      {
        "duration": 10,
        "start_time": "2025-01-19T13:03:30.807Z"
      },
      {
        "duration": 55,
        "start_time": "2025-01-19T19:04:46.150Z"
      },
      {
        "duration": 12,
        "start_time": "2025-01-19T19:05:46.299Z"
      },
      {
        "duration": 1935,
        "start_time": "2025-01-19T19:05:59.116Z"
      },
      {
        "duration": 36,
        "start_time": "2025-01-19T19:06:01.053Z"
      },
      {
        "duration": 23,
        "start_time": "2025-01-19T19:06:02.012Z"
      },
      {
        "duration": 4268,
        "start_time": "2025-01-19T19:06:02.911Z"
      },
      {
        "duration": 9,
        "start_time": "2025-01-19T19:06:07.181Z"
      },
      {
        "duration": 90,
        "start_time": "2025-01-19T19:06:07.191Z"
      },
      {
        "duration": 0,
        "start_time": "2025-01-19T19:06:07.282Z"
      },
      {
        "duration": 0,
        "start_time": "2025-01-19T19:06:07.284Z"
      },
      {
        "duration": 22,
        "start_time": "2025-01-19T19:06:09.191Z"
      },
      {
        "duration": 7,
        "start_time": "2025-01-19T19:06:14.634Z"
      },
      {
        "duration": 8,
        "start_time": "2025-01-19T19:06:16.196Z"
      },
      {
        "duration": 7,
        "start_time": "2025-01-19T19:06:16.642Z"
      },
      {
        "duration": 4,
        "start_time": "2025-01-19T19:06:17.283Z"
      },
      {
        "duration": 12,
        "start_time": "2025-01-19T19:06:17.951Z"
      },
      {
        "duration": 192,
        "start_time": "2025-01-19T19:06:18.659Z"
      },
      {
        "duration": 9,
        "start_time": "2025-01-19T19:06:19.126Z"
      },
      {
        "duration": 598,
        "start_time": "2025-01-19T19:06:20.124Z"
      },
      {
        "duration": 326,
        "start_time": "2025-01-19T19:06:21.495Z"
      },
      {
        "duration": 95,
        "start_time": "2025-01-19T19:06:22.837Z"
      },
      {
        "duration": 9,
        "start_time": "2025-01-19T19:06:23.563Z"
      },
      {
        "duration": 340,
        "start_time": "2025-01-19T19:06:24.055Z"
      },
      {
        "duration": 343,
        "start_time": "2025-01-19T19:06:24.560Z"
      },
      {
        "duration": 317,
        "start_time": "2025-01-19T19:06:25.315Z"
      },
      {
        "duration": 6,
        "start_time": "2025-01-19T19:06:26.154Z"
      },
      {
        "duration": 14,
        "start_time": "2025-01-19T19:06:26.420Z"
      },
      {
        "duration": 270,
        "start_time": "2025-01-19T19:06:26.948Z"
      },
      {
        "duration": 102,
        "start_time": "2025-01-19T19:06:29.659Z"
      },
      {
        "duration": 205,
        "start_time": "2025-01-19T19:06:30.494Z"
      },
      {
        "duration": 94,
        "start_time": "2025-01-19T19:06:31.219Z"
      },
      {
        "duration": 5,
        "start_time": "2025-01-19T19:06:31.890Z"
      },
      {
        "duration": 104,
        "start_time": "2025-01-19T19:06:32.136Z"
      },
      {
        "duration": 122,
        "start_time": "2025-01-19T19:06:32.686Z"
      },
      {
        "duration": 197,
        "start_time": "2025-01-19T19:06:33.271Z"
      },
      {
        "duration": 320,
        "start_time": "2025-01-19T19:06:33.775Z"
      },
      {
        "duration": 126,
        "start_time": "2025-01-19T19:06:34.576Z"
      },
      {
        "duration": 419,
        "start_time": "2025-01-19T19:06:35.393Z"
      },
      {
        "duration": 320,
        "start_time": "2025-01-19T19:06:35.912Z"
      },
      {
        "duration": 114,
        "start_time": "2025-01-19T19:06:37.764Z"
      },
      {
        "duration": 345,
        "start_time": "2025-01-19T19:06:38.096Z"
      },
      {
        "duration": 14,
        "start_time": "2025-01-19T19:06:39.086Z"
      },
      {
        "duration": 11,
        "start_time": "2025-01-19T19:06:39.995Z"
      },
      {
        "duration": 97,
        "start_time": "2025-01-19T19:06:40.453Z"
      },
      {
        "duration": 711,
        "start_time": "2025-01-19T19:06:40.688Z"
      },
      {
        "duration": 10,
        "start_time": "2025-01-19T19:06:41.401Z"
      },
      {
        "duration": 19,
        "start_time": "2025-01-19T19:06:41.412Z"
      },
      {
        "duration": 30,
        "start_time": "2025-01-19T19:06:43.274Z"
      },
      {
        "duration": 245,
        "start_time": "2025-01-19T19:06:43.600Z"
      },
      {
        "duration": 5,
        "start_time": "2025-01-19T19:06:43.982Z"
      },
      {
        "duration": 28,
        "start_time": "2025-01-19T19:06:45.104Z"
      },
      {
        "duration": 152,
        "start_time": "2025-01-19T19:06:45.360Z"
      },
      {
        "duration": 5,
        "start_time": "2025-01-19T19:06:45.633Z"
      },
      {
        "duration": 29,
        "start_time": "2025-01-19T19:06:46.377Z"
      },
      {
        "duration": 136,
        "start_time": "2025-01-19T19:06:46.656Z"
      },
      {
        "duration": 6,
        "start_time": "2025-01-19T19:06:46.940Z"
      },
      {
        "duration": 26,
        "start_time": "2025-01-19T19:06:47.742Z"
      },
      {
        "duration": 143,
        "start_time": "2025-01-19T19:06:47.984Z"
      },
      {
        "duration": 6,
        "start_time": "2025-01-19T19:06:48.344Z"
      },
      {
        "duration": 157,
        "start_time": "2025-01-19T19:06:49.563Z"
      },
      {
        "duration": 180,
        "start_time": "2025-01-19T19:06:51.123Z"
      },
      {
        "duration": 182,
        "start_time": "2025-01-19T19:06:52.172Z"
      },
      {
        "duration": 169,
        "start_time": "2025-01-19T19:06:53.147Z"
      },
      {
        "duration": 26,
        "start_time": "2025-01-19T19:06:55.447Z"
      },
      {
        "duration": 9,
        "start_time": "2025-01-19T19:06:56.487Z"
      },
      {
        "duration": 9,
        "start_time": "2025-01-19T19:06:56.931Z"
      },
      {
        "duration": 189,
        "start_time": "2025-01-19T19:06:58.197Z"
      },
      {
        "duration": 187,
        "start_time": "2025-01-19T19:06:59.999Z"
      },
      {
        "duration": 8,
        "start_time": "2025-01-19T19:09:14.284Z"
      },
      {
        "duration": 11,
        "start_time": "2025-01-19T19:09:17.763Z"
      },
      {
        "duration": 4,
        "start_time": "2025-01-19T19:09:27.362Z"
      },
      {
        "duration": 23,
        "start_time": "2025-01-19T19:16:36.645Z"
      },
      {
        "duration": 5,
        "start_time": "2025-01-19T19:17:04.013Z"
      },
      {
        "duration": 491,
        "start_time": "2025-01-19T19:25:53.287Z"
      },
      {
        "duration": 33,
        "start_time": "2025-01-19T19:25:55.572Z"
      },
      {
        "duration": 20,
        "start_time": "2025-01-19T19:25:58.377Z"
      },
      {
        "duration": 4291,
        "start_time": "2025-01-19T19:26:01.642Z"
      },
      {
        "duration": 13,
        "start_time": "2025-01-19T19:26:07.816Z"
      },
      {
        "duration": 383,
        "start_time": "2025-01-19T19:30:37.715Z"
      },
      {
        "duration": 34,
        "start_time": "2025-01-19T19:30:40.401Z"
      },
      {
        "duration": 16,
        "start_time": "2025-01-19T19:30:43.374Z"
      },
      {
        "duration": 4490,
        "start_time": "2025-01-19T19:30:45.954Z"
      },
      {
        "duration": 11,
        "start_time": "2025-01-19T19:30:51.937Z"
      },
      {
        "duration": 7,
        "start_time": "2025-01-19T19:33:15.974Z"
      },
      {
        "duration": 12,
        "start_time": "2025-01-19T19:34:38.892Z"
      },
      {
        "duration": 12,
        "start_time": "2025-01-19T19:34:41.274Z"
      },
      {
        "duration": 78,
        "start_time": "2025-01-19T19:35:26.269Z"
      },
      {
        "duration": 100,
        "start_time": "2025-01-19T19:37:53.383Z"
      },
      {
        "duration": 79,
        "start_time": "2025-01-19T19:38:03.372Z"
      },
      {
        "duration": 12,
        "start_time": "2025-01-19T19:38:20.140Z"
      },
      {
        "duration": 664,
        "start_time": "2025-01-19T19:42:06.613Z"
      },
      {
        "duration": 32,
        "start_time": "2025-01-19T19:42:09.134Z"
      },
      {
        "duration": 16,
        "start_time": "2025-01-19T19:42:12.539Z"
      },
      {
        "duration": 4352,
        "start_time": "2025-01-19T19:42:15.020Z"
      },
      {
        "duration": 12,
        "start_time": "2025-01-19T19:42:19.875Z"
      },
      {
        "duration": 80,
        "start_time": "2025-01-19T19:56:16.904Z"
      },
      {
        "duration": 78,
        "start_time": "2025-01-19T19:57:12.217Z"
      },
      {
        "duration": 12,
        "start_time": "2025-01-19T19:57:42.346Z"
      },
      {
        "duration": 409,
        "start_time": "2025-01-19T19:58:00.489Z"
      },
      {
        "duration": 13,
        "start_time": "2025-01-19T19:58:41.391Z"
      },
      {
        "duration": 4,
        "start_time": "2025-01-19T19:58:43.768Z"
      },
      {
        "duration": 13,
        "start_time": "2025-01-19T19:59:51.780Z"
      },
      {
        "duration": 5,
        "start_time": "2025-01-19T19:59:52.795Z"
      },
      {
        "duration": 12,
        "start_time": "2025-01-19T20:02:25.269Z"
      },
      {
        "duration": 5,
        "start_time": "2025-01-19T20:02:26.193Z"
      },
      {
        "duration": 12,
        "start_time": "2025-01-19T20:02:59.135Z"
      },
      {
        "duration": 8,
        "start_time": "2025-01-19T20:04:14.900Z"
      },
      {
        "duration": 7,
        "start_time": "2025-01-19T20:10:24.254Z"
      },
      {
        "duration": 17,
        "start_time": "2025-01-19T20:11:15.626Z"
      },
      {
        "duration": 84,
        "start_time": "2025-01-19T20:11:22.059Z"
      },
      {
        "duration": 381,
        "start_time": "2025-01-19T20:11:30.382Z"
      },
      {
        "duration": 34,
        "start_time": "2025-01-19T20:11:34.541Z"
      },
      {
        "duration": 16,
        "start_time": "2025-01-19T20:11:38.149Z"
      },
      {
        "duration": 4478,
        "start_time": "2025-01-19T20:11:45.879Z"
      },
      {
        "duration": 22,
        "start_time": "2025-01-19T20:12:30.716Z"
      },
      {
        "duration": 51,
        "start_time": "2025-01-19T20:13:19.165Z"
      },
      {
        "duration": 720,
        "start_time": "2025-01-19T20:21:01.394Z"
      },
      {
        "duration": 34,
        "start_time": "2025-01-19T20:21:03.198Z"
      },
      {
        "duration": 17,
        "start_time": "2025-01-19T20:21:06.193Z"
      },
      {
        "duration": 4375,
        "start_time": "2025-01-19T20:21:11.608Z"
      },
      {
        "duration": 395,
        "start_time": "2025-01-19T20:23:09.879Z"
      },
      {
        "duration": 32,
        "start_time": "2025-01-19T20:23:11.184Z"
      },
      {
        "duration": 17,
        "start_time": "2025-01-19T20:23:13.410Z"
      },
      {
        "duration": 4761,
        "start_time": "2025-01-19T20:23:15.257Z"
      },
      {
        "duration": 58,
        "start_time": "2025-01-19T20:23:20.020Z"
      },
      {
        "duration": 375,
        "start_time": "2025-01-19T20:23:58.492Z"
      },
      {
        "duration": 33,
        "start_time": "2025-01-19T20:24:00.860Z"
      },
      {
        "duration": 16,
        "start_time": "2025-01-19T20:24:09.511Z"
      },
      {
        "duration": 4567,
        "start_time": "2025-01-19T20:24:28.368Z"
      },
      {
        "duration": 50,
        "start_time": "2025-01-19T20:24:32.937Z"
      },
      {
        "duration": 20,
        "start_time": "2025-01-19T20:26:17.264Z"
      },
      {
        "duration": 15,
        "start_time": "2025-01-19T20:33:14.162Z"
      },
      {
        "duration": 19,
        "start_time": "2025-01-19T20:34:13.232Z"
      },
      {
        "duration": 4,
        "start_time": "2025-01-19T20:34:13.836Z"
      },
      {
        "duration": 7,
        "start_time": "2025-01-19T20:34:21.852Z"
      },
      {
        "duration": 7,
        "start_time": "2025-01-19T20:34:26.248Z"
      },
      {
        "duration": 6,
        "start_time": "2025-01-19T20:35:59.149Z"
      },
      {
        "duration": 17,
        "start_time": "2025-01-19T20:37:47.713Z"
      },
      {
        "duration": 6,
        "start_time": "2025-01-19T20:37:54.443Z"
      },
      {
        "duration": 6,
        "start_time": "2025-01-19T20:38:30.556Z"
      },
      {
        "duration": 6,
        "start_time": "2025-01-19T20:38:52.945Z"
      },
      {
        "duration": 16,
        "start_time": "2025-01-19T20:39:13.787Z"
      },
      {
        "duration": 5,
        "start_time": "2025-01-19T20:39:36.618Z"
      },
      {
        "duration": 5,
        "start_time": "2025-01-19T20:39:45.111Z"
      },
      {
        "duration": 4,
        "start_time": "2025-01-19T20:39:47.275Z"
      },
      {
        "duration": 13,
        "start_time": "2025-01-19T20:39:49.524Z"
      },
      {
        "duration": 198,
        "start_time": "2025-01-19T20:39:51.758Z"
      },
      {
        "duration": 10,
        "start_time": "2025-01-19T20:39:53.703Z"
      },
      {
        "duration": 5,
        "start_time": "2025-01-19T20:45:22.867Z"
      },
      {
        "duration": 4,
        "start_time": "2025-01-19T20:45:25.713Z"
      },
      {
        "duration": 3,
        "start_time": "2025-01-19T20:45:30.965Z"
      },
      {
        "duration": 30,
        "start_time": "2025-01-19T20:45:30.970Z"
      },
      {
        "duration": 190,
        "start_time": "2025-01-19T20:45:31.002Z"
      },
      {
        "duration": 9,
        "start_time": "2025-01-19T20:45:31.194Z"
      },
      {
        "duration": 89,
        "start_time": "2025-01-19T20:49:48.056Z"
      },
      {
        "duration": 598,
        "start_time": "2025-01-19T20:49:57.362Z"
      },
      {
        "duration": 380,
        "start_time": "2025-01-19T20:51:04.942Z"
      },
      {
        "duration": 24,
        "start_time": "2025-01-19T20:51:06.544Z"
      },
      {
        "duration": 16,
        "start_time": "2025-01-19T20:51:07.416Z"
      },
      {
        "duration": 4318,
        "start_time": "2025-01-19T20:51:08.286Z"
      },
      {
        "duration": 29,
        "start_time": "2025-01-19T20:51:12.607Z"
      },
      {
        "duration": 3,
        "start_time": "2025-01-19T20:51:12.638Z"
      },
      {
        "duration": 12,
        "start_time": "2025-01-19T20:51:12.643Z"
      },
      {
        "duration": 6,
        "start_time": "2025-01-19T20:51:12.750Z"
      },
      {
        "duration": 18,
        "start_time": "2025-01-19T20:51:14.100Z"
      },
      {
        "duration": 5,
        "start_time": "2025-01-19T20:51:14.602Z"
      },
      {
        "duration": 5,
        "start_time": "2025-01-19T20:51:15.419Z"
      },
      {
        "duration": 13,
        "start_time": "2025-01-19T20:51:16.437Z"
      },
      {
        "duration": 194,
        "start_time": "2025-01-19T20:51:17.281Z"
      },
      {
        "duration": 9,
        "start_time": "2025-01-19T20:51:17.793Z"
      },
      {
        "duration": 331,
        "start_time": "2025-01-19T20:51:19.978Z"
      },
      {
        "duration": 628,
        "start_time": "2025-01-19T20:51:22.791Z"
      },
      {
        "duration": 91,
        "start_time": "2025-01-19T20:51:25.222Z"
      },
      {
        "duration": 8,
        "start_time": "2025-01-19T20:51:27.199Z"
      },
      {
        "duration": 318,
        "start_time": "2025-01-19T20:51:27.983Z"
      },
      {
        "duration": 320,
        "start_time": "2025-01-19T20:51:28.495Z"
      },
      {
        "duration": 330,
        "start_time": "2025-01-19T20:51:29.049Z"
      },
      {
        "duration": 4,
        "start_time": "2025-01-19T20:52:06.518Z"
      },
      {
        "duration": 5,
        "start_time": "2025-01-19T20:52:07.944Z"
      },
      {
        "duration": 3,
        "start_time": "2025-01-19T20:52:08.695Z"
      },
      {
        "duration": 14,
        "start_time": "2025-01-19T20:52:09.439Z"
      },
      {
        "duration": 198,
        "start_time": "2025-01-19T20:52:12.339Z"
      },
      {
        "duration": 10,
        "start_time": "2025-01-19T20:52:13.481Z"
      },
      {
        "duration": 444,
        "start_time": "2025-01-19T20:52:16.127Z"
      },
      {
        "duration": 323,
        "start_time": "2025-01-19T20:52:25.409Z"
      },
      {
        "duration": 323,
        "start_time": "2025-01-19T20:54:16.245Z"
      },
      {
        "duration": 414,
        "start_time": "2025-01-19T20:54:35.558Z"
      },
      {
        "duration": 316,
        "start_time": "2025-01-19T20:55:17.867Z"
      },
      {
        "duration": 363,
        "start_time": "2025-01-19T21:06:44.488Z"
      },
      {
        "duration": 428,
        "start_time": "2025-01-19T21:06:58.319Z"
      },
      {
        "duration": 326,
        "start_time": "2025-01-19T21:07:12.099Z"
      },
      {
        "duration": 340,
        "start_time": "2025-01-19T21:07:49.679Z"
      },
      {
        "duration": 90,
        "start_time": "2025-01-19T21:07:50.404Z"
      },
      {
        "duration": 8,
        "start_time": "2025-01-19T21:07:51.072Z"
      },
      {
        "duration": 330,
        "start_time": "2025-01-19T21:07:51.707Z"
      },
      {
        "duration": 440,
        "start_time": "2025-01-19T21:07:52.875Z"
      },
      {
        "duration": 335,
        "start_time": "2025-01-19T21:07:53.468Z"
      },
      {
        "duration": 6,
        "start_time": "2025-01-19T21:07:54.345Z"
      },
      {
        "duration": 14,
        "start_time": "2025-01-19T21:07:54.618Z"
      },
      {
        "duration": 185,
        "start_time": "2025-01-19T21:07:55.422Z"
      },
      {
        "duration": 118,
        "start_time": "2025-01-19T21:07:56.201Z"
      },
      {
        "duration": 211,
        "start_time": "2025-01-19T21:07:56.689Z"
      },
      {
        "duration": 100,
        "start_time": "2025-01-19T21:07:57.176Z"
      },
      {
        "duration": 7,
        "start_time": "2025-01-19T21:08:01.060Z"
      },
      {
        "duration": 111,
        "start_time": "2025-01-19T21:08:01.575Z"
      },
      {
        "duration": 146,
        "start_time": "2025-01-19T21:08:02.687Z"
      },
      {
        "duration": 222,
        "start_time": "2025-01-19T21:08:05.272Z"
      },
      {
        "duration": 480,
        "start_time": "2025-01-19T21:08:06.327Z"
      },
      {
        "duration": 111,
        "start_time": "2025-01-19T21:08:06.809Z"
      },
      {
        "duration": 335,
        "start_time": "2025-01-19T21:08:07.199Z"
      },
      {
        "duration": 324,
        "start_time": "2025-01-19T21:08:07.689Z"
      },
      {
        "duration": 102,
        "start_time": "2025-01-19T21:08:08.952Z"
      },
      {
        "duration": 324,
        "start_time": "2025-01-19T21:08:09.184Z"
      },
      {
        "duration": 16,
        "start_time": "2025-01-19T21:08:09.722Z"
      },
      {
        "duration": 11,
        "start_time": "2025-01-19T21:08:10.790Z"
      },
      {
        "duration": 134,
        "start_time": "2025-01-19T21:08:11.631Z"
      },
      {
        "duration": 885,
        "start_time": "2025-01-19T21:08:12.745Z"
      },
      {
        "duration": 10,
        "start_time": "2025-01-19T21:08:13.632Z"
      },
      {
        "duration": 7,
        "start_time": "2025-01-19T21:08:13.644Z"
      },
      {
        "duration": 37,
        "start_time": "2025-01-19T21:08:14.571Z"
      },
      {
        "duration": 146,
        "start_time": "2025-01-19T21:08:14.781Z"
      },
      {
        "duration": 6,
        "start_time": "2025-01-19T21:08:14.991Z"
      },
      {
        "duration": 27,
        "start_time": "2025-01-19T21:08:15.862Z"
      },
      {
        "duration": 160,
        "start_time": "2025-01-19T21:08:16.096Z"
      },
      {
        "duration": 5,
        "start_time": "2025-01-19T21:08:16.312Z"
      },
      {
        "duration": 28,
        "start_time": "2025-01-19T21:08:17.022Z"
      },
      {
        "duration": 140,
        "start_time": "2025-01-19T21:08:17.254Z"
      },
      {
        "duration": 5,
        "start_time": "2025-01-19T21:08:17.487Z"
      },
      {
        "duration": 26,
        "start_time": "2025-01-19T21:08:18.203Z"
      },
      {
        "duration": 150,
        "start_time": "2025-01-19T21:08:18.411Z"
      },
      {
        "duration": 8,
        "start_time": "2025-01-19T21:08:18.863Z"
      },
      {
        "duration": 162,
        "start_time": "2025-01-19T21:08:19.599Z"
      },
      {
        "duration": 178,
        "start_time": "2025-01-19T21:08:20.402Z"
      },
      {
        "duration": 186,
        "start_time": "2025-01-19T21:08:21.227Z"
      },
      {
        "duration": 298,
        "start_time": "2025-01-19T21:08:21.786Z"
      },
      {
        "duration": 26,
        "start_time": "2025-01-19T21:08:22.858Z"
      },
      {
        "duration": 9,
        "start_time": "2025-01-19T21:08:23.367Z"
      },
      {
        "duration": 8,
        "start_time": "2025-01-19T21:08:23.692Z"
      },
      {
        "duration": 174,
        "start_time": "2025-01-19T21:08:24.884Z"
      },
      {
        "duration": 188,
        "start_time": "2025-01-19T21:08:25.821Z"
      },
      {
        "duration": 387,
        "start_time": "2025-01-19T21:08:29.899Z"
      },
      {
        "duration": 397,
        "start_time": "2025-01-19T21:08:52.072Z"
      },
      {
        "duration": 60,
        "start_time": "2025-01-20T05:16:53.882Z"
      },
      {
        "duration": 1943,
        "start_time": "2025-01-20T16:44:05.968Z"
      },
      {
        "duration": 22,
        "start_time": "2025-01-20T16:44:07.913Z"
      },
      {
        "duration": 15,
        "start_time": "2025-01-20T16:44:08.628Z"
      },
      {
        "duration": 3377,
        "start_time": "2025-01-20T16:44:09.359Z"
      },
      {
        "duration": 19,
        "start_time": "2025-01-20T16:44:12.738Z"
      },
      {
        "duration": 3,
        "start_time": "2025-01-20T16:44:12.758Z"
      },
      {
        "duration": 6,
        "start_time": "2025-01-20T16:44:12.857Z"
      },
      {
        "duration": 5,
        "start_time": "2025-01-20T16:44:13.301Z"
      },
      {
        "duration": 5,
        "start_time": "2025-01-20T16:44:14.815Z"
      },
      {
        "duration": 6,
        "start_time": "2025-01-20T16:44:15.531Z"
      },
      {
        "duration": 3,
        "start_time": "2025-01-20T16:44:16.337Z"
      },
      {
        "duration": 11,
        "start_time": "2025-01-20T16:44:17.053Z"
      },
      {
        "duration": 190,
        "start_time": "2025-01-20T16:44:18.542Z"
      },
      {
        "duration": 8,
        "start_time": "2025-01-20T16:44:19.590Z"
      },
      {
        "duration": 440,
        "start_time": "2025-01-20T16:44:23.406Z"
      },
      {
        "duration": 260,
        "start_time": "2025-01-20T16:44:26.093Z"
      },
      {
        "duration": 76,
        "start_time": "2025-01-20T16:44:26.990Z"
      },
      {
        "duration": 8,
        "start_time": "2025-01-20T16:44:27.847Z"
      },
      {
        "duration": 259,
        "start_time": "2025-01-20T16:44:28.411Z"
      },
      {
        "duration": 261,
        "start_time": "2025-01-20T16:44:28.854Z"
      },
      {
        "duration": 291,
        "start_time": "2025-01-20T16:44:29.408Z"
      },
      {
        "duration": 6,
        "start_time": "2025-01-20T16:44:30.169Z"
      },
      {
        "duration": 13,
        "start_time": "2025-01-20T16:44:30.453Z"
      },
      {
        "duration": 217,
        "start_time": "2025-01-20T16:44:30.930Z"
      },
      {
        "duration": 84,
        "start_time": "2025-01-20T16:44:31.421Z"
      },
      {
        "duration": 182,
        "start_time": "2025-01-20T16:44:32.148Z"
      },
      {
        "duration": 81,
        "start_time": "2025-01-20T16:44:32.642Z"
      },
      {
        "duration": 5,
        "start_time": "2025-01-20T16:44:33.388Z"
      },
      {
        "duration": 88,
        "start_time": "2025-01-20T16:44:33.643Z"
      },
      {
        "duration": 125,
        "start_time": "2025-01-20T16:44:34.147Z"
      },
      {
        "duration": 173,
        "start_time": "2025-01-20T16:44:34.646Z"
      },
      {
        "duration": 282,
        "start_time": "2025-01-20T16:44:35.149Z"
      },
      {
        "duration": 86,
        "start_time": "2025-01-20T16:44:35.670Z"
      },
      {
        "duration": 336,
        "start_time": "2025-01-20T16:44:36.250Z"
      },
      {
        "duration": 266,
        "start_time": "2025-01-20T16:44:36.806Z"
      },
      {
        "duration": 87,
        "start_time": "2025-01-20T16:44:38.130Z"
      },
      {
        "duration": 261,
        "start_time": "2025-01-20T16:44:38.366Z"
      },
      {
        "duration": 11,
        "start_time": "2025-01-20T16:44:38.894Z"
      },
      {
        "duration": 10,
        "start_time": "2025-01-20T16:44:39.405Z"
      },
      {
        "duration": 81,
        "start_time": "2025-01-20T16:44:39.897Z"
      },
      {
        "duration": 568,
        "start_time": "2025-01-20T16:44:40.148Z"
      },
      {
        "duration": 7,
        "start_time": "2025-01-20T16:44:40.718Z"
      },
      {
        "duration": 14,
        "start_time": "2025-01-20T16:44:40.727Z"
      },
      {
        "duration": 24,
        "start_time": "2025-01-20T16:44:41.965Z"
      },
      {
        "duration": 199,
        "start_time": "2025-01-20T16:44:42.627Z"
      },
      {
        "duration": 4,
        "start_time": "2025-01-20T16:44:42.828Z"
      },
      {
        "duration": 23,
        "start_time": "2025-01-20T16:44:43.470Z"
      },
      {
        "duration": 130,
        "start_time": "2025-01-20T16:44:43.734Z"
      },
      {
        "duration": 5,
        "start_time": "2025-01-20T16:44:44.016Z"
      },
      {
        "duration": 22,
        "start_time": "2025-01-20T16:44:45.031Z"
      },
      {
        "duration": 118,
        "start_time": "2025-01-20T16:44:45.270Z"
      },
      {
        "duration": 6,
        "start_time": "2025-01-20T16:44:45.542Z"
      },
      {
        "duration": 23,
        "start_time": "2025-01-20T16:44:46.466Z"
      },
      {
        "duration": 123,
        "start_time": "2025-01-20T16:44:46.566Z"
      },
      {
        "duration": 5,
        "start_time": "2025-01-20T16:44:46.822Z"
      },
      {
        "duration": 141,
        "start_time": "2025-01-20T16:44:47.662Z"
      },
      {
        "duration": 142,
        "start_time": "2025-01-20T16:44:48.910Z"
      },
      {
        "duration": 150,
        "start_time": "2025-01-20T16:44:49.671Z"
      },
      {
        "duration": 138,
        "start_time": "2025-01-20T16:44:50.159Z"
      },
      {
        "duration": 21,
        "start_time": "2025-01-20T16:44:51.630Z"
      },
      {
        "duration": 7,
        "start_time": "2025-01-20T16:44:52.618Z"
      },
      {
        "duration": 33,
        "start_time": "2025-01-20T16:44:52.626Z"
      },
      {
        "duration": 145,
        "start_time": "2025-01-20T16:44:53.754Z"
      },
      {
        "duration": 149,
        "start_time": "2025-01-20T16:44:54.751Z"
      },
      {
        "duration": 360,
        "start_time": "2025-01-20T16:45:06.718Z"
      },
      {
        "duration": 5,
        "start_time": "2025-01-20T16:51:24.714Z"
      },
      {
        "duration": 4,
        "start_time": "2025-01-20T16:51:39.170Z"
      },
      {
        "duration": 5,
        "start_time": "2025-01-20T16:51:50.289Z"
      },
      {
        "duration": 5,
        "start_time": "2025-01-20T16:52:03.560Z"
      },
      {
        "duration": 5,
        "start_time": "2025-01-20T16:53:16.609Z"
      },
      {
        "duration": 5,
        "start_time": "2025-01-20T16:54:44.442Z"
      },
      {
        "duration": 5,
        "start_time": "2025-01-20T16:54:53.918Z"
      },
      {
        "duration": 6,
        "start_time": "2025-01-20T16:55:00.247Z"
      },
      {
        "duration": 4,
        "start_time": "2025-01-20T16:55:09.995Z"
      },
      {
        "duration": 4,
        "start_time": "2025-01-20T16:55:55.541Z"
      },
      {
        "duration": 79,
        "start_time": "2025-01-20T16:57:11.156Z"
      },
      {
        "duration": 69,
        "start_time": "2025-01-20T16:57:59.501Z"
      },
      {
        "duration": 6,
        "start_time": "2025-01-20T16:58:33.208Z"
      },
      {
        "duration": 109,
        "start_time": "2025-01-20T17:00:46.464Z"
      },
      {
        "duration": 6,
        "start_time": "2025-01-20T17:01:43.861Z"
      },
      {
        "duration": 7,
        "start_time": "2025-01-20T17:05:12.294Z"
      },
      {
        "duration": 5,
        "start_time": "2025-01-20T17:05:26.320Z"
      },
      {
        "duration": 6,
        "start_time": "2025-01-20T17:05:37.198Z"
      },
      {
        "duration": 6,
        "start_time": "2025-01-20T17:06:02.736Z"
      },
      {
        "duration": 5,
        "start_time": "2025-01-20T17:06:19.397Z"
      },
      {
        "duration": 5,
        "start_time": "2025-01-20T17:07:01.957Z"
      },
      {
        "duration": 14,
        "start_time": "2025-01-20T17:09:09.367Z"
      },
      {
        "duration": 15,
        "start_time": "2025-01-20T17:09:41.071Z"
      },
      {
        "duration": 270,
        "start_time": "2025-01-20T17:10:07.064Z"
      },
      {
        "duration": 381,
        "start_time": "2025-01-20T17:11:19.269Z"
      },
      {
        "duration": 5,
        "start_time": "2025-01-20T17:11:43.573Z"
      },
      {
        "duration": 277,
        "start_time": "2025-01-20T17:11:44.483Z"
      },
      {
        "duration": 8,
        "start_time": "2025-01-20T17:12:15.037Z"
      },
      {
        "duration": 9,
        "start_time": "2025-01-20T17:12:45.570Z"
      },
      {
        "duration": 88,
        "start_time": "2025-01-20T17:14:05.217Z"
      },
      {
        "duration": 263,
        "start_time": "2025-01-20T17:14:06.426Z"
      },
      {
        "duration": 91,
        "start_time": "2025-01-20T17:15:13.562Z"
      },
      {
        "duration": 7,
        "start_time": "2025-01-20T17:17:15.460Z"
      },
      {
        "duration": 76,
        "start_time": "2025-01-20T17:17:40.731Z"
      },
      {
        "duration": 11,
        "start_time": "2025-01-20T17:17:58.753Z"
      },
      {
        "duration": 408,
        "start_time": "2025-01-20T17:23:05.944Z"
      },
      {
        "duration": 15,
        "start_time": "2025-01-20T17:23:07.938Z"
      },
      {
        "duration": 14,
        "start_time": "2025-01-20T17:23:10.251Z"
      },
      {
        "duration": 3316,
        "start_time": "2025-01-20T17:23:12.196Z"
      },
      {
        "duration": 16,
        "start_time": "2025-01-20T17:23:16.076Z"
      },
      {
        "duration": 19,
        "start_time": "2025-01-20T17:23:29.907Z"
      },
      {
        "duration": 3,
        "start_time": "2025-01-20T17:23:48.193Z"
      },
      {
        "duration": 6,
        "start_time": "2025-01-20T17:23:54.588Z"
      },
      {
        "duration": 5,
        "start_time": "2025-01-20T17:23:57.294Z"
      },
      {
        "duration": 5,
        "start_time": "2025-01-20T17:24:00.547Z"
      },
      {
        "duration": 5,
        "start_time": "2025-01-20T17:24:01.677Z"
      },
      {
        "duration": 3,
        "start_time": "2025-01-20T17:24:03.107Z"
      },
      {
        "duration": 12,
        "start_time": "2025-01-20T17:24:04.803Z"
      },
      {
        "duration": 185,
        "start_time": "2025-01-20T17:24:13.691Z"
      },
      {
        "duration": 8,
        "start_time": "2025-01-20T17:24:15.084Z"
      },
      {
        "duration": 303,
        "start_time": "2025-01-20T17:26:41.174Z"
      },
      {
        "duration": 304,
        "start_time": "2025-01-20T17:27:03.062Z"
      },
      {
        "duration": 461,
        "start_time": "2025-01-20T17:28:07.624Z"
      },
      {
        "duration": 6,
        "start_time": "2025-01-20T17:33:30.746Z"
      },
      {
        "duration": 5,
        "start_time": "2025-01-20T17:33:39.930Z"
      },
      {
        "duration": 6,
        "start_time": "2025-01-20T17:33:47.668Z"
      },
      {
        "duration": 6,
        "start_time": "2025-01-20T17:35:29.218Z"
      },
      {
        "duration": 72,
        "start_time": "2025-01-20T17:35:49.150Z"
      },
      {
        "duration": 9,
        "start_time": "2025-01-20T17:36:44.845Z"
      },
      {
        "duration": 9,
        "start_time": "2025-01-20T17:38:49.503Z"
      },
      {
        "duration": 5,
        "start_time": "2025-01-20T17:39:00.129Z"
      },
      {
        "duration": 265,
        "start_time": "2025-01-20T17:39:03.560Z"
      },
      {
        "duration": 268,
        "start_time": "2025-01-20T17:41:26.587Z"
      },
      {
        "duration": 9,
        "start_time": "2025-01-20T17:42:59.625Z"
      },
      {
        "duration": 6,
        "start_time": "2025-01-20T17:43:18.142Z"
      },
      {
        "duration": 6,
        "start_time": "2025-01-20T17:43:26.046Z"
      },
      {
        "duration": 5,
        "start_time": "2025-01-20T17:43:33.979Z"
      },
      {
        "duration": 6,
        "start_time": "2025-01-20T17:43:43.723Z"
      },
      {
        "duration": 5,
        "start_time": "2025-01-20T17:44:53.288Z"
      },
      {
        "duration": 77,
        "start_time": "2025-01-20T17:46:56.859Z"
      },
      {
        "duration": 12,
        "start_time": "2025-01-20T17:47:21.924Z"
      },
      {
        "duration": 14,
        "start_time": "2025-01-20T17:50:21.423Z"
      },
      {
        "duration": 4,
        "start_time": "2025-01-20T17:51:36.044Z"
      },
      {
        "duration": 387,
        "start_time": "2025-01-20T17:51:42.146Z"
      },
      {
        "duration": 16,
        "start_time": "2025-01-20T17:51:43.290Z"
      },
      {
        "duration": 13,
        "start_time": "2025-01-20T17:51:44.359Z"
      },
      {
        "duration": 3390,
        "start_time": "2025-01-20T17:51:45.288Z"
      },
      {
        "duration": 23,
        "start_time": "2025-01-20T17:51:48.680Z"
      },
      {
        "duration": 9,
        "start_time": "2025-01-20T17:51:48.705Z"
      },
      {
        "duration": 7,
        "start_time": "2025-01-20T17:51:51.842Z"
      },
      {
        "duration": 6,
        "start_time": "2025-01-20T17:51:52.767Z"
      },
      {
        "duration": 6,
        "start_time": "2025-01-20T17:51:56.048Z"
      },
      {
        "duration": 4,
        "start_time": "2025-01-20T17:51:57.807Z"
      },
      {
        "duration": 5,
        "start_time": "2025-01-20T17:51:59.493Z"
      },
      {
        "duration": 13,
        "start_time": "2025-01-20T17:52:01.047Z"
      },
      {
        "duration": 192,
        "start_time": "2025-01-20T17:52:04.913Z"
      },
      {
        "duration": 8,
        "start_time": "2025-01-20T17:52:06.484Z"
      },
      {
        "duration": 327,
        "start_time": "2025-01-20T17:52:10.011Z"
      },
      {
        "duration": 270,
        "start_time": "2025-01-20T17:52:15.049Z"
      },
      {
        "duration": 7,
        "start_time": "2025-01-20T17:52:22.291Z"
      },
      {
        "duration": 6,
        "start_time": "2025-01-20T17:52:22.936Z"
      },
      {
        "duration": 8,
        "start_time": "2025-01-20T17:52:23.581Z"
      },
      {
        "duration": 6,
        "start_time": "2025-01-20T17:52:26.424Z"
      },
      {
        "duration": 275,
        "start_time": "2025-01-20T17:52:30.214Z"
      },
      {
        "duration": 531,
        "start_time": "2025-01-20T17:52:32.324Z"
      },
      {
        "duration": 6,
        "start_time": "2025-01-20T17:52:33.994Z"
      },
      {
        "duration": 13,
        "start_time": "2025-01-20T17:52:35.012Z"
      },
      {
        "duration": 265,
        "start_time": "2025-01-20T17:52:38.109Z"
      },
      {
        "duration": 253,
        "start_time": "2025-01-20T17:52:49.163Z"
      },
      {
        "duration": 6,
        "start_time": "2025-01-20T17:52:57.773Z"
      },
      {
        "duration": 5,
        "start_time": "2025-01-20T17:52:58.331Z"
      },
      {
        "duration": 267,
        "start_time": "2025-01-20T17:52:59.133Z"
      },
      {
        "duration": 9,
        "start_time": "2025-01-20T17:53:00.197Z"
      },
      {
        "duration": 160,
        "start_time": "2025-01-20T17:53:01.355Z"
      },
      {
        "duration": 122,
        "start_time": "2025-01-20T17:53:05.569Z"
      },
      {
        "duration": 78,
        "start_time": "2025-01-20T17:54:47.050Z"
      },
      {
        "duration": 12,
        "start_time": "2025-01-20T17:55:02.601Z"
      },
      {
        "duration": 11,
        "start_time": "2025-01-20T17:55:14.440Z"
      },
      {
        "duration": 74,
        "start_time": "2025-01-20T17:56:40.047Z"
      },
      {
        "duration": 399,
        "start_time": "2025-01-20T17:56:58.109Z"
      },
      {
        "duration": 15,
        "start_time": "2025-01-20T17:56:59.334Z"
      },
      {
        "duration": 13,
        "start_time": "2025-01-20T17:57:00.285Z"
      },
      {
        "duration": 3376,
        "start_time": "2025-01-20T17:57:01.252Z"
      },
      {
        "duration": 19,
        "start_time": "2025-01-20T17:57:04.630Z"
      },
      {
        "duration": 14,
        "start_time": "2025-01-20T17:57:04.650Z"
      },
      {
        "duration": 5,
        "start_time": "2025-01-20T17:57:04.958Z"
      },
      {
        "duration": 4,
        "start_time": "2025-01-20T17:57:05.477Z"
      },
      {
        "duration": 4,
        "start_time": "2025-01-20T17:57:06.979Z"
      },
      {
        "duration": 5,
        "start_time": "2025-01-20T17:57:07.420Z"
      },
      {
        "duration": 3,
        "start_time": "2025-01-20T17:57:08.565Z"
      },
      {
        "duration": 13,
        "start_time": "2025-01-20T17:57:09.294Z"
      },
      {
        "duration": 195,
        "start_time": "2025-01-20T17:57:10.158Z"
      },
      {
        "duration": 9,
        "start_time": "2025-01-20T17:57:10.925Z"
      },
      {
        "duration": 314,
        "start_time": "2025-01-20T17:57:13.212Z"
      },
      {
        "duration": 76,
        "start_time": "2025-01-20T17:59:56.627Z"
      },
      {
        "duration": 7,
        "start_time": "2025-01-20T18:00:27.588Z"
      },
      {
        "duration": 6,
        "start_time": "2025-01-20T18:00:53.937Z"
      },
      {
        "duration": 8,
        "start_time": "2025-01-20T18:00:56.141Z"
      },
      {
        "duration": 6,
        "start_time": "2025-01-20T18:03:03.672Z"
      },
      {
        "duration": 464,
        "start_time": "2025-01-20T18:03:07.363Z"
      },
      {
        "duration": 5,
        "start_time": "2025-01-20T18:04:46.717Z"
      },
      {
        "duration": 10,
        "start_time": "2025-01-20T18:04:47.802Z"
      },
      {
        "duration": 9,
        "start_time": "2025-01-20T18:04:48.795Z"
      },
      {
        "duration": 8,
        "start_time": "2025-01-20T18:05:56.040Z"
      },
      {
        "duration": 263,
        "start_time": "2025-01-20T18:05:57.197Z"
      },
      {
        "duration": 308,
        "start_time": "2025-01-20T18:06:13.699Z"
      },
      {
        "duration": 16,
        "start_time": "2025-01-20T18:06:14.914Z"
      },
      {
        "duration": 14,
        "start_time": "2025-01-20T18:06:15.771Z"
      },
      {
        "duration": 3376,
        "start_time": "2025-01-20T18:06:16.882Z"
      },
      {
        "duration": 33,
        "start_time": "2025-01-20T18:06:20.260Z"
      },
      {
        "duration": 5,
        "start_time": "2025-01-20T18:06:20.295Z"
      },
      {
        "duration": 6,
        "start_time": "2025-01-20T18:06:20.302Z"
      },
      {
        "duration": 6,
        "start_time": "2025-01-20T18:06:20.504Z"
      },
      {
        "duration": 5,
        "start_time": "2025-01-20T18:06:21.856Z"
      },
      {
        "duration": 5,
        "start_time": "2025-01-20T18:06:22.258Z"
      },
      {
        "duration": 3,
        "start_time": "2025-01-20T18:06:22.938Z"
      },
      {
        "duration": 13,
        "start_time": "2025-01-20T18:06:23.595Z"
      },
      {
        "duration": 187,
        "start_time": "2025-01-20T18:06:24.302Z"
      },
      {
        "duration": 10,
        "start_time": "2025-01-20T18:06:24.789Z"
      },
      {
        "duration": 488,
        "start_time": "2025-01-20T18:06:25.898Z"
      },
      {
        "duration": 255,
        "start_time": "2025-01-20T18:06:27.650Z"
      },
      {
        "duration": 89,
        "start_time": "2025-01-20T18:06:27.907Z"
      },
      {
        "duration": 8,
        "start_time": "2025-01-20T18:06:28.718Z"
      },
      {
        "duration": 6,
        "start_time": "2025-01-20T18:06:29.002Z"
      },
      {
        "duration": 9,
        "start_time": "2025-01-20T18:06:29.310Z"
      },
      {
        "duration": 8,
        "start_time": "2025-01-20T18:06:29.590Z"
      },
      {
        "duration": 262,
        "start_time": "2025-01-20T18:06:31.579Z"
      },
      {
        "duration": 267,
        "start_time": "2025-01-20T18:06:32.753Z"
      },
      {
        "duration": 5,
        "start_time": "2025-01-20T18:06:33.224Z"
      },
      {
        "duration": 11,
        "start_time": "2025-01-20T18:06:33.463Z"
      },
      {
        "duration": 264,
        "start_time": "2025-01-20T18:06:34.290Z"
      },
      {
        "duration": 375,
        "start_time": "2025-01-20T18:06:35.178Z"
      },
      {
        "duration": 6,
        "start_time": "2025-01-20T18:06:36.498Z"
      },
      {
        "duration": 5,
        "start_time": "2025-01-20T18:06:36.756Z"
      },
      {
        "duration": 267,
        "start_time": "2025-01-20T18:06:37.033Z"
      },
      {
        "duration": 8,
        "start_time": "2025-01-20T18:06:37.302Z"
      },
      {
        "duration": 157,
        "start_time": "2025-01-20T18:06:37.882Z"
      },
      {
        "duration": 83,
        "start_time": "2025-01-20T18:06:38.465Z"
      },
      {
        "duration": 10,
        "start_time": "2025-01-20T18:06:39.275Z"
      },
      {
        "duration": 181,
        "start_time": "2025-01-20T18:06:52.187Z"
      },
      {
        "duration": 78,
        "start_time": "2025-01-20T18:06:55.024Z"
      },
      {
        "duration": 5,
        "start_time": "2025-01-20T18:06:56.991Z"
      },
      {
        "duration": 87,
        "start_time": "2025-01-20T18:06:58.299Z"
      },
      {
        "duration": 7,
        "start_time": "2025-01-20T18:06:59.479Z"
      },
      {
        "duration": 12,
        "start_time": "2025-01-20T18:07:00.502Z"
      },
      {
        "duration": 121,
        "start_time": "2025-01-20T18:07:05.722Z"
      },
      {
        "duration": 6,
        "start_time": "2025-01-20T18:09:30.485Z"
      },
      {
        "duration": 16,
        "start_time": "2025-01-20T18:10:53.842Z"
      },
      {
        "duration": 14,
        "start_time": "2025-01-20T18:11:16.398Z"
      },
      {
        "duration": 7,
        "start_time": "2025-01-20T18:12:09.086Z"
      },
      {
        "duration": 16,
        "start_time": "2025-01-20T18:12:15.254Z"
      },
      {
        "duration": 14,
        "start_time": "2025-01-20T18:12:23.719Z"
      },
      {
        "duration": 118,
        "start_time": "2025-01-20T18:12:28.125Z"
      },
      {
        "duration": 413,
        "start_time": "2025-01-20T18:12:41.138Z"
      },
      {
        "duration": 17,
        "start_time": "2025-01-20T18:12:42.781Z"
      },
      {
        "duration": 15,
        "start_time": "2025-01-20T18:12:43.648Z"
      },
      {
        "duration": 3464,
        "start_time": "2025-01-20T18:12:44.477Z"
      },
      {
        "duration": 20,
        "start_time": "2025-01-20T18:12:47.943Z"
      },
      {
        "duration": 23,
        "start_time": "2025-01-20T18:12:47.965Z"
      },
      {
        "duration": 6,
        "start_time": "2025-01-20T18:12:48.378Z"
      },
      {
        "duration": 5,
        "start_time": "2025-01-20T18:12:49.114Z"
      },
      {
        "duration": 5,
        "start_time": "2025-01-20T18:12:50.169Z"
      },
      {
        "duration": 4,
        "start_time": "2025-01-20T18:12:50.620Z"
      },
      {
        "duration": 4,
        "start_time": "2025-01-20T18:12:51.324Z"
      },
      {
        "duration": 12,
        "start_time": "2025-01-20T18:12:51.992Z"
      },
      {
        "duration": 191,
        "start_time": "2025-01-20T18:12:52.781Z"
      },
      {
        "duration": 8,
        "start_time": "2025-01-20T18:12:53.174Z"
      },
      {
        "duration": 308,
        "start_time": "2025-01-20T18:12:54.371Z"
      },
      {
        "duration": 262,
        "start_time": "2025-01-20T18:12:56.301Z"
      },
      {
        "duration": 79,
        "start_time": "2025-01-20T18:12:56.569Z"
      },
      {
        "duration": 7,
        "start_time": "2025-01-20T18:12:57.617Z"
      },
      {
        "duration": 5,
        "start_time": "2025-01-20T18:12:57.878Z"
      },
      {
        "duration": 8,
        "start_time": "2025-01-20T18:12:58.141Z"
      },
      {
        "duration": 9,
        "start_time": "2025-01-20T18:12:58.394Z"
      },
      {
        "duration": 517,
        "start_time": "2025-01-20T18:12:58.885Z"
      },
      {
        "duration": 310,
        "start_time": "2025-01-20T18:12:59.404Z"
      },
      {
        "duration": 5,
        "start_time": "2025-01-20T18:12:59.930Z"
      },
      {
        "duration": 12,
        "start_time": "2025-01-20T18:13:00.950Z"
      },
      {
        "duration": 264,
        "start_time": "2025-01-20T18:13:02.489Z"
      },
      {
        "duration": 261,
        "start_time": "2025-01-20T18:13:04.575Z"
      },
      {
        "duration": 6,
        "start_time": "2025-01-20T18:13:05.682Z"
      },
      {
        "duration": 5,
        "start_time": "2025-01-20T18:13:05.939Z"
      },
      {
        "duration": 264,
        "start_time": "2025-01-20T18:13:06.229Z"
      },
      {
        "duration": 9,
        "start_time": "2025-01-20T18:13:06.495Z"
      },
      {
        "duration": 157,
        "start_time": "2025-01-20T18:13:06.902Z"
      },
      {
        "duration": 85,
        "start_time": "2025-01-20T18:13:07.425Z"
      },
      {
        "duration": 12,
        "start_time": "2025-01-20T18:13:07.950Z"
      },
      {
        "duration": 176,
        "start_time": "2025-01-20T18:13:08.993Z"
      },
      {
        "duration": 216,
        "start_time": "2025-01-20T18:13:09.491Z"
      },
      {
        "duration": 5,
        "start_time": "2025-01-20T18:13:10.229Z"
      },
      {
        "duration": 87,
        "start_time": "2025-01-20T18:13:12.359Z"
      },
      {
        "duration": 6,
        "start_time": "2025-01-20T18:13:13.648Z"
      },
      {
        "duration": 13,
        "start_time": "2025-01-20T18:13:14.140Z"
      },
      {
        "duration": 129,
        "start_time": "2025-01-20T18:13:15.386Z"
      },
      {
        "duration": 174,
        "start_time": "2025-01-20T18:13:16.206Z"
      },
      {
        "duration": 282,
        "start_time": "2025-01-20T18:13:16.923Z"
      },
      {
        "duration": 84,
        "start_time": "2025-01-20T18:13:17.408Z"
      },
      {
        "duration": 263,
        "start_time": "2025-01-20T18:13:19.078Z"
      },
      {
        "duration": 266,
        "start_time": "2025-01-20T18:13:20.097Z"
      },
      {
        "duration": 87,
        "start_time": "2025-01-20T18:13:22.971Z"
      },
      {
        "duration": 258,
        "start_time": "2025-01-20T18:13:23.421Z"
      },
      {
        "duration": 206,
        "start_time": "2025-01-20T18:14:24.837Z"
      },
      {
        "duration": 108,
        "start_time": "2025-01-20T18:14:39.408Z"
      },
      {
        "duration": 268,
        "start_time": "2025-01-20T18:15:31.287Z"
      },
      {
        "duration": 11,
        "start_time": "2025-01-20T18:15:35.886Z"
      },
      {
        "duration": 9,
        "start_time": "2025-01-20T18:15:40.795Z"
      },
      {
        "duration": 84,
        "start_time": "2025-01-20T18:15:44.900Z"
      },
      {
        "duration": 9,
        "start_time": "2025-01-20T18:16:20.007Z"
      },
      {
        "duration": 563,
        "start_time": "2025-01-20T18:16:23.115Z"
      },
      {
        "duration": 9,
        "start_time": "2025-01-20T18:16:30.928Z"
      },
      {
        "duration": 7,
        "start_time": "2025-01-20T18:16:31.751Z"
      },
      {
        "duration": 23,
        "start_time": "2025-01-20T18:16:35.450Z"
      },
      {
        "duration": 134,
        "start_time": "2025-01-20T18:16:37.501Z"
      },
      {
        "duration": 5,
        "start_time": "2025-01-20T18:16:38.033Z"
      },
      {
        "duration": 24,
        "start_time": "2025-01-20T18:17:08.311Z"
      },
      {
        "duration": 127,
        "start_time": "2025-01-20T18:17:09.120Z"
      },
      {
        "duration": 5,
        "start_time": "2025-01-20T18:17:10.007Z"
      },
      {
        "duration": 25,
        "start_time": "2025-01-20T18:17:26.241Z"
      },
      {
        "duration": 132,
        "start_time": "2025-01-20T18:17:27.112Z"
      },
      {
        "duration": 5,
        "start_time": "2025-01-20T18:17:32.085Z"
      },
      {
        "duration": 23,
        "start_time": "2025-01-20T18:17:48.438Z"
      },
      {
        "duration": 135,
        "start_time": "2025-01-20T18:17:49.601Z"
      },
      {
        "duration": 6,
        "start_time": "2025-01-20T18:17:56.513Z"
      },
      {
        "duration": 134,
        "start_time": "2025-01-20T18:18:12.222Z"
      },
      {
        "duration": 146,
        "start_time": "2025-01-20T18:18:14.554Z"
      },
      {
        "duration": 144,
        "start_time": "2025-01-20T18:18:17.470Z"
      },
      {
        "duration": 276,
        "start_time": "2025-01-20T18:18:18.881Z"
      },
      {
        "duration": 22,
        "start_time": "2025-01-20T18:18:21.280Z"
      },
      {
        "duration": 8,
        "start_time": "2025-01-20T18:18:23.224Z"
      },
      {
        "duration": 8,
        "start_time": "2025-01-20T18:18:23.976Z"
      },
      {
        "duration": 144,
        "start_time": "2025-01-20T18:18:32.171Z"
      },
      {
        "duration": 147,
        "start_time": "2025-01-20T18:18:44.926Z"
      },
      {
        "duration": 411,
        "start_time": "2025-01-20T18:22:18.742Z"
      },
      {
        "duration": 290,
        "start_time": "2025-01-20T18:30:10.464Z"
      },
      {
        "duration": 16,
        "start_time": "2025-01-20T18:30:13.730Z"
      },
      {
        "duration": 15,
        "start_time": "2025-01-20T18:30:15.773Z"
      },
      {
        "duration": 3572,
        "start_time": "2025-01-20T18:30:17.743Z"
      },
      {
        "duration": 17,
        "start_time": "2025-01-20T18:30:21.317Z"
      },
      {
        "duration": 5,
        "start_time": "2025-01-20T18:30:21.335Z"
      },
      {
        "duration": 7,
        "start_time": "2025-01-20T18:30:23.285Z"
      },
      {
        "duration": 7,
        "start_time": "2025-01-20T18:30:23.758Z"
      },
      {
        "duration": 5,
        "start_time": "2025-01-20T18:30:36.842Z"
      },
      {
        "duration": 5,
        "start_time": "2025-01-20T18:30:37.322Z"
      },
      {
        "duration": 5,
        "start_time": "2025-01-20T18:30:37.957Z"
      },
      {
        "duration": 12,
        "start_time": "2025-01-20T18:30:38.543Z"
      },
      {
        "duration": 218,
        "start_time": "2025-01-20T18:30:39.303Z"
      },
      {
        "duration": 7,
        "start_time": "2025-01-20T18:30:39.876Z"
      },
      {
        "duration": 311,
        "start_time": "2025-01-20T18:30:41.249Z"
      },
      {
        "duration": 267,
        "start_time": "2025-01-20T18:30:42.726Z"
      },
      {
        "duration": 74,
        "start_time": "2025-01-20T18:30:42.994Z"
      },
      {
        "duration": 8,
        "start_time": "2025-01-20T18:30:43.712Z"
      },
      {
        "duration": 6,
        "start_time": "2025-01-20T18:30:43.953Z"
      },
      {
        "duration": 9,
        "start_time": "2025-01-20T18:30:44.201Z"
      },
      {
        "duration": 9,
        "start_time": "2025-01-20T18:30:44.497Z"
      },
      {
        "duration": 512,
        "start_time": "2025-01-20T18:30:44.823Z"
      },
      {
        "duration": 295,
        "start_time": "2025-01-20T18:30:45.337Z"
      },
      {
        "duration": 6,
        "start_time": "2025-01-20T18:30:45.865Z"
      },
      {
        "duration": 11,
        "start_time": "2025-01-20T18:30:46.064Z"
      },
      {
        "duration": 266,
        "start_time": "2025-01-20T18:30:46.515Z"
      },
      {
        "duration": 263,
        "start_time": "2025-01-20T18:30:47.135Z"
      },
      {
        "duration": 6,
        "start_time": "2025-01-20T18:30:47.794Z"
      },
      {
        "duration": 6,
        "start_time": "2025-01-20T18:30:48.008Z"
      },
      {
        "duration": 265,
        "start_time": "2025-01-20T18:30:48.226Z"
      },
      {
        "duration": 8,
        "start_time": "2025-01-20T18:30:48.493Z"
      },
      {
        "duration": 157,
        "start_time": "2025-01-20T18:30:48.897Z"
      },
      {
        "duration": 107,
        "start_time": "2025-01-20T18:30:49.371Z"
      },
      {
        "duration": 11,
        "start_time": "2025-01-20T18:30:49.815Z"
      },
      {
        "duration": 176,
        "start_time": "2025-01-20T18:30:50.320Z"
      },
      {
        "duration": 79,
        "start_time": "2025-01-20T18:30:50.772Z"
      },
      {
        "duration": 4,
        "start_time": "2025-01-20T18:30:51.407Z"
      },
      {
        "duration": 87,
        "start_time": "2025-01-20T18:30:51.617Z"
      },
      {
        "duration": 7,
        "start_time": "2025-01-20T18:30:52.074Z"
      },
      {
        "duration": 15,
        "start_time": "2025-01-20T18:30:52.735Z"
      },
      {
        "duration": 292,
        "start_time": "2025-01-20T18:30:53.233Z"
      },
      {
        "duration": 175,
        "start_time": "2025-01-20T18:30:53.724Z"
      },
      {
        "duration": 282,
        "start_time": "2025-01-20T18:30:54.214Z"
      },
      {
        "duration": 84,
        "start_time": "2025-01-20T18:30:54.708Z"
      },
      {
        "duration": 266,
        "start_time": "2025-01-20T18:30:55.203Z"
      },
      {
        "duration": 266,
        "start_time": "2025-01-20T18:30:55.705Z"
      },
      {
        "duration": 267,
        "start_time": "2025-01-20T18:30:56.981Z"
      },
      {
        "duration": 13,
        "start_time": "2025-01-20T18:30:57.480Z"
      },
      {
        "duration": 9,
        "start_time": "2025-01-20T18:30:57.970Z"
      },
      {
        "duration": 11,
        "start_time": "2025-01-20T18:30:58.435Z"
      },
      {
        "duration": 708,
        "start_time": "2025-01-20T18:30:58.664Z"
      },
      {
        "duration": 21,
        "start_time": "2025-01-20T18:30:59.373Z"
      },
      {
        "duration": 6,
        "start_time": "2025-01-20T18:30:59.395Z"
      },
      {
        "duration": 24,
        "start_time": "2025-01-20T18:31:00.921Z"
      },
      {
        "duration": 134,
        "start_time": "2025-01-20T18:31:01.154Z"
      },
      {
        "duration": 5,
        "start_time": "2025-01-20T18:31:01.377Z"
      },
      {
        "duration": 24,
        "start_time": "2025-01-20T18:31:02.283Z"
      },
      {
        "duration": 134,
        "start_time": "2025-01-20T18:31:02.505Z"
      },
      {
        "duration": 6,
        "start_time": "2025-01-20T18:31:02.744Z"
      },
      {
        "duration": 25,
        "start_time": "2025-01-20T18:31:03.448Z"
      },
      {
        "duration": 127,
        "start_time": "2025-01-20T18:31:03.672Z"
      },
      {
        "duration": 5,
        "start_time": "2025-01-20T18:31:03.888Z"
      },
      {
        "duration": 24,
        "start_time": "2025-01-20T18:31:04.560Z"
      },
      {
        "duration": 133,
        "start_time": "2025-01-20T18:31:04.800Z"
      },
      {
        "duration": 5,
        "start_time": "2025-01-20T18:31:05.017Z"
      },
      {
        "duration": 136,
        "start_time": "2025-01-20T18:31:05.752Z"
      },
      {
        "duration": 160,
        "start_time": "2025-01-20T18:31:06.486Z"
      },
      {
        "duration": 151,
        "start_time": "2025-01-20T18:31:07.224Z"
      },
      {
        "duration": 139,
        "start_time": "2025-01-20T18:31:07.716Z"
      },
      {
        "duration": 23,
        "start_time": "2025-01-20T18:31:08.641Z"
      },
      {
        "duration": 7,
        "start_time": "2025-01-20T18:31:09.113Z"
      },
      {
        "duration": 8,
        "start_time": "2025-01-20T18:31:09.356Z"
      },
      {
        "duration": 147,
        "start_time": "2025-01-20T18:31:10.361Z"
      },
      {
        "duration": 158,
        "start_time": "2025-01-20T18:31:11.686Z"
      },
      {
        "duration": 381,
        "start_time": "2025-01-20T18:31:16.568Z"
      },
      {
        "duration": 307,
        "start_time": "2025-01-20T18:32:05.598Z"
      },
      {
        "duration": 11,
        "start_time": "2025-01-20T18:36:57.447Z"
      },
      {
        "duration": 1879,
        "start_time": "2025-01-20T18:37:26.748Z"
      },
      {
        "duration": 285,
        "start_time": "2025-01-20T18:40:53.629Z"
      },
      {
        "duration": 271,
        "start_time": "2025-01-20T18:43:41.527Z"
      },
      {
        "duration": 277,
        "start_time": "2025-01-20T18:45:44.220Z"
      },
      {
        "duration": 14,
        "start_time": "2025-01-20T18:45:44.862Z"
      },
      {
        "duration": 10,
        "start_time": "2025-01-20T18:45:45.348Z"
      },
      {
        "duration": 11,
        "start_time": "2025-01-20T18:45:45.780Z"
      },
      {
        "duration": 568,
        "start_time": "2025-01-20T18:45:45.995Z"
      },
      {
        "duration": 20,
        "start_time": "2025-01-20T18:45:46.566Z"
      },
      {
        "duration": 6,
        "start_time": "2025-01-20T18:45:46.603Z"
      },
      {
        "duration": 24,
        "start_time": "2025-01-20T18:45:48.346Z"
      },
      {
        "duration": 139,
        "start_time": "2025-01-20T18:45:48.687Z"
      },
      {
        "duration": 4,
        "start_time": "2025-01-20T18:45:49.192Z"
      },
      {
        "duration": 518,
        "start_time": "2025-01-20T18:46:34.153Z"
      },
      {
        "duration": 16,
        "start_time": "2025-01-20T18:46:35.070Z"
      },
      {
        "duration": 13,
        "start_time": "2025-01-20T18:46:35.928Z"
      },
      {
        "duration": 3397,
        "start_time": "2025-01-20T18:46:36.984Z"
      },
      {
        "duration": 18,
        "start_time": "2025-01-20T18:46:40.387Z"
      },
      {
        "duration": 11,
        "start_time": "2025-01-20T18:46:40.406Z"
      },
      {
        "duration": 5,
        "start_time": "2025-01-20T18:46:40.419Z"
      },
      {
        "duration": 6,
        "start_time": "2025-01-20T18:46:40.894Z"
      },
      {
        "duration": 5,
        "start_time": "2025-01-20T18:46:42.201Z"
      },
      {
        "duration": 5,
        "start_time": "2025-01-20T18:46:42.642Z"
      },
      {
        "duration": 5,
        "start_time": "2025-01-20T18:46:43.329Z"
      },
      {
        "duration": 11,
        "start_time": "2025-01-20T18:46:44.003Z"
      },
      {
        "duration": 197,
        "start_time": "2025-01-20T18:46:44.762Z"
      },
      {
        "duration": 8,
        "start_time": "2025-01-20T18:46:45.317Z"
      },
      {
        "duration": 608,
        "start_time": "2025-01-20T18:46:46.678Z"
      },
      {
        "duration": 256,
        "start_time": "2025-01-20T18:46:48.896Z"
      },
      {
        "duration": 74,
        "start_time": "2025-01-20T18:46:49.316Z"
      },
      {
        "duration": 7,
        "start_time": "2025-01-20T18:46:50.658Z"
      },
      {
        "duration": 5,
        "start_time": "2025-01-20T18:46:51.001Z"
      },
      {
        "duration": 8,
        "start_time": "2025-01-20T18:46:51.403Z"
      },
      {
        "duration": 8,
        "start_time": "2025-01-20T18:46:51.681Z"
      },
      {
        "duration": 259,
        "start_time": "2025-01-20T18:46:52.383Z"
      },
      {
        "duration": 271,
        "start_time": "2025-01-20T18:46:53.408Z"
      },
      {
        "duration": 5,
        "start_time": "2025-01-20T18:46:54.632Z"
      },
      {
        "duration": 12,
        "start_time": "2025-01-20T18:46:55.179Z"
      },
      {
        "duration": 271,
        "start_time": "2025-01-20T18:46:55.969Z"
      },
      {
        "duration": 263,
        "start_time": "2025-01-20T18:46:56.983Z"
      },
      {
        "duration": 6,
        "start_time": "2025-01-20T18:46:57.847Z"
      },
      {
        "duration": 5,
        "start_time": "2025-01-20T18:46:58.088Z"
      },
      {
        "duration": 258,
        "start_time": "2025-01-20T18:46:58.337Z"
      },
      {
        "duration": 8,
        "start_time": "2025-01-20T18:46:58.597Z"
      },
      {
        "duration": 163,
        "start_time": "2025-01-20T18:46:59.089Z"
      },
      {
        "duration": 84,
        "start_time": "2025-01-20T18:46:59.628Z"
      },
      {
        "duration": 11,
        "start_time": "2025-01-20T18:47:00.440Z"
      },
      {
        "duration": 363,
        "start_time": "2025-01-20T18:47:01.512Z"
      },
      {
        "duration": 79,
        "start_time": "2025-01-20T18:47:02.693Z"
      },
      {
        "duration": 5,
        "start_time": "2025-01-20T18:47:04.178Z"
      },
      {
        "duration": 88,
        "start_time": "2025-01-20T18:47:04.669Z"
      },
      {
        "duration": 7,
        "start_time": "2025-01-20T18:47:05.466Z"
      },
      {
        "duration": 15,
        "start_time": "2025-01-20T18:47:05.960Z"
      },
      {
        "duration": 124,
        "start_time": "2025-01-20T18:47:06.347Z"
      },
      {
        "duration": 172,
        "start_time": "2025-01-20T18:47:06.807Z"
      },
      {
        "duration": 1582,
        "start_time": "2025-01-20T18:47:07.304Z"
      },
      {
        "duration": 0,
        "start_time": "2025-01-20T18:47:08.888Z"
      },
      {
        "duration": 0,
        "start_time": "2025-01-20T18:47:08.889Z"
      },
      {
        "duration": 0,
        "start_time": "2025-01-20T18:47:08.890Z"
      },
      {
        "duration": 266,
        "start_time": "2025-01-20T18:47:10.883Z"
      },
      {
        "duration": 12,
        "start_time": "2025-01-20T18:47:11.654Z"
      },
      {
        "duration": 10,
        "start_time": "2025-01-20T18:47:12.184Z"
      },
      {
        "duration": 11,
        "start_time": "2025-01-20T18:47:12.647Z"
      },
      {
        "duration": 561,
        "start_time": "2025-01-20T18:47:12.884Z"
      },
      {
        "duration": 9,
        "start_time": "2025-01-20T18:47:13.447Z"
      },
      {
        "duration": 6,
        "start_time": "2025-01-20T18:47:13.457Z"
      },
      {
        "duration": 25,
        "start_time": "2025-01-20T18:47:14.720Z"
      },
      {
        "duration": 129,
        "start_time": "2025-01-20T18:47:14.944Z"
      },
      {
        "duration": 6,
        "start_time": "2025-01-20T18:47:15.185Z"
      },
      {
        "duration": 24,
        "start_time": "2025-01-20T18:47:16.169Z"
      },
      {
        "duration": 127,
        "start_time": "2025-01-20T18:47:16.415Z"
      },
      {
        "duration": 4,
        "start_time": "2025-01-20T18:47:16.666Z"
      },
      {
        "duration": 22,
        "start_time": "2025-01-20T18:47:17.410Z"
      },
      {
        "duration": 119,
        "start_time": "2025-01-20T18:47:17.660Z"
      },
      {
        "duration": 5,
        "start_time": "2025-01-20T18:47:17.958Z"
      },
      {
        "duration": 22,
        "start_time": "2025-01-20T18:47:18.547Z"
      },
      {
        "duration": 129,
        "start_time": "2025-01-20T18:47:18.848Z"
      },
      {
        "duration": 5,
        "start_time": "2025-01-20T18:47:19.097Z"
      },
      {
        "duration": 141,
        "start_time": "2025-01-20T18:47:19.886Z"
      },
      {
        "duration": 161,
        "start_time": "2025-01-20T18:47:20.661Z"
      },
      {
        "duration": 150,
        "start_time": "2025-01-20T18:47:21.392Z"
      },
      {
        "duration": 148,
        "start_time": "2025-01-20T18:47:21.977Z"
      },
      {
        "duration": 21,
        "start_time": "2025-01-20T18:47:23.066Z"
      },
      {
        "duration": 8,
        "start_time": "2025-01-20T18:47:23.574Z"
      },
      {
        "duration": 7,
        "start_time": "2025-01-20T18:47:23.841Z"
      },
      {
        "duration": 1526,
        "start_time": "2025-01-20T18:47:25.112Z"
      },
      {
        "duration": 0,
        "start_time": "2025-01-20T18:47:26.640Z"
      },
      {
        "duration": 412,
        "start_time": "2025-01-20T18:47:30.409Z"
      },
      {
        "duration": 1514,
        "start_time": "2025-01-20T18:51:03.860Z"
      },
      {
        "duration": 501,
        "start_time": "2025-01-20T18:51:21.323Z"
      },
      {
        "duration": 15,
        "start_time": "2025-01-20T18:51:22.533Z"
      },
      {
        "duration": 14,
        "start_time": "2025-01-20T18:51:23.525Z"
      },
      {
        "duration": 3320,
        "start_time": "2025-01-20T18:51:24.382Z"
      },
      {
        "duration": 17,
        "start_time": "2025-01-20T18:51:27.704Z"
      },
      {
        "duration": 13,
        "start_time": "2025-01-20T18:51:27.722Z"
      },
      {
        "duration": 5,
        "start_time": "2025-01-20T18:51:27.737Z"
      },
      {
        "duration": 6,
        "start_time": "2025-01-20T18:51:28.014Z"
      },
      {
        "duration": 5,
        "start_time": "2025-01-20T18:51:29.242Z"
      },
      {
        "duration": 5,
        "start_time": "2025-01-20T18:51:29.740Z"
      },
      {
        "duration": 4,
        "start_time": "2025-01-20T18:51:30.278Z"
      },
      {
        "duration": 11,
        "start_time": "2025-01-20T18:51:30.946Z"
      },
      {
        "duration": 189,
        "start_time": "2025-01-20T18:51:31.738Z"
      },
      {
        "duration": 9,
        "start_time": "2025-01-20T18:51:33.197Z"
      },
      {
        "duration": 305,
        "start_time": "2025-01-20T18:51:36.091Z"
      },
      {
        "duration": 604,
        "start_time": "2025-01-20T18:52:00.278Z"
      },
      {
        "duration": 16,
        "start_time": "2025-01-20T18:52:02.574Z"
      },
      {
        "duration": 13,
        "start_time": "2025-01-20T18:52:05.286Z"
      },
      {
        "duration": 3336,
        "start_time": "2025-01-20T18:52:07.522Z"
      },
      {
        "duration": 17,
        "start_time": "2025-01-20T18:52:11.899Z"
      },
      {
        "duration": 5,
        "start_time": "2025-01-20T18:52:12.694Z"
      },
      {
        "duration": 6,
        "start_time": "2025-01-20T18:52:17.617Z"
      },
      {
        "duration": 5,
        "start_time": "2025-01-20T18:52:18.670Z"
      },
      {
        "duration": 5,
        "start_time": "2025-01-20T18:52:46.619Z"
      },
      {
        "duration": 5,
        "start_time": "2025-01-20T18:53:00.822Z"
      },
      {
        "duration": 4,
        "start_time": "2025-01-20T18:53:02.622Z"
      },
      {
        "duration": 12,
        "start_time": "2025-01-20T18:53:04.348Z"
      },
      {
        "duration": 188,
        "start_time": "2025-01-20T18:53:06.077Z"
      },
      {
        "duration": 8,
        "start_time": "2025-01-20T18:53:07.130Z"
      },
      {
        "duration": 601,
        "start_time": "2025-01-20T18:53:09.332Z"
      },
      {
        "duration": 303,
        "start_time": "2025-01-20T18:57:20.997Z"
      },
      {
        "duration": 301,
        "start_time": "2025-01-20T18:57:38.102Z"
      },
      {
        "duration": 308,
        "start_time": "2025-01-20T18:58:40.843Z"
      },
      {
        "duration": 260,
        "start_time": "2025-01-20T18:58:46.174Z"
      },
      {
        "duration": 75,
        "start_time": "2025-01-20T18:58:46.754Z"
      },
      {
        "duration": 6,
        "start_time": "2025-01-20T18:58:47.785Z"
      },
      {
        "duration": 5,
        "start_time": "2025-01-20T18:58:48.025Z"
      },
      {
        "duration": 9,
        "start_time": "2025-01-20T18:58:48.271Z"
      },
      {
        "duration": 8,
        "start_time": "2025-01-20T18:58:48.505Z"
      },
      {
        "duration": 259,
        "start_time": "2025-01-20T18:58:48.993Z"
      },
      {
        "duration": 269,
        "start_time": "2025-01-20T18:58:49.522Z"
      },
      {
        "duration": 6,
        "start_time": "2025-01-20T18:58:50.392Z"
      },
      {
        "duration": 11,
        "start_time": "2025-01-20T18:58:50.868Z"
      },
      {
        "duration": 477,
        "start_time": "2025-01-20T18:58:51.709Z"
      },
      {
        "duration": 263,
        "start_time": "2025-01-20T18:58:52.862Z"
      },
      {
        "duration": 6,
        "start_time": "2025-01-20T18:58:56.794Z"
      },
      {
        "duration": 6,
        "start_time": "2025-01-20T18:58:57.343Z"
      },
      {
        "duration": 273,
        "start_time": "2025-01-20T18:58:57.961Z"
      },
      {
        "duration": 8,
        "start_time": "2025-01-20T18:58:59.406Z"
      },
      {
        "duration": 160,
        "start_time": "2025-01-20T18:59:00.645Z"
      },
      {
        "duration": 85,
        "start_time": "2025-01-20T18:59:02.191Z"
      },
      {
        "duration": 12,
        "start_time": "2025-01-20T18:59:03.648Z"
      },
      {
        "duration": 176,
        "start_time": "2025-01-20T18:59:04.632Z"
      },
      {
        "duration": 86,
        "start_time": "2025-01-20T18:59:06.106Z"
      },
      {
        "duration": 5,
        "start_time": "2025-01-20T18:59:07.801Z"
      },
      {
        "duration": 86,
        "start_time": "2025-01-20T18:59:08.048Z"
      },
      {
        "duration": 7,
        "start_time": "2025-01-20T18:59:08.541Z"
      },
      {
        "duration": 15,
        "start_time": "2025-01-20T18:59:09.496Z"
      },
      {
        "duration": 123,
        "start_time": "2025-01-20T18:59:10.173Z"
      },
      {
        "duration": 180,
        "start_time": "2025-01-20T18:59:11.174Z"
      },
      {
        "duration": 272,
        "start_time": "2025-01-20T18:59:11.938Z"
      },
      {
        "duration": 75,
        "start_time": "2025-01-20T18:59:21.094Z"
      },
      {
        "duration": 273,
        "start_time": "2025-01-20T19:01:30.058Z"
      },
      {
        "duration": 3,
        "start_time": "2025-01-20T19:03:03.434Z"
      },
      {
        "duration": 307,
        "start_time": "2025-01-20T19:03:12.747Z"
      },
      {
        "duration": 15,
        "start_time": "2025-01-20T19:03:13.753Z"
      },
      {
        "duration": 14,
        "start_time": "2025-01-20T19:03:14.700Z"
      },
      {
        "duration": 3632,
        "start_time": "2025-01-20T19:03:15.933Z"
      },
      {
        "duration": 29,
        "start_time": "2025-01-20T19:03:19.567Z"
      },
      {
        "duration": 5,
        "start_time": "2025-01-20T19:03:19.598Z"
      },
      {
        "duration": 8,
        "start_time": "2025-01-20T19:03:19.695Z"
      },
      {
        "duration": 13,
        "start_time": "2025-01-20T19:03:20.153Z"
      },
      {
        "duration": 5,
        "start_time": "2025-01-20T19:03:46.653Z"
      },
      {
        "duration": 4,
        "start_time": "2025-01-20T19:04:04.735Z"
      },
      {
        "duration": 5,
        "start_time": "2025-01-20T19:04:06.761Z"
      },
      {
        "duration": 12,
        "start_time": "2025-01-20T19:04:08.208Z"
      },
      {
        "duration": 206,
        "start_time": "2025-01-20T19:04:09.481Z"
      },
      {
        "duration": 8,
        "start_time": "2025-01-20T19:04:10.208Z"
      },
      {
        "duration": 306,
        "start_time": "2025-01-20T19:04:11.715Z"
      },
      {
        "duration": 264,
        "start_time": "2025-01-20T19:04:15.012Z"
      },
      {
        "duration": 77,
        "start_time": "2025-01-20T19:04:15.745Z"
      },
      {
        "duration": 8,
        "start_time": "2025-01-20T19:04:17.961Z"
      },
      {
        "duration": 5,
        "start_time": "2025-01-20T19:04:18.489Z"
      },
      {
        "duration": 9,
        "start_time": "2025-01-20T19:04:18.913Z"
      },
      {
        "duration": 8,
        "start_time": "2025-01-20T19:04:19.324Z"
      },
      {
        "duration": 259,
        "start_time": "2025-01-20T19:04:19.840Z"
      },
      {
        "duration": 590,
        "start_time": "2025-01-20T19:04:20.412Z"
      },
      {
        "duration": 6,
        "start_time": "2025-01-20T19:04:21.612Z"
      },
      {
        "duration": 12,
        "start_time": "2025-01-20T19:04:22.036Z"
      },
      {
        "duration": 267,
        "start_time": "2025-01-20T19:04:24.354Z"
      },
      {
        "duration": 272,
        "start_time": "2025-01-20T19:04:26.399Z"
      },
      {
        "duration": 6,
        "start_time": "2025-01-20T19:04:28.055Z"
      },
      {
        "duration": 6,
        "start_time": "2025-01-20T19:04:28.480Z"
      },
      {
        "duration": 270,
        "start_time": "2025-01-20T19:04:28.826Z"
      },
      {
        "duration": 9,
        "start_time": "2025-01-20T19:04:29.528Z"
      },
      {
        "duration": 163,
        "start_time": "2025-01-20T19:04:30.785Z"
      },
      {
        "duration": 86,
        "start_time": "2025-01-20T19:04:32.028Z"
      },
      {
        "duration": 12,
        "start_time": "2025-01-20T19:04:33.031Z"
      },
      {
        "duration": 183,
        "start_time": "2025-01-20T19:04:33.869Z"
      },
      {
        "duration": 81,
        "start_time": "2025-01-20T19:04:35.070Z"
      },
      {
        "duration": 6,
        "start_time": "2025-01-20T19:04:36.453Z"
      },
      {
        "duration": 92,
        "start_time": "2025-01-20T19:04:36.769Z"
      },
      {
        "duration": 8,
        "start_time": "2025-01-20T19:04:37.448Z"
      },
      {
        "duration": 16,
        "start_time": "2025-01-20T19:04:38.376Z"
      },
      {
        "duration": 136,
        "start_time": "2025-01-20T19:04:39.289Z"
      },
      {
        "duration": 182,
        "start_time": "2025-01-20T19:04:40.759Z"
      },
      {
        "duration": 284,
        "start_time": "2025-01-20T19:04:41.743Z"
      },
      {
        "duration": 260,
        "start_time": "2025-01-20T19:04:45.828Z"
      },
      {
        "duration": 271,
        "start_time": "2025-01-20T19:05:17.033Z"
      },
      {
        "duration": 262,
        "start_time": "2025-01-20T19:05:21.168Z"
      },
      {
        "duration": 12,
        "start_time": "2025-01-20T19:05:22.453Z"
      },
      {
        "duration": 10,
        "start_time": "2025-01-20T19:05:23.339Z"
      },
      {
        "duration": 10,
        "start_time": "2025-01-20T19:05:24.240Z"
      },
      {
        "duration": 819,
        "start_time": "2025-01-20T19:05:24.757Z"
      },
      {
        "duration": 10,
        "start_time": "2025-01-20T19:05:25.585Z"
      },
      {
        "duration": 6,
        "start_time": "2025-01-20T19:05:25.770Z"
      },
      {
        "duration": 25,
        "start_time": "2025-01-20T19:05:27.807Z"
      },
      {
        "duration": 139,
        "start_time": "2025-01-20T19:05:28.059Z"
      },
      {
        "duration": 5,
        "start_time": "2025-01-20T19:05:28.321Z"
      },
      {
        "duration": 23,
        "start_time": "2025-01-20T19:05:29.313Z"
      },
      {
        "duration": 128,
        "start_time": "2025-01-20T19:05:29.529Z"
      },
      {
        "duration": 5,
        "start_time": "2025-01-20T19:05:29.779Z"
      },
      {
        "duration": 23,
        "start_time": "2025-01-20T19:05:30.530Z"
      },
      {
        "duration": 123,
        "start_time": "2025-01-20T19:05:30.825Z"
      },
      {
        "duration": 5,
        "start_time": "2025-01-20T19:05:30.956Z"
      },
      {
        "duration": 23,
        "start_time": "2025-01-20T19:05:31.696Z"
      },
      {
        "duration": 141,
        "start_time": "2025-01-20T19:05:31.973Z"
      },
      {
        "duration": 5,
        "start_time": "2025-01-20T19:05:32.225Z"
      },
      {
        "duration": 141,
        "start_time": "2025-01-20T19:05:33.092Z"
      },
      {
        "duration": 158,
        "start_time": "2025-01-20T19:05:34.144Z"
      },
      {
        "duration": 152,
        "start_time": "2025-01-20T19:05:34.889Z"
      },
      {
        "duration": 146,
        "start_time": "2025-01-20T19:05:35.408Z"
      },
      {
        "duration": 22,
        "start_time": "2025-01-20T19:05:36.417Z"
      },
      {
        "duration": 7,
        "start_time": "2025-01-20T19:05:36.922Z"
      },
      {
        "duration": 7,
        "start_time": "2025-01-20T19:05:37.157Z"
      },
      {
        "duration": 162,
        "start_time": "2025-01-20T19:05:38.282Z"
      },
      {
        "duration": 132,
        "start_time": "2025-01-20T19:07:24.493Z"
      },
      {
        "duration": 383,
        "start_time": "2025-01-20T19:07:39.661Z"
      },
      {
        "duration": 1917,
        "start_time": "2025-01-21T11:25:54.393Z"
      },
      {
        "duration": 25,
        "start_time": "2025-01-21T11:25:56.311Z"
      },
      {
        "duration": 30,
        "start_time": "2025-01-21T11:25:56.338Z"
      },
      {
        "duration": 4106,
        "start_time": "2025-01-21T11:25:56.371Z"
      },
      {
        "duration": 22,
        "start_time": "2025-01-21T11:26:00.485Z"
      },
      {
        "duration": 26,
        "start_time": "2025-01-21T11:26:00.509Z"
      },
      {
        "duration": 51,
        "start_time": "2025-01-21T11:26:00.537Z"
      },
      {
        "duration": 23,
        "start_time": "2025-01-21T11:26:00.590Z"
      },
      {
        "duration": 39,
        "start_time": "2025-01-21T11:26:00.615Z"
      },
      {
        "duration": 91,
        "start_time": "2025-01-21T11:26:00.657Z"
      },
      {
        "duration": 275,
        "start_time": "2025-01-21T11:26:00.750Z"
      },
      {
        "duration": 9,
        "start_time": "2025-01-21T11:26:01.027Z"
      },
      {
        "duration": 568,
        "start_time": "2025-01-21T11:26:01.038Z"
      },
      {
        "duration": 351,
        "start_time": "2025-01-21T11:26:01.608Z"
      },
      {
        "duration": 97,
        "start_time": "2025-01-21T11:26:01.960Z"
      },
      {
        "duration": 8,
        "start_time": "2025-01-21T11:26:02.058Z"
      },
      {
        "duration": 95,
        "start_time": "2025-01-21T11:26:02.068Z"
      },
      {
        "duration": 27,
        "start_time": "2025-01-21T11:26:02.165Z"
      },
      {
        "duration": 28,
        "start_time": "2025-01-21T11:26:02.194Z"
      },
      {
        "duration": 336,
        "start_time": "2025-01-21T11:26:02.224Z"
      },
      {
        "duration": 339,
        "start_time": "2025-01-21T11:26:02.563Z"
      },
      {
        "duration": 7,
        "start_time": "2025-01-21T11:26:02.904Z"
      },
      {
        "duration": 16,
        "start_time": "2025-01-21T11:26:02.912Z"
      },
      {
        "duration": 344,
        "start_time": "2025-01-21T11:26:02.930Z"
      },
      {
        "duration": 639,
        "start_time": "2025-01-21T11:26:03.275Z"
      },
      {
        "duration": 7,
        "start_time": "2025-01-21T11:26:03.915Z"
      },
      {
        "duration": 67,
        "start_time": "2025-01-21T11:26:03.924Z"
      },
      {
        "duration": 703,
        "start_time": "2025-01-21T11:26:03.996Z"
      },
      {
        "duration": 9,
        "start_time": "2025-01-21T11:26:04.700Z"
      },
      {
        "duration": 377,
        "start_time": "2025-01-21T11:26:04.711Z"
      },
      {
        "duration": 110,
        "start_time": "2025-01-21T11:26:05.090Z"
      },
      {
        "duration": 12,
        "start_time": "2025-01-21T11:26:05.202Z"
      },
      {
        "duration": 233,
        "start_time": "2025-01-21T11:26:05.216Z"
      },
      {
        "duration": 105,
        "start_time": "2025-01-21T11:26:05.451Z"
      },
      {
        "duration": 9,
        "start_time": "2025-01-21T11:26:05.558Z"
      },
      {
        "duration": 127,
        "start_time": "2025-01-21T11:26:05.569Z"
      },
      {
        "duration": 7,
        "start_time": "2025-01-21T11:26:05.701Z"
      },
      {
        "duration": 110,
        "start_time": "2025-01-21T11:26:05.710Z"
      },
      {
        "duration": 146,
        "start_time": "2025-01-21T11:26:05.822Z"
      },
      {
        "duration": 218,
        "start_time": "2025-01-21T11:26:05.970Z"
      },
      {
        "duration": 464,
        "start_time": "2025-01-21T11:26:06.189Z"
      },
      {
        "duration": 333,
        "start_time": "2025-01-21T11:26:06.655Z"
      },
      {
        "duration": 333,
        "start_time": "2025-01-21T11:26:06.989Z"
      },
      {
        "duration": 324,
        "start_time": "2025-01-21T11:26:07.324Z"
      },
      {
        "duration": 12,
        "start_time": "2025-01-21T11:26:07.650Z"
      },
      {
        "duration": 120,
        "start_time": "2025-01-21T11:26:07.664Z"
      },
      {
        "duration": 33,
        "start_time": "2025-01-21T11:26:07.786Z"
      },
      {
        "duration": 793,
        "start_time": "2025-01-21T11:26:07.821Z"
      },
      {
        "duration": 10,
        "start_time": "2025-01-21T11:26:08.615Z"
      },
      {
        "duration": 10,
        "start_time": "2025-01-21T11:26:08.626Z"
      },
      {
        "duration": 39,
        "start_time": "2025-01-21T11:26:08.638Z"
      },
      {
        "duration": 163,
        "start_time": "2025-01-21T11:26:08.685Z"
      },
      {
        "duration": 5,
        "start_time": "2025-01-21T11:26:08.850Z"
      },
      {
        "duration": 38,
        "start_time": "2025-01-21T11:26:08.856Z"
      },
      {
        "duration": 168,
        "start_time": "2025-01-21T11:26:08.896Z"
      },
      {
        "duration": 20,
        "start_time": "2025-01-21T11:26:09.066Z"
      },
      {
        "duration": 31,
        "start_time": "2025-01-21T11:26:09.088Z"
      },
      {
        "duration": 170,
        "start_time": "2025-01-21T11:26:09.121Z"
      },
      {
        "duration": 6,
        "start_time": "2025-01-21T11:26:09.293Z"
      },
      {
        "duration": 38,
        "start_time": "2025-01-21T11:26:09.300Z"
      },
      {
        "duration": 171,
        "start_time": "2025-01-21T11:26:09.340Z"
      },
      {
        "duration": 6,
        "start_time": "2025-01-21T11:26:09.513Z"
      },
      {
        "duration": 200,
        "start_time": "2025-01-21T11:26:09.520Z"
      },
      {
        "duration": 198,
        "start_time": "2025-01-21T11:26:09.722Z"
      },
      {
        "duration": 201,
        "start_time": "2025-01-21T11:26:09.922Z"
      },
      {
        "duration": 183,
        "start_time": "2025-01-21T11:26:10.125Z"
      },
      {
        "duration": 24,
        "start_time": "2025-01-21T11:26:10.310Z"
      },
      {
        "duration": 43,
        "start_time": "2025-01-21T11:26:10.336Z"
      },
      {
        "duration": 14,
        "start_time": "2025-01-21T11:26:10.381Z"
      },
      {
        "duration": 197,
        "start_time": "2025-01-21T11:26:10.397Z"
      },
      {
        "duration": 161,
        "start_time": "2025-01-21T11:26:10.595Z"
      },
      {
        "duration": 464,
        "start_time": "2025-01-21T11:26:10.758Z"
      }
    ],
    "colab": {
      "provenance": []
    },
    "kernelspec": {
      "display_name": "Python 3 (ipykernel)",
      "language": "python",
      "name": "python3"
    },
    "language_info": {
      "codemirror_mode": {
        "name": "ipython",
        "version": 3
      },
      "file_extension": ".py",
      "mimetype": "text/x-python",
      "name": "python",
      "nbconvert_exporter": "python",
      "pygments_lexer": "ipython3",
      "version": "3.9.5"
    },
    "toc": {
      "base_numbering": 1,
      "nav_menu": {},
      "number_sections": true,
      "sideBar": true,
      "skip_h1_title": true,
      "title_cell": "Table of Contents",
      "title_sidebar": "Contents",
      "toc_cell": false,
      "toc_position": {
        "height": "calc(100% - 180px)",
        "left": "10px",
        "top": "150px",
        "width": "224.523px"
      },
      "toc_section_display": true,
      "toc_window_display": true
    }
  },
  "nbformat": 4,
  "nbformat_minor": 0
}