{
  "cells": [
    {
      "cell_type": "markdown",
      "metadata": {
        "id": "Y1CWxrxt5hqX"
      },
      "source": [
        "# Определение стоимости автомобилей"
      ]
    },
    {
      "cell_type": "markdown",
      "metadata": {
        "id": "xp-QYhuS5hqX"
      },
      "source": [
        "Сервис по продаже автомобилей с пробегом «Не бит, не крашен» разрабатывает приложение для привлечения новых клиентов. В нём можно быстро узнать рыночную стоимость своего автомобиля. В вашем распоряжении исторические данные: технические характеристики, комплектации и цены автомобилей. Вам нужно построить модель для определения стоимости.\n",
        "\n",
        "Заказчику важны:\n",
        "\n",
        "- качество предсказания;\n",
        "- скорость предсказания;\n",
        "- время обучения."
      ]
    },
    {
      "cell_type": "markdown",
      "metadata": {
        "id": "7XG-TX5E5hqY"
      },
      "source": [
        "## Подготовка данных"
      ]
    },
    {
      "cell_type": "markdown",
      "metadata": {
        "id": "Moohdcl_5hqY"
      },
      "source": [
        "### Импортируем необходимые библиотеки и функции, а также модели для обучения, настройки гиперпараметров и оценки качества."
      ]
    },
    {
      "cell_type": "code",
      "execution_count": null,
      "metadata": {
        "id": "FDPXwq4T5hqY"
      },
      "outputs": [],
      "source": [
        "import pandas as pd\n",
        "pd.options.display.float_format = '{:,.2f}'.format\n",
        "\n",
        "# Установка пакетов\n",
        "!pip install --upgrade ipykernel -q\n",
        "!pip install --upgrade pip -q\n",
        "!pip install matplotlib -q\n",
        "!pip install scikit-learn==1.6.1 -q\n",
        "!pip install shap -q\n",
        "!pip install --upgrade scikit-learn -q\n",
        "!pip install phik -q\n",
        "!pip install ipython -q\n",
        "!pip install category-encoders -q\n",
        "\n",
        "# Импорты библиотек\n",
        "from category_encoders import BinaryEncoder\n",
        "import time\n",
        "import warnings\n",
        "from IPython.display import display\n",
        "\n",
        "# Создание констант\n",
        "RANDOM_STATE = 42\n",
        "\n",
        "# Импорты для визуализации\n",
        "import matplotlib.pyplot as plt\n",
        "import plotly.express as px\n",
        "plt.rcParams[\"figure.figsize\"] = (10,5)\n",
        "import seaborn as sns\n",
        "\n",
        "# Импорты для работы с данными\n",
        "import numpy as np\n",
        "from scipy.stats import uniform, randint\n",
        "\n",
        "# Импорты из scikit-learn\n",
        "from sklearn.preprocessing import PolynomialFeatures, StandardScaler\n",
        "from sklearn.pipeline import make_pipeline, Pipeline\n",
        "from sklearn.linear_model import LinearRegression, Ridge, Lasso\n",
        "from sklearn.ensemble import RandomForestRegressor\n",
        "from sklearn.model_selection import (\n",
        "    GridSearchCV,\n",
        "    RandomizedSearchCV,\n",
        "    train_test_split,\n",
        "    cross_val_score,\n",
        "    cross_val_predict,\n",
        "    TimeSeriesSplit\n",
        ")\n",
        "from sklearn.feature_selection import SelectKBest, f_regression\n",
        "from sklearn.metrics import mean_squared_error\n",
        "\n",
        "# Импорты специфичных библиотек\n",
        "import lightgbm as lgb\n",
        "import catboost as cb\n",
        "from catboost import CatBoostRegressor\n",
        "from category_encoders import TargetEncoder\n",
        "import category_encoders"
      ]
    },
    {
      "cell_type": "code",
      "execution_count": null,
      "metadata": {
        "id": "zn1ZQJPa5hqa"
      },
      "outputs": [],
      "source": [
        "#Считываем файл с данными и записываем датасет в переменную\n",
        "try:\n",
        "    autos = pd.read_csv('autos.csv', engine = 'python', sep = ',',\n",
        "                        parse_dates=['DateCrawled','DateCreated', 'LastSeen'], date_parser=lambda x: pd.to_datetime(x).date() )\n",
        "    autos.columns = autos.columns.str.lower()\n",
        "except:\n",
        "    autos = pd.read_csv('https://code.s3.yandex.net/datasets/autos.csv', sep = ',',\n",
        "                        parse_dates=['DateCrawled','DateCreated', 'LastSeen'], date_parser=lambda x: pd.to_datetime(x).date() )\n",
        "    autos.columns = autos.columns.str.lower()"
      ]
    },
    {
      "cell_type": "code",
      "execution_count": null,
      "metadata": {
        "id": "JB3AFxWs5hqb"
      },
      "outputs": [],
      "source": []
    },
    {
      "cell_type": "markdown",
      "metadata": {
        "id": "-lUhSsoE5hqb"
      },
      "source": [
        "Файл, предоставленный для работы над проектом считан и записан в переменную. При загрузке сразу были скорректированы типы данных в трех столбцах (даты)."
      ]
    },
    {
      "cell_type": "markdown",
      "metadata": {
        "id": "fcnTjNM-5hqb"
      },
      "source": [
        "### Изучим общую информацию о характериктиках автомобилей"
      ]
    },
    {
      "cell_type": "code",
      "execution_count": null,
      "metadata": {
        "id": "bm4JQsFe5hqb"
      },
      "outputs": [],
      "source": [
        "autos.info()\n",
        "display (autos.head())"
      ]
    },
    {
      "cell_type": "markdown",
      "metadata": {
        "id": "3miTSfvW5hqb"
      },
      "source": [
        "В датасете представлено 354369 объектов. Найдены пропуски в данных в 5-ти следующих столбцах (в количестве):  \n",
        "- была ли машина в ремонте или нет // **repaired** (71154, 20% пропусков)\n",
        "- тип автомобильного кузова //  **vehicletype** (37490, 11% пропусков)  \n",
        "- тип топлива // **fueltype** (32895, 9% пропусков)  \n",
        "- тип коробки передач // **gearbox** (19833, 6% пропусков)  \n",
        "- модель автомобиля // **model** (19705, 6% пропусков)"
      ]
    },
    {
      "cell_type": "markdown",
      "metadata": {
        "id": "v1QN6HMp5hqc"
      },
      "source": [
        "### Проведем предобработку данных"
      ]
    },
    {
      "cell_type": "code",
      "execution_count": null,
      "metadata": {
        "id": "Ow4E79rj5hqc"
      },
      "outputs": [],
      "source": [
        "#Проверим наличие явных дубликатов\n",
        "display (autos.duplicated().sum())"
      ]
    },
    {
      "cell_type": "code",
      "execution_count": null,
      "metadata": {
        "id": "01NmPvS-5hqc"
      },
      "outputs": [],
      "source": [
        "#Удалим явные дубликаты и проверим\n",
        "autos = autos.drop_duplicates()\n",
        "display (autos.duplicated().sum())"
      ]
    },
    {
      "cell_type": "markdown",
      "metadata": {
        "id": "63UR0UZh5hqc"
      },
      "source": [
        "Найдены и устранены явные дубликаты"
      ]
    },
    {
      "cell_type": "code",
      "execution_count": null,
      "metadata": {
        "id": "64TckuVA5hqc"
      },
      "outputs": [],
      "source": [
        "#Проверим категориальные данные в датасете на неявные дубликаты\n",
        "display (autos['vehicletype'].value_counts())\n",
        "display (autos['gearbox'].value_counts())\n",
        "display (autos['model'].value_counts())\n",
        "display (autos['fueltype'].value_counts())\n",
        "display (autos['brand'].value_counts())\n",
        "display (autos['repaired'].value_counts())"
      ]
    },
    {
      "cell_type": "markdown",
      "metadata": {
        "id": "MQgOJAPh5hqc"
      },
      "source": [
        "Неявных дубликатов не выявлено."
      ]
    },
    {
      "cell_type": "code",
      "execution_count": null,
      "metadata": {
        "scrolled": true,
        "id": "SXIKaAXY5hqd"
      },
      "outputs": [],
      "source": [
        "#Изучим дополнительную информацию по числовым значениям\n",
        "autos.describe()"
      ]
    },
    {
      "cell_type": "markdown",
      "metadata": {
        "id": "Ra4rKyDj5hqd"
      },
      "source": [
        "Из предварительного анализа данных очевидно, что для дальнейшей работы (определения стоимости авто) нам врядли пригодятся данные столбцов:   \n",
        "    - кол-во фото (тем более, что это кол-во у всех равно 0) **numberofpictures**  \n",
        "    - дата скачивания анкеты из базы **datecrawled**   \n",
        "    - дата создания анкеты **datecreated**   \n",
        "    - месяц регистрации авто **registrationmonth**  \n",
        "    - почтовый индекс владельца анкеты **postalcode**\n",
        "    - дата последней активности пользователя **lastseen**\n",
        "     \n",
        "Т.к. указанные характеристики не влияют на стоимость авто, то удалим их из датасета."
      ]
    },
    {
      "cell_type": "code",
      "execution_count": null,
      "metadata": {
        "id": "6PavFD1F5hqd"
      },
      "outputs": [],
      "source": [
        "#Удаляем указанные столбцы\n",
        "autos = autos.drop(columns=[\n",
        "    'numberofpictures',  # Кол-во фото\n",
        "    'datecrawled',       # Дата скачивания анкеты из базы\n",
        "    'datecreated',       # Дата создания анкеты\n",
        "    'registrationmonth', # Месяц регистрации авто\n",
        "    'postalcode',        # Почтовый индекс владельца анкеты\n",
        "    'lastseen'           # Дата последней активности пользователя\n",
        "])\n",
        "autos.info()"
      ]
    },
    {
      "cell_type": "code",
      "execution_count": null,
      "metadata": {
        "id": "RjVc8tf15hqd"
      },
      "outputs": [],
      "source": [
        "#Построим график плотности распределения непрерывного значения целевого признака\n",
        "sns.kdeplot(autos['price'], color='#fe5a1d', label='Стоимость, в евро.', alpha=0.5)\n",
        "plt.legend(loc='best')\n",
        "plt.title('Плотность распределения стоимости машин (целевого признака), в евро', pad=20)\n",
        "plt.xlabel('Стоимость, в евро')\n",
        "plt.ylabel('Плотность распределения')\n",
        "plt.grid(True)\n",
        "plt.show();"
      ]
    },
    {
      "cell_type": "code",
      "execution_count": null,
      "metadata": {
        "id": "dfk9iioJ5hqd"
      },
      "outputs": [],
      "source": [
        "#Построим график размаха стоимостей автомобилей, чтобы выявить выбросы/аномалии\n",
        "(sns.boxplot(data = autos, y = 'price', palette=\"bright\")\n",
        "    .set(title = 'График размаха стоимости авто', ylabel = 'Распределение стоимости, руб.'));\n",
        "plt.show();\n",
        "\n",
        "#Доп. инфо\n",
        "autos['price'].describe()"
      ]
    },
    {
      "cell_type": "code",
      "execution_count": null,
      "metadata": {
        "id": "AZ0qBF1o5hqd"
      },
      "outputs": [],
      "source": [
        "autos['price'].value_counts()"
      ]
    },
    {
      "cell_type": "markdown",
      "metadata": {
        "id": "vqLfiI6I5hqe"
      },
      "source": [
        "Выявлена некорректная стоимость авто, равная 0. Такие записи (10611 объектов) придется удалить из датасета, т.к. на них нельзя будет обучить качественную модель."
      ]
    },
    {
      "cell_type": "code",
      "execution_count": null,
      "metadata": {
        "id": "oo4K_ir05hqe"
      },
      "outputs": [],
      "source": [
        "autos = autos[autos['price'] > 2]\n",
        "\n",
        "autos['price'].value_counts()"
      ]
    },
    {
      "cell_type": "code",
      "execution_count": null,
      "metadata": {
        "id": "Cc-f9Bv45hqe"
      },
      "outputs": [],
      "source": [
        "#Построим график плотности распределения для непрерывного значения Пробег\n",
        "sns.kdeplot(autos['kilometer'], color='#fe5a1d', label='Пробег, в километрах', alpha=0.5)\n",
        "plt.legend(loc='best')\n",
        "plt.title('Плотность распределения пробега машин, в км.', pad=20)\n",
        "plt.xlabel('Пробег, в км.')\n",
        "plt.ylabel('Плотность распределения')\n",
        "plt.grid(True)\n",
        "plt.show();"
      ]
    },
    {
      "cell_type": "code",
      "execution_count": null,
      "metadata": {
        "id": "qQjsGf8h5hqe"
      },
      "outputs": [],
      "source": [
        "#Построим график размаха пробега автомобилей, чтобы выявить выбросы/аномалии\n",
        "(sns.boxplot(data = autos, y = 'kilometer', palette=\"bright\")\n",
        "    .set(title = 'График размаха пробега авто', ylabel = 'Распределение пробега, в км.'));\n",
        "plt.show();\n",
        "\n",
        "#Доп. инфо\n",
        "autos['kilometer'].describe()"
      ]
    },
    {
      "cell_type": "markdown",
      "metadata": {
        "id": "Zm_mXHaJ5hqe"
      },
      "source": [
        "Выбросов немного, это значения менее 80 тыс. км."
      ]
    },
    {
      "cell_type": "code",
      "execution_count": null,
      "metadata": {
        "id": "I-e3zv7P5hqe"
      },
      "outputs": [],
      "source": [
        "# Столбчатая диаграмма распределения годов регистрации авто\n",
        "sns.countplot(x=autos['registrationyear'], color='#fe5a1d', edgecolor='black',\n",
        "              label='Кол-во авто'\n",
        "             )\n",
        "plt.legend(loc='best')\n",
        "plt.title('Распределение годов регистрации машин', pad=20)\n",
        "plt.xlabel('Год регистрации машины')\n",
        "plt.ylabel('Количество')\n",
        "plt.grid(True)\n",
        "plt.show()"
      ]
    },
    {
      "cell_type": "code",
      "execution_count": null,
      "metadata": {
        "id": "rct9Wy7x5hqf"
      },
      "outputs": [],
      "source": [
        "#График размаха годов регистрации авто\n",
        "plt.figure(figsize=(10, 6))\n",
        "ax = sns.boxplot(data=autos, y='registrationyear', palette=\"bright\")\n",
        "ax.set_ylim(1970, 2025)\n",
        "\n",
        "ax.set(\n",
        "    title='График размаха годов регистрации авто (1970–2025)',\n",
        "    ylabel='Год регистрации'\n",
        ")\n",
        "plt.grid(axis='y', linestyle='--', alpha=0.5)\n",
        "plt.show()\n",
        "\n",
        "#Доп. инфо\n",
        "autos['registrationyear'].describe()"
      ]
    },
    {
      "cell_type": "markdown",
      "metadata": {
        "id": "vFm6ZBPj5hqf"
      },
      "source": [
        "Выявлены аномалии - это периоды до 1985 года и после 2019 .Т.к. автомобили 1985 года выпуска врядли еще на ходу, а также максимальная дата - 9999 год - это явная ошибка."
      ]
    },
    {
      "cell_type": "code",
      "execution_count": null,
      "metadata": {
        "id": "yvApFVQl5hqi"
      },
      "outputs": [],
      "source": [
        "#Удалим некорректные данные\n",
        "autos = autos[autos['registrationyear'] <= 2019]\n",
        "autos = autos[autos['registrationyear'] >= 1985]"
      ]
    },
    {
      "cell_type": "code",
      "execution_count": null,
      "metadata": {
        "id": "Yqy7GyzM5hqj"
      },
      "outputs": [],
      "source": [
        "#Гистограмма распределения годов регистрации (очищеная от аномалий)\n",
        "autos['registrationyear'].hist(bins=34, figsize=(12,9));\n",
        "#Доп. инфо\n",
        "autos['registrationyear'].describe()"
      ]
    },
    {
      "cell_type": "code",
      "execution_count": null,
      "metadata": {
        "id": "BvqZboQv5hqj"
      },
      "outputs": [],
      "source": [
        "#График размаха годов регистрации авто\n",
        "ax = sns.boxplot(data=autos, y='registrationyear', palette=\"bright\")\n",
        "ax.set(\n",
        "    title='График размаха годов регистрации авто',\n",
        "    ylabel='Год регистрации авто'\n",
        ")\n",
        "plt.grid(axis='y', linestyle='--', alpha=0.5)\n",
        "plt.show();"
      ]
    },
    {
      "cell_type": "code",
      "execution_count": null,
      "metadata": {
        "id": "Aiw-xpCm5hqj"
      },
      "outputs": [],
      "source": [
        "#Гистограмма распределения мощности двигателя\n",
        "autos['power'].hist(bins=100, figsize=(12,9));\n",
        "\n",
        "#Доп. инфо\n",
        "autos['power'].describe()"
      ]
    },
    {
      "cell_type": "code",
      "execution_count": null,
      "metadata": {
        "id": "dZzHSrgK5hqj"
      },
      "outputs": [],
      "source": [
        "#Построим график размаха мощности двигателя, чтобы выявить выбросы/аномалии\n",
        "ax = sns.boxplot(data=autos, y='power', palette=\"bright\")\n",
        "ax.set_ylim(0, 350)\n",
        "ax.set(\n",
        "    title='График размаха мощности двигателя',\n",
        "    ylabel='мощности двигателя, л.с.'\n",
        ")\n",
        "\n",
        "plt.grid(axis='y', linestyle='--', alpha=0.5)\n",
        "plt.show()\n",
        "\n",
        "#Доп. инфо\n",
        "autos['power'].describe()"
      ]
    },
    {
      "cell_type": "code",
      "execution_count": null,
      "metadata": {
        "id": "AeVJAEAn5hqj"
      },
      "outputs": [],
      "source": [
        "# Анализ квантилей для признака 'power'\n",
        "display (f\"1-й процентиль: {autos['power'].quantile(0.01)}\")\n",
        "display (f\"99-й процентиль: {autos['power'].quantile(0.99)}\")"
      ]
    },
    {
      "cell_type": "markdown",
      "metadata": {
        "id": "vkj-ZwCO5hqj"
      },
      "source": [
        "Выявлены аномалии и выбросы в столбце Мощность. Избавимся от выбросов"
      ]
    },
    {
      "cell_type": "code",
      "execution_count": null,
      "metadata": {
        "id": "C0ujtee85hqj"
      },
      "outputs": [],
      "source": [
        "# Фильтрация автомобилей с мощностью от 252 л.с.\n",
        "suspicious = autos[(autos['power'] >= 252) | (autos['power'] <= 40) ]\n",
        "display(suspicious[['power', 'vehicletype', 'brand', 'model', 'registrationyear', 'price']].head(15))"
      ]
    },
    {
      "cell_type": "code",
      "execution_count": null,
      "metadata": {
        "id": "vNrO7esp5hqj"
      },
      "outputs": [],
      "source": [
        "autos = autos.query('power <= 300')\n",
        "autos = autos.query('power >= 30')\n",
        "autos['power'].hist(bins=100, figsize=(12,9))\n",
        "autos['power'].describe()"
      ]
    },
    {
      "cell_type": "code",
      "execution_count": null,
      "metadata": {
        "id": "qm_LDy3R5hqk"
      },
      "outputs": [],
      "source": [
        "#Построим график размаха мощности двигателя, чтобы выявить выбросы/аномалии\n",
        "ax = sns.boxplot(data=autos, y='power', palette=\"bright\")\n",
        "ax.set(\n",
        "    title='График размаха мощности двигателя',\n",
        "    ylabel='мощности двигателя, л.с.'\n",
        ")\n",
        "plt.grid(axis='y', linestyle='--', alpha=0.5)\n",
        "plt.show()"
      ]
    },
    {
      "cell_type": "code",
      "execution_count": null,
      "metadata": {
        "id": "QKx1HhtG5hqk"
      },
      "outputs": [],
      "source": [
        "autos.info()"
      ]
    },
    {
      "cell_type": "markdown",
      "metadata": {
        "id": "HIgrHCQ25hqk"
      },
      "source": [
        "Избавимся от пропусков в категориальных признаках.  \n",
        "Т.к. в признаке **repaired** был ли ремонт очень много пропусков и удалить или заполнить их наиболее популярным значением  мы не можем, то введем третье значение - \"неизвестно\" был ли ремонт или нет и преобразуем в тип целочисленные.\n",
        "Заменим значения \"no\" на 3, \"yes\" на 1, а неизвестное NaN на 2."
      ]
    },
    {
      "cell_type": "code",
      "execution_count": null,
      "metadata": {
        "id": "4Uh56HV95hqk"
      },
      "outputs": [],
      "source": [
        "autos['repaired'] = autos['repaired'].map({'no': 3, 'yes': 1}).fillna(2)\n",
        "autos['repaired'] = autos['repaired'].astype('int8')\n",
        "display (autos['repaired'].value_counts())"
      ]
    },
    {
      "cell_type": "markdown",
      "metadata": {
        "id": "tHbJN0Dz5hql"
      },
      "source": [
        "Для оставшихся категориальных признаков для отсутствующих значений (NaN), как вариант можно также ввести дополнительную категорию - неизвестно - 'uncnown'\n",
        "- тип автомобильного кузова //  **vehicletype** (37490, 11% пропусков)  \n",
        "- тип топлива // **fueltype** (32895, 9% пропусков)  \n",
        "- тип коробки передач // **gearbox** (19833, 6% пропусков)  \n",
        "- модель автомобиля // **model** (19705, 6% пропусков)"
      ]
    },
    {
      "cell_type": "code",
      "execution_count": null,
      "metadata": {
        "scrolled": true,
        "id": "v6GpZrAc5hql"
      },
      "outputs": [],
      "source": [
        "# Аналогичным образом поступим и для остальных признаков\n",
        "# т.к. их восстановление или проблематично или не имеет решающей роли, в т.ч. т.к. их осталось меньше 10%\n",
        "autos['vehicletype'] = autos['vehicletype'].fillna('uncnown')\n",
        "autos['fueltype'] = autos['fueltype'].fillna('uncnown')\n",
        "autos['gearbox'] = autos['gearbox'].fillna('uncnown')\n",
        "autos['model'] = autos['model'].fillna('uncnown')\n",
        "autos = autos.reset_index()\n",
        "autos.info()"
      ]
    },
    {
      "cell_type": "markdown",
      "metadata": {
        "id": "C0Ia-UTg5hql"
      },
      "source": [
        "После предобработки и исследовательского анализа, данные в датасете были очищены от дубликатов, выбросов и аномальных значений. В результирующем датасете осталось 81.7% от данных исходного датасета. Потери существенные, но все-же с полученным датасетом теперь можно продолжить работу и приступить к этапу обучения моделей."
      ]
    },
    {
      "cell_type": "markdown",
      "metadata": {
        "id": "Bg6S2K6i5hqm"
      },
      "source": [
        "## Обучение моделей"
      ]
    },
    {
      "cell_type": "markdown",
      "metadata": {
        "id": "hv6aFM1d5hqm"
      },
      "source": [
        "### Подготовим данные для дальнейшего обучения моделей."
      ]
    },
    {
      "cell_type": "code",
      "execution_count": null,
      "metadata": {
        "id": "oWX5TRX15hqm"
      },
      "outputs": [],
      "source": [
        "#Перечень категориальных признаков\n",
        "category_features = ['vehicletype', 'gearbox', 'brand', 'model', 'fueltype']\n",
        "\n",
        "#Перечень числовых признаков\n",
        "numeric_features = ['registrationyear', 'power', 'kilometer', 'repaired']\n",
        "\n",
        "#Результирующий датасет\n",
        "autos = autos[numeric_features + category_features + ['price']];\n",
        "autos_final = autos.copy()\n",
        "autos_final.head(10)"
      ]
    },
    {
      "cell_type": "code",
      "execution_count": null,
      "metadata": {
        "id": "IJmDV1K75hqm"
      },
      "outputs": [],
      "source": [
        "# Разделим признаки на целевой и входящие\n",
        "features = autos_final.drop(columns='price')\n",
        "target = autos_final['price']\n",
        "features = pd.DataFrame(features).copy()\n",
        "target = pd.Series(target).copy()\n",
        "\n",
        "\n",
        "# Подготовим категориальные признаки, используем OHE-кодирование\n",
        "#features_ohe = pd.get_dummies(features, columns=category_features, drop_first=True)\n",
        "#features_ohe.head()\n",
        "\n",
        "# Подготовим числовые признаки, применим StandardScaler\n",
        "#scaler = StandardScaler()\n",
        "#scaler.fit(features_ohe[numberic_features])\n",
        "#features_ohe_scaled = features_ohe.copy()\n",
        "#features_ohe_scaled[numberic_features] = scaler.transform(features_ohe_scaled[numberic_features])\n",
        "#features_ohe_scaled.head(10)"
      ]
    },
    {
      "cell_type": "code",
      "execution_count": null,
      "metadata": {
        "id": "L_ic2h7N5hqn"
      },
      "outputs": [],
      "source": [
        "#Разбиваем датасет на обучающую и тестовую выборки\n",
        "features_train, features_test, target_train, target_test = train_test_split(\n",
        "    features,\n",
        "    target,\n",
        "    test_size=0.25,\n",
        "    random_state=RANDOM_STATE\n",
        ")\n",
        "\n",
        "features_train = pd.DataFrame(features_train, columns=features.columns)\n",
        "features_test = pd.DataFrame(features_test, columns=features.columns)\n",
        "target_train = pd.Series(target_train, name=target.name)\n",
        "target_test = pd.Series(target_test, name=target.name)\n",
        "\n",
        "# Выводим информацию о данных\n",
        "display(\"Размеры выборок:\")\n",
        "display(f\"Обучающая: {features_train.shape[0]} объектов\")\n",
        "display(f\"Тестовая: {features_test.shape[0]} объектов\")"
      ]
    },
    {
      "cell_type": "code",
      "execution_count": null,
      "metadata": {
        "id": "J4fQuPDH5hqn"
      },
      "outputs": [],
      "source": [
        "# Binary Encoding\n",
        "try:\n",
        "    binary_encoder = BinaryEncoder(\n",
        "        cols=category_features,\n",
        "        handle_unknown='indicator',\n",
        "        handle_missing='return_nan'\n",
        "    )\n",
        "    features_train_encoded = binary_encoder.fit_transform(features_train)\n",
        "    features_test_encoded = binary_encoder.transform(features_test)\n",
        "\n",
        "except Exception as e:\n",
        "    print(f\"Ошибка при кодировании: {str(e)}\")\n",
        "    features_train_encoded = features_train.copy()\n",
        "    features_test_encoded = features_test.copy()\n",
        "\n",
        "    for col in category_features:\n",
        "        features_train_encoded[col] = pd.factorize(features_train[col])[0]\n",
        "        features_test_encoded[col] = pd.factorize(features_test[col])[0]"
      ]
    },
    {
      "cell_type": "code",
      "execution_count": null,
      "metadata": {
        "id": "savqGg6A5hqn"
      },
      "outputs": [],
      "source": [
        "binary_encoder = BinaryEncoder(cols=category_features)\n",
        "features_train_encoded = binary_encoder.fit_transform(features_train)\n",
        "features_test_encoded = binary_encoder.transform(features_test)"
      ]
    },
    {
      "cell_type": "code",
      "execution_count": null,
      "metadata": {
        "id": "3Q4T_mlT5hqn"
      },
      "outputs": [],
      "source": [
        "#StandardScaler Масштабируем числовые признаки\n",
        "scaler = StandardScaler()\n",
        "train_scaled = features_train_encoded.copy()\n",
        "test_scaled = features_test_encoded.copy()\n",
        "train_scaled[numeric_features] = scaler.fit_transform(features_train_encoded[numeric_features])\n",
        "test_scaled[numeric_features] = scaler.transform(features_test_encoded[numeric_features])\n",
        "\n",
        "# Результаты\n",
        "display(\"Обучающая выборка после преобразований:\")\n",
        "display(train_scaled.head())\n",
        "display(\"Тестовая выборка после преобразований:\")\n",
        "display(test_scaled.head())"
      ]
    },
    {
      "cell_type": "code",
      "execution_count": null,
      "metadata": {
        "id": "A52dBPds5hqn"
      },
      "outputs": [],
      "source": [
        "# Функция для расчета RMSE\n",
        "def rmse(target, predicted):\n",
        "    return mean_squared_error(target, predicted) ** 0.5"
      ]
    },
    {
      "cell_type": "markdown",
      "metadata": {
        "id": "tHY1hRYx5hqo"
      },
      "source": [
        "### Обучим модель linerianRegression (Линейная регрессия)"
      ]
    },
    {
      "cell_type": "code",
      "execution_count": null,
      "metadata": {
        "id": "9Cy7YkXJ5hqo"
      },
      "outputs": [],
      "source": [
        "# Модель линейной регрессии\n",
        "lin_reg = make_pipeline(\n",
        "    PolynomialFeatures(degree=2, include_bias=False),\n",
        "    LinearRegression())\n",
        "\n",
        "# Обучение модели\n",
        "start_time = time.time()\n",
        "lin_reg.fit(train_scaled, target_train)\n",
        "train_time = time.time() - start_time\n",
        "\n",
        "# Предсказание на тренировочной выборке\n",
        "start_pred = time.time()\n",
        "train_pred = lin_reg.predict(train_scaled)\n",
        "pred_time = time.time() - start_pred\n",
        "\n",
        "# Расчет RMSE на тренировочной выборке\n",
        "rmse_train = np.sqrt(mean_squared_error(target_train, train_pred))\n",
        "display(\"Результаты модели LinearRegression\")\n",
        "display(f\"Время обучения: {train_time:.2f} сек\")\n",
        "display(f\"Время предсказания: {pred_time:.2f} сек\")\n",
        "display(f\"RMSE на тренировочной выборке: {rmse_train:.2f}\")"
      ]
    },
    {
      "cell_type": "code",
      "execution_count": null,
      "metadata": {
        "id": "ZeYzfrrJ5hqo"
      },
      "outputs": [],
      "source": [
        "# Анализ важности признаков\n",
        "feature_names = lin_reg.named_steps['polynomialfeatures'].get_feature_names_out()\n",
        "coefs = lin_reg.named_steps['linearregression'].coef_\n",
        "feature_imp = pd.DataFrame({'Признак': feature_names, 'Важность': np.abs(coefs)})\n",
        "\n",
        "display(\"Топ-5 важных признаков:\")\n",
        "display(feature_imp.sort_values('Важность', ascending=False).head(5))"
      ]
    },
    {
      "cell_type": "code",
      "execution_count": null,
      "metadata": {
        "id": "W8ECc47M5hqo"
      },
      "outputs": [],
      "source": [
        "# График важности признаков\n",
        "sns.barplot(\n",
        "    data=feature_imp.head(5),\n",
        "    x='Важность',\n",
        "    y='Признак',\n",
        "    palette='viridis'\n",
        ")\n",
        "\n",
        "plt.title('Топ-5 важных признаков линейной регрессии', fontsize=14)\n",
        "plt.xlabel('Абсолютное значение коэффициента', fontsize=12)\n",
        "plt.ylabel('Признак', fontsize=12)\n",
        "plt.grid(axis='x', linestyle='--', alpha=0.7)\n",
        "plt.tight_layout()\n",
        "plt.show();"
      ]
    },
    {
      "cell_type": "markdown",
      "metadata": {
        "id": "m6dkCKph5hqp"
      },
      "source": [
        "###  Обучим модель RandomForest (Случайный лес). Подберем гиперпараметры с помощью GridSearchCV."
      ]
    },
    {
      "cell_type": "code",
      "execution_count": null,
      "metadata": {
        "id": "g-OrGJ825hqp"
      },
      "outputs": [],
      "source": [
        "# Подбор гиперпараметров RandomForest\n",
        "param_grid = {\n",
        "    'n_estimators': [50, 100],\n",
        "    'max_depth': [10, 20],\n",
        "    'min_samples_split': [5, 10]\n",
        "}\n",
        "\n",
        "display(\"Начало гиперпараметров RandomForest\")\n",
        "start_grid = time.time()\n",
        "\n",
        "grid_search = GridSearchCV(\n",
        "    estimator=RandomForestRegressor(random_state=RANDOM_STATE, n_jobs=-1),\n",
        "    param_grid=param_grid,\n",
        "    cv=3,\n",
        "    scoring='neg_mean_squared_error',\n",
        "    return_train_score=True,\n",
        "    verbose=1,\n",
        "    n_jobs=-1\n",
        ")\n",
        "\n",
        "grid_search.fit(train_scaled, target_train)\n",
        "grid_time = time.time() - start_grid\n",
        "\n",
        "# Результаты подбора параметров\n",
        "best_params = grid_search.best_params_\n",
        "display(\"Результаты гиперпараметров RandomForest\")\n",
        "display(f\"Лучшие параметры RandomForest: {best_params}\")\n",
        "\n",
        "# Обучение модели RandomForest\n",
        "display(\"Обучение модели RandomForest\")\n",
        "start_train = time.time()\n",
        "\n",
        "RF = RandomForestRegressor(\n",
        "    **best_params,\n",
        "    n_jobs=-1,\n",
        "    random_state=RANDOM_STATE\n",
        ")\n",
        "RF.fit(train_scaled, target_train)\n",
        "\n",
        "train_time = time.time() - start_train\n",
        "display(f\"Обучение завершено за {train_time:.2f} сек\")\n",
        "\n",
        "# Оценка на тренировочных данных (кросс-валидация)\n",
        "display(\"Оценка модели RandomForest\")\n",
        "\n",
        "# Предсказание на полном тренировочном наборе\n",
        "start_predict_train = time.time()\n",
        "train_pred = RF.predict(train_scaled)\n",
        "predict_train_time = time.time() - start_predict_train\n",
        "train_rmse = np.sqrt(mean_squared_error(target_train, train_pred))\n",
        "\n",
        "# Кросс-валидация\n",
        "start_cv = time.time()\n",
        "cv_pred = cross_val_predict(\n",
        "    RF,\n",
        "    train_scaled,\n",
        "    target_train,\n",
        "    cv=3,\n",
        "    n_jobs=-1,\n",
        "    verbose=1\n",
        ")\n",
        "cv_time = time.time() - start_cv\n",
        "cv_rmse = np.sqrt(mean_squared_error(target_train, cv_pred))\n",
        "\n",
        "# Разделение на train/validation\n",
        "train_size = int(0.8 * len(train_scaled))\n",
        "X_train, X_val = train_scaled[:train_size], train_scaled[train_size:]\n",
        "y_train, y_val = target_train[:train_size], target_train[train_size:]\n",
        "\n",
        "start_predict_val = time.time()\n",
        "val_pred = RF.predict(X_val)\n",
        "predict_val_time = time.time() - start_predict_val\n",
        "val_rmse = np.sqrt(mean_squared_error(y_val, val_pred))\n",
        "\n",
        "# Вывод результатов\n",
        "display(\"Результаты предсказаний RandomForest\")\n",
        "display(f\"Время предсказания на полной тренировочной выборке: {predict_train_time:.2f} сек\")\n",
        "display(f\"RMSE на полном train: {train_rmse:.2f}\")\n",
        "\n",
        "display(f\"Время кросс-валидации: {cv_time:.2f} сек\")\n",
        "display(f\"RMSE на кросс-валидации: {cv_rmse:.2f}\")\n",
        "\n",
        "display(f\"Время предсказания на валидационной выборке: {predict_val_time:.2f} сек\")\n",
        "display(f\"RMSE на валидационной выборке: {val_rmse:.2f}\")"
      ]
    },
    {
      "cell_type": "code",
      "execution_count": null,
      "metadata": {
        "id": "cGofRQyQ5hqp"
      },
      "outputs": [],
      "source": [
        "# Важность признаков\n",
        "if hasattr(RF, 'feature_importances_'):\n",
        "    feature_imp = pd.DataFrame({\n",
        "        'Признак': train_scaled.columns,\n",
        "        'Важность': RF.feature_importances_\n",
        "    }).sort_values('Важность', ascending=False)\n",
        "\n",
        "    display(\"ТОП-5 важных признаков\")\n",
        "    display(feature_imp.head(5))"
      ]
    },
    {
      "cell_type": "code",
      "execution_count": null,
      "metadata": {
        "id": "r3Eh6svS5hqp"
      },
      "outputs": [],
      "source": [
        "# Визуализация важности признаков\n",
        "sns.barplot(\n",
        "        x='Важность',\n",
        "        y='Признак',\n",
        "        data=feature_imp.head(5),\n",
        "        palette='viridis',\n",
        "        edgecolor='black'\n",
        "    )\n",
        "\n",
        "# Настройки графика\n",
        "plt.title('Важность признаков в модели RandomForest', fontsize=16, pad=20)\n",
        "plt.xlabel('Уровень важности', fontsize=12)\n",
        "plt.ylabel('', fontsize=12)\n",
        "plt.grid(axis='x', linestyle='--', alpha=0.6)"
      ]
    },
    {
      "cell_type": "markdown",
      "metadata": {
        "id": "Kgk4WaZ65hqq"
      },
      "source": [
        "###  Обучим LightGBM (ансамбль стохастического градиентного бустинга)"
      ]
    },
    {
      "cell_type": "code",
      "execution_count": null,
      "metadata": {
        "id": "NSuDnWWL5hqq"
      },
      "outputs": [],
      "source": [
        "# Подготовка гиперпараметров\n",
        "params_dist = {\n",
        "    'num_leaves': randint(20, 100),\n",
        "    'learning_rate': uniform(0.01, 0.3),\n",
        "    'n_estimators': randint(50, 300),\n",
        "    'min_child_samples': randint(10, 100),\n",
        "    'max_depth': randint(3, 15),\n",
        "    'reg_alpha': uniform(0, 1),\n",
        "    'reg_lambda': uniform(0, 1),\n",
        "    'subsample': uniform(0.6, 0.4),\n",
        "    'colsample_bytree': uniform(0.6, 0.4)\n",
        "}\n",
        "\n",
        "# Кросс-валидация (3 фолда)\n",
        "tscv = TimeSeriesSplit(n_splits=3)\n",
        "\n",
        "# Подбор гиперпараметров\n",
        "display(\"Подбор гиперпараметров LGBM\")\n",
        "start_search = time.time()\n",
        "\n",
        "lgb_model = lgb.LGBMRegressor(\n",
        "    random_state=RANDOM_STATE,\n",
        "    verbosity=-1,\n",
        "    device='cpu',\n",
        "    force_row_wise=True,\n",
        "    objective='regression',\n",
        "    metric='rmse'\n",
        ")\n",
        "\n",
        "search = RandomizedSearchCV(\n",
        "    estimator=lgb_model,\n",
        "    param_distributions=params_dist,\n",
        "    n_iter=20,\n",
        "    cv=tscv,\n",
        "    scoring='neg_mean_squared_error',\n",
        "    n_jobs=-1,\n",
        "    verbose=1,\n",
        "    random_state=RANDOM_STATE\n",
        ")\n",
        "\n",
        "search.fit(train_scaled, target_train)\n",
        "search_time = time.time() - start_search\n",
        "\n",
        "# Результаты подбора\n",
        "best_params = search.best_params_\n",
        "display(\"Лучшие параметры LGBM\")\n",
        "for param, value in best_params.items():\n",
        "    display(f\"{param:20}: {value:.2f}\" if isinstance(value, float) else f\"{param:20}: {value}\")\n",
        "\n",
        "display(f\"Лучший RMSE: {(-search.best_score_)**0.5:.2f}\")\n",
        "\n",
        "# Обучение финальной модели\n",
        "display(\"Обучение модели LGBM\")\n",
        "start_train = time.time()\n",
        "\n",
        "# Разделение данных (80/20)\n",
        "train_size = int(0.8 * len(train_scaled))\n",
        "X_train, X_val = train_scaled[:train_size], train_scaled[train_size:]\n",
        "y_train, y_val = target_train[:train_size], target_train[train_size:]\n",
        "\n",
        "final_lgb = lgb.LGBMRegressor(\n",
        "    **best_params,\n",
        "    random_state=RANDOM_STATE,\n",
        "    verbosity=100,\n",
        "    device='cpu',\n",
        "    force_row_wise=True\n",
        ")\n",
        "\n",
        "final_lgb.fit(\n",
        "    X_train,\n",
        "    y_train,\n",
        "    eval_set=[(X_val, y_val)],\n",
        "    eval_metric='rmse',\n",
        "    callbacks=[\n",
        "        lgb.early_stopping(stopping_rounds=30),\n",
        "        lgb.log_evaluation(50)\n",
        "    ]\n",
        ")\n",
        "train_time = time.time() - start_train\n",
        "\n",
        "# Предсказания\n",
        "display(\"Предсказание и оценка LGBM\")\n",
        "\n",
        "# На тренировочных данных\n",
        "start_predict_train = time.time()\n",
        "train_pred = final_lgb.predict(train_scaled)\n",
        "predict_train_time = time.time() - start_predict_train\n",
        "train_rmse = np.sqrt(mean_squared_error(target_train, train_pred))\n",
        "\n",
        "# На валидационных данных\n",
        "start_predict_val = time.time()\n",
        "val_pred = final_lgb.predict(X_val)\n",
        "predict_val_time = time.time() - start_predict_val\n",
        "val_rmse = np.sqrt(mean_squared_error(y_val, val_pred))\n",
        "\n",
        "# Вывод результатов\n",
        "display(\"Результаты LGBM\")\n",
        "display(\"Время работы LGBM:\")\n",
        "display(f\"- Обучение модели: {train_time:.2f} сек\")\n",
        "display(f\"- Предсказаниена на тренировочной выборке: {predict_train_time:.2f} сек\")\n",
        "display(f\"- Предсказание на валидационной выборке: {predict_val_time:.2f} сек\")\n",
        "\n",
        "display(\"Качество модели:\")\n",
        "display(f\"- RMSE на тренировочной выборке: {train_rmse:.2f}\")\n",
        "display(f\"- RMSE на валидационной выборке: {val_rmse:.2f}\")"
      ]
    },
    {
      "cell_type": "code",
      "execution_count": null,
      "metadata": {
        "id": "Yln8wrsa5hqq"
      },
      "outputs": [],
      "source": [
        "# Важность признаков\n",
        "if hasattr(final_lgb, 'feature_importances_'):\n",
        "    feature_imp = pd.DataFrame({\n",
        "        'Признак': train_scaled.columns,\n",
        "        'Важность': final_lgb.feature_importances_\n",
        "    }).sort_values('Важность', ascending=False)\n",
        "\n",
        "    display(\"Топ-5 важных признаков\")\n",
        "    display(feature_imp.head(5))"
      ]
    },
    {
      "cell_type": "markdown",
      "metadata": {
        "id": "WHCTi2ZO5hqq"
      },
      "source": [
        "### Обучим модель CatBoost"
      ]
    },
    {
      "cell_type": "markdown",
      "metadata": {
        "id": "MdStBNdb5hqq"
      },
      "source": [
        "<div class=\"alert alert-block alert-info\">\n",
        "<b>Совет:</b> Советую собирать все импорты в верхней части ноутбука!\n",
        "Если у того, кто будет запускать твой ноутбук будут отсутствовать некоторые библиотеки, то он это увидит сразу, а не в процессе!\n",
        "</div>\n"
      ]
    },
    {
      "cell_type": "code",
      "execution_count": null,
      "metadata": {
        "id": "sF273TJW5hqq"
      },
      "outputs": [],
      "source": [
        "# Подбор гиперпараметров CatBoost\n",
        "params_dist = {\n",
        "    'depth': randint(4, 10),\n",
        "    'learning_rate': uniform(0.01, 0.2),\n",
        "    'iterations': randint(100, 300),\n",
        "    'l2_leaf_reg': uniform(1, 10),\n",
        "    'bagging_temperature': uniform(0, 1),\n",
        "    'bootstrap_type': ['Bayesian']\n",
        "}\n",
        "\n",
        "# Кросс-валидация с 3 фолдами\n",
        "tscv = TimeSeriesSplit(n_splits=3)\n",
        "\n",
        "# Подбор гиперпараметров\n",
        "display(\"Начало подбора гиперпараметров CatBoost...\")\n",
        "start_grid = time.time()\n",
        "cb_model = cb.CatBoostRegressor(random_state=42, verbose=0, task_type='CPU')\n",
        "random_search = RandomizedSearchCV(\n",
        "    estimator=cb_model,\n",
        "    param_distributions=params_dist,\n",
        "    n_iter=15,\n",
        "    cv=tscv,\n",
        "    scoring='neg_mean_squared_error',\n",
        "    n_jobs=-1,\n",
        "    verbose=1,\n",
        "    error_score='raise'\n",
        ")\n",
        "random_search.fit(train_scaled, target_train)\n",
        "grid_time = time.time() - start_grid\n",
        "\n",
        "# Лучшие параметры\n",
        "best_params = random_search.best_params_\n",
        "display(f\"Лучшие параметры: {best_params}\")\n",
        "display(f\"Время подбора: {grid_time:.2f} сек\")\n",
        "\n",
        "# Обучение модели\n",
        "start_train = time.time()\n",
        "final_cb = cb.CatBoostRegressor(\n",
        "    **best_params,\n",
        "    random_state=42,\n",
        "    verbose=50,\n",
        "    task_type='CPU',\n",
        "    early_stopping_rounds=50)\n",
        "\n",
        "# Разделение на тренировочную и валидационную выборки (80/20)\n",
        "train_size = int(0.8 * len(train_scaled))\n",
        "X_train, X_val = train_scaled[:train_size], train_scaled[train_size:]\n",
        "y_train, y_val = target_train[:train_size], target_train[train_size:]\n",
        "\n",
        "# Обучение с валидацией\n",
        "final_cb.fit(X_train, y_train, eval_set=(X_val, y_val), use_best_model=True)\n",
        "train_time = time.time() - start_train\n",
        "\n",
        "# Предсказание и оценка на полном тренировочном наборе\n",
        "start_predict = time.time()\n",
        "train_pred = final_cb.predict(train_scaled)\n",
        "train_rmse = np.sqrt(mean_squared_error(target_train, train_pred))\n",
        "predict_time_train = time.time() - start_predict\n",
        "\n",
        "# Предсказание и оценка на валидационной выборке\n",
        "start_predict = time.time()\n",
        "val_pred = final_cb.predict(X_val)\n",
        "val_rmse = np.sqrt(mean_squared_error(y_val, val_pred))\n",
        "predict_time_val = time.time() - start_predict\n",
        "\n",
        "# Вывод результатов\n",
        "display(f\"Результаты модели CatBoost:\")\n",
        "display(f\"Общее время обучения: {train_time:.2f} сек\")\n",
        "display(f\"Время предсказания (тренировочная выборка): {predict_time_train:.2f} сек\")\n",
        "display(f\"Время предсказания (валидационная выборка): {predict_time_val:.2f} сек\")\n",
        "display(f\"RMSE на тренировочном наборе: {train_rmse:.2f}\")\n",
        "display(f\"RMSE на валидационной выборке: {val_rmse:.2f}\")"
      ]
    },
    {
      "cell_type": "code",
      "execution_count": null,
      "metadata": {
        "id": "QSJH8Ssh5hqq"
      },
      "outputs": [],
      "source": [
        "feature_importance = final_cb.get_feature_importance()\n",
        "feature_names = train_scaled.columns\n",
        "\n",
        "importance_df = pd.DataFrame({\n",
        "    'Признак': feature_names,\n",
        "    'Важность': feature_importance\n",
        "}).sort_values('Важность', ascending=False)\n",
        "\n",
        "display(\"Топ важных признаков\")\n",
        "display(importance_df.head(5))\n"
      ]
    },
    {
      "cell_type": "markdown",
      "metadata": {
        "id": "IEVq1WkJ5hqq"
      },
      "source": [
        "### Обучим модель LGBMRegressor"
      ]
    },
    {
      "cell_type": "code",
      "execution_count": null,
      "metadata": {
        "id": "jFdi1dAe5hqr"
      },
      "outputs": [],
      "source": [
        "# Подготовка гиперпараметров LGBMRegressor\n",
        "params_dist = {\n",
        "    'num_leaves': randint(20, 50),\n",
        "    'learning_rate': uniform(0.05, 0.15),\n",
        "    'n_estimators': randint(50, 150),\n",
        "    'min_child_samples': randint(20, 50),\n",
        "    'max_depth': randint(5, 10),\n",
        "    'reg_alpha': uniform(0.1, 0.4),\n",
        "    'reg_lambda': uniform(0.1, 0.4),\n",
        "    'subsample': uniform(0.8, 0.2),\n",
        "    'colsample_bytree': uniform(0.8, 0.2) }\n",
        "\n",
        "# Кросс-валидация (3 фолда)\n",
        "tscv = TimeSeriesSplit(n_splits=3)\n",
        "\n",
        "# Подбор гиперпараметров\n",
        "display(\"Подбор гиперпараметров LGBMRegressor\")\n",
        "start_time = time.time()\n",
        "\n",
        "lgb_model = lgb.LGBMRegressor(\n",
        "    random_state=RANDOM_STATE,\n",
        "    verbosity=-1,\n",
        "    device='cpu',\n",
        "    force_row_wise=True,\n",
        "    objective='regression',\n",
        "    metric='rmse'\n",
        ")\n",
        "\n",
        "search = RandomizedSearchCV(\n",
        "    estimator=lgb_model,\n",
        "    param_distributions=params_dist,\n",
        "    n_iter=20,\n",
        "    cv=tscv,\n",
        "    scoring='neg_mean_squared_error',\n",
        "    n_jobs=1,\n",
        "    verbose=1,\n",
        "    random_state=RANDOM_STATE\n",
        ")\n",
        "\n",
        "search.fit(train_scaled, target_train)\n",
        "search_time = time.time() - start_time\n",
        "\n",
        "# Лучшие параметры\n",
        "best_params = search.best_params_\n",
        "display(\"Лучшие гиперпараметры LGBMRegressor\")\n",
        "for param, value in best_params.items():\n",
        "    display(f\"{param:20}: {value:.2f}\" if isinstance(value, float) else f\"{param:20}: {value}\")\n",
        "\n",
        "display(f\"Лучший RMSE: {(-search.best_score_)**0.5:.2f}\")\n",
        "display(f\"Время подбора LGBMRegressor: {search_time:.2f} сек\")\n",
        "\n",
        "# Обучение модели\n",
        "display(\"Обучение модели LGBMRegressor\")\n",
        "start_train = time.time()\n",
        "\n",
        "# Разделение на train/validation (80/20)\n",
        "train_size = int(0.8 * len(train_scaled))\n",
        "X_train, X_val = train_scaled[:train_size], train_scaled[train_size:]\n",
        "y_train, y_val = target_train[:train_size], target_train[train_size:]\n",
        "\n",
        "final_lgb = lgb.LGBMRegressor(\n",
        "    **best_params,\n",
        "    random_state=RANDOM_STATE,\n",
        "    verbosity=100,\n",
        "    device='cpu',\n",
        "    force_row_wise=True\n",
        ")\n",
        "\n",
        "final_lgb.fit(\n",
        "    X_train,\n",
        "    y_train,\n",
        "    eval_set=[(X_val, y_val)],\n",
        "    eval_metric='rmse',\n",
        "    callbacks=[\n",
        "        lgb.early_stopping(stopping_rounds=30),\n",
        "        lgb.log_evaluation(50)\n",
        "    ])\n",
        "\n",
        "train_time = time.time() - start_train\n",
        "\n",
        "# Оценка модели\n",
        "display(\"Результаты LGBMRegressor\")\n",
        "\n",
        "# Предсказание на тренировочном наборе\n",
        "start_predict = time.time()\n",
        "train_pred = final_lgb.predict(train_scaled)\n",
        "predict_time_train = time.time() - start_predict\n",
        "train_rmse = np.sqrt(mean_squared_error(target_train, train_pred))\n",
        "\n",
        "# Предсказание на валидационной выборке\n",
        "start_predict = time.time()\n",
        "val_pred = final_lgb.predict(X_val)\n",
        "predict_time_val = time.time() - start_predict\n",
        "val_rmse = np.sqrt(mean_squared_error(y_val, val_pred))\n",
        "\n",
        "# Вывод результатов LGBMRegressor\n",
        "display(f\"RMSE на тренировочном наборе: {train_rmse:.2f}\")\n",
        "display(f\"RMSE на валидационной выборке: {val_rmse:.2f}\")\n",
        "display(f\"Время обучения: {train_time:.2f} сек\")\n",
        "display(f\"Время предсказания (тренировочная выборка): {predict_time_train:.2f} сек\")\n",
        "display(f\"Время предсказания (валидационная выборка): {predict_time_val:.2f} сек\")"
      ]
    },
    {
      "cell_type": "code",
      "execution_count": null,
      "metadata": {
        "id": "Tbldd5Q95hqr"
      },
      "outputs": [],
      "source": [
        "#Важность признаков LGBMRegressor\n",
        "importance = final_lgb.feature_importances_\n",
        "feature_names = train_scaled.columns\n",
        "importance_df = pd.DataFrame({'Признак': feature_names, 'Важность': importance})\n",
        "importance_df = importance_df.sort_values('Важность', ascending=False)\n",
        "display (importance_df.head(5))"
      ]
    },
    {
      "cell_type": "markdown",
      "metadata": {
        "id": "kROzr87W5hqr"
      },
      "source": [
        "## Анализ моделей"
      ]
    },
    {
      "cell_type": "markdown",
      "metadata": {
        "id": "jBLP3FWU5hqr"
      },
      "source": [
        "На предыдущем шаге обучено 5 моделей: LinearRegression, RandomForest и LightGBM, CatBoost и  LGBMRegressor.  \n",
        "Получены следующие результаты:"
      ]
    },
    {
      "cell_type": "markdown",
      "metadata": {
        "id": "BG_YKGsp5hqr"
      },
      "source": [
        "**Результаты модели LinearRegression  \n",
        "Время обучения:  33.56 сек**  \n",
        "**Время предсказания: 1.40 сек**   \n",
        "  \n",
        "- RMSE на тренировочной выборке: 1943.71  "
      ]
    },
    {
      "cell_type": "markdown",
      "metadata": {
        "id": "zsPd4YIJ5hqr"
      },
      "source": [
        "**Результаты модели RandomForest**   \n",
        "Лучшие параметры: max_depth': 20, 'min_samples_split': 5, 'n_estimators': 100     \n",
        "**Время обучения: 91.75 сек  \n",
        "Время предсказания: 7.60 сек**  \n",
        "  \n",
        "- RMSE на тренировочной выборке: 1034.5\n",
        "- RMSE на валидационной выборке: 1032.05\n",
        "- RMSE на кросс-валидации: 1544.52"
      ]
    },
    {
      "cell_type": "markdown",
      "metadata": {
        "id": "-yan56sI5hqr"
      },
      "source": [
        "**Результаты LightGBM (ансамбль стохастического градиентного бустинга)**    \n",
        "\n",
        "**Время обучения:  17.68 сек**  \n",
        "**Время предсказания: 4.21 сек**  \n",
        "  \n",
        "- RMSE на тренировочной выборке: 1394.17  \n",
        "- RMSE на валидационной выборке: 1500.76"
      ]
    },
    {
      "cell_type": "markdown",
      "metadata": {
        "id": "DBty040R5hqr"
      },
      "source": [
        "**Результаты CatBoost**   \n",
        "**Время обучения: 8.04 сек**  \n",
        "**Время предсказания: 0.04 сек**  \n",
        "\n",
        "- RMSE на тренировочном наборе: 1508.85\n",
        "- RMSE на валидационной выборке: 1563.85"
      ]
    },
    {
      "cell_type": "markdown",
      "metadata": {
        "id": "VmeQar9l5hqs"
      },
      "source": [
        "**Результаты LGBMRegressor**   \n",
        "**Время обучения: 6.80 сек**  \n",
        "**Время предсказания: 1.81 сек**  \n",
        "\n",
        " - RMSE на тренировочной выборке::  1534.78\n",
        " - RMSE на тестовой выборке: 1578.74"
      ]
    },
    {
      "cell_type": "markdown",
      "metadata": {
        "id": "IY_YRUwF5hqs"
      },
      "source": [
        "Лучший результат по качеству показала модель **RandomForest**, время обучения модели 92 сек. (самое большое, из-за сложности алгоритма).   \n",
        "  \n",
        "Предлагаю сделать выбор в пользу модели **RandomForest**, т.к. качество стоит на 1-ом месте. А у этой модели лучшие показатели RMSE."
      ]
    },
    {
      "cell_type": "markdown",
      "metadata": {
        "id": "IZnDZxaY5hqs"
      },
      "source": [
        "Исходя из критериев, которые важны заказчику:  \n",
        "- качество предсказания;\n",
        "- время обучения модели;\n",
        "- время предсказания модели.  \n"
      ]
    },
    {
      "cell_type": "code",
      "execution_count": null,
      "metadata": {
        "id": "vwBTegrZ5hqs"
      },
      "outputs": [],
      "source": [
        "# Проверка модели на тестовой выборке\n",
        "display(\"Проверка модели на тестовой выборке\")\n",
        "\n",
        "# Предсказание и замер времени\n",
        "start_test = time.time()\n",
        "test_pred = RF.predict(test_scaled)\n",
        "test_time = time.time() - start_test\n",
        "\n",
        "# Расчет метрик\n",
        "test_rmse = np.sqrt(mean_squared_error(target_test, test_pred))\n",
        "\n",
        "# Вывод результатов\n",
        "display(f\"Время предсказания на тестах: {test_time:.2f} сек\")\n",
        "display(f\"RMSE на тестах: {test_rmse:.2f}\")"
      ]
    },
    {
      "cell_type": "markdown",
      "metadata": {
        "id": "iU6Bv1Iv5hqs"
      },
      "source": [
        "## **Ключевые выводы проекта \"Определение стоимости автомобилей\"**\n",
        "\n",
        "### Результаты тестирования моделей\n",
        "\n",
        "### Сравнительный анализ 5 моделей:\n",
        "\n",
        "#### RandomForest - **РЕКОМЕНДУЕМАЯ МОДЕЛЬ**:\n",
        "- **Качество предсказания**: Наилучший показатель точности\n",
        "- **Скорость предсказания**: Оптимальное время ответа\n",
        "- **Время обучения**: Приемлемые сроки обучения модели\n",
        "\n",
        "#### Альтернативные модели:\n",
        "- **LightGBM**: Хорошее качество, быстрая скорость\n",
        "- **LinearRegression**: Быстрая, но низкая точность\n",
        "- **DecisionTree**: Быстрая обучение, среднее качество\n",
        "- **CatBoost**: Хорошее качество, дольше обучение\n",
        "\n",
        "## Соответствие требованиям заказчика\n",
        "\n",
        "### Критерий 1: Качество предсказания\n",
        "- RandomForest демонстрирует наивысшую точность оценки стоимости\n",
        "- Стабильные результаты на различных типах автомобилей\n",
        "\n",
        "### Критерий 2: Скорость предсказания   \n",
        "- Быстрое время ответа для пользовательского приложения\n",
        "- Возможность обработки запросов в реальном времени\n",
        "\n",
        "### Критерий 3: Время обучения\n",
        "- Приемлемое время обучения для регулярного обновления модели\n",
        "- Баланс между качеством и вычислительной сложностью\n",
        "\n",
        "##  Рекомендации для внедрения\n",
        "\n",
        "### Техническая реализация:\n",
        "- **Основная модель**: RandomForest для точной оценки стоимости\n",
        "- **Резервная модель**: LightGBM для высоконагруженных периодов\n",
        "- **Мониторинг**: Регулярная проверка актуальности модели"
      ]
    }
  ],
  "metadata": {
    "ExecuteTimeLog": [
      {
        "duration": 39357,
        "start_time": "2025-05-05T16:55:12.136Z"
      },
      {
        "duration": 1481,
        "start_time": "2025-05-05T16:55:51.496Z"
      },
      {
        "duration": 179,
        "start_time": "2025-05-05T16:55:52.979Z"
      },
      {
        "duration": 75,
        "start_time": "2025-05-05T16:55:53.160Z"
      },
      {
        "duration": 1744,
        "start_time": "2025-05-05T17:11:52.670Z"
      },
      {
        "duration": 165,
        "start_time": "2025-05-05T17:11:55.437Z"
      },
      {
        "duration": 531,
        "start_time": "2025-05-05T17:23:25.590Z"
      },
      {
        "duration": 1097,
        "start_time": "2025-05-05T17:25:21.796Z"
      },
      {
        "duration": 1923,
        "start_time": "2025-05-05T17:45:58.496Z"
      },
      {
        "duration": 148,
        "start_time": "2025-05-05T17:46:02.797Z"
      },
      {
        "duration": 1721,
        "start_time": "2025-05-05T17:48:57.513Z"
      },
      {
        "duration": 142,
        "start_time": "2025-05-05T17:48:59.236Z"
      },
      {
        "duration": 368,
        "start_time": "2025-05-05T17:49:01.415Z"
      },
      {
        "duration": 767,
        "start_time": "2025-05-05T17:49:01.975Z"
      },
      {
        "duration": 18418,
        "start_time": "2025-05-05T17:50:31.018Z"
      },
      {
        "duration": 2601,
        "start_time": "2025-05-05T17:50:49.439Z"
      },
      {
        "duration": 138,
        "start_time": "2025-05-05T17:50:52.044Z"
      },
      {
        "duration": 286,
        "start_time": "2025-05-05T17:50:52.184Z"
      },
      {
        "duration": 606,
        "start_time": "2025-05-05T17:50:52.471Z"
      },
      {
        "duration": 1713,
        "start_time": "2025-05-05T17:50:53.078Z"
      },
      {
        "duration": 240,
        "start_time": "2025-05-05T17:51:39.485Z"
      },
      {
        "duration": 245,
        "start_time": "2025-05-05T17:56:04.657Z"
      },
      {
        "duration": 97,
        "start_time": "2025-05-05T18:01:31.895Z"
      },
      {
        "duration": 2239,
        "start_time": "2025-05-05T18:05:33.528Z"
      },
      {
        "duration": 17746,
        "start_time": "2025-05-05T18:07:06.706Z"
      },
      {
        "duration": 1953,
        "start_time": "2025-05-05T18:07:24.455Z"
      },
      {
        "duration": 120,
        "start_time": "2025-05-05T18:07:26.410Z"
      },
      {
        "duration": 279,
        "start_time": "2025-05-05T18:07:26.532Z"
      },
      {
        "duration": 557,
        "start_time": "2025-05-05T18:07:26.813Z"
      },
      {
        "duration": 229,
        "start_time": "2025-05-05T18:07:27.376Z"
      },
      {
        "duration": 104,
        "start_time": "2025-05-05T18:07:27.606Z"
      },
      {
        "duration": 2105,
        "start_time": "2025-05-05T18:07:27.712Z"
      },
      {
        "duration": 2069,
        "start_time": "2025-05-05T18:09:57.127Z"
      },
      {
        "duration": 1948,
        "start_time": "2025-05-05T18:10:18.299Z"
      },
      {
        "duration": 2001,
        "start_time": "2025-05-05T18:10:32.348Z"
      },
      {
        "duration": 2004,
        "start_time": "2025-05-05T18:10:51.747Z"
      },
      {
        "duration": 2369,
        "start_time": "2025-05-05T18:11:02.358Z"
      },
      {
        "duration": 19116,
        "start_time": "2025-05-05T18:11:36.073Z"
      },
      {
        "duration": 1655,
        "start_time": "2025-05-05T18:11:55.192Z"
      },
      {
        "duration": 207,
        "start_time": "2025-05-05T18:11:56.849Z"
      },
      {
        "duration": 326,
        "start_time": "2025-05-05T18:11:57.058Z"
      },
      {
        "duration": 657,
        "start_time": "2025-05-05T18:11:57.387Z"
      },
      {
        "duration": 243,
        "start_time": "2025-05-05T18:11:58.046Z"
      },
      {
        "duration": 108,
        "start_time": "2025-05-05T18:11:58.291Z"
      },
      {
        "duration": 2486,
        "start_time": "2025-05-05T18:11:58.402Z"
      },
      {
        "duration": 2512,
        "start_time": "2025-05-05T18:12:52.592Z"
      },
      {
        "duration": 2016,
        "start_time": "2025-05-05T18:13:06.860Z"
      },
      {
        "duration": 2265,
        "start_time": "2025-05-05T18:14:00.898Z"
      },
      {
        "duration": 2264,
        "start_time": "2025-05-05T18:15:32.558Z"
      },
      {
        "duration": 1488,
        "start_time": "2025-05-05T18:30:27.861Z"
      },
      {
        "duration": 182,
        "start_time": "2025-05-05T18:32:51.760Z"
      },
      {
        "duration": 1466,
        "start_time": "2025-05-05T18:53:26.026Z"
      },
      {
        "duration": 214,
        "start_time": "2025-05-05T18:54:53.794Z"
      },
      {
        "duration": 19125,
        "start_time": "2025-05-05T19:03:38.018Z"
      },
      {
        "duration": 66834,
        "start_time": "2025-05-05T19:03:57.146Z"
      },
      {
        "duration": 125,
        "start_time": "2025-05-05T19:05:03.982Z"
      },
      {
        "duration": 284,
        "start_time": "2025-05-05T19:05:04.109Z"
      },
      {
        "duration": 582,
        "start_time": "2025-05-05T19:05:04.395Z"
      },
      {
        "duration": 231,
        "start_time": "2025-05-05T19:05:04.979Z"
      },
      {
        "duration": 97,
        "start_time": "2025-05-05T19:05:05.212Z"
      },
      {
        "duration": 1499,
        "start_time": "2025-05-05T19:05:05.311Z"
      },
      {
        "duration": 184,
        "start_time": "2025-05-05T19:05:06.812Z"
      },
      {
        "duration": 1515,
        "start_time": "2025-05-05T19:05:07.000Z"
      },
      {
        "duration": 229,
        "start_time": "2025-05-05T19:05:08.518Z"
      },
      {
        "duration": 2255,
        "start_time": "2025-05-05T19:05:08.749Z"
      },
      {
        "duration": 184,
        "start_time": "2025-05-05T19:08:53.753Z"
      },
      {
        "duration": 1315,
        "start_time": "2025-05-05T19:12:12.931Z"
      },
      {
        "duration": 129,
        "start_time": "2025-05-05T19:12:58.383Z"
      },
      {
        "duration": 138,
        "start_time": "2025-05-05T19:13:50.140Z"
      },
      {
        "duration": 1397,
        "start_time": "2025-05-05T19:21:01.047Z"
      },
      {
        "duration": 9403,
        "start_time": "2025-05-05T19:21:33.623Z"
      },
      {
        "duration": 164,
        "start_time": "2025-05-05T19:22:59.266Z"
      },
      {
        "duration": 162,
        "start_time": "2025-05-05T19:24:08.554Z"
      },
      {
        "duration": 156,
        "start_time": "2025-05-05T19:26:12.857Z"
      },
      {
        "duration": 646,
        "start_time": "2025-05-05T19:29:10.520Z"
      },
      {
        "duration": 333,
        "start_time": "2025-05-05T19:29:32.660Z"
      },
      {
        "duration": 1923,
        "start_time": "2025-05-05T19:29:42.908Z"
      },
      {
        "duration": 9579,
        "start_time": "2025-05-05T19:33:25.112Z"
      },
      {
        "duration": 19012,
        "start_time": "2025-05-05T19:34:47.821Z"
      },
      {
        "duration": 65887,
        "start_time": "2025-05-05T19:35:06.836Z"
      },
      {
        "duration": 129,
        "start_time": "2025-05-05T19:36:12.725Z"
      },
      {
        "duration": 290,
        "start_time": "2025-05-05T19:36:12.856Z"
      },
      {
        "duration": 607,
        "start_time": "2025-05-05T19:36:13.150Z"
      },
      {
        "duration": 235,
        "start_time": "2025-05-05T19:36:13.759Z"
      },
      {
        "duration": 104,
        "start_time": "2025-05-05T19:36:13.996Z"
      },
      {
        "duration": 1467,
        "start_time": "2025-05-05T19:36:14.102Z"
      },
      {
        "duration": 186,
        "start_time": "2025-05-05T19:36:15.575Z"
      },
      {
        "duration": 1539,
        "start_time": "2025-05-05T19:36:15.764Z"
      },
      {
        "duration": 230,
        "start_time": "2025-05-05T19:36:17.306Z"
      },
      {
        "duration": 1418,
        "start_time": "2025-05-05T19:36:17.539Z"
      },
      {
        "duration": 144,
        "start_time": "2025-05-05T19:36:18.959Z"
      },
      {
        "duration": 1390,
        "start_time": "2025-05-05T19:36:19.107Z"
      },
      {
        "duration": 9339,
        "start_time": "2025-05-05T19:36:20.498Z"
      },
      {
        "duration": 167,
        "start_time": "2025-05-05T19:36:29.839Z"
      },
      {
        "duration": 176,
        "start_time": "2025-05-05T19:36:30.009Z"
      },
      {
        "duration": 2196,
        "start_time": "2025-05-05T19:36:30.187Z"
      },
      {
        "duration": 18964,
        "start_time": "2025-05-05T19:45:02.734Z"
      },
      {
        "duration": 64844,
        "start_time": "2025-05-05T19:45:21.701Z"
      },
      {
        "duration": 120,
        "start_time": "2025-05-05T19:46:26.547Z"
      },
      {
        "duration": 270,
        "start_time": "2025-05-05T19:46:26.677Z"
      },
      {
        "duration": 555,
        "start_time": "2025-05-05T19:46:26.950Z"
      },
      {
        "duration": 224,
        "start_time": "2025-05-05T19:46:27.507Z"
      },
      {
        "duration": 101,
        "start_time": "2025-05-05T19:46:27.733Z"
      },
      {
        "duration": 1384,
        "start_time": "2025-05-05T19:46:27.836Z"
      },
      {
        "duration": 174,
        "start_time": "2025-05-05T19:46:29.222Z"
      },
      {
        "duration": 1486,
        "start_time": "2025-05-05T19:46:29.398Z"
      },
      {
        "duration": 233,
        "start_time": "2025-05-05T19:46:30.886Z"
      },
      {
        "duration": 1375,
        "start_time": "2025-05-05T19:46:31.121Z"
      },
      {
        "duration": 143,
        "start_time": "2025-05-05T19:46:32.499Z"
      },
      {
        "duration": 1433,
        "start_time": "2025-05-05T19:46:32.646Z"
      },
      {
        "duration": 9188,
        "start_time": "2025-05-05T19:46:34.081Z"
      },
      {
        "duration": 165,
        "start_time": "2025-05-05T19:46:43.271Z"
      },
      {
        "duration": 163,
        "start_time": "2025-05-05T19:46:43.437Z"
      },
      {
        "duration": 2166,
        "start_time": "2025-05-05T19:46:43.601Z"
      },
      {
        "duration": 2343,
        "start_time": "2025-05-05T19:47:45.974Z"
      },
      {
        "duration": 2196,
        "start_time": "2025-05-05T19:51:44.542Z"
      },
      {
        "duration": 466,
        "start_time": "2025-05-05T19:56:05.153Z"
      },
      {
        "duration": 581,
        "start_time": "2025-05-05T19:57:08.938Z"
      },
      {
        "duration": 140,
        "start_time": "2025-05-05T19:58:32.981Z"
      },
      {
        "duration": 324,
        "start_time": "2025-05-05T20:00:54.268Z"
      },
      {
        "duration": 611,
        "start_time": "2025-05-05T20:01:02.238Z"
      },
      {
        "duration": 480,
        "start_time": "2025-05-05T20:01:10.741Z"
      },
      {
        "duration": 244,
        "start_time": "2025-05-05T20:06:04.287Z"
      },
      {
        "duration": 133,
        "start_time": "2025-05-05T20:06:22.750Z"
      },
      {
        "duration": 153,
        "start_time": "2025-05-05T20:06:40.904Z"
      },
      {
        "duration": 268,
        "start_time": "2025-05-05T20:07:20.569Z"
      },
      {
        "duration": 162,
        "start_time": "2025-05-05T20:08:09.761Z"
      },
      {
        "duration": 2143,
        "start_time": "2025-05-05T20:13:51.965Z"
      },
      {
        "duration": 148,
        "start_time": "2025-05-05T20:15:14.524Z"
      },
      {
        "duration": 165,
        "start_time": "2025-05-05T20:15:24.637Z"
      },
      {
        "duration": 160,
        "start_time": "2025-05-05T20:15:33.177Z"
      },
      {
        "duration": 11,
        "start_time": "2025-05-05T20:39:54.195Z"
      },
      {
        "duration": 18995,
        "start_time": "2025-05-05T20:57:30.176Z"
      },
      {
        "duration": 66151,
        "start_time": "2025-05-05T20:57:49.174Z"
      },
      {
        "duration": 121,
        "start_time": "2025-05-05T20:58:55.327Z"
      },
      {
        "duration": 276,
        "start_time": "2025-05-05T20:58:55.449Z"
      },
      {
        "duration": 598,
        "start_time": "2025-05-05T20:58:55.728Z"
      },
      {
        "duration": 226,
        "start_time": "2025-05-05T20:58:56.327Z"
      },
      {
        "duration": 108,
        "start_time": "2025-05-05T20:58:56.555Z"
      },
      {
        "duration": 26,
        "start_time": "2025-05-05T20:58:56.666Z"
      },
      {
        "duration": 1462,
        "start_time": "2025-05-05T20:58:56.694Z"
      },
      {
        "duration": 179,
        "start_time": "2025-05-05T20:58:58.158Z"
      },
      {
        "duration": 9,
        "start_time": "2025-05-05T20:58:58.339Z"
      },
      {
        "duration": 1526,
        "start_time": "2025-05-05T20:58:58.350Z"
      },
      {
        "duration": 231,
        "start_time": "2025-05-05T20:58:59.878Z"
      },
      {
        "duration": 1196,
        "start_time": "2025-05-05T20:59:00.114Z"
      },
      {
        "duration": 0,
        "start_time": "2025-05-05T20:59:01.312Z"
      },
      {
        "duration": 0,
        "start_time": "2025-05-05T20:59:01.314Z"
      },
      {
        "duration": 0,
        "start_time": "2025-05-05T20:59:01.315Z"
      },
      {
        "duration": 0,
        "start_time": "2025-05-05T20:59:01.316Z"
      },
      {
        "duration": 0,
        "start_time": "2025-05-05T20:59:01.318Z"
      },
      {
        "duration": 0,
        "start_time": "2025-05-05T20:59:01.319Z"
      },
      {
        "duration": 0,
        "start_time": "2025-05-05T20:59:01.321Z"
      },
      {
        "duration": 1403,
        "start_time": "2025-05-05T20:59:38.525Z"
      },
      {
        "duration": 182,
        "start_time": "2025-05-05T20:59:39.930Z"
      },
      {
        "duration": 18,
        "start_time": "2025-05-05T21:01:17.850Z"
      },
      {
        "duration": 18790,
        "start_time": "2025-05-05T21:01:28.699Z"
      },
      {
        "duration": 65833,
        "start_time": "2025-05-05T21:01:47.492Z"
      },
      {
        "duration": 123,
        "start_time": "2025-05-05T21:02:53.327Z"
      },
      {
        "duration": 312,
        "start_time": "2025-05-05T21:02:53.452Z"
      },
      {
        "duration": 570,
        "start_time": "2025-05-05T21:02:53.776Z"
      },
      {
        "duration": 231,
        "start_time": "2025-05-05T21:02:54.349Z"
      },
      {
        "duration": 102,
        "start_time": "2025-05-05T21:02:54.582Z"
      },
      {
        "duration": 127,
        "start_time": "2025-05-05T21:02:54.686Z"
      },
      {
        "duration": 1599,
        "start_time": "2025-05-05T21:02:54.815Z"
      },
      {
        "duration": 199,
        "start_time": "2025-05-05T21:02:56.416Z"
      },
      {
        "duration": 9,
        "start_time": "2025-05-05T21:02:56.617Z"
      },
      {
        "duration": 1574,
        "start_time": "2025-05-05T21:02:56.628Z"
      },
      {
        "duration": 234,
        "start_time": "2025-05-05T21:02:58.205Z"
      },
      {
        "duration": 1203,
        "start_time": "2025-05-05T21:02:58.442Z"
      },
      {
        "duration": 0,
        "start_time": "2025-05-05T21:02:59.647Z"
      },
      {
        "duration": 0,
        "start_time": "2025-05-05T21:02:59.649Z"
      },
      {
        "duration": 0,
        "start_time": "2025-05-05T21:02:59.650Z"
      },
      {
        "duration": 0,
        "start_time": "2025-05-05T21:02:59.651Z"
      },
      {
        "duration": 0,
        "start_time": "2025-05-05T21:02:59.652Z"
      },
      {
        "duration": 0,
        "start_time": "2025-05-05T21:02:59.654Z"
      },
      {
        "duration": 0,
        "start_time": "2025-05-05T21:02:59.655Z"
      },
      {
        "duration": 39,
        "start_time": "2025-05-05T21:08:16.157Z"
      },
      {
        "duration": 1433,
        "start_time": "2025-05-05T21:08:27.697Z"
      },
      {
        "duration": 1410,
        "start_time": "2025-05-05T21:11:24.382Z"
      },
      {
        "duration": 463,
        "start_time": "2025-05-05T21:11:37.576Z"
      },
      {
        "duration": 2036,
        "start_time": "2025-05-05T21:11:41.460Z"
      },
      {
        "duration": 1987,
        "start_time": "2025-05-05T21:12:26.816Z"
      },
      {
        "duration": 150,
        "start_time": "2025-05-05T21:12:40.390Z"
      },
      {
        "duration": 43,
        "start_time": "2025-05-05T21:20:27.372Z"
      },
      {
        "duration": 295,
        "start_time": "2025-05-05T21:20:42.557Z"
      },
      {
        "duration": 216,
        "start_time": "2025-05-05T21:21:07.677Z"
      },
      {
        "duration": 219,
        "start_time": "2025-05-05T21:21:16.260Z"
      },
      {
        "duration": 234,
        "start_time": "2025-05-05T21:22:15.741Z"
      },
      {
        "duration": 227,
        "start_time": "2025-05-05T21:22:27.969Z"
      },
      {
        "duration": 137,
        "start_time": "2025-05-05T21:24:18.669Z"
      },
      {
        "duration": 132,
        "start_time": "2025-05-05T21:24:46.822Z"
      },
      {
        "duration": 161,
        "start_time": "2025-05-05T21:25:49.215Z"
      },
      {
        "duration": 168,
        "start_time": "2025-05-05T21:28:11.851Z"
      },
      {
        "duration": 209,
        "start_time": "2025-05-05T21:28:55.370Z"
      },
      {
        "duration": 289,
        "start_time": "2025-05-05T21:29:44.446Z"
      },
      {
        "duration": 150,
        "start_time": "2025-05-05T21:29:55.266Z"
      },
      {
        "duration": 155,
        "start_time": "2025-05-05T21:32:27.631Z"
      },
      {
        "duration": 153,
        "start_time": "2025-05-05T21:34:10.942Z"
      },
      {
        "duration": 165,
        "start_time": "2025-05-05T21:34:24.237Z"
      },
      {
        "duration": 147,
        "start_time": "2025-05-05T21:34:40.455Z"
      },
      {
        "duration": 132,
        "start_time": "2025-05-05T21:35:41.630Z"
      },
      {
        "duration": 151,
        "start_time": "2025-05-05T21:35:54.659Z"
      },
      {
        "duration": 139,
        "start_time": "2025-05-05T21:36:09.124Z"
      },
      {
        "duration": 143,
        "start_time": "2025-05-05T21:36:13.979Z"
      },
      {
        "duration": 140,
        "start_time": "2025-05-05T21:36:19.224Z"
      },
      {
        "duration": 136,
        "start_time": "2025-05-05T21:36:27.627Z"
      },
      {
        "duration": 374,
        "start_time": "2025-05-05T21:36:32.803Z"
      },
      {
        "duration": 291,
        "start_time": "2025-05-05T21:40:39.878Z"
      },
      {
        "duration": 264,
        "start_time": "2025-05-05T21:41:02.765Z"
      },
      {
        "duration": 118,
        "start_time": "2025-05-05T21:41:52.451Z"
      },
      {
        "duration": 242,
        "start_time": "2025-05-05T21:42:29.238Z"
      },
      {
        "duration": 116,
        "start_time": "2025-05-05T21:42:32.620Z"
      },
      {
        "duration": 259,
        "start_time": "2025-05-05T21:46:25.009Z"
      },
      {
        "duration": 18903,
        "start_time": "2025-05-05T21:46:36.273Z"
      },
      {
        "duration": 66849,
        "start_time": "2025-05-05T21:46:55.179Z"
      },
      {
        "duration": 134,
        "start_time": "2025-05-05T21:48:02.031Z"
      },
      {
        "duration": 280,
        "start_time": "2025-05-05T21:48:02.167Z"
      },
      {
        "duration": 574,
        "start_time": "2025-05-05T21:48:02.450Z"
      },
      {
        "duration": 225,
        "start_time": "2025-05-05T21:48:03.026Z"
      },
      {
        "duration": 106,
        "start_time": "2025-05-05T21:48:03.253Z"
      },
      {
        "duration": 134,
        "start_time": "2025-05-05T21:48:03.361Z"
      },
      {
        "duration": 1498,
        "start_time": "2025-05-05T21:48:03.498Z"
      },
      {
        "duration": 202,
        "start_time": "2025-05-05T21:48:04.998Z"
      },
      {
        "duration": 9,
        "start_time": "2025-05-05T21:48:05.202Z"
      },
      {
        "duration": 139,
        "start_time": "2025-05-05T21:48:05.212Z"
      },
      {
        "duration": 1545,
        "start_time": "2025-05-05T21:48:05.353Z"
      },
      {
        "duration": 231,
        "start_time": "2025-05-05T21:48:06.901Z"
      },
      {
        "duration": 2000,
        "start_time": "2025-05-05T21:48:07.134Z"
      },
      {
        "duration": 157,
        "start_time": "2025-05-05T21:48:09.136Z"
      },
      {
        "duration": 218,
        "start_time": "2025-05-05T21:48:09.295Z"
      },
      {
        "duration": 135,
        "start_time": "2025-05-05T21:48:09.515Z"
      },
      {
        "duration": 303,
        "start_time": "2025-05-05T21:48:09.652Z"
      },
      {
        "duration": 149,
        "start_time": "2025-05-05T21:48:09.958Z"
      },
      {
        "duration": 68,
        "start_time": "2025-05-05T21:48:10.110Z"
      },
      {
        "duration": 0,
        "start_time": "2025-05-05T21:48:10.180Z"
      },
      {
        "duration": 0,
        "start_time": "2025-05-05T21:48:10.182Z"
      },
      {
        "duration": 0,
        "start_time": "2025-05-05T21:48:10.185Z"
      },
      {
        "duration": 33,
        "start_time": "2025-05-05T21:51:50.032Z"
      },
      {
        "duration": 214,
        "start_time": "2025-05-05T21:52:09.880Z"
      },
      {
        "duration": 18933,
        "start_time": "2025-05-05T21:53:05.754Z"
      },
      {
        "duration": 66183,
        "start_time": "2025-05-05T21:53:24.689Z"
      },
      {
        "duration": 135,
        "start_time": "2025-05-05T21:54:30.877Z"
      },
      {
        "duration": 308,
        "start_time": "2025-05-05T21:54:31.014Z"
      },
      {
        "duration": 618,
        "start_time": "2025-05-05T21:54:31.325Z"
      },
      {
        "duration": 260,
        "start_time": "2025-05-05T21:54:31.945Z"
      },
      {
        "duration": 105,
        "start_time": "2025-05-05T21:54:32.207Z"
      },
      {
        "duration": 122,
        "start_time": "2025-05-05T21:54:32.314Z"
      },
      {
        "duration": 1399,
        "start_time": "2025-05-05T21:54:32.438Z"
      },
      {
        "duration": 178,
        "start_time": "2025-05-05T21:54:33.839Z"
      },
      {
        "duration": 9,
        "start_time": "2025-05-05T21:54:34.018Z"
      },
      {
        "duration": 63,
        "start_time": "2025-05-05T21:54:34.029Z"
      },
      {
        "duration": 1385,
        "start_time": "2025-05-05T21:54:34.094Z"
      },
      {
        "duration": 209,
        "start_time": "2025-05-05T21:54:35.482Z"
      },
      {
        "duration": 1986,
        "start_time": "2025-05-05T21:54:35.693Z"
      },
      {
        "duration": 151,
        "start_time": "2025-05-05T21:54:37.681Z"
      },
      {
        "duration": 222,
        "start_time": "2025-05-05T21:54:37.834Z"
      },
      {
        "duration": 134,
        "start_time": "2025-05-05T21:54:38.058Z"
      },
      {
        "duration": 310,
        "start_time": "2025-05-05T21:54:38.194Z"
      },
      {
        "duration": 152,
        "start_time": "2025-05-05T21:54:38.506Z"
      },
      {
        "duration": 332,
        "start_time": "2025-05-05T21:54:38.660Z"
      },
      {
        "duration": 123,
        "start_time": "2025-05-05T21:54:38.994Z"
      },
      {
        "duration": 80,
        "start_time": "2025-05-05T22:04:06.691Z"
      },
      {
        "duration": 44,
        "start_time": "2025-05-05T22:13:07.199Z"
      },
      {
        "duration": 129,
        "start_time": "2025-05-05T22:20:09.292Z"
      },
      {
        "duration": 140,
        "start_time": "2025-05-05T22:20:23.620Z"
      },
      {
        "duration": 11,
        "start_time": "2025-05-05T22:32:04.200Z"
      },
      {
        "duration": 14,
        "start_time": "2025-05-05T22:32:21.481Z"
      },
      {
        "duration": 16,
        "start_time": "2025-05-05T22:32:33.858Z"
      },
      {
        "duration": 27,
        "start_time": "2025-05-05T22:32:58.281Z"
      },
      {
        "duration": 37,
        "start_time": "2025-05-05T22:33:14.232Z"
      },
      {
        "duration": 30,
        "start_time": "2025-05-05T22:38:08.581Z"
      },
      {
        "duration": 698,
        "start_time": "2025-05-05T22:40:32.138Z"
      },
      {
        "duration": 17685,
        "start_time": "2025-05-05T22:41:56.641Z"
      },
      {
        "duration": 708,
        "start_time": "2025-05-05T22:42:26.783Z"
      },
      {
        "duration": 1012,
        "start_time": "2025-05-05T22:42:48.504Z"
      },
      {
        "duration": 271,
        "start_time": "2025-05-05T22:47:00.598Z"
      },
      {
        "duration": 4,
        "start_time": "2025-05-05T22:47:08.474Z"
      },
      {
        "duration": 86,
        "start_time": "2025-05-05T22:47:10.904Z"
      },
      {
        "duration": 17080,
        "start_time": "2025-05-05T22:47:55.911Z"
      },
      {
        "duration": 395296,
        "start_time": "2025-05-05T22:48:20.008Z"
      },
      {
        "duration": 39223,
        "start_time": "2025-05-06T16:57:29.168Z"
      },
      {
        "duration": 72832,
        "start_time": "2025-05-06T16:58:08.393Z"
      },
      {
        "duration": 126,
        "start_time": "2025-05-06T16:59:21.227Z"
      },
      {
        "duration": 283,
        "start_time": "2025-05-06T16:59:21.360Z"
      },
      {
        "duration": 592,
        "start_time": "2025-05-06T16:59:21.646Z"
      },
      {
        "duration": 244,
        "start_time": "2025-05-06T16:59:22.239Z"
      },
      {
        "duration": 107,
        "start_time": "2025-05-06T16:59:22.485Z"
      },
      {
        "duration": 131,
        "start_time": "2025-05-06T16:59:22.594Z"
      },
      {
        "duration": 1524,
        "start_time": "2025-05-06T16:59:22.727Z"
      },
      {
        "duration": 192,
        "start_time": "2025-05-06T16:59:24.253Z"
      },
      {
        "duration": 18,
        "start_time": "2025-05-06T16:59:24.448Z"
      },
      {
        "duration": 38,
        "start_time": "2025-05-06T16:59:24.468Z"
      },
      {
        "duration": 1538,
        "start_time": "2025-05-06T16:59:24.507Z"
      },
      {
        "duration": 241,
        "start_time": "2025-05-06T16:59:26.048Z"
      },
      {
        "duration": 2127,
        "start_time": "2025-05-06T16:59:26.290Z"
      },
      {
        "duration": 168,
        "start_time": "2025-05-06T16:59:28.419Z"
      },
      {
        "duration": 238,
        "start_time": "2025-05-06T16:59:28.589Z"
      },
      {
        "duration": 171,
        "start_time": "2025-05-06T16:59:28.830Z"
      },
      {
        "duration": 335,
        "start_time": "2025-05-06T16:59:29.007Z"
      },
      {
        "duration": 168,
        "start_time": "2025-05-06T16:59:29.344Z"
      },
      {
        "duration": 354,
        "start_time": "2025-05-06T16:59:29.514Z"
      },
      {
        "duration": 136,
        "start_time": "2025-05-06T16:59:29.869Z"
      },
      {
        "duration": 98,
        "start_time": "2025-05-06T16:59:30.006Z"
      },
      {
        "duration": 57,
        "start_time": "2025-05-06T16:59:30.106Z"
      },
      {
        "duration": 166,
        "start_time": "2025-05-06T16:59:30.164Z"
      },
      {
        "duration": 50,
        "start_time": "2025-05-06T16:59:30.332Z"
      },
      {
        "duration": 1286,
        "start_time": "2025-05-06T16:59:30.383Z"
      },
      {
        "duration": 308,
        "start_time": "2025-05-06T16:59:31.671Z"
      },
      {
        "duration": 3,
        "start_time": "2025-05-06T16:59:31.981Z"
      },
      {
        "duration": 434260,
        "start_time": "2025-05-06T16:59:31.985Z"
      },
      {
        "duration": 40,
        "start_time": "2025-05-06T17:22:22.205Z"
      },
      {
        "duration": 5,
        "start_time": "2025-05-06T17:30:25.632Z"
      },
      {
        "duration": 300,
        "start_time": "2025-05-06T17:34:02.021Z"
      },
      {
        "duration": 82,
        "start_time": "2025-05-06T17:44:19.166Z"
      },
      {
        "duration": 309,
        "start_time": "2025-05-06T17:44:31.506Z"
      },
      {
        "duration": 279,
        "start_time": "2025-05-06T17:46:39.428Z"
      },
      {
        "duration": 20962,
        "start_time": "2025-05-06T19:25:10.975Z"
      },
      {
        "duration": 73143,
        "start_time": "2025-05-06T19:25:31.940Z"
      },
      {
        "duration": 146,
        "start_time": "2025-05-06T19:26:45.086Z"
      },
      {
        "duration": 324,
        "start_time": "2025-05-06T19:26:45.234Z"
      },
      {
        "duration": 680,
        "start_time": "2025-05-06T19:26:45.562Z"
      },
      {
        "duration": 247,
        "start_time": "2025-05-06T19:26:46.244Z"
      },
      {
        "duration": 113,
        "start_time": "2025-05-06T19:26:46.493Z"
      },
      {
        "duration": 151,
        "start_time": "2025-05-06T19:26:46.609Z"
      },
      {
        "duration": 1650,
        "start_time": "2025-05-06T19:26:46.763Z"
      },
      {
        "duration": 201,
        "start_time": "2025-05-06T19:26:48.416Z"
      },
      {
        "duration": 13,
        "start_time": "2025-05-06T19:26:48.620Z"
      },
      {
        "duration": 61,
        "start_time": "2025-05-06T19:26:48.636Z"
      },
      {
        "duration": 1704,
        "start_time": "2025-05-06T19:26:48.700Z"
      },
      {
        "duration": 262,
        "start_time": "2025-05-06T19:26:50.410Z"
      },
      {
        "duration": 2247,
        "start_time": "2025-05-06T19:26:50.675Z"
      },
      {
        "duration": 192,
        "start_time": "2025-05-06T19:26:52.924Z"
      },
      {
        "duration": 258,
        "start_time": "2025-05-06T19:26:53.118Z"
      },
      {
        "duration": 160,
        "start_time": "2025-05-06T19:26:53.378Z"
      },
      {
        "duration": 358,
        "start_time": "2025-05-06T19:26:53.541Z"
      },
      {
        "duration": 175,
        "start_time": "2025-05-06T19:26:53.901Z"
      },
      {
        "duration": 372,
        "start_time": "2025-05-06T19:26:54.078Z"
      },
      {
        "duration": 151,
        "start_time": "2025-05-06T19:26:54.453Z"
      },
      {
        "duration": 103,
        "start_time": "2025-05-06T19:26:54.606Z"
      },
      {
        "duration": 64,
        "start_time": "2025-05-06T19:26:54.711Z"
      },
      {
        "duration": 169,
        "start_time": "2025-05-06T19:26:54.777Z"
      },
      {
        "duration": 44,
        "start_time": "2025-05-06T19:26:54.948Z"
      },
      {
        "duration": 1334,
        "start_time": "2025-05-06T19:26:54.994Z"
      },
      {
        "duration": 317,
        "start_time": "2025-05-06T19:26:56.331Z"
      },
      {
        "duration": 12,
        "start_time": "2025-05-06T19:26:56.650Z"
      },
      {
        "duration": 210395,
        "start_time": "2025-05-06T19:26:56.665Z"
      },
      {
        "duration": 60,
        "start_time": "2025-05-06T19:33:52.523Z"
      },
      {
        "duration": 237,
        "start_time": "2025-05-06T19:33:59.700Z"
      },
      {
        "duration": 153,
        "start_time": "2025-05-06T19:36:46.626Z"
      },
      {
        "duration": 156,
        "start_time": "2025-05-06T19:37:02.467Z"
      },
      {
        "duration": 304,
        "start_time": "2025-05-06T19:37:37.666Z"
      },
      {
        "duration": 162,
        "start_time": "2025-05-06T19:37:50.795Z"
      },
      {
        "duration": 391,
        "start_time": "2025-05-06T19:38:55.446Z"
      },
      {
        "duration": 136,
        "start_time": "2025-05-06T19:39:04.251Z"
      },
      {
        "duration": 76,
        "start_time": "2025-05-06T19:39:22.212Z"
      },
      {
        "duration": 35,
        "start_time": "2025-05-06T19:40:04.623Z"
      },
      {
        "duration": 87,
        "start_time": "2025-05-06T19:40:06.445Z"
      },
      {
        "duration": 157,
        "start_time": "2025-05-06T19:40:26.772Z"
      },
      {
        "duration": 39,
        "start_time": "2025-05-06T19:45:41.636Z"
      },
      {
        "duration": 1387,
        "start_time": "2025-05-06T19:45:46.280Z"
      },
      {
        "duration": 316,
        "start_time": "2025-05-06T19:46:45.114Z"
      },
      {
        "duration": 4,
        "start_time": "2025-05-06T19:46:53.696Z"
      },
      {
        "duration": 201709,
        "start_time": "2025-05-06T19:53:54.555Z"
      },
      {
        "duration": 20637,
        "start_time": "2025-05-06T19:59:08.437Z"
      },
      {
        "duration": 73701,
        "start_time": "2025-05-06T19:59:29.078Z"
      },
      {
        "duration": 135,
        "start_time": "2025-05-06T20:00:42.781Z"
      },
      {
        "duration": 298,
        "start_time": "2025-05-06T20:00:42.919Z"
      },
      {
        "duration": 582,
        "start_time": "2025-05-06T20:00:43.220Z"
      },
      {
        "duration": 279,
        "start_time": "2025-05-06T20:00:43.804Z"
      },
      {
        "duration": 116,
        "start_time": "2025-05-06T20:00:44.086Z"
      },
      {
        "duration": 136,
        "start_time": "2025-05-06T20:00:44.205Z"
      },
      {
        "duration": 1625,
        "start_time": "2025-05-06T20:00:44.344Z"
      },
      {
        "duration": 205,
        "start_time": "2025-05-06T20:00:45.971Z"
      },
      {
        "duration": 10,
        "start_time": "2025-05-06T20:00:46.178Z"
      },
      {
        "duration": 38,
        "start_time": "2025-05-06T20:00:46.190Z"
      },
      {
        "duration": 1601,
        "start_time": "2025-05-06T20:00:46.231Z"
      },
      {
        "duration": 251,
        "start_time": "2025-05-06T20:00:47.837Z"
      },
      {
        "duration": 2219,
        "start_time": "2025-05-06T20:00:48.090Z"
      },
      {
        "duration": 178,
        "start_time": "2025-05-06T20:00:50.312Z"
      },
      {
        "duration": 69,
        "start_time": "2025-05-06T20:00:50.492Z"
      },
      {
        "duration": 231,
        "start_time": "2025-05-06T20:00:50.563Z"
      },
      {
        "duration": 159,
        "start_time": "2025-05-06T20:00:50.796Z"
      },
      {
        "duration": 332,
        "start_time": "2025-05-06T20:00:50.960Z"
      },
      {
        "duration": 174,
        "start_time": "2025-05-06T20:00:51.295Z"
      },
      {
        "duration": 350,
        "start_time": "2025-05-06T20:00:51.471Z"
      },
      {
        "duration": 146,
        "start_time": "2025-05-06T20:00:51.824Z"
      },
      {
        "duration": 99,
        "start_time": "2025-05-06T20:00:51.973Z"
      },
      {
        "duration": 47,
        "start_time": "2025-05-06T20:00:52.075Z"
      },
      {
        "duration": 174,
        "start_time": "2025-05-06T20:00:52.124Z"
      },
      {
        "duration": 40,
        "start_time": "2025-05-06T20:00:52.301Z"
      },
      {
        "duration": 1307,
        "start_time": "2025-05-06T20:00:52.362Z"
      },
      {
        "duration": 307,
        "start_time": "2025-05-06T20:00:53.672Z"
      },
      {
        "duration": 4,
        "start_time": "2025-05-06T20:00:53.982Z"
      },
      {
        "duration": 4,
        "start_time": "2025-05-06T20:00:53.989Z"
      },
      {
        "duration": 984191,
        "start_time": "2025-05-06T20:00:53.995Z"
      },
      {
        "duration": 0,
        "start_time": "2025-05-06T20:17:18.188Z"
      },
      {
        "duration": 813233,
        "start_time": "2025-05-06T20:18:34.449Z"
      },
      {
        "duration": 20146,
        "start_time": "2025-05-06T20:33:30.973Z"
      },
      {
        "duration": 71764,
        "start_time": "2025-05-06T20:33:51.122Z"
      },
      {
        "duration": 126,
        "start_time": "2025-05-06T20:35:02.888Z"
      },
      {
        "duration": 295,
        "start_time": "2025-05-06T20:35:03.017Z"
      },
      {
        "duration": 616,
        "start_time": "2025-05-06T20:35:03.314Z"
      },
      {
        "duration": 243,
        "start_time": "2025-05-06T20:35:03.932Z"
      },
      {
        "duration": 122,
        "start_time": "2025-05-06T20:35:04.177Z"
      },
      {
        "duration": 135,
        "start_time": "2025-05-06T20:35:04.301Z"
      },
      {
        "duration": 1707,
        "start_time": "2025-05-06T20:35:04.438Z"
      },
      {
        "duration": 198,
        "start_time": "2025-05-06T20:35:06.149Z"
      },
      {
        "duration": 18,
        "start_time": "2025-05-06T20:35:06.349Z"
      },
      {
        "duration": 38,
        "start_time": "2025-05-06T20:35:06.370Z"
      },
      {
        "duration": 1517,
        "start_time": "2025-05-06T20:35:06.410Z"
      },
      {
        "duration": 239,
        "start_time": "2025-05-06T20:35:07.929Z"
      },
      {
        "duration": 2165,
        "start_time": "2025-05-06T20:35:08.170Z"
      },
      {
        "duration": 179,
        "start_time": "2025-05-06T20:35:10.338Z"
      },
      {
        "duration": 61,
        "start_time": "2025-05-06T20:35:10.520Z"
      },
      {
        "duration": 245,
        "start_time": "2025-05-06T20:35:10.584Z"
      },
      {
        "duration": 161,
        "start_time": "2025-05-06T20:35:10.831Z"
      },
      {
        "duration": 333,
        "start_time": "2025-05-06T20:35:10.994Z"
      },
      {
        "duration": 165,
        "start_time": "2025-05-06T20:35:11.330Z"
      },
      {
        "duration": 363,
        "start_time": "2025-05-06T20:35:11.497Z"
      },
      {
        "duration": 135,
        "start_time": "2025-05-06T20:35:11.863Z"
      },
      {
        "duration": 96,
        "start_time": "2025-05-06T20:35:12.000Z"
      },
      {
        "duration": 63,
        "start_time": "2025-05-06T20:35:12.099Z"
      },
      {
        "duration": 164,
        "start_time": "2025-05-06T20:35:12.165Z"
      },
      {
        "duration": 54,
        "start_time": "2025-05-06T20:35:12.331Z"
      },
      {
        "duration": 1275,
        "start_time": "2025-05-06T20:35:12.391Z"
      },
      {
        "duration": 297,
        "start_time": "2025-05-06T20:35:13.669Z"
      },
      {
        "duration": 4,
        "start_time": "2025-05-06T20:35:13.969Z"
      },
      {
        "duration": 83,
        "start_time": "2025-05-06T20:35:13.976Z"
      },
      {
        "duration": 0,
        "start_time": "2025-05-06T20:35:14.061Z"
      },
      {
        "duration": 0,
        "start_time": "2025-05-06T20:35:14.063Z"
      },
      {
        "duration": 0,
        "start_time": "2025-05-06T20:35:14.065Z"
      },
      {
        "duration": 0,
        "start_time": "2025-05-06T20:35:14.068Z"
      },
      {
        "duration": 0,
        "start_time": "2025-05-06T20:35:14.070Z"
      },
      {
        "duration": 0,
        "start_time": "2025-05-06T20:35:14.072Z"
      },
      {
        "duration": 0,
        "start_time": "2025-05-06T20:35:14.073Z"
      },
      {
        "duration": 0,
        "start_time": "2025-05-06T20:35:14.075Z"
      },
      {
        "duration": 133,
        "start_time": "2025-05-06T20:35:41.515Z"
      },
      {
        "duration": 18778,
        "start_time": "2025-05-06T20:38:44.366Z"
      },
      {
        "duration": 20855,
        "start_time": "2025-05-06T20:45:23.190Z"
      },
      {
        "duration": 74575,
        "start_time": "2025-05-06T20:45:44.049Z"
      },
      {
        "duration": 136,
        "start_time": "2025-05-06T20:46:58.630Z"
      },
      {
        "duration": 316,
        "start_time": "2025-05-06T20:46:58.768Z"
      },
      {
        "duration": 614,
        "start_time": "2025-05-06T20:46:59.086Z"
      },
      {
        "duration": 240,
        "start_time": "2025-05-06T20:46:59.702Z"
      },
      {
        "duration": 121,
        "start_time": "2025-05-06T20:46:59.944Z"
      },
      {
        "duration": 129,
        "start_time": "2025-05-06T20:47:00.068Z"
      },
      {
        "duration": 1682,
        "start_time": "2025-05-06T20:47:00.203Z"
      },
      {
        "duration": 194,
        "start_time": "2025-05-06T20:47:01.888Z"
      },
      {
        "duration": 10,
        "start_time": "2025-05-06T20:47:02.084Z"
      },
      {
        "duration": 42,
        "start_time": "2025-05-06T20:47:02.096Z"
      },
      {
        "duration": 1555,
        "start_time": "2025-05-06T20:47:02.160Z"
      },
      {
        "duration": 237,
        "start_time": "2025-05-06T20:47:03.717Z"
      },
      {
        "duration": 2126,
        "start_time": "2025-05-06T20:47:03.959Z"
      },
      {
        "duration": 166,
        "start_time": "2025-05-06T20:47:06.087Z"
      },
      {
        "duration": 54,
        "start_time": "2025-05-06T20:47:06.259Z"
      },
      {
        "duration": 239,
        "start_time": "2025-05-06T20:47:06.315Z"
      },
      {
        "duration": 154,
        "start_time": "2025-05-06T20:47:06.560Z"
      },
      {
        "duration": 335,
        "start_time": "2025-05-06T20:47:06.717Z"
      },
      {
        "duration": 165,
        "start_time": "2025-05-06T20:47:07.054Z"
      },
      {
        "duration": 349,
        "start_time": "2025-05-06T20:47:07.221Z"
      },
      {
        "duration": 147,
        "start_time": "2025-05-06T20:47:07.572Z"
      },
      {
        "duration": 94,
        "start_time": "2025-05-06T20:47:07.721Z"
      },
      {
        "duration": 71,
        "start_time": "2025-05-06T20:47:07.817Z"
      },
      {
        "duration": 173,
        "start_time": "2025-05-06T20:47:07.890Z"
      },
      {
        "duration": 61,
        "start_time": "2025-05-06T20:47:08.068Z"
      },
      {
        "duration": 1115,
        "start_time": "2025-05-06T20:47:08.131Z"
      },
      {
        "duration": 294,
        "start_time": "2025-05-06T20:47:09.249Z"
      },
      {
        "duration": 3,
        "start_time": "2025-05-06T20:47:09.545Z"
      },
      {
        "duration": 121349,
        "start_time": "2025-05-06T20:47:09.560Z"
      },
      {
        "duration": 0,
        "start_time": "2025-05-06T20:49:10.912Z"
      },
      {
        "duration": 0,
        "start_time": "2025-05-06T20:49:10.914Z"
      },
      {
        "duration": 0,
        "start_time": "2025-05-06T20:49:10.916Z"
      },
      {
        "duration": 0,
        "start_time": "2025-05-06T20:49:10.919Z"
      },
      {
        "duration": 0,
        "start_time": "2025-05-06T20:49:10.921Z"
      },
      {
        "duration": 0,
        "start_time": "2025-05-06T20:49:10.923Z"
      },
      {
        "duration": 0,
        "start_time": "2025-05-06T20:52:29.287Z"
      },
      {
        "duration": 20379,
        "start_time": "2025-05-06T20:52:52.988Z"
      },
      {
        "duration": 71405,
        "start_time": "2025-05-06T20:53:13.370Z"
      },
      {
        "duration": 138,
        "start_time": "2025-05-06T20:54:24.777Z"
      },
      {
        "duration": 316,
        "start_time": "2025-05-06T20:54:24.917Z"
      },
      {
        "duration": 657,
        "start_time": "2025-05-06T20:54:25.236Z"
      },
      {
        "duration": 240,
        "start_time": "2025-05-06T20:54:25.895Z"
      },
      {
        "duration": 110,
        "start_time": "2025-05-06T20:54:26.138Z"
      },
      {
        "duration": 145,
        "start_time": "2025-05-06T20:54:26.250Z"
      },
      {
        "duration": 1525,
        "start_time": "2025-05-06T20:54:26.398Z"
      },
      {
        "duration": 203,
        "start_time": "2025-05-06T20:54:27.926Z"
      },
      {
        "duration": 11,
        "start_time": "2025-05-06T20:54:28.132Z"
      },
      {
        "duration": 44,
        "start_time": "2025-05-06T20:54:28.161Z"
      },
      {
        "duration": 1496,
        "start_time": "2025-05-06T20:54:28.208Z"
      },
      {
        "duration": 243,
        "start_time": "2025-05-06T20:54:29.710Z"
      },
      {
        "duration": 2163,
        "start_time": "2025-05-06T20:54:29.961Z"
      },
      {
        "duration": 185,
        "start_time": "2025-05-06T20:54:32.127Z"
      },
      {
        "duration": 63,
        "start_time": "2025-05-06T20:54:32.314Z"
      },
      {
        "duration": 231,
        "start_time": "2025-05-06T20:54:32.379Z"
      },
      {
        "duration": 154,
        "start_time": "2025-05-06T20:54:32.612Z"
      },
      {
        "duration": 327,
        "start_time": "2025-05-06T20:54:32.768Z"
      },
      {
        "duration": 165,
        "start_time": "2025-05-06T20:54:33.097Z"
      },
      {
        "duration": 343,
        "start_time": "2025-05-06T20:54:33.264Z"
      },
      {
        "duration": 134,
        "start_time": "2025-05-06T20:54:33.609Z"
      },
      {
        "duration": 102,
        "start_time": "2025-05-06T20:54:33.745Z"
      },
      {
        "duration": 52,
        "start_time": "2025-05-06T20:54:33.849Z"
      },
      {
        "duration": 166,
        "start_time": "2025-05-06T20:54:33.903Z"
      },
      {
        "duration": 39,
        "start_time": "2025-05-06T20:54:34.072Z"
      },
      {
        "duration": 1207,
        "start_time": "2025-05-06T20:54:34.113Z"
      },
      {
        "duration": 298,
        "start_time": "2025-05-06T20:54:35.323Z"
      },
      {
        "duration": 3,
        "start_time": "2025-05-06T20:54:35.624Z"
      },
      {
        "duration": 20500,
        "start_time": "2025-05-06T20:54:35.629Z"
      },
      {
        "duration": 0,
        "start_time": "2025-05-06T20:54:56.132Z"
      },
      {
        "duration": 0,
        "start_time": "2025-05-06T20:54:56.134Z"
      },
      {
        "duration": 0,
        "start_time": "2025-05-06T20:54:56.135Z"
      },
      {
        "duration": 0,
        "start_time": "2025-05-06T20:54:56.136Z"
      },
      {
        "duration": 0,
        "start_time": "2025-05-06T20:54:56.138Z"
      },
      {
        "duration": 0,
        "start_time": "2025-05-06T20:54:56.139Z"
      },
      {
        "duration": 23086,
        "start_time": "2025-05-06T20:55:37.386Z"
      },
      {
        "duration": 27728,
        "start_time": "2025-05-06T20:59:51.017Z"
      },
      {
        "duration": 21,
        "start_time": "2025-05-06T21:09:27.042Z"
      },
      {
        "duration": 720622,
        "start_time": "2025-05-06T21:12:22.538Z"
      },
      {
        "duration": 16,
        "start_time": "2025-05-06T21:29:08.659Z"
      },
      {
        "duration": 19211,
        "start_time": "2025-05-06T21:30:05.929Z"
      },
      {
        "duration": 125748,
        "start_time": "2025-05-06T21:30:41.134Z"
      },
      {
        "duration": 27704,
        "start_time": "2025-05-06T21:33:51.473Z"
      },
      {
        "duration": 315,
        "start_time": "2025-05-06T21:35:53.912Z"
      },
      {
        "duration": 24129,
        "start_time": "2025-05-06T21:36:27.962Z"
      },
      {
        "duration": 7,
        "start_time": "2025-05-06T21:37:26.587Z"
      },
      {
        "duration": 47008,
        "start_time": "2025-05-06T21:37:32.276Z"
      },
      {
        "duration": 43466,
        "start_time": "2025-05-06T21:42:58.371Z"
      },
      {
        "duration": 70113,
        "start_time": "2025-05-06T21:44:16.372Z"
      },
      {
        "duration": 26175,
        "start_time": "2025-05-06T21:48:23.940Z"
      },
      {
        "duration": 638759,
        "start_time": "2025-05-06T21:51:02.502Z"
      },
      {
        "duration": 25810,
        "start_time": "2025-05-06T22:16:01.556Z"
      },
      {
        "duration": 13,
        "start_time": "2025-05-06T22:19:13.950Z"
      },
      {
        "duration": 14,
        "start_time": "2025-05-06T22:19:28.860Z"
      },
      {
        "duration": 19923,
        "start_time": "2025-05-06T22:23:19.549Z"
      },
      {
        "duration": 7113,
        "start_time": "2025-05-06T22:53:21.296Z"
      },
      {
        "duration": 1028913,
        "start_time": "2025-05-06T22:58:35.540Z"
      },
      {
        "duration": 939318,
        "start_time": "2025-05-06T23:20:25.371Z"
      },
      {
        "duration": 440,
        "start_time": "2025-05-06T23:42:47.491Z"
      },
      {
        "duration": 20859,
        "start_time": "2025-05-06T23:43:40.632Z"
      },
      {
        "duration": 72327,
        "start_time": "2025-05-06T23:44:01.496Z"
      },
      {
        "duration": 130,
        "start_time": "2025-05-06T23:45:13.825Z"
      },
      {
        "duration": 308,
        "start_time": "2025-05-06T23:45:13.961Z"
      },
      {
        "duration": 632,
        "start_time": "2025-05-06T23:45:14.272Z"
      },
      {
        "duration": 256,
        "start_time": "2025-05-06T23:45:14.906Z"
      },
      {
        "duration": 114,
        "start_time": "2025-05-06T23:45:15.164Z"
      },
      {
        "duration": 140,
        "start_time": "2025-05-06T23:45:15.280Z"
      },
      {
        "duration": 1625,
        "start_time": "2025-05-06T23:45:15.423Z"
      },
      {
        "duration": 203,
        "start_time": "2025-05-06T23:45:17.050Z"
      },
      {
        "duration": 11,
        "start_time": "2025-05-06T23:45:17.260Z"
      },
      {
        "duration": 39,
        "start_time": "2025-05-06T23:45:17.273Z"
      },
      {
        "duration": 1595,
        "start_time": "2025-05-06T23:45:17.314Z"
      },
      {
        "duration": 257,
        "start_time": "2025-05-06T23:45:18.913Z"
      },
      {
        "duration": 2119,
        "start_time": "2025-05-06T23:45:19.173Z"
      },
      {
        "duration": 174,
        "start_time": "2025-05-06T23:45:21.294Z"
      },
      {
        "duration": 57,
        "start_time": "2025-05-06T23:45:21.471Z"
      },
      {
        "duration": 264,
        "start_time": "2025-05-06T23:45:21.530Z"
      },
      {
        "duration": 146,
        "start_time": "2025-05-06T23:45:21.796Z"
      },
      {
        "duration": 337,
        "start_time": "2025-05-06T23:45:21.945Z"
      },
      {
        "duration": 164,
        "start_time": "2025-05-06T23:45:22.285Z"
      },
      {
        "duration": 355,
        "start_time": "2025-05-06T23:45:22.451Z"
      },
      {
        "duration": 140,
        "start_time": "2025-05-06T23:45:22.809Z"
      },
      {
        "duration": 95,
        "start_time": "2025-05-06T23:45:22.951Z"
      },
      {
        "duration": 58,
        "start_time": "2025-05-06T23:45:23.049Z"
      },
      {
        "duration": 177,
        "start_time": "2025-05-06T23:45:23.109Z"
      },
      {
        "duration": 75,
        "start_time": "2025-05-06T23:45:23.288Z"
      },
      {
        "duration": 1303,
        "start_time": "2025-05-06T23:45:23.365Z"
      },
      {
        "duration": 305,
        "start_time": "2025-05-06T23:45:24.670Z"
      },
      {
        "duration": 4,
        "start_time": "2025-05-06T23:45:24.977Z"
      },
      {
        "duration": 20986,
        "start_time": "2025-05-06T23:45:24.983Z"
      },
      {
        "duration": 736854,
        "start_time": "2025-05-06T23:45:45.971Z"
      },
      {
        "duration": 25850,
        "start_time": "2025-05-06T23:58:02.827Z"
      },
      {
        "duration": 1003159,
        "start_time": "2025-05-06T23:58:28.679Z"
      },
      {
        "duration": 161,
        "start_time": "2025-05-07T00:15:11.840Z"
      },
      {
        "duration": 19339,
        "start_time": "2025-05-07T05:15:08.111Z"
      },
      {
        "duration": 934100,
        "start_time": "2025-05-07T05:18:22.182Z"
      },
      {
        "duration": 69,
        "start_time": "2025-05-07T05:46:19.007Z"
      },
      {
        "duration": 92,
        "start_time": "2025-05-09T19:43:46.583Z"
      },
      {
        "duration": 96,
        "start_time": "2025-05-09T19:47:09.354Z"
      },
      {
        "duration": 41197,
        "start_time": "2025-05-09T19:50:06.496Z"
      },
      {
        "duration": 70768,
        "start_time": "2025-05-09T19:50:47.696Z"
      },
      {
        "duration": 144,
        "start_time": "2025-05-09T19:51:58.466Z"
      },
      {
        "duration": 339,
        "start_time": "2025-05-09T19:51:58.613Z"
      },
      {
        "duration": 656,
        "start_time": "2025-05-09T19:51:58.960Z"
      },
      {
        "duration": 244,
        "start_time": "2025-05-09T19:51:59.618Z"
      },
      {
        "duration": 103,
        "start_time": "2025-05-09T19:51:59.864Z"
      },
      {
        "duration": 143,
        "start_time": "2025-05-09T19:51:59.968Z"
      },
      {
        "duration": 1648,
        "start_time": "2025-05-09T19:52:00.113Z"
      },
      {
        "duration": 191,
        "start_time": "2025-05-09T19:52:01.763Z"
      },
      {
        "duration": 14,
        "start_time": "2025-05-09T19:52:01.962Z"
      },
      {
        "duration": 53,
        "start_time": "2025-05-09T19:52:01.978Z"
      },
      {
        "duration": 1564,
        "start_time": "2025-05-09T19:52:02.033Z"
      },
      {
        "duration": 253,
        "start_time": "2025-05-09T19:52:03.601Z"
      },
      {
        "duration": 2193,
        "start_time": "2025-05-09T19:52:03.861Z"
      },
      {
        "duration": 175,
        "start_time": "2025-05-09T19:52:06.056Z"
      },
      {
        "duration": 71,
        "start_time": "2025-05-09T19:52:06.233Z"
      },
      {
        "duration": 236,
        "start_time": "2025-05-09T19:52:06.306Z"
      },
      {
        "duration": 175,
        "start_time": "2025-05-09T19:52:06.544Z"
      },
      {
        "duration": 355,
        "start_time": "2025-05-09T19:52:06.721Z"
      },
      {
        "duration": 164,
        "start_time": "2025-05-09T19:52:07.078Z"
      },
      {
        "duration": 451,
        "start_time": "2025-05-09T19:52:07.244Z"
      },
      {
        "duration": 161,
        "start_time": "2025-05-09T19:52:07.696Z"
      },
      {
        "duration": 112,
        "start_time": "2025-05-09T19:52:07.861Z"
      },
      {
        "duration": 53,
        "start_time": "2025-05-09T19:52:07.975Z"
      },
      {
        "duration": 194,
        "start_time": "2025-05-09T19:52:08.030Z"
      },
      {
        "duration": 74,
        "start_time": "2025-05-09T19:52:08.226Z"
      },
      {
        "duration": 138,
        "start_time": "2025-05-09T19:52:08.302Z"
      },
      {
        "duration": 0,
        "start_time": "2025-05-09T19:52:08.442Z"
      },
      {
        "duration": 0,
        "start_time": "2025-05-09T19:52:08.444Z"
      },
      {
        "duration": 0,
        "start_time": "2025-05-09T19:52:08.445Z"
      },
      {
        "duration": 0,
        "start_time": "2025-05-09T19:52:08.447Z"
      },
      {
        "duration": 0,
        "start_time": "2025-05-09T19:52:08.461Z"
      },
      {
        "duration": 0,
        "start_time": "2025-05-09T19:52:08.463Z"
      },
      {
        "duration": 0,
        "start_time": "2025-05-09T19:52:08.466Z"
      },
      {
        "duration": 0,
        "start_time": "2025-05-09T19:52:08.467Z"
      },
      {
        "duration": 105,
        "start_time": "2025-05-09T20:09:50.236Z"
      },
      {
        "duration": 26,
        "start_time": "2025-05-09T20:17:55.487Z"
      },
      {
        "duration": 93,
        "start_time": "2025-05-09T20:18:04.031Z"
      },
      {
        "duration": 16,
        "start_time": "2025-05-09T20:18:18.319Z"
      },
      {
        "duration": 20336,
        "start_time": "2025-05-09T20:18:53.574Z"
      },
      {
        "duration": 15,
        "start_time": "2025-05-09T20:19:36.509Z"
      },
      {
        "duration": 104,
        "start_time": "2025-05-09T20:21:34.054Z"
      },
      {
        "duration": 19868,
        "start_time": "2025-05-09T20:22:28.436Z"
      },
      {
        "duration": 23313,
        "start_time": "2025-05-09T20:23:50.069Z"
      },
      {
        "duration": 37,
        "start_time": "2025-05-09T20:24:26.919Z"
      },
      {
        "duration": 21534,
        "start_time": "2025-05-09T20:27:56.241Z"
      },
      {
        "duration": 21716,
        "start_time": "2025-05-09T20:29:01.974Z"
      },
      {
        "duration": 93,
        "start_time": "2025-05-09T20:30:00.683Z"
      },
      {
        "duration": 31,
        "start_time": "2025-05-09T20:30:02.418Z"
      },
      {
        "duration": 24308,
        "start_time": "2025-05-09T20:31:01.457Z"
      },
      {
        "duration": 72577,
        "start_time": "2025-05-09T20:31:25.769Z"
      },
      {
        "duration": 131,
        "start_time": "2025-05-09T20:32:38.348Z"
      },
      {
        "duration": 272,
        "start_time": "2025-05-09T20:32:38.482Z"
      },
      {
        "duration": 589,
        "start_time": "2025-05-09T20:32:38.762Z"
      },
      {
        "duration": 242,
        "start_time": "2025-05-09T20:32:39.353Z"
      },
      {
        "duration": 110,
        "start_time": "2025-05-09T20:32:39.597Z"
      },
      {
        "duration": 169,
        "start_time": "2025-05-09T20:32:39.709Z"
      },
      {
        "duration": 1774,
        "start_time": "2025-05-09T20:32:39.882Z"
      },
      {
        "duration": 222,
        "start_time": "2025-05-09T20:32:41.661Z"
      },
      {
        "duration": 9,
        "start_time": "2025-05-09T20:32:41.885Z"
      },
      {
        "duration": 120,
        "start_time": "2025-05-09T20:32:41.896Z"
      },
      {
        "duration": 1586,
        "start_time": "2025-05-09T20:32:42.018Z"
      },
      {
        "duration": 235,
        "start_time": "2025-05-09T20:32:43.608Z"
      },
      {
        "duration": 2236,
        "start_time": "2025-05-09T20:32:43.845Z"
      },
      {
        "duration": 184,
        "start_time": "2025-05-09T20:32:46.084Z"
      },
      {
        "duration": 53,
        "start_time": "2025-05-09T20:32:46.274Z"
      },
      {
        "duration": 244,
        "start_time": "2025-05-09T20:32:46.329Z"
      },
      {
        "duration": 166,
        "start_time": "2025-05-09T20:32:46.575Z"
      },
      {
        "duration": 341,
        "start_time": "2025-05-09T20:32:46.744Z"
      },
      {
        "duration": 163,
        "start_time": "2025-05-09T20:32:47.087Z"
      },
      {
        "duration": 388,
        "start_time": "2025-05-09T20:32:47.252Z"
      },
      {
        "duration": 176,
        "start_time": "2025-05-09T20:32:47.642Z"
      },
      {
        "duration": 115,
        "start_time": "2025-05-09T20:32:47.820Z"
      },
      {
        "duration": 97,
        "start_time": "2025-05-09T20:32:47.937Z"
      },
      {
        "duration": 194,
        "start_time": "2025-05-09T20:32:48.036Z"
      },
      {
        "duration": 78,
        "start_time": "2025-05-09T20:32:48.232Z"
      },
      {
        "duration": 24,
        "start_time": "2025-05-09T20:32:48.313Z"
      },
      {
        "duration": 108,
        "start_time": "2025-05-09T20:32:48.339Z"
      },
      {
        "duration": 157,
        "start_time": "2025-05-09T20:32:48.449Z"
      },
      {
        "duration": 0,
        "start_time": "2025-05-09T20:32:48.609Z"
      },
      {
        "duration": 0,
        "start_time": "2025-05-09T20:32:48.610Z"
      },
      {
        "duration": 0,
        "start_time": "2025-05-09T20:32:48.612Z"
      },
      {
        "duration": 0,
        "start_time": "2025-05-09T20:32:48.613Z"
      },
      {
        "duration": 0,
        "start_time": "2025-05-09T20:32:48.614Z"
      },
      {
        "duration": 0,
        "start_time": "2025-05-09T20:32:48.616Z"
      },
      {
        "duration": 0,
        "start_time": "2025-05-09T20:32:48.618Z"
      },
      {
        "duration": 49,
        "start_time": "2025-05-09T20:34:14.994Z"
      },
      {
        "duration": 95,
        "start_time": "2025-05-09T20:34:23.082Z"
      },
      {
        "duration": 47,
        "start_time": "2025-05-09T20:34:26.677Z"
      },
      {
        "duration": 16,
        "start_time": "2025-05-09T20:38:02.372Z"
      },
      {
        "duration": 18,
        "start_time": "2025-05-09T20:38:10.770Z"
      },
      {
        "duration": 282,
        "start_time": "2025-05-09T20:39:20.281Z"
      },
      {
        "duration": 271,
        "start_time": "2025-05-09T20:41:24.157Z"
      },
      {
        "duration": 263,
        "start_time": "2025-05-09T20:42:20.999Z"
      },
      {
        "duration": 80,
        "start_time": "2025-05-09T20:44:51.232Z"
      },
      {
        "duration": 39342,
        "start_time": "2025-05-09T20:45:03.999Z"
      },
      {
        "duration": 89,
        "start_time": "2025-05-09T20:49:21.835Z"
      },
      {
        "duration": 85,
        "start_time": "2025-05-09T20:49:37.945Z"
      },
      {
        "duration": 307,
        "start_time": "2025-05-09T20:50:05.375Z"
      },
      {
        "duration": 1973,
        "start_time": "2025-05-09T20:50:51.267Z"
      },
      {
        "duration": 21525,
        "start_time": "2025-05-09T20:52:07.128Z"
      },
      {
        "duration": 48,
        "start_time": "2025-05-09T20:53:04.319Z"
      },
      {
        "duration": 20,
        "start_time": "2025-05-09T20:53:06.333Z"
      },
      {
        "duration": 88,
        "start_time": "2025-05-09T20:53:09.238Z"
      },
      {
        "duration": 1961,
        "start_time": "2025-05-09T20:56:42.830Z"
      },
      {
        "duration": 4,
        "start_time": "2025-05-09T20:56:45.031Z"
      },
      {
        "duration": 623,
        "start_time": "2025-05-09T21:01:59.778Z"
      },
      {
        "duration": 547,
        "start_time": "2025-05-09T21:02:16.474Z"
      },
      {
        "duration": 24879,
        "start_time": "2025-05-09T21:04:16.322Z"
      },
      {
        "duration": 74498,
        "start_time": "2025-05-09T21:04:41.204Z"
      },
      {
        "duration": 138,
        "start_time": "2025-05-09T21:05:55.704Z"
      },
      {
        "duration": 315,
        "start_time": "2025-05-09T21:05:55.845Z"
      },
      {
        "duration": 632,
        "start_time": "2025-05-09T21:05:56.163Z"
      },
      {
        "duration": 250,
        "start_time": "2025-05-09T21:05:56.798Z"
      },
      {
        "duration": 116,
        "start_time": "2025-05-09T21:05:57.062Z"
      },
      {
        "duration": 148,
        "start_time": "2025-05-09T21:05:57.181Z"
      },
      {
        "duration": 1644,
        "start_time": "2025-05-09T21:05:57.331Z"
      },
      {
        "duration": 207,
        "start_time": "2025-05-09T21:05:58.980Z"
      },
      {
        "duration": 11,
        "start_time": "2025-05-09T21:05:59.190Z"
      },
      {
        "duration": 33,
        "start_time": "2025-05-09T21:05:59.204Z"
      },
      {
        "duration": 1632,
        "start_time": "2025-05-09T21:05:59.239Z"
      },
      {
        "duration": 251,
        "start_time": "2025-05-09T21:06:00.874Z"
      },
      {
        "duration": 2127,
        "start_time": "2025-05-09T21:06:01.127Z"
      },
      {
        "duration": 169,
        "start_time": "2025-05-09T21:06:03.260Z"
      },
      {
        "duration": 65,
        "start_time": "2025-05-09T21:06:03.431Z"
      },
      {
        "duration": 245,
        "start_time": "2025-05-09T21:06:03.498Z"
      },
      {
        "duration": 153,
        "start_time": "2025-05-09T21:06:03.746Z"
      },
      {
        "duration": 322,
        "start_time": "2025-05-09T21:06:03.902Z"
      },
      {
        "duration": 184,
        "start_time": "2025-05-09T21:06:04.226Z"
      },
      {
        "duration": 364,
        "start_time": "2025-05-09T21:06:04.412Z"
      },
      {
        "duration": 177,
        "start_time": "2025-05-09T21:06:04.778Z"
      },
      {
        "duration": 152,
        "start_time": "2025-05-09T21:06:04.961Z"
      },
      {
        "duration": 92,
        "start_time": "2025-05-09T21:06:05.116Z"
      },
      {
        "duration": 208,
        "start_time": "2025-05-09T21:06:05.210Z"
      },
      {
        "duration": 58,
        "start_time": "2025-05-09T21:06:05.420Z"
      },
      {
        "duration": 24,
        "start_time": "2025-05-09T21:06:05.484Z"
      },
      {
        "duration": 144,
        "start_time": "2025-05-09T21:06:05.510Z"
      },
      {
        "duration": 177,
        "start_time": "2025-05-09T21:06:05.656Z"
      },
      {
        "duration": 0,
        "start_time": "2025-05-09T21:06:05.836Z"
      },
      {
        "duration": 0,
        "start_time": "2025-05-09T21:06:05.837Z"
      },
      {
        "duration": 0,
        "start_time": "2025-05-09T21:06:05.838Z"
      },
      {
        "duration": 0,
        "start_time": "2025-05-09T21:06:05.840Z"
      },
      {
        "duration": 0,
        "start_time": "2025-05-09T21:06:05.841Z"
      },
      {
        "duration": 0,
        "start_time": "2025-05-09T21:06:05.843Z"
      },
      {
        "duration": 0,
        "start_time": "2025-05-09T21:06:05.844Z"
      },
      {
        "duration": 561,
        "start_time": "2025-05-09T21:06:50.939Z"
      },
      {
        "duration": 376,
        "start_time": "2025-05-09T21:07:02.814Z"
      },
      {
        "duration": 23475,
        "start_time": "2025-05-09T21:09:46.222Z"
      },
      {
        "duration": 73653,
        "start_time": "2025-05-09T21:10:09.700Z"
      },
      {
        "duration": 158,
        "start_time": "2025-05-09T21:11:23.355Z"
      },
      {
        "duration": 312,
        "start_time": "2025-05-09T21:11:23.515Z"
      },
      {
        "duration": 638,
        "start_time": "2025-05-09T21:11:23.830Z"
      },
      {
        "duration": 258,
        "start_time": "2025-05-09T21:11:24.471Z"
      },
      {
        "duration": 123,
        "start_time": "2025-05-09T21:11:24.731Z"
      },
      {
        "duration": 152,
        "start_time": "2025-05-09T21:11:24.857Z"
      },
      {
        "duration": 1531,
        "start_time": "2025-05-09T21:11:25.012Z"
      },
      {
        "duration": 223,
        "start_time": "2025-05-09T21:11:26.546Z"
      },
      {
        "duration": 14,
        "start_time": "2025-05-09T21:11:26.779Z"
      },
      {
        "duration": 33,
        "start_time": "2025-05-09T21:11:26.796Z"
      },
      {
        "duration": 1674,
        "start_time": "2025-05-09T21:11:26.832Z"
      },
      {
        "duration": 260,
        "start_time": "2025-05-09T21:11:28.510Z"
      },
      {
        "duration": 2148,
        "start_time": "2025-05-09T21:11:28.773Z"
      },
      {
        "duration": 173,
        "start_time": "2025-05-09T21:11:30.923Z"
      },
      {
        "duration": 63,
        "start_time": "2025-05-09T21:11:31.098Z"
      },
      {
        "duration": 236,
        "start_time": "2025-05-09T21:11:31.165Z"
      },
      {
        "duration": 174,
        "start_time": "2025-05-09T21:11:31.403Z"
      },
      {
        "duration": 365,
        "start_time": "2025-05-09T21:11:31.580Z"
      },
      {
        "duration": 177,
        "start_time": "2025-05-09T21:11:31.948Z"
      },
      {
        "duration": 475,
        "start_time": "2025-05-09T21:11:32.127Z"
      },
      {
        "duration": 169,
        "start_time": "2025-05-09T21:11:32.604Z"
      },
      {
        "duration": 115,
        "start_time": "2025-05-09T21:11:32.776Z"
      },
      {
        "duration": 160,
        "start_time": "2025-05-09T21:11:32.893Z"
      },
      {
        "duration": 206,
        "start_time": "2025-05-09T21:11:33.055Z"
      },
      {
        "duration": 49,
        "start_time": "2025-05-09T21:11:33.265Z"
      },
      {
        "duration": 22,
        "start_time": "2025-05-09T21:11:33.317Z"
      },
      {
        "duration": 109,
        "start_time": "2025-05-09T21:11:33.364Z"
      },
      {
        "duration": 506,
        "start_time": "2025-05-09T21:11:33.476Z"
      },
      {
        "duration": 0,
        "start_time": "2025-05-09T21:11:33.985Z"
      },
      {
        "duration": 0,
        "start_time": "2025-05-09T21:11:33.986Z"
      },
      {
        "duration": 0,
        "start_time": "2025-05-09T21:11:33.988Z"
      },
      {
        "duration": 0,
        "start_time": "2025-05-09T21:11:33.990Z"
      },
      {
        "duration": 0,
        "start_time": "2025-05-09T21:11:33.991Z"
      },
      {
        "duration": 0,
        "start_time": "2025-05-09T21:11:33.993Z"
      },
      {
        "duration": 0,
        "start_time": "2025-05-09T21:11:33.994Z"
      },
      {
        "duration": 45,
        "start_time": "2025-05-09T21:16:59.156Z"
      },
      {
        "duration": 29,
        "start_time": "2025-05-09T21:17:00.176Z"
      },
      {
        "duration": 112,
        "start_time": "2025-05-09T21:17:02.393Z"
      },
      {
        "duration": 328,
        "start_time": "2025-05-09T21:17:45.579Z"
      },
      {
        "duration": 45,
        "start_time": "2025-05-09T21:17:51.162Z"
      },
      {
        "duration": 298,
        "start_time": "2025-05-09T21:19:10.451Z"
      },
      {
        "duration": 108,
        "start_time": "2025-05-09T21:20:17.105Z"
      },
      {
        "duration": 111,
        "start_time": "2025-05-09T21:20:23.494Z"
      },
      {
        "duration": 45,
        "start_time": "2025-05-09T21:21:53.597Z"
      },
      {
        "duration": 36,
        "start_time": "2025-05-09T21:21:58.316Z"
      },
      {
        "duration": 45,
        "start_time": "2025-05-09T21:21:59.716Z"
      },
      {
        "duration": 94,
        "start_time": "2025-05-09T21:22:02.038Z"
      },
      {
        "duration": 302,
        "start_time": "2025-05-09T21:22:03.089Z"
      },
      {
        "duration": 73,
        "start_time": "2025-05-09T21:24:49.108Z"
      },
      {
        "duration": 428,
        "start_time": "2025-05-09T21:25:14.071Z"
      },
      {
        "duration": 267,
        "start_time": "2025-05-09T21:26:02.204Z"
      },
      {
        "duration": 450,
        "start_time": "2025-05-09T21:27:24.842Z"
      },
      {
        "duration": 274,
        "start_time": "2025-05-09T21:27:27.917Z"
      },
      {
        "duration": 258,
        "start_time": "2025-05-09T21:27:41.830Z"
      },
      {
        "duration": 3,
        "start_time": "2025-05-09T21:28:15.352Z"
      },
      {
        "duration": 275,
        "start_time": "2025-05-09T21:39:10.097Z"
      },
      {
        "duration": 246,
        "start_time": "2025-05-09T21:40:55.417Z"
      },
      {
        "duration": 3,
        "start_time": "2025-05-09T21:43:11.258Z"
      },
      {
        "duration": 165,
        "start_time": "2025-05-09T21:43:14.504Z"
      },
      {
        "duration": 211,
        "start_time": "2025-05-09T21:44:02.865Z"
      },
      {
        "duration": 15,
        "start_time": "2025-05-09T21:44:55.617Z"
      },
      {
        "duration": 16,
        "start_time": "2025-05-09T21:45:32.254Z"
      },
      {
        "duration": 20,
        "start_time": "2025-05-09T21:45:48.113Z"
      },
      {
        "duration": 17,
        "start_time": "2025-05-09T21:46:26.000Z"
      },
      {
        "duration": 194,
        "start_time": "2025-05-09T21:49:22.375Z"
      },
      {
        "duration": 1025135,
        "start_time": "2025-05-09T21:52:16.178Z"
      },
      {
        "duration": 123,
        "start_time": "2025-05-09T22:12:10.132Z"
      },
      {
        "duration": 336,
        "start_time": "2025-05-09T22:12:18.534Z"
      },
      {
        "duration": 86,
        "start_time": "2025-05-09T22:13:19.770Z"
      },
      {
        "duration": 7,
        "start_time": "2025-05-10T04:20:26.779Z"
      },
      {
        "duration": 38364,
        "start_time": "2025-05-10T04:20:43.380Z"
      },
      {
        "duration": 21075,
        "start_time": "2025-05-10T04:21:50.132Z"
      },
      {
        "duration": 63651,
        "start_time": "2025-05-10T04:22:11.209Z"
      },
      {
        "duration": 117,
        "start_time": "2025-05-10T04:23:14.862Z"
      },
      {
        "duration": 241,
        "start_time": "2025-05-10T04:23:14.981Z"
      },
      {
        "duration": 522,
        "start_time": "2025-05-10T04:23:15.224Z"
      },
      {
        "duration": 253,
        "start_time": "2025-05-10T04:23:15.748Z"
      },
      {
        "duration": 103,
        "start_time": "2025-05-10T04:23:16.002Z"
      },
      {
        "duration": 123,
        "start_time": "2025-05-10T04:23:16.107Z"
      },
      {
        "duration": 1418,
        "start_time": "2025-05-10T04:23:16.232Z"
      },
      {
        "duration": 180,
        "start_time": "2025-05-10T04:23:17.654Z"
      },
      {
        "duration": 9,
        "start_time": "2025-05-10T04:23:17.836Z"
      },
      {
        "duration": 75,
        "start_time": "2025-05-10T04:23:17.847Z"
      },
      {
        "duration": 1378,
        "start_time": "2025-05-10T04:23:17.924Z"
      },
      {
        "duration": 217,
        "start_time": "2025-05-10T04:23:19.305Z"
      },
      {
        "duration": 1934,
        "start_time": "2025-05-10T04:23:19.524Z"
      },
      {
        "duration": 161,
        "start_time": "2025-05-10T04:23:21.460Z"
      },
      {
        "duration": 59,
        "start_time": "2025-05-10T04:23:21.623Z"
      },
      {
        "duration": 251,
        "start_time": "2025-05-10T04:23:21.684Z"
      },
      {
        "duration": 152,
        "start_time": "2025-05-10T04:23:21.937Z"
      },
      {
        "duration": 292,
        "start_time": "2025-05-10T04:23:22.091Z"
      },
      {
        "duration": 146,
        "start_time": "2025-05-10T04:23:22.385Z"
      },
      {
        "duration": 317,
        "start_time": "2025-05-10T04:23:22.533Z"
      },
      {
        "duration": 136,
        "start_time": "2025-05-10T04:23:22.852Z"
      },
      {
        "duration": 93,
        "start_time": "2025-05-10T04:23:22.991Z"
      },
      {
        "duration": 45,
        "start_time": "2025-05-10T04:23:23.086Z"
      },
      {
        "duration": 167,
        "start_time": "2025-05-10T04:23:23.133Z"
      },
      {
        "duration": 59,
        "start_time": "2025-05-10T04:23:23.303Z"
      },
      {
        "duration": 55,
        "start_time": "2025-05-10T04:23:23.380Z"
      },
      {
        "duration": 82,
        "start_time": "2025-05-10T04:23:23.437Z"
      },
      {
        "duration": 436,
        "start_time": "2025-05-10T04:23:23.521Z"
      },
      {
        "duration": 265,
        "start_time": "2025-05-10T04:23:23.959Z"
      },
      {
        "duration": 3,
        "start_time": "2025-05-10T04:23:24.225Z"
      },
      {
        "duration": 257,
        "start_time": "2025-05-10T04:23:24.230Z"
      },
      {
        "duration": 11,
        "start_time": "2025-05-10T04:23:24.489Z"
      },
      {
        "duration": 195,
        "start_time": "2025-05-10T04:23:24.502Z"
      },
      {
        "duration": 0,
        "start_time": "2025-05-10T04:23:24.699Z"
      },
      {
        "duration": 0,
        "start_time": "2025-05-10T04:23:24.701Z"
      },
      {
        "duration": 0,
        "start_time": "2025-05-10T04:23:24.702Z"
      },
      {
        "duration": 0,
        "start_time": "2025-05-10T04:23:24.703Z"
      },
      {
        "duration": 0,
        "start_time": "2025-05-10T04:23:24.705Z"
      },
      {
        "duration": 0,
        "start_time": "2025-05-10T04:23:24.706Z"
      },
      {
        "duration": 0,
        "start_time": "2025-05-10T04:23:24.707Z"
      },
      {
        "duration": 0,
        "start_time": "2025-05-10T04:23:24.708Z"
      },
      {
        "duration": 1,
        "start_time": "2025-05-10T04:23:24.709Z"
      },
      {
        "duration": 0,
        "start_time": "2025-05-10T04:23:24.711Z"
      },
      {
        "duration": 0,
        "start_time": "2025-05-10T04:23:24.712Z"
      },
      {
        "duration": 0,
        "start_time": "2025-05-10T04:23:24.713Z"
      },
      {
        "duration": 0,
        "start_time": "2025-05-10T04:23:24.714Z"
      },
      {
        "duration": 0,
        "start_time": "2025-05-10T04:23:24.715Z"
      },
      {
        "duration": 0,
        "start_time": "2025-05-10T04:23:24.716Z"
      },
      {
        "duration": 0,
        "start_time": "2025-05-10T04:23:24.717Z"
      },
      {
        "duration": 0,
        "start_time": "2025-05-10T04:23:24.718Z"
      },
      {
        "duration": 0,
        "start_time": "2025-05-10T04:23:24.720Z"
      },
      {
        "duration": 0,
        "start_time": "2025-05-10T04:23:24.721Z"
      },
      {
        "duration": 971,
        "start_time": "2025-05-10T04:24:46.213Z"
      },
      {
        "duration": 1019,
        "start_time": "2025-05-10T04:25:32.564Z"
      },
      {
        "duration": 4966,
        "start_time": "2025-05-10T04:26:17.016Z"
      },
      {
        "duration": 7984,
        "start_time": "2025-05-10T04:27:31.094Z"
      },
      {
        "duration": 203728,
        "start_time": "2025-05-10T04:29:31.818Z"
      },
      {
        "duration": 9964,
        "start_time": "2025-05-10T04:33:05.117Z"
      },
      {
        "duration": 706,
        "start_time": "2025-05-10T04:33:28.203Z"
      },
      {
        "duration": 447049,
        "start_time": "2025-05-10T04:33:55.248Z"
      },
      {
        "duration": 13,
        "start_time": "2025-05-10T04:41:22.299Z"
      },
      {
        "duration": 1035,
        "start_time": "2025-05-10T04:41:22.314Z"
      },
      {
        "duration": 0,
        "start_time": "2025-05-10T04:41:23.352Z"
      },
      {
        "duration": 0,
        "start_time": "2025-05-10T04:41:23.353Z"
      },
      {
        "duration": 0,
        "start_time": "2025-05-10T04:41:23.354Z"
      },
      {
        "duration": 0,
        "start_time": "2025-05-10T04:41:23.355Z"
      },
      {
        "duration": 0,
        "start_time": "2025-05-10T04:41:23.357Z"
      },
      {
        "duration": 0,
        "start_time": "2025-05-10T04:41:23.358Z"
      },
      {
        "duration": 0,
        "start_time": "2025-05-10T04:41:23.359Z"
      },
      {
        "duration": 0,
        "start_time": "2025-05-10T04:41:23.361Z"
      },
      {
        "duration": 0,
        "start_time": "2025-05-10T04:41:23.362Z"
      },
      {
        "duration": 0,
        "start_time": "2025-05-10T04:41:23.363Z"
      },
      {
        "duration": 0,
        "start_time": "2025-05-10T04:41:23.364Z"
      },
      {
        "duration": 20216,
        "start_time": "2025-05-10T06:57:45.302Z"
      },
      {
        "duration": 64197,
        "start_time": "2025-05-10T06:58:05.521Z"
      },
      {
        "duration": 118,
        "start_time": "2025-05-10T06:59:09.720Z"
      },
      {
        "duration": 260,
        "start_time": "2025-05-10T06:59:09.841Z"
      },
      {
        "duration": 522,
        "start_time": "2025-05-10T06:59:10.104Z"
      },
      {
        "duration": 223,
        "start_time": "2025-05-10T06:59:10.628Z"
      },
      {
        "duration": 96,
        "start_time": "2025-05-10T06:59:10.853Z"
      },
      {
        "duration": 118,
        "start_time": "2025-05-10T06:59:10.951Z"
      },
      {
        "duration": 1492,
        "start_time": "2025-05-10T06:59:11.071Z"
      },
      {
        "duration": 161,
        "start_time": "2025-05-10T06:59:12.576Z"
      },
      {
        "duration": 9,
        "start_time": "2025-05-10T06:59:12.739Z"
      },
      {
        "duration": 50,
        "start_time": "2025-05-10T06:59:12.750Z"
      },
      {
        "duration": 1370,
        "start_time": "2025-05-10T06:59:12.802Z"
      },
      {
        "duration": 216,
        "start_time": "2025-05-10T06:59:14.177Z"
      },
      {
        "duration": 1930,
        "start_time": "2025-05-10T06:59:14.395Z"
      },
      {
        "duration": 150,
        "start_time": "2025-05-10T06:59:16.327Z"
      },
      {
        "duration": 49,
        "start_time": "2025-05-10T06:59:16.479Z"
      },
      {
        "duration": 259,
        "start_time": "2025-05-10T06:59:16.530Z"
      },
      {
        "duration": 141,
        "start_time": "2025-05-10T06:59:16.792Z"
      },
      {
        "duration": 294,
        "start_time": "2025-05-10T06:59:16.935Z"
      },
      {
        "duration": 156,
        "start_time": "2025-05-10T06:59:17.231Z"
      },
      {
        "duration": 311,
        "start_time": "2025-05-10T06:59:17.389Z"
      },
      {
        "duration": 141,
        "start_time": "2025-05-10T06:59:17.702Z"
      },
      {
        "duration": 90,
        "start_time": "2025-05-10T06:59:17.845Z"
      },
      {
        "duration": 117,
        "start_time": "2025-05-10T06:59:17.937Z"
      },
      {
        "duration": 154,
        "start_time": "2025-05-10T06:59:18.056Z"
      },
      {
        "duration": 55,
        "start_time": "2025-05-10T06:59:18.212Z"
      },
      {
        "duration": 78,
        "start_time": "2025-05-10T06:59:18.276Z"
      },
      {
        "duration": 71,
        "start_time": "2025-05-10T06:59:18.356Z"
      },
      {
        "duration": 455,
        "start_time": "2025-05-10T06:59:18.429Z"
      },
      {
        "duration": 256,
        "start_time": "2025-05-10T06:59:18.886Z"
      },
      {
        "duration": 3,
        "start_time": "2025-05-10T06:59:19.144Z"
      },
      {
        "duration": 329,
        "start_time": "2025-05-10T06:59:19.149Z"
      },
      {
        "duration": 11,
        "start_time": "2025-05-10T06:59:19.480Z"
      },
      {
        "duration": 84,
        "start_time": "2025-05-10T06:59:19.493Z"
      },
      {
        "duration": 0,
        "start_time": "2025-05-10T06:59:19.579Z"
      },
      {
        "duration": 0,
        "start_time": "2025-05-10T06:59:19.580Z"
      },
      {
        "duration": 0,
        "start_time": "2025-05-10T06:59:19.581Z"
      },
      {
        "duration": 0,
        "start_time": "2025-05-10T06:59:19.583Z"
      },
      {
        "duration": 0,
        "start_time": "2025-05-10T06:59:19.584Z"
      },
      {
        "duration": 0,
        "start_time": "2025-05-10T06:59:19.586Z"
      },
      {
        "duration": 0,
        "start_time": "2025-05-10T06:59:19.587Z"
      },
      {
        "duration": 0,
        "start_time": "2025-05-10T06:59:19.588Z"
      },
      {
        "duration": 0,
        "start_time": "2025-05-10T06:59:19.589Z"
      },
      {
        "duration": 0,
        "start_time": "2025-05-10T06:59:19.591Z"
      },
      {
        "duration": 0,
        "start_time": "2025-05-10T06:59:19.592Z"
      },
      {
        "duration": 0,
        "start_time": "2025-05-10T06:59:19.593Z"
      },
      {
        "duration": 0,
        "start_time": "2025-05-10T06:59:19.595Z"
      },
      {
        "duration": 0,
        "start_time": "2025-05-10T06:59:19.596Z"
      },
      {
        "duration": 0,
        "start_time": "2025-05-10T06:59:19.597Z"
      },
      {
        "duration": 0,
        "start_time": "2025-05-10T06:59:19.598Z"
      },
      {
        "duration": 0,
        "start_time": "2025-05-10T06:59:19.599Z"
      },
      {
        "duration": 0,
        "start_time": "2025-05-10T06:59:19.601Z"
      },
      {
        "duration": 0,
        "start_time": "2025-05-10T06:59:19.602Z"
      },
      {
        "duration": 83,
        "start_time": "2025-05-10T07:01:21.622Z"
      },
      {
        "duration": 375094,
        "start_time": "2025-05-10T07:01:28.312Z"
      },
      {
        "duration": 0,
        "start_time": "2025-05-10T07:07:43.409Z"
      },
      {
        "duration": 0,
        "start_time": "2025-05-10T07:07:43.410Z"
      },
      {
        "duration": 45650,
        "start_time": "2025-05-10T07:07:46.260Z"
      },
      {
        "duration": 17,
        "start_time": "2025-05-10T07:12:01.133Z"
      },
      {
        "duration": 147679,
        "start_time": "2025-05-10T07:12:22.634Z"
      },
      {
        "duration": 18,
        "start_time": "2025-05-10T07:17:39.328Z"
      },
      {
        "duration": 18,
        "start_time": "2025-05-10T07:17:56.824Z"
      },
      {
        "duration": 83,
        "start_time": "2025-05-10T07:24:33.235Z"
      },
      {
        "duration": 106,
        "start_time": "2025-05-10T07:25:11.372Z"
      },
      {
        "duration": 114,
        "start_time": "2025-05-10T07:27:29.673Z"
      },
      {
        "duration": 18,
        "start_time": "2025-05-10T07:33:44.956Z"
      },
      {
        "duration": 88,
        "start_time": "2025-05-10T08:23:18.712Z"
      },
      {
        "duration": 75,
        "start_time": "2025-05-10T08:28:54.211Z"
      },
      {
        "duration": 4120,
        "start_time": "2025-05-10T08:30:06.158Z"
      },
      {
        "duration": 4134,
        "start_time": "2025-05-10T08:30:17.643Z"
      },
      {
        "duration": 8126,
        "start_time": "2025-05-10T08:32:36.852Z"
      },
      {
        "duration": 20797,
        "start_time": "2025-05-10T08:38:18.214Z"
      },
      {
        "duration": 63501,
        "start_time": "2025-05-10T08:38:39.014Z"
      },
      {
        "duration": 114,
        "start_time": "2025-05-10T08:39:42.517Z"
      },
      {
        "duration": 261,
        "start_time": "2025-05-10T08:39:42.633Z"
      },
      {
        "duration": 528,
        "start_time": "2025-05-10T08:39:42.897Z"
      },
      {
        "duration": 215,
        "start_time": "2025-05-10T08:39:43.427Z"
      },
      {
        "duration": 98,
        "start_time": "2025-05-10T08:39:43.644Z"
      },
      {
        "duration": 114,
        "start_time": "2025-05-10T08:39:43.744Z"
      },
      {
        "duration": 1458,
        "start_time": "2025-05-10T08:39:43.860Z"
      },
      {
        "duration": 178,
        "start_time": "2025-05-10T08:39:45.320Z"
      },
      {
        "duration": 9,
        "start_time": "2025-05-10T08:39:45.500Z"
      },
      {
        "duration": 68,
        "start_time": "2025-05-10T08:39:45.510Z"
      },
      {
        "duration": 1425,
        "start_time": "2025-05-10T08:39:45.580Z"
      },
      {
        "duration": 216,
        "start_time": "2025-05-10T08:39:47.009Z"
      },
      {
        "duration": 1959,
        "start_time": "2025-05-10T08:39:47.227Z"
      },
      {
        "duration": 158,
        "start_time": "2025-05-10T08:39:49.188Z"
      },
      {
        "duration": 62,
        "start_time": "2025-05-10T08:39:49.348Z"
      },
      {
        "duration": 217,
        "start_time": "2025-05-10T08:39:49.412Z"
      },
      {
        "duration": 139,
        "start_time": "2025-05-10T08:39:49.631Z"
      },
      {
        "duration": 287,
        "start_time": "2025-05-10T08:39:49.772Z"
      },
      {
        "duration": 144,
        "start_time": "2025-05-10T08:39:50.061Z"
      },
      {
        "duration": 142,
        "start_time": "2025-05-10T08:39:50.207Z"
      },
      {
        "duration": 0,
        "start_time": "2025-05-10T08:39:50.352Z"
      },
      {
        "duration": 0,
        "start_time": "2025-05-10T08:39:50.353Z"
      },
      {
        "duration": 0,
        "start_time": "2025-05-10T08:39:50.354Z"
      },
      {
        "duration": 0,
        "start_time": "2025-05-10T08:39:50.356Z"
      },
      {
        "duration": 0,
        "start_time": "2025-05-10T08:39:50.357Z"
      },
      {
        "duration": 0,
        "start_time": "2025-05-10T08:39:50.358Z"
      },
      {
        "duration": 0,
        "start_time": "2025-05-10T08:39:50.376Z"
      },
      {
        "duration": 0,
        "start_time": "2025-05-10T08:39:50.378Z"
      },
      {
        "duration": 0,
        "start_time": "2025-05-10T08:39:50.380Z"
      },
      {
        "duration": 0,
        "start_time": "2025-05-10T08:39:50.382Z"
      },
      {
        "duration": 0,
        "start_time": "2025-05-10T08:39:50.383Z"
      },
      {
        "duration": 0,
        "start_time": "2025-05-10T08:39:50.384Z"
      },
      {
        "duration": 0,
        "start_time": "2025-05-10T08:39:50.385Z"
      },
      {
        "duration": 0,
        "start_time": "2025-05-10T08:39:50.386Z"
      },
      {
        "duration": 0,
        "start_time": "2025-05-10T08:39:50.388Z"
      },
      {
        "duration": 1,
        "start_time": "2025-05-10T08:39:50.389Z"
      },
      {
        "duration": 0,
        "start_time": "2025-05-10T08:39:50.391Z"
      },
      {
        "duration": 0,
        "start_time": "2025-05-10T08:39:50.392Z"
      },
      {
        "duration": 0,
        "start_time": "2025-05-10T08:39:50.393Z"
      },
      {
        "duration": 0,
        "start_time": "2025-05-10T08:39:50.394Z"
      },
      {
        "duration": 0,
        "start_time": "2025-05-10T08:39:50.396Z"
      },
      {
        "duration": 0,
        "start_time": "2025-05-10T08:39:50.397Z"
      },
      {
        "duration": 0,
        "start_time": "2025-05-10T08:39:50.399Z"
      },
      {
        "duration": 0,
        "start_time": "2025-05-10T08:39:50.400Z"
      },
      {
        "duration": 0,
        "start_time": "2025-05-10T08:39:50.401Z"
      },
      {
        "duration": 0,
        "start_time": "2025-05-10T08:39:50.402Z"
      },
      {
        "duration": 0,
        "start_time": "2025-05-10T08:39:50.404Z"
      },
      {
        "duration": 0,
        "start_time": "2025-05-10T08:39:50.405Z"
      },
      {
        "duration": 0,
        "start_time": "2025-05-10T08:39:50.407Z"
      },
      {
        "duration": 0,
        "start_time": "2025-05-10T08:39:50.408Z"
      },
      {
        "duration": 0,
        "start_time": "2025-05-10T08:39:50.409Z"
      },
      {
        "duration": 0,
        "start_time": "2025-05-10T08:39:50.410Z"
      },
      {
        "duration": 0,
        "start_time": "2025-05-10T08:39:50.412Z"
      },
      {
        "duration": 0,
        "start_time": "2025-05-10T08:39:50.413Z"
      },
      {
        "duration": 15,
        "start_time": "2025-05-10T08:40:09.073Z"
      },
      {
        "duration": 13,
        "start_time": "2025-05-10T08:41:55.916Z"
      },
      {
        "duration": 146,
        "start_time": "2025-05-10T08:41:59.437Z"
      },
      {
        "duration": 291,
        "start_time": "2025-05-10T08:42:07.677Z"
      },
      {
        "duration": 136,
        "start_time": "2025-05-10T08:42:08.860Z"
      },
      {
        "duration": 298,
        "start_time": "2025-05-10T08:42:22.370Z"
      },
      {
        "duration": 122,
        "start_time": "2025-05-10T08:43:02.847Z"
      },
      {
        "duration": 79,
        "start_time": "2025-05-10T08:43:09.772Z"
      },
      {
        "duration": 41,
        "start_time": "2025-05-10T08:43:16.157Z"
      },
      {
        "duration": 137,
        "start_time": "2025-05-10T08:43:20.181Z"
      },
      {
        "duration": 36,
        "start_time": "2025-05-10T08:43:25.396Z"
      },
      {
        "duration": 39,
        "start_time": "2025-05-10T08:43:27.206Z"
      },
      {
        "duration": 64,
        "start_time": "2025-05-10T08:43:30.965Z"
      },
      {
        "duration": 396,
        "start_time": "2025-05-10T08:43:32.237Z"
      },
      {
        "duration": 228,
        "start_time": "2025-05-10T08:43:34.006Z"
      },
      {
        "duration": 4,
        "start_time": "2025-05-10T08:43:37.222Z"
      },
      {
        "duration": 8159,
        "start_time": "2025-05-10T08:43:39.821Z"
      },
      {
        "duration": 11,
        "start_time": "2025-05-10T08:44:48.494Z"
      },
      {
        "duration": 20249,
        "start_time": "2025-05-10T08:46:16.863Z"
      },
      {
        "duration": 65928,
        "start_time": "2025-05-10T08:46:37.114Z"
      },
      {
        "duration": 118,
        "start_time": "2025-05-10T08:47:43.044Z"
      },
      {
        "duration": 249,
        "start_time": "2025-05-10T08:47:43.165Z"
      },
      {
        "duration": 521,
        "start_time": "2025-05-10T08:47:43.417Z"
      },
      {
        "duration": 218,
        "start_time": "2025-05-10T08:47:43.940Z"
      },
      {
        "duration": 91,
        "start_time": "2025-05-10T08:47:44.160Z"
      },
      {
        "duration": 120,
        "start_time": "2025-05-10T08:47:44.253Z"
      },
      {
        "duration": 1428,
        "start_time": "2025-05-10T08:47:44.376Z"
      },
      {
        "duration": 200,
        "start_time": "2025-05-10T08:47:45.807Z"
      },
      {
        "duration": 10,
        "start_time": "2025-05-10T08:47:46.009Z"
      },
      {
        "duration": 57,
        "start_time": "2025-05-10T08:47:46.021Z"
      },
      {
        "duration": 1391,
        "start_time": "2025-05-10T08:47:46.080Z"
      },
      {
        "duration": 225,
        "start_time": "2025-05-10T08:47:47.472Z"
      },
      {
        "duration": 1960,
        "start_time": "2025-05-10T08:47:47.699Z"
      },
      {
        "duration": 158,
        "start_time": "2025-05-10T08:47:49.662Z"
      },
      {
        "duration": 60,
        "start_time": "2025-05-10T08:47:49.823Z"
      },
      {
        "duration": 213,
        "start_time": "2025-05-10T08:47:49.885Z"
      },
      {
        "duration": 136,
        "start_time": "2025-05-10T08:47:50.100Z"
      },
      {
        "duration": 289,
        "start_time": "2025-05-10T08:47:50.239Z"
      },
      {
        "duration": 150,
        "start_time": "2025-05-10T08:47:50.531Z"
      },
      {
        "duration": 146,
        "start_time": "2025-05-10T08:47:50.683Z"
      },
      {
        "duration": 0,
        "start_time": "2025-05-10T08:47:50.833Z"
      },
      {
        "duration": 0,
        "start_time": "2025-05-10T08:47:50.835Z"
      },
      {
        "duration": 0,
        "start_time": "2025-05-10T08:47:50.837Z"
      },
      {
        "duration": 0,
        "start_time": "2025-05-10T08:47:50.839Z"
      },
      {
        "duration": 0,
        "start_time": "2025-05-10T08:47:50.841Z"
      },
      {
        "duration": 0,
        "start_time": "2025-05-10T08:47:50.843Z"
      },
      {
        "duration": 0,
        "start_time": "2025-05-10T08:47:50.845Z"
      },
      {
        "duration": 0,
        "start_time": "2025-05-10T08:47:50.847Z"
      },
      {
        "duration": 0,
        "start_time": "2025-05-10T08:47:50.849Z"
      },
      {
        "duration": 0,
        "start_time": "2025-05-10T08:47:50.878Z"
      },
      {
        "duration": 0,
        "start_time": "2025-05-10T08:47:50.880Z"
      },
      {
        "duration": 0,
        "start_time": "2025-05-10T08:47:50.882Z"
      },
      {
        "duration": 0,
        "start_time": "2025-05-10T08:47:50.884Z"
      },
      {
        "duration": 0,
        "start_time": "2025-05-10T08:47:50.886Z"
      },
      {
        "duration": 0,
        "start_time": "2025-05-10T08:47:50.888Z"
      },
      {
        "duration": 0,
        "start_time": "2025-05-10T08:47:50.890Z"
      },
      {
        "duration": 0,
        "start_time": "2025-05-10T08:47:50.891Z"
      },
      {
        "duration": 0,
        "start_time": "2025-05-10T08:47:50.893Z"
      },
      {
        "duration": 0,
        "start_time": "2025-05-10T08:47:50.895Z"
      },
      {
        "duration": 0,
        "start_time": "2025-05-10T08:47:50.897Z"
      },
      {
        "duration": 0,
        "start_time": "2025-05-10T08:47:50.899Z"
      },
      {
        "duration": 0,
        "start_time": "2025-05-10T08:47:50.901Z"
      },
      {
        "duration": 0,
        "start_time": "2025-05-10T08:47:50.903Z"
      },
      {
        "duration": 0,
        "start_time": "2025-05-10T08:47:50.905Z"
      },
      {
        "duration": 0,
        "start_time": "2025-05-10T08:47:50.907Z"
      },
      {
        "duration": 0,
        "start_time": "2025-05-10T08:47:50.909Z"
      },
      {
        "duration": 0,
        "start_time": "2025-05-10T08:47:50.910Z"
      },
      {
        "duration": 0,
        "start_time": "2025-05-10T08:47:50.912Z"
      },
      {
        "duration": 0,
        "start_time": "2025-05-10T08:47:50.913Z"
      },
      {
        "duration": 0,
        "start_time": "2025-05-10T08:47:50.916Z"
      },
      {
        "duration": 0,
        "start_time": "2025-05-10T08:47:50.977Z"
      },
      {
        "duration": 0,
        "start_time": "2025-05-10T08:47:50.979Z"
      },
      {
        "duration": 0,
        "start_time": "2025-05-10T08:47:50.981Z"
      },
      {
        "duration": 0,
        "start_time": "2025-05-10T08:47:50.983Z"
      },
      {
        "duration": 0,
        "start_time": "2025-05-10T08:47:50.985Z"
      },
      {
        "duration": 142,
        "start_time": "2025-05-10T08:48:09.298Z"
      },
      {
        "duration": 14,
        "start_time": "2025-05-10T08:48:18.246Z"
      },
      {
        "duration": 12,
        "start_time": "2025-05-10T08:48:20.829Z"
      },
      {
        "duration": 18,
        "start_time": "2025-05-10T08:48:47.006Z"
      },
      {
        "duration": 12,
        "start_time": "2025-05-10T08:51:02.309Z"
      },
      {
        "duration": 16,
        "start_time": "2025-05-10T08:51:15.661Z"
      },
      {
        "duration": 15,
        "start_time": "2025-05-10T08:51:33.830Z"
      },
      {
        "duration": 16,
        "start_time": "2025-05-10T08:51:57.527Z"
      },
      {
        "duration": 18,
        "start_time": "2025-05-10T08:53:39.878Z"
      },
      {
        "duration": 12,
        "start_time": "2025-05-10T08:55:19.705Z"
      },
      {
        "duration": 11,
        "start_time": "2025-05-10T08:55:29.152Z"
      },
      {
        "duration": 15,
        "start_time": "2025-05-10T08:55:41.791Z"
      },
      {
        "duration": 18,
        "start_time": "2025-05-10T08:55:47.438Z"
      },
      {
        "duration": 20898,
        "start_time": "2025-05-10T08:56:36.611Z"
      },
      {
        "duration": 64626,
        "start_time": "2025-05-10T08:56:57.511Z"
      },
      {
        "duration": 117,
        "start_time": "2025-05-10T08:58:02.139Z"
      },
      {
        "duration": 249,
        "start_time": "2025-05-10T08:58:02.259Z"
      },
      {
        "duration": 516,
        "start_time": "2025-05-10T08:58:02.510Z"
      },
      {
        "duration": 214,
        "start_time": "2025-05-10T08:58:03.028Z"
      },
      {
        "duration": 97,
        "start_time": "2025-05-10T08:58:03.244Z"
      },
      {
        "duration": 117,
        "start_time": "2025-05-10T08:58:03.343Z"
      },
      {
        "duration": 1459,
        "start_time": "2025-05-10T08:58:03.462Z"
      },
      {
        "duration": 175,
        "start_time": "2025-05-10T08:58:04.925Z"
      },
      {
        "duration": 9,
        "start_time": "2025-05-10T08:58:05.102Z"
      },
      {
        "duration": 125,
        "start_time": "2025-05-10T08:58:05.113Z"
      },
      {
        "duration": 1382,
        "start_time": "2025-05-10T08:58:05.240Z"
      },
      {
        "duration": 228,
        "start_time": "2025-05-10T08:58:06.624Z"
      },
      {
        "duration": 1903,
        "start_time": "2025-05-10T08:58:06.854Z"
      },
      {
        "duration": 149,
        "start_time": "2025-05-10T08:58:08.760Z"
      },
      {
        "duration": 50,
        "start_time": "2025-05-10T08:58:08.911Z"
      },
      {
        "duration": 217,
        "start_time": "2025-05-10T08:58:08.976Z"
      },
      {
        "duration": 134,
        "start_time": "2025-05-10T08:58:09.195Z"
      },
      {
        "duration": 289,
        "start_time": "2025-05-10T08:58:09.331Z"
      },
      {
        "duration": 159,
        "start_time": "2025-05-10T08:58:09.622Z"
      },
      {
        "duration": 131,
        "start_time": "2025-05-10T08:58:09.783Z"
      },
      {
        "duration": 0,
        "start_time": "2025-05-10T08:58:09.917Z"
      },
      {
        "duration": 0,
        "start_time": "2025-05-10T08:58:09.918Z"
      },
      {
        "duration": 0,
        "start_time": "2025-05-10T08:58:09.919Z"
      },
      {
        "duration": 0,
        "start_time": "2025-05-10T08:58:09.920Z"
      },
      {
        "duration": 0,
        "start_time": "2025-05-10T08:58:09.921Z"
      },
      {
        "duration": 0,
        "start_time": "2025-05-10T08:58:09.922Z"
      },
      {
        "duration": 0,
        "start_time": "2025-05-10T08:58:09.924Z"
      },
      {
        "duration": 0,
        "start_time": "2025-05-10T08:58:09.925Z"
      },
      {
        "duration": 0,
        "start_time": "2025-05-10T08:58:09.926Z"
      },
      {
        "duration": 0,
        "start_time": "2025-05-10T08:58:09.927Z"
      },
      {
        "duration": 0,
        "start_time": "2025-05-10T08:58:09.928Z"
      },
      {
        "duration": 0,
        "start_time": "2025-05-10T08:58:09.929Z"
      },
      {
        "duration": 0,
        "start_time": "2025-05-10T08:58:09.930Z"
      },
      {
        "duration": 0,
        "start_time": "2025-05-10T08:58:09.932Z"
      },
      {
        "duration": 0,
        "start_time": "2025-05-10T08:58:09.933Z"
      },
      {
        "duration": 0,
        "start_time": "2025-05-10T08:58:09.934Z"
      },
      {
        "duration": 0,
        "start_time": "2025-05-10T08:58:09.935Z"
      },
      {
        "duration": 0,
        "start_time": "2025-05-10T08:58:09.936Z"
      },
      {
        "duration": 0,
        "start_time": "2025-05-10T08:58:09.937Z"
      },
      {
        "duration": 0,
        "start_time": "2025-05-10T08:58:09.977Z"
      },
      {
        "duration": 0,
        "start_time": "2025-05-10T08:58:09.978Z"
      },
      {
        "duration": 0,
        "start_time": "2025-05-10T08:58:09.987Z"
      },
      {
        "duration": 0,
        "start_time": "2025-05-10T08:58:09.988Z"
      },
      {
        "duration": 0,
        "start_time": "2025-05-10T08:58:09.990Z"
      },
      {
        "duration": 0,
        "start_time": "2025-05-10T08:58:09.991Z"
      },
      {
        "duration": 0,
        "start_time": "2025-05-10T08:58:09.992Z"
      },
      {
        "duration": 0,
        "start_time": "2025-05-10T08:58:09.994Z"
      },
      {
        "duration": 0,
        "start_time": "2025-05-10T08:58:09.995Z"
      },
      {
        "duration": 0,
        "start_time": "2025-05-10T08:58:09.996Z"
      },
      {
        "duration": 0,
        "start_time": "2025-05-10T08:58:09.997Z"
      },
      {
        "duration": 0,
        "start_time": "2025-05-10T08:58:09.998Z"
      },
      {
        "duration": 0,
        "start_time": "2025-05-10T08:58:10.000Z"
      },
      {
        "duration": 0,
        "start_time": "2025-05-10T08:58:10.002Z"
      },
      {
        "duration": 0,
        "start_time": "2025-05-10T08:58:10.003Z"
      },
      {
        "duration": 0,
        "start_time": "2025-05-10T08:58:10.004Z"
      },
      {
        "duration": 0,
        "start_time": "2025-05-10T08:58:10.005Z"
      },
      {
        "duration": 0,
        "start_time": "2025-05-10T08:58:10.007Z"
      },
      {
        "duration": 15,
        "start_time": "2025-05-10T08:59:55.562Z"
      },
      {
        "duration": 17,
        "start_time": "2025-05-10T08:59:56.783Z"
      },
      {
        "duration": 19,
        "start_time": "2025-05-10T09:00:03.603Z"
      },
      {
        "duration": 5,
        "start_time": "2025-05-10T09:00:29.913Z"
      },
      {
        "duration": 17,
        "start_time": "2025-05-10T09:00:47.417Z"
      },
      {
        "duration": 14,
        "start_time": "2025-05-10T09:01:23.820Z"
      },
      {
        "duration": 16,
        "start_time": "2025-05-10T09:01:40.598Z"
      },
      {
        "duration": 18,
        "start_time": "2025-05-10T09:01:49.627Z"
      },
      {
        "duration": 5,
        "start_time": "2025-05-10T09:02:21.444Z"
      },
      {
        "duration": 20,
        "start_time": "2025-05-10T09:02:27.412Z"
      },
      {
        "duration": 300,
        "start_time": "2025-05-10T09:03:28.692Z"
      },
      {
        "duration": 297,
        "start_time": "2025-05-10T09:04:39.613Z"
      },
      {
        "duration": 303,
        "start_time": "2025-05-10T09:04:54.827Z"
      },
      {
        "duration": 122,
        "start_time": "2025-05-10T09:05:04.013Z"
      },
      {
        "duration": 83,
        "start_time": "2025-05-10T09:05:08.566Z"
      },
      {
        "duration": 42,
        "start_time": "2025-05-10T09:05:16.942Z"
      },
      {
        "duration": 137,
        "start_time": "2025-05-10T09:05:18.974Z"
      },
      {
        "duration": 17,
        "start_time": "2025-05-10T09:05:38.095Z"
      },
      {
        "duration": 35,
        "start_time": "2025-05-10T09:06:31.038Z"
      },
      {
        "duration": 40,
        "start_time": "2025-05-10T09:06:32.296Z"
      },
      {
        "duration": 58,
        "start_time": "2025-05-10T09:06:34.605Z"
      },
      {
        "duration": 394,
        "start_time": "2025-05-10T09:06:37.856Z"
      },
      {
        "duration": 224,
        "start_time": "2025-05-10T09:06:40.357Z"
      },
      {
        "duration": 3,
        "start_time": "2025-05-10T09:06:44.262Z"
      },
      {
        "duration": 50215,
        "start_time": "2025-05-10T09:06:46.367Z"
      },
      {
        "duration": 19112,
        "start_time": "2025-05-10T09:08:37.502Z"
      },
      {
        "duration": 365,
        "start_time": "2025-05-10T09:12:57.253Z"
      },
      {
        "duration": 17,
        "start_time": "2025-05-10T09:13:44.770Z"
      },
      {
        "duration": 16085,
        "start_time": "2025-05-10T09:15:39.206Z"
      },
      {
        "duration": 37984,
        "start_time": "2025-05-10T09:16:00.093Z"
      },
      {
        "duration": 2399,
        "start_time": "2025-05-10T09:16:55.980Z"
      },
      {
        "duration": 2458,
        "start_time": "2025-05-10T09:17:28.821Z"
      },
      {
        "duration": 17,
        "start_time": "2025-05-10T09:18:46.660Z"
      },
      {
        "duration": 16,
        "start_time": "2025-05-10T09:19:16.765Z"
      },
      {
        "duration": 2781,
        "start_time": "2025-05-10T09:23:19.902Z"
      },
      {
        "duration": 119,
        "start_time": "2025-05-10T09:24:07.062Z"
      },
      {
        "duration": 2832,
        "start_time": "2025-05-10T09:24:16.047Z"
      },
      {
        "duration": 3132,
        "start_time": "2025-05-10T09:25:20.856Z"
      },
      {
        "duration": 3116,
        "start_time": "2025-05-10T09:26:39.776Z"
      },
      {
        "duration": 3410,
        "start_time": "2025-05-10T09:26:52.776Z"
      },
      {
        "duration": 20427,
        "start_time": "2025-05-10T09:27:09.363Z"
      },
      {
        "duration": 61,
        "start_time": "2025-05-10T09:28:53.329Z"
      },
      {
        "duration": 21326,
        "start_time": "2025-05-10T09:29:14.719Z"
      },
      {
        "duration": 63568,
        "start_time": "2025-05-10T09:29:36.048Z"
      },
      {
        "duration": 120,
        "start_time": "2025-05-10T09:30:39.618Z"
      },
      {
        "duration": 240,
        "start_time": "2025-05-10T09:30:39.741Z"
      },
      {
        "duration": 543,
        "start_time": "2025-05-10T09:30:39.983Z"
      },
      {
        "duration": 218,
        "start_time": "2025-05-10T09:30:40.529Z"
      },
      {
        "duration": 152,
        "start_time": "2025-05-10T09:30:40.749Z"
      },
      {
        "duration": 124,
        "start_time": "2025-05-10T09:30:40.904Z"
      },
      {
        "duration": 1523,
        "start_time": "2025-05-10T09:30:41.031Z"
      },
      {
        "duration": 176,
        "start_time": "2025-05-10T09:30:42.559Z"
      },
      {
        "duration": 9,
        "start_time": "2025-05-10T09:30:42.738Z"
      },
      {
        "duration": 94,
        "start_time": "2025-05-10T09:30:42.750Z"
      },
      {
        "duration": 1339,
        "start_time": "2025-05-10T09:30:42.846Z"
      },
      {
        "duration": 228,
        "start_time": "2025-05-10T09:30:44.188Z"
      },
      {
        "duration": 1965,
        "start_time": "2025-05-10T09:30:44.418Z"
      },
      {
        "duration": 157,
        "start_time": "2025-05-10T09:30:46.386Z"
      },
      {
        "duration": 59,
        "start_time": "2025-05-10T09:30:46.545Z"
      },
      {
        "duration": 289,
        "start_time": "2025-05-10T09:30:46.606Z"
      },
      {
        "duration": 134,
        "start_time": "2025-05-10T09:30:46.897Z"
      },
      {
        "duration": 297,
        "start_time": "2025-05-10T09:30:47.033Z"
      },
      {
        "duration": 149,
        "start_time": "2025-05-10T09:30:47.332Z"
      },
      {
        "duration": 140,
        "start_time": "2025-05-10T09:30:47.483Z"
      },
      {
        "duration": 0,
        "start_time": "2025-05-10T09:30:47.626Z"
      },
      {
        "duration": 0,
        "start_time": "2025-05-10T09:30:47.627Z"
      },
      {
        "duration": 0,
        "start_time": "2025-05-10T09:30:47.629Z"
      },
      {
        "duration": 0,
        "start_time": "2025-05-10T09:30:47.630Z"
      },
      {
        "duration": 0,
        "start_time": "2025-05-10T09:30:47.632Z"
      },
      {
        "duration": 0,
        "start_time": "2025-05-10T09:30:47.633Z"
      },
      {
        "duration": 0,
        "start_time": "2025-05-10T09:30:47.635Z"
      },
      {
        "duration": 0,
        "start_time": "2025-05-10T09:30:47.636Z"
      },
      {
        "duration": 0,
        "start_time": "2025-05-10T09:30:47.637Z"
      },
      {
        "duration": 0,
        "start_time": "2025-05-10T09:30:47.639Z"
      },
      {
        "duration": 0,
        "start_time": "2025-05-10T09:30:47.640Z"
      },
      {
        "duration": 0,
        "start_time": "2025-05-10T09:30:47.642Z"
      },
      {
        "duration": 0,
        "start_time": "2025-05-10T09:30:47.643Z"
      },
      {
        "duration": 0,
        "start_time": "2025-05-10T09:30:47.677Z"
      },
      {
        "duration": 0,
        "start_time": "2025-05-10T09:30:47.678Z"
      },
      {
        "duration": 0,
        "start_time": "2025-05-10T09:30:47.680Z"
      },
      {
        "duration": 0,
        "start_time": "2025-05-10T09:30:47.681Z"
      },
      {
        "duration": 0,
        "start_time": "2025-05-10T09:30:47.682Z"
      },
      {
        "duration": 0,
        "start_time": "2025-05-10T09:30:47.684Z"
      },
      {
        "duration": 0,
        "start_time": "2025-05-10T09:30:47.685Z"
      },
      {
        "duration": 0,
        "start_time": "2025-05-10T09:30:47.687Z"
      },
      {
        "duration": 0,
        "start_time": "2025-05-10T09:30:47.688Z"
      },
      {
        "duration": 0,
        "start_time": "2025-05-10T09:30:47.690Z"
      },
      {
        "duration": 0,
        "start_time": "2025-05-10T09:30:47.692Z"
      },
      {
        "duration": 0,
        "start_time": "2025-05-10T09:30:47.694Z"
      },
      {
        "duration": 0,
        "start_time": "2025-05-10T09:30:47.696Z"
      },
      {
        "duration": 0,
        "start_time": "2025-05-10T09:30:47.700Z"
      },
      {
        "duration": 0,
        "start_time": "2025-05-10T09:30:47.702Z"
      },
      {
        "duration": 0,
        "start_time": "2025-05-10T09:30:47.704Z"
      },
      {
        "duration": 0,
        "start_time": "2025-05-10T09:30:47.706Z"
      },
      {
        "duration": 0,
        "start_time": "2025-05-10T09:30:47.708Z"
      },
      {
        "duration": 14,
        "start_time": "2025-05-10T09:33:10.402Z"
      },
      {
        "duration": 19,
        "start_time": "2025-05-10T09:33:12.747Z"
      },
      {
        "duration": 302,
        "start_time": "2025-05-10T09:33:16.939Z"
      },
      {
        "duration": 121,
        "start_time": "2025-05-10T09:33:20.835Z"
      },
      {
        "duration": 79,
        "start_time": "2025-05-10T09:33:21.812Z"
      },
      {
        "duration": 41,
        "start_time": "2025-05-10T09:33:23.219Z"
      },
      {
        "duration": 146,
        "start_time": "2025-05-10T09:33:24.644Z"
      },
      {
        "duration": 55,
        "start_time": "2025-05-10T09:33:29.931Z"
      },
      {
        "duration": 54,
        "start_time": "2025-05-10T09:33:31.116Z"
      },
      {
        "duration": 62,
        "start_time": "2025-05-10T09:33:32.909Z"
      },
      {
        "duration": 399,
        "start_time": "2025-05-10T09:33:34.220Z"
      },
      {
        "duration": 235,
        "start_time": "2025-05-10T09:33:35.346Z"
      },
      {
        "duration": 4,
        "start_time": "2025-05-10T09:33:41.091Z"
      },
      {
        "duration": 82136,
        "start_time": "2025-05-10T09:33:45.148Z"
      },
      {
        "duration": 573995,
        "start_time": "2025-05-10T09:37:10.689Z"
      },
      {
        "duration": 161251,
        "start_time": "2025-05-10T09:54:56.865Z"
      },
      {
        "duration": 4,
        "start_time": "2025-05-10T10:03:45.244Z"
      },
      {
        "duration": 577267,
        "start_time": "2025-05-10T10:04:01.029Z"
      },
      {
        "duration": 21119,
        "start_time": "2025-05-10T10:14:08.938Z"
      },
      {
        "duration": 663938,
        "start_time": "2025-05-10T10:15:48.020Z"
      },
      {
        "duration": 142,
        "start_time": "2025-05-10T10:26:51.961Z"
      },
      {
        "duration": 4,
        "start_time": "2025-05-10T10:27:45.306Z"
      },
      {
        "duration": 104,
        "start_time": "2025-05-10T10:28:14.033Z"
      },
      {
        "duration": 96,
        "start_time": "2025-05-10T10:29:17.217Z"
      },
      {
        "duration": 372,
        "start_time": "2025-05-10T10:29:27.425Z"
      },
      {
        "duration": 280,
        "start_time": "2025-05-10T10:30:01.051Z"
      },
      {
        "duration": 244,
        "start_time": "2025-05-10T10:30:13.465Z"
      },
      {
        "duration": 326570,
        "start_time": "2025-05-10T10:30:52.221Z"
      },
      {
        "duration": 2250485,
        "start_time": "2025-05-10T10:42:32.921Z"
      },
      {
        "duration": 2354852,
        "start_time": "2025-05-10T11:20:27.148Z"
      },
      {
        "duration": 1393331,
        "start_time": "2025-05-10T12:00:09.963Z"
      },
      {
        "duration": 12178,
        "start_time": "2025-05-10T12:23:42.832Z"
      },
      {
        "duration": 4536,
        "start_time": "2025-05-10T12:27:35.154Z"
      },
      {
        "duration": 46364,
        "start_time": "2025-05-10T12:28:42.913Z"
      },
      {
        "duration": 89125,
        "start_time": "2025-05-10T12:30:34.852Z"
      },
      {
        "duration": 71810,
        "start_time": "2025-05-10T12:34:44.172Z"
      },
      {
        "duration": 93426,
        "start_time": "2025-05-10T12:37:02.567Z"
      },
      {
        "duration": 202,
        "start_time": "2025-05-10T12:43:20.983Z"
      },
      {
        "duration": 11,
        "start_time": "2025-05-10T12:43:33.624Z"
      },
      {
        "duration": 39956,
        "start_time": "2025-05-10T12:47:00.306Z"
      },
      {
        "duration": 112695,
        "start_time": "2025-05-10T12:51:15.197Z"
      },
      {
        "duration": 219735,
        "start_time": "2025-05-10T12:54:37.894Z"
      },
      {
        "duration": 19419,
        "start_time": "2025-05-10T12:58:37.119Z"
      },
      {
        "duration": 202450,
        "start_time": "2025-05-10T13:01:11.066Z"
      },
      {
        "duration": 19407,
        "start_time": "2025-05-10T13:04:33.518Z"
      },
      {
        "duration": 22,
        "start_time": "2025-05-10T13:07:25.038Z"
      },
      {
        "duration": 22,
        "start_time": "2025-05-10T13:07:39.438Z"
      },
      {
        "duration": 3923,
        "start_time": "2025-05-10T13:07:46.029Z"
      },
      {
        "duration": 8,
        "start_time": "2025-05-10T13:10:01.310Z"
      },
      {
        "duration": 8,
        "start_time": "2025-05-10T13:10:30.896Z"
      },
      {
        "duration": 225,
        "start_time": "2025-05-10T13:14:12.369Z"
      },
      {
        "duration": 165,
        "start_time": "2025-05-10T13:15:26.978Z"
      },
      {
        "duration": 168,
        "start_time": "2025-05-10T13:15:41.059Z"
      },
      {
        "duration": 11,
        "start_time": "2025-05-10T13:15:56.617Z"
      },
      {
        "duration": 538879,
        "start_time": "2025-05-10T13:21:17.814Z"
      },
      {
        "duration": 203,
        "start_time": "2025-05-10T13:33:25.309Z"
      },
      {
        "duration": 400,
        "start_time": "2025-05-10T13:33:42.867Z"
      },
      {
        "duration": 205,
        "start_time": "2025-05-10T13:34:08.754Z"
      },
      {
        "duration": 21111,
        "start_time": "2025-05-10T13:35:26.237Z"
      },
      {
        "duration": 64301,
        "start_time": "2025-05-10T13:35:47.351Z"
      },
      {
        "duration": 122,
        "start_time": "2025-05-10T13:36:51.655Z"
      },
      {
        "duration": 276,
        "start_time": "2025-05-10T13:36:51.780Z"
      },
      {
        "duration": 528,
        "start_time": "2025-05-10T13:36:52.058Z"
      },
      {
        "duration": 221,
        "start_time": "2025-05-10T13:36:52.588Z"
      },
      {
        "duration": 101,
        "start_time": "2025-05-10T13:36:52.811Z"
      },
      {
        "duration": 122,
        "start_time": "2025-05-10T13:36:52.914Z"
      },
      {
        "duration": 1384,
        "start_time": "2025-05-10T13:36:53.037Z"
      },
      {
        "duration": 174,
        "start_time": "2025-05-10T13:36:54.425Z"
      },
      {
        "duration": 8,
        "start_time": "2025-05-10T13:36:54.602Z"
      },
      {
        "duration": 105,
        "start_time": "2025-05-10T13:36:54.612Z"
      },
      {
        "duration": 1381,
        "start_time": "2025-05-10T13:36:54.719Z"
      },
      {
        "duration": 219,
        "start_time": "2025-05-10T13:36:56.102Z"
      },
      {
        "duration": 1883,
        "start_time": "2025-05-10T13:36:56.324Z"
      },
      {
        "duration": 147,
        "start_time": "2025-05-10T13:36:58.209Z"
      },
      {
        "duration": 60,
        "start_time": "2025-05-10T13:36:58.358Z"
      },
      {
        "duration": 203,
        "start_time": "2025-05-10T13:36:58.420Z"
      },
      {
        "duration": 128,
        "start_time": "2025-05-10T13:36:58.625Z"
      },
      {
        "duration": 293,
        "start_time": "2025-05-10T13:36:58.755Z"
      },
      {
        "duration": 153,
        "start_time": "2025-05-10T13:36:59.050Z"
      },
      {
        "duration": 14,
        "start_time": "2025-05-10T13:36:59.205Z"
      },
      {
        "duration": 92,
        "start_time": "2025-05-10T13:36:59.221Z"
      },
      {
        "duration": 292,
        "start_time": "2025-05-10T13:36:59.315Z"
      },
      {
        "duration": 124,
        "start_time": "2025-05-10T13:36:59.609Z"
      },
      {
        "duration": 84,
        "start_time": "2025-05-10T13:36:59.736Z"
      },
      {
        "duration": 58,
        "start_time": "2025-05-10T13:36:59.822Z"
      },
      {
        "duration": 149,
        "start_time": "2025-05-10T13:36:59.885Z"
      },
      {
        "duration": 66,
        "start_time": "2025-05-10T13:37:00.037Z"
      },
      {
        "duration": 47,
        "start_time": "2025-05-10T13:37:00.106Z"
      },
      {
        "duration": 77,
        "start_time": "2025-05-10T13:37:00.155Z"
      },
      {
        "duration": 413,
        "start_time": "2025-05-10T13:37:00.234Z"
      },
      {
        "duration": 235,
        "start_time": "2025-05-10T13:37:00.649Z"
      },
      {
        "duration": 3,
        "start_time": "2025-05-10T13:37:00.886Z"
      },
      {
        "duration": 57,
        "start_time": "2025-05-10T13:37:24.693Z"
      },
      {
        "duration": 21340,
        "start_time": "2025-05-10T13:37:38.057Z"
      },
      {
        "duration": 64966,
        "start_time": "2025-05-10T13:37:59.401Z"
      },
      {
        "duration": 116,
        "start_time": "2025-05-10T13:39:04.370Z"
      },
      {
        "duration": 261,
        "start_time": "2025-05-10T13:39:04.488Z"
      },
      {
        "duration": 537,
        "start_time": "2025-05-10T13:39:04.752Z"
      },
      {
        "duration": 221,
        "start_time": "2025-05-10T13:39:05.291Z"
      },
      {
        "duration": 105,
        "start_time": "2025-05-10T13:39:05.514Z"
      },
      {
        "duration": 146,
        "start_time": "2025-05-10T13:39:05.621Z"
      },
      {
        "duration": 1481,
        "start_time": "2025-05-10T13:39:05.769Z"
      },
      {
        "duration": 186,
        "start_time": "2025-05-10T13:39:07.252Z"
      },
      {
        "duration": 10,
        "start_time": "2025-05-10T13:39:07.441Z"
      },
      {
        "duration": 52,
        "start_time": "2025-05-10T13:39:07.453Z"
      },
      {
        "duration": 1426,
        "start_time": "2025-05-10T13:39:07.508Z"
      },
      {
        "duration": 220,
        "start_time": "2025-05-10T13:39:08.938Z"
      },
      {
        "duration": 2122,
        "start_time": "2025-05-10T13:39:09.160Z"
      },
      {
        "duration": 148,
        "start_time": "2025-05-10T13:39:11.283Z"
      },
      {
        "duration": 64,
        "start_time": "2025-05-10T13:39:11.433Z"
      },
      {
        "duration": 211,
        "start_time": "2025-05-10T13:39:11.499Z"
      },
      {
        "duration": 137,
        "start_time": "2025-05-10T13:39:11.712Z"
      },
      {
        "duration": 341,
        "start_time": "2025-05-10T13:39:11.851Z"
      },
      {
        "duration": 159,
        "start_time": "2025-05-10T13:39:12.195Z"
      },
      {
        "duration": 27,
        "start_time": "2025-05-10T13:39:12.356Z"
      },
      {
        "duration": 23,
        "start_time": "2025-05-10T13:39:12.385Z"
      },
      {
        "duration": 309,
        "start_time": "2025-05-10T13:39:12.410Z"
      },
      {
        "duration": 138,
        "start_time": "2025-05-10T13:39:12.721Z"
      },
      {
        "duration": 83,
        "start_time": "2025-05-10T13:39:12.861Z"
      },
      {
        "duration": 71,
        "start_time": "2025-05-10T13:39:12.946Z"
      },
      {
        "duration": 163,
        "start_time": "2025-05-10T13:39:13.018Z"
      },
      {
        "duration": 56,
        "start_time": "2025-05-10T13:39:13.182Z"
      },
      {
        "duration": 65,
        "start_time": "2025-05-10T13:39:13.240Z"
      },
      {
        "duration": 75,
        "start_time": "2025-05-10T13:39:13.307Z"
      },
      {
        "duration": 420,
        "start_time": "2025-05-10T13:39:13.384Z"
      },
      {
        "duration": 233,
        "start_time": "2025-05-10T13:39:13.806Z"
      },
      {
        "duration": 3,
        "start_time": "2025-05-10T13:39:14.041Z"
      },
      {
        "duration": 2111,
        "start_time": "2025-05-10T13:39:39.232Z"
      },
      {
        "duration": 1528,
        "start_time": "2025-05-10T13:40:39.092Z"
      },
      {
        "duration": 64668,
        "start_time": "2025-05-10T13:40:40.623Z"
      },
      {
        "duration": 120,
        "start_time": "2025-05-10T13:41:45.293Z"
      },
      {
        "duration": 249,
        "start_time": "2025-05-10T13:41:45.416Z"
      },
      {
        "duration": 547,
        "start_time": "2025-05-10T13:41:45.667Z"
      },
      {
        "duration": 218,
        "start_time": "2025-05-10T13:41:46.216Z"
      },
      {
        "duration": 93,
        "start_time": "2025-05-10T13:41:46.436Z"
      },
      {
        "duration": 125,
        "start_time": "2025-05-10T13:41:46.531Z"
      },
      {
        "duration": 1456,
        "start_time": "2025-05-10T13:41:46.658Z"
      },
      {
        "duration": 173,
        "start_time": "2025-05-10T13:41:48.118Z"
      },
      {
        "duration": 8,
        "start_time": "2025-05-10T13:41:48.293Z"
      },
      {
        "duration": 30,
        "start_time": "2025-05-10T13:41:48.303Z"
      },
      {
        "duration": 1385,
        "start_time": "2025-05-10T13:41:48.335Z"
      },
      {
        "duration": 230,
        "start_time": "2025-05-10T13:41:49.722Z"
      },
      {
        "duration": 1973,
        "start_time": "2025-05-10T13:41:49.954Z"
      },
      {
        "duration": 186,
        "start_time": "2025-05-10T13:41:51.929Z"
      },
      {
        "duration": 59,
        "start_time": "2025-05-10T13:41:52.118Z"
      },
      {
        "duration": 212,
        "start_time": "2025-05-10T13:41:52.179Z"
      },
      {
        "duration": 140,
        "start_time": "2025-05-10T13:41:52.394Z"
      },
      {
        "duration": 309,
        "start_time": "2025-05-10T13:41:52.536Z"
      },
      {
        "duration": 160,
        "start_time": "2025-05-10T13:41:52.848Z"
      },
      {
        "duration": 12,
        "start_time": "2025-05-10T13:41:53.010Z"
      },
      {
        "duration": 34,
        "start_time": "2025-05-10T13:41:53.024Z"
      },
      {
        "duration": 338,
        "start_time": "2025-05-10T13:41:53.060Z"
      },
      {
        "duration": 127,
        "start_time": "2025-05-10T13:41:53.400Z"
      },
      {
        "duration": 82,
        "start_time": "2025-05-10T13:41:53.529Z"
      },
      {
        "duration": 72,
        "start_time": "2025-05-10T13:41:53.613Z"
      },
      {
        "duration": 185,
        "start_time": "2025-05-10T13:41:53.689Z"
      },
      {
        "duration": 44,
        "start_time": "2025-05-10T13:41:53.877Z"
      },
      {
        "duration": 54,
        "start_time": "2025-05-10T13:41:53.922Z"
      },
      {
        "duration": 64,
        "start_time": "2025-05-10T13:41:53.978Z"
      },
      {
        "duration": 419,
        "start_time": "2025-05-10T13:41:54.044Z"
      },
      {
        "duration": 250,
        "start_time": "2025-05-10T13:41:54.465Z"
      },
      {
        "duration": 3,
        "start_time": "2025-05-10T13:41:54.717Z"
      },
      {
        "duration": 55,
        "start_time": "2025-05-10T13:49:26.058Z"
      },
      {
        "duration": 2426,
        "start_time": "2025-05-10T13:52:33.045Z"
      },
      {
        "duration": 63921,
        "start_time": "2025-05-10T13:52:35.476Z"
      },
      {
        "duration": 118,
        "start_time": "2025-05-10T13:53:39.400Z"
      },
      {
        "duration": 253,
        "start_time": "2025-05-10T13:53:39.520Z"
      },
      {
        "duration": 523,
        "start_time": "2025-05-10T13:53:39.777Z"
      },
      {
        "duration": 230,
        "start_time": "2025-05-10T13:53:40.302Z"
      },
      {
        "duration": 104,
        "start_time": "2025-05-10T13:53:40.535Z"
      },
      {
        "duration": 125,
        "start_time": "2025-05-10T13:53:40.642Z"
      },
      {
        "duration": 1464,
        "start_time": "2025-05-10T13:53:40.769Z"
      },
      {
        "duration": 176,
        "start_time": "2025-05-10T13:53:42.235Z"
      },
      {
        "duration": 11,
        "start_time": "2025-05-10T13:53:42.416Z"
      },
      {
        "duration": 54,
        "start_time": "2025-05-10T13:53:42.429Z"
      },
      {
        "duration": 1379,
        "start_time": "2025-05-10T13:53:42.486Z"
      },
      {
        "duration": 217,
        "start_time": "2025-05-10T13:53:43.868Z"
      },
      {
        "duration": 1934,
        "start_time": "2025-05-10T13:53:44.087Z"
      },
      {
        "duration": 158,
        "start_time": "2025-05-10T13:53:46.024Z"
      },
      {
        "duration": 46,
        "start_time": "2025-05-10T13:53:46.185Z"
      },
      {
        "duration": 220,
        "start_time": "2025-05-10T13:53:46.233Z"
      },
      {
        "duration": 137,
        "start_time": "2025-05-10T13:53:46.455Z"
      },
      {
        "duration": 295,
        "start_time": "2025-05-10T13:53:46.594Z"
      },
      {
        "duration": 154,
        "start_time": "2025-05-10T13:53:46.891Z"
      },
      {
        "duration": 15,
        "start_time": "2025-05-10T13:53:47.046Z"
      },
      {
        "duration": 19,
        "start_time": "2025-05-10T13:53:47.077Z"
      },
      {
        "duration": 302,
        "start_time": "2025-05-10T13:53:47.098Z"
      },
      {
        "duration": 124,
        "start_time": "2025-05-10T13:53:47.402Z"
      },
      {
        "duration": 86,
        "start_time": "2025-05-10T13:53:47.527Z"
      },
      {
        "duration": 110,
        "start_time": "2025-05-10T13:53:47.615Z"
      },
      {
        "duration": 193,
        "start_time": "2025-05-10T13:53:47.728Z"
      },
      {
        "duration": 34,
        "start_time": "2025-05-10T13:53:47.926Z"
      },
      {
        "duration": 50,
        "start_time": "2025-05-10T13:53:47.962Z"
      },
      {
        "duration": 68,
        "start_time": "2025-05-10T13:53:48.014Z"
      },
      {
        "duration": 400,
        "start_time": "2025-05-10T13:53:48.084Z"
      },
      {
        "duration": 239,
        "start_time": "2025-05-10T13:53:48.486Z"
      },
      {
        "duration": 3,
        "start_time": "2025-05-10T13:53:48.728Z"
      },
      {
        "duration": 2387,
        "start_time": "2025-05-10T13:57:49.310Z"
      },
      {
        "duration": 64271,
        "start_time": "2025-05-10T13:57:51.700Z"
      },
      {
        "duration": 115,
        "start_time": "2025-05-10T13:58:55.973Z"
      },
      {
        "duration": 250,
        "start_time": "2025-05-10T13:58:56.091Z"
      },
      {
        "duration": 551,
        "start_time": "2025-05-10T13:58:56.344Z"
      },
      {
        "duration": 229,
        "start_time": "2025-05-10T13:58:56.898Z"
      },
      {
        "duration": 101,
        "start_time": "2025-05-10T13:58:57.129Z"
      },
      {
        "duration": 117,
        "start_time": "2025-05-10T13:58:57.232Z"
      },
      {
        "duration": 1359,
        "start_time": "2025-05-10T13:58:57.352Z"
      },
      {
        "duration": 174,
        "start_time": "2025-05-10T13:58:58.712Z"
      },
      {
        "duration": 8,
        "start_time": "2025-05-10T13:58:58.888Z"
      },
      {
        "duration": 80,
        "start_time": "2025-05-10T13:58:58.897Z"
      },
      {
        "duration": 1438,
        "start_time": "2025-05-10T13:58:58.979Z"
      },
      {
        "duration": 227,
        "start_time": "2025-05-10T13:59:00.420Z"
      },
      {
        "duration": 1984,
        "start_time": "2025-05-10T13:59:00.650Z"
      },
      {
        "duration": 161,
        "start_time": "2025-05-10T13:59:02.637Z"
      },
      {
        "duration": 46,
        "start_time": "2025-05-10T13:59:02.801Z"
      },
      {
        "duration": 241,
        "start_time": "2025-05-10T13:59:02.849Z"
      },
      {
        "duration": 142,
        "start_time": "2025-05-10T13:59:03.092Z"
      },
      {
        "duration": 306,
        "start_time": "2025-05-10T13:59:03.237Z"
      },
      {
        "duration": 157,
        "start_time": "2025-05-10T13:59:03.546Z"
      },
      {
        "duration": 15,
        "start_time": "2025-05-10T13:59:03.706Z"
      },
      {
        "duration": 222,
        "start_time": "2025-05-10T13:59:03.723Z"
      },
      {
        "duration": 344,
        "start_time": "2025-05-10T13:59:03.947Z"
      },
      {
        "duration": 147,
        "start_time": "2025-05-10T13:59:04.294Z"
      },
      {
        "duration": 88,
        "start_time": "2025-05-10T13:59:04.444Z"
      },
      {
        "duration": 56,
        "start_time": "2025-05-10T13:59:04.538Z"
      },
      {
        "duration": 158,
        "start_time": "2025-05-10T13:59:04.596Z"
      },
      {
        "duration": 49,
        "start_time": "2025-05-10T13:59:04.756Z"
      },
      {
        "duration": 217,
        "start_time": "2025-05-10T13:59:04.806Z"
      },
      {
        "duration": 62,
        "start_time": "2025-05-10T13:59:05.025Z"
      },
      {
        "duration": 420,
        "start_time": "2025-05-10T13:59:05.089Z"
      },
      {
        "duration": 232,
        "start_time": "2025-05-10T13:59:05.511Z"
      },
      {
        "duration": 3,
        "start_time": "2025-05-10T13:59:05.745Z"
      },
      {
        "duration": 2408,
        "start_time": "2025-05-10T13:59:56.077Z"
      },
      {
        "duration": 66792,
        "start_time": "2025-05-10T13:59:58.489Z"
      },
      {
        "duration": 120,
        "start_time": "2025-05-10T14:01:05.283Z"
      },
      {
        "duration": 242,
        "start_time": "2025-05-10T14:01:05.406Z"
      },
      {
        "duration": 548,
        "start_time": "2025-05-10T14:01:05.650Z"
      },
      {
        "duration": 225,
        "start_time": "2025-05-10T14:01:06.201Z"
      },
      {
        "duration": 106,
        "start_time": "2025-05-10T14:01:06.428Z"
      },
      {
        "duration": 127,
        "start_time": "2025-05-10T14:01:06.536Z"
      },
      {
        "duration": 1447,
        "start_time": "2025-05-10T14:01:06.665Z"
      },
      {
        "duration": 185,
        "start_time": "2025-05-10T14:01:08.115Z"
      },
      {
        "duration": 9,
        "start_time": "2025-05-10T14:01:08.303Z"
      },
      {
        "duration": 44,
        "start_time": "2025-05-10T14:01:08.314Z"
      },
      {
        "duration": 1486,
        "start_time": "2025-05-10T14:01:08.360Z"
      },
      {
        "duration": 229,
        "start_time": "2025-05-10T14:01:09.848Z"
      },
      {
        "duration": 1955,
        "start_time": "2025-05-10T14:01:10.080Z"
      },
      {
        "duration": 162,
        "start_time": "2025-05-10T14:01:12.039Z"
      },
      {
        "duration": 45,
        "start_time": "2025-05-10T14:01:12.204Z"
      },
      {
        "duration": 236,
        "start_time": "2025-05-10T14:01:12.252Z"
      },
      {
        "duration": 136,
        "start_time": "2025-05-10T14:01:12.491Z"
      },
      {
        "duration": 297,
        "start_time": "2025-05-10T14:01:12.630Z"
      },
      {
        "duration": 162,
        "start_time": "2025-05-10T14:01:12.930Z"
      },
      {
        "duration": 14,
        "start_time": "2025-05-10T14:01:13.095Z"
      },
      {
        "duration": 21,
        "start_time": "2025-05-10T14:01:13.112Z"
      },
      {
        "duration": 342,
        "start_time": "2025-05-10T14:01:13.136Z"
      },
      {
        "duration": 131,
        "start_time": "2025-05-10T14:01:13.481Z"
      },
      {
        "duration": 88,
        "start_time": "2025-05-10T14:01:13.615Z"
      },
      {
        "duration": 133,
        "start_time": "2025-05-10T14:01:13.706Z"
      },
      {
        "duration": 235,
        "start_time": "2025-05-10T14:01:13.844Z"
      },
      {
        "duration": 38,
        "start_time": "2025-05-10T14:01:14.081Z"
      },
      {
        "duration": 58,
        "start_time": "2025-05-10T14:01:14.121Z"
      },
      {
        "duration": 61,
        "start_time": "2025-05-10T14:01:14.182Z"
      },
      {
        "duration": 436,
        "start_time": "2025-05-10T14:01:14.245Z"
      },
      {
        "duration": 236,
        "start_time": "2025-05-10T14:01:14.684Z"
      },
      {
        "duration": 4,
        "start_time": "2025-05-10T14:01:14.922Z"
      },
      {
        "duration": 2643,
        "start_time": "2025-05-10T14:02:31.887Z"
      },
      {
        "duration": 64481,
        "start_time": "2025-05-10T14:02:34.533Z"
      },
      {
        "duration": 115,
        "start_time": "2025-05-10T14:03:39.016Z"
      },
      {
        "duration": 252,
        "start_time": "2025-05-10T14:03:39.134Z"
      },
      {
        "duration": 503,
        "start_time": "2025-05-10T14:03:39.390Z"
      },
      {
        "duration": 217,
        "start_time": "2025-05-10T14:03:39.894Z"
      },
      {
        "duration": 100,
        "start_time": "2025-05-10T14:03:40.113Z"
      },
      {
        "duration": 120,
        "start_time": "2025-05-10T14:03:40.215Z"
      },
      {
        "duration": 1373,
        "start_time": "2025-05-10T14:03:40.337Z"
      },
      {
        "duration": 181,
        "start_time": "2025-05-10T14:03:41.712Z"
      },
      {
        "duration": 14,
        "start_time": "2025-05-10T14:03:41.895Z"
      },
      {
        "duration": 53,
        "start_time": "2025-05-10T14:03:41.912Z"
      },
      {
        "duration": 1409,
        "start_time": "2025-05-10T14:03:41.967Z"
      },
      {
        "duration": 224,
        "start_time": "2025-05-10T14:03:43.381Z"
      },
      {
        "duration": 1891,
        "start_time": "2025-05-10T14:03:43.608Z"
      },
      {
        "duration": 157,
        "start_time": "2025-05-10T14:03:45.501Z"
      },
      {
        "duration": 55,
        "start_time": "2025-05-10T14:03:45.661Z"
      },
      {
        "duration": 237,
        "start_time": "2025-05-10T14:03:45.718Z"
      },
      {
        "duration": 135,
        "start_time": "2025-05-10T14:03:45.957Z"
      },
      {
        "duration": 298,
        "start_time": "2025-05-10T14:03:46.095Z"
      },
      {
        "duration": 149,
        "start_time": "2025-05-10T14:03:46.395Z"
      },
      {
        "duration": 30,
        "start_time": "2025-05-10T14:03:46.546Z"
      },
      {
        "duration": 20,
        "start_time": "2025-05-10T14:03:46.578Z"
      },
      {
        "duration": 328,
        "start_time": "2025-05-10T14:03:46.601Z"
      },
      {
        "duration": 126,
        "start_time": "2025-05-10T14:03:46.931Z"
      },
      {
        "duration": 84,
        "start_time": "2025-05-10T14:03:47.059Z"
      },
      {
        "duration": 98,
        "start_time": "2025-05-10T14:03:47.145Z"
      },
      {
        "duration": 152,
        "start_time": "2025-05-10T14:03:47.245Z"
      },
      {
        "duration": 63,
        "start_time": "2025-05-10T14:03:47.399Z"
      },
      {
        "duration": 53,
        "start_time": "2025-05-10T14:03:47.464Z"
      },
      {
        "duration": 78,
        "start_time": "2025-05-10T14:03:47.519Z"
      },
      {
        "duration": 396,
        "start_time": "2025-05-10T14:03:47.599Z"
      },
      {
        "duration": 225,
        "start_time": "2025-05-10T14:03:47.997Z"
      },
      {
        "duration": 3,
        "start_time": "2025-05-10T14:03:48.224Z"
      },
      {
        "duration": 116,
        "start_time": "2025-05-10T14:06:03.870Z"
      },
      {
        "duration": 116,
        "start_time": "2025-05-10T14:06:58.907Z"
      },
      {
        "duration": 110,
        "start_time": "2025-05-10T14:07:57.740Z"
      },
      {
        "duration": 19458,
        "start_time": "2025-05-10T14:09:19.640Z"
      },
      {
        "duration": 64191,
        "start_time": "2025-05-10T14:09:39.100Z"
      },
      {
        "duration": 120,
        "start_time": "2025-05-10T14:10:43.293Z"
      },
      {
        "duration": 246,
        "start_time": "2025-05-10T14:10:43.416Z"
      },
      {
        "duration": 513,
        "start_time": "2025-05-10T14:10:43.664Z"
      },
      {
        "duration": 231,
        "start_time": "2025-05-10T14:10:44.180Z"
      },
      {
        "duration": 93,
        "start_time": "2025-05-10T14:10:44.413Z"
      },
      {
        "duration": 115,
        "start_time": "2025-05-10T14:10:44.508Z"
      },
      {
        "duration": 1528,
        "start_time": "2025-05-10T14:10:44.625Z"
      },
      {
        "duration": 176,
        "start_time": "2025-05-10T14:10:46.156Z"
      },
      {
        "duration": 9,
        "start_time": "2025-05-10T14:10:46.334Z"
      },
      {
        "duration": 50,
        "start_time": "2025-05-10T14:10:46.344Z"
      },
      {
        "duration": 1376,
        "start_time": "2025-05-10T14:10:46.395Z"
      },
      {
        "duration": 209,
        "start_time": "2025-05-10T14:10:47.776Z"
      },
      {
        "duration": 1927,
        "start_time": "2025-05-10T14:10:47.987Z"
      },
      {
        "duration": 152,
        "start_time": "2025-05-10T14:10:49.916Z"
      },
      {
        "duration": 49,
        "start_time": "2025-05-10T14:10:50.070Z"
      },
      {
        "duration": 209,
        "start_time": "2025-05-10T14:10:50.121Z"
      },
      {
        "duration": 138,
        "start_time": "2025-05-10T14:10:50.332Z"
      },
      {
        "duration": 291,
        "start_time": "2025-05-10T14:10:50.472Z"
      },
      {
        "duration": 153,
        "start_time": "2025-05-10T14:10:50.766Z"
      },
      {
        "duration": 13,
        "start_time": "2025-05-10T14:10:50.921Z"
      },
      {
        "duration": 93,
        "start_time": "2025-05-10T14:10:50.936Z"
      },
      {
        "duration": 313,
        "start_time": "2025-05-10T14:10:51.031Z"
      },
      {
        "duration": 131,
        "start_time": "2025-05-10T14:10:51.347Z"
      },
      {
        "duration": 82,
        "start_time": "2025-05-10T14:10:51.481Z"
      },
      {
        "duration": 43,
        "start_time": "2025-05-10T14:10:51.576Z"
      },
      {
        "duration": 161,
        "start_time": "2025-05-10T14:10:51.623Z"
      },
      {
        "duration": 86,
        "start_time": "2025-05-10T14:10:51.786Z"
      },
      {
        "duration": 48,
        "start_time": "2025-05-10T14:10:51.874Z"
      },
      {
        "duration": 142,
        "start_time": "2025-05-10T14:10:51.924Z"
      },
      {
        "duration": 401,
        "start_time": "2025-05-10T14:10:52.068Z"
      },
      {
        "duration": 226,
        "start_time": "2025-05-10T14:10:52.471Z"
      },
      {
        "duration": 3,
        "start_time": "2025-05-10T14:10:52.699Z"
      },
      {
        "duration": 61,
        "start_time": "2025-05-10T14:14:49.943Z"
      },
      {
        "duration": 20209,
        "start_time": "2025-05-10T14:15:12.523Z"
      },
      {
        "duration": 64891,
        "start_time": "2025-05-10T14:15:32.735Z"
      },
      {
        "duration": 115,
        "start_time": "2025-05-10T14:16:37.627Z"
      },
      {
        "duration": 234,
        "start_time": "2025-05-10T14:16:37.744Z"
      },
      {
        "duration": 503,
        "start_time": "2025-05-10T14:16:37.981Z"
      },
      {
        "duration": 217,
        "start_time": "2025-05-10T14:16:38.486Z"
      },
      {
        "duration": 99,
        "start_time": "2025-05-10T14:16:38.704Z"
      },
      {
        "duration": 114,
        "start_time": "2025-05-10T14:16:38.805Z"
      },
      {
        "duration": 1381,
        "start_time": "2025-05-10T14:16:38.921Z"
      },
      {
        "duration": 183,
        "start_time": "2025-05-10T14:16:40.303Z"
      },
      {
        "duration": 8,
        "start_time": "2025-05-10T14:16:40.488Z"
      },
      {
        "duration": 35,
        "start_time": "2025-05-10T14:16:40.498Z"
      },
      {
        "duration": 1451,
        "start_time": "2025-05-10T14:16:40.535Z"
      },
      {
        "duration": 238,
        "start_time": "2025-05-10T14:16:41.991Z"
      },
      {
        "duration": 1906,
        "start_time": "2025-05-10T14:16:42.231Z"
      },
      {
        "duration": 146,
        "start_time": "2025-05-10T14:16:44.138Z"
      },
      {
        "duration": 47,
        "start_time": "2025-05-10T14:16:44.286Z"
      },
      {
        "duration": 218,
        "start_time": "2025-05-10T14:16:44.335Z"
      },
      {
        "duration": 130,
        "start_time": "2025-05-10T14:16:44.555Z"
      },
      {
        "duration": 289,
        "start_time": "2025-05-10T14:16:44.687Z"
      },
      {
        "duration": 151,
        "start_time": "2025-05-10T14:16:44.978Z"
      },
      {
        "duration": 14,
        "start_time": "2025-05-10T14:16:45.131Z"
      },
      {
        "duration": 37,
        "start_time": "2025-05-10T14:16:45.147Z"
      },
      {
        "duration": 322,
        "start_time": "2025-05-10T14:16:45.186Z"
      },
      {
        "duration": 132,
        "start_time": "2025-05-10T14:16:45.510Z"
      },
      {
        "duration": 91,
        "start_time": "2025-05-10T14:16:45.644Z"
      },
      {
        "duration": 70,
        "start_time": "2025-05-10T14:16:45.737Z"
      },
      {
        "duration": 186,
        "start_time": "2025-05-10T14:16:45.809Z"
      },
      {
        "duration": 54,
        "start_time": "2025-05-10T14:16:45.998Z"
      },
      {
        "duration": 61,
        "start_time": "2025-05-10T14:16:46.054Z"
      },
      {
        "duration": 75,
        "start_time": "2025-05-10T14:16:46.117Z"
      },
      {
        "duration": 442,
        "start_time": "2025-05-10T14:16:46.193Z"
      },
      {
        "duration": 246,
        "start_time": "2025-05-10T14:16:46.637Z"
      },
      {
        "duration": 3,
        "start_time": "2025-05-10T14:16:46.885Z"
      },
      {
        "duration": 143,
        "start_time": "2025-05-10T14:16:46.890Z"
      },
      {
        "duration": 0,
        "start_time": "2025-05-10T14:16:47.035Z"
      },
      {
        "duration": 0,
        "start_time": "2025-05-10T14:16:47.037Z"
      },
      {
        "duration": 0,
        "start_time": "2025-05-10T14:16:47.038Z"
      },
      {
        "duration": 0,
        "start_time": "2025-05-10T14:16:47.039Z"
      },
      {
        "duration": 0,
        "start_time": "2025-05-10T14:16:47.040Z"
      },
      {
        "duration": 0,
        "start_time": "2025-05-10T14:16:47.042Z"
      },
      {
        "duration": 0,
        "start_time": "2025-05-10T14:16:47.043Z"
      },
      {
        "duration": 0,
        "start_time": "2025-05-10T14:16:47.044Z"
      },
      {
        "duration": 0,
        "start_time": "2025-05-10T14:16:47.045Z"
      },
      {
        "duration": 0,
        "start_time": "2025-05-10T14:16:47.047Z"
      },
      {
        "duration": 0,
        "start_time": "2025-05-10T14:16:47.048Z"
      },
      {
        "duration": 681693,
        "start_time": "2025-05-10T14:16:52.024Z"
      },
      {
        "duration": 108,
        "start_time": "2025-05-10T14:28:13.720Z"
      },
      {
        "duration": 288,
        "start_time": "2025-05-10T14:28:13.829Z"
      },
      {
        "duration": 67160,
        "start_time": "2025-05-10T14:28:14.120Z"
      },
      {
        "duration": 11,
        "start_time": "2025-05-10T14:29:21.282Z"
      },
      {
        "duration": 0,
        "start_time": "2025-05-10T14:29:21.294Z"
      },
      {
        "duration": 0,
        "start_time": "2025-05-10T14:29:21.296Z"
      },
      {
        "duration": 0,
        "start_time": "2025-05-10T14:29:21.298Z"
      },
      {
        "duration": 0,
        "start_time": "2025-05-10T14:29:21.299Z"
      },
      {
        "duration": 11,
        "start_time": "2025-05-10T14:40:10.692Z"
      },
      {
        "duration": 194768,
        "start_time": "2025-05-10T14:40:14.652Z"
      },
      {
        "duration": 176,
        "start_time": "2025-05-10T14:43:29.423Z"
      },
      {
        "duration": 417090,
        "start_time": "2025-05-10T14:43:29.602Z"
      },
      {
        "duration": 248,
        "start_time": "2025-05-10T14:50:26.694Z"
      },
      {
        "duration": 16741,
        "start_time": "2025-05-10T14:50:26.944Z"
      },
      {
        "duration": 14,
        "start_time": "2025-05-10T14:50:43.777Z"
      },
      {
        "duration": 674160,
        "start_time": "2025-05-10T14:53:43.120Z"
      },
      {
        "duration": 185,
        "start_time": "2025-05-10T15:04:57.282Z"
      },
      {
        "duration": 386006,
        "start_time": "2025-05-10T15:04:57.477Z"
      },
      {
        "duration": 5,
        "start_time": "2025-05-10T15:11:23.485Z"
      },
      {
        "duration": 335,
        "start_time": "2025-05-10T15:11:23.492Z"
      },
      {
        "duration": 10,
        "start_time": "2025-05-10T15:11:23.829Z"
      },
      {
        "duration": 1039,
        "start_time": "2025-05-10T15:11:23.841Z"
      },
      {
        "duration": 1007,
        "start_time": "2025-05-10T15:12:10.484Z"
      },
      {
        "duration": 18592,
        "start_time": "2025-05-10T15:13:03.126Z"
      },
      {
        "duration": 64460,
        "start_time": "2025-05-10T15:13:21.721Z"
      },
      {
        "duration": 115,
        "start_time": "2025-05-10T15:14:26.183Z"
      },
      {
        "duration": 262,
        "start_time": "2025-05-10T15:14:26.301Z"
      },
      {
        "duration": 551,
        "start_time": "2025-05-10T15:14:26.565Z"
      },
      {
        "duration": 215,
        "start_time": "2025-05-10T15:14:27.118Z"
      },
      {
        "duration": 99,
        "start_time": "2025-05-10T15:14:27.335Z"
      },
      {
        "duration": 121,
        "start_time": "2025-05-10T15:14:27.435Z"
      },
      {
        "duration": 1520,
        "start_time": "2025-05-10T15:14:27.558Z"
      },
      {
        "duration": 186,
        "start_time": "2025-05-10T15:14:29.083Z"
      },
      {
        "duration": 15,
        "start_time": "2025-05-10T15:14:29.270Z"
      },
      {
        "duration": 79,
        "start_time": "2025-05-10T15:14:29.288Z"
      },
      {
        "duration": 1463,
        "start_time": "2025-05-10T15:14:29.369Z"
      },
      {
        "duration": 242,
        "start_time": "2025-05-10T15:14:30.835Z"
      },
      {
        "duration": 1961,
        "start_time": "2025-05-10T15:14:31.080Z"
      },
      {
        "duration": 149,
        "start_time": "2025-05-10T15:14:33.043Z"
      },
      {
        "duration": 49,
        "start_time": "2025-05-10T15:14:33.194Z"
      },
      {
        "duration": 228,
        "start_time": "2025-05-10T15:14:33.245Z"
      },
      {
        "duration": 129,
        "start_time": "2025-05-10T15:14:33.477Z"
      },
      {
        "duration": 296,
        "start_time": "2025-05-10T15:14:33.608Z"
      },
      {
        "duration": 149,
        "start_time": "2025-05-10T15:14:33.905Z"
      },
      {
        "duration": 22,
        "start_time": "2025-05-10T15:14:34.056Z"
      },
      {
        "duration": 18,
        "start_time": "2025-05-10T15:14:34.080Z"
      },
      {
        "duration": 322,
        "start_time": "2025-05-10T15:14:34.100Z"
      },
      {
        "duration": 129,
        "start_time": "2025-05-10T15:14:34.424Z"
      },
      {
        "duration": 89,
        "start_time": "2025-05-10T15:14:34.555Z"
      },
      {
        "duration": 57,
        "start_time": "2025-05-10T15:14:34.646Z"
      },
      {
        "duration": 157,
        "start_time": "2025-05-10T15:14:34.709Z"
      },
      {
        "duration": 61,
        "start_time": "2025-05-10T15:14:34.868Z"
      },
      {
        "duration": 62,
        "start_time": "2025-05-10T15:14:34.932Z"
      },
      {
        "duration": 79,
        "start_time": "2025-05-10T15:14:34.997Z"
      },
      {
        "duration": 425,
        "start_time": "2025-05-10T15:14:35.079Z"
      },
      {
        "duration": 242,
        "start_time": "2025-05-10T15:14:35.506Z"
      },
      {
        "duration": 3,
        "start_time": "2025-05-10T15:14:35.750Z"
      },
      {
        "duration": 16122,
        "start_time": "2025-05-10T15:14:35.756Z"
      },
      {
        "duration": 13,
        "start_time": "2025-05-10T15:14:51.881Z"
      },
      {
        "duration": 675917,
        "start_time": "2025-05-10T15:14:51.896Z"
      },
      {
        "duration": 203,
        "start_time": "2025-05-10T15:26:07.815Z"
      },
      {
        "duration": 279,
        "start_time": "2025-05-10T15:26:08.021Z"
      },
      {
        "duration": 390588,
        "start_time": "2025-05-10T15:26:08.303Z"
      },
      {
        "duration": 10,
        "start_time": "2025-05-10T15:32:38.893Z"
      },
      {
        "duration": 189322,
        "start_time": "2025-05-10T15:32:38.905Z"
      },
      {
        "duration": 173,
        "start_time": "2025-05-10T15:35:48.229Z"
      },
      {
        "duration": 457189,
        "start_time": "2025-05-10T15:35:48.404Z"
      },
      {
        "duration": 82,
        "start_time": "2025-05-10T15:43:25.595Z"
      },
      {
        "duration": 1004,
        "start_time": "2025-05-10T15:43:25.679Z"
      },
      {
        "duration": 10,
        "start_time": "2025-05-10T16:10:03.877Z"
      },
      {
        "duration": 10,
        "start_time": "2025-05-10T16:10:16.763Z"
      },
      {
        "duration": 76,
        "start_time": "2025-05-10T16:23:29.449Z"
      },
      {
        "duration": 998,
        "start_time": "2025-05-10T16:24:24.392Z"
      },
      {
        "duration": 986,
        "start_time": "2025-05-10T16:26:42.105Z"
      },
      {
        "duration": 1022,
        "start_time": "2025-05-10T16:27:23.266Z"
      },
      {
        "duration": 1027,
        "start_time": "2025-05-10T16:27:30.664Z"
      },
      {
        "duration": 15668,
        "start_time": "2025-05-10T16:50:06.414Z"
      },
      {
        "duration": 148,
        "start_time": "2025-05-10T16:51:06.501Z"
      },
      {
        "duration": 13,
        "start_time": "2025-05-10T16:52:03.164Z"
      },
      {
        "duration": 13,
        "start_time": "2025-05-10T16:52:15.166Z"
      },
      {
        "duration": 13,
        "start_time": "2025-05-10T16:53:24.621Z"
      },
      {
        "duration": 17350,
        "start_time": "2025-05-10T16:54:37.974Z"
      },
      {
        "duration": 15616,
        "start_time": "2025-05-10T16:55:50.669Z"
      },
      {
        "duration": 14,
        "start_time": "2025-05-10T16:57:45.791Z"
      },
      {
        "duration": 813324,
        "start_time": "2025-05-10T17:36:15.863Z"
      },
      {
        "duration": 14,
        "start_time": "2025-05-10T17:50:25.890Z"
      },
      {
        "duration": 829,
        "start_time": "2025-05-10T17:50:37.249Z"
      },
      {
        "duration": 836,
        "start_time": "2025-05-10T17:52:51.458Z"
      },
      {
        "duration": 837,
        "start_time": "2025-05-10T17:56:15.947Z"
      },
      {
        "duration": 2137319,
        "start_time": "2025-05-10T18:00:15.266Z"
      },
      {
        "duration": 391,
        "start_time": "2025-05-10T18:35:52.589Z"
      },
      {
        "duration": 10,
        "start_time": "2025-05-10T18:50:20.349Z"
      },
      {
        "duration": 308,
        "start_time": "2025-05-10T18:50:26.477Z"
      },
      {
        "duration": 1091,
        "start_time": "2025-05-10T18:51:47.702Z"
      },
      {
        "duration": 1126,
        "start_time": "2025-05-10T18:51:55.070Z"
      },
      {
        "duration": 1780,
        "start_time": "2025-05-10T18:52:00.446Z"
      },
      {
        "duration": 1083,
        "start_time": "2025-05-10T18:53:52.911Z"
      },
      {
        "duration": 1754,
        "start_time": "2025-05-10T18:54:05.327Z"
      },
      {
        "duration": 1768,
        "start_time": "2025-05-10T18:55:45.350Z"
      },
      {
        "duration": 1723,
        "start_time": "2025-05-10T18:56:07.593Z"
      },
      {
        "duration": 1762,
        "start_time": "2025-05-10T18:56:56.272Z"
      },
      {
        "duration": 1687,
        "start_time": "2025-05-10T18:57:19.344Z"
      },
      {
        "duration": 22,
        "start_time": "2025-05-10T19:03:03.660Z"
      },
      {
        "duration": 14,
        "start_time": "2025-05-10T19:07:20.406Z"
      },
      {
        "duration": 7,
        "start_time": "2025-05-10T19:08:16.278Z"
      },
      {
        "duration": 7,
        "start_time": "2025-05-10T19:10:35.263Z"
      },
      {
        "duration": 91,
        "start_time": "2025-05-10T19:13:33.649Z"
      },
      {
        "duration": 1149,
        "start_time": "2025-05-10T19:14:12.114Z"
      },
      {
        "duration": 18952,
        "start_time": "2025-05-10T19:14:32.431Z"
      },
      {
        "duration": 64142,
        "start_time": "2025-05-10T19:14:51.386Z"
      },
      {
        "duration": 117,
        "start_time": "2025-05-10T19:15:55.530Z"
      },
      {
        "duration": 255,
        "start_time": "2025-05-10T19:15:55.649Z"
      },
      {
        "duration": 538,
        "start_time": "2025-05-10T19:15:55.908Z"
      },
      {
        "duration": 250,
        "start_time": "2025-05-10T19:15:56.448Z"
      },
      {
        "duration": 105,
        "start_time": "2025-05-10T19:15:56.700Z"
      },
      {
        "duration": 118,
        "start_time": "2025-05-10T19:15:56.808Z"
      },
      {
        "duration": 1448,
        "start_time": "2025-05-10T19:15:56.928Z"
      },
      {
        "duration": 179,
        "start_time": "2025-05-10T19:15:58.378Z"
      },
      {
        "duration": 18,
        "start_time": "2025-05-10T19:15:58.559Z"
      },
      {
        "duration": 37,
        "start_time": "2025-05-10T19:15:58.580Z"
      },
      {
        "duration": 1353,
        "start_time": "2025-05-10T19:15:58.619Z"
      },
      {
        "duration": 213,
        "start_time": "2025-05-10T19:15:59.978Z"
      },
      {
        "duration": 1932,
        "start_time": "2025-05-10T19:16:00.193Z"
      },
      {
        "duration": 159,
        "start_time": "2025-05-10T19:16:02.128Z"
      },
      {
        "duration": 47,
        "start_time": "2025-05-10T19:16:02.289Z"
      },
      {
        "duration": 218,
        "start_time": "2025-05-10T19:16:02.338Z"
      },
      {
        "duration": 136,
        "start_time": "2025-05-10T19:16:02.558Z"
      },
      {
        "duration": 298,
        "start_time": "2025-05-10T19:16:02.696Z"
      },
      {
        "duration": 151,
        "start_time": "2025-05-10T19:16:02.997Z"
      },
      {
        "duration": 30,
        "start_time": "2025-05-10T19:16:03.150Z"
      },
      {
        "duration": 31,
        "start_time": "2025-05-10T19:16:03.182Z"
      },
      {
        "duration": 313,
        "start_time": "2025-05-10T19:16:03.215Z"
      },
      {
        "duration": 129,
        "start_time": "2025-05-10T19:16:03.530Z"
      },
      {
        "duration": 90,
        "start_time": "2025-05-10T19:16:03.661Z"
      },
      {
        "duration": 59,
        "start_time": "2025-05-10T19:16:03.753Z"
      },
      {
        "duration": 144,
        "start_time": "2025-05-10T19:16:03.814Z"
      },
      {
        "duration": 59,
        "start_time": "2025-05-10T19:16:03.959Z"
      },
      {
        "duration": 60,
        "start_time": "2025-05-10T19:16:04.020Z"
      },
      {
        "duration": 62,
        "start_time": "2025-05-10T19:16:04.082Z"
      },
      {
        "duration": 405,
        "start_time": "2025-05-10T19:16:04.146Z"
      },
      {
        "duration": 232,
        "start_time": "2025-05-10T19:16:04.553Z"
      },
      {
        "duration": 3,
        "start_time": "2025-05-10T19:16:04.787Z"
      },
      {
        "duration": 15994,
        "start_time": "2025-05-10T19:16:04.792Z"
      },
      {
        "duration": 13,
        "start_time": "2025-05-10T19:16:20.876Z"
      },
      {
        "duration": 17,
        "start_time": "2025-05-11T04:21:50.107Z"
      },
      {
        "duration": 36954,
        "start_time": "2025-05-11T04:22:04.692Z"
      },
      {
        "duration": 67443,
        "start_time": "2025-05-11T04:22:41.648Z"
      },
      {
        "duration": 123,
        "start_time": "2025-05-11T04:23:49.092Z"
      },
      {
        "duration": 269,
        "start_time": "2025-05-11T04:23:49.217Z"
      },
      {
        "duration": 552,
        "start_time": "2025-05-11T04:23:49.488Z"
      },
      {
        "duration": 230,
        "start_time": "2025-05-11T04:23:50.042Z"
      },
      {
        "duration": 91,
        "start_time": "2025-05-11T04:23:50.274Z"
      },
      {
        "duration": 124,
        "start_time": "2025-05-11T04:23:50.366Z"
      },
      {
        "duration": 1611,
        "start_time": "2025-05-11T04:23:50.492Z"
      },
      {
        "duration": 191,
        "start_time": "2025-05-11T04:23:52.105Z"
      },
      {
        "duration": 8,
        "start_time": "2025-05-11T04:23:52.298Z"
      },
      {
        "duration": 53,
        "start_time": "2025-05-11T04:23:52.308Z"
      },
      {
        "duration": 1524,
        "start_time": "2025-05-11T04:23:52.363Z"
      },
      {
        "duration": 302,
        "start_time": "2025-05-11T04:23:53.890Z"
      },
      {
        "duration": 2065,
        "start_time": "2025-05-11T04:23:54.194Z"
      },
      {
        "duration": 152,
        "start_time": "2025-05-11T04:23:56.260Z"
      },
      {
        "duration": 59,
        "start_time": "2025-05-11T04:23:56.413Z"
      },
      {
        "duration": 209,
        "start_time": "2025-05-11T04:23:56.474Z"
      },
      {
        "duration": 139,
        "start_time": "2025-05-11T04:23:56.685Z"
      },
      {
        "duration": 310,
        "start_time": "2025-05-11T04:23:56.826Z"
      },
      {
        "duration": 163,
        "start_time": "2025-05-11T04:23:57.138Z"
      },
      {
        "duration": 15,
        "start_time": "2025-05-11T04:23:57.303Z"
      },
      {
        "duration": 19,
        "start_time": "2025-05-11T04:23:57.337Z"
      },
      {
        "duration": 336,
        "start_time": "2025-05-11T04:23:57.358Z"
      },
      {
        "duration": 137,
        "start_time": "2025-05-11T04:23:57.696Z"
      },
      {
        "duration": 84,
        "start_time": "2025-05-11T04:23:57.835Z"
      },
      {
        "duration": 56,
        "start_time": "2025-05-11T04:23:57.921Z"
      },
      {
        "duration": 162,
        "start_time": "2025-05-11T04:23:57.979Z"
      },
      {
        "duration": 57,
        "start_time": "2025-05-11T04:23:58.143Z"
      },
      {
        "duration": 68,
        "start_time": "2025-05-11T04:23:58.201Z"
      },
      {
        "duration": 72,
        "start_time": "2025-05-11T04:23:58.271Z"
      },
      {
        "duration": 419,
        "start_time": "2025-05-11T04:23:58.345Z"
      },
      {
        "duration": 259,
        "start_time": "2025-05-11T04:23:58.766Z"
      },
      {
        "duration": 4,
        "start_time": "2025-05-11T04:23:59.039Z"
      },
      {
        "duration": 18707,
        "start_time": "2025-05-11T04:23:59.046Z"
      },
      {
        "duration": 90,
        "start_time": "2025-05-11T04:24:17.756Z"
      },
      {
        "duration": 705490,
        "start_time": "2025-05-11T04:24:17.848Z"
      },
      {
        "duration": 195,
        "start_time": "2025-05-11T04:36:03.340Z"
      },
      {
        "duration": 248,
        "start_time": "2025-05-11T04:36:03.537Z"
      },
      {
        "duration": 3399959,
        "start_time": "2025-05-11T04:36:03.787Z"
      },
      {
        "duration": 10,
        "start_time": "2025-05-11T05:32:43.749Z"
      },
      {
        "duration": 205561,
        "start_time": "2025-05-11T05:32:43.760Z"
      },
      {
        "duration": 187,
        "start_time": "2025-05-11T05:36:09.322Z"
      },
      {
        "duration": 4460848,
        "start_time": "2025-05-11T05:36:09.511Z"
      },
      {
        "duration": 0,
        "start_time": "2025-05-11T06:50:30.361Z"
      },
      {
        "duration": 0,
        "start_time": "2025-05-11T06:50:30.362Z"
      },
      {
        "duration": 0,
        "start_time": "2025-05-11T06:50:30.364Z"
      },
      {
        "duration": 1766,
        "start_time": "2025-05-11T06:50:40.726Z"
      },
      {
        "duration": 209377,
        "start_time": "2025-05-11T06:55:02.073Z"
      },
      {
        "duration": 0,
        "start_time": "2025-05-11T06:58:31.451Z"
      },
      {
        "duration": 424482,
        "start_time": "2025-05-11T07:19:45.769Z"
      },
      {
        "duration": 216942,
        "start_time": "2025-05-11T07:28:18.199Z"
      },
      {
        "duration": 18188,
        "start_time": "2025-05-11T07:43:43.984Z"
      },
      {
        "duration": 417,
        "start_time": "2025-05-11T07:48:30.653Z"
      },
      {
        "duration": 276,
        "start_time": "2025-05-11T07:49:09.026Z"
      },
      {
        "duration": 263,
        "start_time": "2025-05-11T07:49:40.739Z"
      },
      {
        "duration": 262,
        "start_time": "2025-05-11T07:50:08.418Z"
      },
      {
        "duration": 78,
        "start_time": "2025-05-11T07:50:48.146Z"
      },
      {
        "duration": 257,
        "start_time": "2025-05-11T07:51:39.556Z"
      },
      {
        "duration": 265,
        "start_time": "2025-05-11T07:52:04.533Z"
      },
      {
        "duration": 16,
        "start_time": "2025-05-11T07:53:23.140Z"
      },
      {
        "duration": 296,
        "start_time": "2025-05-11T07:54:06.983Z"
      },
      {
        "duration": 196,
        "start_time": "2025-05-11T07:56:20.966Z"
      },
      {
        "duration": 188,
        "start_time": "2025-05-11T07:56:29.286Z"
      },
      {
        "duration": 170,
        "start_time": "2025-05-11T07:56:37.653Z"
      },
      {
        "duration": 21,
        "start_time": "2025-05-11T08:01:05.871Z"
      },
      {
        "duration": 16,
        "start_time": "2025-05-11T08:01:36.298Z"
      },
      {
        "duration": 11,
        "start_time": "2025-05-11T08:02:49.745Z"
      },
      {
        "duration": 15,
        "start_time": "2025-05-11T08:03:15.057Z"
      },
      {
        "duration": 314,
        "start_time": "2025-05-11T08:03:22.161Z"
      },
      {
        "duration": 178,
        "start_time": "2025-05-11T08:03:46.425Z"
      },
      {
        "duration": 187,
        "start_time": "2025-05-11T08:03:48.865Z"
      },
      {
        "duration": 182,
        "start_time": "2025-05-11T08:04:23.986Z"
      },
      {
        "duration": 151,
        "start_time": "2025-05-11T08:04:40.682Z"
      },
      {
        "duration": 158,
        "start_time": "2025-05-11T08:05:16.723Z"
      },
      {
        "duration": 21,
        "start_time": "2025-05-11T08:05:36.396Z"
      },
      {
        "duration": 12,
        "start_time": "2025-05-11T08:05:45.810Z"
      },
      {
        "duration": 40794,
        "start_time": "2025-05-11T11:30:22.421Z"
      },
      {
        "duration": 68134,
        "start_time": "2025-05-11T11:31:03.218Z"
      },
      {
        "duration": 130,
        "start_time": "2025-05-11T11:32:11.354Z"
      },
      {
        "duration": 281,
        "start_time": "2025-05-11T11:32:11.485Z"
      },
      {
        "duration": 595,
        "start_time": "2025-05-11T11:32:11.768Z"
      },
      {
        "duration": 230,
        "start_time": "2025-05-11T11:32:12.365Z"
      },
      {
        "duration": 100,
        "start_time": "2025-05-11T11:32:12.596Z"
      },
      {
        "duration": 124,
        "start_time": "2025-05-11T11:32:12.698Z"
      },
      {
        "duration": 1558,
        "start_time": "2025-05-11T11:32:12.824Z"
      },
      {
        "duration": 194,
        "start_time": "2025-05-11T11:32:14.383Z"
      },
      {
        "duration": 10,
        "start_time": "2025-05-11T11:32:14.579Z"
      },
      {
        "duration": 40,
        "start_time": "2025-05-11T11:32:14.591Z"
      },
      {
        "duration": 1535,
        "start_time": "2025-05-11T11:32:14.633Z"
      },
      {
        "duration": 222,
        "start_time": "2025-05-11T11:32:16.171Z"
      },
      {
        "duration": 2038,
        "start_time": "2025-05-11T11:32:16.395Z"
      },
      {
        "duration": 154,
        "start_time": "2025-05-11T11:32:18.435Z"
      },
      {
        "duration": 52,
        "start_time": "2025-05-11T11:32:18.591Z"
      },
      {
        "duration": 220,
        "start_time": "2025-05-11T11:32:18.644Z"
      },
      {
        "duration": 138,
        "start_time": "2025-05-11T11:32:18.866Z"
      },
      {
        "duration": 297,
        "start_time": "2025-05-11T11:32:19.006Z"
      },
      {
        "duration": 159,
        "start_time": "2025-05-11T11:32:19.304Z"
      },
      {
        "duration": 13,
        "start_time": "2025-05-11T11:32:19.464Z"
      },
      {
        "duration": 18,
        "start_time": "2025-05-11T11:32:19.478Z"
      },
      {
        "duration": 355,
        "start_time": "2025-05-11T11:32:19.498Z"
      },
      {
        "duration": 132,
        "start_time": "2025-05-11T11:32:19.855Z"
      },
      {
        "duration": 90,
        "start_time": "2025-05-11T11:32:19.989Z"
      },
      {
        "duration": 44,
        "start_time": "2025-05-11T11:32:20.081Z"
      },
      {
        "duration": 167,
        "start_time": "2025-05-11T11:32:20.126Z"
      },
      {
        "duration": 36,
        "start_time": "2025-05-11T11:32:20.294Z"
      },
      {
        "duration": 58,
        "start_time": "2025-05-11T11:32:20.332Z"
      },
      {
        "duration": 60,
        "start_time": "2025-05-11T11:33:49.033Z"
      },
      {
        "duration": 443,
        "start_time": "2025-05-11T11:34:05.001Z"
      },
      {
        "duration": 13,
        "start_time": "2025-05-11T11:34:09.826Z"
      },
      {
        "duration": 13,
        "start_time": "2025-05-11T11:34:26.763Z"
      },
      {
        "duration": 417,
        "start_time": "2025-05-11T11:34:43.472Z"
      },
      {
        "duration": 14,
        "start_time": "2025-05-11T11:34:52.383Z"
      },
      {
        "duration": 4,
        "start_time": "2025-05-11T11:35:00.954Z"
      },
      {
        "duration": 299,
        "start_time": "2025-05-11T11:35:05.896Z"
      },
      {
        "duration": 13,
        "start_time": "2025-05-11T11:36:00.439Z"
      },
      {
        "duration": 4,
        "start_time": "2025-05-11T11:36:05.733Z"
      },
      {
        "duration": 1449,
        "start_time": "2025-05-11T11:36:16.419Z"
      },
      {
        "duration": 51,
        "start_time": "2025-05-11T11:36:26.643Z"
      },
      {
        "duration": 38707,
        "start_time": "2025-05-11T15:23:36.736Z"
      },
      {
        "duration": 69734,
        "start_time": "2025-05-11T15:24:15.446Z"
      },
      {
        "duration": 133,
        "start_time": "2025-05-11T15:25:25.182Z"
      },
      {
        "duration": 311,
        "start_time": "2025-05-11T15:25:25.318Z"
      },
      {
        "duration": 581,
        "start_time": "2025-05-11T15:25:25.631Z"
      },
      {
        "duration": 230,
        "start_time": "2025-05-11T15:25:26.214Z"
      },
      {
        "duration": 93,
        "start_time": "2025-05-11T15:25:26.446Z"
      },
      {
        "duration": 127,
        "start_time": "2025-05-11T15:25:26.541Z"
      },
      {
        "duration": 1662,
        "start_time": "2025-05-11T15:25:26.670Z"
      },
      {
        "duration": 185,
        "start_time": "2025-05-11T15:25:28.336Z"
      },
      {
        "duration": 9,
        "start_time": "2025-05-11T15:25:28.522Z"
      },
      {
        "duration": 51,
        "start_time": "2025-05-11T15:25:28.532Z"
      },
      {
        "duration": 1530,
        "start_time": "2025-05-11T15:25:28.584Z"
      },
      {
        "duration": 235,
        "start_time": "2025-05-11T15:25:30.115Z"
      },
      {
        "duration": 2086,
        "start_time": "2025-05-11T15:25:30.352Z"
      },
      {
        "duration": 162,
        "start_time": "2025-05-11T15:25:32.439Z"
      },
      {
        "duration": 65,
        "start_time": "2025-05-11T15:25:32.603Z"
      },
      {
        "duration": 224,
        "start_time": "2025-05-11T15:25:32.669Z"
      },
      {
        "duration": 168,
        "start_time": "2025-05-11T15:25:32.895Z"
      },
      {
        "duration": 309,
        "start_time": "2025-05-11T15:25:33.065Z"
      },
      {
        "duration": 165,
        "start_time": "2025-05-11T15:25:33.376Z"
      },
      {
        "duration": 25,
        "start_time": "2025-05-11T15:25:33.543Z"
      },
      {
        "duration": 19,
        "start_time": "2025-05-11T15:25:33.569Z"
      },
      {
        "duration": 332,
        "start_time": "2025-05-11T15:25:33.589Z"
      },
      {
        "duration": 135,
        "start_time": "2025-05-11T15:25:33.923Z"
      },
      {
        "duration": 84,
        "start_time": "2025-05-11T15:25:34.063Z"
      },
      {
        "duration": 54,
        "start_time": "2025-05-11T15:25:34.149Z"
      },
      {
        "duration": 166,
        "start_time": "2025-05-11T15:25:34.207Z"
      },
      {
        "duration": 37,
        "start_time": "2025-05-11T15:25:34.375Z"
      },
      {
        "duration": 62,
        "start_time": "2025-05-11T15:25:34.413Z"
      },
      {
        "duration": 64,
        "start_time": "2025-05-11T15:25:34.476Z"
      },
      {
        "duration": 449,
        "start_time": "2025-05-11T15:25:34.542Z"
      },
      {
        "duration": 1388,
        "start_time": "2025-05-11T15:25:34.993Z"
      },
      {
        "duration": 305,
        "start_time": "2025-05-11T15:25:36.383Z"
      },
      {
        "duration": 2,
        "start_time": "2025-05-11T15:25:36.690Z"
      },
      {
        "duration": 11,
        "start_time": "2025-05-11T15:56:22.476Z"
      },
      {
        "duration": 70,
        "start_time": "2025-05-11T15:56:26.233Z"
      },
      {
        "duration": 21613,
        "start_time": "2025-05-11T15:56:44.823Z"
      },
      {
        "duration": 70500,
        "start_time": "2025-05-11T15:57:06.440Z"
      },
      {
        "duration": 128,
        "start_time": "2025-05-11T15:58:16.942Z"
      },
      {
        "duration": 295,
        "start_time": "2025-05-11T15:58:17.072Z"
      },
      {
        "duration": 566,
        "start_time": "2025-05-11T15:58:17.374Z"
      },
      {
        "duration": 235,
        "start_time": "2025-05-11T15:58:17.942Z"
      },
      {
        "duration": 101,
        "start_time": "2025-05-11T15:58:18.179Z"
      },
      {
        "duration": 129,
        "start_time": "2025-05-11T15:58:18.282Z"
      },
      {
        "duration": 1610,
        "start_time": "2025-05-11T15:58:18.413Z"
      },
      {
        "duration": 190,
        "start_time": "2025-05-11T15:58:20.025Z"
      },
      {
        "duration": 10,
        "start_time": "2025-05-11T15:58:20.217Z"
      },
      {
        "duration": 53,
        "start_time": "2025-05-11T15:58:20.229Z"
      },
      {
        "duration": 1493,
        "start_time": "2025-05-11T15:58:20.284Z"
      },
      {
        "duration": 232,
        "start_time": "2025-05-11T15:58:21.782Z"
      },
      {
        "duration": 2087,
        "start_time": "2025-05-11T15:58:22.016Z"
      },
      {
        "duration": 169,
        "start_time": "2025-05-11T15:58:24.106Z"
      },
      {
        "duration": 53,
        "start_time": "2025-05-11T15:58:24.277Z"
      },
      {
        "duration": 249,
        "start_time": "2025-05-11T15:58:24.332Z"
      },
      {
        "duration": 149,
        "start_time": "2025-05-11T15:58:24.584Z"
      },
      {
        "duration": 329,
        "start_time": "2025-05-11T15:58:24.736Z"
      },
      {
        "duration": 164,
        "start_time": "2025-05-11T15:58:25.067Z"
      },
      {
        "duration": 15,
        "start_time": "2025-05-11T15:58:25.233Z"
      },
      {
        "duration": 21,
        "start_time": "2025-05-11T15:58:25.263Z"
      },
      {
        "duration": 355,
        "start_time": "2025-05-11T15:58:25.286Z"
      },
      {
        "duration": 142,
        "start_time": "2025-05-11T15:58:25.643Z"
      },
      {
        "duration": 96,
        "start_time": "2025-05-11T15:58:25.788Z"
      },
      {
        "duration": 45,
        "start_time": "2025-05-11T15:58:25.886Z"
      },
      {
        "duration": 173,
        "start_time": "2025-05-11T15:58:25.933Z"
      },
      {
        "duration": 64,
        "start_time": "2025-05-11T15:58:26.108Z"
      },
      {
        "duration": 59,
        "start_time": "2025-05-11T15:58:26.175Z"
      },
      {
        "duration": 87,
        "start_time": "2025-05-11T15:58:26.236Z"
      },
      {
        "duration": 448,
        "start_time": "2025-05-11T15:58:26.325Z"
      },
      {
        "duration": 1412,
        "start_time": "2025-05-11T15:58:26.775Z"
      },
      {
        "duration": 314,
        "start_time": "2025-05-11T15:58:28.189Z"
      },
      {
        "duration": 3,
        "start_time": "2025-05-11T15:58:28.506Z"
      },
      {
        "duration": 160,
        "start_time": "2025-05-11T15:58:28.511Z"
      },
      {
        "duration": 0,
        "start_time": "2025-05-11T15:58:28.674Z"
      },
      {
        "duration": 0,
        "start_time": "2025-05-11T15:58:28.675Z"
      },
      {
        "duration": 0,
        "start_time": "2025-05-11T15:58:28.677Z"
      },
      {
        "duration": 0,
        "start_time": "2025-05-11T15:58:28.678Z"
      },
      {
        "duration": 0,
        "start_time": "2025-05-11T15:58:28.680Z"
      },
      {
        "duration": 0,
        "start_time": "2025-05-11T15:58:28.681Z"
      },
      {
        "duration": 0,
        "start_time": "2025-05-11T15:58:28.683Z"
      },
      {
        "duration": 0,
        "start_time": "2025-05-11T15:58:28.685Z"
      },
      {
        "duration": 0,
        "start_time": "2025-05-11T15:58:28.686Z"
      },
      {
        "duration": 0,
        "start_time": "2025-05-11T15:58:28.687Z"
      },
      {
        "duration": 0,
        "start_time": "2025-05-11T15:58:28.689Z"
      },
      {
        "duration": 0,
        "start_time": "2025-05-11T15:58:28.691Z"
      },
      {
        "duration": 0,
        "start_time": "2025-05-11T15:58:28.692Z"
      },
      {
        "duration": 80,
        "start_time": "2025-05-11T16:04:42.522Z"
      },
      {
        "duration": 89,
        "start_time": "2025-05-11T16:05:04.432Z"
      },
      {
        "duration": 21151,
        "start_time": "2025-05-11T16:05:23.312Z"
      },
      {
        "duration": 72099,
        "start_time": "2025-05-11T16:05:44.466Z"
      },
      {
        "duration": 126,
        "start_time": "2025-05-11T16:06:56.567Z"
      },
      {
        "duration": 285,
        "start_time": "2025-05-11T16:06:56.696Z"
      },
      {
        "duration": 619,
        "start_time": "2025-05-11T16:06:56.983Z"
      },
      {
        "duration": 238,
        "start_time": "2025-05-11T16:06:57.604Z"
      },
      {
        "duration": 105,
        "start_time": "2025-05-11T16:06:57.844Z"
      },
      {
        "duration": 150,
        "start_time": "2025-05-11T16:06:57.951Z"
      },
      {
        "duration": 1521,
        "start_time": "2025-05-11T16:06:58.104Z"
      },
      {
        "duration": 205,
        "start_time": "2025-05-11T16:06:59.629Z"
      },
      {
        "duration": 11,
        "start_time": "2025-05-11T16:06:59.836Z"
      },
      {
        "duration": 36,
        "start_time": "2025-05-11T16:06:59.864Z"
      },
      {
        "duration": 1593,
        "start_time": "2025-05-11T16:06:59.902Z"
      },
      {
        "duration": 251,
        "start_time": "2025-05-11T16:07:01.497Z"
      },
      {
        "duration": 2146,
        "start_time": "2025-05-11T16:07:01.751Z"
      },
      {
        "duration": 176,
        "start_time": "2025-05-11T16:07:03.899Z"
      },
      {
        "duration": 53,
        "start_time": "2025-05-11T16:07:04.078Z"
      },
      {
        "duration": 258,
        "start_time": "2025-05-11T16:07:04.134Z"
      },
      {
        "duration": 151,
        "start_time": "2025-05-11T16:07:04.394Z"
      },
      {
        "duration": 329,
        "start_time": "2025-05-11T16:07:04.548Z"
      },
      {
        "duration": 217,
        "start_time": "2025-05-11T16:07:04.880Z"
      },
      {
        "duration": 15,
        "start_time": "2025-05-11T16:07:05.099Z"
      },
      {
        "duration": 51,
        "start_time": "2025-05-11T16:07:05.116Z"
      },
      {
        "duration": 377,
        "start_time": "2025-05-11T16:07:05.170Z"
      },
      {
        "duration": 147,
        "start_time": "2025-05-11T16:07:05.550Z"
      },
      {
        "duration": 91,
        "start_time": "2025-05-11T16:07:05.699Z"
      },
      {
        "duration": 80,
        "start_time": "2025-05-11T16:07:05.792Z"
      },
      {
        "duration": 176,
        "start_time": "2025-05-11T16:07:05.877Z"
      },
      {
        "duration": 63,
        "start_time": "2025-05-11T16:07:06.056Z"
      },
      {
        "duration": 62,
        "start_time": "2025-05-11T16:07:06.121Z"
      },
      {
        "duration": 82,
        "start_time": "2025-05-11T16:07:06.185Z"
      },
      {
        "duration": 435,
        "start_time": "2025-05-11T16:07:06.269Z"
      },
      {
        "duration": 1455,
        "start_time": "2025-05-11T16:07:06.707Z"
      },
      {
        "duration": 357,
        "start_time": "2025-05-11T16:07:08.164Z"
      },
      {
        "duration": 4,
        "start_time": "2025-05-11T16:07:08.524Z"
      },
      {
        "duration": 195,
        "start_time": "2025-05-11T16:07:08.530Z"
      },
      {
        "duration": 0,
        "start_time": "2025-05-11T16:07:08.727Z"
      },
      {
        "duration": 0,
        "start_time": "2025-05-11T16:07:08.728Z"
      },
      {
        "duration": 0,
        "start_time": "2025-05-11T16:07:08.730Z"
      },
      {
        "duration": 0,
        "start_time": "2025-05-11T16:07:08.731Z"
      },
      {
        "duration": 0,
        "start_time": "2025-05-11T16:07:08.733Z"
      },
      {
        "duration": 0,
        "start_time": "2025-05-11T16:07:08.734Z"
      },
      {
        "duration": 0,
        "start_time": "2025-05-11T16:07:08.736Z"
      },
      {
        "duration": 0,
        "start_time": "2025-05-11T16:07:08.737Z"
      },
      {
        "duration": 0,
        "start_time": "2025-05-11T16:07:08.763Z"
      },
      {
        "duration": 0,
        "start_time": "2025-05-11T16:07:08.765Z"
      },
      {
        "duration": 0,
        "start_time": "2025-05-11T16:07:08.767Z"
      },
      {
        "duration": 0,
        "start_time": "2025-05-11T16:07:08.768Z"
      },
      {
        "duration": 0,
        "start_time": "2025-05-11T16:07:08.770Z"
      },
      {
        "duration": 1274496,
        "start_time": "2025-05-11T16:10:01.544Z"
      },
      {
        "duration": 221,
        "start_time": "2025-05-11T16:31:16.043Z"
      },
      {
        "duration": 171,
        "start_time": "2025-05-11T16:31:16.266Z"
      },
      {
        "duration": 1639542,
        "start_time": "2025-05-11T16:31:16.441Z"
      },
      {
        "duration": 89,
        "start_time": "2025-05-11T16:58:35.984Z"
      },
      {
        "duration": 276389,
        "start_time": "2025-05-11T16:58:36.075Z"
      },
      {
        "duration": 18,
        "start_time": "2025-05-11T17:03:12.466Z"
      },
      {
        "duration": 10,
        "start_time": "2025-05-11T17:03:12.487Z"
      },
      {
        "duration": 35067,
        "start_time": "2025-05-11T17:03:12.504Z"
      },
      {
        "duration": 93,
        "start_time": "2025-05-11T17:03:47.574Z"
      },
      {
        "duration": 307,
        "start_time": "2025-05-11T17:03:47.669Z"
      },
      {
        "duration": 44814,
        "start_time": "2025-05-11T17:10:36.362Z"
      },
      {
        "duration": 42835,
        "start_time": "2025-05-11T17:15:06.156Z"
      },
      {
        "duration": 2742,
        "start_time": "2025-05-11T17:18:30.196Z"
      },
      {
        "duration": 846572,
        "start_time": "2025-05-11T17:19:14.499Z"
      },
      {
        "duration": 82,
        "start_time": "2025-05-11T17:33:21.074Z"
      }
    ],
    "kernelspec": {
      "display_name": "Python 3 (ipykernel)",
      "language": "python",
      "name": "python3"
    },
    "language_info": {
      "codemirror_mode": {
        "name": "ipython",
        "version": 3
      },
      "file_extension": ".py",
      "mimetype": "text/x-python",
      "name": "python",
      "nbconvert_exporter": "python",
      "pygments_lexer": "ipython3",
      "version": "3.9.5"
    },
    "toc": {
      "base_numbering": 1,
      "nav_menu": {},
      "number_sections": true,
      "sideBar": true,
      "skip_h1_title": true,
      "title_cell": "Table of Contents",
      "title_sidebar": "Contents",
      "toc_cell": false,
      "toc_position": {
        "height": "calc(100% - 180px)",
        "left": "10px",
        "top": "150px",
        "width": "259.188px"
      },
      "toc_section_display": true,
      "toc_window_display": true
    },
    "colab": {
      "provenance": [],
      "toc_visible": true
    }
  },
  "nbformat": 4,
  "nbformat_minor": 0
}