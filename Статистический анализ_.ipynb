{
  "cells": [
    {
      "cell_type": "markdown",
      "id": "05136230",
      "metadata": {
        "id": "05136230"
      },
      "source": [
        "**Проект:** Статистический анализ данных сервиса аренды самокатов GoFast  \n",
        "\n",
        "**Описание проекта:**  \n",
        "для популярного сервиса аренды самокатов GoFast в отдел по Аналитике поступила задача провести исследование на основе информации о пользователях, их поездках и подписках. Данные предоставлены в виде трех csv-файлов.  \n",
        "\n",
        "**Цель исследования** : на основе данных о пользователях из нескольких городов, а также об их поездках необходимо:  \n",
        "- проанализировать полученные данные  \n",
        "- проверить несколько гипотезы  \n",
        "Данные результатов анализа и проверок гипотез помогут найти верные решения, которые смогут повысить выручку и будут способствовать росту бизнеса."
      ]
    },
    {
      "cell_type": "markdown",
      "id": "7082319f",
      "metadata": {
        "id": "7082319f"
      },
      "source": [
        "**1. Загрузка данных**"
      ]
    },
    {
      "cell_type": "markdown",
      "id": "10c013fc",
      "metadata": {
        "id": "10c013fc"
      },
      "source": [
        "Импортируем необходимые для работы библиотеки"
      ]
    },
    {
      "cell_type": "code",
      "execution_count": null,
      "id": "e646eb66",
      "metadata": {
        "id": "e646eb66"
      },
      "outputs": [],
      "source": [
        "import pandas as pd\n",
        "#импортируем необходимые для проведения стат. анализа библиотеки\n",
        "pd.options.display.float_format = '{:,.1f}'.format\n",
        "\n",
        "#импортируем библиотеку для построения графиков\n",
        "import matplotlib.pyplot as plt\n",
        "\n",
        "#импортируем библиотеку для построения более сложных графиков\n",
        "import seaborn as sns\n",
        "\n",
        "#импортируем библиотеку для работы с многомерными массивами\n",
        "import numpy as np\n",
        "\n",
        "#импортируем библиотеку проведения статистического анализа (проведения стат. тестов и получения оценок рез-тов)\n",
        "from scipy import stats as st\n"
      ]
    },
    {
      "cell_type": "markdown",
      "id": "c42cbe00",
      "metadata": {
        "id": "c42cbe00"
      },
      "source": [
        "#### Шаг 1. Загрузка данных"
      ]
    },
    {
      "cell_type": "code",
      "execution_count": null,
      "id": "eff9f206",
      "metadata": {
        "id": "eff9f206"
      },
      "outputs": [],
      "source": [
        "#считываю файлы с данными и записываю датасеты в соответствующие переменные\n",
        "try:\n",
        "    users = pd.read_csv('users_go.csv', engine = 'python')\n",
        "except:\n",
        "#данные по пользователям\n",
        "    users = pd.read_csv('https://code.s3.yandex.net/datasets/users_go.csv')\n",
        "try:\n",
        "    rides = pd.read_csv('rides_go.csv', engine = 'python')\n",
        "except:\n",
        "# данные по поездкам\n",
        "    rides = pd.read_csv('https://code.s3.yandex.net/datasets/rides_go.csv', parse_dates=['date'])\n",
        "try:\n",
        "    subscriptions = pd.read_csv('subscriptions_go.csv', engine = 'python')\n",
        "except:\n",
        "# данные по подпискам\n",
        "    subscriptions = pd.read_csv('https://code.s3.yandex.net/datasets/subscriptions_go.csv')"
      ]
    },
    {
      "cell_type": "code",
      "execution_count": null,
      "id": "af6d202c",
      "metadata": {
        "id": "af6d202c",
        "outputId": "1e6f2e60-7285-4db7-d0c2-9873ab4d0b23"
      },
      "outputs": [
        {
          "name": "stdout",
          "output_type": "stream",
          "text": [
            "<class 'pandas.core.frame.DataFrame'>\n",
            "RangeIndex: 1565 entries, 0 to 1564\n",
            "Data columns (total 5 columns):\n",
            " #   Column             Non-Null Count  Dtype \n",
            "---  ------             --------------  ----- \n",
            " 0   user_id            1565 non-null   int64 \n",
            " 1   name               1565 non-null   object\n",
            " 2   age                1565 non-null   int64 \n",
            " 3   city               1565 non-null   object\n",
            " 4   subscription_type  1565 non-null   object\n",
            "dtypes: int64(2), object(3)\n",
            "memory usage: 61.3+ KB\n"
          ]
        },
        {
          "data": {
            "text/html": [
              "<div>\n",
              "<style scoped>\n",
              "    .dataframe tbody tr th:only-of-type {\n",
              "        vertical-align: middle;\n",
              "    }\n",
              "\n",
              "    .dataframe tbody tr th {\n",
              "        vertical-align: top;\n",
              "    }\n",
              "\n",
              "    .dataframe thead th {\n",
              "        text-align: right;\n",
              "    }\n",
              "</style>\n",
              "<table border=\"1\" class=\"dataframe\">\n",
              "  <thead>\n",
              "    <tr style=\"text-align: right;\">\n",
              "      <th></th>\n",
              "      <th>user_id</th>\n",
              "      <th>name</th>\n",
              "      <th>age</th>\n",
              "      <th>city</th>\n",
              "      <th>subscription_type</th>\n",
              "    </tr>\n",
              "  </thead>\n",
              "  <tbody>\n",
              "    <tr>\n",
              "      <th>0</th>\n",
              "      <td>1</td>\n",
              "      <td>Кира</td>\n",
              "      <td>22</td>\n",
              "      <td>Тюмень</td>\n",
              "      <td>ultra</td>\n",
              "    </tr>\n",
              "    <tr>\n",
              "      <th>1</th>\n",
              "      <td>2</td>\n",
              "      <td>Станислав</td>\n",
              "      <td>31</td>\n",
              "      <td>Омск</td>\n",
              "      <td>ultra</td>\n",
              "    </tr>\n",
              "    <tr>\n",
              "      <th>2</th>\n",
              "      <td>3</td>\n",
              "      <td>Алексей</td>\n",
              "      <td>20</td>\n",
              "      <td>Москва</td>\n",
              "      <td>ultra</td>\n",
              "    </tr>\n",
              "    <tr>\n",
              "      <th>3</th>\n",
              "      <td>4</td>\n",
              "      <td>Константин</td>\n",
              "      <td>26</td>\n",
              "      <td>Ростов-на-Дону</td>\n",
              "      <td>ultra</td>\n",
              "    </tr>\n",
              "    <tr>\n",
              "      <th>4</th>\n",
              "      <td>5</td>\n",
              "      <td>Адель</td>\n",
              "      <td>28</td>\n",
              "      <td>Омск</td>\n",
              "      <td>ultra</td>\n",
              "    </tr>\n",
              "  </tbody>\n",
              "</table>\n",
              "</div>"
            ],
            "text/plain": [
              "   user_id        name  age            city subscription_type\n",
              "0        1        Кира   22          Тюмень             ultra\n",
              "1        2   Станислав   31            Омск             ultra\n",
              "2        3     Алексей   20          Москва             ultra\n",
              "3        4  Константин   26  Ростов-на-Дону             ultra\n",
              "4        5       Адель   28            Омск             ultra"
            ]
          },
          "metadata": {},
          "output_type": "display_data"
        }
      ],
      "source": [
        "#изучим общую информацию о Пользователях\n",
        "users.info()\n",
        "display (users.head())"
      ]
    },
    {
      "cell_type": "markdown",
      "id": "ea6a0658",
      "metadata": {
        "id": "ea6a0658"
      },
      "source": [
        "Нулевых значений нет (т.е в данных нет пропусков), типы данных корректные."
      ]
    },
    {
      "cell_type": "code",
      "execution_count": null,
      "id": "251f7f7e",
      "metadata": {
        "id": "251f7f7e",
        "outputId": "c6e97945-f075-46e7-dc9a-bbf280320be7"
      },
      "outputs": [
        {
          "name": "stdout",
          "output_type": "stream",
          "text": [
            "<class 'pandas.core.frame.DataFrame'>\n",
            "RangeIndex: 18068 entries, 0 to 18067\n",
            "Data columns (total 4 columns):\n",
            " #   Column    Non-Null Count  Dtype         \n",
            "---  ------    --------------  -----         \n",
            " 0   user_id   18068 non-null  int64         \n",
            " 1   distance  18068 non-null  float64       \n",
            " 2   duration  18068 non-null  float64       \n",
            " 3   date      18068 non-null  datetime64[ns]\n",
            "dtypes: datetime64[ns](1), float64(2), int64(1)\n",
            "memory usage: 564.8 KB\n"
          ]
        },
        {
          "data": {
            "text/html": [
              "<div>\n",
              "<style scoped>\n",
              "    .dataframe tbody tr th:only-of-type {\n",
              "        vertical-align: middle;\n",
              "    }\n",
              "\n",
              "    .dataframe tbody tr th {\n",
              "        vertical-align: top;\n",
              "    }\n",
              "\n",
              "    .dataframe thead th {\n",
              "        text-align: right;\n",
              "    }\n",
              "</style>\n",
              "<table border=\"1\" class=\"dataframe\">\n",
              "  <thead>\n",
              "    <tr style=\"text-align: right;\">\n",
              "      <th></th>\n",
              "      <th>user_id</th>\n",
              "      <th>distance</th>\n",
              "      <th>duration</th>\n",
              "      <th>date</th>\n",
              "    </tr>\n",
              "  </thead>\n",
              "  <tbody>\n",
              "    <tr>\n",
              "      <th>0</th>\n",
              "      <td>1</td>\n",
              "      <td>4,409.9</td>\n",
              "      <td>25.6</td>\n",
              "      <td>2021-01-01</td>\n",
              "    </tr>\n",
              "    <tr>\n",
              "      <th>1</th>\n",
              "      <td>1</td>\n",
              "      <td>2,617.6</td>\n",
              "      <td>15.8</td>\n",
              "      <td>2021-01-18</td>\n",
              "    </tr>\n",
              "    <tr>\n",
              "      <th>2</th>\n",
              "      <td>1</td>\n",
              "      <td>754.2</td>\n",
              "      <td>6.2</td>\n",
              "      <td>2021-04-20</td>\n",
              "    </tr>\n",
              "    <tr>\n",
              "      <th>3</th>\n",
              "      <td>1</td>\n",
              "      <td>2,694.8</td>\n",
              "      <td>18.5</td>\n",
              "      <td>2021-08-11</td>\n",
              "    </tr>\n",
              "    <tr>\n",
              "      <th>4</th>\n",
              "      <td>1</td>\n",
              "      <td>4,028.7</td>\n",
              "      <td>26.3</td>\n",
              "      <td>2021-08-28</td>\n",
              "    </tr>\n",
              "  </tbody>\n",
              "</table>\n",
              "</div>"
            ],
            "text/plain": [
              "   user_id  distance  duration       date\n",
              "0        1   4,409.9      25.6 2021-01-01\n",
              "1        1   2,617.6      15.8 2021-01-18\n",
              "2        1     754.2       6.2 2021-04-20\n",
              "3        1   2,694.8      18.5 2021-08-11\n",
              "4        1   4,028.7      26.3 2021-08-28"
            ]
          },
          "metadata": {},
          "output_type": "display_data"
        }
      ],
      "source": [
        "#изучим общую информацию о Поездках\n",
        "rides.info()\n",
        "display (rides.head())"
      ]
    },
    {
      "cell_type": "markdown",
      "id": "e970c468",
      "metadata": {
        "id": "e970c468"
      },
      "source": [
        "Нулевых значений нет (т.е в данных нет пропусков), тип данных у типы данных у столбца date не корректный."
      ]
    },
    {
      "cell_type": "code",
      "execution_count": null,
      "id": "21b862b7",
      "metadata": {
        "id": "21b862b7",
        "outputId": "9f92a90a-c7ad-49fb-fd00-b77bad814d43"
      },
      "outputs": [
        {
          "name": "stdout",
          "output_type": "stream",
          "text": [
            "<class 'pandas.core.frame.DataFrame'>\n",
            "RangeIndex: 2 entries, 0 to 1\n",
            "Data columns (total 4 columns):\n",
            " #   Column             Non-Null Count  Dtype \n",
            "---  ------             --------------  ----- \n",
            " 0   subscription_type  2 non-null      object\n",
            " 1   minute_price       2 non-null      int64 \n",
            " 2   start_ride_price   2 non-null      int64 \n",
            " 3   subscription_fee   2 non-null      int64 \n",
            "dtypes: int64(3), object(1)\n",
            "memory usage: 192.0+ bytes\n"
          ]
        },
        {
          "data": {
            "text/html": [
              "<div>\n",
              "<style scoped>\n",
              "    .dataframe tbody tr th:only-of-type {\n",
              "        vertical-align: middle;\n",
              "    }\n",
              "\n",
              "    .dataframe tbody tr th {\n",
              "        vertical-align: top;\n",
              "    }\n",
              "\n",
              "    .dataframe thead th {\n",
              "        text-align: right;\n",
              "    }\n",
              "</style>\n",
              "<table border=\"1\" class=\"dataframe\">\n",
              "  <thead>\n",
              "    <tr style=\"text-align: right;\">\n",
              "      <th></th>\n",
              "      <th>subscription_type</th>\n",
              "      <th>minute_price</th>\n",
              "      <th>start_ride_price</th>\n",
              "      <th>subscription_fee</th>\n",
              "    </tr>\n",
              "  </thead>\n",
              "  <tbody>\n",
              "    <tr>\n",
              "      <th>0</th>\n",
              "      <td>free</td>\n",
              "      <td>8</td>\n",
              "      <td>50</td>\n",
              "      <td>0</td>\n",
              "    </tr>\n",
              "    <tr>\n",
              "      <th>1</th>\n",
              "      <td>ultra</td>\n",
              "      <td>6</td>\n",
              "      <td>0</td>\n",
              "      <td>199</td>\n",
              "    </tr>\n",
              "  </tbody>\n",
              "</table>\n",
              "</div>"
            ],
            "text/plain": [
              "  subscription_type  minute_price  start_ride_price  subscription_fee\n",
              "0              free             8                50                 0\n",
              "1             ultra             6                 0               199"
            ]
          },
          "metadata": {},
          "output_type": "display_data"
        }
      ],
      "source": [
        "#изучим общую информацию о Подписках\n",
        "subscriptions.info()\n",
        "display (subscriptions.head())"
      ]
    },
    {
      "cell_type": "markdown",
      "id": "54bd3b96",
      "metadata": {
        "id": "54bd3b96"
      },
      "source": [
        "**Выводы:**  \n",
        "\n",
        "Данные пользователей, информация о поездках и подписках загружена в три датасета. В ходе первого этапа мы ознакомились с общей информацией, проверили данные на предмет пропусков и корректности типов данных. При загрузки тип данных data был автоматически переведен в тип дата python. В третьем датасете представлена общая информация о параметрах Подписок - free и ultra  \n",
        "\n",
        "В данных пропусков нет, типы данных корректные.  "
      ]
    },
    {
      "cell_type": "markdown",
      "id": "84979e41",
      "metadata": {
        "id": "84979e41"
      },
      "source": [
        "#### Шаг 2. Предобработка данных"
      ]
    },
    {
      "cell_type": "markdown",
      "id": "adddda27",
      "metadata": {
        "id": "adddda27"
      },
      "source": [
        "Более подробно изучим характеристики пользователей.\n",
        "\n",
        "Скорректируем тип данных там, где это необходимо для дальнейшей работы.  \n",
        "Добавим дополнительные столбцы, полученные на основе текущих данных.  "
      ]
    },
    {
      "cell_type": "code",
      "execution_count": null,
      "id": "17df6086",
      "metadata": {
        "id": "17df6086"
      },
      "outputs": [],
      "source": [
        "#тип данных был изменен выше при загрузке датасета с данными о поездках\n",
        "#2.1. изменим тип данных в столбце date на более корректный - даты pandas\n",
        "#rides['date'] = pd.to_datetime(rides['date'], format ='%Y-%m-%d')"
      ]
    },
    {
      "cell_type": "code",
      "execution_count": null,
      "id": "a3f39610",
      "metadata": {
        "id": "a3f39610",
        "outputId": "93b29c05-c92b-4c53-a2d8-65d9a7da04c6"
      },
      "outputs": [
        {
          "data": {
            "text/plain": [
              "1     1585\n",
              "2     1336\n",
              "3     1544\n",
              "4     1506\n",
              "5     1560\n",
              "6     1553\n",
              "7     1529\n",
              "8     1518\n",
              "9     1517\n",
              "10    1475\n",
              "11    1418\n",
              "12    1527\n",
              "Name: month, dtype: int64"
            ]
          },
          "metadata": {},
          "output_type": "display_data"
        }
      ],
      "source": [
        "#2.2. добавим в датасет столбец месяца\n",
        "rides['month'] = rides['date'].dt.month\n",
        "#выведем отсортированный список по месяцам\n",
        "display (rides['month'].value_counts().sort_index())"
      ]
    },
    {
      "cell_type": "code",
      "execution_count": null,
      "id": "1d380cb1",
      "metadata": {
        "id": "1d380cb1",
        "outputId": "22fed89d-8513-4769-9585-d6755fe374fd"
      },
      "outputs": [
        {
          "data": {
            "text/plain": [
              "array([2021])"
            ]
          },
          "metadata": {},
          "output_type": "display_data"
        }
      ],
      "source": [
        "#узнаем, за какие года в датасете представлены данные\n",
        "display (rides['date'].dt.year.unique())"
      ]
    },
    {
      "cell_type": "markdown",
      "id": "4352477f",
      "metadata": {
        "id": "4352477f"
      },
      "source": [
        "Только за 2021 год"
      ]
    },
    {
      "cell_type": "code",
      "execution_count": null,
      "id": "bc8e5e9f",
      "metadata": {
        "id": "bc8e5e9f",
        "outputId": "b84c3621-d9ab-4cf3-a216-185ae4ee5cfa"
      },
      "outputs": [
        {
          "data": {
            "text/plain": [
              "31"
            ]
          },
          "execution_count": 9,
          "metadata": {},
          "output_type": "execute_result"
        }
      ],
      "source": [
        "#2.3 Проверим наличие пропущенных значений и дубликатов в датафреймах: users, rides и subscriptions\n",
        "users.duplicated().sum()"
      ]
    },
    {
      "cell_type": "code",
      "execution_count": null,
      "id": "745a7d20",
      "metadata": {
        "id": "745a7d20",
        "outputId": "eb03170e-63e1-4475-ab38-f5226bef571c"
      },
      "outputs": [
        {
          "data": {
            "text/plain": [
              "0"
            ]
          },
          "execution_count": 10,
          "metadata": {},
          "output_type": "execute_result"
        }
      ],
      "source": [
        "#удалим, найденные дубликаты в датасете users\n",
        "users.drop_duplicates(inplace=True)\n",
        "#проверим, остались ли дубликаты\n",
        "users.duplicated().sum()"
      ]
    },
    {
      "cell_type": "code",
      "execution_count": null,
      "id": "14c2d467",
      "metadata": {
        "id": "14c2d467",
        "outputId": "afc18243-442d-40b7-f80c-05971b3edf74"
      },
      "outputs": [
        {
          "data": {
            "text/plain": [
              "0"
            ]
          },
          "execution_count": 11,
          "metadata": {},
          "output_type": "execute_result"
        }
      ],
      "source": [
        "rides.duplicated().sum()"
      ]
    },
    {
      "cell_type": "code",
      "execution_count": null,
      "id": "dddf0c2b",
      "metadata": {
        "id": "dddf0c2b",
        "outputId": "7a284cd0-b52e-417b-f2af-6801c6c2f80f"
      },
      "outputs": [
        {
          "data": {
            "text/plain": [
              "0"
            ]
          },
          "execution_count": 12,
          "metadata": {},
          "output_type": "execute_result"
        }
      ],
      "source": [
        "subscriptions.duplicated().sum()"
      ]
    },
    {
      "cell_type": "markdown",
      "id": "90785f82",
      "metadata": {
        "id": "90785f82"
      },
      "source": [
        "В ходе преварительной обработки выяснилось, что пропусков в данных трех датасетов нет. Почти все типы данных указаны корректро, только в столбце data был скорректирован тип данных для того, чтобы было удобнее работать с датами в дальнейшем.  \n",
        "Были найдены и удалены явные дубликаты в датафрейме users.  \n",
        "Добавлен новый столбец month.иУточнили, что данные представлены за 2021год."
      ]
    },
    {
      "cell_type": "markdown",
      "id": "ec77742f",
      "metadata": {
        "id": "ec77742f"
      },
      "source": [
        "#### Шаг 3. Исследовательский анализ данных"
      ]
    },
    {
      "cell_type": "markdown",
      "id": "210996f2",
      "metadata": {
        "id": "210996f2"
      },
      "source": [
        "Опишем и визуализируем общую информацию о пользователях и поездках."
      ]
    },
    {
      "cell_type": "code",
      "execution_count": null,
      "id": "3345d8ad",
      "metadata": {
        "id": "3345d8ad",
        "outputId": "141abf11-1a44-4d7c-d75a-4bf62932e250"
      },
      "outputs": [
        {
          "data": {
            "text/plain": [
              "Пятигорск         219\n",
              "Екатеринбург      204\n",
              "Ростов-на-Дону    198\n",
              "Краснодар         193\n",
              "Сочи              189\n",
              "Омск              183\n",
              "Тюмень            180\n",
              "Москва            168\n",
              "Name: city, dtype: int64"
            ]
          },
          "metadata": {},
          "output_type": "display_data"
        }
      ],
      "source": [
        "# 3.1 изучим данные распределения пользователей по городам\n",
        "display (users['city'].value_counts())"
      ]
    },
    {
      "cell_type": "code",
      "execution_count": null,
      "id": "51b0b24c",
      "metadata": {
        "id": "51b0b24c",
        "outputId": "73f5019b-2ad9-4676-a0e9-4aaf17553f22"
      },
      "outputs": [
        {
          "data": {
            "image/png": "[encoded data removed]",
            "text/plain": [
              "<Figure size 360x360 with 1 Axes>"
            ]
          },
          "metadata": {},
          "output_type": "display_data"
        }
      ],
      "source": [
        "#строим круговую диаграмму распределения пользователей по городам\n",
        "users['city'].value_counts().plot(kind = 'pie', y = users['city'].value_counts(),\n",
        "                                  autopct = '%1.0f%%', figsize=(5,5), ylabel = 'Доли',\n",
        "                                  title = 'Диаграмма распределения пользователей по городам, в %');\n"
      ]
    },
    {
      "cell_type": "markdown",
      "id": "3b44227d",
      "metadata": {
        "id": "3b44227d"
      },
      "source": [
        "На круговой диаграмме распределение пользователей по городам выглядит более наглядно. Пользователи распределены почти равномерно, разница между долями небольшая - 1-3%.\n",
        "\n",
        "Больше всего пользователей из Пятигорска, меньше всего из Москвы."
      ]
    },
    {
      "cell_type": "code",
      "execution_count": null,
      "id": "fe69bff3",
      "metadata": {
        "id": "fe69bff3",
        "outputId": "e83bfd7d-f30b-40a5-b872-f14e1ee2733b"
      },
      "outputs": [
        {
          "data": {
            "text/plain": [
              "([0, 1, 2, 3, 4, 5, 6, 7],\n",
              " [Text(0, 0, ''),\n",
              "  Text(0, 0, ''),\n",
              "  Text(0, 0, ''),\n",
              "  Text(0, 0, ''),\n",
              "  Text(0, 0, ''),\n",
              "  Text(0, 0, ''),\n",
              "  Text(0, 0, ''),\n",
              "  Text(0, 0, '')])"
            ]
          },
          "execution_count": 15,
          "metadata": {},
          "output_type": "execute_result"
        },
        {
          "data": {
            "image/png": "[encoded data removed]",
            "text/plain": [
              "<Figure size 432x288 with 1 Axes>"
            ]
          },
          "metadata": {
            "needs_background": "light"
          },
          "output_type": "display_data"
        }
      ],
      "source": [
        "plt.hist(users['city'], color = 'blue', edgecolor = 'black', bins = 8)\n",
        "plt.title('Гистограмма распределения пользователей по городам')\n",
        "plt.xlabel('Города')\n",
        "plt.ylabel('Кол-во пользователей')\n",
        "plt.xticks(rotation=45)"
      ]
    },
    {
      "cell_type": "code",
      "execution_count": null,
      "id": "7524b452",
      "metadata": {
        "id": "7524b452",
        "outputId": "2dfc528f-9bbc-4488-db64-4b4fe5c71bad"
      },
      "outputs": [
        {
          "data": {
            "image/png": "[encoded data removed]",
            "text/plain": [
              "<Figure size 576x576 with 1 Axes>"
            ]
          },
          "metadata": {
            "needs_background": "light"
          },
          "output_type": "display_data"
        }
      ],
      "source": [
        "users_month_pivot_table = pd.pivot_table(users,\n",
        "                                         index='city',\n",
        "                                         values=['user_id'],\n",
        "                                         aggfunc='count').sort_values(by='user_id', ascending=True)\n",
        "users_month_pivot_table.plot(kind='barh', grid=True, figsize=(8, 8))\n",
        "plt.title('Гистограмма распределения пользователей по городам')\n",
        "plt.xlabel('Кол-во пользователей')\n",
        "plt.ylabel('Города')\n",
        "plt.grid()\n",
        "plt.show()"
      ]
    },
    {
      "cell_type": "code",
      "execution_count": null,
      "id": "1ae520e2",
      "metadata": {
        "id": "1ae520e2",
        "outputId": "1d2f62f5-d7ca-40a5-cbea-cc096b23b5d8"
      },
      "outputs": [
        {
          "data": {
            "image/png": "[encoded data removed]",
            "text/plain": [
              "<Figure size 576x576 with 1 Axes>"
            ]
          },
          "metadata": {
            "needs_background": "light"
          },
          "output_type": "display_data"
        }
      ],
      "source": [
        "# Группируем по городам и считаем количество пользователей\n",
        "users_by_city = users['city'].value_counts().sort_values(ascending=True)\n",
        "\n",
        "# Построение горизонтальной гистограммы\n",
        "ax = users_by_city.plot(kind='barh', grid=True, figsize=(8, 8), color='skyblue')\n",
        "\n",
        "# Добавление значений столбцов в подписи\n",
        "for i, value in enumerate(users_by_city):\n",
        "    ax.text(value, i, f'{value}', va='center', ha='left', fontsize=10)\n",
        "\n",
        "# Настройка графика\n",
        "plt.title('Гистограмма распределения пользователей по городам')\n",
        "plt.xlabel('Кол-во пользователей')\n",
        "plt.ylabel('Города')\n",
        "plt.grid()\n",
        "plt.show()"
      ]
    },
    {
      "cell_type": "code",
      "execution_count": null,
      "id": "f0aaa409",
      "metadata": {
        "id": "f0aaa409"
      },
      "outputs": [],
      "source": [
        "#3.2 изучим соотношение пользователей с подпиской и без подписки"
      ]
    },
    {
      "cell_type": "code",
      "execution_count": null,
      "id": "a8303ec4",
      "metadata": {
        "id": "a8303ec4",
        "outputId": "826c4a9f-8bb9-4846-b19c-7b4c1740dfb7"
      },
      "outputs": [
        {
          "data": {
            "text/plain": [
              "free     835\n",
              "ultra    699\n",
              "Name: subscription_type, dtype: int64"
            ]
          },
          "metadata": {},
          "output_type": "display_data"
        },
        {
          "data": {
            "image/png": "[encoded data removed]",
            "text/plain": [
              "<Figure size 432x288 with 1 Axes>"
            ]
          },
          "metadata": {
            "needs_background": "light"
          },
          "output_type": "display_data"
        }
      ],
      "source": [
        "#изучим виды подписок у пользователей\n",
        "\n",
        "display (users['subscription_type'].value_counts())\n",
        "plt.hist(users['subscription_type'], color = 'blue', edgecolor = 'black')\n",
        "\n",
        "plt.title('Гистограмма распределения подписок у пользователей')\n",
        "plt.xlabel('Вид подписки')\n",
        "plt.ylabel('Кол-во подписок, в шт.')\n",
        "plt.grid()\n",
        "plt.show()"
      ]
    },
    {
      "cell_type": "markdown",
      "id": "6914cf2d",
      "metadata": {
        "id": "6914cf2d"
      },
      "source": [
        "Пользователей с подпиской free больше, чем пользователей с подпиской ultra на 136"
      ]
    },
    {
      "cell_type": "code",
      "execution_count": null,
      "id": "ab4b88a7",
      "metadata": {
        "id": "ab4b88a7",
        "outputId": "4e00044e-a383-4b3b-c1c8-f82821b19d24"
      },
      "outputs": [
        {
          "data": {
            "image/png": "[encoded data removed]",
            "text/plain": [
              "<Figure size 360x360 with 1 Axes>"
            ]
          },
          "metadata": {},
          "output_type": "display_data"
        }
      ],
      "source": [
        "#строим круговую диаграмму распределения пользователей по городам\n",
        "users['subscription_type'].value_counts().plot(kind = 'pie', y = users['city'].value_counts(),\n",
        "                                  autopct = '%1.0f%%', figsize=(5,5), ylabel = 'Доли',  colors = [\"#ff9999\", \"#66b3ff\"],\n",
        "                                  title = 'Диаграмма распределения пользователей по подпискам, в %');\n"
      ]
    },
    {
      "cell_type": "code",
      "execution_count": null,
      "id": "9fb00cad",
      "metadata": {
        "id": "9fb00cad"
      },
      "outputs": [],
      "source": [
        "# 3.3 изучим возраст пользователей"
      ]
    },
    {
      "cell_type": "code",
      "execution_count": null,
      "id": "8fe5de74",
      "metadata": {
        "id": "8fe5de74",
        "outputId": "5ed4a687-1322-4825-dde1-3542ac6ad418"
      },
      "outputs": [
        {
          "data": {
            "image/png": "[encoded data removed]",
            "text/plain": [
              "<Figure size 432x288 with 1 Axes>"
            ]
          },
          "metadata": {
            "needs_background": "light"
          },
          "output_type": "display_data"
        },
        {
          "data": {
            "text/plain": [
              "count   1,534.0\n",
              "mean       24.9\n",
              "std         4.6\n",
              "min        12.0\n",
              "25%        22.0\n",
              "50%        25.0\n",
              "75%        28.0\n",
              "max        43.0\n",
              "Name: age, dtype: float64"
            ]
          },
          "execution_count": 21,
          "metadata": {},
          "output_type": "execute_result"
        }
      ],
      "source": [
        "#Построим гистограмму распределения пользователей по возрасту\n",
        "plt.hist(users['age'], color = 'blue', edgecolor = 'black', bins = 45)\n",
        "plt.title('Диаграмма распределения пользователей по возрасту')\n",
        "plt.xlabel('Возраст, в годах')\n",
        "plt.ylabel('Кол-во пользователей')\n",
        "plt.grid()\n",
        "plt.show()\n",
        "users['age'].describe()"
      ]
    },
    {
      "cell_type": "markdown",
      "id": "dec8a878",
      "metadata": {
        "id": "dec8a878"
      },
      "source": [
        "Распределение выглядит нормально. Медианный возраст - 25 лет, средний -25, минимальный-12, максимальный - 43  \n",
        "  \n",
        "Посмотрим, есть ли аномалии/выбросы"
      ]
    },
    {
      "cell_type": "code",
      "execution_count": null,
      "id": "92b88080",
      "metadata": {
        "id": "92b88080",
        "outputId": "185bbaed-e288-4f0e-9714-75c223c127d3"
      },
      "outputs": [
        {
          "data": {
            "image/png": "[encoded data removed]",
            "text/plain": [
              "<Figure size 432x288 with 1 Axes>"
            ]
          },
          "metadata": {
            "needs_background": "light"
          },
          "output_type": "display_data"
        }
      ],
      "source": [
        "#построим график размаха по возрасту\n",
        "plt.boxplot(users['age'])\n",
        "plt.show()"
      ]
    },
    {
      "cell_type": "markdown",
      "id": "cb246700",
      "metadata": {
        "id": "cb246700"
      },
      "source": [
        "Выбросы найдены - значения: 12 лет и старше 37. Пока не понятно, нужно ли их удалять или нет. Предроложу, что если данных по возрасту будет очень много, то их удуление приведет к пропущенным значениям при объединении датосетов на следующих этапах анализа."
      ]
    },
    {
      "cell_type": "code",
      "execution_count": null,
      "id": "c58702b1",
      "metadata": {
        "id": "c58702b1"
      },
      "outputs": [],
      "source": [
        "#удалим некорректные данные\n",
        "#users['age'] = users['age'].drop(users[users['age'] > 37].index, axis=0)\n",
        "#users['age'] = users['age'].drop(users[users['age'] == 12].index, axis=0)\n",
        "\n",
        "#проверим, устранены ли выбросы\n",
        "#users['age'].describe()"
      ]
    },
    {
      "cell_type": "markdown",
      "id": "7cfac87a",
      "metadata": {
        "id": "7cfac87a"
      },
      "source": [
        "Чаще всего пользователи пользуются подпиской free, чем ultra."
      ]
    },
    {
      "cell_type": "code",
      "execution_count": null,
      "id": "dcf2498e",
      "metadata": {
        "id": "dcf2498e",
        "outputId": "b7b9a86b-f11a-48f8-a686-238148b9a71a"
      },
      "outputs": [
        {
          "data": {
            "text/plain": [
              "741.5      1\n",
              "4,158.2    1\n",
              "3,672.1    1\n",
              "4,533.0    1\n",
              "2,437.3    1\n",
              "          ..\n",
              "2,949.5    1\n",
              "3,289.9    1\n",
              "3,047.6    1\n",
              "2,931.7    1\n",
              "4,031.9    1\n",
              "Name: distance, Length: 18068, dtype: int64"
            ]
          },
          "metadata": {},
          "output_type": "display_data"
        },
        {
          "data": {
            "image/png": "[encoded data removed]",
            "text/plain": [
              "<Figure size 432x288 with 1 Axes>"
            ]
          },
          "metadata": {
            "needs_background": "light"
          },
          "output_type": "display_data"
        },
        {
          "data": {
            "text/plain": [
              "count   18,068.0\n",
              "mean     3,070.7\n",
              "std      1,116.8\n",
              "min          0.9\n",
              "25%      2,543.2\n",
              "50%      3,133.6\n",
              "75%      3,776.2\n",
              "max      7,211.0\n",
              "Name: distance, dtype: float64"
            ]
          },
          "execution_count": 24,
          "metadata": {},
          "output_type": "execute_result"
        }
      ],
      "source": [
        "#3.4 изучим расстояние, которое пользователь преодолел за одну поездку\n",
        "display (rides['distance'].value_counts())\n",
        "#построим гистограмму распределения дистанций\n",
        "plt.hist(rides['distance'], color = 'blue', edgecolor = 'black', bins = 100)\n",
        "plt.title('Гистограмма распределения дистанций')\n",
        "plt.xlabel('Дистанция, в метрах')\n",
        "plt.ylabel('Кол-во сессий')\n",
        "plt.grid()\n",
        "plt.show()\n",
        "rides['distance'].describe()"
      ]
    },
    {
      "cell_type": "markdown",
      "id": "55b43041",
      "metadata": {
        "id": "55b43041"
      },
      "source": [
        "График распределения по дистанции выглядит нормально. Гистограмма имеет 2 вершины.  \n",
        "Среднее значение дистанций -3070 м, медиана - 3134 м. Минимальная дистанция 0.85 м., максимальная - почти 7211м."
      ]
    },
    {
      "cell_type": "code",
      "execution_count": null,
      "id": "fafbd8d2",
      "metadata": {
        "id": "fafbd8d2",
        "outputId": "18195f43-0c8c-4985-bd88-0f29784a25c6"
      },
      "outputs": [
        {
          "data": {
            "image/png": "[encoded data removed]",
            "text/plain": [
              "<Figure size 432x288 with 1 Axes>"
            ]
          },
          "metadata": {
            "needs_background": "light"
          },
          "output_type": "display_data"
        }
      ],
      "source": [
        "#построим график размаха по дистанции, чтобы выявить выбросы/аномалии\n",
        "plt.boxplot(rides['distance'])\n",
        "plt.show()"
      ]
    },
    {
      "cell_type": "markdown",
      "id": "bdff3a56",
      "metadata": {
        "id": "bdff3a56"
      },
      "source": [
        "По графику размаха выбросы визуализируются - это значения более 5500м. и менее 800 м. Но значений таких много, если их удалить, то это может исказить данные исследования."
      ]
    },
    {
      "cell_type": "code",
      "execution_count": null,
      "id": "680a19cf",
      "metadata": {
        "id": "680a19cf"
      },
      "outputs": [],
      "source": [
        "#удалим некорректные данные\n",
        "#rides['distance'] = rides['distance'].drop(rides[rides['distance'] > 5500].index, axis=0)\n",
        "#rides['distance'] = rides['distance'].drop(rides[rides['distance'] < 800].index, axis=0)\n",
        "\n",
        "#проверим, устранены ли выбросы\n",
        "#rides['distance'].describe()"
      ]
    },
    {
      "cell_type": "code",
      "execution_count": null,
      "id": "f491a0e0",
      "metadata": {
        "id": "f491a0e0",
        "outputId": "6e0b7c76-02c0-4b71-8be2-058e96a3be0d"
      },
      "outputs": [
        {
          "data": {
            "image/png": "[encoded data removed]",
            "text/plain": [
              "<Figure size 432x288 with 1 Axes>"
            ]
          },
          "metadata": {
            "needs_background": "light"
          },
          "output_type": "display_data"
        },
        {
          "data": {
            "text/plain": [
              "count   18,068.0\n",
              "mean        17.8\n",
              "std          6.1\n",
              "min          0.5\n",
              "25%         13.6\n",
              "50%         17.7\n",
              "75%         21.7\n",
              "max         40.8\n",
              "Name: duration, dtype: float64"
            ]
          },
          "execution_count": 27,
          "metadata": {},
          "output_type": "execute_result"
        }
      ],
      "source": [
        "#3.5 исследуем продолжительность поездок\n",
        "plt.hist(rides['duration'], color = 'blue', edgecolor = 'black', bins = 100)\n",
        "plt.title('Гистограмма распределения длительности поездок, в мин.')\n",
        "plt.xlabel('Длительность поездок, в мин.')\n",
        "plt.ylabel('Кол-во поездок')\n",
        "plt.grid()\n",
        "plt.show()\n",
        "rides['duration'].describe()"
      ]
    },
    {
      "cell_type": "markdown",
      "id": "96ef83cc",
      "metadata": {
        "id": "96ef83cc"
      },
      "source": [
        "На графике заметен пик в районе 0.5 минут. И данные текущей гистограммы подтверждаются данными предыдущей гистограмы с дистанциями - значения близкие к 1 метру. Т.е. поездка закончилась, не успев начаться. Кол-во таких поездок около 100. Возможно такие данные связаны с техническими сбоями в момент начала поездки.  \n",
        "Медианное и среднее значение длительности поездок - почти 18 минут. Минимальное время - 0.5 минуты, максимальное почти 41."
      ]
    },
    {
      "cell_type": "code",
      "execution_count": null,
      "id": "e108cad7",
      "metadata": {
        "id": "e108cad7",
        "outputId": "889db6c4-0e2a-4592-8e57-1ab3a14d2740"
      },
      "outputs": [
        {
          "data": {
            "image/png": "[encoded data removed]",
            "text/plain": [
              "<Figure size 432x288 with 1 Axes>"
            ]
          },
          "metadata": {
            "needs_background": "light"
          },
          "output_type": "display_data"
        }
      ],
      "source": [
        "#построим график размаха по дистанции, чтобы выявить выбросы/аномалии\n",
        "plt.boxplot(rides['duration'])\n",
        "plt.show()"
      ]
    },
    {
      "cell_type": "markdown",
      "id": "e1cd0a1c",
      "metadata": {
        "id": "e1cd0a1c"
      },
      "source": [
        "Выбросы по длительности также визуализируются, это значения меньше 1 минуты и дольше 33 минут. Удалять значения не будем, т.к. данные корректные."
      ]
    },
    {
      "cell_type": "code",
      "execution_count": null,
      "id": "ab32d526",
      "metadata": {
        "id": "ab32d526"
      },
      "outputs": [],
      "source": [
        "#удалим некорректные данные\n",
        "#rides['duration'] = rides['duration'].drop(rides[rides['duration'] > 33].index, axis=0)\n",
        "#rides['duration'] = rides['duration'].drop(rides[rides['duration'] < 1].index, axis=0)\n",
        "#проверим, устранены ли выбросы\n",
        "#rides['duration'].describe()"
      ]
    },
    {
      "cell_type": "code",
      "execution_count": null,
      "id": "90f64c55",
      "metadata": {
        "id": "90f64c55",
        "outputId": "d51f5cc2-9817-463b-e707-b774f76e1344"
      },
      "outputs": [
        {
          "data": {
            "text/plain": [
              "Text(0, 0.5, 'Кол-во поездок')"
            ]
          },
          "execution_count": 30,
          "metadata": {},
          "output_type": "execute_result"
        },
        {
          "data": {
            "image/png": "[encoded data removed]",
            "text/plain": [
              "<Figure size 432x288 with 1 Axes>"
            ]
          },
          "metadata": {
            "needs_background": "light"
          },
          "output_type": "display_data"
        }
      ],
      "source": [
        "#3.6. исследуем распределение поездок по месяцам\n",
        "plt.hist(rides['month'], color = 'blue', edgecolor = 'black', bins = 12)\n",
        "plt.title('Гистограмма распределения поездок по месяцам')\n",
        "plt.xlabel('Месяц')\n",
        "plt.ylabel('Кол-во поездок')"
      ]
    },
    {
      "cell_type": "markdown",
      "id": "56ded210",
      "metadata": {
        "id": "56ded210"
      },
      "source": [
        "Чаще всего сервисом пользуются в январе (что странно, т.к. не сезон), реже - в феврале (цифры меньше, возможно из-за того, что февраль короткий)"
      ]
    },
    {
      "cell_type": "markdown",
      "id": "fb17304e",
      "metadata": {
        "id": "fb17304e"
      },
      "source": [
        "**Выводы:**  \n",
        "В ходе предобработки данных были проанализированы два датасета.  \n",
        "\n",
        "Обнаружены и устранены дубликаты в первом датасете (Users).   \n",
        "Медианный и средний возраст по 25 лет. Минимальный возраст 13 лет, максимальный - 43.  \n",
        "Пользователи в датасете из 8 городов, больше всего пользователей из Пятигорска, меньше всего из Москвы (разница 3%).  \n",
        "Чаще всего пользователи пользуются подпиской free, чем ultra.\n",
        "  \n",
        "Во втором датасете (Rides) были исследованы продолжительность поездок и пройденная дистанция.  \n",
        "Среднее значение дистанций -3070 м, медиана - 3134 м. Минимальная дистанция 0.85 м., максимальная - почти 7211м.  \n",
        "Медианное и среднее значение длительности поездок - почти 18 минут. Минимальное время - 0.5 минуты, максимальное почти 41.\n",
        "В датасет был добавлен новый столбец: месяцы. В ходе изучения данных выяснилось, что данные представлены за 2021год.  \n",
        "Чаще всего сервисом пользуются в январе (что странно, т.к. не сезон), реже - в феврале (цифры меньше, возможно из-за того, что февраль короткий).\n",
        "В третьем датасете представлена общая информация о параметрах Подписок - free и ultra (стоимость минуты, старта и ежемесячной платы)."
      ]
    },
    {
      "cell_type": "markdown",
      "id": "4ef51331",
      "metadata": {
        "id": "4ef51331"
      },
      "source": [
        "#### Шаг 4. Объединение данных"
      ]
    },
    {
      "cell_type": "markdown",
      "id": "73419d7f",
      "metadata": {
        "id": "73419d7f"
      },
      "source": [
        "4.1 Объединим данные о пользователях, поездках и подписках в один датафрейм"
      ]
    },
    {
      "cell_type": "markdown",
      "id": "4522aabd",
      "metadata": {
        "id": "4522aabd"
      },
      "source": [
        "Для того чтобы найти зависимости в данных используем сводные таблицы."
      ]
    },
    {
      "cell_type": "code",
      "execution_count": null,
      "id": "818d3e90",
      "metadata": {
        "id": "818d3e90",
        "outputId": "20d03f59-0dc9-4ee4-efb0-ea06cba5e26c"
      },
      "outputs": [
        {
          "data": {
            "text/html": [
              "<div>\n",
              "<style scoped>\n",
              "    .dataframe tbody tr th:only-of-type {\n",
              "        vertical-align: middle;\n",
              "    }\n",
              "\n",
              "    .dataframe tbody tr th {\n",
              "        vertical-align: top;\n",
              "    }\n",
              "\n",
              "    .dataframe thead th {\n",
              "        text-align: right;\n",
              "    }\n",
              "</style>\n",
              "<table border=\"1\" class=\"dataframe\">\n",
              "  <thead>\n",
              "    <tr style=\"text-align: right;\">\n",
              "      <th></th>\n",
              "      <th>user_id</th>\n",
              "      <th>name</th>\n",
              "      <th>age</th>\n",
              "      <th>city</th>\n",
              "      <th>subscription_type</th>\n",
              "      <th>distance</th>\n",
              "      <th>duration</th>\n",
              "      <th>date</th>\n",
              "      <th>month</th>\n",
              "      <th>minute_price</th>\n",
              "      <th>start_ride_price</th>\n",
              "      <th>subscription_fee</th>\n",
              "    </tr>\n",
              "  </thead>\n",
              "  <tbody>\n",
              "    <tr>\n",
              "      <th>0</th>\n",
              "      <td>1</td>\n",
              "      <td>Кира</td>\n",
              "      <td>22</td>\n",
              "      <td>Тюмень</td>\n",
              "      <td>ultra</td>\n",
              "      <td>4,409.9</td>\n",
              "      <td>25.6</td>\n",
              "      <td>2021-01-01</td>\n",
              "      <td>1</td>\n",
              "      <td>6</td>\n",
              "      <td>0</td>\n",
              "      <td>199</td>\n",
              "    </tr>\n",
              "    <tr>\n",
              "      <th>1</th>\n",
              "      <td>1</td>\n",
              "      <td>Кира</td>\n",
              "      <td>22</td>\n",
              "      <td>Тюмень</td>\n",
              "      <td>ultra</td>\n",
              "      <td>2,617.6</td>\n",
              "      <td>15.8</td>\n",
              "      <td>2021-01-18</td>\n",
              "      <td>1</td>\n",
              "      <td>6</td>\n",
              "      <td>0</td>\n",
              "      <td>199</td>\n",
              "    </tr>\n",
              "    <tr>\n",
              "      <th>2</th>\n",
              "      <td>1</td>\n",
              "      <td>Кира</td>\n",
              "      <td>22</td>\n",
              "      <td>Тюмень</td>\n",
              "      <td>ultra</td>\n",
              "      <td>754.2</td>\n",
              "      <td>6.2</td>\n",
              "      <td>2021-04-20</td>\n",
              "      <td>4</td>\n",
              "      <td>6</td>\n",
              "      <td>0</td>\n",
              "      <td>199</td>\n",
              "    </tr>\n",
              "    <tr>\n",
              "      <th>3</th>\n",
              "      <td>1</td>\n",
              "      <td>Кира</td>\n",
              "      <td>22</td>\n",
              "      <td>Тюмень</td>\n",
              "      <td>ultra</td>\n",
              "      <td>2,694.8</td>\n",
              "      <td>18.5</td>\n",
              "      <td>2021-08-11</td>\n",
              "      <td>8</td>\n",
              "      <td>6</td>\n",
              "      <td>0</td>\n",
              "      <td>199</td>\n",
              "    </tr>\n",
              "    <tr>\n",
              "      <th>4</th>\n",
              "      <td>1</td>\n",
              "      <td>Кира</td>\n",
              "      <td>22</td>\n",
              "      <td>Тюмень</td>\n",
              "      <td>ultra</td>\n",
              "      <td>4,028.7</td>\n",
              "      <td>26.3</td>\n",
              "      <td>2021-08-28</td>\n",
              "      <td>8</td>\n",
              "      <td>6</td>\n",
              "      <td>0</td>\n",
              "      <td>199</td>\n",
              "    </tr>\n",
              "    <tr>\n",
              "      <th>...</th>\n",
              "      <td>...</td>\n",
              "      <td>...</td>\n",
              "      <td>...</td>\n",
              "      <td>...</td>\n",
              "      <td>...</td>\n",
              "      <td>...</td>\n",
              "      <td>...</td>\n",
              "      <td>...</td>\n",
              "      <td>...</td>\n",
              "      <td>...</td>\n",
              "      <td>...</td>\n",
              "      <td>...</td>\n",
              "    </tr>\n",
              "    <tr>\n",
              "      <th>18063</th>\n",
              "      <td>1534</td>\n",
              "      <td>Альберт</td>\n",
              "      <td>25</td>\n",
              "      <td>Краснодар</td>\n",
              "      <td>free</td>\n",
              "      <td>3,781.1</td>\n",
              "      <td>19.8</td>\n",
              "      <td>2021-11-04</td>\n",
              "      <td>11</td>\n",
              "      <td>8</td>\n",
              "      <td>50</td>\n",
              "      <td>0</td>\n",
              "    </tr>\n",
              "    <tr>\n",
              "      <th>18064</th>\n",
              "      <td>1534</td>\n",
              "      <td>Альберт</td>\n",
              "      <td>25</td>\n",
              "      <td>Краснодар</td>\n",
              "      <td>free</td>\n",
              "      <td>2,840.4</td>\n",
              "      <td>21.4</td>\n",
              "      <td>2021-11-16</td>\n",
              "      <td>11</td>\n",
              "      <td>8</td>\n",
              "      <td>50</td>\n",
              "      <td>0</td>\n",
              "    </tr>\n",
              "    <tr>\n",
              "      <th>18065</th>\n",
              "      <td>1534</td>\n",
              "      <td>Альберт</td>\n",
              "      <td>25</td>\n",
              "      <td>Краснодар</td>\n",
              "      <td>free</td>\n",
              "      <td>3,826.2</td>\n",
              "      <td>18.4</td>\n",
              "      <td>2021-11-18</td>\n",
              "      <td>11</td>\n",
              "      <td>8</td>\n",
              "      <td>50</td>\n",
              "      <td>0</td>\n",
              "    </tr>\n",
              "    <tr>\n",
              "      <th>18066</th>\n",
              "      <td>1534</td>\n",
              "      <td>Альберт</td>\n",
              "      <td>25</td>\n",
              "      <td>Краснодар</td>\n",
              "      <td>free</td>\n",
              "      <td>2,902.3</td>\n",
              "      <td>16.7</td>\n",
              "      <td>2021-11-27</td>\n",
              "      <td>11</td>\n",
              "      <td>8</td>\n",
              "      <td>50</td>\n",
              "      <td>0</td>\n",
              "    </tr>\n",
              "    <tr>\n",
              "      <th>18067</th>\n",
              "      <td>1534</td>\n",
              "      <td>Альберт</td>\n",
              "      <td>25</td>\n",
              "      <td>Краснодар</td>\n",
              "      <td>free</td>\n",
              "      <td>2,371.7</td>\n",
              "      <td>15.9</td>\n",
              "      <td>2021-12-29</td>\n",
              "      <td>12</td>\n",
              "      <td>8</td>\n",
              "      <td>50</td>\n",
              "      <td>0</td>\n",
              "    </tr>\n",
              "  </tbody>\n",
              "</table>\n",
              "<p>18068 rows × 12 columns</p>\n",
              "</div>"
            ],
            "text/plain": [
              "       user_id     name  age       city subscription_type  distance  duration  \\\n",
              "0            1     Кира   22     Тюмень             ultra   4,409.9      25.6   \n",
              "1            1     Кира   22     Тюмень             ultra   2,617.6      15.8   \n",
              "2            1     Кира   22     Тюмень             ultra     754.2       6.2   \n",
              "3            1     Кира   22     Тюмень             ultra   2,694.8      18.5   \n",
              "4            1     Кира   22     Тюмень             ultra   4,028.7      26.3   \n",
              "...        ...      ...  ...        ...               ...       ...       ...   \n",
              "18063     1534  Альберт   25  Краснодар              free   3,781.1      19.8   \n",
              "18064     1534  Альберт   25  Краснодар              free   2,840.4      21.4   \n",
              "18065     1534  Альберт   25  Краснодар              free   3,826.2      18.4   \n",
              "18066     1534  Альберт   25  Краснодар              free   2,902.3      16.7   \n",
              "18067     1534  Альберт   25  Краснодар              free   2,371.7      15.9   \n",
              "\n",
              "            date  month  minute_price  start_ride_price  subscription_fee  \n",
              "0     2021-01-01      1             6                 0               199  \n",
              "1     2021-01-18      1             6                 0               199  \n",
              "2     2021-04-20      4             6                 0               199  \n",
              "3     2021-08-11      8             6                 0               199  \n",
              "4     2021-08-28      8             6                 0               199  \n",
              "...          ...    ...           ...               ...               ...  \n",
              "18063 2021-11-04     11             8                50                 0  \n",
              "18064 2021-11-16     11             8                50                 0  \n",
              "18065 2021-11-18     11             8                50                 0  \n",
              "18066 2021-11-27     11             8                50                 0  \n",
              "18067 2021-12-29     12             8                50                 0  \n",
              "\n",
              "[18068 rows x 12 columns]"
            ]
          },
          "metadata": {},
          "output_type": "display_data"
        },
        {
          "name": "stdout",
          "output_type": "stream",
          "text": [
            "<class 'pandas.core.frame.DataFrame'>\n",
            "Int64Index: 18068 entries, 0 to 18067\n",
            "Data columns (total 12 columns):\n",
            " #   Column             Non-Null Count  Dtype         \n",
            "---  ------             --------------  -----         \n",
            " 0   user_id            18068 non-null  int64         \n",
            " 1   name               18068 non-null  object        \n",
            " 2   age                18068 non-null  int64         \n",
            " 3   city               18068 non-null  object        \n",
            " 4   subscription_type  18068 non-null  object        \n",
            " 5   distance           18068 non-null  float64       \n",
            " 6   duration           18068 non-null  float64       \n",
            " 7   date               18068 non-null  datetime64[ns]\n",
            " 8   month              18068 non-null  int64         \n",
            " 9   minute_price       18068 non-null  int64         \n",
            " 10  start_ride_price   18068 non-null  int64         \n",
            " 11  subscription_fee   18068 non-null  int64         \n",
            "dtypes: datetime64[ns](1), float64(2), int64(6), object(3)\n",
            "memory usage: 1.8+ MB\n"
          ]
        },
        {
          "data": {
            "text/html": [
              "<div>\n",
              "<style scoped>\n",
              "    .dataframe tbody tr th:only-of-type {\n",
              "        vertical-align: middle;\n",
              "    }\n",
              "\n",
              "    .dataframe tbody tr th {\n",
              "        vertical-align: top;\n",
              "    }\n",
              "\n",
              "    .dataframe thead th {\n",
              "        text-align: right;\n",
              "    }\n",
              "</style>\n",
              "<table border=\"1\" class=\"dataframe\">\n",
              "  <thead>\n",
              "    <tr style=\"text-align: right;\">\n",
              "      <th></th>\n",
              "      <th>user_id</th>\n",
              "      <th>age</th>\n",
              "      <th>distance</th>\n",
              "      <th>duration</th>\n",
              "      <th>month</th>\n",
              "      <th>minute_price</th>\n",
              "      <th>start_ride_price</th>\n",
              "      <th>subscription_fee</th>\n",
              "    </tr>\n",
              "  </thead>\n",
              "  <tbody>\n",
              "    <tr>\n",
              "      <th>count</th>\n",
              "      <td>18,068.0</td>\n",
              "      <td>18,068.0</td>\n",
              "      <td>18,068.0</td>\n",
              "      <td>18,068.0</td>\n",
              "      <td>18,068.0</td>\n",
              "      <td>18,068.0</td>\n",
              "      <td>18,068.0</td>\n",
              "      <td>18,068.0</td>\n",
              "    </tr>\n",
              "    <tr>\n",
              "      <th>mean</th>\n",
              "      <td>842.9</td>\n",
              "      <td>24.9</td>\n",
              "      <td>3,070.7</td>\n",
              "      <td>17.8</td>\n",
              "      <td>6.5</td>\n",
              "      <td>7.3</td>\n",
              "      <td>32.0</td>\n",
              "      <td>71.6</td>\n",
              "    </tr>\n",
              "    <tr>\n",
              "      <th>std</th>\n",
              "      <td>434.7</td>\n",
              "      <td>4.6</td>\n",
              "      <td>1,116.8</td>\n",
              "      <td>6.1</td>\n",
              "      <td>3.4</td>\n",
              "      <td>1.0</td>\n",
              "      <td>24.0</td>\n",
              "      <td>95.5</td>\n",
              "    </tr>\n",
              "    <tr>\n",
              "      <th>min</th>\n",
              "      <td>1.0</td>\n",
              "      <td>12.0</td>\n",
              "      <td>0.9</td>\n",
              "      <td>0.5</td>\n",
              "      <td>1.0</td>\n",
              "      <td>6.0</td>\n",
              "      <td>0.0</td>\n",
              "      <td>0.0</td>\n",
              "    </tr>\n",
              "    <tr>\n",
              "      <th>25%</th>\n",
              "      <td>487.0</td>\n",
              "      <td>22.0</td>\n",
              "      <td>2,543.2</td>\n",
              "      <td>13.6</td>\n",
              "      <td>4.0</td>\n",
              "      <td>6.0</td>\n",
              "      <td>0.0</td>\n",
              "      <td>0.0</td>\n",
              "    </tr>\n",
              "    <tr>\n",
              "      <th>50%</th>\n",
              "      <td>889.0</td>\n",
              "      <td>25.0</td>\n",
              "      <td>3,133.6</td>\n",
              "      <td>17.7</td>\n",
              "      <td>6.0</td>\n",
              "      <td>8.0</td>\n",
              "      <td>50.0</td>\n",
              "      <td>0.0</td>\n",
              "    </tr>\n",
              "    <tr>\n",
              "      <th>75%</th>\n",
              "      <td>1,213.2</td>\n",
              "      <td>28.0</td>\n",
              "      <td>3,776.2</td>\n",
              "      <td>21.7</td>\n",
              "      <td>9.0</td>\n",
              "      <td>8.0</td>\n",
              "      <td>50.0</td>\n",
              "      <td>199.0</td>\n",
              "    </tr>\n",
              "    <tr>\n",
              "      <th>max</th>\n",
              "      <td>1,534.0</td>\n",
              "      <td>43.0</td>\n",
              "      <td>7,211.0</td>\n",
              "      <td>40.8</td>\n",
              "      <td>12.0</td>\n",
              "      <td>8.0</td>\n",
              "      <td>50.0</td>\n",
              "      <td>199.0</td>\n",
              "    </tr>\n",
              "  </tbody>\n",
              "</table>\n",
              "</div>"
            ],
            "text/plain": [
              "       user_id      age  distance  duration    month  minute_price  \\\n",
              "count 18,068.0 18,068.0  18,068.0  18,068.0 18,068.0      18,068.0   \n",
              "mean     842.9     24.9   3,070.7      17.8      6.5           7.3   \n",
              "std      434.7      4.6   1,116.8       6.1      3.4           1.0   \n",
              "min        1.0     12.0       0.9       0.5      1.0           6.0   \n",
              "25%      487.0     22.0   2,543.2      13.6      4.0           6.0   \n",
              "50%      889.0     25.0   3,133.6      17.7      6.0           8.0   \n",
              "75%    1,213.2     28.0   3,776.2      21.7      9.0           8.0   \n",
              "max    1,534.0     43.0   7,211.0      40.8     12.0           8.0   \n",
              "\n",
              "       start_ride_price  subscription_fee  \n",
              "count          18,068.0          18,068.0  \n",
              "mean               32.0              71.6  \n",
              "std                24.0              95.5  \n",
              "min                 0.0               0.0  \n",
              "25%                 0.0               0.0  \n",
              "50%                50.0               0.0  \n",
              "75%                50.0             199.0  \n",
              "max                50.0             199.0  "
            ]
          },
          "execution_count": 31,
          "metadata": {},
          "output_type": "execute_result"
        }
      ],
      "source": [
        "all_pivot_table = users.merge(rides)\n",
        "all_pivot_table = all_pivot_table.merge(subscriptions)\n",
        "display (all_pivot_table)\n",
        "all_pivot_table.info()\n",
        "all_pivot_table.describe()"
      ]
    },
    {
      "cell_type": "markdown",
      "id": "1eaf1a93",
      "metadata": {
        "id": "1eaf1a93"
      },
      "source": [
        "4.2 Создадим два датафрейма из объединенной таблицы, созданной на предыдущем этапе:"
      ]
    },
    {
      "cell_type": "code",
      "execution_count": null,
      "id": "458f8ca5",
      "metadata": {
        "id": "458f8ca5",
        "outputId": "b48cbb94-6ef6-42d1-af9c-30a0ba13eb39"
      },
      "outputs": [
        {
          "data": {
            "text/html": [
              "<div>\n",
              "<style scoped>\n",
              "    .dataframe tbody tr th:only-of-type {\n",
              "        vertical-align: middle;\n",
              "    }\n",
              "\n",
              "    .dataframe tbody tr th {\n",
              "        vertical-align: top;\n",
              "    }\n",
              "\n",
              "    .dataframe thead th {\n",
              "        text-align: right;\n",
              "    }\n",
              "</style>\n",
              "<table border=\"1\" class=\"dataframe\">\n",
              "  <thead>\n",
              "    <tr style=\"text-align: right;\">\n",
              "      <th></th>\n",
              "      <th>user_id</th>\n",
              "      <th>name</th>\n",
              "      <th>age</th>\n",
              "      <th>city</th>\n",
              "      <th>subscription_type</th>\n",
              "      <th>distance</th>\n",
              "      <th>duration</th>\n",
              "      <th>date</th>\n",
              "      <th>month</th>\n",
              "      <th>minute_price</th>\n",
              "      <th>start_ride_price</th>\n",
              "      <th>subscription_fee</th>\n",
              "    </tr>\n",
              "  </thead>\n",
              "  <tbody>\n",
              "    <tr>\n",
              "      <th>6500</th>\n",
              "      <td>700</td>\n",
              "      <td>Айдар</td>\n",
              "      <td>22</td>\n",
              "      <td>Омск</td>\n",
              "      <td>free</td>\n",
              "      <td>2,515.7</td>\n",
              "      <td>14.9</td>\n",
              "      <td>2021-01-02</td>\n",
              "      <td>1</td>\n",
              "      <td>8</td>\n",
              "      <td>50</td>\n",
              "      <td>0</td>\n",
              "    </tr>\n",
              "    <tr>\n",
              "      <th>6501</th>\n",
              "      <td>700</td>\n",
              "      <td>Айдар</td>\n",
              "      <td>22</td>\n",
              "      <td>Омск</td>\n",
              "      <td>free</td>\n",
              "      <td>846.9</td>\n",
              "      <td>16.2</td>\n",
              "      <td>2021-02-01</td>\n",
              "      <td>2</td>\n",
              "      <td>8</td>\n",
              "      <td>50</td>\n",
              "      <td>0</td>\n",
              "    </tr>\n",
              "    <tr>\n",
              "      <th>6502</th>\n",
              "      <td>700</td>\n",
              "      <td>Айдар</td>\n",
              "      <td>22</td>\n",
              "      <td>Омск</td>\n",
              "      <td>free</td>\n",
              "      <td>4,004.4</td>\n",
              "      <td>20.0</td>\n",
              "      <td>2021-02-04</td>\n",
              "      <td>2</td>\n",
              "      <td>8</td>\n",
              "      <td>50</td>\n",
              "      <td>0</td>\n",
              "    </tr>\n",
              "    <tr>\n",
              "      <th>6503</th>\n",
              "      <td>700</td>\n",
              "      <td>Айдар</td>\n",
              "      <td>22</td>\n",
              "      <td>Омск</td>\n",
              "      <td>free</td>\n",
              "      <td>1,205.9</td>\n",
              "      <td>9.8</td>\n",
              "      <td>2021-02-10</td>\n",
              "      <td>2</td>\n",
              "      <td>8</td>\n",
              "      <td>50</td>\n",
              "      <td>0</td>\n",
              "    </tr>\n",
              "    <tr>\n",
              "      <th>6504</th>\n",
              "      <td>700</td>\n",
              "      <td>Айдар</td>\n",
              "      <td>22</td>\n",
              "      <td>Омск</td>\n",
              "      <td>free</td>\n",
              "      <td>3,047.4</td>\n",
              "      <td>17.4</td>\n",
              "      <td>2021-02-14</td>\n",
              "      <td>2</td>\n",
              "      <td>8</td>\n",
              "      <td>50</td>\n",
              "      <td>0</td>\n",
              "    </tr>\n",
              "    <tr>\n",
              "      <th>6505</th>\n",
              "      <td>700</td>\n",
              "      <td>Айдар</td>\n",
              "      <td>22</td>\n",
              "      <td>Омск</td>\n",
              "      <td>free</td>\n",
              "      <td>4,342.0</td>\n",
              "      <td>22.4</td>\n",
              "      <td>2021-02-23</td>\n",
              "      <td>2</td>\n",
              "      <td>8</td>\n",
              "      <td>50</td>\n",
              "      <td>0</td>\n",
              "    </tr>\n",
              "    <tr>\n",
              "      <th>6506</th>\n",
              "      <td>700</td>\n",
              "      <td>Айдар</td>\n",
              "      <td>22</td>\n",
              "      <td>Омск</td>\n",
              "      <td>free</td>\n",
              "      <td>3,798.3</td>\n",
              "      <td>18.2</td>\n",
              "      <td>2021-03-03</td>\n",
              "      <td>3</td>\n",
              "      <td>8</td>\n",
              "      <td>50</td>\n",
              "      <td>0</td>\n",
              "    </tr>\n",
              "    <tr>\n",
              "      <th>6507</th>\n",
              "      <td>700</td>\n",
              "      <td>Айдар</td>\n",
              "      <td>22</td>\n",
              "      <td>Омск</td>\n",
              "      <td>free</td>\n",
              "      <td>2,984.6</td>\n",
              "      <td>15.4</td>\n",
              "      <td>2021-04-09</td>\n",
              "      <td>4</td>\n",
              "      <td>8</td>\n",
              "      <td>50</td>\n",
              "      <td>0</td>\n",
              "    </tr>\n",
              "    <tr>\n",
              "      <th>6508</th>\n",
              "      <td>700</td>\n",
              "      <td>Айдар</td>\n",
              "      <td>22</td>\n",
              "      <td>Омск</td>\n",
              "      <td>free</td>\n",
              "      <td>3,360.1</td>\n",
              "      <td>16.8</td>\n",
              "      <td>2021-06-12</td>\n",
              "      <td>6</td>\n",
              "      <td>8</td>\n",
              "      <td>50</td>\n",
              "      <td>0</td>\n",
              "    </tr>\n",
              "    <tr>\n",
              "      <th>6509</th>\n",
              "      <td>700</td>\n",
              "      <td>Айдар</td>\n",
              "      <td>22</td>\n",
              "      <td>Омск</td>\n",
              "      <td>free</td>\n",
              "      <td>2,567.5</td>\n",
              "      <td>11.3</td>\n",
              "      <td>2021-06-23</td>\n",
              "      <td>6</td>\n",
              "      <td>8</td>\n",
              "      <td>50</td>\n",
              "      <td>0</td>\n",
              "    </tr>\n",
              "  </tbody>\n",
              "</table>\n",
              "</div>"
            ],
            "text/plain": [
              "      user_id   name  age  city subscription_type  distance  duration  \\\n",
              "6500      700  Айдар   22  Омск              free   2,515.7      14.9   \n",
              "6501      700  Айдар   22  Омск              free     846.9      16.2   \n",
              "6502      700  Айдар   22  Омск              free   4,004.4      20.0   \n",
              "6503      700  Айдар   22  Омск              free   1,205.9       9.8   \n",
              "6504      700  Айдар   22  Омск              free   3,047.4      17.4   \n",
              "6505      700  Айдар   22  Омск              free   4,342.0      22.4   \n",
              "6506      700  Айдар   22  Омск              free   3,798.3      18.2   \n",
              "6507      700  Айдар   22  Омск              free   2,984.6      15.4   \n",
              "6508      700  Айдар   22  Омск              free   3,360.1      16.8   \n",
              "6509      700  Айдар   22  Омск              free   2,567.5      11.3   \n",
              "\n",
              "           date  month  minute_price  start_ride_price  subscription_fee  \n",
              "6500 2021-01-02      1             8                50                 0  \n",
              "6501 2021-02-01      2             8                50                 0  \n",
              "6502 2021-02-04      2             8                50                 0  \n",
              "6503 2021-02-10      2             8                50                 0  \n",
              "6504 2021-02-14      2             8                50                 0  \n",
              "6505 2021-02-23      2             8                50                 0  \n",
              "6506 2021-03-03      3             8                50                 0  \n",
              "6507 2021-04-09      4             8                50                 0  \n",
              "6508 2021-06-12      6             8                50                 0  \n",
              "6509 2021-06-23      6             8                50                 0  "
            ]
          },
          "metadata": {},
          "output_type": "display_data"
        }
      ],
      "source": [
        "# создадим новый датафрейм c данными о пользователях без подписки - free;\n",
        "free_all_pivot_table = all_pivot_table.query(\"subscription_type == 'free'\")\n",
        "display (free_all_pivot_table.head(10))"
      ]
    },
    {
      "cell_type": "code",
      "execution_count": null,
      "id": "f4dbb752",
      "metadata": {
        "scrolled": true,
        "id": "f4dbb752",
        "outputId": "8e79bfcd-4f29-4b66-91fe-0b80a0128b9b"
      },
      "outputs": [
        {
          "data": {
            "text/html": [
              "<div>\n",
              "<style scoped>\n",
              "    .dataframe tbody tr th:only-of-type {\n",
              "        vertical-align: middle;\n",
              "    }\n",
              "\n",
              "    .dataframe tbody tr th {\n",
              "        vertical-align: top;\n",
              "    }\n",
              "\n",
              "    .dataframe thead th {\n",
              "        text-align: right;\n",
              "    }\n",
              "</style>\n",
              "<table border=\"1\" class=\"dataframe\">\n",
              "  <thead>\n",
              "    <tr style=\"text-align: right;\">\n",
              "      <th></th>\n",
              "      <th>user_id</th>\n",
              "      <th>name</th>\n",
              "      <th>age</th>\n",
              "      <th>city</th>\n",
              "      <th>subscription_type</th>\n",
              "      <th>distance</th>\n",
              "      <th>duration</th>\n",
              "      <th>date</th>\n",
              "      <th>month</th>\n",
              "      <th>minute_price</th>\n",
              "      <th>start_ride_price</th>\n",
              "      <th>subscription_fee</th>\n",
              "    </tr>\n",
              "  </thead>\n",
              "  <tbody>\n",
              "    <tr>\n",
              "      <th>0</th>\n",
              "      <td>1</td>\n",
              "      <td>Кира</td>\n",
              "      <td>22</td>\n",
              "      <td>Тюмень</td>\n",
              "      <td>ultra</td>\n",
              "      <td>4,409.9</td>\n",
              "      <td>25.6</td>\n",
              "      <td>2021-01-01</td>\n",
              "      <td>1</td>\n",
              "      <td>6</td>\n",
              "      <td>0</td>\n",
              "      <td>199</td>\n",
              "    </tr>\n",
              "    <tr>\n",
              "      <th>1</th>\n",
              "      <td>1</td>\n",
              "      <td>Кира</td>\n",
              "      <td>22</td>\n",
              "      <td>Тюмень</td>\n",
              "      <td>ultra</td>\n",
              "      <td>2,617.6</td>\n",
              "      <td>15.8</td>\n",
              "      <td>2021-01-18</td>\n",
              "      <td>1</td>\n",
              "      <td>6</td>\n",
              "      <td>0</td>\n",
              "      <td>199</td>\n",
              "    </tr>\n",
              "    <tr>\n",
              "      <th>2</th>\n",
              "      <td>1</td>\n",
              "      <td>Кира</td>\n",
              "      <td>22</td>\n",
              "      <td>Тюмень</td>\n",
              "      <td>ultra</td>\n",
              "      <td>754.2</td>\n",
              "      <td>6.2</td>\n",
              "      <td>2021-04-20</td>\n",
              "      <td>4</td>\n",
              "      <td>6</td>\n",
              "      <td>0</td>\n",
              "      <td>199</td>\n",
              "    </tr>\n",
              "    <tr>\n",
              "      <th>3</th>\n",
              "      <td>1</td>\n",
              "      <td>Кира</td>\n",
              "      <td>22</td>\n",
              "      <td>Тюмень</td>\n",
              "      <td>ultra</td>\n",
              "      <td>2,694.8</td>\n",
              "      <td>18.5</td>\n",
              "      <td>2021-08-11</td>\n",
              "      <td>8</td>\n",
              "      <td>6</td>\n",
              "      <td>0</td>\n",
              "      <td>199</td>\n",
              "    </tr>\n",
              "    <tr>\n",
              "      <th>4</th>\n",
              "      <td>1</td>\n",
              "      <td>Кира</td>\n",
              "      <td>22</td>\n",
              "      <td>Тюмень</td>\n",
              "      <td>ultra</td>\n",
              "      <td>4,028.7</td>\n",
              "      <td>26.3</td>\n",
              "      <td>2021-08-28</td>\n",
              "      <td>8</td>\n",
              "      <td>6</td>\n",
              "      <td>0</td>\n",
              "      <td>199</td>\n",
              "    </tr>\n",
              "    <tr>\n",
              "      <th>5</th>\n",
              "      <td>1</td>\n",
              "      <td>Кира</td>\n",
              "      <td>22</td>\n",
              "      <td>Тюмень</td>\n",
              "      <td>ultra</td>\n",
              "      <td>2,770.9</td>\n",
              "      <td>16.7</td>\n",
              "      <td>2021-10-09</td>\n",
              "      <td>10</td>\n",
              "      <td>6</td>\n",
              "      <td>0</td>\n",
              "      <td>199</td>\n",
              "    </tr>\n",
              "    <tr>\n",
              "      <th>6</th>\n",
              "      <td>1</td>\n",
              "      <td>Кира</td>\n",
              "      <td>22</td>\n",
              "      <td>Тюмень</td>\n",
              "      <td>ultra</td>\n",
              "      <td>3,039.0</td>\n",
              "      <td>14.9</td>\n",
              "      <td>2021-10-19</td>\n",
              "      <td>10</td>\n",
              "      <td>6</td>\n",
              "      <td>0</td>\n",
              "      <td>199</td>\n",
              "    </tr>\n",
              "    <tr>\n",
              "      <th>7</th>\n",
              "      <td>1</td>\n",
              "      <td>Кира</td>\n",
              "      <td>22</td>\n",
              "      <td>Тюмень</td>\n",
              "      <td>ultra</td>\n",
              "      <td>2,842.1</td>\n",
              "      <td>23.1</td>\n",
              "      <td>2021-11-06</td>\n",
              "      <td>11</td>\n",
              "      <td>6</td>\n",
              "      <td>0</td>\n",
              "      <td>199</td>\n",
              "    </tr>\n",
              "    <tr>\n",
              "      <th>8</th>\n",
              "      <td>1</td>\n",
              "      <td>Кира</td>\n",
              "      <td>22</td>\n",
              "      <td>Тюмень</td>\n",
              "      <td>ultra</td>\n",
              "      <td>3,412.7</td>\n",
              "      <td>15.2</td>\n",
              "      <td>2021-11-14</td>\n",
              "      <td>11</td>\n",
              "      <td>6</td>\n",
              "      <td>0</td>\n",
              "      <td>199</td>\n",
              "    </tr>\n",
              "    <tr>\n",
              "      <th>9</th>\n",
              "      <td>1</td>\n",
              "      <td>Кира</td>\n",
              "      <td>22</td>\n",
              "      <td>Тюмень</td>\n",
              "      <td>ultra</td>\n",
              "      <td>748.7</td>\n",
              "      <td>15.0</td>\n",
              "      <td>2021-11-22</td>\n",
              "      <td>11</td>\n",
              "      <td>6</td>\n",
              "      <td>0</td>\n",
              "      <td>199</td>\n",
              "    </tr>\n",
              "  </tbody>\n",
              "</table>\n",
              "</div>"
            ],
            "text/plain": [
              "   user_id  name  age    city subscription_type  distance  duration  \\\n",
              "0        1  Кира   22  Тюмень             ultra   4,409.9      25.6   \n",
              "1        1  Кира   22  Тюмень             ultra   2,617.6      15.8   \n",
              "2        1  Кира   22  Тюмень             ultra     754.2       6.2   \n",
              "3        1  Кира   22  Тюмень             ultra   2,694.8      18.5   \n",
              "4        1  Кира   22  Тюмень             ultra   4,028.7      26.3   \n",
              "5        1  Кира   22  Тюмень             ultra   2,770.9      16.7   \n",
              "6        1  Кира   22  Тюмень             ultra   3,039.0      14.9   \n",
              "7        1  Кира   22  Тюмень             ultra   2,842.1      23.1   \n",
              "8        1  Кира   22  Тюмень             ultra   3,412.7      15.2   \n",
              "9        1  Кира   22  Тюмень             ultra     748.7      15.0   \n",
              "\n",
              "        date  month  minute_price  start_ride_price  subscription_fee  \n",
              "0 2021-01-01      1             6                 0               199  \n",
              "1 2021-01-18      1             6                 0               199  \n",
              "2 2021-04-20      4             6                 0               199  \n",
              "3 2021-08-11      8             6                 0               199  \n",
              "4 2021-08-28      8             6                 0               199  \n",
              "5 2021-10-09     10             6                 0               199  \n",
              "6 2021-10-19     10             6                 0               199  \n",
              "7 2021-11-06     11             6                 0               199  \n",
              "8 2021-11-14     11             6                 0               199  \n",
              "9 2021-11-22     11             6                 0               199  "
            ]
          },
          "metadata": {},
          "output_type": "display_data"
        }
      ],
      "source": [
        "# создадим новый датафрейм с данными о пользователях с подпиской - ultra.\n",
        "ultra_all_pivot_table = all_pivot_table.query(\"subscription_type == 'ultra'\")\n",
        "display (ultra_all_pivot_table.head(10))"
      ]
    },
    {
      "cell_type": "code",
      "execution_count": null,
      "id": "c4c4e251",
      "metadata": {
        "id": "c4c4e251"
      },
      "outputs": [],
      "source": [
        "#4.3 Визуализируйте информацию о расстоянии и времени поездок для пользователей обеих категорий."
      ]
    },
    {
      "cell_type": "code",
      "execution_count": null,
      "id": "e8791863",
      "metadata": {
        "id": "e8791863",
        "outputId": "66c5d280-a287-4b3e-dcbb-56d774b7fc9d"
      },
      "outputs": [
        {
          "data": {
            "image/png": "[encoded data removed]",
            "text/plain": [
              "<Figure size 432x288 with 1 Axes>"
            ]
          },
          "metadata": {
            "needs_background": "light"
          },
          "output_type": "display_data"
        }
      ],
      "source": [
        "#Исследуем распределение дистанций у пользователей без подписки -free и с подпиской - ultra .\n",
        "plt.hist(free_all_pivot_table['distance'], color = 'b', edgecolor = 'black', bins = 100, label='free', alpha = 0.5)\n",
        "plt.legend(loc='center right')\n",
        "plt.hist(ultra_all_pivot_table['distance'], color = 'r', edgecolor = 'black', bins = 100, label='ultra',alpha = 0.75)\n",
        "plt.legend(loc='center right')\n",
        "plt.title('Гистограмма распределения дистанций поездок, в метрах.')\n",
        "plt.xlabel('Дистанция поездок, в метрах.')\n",
        "plt.ylabel('Кол-во поездок')\n",
        "plt.grid()\n",
        "plt.show()"
      ]
    },
    {
      "cell_type": "code",
      "execution_count": null,
      "id": "2391dadb",
      "metadata": {
        "id": "2391dadb",
        "outputId": "00bd7f3a-077b-4cc9-eff2-937ad6e208d6"
      },
      "outputs": [
        {
          "data": {
            "text/plain": [
              "count   11,568.0\n",
              "mean     3,045.5\n",
              "std      1,246.2\n",
              "min          0.9\n",
              "25%      2,366.6\n",
              "50%      3,114.6\n",
              "75%      3,905.7\n",
              "max      7,211.0\n",
              "Name: distance, dtype: float64"
            ]
          },
          "execution_count": 36,
          "metadata": {},
          "output_type": "execute_result"
        }
      ],
      "source": [
        "free_all_pivot_table['distance'].describe()"
      ]
    },
    {
      "cell_type": "code",
      "execution_count": null,
      "id": "56f41037",
      "metadata": {
        "id": "56f41037",
        "outputId": "3a79f042-565f-4258-82a5-79db8861dc80"
      },
      "outputs": [
        {
          "data": {
            "text/plain": [
              "count   6,500.0\n",
              "mean    3,115.4\n",
              "std       836.9\n",
              "min       244.2\n",
              "25%     2,785.4\n",
              "50%     3,148.6\n",
              "75%     3,560.6\n",
              "max     5,699.8\n",
              "Name: distance, dtype: float64"
            ]
          },
          "execution_count": 37,
          "metadata": {},
          "output_type": "execute_result"
        }
      ],
      "source": [
        "ultra_all_pivot_table['distance'].describe()"
      ]
    },
    {
      "cell_type": "markdown",
      "id": "c177f1ea",
      "metadata": {
        "id": "c177f1ea"
      },
      "source": [
        "Сравнивая распределения дистанций поездок пользователей без подписки и с подпиской, можно заметить, что:\n",
        "Разброс дистанций поездок без подписки шире и кол-во поездок больше.  \n",
        "Без подписки: Средняя дистанция -3045 метров, медиана - 3115, минимальная дистанция - менее метра, максимальная - 7211 метров.  \n",
        "С подпиской: Средняя дистанция -3115 метров, медиана - 3149, минимальная дистанция - 244 метра, максимальная - 5699 метров.  "
      ]
    },
    {
      "cell_type": "code",
      "execution_count": null,
      "id": "95a1249b",
      "metadata": {
        "id": "95a1249b",
        "outputId": "777f2a82-0c42-409b-ad0e-1eb536564918"
      },
      "outputs": [
        {
          "data": {
            "image/png": "[encoded data removed]",
            "text/plain": [
              "<Figure size 432x288 with 1 Axes>"
            ]
          },
          "metadata": {
            "needs_background": "light"
          },
          "output_type": "display_data"
        }
      ],
      "source": [
        "#Исследуем распределение длительности поездок у пользователей без подписки -free.\n",
        "plt.hist(free_all_pivot_table['duration'], color = 'b', edgecolor = 'black', bins = 100, label='free', alpha = 0.5)\n",
        "plt.legend(loc='center right')\n",
        "plt.hist(ultra_all_pivot_table['duration'], color = 'r', edgecolor = 'black', bins = 100, label='ultra',alpha = 0.75)\n",
        "plt.legend(loc='center right')\n",
        "plt.title('Гистограмма распределения длительности поездок, в минутах.')\n",
        "plt.xlabel('Длительность поездок, в минутах')\n",
        "plt.ylabel('Кол-во поездок')\n",
        "plt.grid()\n",
        "plt.show()"
      ]
    },
    {
      "cell_type": "code",
      "execution_count": null,
      "id": "5bcf8536",
      "metadata": {
        "id": "5bcf8536",
        "outputId": "f72244fe-ac66-4b58-ecf2-4226b611fe9e"
      },
      "outputs": [
        {
          "data": {
            "text/plain": [
              "count   11,568.0\n",
              "mean        17.4\n",
              "std          6.3\n",
              "min          0.5\n",
              "25%         13.0\n",
              "50%         17.3\n",
              "75%         21.6\n",
              "max         34.9\n",
              "Name: duration, dtype: float64"
            ]
          },
          "execution_count": 39,
          "metadata": {},
          "output_type": "execute_result"
        }
      ],
      "source": [
        "free_all_pivot_table['duration'].describe()"
      ]
    },
    {
      "cell_type": "code",
      "execution_count": null,
      "id": "e7390aac",
      "metadata": {
        "id": "e7390aac",
        "outputId": "a569b916-eafe-40fb-9822-c872a275e135"
      },
      "outputs": [
        {
          "data": {
            "text/plain": [
              "count   6,500.0\n",
              "mean       18.5\n",
              "std         5.6\n",
              "min         3.8\n",
              "25%        14.5\n",
              "50%        18.2\n",
              "75%        21.9\n",
              "max        40.8\n",
              "Name: duration, dtype: float64"
            ]
          },
          "execution_count": 40,
          "metadata": {},
          "output_type": "execute_result"
        }
      ],
      "source": [
        "ultra_all_pivot_table['duration'].describe()"
      ]
    },
    {
      "cell_type": "markdown",
      "id": "34bbd1b0",
      "metadata": {
        "id": "34bbd1b0"
      },
      "source": [
        "Сравнивая распределения длительности поездок пользователей без подписки и с подпиской, можно заметить, что:\n",
        "Разброс длительностей поездок без подписки шире и кол-во поездок больше.  \n",
        "Без подписки: Средняя длительностей поездок и медиана -17 минут, минимальная продолжительность - 0.5 метра, максимальная - 35 минут.  \n",
        "С подпиской: Средняя длительностей поездок -18.5 минут, медиана - 18.2 минуты, минимальная- 3.7 минуты, максимальная - почти 41 минута."
      ]
    },
    {
      "cell_type": "markdown",
      "id": "e355b634",
      "metadata": {
        "id": "e355b634"
      },
      "source": [
        "**Выводы:**  \n",
        "В ходе объединения данных было создано несколько сводных таблиц.\n",
        "Первая объединенная таблица была сделана с помощью метода merge.  \n",
        "Далее были подготовлены 2 таблицы с разбивкой пользователей по типу подписки.  \n",
        "Далее сравнили характеристики пользователей - дистанции поездок и продолжительность поездок для двух категорий пользователей.  \n",
        "Визуальный анализ показал, что: Разброс дистанций поездок и длительностей поездок без подписки шире и кол-во поездок больше, чем у пользователей с подпиской.\n",
        "\n",
        "У пользователей без подписки: Средняя дистанция -3045 метров, медиана - 3115, минимальная дистанция - менее метра, максимальная - 7211 метров.  Средняя длительностей поездок и медиана -17 минут, минимальная продолжительность - 0.5 метра, максимальная - 35 минут.  \n",
        "\n",
        "У пользователей с подпиской: Средняя дистанция -3115 метров, медиана - 3149, минимальная дистанция - 244 метра, максимальная - 5699 метров.  С подпиской: Средняя длительностей поездок -18.5 минут, медиана - 18.2 минуты, минимальная- 3.7 минуты, максимальная - почти 41 минута."
      ]
    },
    {
      "cell_type": "markdown",
      "id": "402d620f",
      "metadata": {
        "id": "402d620f"
      },
      "source": [
        "#### Шаг 5. Подсчёт выручки"
      ]
    },
    {
      "cell_type": "markdown",
      "id": "f59ddd93",
      "metadata": {
        "id": "f59ddd93"
      },
      "source": [
        "5.1 Создадим датафрейм с агрегированными данными о поездках на основе сводной таблицы.  \n"
      ]
    },
    {
      "cell_type": "markdown",
      "id": "5a915442",
      "metadata": {
        "id": "5a915442"
      },
      "source": [
        "Найдем для каждого пользователя суммарное расстояние, количество поездок и суммарное время за каждый месяц."
      ]
    },
    {
      "cell_type": "code",
      "execution_count": null,
      "id": "7a9197e0",
      "metadata": {
        "id": "7a9197e0",
        "outputId": "ad45f853-63a0-4e95-c528-6bbe55e5239b"
      },
      "outputs": [
        {
          "data": {
            "text/html": [
              "<div>\n",
              "<style scoped>\n",
              "    .dataframe tbody tr th:only-of-type {\n",
              "        vertical-align: middle;\n",
              "    }\n",
              "\n",
              "    .dataframe tbody tr th {\n",
              "        vertical-align: top;\n",
              "    }\n",
              "\n",
              "    .dataframe thead th {\n",
              "        text-align: right;\n",
              "    }\n",
              "</style>\n",
              "<table border=\"1\" class=\"dataframe\">\n",
              "  <thead>\n",
              "    <tr style=\"text-align: right;\">\n",
              "      <th></th>\n",
              "      <th></th>\n",
              "      <th></th>\n",
              "      <th>sum_distance</th>\n",
              "      <th>sum_duration</th>\n",
              "      <th>count_session</th>\n",
              "      <th>sum_of_starts</th>\n",
              "      <th>price_of_minute</th>\n",
              "      <th>price_of_subscription</th>\n",
              "    </tr>\n",
              "    <tr>\n",
              "      <th>user_id</th>\n",
              "      <th>month</th>\n",
              "      <th>subscription_type</th>\n",
              "      <th></th>\n",
              "      <th></th>\n",
              "      <th></th>\n",
              "      <th></th>\n",
              "      <th></th>\n",
              "      <th></th>\n",
              "    </tr>\n",
              "  </thead>\n",
              "  <tbody>\n",
              "    <tr>\n",
              "      <th rowspan=\"7\" valign=\"top\">1533</th>\n",
              "      <th>2</th>\n",
              "      <th>free</th>\n",
              "      <td>310.5</td>\n",
              "      <td>10.6</td>\n",
              "      <td>1</td>\n",
              "      <td>50</td>\n",
              "      <td>8</td>\n",
              "      <td>0</td>\n",
              "    </tr>\n",
              "    <tr>\n",
              "      <th>3</th>\n",
              "      <th>free</th>\n",
              "      <td>12,822.7</td>\n",
              "      <td>92.2</td>\n",
              "      <td>4</td>\n",
              "      <td>200</td>\n",
              "      <td>8</td>\n",
              "      <td>0</td>\n",
              "    </tr>\n",
              "    <tr>\n",
              "      <th>4</th>\n",
              "      <th>free</th>\n",
              "      <td>2,514.5</td>\n",
              "      <td>17.4</td>\n",
              "      <td>1</td>\n",
              "      <td>50</td>\n",
              "      <td>8</td>\n",
              "      <td>0</td>\n",
              "    </tr>\n",
              "    <tr>\n",
              "      <th>6</th>\n",
              "      <th>free</th>\n",
              "      <td>1,035.0</td>\n",
              "      <td>6.3</td>\n",
              "      <td>1</td>\n",
              "      <td>50</td>\n",
              "      <td>8</td>\n",
              "      <td>0</td>\n",
              "    </tr>\n",
              "    <tr>\n",
              "      <th>7</th>\n",
              "      <th>free</th>\n",
              "      <td>8,772.5</td>\n",
              "      <td>46.9</td>\n",
              "      <td>3</td>\n",
              "      <td>150</td>\n",
              "      <td>8</td>\n",
              "      <td>0</td>\n",
              "    </tr>\n",
              "    <tr>\n",
              "      <th>8</th>\n",
              "      <th>free</th>\n",
              "      <td>4,581.9</td>\n",
              "      <td>21.2</td>\n",
              "      <td>1</td>\n",
              "      <td>50</td>\n",
              "      <td>8</td>\n",
              "      <td>0</td>\n",
              "    </tr>\n",
              "    <tr>\n",
              "      <th>11</th>\n",
              "      <th>free</th>\n",
              "      <td>3,414.4</td>\n",
              "      <td>25.7</td>\n",
              "      <td>1</td>\n",
              "      <td>50</td>\n",
              "      <td>8</td>\n",
              "      <td>0</td>\n",
              "    </tr>\n",
              "    <tr>\n",
              "      <th rowspan=\"8\" valign=\"top\">1534</th>\n",
              "      <th>1</th>\n",
              "      <th>free</th>\n",
              "      <td>4,678.4</td>\n",
              "      <td>15.2</td>\n",
              "      <td>1</td>\n",
              "      <td>50</td>\n",
              "      <td>8</td>\n",
              "      <td>0</td>\n",
              "    </tr>\n",
              "    <tr>\n",
              "      <th>2</th>\n",
              "      <th>free</th>\n",
              "      <td>2,103.9</td>\n",
              "      <td>13.4</td>\n",
              "      <td>1</td>\n",
              "      <td>50</td>\n",
              "      <td>8</td>\n",
              "      <td>0</td>\n",
              "    </tr>\n",
              "    <tr>\n",
              "      <th>4</th>\n",
              "      <th>free</th>\n",
              "      <td>3,434.3</td>\n",
              "      <td>14.4</td>\n",
              "      <td>1</td>\n",
              "      <td>50</td>\n",
              "      <td>8</td>\n",
              "      <td>0</td>\n",
              "    </tr>\n",
              "    <tr>\n",
              "      <th>6</th>\n",
              "      <th>free</th>\n",
              "      <td>3,409.5</td>\n",
              "      <td>24.8</td>\n",
              "      <td>2</td>\n",
              "      <td>100</td>\n",
              "      <td>8</td>\n",
              "      <td>0</td>\n",
              "    </tr>\n",
              "    <tr>\n",
              "      <th>8</th>\n",
              "      <th>free</th>\n",
              "      <td>7,622.5</td>\n",
              "      <td>47.2</td>\n",
              "      <td>2</td>\n",
              "      <td>100</td>\n",
              "      <td>8</td>\n",
              "      <td>0</td>\n",
              "    </tr>\n",
              "    <tr>\n",
              "      <th>9</th>\n",
              "      <th>free</th>\n",
              "      <td>4,928.2</td>\n",
              "      <td>22.6</td>\n",
              "      <td>1</td>\n",
              "      <td>50</td>\n",
              "      <td>8</td>\n",
              "      <td>0</td>\n",
              "    </tr>\n",
              "    <tr>\n",
              "      <th>11</th>\n",
              "      <th>free</th>\n",
              "      <td>13,350.0</td>\n",
              "      <td>76.3</td>\n",
              "      <td>4</td>\n",
              "      <td>200</td>\n",
              "      <td>8</td>\n",
              "      <td>0</td>\n",
              "    </tr>\n",
              "    <tr>\n",
              "      <th>12</th>\n",
              "      <th>free</th>\n",
              "      <td>2,371.7</td>\n",
              "      <td>15.9</td>\n",
              "      <td>1</td>\n",
              "      <td>50</td>\n",
              "      <td>8</td>\n",
              "      <td>0</td>\n",
              "    </tr>\n",
              "  </tbody>\n",
              "</table>\n",
              "</div>"
            ],
            "text/plain": [
              "                                 sum_distance  sum_duration  count_session  \\\n",
              "user_id month subscription_type                                              \n",
              "1533    2     free                      310.5          10.6              1   \n",
              "        3     free                   12,822.7          92.2              4   \n",
              "        4     free                    2,514.5          17.4              1   \n",
              "        6     free                    1,035.0           6.3              1   \n",
              "        7     free                    8,772.5          46.9              3   \n",
              "        8     free                    4,581.9          21.2              1   \n",
              "        11    free                    3,414.4          25.7              1   \n",
              "1534    1     free                    4,678.4          15.2              1   \n",
              "        2     free                    2,103.9          13.4              1   \n",
              "        4     free                    3,434.3          14.4              1   \n",
              "        6     free                    3,409.5          24.8              2   \n",
              "        8     free                    7,622.5          47.2              2   \n",
              "        9     free                    4,928.2          22.6              1   \n",
              "        11    free                   13,350.0          76.3              4   \n",
              "        12    free                    2,371.7          15.9              1   \n",
              "\n",
              "                                 sum_of_starts  price_of_minute  \\\n",
              "user_id month subscription_type                                   \n",
              "1533    2     free                          50                8   \n",
              "        3     free                         200                8   \n",
              "        4     free                          50                8   \n",
              "        6     free                          50                8   \n",
              "        7     free                         150                8   \n",
              "        8     free                          50                8   \n",
              "        11    free                          50                8   \n",
              "1534    1     free                          50                8   \n",
              "        2     free                          50                8   \n",
              "        4     free                          50                8   \n",
              "        6     free                         100                8   \n",
              "        8     free                         100                8   \n",
              "        9     free                          50                8   \n",
              "        11    free                         200                8   \n",
              "        12    free                          50                8   \n",
              "\n",
              "                                 price_of_subscription  \n",
              "user_id month subscription_type                         \n",
              "1533    2     free                                   0  \n",
              "        3     free                                   0  \n",
              "        4     free                                   0  \n",
              "        6     free                                   0  \n",
              "        7     free                                   0  \n",
              "        8     free                                   0  \n",
              "        11    free                                   0  \n",
              "1534    1     free                                   0  \n",
              "        2     free                                   0  \n",
              "        4     free                                   0  \n",
              "        6     free                                   0  \n",
              "        8     free                                   0  \n",
              "        9     free                                   0  \n",
              "        11    free                                   0  \n",
              "        12    free                                   0  "
            ]
          },
          "metadata": {},
          "output_type": "display_data"
        }
      ],
      "source": [
        "# сделаем группировку в общей таблице и запишем данные в новый датасет\n",
        "all_groupby = all_pivot_table.groupby(['user_id', 'month', 'subscription_type']).agg(\n",
        "                                        sum_distance = ('distance', 'sum'),\n",
        "                                        sum_duration = ('duration', 'sum'),\n",
        "                                        count_session = ('distance', 'count'),\n",
        "                                        sum_of_starts = ('start_ride_price', 'sum'),\n",
        "                                        price_of_minute = ('minute_price', 'min'),\n",
        "                                        price_of_subscription = ('subscription_fee', 'min'))\n",
        "# проверим, получившуюся таблицу\n",
        "display(all_groupby.tail(15))"
      ]
    },
    {
      "cell_type": "code",
      "execution_count": null,
      "id": "e8afdcb7",
      "metadata": {
        "scrolled": false,
        "id": "e8afdcb7"
      },
      "outputs": [],
      "source": [
        "#для группировки id пользователей по месяцам используем сводную таблицу\n",
        "#id_month_all_pivot_table = pd.pivot_table(all_pivot_table, index=['user_id', 'month'],\n",
        "#                                          values = ['name', 'distance', 'duration', 'subscription_type'],\n",
        "#                                          aggfunc = {'name' : len, 'distance': sum, 'duration' : sum,\n",
        "#                                                     'subscription_type' : max})\n",
        "\n",
        "#id_month_all_pivot_table.describe()\n",
        "#display(id_month_all_pivot_table.head(10))"
      ]
    },
    {
      "cell_type": "markdown",
      "id": "32a55d94",
      "metadata": {
        "id": "32a55d94"
      },
      "source": [
        "5.2 В этот же датафрейм добавим столбец с помесячной выручкой, которую принёс каждый пользователь."
      ]
    },
    {
      "cell_type": "code",
      "execution_count": null,
      "id": "18900764",
      "metadata": {
        "id": "18900764",
        "outputId": "c218bdf3-0ba0-455c-87a6-8881949ad1e7"
      },
      "outputs": [
        {
          "data": {
            "text/html": [
              "<div>\n",
              "<style scoped>\n",
              "    .dataframe tbody tr th:only-of-type {\n",
              "        vertical-align: middle;\n",
              "    }\n",
              "\n",
              "    .dataframe tbody tr th {\n",
              "        vertical-align: top;\n",
              "    }\n",
              "\n",
              "    .dataframe thead th {\n",
              "        text-align: right;\n",
              "    }\n",
              "</style>\n",
              "<table border=\"1\" class=\"dataframe\">\n",
              "  <thead>\n",
              "    <tr style=\"text-align: right;\">\n",
              "      <th></th>\n",
              "      <th></th>\n",
              "      <th></th>\n",
              "      <th>sum_distance</th>\n",
              "      <th>sum_duration</th>\n",
              "      <th>count_session</th>\n",
              "      <th>sum_of_starts</th>\n",
              "      <th>price_of_minute</th>\n",
              "      <th>price_of_subscription</th>\n",
              "    </tr>\n",
              "    <tr>\n",
              "      <th>user_id</th>\n",
              "      <th>month</th>\n",
              "      <th>subscription_type</th>\n",
              "      <th></th>\n",
              "      <th></th>\n",
              "      <th></th>\n",
              "      <th></th>\n",
              "      <th></th>\n",
              "      <th></th>\n",
              "    </tr>\n",
              "  </thead>\n",
              "  <tbody>\n",
              "    <tr>\n",
              "      <th rowspan=\"7\" valign=\"top\">1533</th>\n",
              "      <th>2</th>\n",
              "      <th>free</th>\n",
              "      <td>310.5</td>\n",
              "      <td>11</td>\n",
              "      <td>1</td>\n",
              "      <td>50</td>\n",
              "      <td>8</td>\n",
              "      <td>0</td>\n",
              "    </tr>\n",
              "    <tr>\n",
              "      <th>3</th>\n",
              "      <th>free</th>\n",
              "      <td>12,822.7</td>\n",
              "      <td>93</td>\n",
              "      <td>4</td>\n",
              "      <td>200</td>\n",
              "      <td>8</td>\n",
              "      <td>0</td>\n",
              "    </tr>\n",
              "    <tr>\n",
              "      <th>4</th>\n",
              "      <th>free</th>\n",
              "      <td>2,514.5</td>\n",
              "      <td>18</td>\n",
              "      <td>1</td>\n",
              "      <td>50</td>\n",
              "      <td>8</td>\n",
              "      <td>0</td>\n",
              "    </tr>\n",
              "    <tr>\n",
              "      <th>6</th>\n",
              "      <th>free</th>\n",
              "      <td>1,035.0</td>\n",
              "      <td>7</td>\n",
              "      <td>1</td>\n",
              "      <td>50</td>\n",
              "      <td>8</td>\n",
              "      <td>0</td>\n",
              "    </tr>\n",
              "    <tr>\n",
              "      <th>7</th>\n",
              "      <th>free</th>\n",
              "      <td>8,772.5</td>\n",
              "      <td>47</td>\n",
              "      <td>3</td>\n",
              "      <td>150</td>\n",
              "      <td>8</td>\n",
              "      <td>0</td>\n",
              "    </tr>\n",
              "    <tr>\n",
              "      <th>8</th>\n",
              "      <th>free</th>\n",
              "      <td>4,581.9</td>\n",
              "      <td>22</td>\n",
              "      <td>1</td>\n",
              "      <td>50</td>\n",
              "      <td>8</td>\n",
              "      <td>0</td>\n",
              "    </tr>\n",
              "    <tr>\n",
              "      <th>11</th>\n",
              "      <th>free</th>\n",
              "      <td>3,414.4</td>\n",
              "      <td>26</td>\n",
              "      <td>1</td>\n",
              "      <td>50</td>\n",
              "      <td>8</td>\n",
              "      <td>0</td>\n",
              "    </tr>\n",
              "    <tr>\n",
              "      <th rowspan=\"8\" valign=\"top\">1534</th>\n",
              "      <th>1</th>\n",
              "      <th>free</th>\n",
              "      <td>4,678.4</td>\n",
              "      <td>16</td>\n",
              "      <td>1</td>\n",
              "      <td>50</td>\n",
              "      <td>8</td>\n",
              "      <td>0</td>\n",
              "    </tr>\n",
              "    <tr>\n",
              "      <th>2</th>\n",
              "      <th>free</th>\n",
              "      <td>2,103.9</td>\n",
              "      <td>14</td>\n",
              "      <td>1</td>\n",
              "      <td>50</td>\n",
              "      <td>8</td>\n",
              "      <td>0</td>\n",
              "    </tr>\n",
              "    <tr>\n",
              "      <th>4</th>\n",
              "      <th>free</th>\n",
              "      <td>3,434.3</td>\n",
              "      <td>15</td>\n",
              "      <td>1</td>\n",
              "      <td>50</td>\n",
              "      <td>8</td>\n",
              "      <td>0</td>\n",
              "    </tr>\n",
              "    <tr>\n",
              "      <th>6</th>\n",
              "      <th>free</th>\n",
              "      <td>3,409.5</td>\n",
              "      <td>25</td>\n",
              "      <td>2</td>\n",
              "      <td>100</td>\n",
              "      <td>8</td>\n",
              "      <td>0</td>\n",
              "    </tr>\n",
              "    <tr>\n",
              "      <th>8</th>\n",
              "      <th>free</th>\n",
              "      <td>7,622.5</td>\n",
              "      <td>48</td>\n",
              "      <td>2</td>\n",
              "      <td>100</td>\n",
              "      <td>8</td>\n",
              "      <td>0</td>\n",
              "    </tr>\n",
              "    <tr>\n",
              "      <th>9</th>\n",
              "      <th>free</th>\n",
              "      <td>4,928.2</td>\n",
              "      <td>23</td>\n",
              "      <td>1</td>\n",
              "      <td>50</td>\n",
              "      <td>8</td>\n",
              "      <td>0</td>\n",
              "    </tr>\n",
              "    <tr>\n",
              "      <th>11</th>\n",
              "      <th>free</th>\n",
              "      <td>13,350.0</td>\n",
              "      <td>77</td>\n",
              "      <td>4</td>\n",
              "      <td>200</td>\n",
              "      <td>8</td>\n",
              "      <td>0</td>\n",
              "    </tr>\n",
              "    <tr>\n",
              "      <th>12</th>\n",
              "      <th>free</th>\n",
              "      <td>2,371.7</td>\n",
              "      <td>16</td>\n",
              "      <td>1</td>\n",
              "      <td>50</td>\n",
              "      <td>8</td>\n",
              "      <td>0</td>\n",
              "    </tr>\n",
              "  </tbody>\n",
              "</table>\n",
              "</div>"
            ],
            "text/plain": [
              "                                 sum_distance  sum_duration  count_session  \\\n",
              "user_id month subscription_type                                              \n",
              "1533    2     free                      310.5            11              1   \n",
              "        3     free                   12,822.7            93              4   \n",
              "        4     free                    2,514.5            18              1   \n",
              "        6     free                    1,035.0             7              1   \n",
              "        7     free                    8,772.5            47              3   \n",
              "        8     free                    4,581.9            22              1   \n",
              "        11    free                    3,414.4            26              1   \n",
              "1534    1     free                    4,678.4            16              1   \n",
              "        2     free                    2,103.9            14              1   \n",
              "        4     free                    3,434.3            15              1   \n",
              "        6     free                    3,409.5            25              2   \n",
              "        8     free                    7,622.5            48              2   \n",
              "        9     free                    4,928.2            23              1   \n",
              "        11    free                   13,350.0            77              4   \n",
              "        12    free                    2,371.7            16              1   \n",
              "\n",
              "                                 sum_of_starts  price_of_minute  \\\n",
              "user_id month subscription_type                                   \n",
              "1533    2     free                          50                8   \n",
              "        3     free                         200                8   \n",
              "        4     free                          50                8   \n",
              "        6     free                          50                8   \n",
              "        7     free                         150                8   \n",
              "        8     free                          50                8   \n",
              "        11    free                          50                8   \n",
              "1534    1     free                          50                8   \n",
              "        2     free                          50                8   \n",
              "        4     free                          50                8   \n",
              "        6     free                         100                8   \n",
              "        8     free                         100                8   \n",
              "        9     free                          50                8   \n",
              "        11    free                         200                8   \n",
              "        12    free                          50                8   \n",
              "\n",
              "                                 price_of_subscription  \n",
              "user_id month subscription_type                         \n",
              "1533    2     free                                   0  \n",
              "        3     free                                   0  \n",
              "        4     free                                   0  \n",
              "        6     free                                   0  \n",
              "        7     free                                   0  \n",
              "        8     free                                   0  \n",
              "        11    free                                   0  \n",
              "1534    1     free                                   0  \n",
              "        2     free                                   0  \n",
              "        4     free                                   0  \n",
              "        6     free                                   0  \n",
              "        8     free                                   0  \n",
              "        9     free                                   0  \n",
              "        11    free                                   0  \n",
              "        12    free                                   0  "
            ]
          },
          "metadata": {},
          "output_type": "display_data"
        },
        {
          "name": "stdout",
          "output_type": "stream",
          "text": [
            "<class 'pandas.core.frame.DataFrame'>\n",
            "MultiIndex: 11331 entries, (1, 1, 'ultra') to (1534, 12, 'free')\n",
            "Data columns (total 6 columns):\n",
            " #   Column                 Non-Null Count  Dtype  \n",
            "---  ------                 --------------  -----  \n",
            " 0   sum_distance           11331 non-null  float64\n",
            " 1   sum_duration           11331 non-null  int64  \n",
            " 2   count_session          11331 non-null  int64  \n",
            " 3   sum_of_starts          11331 non-null  int64  \n",
            " 4   price_of_minute        11331 non-null  int64  \n",
            " 5   price_of_subscription  11331 non-null  int64  \n",
            "dtypes: float64(1), int64(5)\n",
            "memory usage: 587.7+ KB\n"
          ]
        }
      ],
      "source": [
        "#Продолжительность каждой поездки в каждой строке округлим до большего целого числа (np.ceil()):\n",
        "all_groupby['sum_duration'] = np.ceil(all_groupby['sum_duration'] ).astype (int)\n",
        "\n",
        "# проверим, получившуюся таблицу\n",
        "display(all_groupby.tail(15))\n",
        "all_groupby.info()"
      ]
    },
    {
      "cell_type": "markdown",
      "id": "ab43a8bb",
      "metadata": {
        "id": "ab43a8bb"
      },
      "source": [
        "Напишем функцию, рассчитывющую выручку по условиям оплаты для пользователей с подпиской и без нее."
      ]
    },
    {
      "cell_type": "code",
      "execution_count": null,
      "id": "977ff1b3",
      "metadata": {
        "id": "977ff1b3"
      },
      "outputs": [],
      "source": [
        "#Помесячная выручка считается по формуле:\n",
        "#ст-ть старта × кол-во поездок + стоимость 1мин. × общая продолжительность всех поездок в мин. + ст-ть подписки.\n",
        "\n",
        "#def proceeds(row):\n",
        "#    if row['subscription_type'] == 'ultra':\n",
        "#        return 0 + 6 * row['sum_duration'] + 199\n",
        "#    elif row['subscription_type'] == 'free':\n",
        "#        return 50 * row['count_session'] + 8 * row['sum_duration']\n",
        "#    else:\n",
        "#        return 'Стоп'\n"
      ]
    },
    {
      "cell_type": "code",
      "execution_count": null,
      "id": "5ec376ca",
      "metadata": {
        "scrolled": true,
        "id": "5ec376ca",
        "outputId": "e0ec23e2-3aad-472c-9301-8aa34880ef53"
      },
      "outputs": [
        {
          "data": {
            "text/html": [
              "<div>\n",
              "<style scoped>\n",
              "    .dataframe tbody tr th:only-of-type {\n",
              "        vertical-align: middle;\n",
              "    }\n",
              "\n",
              "    .dataframe tbody tr th {\n",
              "        vertical-align: top;\n",
              "    }\n",
              "\n",
              "    .dataframe thead th {\n",
              "        text-align: right;\n",
              "    }\n",
              "</style>\n",
              "<table border=\"1\" class=\"dataframe\">\n",
              "  <thead>\n",
              "    <tr style=\"text-align: right;\">\n",
              "      <th></th>\n",
              "      <th></th>\n",
              "      <th></th>\n",
              "      <th>sum_distance</th>\n",
              "      <th>sum_duration</th>\n",
              "      <th>count_session</th>\n",
              "      <th>sum_of_starts</th>\n",
              "      <th>price_of_minute</th>\n",
              "      <th>price_of_subscription</th>\n",
              "      <th>income</th>\n",
              "    </tr>\n",
              "    <tr>\n",
              "      <th>user_id</th>\n",
              "      <th>month</th>\n",
              "      <th>subscription_type</th>\n",
              "      <th></th>\n",
              "      <th></th>\n",
              "      <th></th>\n",
              "      <th></th>\n",
              "      <th></th>\n",
              "      <th></th>\n",
              "      <th></th>\n",
              "    </tr>\n",
              "  </thead>\n",
              "  <tbody>\n",
              "    <tr>\n",
              "      <th rowspan=\"7\" valign=\"top\">1533</th>\n",
              "      <th>2</th>\n",
              "      <th>free</th>\n",
              "      <td>310.5</td>\n",
              "      <td>11</td>\n",
              "      <td>1</td>\n",
              "      <td>50</td>\n",
              "      <td>8</td>\n",
              "      <td>0</td>\n",
              "      <td>138</td>\n",
              "    </tr>\n",
              "    <tr>\n",
              "      <th>3</th>\n",
              "      <th>free</th>\n",
              "      <td>12,822.7</td>\n",
              "      <td>93</td>\n",
              "      <td>4</td>\n",
              "      <td>200</td>\n",
              "      <td>8</td>\n",
              "      <td>0</td>\n",
              "      <td>944</td>\n",
              "    </tr>\n",
              "    <tr>\n",
              "      <th>4</th>\n",
              "      <th>free</th>\n",
              "      <td>2,514.5</td>\n",
              "      <td>18</td>\n",
              "      <td>1</td>\n",
              "      <td>50</td>\n",
              "      <td>8</td>\n",
              "      <td>0</td>\n",
              "      <td>194</td>\n",
              "    </tr>\n",
              "    <tr>\n",
              "      <th>6</th>\n",
              "      <th>free</th>\n",
              "      <td>1,035.0</td>\n",
              "      <td>7</td>\n",
              "      <td>1</td>\n",
              "      <td>50</td>\n",
              "      <td>8</td>\n",
              "      <td>0</td>\n",
              "      <td>106</td>\n",
              "    </tr>\n",
              "    <tr>\n",
              "      <th>7</th>\n",
              "      <th>free</th>\n",
              "      <td>8,772.5</td>\n",
              "      <td>47</td>\n",
              "      <td>3</td>\n",
              "      <td>150</td>\n",
              "      <td>8</td>\n",
              "      <td>0</td>\n",
              "      <td>526</td>\n",
              "    </tr>\n",
              "    <tr>\n",
              "      <th>8</th>\n",
              "      <th>free</th>\n",
              "      <td>4,581.9</td>\n",
              "      <td>22</td>\n",
              "      <td>1</td>\n",
              "      <td>50</td>\n",
              "      <td>8</td>\n",
              "      <td>0</td>\n",
              "      <td>226</td>\n",
              "    </tr>\n",
              "    <tr>\n",
              "      <th>11</th>\n",
              "      <th>free</th>\n",
              "      <td>3,414.4</td>\n",
              "      <td>26</td>\n",
              "      <td>1</td>\n",
              "      <td>50</td>\n",
              "      <td>8</td>\n",
              "      <td>0</td>\n",
              "      <td>258</td>\n",
              "    </tr>\n",
              "    <tr>\n",
              "      <th rowspan=\"8\" valign=\"top\">1534</th>\n",
              "      <th>1</th>\n",
              "      <th>free</th>\n",
              "      <td>4,678.4</td>\n",
              "      <td>16</td>\n",
              "      <td>1</td>\n",
              "      <td>50</td>\n",
              "      <td>8</td>\n",
              "      <td>0</td>\n",
              "      <td>178</td>\n",
              "    </tr>\n",
              "    <tr>\n",
              "      <th>2</th>\n",
              "      <th>free</th>\n",
              "      <td>2,103.9</td>\n",
              "      <td>14</td>\n",
              "      <td>1</td>\n",
              "      <td>50</td>\n",
              "      <td>8</td>\n",
              "      <td>0</td>\n",
              "      <td>162</td>\n",
              "    </tr>\n",
              "    <tr>\n",
              "      <th>4</th>\n",
              "      <th>free</th>\n",
              "      <td>3,434.3</td>\n",
              "      <td>15</td>\n",
              "      <td>1</td>\n",
              "      <td>50</td>\n",
              "      <td>8</td>\n",
              "      <td>0</td>\n",
              "      <td>170</td>\n",
              "    </tr>\n",
              "    <tr>\n",
              "      <th>6</th>\n",
              "      <th>free</th>\n",
              "      <td>3,409.5</td>\n",
              "      <td>25</td>\n",
              "      <td>2</td>\n",
              "      <td>100</td>\n",
              "      <td>8</td>\n",
              "      <td>0</td>\n",
              "      <td>300</td>\n",
              "    </tr>\n",
              "    <tr>\n",
              "      <th>8</th>\n",
              "      <th>free</th>\n",
              "      <td>7,622.5</td>\n",
              "      <td>48</td>\n",
              "      <td>2</td>\n",
              "      <td>100</td>\n",
              "      <td>8</td>\n",
              "      <td>0</td>\n",
              "      <td>484</td>\n",
              "    </tr>\n",
              "    <tr>\n",
              "      <th>9</th>\n",
              "      <th>free</th>\n",
              "      <td>4,928.2</td>\n",
              "      <td>23</td>\n",
              "      <td>1</td>\n",
              "      <td>50</td>\n",
              "      <td>8</td>\n",
              "      <td>0</td>\n",
              "      <td>234</td>\n",
              "    </tr>\n",
              "    <tr>\n",
              "      <th>11</th>\n",
              "      <th>free</th>\n",
              "      <td>13,350.0</td>\n",
              "      <td>77</td>\n",
              "      <td>4</td>\n",
              "      <td>200</td>\n",
              "      <td>8</td>\n",
              "      <td>0</td>\n",
              "      <td>816</td>\n",
              "    </tr>\n",
              "    <tr>\n",
              "      <th>12</th>\n",
              "      <th>free</th>\n",
              "      <td>2,371.7</td>\n",
              "      <td>16</td>\n",
              "      <td>1</td>\n",
              "      <td>50</td>\n",
              "      <td>8</td>\n",
              "      <td>0</td>\n",
              "      <td>178</td>\n",
              "    </tr>\n",
              "  </tbody>\n",
              "</table>\n",
              "</div>"
            ],
            "text/plain": [
              "                                 sum_distance  sum_duration  count_session  \\\n",
              "user_id month subscription_type                                              \n",
              "1533    2     free                      310.5            11              1   \n",
              "        3     free                   12,822.7            93              4   \n",
              "        4     free                    2,514.5            18              1   \n",
              "        6     free                    1,035.0             7              1   \n",
              "        7     free                    8,772.5            47              3   \n",
              "        8     free                    4,581.9            22              1   \n",
              "        11    free                    3,414.4            26              1   \n",
              "1534    1     free                    4,678.4            16              1   \n",
              "        2     free                    2,103.9            14              1   \n",
              "        4     free                    3,434.3            15              1   \n",
              "        6     free                    3,409.5            25              2   \n",
              "        8     free                    7,622.5            48              2   \n",
              "        9     free                    4,928.2            23              1   \n",
              "        11    free                   13,350.0            77              4   \n",
              "        12    free                    2,371.7            16              1   \n",
              "\n",
              "                                 sum_of_starts  price_of_minute  \\\n",
              "user_id month subscription_type                                   \n",
              "1533    2     free                          50                8   \n",
              "        3     free                         200                8   \n",
              "        4     free                          50                8   \n",
              "        6     free                          50                8   \n",
              "        7     free                         150                8   \n",
              "        8     free                          50                8   \n",
              "        11    free                          50                8   \n",
              "1534    1     free                          50                8   \n",
              "        2     free                          50                8   \n",
              "        4     free                          50                8   \n",
              "        6     free                         100                8   \n",
              "        8     free                         100                8   \n",
              "        9     free                          50                8   \n",
              "        11    free                         200                8   \n",
              "        12    free                          50                8   \n",
              "\n",
              "                                 price_of_subscription  income  \n",
              "user_id month subscription_type                                 \n",
              "1533    2     free                                   0     138  \n",
              "        3     free                                   0     944  \n",
              "        4     free                                   0     194  \n",
              "        6     free                                   0     106  \n",
              "        7     free                                   0     526  \n",
              "        8     free                                   0     226  \n",
              "        11    free                                   0     258  \n",
              "1534    1     free                                   0     178  \n",
              "        2     free                                   0     162  \n",
              "        4     free                                   0     170  \n",
              "        6     free                                   0     300  \n",
              "        8     free                                   0     484  \n",
              "        9     free                                   0     234  \n",
              "        11    free                                   0     816  \n",
              "        12    free                                   0     178  "
            ]
          },
          "metadata": {},
          "output_type": "display_data"
        }
      ],
      "source": [
        "#в новый столбец подставим формулу для расчета суммы выручки\n",
        "all_groupby['income'] = (all_groupby['sum_of_starts'] +\n",
        "                               all_groupby['price_of_minute'] * all_groupby['sum_duration'] +\n",
        "                               all_groupby['price_of_subscription'])\n",
        "\n",
        "# проверим, получившуюся таблицу\n",
        "display(all_groupby.tail(15))"
      ]
    },
    {
      "cell_type": "markdown",
      "id": "650e7054",
      "metadata": {
        "id": "650e7054"
      },
      "source": [
        "Помесячная выручка для каждого id посчитана (с учетом типов подписки)"
      ]
    },
    {
      "cell_type": "code",
      "execution_count": null,
      "id": "9304fa17",
      "metadata": {
        "id": "9304fa17",
        "outputId": "dbdb46d3-d601-45e7-cf1e-a821dfe4c9c5"
      },
      "outputs": [
        {
          "data": {
            "text/html": [
              "<div>\n",
              "<style scoped>\n",
              "    .dataframe tbody tr th:only-of-type {\n",
              "        vertical-align: middle;\n",
              "    }\n",
              "\n",
              "    .dataframe tbody tr th {\n",
              "        vertical-align: top;\n",
              "    }\n",
              "\n",
              "    .dataframe thead th {\n",
              "        text-align: right;\n",
              "    }\n",
              "</style>\n",
              "<table border=\"1\" class=\"dataframe\">\n",
              "  <thead>\n",
              "    <tr style=\"text-align: right;\">\n",
              "      <th></th>\n",
              "      <th>total_income</th>\n",
              "      <th>total_session</th>\n",
              "      <th>total_duration</th>\n",
              "      <th>avg_minute_price</th>\n",
              "    </tr>\n",
              "    <tr>\n",
              "      <th>subscription_type</th>\n",
              "      <th></th>\n",
              "      <th></th>\n",
              "      <th></th>\n",
              "      <th></th>\n",
              "    </tr>\n",
              "  </thead>\n",
              "  <tbody>\n",
              "    <tr>\n",
              "      <th>free</th>\n",
              "      <td>2215080</td>\n",
              "      <td>11568</td>\n",
              "      <td>204585</td>\n",
              "      <td>10.8</td>\n",
              "    </tr>\n",
              "    <tr>\n",
              "      <th>ultra</th>\n",
              "      <td>1638597</td>\n",
              "      <td>6500</td>\n",
              "      <td>122755</td>\n",
              "      <td>13.3</td>\n",
              "    </tr>\n",
              "  </tbody>\n",
              "</table>\n",
              "</div>"
            ],
            "text/plain": [
              "                   total_income  total_session  total_duration  \\\n",
              "subscription_type                                                \n",
              "free                    2215080          11568          204585   \n",
              "ultra                   1638597           6500          122755   \n",
              "\n",
              "                   avg_minute_price  \n",
              "subscription_type                    \n",
              "free                           10.8  \n",
              "ultra                          13.3  "
            ]
          },
          "metadata": {},
          "output_type": "display_data"
        }
      ],
      "source": [
        "#посчитаем, для каждой группы пользователей выручку, кол-во сессий и общую продолжительность\n",
        "res = all_groupby.groupby(['subscription_type']).agg(total_income = ('income', 'sum'),\n",
        "                                                        total_session = ('count_session', 'sum'),\n",
        "                                                        total_duration = ('sum_duration', 'sum'))\n",
        "res['avg_minute_price'] = res['total_income'] / res['total_duration']\n",
        "display (res)"
      ]
    },
    {
      "cell_type": "code",
      "execution_count": null,
      "id": "fc2365fd",
      "metadata": {
        "id": "fc2365fd",
        "outputId": "f5e9a87a-96e6-4306-aec1-f2f3454aca14"
      },
      "outputs": [
        {
          "data": {
            "text/html": [
              "<div>\n",
              "<style scoped>\n",
              "    .dataframe tbody tr th:only-of-type {\n",
              "        vertical-align: middle;\n",
              "    }\n",
              "\n",
              "    .dataframe tbody tr th {\n",
              "        vertical-align: top;\n",
              "    }\n",
              "\n",
              "    .dataframe thead th {\n",
              "        text-align: right;\n",
              "    }\n",
              "</style>\n",
              "<table border=\"1\" class=\"dataframe\">\n",
              "  <thead>\n",
              "    <tr style=\"text-align: right;\">\n",
              "      <th></th>\n",
              "      <th></th>\n",
              "      <th></th>\n",
              "      <th>sum_distance</th>\n",
              "      <th>sum_duration</th>\n",
              "      <th>count_session</th>\n",
              "      <th>sum_of_starts</th>\n",
              "      <th>price_of_minute</th>\n",
              "      <th>price_of_subscription</th>\n",
              "      <th>income</th>\n",
              "    </tr>\n",
              "    <tr>\n",
              "      <th>user_id</th>\n",
              "      <th>month</th>\n",
              "      <th>subscription_type</th>\n",
              "      <th></th>\n",
              "      <th></th>\n",
              "      <th></th>\n",
              "      <th></th>\n",
              "      <th></th>\n",
              "      <th></th>\n",
              "      <th></th>\n",
              "    </tr>\n",
              "  </thead>\n",
              "  <tbody>\n",
              "    <tr>\n",
              "      <th>3</th>\n",
              "      <th>2</th>\n",
              "      <th>ultra</th>\n",
              "      <td>5,421.2</td>\n",
              "      <td>38</td>\n",
              "      <td>2</td>\n",
              "      <td>0</td>\n",
              "      <td>6</td>\n",
              "      <td>199</td>\n",
              "      <td>427</td>\n",
              "    </tr>\n",
              "    <tr>\n",
              "      <th>4</th>\n",
              "      <th>2</th>\n",
              "      <th>ultra</th>\n",
              "      <td>6,339.7</td>\n",
              "      <td>49</td>\n",
              "      <td>2</td>\n",
              "      <td>0</td>\n",
              "      <td>6</td>\n",
              "      <td>199</td>\n",
              "      <td>493</td>\n",
              "    </tr>\n",
              "    <tr>\n",
              "      <th>5</th>\n",
              "      <th>2</th>\n",
              "      <th>ultra</th>\n",
              "      <td>2,561.1</td>\n",
              "      <td>12</td>\n",
              "      <td>1</td>\n",
              "      <td>0</td>\n",
              "      <td>6</td>\n",
              "      <td>199</td>\n",
              "      <td>271</td>\n",
              "    </tr>\n",
              "    <tr>\n",
              "      <th>6</th>\n",
              "      <th>2</th>\n",
              "      <th>ultra</th>\n",
              "      <td>3,961.4</td>\n",
              "      <td>28</td>\n",
              "      <td>1</td>\n",
              "      <td>0</td>\n",
              "      <td>6</td>\n",
              "      <td>199</td>\n",
              "      <td>367</td>\n",
              "    </tr>\n",
              "    <tr>\n",
              "      <th>10</th>\n",
              "      <th>2</th>\n",
              "      <th>ultra</th>\n",
              "      <td>3,883.0</td>\n",
              "      <td>15</td>\n",
              "      <td>2</td>\n",
              "      <td>0</td>\n",
              "      <td>6</td>\n",
              "      <td>199</td>\n",
              "      <td>289</td>\n",
              "    </tr>\n",
              "    <tr>\n",
              "      <th>...</th>\n",
              "      <th>...</th>\n",
              "      <th>...</th>\n",
              "      <td>...</td>\n",
              "      <td>...</td>\n",
              "      <td>...</td>\n",
              "      <td>...</td>\n",
              "      <td>...</td>\n",
              "      <td>...</td>\n",
              "      <td>...</td>\n",
              "    </tr>\n",
              "    <tr>\n",
              "      <th>691</th>\n",
              "      <th>2</th>\n",
              "      <th>ultra</th>\n",
              "      <td>7,180.2</td>\n",
              "      <td>38</td>\n",
              "      <td>2</td>\n",
              "      <td>0</td>\n",
              "      <td>6</td>\n",
              "      <td>199</td>\n",
              "      <td>427</td>\n",
              "    </tr>\n",
              "    <tr>\n",
              "      <th>692</th>\n",
              "      <th>2</th>\n",
              "      <th>ultra</th>\n",
              "      <td>3,300.4</td>\n",
              "      <td>19</td>\n",
              "      <td>1</td>\n",
              "      <td>0</td>\n",
              "      <td>6</td>\n",
              "      <td>199</td>\n",
              "      <td>313</td>\n",
              "    </tr>\n",
              "    <tr>\n",
              "      <th>694</th>\n",
              "      <th>2</th>\n",
              "      <th>ultra</th>\n",
              "      <td>7,877.6</td>\n",
              "      <td>63</td>\n",
              "      <td>4</td>\n",
              "      <td>0</td>\n",
              "      <td>6</td>\n",
              "      <td>199</td>\n",
              "      <td>577</td>\n",
              "    </tr>\n",
              "    <tr>\n",
              "      <th>697</th>\n",
              "      <th>2</th>\n",
              "      <th>ultra</th>\n",
              "      <td>3,457.0</td>\n",
              "      <td>22</td>\n",
              "      <td>2</td>\n",
              "      <td>0</td>\n",
              "      <td>6</td>\n",
              "      <td>199</td>\n",
              "      <td>331</td>\n",
              "    </tr>\n",
              "    <tr>\n",
              "      <th>698</th>\n",
              "      <th>2</th>\n",
              "      <th>ultra</th>\n",
              "      <td>2,379.9</td>\n",
              "      <td>12</td>\n",
              "      <td>1</td>\n",
              "      <td>0</td>\n",
              "      <td>6</td>\n",
              "      <td>199</td>\n",
              "      <td>271</td>\n",
              "    </tr>\n",
              "  </tbody>\n",
              "</table>\n",
              "<p>354 rows × 7 columns</p>\n",
              "</div>"
            ],
            "text/plain": [
              "                                 sum_distance  sum_duration  count_session  \\\n",
              "user_id month subscription_type                                              \n",
              "3       2     ultra                   5,421.2            38              2   \n",
              "4       2     ultra                   6,339.7            49              2   \n",
              "5       2     ultra                   2,561.1            12              1   \n",
              "6       2     ultra                   3,961.4            28              1   \n",
              "10      2     ultra                   3,883.0            15              2   \n",
              "...                                       ...           ...            ...   \n",
              "691     2     ultra                   7,180.2            38              2   \n",
              "692     2     ultra                   3,300.4            19              1   \n",
              "694     2     ultra                   7,877.6            63              4   \n",
              "697     2     ultra                   3,457.0            22              2   \n",
              "698     2     ultra                   2,379.9            12              1   \n",
              "\n",
              "                                 sum_of_starts  price_of_minute  \\\n",
              "user_id month subscription_type                                   \n",
              "3       2     ultra                          0                6   \n",
              "4       2     ultra                          0                6   \n",
              "5       2     ultra                          0                6   \n",
              "6       2     ultra                          0                6   \n",
              "10      2     ultra                          0                6   \n",
              "...                                        ...              ...   \n",
              "691     2     ultra                          0                6   \n",
              "692     2     ultra                          0                6   \n",
              "694     2     ultra                          0                6   \n",
              "697     2     ultra                          0                6   \n",
              "698     2     ultra                          0                6   \n",
              "\n",
              "                                 price_of_subscription  income  \n",
              "user_id month subscription_type                                 \n",
              "3       2     ultra                                199     427  \n",
              "4       2     ultra                                199     493  \n",
              "5       2     ultra                                199     271  \n",
              "6       2     ultra                                199     367  \n",
              "10      2     ultra                                199     289  \n",
              "...                                                ...     ...  \n",
              "691     2     ultra                                199     427  \n",
              "692     2     ultra                                199     313  \n",
              "694     2     ultra                                199     577  \n",
              "697     2     ultra                                199     331  \n",
              "698     2     ultra                                199     271  \n",
              "\n",
              "[354 rows x 7 columns]"
            ]
          },
          "metadata": {},
          "output_type": "display_data"
        }
      ],
      "source": [
        "#Проверим данные. Выведем, например, информацию за февраль c выручкой пользоватлей с подпиской ultra\n",
        "display (all_groupby.query('month == 2 and subscription_type == \"ultra\"'))"
      ]
    },
    {
      "cell_type": "markdown",
      "id": "d1a1540d",
      "metadata": {
        "id": "d1a1540d"
      },
      "source": [
        "**Выводы**  \n",
        "В результате текущего шага была подготовлена сводная таблица с новым столбцом, в котором по условиям подписки посчитана выручка по каждому пользователю, сгруппированная по месяцам. По получившимся данным больше выручки приносят пользователи без подписки, хотя средняя стоимость 1 сессии 1 минуты у пользователей без подписки ниже."
      ]
    },
    {
      "cell_type": "markdown",
      "id": "41545ac0",
      "metadata": {
        "id": "41545ac0"
      },
      "source": [
        "#### Шаг 6. Проверка гипотез"
      ]
    },
    {
      "cell_type": "markdown",
      "id": "78f9e78d",
      "metadata": {
        "id": "78f9e78d"
      },
      "source": [
        "6.1. Проверим первую гипотизу: тратят ли пользователи с подпиской больше времени на поездки, чем пользователи без подписки?"
      ]
    },
    {
      "cell_type": "markdown",
      "id": "ba26807b",
      "metadata": {
        "id": "ba26807b"
      },
      "source": [
        "Нулевая гипотеза: Продолжительность поездок в минутах (duration) пользователей с подпиской ultra == продолжительности (duration) пользователей без подписки free  \n",
        "Альтернативная гипотеза: Продолжительность поездок в минутах (duration) пользователей с подпиской ultra > продолжительности поездок (duration) пользователей без подписки free\n",
        "Уровень статистической значимости зададим = 5% (alpha = 0.05)  \n",
        "Для проверки гипотизы найдем  p-value  и сравним его с уровнем статистической значимости"
      ]
    },
    {
      "cell_type": "code",
      "execution_count": null,
      "id": "70c083ce",
      "metadata": {
        "id": "70c083ce",
        "outputId": "ef674e3d-6470-40e5-fa1b-e91b7bf41ca8"
      },
      "outputs": [
        {
          "data": {
            "text/plain": [
              "1.2804098316645618e-34"
            ]
          },
          "metadata": {},
          "output_type": "display_data"
        },
        {
          "data": {
            "text/plain": [
              "'Отвергаем нулевую гипотезу '"
            ]
          },
          "metadata": {},
          "output_type": "display_data"
        }
      ],
      "source": [
        "test_ultra = ultra_all_pivot_table['duration']\n",
        "test_free = free_all_pivot_table['duration']\n",
        "\n",
        "#проверим правостороннюю гипотезу о том, что истинное среднее в первом датасете > истиного среднего во втором.\n",
        "results = st.ttest_ind(test_ultra, test_free, alternative = 'greater')\n",
        "alpha = 0.05\n",
        "\n",
        "display (results.pvalue)\n",
        "if results.pvalue < alpha:\n",
        "    display('Отвергаем нулевую гипотезу ')\n",
        "else:\n",
        "    display('Нет оснований отвергнуть нулевую гипотезу')"
      ]
    },
    {
      "cell_type": "markdown",
      "id": "8a38ef87",
      "metadata": {
        "id": "8a38ef87"
      },
      "source": [
        "Вывод: пользователи с подпиской могут быть «выгоднее» для компании, чем пользователи без нее."
      ]
    },
    {
      "cell_type": "code",
      "execution_count": null,
      "id": "01118c12",
      "metadata": {
        "id": "01118c12",
        "outputId": "c1e63b9b-4769-4d53-de4e-978fb3731bbf"
      },
      "outputs": [
        {
          "data": {
            "image/png": "[encoded data removed]",
            "text/plain": [
              "<Figure size 432x288 with 1 Axes>"
            ]
          },
          "metadata": {
            "needs_background": "light"
          },
          "output_type": "display_data"
        }
      ],
      "source": [
        "#сравним распределения поездок по продолжительности по месяцам и по виду подписок\n",
        "sns.barplot(x = 'month', y = 'duration', hue = \"subscription_type\", data = all_pivot_table, palette = ['r', 'b'],\n",
        "            alpha = 0.75)\n",
        "plt.title('Распределение продолжительности поездок duration по месяцам и видам подписок')\n",
        "plt.xlabel('Месяца')\n",
        "plt.ylabel('Продолжительность поездок, в минутах')\n",
        "plt.legend(loc='best')\n",
        "plt.grid()\n",
        "plt.show()"
      ]
    },
    {
      "cell_type": "markdown",
      "id": "f63b4730",
      "metadata": {
        "id": "f63b4730"
      },
      "source": [
        "По гистограме распределения видим, что истиное среднее пользователей с подпиской выше, чем у пользователей без подписки"
      ]
    },
    {
      "cell_type": "markdown",
      "id": "25bda28c",
      "metadata": {
        "id": "25bda28c"
      },
      "source": [
        "6.2 Проверим вторую гипотизу:  \n",
        "Верно ли, что среднее расстояние, которое проезжают пользователи с подпиской за одну поездку, не превышает 3130 метров?"
      ]
    },
    {
      "cell_type": "markdown",
      "id": "1463d0ef",
      "metadata": {
        "id": "1463d0ef"
      },
      "source": [
        "Нулевая гипотеза: Среднее растояние в метрах, которое проезжают пользователи с подпиской <= 3130 метров.  \n",
        "\n",
        "Альтернативная гипотеза: Среднее растояние в метрах, которое проезжают пользователи с подпиской > 3130 метров.\n",
        "Уровень статистической значимости зададим = 5% (alpha = 0.05)  \n",
        "Для проверки гипотизы найдем  p-value  и сравним его с уровнем статистической значимости"
      ]
    },
    {
      "cell_type": "code",
      "execution_count": null,
      "id": "691c417d",
      "metadata": {
        "id": "691c417d",
        "outputId": "c2e5ecfd-b771-4308-cff9-96cf3b4d53f9"
      },
      "outputs": [
        {
          "data": {
            "text/plain": [
              "0.9195368847849785"
            ]
          },
          "metadata": {},
          "output_type": "display_data"
        },
        {
          "data": {
            "text/plain": [
              "'Нет оснований отвергнуть нулевую гипотезу'"
            ]
          },
          "metadata": {},
          "output_type": "display_data"
        }
      ],
      "source": [
        "users_distance = ultra_all_pivot_table['distance']\n",
        "test_distance = 3130\n",
        "\n",
        "#проверим правостороннюю альтернативную гипотезу о том, что истинное среднее больше заданного значения.\n",
        "results = st.ttest_1samp(users_distance, test_distance,  alternative='greater')\n",
        "alpha = 0.05\n",
        "\n",
        "display (results.pvalue)\n",
        "if results.pvalue < alpha:\n",
        "    display('Отвергаем нулевую гипотезу ')\n",
        "else:\n",
        "    display('Нет оснований отвергнуть нулевую гипотезу')"
      ]
    },
    {
      "cell_type": "code",
      "execution_count": null,
      "id": "ee01900b",
      "metadata": {
        "id": "ee01900b",
        "outputId": "3377cc0d-7bc4-4413-8aca-852961ce3a98"
      },
      "outputs": [
        {
          "data": {
            "image/png": "[encoded data removed]",
            "text/plain": [
              "<Figure size 432x288 with 1 Axes>"
            ]
          },
          "metadata": {
            "needs_background": "light"
          },
          "output_type": "display_data"
        }
      ],
      "source": [
        "#исследуем распределение дистанций поездок в метрах у пользователей на тарифе ultra\n",
        "plt.hist(ultra_all_pivot_table['distance'], color = 'b', edgecolor = 'black', bins = 100, label='ultra',alpha = 0.5)\n",
        "plt.legend(loc='best')\n",
        "plt.title('Гистограмма распределения дистанций поездок у пользователей на тарифе ultra, в метрах.')\n",
        "plt.xlabel('Дистанция поездок, в метрах.')\n",
        "plt.ylabel('Кол-во поездок')\n",
        "plt.grid()\n",
        "plt.show()"
      ]
    },
    {
      "cell_type": "markdown",
      "id": "f7f181ac",
      "metadata": {
        "id": "f7f181ac"
      },
      "source": [
        "Сравнение p-value с уровнем стат. значимости показало, что мы не можем отвергнуть гипотизу о том, что истиное среднее значение дистанции пользователей на тарифе ultra меньше или равно 3130 метров.  \n",
        "Это означает, что истиное среднее значение дистанции пользователей на тарифе ultra меньше или равно оптимальному с точки зрения износа самоката растояния (3130 метров) при заданном уровне значимости 5%. т.е. самокаты изнашиваются медленнее."
      ]
    },
    {
      "cell_type": "markdown",
      "id": "37d40fcd",
      "metadata": {
        "id": "37d40fcd"
      },
      "source": [
        "6.3 Проверим третью гипотизу: будет ли помесячная выручка от пользователей с подпиской по месяцам выше, чем выручка от пользователей без подписки."
      ]
    },
    {
      "cell_type": "markdown",
      "id": "4eebd4d6",
      "metadata": {
        "id": "4eebd4d6"
      },
      "source": [
        "Нулевая гипотеза: Средняя помесячная выручка от пользователей с подпиской <= средней помесячная выручке от пользователей без подписки.\n",
        "\n",
        "Альтернативная гипотеза: Средняя помесячная выручка от пользователей с подпиской > средней помесячная выручке от пользователей без подписки.  Уровень статистической значимости зададим = 5% (alpha = 0.05)\n",
        "Для проверки гипотизы найдем p-value и сравним его с уровнем статистической значимости"
      ]
    },
    {
      "cell_type": "code",
      "execution_count": null,
      "id": "374f7ea4",
      "metadata": {
        "id": "374f7ea4",
        "outputId": "46d51531-19cc-4c3c-fd87-ae8c76da4471"
      },
      "outputs": [
        {
          "data": {
            "text/plain": [
              "2.8130926188487286e-35"
            ]
          },
          "metadata": {},
          "output_type": "display_data"
        },
        {
          "data": {
            "text/plain": [
              "'Отвергаем нулевую гипотезу'"
            ]
          },
          "metadata": {},
          "output_type": "display_data"
        }
      ],
      "source": [
        "#локализуем данные, полученные из общей таблицы по подписчикам и пользователям без подписки в отдельных датасетах\n",
        "ultra_month = all_groupby.loc[all_groupby['price_of_minute'] == 6, 'income']\n",
        "free_month = all_groupby.loc[all_groupby['price_of_minute'] == 8, 'income']\n",
        "\n",
        "#проверим правостороннюю гипотезу о том, что истинное среднее в первом датасете > истиному среднего во втором.\n",
        "results = st.ttest_ind(ultra_month, free_month, alternative = 'greater')\n",
        "alpha = 0.05\n",
        "\n",
        "display (results.pvalue)\n",
        "if results.pvalue < alpha:\n",
        "    display('Отвергаем нулевую гипотезу')\n",
        "else:\n",
        "    display('Нет оснований отвергнуть нулевую гипотезу')"
      ]
    },
    {
      "cell_type": "markdown",
      "id": "8f8237c2",
      "metadata": {
        "id": "8f8237c2"
      },
      "source": [
        "**Вывод**  \n",
        "Нулевую гипотеза отвергаем. Есть основания утверждать, истиное значение средней помесячной выручки от пользователей с подпиской выше средней помесячной выручки от пользователей без подписки, при установленном уровне значимости в 5 %\n",
        "\n",
        " На основе полученных данных по выборке и с учетом заданного нами уровня значимости у нас есть основания предполагать, что выводы могут быть распространены на генеральную совокупность тоже."
      ]
    },
    {
      "cell_type": "markdown",
      "id": "467c4176",
      "metadata": {
        "id": "467c4176"
      },
      "source": [
        "6.4 Проверим четвертую гипотизу.  \n",
        "Некоторый файл содержит для каждого пользователя данные о кол-ве обращений в тех.поддержку до обновления и после него. Какой тест вам понадобился бы для проверки этой гипотезы?"
      ]
    },
    {
      "cell_type": "markdown",
      "id": "841d6631",
      "metadata": {
        "id": "841d6631"
      },
      "source": [
        "Из описания понятно, что выборок у нас 2 и они являются парными зависимыми.  \n",
        "Гипотеза проверяется о равенстве средн. значения выборки до и после изменения.  \n",
        "Здесь лучше всего подойдет метод scipy.stats.ttest_rel(), аргументами которого явл-ся две парные выборки до и после изменения.   \n",
        "Если не указывать доп. параметр alternative или задать ему значение two-sided, проверяется двусторонняя гипотеза о равенстве средних значений.  \n",
        "Нулевая гипотеза - средние значения двух выборок ==,  альтернативная (левосторонняя) - обращений в техподдержку стало меньше после обновлени)."
      ]
    },
    {
      "cell_type": "markdown",
      "id": "4a98c985",
      "metadata": {
        "id": "4a98c985"
      },
      "source": [
        "**Выводы:**  \n",
        "На текущем шаге было проверено 3 гипотизы. В результате проверки гипотез можно сделать следующие выводы:  \n",
        "1. Пользователи с подпиской могут быть «выгоднее» для компании, чем пользователи без нее, т.к. средняя продолжительность времени поездок пользователей на тарифе ultra выше.  \n",
        "2. Истиное среднее значение дистанции пользователей на тарифе ultra меньше оптимального с точки зрения износа самоката растояния (3130 метров), т.е. самокаты у этих пользователей прослужат долго.  \n",
        "3. Средняя помесячная выручка от пользователей с подпиской ultra больше средней помесячной выручки от пользователей без подписки.\n",
        "4. Для проверки описанных выборок лучше всего подойдет метод scipy.stats.ttest_rel(), аргументами которого явл-ся две парные выборки до и после изменения."
      ]
    },
    {
      "cell_type": "markdown",
      "id": "63e39ae4",
      "metadata": {
        "id": "63e39ae4"
      },
      "source": [
        "# Ключевые выводы статистического анализа GoFast\n",
        "\n",
        "## Профиль пользователей и поведенческие паттерны\n",
        "\n",
        "### Демографические характеристики:\n",
        "- **Средний возраст**: 25 лет (медиана и среднее совпадают)\n",
        "- **География**: 8 городов с лидерством Пятигорска (+3% к Москве)\n",
        "- **Подписки**: 68% пользователей используют тариф free против 32% на ultra\n",
        "\n",
        "### Характеристики поездок:\n",
        "- **Дистанция**: средняя 3070 м, медиана 3134 м (min 0.85 м, max 7211 м)\n",
        "- **Время**: среднее и медиана ≈18 минут (min 0.5 мин, max 41 мин)\n",
        "- **Сезонность**: пик активности в январе, спад в феврале\n",
        "\n",
        "## 📈 Сравнительный анализ тарифов\n",
        "\n",
        "### Пользователи БЕЗ подписки (free):\n",
        "- **Дистанция**: 3045 м (медиана 3115 м) - широкий разброс 0.85-7211 м\n",
        "- **Время**: 17 минут - минимальная поездка 0.5 минуты\n",
        "- **Поведение**: высокая вариативность, больше спонтанных поездок\n",
        "\n",
        "### Пользователи С подпиской (ultra):\n",
        "- **Дистанция**: 3115 м (медиана 3149 м) - стабильный диапазон 244-5699 м\n",
        "- **Время**: 18.5 минут - минимальная поездка 3.7 минуты\n",
        "- **Поведение**: предсказуемые паттерны, планируемое использование\n",
        "\n",
        "## ✅ Статистически подтвержденные гипотезы\n",
        "\n",
        "### Гипотеза 1: Время поездок\n",
        "**\"Пользователи ultra тратят больше времени на поездки\"** ✅ ПОДТВЕРЖДЕНО\n",
        "- Правосторонний t-тест показал значимое преимущество ultra пользователей\n",
        "\n",
        "### Гипотеза 2: Оптимальность дистанции  \n",
        "**\"Дистанция ultra пользователей оптимальна для износа самокатов\"** ✅ ПОДТВЕРЖДЕНО\n",
        "- Левосторонний тест: 3115 м < 3130 м (оптимальный порог износа)\n",
        "\n",
        "### Гипотеза 3: Выручка\n",
        "**\"Помесячная выручка от ultra выше\"** ✅ ПОДТВЕРЖДЕНО  \n",
        "- Статистически значимое преимущество выручки с ultra подписчиков\n",
        "\n",
        "## Рекомендации для бизнеса\n",
        "\n",
        "### Приоритетная стратегия:\n",
        "**Активное продвижение подписки ultra** как основного драйвера роста:\n",
        "\n",
        "### Преимущества ultra для бизнеса:\n",
        "-  **Выше выручка** - статистически подтвержденное преимущество\n",
        "-  **Меньше износ** - оптимальные дистанции продлевают жизнь самокатов  \n",
        "-  **Больше время использования** - повышение utilization rate парка\n",
        "-  **Предсказуемость** - стабильные паттерны использования упрощают планирование\n",
        "\n",
        "### Дополнительные рекомендации:\n",
        "- Исследовать аномалию январской активности для оптимизации операционных процессов\n",
        "- Разработать программы лояльности для конвертации free → ultra\n",
        "- Учитывать региональные особенности при масштабировании сервиса"
      ]
    }
  ],
  "metadata": {
    "ExecuteTimeLog": [
      {
        "duration": 1247,
        "start_time": "2025-01-21T17:43:46.694Z"
      },
      {
        "duration": 610,
        "start_time": "2025-01-21T17:44:07.088Z"
      },
      {
        "duration": 14,
        "start_time": "2025-01-21T17:44:31.176Z"
      },
      {
        "duration": 8,
        "start_time": "2025-01-21T17:47:29.359Z"
      },
      {
        "duration": 8,
        "start_time": "2025-01-21T17:47:58.644Z"
      },
      {
        "duration": 16,
        "start_time": "2025-01-21T17:49:36.833Z"
      },
      {
        "duration": 18,
        "start_time": "2025-01-21T17:49:46.072Z"
      },
      {
        "duration": 8,
        "start_time": "2025-01-21T17:50:54.308Z"
      },
      {
        "duration": 3,
        "start_time": "2025-01-21T17:53:30.211Z"
      },
      {
        "duration": 313,
        "start_time": "2025-01-21T17:53:31.416Z"
      },
      {
        "duration": 14,
        "start_time": "2025-01-21T17:53:32.402Z"
      },
      {
        "duration": 7,
        "start_time": "2025-01-21T17:53:33.196Z"
      },
      {
        "duration": 7,
        "start_time": "2025-01-21T17:53:33.683Z"
      },
      {
        "duration": 15,
        "start_time": "2025-01-21T17:53:34.203Z"
      },
      {
        "duration": 8,
        "start_time": "2025-01-21T17:53:35.462Z"
      },
      {
        "duration": 13,
        "start_time": "2025-01-21T17:53:36.454Z"
      },
      {
        "duration": 3,
        "start_time": "2025-01-21T17:54:32.067Z"
      },
      {
        "duration": 2,
        "start_time": "2025-01-21T17:54:48.510Z"
      },
      {
        "duration": 3,
        "start_time": "2025-01-21T17:55:05.891Z"
      },
      {
        "duration": 315,
        "start_time": "2025-01-21T17:55:07.211Z"
      },
      {
        "duration": 303,
        "start_time": "2025-01-21T17:55:30.667Z"
      },
      {
        "duration": 15,
        "start_time": "2025-01-21T17:55:31.716Z"
      },
      {
        "duration": 6,
        "start_time": "2025-01-21T17:55:32.430Z"
      },
      {
        "duration": 8,
        "start_time": "2025-01-21T17:55:32.866Z"
      },
      {
        "duration": 17,
        "start_time": "2025-01-21T17:55:33.414Z"
      },
      {
        "duration": 14,
        "start_time": "2025-01-21T17:55:34.411Z"
      },
      {
        "duration": 13,
        "start_time": "2025-01-21T17:55:35.264Z"
      },
      {
        "duration": 85,
        "start_time": "2025-01-21T17:59:42.258Z"
      },
      {
        "duration": 97,
        "start_time": "2025-01-21T18:02:25.707Z"
      },
      {
        "duration": 8,
        "start_time": "2025-01-21T18:03:00.840Z"
      },
      {
        "duration": 9,
        "start_time": "2025-01-21T18:03:55.272Z"
      },
      {
        "duration": 139,
        "start_time": "2025-01-21T18:07:31.609Z"
      },
      {
        "duration": 121,
        "start_time": "2025-01-21T18:07:51.509Z"
      },
      {
        "duration": 91,
        "start_time": "2025-01-21T18:08:52.299Z"
      },
      {
        "duration": 125,
        "start_time": "2025-01-21T18:09:00.454Z"
      },
      {
        "duration": 127,
        "start_time": "2025-01-21T18:09:28.339Z"
      },
      {
        "duration": 128,
        "start_time": "2025-01-21T18:09:53.596Z"
      },
      {
        "duration": 175,
        "start_time": "2025-01-21T18:13:04.568Z"
      },
      {
        "duration": 10,
        "start_time": "2025-01-21T18:16:03.247Z"
      },
      {
        "duration": 79,
        "start_time": "2025-01-21T18:16:21.891Z"
      },
      {
        "duration": 178,
        "start_time": "2025-01-21T18:18:11.753Z"
      },
      {
        "duration": 175,
        "start_time": "2025-01-21T18:18:21.295Z"
      },
      {
        "duration": 157,
        "start_time": "2025-01-21T18:20:13.288Z"
      },
      {
        "duration": 11,
        "start_time": "2025-01-21T18:23:39.579Z"
      },
      {
        "duration": 76,
        "start_time": "2025-01-21T18:24:26.073Z"
      },
      {
        "duration": 11,
        "start_time": "2025-01-21T18:25:19.846Z"
      },
      {
        "duration": 19,
        "start_time": "2025-01-21T18:26:55.036Z"
      },
      {
        "duration": 16,
        "start_time": "2025-01-21T18:27:34.161Z"
      },
      {
        "duration": 16,
        "start_time": "2025-01-21T18:30:54.426Z"
      },
      {
        "duration": 13,
        "start_time": "2025-01-21T18:31:04.086Z"
      },
      {
        "duration": 3,
        "start_time": "2025-01-21T18:31:38.106Z"
      },
      {
        "duration": 308,
        "start_time": "2025-01-21T18:31:39.086Z"
      },
      {
        "duration": 17,
        "start_time": "2025-01-21T18:31:41.831Z"
      },
      {
        "duration": 6,
        "start_time": "2025-01-21T18:31:42.477Z"
      },
      {
        "duration": 7,
        "start_time": "2025-01-21T18:31:42.723Z"
      },
      {
        "duration": 16,
        "start_time": "2025-01-21T18:31:43.216Z"
      },
      {
        "duration": 8,
        "start_time": "2025-01-21T18:31:44.010Z"
      },
      {
        "duration": 15,
        "start_time": "2025-01-21T18:31:44.734Z"
      },
      {
        "duration": 3,
        "start_time": "2025-01-21T18:31:46.014Z"
      },
      {
        "duration": 10,
        "start_time": "2025-01-21T18:31:46.918Z"
      },
      {
        "duration": 128,
        "start_time": "2025-01-21T18:31:47.883Z"
      },
      {
        "duration": 184,
        "start_time": "2025-01-21T18:31:49.455Z"
      },
      {
        "duration": 75,
        "start_time": "2025-01-21T18:31:51.116Z"
      },
      {
        "duration": 13,
        "start_time": "2025-01-21T18:31:53.991Z"
      },
      {
        "duration": 14,
        "start_time": "2025-01-21T18:33:00.786Z"
      },
      {
        "duration": 118,
        "start_time": "2025-01-21T18:37:12.707Z"
      },
      {
        "duration": 110,
        "start_time": "2025-01-21T18:38:27.215Z"
      },
      {
        "duration": 120,
        "start_time": "2025-01-21T18:39:27.627Z"
      },
      {
        "duration": 13,
        "start_time": "2025-01-21T18:48:56.843Z"
      },
      {
        "duration": 8,
        "start_time": "2025-01-21T18:49:20.615Z"
      },
      {
        "duration": 349,
        "start_time": "2025-01-21T18:50:17.942Z"
      },
      {
        "duration": 1342,
        "start_time": "2025-01-21T18:51:26.072Z"
      },
      {
        "duration": 1343,
        "start_time": "2025-01-21T18:51:43.770Z"
      },
      {
        "duration": 169,
        "start_time": "2025-01-21T18:52:16.305Z"
      },
      {
        "duration": 338,
        "start_time": "2025-01-21T18:54:05.563Z"
      },
      {
        "duration": 328,
        "start_time": "2025-01-21T18:54:27.346Z"
      },
      {
        "duration": 83,
        "start_time": "2025-01-21T18:54:47.131Z"
      },
      {
        "duration": 14,
        "start_time": "2025-01-21T18:58:54.343Z"
      },
      {
        "duration": 74,
        "start_time": "2025-01-21T18:59:31.602Z"
      },
      {
        "duration": 2,
        "start_time": "2025-01-21T18:59:51.677Z"
      },
      {
        "duration": 417,
        "start_time": "2025-01-21T18:59:51.997Z"
      },
      {
        "duration": 15,
        "start_time": "2025-01-21T18:59:53.155Z"
      },
      {
        "duration": 6,
        "start_time": "2025-01-21T18:59:53.511Z"
      },
      {
        "duration": 8,
        "start_time": "2025-01-21T18:59:53.725Z"
      },
      {
        "duration": 16,
        "start_time": "2025-01-21T18:59:53.942Z"
      },
      {
        "duration": 11,
        "start_time": "2025-01-21T18:59:54.398Z"
      },
      {
        "duration": 13,
        "start_time": "2025-01-21T18:59:54.764Z"
      },
      {
        "duration": 3,
        "start_time": "2025-01-21T18:59:55.368Z"
      },
      {
        "duration": 10,
        "start_time": "2025-01-21T18:59:55.581Z"
      },
      {
        "duration": 129,
        "start_time": "2025-01-21T18:59:55.792Z"
      },
      {
        "duration": 184,
        "start_time": "2025-01-21T18:59:56.211Z"
      },
      {
        "duration": 167,
        "start_time": "2025-01-21T18:59:56.617Z"
      },
      {
        "duration": 10,
        "start_time": "2025-01-21T18:59:57.041Z"
      },
      {
        "duration": 113,
        "start_time": "2025-01-21T18:59:57.493Z"
      },
      {
        "duration": 353,
        "start_time": "2025-01-21T18:59:58.009Z"
      },
      {
        "duration": 91,
        "start_time": "2025-01-21T18:59:58.593Z"
      },
      {
        "duration": 15,
        "start_time": "2025-01-21T19:00:00.513Z"
      },
      {
        "duration": 90,
        "start_time": "2025-01-21T19:00:01.166Z"
      },
      {
        "duration": 14,
        "start_time": "2025-01-21T19:01:10.467Z"
      },
      {
        "duration": 14,
        "start_time": "2025-01-21T19:01:28.742Z"
      },
      {
        "duration": 324,
        "start_time": "2025-01-21T19:02:49.171Z"
      },
      {
        "duration": 432,
        "start_time": "2025-01-21T19:07:47.556Z"
      },
      {
        "duration": 82,
        "start_time": "2025-01-21T19:10:53.796Z"
      },
      {
        "duration": 13,
        "start_time": "2025-01-21T19:12:56.095Z"
      },
      {
        "duration": 327,
        "start_time": "2025-01-21T19:13:37.764Z"
      },
      {
        "duration": 3,
        "start_time": "2025-01-21T19:15:30.715Z"
      },
      {
        "duration": 314,
        "start_time": "2025-01-21T19:15:31.269Z"
      },
      {
        "duration": 15,
        "start_time": "2025-01-21T19:15:32.286Z"
      },
      {
        "duration": 6,
        "start_time": "2025-01-21T19:15:32.754Z"
      },
      {
        "duration": 8,
        "start_time": "2025-01-21T19:15:32.949Z"
      },
      {
        "duration": 18,
        "start_time": "2025-01-21T19:15:33.159Z"
      },
      {
        "duration": 8,
        "start_time": "2025-01-21T19:15:33.536Z"
      },
      {
        "duration": 15,
        "start_time": "2025-01-21T19:15:33.942Z"
      },
      {
        "duration": 2,
        "start_time": "2025-01-21T19:15:34.538Z"
      },
      {
        "duration": 9,
        "start_time": "2025-01-21T19:15:34.756Z"
      },
      {
        "duration": 125,
        "start_time": "2025-01-21T19:15:34.963Z"
      },
      {
        "duration": 198,
        "start_time": "2025-01-21T19:15:36.825Z"
      },
      {
        "duration": 80,
        "start_time": "2025-01-21T19:15:37.869Z"
      },
      {
        "duration": 12,
        "start_time": "2025-01-21T19:15:40.046Z"
      },
      {
        "duration": 120,
        "start_time": "2025-01-21T19:15:40.982Z"
      },
      {
        "duration": 463,
        "start_time": "2025-01-21T19:15:42.200Z"
      },
      {
        "duration": 95,
        "start_time": "2025-01-21T19:15:42.665Z"
      },
      {
        "duration": 15,
        "start_time": "2025-01-21T19:15:43.419Z"
      },
      {
        "duration": 313,
        "start_time": "2025-01-21T19:15:43.895Z"
      },
      {
        "duration": 352,
        "start_time": "2025-01-21T19:15:44.934Z"
      },
      {
        "duration": 96,
        "start_time": "2025-01-21T19:15:46.159Z"
      },
      {
        "duration": 14,
        "start_time": "2025-01-21T19:15:47.463Z"
      },
      {
        "duration": 462,
        "start_time": "2025-01-21T19:15:48.110Z"
      },
      {
        "duration": 7,
        "start_time": "2025-01-21T19:16:40.592Z"
      },
      {
        "duration": 11,
        "start_time": "2025-01-21T19:17:05.395Z"
      },
      {
        "duration": 9,
        "start_time": "2025-01-21T19:17:06.138Z"
      },
      {
        "duration": 33,
        "start_time": "2025-01-21T19:17:29.488Z"
      },
      {
        "duration": 233,
        "start_time": "2025-01-21T19:18:45.027Z"
      },
      {
        "duration": 425,
        "start_time": "2025-01-21T19:18:54.741Z"
      },
      {
        "duration": 284,
        "start_time": "2025-01-21T19:19:01.244Z"
      },
      {
        "duration": 310,
        "start_time": "2025-01-21T19:19:20.028Z"
      },
      {
        "duration": 197,
        "start_time": "2025-01-21T19:19:27.349Z"
      },
      {
        "duration": 235,
        "start_time": "2025-01-21T19:19:32.947Z"
      },
      {
        "duration": 322,
        "start_time": "2025-01-21T19:20:29.384Z"
      },
      {
        "duration": 129,
        "start_time": "2025-01-21T19:20:40.932Z"
      },
      {
        "duration": 122,
        "start_time": "2025-01-21T19:23:01.614Z"
      },
      {
        "duration": 134,
        "start_time": "2025-01-21T19:23:13.063Z"
      },
      {
        "duration": 6,
        "start_time": "2025-01-21T19:25:36.660Z"
      },
      {
        "duration": 11,
        "start_time": "2025-01-21T19:26:00.661Z"
      },
      {
        "duration": 4,
        "start_time": "2025-01-21T19:26:17.172Z"
      },
      {
        "duration": 86,
        "start_time": "2025-01-21T19:36:37.044Z"
      },
      {
        "duration": 3,
        "start_time": "2025-01-21T19:47:13.471Z"
      },
      {
        "duration": 393,
        "start_time": "2025-01-21T19:47:13.918Z"
      },
      {
        "duration": 15,
        "start_time": "2025-01-21T19:47:14.313Z"
      },
      {
        "duration": 5,
        "start_time": "2025-01-21T19:47:15.153Z"
      },
      {
        "duration": 8,
        "start_time": "2025-01-21T19:47:15.414Z"
      },
      {
        "duration": 19,
        "start_time": "2025-01-21T19:47:15.634Z"
      },
      {
        "duration": 8,
        "start_time": "2025-01-21T19:47:16.039Z"
      },
      {
        "duration": 13,
        "start_time": "2025-01-21T19:47:16.475Z"
      },
      {
        "duration": 9,
        "start_time": "2025-01-21T19:47:17.100Z"
      },
      {
        "duration": 229,
        "start_time": "2025-01-21T19:47:17.310Z"
      },
      {
        "duration": 186,
        "start_time": "2025-01-21T19:47:17.739Z"
      },
      {
        "duration": 75,
        "start_time": "2025-01-21T19:47:18.183Z"
      },
      {
        "duration": 12,
        "start_time": "2025-01-21T19:47:18.640Z"
      },
      {
        "duration": 117,
        "start_time": "2025-01-21T19:47:19.038Z"
      },
      {
        "duration": 330,
        "start_time": "2025-01-21T19:47:19.847Z"
      },
      {
        "duration": 91,
        "start_time": "2025-01-21T19:47:20.179Z"
      },
      {
        "duration": 13,
        "start_time": "2025-01-21T19:47:20.466Z"
      },
      {
        "duration": 310,
        "start_time": "2025-01-21T19:47:20.931Z"
      },
      {
        "duration": 345,
        "start_time": "2025-01-21T19:47:21.370Z"
      },
      {
        "duration": 86,
        "start_time": "2025-01-21T19:47:21.855Z"
      },
      {
        "duration": 15,
        "start_time": "2025-01-21T19:47:22.480Z"
      },
      {
        "duration": 286,
        "start_time": "2025-01-21T19:47:22.582Z"
      },
      {
        "duration": 6,
        "start_time": "2025-01-21T19:47:23.205Z"
      },
      {
        "duration": 32,
        "start_time": "2025-01-21T19:47:23.433Z"
      },
      {
        "duration": 118,
        "start_time": "2025-01-21T19:47:23.985Z"
      },
      {
        "duration": 135,
        "start_time": "2025-01-21T19:47:24.958Z"
      },
      {
        "duration": 5,
        "start_time": "2025-01-21T19:47:25.679Z"
      },
      {
        "duration": 3,
        "start_time": "2025-01-21T19:57:37.804Z"
      },
      {
        "duration": 311,
        "start_time": "2025-01-21T19:57:38.630Z"
      },
      {
        "duration": 16,
        "start_time": "2025-01-21T19:57:39.102Z"
      },
      {
        "duration": 6,
        "start_time": "2025-01-21T19:57:39.554Z"
      },
      {
        "duration": 7,
        "start_time": "2025-01-21T19:57:39.760Z"
      },
      {
        "duration": 18,
        "start_time": "2025-01-21T19:57:40.023Z"
      },
      {
        "duration": 8,
        "start_time": "2025-01-21T19:57:40.502Z"
      },
      {
        "duration": 15,
        "start_time": "2025-01-21T19:57:40.826Z"
      },
      {
        "duration": 9,
        "start_time": "2025-01-21T19:57:41.962Z"
      },
      {
        "duration": 121,
        "start_time": "2025-01-21T19:57:42.200Z"
      },
      {
        "duration": 179,
        "start_time": "2025-01-21T19:57:42.694Z"
      },
      {
        "duration": 77,
        "start_time": "2025-01-21T19:57:43.186Z"
      },
      {
        "duration": 11,
        "start_time": "2025-01-21T19:57:43.679Z"
      },
      {
        "duration": 124,
        "start_time": "2025-01-21T19:57:44.225Z"
      },
      {
        "duration": 491,
        "start_time": "2025-01-21T19:57:44.938Z"
      },
      {
        "duration": 96,
        "start_time": "2025-01-21T19:57:45.431Z"
      },
      {
        "duration": 15,
        "start_time": "2025-01-21T19:57:45.818Z"
      },
      {
        "duration": 308,
        "start_time": "2025-01-21T19:57:46.295Z"
      },
      {
        "duration": 239,
        "start_time": "2025-01-21T19:57:47.245Z"
      },
      {
        "duration": 86,
        "start_time": "2025-01-21T19:57:48.766Z"
      },
      {
        "duration": 14,
        "start_time": "2025-01-21T19:57:49.982Z"
      },
      {
        "duration": 421,
        "start_time": "2025-01-21T19:57:50.791Z"
      },
      {
        "duration": 7,
        "start_time": "2025-01-21T19:57:52.038Z"
      },
      {
        "duration": 31,
        "start_time": "2025-01-21T19:57:52.781Z"
      },
      {
        "duration": 120,
        "start_time": "2025-01-21T19:57:53.728Z"
      },
      {
        "duration": 142,
        "start_time": "2025-01-21T19:57:55.196Z"
      },
      {
        "duration": 4,
        "start_time": "2025-01-21T19:57:57.254Z"
      },
      {
        "duration": 8,
        "start_time": "2025-01-21T20:06:54.982Z"
      },
      {
        "duration": 28,
        "start_time": "2025-01-21T20:07:07.511Z"
      },
      {
        "duration": 62,
        "start_time": "2025-01-21T20:08:02.201Z"
      },
      {
        "duration": 64,
        "start_time": "2025-01-21T20:08:56.309Z"
      },
      {
        "duration": 70,
        "start_time": "2025-01-21T20:12:10.205Z"
      },
      {
        "duration": 1280,
        "start_time": "2025-01-22T18:01:47.584Z"
      },
      {
        "duration": 483,
        "start_time": "2025-01-22T18:01:48.867Z"
      },
      {
        "duration": 20,
        "start_time": "2025-01-22T18:01:51.512Z"
      },
      {
        "duration": 6,
        "start_time": "2025-01-22T18:01:53.104Z"
      },
      {
        "duration": 8,
        "start_time": "2025-01-22T18:01:53.658Z"
      },
      {
        "duration": 17,
        "start_time": "2025-01-22T18:01:54.207Z"
      },
      {
        "duration": 8,
        "start_time": "2025-01-22T18:01:55.326Z"
      },
      {
        "duration": 13,
        "start_time": "2025-01-22T18:01:56.327Z"
      },
      {
        "duration": 7,
        "start_time": "2025-01-22T18:02:15.743Z"
      },
      {
        "duration": 84,
        "start_time": "2025-01-22T18:05:13.176Z"
      },
      {
        "duration": 7,
        "start_time": "2025-01-22T18:05:20.866Z"
      },
      {
        "duration": 93,
        "start_time": "2025-01-22T18:05:35.672Z"
      },
      {
        "duration": 6,
        "start_time": "2025-01-22T18:05:41.761Z"
      },
      {
        "duration": 6,
        "start_time": "2025-01-22T18:05:59.202Z"
      },
      {
        "duration": 83,
        "start_time": "2025-01-22T18:06:26.576Z"
      },
      {
        "duration": 86,
        "start_time": "2025-01-22T18:06:40.374Z"
      },
      {
        "duration": 7,
        "start_time": "2025-01-22T18:06:51.882Z"
      },
      {
        "duration": 8,
        "start_time": "2025-01-22T18:07:14.201Z"
      },
      {
        "duration": 10,
        "start_time": "2025-01-22T18:09:25.871Z"
      },
      {
        "duration": 5,
        "start_time": "2025-01-22T18:09:40.827Z"
      },
      {
        "duration": 8,
        "start_time": "2025-01-22T18:09:53.681Z"
      },
      {
        "duration": 2,
        "start_time": "2025-01-22T18:10:29.232Z"
      },
      {
        "duration": 876,
        "start_time": "2025-01-22T18:10:30.262Z"
      },
      {
        "duration": 15,
        "start_time": "2025-01-22T18:10:35.863Z"
      },
      {
        "duration": 4,
        "start_time": "2025-01-22T18:11:12.320Z"
      },
      {
        "duration": 278,
        "start_time": "2025-01-22T18:11:13.309Z"
      },
      {
        "duration": 15,
        "start_time": "2025-01-22T18:11:13.783Z"
      },
      {
        "duration": 16,
        "start_time": "2025-01-22T18:11:46.485Z"
      },
      {
        "duration": 13,
        "start_time": "2025-01-22T18:11:54.291Z"
      },
      {
        "duration": 13,
        "start_time": "2025-01-22T18:12:48.921Z"
      },
      {
        "duration": 7,
        "start_time": "2025-01-22T18:12:52.634Z"
      },
      {
        "duration": 7,
        "start_time": "2025-01-22T18:12:54.120Z"
      },
      {
        "duration": 84,
        "start_time": "2025-01-22T18:14:51.638Z"
      },
      {
        "duration": 7,
        "start_time": "2025-01-22T18:14:59.101Z"
      },
      {
        "duration": 7,
        "start_time": "2025-01-22T18:16:03.378Z"
      },
      {
        "duration": 5,
        "start_time": "2025-01-22T18:16:04.083Z"
      },
      {
        "duration": 7,
        "start_time": "2025-01-22T18:16:22.811Z"
      },
      {
        "duration": 8,
        "start_time": "2025-01-22T18:16:37.878Z"
      },
      {
        "duration": 5,
        "start_time": "2025-01-22T18:20:30.506Z"
      },
      {
        "duration": 164,
        "start_time": "2025-01-22T18:20:53.610Z"
      },
      {
        "duration": 122,
        "start_time": "2025-01-22T18:27:47.535Z"
      },
      {
        "duration": 111,
        "start_time": "2025-01-22T18:27:57.500Z"
      },
      {
        "duration": 119,
        "start_time": "2025-01-22T18:28:34.229Z"
      },
      {
        "duration": 4,
        "start_time": "2025-01-22T18:30:26.883Z"
      },
      {
        "duration": 172,
        "start_time": "2025-01-22T18:30:30.941Z"
      },
      {
        "duration": 117,
        "start_time": "2025-01-22T18:30:45.014Z"
      },
      {
        "duration": 173,
        "start_time": "2025-01-22T18:31:22.377Z"
      },
      {
        "duration": 3,
        "start_time": "2025-01-22T18:33:13.088Z"
      },
      {
        "duration": 83,
        "start_time": "2025-01-22T18:34:43.550Z"
      },
      {
        "duration": 431,
        "start_time": "2025-01-22T18:35:00.178Z"
      },
      {
        "duration": 235,
        "start_time": "2025-01-22T18:35:51.825Z"
      },
      {
        "duration": 247,
        "start_time": "2025-01-22T18:36:19.508Z"
      },
      {
        "duration": 84,
        "start_time": "2025-01-22T18:39:21.917Z"
      },
      {
        "duration": 2,
        "start_time": "2025-01-22T18:42:43.968Z"
      },
      {
        "duration": 248,
        "start_time": "2025-01-22T18:44:00.147Z"
      },
      {
        "duration": 89,
        "start_time": "2025-01-22T18:48:36.522Z"
      },
      {
        "duration": 2,
        "start_time": "2025-01-22T18:49:48.938Z"
      },
      {
        "duration": 88,
        "start_time": "2025-01-22T18:49:52.267Z"
      },
      {
        "duration": 2,
        "start_time": "2025-01-22T18:49:53.852Z"
      },
      {
        "duration": 350,
        "start_time": "2025-01-22T18:51:09.646Z"
      },
      {
        "duration": 87,
        "start_time": "2025-01-22T18:51:14.198Z"
      },
      {
        "duration": 143,
        "start_time": "2025-01-22T18:52:42.956Z"
      },
      {
        "duration": 137,
        "start_time": "2025-01-22T18:53:20.241Z"
      },
      {
        "duration": 1358,
        "start_time": "2025-01-22T18:53:53.459Z"
      },
      {
        "duration": 8,
        "start_time": "2025-01-22T18:59:37.768Z"
      },
      {
        "duration": 8,
        "start_time": "2025-01-22T19:00:13.528Z"
      },
      {
        "duration": 3,
        "start_time": "2025-01-22T19:06:56.442Z"
      },
      {
        "duration": 388,
        "start_time": "2025-01-22T19:06:57.497Z"
      },
      {
        "duration": 15,
        "start_time": "2025-01-22T19:06:59.255Z"
      },
      {
        "duration": 17,
        "start_time": "2025-01-22T19:07:00.304Z"
      },
      {
        "duration": 14,
        "start_time": "2025-01-22T19:07:01.451Z"
      },
      {
        "duration": 7,
        "start_time": "2025-01-22T19:07:03.889Z"
      },
      {
        "duration": 8,
        "start_time": "2025-01-22T19:07:04.305Z"
      },
      {
        "duration": 5,
        "start_time": "2025-01-22T19:07:05.046Z"
      },
      {
        "duration": 6,
        "start_time": "2025-01-22T19:07:06.313Z"
      },
      {
        "duration": 7,
        "start_time": "2025-01-22T19:07:08.551Z"
      },
      {
        "duration": 8,
        "start_time": "2025-01-22T19:07:09.323Z"
      },
      {
        "duration": 5,
        "start_time": "2025-01-22T19:07:10.180Z"
      },
      {
        "duration": 5,
        "start_time": "2025-01-22T19:07:12.490Z"
      },
      {
        "duration": 127,
        "start_time": "2025-01-22T19:07:12.932Z"
      },
      {
        "duration": 2,
        "start_time": "2025-01-22T19:07:13.864Z"
      },
      {
        "duration": 140,
        "start_time": "2025-01-22T19:07:14.330Z"
      },
      {
        "duration": 2,
        "start_time": "2025-01-22T19:07:15.258Z"
      },
      {
        "duration": 175,
        "start_time": "2025-01-22T19:07:15.731Z"
      },
      {
        "duration": 76,
        "start_time": "2025-01-22T19:07:16.720Z"
      },
      {
        "duration": 2,
        "start_time": "2025-01-22T19:07:18.039Z"
      },
      {
        "duration": 240,
        "start_time": "2025-01-22T19:07:18.978Z"
      },
      {
        "duration": 84,
        "start_time": "2025-01-22T19:07:20.199Z"
      },
      {
        "duration": 2,
        "start_time": "2025-01-22T19:07:21.463Z"
      },
      {
        "duration": 314,
        "start_time": "2025-01-22T19:07:22.114Z"
      },
      {
        "duration": 85,
        "start_time": "2025-01-22T19:07:23.751Z"
      },
      {
        "duration": 2,
        "start_time": "2025-01-22T19:07:25.117Z"
      },
      {
        "duration": 129,
        "start_time": "2025-01-22T19:07:25.817Z"
      },
      {
        "duration": 68,
        "start_time": "2025-01-22T19:08:49.226Z"
      },
      {
        "duration": 7,
        "start_time": "2025-01-22T19:13:55.673Z"
      },
      {
        "duration": 6,
        "start_time": "2025-01-22T19:13:56.431Z"
      },
      {
        "duration": 7,
        "start_time": "2025-01-22T19:14:26.093Z"
      },
      {
        "duration": 16,
        "start_time": "2025-01-22T19:41:49.219Z"
      },
      {
        "duration": 21,
        "start_time": "2025-01-22T19:42:23.004Z"
      },
      {
        "duration": 1015,
        "start_time": "2025-01-22T19:43:31.206Z"
      },
      {
        "duration": 1085,
        "start_time": "2025-01-22T19:44:21.063Z"
      },
      {
        "duration": 3,
        "start_time": "2025-01-22T19:45:06.056Z"
      },
      {
        "duration": 290,
        "start_time": "2025-01-22T19:45:06.542Z"
      },
      {
        "duration": 17,
        "start_time": "2025-01-22T19:45:06.835Z"
      },
      {
        "duration": 17,
        "start_time": "2025-01-22T19:45:07.245Z"
      },
      {
        "duration": 14,
        "start_time": "2025-01-22T19:45:07.913Z"
      },
      {
        "duration": 7,
        "start_time": "2025-01-22T19:45:08.783Z"
      },
      {
        "duration": 8,
        "start_time": "2025-01-22T19:45:09.011Z"
      },
      {
        "duration": 5,
        "start_time": "2025-01-22T19:45:09.224Z"
      },
      {
        "duration": 6,
        "start_time": "2025-01-22T19:45:09.672Z"
      },
      {
        "duration": 8,
        "start_time": "2025-01-22T19:45:09.907Z"
      },
      {
        "duration": 8,
        "start_time": "2025-01-22T19:45:10.102Z"
      },
      {
        "duration": 5,
        "start_time": "2025-01-22T19:45:10.352Z"
      },
      {
        "duration": 6,
        "start_time": "2025-01-22T19:45:11.220Z"
      },
      {
        "duration": 137,
        "start_time": "2025-01-22T19:45:11.456Z"
      },
      {
        "duration": 3,
        "start_time": "2025-01-22T19:45:12.216Z"
      },
      {
        "duration": 119,
        "start_time": "2025-01-22T19:45:12.700Z"
      },
      {
        "duration": 3,
        "start_time": "2025-01-22T19:45:13.335Z"
      },
      {
        "duration": 177,
        "start_time": "2025-01-22T19:45:13.735Z"
      },
      {
        "duration": 82,
        "start_time": "2025-01-22T19:45:14.558Z"
      },
      {
        "duration": 3,
        "start_time": "2025-01-22T19:45:15.691Z"
      },
      {
        "duration": 249,
        "start_time": "2025-01-22T19:45:16.149Z"
      },
      {
        "duration": 86,
        "start_time": "2025-01-22T19:45:16.646Z"
      },
      {
        "duration": 2,
        "start_time": "2025-01-22T19:45:17.412Z"
      },
      {
        "duration": 333,
        "start_time": "2025-01-22T19:45:17.759Z"
      },
      {
        "duration": 136,
        "start_time": "2025-01-22T19:45:18.838Z"
      },
      {
        "duration": 3,
        "start_time": "2025-01-22T19:45:19.479Z"
      },
      {
        "duration": 145,
        "start_time": "2025-01-22T19:45:19.971Z"
      },
      {
        "duration": 77,
        "start_time": "2025-01-22T19:45:24.226Z"
      },
      {
        "duration": 1323,
        "start_time": "2025-01-22T19:46:05.029Z"
      },
      {
        "duration": 15,
        "start_time": "2025-01-22T19:48:00.972Z"
      },
      {
        "duration": 15,
        "start_time": "2025-01-22T19:48:11.846Z"
      },
      {
        "duration": 17,
        "start_time": "2025-01-22T19:48:20.324Z"
      },
      {
        "duration": 230,
        "start_time": "2025-01-22T19:48:58.890Z"
      },
      {
        "duration": 232,
        "start_time": "2025-01-22T19:49:11.158Z"
      },
      {
        "duration": 245,
        "start_time": "2025-01-22T19:52:34.695Z"
      },
      {
        "duration": 345,
        "start_time": "2025-01-22T19:53:14.861Z"
      },
      {
        "duration": 352,
        "start_time": "2025-01-22T19:54:34.538Z"
      },
      {
        "duration": 374,
        "start_time": "2025-01-22T19:54:49.558Z"
      },
      {
        "duration": 363,
        "start_time": "2025-01-22T19:55:20.641Z"
      },
      {
        "duration": 8,
        "start_time": "2025-01-22T19:55:45.140Z"
      },
      {
        "duration": 7,
        "start_time": "2025-01-22T19:55:48.252Z"
      },
      {
        "duration": 462,
        "start_time": "2025-01-22T19:56:01.544Z"
      },
      {
        "duration": 7,
        "start_time": "2025-01-22T19:56:13.526Z"
      },
      {
        "duration": 331,
        "start_time": "2025-01-22T20:02:08.889Z"
      },
      {
        "duration": 224,
        "start_time": "2025-01-22T20:02:28.509Z"
      },
      {
        "duration": 355,
        "start_time": "2025-01-22T20:03:19.176Z"
      },
      {
        "duration": 8,
        "start_time": "2025-01-22T20:05:34.632Z"
      },
      {
        "duration": 8,
        "start_time": "2025-01-22T20:05:37.499Z"
      },
      {
        "duration": 495,
        "start_time": "2025-01-22T20:07:14.131Z"
      },
      {
        "duration": 348,
        "start_time": "2025-01-22T20:12:11.061Z"
      },
      {
        "duration": 366,
        "start_time": "2025-01-22T20:13:21.633Z"
      },
      {
        "duration": 102,
        "start_time": "2025-01-22T20:13:36.850Z"
      },
      {
        "duration": 9,
        "start_time": "2025-01-22T20:14:32.739Z"
      },
      {
        "duration": 9,
        "start_time": "2025-01-22T20:14:35.233Z"
      },
      {
        "duration": 3,
        "start_time": "2025-01-22T20:18:16.438Z"
      },
      {
        "duration": 393,
        "start_time": "2025-01-22T20:18:17.257Z"
      },
      {
        "duration": 15,
        "start_time": "2025-01-22T20:18:17.652Z"
      },
      {
        "duration": 16,
        "start_time": "2025-01-22T20:18:17.973Z"
      },
      {
        "duration": 13,
        "start_time": "2025-01-22T20:18:18.406Z"
      },
      {
        "duration": 6,
        "start_time": "2025-01-22T20:18:19.337Z"
      },
      {
        "duration": 8,
        "start_time": "2025-01-22T20:18:19.573Z"
      },
      {
        "duration": 5,
        "start_time": "2025-01-22T20:18:19.816Z"
      },
      {
        "duration": 5,
        "start_time": "2025-01-22T20:18:20.159Z"
      },
      {
        "duration": 8,
        "start_time": "2025-01-22T20:18:20.367Z"
      },
      {
        "duration": 8,
        "start_time": "2025-01-22T20:18:20.589Z"
      },
      {
        "duration": 5,
        "start_time": "2025-01-22T20:18:20.815Z"
      },
      {
        "duration": 6,
        "start_time": "2025-01-22T20:18:21.767Z"
      },
      {
        "duration": 128,
        "start_time": "2025-01-22T20:18:22.011Z"
      },
      {
        "duration": 2,
        "start_time": "2025-01-22T20:18:22.575Z"
      },
      {
        "duration": 120,
        "start_time": "2025-01-22T20:18:22.855Z"
      },
      {
        "duration": 2,
        "start_time": "2025-01-22T20:18:23.685Z"
      },
      {
        "duration": 168,
        "start_time": "2025-01-22T20:18:24.142Z"
      },
      {
        "duration": 173,
        "start_time": "2025-01-22T20:18:24.726Z"
      },
      {
        "duration": 3,
        "start_time": "2025-01-22T20:18:25.289Z"
      },
      {
        "duration": 231,
        "start_time": "2025-01-22T20:18:25.845Z"
      },
      {
        "duration": 87,
        "start_time": "2025-01-22T20:18:26.334Z"
      },
      {
        "duration": 2,
        "start_time": "2025-01-22T20:18:26.803Z"
      },
      {
        "duration": 235,
        "start_time": "2025-01-22T20:18:27.050Z"
      },
      {
        "duration": 87,
        "start_time": "2025-01-22T20:18:27.520Z"
      },
      {
        "duration": 3,
        "start_time": "2025-01-22T20:18:27.973Z"
      },
      {
        "duration": 128,
        "start_time": "2025-01-22T20:18:28.233Z"
      },
      {
        "duration": 67,
        "start_time": "2025-01-22T20:18:30.655Z"
      },
      {
        "duration": 16,
        "start_time": "2025-01-22T20:18:31.819Z"
      },
      {
        "duration": 14,
        "start_time": "2025-01-22T20:18:32.297Z"
      },
      {
        "duration": 3,
        "start_time": "2025-01-22T20:18:32.776Z"
      },
      {
        "duration": 354,
        "start_time": "2025-01-22T20:18:33.260Z"
      },
      {
        "duration": 8,
        "start_time": "2025-01-22T20:18:33.755Z"
      },
      {
        "duration": 8,
        "start_time": "2025-01-22T20:18:34.489Z"
      },
      {
        "duration": 479,
        "start_time": "2025-01-22T20:18:35.728Z"
      },
      {
        "duration": 10,
        "start_time": "2025-01-22T20:18:36.826Z"
      },
      {
        "duration": 7,
        "start_time": "2025-01-22T20:18:37.569Z"
      },
      {
        "duration": 9,
        "start_time": "2025-01-22T20:34:07.033Z"
      },
      {
        "duration": 777,
        "start_time": "2025-01-22T20:34:47.500Z"
      },
      {
        "duration": 825,
        "start_time": "2025-01-22T20:37:17.012Z"
      },
      {
        "duration": 812,
        "start_time": "2025-01-22T20:38:13.985Z"
      },
      {
        "duration": 10,
        "start_time": "2025-01-22T20:38:48.690Z"
      },
      {
        "duration": 9,
        "start_time": "2025-01-22T20:39:08.610Z"
      },
      {
        "duration": 9,
        "start_time": "2025-01-22T20:43:02.003Z"
      },
      {
        "duration": 9,
        "start_time": "2025-01-22T20:45:14.809Z"
      },
      {
        "duration": 2060,
        "start_time": "2025-01-22T20:47:18.983Z"
      },
      {
        "duration": 1994,
        "start_time": "2025-01-22T20:49:19.198Z"
      },
      {
        "duration": 4,
        "start_time": "2025-01-22T21:03:48.066Z"
      },
      {
        "duration": 1360,
        "start_time": "2025-01-22T21:03:49.483Z"
      },
      {
        "duration": 3,
        "start_time": "2025-01-22T21:04:41.253Z"
      },
      {
        "duration": 129,
        "start_time": "2025-01-22T21:04:43.868Z"
      },
      {
        "duration": 30,
        "start_time": "2025-01-22T21:05:03.070Z"
      },
      {
        "duration": 3,
        "start_time": "2025-01-22T21:06:33.819Z"
      },
      {
        "duration": 16,
        "start_time": "2025-01-22T21:06:35.199Z"
      },
      {
        "duration": 3,
        "start_time": "2025-01-22T21:06:58.646Z"
      },
      {
        "duration": 16,
        "start_time": "2025-01-22T21:06:59.707Z"
      },
      {
        "duration": 4,
        "start_time": "2025-01-22T21:08:01.914Z"
      },
      {
        "duration": 129,
        "start_time": "2025-01-22T21:08:02.575Z"
      },
      {
        "duration": 8,
        "start_time": "2025-01-22T21:08:49.171Z"
      },
      {
        "duration": 2,
        "start_time": "2025-01-22T21:09:59.489Z"
      },
      {
        "duration": 329,
        "start_time": "2025-01-22T21:10:00.927Z"
      },
      {
        "duration": 13,
        "start_time": "2025-01-22T21:10:01.258Z"
      },
      {
        "duration": 16,
        "start_time": "2025-01-22T21:10:01.808Z"
      },
      {
        "duration": 14,
        "start_time": "2025-01-22T21:10:02.338Z"
      },
      {
        "duration": 7,
        "start_time": "2025-01-22T21:10:03.560Z"
      },
      {
        "duration": 8,
        "start_time": "2025-01-22T21:10:03.629Z"
      },
      {
        "duration": 6,
        "start_time": "2025-01-22T21:10:03.824Z"
      },
      {
        "duration": 5,
        "start_time": "2025-01-22T21:10:04.294Z"
      },
      {
        "duration": 7,
        "start_time": "2025-01-22T21:10:04.539Z"
      },
      {
        "duration": 8,
        "start_time": "2025-01-22T21:10:04.784Z"
      },
      {
        "duration": 5,
        "start_time": "2025-01-22T21:10:04.887Z"
      },
      {
        "duration": 6,
        "start_time": "2025-01-22T21:10:05.772Z"
      },
      {
        "duration": 121,
        "start_time": "2025-01-22T21:10:06.007Z"
      },
      {
        "duration": 2,
        "start_time": "2025-01-22T21:10:06.479Z"
      },
      {
        "duration": 116,
        "start_time": "2025-01-22T21:10:06.681Z"
      },
      {
        "duration": 2,
        "start_time": "2025-01-22T21:10:07.095Z"
      },
      {
        "duration": 174,
        "start_time": "2025-01-22T21:10:07.526Z"
      },
      {
        "duration": 74,
        "start_time": "2025-01-22T21:10:07.967Z"
      },
      {
        "duration": 2,
        "start_time": "2025-01-22T21:10:08.422Z"
      },
      {
        "duration": 242,
        "start_time": "2025-01-22T21:10:08.893Z"
      },
      {
        "duration": 88,
        "start_time": "2025-01-22T21:10:09.377Z"
      },
      {
        "duration": 2,
        "start_time": "2025-01-22T21:10:09.844Z"
      },
      {
        "duration": 330,
        "start_time": "2025-01-22T21:10:10.162Z"
      },
      {
        "duration": 86,
        "start_time": "2025-01-22T21:10:10.766Z"
      },
      {
        "duration": 2,
        "start_time": "2025-01-22T21:10:11.220Z"
      },
      {
        "duration": 140,
        "start_time": "2025-01-22T21:10:11.658Z"
      },
      {
        "duration": 68,
        "start_time": "2025-01-22T21:10:13.365Z"
      },
      {
        "duration": 16,
        "start_time": "2025-01-22T21:10:13.849Z"
      },
      {
        "duration": 16,
        "start_time": "2025-01-22T21:10:14.087Z"
      },
      {
        "duration": 3,
        "start_time": "2025-01-22T21:10:14.326Z"
      },
      {
        "duration": 361,
        "start_time": "2025-01-22T21:10:14.577Z"
      },
      {
        "duration": 15,
        "start_time": "2025-01-22T21:10:14.940Z"
      },
      {
        "duration": 9,
        "start_time": "2025-01-22T21:10:15.308Z"
      },
      {
        "duration": 358,
        "start_time": "2025-01-22T21:10:15.839Z"
      },
      {
        "duration": 8,
        "start_time": "2025-01-22T21:10:16.198Z"
      },
      {
        "duration": 7,
        "start_time": "2025-01-22T21:10:16.385Z"
      },
      {
        "duration": 2025,
        "start_time": "2025-01-22T21:10:17.848Z"
      },
      {
        "duration": 3,
        "start_time": "2025-01-22T21:10:19.875Z"
      },
      {
        "duration": 247,
        "start_time": "2025-01-22T21:10:19.879Z"
      },
      {
        "duration": 30,
        "start_time": "2025-01-22T21:10:20.128Z"
      },
      {
        "duration": 9,
        "start_time": "2025-01-22T21:10:20.160Z"
      },
      {
        "duration": 5,
        "start_time": "2025-01-22T21:13:09.130Z"
      },
      {
        "duration": 16,
        "start_time": "2025-01-22T21:13:10.322Z"
      },
      {
        "duration": 4,
        "start_time": "2025-01-22T21:13:25.133Z"
      },
      {
        "duration": 3,
        "start_time": "2025-01-22T21:13:32.505Z"
      },
      {
        "duration": 130,
        "start_time": "2025-01-22T21:13:33.662Z"
      },
      {
        "duration": 1305,
        "start_time": "2025-01-23T17:55:09.569Z"
      },
      {
        "duration": 383,
        "start_time": "2025-01-23T17:55:11.538Z"
      },
      {
        "duration": 20,
        "start_time": "2025-01-23T17:55:12.083Z"
      },
      {
        "duration": 17,
        "start_time": "2025-01-23T17:55:13.665Z"
      },
      {
        "duration": 14,
        "start_time": "2025-01-23T17:55:14.404Z"
      },
      {
        "duration": 7,
        "start_time": "2025-01-23T17:55:20.005Z"
      },
      {
        "duration": 8,
        "start_time": "2025-01-23T17:55:20.502Z"
      },
      {
        "duration": 6,
        "start_time": "2025-01-23T17:55:21.984Z"
      },
      {
        "duration": 8,
        "start_time": "2025-01-23T17:55:22.395Z"
      },
      {
        "duration": 9,
        "start_time": "2025-01-23T17:55:22.731Z"
      },
      {
        "duration": 8,
        "start_time": "2025-01-23T17:55:23.533Z"
      },
      {
        "duration": 5,
        "start_time": "2025-01-23T17:55:24.732Z"
      },
      {
        "duration": 6,
        "start_time": "2025-01-23T17:56:00.352Z"
      },
      {
        "duration": 143,
        "start_time": "2025-01-23T17:56:01.298Z"
      },
      {
        "duration": 3,
        "start_time": "2025-01-23T17:56:03.247Z"
      },
      {
        "duration": 140,
        "start_time": "2025-01-23T17:56:03.744Z"
      },
      {
        "duration": 3,
        "start_time": "2025-01-23T17:56:18.643Z"
      },
      {
        "duration": 191,
        "start_time": "2025-01-23T17:56:18.647Z"
      },
      {
        "duration": 93,
        "start_time": "2025-01-23T17:56:18.840Z"
      },
      {
        "duration": 2,
        "start_time": "2025-01-23T17:56:18.935Z"
      },
      {
        "duration": 288,
        "start_time": "2025-01-23T17:56:18.938Z"
      },
      {
        "duration": 99,
        "start_time": "2025-01-23T17:56:19.227Z"
      },
      {
        "duration": 2,
        "start_time": "2025-01-23T17:56:19.328Z"
      },
      {
        "duration": 270,
        "start_time": "2025-01-23T17:56:19.332Z"
      },
      {
        "duration": 172,
        "start_time": "2025-01-23T17:56:19.603Z"
      },
      {
        "duration": 2,
        "start_time": "2025-01-23T17:56:19.776Z"
      },
      {
        "duration": 165,
        "start_time": "2025-01-23T17:56:19.780Z"
      },
      {
        "duration": 72,
        "start_time": "2025-01-23T17:56:22.049Z"
      },
      {
        "duration": 16,
        "start_time": "2025-01-23T17:56:23.383Z"
      },
      {
        "duration": 15,
        "start_time": "2025-01-23T17:56:23.713Z"
      },
      {
        "duration": 2,
        "start_time": "2025-01-23T17:56:24.444Z"
      },
      {
        "duration": 383,
        "start_time": "2025-01-23T17:56:25.158Z"
      },
      {
        "duration": 8,
        "start_time": "2025-01-23T17:56:25.829Z"
      },
      {
        "duration": 8,
        "start_time": "2025-01-23T17:56:26.445Z"
      },
      {
        "duration": 379,
        "start_time": "2025-01-23T17:56:27.601Z"
      },
      {
        "duration": 9,
        "start_time": "2025-01-23T17:56:28.526Z"
      },
      {
        "duration": 8,
        "start_time": "2025-01-23T17:56:28.991Z"
      },
      {
        "duration": 2122,
        "start_time": "2025-01-23T18:07:02.318Z"
      },
      {
        "duration": 3,
        "start_time": "2025-01-23T18:07:05.881Z"
      },
      {
        "duration": 135,
        "start_time": "2025-01-23T18:07:06.590Z"
      },
      {
        "duration": 22,
        "start_time": "2025-01-23T18:07:07.809Z"
      },
      {
        "duration": 95,
        "start_time": "2025-01-23T18:07:11.344Z"
      },
      {
        "duration": 4,
        "start_time": "2025-01-23T18:07:20.755Z"
      },
      {
        "duration": 13,
        "start_time": "2025-01-23T18:07:35.882Z"
      },
      {
        "duration": 137,
        "start_time": "2025-01-23T18:09:11.311Z"
      },
      {
        "duration": 4,
        "start_time": "2025-01-23T18:09:12.716Z"
      },
      {
        "duration": 152,
        "start_time": "2025-01-23T18:09:13.301Z"
      },
      {
        "duration": 24,
        "start_time": "2025-01-23T18:09:14.648Z"
      },
      {
        "duration": 4,
        "start_time": "2025-01-23T18:11:37.433Z"
      },
      {
        "duration": 4,
        "start_time": "2025-01-23T18:11:40.710Z"
      },
      {
        "duration": 3,
        "start_time": "2025-01-23T18:13:52.186Z"
      },
      {
        "duration": 156,
        "start_time": "2025-01-23T18:13:52.191Z"
      },
      {
        "duration": 23,
        "start_time": "2025-01-23T18:13:52.349Z"
      },
      {
        "duration": 2208,
        "start_time": "2025-01-23T18:16:13.006Z"
      },
      {
        "duration": 933,
        "start_time": "2025-01-23T18:29:30.484Z"
      },
      {
        "duration": 860,
        "start_time": "2025-01-23T18:30:06.374Z"
      },
      {
        "duration": 3,
        "start_time": "2025-01-23T18:30:11.780Z"
      },
      {
        "duration": 140,
        "start_time": "2025-01-23T18:30:13.017Z"
      },
      {
        "duration": 23,
        "start_time": "2025-01-23T18:30:15.403Z"
      },
      {
        "duration": 3,
        "start_time": "2025-01-23T18:32:39.053Z"
      },
      {
        "duration": 11,
        "start_time": "2025-01-23T18:35:13.404Z"
      },
      {
        "duration": 9,
        "start_time": "2025-01-23T18:35:32.948Z"
      },
      {
        "duration": 4,
        "start_time": "2025-01-23T18:35:40.883Z"
      },
      {
        "duration": 138,
        "start_time": "2025-01-23T18:35:45.397Z"
      },
      {
        "duration": 859,
        "start_time": "2025-01-23T18:35:58.868Z"
      },
      {
        "duration": 4,
        "start_time": "2025-01-23T18:36:00.858Z"
      },
      {
        "duration": 238,
        "start_time": "2025-01-23T18:36:01.701Z"
      },
      {
        "duration": 23,
        "start_time": "2025-01-23T18:36:02.950Z"
      },
      {
        "duration": 4,
        "start_time": "2025-01-23T18:37:39.613Z"
      },
      {
        "duration": 4,
        "start_time": "2025-01-23T18:39:35.547Z"
      },
      {
        "duration": 4,
        "start_time": "2025-01-23T18:39:40.605Z"
      },
      {
        "duration": 4,
        "start_time": "2025-01-23T18:39:40.611Z"
      },
      {
        "duration": 165,
        "start_time": "2025-01-23T18:39:40.616Z"
      },
      {
        "duration": 23,
        "start_time": "2025-01-23T18:39:41.275Z"
      },
      {
        "duration": 30,
        "start_time": "2025-01-23T18:48:51.756Z"
      },
      {
        "duration": 99,
        "start_time": "2025-01-23T18:49:11.439Z"
      },
      {
        "duration": 92,
        "start_time": "2025-01-23T18:49:17.406Z"
      },
      {
        "duration": 30,
        "start_time": "2025-01-23T18:49:59.848Z"
      },
      {
        "duration": 18,
        "start_time": "2025-01-23T18:50:18.189Z"
      },
      {
        "duration": 18,
        "start_time": "2025-01-23T18:50:52.824Z"
      },
      {
        "duration": 78,
        "start_time": "2025-01-23T18:51:07.157Z"
      },
      {
        "duration": 3,
        "start_time": "2025-01-23T18:51:19.820Z"
      },
      {
        "duration": 22,
        "start_time": "2025-01-23T18:51:28.300Z"
      },
      {
        "duration": 20,
        "start_time": "2025-01-23T18:51:53.542Z"
      },
      {
        "duration": 31,
        "start_time": "2025-01-23T18:54:41.618Z"
      },
      {
        "duration": 19,
        "start_time": "2025-01-23T18:54:56.577Z"
      },
      {
        "duration": 3,
        "start_time": "2025-01-23T18:56:50.683Z"
      },
      {
        "duration": 42,
        "start_time": "2025-01-23T18:57:03.187Z"
      },
      {
        "duration": 40,
        "start_time": "2025-01-23T18:58:17.367Z"
      },
      {
        "duration": 20,
        "start_time": "2025-01-23T18:59:15.273Z"
      },
      {
        "duration": 10,
        "start_time": "2025-01-23T19:20:52.469Z"
      },
      {
        "duration": 7,
        "start_time": "2025-01-23T19:21:09.648Z"
      },
      {
        "duration": 3,
        "start_time": "2025-01-23T19:22:09.807Z"
      },
      {
        "duration": 4,
        "start_time": "2025-01-23T19:22:13.793Z"
      },
      {
        "duration": 388,
        "start_time": "2025-01-23T19:22:14.221Z"
      },
      {
        "duration": 15,
        "start_time": "2025-01-23T19:22:14.611Z"
      },
      {
        "duration": 14,
        "start_time": "2025-01-23T19:22:14.833Z"
      },
      {
        "duration": 14,
        "start_time": "2025-01-23T19:22:15.454Z"
      },
      {
        "duration": 7,
        "start_time": "2025-01-23T19:22:16.321Z"
      },
      {
        "duration": 10,
        "start_time": "2025-01-23T19:22:16.534Z"
      },
      {
        "duration": 7,
        "start_time": "2025-01-23T19:22:16.754Z"
      },
      {
        "duration": 5,
        "start_time": "2025-01-23T19:22:17.176Z"
      },
      {
        "duration": 9,
        "start_time": "2025-01-23T19:22:17.398Z"
      },
      {
        "duration": 9,
        "start_time": "2025-01-23T19:22:17.613Z"
      },
      {
        "duration": 5,
        "start_time": "2025-01-23T19:22:17.841Z"
      },
      {
        "duration": 5,
        "start_time": "2025-01-23T19:22:18.786Z"
      },
      {
        "duration": 140,
        "start_time": "2025-01-23T19:22:19.010Z"
      },
      {
        "duration": 2,
        "start_time": "2025-01-23T19:22:19.491Z"
      },
      {
        "duration": 121,
        "start_time": "2025-01-23T19:22:19.598Z"
      },
      {
        "duration": 3,
        "start_time": "2025-01-23T19:22:20.039Z"
      },
      {
        "duration": 187,
        "start_time": "2025-01-23T19:22:20.270Z"
      },
      {
        "duration": 79,
        "start_time": "2025-01-23T19:22:20.719Z"
      },
      {
        "duration": 2,
        "start_time": "2025-01-23T19:22:21.209Z"
      },
      {
        "duration": 257,
        "start_time": "2025-01-23T19:22:21.697Z"
      },
      {
        "duration": 86,
        "start_time": "2025-01-23T19:22:22.191Z"
      },
      {
        "duration": 3,
        "start_time": "2025-01-23T19:22:22.965Z"
      },
      {
        "duration": 251,
        "start_time": "2025-01-23T19:22:23.053Z"
      },
      {
        "duration": 90,
        "start_time": "2025-01-23T19:22:23.497Z"
      },
      {
        "duration": 2,
        "start_time": "2025-01-23T19:22:24.014Z"
      },
      {
        "duration": 233,
        "start_time": "2025-01-23T19:22:24.206Z"
      },
      {
        "duration": 66,
        "start_time": "2025-01-23T19:22:25.688Z"
      },
      {
        "duration": 15,
        "start_time": "2025-01-23T19:22:26.182Z"
      },
      {
        "duration": 15,
        "start_time": "2025-01-23T19:22:26.424Z"
      },
      {
        "duration": 3,
        "start_time": "2025-01-23T19:22:26.725Z"
      },
      {
        "duration": 384,
        "start_time": "2025-01-23T19:22:27.078Z"
      },
      {
        "duration": 8,
        "start_time": "2025-01-23T19:22:27.614Z"
      },
      {
        "duration": 10,
        "start_time": "2025-01-23T19:22:28.233Z"
      },
      {
        "duration": 389,
        "start_time": "2025-01-23T19:22:29.446Z"
      },
      {
        "duration": 8,
        "start_time": "2025-01-23T19:22:30.390Z"
      },
      {
        "duration": 9,
        "start_time": "2025-01-23T19:22:31.283Z"
      },
      {
        "duration": 862,
        "start_time": "2025-01-23T19:22:35.093Z"
      },
      {
        "duration": 3,
        "start_time": "2025-01-23T19:22:37.014Z"
      },
      {
        "duration": 4,
        "start_time": "2025-01-23T19:22:37.562Z"
      },
      {
        "duration": 161,
        "start_time": "2025-01-23T19:22:38.109Z"
      },
      {
        "duration": 22,
        "start_time": "2025-01-23T19:22:38.722Z"
      },
      {
        "duration": 17,
        "start_time": "2025-01-23T19:22:39.911Z"
      },
      {
        "duration": 7,
        "start_time": "2025-01-23T19:22:42.830Z"
      },
      {
        "duration": 7,
        "start_time": "2025-01-23T19:23:07.062Z"
      },
      {
        "duration": 9,
        "start_time": "2025-01-23T19:30:03.898Z"
      },
      {
        "duration": 54,
        "start_time": "2025-01-23T19:30:47.511Z"
      },
      {
        "duration": 7,
        "start_time": "2025-01-23T19:31:00.497Z"
      },
      {
        "duration": 18,
        "start_time": "2025-01-23T19:31:01.890Z"
      },
      {
        "duration": 27,
        "start_time": "2025-01-23T19:34:28.644Z"
      },
      {
        "duration": 25,
        "start_time": "2025-01-23T19:36:56.219Z"
      },
      {
        "duration": 108,
        "start_time": "2025-01-23T19:38:30.034Z"
      },
      {
        "duration": 7,
        "start_time": "2025-01-23T19:38:50.421Z"
      },
      {
        "duration": 28,
        "start_time": "2025-01-23T19:38:52.266Z"
      },
      {
        "duration": 31,
        "start_time": "2025-01-23T19:40:30.978Z"
      },
      {
        "duration": 915,
        "start_time": "2025-01-23T19:43:49.078Z"
      },
      {
        "duration": 803,
        "start_time": "2025-01-23T19:44:03.898Z"
      },
      {
        "duration": 816,
        "start_time": "2025-01-23T19:44:27.719Z"
      },
      {
        "duration": 830,
        "start_time": "2025-01-23T19:45:17.129Z"
      },
      {
        "duration": 88,
        "start_time": "2025-01-23T19:48:30.684Z"
      },
      {
        "duration": 818,
        "start_time": "2025-01-23T19:49:03.734Z"
      },
      {
        "duration": 993,
        "start_time": "2025-01-23T19:49:24.468Z"
      },
      {
        "duration": 1069,
        "start_time": "2025-01-23T19:51:46.102Z"
      },
      {
        "duration": 960,
        "start_time": "2025-01-23T19:52:01.606Z"
      },
      {
        "duration": 822,
        "start_time": "2025-01-23T19:52:50.930Z"
      },
      {
        "duration": 927,
        "start_time": "2025-01-23T19:53:41.495Z"
      },
      {
        "duration": 960,
        "start_time": "2025-01-23T19:54:22.310Z"
      },
      {
        "duration": 8,
        "start_time": "2025-01-23T19:57:16.880Z"
      },
      {
        "duration": 9,
        "start_time": "2025-01-23T20:02:45.786Z"
      },
      {
        "duration": 7,
        "start_time": "2025-01-23T20:03:45.116Z"
      },
      {
        "duration": 6,
        "start_time": "2025-01-23T20:06:05.749Z"
      },
      {
        "duration": 7,
        "start_time": "2025-01-23T20:06:33.980Z"
      },
      {
        "duration": 11,
        "start_time": "2025-01-23T20:09:08.038Z"
      },
      {
        "duration": 7,
        "start_time": "2025-01-23T20:10:11.101Z"
      },
      {
        "duration": 7,
        "start_time": "2025-01-23T20:14:21.732Z"
      },
      {
        "duration": 344,
        "start_time": "2025-01-23T20:21:32.485Z"
      },
      {
        "duration": 302,
        "start_time": "2025-01-23T20:22:32.198Z"
      },
      {
        "duration": 288,
        "start_time": "2025-01-23T20:22:46.367Z"
      },
      {
        "duration": 78,
        "start_time": "2025-01-23T20:30:05.144Z"
      },
      {
        "duration": 20,
        "start_time": "2025-01-23T20:40:27.885Z"
      },
      {
        "duration": 10,
        "start_time": "2025-01-23T20:41:07.709Z"
      },
      {
        "duration": 15,
        "start_time": "2025-01-23T20:43:12.510Z"
      },
      {
        "duration": 11,
        "start_time": "2025-01-23T20:44:07.984Z"
      },
      {
        "duration": 9,
        "start_time": "2025-01-23T20:45:10.363Z"
      },
      {
        "duration": 789,
        "start_time": "2025-01-23T20:46:56.387Z"
      },
      {
        "duration": 821,
        "start_time": "2025-01-23T20:47:04.818Z"
      },
      {
        "duration": 806,
        "start_time": "2025-01-23T20:47:12.141Z"
      },
      {
        "duration": 931,
        "start_time": "2025-01-23T20:47:35.933Z"
      },
      {
        "duration": 793,
        "start_time": "2025-01-23T20:48:13.092Z"
      },
      {
        "duration": 7,
        "start_time": "2025-01-23T20:51:13.999Z"
      },
      {
        "duration": 8,
        "start_time": "2025-01-23T20:52:22.838Z"
      },
      {
        "duration": 7,
        "start_time": "2025-01-23T20:52:46.503Z"
      },
      {
        "duration": 6,
        "start_time": "2025-01-23T20:53:14.679Z"
      },
      {
        "duration": 11,
        "start_time": "2025-01-23T20:54:50.872Z"
      },
      {
        "duration": 8,
        "start_time": "2025-01-23T21:03:08.028Z"
      },
      {
        "duration": 8,
        "start_time": "2025-01-23T21:03:32.191Z"
      },
      {
        "duration": 11,
        "start_time": "2025-01-23T21:03:58.163Z"
      },
      {
        "duration": 12,
        "start_time": "2025-01-23T21:04:28.361Z"
      },
      {
        "duration": 7,
        "start_time": "2025-01-23T21:06:11.283Z"
      },
      {
        "duration": 798,
        "start_time": "2025-01-23T21:06:13.334Z"
      },
      {
        "duration": 7,
        "start_time": "2025-01-23T21:06:15.274Z"
      },
      {
        "duration": 301,
        "start_time": "2025-01-23T21:06:15.893Z"
      },
      {
        "duration": 10,
        "start_time": "2025-01-23T21:06:18.398Z"
      },
      {
        "duration": 97,
        "start_time": "2025-01-23T21:10:22.590Z"
      },
      {
        "duration": 1122,
        "start_time": "2025-01-23T21:10:32.069Z"
      },
      {
        "duration": 8,
        "start_time": "2025-01-23T21:14:02.066Z"
      },
      {
        "duration": 895,
        "start_time": "2025-01-23T21:16:09.011Z"
      },
      {
        "duration": 13,
        "start_time": "2025-01-23T21:21:38.890Z"
      },
      {
        "duration": 10,
        "start_time": "2025-01-23T21:23:01.863Z"
      },
      {
        "duration": 12,
        "start_time": "2025-01-23T21:24:15.939Z"
      },
      {
        "duration": 12,
        "start_time": "2025-01-23T21:24:28.270Z"
      },
      {
        "duration": 1341,
        "start_time": "2025-01-23T21:24:44.551Z"
      },
      {
        "duration": 3,
        "start_time": "2025-01-23T21:25:17.948Z"
      },
      {
        "duration": 370,
        "start_time": "2025-01-23T21:25:18.394Z"
      },
      {
        "duration": 17,
        "start_time": "2025-01-23T21:25:20.411Z"
      },
      {
        "duration": 19,
        "start_time": "2025-01-23T21:25:20.814Z"
      },
      {
        "duration": 14,
        "start_time": "2025-01-23T21:25:21.397Z"
      },
      {
        "duration": 7,
        "start_time": "2025-01-23T21:25:22.285Z"
      },
      {
        "duration": 9,
        "start_time": "2025-01-23T21:25:22.371Z"
      },
      {
        "duration": 7,
        "start_time": "2025-01-23T21:25:22.563Z"
      },
      {
        "duration": 7,
        "start_time": "2025-01-23T21:25:23.052Z"
      },
      {
        "duration": 10,
        "start_time": "2025-01-23T21:25:23.163Z"
      },
      {
        "duration": 10,
        "start_time": "2025-01-23T21:25:23.356Z"
      },
      {
        "duration": 6,
        "start_time": "2025-01-23T21:25:23.547Z"
      },
      {
        "duration": 6,
        "start_time": "2025-01-23T21:25:24.307Z"
      },
      {
        "duration": 143,
        "start_time": "2025-01-23T21:25:24.534Z"
      },
      {
        "duration": 3,
        "start_time": "2025-01-23T21:25:24.967Z"
      },
      {
        "duration": 130,
        "start_time": "2025-01-23T21:25:25.180Z"
      },
      {
        "duration": 3,
        "start_time": "2025-01-23T21:25:25.850Z"
      },
      {
        "duration": 203,
        "start_time": "2025-01-23T21:25:26.062Z"
      },
      {
        "duration": 184,
        "start_time": "2025-01-23T21:25:26.484Z"
      },
      {
        "duration": 3,
        "start_time": "2025-01-23T21:25:26.895Z"
      },
      {
        "duration": 263,
        "start_time": "2025-01-23T21:25:27.347Z"
      },
      {
        "duration": 95,
        "start_time": "2025-01-23T21:25:27.798Z"
      },
      {
        "duration": 2,
        "start_time": "2025-01-23T21:25:28.476Z"
      },
      {
        "duration": 257,
        "start_time": "2025-01-23T21:25:28.734Z"
      },
      {
        "duration": 102,
        "start_time": "2025-01-23T21:25:29.213Z"
      },
      {
        "duration": 5,
        "start_time": "2025-01-23T21:25:29.751Z"
      },
      {
        "duration": 158,
        "start_time": "2025-01-23T21:25:30.204Z"
      },
      {
        "duration": 69,
        "start_time": "2025-01-23T21:25:33.061Z"
      },
      {
        "duration": 15,
        "start_time": "2025-01-23T21:25:34.092Z"
      },
      {
        "duration": 15,
        "start_time": "2025-01-23T21:25:34.548Z"
      },
      {
        "duration": 2,
        "start_time": "2025-01-23T21:25:35.047Z"
      },
      {
        "duration": 405,
        "start_time": "2025-01-23T21:25:35.492Z"
      },
      {
        "duration": 8,
        "start_time": "2025-01-23T21:25:35.968Z"
      },
      {
        "duration": 8,
        "start_time": "2025-01-23T21:25:36.308Z"
      },
      {
        "duration": 496,
        "start_time": "2025-01-23T21:25:37.070Z"
      },
      {
        "duration": 8,
        "start_time": "2025-01-23T21:25:37.567Z"
      },
      {
        "duration": 62,
        "start_time": "2025-01-23T21:25:37.577Z"
      },
      {
        "duration": 903,
        "start_time": "2025-01-23T21:25:38.920Z"
      },
      {
        "duration": 3,
        "start_time": "2025-01-23T21:25:39.836Z"
      },
      {
        "duration": 3,
        "start_time": "2025-01-23T21:25:41.134Z"
      },
      {
        "duration": 160,
        "start_time": "2025-01-23T21:25:41.635Z"
      },
      {
        "duration": 22,
        "start_time": "2025-01-23T21:25:42.134Z"
      },
      {
        "duration": 28,
        "start_time": "2025-01-23T21:25:43.110Z"
      },
      {
        "duration": 7,
        "start_time": "2025-01-23T21:25:44.589Z"
      },
      {
        "duration": 844,
        "start_time": "2025-01-23T21:25:45.334Z"
      },
      {
        "duration": 7,
        "start_time": "2025-01-23T21:25:46.595Z"
      },
      {
        "duration": 307,
        "start_time": "2025-01-23T21:25:46.883Z"
      },
      {
        "duration": 10,
        "start_time": "2025-01-23T21:25:48.381Z"
      },
      {
        "duration": 10,
        "start_time": "2025-01-23T21:25:49.138Z"
      },
      {
        "duration": 1069,
        "start_time": "2025-01-23T21:25:49.734Z"
      },
      {
        "duration": 11,
        "start_time": "2025-01-23T21:26:59.988Z"
      },
      {
        "duration": 11,
        "start_time": "2025-01-23T21:44:51.911Z"
      },
      {
        "duration": 7,
        "start_time": "2025-01-23T21:45:49.493Z"
      },
      {
        "duration": 3,
        "start_time": "2025-01-23T21:46:26.281Z"
      },
      {
        "duration": 365,
        "start_time": "2025-01-23T21:46:26.848Z"
      },
      {
        "duration": 15,
        "start_time": "2025-01-23T21:46:27.215Z"
      },
      {
        "duration": 16,
        "start_time": "2025-01-23T21:46:27.456Z"
      },
      {
        "duration": 14,
        "start_time": "2025-01-23T21:46:33.529Z"
      },
      {
        "duration": 7,
        "start_time": "2025-01-23T21:46:34.892Z"
      },
      {
        "duration": 8,
        "start_time": "2025-01-23T21:46:35.077Z"
      },
      {
        "duration": 5,
        "start_time": "2025-01-23T21:46:35.293Z"
      },
      {
        "duration": 6,
        "start_time": "2025-01-23T21:46:35.743Z"
      },
      {
        "duration": 8,
        "start_time": "2025-01-23T21:46:36.141Z"
      },
      {
        "duration": 9,
        "start_time": "2025-01-23T21:46:36.369Z"
      },
      {
        "duration": 5,
        "start_time": "2025-01-23T21:46:36.601Z"
      },
      {
        "duration": 6,
        "start_time": "2025-01-23T21:46:37.436Z"
      },
      {
        "duration": 144,
        "start_time": "2025-01-23T21:46:37.638Z"
      },
      {
        "duration": 2,
        "start_time": "2025-01-23T21:46:38.041Z"
      },
      {
        "duration": 152,
        "start_time": "2025-01-23T21:46:38.237Z"
      },
      {
        "duration": 3,
        "start_time": "2025-01-23T21:46:38.669Z"
      },
      {
        "duration": 190,
        "start_time": "2025-01-23T21:46:38.894Z"
      },
      {
        "duration": 172,
        "start_time": "2025-01-23T21:46:39.318Z"
      },
      {
        "duration": 2,
        "start_time": "2025-01-23T21:46:39.760Z"
      },
      {
        "duration": 257,
        "start_time": "2025-01-23T21:46:40.176Z"
      },
      {
        "duration": 93,
        "start_time": "2025-01-23T21:46:40.565Z"
      },
      {
        "duration": 3,
        "start_time": "2025-01-23T21:46:41.096Z"
      },
      {
        "duration": 249,
        "start_time": "2025-01-23T21:46:41.190Z"
      },
      {
        "duration": 93,
        "start_time": "2025-01-23T21:46:41.609Z"
      },
      {
        "duration": 2,
        "start_time": "2025-01-23T21:46:42.068Z"
      },
      {
        "duration": 177,
        "start_time": "2025-01-23T21:46:42.318Z"
      },
      {
        "duration": 68,
        "start_time": "2025-01-23T21:46:43.590Z"
      },
      {
        "duration": 17,
        "start_time": "2025-01-23T21:46:44.045Z"
      },
      {
        "duration": 15,
        "start_time": "2025-01-23T21:46:44.285Z"
      },
      {
        "duration": 2,
        "start_time": "2025-01-23T21:46:44.514Z"
      },
      {
        "duration": 392,
        "start_time": "2025-01-23T21:46:44.754Z"
      },
      {
        "duration": 8,
        "start_time": "2025-01-23T21:46:45.148Z"
      },
      {
        "duration": 8,
        "start_time": "2025-01-23T21:46:45.290Z"
      },
      {
        "duration": 487,
        "start_time": "2025-01-23T21:46:45.617Z"
      },
      {
        "duration": 16,
        "start_time": "2025-01-23T21:46:46.106Z"
      },
      {
        "duration": 19,
        "start_time": "2025-01-23T21:46:46.131Z"
      },
      {
        "duration": 844,
        "start_time": "2025-01-23T21:46:48.509Z"
      },
      {
        "duration": 3,
        "start_time": "2025-01-23T21:46:49.910Z"
      },
      {
        "duration": 3,
        "start_time": "2025-01-23T21:46:50.337Z"
      },
      {
        "duration": 153,
        "start_time": "2025-01-23T21:46:52.080Z"
      },
      {
        "duration": 23,
        "start_time": "2025-01-23T21:46:52.619Z"
      },
      {
        "duration": 18,
        "start_time": "2025-01-23T21:46:53.629Z"
      },
      {
        "duration": 8,
        "start_time": "2025-01-23T21:46:56.091Z"
      },
      {
        "duration": 784,
        "start_time": "2025-01-23T21:46:56.584Z"
      },
      {
        "duration": 7,
        "start_time": "2025-01-23T21:46:57.673Z"
      },
      {
        "duration": 315,
        "start_time": "2025-01-23T21:46:58.120Z"
      },
      {
        "duration": 11,
        "start_time": "2025-01-23T21:46:59.585Z"
      },
      {
        "duration": 11,
        "start_time": "2025-01-23T21:51:48.368Z"
      },
      {
        "duration": 3,
        "start_time": "2025-01-23T22:00:12.360Z"
      },
      {
        "duration": 270,
        "start_time": "2025-01-23T22:00:12.761Z"
      },
      {
        "duration": 16,
        "start_time": "2025-01-23T22:00:13.033Z"
      },
      {
        "duration": 16,
        "start_time": "2025-01-23T22:00:13.342Z"
      },
      {
        "duration": 15,
        "start_time": "2025-01-23T22:00:13.743Z"
      },
      {
        "duration": 8,
        "start_time": "2025-01-23T22:00:14.575Z"
      },
      {
        "duration": 8,
        "start_time": "2025-01-23T22:00:14.768Z"
      },
      {
        "duration": 6,
        "start_time": "2025-01-23T22:00:14.973Z"
      },
      {
        "duration": 6,
        "start_time": "2025-01-23T22:00:15.392Z"
      },
      {
        "duration": 7,
        "start_time": "2025-01-23T22:00:15.613Z"
      },
      {
        "duration": 9,
        "start_time": "2025-01-23T22:00:15.840Z"
      },
      {
        "duration": 5,
        "start_time": "2025-01-23T22:00:16.050Z"
      },
      {
        "duration": 5,
        "start_time": "2025-01-23T22:00:16.887Z"
      },
      {
        "duration": 129,
        "start_time": "2025-01-23T22:00:17.103Z"
      },
      {
        "duration": 2,
        "start_time": "2025-01-23T22:00:17.536Z"
      },
      {
        "duration": 140,
        "start_time": "2025-01-23T22:00:17.737Z"
      },
      {
        "duration": 3,
        "start_time": "2025-01-23T22:00:18.147Z"
      },
      {
        "duration": 194,
        "start_time": "2025-01-23T22:00:18.364Z"
      },
      {
        "duration": 189,
        "start_time": "2025-01-23T22:00:18.844Z"
      },
      {
        "duration": 2,
        "start_time": "2025-01-23T22:00:19.334Z"
      },
      {
        "duration": 252,
        "start_time": "2025-01-23T22:00:19.654Z"
      },
      {
        "duration": 91,
        "start_time": "2025-01-23T22:00:20.070Z"
      },
      {
        "duration": 3,
        "start_time": "2025-01-23T22:00:20.557Z"
      },
      {
        "duration": 260,
        "start_time": "2025-01-23T22:00:20.798Z"
      },
      {
        "duration": 94,
        "start_time": "2025-01-23T22:00:21.287Z"
      },
      {
        "duration": 2,
        "start_time": "2025-01-23T22:00:21.645Z"
      },
      {
        "duration": 142,
        "start_time": "2025-01-23T22:00:21.869Z"
      },
      {
        "duration": 68,
        "start_time": "2025-01-23T22:00:23.197Z"
      },
      {
        "duration": 17,
        "start_time": "2025-01-23T22:00:23.616Z"
      },
      {
        "duration": 15,
        "start_time": "2025-01-23T22:00:23.872Z"
      },
      {
        "duration": 2,
        "start_time": "2025-01-23T22:00:24.069Z"
      },
      {
        "duration": 391,
        "start_time": "2025-01-23T22:00:24.293Z"
      },
      {
        "duration": 7,
        "start_time": "2025-01-23T22:00:24.686Z"
      },
      {
        "duration": 7,
        "start_time": "2025-01-23T22:00:24.857Z"
      },
      {
        "duration": 490,
        "start_time": "2025-01-23T22:00:25.382Z"
      },
      {
        "duration": 7,
        "start_time": "2025-01-23T22:00:25.874Z"
      },
      {
        "duration": 8,
        "start_time": "2025-01-23T22:00:26.083Z"
      },
      {
        "duration": 863,
        "start_time": "2025-01-23T22:00:27.660Z"
      },
      {
        "duration": 4,
        "start_time": "2025-01-23T22:00:28.524Z"
      },
      {
        "duration": 3,
        "start_time": "2025-01-23T22:00:28.629Z"
      },
      {
        "duration": 152,
        "start_time": "2025-01-23T22:00:28.845Z"
      },
      {
        "duration": 21,
        "start_time": "2025-01-23T22:00:29.077Z"
      },
      {
        "duration": 17,
        "start_time": "2025-01-23T22:00:29.601Z"
      },
      {
        "duration": 8,
        "start_time": "2025-01-23T22:00:31.380Z"
      },
      {
        "duration": 829,
        "start_time": "2025-01-23T22:00:32.117Z"
      },
      {
        "duration": 6,
        "start_time": "2025-01-23T22:00:33.803Z"
      },
      {
        "duration": 298,
        "start_time": "2025-01-23T22:00:34.055Z"
      },
      {
        "duration": 12,
        "start_time": "2025-01-23T22:00:34.976Z"
      },
      {
        "duration": 287,
        "start_time": "2025-01-23T22:01:03.042Z"
      },
      {
        "duration": 1295,
        "start_time": "2025-01-24T05:06:42.044Z"
      },
      {
        "duration": 314,
        "start_time": "2025-01-24T05:06:44.231Z"
      },
      {
        "duration": 20,
        "start_time": "2025-01-24T05:06:44.967Z"
      },
      {
        "duration": 16,
        "start_time": "2025-01-24T05:06:46.177Z"
      },
      {
        "duration": 14,
        "start_time": "2025-01-24T05:06:47.207Z"
      },
      {
        "duration": 7,
        "start_time": "2025-01-24T05:06:49.279Z"
      },
      {
        "duration": 9,
        "start_time": "2025-01-24T05:06:49.863Z"
      },
      {
        "duration": 6,
        "start_time": "2025-01-24T05:06:50.415Z"
      },
      {
        "duration": 5,
        "start_time": "2025-01-24T05:06:51.531Z"
      },
      {
        "duration": 8,
        "start_time": "2025-01-24T05:06:51.969Z"
      },
      {
        "duration": 7,
        "start_time": "2025-01-24T05:06:52.556Z"
      },
      {
        "duration": 5,
        "start_time": "2025-01-24T05:06:53.267Z"
      },
      {
        "duration": 5,
        "start_time": "2025-01-24T05:06:55.907Z"
      },
      {
        "duration": 155,
        "start_time": "2025-01-24T05:06:56.519Z"
      },
      {
        "duration": 3,
        "start_time": "2025-01-24T05:06:57.674Z"
      },
      {
        "duration": 118,
        "start_time": "2025-01-24T05:06:58.255Z"
      },
      {
        "duration": 12,
        "start_time": "2025-01-24T05:07:28.059Z"
      },
      {
        "duration": 3,
        "start_time": "2025-01-24T05:07:35.230Z"
      },
      {
        "duration": 124,
        "start_time": "2025-01-24T05:07:39.951Z"
      },
      {
        "duration": 2,
        "start_time": "2025-01-24T05:07:42.983Z"
      },
      {
        "duration": 188,
        "start_time": "2025-01-24T05:07:43.390Z"
      },
      {
        "duration": 84,
        "start_time": "2025-01-24T05:07:44.271Z"
      },
      {
        "duration": 3,
        "start_time": "2025-01-24T05:07:45.196Z"
      },
      {
        "duration": 272,
        "start_time": "2025-01-24T05:07:45.973Z"
      },
      {
        "duration": 91,
        "start_time": "2025-01-24T05:07:47.082Z"
      },
      {
        "duration": 2,
        "start_time": "2025-01-24T05:07:47.984Z"
      },
      {
        "duration": 262,
        "start_time": "2025-01-24T05:07:48.469Z"
      },
      {
        "duration": 168,
        "start_time": "2025-01-24T05:07:49.499Z"
      },
      {
        "duration": 2,
        "start_time": "2025-01-24T05:07:50.538Z"
      },
      {
        "duration": 142,
        "start_time": "2025-01-24T05:07:51.142Z"
      },
      {
        "duration": 69,
        "start_time": "2025-01-24T05:07:54.040Z"
      },
      {
        "duration": 16,
        "start_time": "2025-01-24T05:07:54.550Z"
      },
      {
        "duration": 15,
        "start_time": "2025-01-24T05:07:54.844Z"
      },
      {
        "duration": 2,
        "start_time": "2025-01-24T05:07:55.136Z"
      },
      {
        "duration": 396,
        "start_time": "2025-01-24T05:07:55.456Z"
      },
      {
        "duration": 8,
        "start_time": "2025-01-24T05:07:55.976Z"
      },
      {
        "duration": 8,
        "start_time": "2025-01-24T05:07:56.223Z"
      },
      {
        "duration": 401,
        "start_time": "2025-01-24T05:07:56.844Z"
      },
      {
        "duration": 8,
        "start_time": "2025-01-24T05:07:57.246Z"
      },
      {
        "duration": 8,
        "start_time": "2025-01-24T05:07:57.434Z"
      },
      {
        "duration": 855,
        "start_time": "2025-01-24T05:08:00.267Z"
      },
      {
        "duration": 4,
        "start_time": "2025-01-24T05:08:01.124Z"
      },
      {
        "duration": 4,
        "start_time": "2025-01-24T05:08:01.262Z"
      },
      {
        "duration": 158,
        "start_time": "2025-01-24T05:08:01.499Z"
      },
      {
        "duration": 24,
        "start_time": "2025-01-24T05:08:01.735Z"
      },
      {
        "duration": 17,
        "start_time": "2025-01-24T05:08:02.187Z"
      },
      {
        "duration": 8,
        "start_time": "2025-01-24T05:08:03.475Z"
      },
      {
        "duration": 805,
        "start_time": "2025-01-24T05:08:03.952Z"
      },
      {
        "duration": 7,
        "start_time": "2025-01-24T05:08:05.052Z"
      },
      {
        "duration": 388,
        "start_time": "2025-01-24T05:08:05.259Z"
      },
      {
        "duration": 12,
        "start_time": "2025-01-24T05:08:06.459Z"
      },
      {
        "duration": 799,
        "start_time": "2025-01-24T05:12:06.530Z"
      },
      {
        "duration": 11,
        "start_time": "2025-01-24T05:14:08.355Z"
      },
      {
        "duration": 3,
        "start_time": "2025-01-24T05:17:44.704Z"
      },
      {
        "duration": 280,
        "start_time": "2025-01-24T05:17:46.247Z"
      },
      {
        "duration": 16,
        "start_time": "2025-01-24T05:17:46.700Z"
      },
      {
        "duration": 17,
        "start_time": "2025-01-24T05:17:47.479Z"
      },
      {
        "duration": 15,
        "start_time": "2025-01-24T05:17:47.962Z"
      },
      {
        "duration": 8,
        "start_time": "2025-01-24T05:17:49.187Z"
      },
      {
        "duration": 8,
        "start_time": "2025-01-24T05:17:49.679Z"
      },
      {
        "duration": 6,
        "start_time": "2025-01-24T05:17:50.100Z"
      },
      {
        "duration": 6,
        "start_time": "2025-01-24T05:17:50.898Z"
      },
      {
        "duration": 8,
        "start_time": "2025-01-24T05:17:51.187Z"
      },
      {
        "duration": 8,
        "start_time": "2025-01-24T05:17:51.495Z"
      },
      {
        "duration": 5,
        "start_time": "2025-01-24T05:17:51.743Z"
      },
      {
        "duration": 5,
        "start_time": "2025-01-24T05:17:52.812Z"
      },
      {
        "duration": 132,
        "start_time": "2025-01-24T05:17:53.076Z"
      },
      {
        "duration": 3,
        "start_time": "2025-01-24T05:17:53.795Z"
      },
      {
        "duration": 129,
        "start_time": "2025-01-24T05:17:54.183Z"
      },
      {
        "duration": 3,
        "start_time": "2025-01-24T05:17:55.539Z"
      },
      {
        "duration": 190,
        "start_time": "2025-01-24T05:17:56.180Z"
      },
      {
        "duration": 84,
        "start_time": "2025-01-24T05:17:57.235Z"
      },
      {
        "duration": 3,
        "start_time": "2025-01-24T05:17:58.391Z"
      },
      {
        "duration": 257,
        "start_time": "2025-01-24T05:17:59.229Z"
      },
      {
        "duration": 91,
        "start_time": "2025-01-24T05:18:00.264Z"
      },
      {
        "duration": 2,
        "start_time": "2025-01-24T05:18:01.479Z"
      },
      {
        "duration": 345,
        "start_time": "2025-01-24T05:18:01.958Z"
      },
      {
        "duration": 91,
        "start_time": "2025-01-24T05:18:03.023Z"
      },
      {
        "duration": 2,
        "start_time": "2025-01-24T05:18:04.004Z"
      },
      {
        "duration": 139,
        "start_time": "2025-01-24T05:18:04.496Z"
      },
      {
        "duration": 67,
        "start_time": "2025-01-24T05:18:06.693Z"
      },
      {
        "duration": 17,
        "start_time": "2025-01-24T05:18:07.523Z"
      },
      {
        "duration": 15,
        "start_time": "2025-01-24T05:18:07.826Z"
      },
      {
        "duration": 2,
        "start_time": "2025-01-24T05:18:08.091Z"
      },
      {
        "duration": 396,
        "start_time": "2025-01-24T05:18:08.400Z"
      },
      {
        "duration": 8,
        "start_time": "2025-01-24T05:18:08.798Z"
      },
      {
        "duration": 9,
        "start_time": "2025-01-24T05:18:09.180Z"
      },
      {
        "duration": 406,
        "start_time": "2025-01-24T05:18:09.835Z"
      },
      {
        "duration": 8,
        "start_time": "2025-01-24T05:18:10.246Z"
      },
      {
        "duration": 8,
        "start_time": "2025-01-24T05:18:10.639Z"
      },
      {
        "duration": 855,
        "start_time": "2025-01-24T05:18:12.880Z"
      },
      {
        "duration": 3,
        "start_time": "2025-01-24T05:18:14.992Z"
      },
      {
        "duration": 3,
        "start_time": "2025-01-24T05:18:15.504Z"
      },
      {
        "duration": 241,
        "start_time": "2025-01-24T05:18:16.031Z"
      },
      {
        "duration": 22,
        "start_time": "2025-01-24T05:18:16.580Z"
      },
      {
        "duration": 17,
        "start_time": "2025-01-24T05:18:18.094Z"
      },
      {
        "duration": 8,
        "start_time": "2025-01-24T05:18:20.726Z"
      },
      {
        "duration": 802,
        "start_time": "2025-01-24T05:18:21.287Z"
      },
      {
        "duration": 6,
        "start_time": "2025-01-24T05:18:22.733Z"
      },
      {
        "duration": 293,
        "start_time": "2025-01-24T05:18:23.052Z"
      },
      {
        "duration": 12,
        "start_time": "2025-01-24T05:18:24.147Z"
      },
      {
        "duration": 3,
        "start_time": "2025-01-24T05:19:23.831Z"
      },
      {
        "duration": 264,
        "start_time": "2025-01-24T05:19:24.516Z"
      },
      {
        "duration": 16,
        "start_time": "2025-01-24T05:19:24.781Z"
      },
      {
        "duration": 19,
        "start_time": "2025-01-24T05:19:25.140Z"
      },
      {
        "duration": 15,
        "start_time": "2025-01-24T05:19:25.567Z"
      },
      {
        "duration": 7,
        "start_time": "2025-01-24T05:19:26.405Z"
      },
      {
        "duration": 8,
        "start_time": "2025-01-24T05:19:26.611Z"
      },
      {
        "duration": 6,
        "start_time": "2025-01-24T05:19:26.863Z"
      },
      {
        "duration": 6,
        "start_time": "2025-01-24T05:19:27.296Z"
      },
      {
        "duration": 7,
        "start_time": "2025-01-24T05:19:27.737Z"
      },
      {
        "duration": 8,
        "start_time": "2025-01-24T05:19:27.936Z"
      },
      {
        "duration": 5,
        "start_time": "2025-01-24T05:19:28.176Z"
      },
      {
        "duration": 6,
        "start_time": "2025-01-24T05:19:29.107Z"
      },
      {
        "duration": 152,
        "start_time": "2025-01-24T05:19:29.321Z"
      },
      {
        "duration": 3,
        "start_time": "2025-01-24T05:19:29.800Z"
      },
      {
        "duration": 136,
        "start_time": "2025-01-24T05:19:30.028Z"
      },
      {
        "duration": 3,
        "start_time": "2025-01-24T05:19:30.491Z"
      },
      {
        "duration": 196,
        "start_time": "2025-01-24T05:19:30.736Z"
      },
      {
        "duration": 83,
        "start_time": "2025-01-24T05:19:31.180Z"
      },
      {
        "duration": 2,
        "start_time": "2025-01-24T05:19:31.632Z"
      },
      {
        "duration": 272,
        "start_time": "2025-01-24T05:19:32.063Z"
      },
      {
        "duration": 98,
        "start_time": "2025-01-24T05:19:32.503Z"
      },
      {
        "duration": 2,
        "start_time": "2025-01-24T05:19:32.935Z"
      },
      {
        "duration": 377,
        "start_time": "2025-01-24T05:19:33.144Z"
      },
      {
        "duration": 102,
        "start_time": "2025-01-24T05:19:33.589Z"
      },
      {
        "duration": 2,
        "start_time": "2025-01-24T05:19:34.060Z"
      },
      {
        "duration": 155,
        "start_time": "2025-01-24T05:19:34.292Z"
      },
      {
        "duration": 68,
        "start_time": "2025-01-24T05:19:35.720Z"
      },
      {
        "duration": 16,
        "start_time": "2025-01-24T05:19:36.380Z"
      },
      {
        "duration": 15,
        "start_time": "2025-01-24T05:19:36.614Z"
      },
      {
        "duration": 3,
        "start_time": "2025-01-24T05:19:36.837Z"
      },
      {
        "duration": 407,
        "start_time": "2025-01-24T05:19:37.065Z"
      },
      {
        "duration": 8,
        "start_time": "2025-01-24T05:19:37.474Z"
      },
      {
        "duration": 8,
        "start_time": "2025-01-24T05:19:37.845Z"
      },
      {
        "duration": 397,
        "start_time": "2025-01-24T05:19:38.704Z"
      },
      {
        "duration": 8,
        "start_time": "2025-01-24T05:19:39.116Z"
      },
      {
        "duration": 8,
        "start_time": "2025-01-24T05:19:39.549Z"
      },
      {
        "duration": 874,
        "start_time": "2025-01-24T05:19:42.225Z"
      },
      {
        "duration": 3,
        "start_time": "2025-01-24T05:19:43.101Z"
      },
      {
        "duration": 4,
        "start_time": "2025-01-24T05:19:43.228Z"
      },
      {
        "duration": 247,
        "start_time": "2025-01-24T05:19:43.493Z"
      },
      {
        "duration": 20,
        "start_time": "2025-01-24T05:19:43.751Z"
      },
      {
        "duration": 18,
        "start_time": "2025-01-24T05:19:44.215Z"
      },
      {
        "duration": 7,
        "start_time": "2025-01-24T05:19:45.572Z"
      },
      {
        "duration": 798,
        "start_time": "2025-01-24T05:19:46.175Z"
      },
      {
        "duration": 7,
        "start_time": "2025-01-24T05:19:47.967Z"
      },
      {
        "duration": 297,
        "start_time": "2025-01-24T05:19:48.412Z"
      },
      {
        "duration": 11,
        "start_time": "2025-01-24T05:19:50.609Z"
      },
      {
        "duration": 3,
        "start_time": "2025-01-24T05:25:43.971Z"
      },
      {
        "duration": 3,
        "start_time": "2025-01-24T05:29:22.237Z"
      },
      {
        "duration": 53,
        "start_time": "2025-01-24T08:41:31.632Z"
      },
      {
        "duration": 1391,
        "start_time": "2025-01-24T08:41:36.670Z"
      },
      {
        "duration": 4,
        "start_time": "2025-01-24T08:41:55.752Z"
      },
      {
        "duration": 483,
        "start_time": "2025-01-24T08:41:57.192Z"
      },
      {
        "duration": 24,
        "start_time": "2025-01-24T08:42:01.623Z"
      },
      {
        "duration": 16,
        "start_time": "2025-01-24T08:42:02.543Z"
      },
      {
        "duration": 16,
        "start_time": "2025-01-24T08:42:03.239Z"
      },
      {
        "duration": 8,
        "start_time": "2025-01-24T08:42:04.503Z"
      },
      {
        "duration": 9,
        "start_time": "2025-01-24T08:42:04.759Z"
      },
      {
        "duration": 7,
        "start_time": "2025-01-24T08:42:05.023Z"
      },
      {
        "duration": 7,
        "start_time": "2025-01-24T08:42:05.500Z"
      },
      {
        "duration": 9,
        "start_time": "2025-01-24T08:42:05.727Z"
      },
      {
        "duration": 8,
        "start_time": "2025-01-24T08:42:05.952Z"
      },
      {
        "duration": 6,
        "start_time": "2025-01-24T08:42:06.158Z"
      },
      {
        "duration": 5,
        "start_time": "2025-01-24T08:42:07.007Z"
      },
      {
        "duration": 158,
        "start_time": "2025-01-24T08:42:07.231Z"
      },
      {
        "duration": 2,
        "start_time": "2025-01-24T08:42:07.655Z"
      },
      {
        "duration": 131,
        "start_time": "2025-01-24T08:42:07.879Z"
      },
      {
        "duration": 2,
        "start_time": "2025-01-24T08:42:08.311Z"
      },
      {
        "duration": 197,
        "start_time": "2025-01-24T08:42:08.535Z"
      },
      {
        "duration": 89,
        "start_time": "2025-01-24T08:42:08.960Z"
      },
      {
        "duration": 3,
        "start_time": "2025-01-24T08:42:09.374Z"
      },
      {
        "duration": 293,
        "start_time": "2025-01-24T08:42:09.799Z"
      },
      {
        "duration": 95,
        "start_time": "2025-01-24T08:42:10.231Z"
      },
      {
        "duration": 2,
        "start_time": "2025-01-24T08:42:10.919Z"
      },
      {
        "duration": 349,
        "start_time": "2025-01-24T08:42:11.200Z"
      },
      {
        "duration": 99,
        "start_time": "2025-01-24T08:42:11.894Z"
      },
      {
        "duration": 2,
        "start_time": "2025-01-24T08:42:12.639Z"
      },
      {
        "duration": 163,
        "start_time": "2025-01-24T08:42:12.932Z"
      },
      {
        "duration": 70,
        "start_time": "2025-01-24T08:42:14.550Z"
      },
      {
        "duration": 18,
        "start_time": "2025-01-24T08:42:14.983Z"
      },
      {
        "duration": 20,
        "start_time": "2025-01-24T08:42:15.197Z"
      },
      {
        "duration": 3,
        "start_time": "2025-01-24T08:42:15.480Z"
      },
      {
        "duration": 421,
        "start_time": "2025-01-24T08:42:15.720Z"
      },
      {
        "duration": 8,
        "start_time": "2025-01-24T08:42:16.144Z"
      },
      {
        "duration": 8,
        "start_time": "2025-01-24T08:42:16.335Z"
      },
      {
        "duration": 427,
        "start_time": "2025-01-24T08:42:16.934Z"
      },
      {
        "duration": 8,
        "start_time": "2025-01-24T08:42:17.364Z"
      },
      {
        "duration": 9,
        "start_time": "2025-01-24T08:42:17.606Z"
      },
      {
        "duration": 931,
        "start_time": "2025-01-24T08:42:19.679Z"
      },
      {
        "duration": 4,
        "start_time": "2025-01-24T08:42:20.775Z"
      },
      {
        "duration": 66,
        "start_time": "2025-01-24T08:42:21.207Z"
      },
      {
        "duration": 260,
        "start_time": "2025-01-24T08:42:21.527Z"
      },
      {
        "duration": 24,
        "start_time": "2025-01-24T08:42:21.878Z"
      },
      {
        "duration": 18,
        "start_time": "2025-01-24T08:42:23.119Z"
      },
      {
        "duration": 7,
        "start_time": "2025-01-24T08:42:24.502Z"
      },
      {
        "duration": 855,
        "start_time": "2025-01-24T08:42:25.119Z"
      },
      {
        "duration": 6,
        "start_time": "2025-01-24T08:42:26.648Z"
      },
      {
        "duration": 311,
        "start_time": "2025-01-24T08:42:27.007Z"
      },
      {
        "duration": 12,
        "start_time": "2025-01-24T08:42:28.510Z"
      },
      {
        "duration": 4,
        "start_time": "2025-01-24T08:44:35.957Z"
      },
      {
        "duration": 4,
        "start_time": "2025-01-24T08:44:41.094Z"
      },
      {
        "duration": 323,
        "start_time": "2025-01-24T08:44:41.910Z"
      },
      {
        "duration": 16,
        "start_time": "2025-01-24T08:44:42.235Z"
      },
      {
        "duration": 16,
        "start_time": "2025-01-24T08:44:42.766Z"
      },
      {
        "duration": 15,
        "start_time": "2025-01-24T08:44:43.158Z"
      },
      {
        "duration": 8,
        "start_time": "2025-01-24T08:44:44.062Z"
      },
      {
        "duration": 9,
        "start_time": "2025-01-24T08:44:44.286Z"
      },
      {
        "duration": 6,
        "start_time": "2025-01-24T08:44:44.494Z"
      },
      {
        "duration": 6,
        "start_time": "2025-01-24T08:44:44.918Z"
      },
      {
        "duration": 10,
        "start_time": "2025-01-24T08:44:45.134Z"
      },
      {
        "duration": 10,
        "start_time": "2025-01-24T08:44:45.334Z"
      },
      {
        "duration": 5,
        "start_time": "2025-01-24T08:44:45.525Z"
      },
      {
        "duration": 6,
        "start_time": "2025-01-24T08:44:46.390Z"
      },
      {
        "duration": 143,
        "start_time": "2025-01-24T08:44:46.588Z"
      },
      {
        "duration": 3,
        "start_time": "2025-01-24T08:44:47.238Z"
      },
      {
        "duration": 134,
        "start_time": "2025-01-24T08:44:47.519Z"
      },
      {
        "duration": 2,
        "start_time": "2025-01-24T08:44:48.166Z"
      },
      {
        "duration": 202,
        "start_time": "2025-01-24T08:44:48.374Z"
      },
      {
        "duration": 85,
        "start_time": "2025-01-24T08:44:48.782Z"
      },
      {
        "duration": 3,
        "start_time": "2025-01-24T08:44:49.190Z"
      },
      {
        "duration": 278,
        "start_time": "2025-01-24T08:44:49.631Z"
      },
      {
        "duration": 100,
        "start_time": "2025-01-24T08:44:50.286Z"
      },
      {
        "duration": 2,
        "start_time": "2025-01-24T08:44:50.750Z"
      },
      {
        "duration": 369,
        "start_time": "2025-01-24T08:44:50.976Z"
      },
      {
        "duration": 98,
        "start_time": "2025-01-24T08:44:51.598Z"
      },
      {
        "duration": 3,
        "start_time": "2025-01-24T08:44:52.014Z"
      },
      {
        "duration": 161,
        "start_time": "2025-01-24T08:44:52.223Z"
      },
      {
        "duration": 70,
        "start_time": "2025-01-24T08:44:53.471Z"
      },
      {
        "duration": 17,
        "start_time": "2025-01-24T08:44:53.935Z"
      },
      {
        "duration": 17,
        "start_time": "2025-01-24T08:44:54.182Z"
      },
      {
        "duration": 2,
        "start_time": "2025-01-24T08:44:54.391Z"
      },
      {
        "duration": 416,
        "start_time": "2025-01-24T08:44:54.597Z"
      },
      {
        "duration": 9,
        "start_time": "2025-01-24T08:44:55.015Z"
      },
      {
        "duration": 8,
        "start_time": "2025-01-24T08:44:55.188Z"
      },
      {
        "duration": 428,
        "start_time": "2025-01-24T08:44:55.823Z"
      },
      {
        "duration": 8,
        "start_time": "2025-01-24T08:44:56.253Z"
      },
      {
        "duration": 10,
        "start_time": "2025-01-24T08:44:56.351Z"
      },
      {
        "duration": 893,
        "start_time": "2025-01-24T08:44:58.526Z"
      },
      {
        "duration": 4,
        "start_time": "2025-01-24T08:44:59.614Z"
      },
      {
        "duration": 3,
        "start_time": "2025-01-24T08:45:00.061Z"
      },
      {
        "duration": 273,
        "start_time": "2025-01-24T08:45:00.707Z"
      },
      {
        "duration": 24,
        "start_time": "2025-01-24T08:45:01.120Z"
      },
      {
        "duration": 17,
        "start_time": "2025-01-24T08:45:01.886Z"
      },
      {
        "duration": 7,
        "start_time": "2025-01-24T08:45:03.990Z"
      },
      {
        "duration": 871,
        "start_time": "2025-01-24T08:45:04.885Z"
      },
      {
        "duration": 8,
        "start_time": "2025-01-24T08:45:07.334Z"
      },
      {
        "duration": 352,
        "start_time": "2025-01-24T08:45:07.799Z"
      },
      {
        "duration": 13,
        "start_time": "2025-01-24T08:45:09.726Z"
      },
      {
        "duration": 5,
        "start_time": "2025-01-24T08:45:41.839Z"
      },
      {
        "duration": 2,
        "start_time": "2025-01-24T08:48:23.118Z"
      },
      {
        "duration": 4,
        "start_time": "2025-01-24T11:40:01.603Z"
      },
      {
        "duration": 483,
        "start_time": "2025-01-24T11:40:02.020Z"
      },
      {
        "duration": 16,
        "start_time": "2025-01-24T11:40:02.505Z"
      },
      {
        "duration": 19,
        "start_time": "2025-01-24T11:40:02.621Z"
      },
      {
        "duration": 17,
        "start_time": "2025-01-24T11:40:03.051Z"
      },
      {
        "duration": 10,
        "start_time": "2025-01-24T11:40:03.876Z"
      },
      {
        "duration": 9,
        "start_time": "2025-01-24T11:40:04.074Z"
      },
      {
        "duration": 5,
        "start_time": "2025-01-24T11:40:04.275Z"
      },
      {
        "duration": 8,
        "start_time": "2025-01-24T11:40:04.661Z"
      },
      {
        "duration": 10,
        "start_time": "2025-01-24T11:40:04.870Z"
      },
      {
        "duration": 12,
        "start_time": "2025-01-24T11:40:05.075Z"
      },
      {
        "duration": 7,
        "start_time": "2025-01-24T11:40:05.268Z"
      },
      {
        "duration": 7,
        "start_time": "2025-01-24T11:40:06.092Z"
      },
      {
        "duration": 529,
        "start_time": "2025-01-24T11:40:06.299Z"
      },
      {
        "duration": 1324,
        "start_time": "2025-01-24T11:40:06.830Z"
      },
      {
        "duration": 2545,
        "start_time": "2025-01-24T11:40:08.157Z"
      },
      {
        "duration": 2936,
        "start_time": "2025-01-24T11:40:10.704Z"
      },
      {
        "duration": 1484,
        "start_time": "2025-01-24T11:40:13.643Z"
      },
      {
        "duration": 1465,
        "start_time": "2025-01-24T11:40:15.129Z"
      },
      {
        "duration": 3,
        "start_time": "2025-01-24T11:40:16.596Z"
      },
      {
        "duration": 1866,
        "start_time": "2025-01-24T11:40:16.601Z"
      },
      {
        "duration": 139,
        "start_time": "2025-01-24T11:40:18.468Z"
      },
      {
        "duration": 2,
        "start_time": "2025-01-24T11:40:18.609Z"
      },
      {
        "duration": 434,
        "start_time": "2025-01-24T11:40:18.613Z"
      },
      {
        "duration": 115,
        "start_time": "2025-01-24T11:40:19.049Z"
      },
      {
        "duration": 3,
        "start_time": "2025-01-24T11:40:19.166Z"
      },
      {
        "duration": 196,
        "start_time": "2025-01-24T11:40:19.170Z"
      },
      {
        "duration": 86,
        "start_time": "2025-01-24T11:40:19.368Z"
      },
      {
        "duration": 17,
        "start_time": "2025-01-24T11:40:19.455Z"
      },
      {
        "duration": 16,
        "start_time": "2025-01-24T11:40:19.474Z"
      },
      {
        "duration": 23,
        "start_time": "2025-01-24T11:40:19.491Z"
      },
      {
        "duration": 440,
        "start_time": "2025-01-24T11:40:19.515Z"
      },
      {
        "duration": 9,
        "start_time": "2025-01-24T11:40:19.957Z"
      },
      {
        "duration": 27,
        "start_time": "2025-01-24T11:40:19.968Z"
      },
      {
        "duration": 471,
        "start_time": "2025-01-24T11:40:19.997Z"
      },
      {
        "duration": 10,
        "start_time": "2025-01-24T11:40:20.470Z"
      },
      {
        "duration": 42,
        "start_time": "2025-01-24T11:40:20.481Z"
      },
      {
        "duration": 1060,
        "start_time": "2025-01-24T11:40:20.525Z"
      },
      {
        "duration": 4,
        "start_time": "2025-01-24T11:40:21.588Z"
      },
      {
        "duration": 24,
        "start_time": "2025-01-24T11:40:21.594Z"
      },
      {
        "duration": 278,
        "start_time": "2025-01-24T11:40:21.620Z"
      },
      {
        "duration": 25,
        "start_time": "2025-01-24T11:40:21.900Z"
      },
      {
        "duration": 18,
        "start_time": "2025-01-24T11:40:21.938Z"
      },
      {
        "duration": 48,
        "start_time": "2025-01-24T11:40:21.958Z"
      },
      {
        "duration": 903,
        "start_time": "2025-01-24T11:40:22.066Z"
      },
      {
        "duration": 9,
        "start_time": "2025-01-24T11:40:22.972Z"
      },
      {
        "duration": 317,
        "start_time": "2025-01-24T11:40:23.220Z"
      },
      {
        "duration": 13,
        "start_time": "2025-01-24T11:40:24.507Z"
      },
      {
        "duration": 1468,
        "start_time": "2025-01-24T11:51:18.591Z"
      },
      {
        "duration": 283,
        "start_time": "2025-01-24T11:51:20.061Z"
      },
      {
        "duration": 20,
        "start_time": "2025-01-24T11:51:20.346Z"
      },
      {
        "duration": 15,
        "start_time": "2025-01-24T11:51:20.368Z"
      },
      {
        "duration": 14,
        "start_time": "2025-01-24T11:51:20.385Z"
      },
      {
        "duration": 11,
        "start_time": "2025-01-24T11:51:20.410Z"
      },
      {
        "duration": 23,
        "start_time": "2025-01-24T11:51:20.422Z"
      },
      {
        "duration": 11,
        "start_time": "2025-01-24T11:51:20.447Z"
      },
      {
        "duration": 22,
        "start_time": "2025-01-24T11:51:20.460Z"
      },
      {
        "duration": 15,
        "start_time": "2025-01-24T11:51:20.485Z"
      },
      {
        "duration": 12,
        "start_time": "2025-01-24T11:51:20.502Z"
      },
      {
        "duration": 7,
        "start_time": "2025-01-24T11:51:20.517Z"
      },
      {
        "duration": 50,
        "start_time": "2025-01-24T11:51:20.526Z"
      },
      {
        "duration": 176,
        "start_time": "2025-01-24T11:51:20.579Z"
      },
      {
        "duration": 3,
        "start_time": "2025-01-24T11:51:20.756Z"
      },
      {
        "duration": 165,
        "start_time": "2025-01-24T11:51:20.760Z"
      },
      {
        "duration": 3,
        "start_time": "2025-01-24T11:51:20.927Z"
      },
      {
        "duration": 226,
        "start_time": "2025-01-24T11:51:20.931Z"
      },
      {
        "duration": 104,
        "start_time": "2025-01-24T11:51:21.159Z"
      },
      {
        "duration": 3,
        "start_time": "2025-01-24T11:51:21.265Z"
      },
      {
        "duration": 352,
        "start_time": "2025-01-24T11:51:21.269Z"
      },
      {
        "duration": 107,
        "start_time": "2025-01-24T11:51:21.623Z"
      },
      {
        "duration": 3,
        "start_time": "2025-01-24T11:51:21.732Z"
      },
      {
        "duration": 387,
        "start_time": "2025-01-24T11:51:21.736Z"
      },
      {
        "duration": 125,
        "start_time": "2025-01-24T11:51:22.124Z"
      },
      {
        "duration": 2,
        "start_time": "2025-01-24T11:51:22.251Z"
      },
      {
        "duration": 179,
        "start_time": "2025-01-24T11:51:22.256Z"
      },
      {
        "duration": 87,
        "start_time": "2025-01-24T11:51:22.437Z"
      },
      {
        "duration": 19,
        "start_time": "2025-01-24T11:51:22.526Z"
      },
      {
        "duration": 16,
        "start_time": "2025-01-24T11:51:22.547Z"
      },
      {
        "duration": 2,
        "start_time": "2025-01-24T11:51:22.566Z"
      },
      {
        "duration": 467,
        "start_time": "2025-01-24T11:51:22.571Z"
      },
      {
        "duration": 8,
        "start_time": "2025-01-24T11:51:23.039Z"
      },
      {
        "duration": 11,
        "start_time": "2025-01-24T11:51:23.049Z"
      },
      {
        "duration": 500,
        "start_time": "2025-01-24T11:51:23.061Z"
      },
      {
        "duration": 10,
        "start_time": "2025-01-24T11:51:23.563Z"
      },
      {
        "duration": 12,
        "start_time": "2025-01-24T11:51:23.574Z"
      },
      {
        "duration": 1037,
        "start_time": "2025-01-24T11:51:23.588Z"
      },
      {
        "duration": 5,
        "start_time": "2025-01-24T11:51:24.626Z"
      },
      {
        "duration": 4,
        "start_time": "2025-01-24T11:51:24.633Z"
      },
      {
        "duration": 201,
        "start_time": "2025-01-24T11:51:24.642Z"
      },
      {
        "duration": 25,
        "start_time": "2025-01-24T11:51:24.845Z"
      },
      {
        "duration": 73,
        "start_time": "2025-01-24T11:51:24.872Z"
      },
      {
        "duration": 9,
        "start_time": "2025-01-24T11:51:24.947Z"
      },
      {
        "duration": 1068,
        "start_time": "2025-01-24T11:51:24.958Z"
      },
      {
        "duration": 8,
        "start_time": "2025-01-24T11:51:26.028Z"
      },
      {
        "duration": 374,
        "start_time": "2025-01-24T11:51:26.038Z"
      },
      {
        "duration": 14,
        "start_time": "2025-01-24T11:51:26.420Z"
      },
      {
        "duration": 3,
        "start_time": "2025-01-24T12:18:20.925Z"
      },
      {
        "duration": 127,
        "start_time": "2025-01-24T12:18:24.447Z"
      },
      {
        "duration": 340,
        "start_time": "2025-01-24T12:19:34.441Z"
      },
      {
        "duration": 19,
        "start_time": "2025-01-24T12:19:39.258Z"
      },
      {
        "duration": 16,
        "start_time": "2025-01-24T12:19:46.404Z"
      },
      {
        "duration": 13,
        "start_time": "2025-01-24T12:20:29.477Z"
      },
      {
        "duration": 12,
        "start_time": "2025-01-24T12:22:51.291Z"
      },
      {
        "duration": 3,
        "start_time": "2025-01-24T12:23:00.201Z"
      },
      {
        "duration": 8,
        "start_time": "2025-01-24T12:23:04.963Z"
      },
      {
        "duration": 16,
        "start_time": "2025-01-24T13:35:32.529Z"
      },
      {
        "duration": 142,
        "start_time": "2025-01-24T13:35:57.188Z"
      },
      {
        "duration": 15,
        "start_time": "2025-01-24T13:36:06.762Z"
      },
      {
        "duration": 16,
        "start_time": "2025-01-24T13:36:49.046Z"
      },
      {
        "duration": 591,
        "start_time": "2025-01-24T13:37:42.187Z"
      },
      {
        "duration": 17,
        "start_time": "2025-01-24T13:39:31.939Z"
      },
      {
        "duration": 593,
        "start_time": "2025-01-24T13:39:52.501Z"
      },
      {
        "duration": 16,
        "start_time": "2025-01-24T13:40:24.874Z"
      },
      {
        "duration": 594,
        "start_time": "2025-01-24T13:40:34.779Z"
      },
      {
        "duration": 586,
        "start_time": "2025-01-24T13:42:01.266Z"
      },
      {
        "duration": 194,
        "start_time": "2025-01-24T13:47:28.906Z"
      },
      {
        "duration": 83,
        "start_time": "2025-01-24T13:47:56.553Z"
      },
      {
        "duration": 143,
        "start_time": "2025-01-24T13:48:02.808Z"
      },
      {
        "duration": 102,
        "start_time": "2025-01-24T13:49:54.994Z"
      },
      {
        "duration": 95,
        "start_time": "2025-01-24T13:50:50.750Z"
      },
      {
        "duration": 53,
        "start_time": "2025-01-24T18:10:00.328Z"
      },
      {
        "duration": 1270,
        "start_time": "2025-01-24T18:10:20.372Z"
      },
      {
        "duration": 653,
        "start_time": "2025-01-24T18:10:21.787Z"
      },
      {
        "duration": 19,
        "start_time": "2025-01-24T18:10:22.671Z"
      },
      {
        "duration": 14,
        "start_time": "2025-01-24T18:10:23.527Z"
      },
      {
        "duration": 13,
        "start_time": "2025-01-24T18:10:24.420Z"
      },
      {
        "duration": 2,
        "start_time": "2025-01-24T18:10:26.526Z"
      },
      {
        "duration": 7,
        "start_time": "2025-01-24T18:10:27.933Z"
      },
      {
        "duration": 5,
        "start_time": "2025-01-24T18:10:28.483Z"
      },
      {
        "duration": 6,
        "start_time": "2025-01-24T18:10:29.571Z"
      },
      {
        "duration": 10,
        "start_time": "2025-01-24T18:10:30.065Z"
      },
      {
        "duration": 7,
        "start_time": "2025-01-24T18:10:30.573Z"
      },
      {
        "duration": 5,
        "start_time": "2025-01-24T18:10:31.210Z"
      },
      {
        "duration": 5,
        "start_time": "2025-01-24T18:10:33.715Z"
      },
      {
        "duration": 143,
        "start_time": "2025-01-24T18:10:34.218Z"
      },
      {
        "duration": 74,
        "start_time": "2025-01-24T18:10:35.463Z"
      },
      {
        "duration": 533,
        "start_time": "2025-01-24T18:20:15.822Z"
      },
      {
        "duration": 540,
        "start_time": "2025-01-24T18:21:50.668Z"
      },
      {
        "duration": 508,
        "start_time": "2025-01-24T18:22:03.066Z"
      },
      {
        "duration": 14,
        "start_time": "2025-01-24T18:28:38.749Z"
      },
      {
        "duration": 468,
        "start_time": "2025-01-24T18:31:52.887Z"
      },
      {
        "duration": 293,
        "start_time": "2025-01-24T18:32:26.131Z"
      },
      {
        "duration": 284,
        "start_time": "2025-01-24T18:32:41.721Z"
      },
      {
        "duration": 521,
        "start_time": "2025-01-24T18:32:58.683Z"
      },
      {
        "duration": 505,
        "start_time": "2025-01-24T18:37:21.263Z"
      },
      {
        "duration": 520,
        "start_time": "2025-01-24T18:38:08.950Z"
      },
      {
        "duration": 534,
        "start_time": "2025-01-24T18:39:25.979Z"
      },
      {
        "duration": 23,
        "start_time": "2025-01-24T18:42:22.251Z"
      },
      {
        "duration": 521,
        "start_time": "2025-01-24T18:42:57.996Z"
      },
      {
        "duration": 78,
        "start_time": "2025-01-24T18:50:05.905Z"
      },
      {
        "duration": 494,
        "start_time": "2025-01-24T18:50:12.042Z"
      },
      {
        "duration": 504,
        "start_time": "2025-01-24T18:51:37.467Z"
      },
      {
        "duration": 81,
        "start_time": "2025-01-24T18:53:50.317Z"
      },
      {
        "duration": 15,
        "start_time": "2025-01-24T18:59:45.798Z"
      },
      {
        "duration": 26,
        "start_time": "2025-01-24T19:00:26.188Z"
      },
      {
        "duration": 12,
        "start_time": "2025-01-24T19:01:49.588Z"
      },
      {
        "duration": 9,
        "start_time": "2025-01-24T19:04:45.561Z"
      },
      {
        "duration": 67,
        "start_time": "2025-01-24T19:08:41.688Z"
      },
      {
        "duration": 89,
        "start_time": "2025-01-24T19:09:06.911Z"
      },
      {
        "duration": 10,
        "start_time": "2025-01-24T19:10:13.203Z"
      },
      {
        "duration": 9,
        "start_time": "2025-01-24T19:11:23.386Z"
      },
      {
        "duration": 5,
        "start_time": "2025-01-24T19:12:09.988Z"
      },
      {
        "duration": 449,
        "start_time": "2025-01-24T19:12:10.889Z"
      },
      {
        "duration": 14,
        "start_time": "2025-01-24T19:12:11.340Z"
      },
      {
        "duration": 13,
        "start_time": "2025-01-24T19:12:11.697Z"
      },
      {
        "duration": 15,
        "start_time": "2025-01-24T19:12:12.369Z"
      },
      {
        "duration": 2,
        "start_time": "2025-01-24T19:12:13.847Z"
      },
      {
        "duration": 11,
        "start_time": "2025-01-24T19:12:14.475Z"
      },
      {
        "duration": 5,
        "start_time": "2025-01-24T19:12:14.704Z"
      },
      {
        "duration": 5,
        "start_time": "2025-01-24T19:12:15.819Z"
      },
      {
        "duration": 8,
        "start_time": "2025-01-24T19:12:16.173Z"
      },
      {
        "duration": 8,
        "start_time": "2025-01-24T19:12:16.501Z"
      },
      {
        "duration": 5,
        "start_time": "2025-01-24T19:12:16.744Z"
      },
      {
        "duration": 6,
        "start_time": "2025-01-24T19:12:18.336Z"
      },
      {
        "duration": 129,
        "start_time": "2025-01-24T19:12:19.004Z"
      },
      {
        "duration": 75,
        "start_time": "2025-01-24T19:12:20.747Z"
      },
      {
        "duration": 2,
        "start_time": "2025-01-24T19:12:29.340Z"
      },
      {
        "duration": 10,
        "start_time": "2025-01-24T19:12:30.274Z"
      },
      {
        "duration": 4,
        "start_time": "2025-01-24T19:20:16.436Z"
      },
      {
        "duration": 14,
        "start_time": "2025-01-24T19:20:27.700Z"
      },
      {
        "duration": 506,
        "start_time": "2025-01-24T19:20:49.837Z"
      },
      {
        "duration": 292,
        "start_time": "2025-01-24T19:21:21.525Z"
      },
      {
        "duration": 19,
        "start_time": "2025-01-24T19:25:44.052Z"
      },
      {
        "duration": 280,
        "start_time": "2025-01-24T19:26:06.122Z"
      },
      {
        "duration": 187,
        "start_time": "2025-01-24T19:31:47.310Z"
      },
      {
        "duration": 117,
        "start_time": "2025-01-24T19:33:05.344Z"
      },
      {
        "duration": 142,
        "start_time": "2025-01-24T19:34:04.228Z"
      },
      {
        "duration": 121,
        "start_time": "2025-01-24T19:34:30.916Z"
      },
      {
        "duration": 133,
        "start_time": "2025-01-24T19:36:45.829Z"
      },
      {
        "duration": 18,
        "start_time": "2025-01-24T19:39:17.913Z"
      },
      {
        "duration": 77,
        "start_time": "2025-01-24T19:39:33.758Z"
      },
      {
        "duration": 138,
        "start_time": "2025-01-24T19:39:47.906Z"
      },
      {
        "duration": 137,
        "start_time": "2025-01-24T19:39:59.082Z"
      },
      {
        "duration": 271,
        "start_time": "2025-01-24T19:40:21.338Z"
      },
      {
        "duration": 265,
        "start_time": "2025-01-24T19:40:31.266Z"
      },
      {
        "duration": 12,
        "start_time": "2025-01-24T19:41:04.352Z"
      },
      {
        "duration": 12,
        "start_time": "2025-01-24T19:41:31.202Z"
      },
      {
        "duration": 291,
        "start_time": "2025-01-24T19:42:39.954Z"
      },
      {
        "duration": 10,
        "start_time": "2025-01-24T19:43:33.560Z"
      },
      {
        "duration": 9,
        "start_time": "2025-01-24T19:44:03.372Z"
      },
      {
        "duration": 8,
        "start_time": "2025-01-24T19:44:31.085Z"
      },
      {
        "duration": 136,
        "start_time": "2025-01-24T19:45:25.162Z"
      },
      {
        "duration": 216,
        "start_time": "2025-01-24T19:46:47.285Z"
      },
      {
        "duration": 156,
        "start_time": "2025-01-24T19:46:53.200Z"
      },
      {
        "duration": 159,
        "start_time": "2025-01-24T19:47:17.760Z"
      },
      {
        "duration": 134,
        "start_time": "2025-01-24T19:48:04.658Z"
      },
      {
        "duration": 161,
        "start_time": "2025-01-24T19:48:10.864Z"
      },
      {
        "duration": 129,
        "start_time": "2025-01-24T19:51:46.565Z"
      },
      {
        "duration": 167,
        "start_time": "2025-01-24T19:51:54.133Z"
      },
      {
        "duration": 85,
        "start_time": "2025-01-24T19:52:18.132Z"
      },
      {
        "duration": 10,
        "start_time": "2025-01-24T19:56:59.976Z"
      },
      {
        "duration": 112,
        "start_time": "2025-01-24T19:57:17.770Z"
      },
      {
        "duration": 103,
        "start_time": "2025-01-24T19:58:01.410Z"
      },
      {
        "duration": 118,
        "start_time": "2025-01-24T19:58:09.064Z"
      },
      {
        "duration": 82,
        "start_time": "2025-01-24T19:58:16.147Z"
      },
      {
        "duration": 2,
        "start_time": "2025-01-24T19:58:16.935Z"
      },
      {
        "duration": 166,
        "start_time": "2025-01-24T19:58:17.664Z"
      },
      {
        "duration": 151,
        "start_time": "2025-01-24T19:58:19.153Z"
      },
      {
        "duration": 3,
        "start_time": "2025-01-24T19:58:20.171Z"
      },
      {
        "duration": 219,
        "start_time": "2025-01-24T19:58:21.220Z"
      },
      {
        "duration": 83,
        "start_time": "2025-01-24T19:58:22.359Z"
      },
      {
        "duration": 2,
        "start_time": "2025-01-24T19:58:23.315Z"
      },
      {
        "duration": 224,
        "start_time": "2025-01-24T19:58:24.451Z"
      },
      {
        "duration": 83,
        "start_time": "2025-01-24T19:58:26.200Z"
      },
      {
        "duration": 2,
        "start_time": "2025-01-24T19:58:27.655Z"
      },
      {
        "duration": 151,
        "start_time": "2025-01-24T19:58:28.448Z"
      },
      {
        "duration": 8,
        "start_time": "2025-01-24T20:01:49.622Z"
      },
      {
        "duration": 3,
        "start_time": "2025-01-24T20:02:58.330Z"
      },
      {
        "duration": 325,
        "start_time": "2025-01-24T20:02:59.001Z"
      },
      {
        "duration": 15,
        "start_time": "2025-01-24T20:02:59.443Z"
      },
      {
        "duration": 14,
        "start_time": "2025-01-24T20:02:59.876Z"
      },
      {
        "duration": 14,
        "start_time": "2025-01-24T20:03:00.341Z"
      },
      {
        "duration": 2,
        "start_time": "2025-01-24T20:03:01.613Z"
      },
      {
        "duration": 7,
        "start_time": "2025-01-24T20:03:02.474Z"
      },
      {
        "duration": 5,
        "start_time": "2025-01-24T20:03:02.723Z"
      },
      {
        "duration": 6,
        "start_time": "2025-01-24T20:03:03.173Z"
      },
      {
        "duration": 8,
        "start_time": "2025-01-24T20:03:03.377Z"
      },
      {
        "duration": 7,
        "start_time": "2025-01-24T20:03:03.605Z"
      },
      {
        "duration": 5,
        "start_time": "2025-01-24T20:03:03.845Z"
      },
      {
        "duration": 6,
        "start_time": "2025-01-24T20:03:05.021Z"
      },
      {
        "duration": 129,
        "start_time": "2025-01-24T20:03:05.282Z"
      },
      {
        "duration": 150,
        "start_time": "2025-01-24T20:03:05.846Z"
      },
      {
        "duration": 164,
        "start_time": "2025-01-24T20:03:06.258Z"
      },
      {
        "duration": 2,
        "start_time": "2025-01-24T20:03:08.754Z"
      },
      {
        "duration": 192,
        "start_time": "2025-01-24T20:03:09.358Z"
      },
      {
        "duration": 82,
        "start_time": "2025-01-24T20:03:10.922Z"
      },
      {
        "duration": 2,
        "start_time": "2025-01-24T20:03:11.178Z"
      },
      {
        "duration": 173,
        "start_time": "2025-01-24T20:03:11.486Z"
      },
      {
        "duration": 73,
        "start_time": "2025-01-24T20:03:12.857Z"
      },
      {
        "duration": 2,
        "start_time": "2025-01-24T20:03:13.748Z"
      },
      {
        "duration": 229,
        "start_time": "2025-01-24T20:03:14.570Z"
      },
      {
        "duration": 85,
        "start_time": "2025-01-24T20:03:15.586Z"
      },
      {
        "duration": 3,
        "start_time": "2025-01-24T20:03:16.469Z"
      },
      {
        "duration": 232,
        "start_time": "2025-01-24T20:03:17.405Z"
      },
      {
        "duration": 92,
        "start_time": "2025-01-24T20:03:18.121Z"
      },
      {
        "duration": 2,
        "start_time": "2025-01-24T20:03:18.622Z"
      },
      {
        "duration": 128,
        "start_time": "2025-01-24T20:03:18.846Z"
      },
      {
        "duration": 60,
        "start_time": "2025-01-24T20:03:22.578Z"
      },
      {
        "duration": 84,
        "start_time": "2025-01-24T20:03:24.570Z"
      },
      {
        "duration": 13,
        "start_time": "2025-01-24T20:03:25.291Z"
      },
      {
        "duration": 2,
        "start_time": "2025-01-24T20:03:25.866Z"
      },
      {
        "duration": 335,
        "start_time": "2025-01-24T20:03:32.141Z"
      },
      {
        "duration": 7,
        "start_time": "2025-01-24T20:03:32.779Z"
      },
      {
        "duration": 7,
        "start_time": "2025-01-24T20:03:33.366Z"
      },
      {
        "duration": 331,
        "start_time": "2025-01-24T20:03:34.642Z"
      },
      {
        "duration": 8,
        "start_time": "2025-01-24T20:03:35.291Z"
      },
      {
        "duration": 7,
        "start_time": "2025-01-24T20:03:35.910Z"
      },
      {
        "duration": 886,
        "start_time": "2025-01-24T20:03:38.805Z"
      },
      {
        "duration": 3,
        "start_time": "2025-01-24T20:03:39.692Z"
      },
      {
        "duration": 4,
        "start_time": "2025-01-24T20:03:41.731Z"
      },
      {
        "duration": 152,
        "start_time": "2025-01-24T20:03:42.301Z"
      },
      {
        "duration": 19,
        "start_time": "2025-01-24T20:03:42.555Z"
      },
      {
        "duration": 16,
        "start_time": "2025-01-24T20:03:43.092Z"
      },
      {
        "duration": 4,
        "start_time": "2025-01-24T20:08:23.609Z"
      },
      {
        "duration": 3,
        "start_time": "2025-01-24T20:08:25.087Z"
      },
      {
        "duration": 144,
        "start_time": "2025-01-24T20:08:37.876Z"
      },
      {
        "duration": 79,
        "start_time": "2025-01-24T20:15:04.183Z"
      },
      {
        "duration": 10,
        "start_time": "2025-01-24T20:29:36.681Z"
      },
      {
        "duration": 1314,
        "start_time": "2025-01-24T20:30:02.759Z"
      },
      {
        "duration": 1360,
        "start_time": "2025-01-24T20:32:10.123Z"
      },
      {
        "duration": 2,
        "start_time": "2025-01-24T20:35:17.429Z"
      },
      {
        "duration": 8,
        "start_time": "2025-01-24T20:38:26.213Z"
      },
      {
        "duration": 9,
        "start_time": "2025-01-24T20:38:32.650Z"
      },
      {
        "duration": 921,
        "start_time": "2025-01-24T20:42:08.179Z"
      },
      {
        "duration": 100,
        "start_time": "2025-01-24T20:46:17.537Z"
      },
      {
        "duration": 9,
        "start_time": "2025-01-25T05:32:53.203Z"
      },
      {
        "duration": 44,
        "start_time": "2025-01-25T05:32:55.065Z"
      },
      {
        "duration": 1377,
        "start_time": "2025-01-25T05:33:17.735Z"
      },
      {
        "duration": 421,
        "start_time": "2025-01-25T05:33:19.114Z"
      },
      {
        "duration": 23,
        "start_time": "2025-01-25T05:33:19.537Z"
      },
      {
        "duration": 30,
        "start_time": "2025-01-25T05:33:19.562Z"
      },
      {
        "duration": 17,
        "start_time": "2025-01-25T05:33:19.709Z"
      },
      {
        "duration": 2,
        "start_time": "2025-01-25T05:33:20.810Z"
      },
      {
        "duration": 9,
        "start_time": "2025-01-25T05:33:21.527Z"
      },
      {
        "duration": 6,
        "start_time": "2025-01-25T05:33:21.735Z"
      },
      {
        "duration": 6,
        "start_time": "2025-01-25T05:33:22.201Z"
      },
      {
        "duration": 8,
        "start_time": "2025-01-25T05:33:22.450Z"
      },
      {
        "duration": 9,
        "start_time": "2025-01-25T05:33:22.681Z"
      },
      {
        "duration": 6,
        "start_time": "2025-01-25T05:33:22.914Z"
      },
      {
        "duration": 7,
        "start_time": "2025-01-25T05:33:24.065Z"
      },
      {
        "duration": 153,
        "start_time": "2025-01-25T05:33:24.274Z"
      },
      {
        "duration": 147,
        "start_time": "2025-01-25T05:33:24.753Z"
      },
      {
        "duration": 202,
        "start_time": "2025-01-25T05:33:24.950Z"
      },
      {
        "duration": 2,
        "start_time": "2025-01-25T05:33:25.625Z"
      },
      {
        "duration": 134,
        "start_time": "2025-01-25T05:33:25.850Z"
      },
      {
        "duration": 91,
        "start_time": "2025-01-25T05:33:26.751Z"
      },
      {
        "duration": 3,
        "start_time": "2025-01-25T05:33:26.949Z"
      },
      {
        "duration": 204,
        "start_time": "2025-01-25T05:33:27.180Z"
      },
      {
        "duration": 87,
        "start_time": "2025-01-25T05:33:27.860Z"
      },
      {
        "duration": 3,
        "start_time": "2025-01-25T05:33:28.276Z"
      },
      {
        "duration": 353,
        "start_time": "2025-01-25T05:33:28.728Z"
      },
      {
        "duration": 96,
        "start_time": "2025-01-25T05:33:29.351Z"
      },
      {
        "duration": 2,
        "start_time": "2025-01-25T05:33:29.803Z"
      },
      {
        "duration": 284,
        "start_time": "2025-01-25T05:33:30.248Z"
      },
      {
        "duration": 97,
        "start_time": "2025-01-25T05:33:30.700Z"
      },
      {
        "duration": 3,
        "start_time": "2025-01-25T05:33:31.161Z"
      },
      {
        "duration": 154,
        "start_time": "2025-01-25T05:33:31.367Z"
      },
      {
        "duration": 74,
        "start_time": "2025-01-25T05:33:33.292Z"
      },
      {
        "duration": 17,
        "start_time": "2025-01-25T05:33:34.010Z"
      },
      {
        "duration": 18,
        "start_time": "2025-01-25T05:33:34.258Z"
      },
      {
        "duration": 3,
        "start_time": "2025-01-25T05:33:34.530Z"
      },
      {
        "duration": 449,
        "start_time": "2025-01-25T05:33:34.769Z"
      },
      {
        "duration": 8,
        "start_time": "2025-01-25T05:33:35.220Z"
      },
      {
        "duration": 23,
        "start_time": "2025-01-25T05:33:35.230Z"
      },
      {
        "duration": 536,
        "start_time": "2025-01-25T05:33:35.702Z"
      },
      {
        "duration": 10,
        "start_time": "2025-01-25T05:33:36.240Z"
      },
      {
        "duration": 71,
        "start_time": "2025-01-25T05:33:36.252Z"
      },
      {
        "duration": 900,
        "start_time": "2025-01-25T05:33:43.408Z"
      },
      {
        "duration": 5,
        "start_time": "2025-01-25T05:33:44.421Z"
      },
      {
        "duration": 2,
        "start_time": "2025-01-25T05:33:44.751Z"
      },
      {
        "duration": 4,
        "start_time": "2025-01-25T05:33:45.339Z"
      },
      {
        "duration": 152,
        "start_time": "2025-01-25T05:33:45.594Z"
      },
      {
        "duration": 24,
        "start_time": "2025-01-25T05:33:45.831Z"
      },
      {
        "duration": 19,
        "start_time": "2025-01-25T05:33:46.363Z"
      },
      {
        "duration": 9,
        "start_time": "2025-01-25T05:33:49.081Z"
      },
      {
        "duration": 893,
        "start_time": "2025-01-25T05:33:49.762Z"
      },
      {
        "duration": 8,
        "start_time": "2025-01-25T05:33:50.710Z"
      },
      {
        "duration": 318,
        "start_time": "2025-01-25T05:33:50.930Z"
      },
      {
        "duration": 13,
        "start_time": "2025-01-25T05:33:52.243Z"
      },
      {
        "duration": 13,
        "start_time": "2025-01-25T06:45:12.379Z"
      },
      {
        "duration": 7,
        "start_time": "2025-01-25T06:45:12.396Z"
      },
      {
        "duration": 9,
        "start_time": "2025-01-25T06:45:12.405Z"
      },
      {
        "duration": 9,
        "start_time": "2025-01-25T06:45:12.416Z"
      },
      {
        "duration": 10,
        "start_time": "2025-01-25T06:45:12.427Z"
      },
      {
        "duration": 6,
        "start_time": "2025-01-25T06:45:12.439Z"
      },
      {
        "duration": 14,
        "start_time": "2025-01-25T06:45:12.447Z"
      },
      {
        "duration": 180,
        "start_time": "2025-01-25T06:45:12.463Z"
      },
      {
        "duration": 170,
        "start_time": "2025-01-25T06:45:12.645Z"
      },
      {
        "duration": 202,
        "start_time": "2025-01-25T06:45:12.817Z"
      },
      {
        "duration": 3,
        "start_time": "2025-01-25T06:45:13.020Z"
      },
      {
        "duration": 152,
        "start_time": "2025-01-25T06:45:13.024Z"
      },
      {
        "duration": 102,
        "start_time": "2025-01-25T06:45:13.178Z"
      },
      {
        "duration": 2,
        "start_time": "2025-01-25T06:45:13.282Z"
      },
      {
        "duration": 227,
        "start_time": "2025-01-25T06:45:13.286Z"
      },
      {
        "duration": 99,
        "start_time": "2025-01-25T06:45:13.515Z"
      },
      {
        "duration": 2,
        "start_time": "2025-01-25T06:45:13.616Z"
      },
      {
        "duration": 304,
        "start_time": "2025-01-25T06:45:13.620Z"
      },
      {
        "duration": 110,
        "start_time": "2025-01-25T06:45:13.926Z"
      },
      {
        "duration": 3,
        "start_time": "2025-01-25T06:45:14.040Z"
      },
      {
        "duration": 281,
        "start_time": "2025-01-25T06:45:14.044Z"
      },
      {
        "duration": 110,
        "start_time": "2025-01-25T06:45:14.327Z"
      },
      {
        "duration": 2,
        "start_time": "2025-01-25T06:45:14.439Z"
      },
      {
        "duration": 177,
        "start_time": "2025-01-25T06:45:14.443Z"
      },
      {
        "duration": 73,
        "start_time": "2025-01-25T06:45:14.622Z"
      },
      {
        "duration": 17,
        "start_time": "2025-01-25T06:45:14.708Z"
      },
      {
        "duration": 15,
        "start_time": "2025-01-25T06:45:14.727Z"
      },
      {
        "duration": 3,
        "start_time": "2025-01-25T06:45:14.744Z"
      },
      {
        "duration": 578,
        "start_time": "2025-01-25T06:45:14.749Z"
      },
      {
        "duration": 8,
        "start_time": "2025-01-25T06:45:15.329Z"
      },
      {
        "duration": 21,
        "start_time": "2025-01-25T06:45:15.338Z"
      },
      {
        "duration": 417,
        "start_time": "2025-01-25T06:45:15.361Z"
      },
      {
        "duration": 9,
        "start_time": "2025-01-25T06:45:15.779Z"
      },
      {
        "duration": 23,
        "start_time": "2025-01-25T06:45:15.789Z"
      },
      {
        "duration": 894,
        "start_time": "2025-01-25T06:45:15.814Z"
      },
      {
        "duration": 1230,
        "start_time": "2025-01-25T06:46:32.215Z"
      },
      {
        "duration": 353,
        "start_time": "2025-01-25T06:46:33.447Z"
      },
      {
        "duration": 22,
        "start_time": "2025-01-25T06:46:33.802Z"
      },
      {
        "duration": 24,
        "start_time": "2025-01-25T06:46:33.826Z"
      },
      {
        "duration": 35,
        "start_time": "2025-01-25T06:46:33.851Z"
      },
      {
        "duration": 8,
        "start_time": "2025-01-25T06:46:33.887Z"
      },
      {
        "duration": 18,
        "start_time": "2025-01-25T06:46:33.897Z"
      },
      {
        "duration": 18,
        "start_time": "2025-01-25T06:46:33.917Z"
      },
      {
        "duration": 19,
        "start_time": "2025-01-25T06:46:33.937Z"
      },
      {
        "duration": 20,
        "start_time": "2025-01-25T06:46:33.958Z"
      },
      {
        "duration": 12,
        "start_time": "2025-01-25T06:46:33.980Z"
      },
      {
        "duration": 5,
        "start_time": "2025-01-25T06:46:33.994Z"
      },
      {
        "duration": 12,
        "start_time": "2025-01-25T06:46:34.000Z"
      },
      {
        "duration": 167,
        "start_time": "2025-01-25T06:46:34.014Z"
      },
      {
        "duration": 162,
        "start_time": "2025-01-25T06:46:34.182Z"
      },
      {
        "duration": 200,
        "start_time": "2025-01-25T06:46:34.346Z"
      },
      {
        "duration": 3,
        "start_time": "2025-01-25T06:46:34.548Z"
      },
      {
        "duration": 154,
        "start_time": "2025-01-25T06:46:34.553Z"
      },
      {
        "duration": 100,
        "start_time": "2025-01-25T06:46:34.709Z"
      },
      {
        "duration": 2,
        "start_time": "2025-01-25T06:46:34.811Z"
      },
      {
        "duration": 240,
        "start_time": "2025-01-25T06:46:34.815Z"
      },
      {
        "duration": 101,
        "start_time": "2025-01-25T06:46:35.057Z"
      },
      {
        "duration": 2,
        "start_time": "2025-01-25T06:46:35.160Z"
      },
      {
        "duration": 382,
        "start_time": "2025-01-25T06:46:35.163Z"
      },
      {
        "duration": 108,
        "start_time": "2025-01-25T06:46:35.547Z"
      },
      {
        "duration": 2,
        "start_time": "2025-01-25T06:46:35.657Z"
      },
      {
        "duration": 292,
        "start_time": "2025-01-25T06:46:35.661Z"
      },
      {
        "duration": 112,
        "start_time": "2025-01-25T06:46:35.957Z"
      },
      {
        "duration": 3,
        "start_time": "2025-01-25T06:46:36.071Z"
      },
      {
        "duration": 180,
        "start_time": "2025-01-25T06:46:36.076Z"
      },
      {
        "duration": 95,
        "start_time": "2025-01-25T06:46:36.257Z"
      },
      {
        "duration": 53,
        "start_time": "2025-01-25T06:46:36.353Z"
      },
      {
        "duration": 16,
        "start_time": "2025-01-25T06:46:36.408Z"
      },
      {
        "duration": 11,
        "start_time": "2025-01-25T06:46:36.425Z"
      },
      {
        "duration": 433,
        "start_time": "2025-01-25T06:46:36.438Z"
      },
      {
        "duration": 8,
        "start_time": "2025-01-25T06:46:36.873Z"
      },
      {
        "duration": 18,
        "start_time": "2025-01-25T06:46:36.882Z"
      },
      {
        "duration": 521,
        "start_time": "2025-01-25T06:46:36.908Z"
      },
      {
        "duration": 9,
        "start_time": "2025-01-25T06:46:37.431Z"
      },
      {
        "duration": 9,
        "start_time": "2025-01-25T06:46:37.441Z"
      },
      {
        "duration": 900,
        "start_time": "2025-01-25T06:46:37.451Z"
      },
      {
        "duration": 4,
        "start_time": "2025-01-25T06:48:46.631Z"
      },
      {
        "duration": 31,
        "start_time": "2025-01-25T06:48:46.636Z"
      },
      {
        "duration": 8,
        "start_time": "2025-01-25T06:48:46.669Z"
      },
      {
        "duration": 179,
        "start_time": "2025-01-25T06:48:46.678Z"
      },
      {
        "duration": 22,
        "start_time": "2025-01-25T06:48:46.858Z"
      },
      {
        "duration": 30,
        "start_time": "2025-01-25T06:48:46.882Z"
      },
      {
        "duration": 7,
        "start_time": "2025-01-25T06:48:46.913Z"
      },
      {
        "duration": 871,
        "start_time": "2025-01-25T06:48:46.922Z"
      },
      {
        "duration": 15,
        "start_time": "2025-01-25T06:48:47.795Z"
      },
      {
        "duration": 397,
        "start_time": "2025-01-25T06:48:47.812Z"
      },
      {
        "duration": 13,
        "start_time": "2025-01-25T06:48:48.211Z"
      },
      {
        "duration": 1267,
        "start_time": "2025-01-25T06:50:09.502Z"
      },
      {
        "duration": 308,
        "start_time": "2025-01-25T06:50:10.771Z"
      },
      {
        "duration": 21,
        "start_time": "2025-01-25T06:50:11.081Z"
      },
      {
        "duration": 16,
        "start_time": "2025-01-25T06:50:11.104Z"
      },
      {
        "duration": 15,
        "start_time": "2025-01-25T06:50:11.121Z"
      },
      {
        "duration": 9,
        "start_time": "2025-01-25T06:50:11.137Z"
      },
      {
        "duration": 13,
        "start_time": "2025-01-25T06:50:11.148Z"
      },
      {
        "duration": 7,
        "start_time": "2025-01-25T06:50:11.163Z"
      },
      {
        "duration": 37,
        "start_time": "2025-01-25T06:50:11.172Z"
      },
      {
        "duration": 8,
        "start_time": "2025-01-25T06:50:11.213Z"
      },
      {
        "duration": 27,
        "start_time": "2025-01-25T06:50:11.223Z"
      },
      {
        "duration": 13,
        "start_time": "2025-01-25T06:50:11.252Z"
      },
      {
        "duration": 20,
        "start_time": "2025-01-25T06:50:11.267Z"
      },
      {
        "duration": 181,
        "start_time": "2025-01-25T06:50:11.289Z"
      },
      {
        "duration": 168,
        "start_time": "2025-01-25T06:50:11.472Z"
      },
      {
        "duration": 197,
        "start_time": "2025-01-25T06:50:11.642Z"
      },
      {
        "duration": 2,
        "start_time": "2025-01-25T06:50:11.841Z"
      },
      {
        "duration": 152,
        "start_time": "2025-01-25T06:50:11.844Z"
      },
      {
        "duration": 97,
        "start_time": "2025-01-25T06:50:11.998Z"
      },
      {
        "duration": 12,
        "start_time": "2025-01-25T06:50:12.096Z"
      },
      {
        "duration": 226,
        "start_time": "2025-01-25T06:50:12.110Z"
      },
      {
        "duration": 99,
        "start_time": "2025-01-25T06:50:12.337Z"
      },
      {
        "duration": 2,
        "start_time": "2025-01-25T06:50:12.438Z"
      },
      {
        "duration": 382,
        "start_time": "2025-01-25T06:50:12.442Z"
      },
      {
        "duration": 111,
        "start_time": "2025-01-25T06:50:12.825Z"
      },
      {
        "duration": 2,
        "start_time": "2025-01-25T06:50:12.938Z"
      },
      {
        "duration": 286,
        "start_time": "2025-01-25T06:50:12.942Z"
      },
      {
        "duration": 109,
        "start_time": "2025-01-25T06:50:13.231Z"
      },
      {
        "duration": 2,
        "start_time": "2025-01-25T06:50:13.342Z"
      },
      {
        "duration": 169,
        "start_time": "2025-01-25T06:50:13.346Z"
      },
      {
        "duration": 73,
        "start_time": "2025-01-25T06:50:13.517Z"
      },
      {
        "duration": 33,
        "start_time": "2025-01-25T06:50:13.592Z"
      },
      {
        "duration": 16,
        "start_time": "2025-01-25T06:50:13.627Z"
      },
      {
        "duration": 3,
        "start_time": "2025-01-25T06:50:13.645Z"
      },
      {
        "duration": 461,
        "start_time": "2025-01-25T06:50:13.649Z"
      },
      {
        "duration": 11,
        "start_time": "2025-01-25T06:50:14.112Z"
      },
      {
        "duration": 10,
        "start_time": "2025-01-25T06:50:14.125Z"
      },
      {
        "duration": 549,
        "start_time": "2025-01-25T06:50:14.136Z"
      },
      {
        "duration": 23,
        "start_time": "2025-01-25T06:50:14.687Z"
      },
      {
        "duration": 10,
        "start_time": "2025-01-25T06:50:14.712Z"
      },
      {
        "duration": 939,
        "start_time": "2025-01-25T06:50:14.724Z"
      },
      {
        "duration": 131199,
        "start_time": "2025-01-25T06:50:15.665Z"
      },
      {
        "duration": 4,
        "start_time": "2025-01-25T06:52:26.866Z"
      },
      {
        "duration": 23,
        "start_time": "2025-01-25T06:52:26.872Z"
      },
      {
        "duration": 8,
        "start_time": "2025-01-25T06:52:26.897Z"
      },
      {
        "duration": 161,
        "start_time": "2025-01-25T06:52:26.907Z"
      },
      {
        "duration": 25,
        "start_time": "2025-01-25T06:52:27.070Z"
      },
      {
        "duration": 31,
        "start_time": "2025-01-25T06:52:27.097Z"
      },
      {
        "duration": 19,
        "start_time": "2025-01-25T06:52:27.130Z"
      },
      {
        "duration": 906,
        "start_time": "2025-01-25T06:52:27.150Z"
      },
      {
        "duration": 18,
        "start_time": "2025-01-25T06:52:28.492Z"
      },
      {
        "duration": 7,
        "start_time": "2025-01-25T06:52:28.514Z"
      },
      {
        "duration": 337,
        "start_time": "2025-01-25T06:52:28.523Z"
      },
      {
        "duration": 93,
        "start_time": "2025-01-25T06:55:03.339Z"
      },
      {
        "duration": 8,
        "start_time": "2025-01-25T06:56:10.616Z"
      },
      {
        "duration": 330,
        "start_time": "2025-01-25T06:56:16.201Z"
      },
      {
        "duration": 85,
        "start_time": "2025-01-25T07:06:29.038Z"
      },
      {
        "duration": 82,
        "start_time": "2025-01-25T07:11:33.297Z"
      },
      {
        "duration": 8,
        "start_time": "2025-01-25T07:12:53.586Z"
      },
      {
        "duration": 7,
        "start_time": "2025-01-25T07:15:44.155Z"
      },
      {
        "duration": 322,
        "start_time": "2025-01-25T07:15:45.755Z"
      },
      {
        "duration": 319,
        "start_time": "2025-01-25T07:15:59.818Z"
      },
      {
        "duration": 9,
        "start_time": "2025-01-25T07:17:08.068Z"
      },
      {
        "duration": 8,
        "start_time": "2025-01-25T07:21:50.975Z"
      },
      {
        "duration": 1236,
        "start_time": "2025-01-25T07:22:18.809Z"
      },
      {
        "duration": 343,
        "start_time": "2025-01-25T07:22:20.047Z"
      },
      {
        "duration": 20,
        "start_time": "2025-01-25T07:22:20.391Z"
      },
      {
        "duration": 104,
        "start_time": "2025-01-25T07:22:20.414Z"
      },
      {
        "duration": 19,
        "start_time": "2025-01-25T07:22:20.521Z"
      },
      {
        "duration": 26,
        "start_time": "2025-01-25T07:22:20.542Z"
      },
      {
        "duration": 17,
        "start_time": "2025-01-25T07:22:20.570Z"
      },
      {
        "duration": 5,
        "start_time": "2025-01-25T07:22:20.589Z"
      },
      {
        "duration": 12,
        "start_time": "2025-01-25T07:22:20.596Z"
      },
      {
        "duration": 9,
        "start_time": "2025-01-25T07:22:20.611Z"
      },
      {
        "duration": 38,
        "start_time": "2025-01-25T07:22:20.621Z"
      },
      {
        "duration": 6,
        "start_time": "2025-01-25T07:22:20.660Z"
      },
      {
        "duration": 20,
        "start_time": "2025-01-25T07:22:20.667Z"
      },
      {
        "duration": 169,
        "start_time": "2025-01-25T07:22:20.689Z"
      },
      {
        "duration": 159,
        "start_time": "2025-01-25T07:22:20.860Z"
      },
      {
        "duration": 200,
        "start_time": "2025-01-25T07:22:21.021Z"
      },
      {
        "duration": 3,
        "start_time": "2025-01-25T07:22:21.223Z"
      },
      {
        "duration": 151,
        "start_time": "2025-01-25T07:22:21.228Z"
      },
      {
        "duration": 100,
        "start_time": "2025-01-25T07:22:21.381Z"
      },
      {
        "duration": 2,
        "start_time": "2025-01-25T07:22:21.483Z"
      },
      {
        "duration": 230,
        "start_time": "2025-01-25T07:22:21.487Z"
      },
      {
        "duration": 103,
        "start_time": "2025-01-25T07:22:21.719Z"
      },
      {
        "duration": 3,
        "start_time": "2025-01-25T07:22:21.823Z"
      },
      {
        "duration": 391,
        "start_time": "2025-01-25T07:22:21.827Z"
      },
      {
        "duration": 111,
        "start_time": "2025-01-25T07:22:22.220Z"
      },
      {
        "duration": 2,
        "start_time": "2025-01-25T07:22:22.333Z"
      },
      {
        "duration": 288,
        "start_time": "2025-01-25T07:22:22.337Z"
      },
      {
        "duration": 113,
        "start_time": "2025-01-25T07:22:22.629Z"
      },
      {
        "duration": 2,
        "start_time": "2025-01-25T07:22:22.744Z"
      },
      {
        "duration": 190,
        "start_time": "2025-01-25T07:22:22.748Z"
      },
      {
        "duration": 84,
        "start_time": "2025-01-25T07:22:22.939Z"
      },
      {
        "duration": 18,
        "start_time": "2025-01-25T07:22:23.024Z"
      },
      {
        "duration": 28,
        "start_time": "2025-01-25T07:22:23.044Z"
      },
      {
        "duration": 10,
        "start_time": "2025-01-25T07:22:23.074Z"
      },
      {
        "duration": 470,
        "start_time": "2025-01-25T07:22:23.086Z"
      },
      {
        "duration": 8,
        "start_time": "2025-01-25T07:22:23.558Z"
      },
      {
        "duration": 29,
        "start_time": "2025-01-25T07:22:23.568Z"
      },
      {
        "duration": 541,
        "start_time": "2025-01-25T07:22:23.599Z"
      },
      {
        "duration": 9,
        "start_time": "2025-01-25T07:22:24.142Z"
      },
      {
        "duration": 16,
        "start_time": "2025-01-25T07:22:24.152Z"
      },
      {
        "duration": 967,
        "start_time": "2025-01-25T07:22:24.169Z"
      },
      {
        "duration": 130940,
        "start_time": "2025-01-25T07:22:25.138Z"
      },
      {
        "duration": 4,
        "start_time": "2025-01-25T07:24:36.079Z"
      },
      {
        "duration": 38,
        "start_time": "2025-01-25T07:24:36.084Z"
      },
      {
        "duration": 22,
        "start_time": "2025-01-25T07:24:36.123Z"
      },
      {
        "duration": 186,
        "start_time": "2025-01-25T07:24:36.147Z"
      },
      {
        "duration": 23,
        "start_time": "2025-01-25T07:24:36.335Z"
      },
      {
        "duration": 19,
        "start_time": "2025-01-25T07:24:36.360Z"
      },
      {
        "duration": 54,
        "start_time": "2025-01-25T07:24:36.381Z"
      },
      {
        "duration": 924,
        "start_time": "2025-01-25T07:24:36.437Z"
      },
      {
        "duration": 7,
        "start_time": "2025-01-25T07:24:37.363Z"
      },
      {
        "duration": 429,
        "start_time": "2025-01-25T07:24:37.372Z"
      },
      {
        "duration": 12,
        "start_time": "2025-01-25T07:24:37.807Z"
      },
      {
        "duration": 903,
        "start_time": "2025-01-25T07:36:43.576Z"
      },
      {
        "duration": 1221,
        "start_time": "2025-01-25T08:01:04.835Z"
      },
      {
        "duration": 424,
        "start_time": "2025-01-25T08:01:06.058Z"
      },
      {
        "duration": 20,
        "start_time": "2025-01-25T08:01:06.484Z"
      },
      {
        "duration": 55,
        "start_time": "2025-01-25T08:01:06.505Z"
      },
      {
        "duration": 156,
        "start_time": "2025-01-25T08:01:06.561Z"
      },
      {
        "duration": 40,
        "start_time": "2025-01-25T08:01:06.719Z"
      },
      {
        "duration": 36,
        "start_time": "2025-01-25T08:01:06.761Z"
      },
      {
        "duration": 27,
        "start_time": "2025-01-25T08:01:06.799Z"
      },
      {
        "duration": 20,
        "start_time": "2025-01-25T08:01:06.827Z"
      },
      {
        "duration": 44,
        "start_time": "2025-01-25T08:01:06.850Z"
      },
      {
        "duration": 26,
        "start_time": "2025-01-25T08:01:06.896Z"
      },
      {
        "duration": 37,
        "start_time": "2025-01-25T08:01:06.924Z"
      },
      {
        "duration": 152,
        "start_time": "2025-01-25T08:01:06.963Z"
      },
      {
        "duration": 409,
        "start_time": "2025-01-25T08:01:07.116Z"
      },
      {
        "duration": 194,
        "start_time": "2025-01-25T08:01:07.526Z"
      },
      {
        "duration": 194,
        "start_time": "2025-01-25T08:01:07.722Z"
      },
      {
        "duration": 2,
        "start_time": "2025-01-25T08:01:07.918Z"
      },
      {
        "duration": 291,
        "start_time": "2025-01-25T08:01:07.922Z"
      },
      {
        "duration": 103,
        "start_time": "2025-01-25T08:01:08.215Z"
      },
      {
        "duration": 3,
        "start_time": "2025-01-25T08:01:08.319Z"
      },
      {
        "duration": 217,
        "start_time": "2025-01-25T08:01:08.323Z"
      },
      {
        "duration": 104,
        "start_time": "2025-01-25T08:01:08.542Z"
      },
      {
        "duration": 61,
        "start_time": "2025-01-25T08:01:08.648Z"
      },
      {
        "duration": 392,
        "start_time": "2025-01-25T08:01:08.711Z"
      },
      {
        "duration": 108,
        "start_time": "2025-01-25T08:01:09.105Z"
      },
      {
        "duration": 2,
        "start_time": "2025-01-25T08:01:09.215Z"
      },
      {
        "duration": 305,
        "start_time": "2025-01-25T08:01:09.219Z"
      },
      {
        "duration": 114,
        "start_time": "2025-01-25T08:01:09.528Z"
      },
      {
        "duration": 2,
        "start_time": "2025-01-25T08:01:09.644Z"
      },
      {
        "duration": 184,
        "start_time": "2025-01-25T08:01:09.648Z"
      },
      {
        "duration": 86,
        "start_time": "2025-01-25T08:01:09.834Z"
      },
      {
        "duration": 17,
        "start_time": "2025-01-25T08:01:09.921Z"
      },
      {
        "duration": 37,
        "start_time": "2025-01-25T08:01:09.940Z"
      },
      {
        "duration": 6,
        "start_time": "2025-01-25T08:01:09.978Z"
      },
      {
        "duration": 481,
        "start_time": "2025-01-25T08:01:09.986Z"
      },
      {
        "duration": 10,
        "start_time": "2025-01-25T08:01:10.468Z"
      },
      {
        "duration": 36,
        "start_time": "2025-01-25T08:01:10.480Z"
      },
      {
        "duration": 535,
        "start_time": "2025-01-25T08:01:10.518Z"
      },
      {
        "duration": 10,
        "start_time": "2025-01-25T08:01:11.055Z"
      },
      {
        "duration": 34,
        "start_time": "2025-01-25T08:01:11.067Z"
      },
      {
        "duration": 921,
        "start_time": "2025-01-25T08:01:11.103Z"
      },
      {
        "duration": 1266,
        "start_time": "2025-01-25T08:03:25.681Z"
      },
      {
        "duration": 286,
        "start_time": "2025-01-25T08:03:26.948Z"
      },
      {
        "duration": 22,
        "start_time": "2025-01-25T08:03:27.236Z"
      },
      {
        "duration": 17,
        "start_time": "2025-01-25T08:03:27.259Z"
      },
      {
        "duration": 15,
        "start_time": "2025-01-25T08:03:27.278Z"
      },
      {
        "duration": 3,
        "start_time": "2025-01-25T08:03:27.307Z"
      },
      {
        "duration": 11,
        "start_time": "2025-01-25T08:03:27.312Z"
      },
      {
        "duration": 7,
        "start_time": "2025-01-25T08:03:27.325Z"
      },
      {
        "duration": 8,
        "start_time": "2025-01-25T08:03:27.334Z"
      },
      {
        "duration": 10,
        "start_time": "2025-01-25T08:03:27.343Z"
      },
      {
        "duration": 10,
        "start_time": "2025-01-25T08:03:27.355Z"
      },
      {
        "duration": 42,
        "start_time": "2025-01-25T08:03:27.367Z"
      },
      {
        "duration": 7,
        "start_time": "2025-01-25T08:03:27.411Z"
      },
      {
        "duration": 184,
        "start_time": "2025-01-25T08:03:27.422Z"
      },
      {
        "duration": 160,
        "start_time": "2025-01-25T08:03:27.607Z"
      },
      {
        "duration": 192,
        "start_time": "2025-01-25T08:03:27.769Z"
      },
      {
        "duration": 2,
        "start_time": "2025-01-25T08:03:27.963Z"
      },
      {
        "duration": 154,
        "start_time": "2025-01-25T08:03:27.967Z"
      },
      {
        "duration": 104,
        "start_time": "2025-01-25T08:03:28.123Z"
      },
      {
        "duration": 2,
        "start_time": "2025-01-25T08:03:28.229Z"
      },
      {
        "duration": 217,
        "start_time": "2025-01-25T08:03:28.233Z"
      },
      {
        "duration": 105,
        "start_time": "2025-01-25T08:03:28.452Z"
      },
      {
        "duration": 3,
        "start_time": "2025-01-25T08:03:28.559Z"
      },
      {
        "duration": 517,
        "start_time": "2025-01-25T08:03:28.563Z"
      },
      {
        "duration": 110,
        "start_time": "2025-01-25T08:03:29.082Z"
      },
      {
        "duration": 3,
        "start_time": "2025-01-25T08:03:29.194Z"
      },
      {
        "duration": 281,
        "start_time": "2025-01-25T08:03:29.207Z"
      },
      {
        "duration": 104,
        "start_time": "2025-01-25T08:03:29.489Z"
      },
      {
        "duration": 13,
        "start_time": "2025-01-25T08:03:29.595Z"
      },
      {
        "duration": 168,
        "start_time": "2025-01-25T08:03:29.609Z"
      },
      {
        "duration": 84,
        "start_time": "2025-01-25T08:03:29.778Z"
      },
      {
        "duration": 17,
        "start_time": "2025-01-25T08:03:29.864Z"
      },
      {
        "duration": 33,
        "start_time": "2025-01-25T08:03:29.883Z"
      },
      {
        "duration": 3,
        "start_time": "2025-01-25T08:03:29.918Z"
      },
      {
        "duration": 447,
        "start_time": "2025-01-25T08:03:29.922Z"
      },
      {
        "duration": 9,
        "start_time": "2025-01-25T08:03:30.370Z"
      },
      {
        "duration": 121,
        "start_time": "2025-01-25T08:03:30.380Z"
      },
      {
        "duration": 539,
        "start_time": "2025-01-25T08:03:30.503Z"
      },
      {
        "duration": 9,
        "start_time": "2025-01-25T08:03:31.043Z"
      },
      {
        "duration": 88,
        "start_time": "2025-01-25T08:03:31.054Z"
      },
      {
        "duration": 953,
        "start_time": "2025-01-25T08:03:31.146Z"
      },
      {
        "duration": 110,
        "start_time": "2025-01-25T08:09:50.044Z"
      },
      {
        "duration": 974,
        "start_time": "2025-01-25T08:10:00.398Z"
      },
      {
        "duration": 945,
        "start_time": "2025-01-25T08:10:34.263Z"
      },
      {
        "duration": 557,
        "start_time": "2025-01-25T08:12:25.457Z"
      },
      {
        "duration": 62,
        "start_time": "2025-01-25T08:13:01.958Z"
      },
      {
        "duration": 440,
        "start_time": "2025-01-25T08:13:14.126Z"
      },
      {
        "duration": 567,
        "start_time": "2025-01-25T08:13:17.005Z"
      },
      {
        "duration": 909,
        "start_time": "2025-01-25T08:13:18.678Z"
      },
      {
        "duration": 962,
        "start_time": "2025-01-25T08:13:56.440Z"
      },
      {
        "duration": 400,
        "start_time": "2025-01-25T08:15:10.344Z"
      },
      {
        "duration": 593,
        "start_time": "2025-01-25T08:15:51.587Z"
      },
      {
        "duration": 570,
        "start_time": "2025-01-25T08:24:02.548Z"
      },
      {
        "duration": 453,
        "start_time": "2025-01-25T08:25:54.528Z"
      },
      {
        "duration": 10,
        "start_time": "2025-01-25T08:32:47.418Z"
      },
      {
        "duration": 10,
        "start_time": "2025-01-25T08:33:03.169Z"
      },
      {
        "duration": 25,
        "start_time": "2025-01-25T08:38:35.394Z"
      },
      {
        "duration": 30,
        "start_time": "2025-01-25T08:41:48.523Z"
      },
      {
        "duration": 942,
        "start_time": "2025-01-25T08:43:18.762Z"
      },
      {
        "duration": 28,
        "start_time": "2025-01-25T08:44:00.670Z"
      },
      {
        "duration": 43,
        "start_time": "2025-01-25T08:47:05.669Z"
      },
      {
        "duration": 35,
        "start_time": "2025-01-25T08:48:30.439Z"
      },
      {
        "duration": 3,
        "start_time": "2025-01-25T08:48:31.412Z"
      },
      {
        "duration": 29,
        "start_time": "2025-01-25T08:49:20.159Z"
      },
      {
        "duration": 11,
        "start_time": "2025-01-25T08:50:16.522Z"
      },
      {
        "duration": 4,
        "start_time": "2025-01-25T08:50:55.510Z"
      },
      {
        "duration": 1392,
        "start_time": "2025-01-25T08:50:56.126Z"
      },
      {
        "duration": 0,
        "start_time": "2025-01-25T08:50:57.520Z"
      },
      {
        "duration": 4,
        "start_time": "2025-01-25T08:51:52.895Z"
      },
      {
        "duration": 4,
        "start_time": "2025-01-25T08:52:01.288Z"
      },
      {
        "duration": 11,
        "start_time": "2025-01-25T08:52:06.663Z"
      },
      {
        "duration": 4,
        "start_time": "2025-01-25T08:52:10.750Z"
      },
      {
        "duration": 1366,
        "start_time": "2025-01-25T08:52:12.055Z"
      },
      {
        "duration": 14,
        "start_time": "2025-01-25T08:55:21.482Z"
      },
      {
        "duration": 11,
        "start_time": "2025-01-25T08:56:29.787Z"
      },
      {
        "duration": 10,
        "start_time": "2025-01-25T08:57:07.370Z"
      },
      {
        "duration": 11,
        "start_time": "2025-01-25T08:57:17.465Z"
      },
      {
        "duration": 13,
        "start_time": "2025-01-25T09:00:15.356Z"
      },
      {
        "duration": 10,
        "start_time": "2025-01-25T09:00:36.123Z"
      },
      {
        "duration": 11,
        "start_time": "2025-01-25T09:00:44.371Z"
      },
      {
        "duration": 5,
        "start_time": "2025-01-25T09:02:49.350Z"
      },
      {
        "duration": 1057,
        "start_time": "2025-01-25T09:04:27.511Z"
      },
      {
        "duration": 52,
        "start_time": "2025-01-25T09:08:00.689Z"
      },
      {
        "duration": 58,
        "start_time": "2025-01-25T09:08:25.914Z"
      },
      {
        "duration": 1377,
        "start_time": "2025-01-25T09:11:03.604Z"
      },
      {
        "duration": 33,
        "start_time": "2025-01-25T09:16:59.625Z"
      },
      {
        "duration": 33,
        "start_time": "2025-01-25T09:25:47.717Z"
      },
      {
        "duration": 34,
        "start_time": "2025-01-25T09:27:55.901Z"
      },
      {
        "duration": 3,
        "start_time": "2025-01-25T09:27:57.029Z"
      },
      {
        "duration": 12,
        "start_time": "2025-01-25T09:28:00.154Z"
      },
      {
        "duration": 1541,
        "start_time": "2025-01-25T09:35:48.710Z"
      },
      {
        "duration": 2,
        "start_time": "2025-01-25T09:36:20.864Z"
      },
      {
        "duration": 1620,
        "start_time": "2025-01-25T09:36:22.057Z"
      },
      {
        "duration": 1375,
        "start_time": "2025-01-25T09:40:37.459Z"
      },
      {
        "duration": 12,
        "start_time": "2025-01-25T09:42:27.380Z"
      },
      {
        "duration": 18,
        "start_time": "2025-01-25T09:44:04.466Z"
      },
      {
        "duration": 21,
        "start_time": "2025-01-25T09:44:47.118Z"
      },
      {
        "duration": 13,
        "start_time": "2025-01-25T09:48:02.473Z"
      },
      {
        "duration": 14,
        "start_time": "2025-01-25T09:49:04.945Z"
      },
      {
        "duration": 15,
        "start_time": "2025-01-25T09:52:30.758Z"
      },
      {
        "duration": 19,
        "start_time": "2025-01-25T09:54:07.400Z"
      },
      {
        "duration": 93,
        "start_time": "2025-01-25T09:58:12.309Z"
      },
      {
        "duration": 39,
        "start_time": "2025-01-25T09:58:23.506Z"
      },
      {
        "duration": 38,
        "start_time": "2025-01-25T09:58:32.069Z"
      },
      {
        "duration": 43,
        "start_time": "2025-01-25T10:02:41.495Z"
      },
      {
        "duration": 43,
        "start_time": "2025-01-25T10:02:51.773Z"
      },
      {
        "duration": 117,
        "start_time": "2025-01-25T10:04:37.653Z"
      },
      {
        "duration": 92,
        "start_time": "2025-01-25T10:05:43.110Z"
      },
      {
        "duration": 14,
        "start_time": "2025-01-25T10:06:34.257Z"
      },
      {
        "duration": 108,
        "start_time": "2025-01-25T10:07:04.704Z"
      },
      {
        "duration": 13,
        "start_time": "2025-01-25T10:07:14.632Z"
      },
      {
        "duration": 14,
        "start_time": "2025-01-25T10:07:39.674Z"
      },
      {
        "duration": 1246,
        "start_time": "2025-01-25T10:08:00.839Z"
      },
      {
        "duration": 495,
        "start_time": "2025-01-25T10:08:02.087Z"
      },
      {
        "duration": 21,
        "start_time": "2025-01-25T10:08:02.584Z"
      },
      {
        "duration": 20,
        "start_time": "2025-01-25T10:08:02.607Z"
      },
      {
        "duration": 35,
        "start_time": "2025-01-25T10:08:02.629Z"
      },
      {
        "duration": 49,
        "start_time": "2025-01-25T10:08:02.665Z"
      },
      {
        "duration": 29,
        "start_time": "2025-01-25T10:08:02.716Z"
      },
      {
        "duration": 45,
        "start_time": "2025-01-25T10:08:02.747Z"
      },
      {
        "duration": 8,
        "start_time": "2025-01-25T10:08:02.794Z"
      },
      {
        "duration": 19,
        "start_time": "2025-01-25T10:08:02.804Z"
      },
      {
        "duration": 63,
        "start_time": "2025-01-25T10:08:02.824Z"
      },
      {
        "duration": 12,
        "start_time": "2025-01-25T10:08:02.889Z"
      },
      {
        "duration": 29,
        "start_time": "2025-01-25T10:08:02.902Z"
      },
      {
        "duration": 192,
        "start_time": "2025-01-25T10:08:02.933Z"
      },
      {
        "duration": 169,
        "start_time": "2025-01-25T10:08:03.126Z"
      },
      {
        "duration": 200,
        "start_time": "2025-01-25T10:08:03.296Z"
      },
      {
        "duration": 10,
        "start_time": "2025-01-25T10:08:03.498Z"
      },
      {
        "duration": 152,
        "start_time": "2025-01-25T10:08:03.510Z"
      },
      {
        "duration": 101,
        "start_time": "2025-01-25T10:08:03.664Z"
      },
      {
        "duration": 40,
        "start_time": "2025-01-25T10:08:03.767Z"
      },
      {
        "duration": 222,
        "start_time": "2025-01-25T10:08:03.808Z"
      },
      {
        "duration": 97,
        "start_time": "2025-01-25T10:08:04.032Z"
      },
      {
        "duration": 2,
        "start_time": "2025-01-25T10:08:04.131Z"
      },
      {
        "duration": 389,
        "start_time": "2025-01-25T10:08:04.135Z"
      },
      {
        "duration": 108,
        "start_time": "2025-01-25T10:08:04.525Z"
      },
      {
        "duration": 3,
        "start_time": "2025-01-25T10:08:04.634Z"
      },
      {
        "duration": 317,
        "start_time": "2025-01-25T10:08:04.638Z"
      },
      {
        "duration": 132,
        "start_time": "2025-01-25T10:08:04.959Z"
      },
      {
        "duration": 4,
        "start_time": "2025-01-25T10:08:05.093Z"
      },
      {
        "duration": 171,
        "start_time": "2025-01-25T10:08:05.098Z"
      },
      {
        "duration": 81,
        "start_time": "2025-01-25T10:08:05.271Z"
      },
      {
        "duration": 43,
        "start_time": "2025-01-25T10:08:05.354Z"
      },
      {
        "duration": 21,
        "start_time": "2025-01-25T10:08:05.399Z"
      },
      {
        "duration": 19,
        "start_time": "2025-01-25T10:08:05.421Z"
      },
      {
        "duration": 436,
        "start_time": "2025-01-25T10:08:05.442Z"
      },
      {
        "duration": 8,
        "start_time": "2025-01-25T10:08:05.880Z"
      },
      {
        "duration": 29,
        "start_time": "2025-01-25T10:08:05.889Z"
      },
      {
        "duration": 522,
        "start_time": "2025-01-25T10:08:05.919Z"
      },
      {
        "duration": 8,
        "start_time": "2025-01-25T10:08:06.443Z"
      },
      {
        "duration": 37,
        "start_time": "2025-01-25T10:08:06.453Z"
      },
      {
        "duration": 43,
        "start_time": "2025-01-25T10:08:06.491Z"
      },
      {
        "duration": 3,
        "start_time": "2025-01-25T10:08:06.535Z"
      },
      {
        "duration": 43,
        "start_time": "2025-01-25T10:08:06.539Z"
      },
      {
        "duration": 5,
        "start_time": "2025-01-25T10:08:06.584Z"
      },
      {
        "duration": 23,
        "start_time": "2025-01-25T10:08:06.591Z"
      },
      {
        "duration": 120,
        "start_time": "2025-01-25T10:08:06.616Z"
      },
      {
        "duration": 0,
        "start_time": "2025-01-25T10:08:06.738Z"
      },
      {
        "duration": 0,
        "start_time": "2025-01-25T10:08:06.739Z"
      },
      {
        "duration": 0,
        "start_time": "2025-01-25T10:08:06.740Z"
      },
      {
        "duration": 0,
        "start_time": "2025-01-25T10:08:06.741Z"
      },
      {
        "duration": 0,
        "start_time": "2025-01-25T10:08:06.743Z"
      },
      {
        "duration": 0,
        "start_time": "2025-01-25T10:08:06.744Z"
      },
      {
        "duration": 0,
        "start_time": "2025-01-25T10:08:06.745Z"
      },
      {
        "duration": 15,
        "start_time": "2025-01-25T10:09:18.899Z"
      },
      {
        "duration": 13,
        "start_time": "2025-01-25T10:09:28.356Z"
      },
      {
        "duration": 89,
        "start_time": "2025-01-25T10:11:02.661Z"
      },
      {
        "duration": 86,
        "start_time": "2025-01-25T10:11:06.889Z"
      },
      {
        "duration": 42,
        "start_time": "2025-01-25T10:11:17.351Z"
      },
      {
        "duration": 15,
        "start_time": "2025-01-25T10:11:32.660Z"
      },
      {
        "duration": 20,
        "start_time": "2025-01-25T10:13:03.302Z"
      },
      {
        "duration": 13,
        "start_time": "2025-01-25T10:16:07.974Z"
      },
      {
        "duration": 84,
        "start_time": "2025-01-25T10:17:51.744Z"
      },
      {
        "duration": 101,
        "start_time": "2025-01-25T10:18:57.375Z"
      },
      {
        "duration": 81,
        "start_time": "2025-01-25T10:19:01.180Z"
      },
      {
        "duration": 84,
        "start_time": "2025-01-25T10:19:17.847Z"
      },
      {
        "duration": 87,
        "start_time": "2025-01-25T10:19:29.749Z"
      },
      {
        "duration": 90,
        "start_time": "2025-01-25T10:20:37.258Z"
      },
      {
        "duration": 14,
        "start_time": "2025-01-25T10:20:54.776Z"
      },
      {
        "duration": 16,
        "start_time": "2025-01-25T10:21:11.936Z"
      },
      {
        "duration": 16,
        "start_time": "2025-01-25T10:21:54.178Z"
      },
      {
        "duration": 17,
        "start_time": "2025-01-25T10:23:04.110Z"
      },
      {
        "duration": 18,
        "start_time": "2025-01-25T10:23:48.110Z"
      },
      {
        "duration": 18,
        "start_time": "2025-01-25T10:26:22.840Z"
      },
      {
        "duration": 9,
        "start_time": "2025-01-25T10:35:25.991Z"
      },
      {
        "duration": 74,
        "start_time": "2025-01-25T10:37:24.721Z"
      },
      {
        "duration": 80,
        "start_time": "2025-01-25T10:37:35.265Z"
      },
      {
        "duration": 20,
        "start_time": "2025-01-25T10:37:43.094Z"
      },
      {
        "duration": 19,
        "start_time": "2025-01-25T10:37:54.184Z"
      },
      {
        "duration": 97,
        "start_time": "2025-01-25T10:41:24.376Z"
      },
      {
        "duration": 1586,
        "start_time": "2025-01-25T10:41:52.961Z"
      },
      {
        "duration": 19,
        "start_time": "2025-01-25T10:42:19.971Z"
      },
      {
        "duration": 20,
        "start_time": "2025-01-25T10:43:31.340Z"
      },
      {
        "duration": 20,
        "start_time": "2025-01-25T10:43:35.360Z"
      },
      {
        "duration": 11,
        "start_time": "2025-01-25T10:47:38.569Z"
      },
      {
        "duration": 14,
        "start_time": "2025-01-25T10:48:35.113Z"
      },
      {
        "duration": 14,
        "start_time": "2025-01-25T10:51:06.809Z"
      },
      {
        "duration": 1358,
        "start_time": "2025-01-25T11:07:59.763Z"
      },
      {
        "duration": 13,
        "start_time": "2025-01-25T11:10:32.015Z"
      },
      {
        "duration": 11,
        "start_time": "2025-01-25T11:12:11.695Z"
      },
      {
        "duration": 1249,
        "start_time": "2025-01-25T11:14:49.207Z"
      },
      {
        "duration": 458,
        "start_time": "2025-01-25T11:14:50.458Z"
      },
      {
        "duration": 22,
        "start_time": "2025-01-25T11:14:50.918Z"
      },
      {
        "duration": 35,
        "start_time": "2025-01-25T11:14:50.943Z"
      },
      {
        "duration": 28,
        "start_time": "2025-01-25T11:14:50.981Z"
      },
      {
        "duration": 25,
        "start_time": "2025-01-25T11:14:51.011Z"
      },
      {
        "duration": 52,
        "start_time": "2025-01-25T11:14:51.038Z"
      },
      {
        "duration": 25,
        "start_time": "2025-01-25T11:14:51.092Z"
      },
      {
        "duration": 37,
        "start_time": "2025-01-25T11:14:51.119Z"
      },
      {
        "duration": 21,
        "start_time": "2025-01-25T11:14:51.160Z"
      },
      {
        "duration": 16,
        "start_time": "2025-01-25T11:14:51.183Z"
      },
      {
        "duration": 11,
        "start_time": "2025-01-25T11:14:51.201Z"
      },
      {
        "duration": 22,
        "start_time": "2025-01-25T11:14:51.214Z"
      },
      {
        "duration": 219,
        "start_time": "2025-01-25T11:14:51.239Z"
      },
      {
        "duration": 163,
        "start_time": "2025-01-25T11:14:51.459Z"
      },
      {
        "duration": 205,
        "start_time": "2025-01-25T11:14:51.624Z"
      },
      {
        "duration": 3,
        "start_time": "2025-01-25T11:14:51.830Z"
      },
      {
        "duration": 173,
        "start_time": "2025-01-25T11:14:51.835Z"
      },
      {
        "duration": 113,
        "start_time": "2025-01-25T11:14:52.010Z"
      },
      {
        "duration": 3,
        "start_time": "2025-01-25T11:14:52.125Z"
      },
      {
        "duration": 285,
        "start_time": "2025-01-25T11:14:52.130Z"
      },
      {
        "duration": 111,
        "start_time": "2025-01-25T11:14:52.417Z"
      },
      {
        "duration": 3,
        "start_time": "2025-01-25T11:14:52.529Z"
      },
      {
        "duration": 399,
        "start_time": "2025-01-25T11:14:52.533Z"
      },
      {
        "duration": 122,
        "start_time": "2025-01-25T11:14:52.934Z"
      },
      {
        "duration": 2,
        "start_time": "2025-01-25T11:14:53.058Z"
      },
      {
        "duration": 310,
        "start_time": "2025-01-25T11:14:53.062Z"
      },
      {
        "duration": 118,
        "start_time": "2025-01-25T11:14:53.376Z"
      },
      {
        "duration": 12,
        "start_time": "2025-01-25T11:14:53.496Z"
      },
      {
        "duration": 173,
        "start_time": "2025-01-25T11:14:53.510Z"
      },
      {
        "duration": 87,
        "start_time": "2025-01-25T11:14:53.684Z"
      },
      {
        "duration": 17,
        "start_time": "2025-01-25T11:14:53.773Z"
      },
      {
        "duration": 31,
        "start_time": "2025-01-25T11:14:53.792Z"
      },
      {
        "duration": 3,
        "start_time": "2025-01-25T11:14:53.824Z"
      },
      {
        "duration": 465,
        "start_time": "2025-01-25T11:14:53.829Z"
      },
      {
        "duration": 13,
        "start_time": "2025-01-25T11:14:54.296Z"
      },
      {
        "duration": 15,
        "start_time": "2025-01-25T11:14:54.311Z"
      },
      {
        "duration": 549,
        "start_time": "2025-01-25T11:14:54.328Z"
      },
      {
        "duration": 9,
        "start_time": "2025-01-25T11:14:54.879Z"
      },
      {
        "duration": 26,
        "start_time": "2025-01-25T11:14:54.890Z"
      },
      {
        "duration": 51,
        "start_time": "2025-01-25T11:14:54.917Z"
      },
      {
        "duration": 4,
        "start_time": "2025-01-25T11:14:54.971Z"
      },
      {
        "duration": 62,
        "start_time": "2025-01-25T11:14:54.977Z"
      },
      {
        "duration": 4,
        "start_time": "2025-01-25T11:14:55.042Z"
      },
      {
        "duration": 43,
        "start_time": "2025-01-25T11:14:55.048Z"
      },
      {
        "duration": 28,
        "start_time": "2025-01-25T11:14:55.093Z"
      },
      {
        "duration": 20,
        "start_time": "2025-01-25T11:14:55.122Z"
      },
      {
        "duration": 8,
        "start_time": "2025-01-25T11:14:55.143Z"
      },
      {
        "duration": 1099,
        "start_time": "2025-01-25T11:14:55.152Z"
      },
      {
        "duration": 7,
        "start_time": "2025-01-25T11:14:56.253Z"
      },
      {
        "duration": 355,
        "start_time": "2025-01-25T11:14:56.261Z"
      },
      {
        "duration": 10,
        "start_time": "2025-01-25T11:14:56.618Z"
      },
      {
        "duration": 1254,
        "start_time": "2025-01-26T06:39:08.584Z"
      },
      {
        "duration": 456,
        "start_time": "2025-01-26T06:39:09.840Z"
      },
      {
        "duration": 20,
        "start_time": "2025-01-26T06:39:10.298Z"
      },
      {
        "duration": 15,
        "start_time": "2025-01-26T06:39:10.320Z"
      },
      {
        "duration": 13,
        "start_time": "2025-01-26T06:39:10.337Z"
      },
      {
        "duration": 2,
        "start_time": "2025-01-26T06:39:10.352Z"
      },
      {
        "duration": 14,
        "start_time": "2025-01-26T06:39:10.355Z"
      },
      {
        "duration": 5,
        "start_time": "2025-01-26T06:39:10.371Z"
      },
      {
        "duration": 5,
        "start_time": "2025-01-26T06:39:10.378Z"
      },
      {
        "duration": 8,
        "start_time": "2025-01-26T06:39:10.385Z"
      },
      {
        "duration": 42,
        "start_time": "2025-01-26T06:39:10.394Z"
      },
      {
        "duration": 4,
        "start_time": "2025-01-26T06:39:10.438Z"
      },
      {
        "duration": 13,
        "start_time": "2025-01-26T06:39:10.444Z"
      },
      {
        "duration": 164,
        "start_time": "2025-01-26T06:39:10.458Z"
      },
      {
        "duration": 150,
        "start_time": "2025-01-26T06:39:10.624Z"
      },
      {
        "duration": 195,
        "start_time": "2025-01-26T06:39:10.776Z"
      },
      {
        "duration": 3,
        "start_time": "2025-01-26T06:39:10.973Z"
      },
      {
        "duration": 184,
        "start_time": "2025-01-26T06:39:10.977Z"
      },
      {
        "duration": 96,
        "start_time": "2025-01-26T06:39:11.163Z"
      },
      {
        "duration": 3,
        "start_time": "2025-01-26T06:39:11.260Z"
      },
      {
        "duration": 205,
        "start_time": "2025-01-26T06:39:11.264Z"
      },
      {
        "duration": 92,
        "start_time": "2025-01-26T06:39:11.470Z"
      },
      {
        "duration": 2,
        "start_time": "2025-01-26T06:39:11.564Z"
      },
      {
        "duration": 384,
        "start_time": "2025-01-26T06:39:11.567Z"
      },
      {
        "duration": 130,
        "start_time": "2025-01-26T06:39:11.952Z"
      },
      {
        "duration": 2,
        "start_time": "2025-01-26T06:39:12.084Z"
      },
      {
        "duration": 344,
        "start_time": "2025-01-26T06:39:12.088Z"
      },
      {
        "duration": 104,
        "start_time": "2025-01-26T06:39:12.436Z"
      },
      {
        "duration": 3,
        "start_time": "2025-01-26T06:39:12.542Z"
      },
      {
        "duration": 167,
        "start_time": "2025-01-26T06:39:12.546Z"
      },
      {
        "duration": 83,
        "start_time": "2025-01-26T06:39:12.715Z"
      },
      {
        "duration": 33,
        "start_time": "2025-01-26T06:39:12.800Z"
      },
      {
        "duration": 15,
        "start_time": "2025-01-26T06:39:12.834Z"
      },
      {
        "duration": 20,
        "start_time": "2025-01-26T06:39:12.850Z"
      },
      {
        "duration": 432,
        "start_time": "2025-01-26T06:39:12.872Z"
      },
      {
        "duration": 8,
        "start_time": "2025-01-26T06:39:13.306Z"
      },
      {
        "duration": 36,
        "start_time": "2025-01-26T06:39:13.315Z"
      },
      {
        "duration": 509,
        "start_time": "2025-01-26T06:39:13.352Z"
      },
      {
        "duration": 10,
        "start_time": "2025-01-26T06:39:13.862Z"
      },
      {
        "duration": 28,
        "start_time": "2025-01-26T06:39:13.873Z"
      },
      {
        "duration": 129,
        "start_time": "2025-01-26T06:39:13.903Z"
      },
      {
        "duration": 32,
        "start_time": "2025-01-26T06:39:14.033Z"
      },
      {
        "duration": 127,
        "start_time": "2025-01-26T06:39:14.067Z"
      },
      {
        "duration": 3,
        "start_time": "2025-01-26T06:39:14.196Z"
      },
      {
        "duration": 55,
        "start_time": "2025-01-26T06:39:14.200Z"
      },
      {
        "duration": 39,
        "start_time": "2025-01-26T06:39:14.257Z"
      },
      {
        "duration": 40,
        "start_time": "2025-01-26T06:39:14.298Z"
      },
      {
        "duration": 6,
        "start_time": "2025-01-26T06:39:14.340Z"
      },
      {
        "duration": 864,
        "start_time": "2025-01-26T06:39:14.348Z"
      },
      {
        "duration": 6,
        "start_time": "2025-01-26T06:39:15.214Z"
      },
      {
        "duration": 324,
        "start_time": "2025-01-26T06:39:15.221Z"
      },
      {
        "duration": 10,
        "start_time": "2025-01-26T06:39:15.546Z"
      },
      {
        "duration": 83,
        "start_time": "2025-01-26T06:41:56.651Z"
      },
      {
        "duration": 134,
        "start_time": "2025-01-26T06:42:11.852Z"
      },
      {
        "duration": 180,
        "start_time": "2025-01-26T06:43:44.281Z"
      },
      {
        "duration": 17,
        "start_time": "2025-01-26T06:45:16.803Z"
      }
    ],
    "kernelspec": {
      "display_name": "Python 3 (ipykernel)",
      "language": "python",
      "name": "python3"
    },
    "language_info": {
      "codemirror_mode": {
        "name": "ipython",
        "version": 3
      },
      "file_extension": ".py",
      "mimetype": "text/x-python",
      "name": "python",
      "nbconvert_exporter": "python",
      "pygments_lexer": "ipython3",
      "version": "3.9.5"
    },
    "toc": {
      "base_numbering": 1,
      "nav_menu": {},
      "number_sections": true,
      "sideBar": true,
      "skip_h1_title": true,
      "title_cell": "Table of Contents",
      "title_sidebar": "Contents",
      "toc_cell": false,
      "toc_position": {},
      "toc_section_display": true,
      "toc_window_display": false
    },
    "colab": {
      "provenance": []
    }
  },
  "nbformat": 4,
  "nbformat_minor": 5
}