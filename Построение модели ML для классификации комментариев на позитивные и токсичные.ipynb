{
  "cells": [
    {
      "cell_type": "markdown",
      "metadata": {
        "id": "BC19CsCAauG4"
      },
      "source": [
        "# Проект для «Викишоп»"
      ]
    },
    {
      "cell_type": "markdown",
      "metadata": {
        "id": "twlk-SiKauG4"
      },
      "source": [
        "Интернет-магазин «Викишоп» запускает новый сервис. Теперь пользователи могут редактировать и дополнять описания товаров, как в вики-сообществах. То есть клиенты предлагают свои правки и комментируют изменения других. Магазину нужен инструмент, который будет искать токсичные комментарии и отправлять их на модерацию.\n",
        "\n",
        "Обучите модель классифицировать комментарии на позитивные и негативные. В вашем распоряжении набор данных с разметкой о токсичности правок.\n",
        "\n",
        "Постройте модель со значением метрики качества *F1* не меньше 0.75.\n",
        "\n",
        "**Инструкция по выполнению проекта**\n",
        "\n",
        "1. Загрузите и подготовьте данные.\n",
        "2. Обучите разные модели.\n",
        "3. Сделайте выводы.\n",
        "\n",
        "Для выполнения проекта применять *BERT* необязательно.\n",
        "\n",
        "**Описание данных**\n",
        "\n",
        "Данные находятся в файле `toxic_comments.csv`. Столбец *text* в нём содержит текст комментария, а *toxic* — целевой признак."
      ]
    },
    {
      "cell_type": "markdown",
      "metadata": {
        "id": "yDd0zRSpauG5"
      },
      "source": [
        "## Подготовка"
      ]
    },
    {
      "cell_type": "code",
      "execution_count": null,
      "metadata": {
        "id": "lyCxfKt8auG5",
        "outputId": "18d2241e-03c4-426c-dc8c-1c90487ca226"
      },
      "outputs": [
        {
          "name": "stderr",
          "output_type": "stream",
          "text": [
            "[nltk_data] Downloading package averaged_perceptron_tagger to\n",
            "[nltk_data]     /home/jovyan/nltk_data...\n",
            "[nltk_data]   Unzipping taggers/averaged_perceptron_tagger.zip.\n",
            "[nltk_data] Downloading package wordnet to /home/jovyan/nltk_data...\n",
            "[nltk_data]   Package wordnet is already up-to-date!\n",
            "[nltk_data] Downloading package punkt to /home/jovyan/nltk_data...\n",
            "[nltk_data]   Package punkt is already up-to-date!\n"
          ]
        }
      ],
      "source": [
        "!pip install transformers torch sentencepiece -q\n",
        "\n",
        "import pandas as pd\n",
        "pd.options.display.float_format = '{:,.2f}'.format\n",
        "import numpy as np\n",
        "import matplotlib.pyplot as plt\n",
        "import seaborn as sns\n",
        "from sklearn.model_selection import train_test_split\n",
        "from sklearn.feature_extraction.text import TfidfVectorizer\n",
        "from sklearn.linear_model import LogisticRegression\n",
        "from sklearn.ensemble import RandomForestClassifier\n",
        "from sklearn.svm import LinearSVC\n",
        "from sklearn.metrics import f1_score, classification_report, confusion_matrix\n",
        "from nltk.stem import WordNetLemmatizer\n",
        "from nltk.tokenize import word_tokenize\n",
        "from sklearn.model_selection import GridSearchCV\n",
        "from transformers import BertTokenizer, BertForSequenceClassification\n",
        "from torch.utils.data import TensorDataset, DataLoader, RandomSampler, SequentialSampler\n",
        "from transformers import AdamW, get_linear_schedule_with_warmup\n",
        "import torch\n",
        "import re\n",
        "import nltk\n",
        "import time\n",
        "from nltk import pos_tag\n",
        "from nltk.corpus import wordnet\n",
        "nltk.download('averaged_perceptron_tagger')\n",
        "nltk.download('wordnet')\n",
        "nltk.download('punkt')\n",
        "\n",
        "# Создаем константы\n",
        "RANDOM_STATE = 42"
      ]
    },
    {
      "cell_type": "markdown",
      "metadata": {
        "id": "Jm-NniYwauG6"
      },
      "source": [
        "<div class=\"alert alert-block alert-success\">\n",
        "<b>Успех:</b> Отлично, что все импорты собраны в первой ячейке ноутбука! Если у того, кто будет запускать твой ноутбук будут отсутствовать некоторые библиотеки, то он это увидит сразу, а не в процессе!\n",
        "</div>"
      ]
    },
    {
      "cell_type": "code",
      "execution_count": null,
      "metadata": {
        "id": "lYEcKGmXauG7",
        "outputId": "29e208d7-4c5d-4dd2-f22c-56ff9fe1c271"
      },
      "outputs": [
        {
          "data": {
            "text/html": [
              "<div>\n",
              "<style scoped>\n",
              "    .dataframe tbody tr th:only-of-type {\n",
              "        vertical-align: middle;\n",
              "    }\n",
              "\n",
              "    .dataframe tbody tr th {\n",
              "        vertical-align: top;\n",
              "    }\n",
              "\n",
              "    .dataframe thead th {\n",
              "        text-align: right;\n",
              "    }\n",
              "</style>\n",
              "<table border=\"1\" class=\"dataframe\">\n",
              "  <thead>\n",
              "    <tr style=\"text-align: right;\">\n",
              "      <th></th>\n",
              "      <th>Unnamed: 0</th>\n",
              "      <th>text</th>\n",
              "      <th>toxic</th>\n",
              "    </tr>\n",
              "  </thead>\n",
              "  <tbody>\n",
              "    <tr>\n",
              "      <th>0</th>\n",
              "      <td>0</td>\n",
              "      <td>Explanation\\nWhy the edits made under my usern...</td>\n",
              "      <td>0</td>\n",
              "    </tr>\n",
              "    <tr>\n",
              "      <th>1</th>\n",
              "      <td>1</td>\n",
              "      <td>D'aww! He matches this background colour I'm s...</td>\n",
              "      <td>0</td>\n",
              "    </tr>\n",
              "    <tr>\n",
              "      <th>2</th>\n",
              "      <td>2</td>\n",
              "      <td>Hey man, I'm really not trying to edit war. It...</td>\n",
              "      <td>0</td>\n",
              "    </tr>\n",
              "    <tr>\n",
              "      <th>3</th>\n",
              "      <td>3</td>\n",
              "      <td>\"\\nMore\\nI can't make any real suggestions on ...</td>\n",
              "      <td>0</td>\n",
              "    </tr>\n",
              "    <tr>\n",
              "      <th>4</th>\n",
              "      <td>4</td>\n",
              "      <td>You, sir, are my hero. Any chance you remember...</td>\n",
              "      <td>0</td>\n",
              "    </tr>\n",
              "  </tbody>\n",
              "</table>\n",
              "</div>"
            ],
            "text/plain": [
              "   Unnamed: 0                                               text  toxic\n",
              "0           0  Explanation\\nWhy the edits made under my usern...      0\n",
              "1           1  D'aww! He matches this background colour I'm s...      0\n",
              "2           2  Hey man, I'm really not trying to edit war. It...      0\n",
              "3           3  \"\\nMore\\nI can't make any real suggestions on ...      0\n",
              "4           4  You, sir, are my hero. Any chance you remember...      0"
            ]
          },
          "execution_count": 2,
          "metadata": {},
          "output_type": "execute_result"
        }
      ],
      "source": [
        "# Загрузим данные\n",
        "data = pd.read_csv('/datasets/toxic_comments.csv')\n",
        "data.head()"
      ]
    },
    {
      "cell_type": "code",
      "execution_count": null,
      "metadata": {
        "id": "37dn5Bm6auG7",
        "outputId": "a42b7340-3096-4492-9441-5cfb936c07c3"
      },
      "outputs": [
        {
          "data": {
            "image/png": "[encoded data removed]",
            "text/plain": [
              "<Figure size 432x288 with 1 Axes>"
            ]
          },
          "metadata": {
            "needs_background": "light"
          },
          "output_type": "display_data"
        }
      ],
      "source": [
        "# График распределения классов\n",
        "data['toxic'].value_counts(normalize=True).plot(kind='bar')\n",
        "plt.title('Распределение классов (токсичные / нетоксичные комментарии)')\n",
        "plt.xlabel('Класс')\n",
        "plt.ylabel('Доля от общего количества')\n",
        "plt.xticks([0, 1], ['Нетоксичные (0)', 'Токсичные (1)'], rotation=0)\n",
        "\n",
        "plt.grid(axis='y', linestyle='--', alpha=0.5)\n",
        "plt.show()"
      ]
    },
    {
      "cell_type": "markdown",
      "metadata": {
        "id": "x1xRtOI7auG8"
      },
      "source": [
        "\n",
        "<div class=\"alert alert-block alert-success\">\n",
        "<b>Успех:</b> Данные загружены корреткно. Радует, что баланс классов был изучен.\n",
        "</div>"
      ]
    },
    {
      "cell_type": "code",
      "execution_count": null,
      "metadata": {
        "id": "bHunUH1hauG8"
      },
      "outputs": [],
      "source": [
        "#Проведем очистку и лемматизацию\n",
        "lemmatizer = WordNetLemmatizer()\n",
        "\n",
        "def get_wordnet_pos(treebank_tag):\n",
        "    if treebank_tag.startswith('J'):\n",
        "        return wordnet.ADJ\n",
        "    elif treebank_tag.startswith('V'):\n",
        "        return wordnet.VERB\n",
        "    elif treebank_tag.startswith('N'):\n",
        "        return wordnet.NOUN\n",
        "    elif treebank_tag.startswith('R'):\n",
        "        return wordnet.ADV\n",
        "    else:\n",
        "        return wordnet.NOUN\n",
        "\n",
        "def preprocess_text(text):\n",
        "    # Приведение к нижнему регистру\n",
        "    text = text.lower()\n",
        "    # Удаление спецсимволов и цифр\n",
        "    text = re.sub(r'[^a-zA-Z\\s]', '', text)\n",
        "    # Токенизация\n",
        "    tokens = word_tokenize(text)\n",
        "    # POS-тегирование\n",
        "    pos_tags = pos_tag(tokens)\n",
        "    # Лемматизация с учетом POS-тегов\n",
        "    lemmas = []\n",
        "    for token, tag in pos_tags:\n",
        "        wn_tag = get_wordnet_pos(tag)\n",
        "        lemma = lemmatizer.lemmatize(token, wn_tag)\n",
        "        lemmas.append(lemma)\n",
        "    return ' '.join(lemmas)\n",
        "\n",
        "data['cleaned_text'] = data['text'].apply(preprocess_text)"
      ]
    },
    {
      "cell_type": "code",
      "execution_count": null,
      "metadata": {
        "id": "6hj4wSjEauG8"
      },
      "outputs": [],
      "source": [
        "#Разделим данные на обучающую и тестовую выборки\n",
        "X = data['cleaned_text']\n",
        "y = data['toxic']\n",
        "X_train, X_test, y_train, y_test = train_test_split(X, y, test_size=0.2, random_state=RANDOM_STATE)"
      ]
    },
    {
      "cell_type": "code",
      "execution_count": null,
      "metadata": {
        "id": "QN7F8hv_auG9"
      },
      "outputs": [],
      "source": [
        "#Проведем векторизациюя текста (TF-IDF)\n",
        "tfidf = TfidfVectorizer(max_features=5000, ngram_range=(1, 2))\n",
        "X_train_tfidf = tfidf.fit_transform(X_train)\n",
        "X_test_tfidf = tfidf.transform(X_test)"
      ]
    },
    {
      "cell_type": "markdown",
      "metadata": {
        "id": "TlK1_wNtauG9"
      },
      "source": [
        "\n",
        "<div class=\"alert alert-block alert-success\">\n",
        "<b>Успех:</b> Разбиение было сделано верно. Отлично, что векторизатор был обучен только на тренировочной части данных.\n",
        "</div>"
      ]
    },
    {
      "cell_type": "markdown",
      "metadata": {
        "id": "-P70hLZLauG9"
      },
      "source": [
        "## Обучение"
      ]
    },
    {
      "cell_type": "code",
      "execution_count": null,
      "metadata": {
        "id": "3kuXveWxauG9",
        "outputId": "e81c4934-b509-4d86-aa12-d642e436ec82"
      },
      "outputs": [
        {
          "name": "stdout",
          "output_type": "stream",
          "text": [
            "Fitting 3 folds for each of 2 candidates, totalling 6 fits\n"
          ]
        },
        {
          "data": {
            "text/plain": [
              "'Лучшие параметры:'"
            ]
          },
          "metadata": {},
          "output_type": "display_data"
        },
        {
          "data": {
            "text/plain": [
              "{'C': 10, 'penalty': 'l2', 'solver': 'liblinear'}"
            ]
          },
          "metadata": {},
          "output_type": "display_data"
        },
        {
          "data": {
            "text/plain": [
              "'Лучший F1 на кросс-валидации:'"
            ]
          },
          "metadata": {},
          "output_type": "display_data"
        },
        {
          "data": {
            "text/plain": [
              "'0.747'"
            ]
          },
          "metadata": {},
          "output_type": "display_data"
        },
        {
          "data": {
            "text/plain": [
              "LogisticRegression(C=10, max_iter=1000, random_state=42, solver='liblinear')"
            ]
          },
          "execution_count": 7,
          "metadata": {},
          "output_type": "execute_result"
        }
      ],
      "source": [
        "# Обучим LogisticRegression\n",
        "# Определяем сетку параметров\n",
        "param_grid = {\n",
        "    'C': [10, 100],\n",
        "    'penalty': ['l2'],\n",
        "    'solver': ['liblinear']\n",
        "}\n",
        "\n",
        "# Создаем модель для GridSearch\n",
        "lr = LogisticRegression(max_iter=1000, random_state=RANDOM_STATE)\n",
        "\n",
        "# Настраиваем GridSearchCV\n",
        "grid_search = GridSearchCV(\n",
        "    estimator=lr,\n",
        "    param_grid=param_grid,\n",
        "    scoring='f1',\n",
        "    cv=3,\n",
        "    n_jobs=-1,\n",
        "    verbose=1\n",
        ")\n",
        "\n",
        "# Обучаем на тренировочных данных\n",
        "grid_search.fit(X_train_tfidf, y_train)\n",
        "\n",
        "# Определяем лучшие параметры при кросс-валидации\n",
        "display (\"Лучшие параметры:\", grid_search.best_params_)\n",
        "display (\"Лучший F1 на кросс-валидации:\", f\"{grid_search.best_score_:.3f}\")\n",
        "\n",
        "# Обучаем финальную модель на всех тренировочных данных с лучшими параметрами\n",
        "best_lr = grid_search.best_estimator_"
      ]
    },
    {
      "cell_type": "code",
      "execution_count": null,
      "metadata": {
        "id": "lQcLXAFIauG9",
        "outputId": "92b79d1c-939a-4c59-93a1-315444bf7269"
      },
      "outputs": [
        {
          "name": "stdout",
          "output_type": "stream",
          "text": [
            "Fitting 3 folds for each of 24 candidates, totalling 72 fits\n"
          ]
        },
        {
          "name": "stderr",
          "output_type": "stream",
          "text": [
            "/opt/conda/lib/python3.9/site-packages/sklearn/model_selection/_validation.py:610: FitFailedWarning: Estimator fit failed. The score on this train-test partition for these parameters will be set to nan. Details: \n",
            "Traceback (most recent call last):\n",
            "  File \"/opt/conda/lib/python3.9/site-packages/sklearn/model_selection/_validation.py\", line 593, in _fit_and_score\n",
            "    estimator.fit(X_train, y_train, **fit_params)\n",
            "  File \"/opt/conda/lib/python3.9/site-packages/sklearn/svm/_classes.py\", line 234, in fit\n",
            "    self.coef_, self.intercept_, self.n_iter_ = _fit_liblinear(\n",
            "  File \"/opt/conda/lib/python3.9/site-packages/sklearn/svm/_base.py\", line 974, in _fit_liblinear\n",
            "    solver_type = _get_liblinear_solver_type(multi_class, penalty, loss, dual)\n",
            "  File \"/opt/conda/lib/python3.9/site-packages/sklearn/svm/_base.py\", line 830, in _get_liblinear_solver_type\n",
            "    raise ValueError('Unsupported set of arguments: %s, '\n",
            "ValueError: Unsupported set of arguments: The combination of penalty='l1' and loss='hinge' is not supported, Parameters: penalty='l1', loss='hinge', dual=True\n",
            "\n",
            "  warnings.warn(\"Estimator fit failed. The score on this train-test\"\n",
            "/opt/conda/lib/python3.9/site-packages/sklearn/model_selection/_validation.py:610: FitFailedWarning: Estimator fit failed. The score on this train-test partition for these parameters will be set to nan. Details: \n",
            "Traceback (most recent call last):\n",
            "  File \"/opt/conda/lib/python3.9/site-packages/sklearn/model_selection/_validation.py\", line 593, in _fit_and_score\n",
            "    estimator.fit(X_train, y_train, **fit_params)\n",
            "  File \"/opt/conda/lib/python3.9/site-packages/sklearn/svm/_classes.py\", line 234, in fit\n",
            "    self.coef_, self.intercept_, self.n_iter_ = _fit_liblinear(\n",
            "  File \"/opt/conda/lib/python3.9/site-packages/sklearn/svm/_base.py\", line 974, in _fit_liblinear\n",
            "    solver_type = _get_liblinear_solver_type(multi_class, penalty, loss, dual)\n",
            "  File \"/opt/conda/lib/python3.9/site-packages/sklearn/svm/_base.py\", line 830, in _get_liblinear_solver_type\n",
            "    raise ValueError('Unsupported set of arguments: %s, '\n",
            "ValueError: Unsupported set of arguments: The combination of penalty='l1' and loss='hinge' is not supported, Parameters: penalty='l1', loss='hinge', dual=True\n",
            "\n",
            "  warnings.warn(\"Estimator fit failed. The score on this train-test\"\n",
            "/opt/conda/lib/python3.9/site-packages/sklearn/model_selection/_validation.py:610: FitFailedWarning: Estimator fit failed. The score on this train-test partition for these parameters will be set to nan. Details: \n",
            "Traceback (most recent call last):\n",
            "  File \"/opt/conda/lib/python3.9/site-packages/sklearn/model_selection/_validation.py\", line 593, in _fit_and_score\n",
            "    estimator.fit(X_train, y_train, **fit_params)\n",
            "  File \"/opt/conda/lib/python3.9/site-packages/sklearn/svm/_classes.py\", line 234, in fit\n",
            "    self.coef_, self.intercept_, self.n_iter_ = _fit_liblinear(\n",
            "  File \"/opt/conda/lib/python3.9/site-packages/sklearn/svm/_base.py\", line 974, in _fit_liblinear\n",
            "    solver_type = _get_liblinear_solver_type(multi_class, penalty, loss, dual)\n",
            "  File \"/opt/conda/lib/python3.9/site-packages/sklearn/svm/_base.py\", line 830, in _get_liblinear_solver_type\n",
            "    raise ValueError('Unsupported set of arguments: %s, '\n",
            "ValueError: Unsupported set of arguments: The combination of penalty='l1' and loss='hinge' is not supported, Parameters: penalty='l1', loss='hinge', dual=True\n",
            "\n",
            "  warnings.warn(\"Estimator fit failed. The score on this train-test\"\n",
            "/opt/conda/lib/python3.9/site-packages/sklearn/model_selection/_validation.py:610: FitFailedWarning: Estimator fit failed. The score on this train-test partition for these parameters will be set to nan. Details: \n",
            "Traceback (most recent call last):\n",
            "  File \"/opt/conda/lib/python3.9/site-packages/sklearn/model_selection/_validation.py\", line 593, in _fit_and_score\n",
            "    estimator.fit(X_train, y_train, **fit_params)\n",
            "  File \"/opt/conda/lib/python3.9/site-packages/sklearn/svm/_classes.py\", line 234, in fit\n",
            "    self.coef_, self.intercept_, self.n_iter_ = _fit_liblinear(\n",
            "  File \"/opt/conda/lib/python3.9/site-packages/sklearn/svm/_base.py\", line 974, in _fit_liblinear\n",
            "    solver_type = _get_liblinear_solver_type(multi_class, penalty, loss, dual)\n",
            "  File \"/opt/conda/lib/python3.9/site-packages/sklearn/svm/_base.py\", line 830, in _get_liblinear_solver_type\n",
            "    raise ValueError('Unsupported set of arguments: %s, '\n",
            "ValueError: Unsupported set of arguments: The combination of penalty='l1' and loss='squared_hinge' are not supported when dual=True, Parameters: penalty='l1', loss='squared_hinge', dual=True\n",
            "\n",
            "  warnings.warn(\"Estimator fit failed. The score on this train-test\"\n",
            "/opt/conda/lib/python3.9/site-packages/sklearn/model_selection/_validation.py:610: FitFailedWarning: Estimator fit failed. The score on this train-test partition for these parameters will be set to nan. Details: \n",
            "Traceback (most recent call last):\n",
            "  File \"/opt/conda/lib/python3.9/site-packages/sklearn/model_selection/_validation.py\", line 593, in _fit_and_score\n",
            "    estimator.fit(X_train, y_train, **fit_params)\n",
            "  File \"/opt/conda/lib/python3.9/site-packages/sklearn/svm/_classes.py\", line 234, in fit\n",
            "    self.coef_, self.intercept_, self.n_iter_ = _fit_liblinear(\n",
            "  File \"/opt/conda/lib/python3.9/site-packages/sklearn/svm/_base.py\", line 974, in _fit_liblinear\n",
            "    solver_type = _get_liblinear_solver_type(multi_class, penalty, loss, dual)\n",
            "  File \"/opt/conda/lib/python3.9/site-packages/sklearn/svm/_base.py\", line 830, in _get_liblinear_solver_type\n",
            "    raise ValueError('Unsupported set of arguments: %s, '\n",
            "ValueError: Unsupported set of arguments: The combination of penalty='l1' and loss='squared_hinge' are not supported when dual=True, Parameters: penalty='l1', loss='squared_hinge', dual=True\n",
            "\n",
            "  warnings.warn(\"Estimator fit failed. The score on this train-test\"\n",
            "/opt/conda/lib/python3.9/site-packages/sklearn/model_selection/_validation.py:610: FitFailedWarning: Estimator fit failed. The score on this train-test partition for these parameters will be set to nan. Details: \n",
            "Traceback (most recent call last):\n",
            "  File \"/opt/conda/lib/python3.9/site-packages/sklearn/model_selection/_validation.py\", line 593, in _fit_and_score\n",
            "    estimator.fit(X_train, y_train, **fit_params)\n",
            "  File \"/opt/conda/lib/python3.9/site-packages/sklearn/svm/_classes.py\", line 234, in fit\n",
            "    self.coef_, self.intercept_, self.n_iter_ = _fit_liblinear(\n",
            "  File \"/opt/conda/lib/python3.9/site-packages/sklearn/svm/_base.py\", line 974, in _fit_liblinear\n",
            "    solver_type = _get_liblinear_solver_type(multi_class, penalty, loss, dual)\n",
            "  File \"/opt/conda/lib/python3.9/site-packages/sklearn/svm/_base.py\", line 830, in _get_liblinear_solver_type\n",
            "    raise ValueError('Unsupported set of arguments: %s, '\n",
            "ValueError: Unsupported set of arguments: The combination of penalty='l1' and loss='squared_hinge' are not supported when dual=True, Parameters: penalty='l1', loss='squared_hinge', dual=True\n",
            "\n",
            "  warnings.warn(\"Estimator fit failed. The score on this train-test\"\n",
            "/opt/conda/lib/python3.9/site-packages/sklearn/model_selection/_validation.py:610: FitFailedWarning: Estimator fit failed. The score on this train-test partition for these parameters will be set to nan. Details: \n",
            "Traceback (most recent call last):\n",
            "  File \"/opt/conda/lib/python3.9/site-packages/sklearn/model_selection/_validation.py\", line 593, in _fit_and_score\n",
            "    estimator.fit(X_train, y_train, **fit_params)\n",
            "  File \"/opt/conda/lib/python3.9/site-packages/sklearn/svm/_classes.py\", line 234, in fit\n",
            "    self.coef_, self.intercept_, self.n_iter_ = _fit_liblinear(\n",
            "  File \"/opt/conda/lib/python3.9/site-packages/sklearn/svm/_base.py\", line 974, in _fit_liblinear\n",
            "    solver_type = _get_liblinear_solver_type(multi_class, penalty, loss, dual)\n",
            "  File \"/opt/conda/lib/python3.9/site-packages/sklearn/svm/_base.py\", line 830, in _get_liblinear_solver_type\n",
            "    raise ValueError('Unsupported set of arguments: %s, '\n",
            "ValueError: Unsupported set of arguments: The combination of penalty='l1' and loss='hinge' is not supported, Parameters: penalty='l1', loss='hinge', dual=False\n",
            "\n",
            "  warnings.warn(\"Estimator fit failed. The score on this train-test\"\n",
            "/opt/conda/lib/python3.9/site-packages/sklearn/model_selection/_validation.py:610: FitFailedWarning: Estimator fit failed. The score on this train-test partition for these parameters will be set to nan. Details: \n",
            "Traceback (most recent call last):\n",
            "  File \"/opt/conda/lib/python3.9/site-packages/sklearn/model_selection/_validation.py\", line 593, in _fit_and_score\n",
            "    estimator.fit(X_train, y_train, **fit_params)\n",
            "  File \"/opt/conda/lib/python3.9/site-packages/sklearn/svm/_classes.py\", line 234, in fit\n",
            "    self.coef_, self.intercept_, self.n_iter_ = _fit_liblinear(\n",
            "  File \"/opt/conda/lib/python3.9/site-packages/sklearn/svm/_base.py\", line 974, in _fit_liblinear\n",
            "    solver_type = _get_liblinear_solver_type(multi_class, penalty, loss, dual)\n",
            "  File \"/opt/conda/lib/python3.9/site-packages/sklearn/svm/_base.py\", line 830, in _get_liblinear_solver_type\n",
            "    raise ValueError('Unsupported set of arguments: %s, '\n",
            "ValueError: Unsupported set of arguments: The combination of penalty='l1' and loss='hinge' is not supported, Parameters: penalty='l1', loss='hinge', dual=False\n",
            "\n",
            "  warnings.warn(\"Estimator fit failed. The score on this train-test\"\n",
            "/opt/conda/lib/python3.9/site-packages/sklearn/model_selection/_validation.py:610: FitFailedWarning: Estimator fit failed. The score on this train-test partition for these parameters will be set to nan. Details: \n",
            "Traceback (most recent call last):\n",
            "  File \"/opt/conda/lib/python3.9/site-packages/sklearn/model_selection/_validation.py\", line 593, in _fit_and_score\n",
            "    estimator.fit(X_train, y_train, **fit_params)\n",
            "  File \"/opt/conda/lib/python3.9/site-packages/sklearn/svm/_classes.py\", line 234, in fit\n",
            "    self.coef_, self.intercept_, self.n_iter_ = _fit_liblinear(\n",
            "  File \"/opt/conda/lib/python3.9/site-packages/sklearn/svm/_base.py\", line 974, in _fit_liblinear\n",
            "    solver_type = _get_liblinear_solver_type(multi_class, penalty, loss, dual)\n",
            "  File \"/opt/conda/lib/python3.9/site-packages/sklearn/svm/_base.py\", line 830, in _get_liblinear_solver_type\n",
            "    raise ValueError('Unsupported set of arguments: %s, '\n",
            "ValueError: Unsupported set of arguments: The combination of penalty='l1' and loss='hinge' is not supported, Parameters: penalty='l1', loss='hinge', dual=False\n",
            "\n",
            "  warnings.warn(\"Estimator fit failed. The score on this train-test\"\n",
            "/opt/conda/lib/python3.9/site-packages/sklearn/model_selection/_validation.py:610: FitFailedWarning: Estimator fit failed. The score on this train-test partition for these parameters will be set to nan. Details: \n",
            "Traceback (most recent call last):\n",
            "  File \"/opt/conda/lib/python3.9/site-packages/sklearn/model_selection/_validation.py\", line 593, in _fit_and_score\n",
            "    estimator.fit(X_train, y_train, **fit_params)\n",
            "  File \"/opt/conda/lib/python3.9/site-packages/sklearn/svm/_classes.py\", line 234, in fit\n",
            "    self.coef_, self.intercept_, self.n_iter_ = _fit_liblinear(\n",
            "  File \"/opt/conda/lib/python3.9/site-packages/sklearn/svm/_base.py\", line 974, in _fit_liblinear\n",
            "    solver_type = _get_liblinear_solver_type(multi_class, penalty, loss, dual)\n",
            "  File \"/opt/conda/lib/python3.9/site-packages/sklearn/svm/_base.py\", line 830, in _get_liblinear_solver_type\n",
            "    raise ValueError('Unsupported set of arguments: %s, '\n",
            "ValueError: Unsupported set of arguments: The combination of penalty='l2' and loss='hinge' are not supported when dual=False, Parameters: penalty='l2', loss='hinge', dual=False\n",
            "\n",
            "  warnings.warn(\"Estimator fit failed. The score on this train-test\"\n",
            "/opt/conda/lib/python3.9/site-packages/sklearn/model_selection/_validation.py:610: FitFailedWarning: Estimator fit failed. The score on this train-test partition for these parameters will be set to nan. Details: \n",
            "Traceback (most recent call last):\n",
            "  File \"/opt/conda/lib/python3.9/site-packages/sklearn/model_selection/_validation.py\", line 593, in _fit_and_score\n",
            "    estimator.fit(X_train, y_train, **fit_params)\n",
            "  File \"/opt/conda/lib/python3.9/site-packages/sklearn/svm/_classes.py\", line 234, in fit\n",
            "    self.coef_, self.intercept_, self.n_iter_ = _fit_liblinear(\n",
            "  File \"/opt/conda/lib/python3.9/site-packages/sklearn/svm/_base.py\", line 974, in _fit_liblinear\n",
            "    solver_type = _get_liblinear_solver_type(multi_class, penalty, loss, dual)\n",
            "  File \"/opt/conda/lib/python3.9/site-packages/sklearn/svm/_base.py\", line 830, in _get_liblinear_solver_type\n",
            "    raise ValueError('Unsupported set of arguments: %s, '\n",
            "ValueError: Unsupported set of arguments: The combination of penalty='l2' and loss='hinge' are not supported when dual=False, Parameters: penalty='l2', loss='hinge', dual=False\n",
            "\n",
            "  warnings.warn(\"Estimator fit failed. The score on this train-test\"\n",
            "/opt/conda/lib/python3.9/site-packages/sklearn/model_selection/_validation.py:610: FitFailedWarning: Estimator fit failed. The score on this train-test partition for these parameters will be set to nan. Details: \n",
            "Traceback (most recent call last):\n",
            "  File \"/opt/conda/lib/python3.9/site-packages/sklearn/model_selection/_validation.py\", line 593, in _fit_and_score\n",
            "    estimator.fit(X_train, y_train, **fit_params)\n",
            "  File \"/opt/conda/lib/python3.9/site-packages/sklearn/svm/_classes.py\", line 234, in fit\n",
            "    self.coef_, self.intercept_, self.n_iter_ = _fit_liblinear(\n",
            "  File \"/opt/conda/lib/python3.9/site-packages/sklearn/svm/_base.py\", line 974, in _fit_liblinear\n",
            "    solver_type = _get_liblinear_solver_type(multi_class, penalty, loss, dual)\n",
            "  File \"/opt/conda/lib/python3.9/site-packages/sklearn/svm/_base.py\", line 830, in _get_liblinear_solver_type\n",
            "    raise ValueError('Unsupported set of arguments: %s, '\n",
            "ValueError: Unsupported set of arguments: The combination of penalty='l2' and loss='hinge' are not supported when dual=False, Parameters: penalty='l2', loss='hinge', dual=False\n",
            "\n",
            "  warnings.warn(\"Estimator fit failed. The score on this train-test\"\n",
            "/opt/conda/lib/python3.9/site-packages/sklearn/model_selection/_validation.py:610: FitFailedWarning: Estimator fit failed. The score on this train-test partition for these parameters will be set to nan. Details: \n",
            "Traceback (most recent call last):\n",
            "  File \"/opt/conda/lib/python3.9/site-packages/sklearn/model_selection/_validation.py\", line 593, in _fit_and_score\n",
            "    estimator.fit(X_train, y_train, **fit_params)\n",
            "  File \"/opt/conda/lib/python3.9/site-packages/sklearn/svm/_classes.py\", line 234, in fit\n",
            "    self.coef_, self.intercept_, self.n_iter_ = _fit_liblinear(\n",
            "  File \"/opt/conda/lib/python3.9/site-packages/sklearn/svm/_base.py\", line 974, in _fit_liblinear\n",
            "    solver_type = _get_liblinear_solver_type(multi_class, penalty, loss, dual)\n",
            "  File \"/opt/conda/lib/python3.9/site-packages/sklearn/svm/_base.py\", line 830, in _get_liblinear_solver_type\n",
            "    raise ValueError('Unsupported set of arguments: %s, '\n",
            "ValueError: Unsupported set of arguments: The combination of penalty='l1' and loss='hinge' is not supported, Parameters: penalty='l1', loss='hinge', dual=True\n",
            "\n",
            "  warnings.warn(\"Estimator fit failed. The score on this train-test\"\n",
            "/opt/conda/lib/python3.9/site-packages/sklearn/model_selection/_validation.py:610: FitFailedWarning: Estimator fit failed. The score on this train-test partition for these parameters will be set to nan. Details: \n",
            "Traceback (most recent call last):\n",
            "  File \"/opt/conda/lib/python3.9/site-packages/sklearn/model_selection/_validation.py\", line 593, in _fit_and_score\n",
            "    estimator.fit(X_train, y_train, **fit_params)\n",
            "  File \"/opt/conda/lib/python3.9/site-packages/sklearn/svm/_classes.py\", line 234, in fit\n",
            "    self.coef_, self.intercept_, self.n_iter_ = _fit_liblinear(\n",
            "  File \"/opt/conda/lib/python3.9/site-packages/sklearn/svm/_base.py\", line 974, in _fit_liblinear\n",
            "    solver_type = _get_liblinear_solver_type(multi_class, penalty, loss, dual)\n",
            "  File \"/opt/conda/lib/python3.9/site-packages/sklearn/svm/_base.py\", line 830, in _get_liblinear_solver_type\n",
            "    raise ValueError('Unsupported set of arguments: %s, '\n",
            "ValueError: Unsupported set of arguments: The combination of penalty='l1' and loss='hinge' is not supported, Parameters: penalty='l1', loss='hinge', dual=True\n",
            "\n",
            "  warnings.warn(\"Estimator fit failed. The score on this train-test\"\n",
            "/opt/conda/lib/python3.9/site-packages/sklearn/model_selection/_validation.py:610: FitFailedWarning: Estimator fit failed. The score on this train-test partition for these parameters will be set to nan. Details: \n",
            "Traceback (most recent call last):\n",
            "  File \"/opt/conda/lib/python3.9/site-packages/sklearn/model_selection/_validation.py\", line 593, in _fit_and_score\n",
            "    estimator.fit(X_train, y_train, **fit_params)\n",
            "  File \"/opt/conda/lib/python3.9/site-packages/sklearn/svm/_classes.py\", line 234, in fit\n",
            "    self.coef_, self.intercept_, self.n_iter_ = _fit_liblinear(\n",
            "  File \"/opt/conda/lib/python3.9/site-packages/sklearn/svm/_base.py\", line 974, in _fit_liblinear\n",
            "    solver_type = _get_liblinear_solver_type(multi_class, penalty, loss, dual)\n",
            "  File \"/opt/conda/lib/python3.9/site-packages/sklearn/svm/_base.py\", line 830, in _get_liblinear_solver_type\n",
            "    raise ValueError('Unsupported set of arguments: %s, '\n",
            "ValueError: Unsupported set of arguments: The combination of penalty='l1' and loss='hinge' is not supported, Parameters: penalty='l1', loss='hinge', dual=True\n",
            "\n",
            "  warnings.warn(\"Estimator fit failed. The score on this train-test\"\n",
            "/opt/conda/lib/python3.9/site-packages/sklearn/model_selection/_validation.py:610: FitFailedWarning: Estimator fit failed. The score on this train-test partition for these parameters will be set to nan. Details: \n",
            "Traceback (most recent call last):\n",
            "  File \"/opt/conda/lib/python3.9/site-packages/sklearn/model_selection/_validation.py\", line 593, in _fit_and_score\n",
            "    estimator.fit(X_train, y_train, **fit_params)\n",
            "  File \"/opt/conda/lib/python3.9/site-packages/sklearn/svm/_classes.py\", line 234, in fit\n",
            "    self.coef_, self.intercept_, self.n_iter_ = _fit_liblinear(\n",
            "  File \"/opt/conda/lib/python3.9/site-packages/sklearn/svm/_base.py\", line 974, in _fit_liblinear\n",
            "    solver_type = _get_liblinear_solver_type(multi_class, penalty, loss, dual)\n",
            "  File \"/opt/conda/lib/python3.9/site-packages/sklearn/svm/_base.py\", line 830, in _get_liblinear_solver_type\n",
            "    raise ValueError('Unsupported set of arguments: %s, '\n",
            "ValueError: Unsupported set of arguments: The combination of penalty='l1' and loss='squared_hinge' are not supported when dual=True, Parameters: penalty='l1', loss='squared_hinge', dual=True\n",
            "\n",
            "  warnings.warn(\"Estimator fit failed. The score on this train-test\"\n",
            "/opt/conda/lib/python3.9/site-packages/sklearn/model_selection/_validation.py:610: FitFailedWarning: Estimator fit failed. The score on this train-test partition for these parameters will be set to nan. Details: \n",
            "Traceback (most recent call last):\n",
            "  File \"/opt/conda/lib/python3.9/site-packages/sklearn/model_selection/_validation.py\", line 593, in _fit_and_score\n",
            "    estimator.fit(X_train, y_train, **fit_params)\n",
            "  File \"/opt/conda/lib/python3.9/site-packages/sklearn/svm/_classes.py\", line 234, in fit\n",
            "    self.coef_, self.intercept_, self.n_iter_ = _fit_liblinear(\n",
            "  File \"/opt/conda/lib/python3.9/site-packages/sklearn/svm/_base.py\", line 974, in _fit_liblinear\n",
            "    solver_type = _get_liblinear_solver_type(multi_class, penalty, loss, dual)\n",
            "  File \"/opt/conda/lib/python3.9/site-packages/sklearn/svm/_base.py\", line 830, in _get_liblinear_solver_type\n",
            "    raise ValueError('Unsupported set of arguments: %s, '\n",
            "ValueError: Unsupported set of arguments: The combination of penalty='l1' and loss='squared_hinge' are not supported when dual=True, Parameters: penalty='l1', loss='squared_hinge', dual=True\n",
            "\n",
            "  warnings.warn(\"Estimator fit failed. The score on this train-test\"\n",
            "/opt/conda/lib/python3.9/site-packages/sklearn/model_selection/_validation.py:610: FitFailedWarning: Estimator fit failed. The score on this train-test partition for these parameters will be set to nan. Details: \n",
            "Traceback (most recent call last):\n",
            "  File \"/opt/conda/lib/python3.9/site-packages/sklearn/model_selection/_validation.py\", line 593, in _fit_and_score\n",
            "    estimator.fit(X_train, y_train, **fit_params)\n",
            "  File \"/opt/conda/lib/python3.9/site-packages/sklearn/svm/_classes.py\", line 234, in fit\n",
            "    self.coef_, self.intercept_, self.n_iter_ = _fit_liblinear(\n",
            "  File \"/opt/conda/lib/python3.9/site-packages/sklearn/svm/_base.py\", line 974, in _fit_liblinear\n",
            "    solver_type = _get_liblinear_solver_type(multi_class, penalty, loss, dual)\n",
            "  File \"/opt/conda/lib/python3.9/site-packages/sklearn/svm/_base.py\", line 830, in _get_liblinear_solver_type\n",
            "    raise ValueError('Unsupported set of arguments: %s, '\n",
            "ValueError: Unsupported set of arguments: The combination of penalty='l1' and loss='squared_hinge' are not supported when dual=True, Parameters: penalty='l1', loss='squared_hinge', dual=True\n",
            "\n",
            "  warnings.warn(\"Estimator fit failed. The score on this train-test\"\n",
            "/opt/conda/lib/python3.9/site-packages/sklearn/model_selection/_validation.py:610: FitFailedWarning: Estimator fit failed. The score on this train-test partition for these parameters will be set to nan. Details: \n",
            "Traceback (most recent call last):\n",
            "  File \"/opt/conda/lib/python3.9/site-packages/sklearn/model_selection/_validation.py\", line 593, in _fit_and_score\n",
            "    estimator.fit(X_train, y_train, **fit_params)\n",
            "  File \"/opt/conda/lib/python3.9/site-packages/sklearn/svm/_classes.py\", line 234, in fit\n",
            "    self.coef_, self.intercept_, self.n_iter_ = _fit_liblinear(\n",
            "  File \"/opt/conda/lib/python3.9/site-packages/sklearn/svm/_base.py\", line 974, in _fit_liblinear\n",
            "    solver_type = _get_liblinear_solver_type(multi_class, penalty, loss, dual)\n",
            "  File \"/opt/conda/lib/python3.9/site-packages/sklearn/svm/_base.py\", line 830, in _get_liblinear_solver_type\n",
            "    raise ValueError('Unsupported set of arguments: %s, '\n",
            "ValueError: Unsupported set of arguments: The combination of penalty='l1' and loss='hinge' is not supported, Parameters: penalty='l1', loss='hinge', dual=False\n",
            "\n",
            "  warnings.warn(\"Estimator fit failed. The score on this train-test\"\n",
            "/opt/conda/lib/python3.9/site-packages/sklearn/model_selection/_validation.py:610: FitFailedWarning: Estimator fit failed. The score on this train-test partition for these parameters will be set to nan. Details: \n",
            "Traceback (most recent call last):\n",
            "  File \"/opt/conda/lib/python3.9/site-packages/sklearn/model_selection/_validation.py\", line 593, in _fit_and_score\n",
            "    estimator.fit(X_train, y_train, **fit_params)\n",
            "  File \"/opt/conda/lib/python3.9/site-packages/sklearn/svm/_classes.py\", line 234, in fit\n",
            "    self.coef_, self.intercept_, self.n_iter_ = _fit_liblinear(\n",
            "  File \"/opt/conda/lib/python3.9/site-packages/sklearn/svm/_base.py\", line 974, in _fit_liblinear\n",
            "    solver_type = _get_liblinear_solver_type(multi_class, penalty, loss, dual)\n",
            "  File \"/opt/conda/lib/python3.9/site-packages/sklearn/svm/_base.py\", line 830, in _get_liblinear_solver_type\n",
            "    raise ValueError('Unsupported set of arguments: %s, '\n",
            "ValueError: Unsupported set of arguments: The combination of penalty='l1' and loss='hinge' is not supported, Parameters: penalty='l1', loss='hinge', dual=False\n",
            "\n",
            "  warnings.warn(\"Estimator fit failed. The score on this train-test\"\n",
            "/opt/conda/lib/python3.9/site-packages/sklearn/model_selection/_validation.py:610: FitFailedWarning: Estimator fit failed. The score on this train-test partition for these parameters will be set to nan. Details: \n",
            "Traceback (most recent call last):\n",
            "  File \"/opt/conda/lib/python3.9/site-packages/sklearn/model_selection/_validation.py\", line 593, in _fit_and_score\n",
            "    estimator.fit(X_train, y_train, **fit_params)\n",
            "  File \"/opt/conda/lib/python3.9/site-packages/sklearn/svm/_classes.py\", line 234, in fit\n",
            "    self.coef_, self.intercept_, self.n_iter_ = _fit_liblinear(\n",
            "  File \"/opt/conda/lib/python3.9/site-packages/sklearn/svm/_base.py\", line 974, in _fit_liblinear\n",
            "    solver_type = _get_liblinear_solver_type(multi_class, penalty, loss, dual)\n",
            "  File \"/opt/conda/lib/python3.9/site-packages/sklearn/svm/_base.py\", line 830, in _get_liblinear_solver_type\n",
            "    raise ValueError('Unsupported set of arguments: %s, '\n",
            "ValueError: Unsupported set of arguments: The combination of penalty='l1' and loss='hinge' is not supported, Parameters: penalty='l1', loss='hinge', dual=False\n",
            "\n",
            "  warnings.warn(\"Estimator fit failed. The score on this train-test\"\n",
            "/opt/conda/lib/python3.9/site-packages/sklearn/model_selection/_validation.py:610: FitFailedWarning: Estimator fit failed. The score on this train-test partition for these parameters will be set to nan. Details: \n",
            "Traceback (most recent call last):\n",
            "  File \"/opt/conda/lib/python3.9/site-packages/sklearn/model_selection/_validation.py\", line 593, in _fit_and_score\n",
            "    estimator.fit(X_train, y_train, **fit_params)\n",
            "  File \"/opt/conda/lib/python3.9/site-packages/sklearn/svm/_classes.py\", line 234, in fit\n",
            "    self.coef_, self.intercept_, self.n_iter_ = _fit_liblinear(\n",
            "  File \"/opt/conda/lib/python3.9/site-packages/sklearn/svm/_base.py\", line 974, in _fit_liblinear\n",
            "    solver_type = _get_liblinear_solver_type(multi_class, penalty, loss, dual)\n",
            "  File \"/opt/conda/lib/python3.9/site-packages/sklearn/svm/_base.py\", line 830, in _get_liblinear_solver_type\n",
            "    raise ValueError('Unsupported set of arguments: %s, '\n",
            "ValueError: Unsupported set of arguments: The combination of penalty='l2' and loss='hinge' are not supported when dual=False, Parameters: penalty='l2', loss='hinge', dual=False\n",
            "\n",
            "  warnings.warn(\"Estimator fit failed. The score on this train-test\"\n",
            "/opt/conda/lib/python3.9/site-packages/sklearn/model_selection/_validation.py:610: FitFailedWarning: Estimator fit failed. The score on this train-test partition for these parameters will be set to nan. Details: \n",
            "Traceback (most recent call last):\n",
            "  File \"/opt/conda/lib/python3.9/site-packages/sklearn/model_selection/_validation.py\", line 593, in _fit_and_score\n",
            "    estimator.fit(X_train, y_train, **fit_params)\n",
            "  File \"/opt/conda/lib/python3.9/site-packages/sklearn/svm/_classes.py\", line 234, in fit\n",
            "    self.coef_, self.intercept_, self.n_iter_ = _fit_liblinear(\n",
            "  File \"/opt/conda/lib/python3.9/site-packages/sklearn/svm/_base.py\", line 974, in _fit_liblinear\n",
            "    solver_type = _get_liblinear_solver_type(multi_class, penalty, loss, dual)\n",
            "  File \"/opt/conda/lib/python3.9/site-packages/sklearn/svm/_base.py\", line 830, in _get_liblinear_solver_type\n",
            "    raise ValueError('Unsupported set of arguments: %s, '\n",
            "ValueError: Unsupported set of arguments: The combination of penalty='l2' and loss='hinge' are not supported when dual=False, Parameters: penalty='l2', loss='hinge', dual=False\n",
            "\n",
            "  warnings.warn(\"Estimator fit failed. The score on this train-test\"\n",
            "/opt/conda/lib/python3.9/site-packages/sklearn/model_selection/_validation.py:610: FitFailedWarning: Estimator fit failed. The score on this train-test partition for these parameters will be set to nan. Details: \n",
            "Traceback (most recent call last):\n",
            "  File \"/opt/conda/lib/python3.9/site-packages/sklearn/model_selection/_validation.py\", line 593, in _fit_and_score\n",
            "    estimator.fit(X_train, y_train, **fit_params)\n",
            "  File \"/opt/conda/lib/python3.9/site-packages/sklearn/svm/_classes.py\", line 234, in fit\n",
            "    self.coef_, self.intercept_, self.n_iter_ = _fit_liblinear(\n",
            "  File \"/opt/conda/lib/python3.9/site-packages/sklearn/svm/_base.py\", line 974, in _fit_liblinear\n",
            "    solver_type = _get_liblinear_solver_type(multi_class, penalty, loss, dual)\n",
            "  File \"/opt/conda/lib/python3.9/site-packages/sklearn/svm/_base.py\", line 830, in _get_liblinear_solver_type\n",
            "    raise ValueError('Unsupported set of arguments: %s, '\n",
            "ValueError: Unsupported set of arguments: The combination of penalty='l2' and loss='hinge' are not supported when dual=False, Parameters: penalty='l2', loss='hinge', dual=False\n",
            "\n",
            "  warnings.warn(\"Estimator fit failed. The score on this train-test\"\n",
            "/opt/conda/lib/python3.9/site-packages/sklearn/model_selection/_validation.py:610: FitFailedWarning: Estimator fit failed. The score on this train-test partition for these parameters will be set to nan. Details: \n",
            "Traceback (most recent call last):\n",
            "  File \"/opt/conda/lib/python3.9/site-packages/sklearn/model_selection/_validation.py\", line 593, in _fit_and_score\n",
            "    estimator.fit(X_train, y_train, **fit_params)\n",
            "  File \"/opt/conda/lib/python3.9/site-packages/sklearn/svm/_classes.py\", line 234, in fit\n",
            "    self.coef_, self.intercept_, self.n_iter_ = _fit_liblinear(\n",
            "  File \"/opt/conda/lib/python3.9/site-packages/sklearn/svm/_base.py\", line 974, in _fit_liblinear\n",
            "    solver_type = _get_liblinear_solver_type(multi_class, penalty, loss, dual)\n",
            "  File \"/opt/conda/lib/python3.9/site-packages/sklearn/svm/_base.py\", line 830, in _get_liblinear_solver_type\n",
            "    raise ValueError('Unsupported set of arguments: %s, '\n",
            "ValueError: Unsupported set of arguments: The combination of penalty='l1' and loss='hinge' is not supported, Parameters: penalty='l1', loss='hinge', dual=True\n",
            "\n",
            "  warnings.warn(\"Estimator fit failed. The score on this train-test\"\n",
            "/opt/conda/lib/python3.9/site-packages/sklearn/model_selection/_validation.py:610: FitFailedWarning: Estimator fit failed. The score on this train-test partition for these parameters will be set to nan. Details: \n",
            "Traceback (most recent call last):\n",
            "  File \"/opt/conda/lib/python3.9/site-packages/sklearn/model_selection/_validation.py\", line 593, in _fit_and_score\n",
            "    estimator.fit(X_train, y_train, **fit_params)\n",
            "  File \"/opt/conda/lib/python3.9/site-packages/sklearn/svm/_classes.py\", line 234, in fit\n",
            "    self.coef_, self.intercept_, self.n_iter_ = _fit_liblinear(\n",
            "  File \"/opt/conda/lib/python3.9/site-packages/sklearn/svm/_base.py\", line 974, in _fit_liblinear\n",
            "    solver_type = _get_liblinear_solver_type(multi_class, penalty, loss, dual)\n",
            "  File \"/opt/conda/lib/python3.9/site-packages/sklearn/svm/_base.py\", line 830, in _get_liblinear_solver_type\n",
            "    raise ValueError('Unsupported set of arguments: %s, '\n",
            "ValueError: Unsupported set of arguments: The combination of penalty='l1' and loss='hinge' is not supported, Parameters: penalty='l1', loss='hinge', dual=True\n",
            "\n",
            "  warnings.warn(\"Estimator fit failed. The score on this train-test\"\n",
            "/opt/conda/lib/python3.9/site-packages/sklearn/model_selection/_validation.py:610: FitFailedWarning: Estimator fit failed. The score on this train-test partition for these parameters will be set to nan. Details: \n",
            "Traceback (most recent call last):\n",
            "  File \"/opt/conda/lib/python3.9/site-packages/sklearn/model_selection/_validation.py\", line 593, in _fit_and_score\n",
            "    estimator.fit(X_train, y_train, **fit_params)\n",
            "  File \"/opt/conda/lib/python3.9/site-packages/sklearn/svm/_classes.py\", line 234, in fit\n",
            "    self.coef_, self.intercept_, self.n_iter_ = _fit_liblinear(\n",
            "  File \"/opt/conda/lib/python3.9/site-packages/sklearn/svm/_base.py\", line 974, in _fit_liblinear\n",
            "    solver_type = _get_liblinear_solver_type(multi_class, penalty, loss, dual)\n",
            "  File \"/opt/conda/lib/python3.9/site-packages/sklearn/svm/_base.py\", line 830, in _get_liblinear_solver_type\n",
            "    raise ValueError('Unsupported set of arguments: %s, '\n",
            "ValueError: Unsupported set of arguments: The combination of penalty='l1' and loss='hinge' is not supported, Parameters: penalty='l1', loss='hinge', dual=True\n",
            "\n",
            "  warnings.warn(\"Estimator fit failed. The score on this train-test\"\n",
            "/opt/conda/lib/python3.9/site-packages/sklearn/svm/_base.py:985: ConvergenceWarning: Liblinear failed to converge, increase the number of iterations.\n",
            "  warnings.warn(\"Liblinear failed to converge, increase \"\n",
            "/opt/conda/lib/python3.9/site-packages/sklearn/model_selection/_validation.py:610: FitFailedWarning: Estimator fit failed. The score on this train-test partition for these parameters will be set to nan. Details: \n",
            "Traceback (most recent call last):\n",
            "  File \"/opt/conda/lib/python3.9/site-packages/sklearn/model_selection/_validation.py\", line 593, in _fit_and_score\n",
            "    estimator.fit(X_train, y_train, **fit_params)\n",
            "  File \"/opt/conda/lib/python3.9/site-packages/sklearn/svm/_classes.py\", line 234, in fit\n",
            "    self.coef_, self.intercept_, self.n_iter_ = _fit_liblinear(\n",
            "  File \"/opt/conda/lib/python3.9/site-packages/sklearn/svm/_base.py\", line 974, in _fit_liblinear\n",
            "    solver_type = _get_liblinear_solver_type(multi_class, penalty, loss, dual)\n",
            "  File \"/opt/conda/lib/python3.9/site-packages/sklearn/svm/_base.py\", line 830, in _get_liblinear_solver_type\n",
            "    raise ValueError('Unsupported set of arguments: %s, '\n",
            "ValueError: Unsupported set of arguments: The combination of penalty='l1' and loss='squared_hinge' are not supported when dual=True, Parameters: penalty='l1', loss='squared_hinge', dual=True\n",
            "\n",
            "  warnings.warn(\"Estimator fit failed. The score on this train-test\"\n",
            "/opt/conda/lib/python3.9/site-packages/sklearn/model_selection/_validation.py:610: FitFailedWarning: Estimator fit failed. The score on this train-test partition for these parameters will be set to nan. Details: \n",
            "Traceback (most recent call last):\n",
            "  File \"/opt/conda/lib/python3.9/site-packages/sklearn/model_selection/_validation.py\", line 593, in _fit_and_score\n",
            "    estimator.fit(X_train, y_train, **fit_params)\n",
            "  File \"/opt/conda/lib/python3.9/site-packages/sklearn/svm/_classes.py\", line 234, in fit\n",
            "    self.coef_, self.intercept_, self.n_iter_ = _fit_liblinear(\n",
            "  File \"/opt/conda/lib/python3.9/site-packages/sklearn/svm/_base.py\", line 974, in _fit_liblinear\n",
            "    solver_type = _get_liblinear_solver_type(multi_class, penalty, loss, dual)\n",
            "  File \"/opt/conda/lib/python3.9/site-packages/sklearn/svm/_base.py\", line 830, in _get_liblinear_solver_type\n",
            "    raise ValueError('Unsupported set of arguments: %s, '\n",
            "ValueError: Unsupported set of arguments: The combination of penalty='l1' and loss='squared_hinge' are not supported when dual=True, Parameters: penalty='l1', loss='squared_hinge', dual=True\n",
            "\n",
            "  warnings.warn(\"Estimator fit failed. The score on this train-test\"\n",
            "/opt/conda/lib/python3.9/site-packages/sklearn/model_selection/_validation.py:610: FitFailedWarning: Estimator fit failed. The score on this train-test partition for these parameters will be set to nan. Details: \n",
            "Traceback (most recent call last):\n",
            "  File \"/opt/conda/lib/python3.9/site-packages/sklearn/model_selection/_validation.py\", line 593, in _fit_and_score\n",
            "    estimator.fit(X_train, y_train, **fit_params)\n",
            "  File \"/opt/conda/lib/python3.9/site-packages/sklearn/svm/_classes.py\", line 234, in fit\n",
            "    self.coef_, self.intercept_, self.n_iter_ = _fit_liblinear(\n",
            "  File \"/opt/conda/lib/python3.9/site-packages/sklearn/svm/_base.py\", line 974, in _fit_liblinear\n",
            "    solver_type = _get_liblinear_solver_type(multi_class, penalty, loss, dual)\n",
            "  File \"/opt/conda/lib/python3.9/site-packages/sklearn/svm/_base.py\", line 830, in _get_liblinear_solver_type\n",
            "    raise ValueError('Unsupported set of arguments: %s, '\n",
            "ValueError: Unsupported set of arguments: The combination of penalty='l1' and loss='squared_hinge' are not supported when dual=True, Parameters: penalty='l1', loss='squared_hinge', dual=True\n",
            "\n",
            "  warnings.warn(\"Estimator fit failed. The score on this train-test\"\n",
            "/opt/conda/lib/python3.9/site-packages/sklearn/model_selection/_validation.py:610: FitFailedWarning: Estimator fit failed. The score on this train-test partition for these parameters will be set to nan. Details: \n",
            "Traceback (most recent call last):\n",
            "  File \"/opt/conda/lib/python3.9/site-packages/sklearn/model_selection/_validation.py\", line 593, in _fit_and_score\n",
            "    estimator.fit(X_train, y_train, **fit_params)\n",
            "  File \"/opt/conda/lib/python3.9/site-packages/sklearn/svm/_classes.py\", line 234, in fit\n",
            "    self.coef_, self.intercept_, self.n_iter_ = _fit_liblinear(\n",
            "  File \"/opt/conda/lib/python3.9/site-packages/sklearn/svm/_base.py\", line 974, in _fit_liblinear\n",
            "    solver_type = _get_liblinear_solver_type(multi_class, penalty, loss, dual)\n",
            "  File \"/opt/conda/lib/python3.9/site-packages/sklearn/svm/_base.py\", line 830, in _get_liblinear_solver_type\n",
            "    raise ValueError('Unsupported set of arguments: %s, '\n",
            "ValueError: Unsupported set of arguments: The combination of penalty='l1' and loss='hinge' is not supported, Parameters: penalty='l1', loss='hinge', dual=False\n",
            "\n",
            "  warnings.warn(\"Estimator fit failed. The score on this train-test\"\n",
            "/opt/conda/lib/python3.9/site-packages/sklearn/model_selection/_validation.py:610: FitFailedWarning: Estimator fit failed. The score on this train-test partition for these parameters will be set to nan. Details: \n",
            "Traceback (most recent call last):\n",
            "  File \"/opt/conda/lib/python3.9/site-packages/sklearn/model_selection/_validation.py\", line 593, in _fit_and_score\n",
            "    estimator.fit(X_train, y_train, **fit_params)\n",
            "  File \"/opt/conda/lib/python3.9/site-packages/sklearn/svm/_classes.py\", line 234, in fit\n",
            "    self.coef_, self.intercept_, self.n_iter_ = _fit_liblinear(\n",
            "  File \"/opt/conda/lib/python3.9/site-packages/sklearn/svm/_base.py\", line 974, in _fit_liblinear\n",
            "    solver_type = _get_liblinear_solver_type(multi_class, penalty, loss, dual)\n",
            "  File \"/opt/conda/lib/python3.9/site-packages/sklearn/svm/_base.py\", line 830, in _get_liblinear_solver_type\n",
            "    raise ValueError('Unsupported set of arguments: %s, '\n",
            "ValueError: Unsupported set of arguments: The combination of penalty='l1' and loss='hinge' is not supported, Parameters: penalty='l1', loss='hinge', dual=False\n",
            "\n",
            "  warnings.warn(\"Estimator fit failed. The score on this train-test\"\n",
            "/opt/conda/lib/python3.9/site-packages/sklearn/model_selection/_validation.py:610: FitFailedWarning: Estimator fit failed. The score on this train-test partition for these parameters will be set to nan. Details: \n",
            "Traceback (most recent call last):\n",
            "  File \"/opt/conda/lib/python3.9/site-packages/sklearn/model_selection/_validation.py\", line 593, in _fit_and_score\n",
            "    estimator.fit(X_train, y_train, **fit_params)\n",
            "  File \"/opt/conda/lib/python3.9/site-packages/sklearn/svm/_classes.py\", line 234, in fit\n",
            "    self.coef_, self.intercept_, self.n_iter_ = _fit_liblinear(\n",
            "  File \"/opt/conda/lib/python3.9/site-packages/sklearn/svm/_base.py\", line 974, in _fit_liblinear\n",
            "    solver_type = _get_liblinear_solver_type(multi_class, penalty, loss, dual)\n",
            "  File \"/opt/conda/lib/python3.9/site-packages/sklearn/svm/_base.py\", line 830, in _get_liblinear_solver_type\n",
            "    raise ValueError('Unsupported set of arguments: %s, '\n",
            "ValueError: Unsupported set of arguments: The combination of penalty='l1' and loss='hinge' is not supported, Parameters: penalty='l1', loss='hinge', dual=False\n",
            "\n",
            "  warnings.warn(\"Estimator fit failed. The score on this train-test\"\n",
            "/opt/conda/lib/python3.9/site-packages/sklearn/model_selection/_validation.py:610: FitFailedWarning: Estimator fit failed. The score on this train-test partition for these parameters will be set to nan. Details: \n",
            "Traceback (most recent call last):\n",
            "  File \"/opt/conda/lib/python3.9/site-packages/sklearn/model_selection/_validation.py\", line 593, in _fit_and_score\n",
            "    estimator.fit(X_train, y_train, **fit_params)\n",
            "  File \"/opt/conda/lib/python3.9/site-packages/sklearn/svm/_classes.py\", line 234, in fit\n",
            "    self.coef_, self.intercept_, self.n_iter_ = _fit_liblinear(\n",
            "  File \"/opt/conda/lib/python3.9/site-packages/sklearn/svm/_base.py\", line 974, in _fit_liblinear\n",
            "    solver_type = _get_liblinear_solver_type(multi_class, penalty, loss, dual)\n",
            "  File \"/opt/conda/lib/python3.9/site-packages/sklearn/svm/_base.py\", line 830, in _get_liblinear_solver_type\n",
            "    raise ValueError('Unsupported set of arguments: %s, '\n",
            "ValueError: Unsupported set of arguments: The combination of penalty='l2' and loss='hinge' are not supported when dual=False, Parameters: penalty='l2', loss='hinge', dual=False\n",
            "\n",
            "  warnings.warn(\"Estimator fit failed. The score on this train-test\"\n",
            "/opt/conda/lib/python3.9/site-packages/sklearn/model_selection/_validation.py:610: FitFailedWarning: Estimator fit failed. The score on this train-test partition for these parameters will be set to nan. Details: \n",
            "Traceback (most recent call last):\n",
            "  File \"/opt/conda/lib/python3.9/site-packages/sklearn/model_selection/_validation.py\", line 593, in _fit_and_score\n",
            "    estimator.fit(X_train, y_train, **fit_params)\n",
            "  File \"/opt/conda/lib/python3.9/site-packages/sklearn/svm/_classes.py\", line 234, in fit\n",
            "    self.coef_, self.intercept_, self.n_iter_ = _fit_liblinear(\n",
            "  File \"/opt/conda/lib/python3.9/site-packages/sklearn/svm/_base.py\", line 974, in _fit_liblinear\n",
            "    solver_type = _get_liblinear_solver_type(multi_class, penalty, loss, dual)\n",
            "  File \"/opt/conda/lib/python3.9/site-packages/sklearn/svm/_base.py\", line 830, in _get_liblinear_solver_type\n",
            "    raise ValueError('Unsupported set of arguments: %s, '\n",
            "ValueError: Unsupported set of arguments: The combination of penalty='l2' and loss='hinge' are not supported when dual=False, Parameters: penalty='l2', loss='hinge', dual=False\n",
            "\n",
            "  warnings.warn(\"Estimator fit failed. The score on this train-test\"\n",
            "/opt/conda/lib/python3.9/site-packages/sklearn/model_selection/_validation.py:610: FitFailedWarning: Estimator fit failed. The score on this train-test partition for these parameters will be set to nan. Details: \n",
            "Traceback (most recent call last):\n",
            "  File \"/opt/conda/lib/python3.9/site-packages/sklearn/model_selection/_validation.py\", line 593, in _fit_and_score\n",
            "    estimator.fit(X_train, y_train, **fit_params)\n",
            "  File \"/opt/conda/lib/python3.9/site-packages/sklearn/svm/_classes.py\", line 234, in fit\n",
            "    self.coef_, self.intercept_, self.n_iter_ = _fit_liblinear(\n",
            "  File \"/opt/conda/lib/python3.9/site-packages/sklearn/svm/_base.py\", line 974, in _fit_liblinear\n",
            "    solver_type = _get_liblinear_solver_type(multi_class, penalty, loss, dual)\n",
            "  File \"/opt/conda/lib/python3.9/site-packages/sklearn/svm/_base.py\", line 830, in _get_liblinear_solver_type\n",
            "    raise ValueError('Unsupported set of arguments: %s, '\n",
            "ValueError: Unsupported set of arguments: The combination of penalty='l2' and loss='hinge' are not supported when dual=False, Parameters: penalty='l2', loss='hinge', dual=False\n",
            "\n",
            "  warnings.warn(\"Estimator fit failed. The score on this train-test\"\n",
            "/opt/conda/lib/python3.9/site-packages/sklearn/model_selection/_search.py:918: UserWarning: One or more of the test scores are non-finite: [       nan 0.61520268        nan 0.71324644        nan        nan\n",
            " 0.71880312 0.7133077         nan 0.73351482        nan 0.7486432\n",
            "        nan        nan 0.75282106 0.74867614        nan 0.7477296\n",
            "        nan 0.74333789        nan        nan 0.7420599  0.74330657]\n",
            "  warnings.warn(\n"
          ]
        },
        {
          "data": {
            "text/plain": [
              "'Лучшие параметры:'"
            ]
          },
          "metadata": {},
          "output_type": "display_data"
        },
        {
          "data": {
            "text/plain": [
              "{'C': 1, 'dual': False, 'loss': 'squared_hinge', 'penalty': 'l1'}"
            ]
          },
          "metadata": {},
          "output_type": "display_data"
        },
        {
          "data": {
            "text/plain": [
              "'Лучший F1 на кросс-валидации:'"
            ]
          },
          "metadata": {},
          "output_type": "display_data"
        },
        {
          "data": {
            "text/plain": [
              "'0.753'"
            ]
          },
          "metadata": {},
          "output_type": "display_data"
        },
        {
          "data": {
            "text/plain": [
              "LinearSVC(C=1, dual=False, max_iter=10000, penalty='l1', random_state=42)"
            ]
          },
          "execution_count": 8,
          "metadata": {},
          "output_type": "execute_result"
        }
      ],
      "source": [
        "#Обучим LinearSVC\n",
        "#Определяем сетку параметров\n",
        "param_grid = {\n",
        "    'C': [0.1, 1, 10],  # Параметр регуляризации\n",
        "    'penalty': ['l1', 'l2'],\n",
        "    'loss': ['hinge', 'squared_hinge'],\n",
        "    'dual': [True, False]\n",
        "}\n",
        "\n",
        "# Создаем модель LinearSVC\n",
        "svc = LinearSVC(random_state=RANDOM_STATE, max_iter=10000)\n",
        "\n",
        "# Настраиваем GridSearchCV\n",
        "grid_search = GridSearchCV(\n",
        "    estimator=svc,\n",
        "    param_grid=param_grid,\n",
        "    scoring='f1',\n",
        "    cv=3,  # Фиксированное количество фолдов\n",
        "    n_jobs=-1,\n",
        "    verbose=1\n",
        ")\n",
        "\n",
        "# Обучаем на тренировочных данных\n",
        "grid_search.fit(X_train_tfidf, y_train)\n",
        "\n",
        "# Определяем лучшие параметры при кросс-валидации\n",
        "display(\"Лучшие параметры:\", grid_search.best_params_)\n",
        "display(\"Лучший F1 на кросс-валидации:\", f\"{grid_search.best_score_:.3f}\")\n",
        "\n",
        "# Обучаем финальную модель с лучшими параметрами\n",
        "best_svc = grid_search.best_estimator_\n",
        "best_svc.fit(X_train_tfidf, y_train)\n"
      ]
    },
    {
      "cell_type": "markdown",
      "metadata": {
        "id": "G3obALsFauG9"
      },
      "source": [
        "LinearSVC (F1=0.7517)  показала себя немного лучше, чем  Logistic Regression (F1=0.747)"
      ]
    },
    {
      "cell_type": "code",
      "execution_count": null,
      "metadata": {
        "id": "Ti30d8GcauG-",
        "outputId": "f6c8b071-41e1-4a4f-9ee4-37e5fe99ad0b"
      },
      "outputs": [
        {
          "data": {
            "text/plain": [
              "'Результаты на тестовой выборке:'"
            ]
          },
          "metadata": {},
          "output_type": "display_data"
        },
        {
          "data": {
            "text/plain": [
              "'F1-score: 0.758'"
            ]
          },
          "metadata": {},
          "output_type": "display_data"
        }
      ],
      "source": [
        "# Получим предсказание на тестовых данных\n",
        "y_test_pred = best_svc.predict(X_test_tfidf)\n",
        "\n",
        "# Вычислим метрику\n",
        "test_f1 = f1_score(y_test, y_test_pred)\n",
        "\n",
        "# Вывод результатов\n",
        "display(\"Результаты на тестовой выборке:\")\n",
        "display(f\"F1-score: {test_f1:.3f}\")\n"
      ]
    },
    {
      "cell_type": "markdown",
      "metadata": {
        "id": "A0_H6rmuauG-"
      },
      "source": [
        "## Выводы"
      ]
    },
    {
      "cell_type": "markdown",
      "metadata": {
        "id": "G7uxqNbOauG_"
      },
      "source": [
        "Ключевые выводы проекта \"Классификация токсичных комментариев\"\n",
        "\n",
        "## Результаты тестирования моделей\n",
        "\n",
        "### LinearSVC - **РЕКОМЕНДУЕМАЯ МОДЕЛЬ**:\n",
        "- **Качество классификации**: F1 = 0.7517\n",
        "- **Требования заказчика**: Превышено (F1 ≥ 0.75)\n",
        "- **Преимущества**: Лучшая производительность на текстовых данных\n",
        "\n",
        "### Logistic Regression - Альтернативный вариант:\n",
        "- **Качество классификации**: F1 = 0.7470\n",
        "- **Разница с лидером**: 0.0047 (незначительная)\n",
        "- **Преимущества**: Хорошая интерпретируемость\n",
        "\n",
        "## Достигнутые цели проекта\n",
        "\n",
        "### Основной критерий выполнен\n",
        "- **Целевая метрика**: F1 ≥ 0.75 достигнута\n",
        "- **Качество классификации**: Модель точно определяет токсичные комментарии\n",
        "- **Готовность к внедрению**: Соответствует производственным требованиям\n",
        "\n",
        "## Рекомендации для «Викишоп»\n",
        "\n",
        "### Выбор модели: LinearSVC\n",
        "\n",
        "#### Преимущества для бизнеса:\n",
        "- **Высокая точность**: Наилучшее качество классификации\n",
        "- **Эффективность**: Оптимальная работа с текстовыми данными\n",
        "- **Устойчивость**: Стабильная работа при дисбалансе классов\n",
        "- **Интерпретируемость**: Возможность анализа принятия решений\n",
        "\n",
        "### Операционные выгоды:\n",
        "- **Автоматизация модерации**: Снижение нагрузки на модераторов\n",
        "- **Быстрая обработка**: Мгновенная классификация комментариев\n",
        "- **Улучшение качества контента**: Своевременное выявление токсичных правок\n",
        "\n",
        "### Техническая реализация:\n",
        "- **Внедрение LinearSVC**: Использование лучшей модели для модерации\n",
        "- **Регулярный мониторинг**: Контроль качества классификации\n",
        "- **Обновление модели**: Адаптация к изменяющемуся языку пользователей\n"
      ]
    }
  ],
  "metadata": {
    "ExecuteTimeLog": [
      {
        "duration": 48,
        "start_time": "2025-05-29T10:21:18.967Z"
      },
      {
        "duration": 1310,
        "start_time": "2025-05-29T10:21:24.029Z"
      },
      {
        "duration": 302,
        "start_time": "2025-05-29T10:21:56.045Z"
      },
      {
        "duration": 966,
        "start_time": "2025-05-29T10:21:59.485Z"
      },
      {
        "duration": 81,
        "start_time": "2025-05-29T10:22:27.525Z"
      },
      {
        "duration": 22076,
        "start_time": "2025-05-29T10:22:36.878Z"
      },
      {
        "duration": 27003,
        "start_time": "2025-05-29T10:22:58.956Z"
      },
      {
        "duration": 3249,
        "start_time": "2025-05-29T10:25:28.118Z"
      },
      {
        "duration": 868,
        "start_time": "2025-05-29T10:25:31.369Z"
      },
      {
        "duration": 109454,
        "start_time": "2025-05-29T10:25:33.397Z"
      },
      {
        "duration": 0,
        "start_time": "2025-05-29T10:27:22.853Z"
      },
      {
        "duration": 838,
        "start_time": "2025-05-29T11:17:26.732Z"
      },
      {
        "duration": 1074,
        "start_time": "2025-05-29T11:17:27.820Z"
      },
      {
        "duration": 7,
        "start_time": "2025-05-29T11:17:33.626Z"
      },
      {
        "duration": 813,
        "start_time": "2025-05-29T11:17:34.626Z"
      },
      {
        "duration": 1137,
        "start_time": "2025-05-29T11:17:36.154Z"
      },
      {
        "duration": 7,
        "start_time": "2025-05-29T11:19:31.993Z"
      },
      {
        "duration": 817,
        "start_time": "2025-05-29T11:19:34.258Z"
      },
      {
        "duration": 1098,
        "start_time": "2025-05-29T11:19:35.768Z"
      },
      {
        "duration": 19875,
        "start_time": "2025-05-29T11:21:41.819Z"
      },
      {
        "duration": 20203,
        "start_time": "2025-05-29T11:23:11.515Z"
      },
      {
        "duration": 8,
        "start_time": "2025-05-29T11:25:24.999Z"
      },
      {
        "duration": 808,
        "start_time": "2025-05-29T11:25:29.553Z"
      },
      {
        "duration": 25749,
        "start_time": "2025-05-29T11:25:32.610Z"
      },
      {
        "duration": 0,
        "start_time": "2025-05-29T11:25:58.361Z"
      },
      {
        "duration": 2589,
        "start_time": "2025-05-29T15:47:27.931Z"
      },
      {
        "duration": 925,
        "start_time": "2025-05-29T15:47:31.966Z"
      },
      {
        "duration": 111,
        "start_time": "2025-05-29T15:47:38.287Z"
      },
      {
        "duration": 81161,
        "start_time": "2025-05-29T15:47:41.199Z"
      },
      {
        "duration": 37,
        "start_time": "2025-05-29T15:49:31.290Z"
      },
      {
        "duration": 24529,
        "start_time": "2025-05-29T15:49:33.808Z"
      },
      {
        "duration": 3510,
        "start_time": "2025-05-29T15:50:03.592Z"
      },
      {
        "duration": 432622,
        "start_time": "2025-05-29T15:50:28.483Z"
      },
      {
        "duration": 105,
        "start_time": "2025-05-29T15:57:52.800Z"
      },
      {
        "duration": 126,
        "start_time": "2025-05-29T15:58:00.862Z"
      },
      {
        "duration": 5,
        "start_time": "2025-05-29T15:58:07.796Z"
      },
      {
        "duration": 765,
        "start_time": "2025-05-29T15:58:11.233Z"
      },
      {
        "duration": 95,
        "start_time": "2025-05-29T15:58:12.000Z"
      },
      {
        "duration": 78918,
        "start_time": "2025-05-29T15:58:13.018Z"
      },
      {
        "duration": 54,
        "start_time": "2025-05-29T15:59:31.938Z"
      },
      {
        "duration": 26887,
        "start_time": "2025-05-29T15:59:31.994Z"
      },
      {
        "duration": 6,
        "start_time": "2025-05-29T15:59:58.883Z"
      },
      {
        "duration": 878,
        "start_time": "2025-05-29T16:00:04.695Z"
      },
      {
        "duration": 125,
        "start_time": "2025-05-29T16:00:06.444Z"
      },
      {
        "duration": 81084,
        "start_time": "2025-05-29T16:00:07.434Z"
      },
      {
        "duration": 54,
        "start_time": "2025-05-29T16:01:28.520Z"
      },
      {
        "duration": 26040,
        "start_time": "2025-05-29T16:01:28.576Z"
      },
      {
        "duration": 3459,
        "start_time": "2025-05-29T16:26:09.053Z"
      },
      {
        "duration": 0,
        "start_time": "2025-05-29T16:26:12.514Z"
      },
      {
        "duration": 0,
        "start_time": "2025-05-29T16:26:12.515Z"
      },
      {
        "duration": 0,
        "start_time": "2025-05-29T16:26:12.516Z"
      },
      {
        "duration": 0,
        "start_time": "2025-05-29T16:26:12.517Z"
      },
      {
        "duration": 0,
        "start_time": "2025-05-29T16:26:12.518Z"
      },
      {
        "duration": 0,
        "start_time": "2025-05-29T16:26:12.519Z"
      },
      {
        "duration": 0,
        "start_time": "2025-05-29T16:26:12.520Z"
      },
      {
        "duration": 0,
        "start_time": "2025-05-29T16:26:12.521Z"
      },
      {
        "duration": 0,
        "start_time": "2025-05-29T16:26:12.522Z"
      },
      {
        "duration": 0,
        "start_time": "2025-05-29T16:26:12.523Z"
      },
      {
        "duration": 0,
        "start_time": "2025-05-29T16:26:12.524Z"
      },
      {
        "duration": 0,
        "start_time": "2025-05-29T16:26:12.525Z"
      },
      {
        "duration": 7302,
        "start_time": "2025-05-29T16:27:11.733Z"
      },
      {
        "duration": 908,
        "start_time": "2025-05-29T16:27:23.817Z"
      },
      {
        "duration": 114,
        "start_time": "2025-05-29T16:27:25.813Z"
      },
      {
        "duration": 85923,
        "start_time": "2025-05-29T16:27:29.089Z"
      },
      {
        "duration": 44,
        "start_time": "2025-05-29T16:28:55.014Z"
      },
      {
        "duration": 27426,
        "start_time": "2025-05-29T16:28:55.060Z"
      },
      {
        "duration": 3396,
        "start_time": "2025-05-29T16:29:28.001Z"
      },
      {
        "duration": 443489,
        "start_time": "2025-05-29T16:29:47.339Z"
      },
      {
        "duration": 1638,
        "start_time": "2025-05-29T16:38:40.571Z"
      },
      {
        "duration": 5463,
        "start_time": "2025-05-29T16:39:02.346Z"
      },
      {
        "duration": 315,
        "start_time": "2025-05-29T16:39:24.037Z"
      },
      {
        "duration": 7454,
        "start_time": "2025-05-29T16:49:55.460Z"
      },
      {
        "duration": 949,
        "start_time": "2025-05-29T16:50:02.917Z"
      },
      {
        "duration": 116,
        "start_time": "2025-05-29T16:50:03.868Z"
      },
      {
        "duration": 78534,
        "start_time": "2025-05-29T16:50:03.986Z"
      },
      {
        "duration": 37,
        "start_time": "2025-05-29T16:51:22.522Z"
      },
      {
        "duration": 25179,
        "start_time": "2025-05-29T16:51:22.561Z"
      },
      {
        "duration": 84,
        "start_time": "2025-05-29T16:51:47.742Z"
      },
      {
        "duration": 0,
        "start_time": "2025-05-29T16:51:47.827Z"
      },
      {
        "duration": 0,
        "start_time": "2025-05-29T16:51:47.828Z"
      },
      {
        "duration": 3354,
        "start_time": "2025-05-29T16:53:45.012Z"
      },
      {
        "duration": 430259,
        "start_time": "2025-05-29T16:54:04.406Z"
      },
      {
        "duration": 1685,
        "start_time": "2025-05-29T17:14:05.351Z"
      },
      {
        "duration": 4,
        "start_time": "2025-05-29T17:15:17.007Z"
      },
      {
        "duration": 1739,
        "start_time": "2025-05-29T17:15:28.808Z"
      },
      {
        "duration": 131,
        "start_time": "2025-05-29T17:25:43.474Z"
      },
      {
        "duration": 118,
        "start_time": "2025-05-29T17:26:14.841Z"
      },
      {
        "duration": 114,
        "start_time": "2025-05-29T17:26:28.200Z"
      },
      {
        "duration": 117,
        "start_time": "2025-05-29T17:26:52.159Z"
      },
      {
        "duration": 116,
        "start_time": "2025-05-29T17:27:11.345Z"
      },
      {
        "duration": 129,
        "start_time": "2025-05-29T17:27:16.409Z"
      },
      {
        "duration": 8294,
        "start_time": "2025-05-30T04:42:40.271Z"
      },
      {
        "duration": 876,
        "start_time": "2025-05-30T04:42:48.568Z"
      },
      {
        "duration": 140,
        "start_time": "2025-05-30T04:42:49.446Z"
      },
      {
        "duration": 1149,
        "start_time": "2025-05-30T04:42:49.588Z"
      },
      {
        "duration": 0,
        "start_time": "2025-05-30T04:42:50.739Z"
      },
      {
        "duration": 0,
        "start_time": "2025-05-30T04:42:50.740Z"
      },
      {
        "duration": 0,
        "start_time": "2025-05-30T04:42:50.741Z"
      },
      {
        "duration": 0,
        "start_time": "2025-05-30T04:42:50.742Z"
      },
      {
        "duration": 0,
        "start_time": "2025-05-30T04:42:50.743Z"
      },
      {
        "duration": 0,
        "start_time": "2025-05-30T04:42:50.744Z"
      },
      {
        "duration": 2398,
        "start_time": "2025-05-30T04:47:11.084Z"
      },
      {
        "duration": 563,
        "start_time": "2025-05-30T04:47:18.117Z"
      },
      {
        "duration": 2434,
        "start_time": "2025-05-30T04:48:09.107Z"
      },
      {
        "duration": 456371,
        "start_time": "2025-05-30T04:48:23.901Z"
      },
      {
        "duration": 7447,
        "start_time": "2025-05-30T04:56:14.717Z"
      },
      {
        "duration": 0,
        "start_time": "2025-05-30T04:56:22.167Z"
      },
      {
        "duration": 0,
        "start_time": "2025-05-30T04:56:22.168Z"
      },
      {
        "duration": 0,
        "start_time": "2025-05-30T04:56:22.170Z"
      },
      {
        "duration": 0,
        "start_time": "2025-05-30T04:56:22.171Z"
      },
      {
        "duration": 0,
        "start_time": "2025-05-30T04:56:22.173Z"
      },
      {
        "duration": 0,
        "start_time": "2025-05-30T04:56:22.174Z"
      },
      {
        "duration": 0,
        "start_time": "2025-05-30T04:56:22.176Z"
      },
      {
        "duration": 0,
        "start_time": "2025-05-30T04:56:22.177Z"
      },
      {
        "duration": 0,
        "start_time": "2025-05-30T04:56:22.179Z"
      },
      {
        "duration": 2645,
        "start_time": "2025-05-30T05:02:56.854Z"
      },
      {
        "duration": 881,
        "start_time": "2025-05-30T05:05:40.270Z"
      },
      {
        "duration": 136,
        "start_time": "2025-05-30T05:05:42.137Z"
      },
      {
        "duration": 1761,
        "start_time": "2025-05-30T05:05:45.681Z"
      },
      {
        "duration": 475213,
        "start_time": "2025-05-30T05:08:14.857Z"
      },
      {
        "duration": 33,
        "start_time": "2025-05-30T05:18:03.361Z"
      },
      {
        "duration": 24532,
        "start_time": "2025-05-30T05:18:05.801Z"
      },
      {
        "duration": 50,
        "start_time": "2025-05-30T05:47:31.988Z"
      },
      {
        "duration": 7262,
        "start_time": "2025-05-30T05:47:59.701Z"
      },
      {
        "duration": 846,
        "start_time": "2025-05-30T05:48:06.965Z"
      },
      {
        "duration": 152,
        "start_time": "2025-05-30T05:48:07.812Z"
      },
      {
        "duration": 517905,
        "start_time": "2025-05-30T05:48:07.967Z"
      },
      {
        "duration": 33,
        "start_time": "2025-05-30T05:56:45.874Z"
      },
      {
        "duration": 24768,
        "start_time": "2025-05-30T05:56:45.908Z"
      },
      {
        "duration": 25133,
        "start_time": "2025-05-30T05:57:10.678Z"
      },
      {
        "duration": 166103,
        "start_time": "2025-05-30T05:57:35.812Z"
      },
      {
        "duration": 316,
        "start_time": "2025-05-30T06:00:21.917Z"
      },
      {
        "duration": 0,
        "start_time": "2025-05-30T06:00:22.235Z"
      },
      {
        "duration": 18,
        "start_time": "2025-05-30T06:01:21.138Z"
      },
      {
        "duration": 70,
        "start_time": "2025-05-30T06:03:35.794Z"
      },
      {
        "duration": 2576,
        "start_time": "2025-05-30T06:04:29.772Z"
      },
      {
        "duration": 74,
        "start_time": "2025-05-30T06:05:16.062Z"
      },
      {
        "duration": 9207,
        "start_time": "2025-05-30T15:48:29.828Z"
      },
      {
        "duration": 894,
        "start_time": "2025-05-30T15:48:39.037Z"
      },
      {
        "duration": 154,
        "start_time": "2025-05-30T15:48:39.934Z"
      },
      {
        "duration": 502410,
        "start_time": "2025-05-30T15:48:40.090Z"
      },
      {
        "duration": 33,
        "start_time": "2025-05-30T15:57:02.503Z"
      },
      {
        "duration": 27125,
        "start_time": "2025-05-30T15:57:02.538Z"
      },
      {
        "duration": 26333,
        "start_time": "2025-05-30T15:57:29.664Z"
      },
      {
        "duration": 167849,
        "start_time": "2025-05-30T15:57:55.998Z"
      },
      {
        "duration": 77,
        "start_time": "2025-05-30T16:00:43.848Z"
      },
      {
        "duration": 77,
        "start_time": "2025-05-30T16:34:21.870Z"
      },
      {
        "duration": 71,
        "start_time": "2025-05-30T16:34:57.232Z"
      },
      {
        "duration": 97,
        "start_time": "2025-05-30T16:40:14.676Z"
      },
      {
        "duration": 55,
        "start_time": "2025-05-30T16:44:15.356Z"
      },
      {
        "duration": 19,
        "start_time": "2025-05-30T16:44:40.808Z"
      }
    ],
    "kernelspec": {
      "display_name": "Python 3 (ipykernel)",
      "language": "python",
      "name": "python3"
    },
    "language_info": {
      "codemirror_mode": {
        "name": "ipython",
        "version": 3
      },
      "file_extension": ".py",
      "mimetype": "text/x-python",
      "name": "python",
      "nbconvert_exporter": "python",
      "pygments_lexer": "ipython3",
      "version": "3.9.5"
    },
    "toc": {
      "base_numbering": 1,
      "nav_menu": {},
      "number_sections": true,
      "sideBar": true,
      "skip_h1_title": true,
      "title_cell": "Содержание",
      "title_sidebar": "Contents",
      "toc_cell": true,
      "toc_position": {
        "height": "calc(100% - 180px)",
        "left": "10px",
        "top": "150px",
        "width": "302.391px"
      },
      "toc_section_display": true,
      "toc_window_display": true
    },
    "colab": {
      "provenance": [],
      "toc_visible": true
    }
  },
  "nbformat": 4,
  "nbformat_minor": 0
}