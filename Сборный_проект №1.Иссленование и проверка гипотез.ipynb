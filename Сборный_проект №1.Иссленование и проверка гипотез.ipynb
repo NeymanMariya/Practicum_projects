{
  "cells": [
    {
      "cell_type": "markdown",
      "id": "df37fc77",
      "metadata": {
        "id": "df37fc77"
      },
      "source": [
        "## Сборный проет по исследованию  \n",
        "данных интернет-магазина «Стримчик» по продаже компьютерных игр по всему миру."
      ]
    },
    {
      "cell_type": "markdown",
      "id": "780168fa",
      "metadata": {
        "id": "780168fa"
      },
      "source": [
        " **Описание проекта:**  \n",
        "Нужно провести исследования данных по продаже игр из открытых источников.  \n",
        "Данные содержат информацию до 2016 года о продажах игр, названия игр, год выхода, оценку пользователей и экспертов, жанры и платформы.   \n",
        "\n",
        " **Цель исследования** : на основе данных о играх и их продажах необходимо:\n",
        "- отработать принцип работы с данными;  \n",
        "- выявить определяющие успешность игры закономерности;    \n",
        "- сделать ставку на потенциально популярный продукт и спланировать рекламные кампании.  \n",
        "  \n",
        "Данные результатов анализа и проверок гипотез помогут найти верные решения, которые смогут повысить выручку и будут способствовать росту бизнеса по продаже видеоигр."
      ]
    },
    {
      "cell_type": "markdown",
      "id": "941f42d6",
      "metadata": {
        "id": "941f42d6"
      },
      "source": [
        "# **Шаг №1. Загрузка данных**"
      ]
    },
    {
      "cell_type": "code",
      "execution_count": null,
      "id": "2bfe9814",
      "metadata": {
        "id": "2bfe9814"
      },
      "outputs": [],
      "source": [
        "#импортируем необходимые для проведения стат. анализа библиотеки\n",
        "import pandas as pd\n",
        "\n",
        "#import seaborn as sns\n",
        "#import plotly.express as px\n",
        "import numpy as np\n",
        "from scipy import stats as st\n",
        "import matplotlib.pyplot as plt\n",
        "\n",
        "import seaborn as sns"
      ]
    },
    {
      "cell_type": "code",
      "execution_count": null,
      "id": "e0d42680",
      "metadata": {
        "id": "e0d42680"
      },
      "outputs": [],
      "source": [
        "#считываю файлы с данными и записываю датасеты и  их в соответствующие переменные\n",
        "try:\n",
        "    games = pd.read_csv('games.csv', engine = 'python')\n",
        "except:\n",
        "    games = pd.read_csv('https://code.s3.yandex.net/datasets/games.csv')"
      ]
    },
    {
      "cell_type": "code",
      "execution_count": null,
      "id": "bf15002b",
      "metadata": {
        "id": "bf15002b",
        "outputId": "d4bc18a8-b0fd-4459-d1e3-a5eb7cf13932"
      },
      "outputs": [
        {
          "data": {
            "text/html": [
              "<div>\n",
              "<style scoped>\n",
              "    .dataframe tbody tr th:only-of-type {\n",
              "        vertical-align: middle;\n",
              "    }\n",
              "\n",
              "    .dataframe tbody tr th {\n",
              "        vertical-align: top;\n",
              "    }\n",
              "\n",
              "    .dataframe thead th {\n",
              "        text-align: right;\n",
              "    }\n",
              "</style>\n",
              "<table border=\"1\" class=\"dataframe\">\n",
              "  <thead>\n",
              "    <tr style=\"text-align: right;\">\n",
              "      <th></th>\n",
              "      <th>Unnamed: 0</th>\n",
              "      <th>Name</th>\n",
              "      <th>Platform</th>\n",
              "      <th>Year_of_Release</th>\n",
              "      <th>Genre</th>\n",
              "      <th>NA_sales</th>\n",
              "      <th>EU_sales</th>\n",
              "      <th>JP_sales</th>\n",
              "      <th>Other_sales</th>\n",
              "      <th>Critic_Score</th>\n",
              "      <th>User_Score</th>\n",
              "      <th>Rating</th>\n",
              "    </tr>\n",
              "  </thead>\n",
              "  <tbody>\n",
              "    <tr>\n",
              "      <th>0</th>\n",
              "      <td>0</td>\n",
              "      <td>Wii Sports</td>\n",
              "      <td>Wii</td>\n",
              "      <td>2006.0</td>\n",
              "      <td>Sports</td>\n",
              "      <td>41.36</td>\n",
              "      <td>28.96</td>\n",
              "      <td>3.77</td>\n",
              "      <td>8.45</td>\n",
              "      <td>76.0</td>\n",
              "      <td>8</td>\n",
              "      <td>E</td>\n",
              "    </tr>\n",
              "    <tr>\n",
              "      <th>1</th>\n",
              "      <td>1</td>\n",
              "      <td>Super Mario Bros.</td>\n",
              "      <td>NES</td>\n",
              "      <td>1985.0</td>\n",
              "      <td>Platform</td>\n",
              "      <td>29.08</td>\n",
              "      <td>3.58</td>\n",
              "      <td>6.81</td>\n",
              "      <td>0.77</td>\n",
              "      <td>NaN</td>\n",
              "      <td>NaN</td>\n",
              "      <td>NaN</td>\n",
              "    </tr>\n",
              "    <tr>\n",
              "      <th>2</th>\n",
              "      <td>2</td>\n",
              "      <td>Mario Kart Wii</td>\n",
              "      <td>Wii</td>\n",
              "      <td>2008.0</td>\n",
              "      <td>Racing</td>\n",
              "      <td>15.68</td>\n",
              "      <td>12.76</td>\n",
              "      <td>3.79</td>\n",
              "      <td>3.29</td>\n",
              "      <td>82.0</td>\n",
              "      <td>8.3</td>\n",
              "      <td>E</td>\n",
              "    </tr>\n",
              "    <tr>\n",
              "      <th>3</th>\n",
              "      <td>3</td>\n",
              "      <td>Wii Sports Resort</td>\n",
              "      <td>Wii</td>\n",
              "      <td>2009.0</td>\n",
              "      <td>Sports</td>\n",
              "      <td>15.61</td>\n",
              "      <td>10.93</td>\n",
              "      <td>3.28</td>\n",
              "      <td>2.95</td>\n",
              "      <td>80.0</td>\n",
              "      <td>8</td>\n",
              "      <td>E</td>\n",
              "    </tr>\n",
              "    <tr>\n",
              "      <th>4</th>\n",
              "      <td>4</td>\n",
              "      <td>Pokemon Red/Pokemon Blue</td>\n",
              "      <td>GB</td>\n",
              "      <td>1996.0</td>\n",
              "      <td>Role-Playing</td>\n",
              "      <td>11.27</td>\n",
              "      <td>8.89</td>\n",
              "      <td>10.22</td>\n",
              "      <td>1.00</td>\n",
              "      <td>NaN</td>\n",
              "      <td>NaN</td>\n",
              "      <td>NaN</td>\n",
              "    </tr>\n",
              "    <tr>\n",
              "      <th>...</th>\n",
              "      <td>...</td>\n",
              "      <td>...</td>\n",
              "      <td>...</td>\n",
              "      <td>...</td>\n",
              "      <td>...</td>\n",
              "      <td>...</td>\n",
              "      <td>...</td>\n",
              "      <td>...</td>\n",
              "      <td>...</td>\n",
              "      <td>...</td>\n",
              "      <td>...</td>\n",
              "      <td>...</td>\n",
              "    </tr>\n",
              "    <tr>\n",
              "      <th>16710</th>\n",
              "      <td>16710</td>\n",
              "      <td>Samurai Warriors: Sanada Maru</td>\n",
              "      <td>PS3</td>\n",
              "      <td>2016.0</td>\n",
              "      <td>Action</td>\n",
              "      <td>0.00</td>\n",
              "      <td>0.00</td>\n",
              "      <td>0.01</td>\n",
              "      <td>0.00</td>\n",
              "      <td>NaN</td>\n",
              "      <td>NaN</td>\n",
              "      <td>NaN</td>\n",
              "    </tr>\n",
              "    <tr>\n",
              "      <th>16711</th>\n",
              "      <td>16711</td>\n",
              "      <td>LMA Manager 2007</td>\n",
              "      <td>X360</td>\n",
              "      <td>2006.0</td>\n",
              "      <td>Sports</td>\n",
              "      <td>0.00</td>\n",
              "      <td>0.01</td>\n",
              "      <td>0.00</td>\n",
              "      <td>0.00</td>\n",
              "      <td>NaN</td>\n",
              "      <td>NaN</td>\n",
              "      <td>NaN</td>\n",
              "    </tr>\n",
              "    <tr>\n",
              "      <th>16712</th>\n",
              "      <td>16712</td>\n",
              "      <td>Haitaka no Psychedelica</td>\n",
              "      <td>PSV</td>\n",
              "      <td>2016.0</td>\n",
              "      <td>Adventure</td>\n",
              "      <td>0.00</td>\n",
              "      <td>0.00</td>\n",
              "      <td>0.01</td>\n",
              "      <td>0.00</td>\n",
              "      <td>NaN</td>\n",
              "      <td>NaN</td>\n",
              "      <td>NaN</td>\n",
              "    </tr>\n",
              "    <tr>\n",
              "      <th>16713</th>\n",
              "      <td>16713</td>\n",
              "      <td>Spirits &amp; Spells</td>\n",
              "      <td>GBA</td>\n",
              "      <td>2003.0</td>\n",
              "      <td>Platform</td>\n",
              "      <td>0.01</td>\n",
              "      <td>0.00</td>\n",
              "      <td>0.00</td>\n",
              "      <td>0.00</td>\n",
              "      <td>NaN</td>\n",
              "      <td>NaN</td>\n",
              "      <td>NaN</td>\n",
              "    </tr>\n",
              "    <tr>\n",
              "      <th>16714</th>\n",
              "      <td>16714</td>\n",
              "      <td>Winning Post 8 2016</td>\n",
              "      <td>PSV</td>\n",
              "      <td>2016.0</td>\n",
              "      <td>Simulation</td>\n",
              "      <td>0.00</td>\n",
              "      <td>0.00</td>\n",
              "      <td>0.01</td>\n",
              "      <td>0.00</td>\n",
              "      <td>NaN</td>\n",
              "      <td>NaN</td>\n",
              "      <td>NaN</td>\n",
              "    </tr>\n",
              "  </tbody>\n",
              "</table>\n",
              "<p>16715 rows × 12 columns</p>\n",
              "</div>"
            ],
            "text/plain": [
              "       Unnamed: 0                           Name Platform  Year_of_Release  \\\n",
              "0               0                     Wii Sports      Wii           2006.0   \n",
              "1               1              Super Mario Bros.      NES           1985.0   \n",
              "2               2                 Mario Kart Wii      Wii           2008.0   \n",
              "3               3              Wii Sports Resort      Wii           2009.0   \n",
              "4               4       Pokemon Red/Pokemon Blue       GB           1996.0   \n",
              "...           ...                            ...      ...              ...   \n",
              "16710       16710  Samurai Warriors: Sanada Maru      PS3           2016.0   \n",
              "16711       16711               LMA Manager 2007     X360           2006.0   \n",
              "16712       16712        Haitaka no Psychedelica      PSV           2016.0   \n",
              "16713       16713               Spirits & Spells      GBA           2003.0   \n",
              "16714       16714            Winning Post 8 2016      PSV           2016.0   \n",
              "\n",
              "              Genre  NA_sales  EU_sales  JP_sales  Other_sales  Critic_Score  \\\n",
              "0            Sports     41.36     28.96      3.77         8.45          76.0   \n",
              "1          Platform     29.08      3.58      6.81         0.77           NaN   \n",
              "2            Racing     15.68     12.76      3.79         3.29          82.0   \n",
              "3            Sports     15.61     10.93      3.28         2.95          80.0   \n",
              "4      Role-Playing     11.27      8.89     10.22         1.00           NaN   \n",
              "...             ...       ...       ...       ...          ...           ...   \n",
              "16710        Action      0.00      0.00      0.01         0.00           NaN   \n",
              "16711        Sports      0.00      0.01      0.00         0.00           NaN   \n",
              "16712     Adventure      0.00      0.00      0.01         0.00           NaN   \n",
              "16713      Platform      0.01      0.00      0.00         0.00           NaN   \n",
              "16714    Simulation      0.00      0.00      0.01         0.00           NaN   \n",
              "\n",
              "      User_Score Rating  \n",
              "0              8      E  \n",
              "1            NaN    NaN  \n",
              "2            8.3      E  \n",
              "3              8      E  \n",
              "4            NaN    NaN  \n",
              "...          ...    ...  \n",
              "16710        NaN    NaN  \n",
              "16711        NaN    NaN  \n",
              "16712        NaN    NaN  \n",
              "16713        NaN    NaN  \n",
              "16714        NaN    NaN  \n",
              "\n",
              "[16715 rows x 12 columns]"
            ]
          },
          "metadata": {},
          "output_type": "display_data"
        },
        {
          "name": "stdout",
          "output_type": "stream",
          "text": [
            "<class 'pandas.core.frame.DataFrame'>\n",
            "RangeIndex: 16715 entries, 0 to 16714\n",
            "Data columns (total 12 columns):\n",
            " #   Column           Non-Null Count  Dtype  \n",
            "---  ------           --------------  -----  \n",
            " 0   Unnamed: 0       16715 non-null  int64  \n",
            " 1   Name             16713 non-null  object \n",
            " 2   Platform         16715 non-null  object \n",
            " 3   Year_of_Release  16446 non-null  float64\n",
            " 4   Genre            16713 non-null  object \n",
            " 5   NA_sales         16715 non-null  float64\n",
            " 6   EU_sales         16715 non-null  float64\n",
            " 7   JP_sales         16715 non-null  float64\n",
            " 8   Other_sales      16715 non-null  float64\n",
            " 9   Critic_Score     8137 non-null   float64\n",
            " 10  User_Score       10014 non-null  object \n",
            " 11  Rating           9949 non-null   object \n",
            "dtypes: float64(6), int64(1), object(5)\n",
            "memory usage: 1.5+ MB\n"
          ]
        }
      ],
      "source": [
        "display (games)\n",
        "games.info()"
      ]
    },
    {
      "cell_type": "markdown",
      "id": "9578676b",
      "metadata": {
        "id": "9578676b"
      },
      "source": [
        "**Выводы:**  \n",
        "\n",
        "Данные по играм загружены,в датасет games.   \n",
        "В ходе первого этапа мы ознакомились с общей информацией, проверили данные на предмет пропусков и корректности типов данных.   \n",
        "При загрузки тип данных data был автоматически переведен в тип дата python. В третьем датасете представлена общая информация о параметрах Подписок - free и ultra  \n",
        "\n",
        "Названия столбцов в неправильном регистре, в данных есть пропуски, и часть типов данных не корретна. Устраним пропуски, исправим тип данных, найдем дубликаты на следующем этапе работы с данными."
      ]
    },
    {
      "cell_type": "markdown",
      "id": "662bdd05",
      "metadata": {
        "id": "662bdd05"
      },
      "source": [
        "## **Шаг №2. Подготовка данных**"
      ]
    },
    {
      "cell_type": "code",
      "execution_count": null,
      "id": "67687829",
      "metadata": {
        "id": "67687829",
        "outputId": "18c64303-b6de-40d6-b17a-052cdf8d0c5f"
      },
      "outputs": [
        {
          "name": "stdout",
          "output_type": "stream",
          "text": [
            "<class 'pandas.core.frame.DataFrame'>\n",
            "RangeIndex: 16715 entries, 0 to 16714\n",
            "Data columns (total 12 columns):\n",
            " #   Column           Non-Null Count  Dtype  \n",
            "---  ------           --------------  -----  \n",
            " 0   unnamed: 0       16715 non-null  int64  \n",
            " 1   name             16713 non-null  object \n",
            " 2   platform         16715 non-null  object \n",
            " 3   year_of_release  16446 non-null  float64\n",
            " 4   genre            16713 non-null  object \n",
            " 5   na_sales         16715 non-null  float64\n",
            " 6   eu_sales         16715 non-null  float64\n",
            " 7   jp_sales         16715 non-null  float64\n",
            " 8   other_sales      16715 non-null  float64\n",
            " 9   critic_score     8137 non-null   float64\n",
            " 10  user_score       10014 non-null  object \n",
            " 11  rating           9949 non-null   object \n",
            "dtypes: float64(6), int64(1), object(5)\n",
            "memory usage: 1.5+ MB\n"
          ]
        }
      ],
      "source": [
        "#приведем названия столбцов к нижнему регистру\n",
        "#games = games.rename(columns={'Name': 'name', 'Platform': 'platform', 'Year_of_Release': 'year_of_release',\n",
        "#                              'Genre': 'genre', 'NA_sales': 'na_sales', 'EU_sales': 'eu_sales',\n",
        "#                              'JP_sales': 'jp_sales', 'Other_sales': 'other_sales', 'User_Score': 'user_score',\n",
        "#                              'Critic_Score': 'critic_score', 'Rating': 'rating'})\n",
        "games.rename(columns=str.lower)\n",
        "games.columns = map(str.lower, games.columns)\n",
        "games.info()"
      ]
    },
    {
      "cell_type": "markdown",
      "id": "2ae2b9ab",
      "metadata": {
        "id": "2ae2b9ab"
      },
      "source": [
        "<div class=\"alert alert-warning\" style=\"border-radius: 10px; box-shadow: 2px 2px 2px; border: 1px solid; padding: 10px \">\n",
        "<b>Комментарий ревьюера v.2</b>\n",
        "    \n",
        "📝\n",
        "Ты молодец, что привела названия столбцов к нижнему регистру! Однако есть более простой способ: используй `games.rename(columns=str.lower)`. Это автоматически преобразует все названия столбцов, и тебе не придётся перечислять их вручную. Такой подход экономит время и снижает риск ошибок. Попробуй! 😊\n",
        "</div>"
      ]
    },
    {
      "cell_type": "code",
      "execution_count": null,
      "id": "18919211",
      "metadata": {
        "id": "18919211",
        "outputId": "8e7629c3-9580-4c8c-ed0d-bb10a4db3db3"
      },
      "outputs": [
        {
          "data": {
            "text/plain": [
              "0"
            ]
          },
          "metadata": {},
          "output_type": "display_data"
        }
      ],
      "source": [
        "#проверим, есть ли в датасете строки - полные дубликаты\n",
        "display (games.duplicated().sum())\n",
        "#games = games.drop_duplicates()"
      ]
    },
    {
      "cell_type": "code",
      "execution_count": null,
      "id": "73f5076e",
      "metadata": {
        "id": "73f5076e",
        "outputId": "3afb9fd2-2870-4b68-f161-291fd37c333b"
      },
      "outputs": [
        {
          "data": {
            "text/plain": [
              "False    16446\n",
              "True       269\n",
              "Name: year_of_release, dtype: int64"
            ]
          },
          "metadata": {},
          "output_type": "display_data"
        },
        {
          "data": {
            "text/plain": [
              "True     8578\n",
              "False    8137\n",
              "Name: critic_score, dtype: int64"
            ]
          },
          "metadata": {},
          "output_type": "display_data"
        },
        {
          "data": {
            "text/plain": [
              "False    10014\n",
              "True      6701\n",
              "Name: user_score, dtype: int64"
            ]
          },
          "metadata": {},
          "output_type": "display_data"
        },
        {
          "data": {
            "text/plain": [
              "False    16713\n",
              "True         2\n",
              "Name: genre, dtype: int64"
            ]
          },
          "metadata": {},
          "output_type": "display_data"
        },
        {
          "data": {
            "text/plain": [
              "False    9949\n",
              "True     6766\n",
              "Name: rating, dtype: int64"
            ]
          },
          "metadata": {},
          "output_type": "display_data"
        },
        {
          "data": {
            "text/plain": [
              "False    16713\n",
              "True         2\n",
              "Name: name, dtype: int64"
            ]
          },
          "metadata": {},
          "output_type": "display_data"
        }
      ],
      "source": [
        "#В датасете 11 параметров, в 6-ти из них обнаружены пропуски в данных\n",
        "display (games['year_of_release'].isna().value_counts())\n",
        "display (games['critic_score'].isna().value_counts())\n",
        "display (games['user_score'].isna().value_counts())\n",
        "display (games['genre'].isna().value_counts())\n",
        "display (games['rating'].isna().value_counts())\n",
        "display (games['name'].isna().value_counts())\n",
        "\n",
        "#games['Year_of_Release'] = games['Year_of_Release'].astype(int)\n",
        "#games['Year_of_Release'] = pd.to_datetime(games['Year_of_Release'], format='%Y')"
      ]
    },
    {
      "cell_type": "markdown",
      "id": "c28d060a",
      "metadata": {
        "id": "c28d060a"
      },
      "source": [
        "<div class=\"alert alert-info\" style=\"border-radius: 10px; box-shadow: 2px 2px 2px; border: 1px solid; padding: 10px \">\n",
        "<b>Комментарий студента</b>\n",
        "    \n",
        "Добавила проверку. На самом деле - очень информативно выглядит.\n",
        "</div>"
      ]
    },
    {
      "cell_type": "code",
      "execution_count": null,
      "id": "ea634120",
      "metadata": {
        "id": "ea634120",
        "outputId": "c2a61556-ca0a-4c70-a46f-7b4627a07fcd"
      },
      "outputs": [
        {
          "data": {
            "text/html": [
              "<style  type=\"text/css\" >\n",
              "#T_b4cb1_row0_col0,#T_b4cb1_row1_col0,#T_b4cb1_row2_col0,#T_b4cb1_row4_col0,#T_b4cb1_row5_col0,#T_b4cb1_row6_col0,#T_b4cb1_row7_col0,#T_b4cb1_row8_col0{\n",
              "            background-color:  #3b4cc0;\n",
              "            color:  #f1f1f1;\n",
              "        }#T_b4cb1_row3_col0{\n",
              "            background-color:  #4358cb;\n",
              "            color:  #f1f1f1;\n",
              "        }#T_b4cb1_row9_col0{\n",
              "            background-color:  #b40426;\n",
              "            color:  #f1f1f1;\n",
              "        }#T_b4cb1_row10_col0{\n",
              "            background-color:  #f08b6e;\n",
              "            color:  #000000;\n",
              "        }#T_b4cb1_row11_col0{\n",
              "            background-color:  #ef886b;\n",
              "            color:  #000000;\n",
              "        }</style><table id=\"T_b4cb1_\" ><thead>    <tr>        <th class=\"blank level0\" ></th>        <th class=\"col_heading level0 col0\" >0</th>    </tr></thead><tbody>\n",
              "                <tr>\n",
              "                        <th id=\"T_b4cb1_level0_row0\" class=\"row_heading level0 row0\" >unnamed: 0</th>\n",
              "                        <td id=\"T_b4cb1_row0_col0\" class=\"data row0 col0\" >0.000000</td>\n",
              "            </tr>\n",
              "            <tr>\n",
              "                        <th id=\"T_b4cb1_level0_row1\" class=\"row_heading level0 row1\" >name</th>\n",
              "                        <td id=\"T_b4cb1_row1_col0\" class=\"data row1 col0\" >0.000000</td>\n",
              "            </tr>\n",
              "            <tr>\n",
              "                        <th id=\"T_b4cb1_level0_row2\" class=\"row_heading level0 row2\" >platform</th>\n",
              "                        <td id=\"T_b4cb1_row2_col0\" class=\"data row2 col0\" >0.000000</td>\n",
              "            </tr>\n",
              "            <tr>\n",
              "                        <th id=\"T_b4cb1_level0_row3\" class=\"row_heading level0 row3\" >year_of_release</th>\n",
              "                        <td id=\"T_b4cb1_row3_col0\" class=\"data row3 col0\" >1.600000</td>\n",
              "            </tr>\n",
              "            <tr>\n",
              "                        <th id=\"T_b4cb1_level0_row4\" class=\"row_heading level0 row4\" >genre</th>\n",
              "                        <td id=\"T_b4cb1_row4_col0\" class=\"data row4 col0\" >0.000000</td>\n",
              "            </tr>\n",
              "            <tr>\n",
              "                        <th id=\"T_b4cb1_level0_row5\" class=\"row_heading level0 row5\" >na_sales</th>\n",
              "                        <td id=\"T_b4cb1_row5_col0\" class=\"data row5 col0\" >0.000000</td>\n",
              "            </tr>\n",
              "            <tr>\n",
              "                        <th id=\"T_b4cb1_level0_row6\" class=\"row_heading level0 row6\" >eu_sales</th>\n",
              "                        <td id=\"T_b4cb1_row6_col0\" class=\"data row6 col0\" >0.000000</td>\n",
              "            </tr>\n",
              "            <tr>\n",
              "                        <th id=\"T_b4cb1_level0_row7\" class=\"row_heading level0 row7\" >jp_sales</th>\n",
              "                        <td id=\"T_b4cb1_row7_col0\" class=\"data row7 col0\" >0.000000</td>\n",
              "            </tr>\n",
              "            <tr>\n",
              "                        <th id=\"T_b4cb1_level0_row8\" class=\"row_heading level0 row8\" >other_sales</th>\n",
              "                        <td id=\"T_b4cb1_row8_col0\" class=\"data row8 col0\" >0.000000</td>\n",
              "            </tr>\n",
              "            <tr>\n",
              "                        <th id=\"T_b4cb1_level0_row9\" class=\"row_heading level0 row9\" >critic_score</th>\n",
              "                        <td id=\"T_b4cb1_row9_col0\" class=\"data row9 col0\" >51.300000</td>\n",
              "            </tr>\n",
              "            <tr>\n",
              "                        <th id=\"T_b4cb1_level0_row10\" class=\"row_heading level0 row10\" >user_score</th>\n",
              "                        <td id=\"T_b4cb1_row10_col0\" class=\"data row10 col0\" >40.100000</td>\n",
              "            </tr>\n",
              "            <tr>\n",
              "                        <th id=\"T_b4cb1_level0_row11\" class=\"row_heading level0 row11\" >rating</th>\n",
              "                        <td id=\"T_b4cb1_row11_col0\" class=\"data row11 col0\" >40.500000</td>\n",
              "            </tr>\n",
              "    </tbody></table>"
            ],
            "text/plain": [
              "<pandas.io.formats.style.Styler at 0x7fce3e0c75b0>"
            ]
          },
          "execution_count": 7,
          "metadata": {},
          "output_type": "execute_result"
        }
      ],
      "source": [
        "pd.DataFrame(round(games.isna().mean()*100,1)).style.background_gradient('coolwarm')"
      ]
    },
    {
      "cell_type": "code",
      "execution_count": null,
      "id": "54b5fb64",
      "metadata": {
        "id": "54b5fb64",
        "outputId": "d411d46a-e1f6-458e-870a-2cacff8d1ed2"
      },
      "outputs": [
        {
          "data": {
            "text/plain": [
              "'Количество дублирующихся строк по именам, платформам и году выпуска: '"
            ]
          },
          "metadata": {},
          "output_type": "display_data"
        },
        {
          "data": {
            "text/plain": [
              "2"
            ]
          },
          "metadata": {},
          "output_type": "display_data"
        }
      ],
      "source": [
        "#найдем неявные дубликаты в перечне столбцов, являющихся базовыми для определения объекта - игры\n",
        "#название, год,  платформа и жанр\n",
        "duplicates = games.duplicated(['name', 'platform', 'year_of_release', 'genre']).sum()\n",
        "display('Количество дублирующихся строк по именам, платформам и году выпуска: ', duplicates)"
      ]
    },
    {
      "cell_type": "code",
      "execution_count": null,
      "id": "adb5097a",
      "metadata": {
        "id": "adb5097a",
        "outputId": "7b660432-9077-43f9-f6be-4d5a04c3f970"
      },
      "outputs": [
        {
          "data": {
            "text/plain": [
              "'Количество дублирующихся строк по именам, платформам и году выпуска: '"
            ]
          },
          "metadata": {},
          "output_type": "display_data"
        },
        {
          "data": {
            "text/plain": [
              "0"
            ]
          },
          "metadata": {},
          "output_type": "display_data"
        }
      ],
      "source": [
        "#удалим дубликаты\n",
        "games = games.drop_duplicates(['name', 'platform', 'year_of_release', 'genre'])\n",
        "duplicates = games.duplicated(['name', 'platform', 'year_of_release', 'genre']).sum()\n",
        "display('Количество дублирующихся строк по именам, платформам и году выпуска: ', duplicates)"
      ]
    },
    {
      "cell_type": "code",
      "execution_count": null,
      "id": "e6547e04",
      "metadata": {
        "id": "e6547e04"
      },
      "outputs": [],
      "source": [
        "#удалим пропуски в названиях, т.к. значений таких мало.\n",
        "games['name'] = games['name'].dropna()\n",
        "#games['name'] = games['name'].fillna('noname')\n"
      ]
    },
    {
      "cell_type": "code",
      "execution_count": null,
      "id": "6f286ddf",
      "metadata": {
        "id": "6f286ddf",
        "outputId": "7e02f2f0-0332-44de-96ca-f202ba4869e7"
      },
      "outputs": [
        {
          "data": {
            "text/plain": [
              "Action          3369\n",
              "Sports          2347\n",
              "Misc            1750\n",
              "Role-Playing    1498\n",
              "Shooter         1323\n",
              "Adventure       1303\n",
              "Racing          1249\n",
              "Platform         888\n",
              "Simulation       873\n",
              "Fighting         849\n",
              "Strategy         683\n",
              "Puzzle           580\n",
              "Name: genre, dtype: int64"
            ]
          },
          "metadata": {},
          "output_type": "display_data"
        }
      ],
      "source": [
        "#выведем уникальные жанры, чтобы найти наиболее популярный\n",
        "display(games['genre'].value_counts())"
      ]
    },
    {
      "cell_type": "code",
      "execution_count": null,
      "id": "e390c9d7",
      "metadata": {
        "id": "e390c9d7"
      },
      "outputs": [],
      "source": [
        "#удалим пропуски, т..к. значений этих оч. мало.\n",
        "games['genre'] = games['genre'].dropna()"
      ]
    },
    {
      "cell_type": "code",
      "execution_count": null,
      "id": "37d45245",
      "metadata": {
        "id": "37d45245",
        "outputId": "d6cb6fdf-323b-4d66-864a-91c40d059430"
      },
      "outputs": [
        {
          "data": {
            "text/plain": [
              "11559"
            ]
          },
          "metadata": {},
          "output_type": "display_data"
        }
      ],
      "source": [
        "display (games['name']. nunique() )"
      ]
    },
    {
      "cell_type": "code",
      "execution_count": null,
      "id": "875a52d0",
      "metadata": {
        "id": "875a52d0"
      },
      "outputs": [],
      "source": [
        "#пропусков в годах 269, а всего игр 11560, что составляет 2.33%. Это менее 5%, поэтому удалим пропуски в годах.\n",
        "games = games.dropna(subset=['year_of_release'])"
      ]
    },
    {
      "cell_type": "code",
      "execution_count": null,
      "id": "2f852af8",
      "metadata": {
        "id": "2f852af8",
        "outputId": "5f607a72-db57-4a2a-8b3e-a659a2d46725"
      },
      "outputs": [
        {
          "data": {
            "text/plain": [
              "False    16444\n",
              "Name: year_of_release, dtype: int64"
            ]
          },
          "metadata": {},
          "output_type": "display_data"
        },
        {
          "data": {
            "text/plain": [
              "True     8462\n",
              "False    7982\n",
              "Name: critic_score, dtype: int64"
            ]
          },
          "metadata": {},
          "output_type": "display_data"
        },
        {
          "data": {
            "text/plain": [
              "False    9838\n",
              "True     6606\n",
              "Name: user_score, dtype: int64"
            ]
          },
          "metadata": {},
          "output_type": "display_data"
        },
        {
          "data": {
            "text/plain": [
              "False    16443\n",
              "True         1\n",
              "Name: genre, dtype: int64"
            ]
          },
          "metadata": {},
          "output_type": "display_data"
        },
        {
          "data": {
            "text/plain": [
              "False    9767\n",
              "True     6677\n",
              "Name: rating, dtype: int64"
            ]
          },
          "metadata": {},
          "output_type": "display_data"
        },
        {
          "data": {
            "text/plain": [
              "False    16443\n",
              "True         1\n",
              "Name: name, dtype: int64"
            ]
          },
          "metadata": {},
          "output_type": "display_data"
        }
      ],
      "source": [
        "#посчитаем пропуски в данных\n",
        "display (games['year_of_release'].isna().value_counts())\n",
        "display (games['critic_score'].isna().value_counts())\n",
        "display (games['user_score'].isna().value_counts())\n",
        "display (games['genre'].isna().value_counts())\n",
        "display (games['rating'].isna().value_counts())\n",
        "display (games['name'].isna().value_counts())"
      ]
    },
    {
      "cell_type": "markdown",
      "id": "14f87082",
      "metadata": {
        "id": "14f87082"
      },
      "source": [
        "Пропуски остались в колонках user_score (6606 шт.), critic_score (7982 шт.), rating (6677 шт.). Удалить нельзя, заменить медианой нельзя, нужно их обозначить определенным образом, чтобы удобно было дальше работать"
      ]
    },
    {
      "cell_type": "code",
      "execution_count": null,
      "id": "4f6cb409",
      "metadata": {
        "id": "4f6cb409",
        "outputId": "8f3e1151-f9cb-4282-8c3a-a017cd63cc8f"
      },
      "outputs": [
        {
          "data": {
            "text/plain": [
              "70.0    252\n",
              "71.0    248\n",
              "75.0    240\n",
              "80.0    235\n",
              "73.0    234\n",
              "       ... \n",
              "29.0      3\n",
              "20.0      3\n",
              "13.0      1\n",
              "17.0      1\n",
              "21.0      1\n",
              "Name: critic_score, Length: 81, dtype: int64"
            ]
          },
          "metadata": {},
          "output_type": "display_data"
        },
        {
          "data": {
            "text/plain": [
              "tbd    2376\n",
              "7.8     322\n",
              "8       285\n",
              "8.2     276\n",
              "8.3     252\n",
              "       ... \n",
              "0.9       2\n",
              "1.5       2\n",
              "0.3       2\n",
              "0         1\n",
              "9.7       1\n",
              "Name: user_score, Length: 96, dtype: int64"
            ]
          },
          "metadata": {},
          "output_type": "display_data"
        },
        {
          "data": {
            "text/plain": [
              "E       3920\n",
              "T       2905\n",
              "M       1536\n",
              "E10+    1393\n",
              "EC         8\n",
              "K-A        3\n",
              "RP         1\n",
              "AO         1\n",
              "Name: rating, dtype: int64"
            ]
          },
          "metadata": {},
          "output_type": "display_data"
        }
      ],
      "source": [
        "#подробнее изучим указанные выше столбцы, какие уникальные значения они содержат\n",
        "display (games['critic_score'].value_counts(), games['user_score'].value_counts(),games['rating'].value_counts())"
      ]
    },
    {
      "cell_type": "markdown",
      "id": "48ae629a",
      "metadata": {
        "id": "48ae629a"
      },
      "source": [
        "Видим, что на значение 0 заменить не получится, т.к. такой рейтинг присутствует в выборке и нужно подобрать\n",
        "целочисленное значение, например, -100. Также замечено в колонке user_score значение tbd, которое скорее всего возникло по технической причине,\n",
        "когда объединяли данные из различных источников."
      ]
    },
    {
      "cell_type": "code",
      "execution_count": null,
      "id": "6cc3216a",
      "metadata": {
        "id": "6cc3216a"
      },
      "outputs": [],
      "source": [
        "#Заменим его на -100\n",
        "\n",
        "games['rating'] = games['rating'].fillna('unknown')\n",
        "games['critic_score'] = games['critic_score'].fillna(-100)\n",
        "games['user_score'] = games['user_score'].fillna(-100)\n",
        "games.loc[games['user_score'] == 'tbd', 'user_score'] = -100"
      ]
    },
    {
      "cell_type": "code",
      "execution_count": null,
      "id": "17476982",
      "metadata": {
        "id": "17476982",
        "outputId": "66e8c841-f4d6-4376-dbea-630e364847c7"
      },
      "outputs": [
        {
          "data": {
            "text/plain": [
              "False    16444\n",
              "Name: critic_score, dtype: int64"
            ]
          },
          "metadata": {},
          "output_type": "display_data"
        },
        {
          "data": {
            "text/plain": [
              "False    16444\n",
              "Name: user_score, dtype: int64"
            ]
          },
          "metadata": {},
          "output_type": "display_data"
        },
        {
          "data": {
            "text/plain": [
              "False    16444\n",
              "Name: rating, dtype: int64"
            ]
          },
          "metadata": {},
          "output_type": "display_data"
        },
        {
          "name": "stdout",
          "output_type": "stream",
          "text": [
            "<class 'pandas.core.frame.DataFrame'>\n",
            "Int64Index: 16444 entries, 0 to 16714\n",
            "Data columns (total 12 columns):\n",
            " #   Column           Non-Null Count  Dtype  \n",
            "---  ------           --------------  -----  \n",
            " 0   unnamed: 0       16444 non-null  int64  \n",
            " 1   name             16443 non-null  object \n",
            " 2   platform         16444 non-null  object \n",
            " 3   year_of_release  16444 non-null  float64\n",
            " 4   genre            16443 non-null  object \n",
            " 5   na_sales         16444 non-null  float64\n",
            " 6   eu_sales         16444 non-null  float64\n",
            " 7   jp_sales         16444 non-null  float64\n",
            " 8   other_sales      16444 non-null  float64\n",
            " 9   critic_score     16444 non-null  float64\n",
            " 10  user_score       16444 non-null  object \n",
            " 11  rating           16444 non-null  object \n",
            "dtypes: float64(6), int64(1), object(5)\n",
            "memory usage: 1.6+ MB\n"
          ]
        }
      ],
      "source": [
        "#проверим, устранены ли пропуски в данных\n",
        "display (games['critic_score'].isna().value_counts())\n",
        "display (games['user_score'].isna().value_counts())\n",
        "display (games['rating'].isna().value_counts())\n",
        "games.info()"
      ]
    },
    {
      "cell_type": "markdown",
      "id": "7a1be317",
      "metadata": {
        "id": "7a1be317"
      },
      "source": [
        "Пропуски в данных заполнены"
      ]
    },
    {
      "cell_type": "code",
      "execution_count": null,
      "id": "dd73b6a2",
      "metadata": {
        "id": "dd73b6a2",
        "outputId": "6e30c51a-fbcf-413b-b110-a0d32f4e7e72"
      },
      "outputs": [
        {
          "name": "stdout",
          "output_type": "stream",
          "text": [
            "<class 'pandas.core.frame.DataFrame'>\n",
            "Int64Index: 16444 entries, 0 to 16714\n",
            "Data columns (total 12 columns):\n",
            " #   Column           Non-Null Count  Dtype  \n",
            "---  ------           --------------  -----  \n",
            " 0   unnamed: 0       16444 non-null  int64  \n",
            " 1   name             16443 non-null  object \n",
            " 2   platform         16444 non-null  object \n",
            " 3   year_of_release  16444 non-null  int64  \n",
            " 4   genre            16443 non-null  object \n",
            " 5   na_sales         16444 non-null  float64\n",
            " 6   eu_sales         16444 non-null  float64\n",
            " 7   jp_sales         16444 non-null  float64\n",
            " 8   other_sales      16444 non-null  float64\n",
            " 9   critic_score     16444 non-null  int64  \n",
            " 10  user_score       16444 non-null  float64\n",
            " 11  rating           16444 non-null  object \n",
            "dtypes: float64(5), int64(3), object(4)\n",
            "memory usage: 1.6+ MB\n"
          ]
        }
      ],
      "source": [
        "#скорректируем типы в тех данных, где это уместно\n",
        "games['year_of_release'] = (games['year_of_release']).astype('int')\n",
        "games['critic_score'] = (games['critic_score']).astype('int')\n",
        "games['user_score'] = (games['user_score']).astype('float')\n",
        "games.info()"
      ]
    },
    {
      "cell_type": "markdown",
      "id": "1b4abc33",
      "metadata": {
        "id": "1b4abc33"
      },
      "source": [
        "Посчитаем суммарные продажи во всех регионах и запишите их в отдельный столбец total_sum."
      ]
    },
    {
      "cell_type": "code",
      "execution_count": null,
      "id": "95412172",
      "metadata": {
        "scrolled": true,
        "id": "95412172",
        "outputId": "3ac967f9-7597-4bc3-81f8-1e776063e43e"
      },
      "outputs": [
        {
          "data": {
            "text/html": [
              "<div>\n",
              "<style scoped>\n",
              "    .dataframe tbody tr th:only-of-type {\n",
              "        vertical-align: middle;\n",
              "    }\n",
              "\n",
              "    .dataframe tbody tr th {\n",
              "        vertical-align: top;\n",
              "    }\n",
              "\n",
              "    .dataframe thead th {\n",
              "        text-align: right;\n",
              "    }\n",
              "</style>\n",
              "<table border=\"1\" class=\"dataframe\">\n",
              "  <thead>\n",
              "    <tr style=\"text-align: right;\">\n",
              "      <th></th>\n",
              "      <th>unnamed: 0</th>\n",
              "      <th>name</th>\n",
              "      <th>platform</th>\n",
              "      <th>year_of_release</th>\n",
              "      <th>genre</th>\n",
              "      <th>na_sales</th>\n",
              "      <th>eu_sales</th>\n",
              "      <th>jp_sales</th>\n",
              "      <th>other_sales</th>\n",
              "      <th>critic_score</th>\n",
              "      <th>user_score</th>\n",
              "      <th>rating</th>\n",
              "      <th>total_sum</th>\n",
              "    </tr>\n",
              "  </thead>\n",
              "  <tbody>\n",
              "    <tr>\n",
              "      <th>16700</th>\n",
              "      <td>16700</td>\n",
              "      <td>Mezase!! Tsuri Master DS</td>\n",
              "      <td>DS</td>\n",
              "      <td>2009</td>\n",
              "      <td>Sports</td>\n",
              "      <td>0.00</td>\n",
              "      <td>0.00</td>\n",
              "      <td>0.01</td>\n",
              "      <td>0.0</td>\n",
              "      <td>-100</td>\n",
              "      <td>-100.0</td>\n",
              "      <td>unknown</td>\n",
              "      <td>0.01</td>\n",
              "    </tr>\n",
              "    <tr>\n",
              "      <th>16701</th>\n",
              "      <td>16701</td>\n",
              "      <td>Eiyuu Densetsu: Sora no Kiseki Material Collec...</td>\n",
              "      <td>PSP</td>\n",
              "      <td>2007</td>\n",
              "      <td>Role-Playing</td>\n",
              "      <td>0.00</td>\n",
              "      <td>0.00</td>\n",
              "      <td>0.01</td>\n",
              "      <td>0.0</td>\n",
              "      <td>-100</td>\n",
              "      <td>-100.0</td>\n",
              "      <td>unknown</td>\n",
              "      <td>0.01</td>\n",
              "    </tr>\n",
              "    <tr>\n",
              "      <th>16702</th>\n",
              "      <td>16702</td>\n",
              "      <td>STORM: Frontline Nation</td>\n",
              "      <td>PC</td>\n",
              "      <td>2011</td>\n",
              "      <td>Strategy</td>\n",
              "      <td>0.00</td>\n",
              "      <td>0.01</td>\n",
              "      <td>0.00</td>\n",
              "      <td>0.0</td>\n",
              "      <td>60</td>\n",
              "      <td>7.2</td>\n",
              "      <td>E10+</td>\n",
              "      <td>0.01</td>\n",
              "    </tr>\n",
              "    <tr>\n",
              "      <th>16703</th>\n",
              "      <td>16703</td>\n",
              "      <td>Strawberry Nauts</td>\n",
              "      <td>PSV</td>\n",
              "      <td>2016</td>\n",
              "      <td>Adventure</td>\n",
              "      <td>0.00</td>\n",
              "      <td>0.00</td>\n",
              "      <td>0.01</td>\n",
              "      <td>0.0</td>\n",
              "      <td>-100</td>\n",
              "      <td>-100.0</td>\n",
              "      <td>unknown</td>\n",
              "      <td>0.01</td>\n",
              "    </tr>\n",
              "    <tr>\n",
              "      <th>16704</th>\n",
              "      <td>16704</td>\n",
              "      <td>Plushees</td>\n",
              "      <td>DS</td>\n",
              "      <td>2008</td>\n",
              "      <td>Simulation</td>\n",
              "      <td>0.01</td>\n",
              "      <td>0.00</td>\n",
              "      <td>0.00</td>\n",
              "      <td>0.0</td>\n",
              "      <td>-100</td>\n",
              "      <td>-100.0</td>\n",
              "      <td>E</td>\n",
              "      <td>0.01</td>\n",
              "    </tr>\n",
              "    <tr>\n",
              "      <th>16705</th>\n",
              "      <td>16705</td>\n",
              "      <td>15 Days</td>\n",
              "      <td>PC</td>\n",
              "      <td>2009</td>\n",
              "      <td>Adventure</td>\n",
              "      <td>0.00</td>\n",
              "      <td>0.01</td>\n",
              "      <td>0.00</td>\n",
              "      <td>0.0</td>\n",
              "      <td>63</td>\n",
              "      <td>5.8</td>\n",
              "      <td>unknown</td>\n",
              "      <td>0.01</td>\n",
              "    </tr>\n",
              "    <tr>\n",
              "      <th>16706</th>\n",
              "      <td>16706</td>\n",
              "      <td>Men in Black II: Alien Escape</td>\n",
              "      <td>GC</td>\n",
              "      <td>2003</td>\n",
              "      <td>Shooter</td>\n",
              "      <td>0.01</td>\n",
              "      <td>0.00</td>\n",
              "      <td>0.00</td>\n",
              "      <td>0.0</td>\n",
              "      <td>-100</td>\n",
              "      <td>-100.0</td>\n",
              "      <td>T</td>\n",
              "      <td>0.01</td>\n",
              "    </tr>\n",
              "    <tr>\n",
              "      <th>16707</th>\n",
              "      <td>16707</td>\n",
              "      <td>Aiyoku no Eustia</td>\n",
              "      <td>PSV</td>\n",
              "      <td>2014</td>\n",
              "      <td>Misc</td>\n",
              "      <td>0.00</td>\n",
              "      <td>0.00</td>\n",
              "      <td>0.01</td>\n",
              "      <td>0.0</td>\n",
              "      <td>-100</td>\n",
              "      <td>-100.0</td>\n",
              "      <td>unknown</td>\n",
              "      <td>0.01</td>\n",
              "    </tr>\n",
              "    <tr>\n",
              "      <th>16708</th>\n",
              "      <td>16708</td>\n",
              "      <td>Woody Woodpecker in Crazy Castle 5</td>\n",
              "      <td>GBA</td>\n",
              "      <td>2002</td>\n",
              "      <td>Platform</td>\n",
              "      <td>0.01</td>\n",
              "      <td>0.00</td>\n",
              "      <td>0.00</td>\n",
              "      <td>0.0</td>\n",
              "      <td>-100</td>\n",
              "      <td>-100.0</td>\n",
              "      <td>unknown</td>\n",
              "      <td>0.01</td>\n",
              "    </tr>\n",
              "    <tr>\n",
              "      <th>16709</th>\n",
              "      <td>16709</td>\n",
              "      <td>SCORE International Baja 1000: The Official Game</td>\n",
              "      <td>PS2</td>\n",
              "      <td>2008</td>\n",
              "      <td>Racing</td>\n",
              "      <td>0.00</td>\n",
              "      <td>0.00</td>\n",
              "      <td>0.00</td>\n",
              "      <td>0.0</td>\n",
              "      <td>-100</td>\n",
              "      <td>-100.0</td>\n",
              "      <td>unknown</td>\n",
              "      <td>0.00</td>\n",
              "    </tr>\n",
              "    <tr>\n",
              "      <th>16710</th>\n",
              "      <td>16710</td>\n",
              "      <td>Samurai Warriors: Sanada Maru</td>\n",
              "      <td>PS3</td>\n",
              "      <td>2016</td>\n",
              "      <td>Action</td>\n",
              "      <td>0.00</td>\n",
              "      <td>0.00</td>\n",
              "      <td>0.01</td>\n",
              "      <td>0.0</td>\n",
              "      <td>-100</td>\n",
              "      <td>-100.0</td>\n",
              "      <td>unknown</td>\n",
              "      <td>0.01</td>\n",
              "    </tr>\n",
              "    <tr>\n",
              "      <th>16711</th>\n",
              "      <td>16711</td>\n",
              "      <td>LMA Manager 2007</td>\n",
              "      <td>X360</td>\n",
              "      <td>2006</td>\n",
              "      <td>Sports</td>\n",
              "      <td>0.00</td>\n",
              "      <td>0.01</td>\n",
              "      <td>0.00</td>\n",
              "      <td>0.0</td>\n",
              "      <td>-100</td>\n",
              "      <td>-100.0</td>\n",
              "      <td>unknown</td>\n",
              "      <td>0.01</td>\n",
              "    </tr>\n",
              "    <tr>\n",
              "      <th>16712</th>\n",
              "      <td>16712</td>\n",
              "      <td>Haitaka no Psychedelica</td>\n",
              "      <td>PSV</td>\n",
              "      <td>2016</td>\n",
              "      <td>Adventure</td>\n",
              "      <td>0.00</td>\n",
              "      <td>0.00</td>\n",
              "      <td>0.01</td>\n",
              "      <td>0.0</td>\n",
              "      <td>-100</td>\n",
              "      <td>-100.0</td>\n",
              "      <td>unknown</td>\n",
              "      <td>0.01</td>\n",
              "    </tr>\n",
              "    <tr>\n",
              "      <th>16713</th>\n",
              "      <td>16713</td>\n",
              "      <td>Spirits &amp; Spells</td>\n",
              "      <td>GBA</td>\n",
              "      <td>2003</td>\n",
              "      <td>Platform</td>\n",
              "      <td>0.01</td>\n",
              "      <td>0.00</td>\n",
              "      <td>0.00</td>\n",
              "      <td>0.0</td>\n",
              "      <td>-100</td>\n",
              "      <td>-100.0</td>\n",
              "      <td>unknown</td>\n",
              "      <td>0.01</td>\n",
              "    </tr>\n",
              "    <tr>\n",
              "      <th>16714</th>\n",
              "      <td>16714</td>\n",
              "      <td>Winning Post 8 2016</td>\n",
              "      <td>PSV</td>\n",
              "      <td>2016</td>\n",
              "      <td>Simulation</td>\n",
              "      <td>0.00</td>\n",
              "      <td>0.00</td>\n",
              "      <td>0.01</td>\n",
              "      <td>0.0</td>\n",
              "      <td>-100</td>\n",
              "      <td>-100.0</td>\n",
              "      <td>unknown</td>\n",
              "      <td>0.01</td>\n",
              "    </tr>\n",
              "  </tbody>\n",
              "</table>\n",
              "</div>"
            ],
            "text/plain": [
              "       unnamed: 0                                               name platform  \\\n",
              "16700       16700                           Mezase!! Tsuri Master DS       DS   \n",
              "16701       16701  Eiyuu Densetsu: Sora no Kiseki Material Collec...      PSP   \n",
              "16702       16702                            STORM: Frontline Nation       PC   \n",
              "16703       16703                                   Strawberry Nauts      PSV   \n",
              "16704       16704                                           Plushees       DS   \n",
              "16705       16705                                            15 Days       PC   \n",
              "16706       16706                      Men in Black II: Alien Escape       GC   \n",
              "16707       16707                                   Aiyoku no Eustia      PSV   \n",
              "16708       16708                 Woody Woodpecker in Crazy Castle 5      GBA   \n",
              "16709       16709   SCORE International Baja 1000: The Official Game      PS2   \n",
              "16710       16710                      Samurai Warriors: Sanada Maru      PS3   \n",
              "16711       16711                                   LMA Manager 2007     X360   \n",
              "16712       16712                            Haitaka no Psychedelica      PSV   \n",
              "16713       16713                                   Spirits & Spells      GBA   \n",
              "16714       16714                                Winning Post 8 2016      PSV   \n",
              "\n",
              "       year_of_release         genre  na_sales  eu_sales  jp_sales  \\\n",
              "16700             2009        Sports      0.00      0.00      0.01   \n",
              "16701             2007  Role-Playing      0.00      0.00      0.01   \n",
              "16702             2011      Strategy      0.00      0.01      0.00   \n",
              "16703             2016     Adventure      0.00      0.00      0.01   \n",
              "16704             2008    Simulation      0.01      0.00      0.00   \n",
              "16705             2009     Adventure      0.00      0.01      0.00   \n",
              "16706             2003       Shooter      0.01      0.00      0.00   \n",
              "16707             2014          Misc      0.00      0.00      0.01   \n",
              "16708             2002      Platform      0.01      0.00      0.00   \n",
              "16709             2008        Racing      0.00      0.00      0.00   \n",
              "16710             2016        Action      0.00      0.00      0.01   \n",
              "16711             2006        Sports      0.00      0.01      0.00   \n",
              "16712             2016     Adventure      0.00      0.00      0.01   \n",
              "16713             2003      Platform      0.01      0.00      0.00   \n",
              "16714             2016    Simulation      0.00      0.00      0.01   \n",
              "\n",
              "       other_sales  critic_score  user_score   rating  total_sum  \n",
              "16700          0.0          -100      -100.0  unknown       0.01  \n",
              "16701          0.0          -100      -100.0  unknown       0.01  \n",
              "16702          0.0            60         7.2     E10+       0.01  \n",
              "16703          0.0          -100      -100.0  unknown       0.01  \n",
              "16704          0.0          -100      -100.0        E       0.01  \n",
              "16705          0.0            63         5.8  unknown       0.01  \n",
              "16706          0.0          -100      -100.0        T       0.01  \n",
              "16707          0.0          -100      -100.0  unknown       0.01  \n",
              "16708          0.0          -100      -100.0  unknown       0.01  \n",
              "16709          0.0          -100      -100.0  unknown       0.00  \n",
              "16710          0.0          -100      -100.0  unknown       0.01  \n",
              "16711          0.0          -100      -100.0  unknown       0.01  \n",
              "16712          0.0          -100      -100.0  unknown       0.01  \n",
              "16713          0.0          -100      -100.0  unknown       0.01  \n",
              "16714          0.0          -100      -100.0  unknown       0.01  "
            ]
          },
          "metadata": {},
          "output_type": "display_data"
        }
      ],
      "source": [
        "games ['total_sum'] = games['na_sales'] + games['eu_sales'] + games['jp_sales'] + games['other_sales']\n",
        "# проверим, получившуюся таблицу\n",
        "display(games.tail(15))"
      ]
    },
    {
      "cell_type": "markdown",
      "id": "4b4ddfed",
      "metadata": {
        "id": "4b4ddfed"
      },
      "source": [
        "**Выводы:**\n",
        "В ходе подготовки данных, были найдены и устранены дубликаты (неявные) и пропуски в данных в датасете.  \n",
        "Также найденные ошибочные данные, скорее всего внесенные некорректно из-то технической ошибки.\n",
        "Скорректировали типы данных, там где это необходимо для удобства дальнейшей работы с ними.  \n",
        "Добавлен новый столбец с суммой продаж по всем регионам."
      ]
    },
    {
      "cell_type": "markdown",
      "id": "4f3979e4",
      "metadata": {
        "id": "4f3979e4"
      },
      "source": [
        "## **Шаг 3. Исследовательский анализ данных**"
      ]
    },
    {
      "cell_type": "markdown",
      "id": "6e115b12",
      "metadata": {
        "id": "6e115b12"
      },
      "source": [
        "3.1. Посмотрите, сколько игр выпускалось в разные годы. Важны ли данные за все периоды?"
      ]
    },
    {
      "cell_type": "code",
      "execution_count": null,
      "id": "d525732d",
      "metadata": {
        "id": "d525732d",
        "outputId": "01c37ad6-0a2f-48c4-ee55-9c7fb55ad7b7"
      },
      "outputs": [
        {
          "data": {
            "text/html": [
              "<div>\n",
              "<style scoped>\n",
              "    .dataframe tbody tr th:only-of-type {\n",
              "        vertical-align: middle;\n",
              "    }\n",
              "\n",
              "    .dataframe tbody tr th {\n",
              "        vertical-align: top;\n",
              "    }\n",
              "\n",
              "    .dataframe thead th {\n",
              "        text-align: right;\n",
              "    }\n",
              "</style>\n",
              "<table border=\"1\" class=\"dataframe\">\n",
              "  <thead>\n",
              "    <tr style=\"text-align: right;\">\n",
              "      <th></th>\n",
              "      <th>game_count</th>\n",
              "      <th>year</th>\n",
              "    </tr>\n",
              "    <tr>\n",
              "      <th>year_of_release</th>\n",
              "      <th></th>\n",
              "      <th></th>\n",
              "    </tr>\n",
              "  </thead>\n",
              "  <tbody>\n",
              "    <tr>\n",
              "      <th>1980</th>\n",
              "      <td>9</td>\n",
              "      <td>1980</td>\n",
              "    </tr>\n",
              "    <tr>\n",
              "      <th>1981</th>\n",
              "      <td>46</td>\n",
              "      <td>1981</td>\n",
              "    </tr>\n",
              "    <tr>\n",
              "      <th>1982</th>\n",
              "      <td>36</td>\n",
              "      <td>1982</td>\n",
              "    </tr>\n",
              "    <tr>\n",
              "      <th>1983</th>\n",
              "      <td>17</td>\n",
              "      <td>1983</td>\n",
              "    </tr>\n",
              "    <tr>\n",
              "      <th>1984</th>\n",
              "      <td>14</td>\n",
              "      <td>1984</td>\n",
              "    </tr>\n",
              "    <tr>\n",
              "      <th>1985</th>\n",
              "      <td>14</td>\n",
              "      <td>1985</td>\n",
              "    </tr>\n",
              "    <tr>\n",
              "      <th>1986</th>\n",
              "      <td>21</td>\n",
              "      <td>1986</td>\n",
              "    </tr>\n",
              "    <tr>\n",
              "      <th>1987</th>\n",
              "      <td>16</td>\n",
              "      <td>1987</td>\n",
              "    </tr>\n",
              "    <tr>\n",
              "      <th>1988</th>\n",
              "      <td>15</td>\n",
              "      <td>1988</td>\n",
              "    </tr>\n",
              "    <tr>\n",
              "      <th>1989</th>\n",
              "      <td>17</td>\n",
              "      <td>1989</td>\n",
              "    </tr>\n",
              "    <tr>\n",
              "      <th>1990</th>\n",
              "      <td>16</td>\n",
              "      <td>1990</td>\n",
              "    </tr>\n",
              "    <tr>\n",
              "      <th>1991</th>\n",
              "      <td>41</td>\n",
              "      <td>1991</td>\n",
              "    </tr>\n",
              "    <tr>\n",
              "      <th>1992</th>\n",
              "      <td>43</td>\n",
              "      <td>1992</td>\n",
              "    </tr>\n",
              "    <tr>\n",
              "      <th>1993</th>\n",
              "      <td>60</td>\n",
              "      <td>1993</td>\n",
              "    </tr>\n",
              "    <tr>\n",
              "      <th>1994</th>\n",
              "      <td>121</td>\n",
              "      <td>1994</td>\n",
              "    </tr>\n",
              "    <tr>\n",
              "      <th>1995</th>\n",
              "      <td>219</td>\n",
              "      <td>1995</td>\n",
              "    </tr>\n",
              "    <tr>\n",
              "      <th>1996</th>\n",
              "      <td>263</td>\n",
              "      <td>1996</td>\n",
              "    </tr>\n",
              "    <tr>\n",
              "      <th>1997</th>\n",
              "      <td>289</td>\n",
              "      <td>1997</td>\n",
              "    </tr>\n",
              "    <tr>\n",
              "      <th>1998</th>\n",
              "      <td>379</td>\n",
              "      <td>1998</td>\n",
              "    </tr>\n",
              "    <tr>\n",
              "      <th>1999</th>\n",
              "      <td>338</td>\n",
              "      <td>1999</td>\n",
              "    </tr>\n",
              "    <tr>\n",
              "      <th>2000</th>\n",
              "      <td>350</td>\n",
              "      <td>2000</td>\n",
              "    </tr>\n",
              "    <tr>\n",
              "      <th>2001</th>\n",
              "      <td>482</td>\n",
              "      <td>2001</td>\n",
              "    </tr>\n",
              "    <tr>\n",
              "      <th>2002</th>\n",
              "      <td>829</td>\n",
              "      <td>2002</td>\n",
              "    </tr>\n",
              "    <tr>\n",
              "      <th>2003</th>\n",
              "      <td>775</td>\n",
              "      <td>2003</td>\n",
              "    </tr>\n",
              "    <tr>\n",
              "      <th>2004</th>\n",
              "      <td>762</td>\n",
              "      <td>2004</td>\n",
              "    </tr>\n",
              "    <tr>\n",
              "      <th>2005</th>\n",
              "      <td>939</td>\n",
              "      <td>2005</td>\n",
              "    </tr>\n",
              "    <tr>\n",
              "      <th>2006</th>\n",
              "      <td>1006</td>\n",
              "      <td>2006</td>\n",
              "    </tr>\n",
              "    <tr>\n",
              "      <th>2007</th>\n",
              "      <td>1197</td>\n",
              "      <td>2007</td>\n",
              "    </tr>\n",
              "    <tr>\n",
              "      <th>2008</th>\n",
              "      <td>1427</td>\n",
              "      <td>2008</td>\n",
              "    </tr>\n",
              "    <tr>\n",
              "      <th>2009</th>\n",
              "      <td>1426</td>\n",
              "      <td>2009</td>\n",
              "    </tr>\n",
              "    <tr>\n",
              "      <th>2010</th>\n",
              "      <td>1255</td>\n",
              "      <td>2010</td>\n",
              "    </tr>\n",
              "    <tr>\n",
              "      <th>2011</th>\n",
              "      <td>1136</td>\n",
              "      <td>2011</td>\n",
              "    </tr>\n",
              "    <tr>\n",
              "      <th>2012</th>\n",
              "      <td>652</td>\n",
              "      <td>2012</td>\n",
              "    </tr>\n",
              "    <tr>\n",
              "      <th>2013</th>\n",
              "      <td>544</td>\n",
              "      <td>2013</td>\n",
              "    </tr>\n",
              "    <tr>\n",
              "      <th>2014</th>\n",
              "      <td>581</td>\n",
              "      <td>2014</td>\n",
              "    </tr>\n",
              "    <tr>\n",
              "      <th>2015</th>\n",
              "      <td>606</td>\n",
              "      <td>2015</td>\n",
              "    </tr>\n",
              "    <tr>\n",
              "      <th>2016</th>\n",
              "      <td>502</td>\n",
              "      <td>2016</td>\n",
              "    </tr>\n",
              "  </tbody>\n",
              "</table>\n",
              "</div>"
            ],
            "text/plain": [
              "                 game_count  year\n",
              "year_of_release                  \n",
              "1980                      9  1980\n",
              "1981                     46  1981\n",
              "1982                     36  1982\n",
              "1983                     17  1983\n",
              "1984                     14  1984\n",
              "1985                     14  1985\n",
              "1986                     21  1986\n",
              "1987                     16  1987\n",
              "1988                     15  1988\n",
              "1989                     17  1989\n",
              "1990                     16  1990\n",
              "1991                     41  1991\n",
              "1992                     43  1992\n",
              "1993                     60  1993\n",
              "1994                    121  1994\n",
              "1995                    219  1995\n",
              "1996                    263  1996\n",
              "1997                    289  1997\n",
              "1998                    379  1998\n",
              "1999                    338  1999\n",
              "2000                    350  2000\n",
              "2001                    482  2001\n",
              "2002                    829  2002\n",
              "2003                    775  2003\n",
              "2004                    762  2004\n",
              "2005                    939  2005\n",
              "2006                   1006  2006\n",
              "2007                   1197  2007\n",
              "2008                   1427  2008\n",
              "2009                   1426  2009\n",
              "2010                   1255  2010\n",
              "2011                   1136  2011\n",
              "2012                    652  2012\n",
              "2013                    544  2013\n",
              "2014                    581  2014\n",
              "2015                    606  2015\n",
              "2016                    502  2016"
            ]
          },
          "metadata": {},
          "output_type": "display_data"
        },
        {
          "data": {
            "image/png": "[encoded data removed]",
            "text/plain": [
              "<Figure size 1440x360 with 1 Axes>"
            ]
          },
          "metadata": {
            "needs_background": "light"
          },
          "output_type": "display_data"
        }
      ],
      "source": [
        "# сделаем группировку в общей таблице и запишем данные в новый датасет\n",
        "name_of_year = games.groupby(['year_of_release']).agg(\n",
        "                                        game_count = ('name', 'count'),\n",
        "                                        year = ('year_of_release', 'max'))\n",
        "#проверим, получившуюся таблицу\n",
        "display(name_of_year)\n",
        "\n",
        "# построим гистограмму распределения кол-ва видеоигр по годам\n",
        "fig, ax = plt.subplots(figsize=(20, 5))\n",
        "sns.barplot (x = 'year', y = 'game_count', data = name_of_year, ax=ax, palette='Set3')\n",
        "plt.title('Гистограмма распределения кол-ва видеоигр по годам')\n",
        "plt.xlabel('Года')\n",
        "plt.ylabel('Кол-во видеоигр, в шт.года')\n",
        "plt.grid()\n",
        "plt.show()\n",
        "#name_of_year.hist()"
      ]
    },
    {
      "cell_type": "markdown",
      "id": "609ae91c",
      "metadata": {
        "id": "609ae91c"
      },
      "source": [
        "В датасете представлены игры с датами выпуска с 1980 по 2016 гг.\n",
        "График распределения выглядит нормально, пик числа игр приходится на 2007-2008г.\n",
        "После 2012г. игр продается меньше, чем в пиковые периоды, но их кол-во с течением времени меняется не сильно.  \n",
        "Данные до 1995 г. не так уже важны для дальнейшего исследования, т.к продавались менее 100 игр в год.и эти игры, скорее всего уже сильно устарели, появилось много новых игр.   "
      ]
    },
    {
      "cell_type": "markdown",
      "id": "09e79a71",
      "metadata": {
        "id": "09e79a71"
      },
      "source": [
        "3.2. Посмотрим, как менялись продажи по платформам."
      ]
    },
    {
      "cell_type": "code",
      "execution_count": null,
      "id": "9079836c",
      "metadata": {
        "id": "9079836c",
        "outputId": "6d5950d5-9953-4cd3-e75a-a4506e5995b4"
      },
      "outputs": [
        {
          "data": {
            "text/plain": [
              "PS4     376\n",
              "PSV     295\n",
              "XOne    228\n",
              "PS3     219\n",
              "3DS     212\n",
              "PC      151\n",
              "X360    111\n",
              "WiiU     73\n",
              "PSP      13\n",
              "Wii      11\n",
              "Name: platform, dtype: int64"
            ]
          },
          "metadata": {},
          "output_type": "display_data"
        },
        {
          "data": {
            "text/html": [
              "<div>\n",
              "<style scoped>\n",
              "    .dataframe tbody tr th:only-of-type {\n",
              "        vertical-align: middle;\n",
              "    }\n",
              "\n",
              "    .dataframe tbody tr th {\n",
              "        vertical-align: top;\n",
              "    }\n",
              "\n",
              "    .dataframe thead th {\n",
              "        text-align: right;\n",
              "    }\n",
              "</style>\n",
              "<table border=\"1\" class=\"dataframe\">\n",
              "  <thead>\n",
              "    <tr style=\"text-align: right;\">\n",
              "      <th></th>\n",
              "      <th>game_count</th>\n",
              "      <th>sum_sale</th>\n",
              "      <th>platform</th>\n",
              "    </tr>\n",
              "    <tr>\n",
              "      <th>platform</th>\n",
              "      <th></th>\n",
              "      <th></th>\n",
              "      <th></th>\n",
              "    </tr>\n",
              "  </thead>\n",
              "  <tbody>\n",
              "    <tr>\n",
              "      <th>PS4</th>\n",
              "      <td>376</td>\n",
              "      <td>288.15</td>\n",
              "      <td>PS4</td>\n",
              "    </tr>\n",
              "    <tr>\n",
              "      <th>XOne</th>\n",
              "      <td>228</td>\n",
              "      <td>140.36</td>\n",
              "      <td>XOne</td>\n",
              "    </tr>\n",
              "    <tr>\n",
              "      <th>3DS</th>\n",
              "      <td>212</td>\n",
              "      <td>86.68</td>\n",
              "      <td>3DS</td>\n",
              "    </tr>\n",
              "    <tr>\n",
              "      <th>PS3</th>\n",
              "      <td>219</td>\n",
              "      <td>68.18</td>\n",
              "      <td>PS3</td>\n",
              "    </tr>\n",
              "    <tr>\n",
              "      <th>X360</th>\n",
              "      <td>111</td>\n",
              "      <td>48.22</td>\n",
              "      <td>X360</td>\n",
              "    </tr>\n",
              "    <tr>\n",
              "      <th>WiiU</th>\n",
              "      <td>73</td>\n",
              "      <td>42.98</td>\n",
              "      <td>WiiU</td>\n",
              "    </tr>\n",
              "    <tr>\n",
              "      <th>PC</th>\n",
              "      <td>151</td>\n",
              "      <td>27.05</td>\n",
              "      <td>PC</td>\n",
              "    </tr>\n",
              "    <tr>\n",
              "      <th>PSV</th>\n",
              "      <td>295</td>\n",
              "      <td>22.40</td>\n",
              "      <td>PSV</td>\n",
              "    </tr>\n",
              "    <tr>\n",
              "      <th>Wii</th>\n",
              "      <td>11</td>\n",
              "      <td>5.07</td>\n",
              "      <td>Wii</td>\n",
              "    </tr>\n",
              "    <tr>\n",
              "      <th>PSP</th>\n",
              "      <td>13</td>\n",
              "      <td>0.36</td>\n",
              "      <td>PSP</td>\n",
              "    </tr>\n",
              "  </tbody>\n",
              "</table>\n",
              "</div>"
            ],
            "text/plain": [
              "          game_count  sum_sale platform\n",
              "platform                               \n",
              "PS4              376    288.15      PS4\n",
              "XOne             228    140.36     XOne\n",
              "3DS              212     86.68      3DS\n",
              "PS3              219     68.18      PS3\n",
              "X360             111     48.22     X360\n",
              "WiiU              73     42.98     WiiU\n",
              "PC               151     27.05       PC\n",
              "PSV              295     22.40      PSV\n",
              "Wii               11      5.07      Wii\n",
              "PSP               13      0.36      PSP"
            ]
          },
          "metadata": {},
          "output_type": "display_data"
        }
      ],
      "source": [
        "#проверим, какие платформы популярны в 2014-2016 гг.\n",
        "games_2014 = games.query(\"year_of_release > 2013\")\n",
        "display(games_2014['platform'].value_counts())\n",
        "\n",
        "\n",
        "# сделаем группировку в общей таблице и запишем данные в новый датасет\n",
        "games_2014 = games_2014.groupby(['platform']).agg(\n",
        "                                        game_count = ('name', 'count'),\n",
        "                                        sum_sale = ('total_sum', 'sum'),\n",
        "                                        platform = ('platform', 'max'),)\n",
        "\n",
        "#проверим, получившуюся таблицу\n",
        "display(games_2014.sort_values('sum_sale', ascending=False))"
      ]
    },
    {
      "cell_type": "markdown",
      "id": "1dbf6b91",
      "metadata": {
        "id": "1dbf6b91"
      },
      "source": [
        "Выберем платформы с наибольшими суммарными продажами и наиболее востребованными за последние 3 года.  \n",
        "Построим распределение по годам.\n",
        "Наиболее продаваемые платформы: PS4, XOne, 3DS, PS3, X360 и PC"
      ]
    },
    {
      "cell_type": "code",
      "execution_count": null,
      "id": "1d4e02bf",
      "metadata": {
        "id": "1d4e02bf",
        "outputId": "97159ea8-e5c4-4680-f765-bd91e34038c5"
      },
      "outputs": [
        {
          "data": {
            "image/png": "[encoded data removed]",
            "text/plain": [
              "<Figure size 1080x720 with 1 Axes>"
            ]
          },
          "metadata": {
            "needs_background": "light"
          },
          "output_type": "display_data"
        }
      ],
      "source": [
        "#запишем в новый датасет данные по самым популярным платформам\n",
        "popular_platform = games.query(\"platform == 'PS4' | platform == 'XOne' | platform == '3DS' | platform == 'PS3' | platform == 'X360' | platform == 'PC'\")\n",
        "\n",
        "# построим гистограмму распределения продаж по разным платформ видеоигр по годам\n",
        "fig, ax = plt.subplots(figsize=(15, 10))\n",
        "sns.barplot (x = 'year_of_release', y = 'total_sum', hue = 'platform', data = popular_platform,\n",
        "             errwidth='0.85', ax=ax, palette='Set3')\n",
        "plt.title('Гистограмма распределения сумм продаж видеоигр по платформам по годам')\n",
        "plt.xlabel('Года')\n",
        "plt.ylabel('Кол-во видеоигр, в шт.года')\n",
        "plt.grid()\n",
        "plt.show()"
      ]
    },
    {
      "cell_type": "markdown",
      "id": "611cc562",
      "metadata": {
        "id": "611cc562"
      },
      "source": [
        "Из гистограммы распределения видно, что в среднем новые платформы появляются и исчезают в среднем за период 10 лет.\n",
        "  Также можно заметить, что после 2013 года в данных остались только 5 платформы. Более популярны PS4, XOne, X360.  3DS - ныне мертвая платформа.    \n",
        "  "
      ]
    },
    {
      "cell_type": "markdown",
      "id": "7379b653",
      "metadata": {
        "id": "7379b653"
      },
      "source": [
        "3.3. Определим актуальный период, подходящий для оценки факторов, влияющих на рост продах игр.  \n",
        "Возьмем данные за последние 5 лет, т.к по графику видно, что выручка имеет пиковые значения в среднем в этом периоде.   \n",
        "Также оставим для исследования только 3 платформы, которые продаются в последние годы.\n",
        "\n",
        "3.4. Удалим неактуальные данные. Подготовим очищенный датасет."
      ]
    },
    {
      "cell_type": "code",
      "execution_count": null,
      "id": "75609ac6",
      "metadata": {
        "id": "75609ac6",
        "outputId": "db096ef0-0cbc-405f-b96e-747e277a674b"
      },
      "outputs": [
        {
          "name": "stdout",
          "output_type": "stream",
          "text": [
            "<class 'pandas.core.frame.DataFrame'>\n",
            "Int64Index: 2069 entries, 16 to 16710\n",
            "Data columns (total 13 columns):\n",
            " #   Column           Non-Null Count  Dtype  \n",
            "---  ------           --------------  -----  \n",
            " 0   unnamed: 0       2069 non-null   int64  \n",
            " 1   name             2069 non-null   object \n",
            " 2   platform         2069 non-null   object \n",
            " 3   year_of_release  2069 non-null   int64  \n",
            " 4   genre            2069 non-null   object \n",
            " 5   na_sales         2069 non-null   float64\n",
            " 6   eu_sales         2069 non-null   float64\n",
            " 7   jp_sales         2069 non-null   float64\n",
            " 8   other_sales      2069 non-null   float64\n",
            " 9   critic_score     2069 non-null   int64  \n",
            " 10  user_score       2069 non-null   float64\n",
            " 11  rating           2069 non-null   object \n",
            " 12  total_sum        2069 non-null   float64\n",
            "dtypes: float64(6), int64(3), object(4)\n",
            "memory usage: 226.3+ KB\n"
          ]
        }
      ],
      "source": [
        "#запишем в новый датасет данные по актуальным годам и всем популярным платформам\n",
        "popular_platform_year = popular_platform.query(\"year_of_release == 2012 | year_of_release == 2013 | year_of_release == 2014 | year_of_release == 2015 | year_of_release == 2016 \")\n",
        "#popular_platform_year = popular_platform_year.query(\"platform == 'PS4' |  platform == 'XOne' |  platform == 'X360'\")\n",
        "popular_platform_year.info()"
      ]
    },
    {
      "cell_type": "markdown",
      "id": "d9346b2c",
      "metadata": {
        "id": "d9346b2c"
      },
      "source": [
        "Получился датасет из 2069 объектов"
      ]
    },
    {
      "cell_type": "markdown",
      "id": "4e90dc7e",
      "metadata": {
        "id": "4e90dc7e"
      },
      "source": [
        "3.5. Определим, какие платформы лидируют по продажам (посмотрим динамику).  \n",
        "Выберем несколько потенциально прибыльных платформ.  "
      ]
    },
    {
      "cell_type": "code",
      "execution_count": null,
      "id": "88fb74f1",
      "metadata": {
        "id": "88fb74f1",
        "outputId": "d471de1d-0aca-4a55-88c8-4f130feb991c"
      },
      "outputs": [
        {
          "data": {
            "image/png": "[encoded data removed]",
            "text/plain": [
              "<Figure size 1080x720 with 1 Axes>"
            ]
          },
          "metadata": {
            "needs_background": "light"
          },
          "output_type": "display_data"
        }
      ],
      "source": [
        "# построим гистограмму распределения продаж по разным платформ видеоигр по годам\n",
        "fig, ax = plt.subplots(figsize=(15, 10))\n",
        "sns.barplot (x = 'year_of_release', y = 'total_sum', hue = 'platform', data = popular_platform_year, errwidth='0.85', ax=ax, palette='Set3')\n",
        "plt.title('Гистограмма распределения сумм продаж видеоигр по платформам по годам')\n",
        "plt.legend(loc='best')\n",
        "plt.xlabel('Года')\n",
        "plt.ylabel('Кол-во видеоигр, в шт.года')\n",
        "plt.grid()\n",
        "plt.show()"
      ]
    },
    {
      "cell_type": "markdown",
      "id": "0902f3ae",
      "metadata": {
        "id": "0902f3ae"
      },
      "source": [
        "**Выводы**  \n",
        "По графику заметен спад продаж игр на всех платформах. Потенциально прибыльные из имеющихся PS4 и XOne."
      ]
    },
    {
      "cell_type": "markdown",
      "id": "7c777279",
      "metadata": {
        "id": "7c777279"
      },
      "source": [
        "3.6. Построим график «ящик с усами» по глобальным продажам игр в разбивке по платформам.\n",
        "\n",
        "\n",
        "\n"
      ]
    },
    {
      "cell_type": "code",
      "execution_count": null,
      "id": "50b37b4f",
      "metadata": {
        "id": "50b37b4f"
      },
      "outputs": [],
      "source": [
        "#построим график размаха с разбивкрй по платформам, чтобы выявить выбросы/аномалии\n",
        "#popular_platform_XOne = popular_platform_year.query(\"platform == 'XOne'\")\n",
        "#plt.boxplot(popular_platform_XOne['total_sum'])\n",
        "#plt.title('График размаха распределения сумм продаж видеоигр по платформе XOne')\n",
        "#plt.grid()\n",
        "#plt.ylim(0, 2)\n",
        "#plt.show()\n",
        "\n",
        "#popular_platform_XOne['total_sum'].describe()"
      ]
    },
    {
      "cell_type": "code",
      "execution_count": null,
      "id": "c04fa4ad",
      "metadata": {
        "id": "c04fa4ad",
        "outputId": "cc22f0cb-d429-4442-87ea-a5e280338487"
      },
      "outputs": [
        {
          "data": {
            "image/png": "[encoded data removed]",
            "text/plain": [
              "<Figure size 936x576 with 1 Axes>"
            ]
          },
          "metadata": {
            "needs_background": "light"
          },
          "output_type": "display_data"
        }
      ],
      "source": [
        "#построим график размаха с разбивкрй по платформам, чтобы выявить выбросы/аномалии\n",
        "\n",
        "plt.figure(figsize=(13, 8))\n",
        "(sns.boxplot(data = popular_platform_year, y = 'total_sum', x='platform')\n",
        "    .set(title = 'Продажи по платформам', xlabel = 'Платформы', ylabel = 'Общие продажи', ylim=(0, 3)))\n",
        "plt.ylim(0, 2)\n",
        "plt.show()\n",
        "\n",
        "\n",
        "#popular_platform_PS4 = popular_platform_year.query(\"platform == 'PS4'\")\n",
        "#plt.boxplot(popular_platform_PS4['total_sum'])\n",
        "#popular_platform_PS4 = popular_platform_year.query(\"platform == 'PS4'\")\n",
        "#plt.boxplot(popular_platform_PS4['total_sum'])\n",
        "# Создание boxplot для обоих наборов данных\n",
        "#plt.boxplot([popular_platform_XOne, popular_platform_PS4], labels=['XOne', 'PS4'])\n",
        "#plt.title('График размаха распределения сумм продаж видеоигр по платформам PS4')\n",
        "#plt.ylim(0, 2)\n",
        "#plt.grid()\n",
        "#plt.show()\n",
        "#popular_platform_XOne['total_sum'].describe()\n",
        "#popular_platform_PS4['total_sum'].describe()"
      ]
    },
    {
      "cell_type": "markdown",
      "id": "7497d305",
      "metadata": {
        "id": "7497d305"
      },
      "source": [
        "**Вывод**  \n",
        "По графикам размаха видно, что присутствуют выбросы в данных по распределению продаж по платформам (для всех платформ).  \n",
        "Лучшими по показателю продаж яв-ся - X360 и XOne, третья перспективная платформа PS4.   \n",
        "Медианные значения по выручки у них выше и продаж больше, чем у остальных платформ."
      ]
    },
    {
      "cell_type": "markdown",
      "id": "02c7dec8",
      "metadata": {
        "id": "02c7dec8"
      },
      "source": [
        "<div class=\"alert alert-danger\" style=\"border-radius: 10px; box-shadow: 2px 2px 2px; border: 1px solid; padding: 10px \">\n",
        "<b>Комментарий ревьюера v.2</b>\n",
        "    \n",
        "✍\n",
        "Замечания:\n",
        "    \n",
        "    \n",
        "* К сожалению, на этом графике видны только выбросы, и совсем не видны медиана и 75% квантиль. Для более обоснованных выводов нужно сделать дополнительный график, где будет отображена только нижняя часть boxplot-ов. Этого можно добиться, например, задав параметр ylim.\n",
        "    \n",
        "    \n",
        "* Прошу тебя построить одну диаграмму, на которой будут отображены все платформы из актуального периода (несколько ячщиков на одной оси)\n",
        "    \n",
        "    \n",
        "* Прошу не забывать про оформление.\n",
        "</div>"
      ]
    },
    {
      "cell_type": "markdown",
      "id": "ae77f9ef",
      "metadata": {
        "id": "ae77f9ef"
      },
      "source": [
        "<div class=\"alert alert-info\" style=\"border-radius: 10px; box-shadow: 2px 2px 2px; border: 1px solid; padding: 10px \">\n",
        "<b>Комментарий студента</b>\n",
        "    \n",
        "Ylim задала, но построить на одном графике 2 ящика не получилось.\n",
        "</div>"
      ]
    },
    {
      "cell_type": "markdown",
      "id": "f7643739",
      "metadata": {
        "id": "f7643739"
      },
      "source": [
        "<div class=\"alert alert-danger\" style=\"border-radius: 10px; box-shadow: 2px 2px 2px; border: 1px solid; padding: 10px \">\n",
        "<b>Комментарий ревьюера v.3</b>\n",
        "    \n",
        "✍\n",
        "* Ты объединила несколько платформ в один ящик, но для корректного сравнения нужно, чтобы каждая платформа имела свой отдельный ящик на диаграмме. Это позволит увидеть различия между платформами, а не усреднённые данные. Ось X должна показывать названия платформ (например, PS4, XOne, 3DS и т.д.), а ось Y — их продажи. Тогда каждая платформа будет представлена своим ящиком, и их можно будет легко сравнить\n",
        "    \n",
        "    \n",
        "* Не стоит ограничивать диаграмму размаха, нам нужно посмотреть все платформы из актуального периода.\n",
        "    \n",
        "    \n",
        "Пример привел в анализе жанров.\n",
        "</div>"
      ]
    },
    {
      "cell_type": "markdown",
      "id": "fbe6658b",
      "metadata": {
        "id": "fbe6658b"
      },
      "source": [
        "<div class=\"alert alert-info\" style=\"border-radius: 10px; box-shadow: 2px 2px 2px; border: 1px solid; padding: 10px \">\n",
        "<b>Комментарий студента</b>\n",
        "    \n",
        "Исправить получилось. Все стало более наглядно.\n",
        "</div>"
      ]
    },
    {
      "cell_type": "markdown",
      "id": "a46a4723",
      "metadata": {
        "id": "a46a4723"
      },
      "source": [
        "<div class=\"alert alert-success\" style=\"border-radius: 10px; box-shadow: 2px 2px 2px; border: 1px solid; padding: 10px \">\n",
        "<b>Комментарий ревьюера v.4</b>\n",
        "    \n",
        "👍\n",
        "\n",
        "</div>"
      ]
    },
    {
      "cell_type": "markdown",
      "id": "c3279580",
      "metadata": {
        "id": "c3279580"
      },
      "source": [
        "3.7.Посмотрите, как влияют на продажи внутри одной популярной платформы отзывы пользователей и критиков.  \n",
        "Постройте диаграмму рассеяния и посчитайте корреляцию между отзывами и продажами. Сформулируйте выводы."
      ]
    },
    {
      "cell_type": "code",
      "execution_count": null,
      "id": "1542d2e6",
      "metadata": {
        "id": "1542d2e6",
        "outputId": "3da31829-1108-40ac-a904-fef559a2ce3a"
      },
      "outputs": [
        {
          "data": {
            "text/plain": [
              "'Кореляция Пирсона для сумм продаж и оценок критиков: '"
            ]
          },
          "metadata": {},
          "output_type": "display_data"
        },
        {
          "data": {
            "text/plain": [
              "0.4104220356129637"
            ]
          },
          "metadata": {},
          "output_type": "display_data"
        },
        {
          "data": {
            "text/plain": [
              "'Кореляция Пирсона для сумм продаж и оценок пользователей: '"
            ]
          },
          "metadata": {},
          "output_type": "display_data"
        },
        {
          "data": {
            "text/plain": [
              "-0.09400318326920852"
            ]
          },
          "metadata": {},
          "output_type": "display_data"
        },
        {
          "data": {
            "image/png": "[encoded data removed]",
            "text/plain": [
              "<Figure size 432x288 with 1 Axes>"
            ]
          },
          "metadata": {
            "needs_background": "light"
          },
          "output_type": "display_data"
        },
        {
          "data": {
            "image/png": "[encoded data removed]",
            "text/plain": [
              "<Figure size 432x288 with 1 Axes>"
            ]
          },
          "metadata": {
            "needs_background": "light"
          },
          "output_type": "display_data"
        }
      ],
      "source": [
        "#строим диаграмму рассеяния для визуализации взаимосвязи между двумя числовыми признаками с помощью точек,\n",
        "#показывающих движение этих переменных вместе\n",
        "popular_platform_XOne = popular_platform_year.query(\"platform == 'XOne'\")\n",
        "popular_platform_XOne = popular_platform_XOne .query(\"critic_score > 0\")\n",
        "\n",
        "popular_platform_XOne.plot(y = 'total_sum', x = 'critic_score', style = 'o', color = 'r')\n",
        "\n",
        "plt.title(f'Диаграмма распределения между оценками критиков и суммами продаж на платформе XOne')\n",
        "plt.xlabel('Оценки критиков')\n",
        "plt.ylabel('Сумма продаж')\n",
        "\n",
        "popular_platform_XOne = popular_platform_XOne.query(\"user_score > 0\")\n",
        "popular_platform_XOne.plot(y = 'total_sum', x = 'user_score', style = 'o', color = 'b')\n",
        "plt.title(f'Диаграмма распределения между оценками пользователей и суммами продаж на платформе XOne')\n",
        "plt.xlabel('Оценки критиков')\n",
        "plt.ylabel('Сумма продаж')\n",
        "\n",
        "#посчитаем корреляцию Пирсона для total_sum и (critic_score и user_score)\n",
        "display ('Кореляция Пирсона для сумм продаж и оценок критиков: ',\n",
        "         popular_platform_XOne['total_sum'].corr(popular_platform_XOne['critic_score']))\n",
        "display ('Кореляция Пирсона для сумм продаж и оценок пользователей: ',\n",
        "         popular_platform_XOne['total_sum'].corr(popular_platform_XOne['user_score']))"
      ]
    },
    {
      "cell_type": "markdown",
      "id": "ccf6f0aa",
      "metadata": {
        "id": "ccf6f0aa"
      },
      "source": [
        "**Вывод:**  \n",
        "По значениям корреляции можно сделать вывод, что связь между оценками критиков и пользователей игр на платформе XOne и продажами слабая. Т.е. оценки критиков и пользователей слабо влияют на продажи на данной платформе."
      ]
    },
    {
      "cell_type": "code",
      "execution_count": null,
      "id": "12cf3940",
      "metadata": {
        "id": "12cf3940",
        "outputId": "90cd5d1f-8df9-4471-e3c6-31a72e68ee01"
      },
      "outputs": [
        {
          "data": {
            "text/plain": [
              "'Кореляция Пирсона для сумм продаж и оценок критиков: '"
            ]
          },
          "metadata": {},
          "output_type": "display_data"
        },
        {
          "data": {
            "text/plain": [
              "0.40589480145836687"
            ]
          },
          "metadata": {},
          "output_type": "display_data"
        },
        {
          "data": {
            "text/plain": [
              "'Кореляция Пирсона для сумм продаж и оценок пользователей: '"
            ]
          },
          "metadata": {},
          "output_type": "display_data"
        },
        {
          "data": {
            "text/plain": [
              "-0.03362497596528878"
            ]
          },
          "metadata": {},
          "output_type": "display_data"
        },
        {
          "data": {
            "image/png": "[encoded data removed]",
            "text/plain": [
              "<Figure size 432x288 with 1 Axes>"
            ]
          },
          "metadata": {
            "needs_background": "light"
          },
          "output_type": "display_data"
        },
        {
          "data": {
            "image/png": "[encoded data removed]",
            "text/plain": [
              "<Figure size 432x288 with 1 Axes>"
            ]
          },
          "metadata": {
            "needs_background": "light"
          },
          "output_type": "display_data"
        }
      ],
      "source": [
        "#строим диаграмму рассеяния для визуализации взаимосвязи между двумя числовыми признаками с помощью точек,\n",
        "#показывающих движение этих переменных вместе\n",
        "\n",
        "popular_platform_PS4 = popular_platform_year.query(\"platform == 'PS4'\")\n",
        "popular_platform_PS4 = popular_platform_PS4 .query(\"critic_score > 0\")\n",
        "\n",
        "popular_platform_PS4.plot(y = 'total_sum', x = 'critic_score', style = 'o', color = 'r')\n",
        "plt.title(f'Диаграмма распределения между оценками критиков и суммами продаж на платформе PS4')\n",
        "plt.xlabel('Оценки критиков')\n",
        "plt.ylabel('Сумма продаж')\n",
        "\n",
        "popular_platform_PS4 = popular_platform_PS4.query(\"user_score > 0\")\n",
        "popular_platform_PS4.plot(y = 'total_sum', x = 'user_score', style = 'o', color = 'b')\n",
        "plt.title(f'Диаграмма распределения между оценками пользователей и суммами продаж на платформе PS4')\n",
        "plt.xlabel('Оценки критиков')\n",
        "plt.ylabel('Сумма продаж')\n",
        "\n",
        "#посчитаем корреляцию Пирсона для total_sum и (critic_score и user_score)\n",
        "display ('Кореляция Пирсона для сумм продаж и оценок критиков: ',\n",
        "         popular_platform_PS4['total_sum'].corr(popular_platform_PS4['critic_score']))\n",
        "display ('Кореляция Пирсона для сумм продаж и оценок пользователей: ',\n",
        "         popular_platform_PS4['total_sum'].corr(popular_platform_PS4['user_score']))"
      ]
    },
    {
      "cell_type": "markdown",
      "id": "820da923",
      "metadata": {
        "id": "820da923"
      },
      "source": [
        "**Вывод:**  \n",
        "По значениям корреляции можно сделать вывод, что для платформы PS4 влияние оценок критиков на продажи приближается к среднему, т.е. оценки критиков важны для продаж. Пользовательские оценки слабо влияют на продажи."
      ]
    },
    {
      "cell_type": "markdown",
      "id": "433dc9fb",
      "metadata": {
        "id": "433dc9fb"
      },
      "source": [
        "3.8. Соотнесите выводы с продажами игр на других платформах.  "
      ]
    },
    {
      "cell_type": "code",
      "execution_count": null,
      "id": "754b9add",
      "metadata": {
        "id": "754b9add",
        "outputId": "79064886-f335-4d6c-c249-5b613c3bdb10"
      },
      "outputs": [
        {
          "data": {
            "text/plain": [
              "'Кореляция Пирсона для сумм продаж и оценок критиков: '"
            ]
          },
          "metadata": {},
          "output_type": "display_data"
        },
        {
          "data": {
            "text/plain": [
              "0.36057348885073365"
            ]
          },
          "metadata": {},
          "output_type": "display_data"
        },
        {
          "data": {
            "text/plain": [
              "'Кореляция Пирсона для сумм продаж и оценок пользователей: '"
            ]
          },
          "metadata": {},
          "output_type": "display_data"
        },
        {
          "data": {
            "text/plain": [
              "-0.0020140394826897853"
            ]
          },
          "metadata": {},
          "output_type": "display_data"
        },
        {
          "data": {
            "image/png": "[encoded data removed]",
            "text/plain": [
              "<Figure size 432x288 with 1 Axes>"
            ]
          },
          "metadata": {
            "needs_background": "light"
          },
          "output_type": "display_data"
        },
        {
          "data": {
            "image/png": "[encoded data removed]",
            "text/plain": [
              "<Figure size 432x288 with 1 Axes>"
            ]
          },
          "metadata": {
            "needs_background": "light"
          },
          "output_type": "display_data"
        }
      ],
      "source": [
        "\n",
        "\n",
        "popular_platform_Х360 = popular_platform_year.query(\"platform == 'X360'\")\n",
        "popular_platform_Х360 = popular_platform_Х360 .query(\"critic_score > 0\")\n",
        "#строим диаграмму рассеяния для визуализации взаимосвязи между двумя числовыми признаками с помощью точек,\n",
        "#показывающих движение этих переменных вместе\n",
        "\n",
        "popular_platform_Х360.plot(y = 'total_sum', x = 'critic_score', style = 'o', color = 'r')\n",
        "plt.title(f'Диаграмма распределения между оценками критиков и суммами продаж на платформе Х360')\n",
        "plt.xlabel('Оценки критиков')\n",
        "plt.ylabel('Сумма продаж')\n",
        "\n",
        "popular_platform_Х360 = popular_platform_Х360.query(\"user_score > 0\")\n",
        "popular_platform_Х360.plot(y = 'total_sum', x = 'user_score', style = 'o', color = 'b')\n",
        "plt.title(f'Диаграмма распределения между оценками пользователей и суммами продаж на платформе Х360')\n",
        "plt.xlabel('Оценки критиков')\n",
        "plt.ylabel('Сумма продаж')\n",
        "\n",
        "#посчитаем корреляцию Пирсона для total_sum и (critic_score и user_score)\n",
        "display ('Кореляция Пирсона для сумм продаж и оценок критиков: ',\n",
        "         popular_platform_Х360['total_sum'].corr(popular_platform_Х360['critic_score']))\n",
        "display ('Кореляция Пирсона для сумм продаж и оценок пользователей: ',\n",
        "         popular_platform_Х360['total_sum'].corr(popular_platform_Х360['user_score']))"
      ]
    },
    {
      "cell_type": "markdown",
      "id": "3c596e32",
      "metadata": {
        "id": "3c596e32"
      },
      "source": [
        "**Вывод:**  \n",
        "По значениям корреляции можно сделать вывод, что связь между оценками критиков и пользователей игр на платформе X360 и продажами очень слабая. Т.е. оценки критиков и пользователей слабо влияют на продажи на данной платформе."
      ]
    },
    {
      "cell_type": "code",
      "execution_count": null,
      "id": "dc750981",
      "metadata": {
        "id": "dc750981",
        "outputId": "9e148099-f15e-4c5c-ffb6-af0b46b5f581"
      },
      "outputs": [
        {
          "data": {
            "text/plain": [
              "'Кореляция Пирсона для сумм продаж и оценок критиков: '"
            ]
          },
          "metadata": {},
          "output_type": "display_data"
        },
        {
          "data": {
            "text/plain": [
              "0.11652676409395911"
            ]
          },
          "metadata": {},
          "output_type": "display_data"
        },
        {
          "data": {
            "text/plain": [
              "'Кореляция Пирсона для сумм продаж и оценок пользователей: '"
            ]
          },
          "metadata": {},
          "output_type": "display_data"
        },
        {
          "data": {
            "text/plain": [
              "0.0880609774881624"
            ]
          },
          "metadata": {},
          "output_type": "display_data"
        },
        {
          "data": {
            "image/png": "[encoded data removed]",
            "text/plain": [
              "<Figure size 432x288 with 1 Axes>"
            ]
          },
          "metadata": {
            "needs_background": "light"
          },
          "output_type": "display_data"
        },
        {
          "data": {
            "image/png": "[encoded data removed]",
            "text/plain": [
              "<Figure size 432x288 with 1 Axes>"
            ]
          },
          "metadata": {
            "needs_background": "light"
          },
          "output_type": "display_data"
        }
      ],
      "source": [
        "#строим диаграмму рассеяния для визуализации взаимосвязи между двумя числовыми признаками с помощью точек,\n",
        "#показывающих движение этих переменных вместе\n",
        "games_al = games.query(\"critic_score > 0\")\n",
        "\n",
        "games_al.plot(y = 'total_sum', x = 'critic_score', style = 'o', color = 'r')\n",
        "plt.title(f'Диаграмма распределения между оценками критиков и суммами продаж на всех платформах ')\n",
        "plt.xlabel('Оценки критиков')\n",
        "plt.ylabel('Сумма продаж')\n",
        "\n",
        "games_al = games.query(\"user_score > 0\")\n",
        "games_al.plot(y = 'total_sum', x = 'user_score', style = 'o', color = 'b')\n",
        "plt.title(f'Диаграмма распределения между оценками критиков и суммами продаж на всех платформах ')\n",
        "plt.xlabel('Оценки критиков')\n",
        "plt.ylabel('Сумма продаж')\n",
        "\n",
        "#посчитаем корреляцию Пирсона для total_sum и (critic_score и user_score)\n",
        "display ('Кореляция Пирсона для сумм продаж и оценок критиков: ',\n",
        "         games_al['total_sum'].corr(games_al['critic_score']))\n",
        "display ('Кореляция Пирсона для сумм продаж и оценок пользователей: ',\n",
        "         games_al['total_sum'].corr(games_al['user_score']))\n"
      ]
    },
    {
      "cell_type": "markdown",
      "id": "f0da7ac1",
      "metadata": {
        "id": "f0da7ac1"
      },
      "source": [
        "**Вывод:**  \n",
        "По значениям корреляции можно сделать вывод, что связь между оценками критиков и пользователей игр на всех платформах и продажами очень слабая. Т.е. оценки почти совсем не влияют на продажи на всех платформах."
      ]
    },
    {
      "cell_type": "markdown",
      "id": "0338a710",
      "metadata": {
        "id": "0338a710"
      },
      "source": [
        "На разных платформах оценки пользователей и критиков с разной степенью влияют на продажи."
      ]
    },
    {
      "cell_type": "markdown",
      "id": "531774bb",
      "metadata": {
        "id": "531774bb"
      },
      "source": [
        "3.9. Посмотрим на общее распределение игр по жанрам. Что можно сказать о самых прибыльных жанрах? Выделяются ли жанры с высокими и низкими продажами?  "
      ]
    },
    {
      "cell_type": "code",
      "execution_count": null,
      "id": "fcda43f7",
      "metadata": {
        "id": "fcda43f7",
        "outputId": "fc6dd021-f435-421f-8d90-f539b01f43b5"
      },
      "outputs": [
        {
          "data": {
            "text/html": [
              "<div>\n",
              "<style scoped>\n",
              "    .dataframe tbody tr th:only-of-type {\n",
              "        vertical-align: middle;\n",
              "    }\n",
              "\n",
              "    .dataframe tbody tr th {\n",
              "        vertical-align: top;\n",
              "    }\n",
              "\n",
              "    .dataframe thead th {\n",
              "        text-align: right;\n",
              "    }\n",
              "</style>\n",
              "<table border=\"1\" class=\"dataframe\">\n",
              "  <thead>\n",
              "    <tr style=\"text-align: right;\">\n",
              "      <th></th>\n",
              "      <th>all_sum</th>\n",
              "      <th>genre_game</th>\n",
              "      <th>median_sum</th>\n",
              "    </tr>\n",
              "    <tr>\n",
              "      <th>genre</th>\n",
              "      <th></th>\n",
              "      <th></th>\n",
              "      <th></th>\n",
              "    </tr>\n",
              "  </thead>\n",
              "  <tbody>\n",
              "    <tr>\n",
              "      <th>Action</th>\n",
              "      <td>1716.52</td>\n",
              "      <td>Action</td>\n",
              "      <td>756.89</td>\n",
              "    </tr>\n",
              "    <tr>\n",
              "      <th>Sports</th>\n",
              "      <td>1309.66</td>\n",
              "      <td>Sports</td>\n",
              "      <td>756.89</td>\n",
              "    </tr>\n",
              "    <tr>\n",
              "      <th>Shooter</th>\n",
              "      <td>1041.36</td>\n",
              "      <td>Shooter</td>\n",
              "      <td>756.89</td>\n",
              "    </tr>\n",
              "    <tr>\n",
              "      <th>Role-Playing</th>\n",
              "      <td>931.08</td>\n",
              "      <td>Role-Playing</td>\n",
              "      <td>756.89</td>\n",
              "    </tr>\n",
              "    <tr>\n",
              "      <th>Platform</th>\n",
              "      <td>825.55</td>\n",
              "      <td>Platform</td>\n",
              "      <td>756.89</td>\n",
              "    </tr>\n",
              "    <tr>\n",
              "      <th>Misc</th>\n",
              "      <td>790.29</td>\n",
              "      <td>Misc</td>\n",
              "      <td>756.89</td>\n",
              "    </tr>\n",
              "    <tr>\n",
              "      <th>Racing</th>\n",
              "      <td>723.49</td>\n",
              "      <td>Racing</td>\n",
              "      <td>756.89</td>\n",
              "    </tr>\n",
              "    <tr>\n",
              "      <th>Fighting</th>\n",
              "      <td>442.66</td>\n",
              "      <td>Fighting</td>\n",
              "      <td>756.89</td>\n",
              "    </tr>\n",
              "    <tr>\n",
              "      <th>Simulation</th>\n",
              "      <td>387.96</td>\n",
              "      <td>Simulation</td>\n",
              "      <td>756.89</td>\n",
              "    </tr>\n",
              "    <tr>\n",
              "      <th>Puzzle</th>\n",
              "      <td>239.89</td>\n",
              "      <td>Puzzle</td>\n",
              "      <td>756.89</td>\n",
              "    </tr>\n",
              "    <tr>\n",
              "      <th>Adventure</th>\n",
              "      <td>233.33</td>\n",
              "      <td>Adventure</td>\n",
              "      <td>756.89</td>\n",
              "    </tr>\n",
              "    <tr>\n",
              "      <th>Strategy</th>\n",
              "      <td>172.57</td>\n",
              "      <td>Strategy</td>\n",
              "      <td>756.89</td>\n",
              "    </tr>\n",
              "  </tbody>\n",
              "</table>\n",
              "</div>"
            ],
            "text/plain": [
              "              all_sum    genre_game  median_sum\n",
              "genre                                          \n",
              "Action        1716.52        Action      756.89\n",
              "Sports        1309.66        Sports      756.89\n",
              "Shooter       1041.36       Shooter      756.89\n",
              "Role-Playing   931.08  Role-Playing      756.89\n",
              "Platform       825.55      Platform      756.89\n",
              "Misc           790.29          Misc      756.89\n",
              "Racing         723.49        Racing      756.89\n",
              "Fighting       442.66      Fighting      756.89\n",
              "Simulation     387.96    Simulation      756.89\n",
              "Puzzle         239.89        Puzzle      756.89\n",
              "Adventure      233.33     Adventure      756.89\n",
              "Strategy       172.57      Strategy      756.89"
            ]
          },
          "metadata": {},
          "output_type": "display_data"
        },
        {
          "data": {
            "image/png": "[encoded data removed]",
            "text/plain": [
              "<Figure size 1440x360 with 1 Axes>"
            ]
          },
          "metadata": {
            "needs_background": "light"
          },
          "output_type": "display_data"
        }
      ],
      "source": [
        "# сделаем группировку в общей таблице и запишем данные в новый датасет\n",
        "\n",
        "sum_of_genre = games.groupby(['genre']).agg(\n",
        "                                        all_sum = ('total_sum', 'sum'),\n",
        "                                        genre_game = ('genre', 'max'))\n",
        "sum_of_genre['median_sum'] = sum_of_genre['all_sum'].median()\n",
        "\n",
        "sum_of_genre = sum_of_genre.sort_values('all_sum', ascending=False)\n",
        "#проверим, получившуюся таблицу\n",
        "display(sum_of_genre)\n",
        "\n",
        "# построим гистограмму распределения кол-ва видеоигр по жанрам\n",
        "fig, ax = plt.subplots(figsize=(20, 5))\n",
        "sns.barplot (x = 'genre_game', y = 'all_sum', data = sum_of_genre, ax=ax, palette='Set3')\n",
        "plt.title('Гистограмма распределения прибыли по жанрам видеоигр')\n",
        "plt.xlabel('Жанр')\n",
        "plt.ylabel('Сумма продаж')\n",
        "plt.grid()\n",
        "plt.show()"
      ]
    },
    {
      "cell_type": "code",
      "execution_count": null,
      "id": "ae2c73f9",
      "metadata": {
        "id": "ae2c73f9",
        "outputId": "a1bda906-705b-4cd9-b9c4-d93b128d25ff"
      },
      "outputs": [
        {
          "data": {
            "image/png": "[encoded data removed]",
            "text/plain": [
              "<Figure size 936x576 with 1 Axes>"
            ]
          },
          "metadata": {
            "needs_background": "light"
          },
          "output_type": "display_data"
        }
      ],
      "source": [
        "#sum_of_genre['median_sum'] = sum_of_genre['all_sum'].median()\n",
        "#sum_of_genre_d_action = sum_of_genre.query(\"genre == 'Action'\")\n",
        "#plt.boxplot(sum_of_genre['median_sum'])\n",
        "#plt.title('График размаха распределения сумм продаж видеоигр по жанрам Action')\n",
        "#plt.ylim(750, 760)\n",
        "#plt.grid()\n",
        "#plt.show()\n",
        "\n",
        "#Диаграммы размаха для оценки выбросов и получения более объективной картины по продажам.\n",
        "plt.figure(figsize=(13, 8))\n",
        "(sns.boxplot(data = popular_platform_year, y = 'total_sum', x='genre')\n",
        "    .set(title = 'Продажи по жанрам', xlabel = 'Жанры', ylabel = 'Общие продажи', ylim=(0, 3)))\n",
        "\n",
        "plt.show()\n",
        "\n",
        "\n"
      ]
    },
    {
      "cell_type": "markdown",
      "id": "7b77dbf5",
      "metadata": {
        "id": "7b77dbf5"
      },
      "source": [
        "По гистограмме размаха продаж по жанрам видно, что у жанра Shooter показатели по продажам лучше, чем у всех остальных жанров - размер ящика -больше, медиана также больше.\n",
        "Второй по продажам выделяется жанр - Sports. Третий Rolle-Playing. Игры в указанных выше жанрах приносят больше прибыли и продаж.  \n",
        "Самые низкопродаваемые - игр в жанрах Puzzle, Adventure и Strategy."
      ]
    },
    {
      "cell_type": "code",
      "execution_count": null,
      "id": "048ce29d",
      "metadata": {
        "id": "048ce29d",
        "outputId": "4390a395-87b6-4c4d-f2cf-cdc909568321"
      },
      "outputs": [
        {
          "data": {
            "image/png": "[encoded data removed]",
            "text/plain": [
              "<Figure size 936x576 with 1 Axes>"
            ]
          },
          "metadata": {
            "needs_background": "light"
          },
          "output_type": "display_data"
        }
      ],
      "source": [
        "# Код ревьюера\n",
        "\n",
        "plt.figure(figsize=(13, 8))\n",
        "(sns.boxplot(data = popular_platform_year, y = 'total_sum', x='genre')\n",
        "    .set(title = 'Продажи по жанрам', xlabel = 'Платформы', ylabel = 'Общие продажи', ylim=(0, 3)))\n",
        "\n",
        "plt.show()"
      ]
    },
    {
      "cell_type": "markdown",
      "id": "bef513e1",
      "metadata": {
        "id": "bef513e1"
      },
      "source": [
        "**Выводы по исследовательскому анализу данных:**\n",
        "    \n",
        "Для исследования выбран актуальный период - последние 5 лет.\n",
        "В последние 3 года наблюдается спад продаж по всем платформам. Наиболее перспективные по росту продаж:  XOne и PS4.\n",
        "В общем связь между оценками пользователей и критиками и продажами на всех платформах очень слабая.  \n",
        "Среднее значение выручки по платформе XOne -0.8, медиана - 0.3.  \n",
        "Среднее значение выручки по платформе PS4 -0.8, медиана - 0.2.\n",
        "Но на разных платформах оценки пользователей и критиков с разной степенью влияют на продажи.  \n",
        "У жанра Shooter показатели по продажам лучше, чем у всех остальных жанров - размер ящика -больше, медиана также больше.\n",
        "Второй по продажам выделяется жанр - Sports. Третий Rolle-Playing. Игры в указанных выше жанрах приносят больше прибыли и продаж.  \n",
        "Самые низкопродаваемые - игр в жанрах Puzzle, Adventure и Strategy.\n"
      ]
    },
    {
      "cell_type": "markdown",
      "id": "b0eddd05",
      "metadata": {
        "id": "b0eddd05"
      },
      "source": [
        "## **Шаг №4. Портрет пользователя каждого региона**\n",
        "Определите для пользователя каждого региона (NA, EU, JP):\n",
        "Самые популярные платформы (топ-5). Опишите различия в долях продаж.\n",
        "Самые популярные жанры (топ-5). Поясните разницу.\n",
        "Влияет ли рейтинг ESRB на продажи в отдельном регионе?"
      ]
    },
    {
      "cell_type": "code",
      "execution_count": null,
      "id": "3b554ec4",
      "metadata": {
        "scrolled": true,
        "id": "3b554ec4",
        "outputId": "abac4363-31c0-4d22-b106-7bd1136eeb27"
      },
      "outputs": [
        {
          "data": {
            "text/html": [
              "<div>\n",
              "<style scoped>\n",
              "    .dataframe tbody tr th:only-of-type {\n",
              "        vertical-align: middle;\n",
              "    }\n",
              "\n",
              "    .dataframe tbody tr th {\n",
              "        vertical-align: top;\n",
              "    }\n",
              "\n",
              "    .dataframe thead th {\n",
              "        text-align: right;\n",
              "    }\n",
              "</style>\n",
              "<table border=\"1\" class=\"dataframe\">\n",
              "  <thead>\n",
              "    <tr style=\"text-align: right;\">\n",
              "      <th></th>\n",
              "      <th>unnamed: 0</th>\n",
              "      <th>name</th>\n",
              "      <th>platform</th>\n",
              "      <th>year_of_release</th>\n",
              "      <th>genre</th>\n",
              "      <th>na_sales</th>\n",
              "      <th>eu_sales</th>\n",
              "      <th>jp_sales</th>\n",
              "      <th>other_sales</th>\n",
              "      <th>critic_score</th>\n",
              "      <th>user_score</th>\n",
              "      <th>rating</th>\n",
              "      <th>total_sum</th>\n",
              "    </tr>\n",
              "  </thead>\n",
              "  <tbody>\n",
              "    <tr>\n",
              "      <th>16</th>\n",
              "      <td>16</td>\n",
              "      <td>Grand Theft Auto V</td>\n",
              "      <td>PS3</td>\n",
              "      <td>2013</td>\n",
              "      <td>Action</td>\n",
              "      <td>7.02</td>\n",
              "      <td>9.09</td>\n",
              "      <td>0.98</td>\n",
              "      <td>3.96</td>\n",
              "      <td>97</td>\n",
              "      <td>8.2</td>\n",
              "      <td>M</td>\n",
              "      <td>21.05</td>\n",
              "    </tr>\n",
              "    <tr>\n",
              "      <th>23</th>\n",
              "      <td>23</td>\n",
              "      <td>Grand Theft Auto V</td>\n",
              "      <td>X360</td>\n",
              "      <td>2013</td>\n",
              "      <td>Action</td>\n",
              "      <td>9.66</td>\n",
              "      <td>5.14</td>\n",
              "      <td>0.06</td>\n",
              "      <td>1.41</td>\n",
              "      <td>97</td>\n",
              "      <td>8.1</td>\n",
              "      <td>M</td>\n",
              "      <td>16.27</td>\n",
              "    </tr>\n",
              "    <tr>\n",
              "      <th>31</th>\n",
              "      <td>31</td>\n",
              "      <td>Call of Duty: Black Ops 3</td>\n",
              "      <td>PS4</td>\n",
              "      <td>2015</td>\n",
              "      <td>Shooter</td>\n",
              "      <td>6.03</td>\n",
              "      <td>5.86</td>\n",
              "      <td>0.36</td>\n",
              "      <td>2.38</td>\n",
              "      <td>-100</td>\n",
              "      <td>-100.0</td>\n",
              "      <td>unknown</td>\n",
              "      <td>14.63</td>\n",
              "    </tr>\n",
              "    <tr>\n",
              "      <th>33</th>\n",
              "      <td>33</td>\n",
              "      <td>Pokemon X/Pokemon Y</td>\n",
              "      <td>3DS</td>\n",
              "      <td>2013</td>\n",
              "      <td>Role-Playing</td>\n",
              "      <td>5.28</td>\n",
              "      <td>4.19</td>\n",
              "      <td>4.35</td>\n",
              "      <td>0.78</td>\n",
              "      <td>-100</td>\n",
              "      <td>-100.0</td>\n",
              "      <td>unknown</td>\n",
              "      <td>14.60</td>\n",
              "    </tr>\n",
              "    <tr>\n",
              "      <th>34</th>\n",
              "      <td>34</td>\n",
              "      <td>Call of Duty: Black Ops II</td>\n",
              "      <td>PS3</td>\n",
              "      <td>2012</td>\n",
              "      <td>Shooter</td>\n",
              "      <td>4.99</td>\n",
              "      <td>5.73</td>\n",
              "      <td>0.65</td>\n",
              "      <td>2.42</td>\n",
              "      <td>83</td>\n",
              "      <td>5.3</td>\n",
              "      <td>M</td>\n",
              "      <td>13.79</td>\n",
              "    </tr>\n",
              "    <tr>\n",
              "      <th>...</th>\n",
              "      <td>...</td>\n",
              "      <td>...</td>\n",
              "      <td>...</td>\n",
              "      <td>...</td>\n",
              "      <td>...</td>\n",
              "      <td>...</td>\n",
              "      <td>...</td>\n",
              "      <td>...</td>\n",
              "      <td>...</td>\n",
              "      <td>...</td>\n",
              "      <td>...</td>\n",
              "      <td>...</td>\n",
              "      <td>...</td>\n",
              "    </tr>\n",
              "    <tr>\n",
              "      <th>16677</th>\n",
              "      <td>16677</td>\n",
              "      <td>Aikatsu Stars! My Special Appeal</td>\n",
              "      <td>3DS</td>\n",
              "      <td>2016</td>\n",
              "      <td>Action</td>\n",
              "      <td>0.00</td>\n",
              "      <td>0.00</td>\n",
              "      <td>0.01</td>\n",
              "      <td>0.00</td>\n",
              "      <td>-100</td>\n",
              "      <td>-100.0</td>\n",
              "      <td>unknown</td>\n",
              "      <td>0.01</td>\n",
              "    </tr>\n",
              "    <tr>\n",
              "      <th>16678</th>\n",
              "      <td>16678</td>\n",
              "      <td>End of Nations</td>\n",
              "      <td>PC</td>\n",
              "      <td>2012</td>\n",
              "      <td>Strategy</td>\n",
              "      <td>0.01</td>\n",
              "      <td>0.00</td>\n",
              "      <td>0.00</td>\n",
              "      <td>0.00</td>\n",
              "      <td>-100</td>\n",
              "      <td>-100.0</td>\n",
              "      <td>T</td>\n",
              "      <td>0.01</td>\n",
              "    </tr>\n",
              "    <tr>\n",
              "      <th>16691</th>\n",
              "      <td>16691</td>\n",
              "      <td>Dynasty Warriors: Eiketsuden</td>\n",
              "      <td>PS3</td>\n",
              "      <td>2016</td>\n",
              "      <td>Action</td>\n",
              "      <td>0.00</td>\n",
              "      <td>0.00</td>\n",
              "      <td>0.01</td>\n",
              "      <td>0.00</td>\n",
              "      <td>-100</td>\n",
              "      <td>-100.0</td>\n",
              "      <td>unknown</td>\n",
              "      <td>0.01</td>\n",
              "    </tr>\n",
              "    <tr>\n",
              "      <th>16692</th>\n",
              "      <td>16692</td>\n",
              "      <td>Metal Gear Solid V: Ground Zeroes</td>\n",
              "      <td>PC</td>\n",
              "      <td>2014</td>\n",
              "      <td>Action</td>\n",
              "      <td>0.00</td>\n",
              "      <td>0.01</td>\n",
              "      <td>0.00</td>\n",
              "      <td>0.00</td>\n",
              "      <td>80</td>\n",
              "      <td>7.6</td>\n",
              "      <td>M</td>\n",
              "      <td>0.01</td>\n",
              "    </tr>\n",
              "    <tr>\n",
              "      <th>16710</th>\n",
              "      <td>16710</td>\n",
              "      <td>Samurai Warriors: Sanada Maru</td>\n",
              "      <td>PS3</td>\n",
              "      <td>2016</td>\n",
              "      <td>Action</td>\n",
              "      <td>0.00</td>\n",
              "      <td>0.00</td>\n",
              "      <td>0.01</td>\n",
              "      <td>0.00</td>\n",
              "      <td>-100</td>\n",
              "      <td>-100.0</td>\n",
              "      <td>unknown</td>\n",
              "      <td>0.01</td>\n",
              "    </tr>\n",
              "  </tbody>\n",
              "</table>\n",
              "<p>2069 rows × 13 columns</p>\n",
              "</div>"
            ],
            "text/plain": [
              "       unnamed: 0                               name platform  \\\n",
              "16             16                 Grand Theft Auto V      PS3   \n",
              "23             23                 Grand Theft Auto V     X360   \n",
              "31             31          Call of Duty: Black Ops 3      PS4   \n",
              "33             33                Pokemon X/Pokemon Y      3DS   \n",
              "34             34         Call of Duty: Black Ops II      PS3   \n",
              "...           ...                                ...      ...   \n",
              "16677       16677   Aikatsu Stars! My Special Appeal      3DS   \n",
              "16678       16678                     End of Nations       PC   \n",
              "16691       16691       Dynasty Warriors: Eiketsuden      PS3   \n",
              "16692       16692  Metal Gear Solid V: Ground Zeroes       PC   \n",
              "16710       16710      Samurai Warriors: Sanada Maru      PS3   \n",
              "\n",
              "       year_of_release         genre  na_sales  eu_sales  jp_sales  \\\n",
              "16                2013        Action      7.02      9.09      0.98   \n",
              "23                2013        Action      9.66      5.14      0.06   \n",
              "31                2015       Shooter      6.03      5.86      0.36   \n",
              "33                2013  Role-Playing      5.28      4.19      4.35   \n",
              "34                2012       Shooter      4.99      5.73      0.65   \n",
              "...                ...           ...       ...       ...       ...   \n",
              "16677             2016        Action      0.00      0.00      0.01   \n",
              "16678             2012      Strategy      0.01      0.00      0.00   \n",
              "16691             2016        Action      0.00      0.00      0.01   \n",
              "16692             2014        Action      0.00      0.01      0.00   \n",
              "16710             2016        Action      0.00      0.00      0.01   \n",
              "\n",
              "       other_sales  critic_score  user_score   rating  total_sum  \n",
              "16            3.96            97         8.2        M      21.05  \n",
              "23            1.41            97         8.1        M      16.27  \n",
              "31            2.38          -100      -100.0  unknown      14.63  \n",
              "33            0.78          -100      -100.0  unknown      14.60  \n",
              "34            2.42            83         5.3        M      13.79  \n",
              "...            ...           ...         ...      ...        ...  \n",
              "16677         0.00          -100      -100.0  unknown       0.01  \n",
              "16678         0.00          -100      -100.0        T       0.01  \n",
              "16691         0.00          -100      -100.0  unknown       0.01  \n",
              "16692         0.00            80         7.6        M       0.01  \n",
              "16710         0.00          -100      -100.0  unknown       0.01  \n",
              "\n",
              "[2069 rows x 13 columns]"
            ]
          },
          "metadata": {},
          "output_type": "display_data"
        },
        {
          "name": "stdout",
          "output_type": "stream",
          "text": [
            "<class 'pandas.core.frame.DataFrame'>\n",
            "Int64Index: 2069 entries, 16 to 16710\n",
            "Data columns (total 13 columns):\n",
            " #   Column           Non-Null Count  Dtype  \n",
            "---  ------           --------------  -----  \n",
            " 0   unnamed: 0       2069 non-null   int64  \n",
            " 1   name             2069 non-null   object \n",
            " 2   platform         2069 non-null   object \n",
            " 3   year_of_release  2069 non-null   int64  \n",
            " 4   genre            2069 non-null   object \n",
            " 5   na_sales         2069 non-null   float64\n",
            " 6   eu_sales         2069 non-null   float64\n",
            " 7   jp_sales         2069 non-null   float64\n",
            " 8   other_sales      2069 non-null   float64\n",
            " 9   critic_score     2069 non-null   int64  \n",
            " 10  user_score       2069 non-null   float64\n",
            " 11  rating           2069 non-null   object \n",
            " 12  total_sum        2069 non-null   float64\n",
            "dtypes: float64(6), int64(3), object(4)\n",
            "memory usage: 226.3+ KB\n"
          ]
        }
      ],
      "source": [
        "#запишем в новый датасет данные по самым популярным платформам\n",
        "popular_platform_new = popular_platform.query(\"year_of_release == 2012 | year_of_release == 2013 | year_of_release == 2014 | year_of_release == 2015 | year_of_release == 2016 \")\n",
        "display (popular_platform_new)\n",
        "popular_platform_new.info()"
      ]
    },
    {
      "cell_type": "code",
      "execution_count": null,
      "id": "04b8f985",
      "metadata": {
        "id": "04b8f985",
        "outputId": "aa0f5ab1-dfc7-4240-82f8-a03373182ad2"
      },
      "outputs": [
        {
          "data": {
            "image/png": "[encoded data removed]",
            "text/plain": [
              "<Figure size 360x360 with 1 Axes>"
            ]
          },
          "metadata": {},
          "output_type": "display_data"
        }
      ],
      "source": [
        "#распределение копий игры в млн. на популярных платформах в разных регионах\n",
        "\n",
        "region_of_platform = popular_platform_new.groupby(['platform']).agg(\n",
        "                     eu_sales_sum = ('eu_sales', 'sum'),\n",
        "                     na_sales_sum = ('na_sales', 'sum'),\n",
        "                     jp_sales_sum = ('jp_sales', 'sum'),\n",
        "                     platform = ('platform', 'max'))\n",
        "region_of_platform ['total_sum_region'] = (region_of_platform['eu_sales_sum'] + region_of_platform['na_sales_sum'] +\n",
        "                                          region_of_platform['jp_sales_sum'])\n",
        "region_of_platform = region_of_platform.sort_values('eu_sales_sum', ascending=False)\n",
        "\n",
        "#строим круговую диаграмму распределения продаж игр на популярных платформах в Европе\n",
        "region_of_platform['eu_sales_sum'].plot(kind = 'pie', y = region_of_platform['platform'],\n",
        "                                  autopct = '%1.0f%%', figsize=(5,5), ylabel = 'Доли',\n",
        "                                  title = 'Диаграмма распределения популярных платформ в Европе, в %');"
      ]
    },
    {
      "cell_type": "code",
      "execution_count": null,
      "id": "3a561af1",
      "metadata": {
        "id": "3a561af1",
        "outputId": "4dcf5e05-282e-47e0-b71a-75e6950649a6"
      },
      "outputs": [
        {
          "data": {
            "image/png": "[encoded data removed]",
            "text/plain": [
              "<Figure size 360x360 with 1 Axes>"
            ]
          },
          "metadata": {},
          "output_type": "display_data"
        }
      ],
      "source": [
        "region_of_platform = region_of_platform.sort_values('jp_sales_sum', ascending=False)\n",
        "#строим круговую диаграмму распределения продаж игр на популярных платформах в Японии\n",
        "region_of_platform['jp_sales_sum'].plot(kind = 'pie', y = region_of_platform['platform'],\n",
        "                                  autopct = '%1.0f%%', figsize=(5,5), ylabel = 'Доли',\n",
        "                                  title = 'Диаграмма распределения популярных платформ в Японии, в %');"
      ]
    },
    {
      "cell_type": "code",
      "execution_count": null,
      "id": "795c7d76",
      "metadata": {
        "id": "795c7d76",
        "outputId": "c58221a9-0fdc-4b8a-f825-9227f57fcda9"
      },
      "outputs": [
        {
          "data": {
            "image/png": "[encoded data removed]",
            "text/plain": [
              "<Figure size 360x360 with 1 Axes>"
            ]
          },
          "metadata": {},
          "output_type": "display_data"
        }
      ],
      "source": [
        "region_of_platform = region_of_platform.sort_values('na_sales_sum', ascending=False)\n",
        "#строим круговую диаграмму распределения продаж игр на популярных платформах в Северной Америке\n",
        "region_of_platform['na_sales_sum'].plot(kind = 'pie', y = region_of_platform['platform'],\n",
        "                                  autopct = '%1.0f%%', figsize=(5,5), ylabel = 'Доли',\n",
        "                                  title = 'Диаграмма распределения популярных платформ в Северной Америке, в %');"
      ]
    },
    {
      "cell_type": "markdown",
      "id": "8831e7ed",
      "metadata": {
        "id": "8831e7ed"
      },
      "source": [
        "**Выводы:**   \n",
        "В Европе самые самые популярные платформы: PS4 31%, PS3 24%, X360 16% , XOne 11%, 3DX 9%    \n",
        "В Японии самые самые популярные платформы: 3DS 62%, PS3 25%, PS4 11%, X360 2%, XOne около 0%   \n",
        "В Северной Америке самые популярные платформы: X360 27%, PS4 21%, PS3 20%, XOne 18%, 3DX 11%  "
      ]
    },
    {
      "cell_type": "code",
      "execution_count": null,
      "id": "bc2724fc",
      "metadata": {
        "scrolled": true,
        "id": "bc2724fc",
        "outputId": "b76cf666-e04c-496f-de47-8adb983f4781"
      },
      "outputs": [
        {
          "data": {
            "image/png": "[encoded data removed]",
            "text/plain": [
              "<Figure size 360x360 with 1 Axes>"
            ]
          },
          "metadata": {},
          "output_type": "display_data"
        }
      ],
      "source": [
        "#строим гистограмму распределения выручки от по жанрам\n",
        "region_of_genre = popular_platform_new.groupby(['genre']).agg(\n",
        "                     eu_sales_sum = ('eu_sales', 'sum'),\n",
        "                     na_sales_sum = ('na_sales', 'sum'),\n",
        "                     jp_sales_sum = ('jp_sales', 'sum'),\n",
        "                     genre = ('genre', 'max') )\n",
        "region_of_genre ['total_sum_region'] = (region_of_genre['eu_sales_sum'] + region_of_genre['na_sales_sum'] +\n",
        "                                        region_of_genre['jp_sales_sum'] )\n",
        "\n",
        "region_of_genre = region_of_genre.sort_values('eu_sales_sum', ascending=False)\n",
        "\n",
        "#строим круговую диаграмму распределения продаж игр по жанрам в Европе\n",
        "region_of_genre['eu_sales_sum'].plot(kind = 'pie', y = region_of_genre['genre'],\n",
        "                                  autopct = '%1.0f%%', figsize=(5,5), ylabel = 'Доли',\n",
        "                                  title = 'Диаграмма распределения популярных жанров в Европе, в %');"
      ]
    },
    {
      "cell_type": "code",
      "execution_count": null,
      "id": "99d3752d",
      "metadata": {
        "id": "99d3752d",
        "outputId": "9b2ac0f5-d6ae-4931-e200-3917b07ffe92"
      },
      "outputs": [
        {
          "data": {
            "image/png": "[encoded data removed]",
            "text/plain": [
              "<Figure size 360x360 with 1 Axes>"
            ]
          },
          "metadata": {},
          "output_type": "display_data"
        }
      ],
      "source": [
        "region_of_genre = region_of_genre.sort_values('jp_sales_sum', ascending=False)\n",
        "\n",
        "#строим круговую диаграмму распределения продаж игр по жанрам в Японии\n",
        "region_of_genre['jp_sales_sum'].plot(kind = 'pie', y = region_of_genre['genre'],\n",
        "                                  autopct = '%1.0f%%', figsize=(5,5), ylabel = 'Доли',\n",
        "                                  title = 'Диаграмма распределения популярных жанров в Японии, в %');"
      ]
    },
    {
      "cell_type": "code",
      "execution_count": null,
      "id": "4fb81971",
      "metadata": {
        "id": "4fb81971",
        "outputId": "bbed3e90-e8a6-480a-a430-c0c26121bcd5"
      },
      "outputs": [
        {
          "data": {
            "image/png": "[encoded data removed]",
            "text/plain": [
              "<Figure size 360x360 with 1 Axes>"
            ]
          },
          "metadata": {},
          "output_type": "display_data"
        }
      ],
      "source": [
        "region_of_genre = region_of_genre.sort_values('na_sales_sum', ascending=False)\n",
        "\n",
        "#строим круговую диаграмму распределения продаж игр по жанрам в Северной Америке\n",
        "region_of_genre['na_sales_sum'].plot(kind = 'pie', y = region_of_genre['genre'],\n",
        "                                  autopct = '%1.0f%%', figsize=(5,5), ylabel = 'Доли',\n",
        "                                  title = 'Диаграмма распределения популярных жанров в Северной Америке, в %');"
      ]
    },
    {
      "cell_type": "markdown",
      "id": "fe042de9",
      "metadata": {
        "id": "fe042de9"
      },
      "source": [
        "**Выводы:**   \n",
        "В Европе самые самые популярные жанры: Action 32%, Shooter 24%,  Sport 15%, Role-Playeng 10%, Rasing 5%   \n",
        "В Японии самые самые популярные жанры: Role-Playeng 35%, Action 29%, Simulation 7% и Shooter 5%, Fighting 5%    \n",
        "В Северной Америке самые популярные жанры: Action 30%, Shooter 27%, Sport 15%, Role-Playeng 11%, Misc 4%      "
      ]
    },
    {
      "cell_type": "markdown",
      "id": "f6786dd4",
      "metadata": {
        "id": "f6786dd4"
      },
      "source": [
        "Влияет ли рейтинг ESRB на продажи в отдельном регионе?"
      ]
    },
    {
      "cell_type": "code",
      "execution_count": null,
      "id": "0a950159",
      "metadata": {
        "id": "0a950159",
        "outputId": "c2581736-ae7d-4e13-8abf-d61946a8a796"
      },
      "outputs": [
        {
          "data": {
            "image/png": "[encoded data removed]",
            "text/plain": [
              "<Figure size 360x360 with 1 Axes>"
            ]
          },
          "metadata": {},
          "output_type": "display_data"
        }
      ],
      "source": [
        "#распределение копий игры в млн. в разных регионах в зависимости от рейтинга\n",
        "\n",
        "region_of_rating = popular_platform_new.groupby(['rating']).agg(\n",
        "                     eu_sales_sum = ('eu_sales', 'sum'),\n",
        "                     na_sales_sum = ('na_sales', 'sum'),\n",
        "                     jp_sales_sum = ('jp_sales', 'sum'),\n",
        "                     rating = ('rating', 'max'))\n",
        "\n",
        "region_of_rating = region_of_rating.sort_values('eu_sales_sum', ascending=False)\n",
        "\n",
        "#строим круговую диаграмму распределения продаж игр в зависимости от рейтинга в Европе\n",
        "region_of_rating['eu_sales_sum'].plot(kind = 'pie', y = region_of_rating['rating'],\n",
        "                                  autopct = '%1.0f%%', figsize=(5,5), ylabel = 'Доли',\n",
        "                                  title = 'Диаграмма распределения продаж по рейтингу в Европе, в %');"
      ]
    },
    {
      "cell_type": "code",
      "execution_count": null,
      "id": "3d05b0bb",
      "metadata": {
        "id": "3d05b0bb",
        "outputId": "3c3be29a-16c0-4e18-c327-1f1808ab882c"
      },
      "outputs": [
        {
          "data": {
            "image/png": "[encoded data removed]",
            "text/plain": [
              "<Figure size 360x360 with 1 Axes>"
            ]
          },
          "metadata": {},
          "output_type": "display_data"
        }
      ],
      "source": [
        "region_of_rating = region_of_rating.sort_values('jp_sales_sum', ascending=False)\n",
        "\n",
        "#строим круговую диаграмму распределения продаж игр в зависимости от рейтинга в Японии\n",
        "region_of_rating['jp_sales_sum'].plot(kind = 'pie', y = region_of_rating['rating'],\n",
        "                                  autopct = '%1.0f%%', figsize=(5,5), ylabel = 'Доли',\n",
        "                                  title = 'Диаграмма распределения продаж по рейтингу в Японии, в %');"
      ]
    },
    {
      "cell_type": "code",
      "execution_count": null,
      "id": "b9092d68",
      "metadata": {
        "id": "b9092d68",
        "outputId": "5fa6802e-7951-45af-b428-9cbb1dc7ff0c"
      },
      "outputs": [
        {
          "data": {
            "image/png": "[encoded data removed]",
            "text/plain": [
              "<Figure size 360x360 with 1 Axes>"
            ]
          },
          "metadata": {},
          "output_type": "display_data"
        }
      ],
      "source": [
        "region_of_rating = region_of_rating.sort_values('na_sales_sum', ascending=False)\n",
        "\n",
        "#строим круговую диаграмму распределения продаж игр в зависимости от рейтинга в Северной Америке\n",
        "region_of_rating['na_sales_sum'].plot(kind = 'pie', y = region_of_rating['rating'],\n",
        "                                  autopct = '%1.0f%%', figsize=(5,5), ylabel = 'Доли',\n",
        "                                  title = 'Диаграмма распределения продаж по рейтингу в Северной Америке, в %');"
      ]
    },
    {
      "cell_type": "markdown",
      "id": "35203063",
      "metadata": {
        "id": "35203063"
      },
      "source": [
        "**Выводы:**   \n",
        "В Европе бальше всего продаж игр с рейтингом: M 42%, E 21%, T 11%, E10+ 8%. У 18% рейтинг неизвестен.   \n",
        "В Японии самые бальше всего продаж игр с рейтингом: E и T 14%, M 13%, E10+ 3%. У 55% рейтинг неизвестен.     \n",
        "В Северной Америке бальше всего продаж игр с рейтингом: M 43%, E 18%,  и T 12%, E10+ 9%. У 17% рейтинг неизвестен  "
      ]
    },
    {
      "cell_type": "markdown",
      "id": "eae8bee4",
      "metadata": {
        "id": "eae8bee4"
      },
      "source": [
        "**Выводы по анализу портрета пользователя по каждому региону:**\n",
        " Были подготовлены группировки по регионам с различным набором характеристик для проведения исследования.  \n",
        " Построены круговые диаграммы и посчитаны доли продаж по каждому из критерием.  \n",
        " Оценены полученные результаты:  \n",
        "\n",
        "В Европе:  \n",
        "- самые самые популярные платформы: PS4 31%, PS3 24%, X360 16% , XOne 11%, 3DX 9%  \n",
        "- самые самые популярные жанры: Action 32%, Shooter 24%,  Sport 15%, Role-Playeng 10%, Rasing 5%    \n",
        "- бальше всего продаж игр с рейтингом:  M 42%, E 21%, T 11%, E10+ 8%\n",
        "\n",
        "В Японии:  \n",
        "- самые самые популярные платформы: 3DS 62%, PS3 25%, PS4 11%, X360 2%, XOne около 0%   \n",
        "- самые самые популярные жанры: Role-Playeng 35%, Action 29%, Simulation 7% и Shooter 5%, Fighting 5%    \n",
        "- самые бальше всего продаж игр с рейтингом: E и T 14%, M 13%, E10+ 3%.\n",
        "\n",
        "В Северной Америке:  \n",
        "- самые популярные платформы:  X360 27%, PS4 21%, PS3 20%, XOne 18%, 3DX 11%\n",
        "- самые популярные жанры:  Action 30%, Shooter 27%, Sport 15%, Role-Playeng 11%, Misc 4%    \n",
        "- бальше всего продаж игр с рейтингом: M 43%, E 18%,  и T 12%, E10+ 9%.\n",
        "\n",
        "Портреты пользователей в Европе и Северной Америке схожи."
      ]
    },
    {
      "cell_type": "markdown",
      "id": "4269b6ec",
      "metadata": {
        "id": "4269b6ec"
      },
      "source": [
        "## **Шаг 5. Проверка гипотез**  "
      ]
    },
    {
      "cell_type": "markdown",
      "id": "e9a78eba",
      "metadata": {
        "id": "e9a78eba"
      },
      "source": [
        "5.1. Средние пользовательские рейтинги платформ Xbox One и PC одинаковые.  \n",
        "  \n",
        "Нулевая гипотеза: Средние пользовательские рейтинги платформ XOne == PC  \n",
        "Альтернативная: Средние пользовательские рейтинги платформ XOne != PC  \n",
        "Уровень статистической значимости зададим = 5% (alpha = 0.05)  \n",
        "Для проверки гипотизы найдем p-value и сравним его с уровнем статистической значимости"
      ]
    },
    {
      "cell_type": "code",
      "execution_count": null,
      "id": "b0070273",
      "metadata": {
        "id": "b0070273",
        "outputId": "0ba73d0c-2874-4d7b-95dc-674db9e90c32"
      },
      "outputs": [
        {
          "name": "stdout",
          "output_type": "stream",
          "text": [
            "<class 'pandas.core.frame.DataFrame'>\n",
            "Int64Index: 228 entries, 99 to 16672\n",
            "Data columns (total 13 columns):\n",
            " #   Column           Non-Null Count  Dtype  \n",
            "---  ------           --------------  -----  \n",
            " 0   unnamed: 0       228 non-null    int64  \n",
            " 1   name             228 non-null    object \n",
            " 2   platform         228 non-null    object \n",
            " 3   year_of_release  228 non-null    int64  \n",
            " 4   genre            228 non-null    object \n",
            " 5   na_sales         228 non-null    float64\n",
            " 6   eu_sales         228 non-null    float64\n",
            " 7   jp_sales         228 non-null    float64\n",
            " 8   other_sales      228 non-null    float64\n",
            " 9   critic_score     228 non-null    int64  \n",
            " 10  user_score       228 non-null    float64\n",
            " 11  rating           228 non-null    object \n",
            " 12  total_sum        228 non-null    float64\n",
            "dtypes: float64(6), int64(3), object(4)\n",
            "memory usage: 24.9+ KB\n",
            "<class 'pandas.core.frame.DataFrame'>\n",
            "Int64Index: 151 entries, 458 to 16692\n",
            "Data columns (total 13 columns):\n",
            " #   Column           Non-Null Count  Dtype  \n",
            "---  ------           --------------  -----  \n",
            " 0   unnamed: 0       151 non-null    int64  \n",
            " 1   name             151 non-null    object \n",
            " 2   platform         151 non-null    object \n",
            " 3   year_of_release  151 non-null    int64  \n",
            " 4   genre            151 non-null    object \n",
            " 5   na_sales         151 non-null    float64\n",
            " 6   eu_sales         151 non-null    float64\n",
            " 7   jp_sales         151 non-null    float64\n",
            " 8   other_sales      151 non-null    float64\n",
            " 9   critic_score     151 non-null    int64  \n",
            " 10  user_score       151 non-null    float64\n",
            " 11  rating           151 non-null    object \n",
            " 12  total_sum        151 non-null    float64\n",
            "dtypes: float64(6), int64(3), object(4)\n",
            "memory usage: 16.5+ KB\n"
          ]
        },
        {
          "data": {
            "text/plain": [
              "0.06149969471748772"
            ]
          },
          "metadata": {},
          "output_type": "display_data"
        },
        {
          "data": {
            "text/plain": [
              "'Нет оснований отвергнуть нулевую гипотезу'"
            ]
          },
          "metadata": {},
          "output_type": "display_data"
        }
      ],
      "source": [
        "#запишем в новый датасет данные по платформам XOne и PC\n",
        "platform_XOne = games.query(\"year_of_release > 2013 & platform == 'XOne'\")\n",
        "platform_PC = games.query(\"year_of_release > 2013 & platform == 'PC'\")\n",
        "\n",
        "\n",
        "platform_XOne.info()\n",
        "platform_PC.info()\n",
        "\n",
        "alpha = 0.05\n",
        "\n",
        "#проверим двустороннюю two-sided гипотезу о том, что истинное среднее в первом датасете== истиному среднего во втором.\n",
        "#при разных дисперсий\n",
        "results = st.ttest_ind(platform_XOne['user_score'], platform_PC['user_score'],\n",
        "                       equal_var=False, alternative='two-sided')\n",
        "\n",
        "display (results.pvalue)\n",
        "\n",
        "if results.pvalue < alpha:\n",
        "    display('Отвергаем нулевую гипотезу')\n",
        "else:\n",
        "    display('Нет оснований отвергнуть нулевую гипотезу')"
      ]
    },
    {
      "cell_type": "markdown",
      "id": "50cac02a",
      "metadata": {
        "id": "50cac02a"
      },
      "source": [
        "Нет оснований отвергнуть нулевую гипотезу, т.е. есть основания утверждать, что рейтинги платформ XOne и PC равны, при заданном нами уровне значимости - 5 %."
      ]
    },
    {
      "cell_type": "markdown",
      "id": "118ad2e8",
      "metadata": {
        "id": "118ad2e8"
      },
      "source": [
        "5.2. Проверим вторую гипотезу: средние пользовательские рейтинги жанров Action и Sports разные.\n",
        "\n",
        "Нулевая гипотеза: Средние пользовательские рейтинги жанров Action == Sports\n",
        "Альтернативная: Средние пользовательские рейтинги платформ Action != Sports  \n",
        "Уровень статистической значимости зададим = 5% (alpha = 0.05)  \n",
        "Для проверки гипотизы найдем p-value и сравним его с уровнем статистической значимости"
      ]
    },
    {
      "cell_type": "code",
      "execution_count": null,
      "id": "96fa43e3",
      "metadata": {
        "id": "96fa43e3",
        "outputId": "bebb38d1-24b9-4019-b479-7f92767f0ee8"
      },
      "outputs": [
        {
          "data": {
            "text/plain": [
              "5.0214083316378155e-14"
            ]
          },
          "metadata": {},
          "output_type": "display_data"
        },
        {
          "data": {
            "text/plain": [
              "'Отвергаем нулевую гипотезу'"
            ]
          },
          "metadata": {},
          "output_type": "display_data"
        }
      ],
      "source": [
        "#запишем в новый датасет данные по платформам XOne и PC\n",
        "\n",
        "platform_Action = games.query(\"year_of_release > 2013 & genre == 'Action'\")\n",
        "platform_Sports = games.query(\"year_of_release > 2013 & genre == 'Sports'\")\n",
        "\n",
        "alpha = 0.05\n",
        "\n",
        "#проверим двустороннюю two-sided гипотезу о том, что истинное среднее в первом датасете== истиному среднего во втором.\n",
        "#при разных дисперсий (т.к. кол-во значений выборок в 4 раза отличается)\n",
        "results = st.ttest_ind(platform_Action['user_score'], platform_Sports['user_score'],\n",
        "                       equal_var=False, alternative='two-sided')\n",
        "\n",
        "display (results.pvalue)\n",
        "\n",
        "if results.pvalue < alpha:\n",
        "    display('Отвергаем нулевую гипотезу')\n",
        "else:\n",
        "    display('Нет оснований отвергнуть нулевую гипотезу')"
      ]
    },
    {
      "cell_type": "markdown",
      "id": "52611c3c",
      "metadata": {
        "id": "52611c3c"
      },
      "source": [
        "Есть основания отвергнуть нулевую гипотезу, т.е. есть основания утверждать, что редние пользовательские рейтинги жанров Action != Sports (разные), при заданном нами уровне значимости в 5 %"
      ]
    },
    {
      "cell_type": "markdown",
      "id": "ee44e99d",
      "metadata": {
        "id": "ee44e99d"
      },
      "source": [
        "**Выводы по Проверке гипотез:**  \n",
        "    1. Нет оснований отвергнуть нулевую гипотезу, т.е. есть основания утверждать, что рейтинги платформ XOne и PC равны, при заданном нами уровне значимости - 5 %.  \n",
        "    2. Есть основания отвергнуть нулевую гипотезу, т.е. есть основания утверждать, что редние пользовательские рейтинги жанров Action != Sports не равны (разные), при заданном нами уровне значимости в 5 %"
      ]
    },
    {
      "cell_type": "markdown",
      "id": "72c8fa4a",
      "metadata": {
        "id": "72c8fa4a"
      },
      "source": [
        "## **Шаг 6. Общие выводы**  "
      ]
    },
    {
      "cell_type": "markdown",
      "id": "8cef8571",
      "metadata": {
        "id": "8cef8571"
      },
      "source": [
        "# Ключевые выводы исследования игрового рынка\n",
        "\n",
        "## Анализ игровых платформ и трендов\n",
        "\n",
        "### Динамика рынка:\n",
        "- **Общий тренд**: Спад продаж за последние 3 года на всех платформах\n",
        "- **Перспективные платформы**: XOne и PS4 демонстрируют наибольший потенциал роста\n",
        "- **Актуальный период**: Данные за последние 5 лет наиболее релевантны для анализа\n",
        "\n",
        "### Влияние оценок на продажи:\n",
        "- **Общая корреляция**: Слабая связь между оценками пользователей/критиков и продажами\n",
        "- **Платформенные различия**: Степень влияния оценок варьируется в зависимости от платформы\n",
        "\n",
        "## 🎮 Анализ игровых жанров\n",
        "\n",
        "### Лидеры по продажам:\n",
        "1. **Shooters** - абсолютный лидер по прибыльности\n",
        "2. **Sports** - стабильно высокие продажи\n",
        "3. **Role-Playing** - сильные позиции на рынке\n",
        "\n",
        "### Аутсайдеры рынка:\n",
        "- **Puzzle** - наименьший коммерческий успех\n",
        "- **Adventure** - низкие показатели продаж\n",
        "- **Strategy** - ограниченная аудитория\n",
        "\n",
        "## 🌍 Региональные особенности игрового рынка\n",
        "\n",
        "### Европейский рынок:\n",
        "- **Платформы**: PS4 (31%), PS3 (24%), X360 (16%)\n",
        "- **Жанры**: Action (32%), Shooter (24%), Sports (15%)\n",
        "- **Рейтинги**: M (42%), E (21%), T (11%)\n",
        "\n",
        "### Японский рынок:\n",
        "- **Платформы**: 3DS (62%), PS3 (25%), PS4 (11%)\n",
        "- **Жанры**: Role-Playing (35%), Action (29%), Simulation (7%)\n",
        "- **Рейтинги**: E/T (по 14%), M (13%)\n",
        "\n",
        "### Северная Америка:\n",
        "- **Платформы**: X360 (27%), PS4 (21%), PS3 (20%)\n",
        "- **Жанры**: Action (30%), Shooter (27%), Sports (15%)\n",
        "- **Рейтинги**: M (43%), E (18%), T (12%)\n",
        "\n",
        "**Ключевое наблюдение**: Портреты пользователей Европы и Северной Америки схожи\n",
        "\n",
        "## ✅ Статистически подтвержденные гипотезы\n",
        "\n",
        "### Гипотеза 1: Сравнение рейтингов платформ\n",
        "**\"Рейтинги платформ XOne и PC равны\"** ✅ ПОДТВЕРЖДЕНО\n",
        "- Нет оснований отвергнуть нулевую гипотезу на уровне значимости 5%\n",
        "\n",
        "### Гипотеза 2: Сравнение рейтингов жанров\n",
        "**\"Пользовательские рейтинги жанров Action и Sports различаются\"** ✅ ПОДТВЕРЖДЕНО\n",
        "- Есть основания утверждать о статистически значимом различии на уровне 5%\n",
        "\n",
        "## Рекомендации для бизнеса\n",
        "\n",
        "### Приоритетные направления:\n",
        "- **Фокус на Shooters и Sports** - максимальная отдача от инвестиций\n",
        "- **Развитие Role-Playing** - перспективный жанр с растущей аудиторией\n",
        "\n",
        "### Региональные стратегии:\n",
        "- **Европа и Северная Америка**: Единая маркетинговая стратегия (схожие предпочтения)\n",
        "- **Япония**: Локализованный подход с акцентом на 3DS и Role-Playing игры\n",
        "\n",
        "### Платформенная стратегия:\n",
        "- **Инвестиции в PS4 и XOne** - наиболее перспективные платформы\n",
        "- **Мониторинг новых трендов** - готовность к смене технологических циклов\n",
        "\n",
        "### Продуктовая стратегия:\n",
        "- **Баланс оценок** - не переоценивать влияние рейтингов на коммерческий успех\n",
        "- **Региональная адаптация** - учет культурных особенностей при выборе контента"
      ]
    },
    {
      "cell_type": "markdown",
      "id": "4d2db841",
      "metadata": {
        "id": "4d2db841"
      },
      "source": [
        "**Предложения для отдела маркетинга**\n",
        "\n",
        "Для увеличения прибыльности онлайн-магазина \"Стримчик\" более эффективно планировать рекламную кампанию игр на наиболее популярных платформах, фанрах и рейтингу: XOne и PS4, жанры Shoters, Sports и Rolle-Playing и возрастным рейтингом \"M\" - для взрослых."
      ]
    }
  ],
  "metadata": {
    "ExecuteTimeLog": [
      {
        "duration": 1105,
        "start_time": "2025-01-26T07:35:56.094Z"
      },
      {
        "duration": 250,
        "start_time": "2025-01-26T07:35:57.201Z"
      },
      {
        "duration": 37,
        "start_time": "2025-01-26T07:35:57.452Z"
      },
      {
        "duration": 15,
        "start_time": "2025-01-26T07:35:57.491Z"
      },
      {
        "duration": 37,
        "start_time": "2025-01-26T07:35:57.508Z"
      },
      {
        "duration": 26,
        "start_time": "2025-01-26T07:35:57.547Z"
      },
      {
        "duration": 13,
        "start_time": "2025-01-26T07:35:57.575Z"
      },
      {
        "duration": 54,
        "start_time": "2025-01-26T07:35:57.589Z"
      },
      {
        "duration": 6,
        "start_time": "2025-01-26T07:35:57.644Z"
      },
      {
        "duration": 8,
        "start_time": "2025-01-26T07:35:57.653Z"
      },
      {
        "duration": 5,
        "start_time": "2025-01-26T07:35:57.662Z"
      },
      {
        "duration": 10,
        "start_time": "2025-01-26T07:35:57.668Z"
      },
      {
        "duration": 22,
        "start_time": "2025-01-26T07:35:57.680Z"
      },
      {
        "duration": 41,
        "start_time": "2025-01-26T07:35:57.704Z"
      },
      {
        "duration": 13,
        "start_time": "2025-01-26T07:35:57.747Z"
      },
      {
        "duration": 9,
        "start_time": "2025-01-26T07:35:57.762Z"
      },
      {
        "duration": 58,
        "start_time": "2025-01-26T07:35:57.772Z"
      },
      {
        "duration": 19,
        "start_time": "2025-01-26T07:35:57.832Z"
      },
      {
        "duration": 84,
        "start_time": "2025-01-26T08:10:06.813Z"
      },
      {
        "duration": 0,
        "start_time": "2025-01-26T08:10:06.900Z"
      },
      {
        "duration": 0,
        "start_time": "2025-01-26T08:10:06.901Z"
      },
      {
        "duration": 0,
        "start_time": "2025-01-26T08:10:06.903Z"
      },
      {
        "duration": 0,
        "start_time": "2025-01-26T08:10:06.904Z"
      },
      {
        "duration": 0,
        "start_time": "2025-01-26T08:10:06.905Z"
      },
      {
        "duration": 0,
        "start_time": "2025-01-26T08:10:06.906Z"
      },
      {
        "duration": 0,
        "start_time": "2025-01-26T08:10:06.908Z"
      },
      {
        "duration": 0,
        "start_time": "2025-01-26T08:10:06.909Z"
      },
      {
        "duration": 0,
        "start_time": "2025-01-26T08:10:06.909Z"
      },
      {
        "duration": 0,
        "start_time": "2025-01-26T08:10:06.910Z"
      },
      {
        "duration": 0,
        "start_time": "2025-01-26T08:10:06.912Z"
      },
      {
        "duration": 0,
        "start_time": "2025-01-26T08:10:06.913Z"
      },
      {
        "duration": 0,
        "start_time": "2025-01-26T08:10:06.914Z"
      },
      {
        "duration": 0,
        "start_time": "2025-01-26T08:10:06.915Z"
      },
      {
        "duration": 0,
        "start_time": "2025-01-26T08:10:06.916Z"
      },
      {
        "duration": 0,
        "start_time": "2025-01-26T08:10:06.917Z"
      },
      {
        "duration": 0,
        "start_time": "2025-01-26T08:10:06.918Z"
      },
      {
        "duration": 0,
        "start_time": "2025-01-26T08:10:06.920Z"
      },
      {
        "duration": 0,
        "start_time": "2025-01-26T08:10:06.921Z"
      },
      {
        "duration": 100,
        "start_time": "2025-01-26T08:10:27.521Z"
      },
      {
        "duration": 1440,
        "start_time": "2025-01-26T08:13:58.637Z"
      },
      {
        "duration": 197,
        "start_time": "2025-01-26T08:14:00.079Z"
      },
      {
        "duration": 41,
        "start_time": "2025-01-26T08:14:00.277Z"
      },
      {
        "duration": 18,
        "start_time": "2025-01-26T08:14:01.043Z"
      },
      {
        "duration": 19,
        "start_time": "2025-01-26T08:14:01.385Z"
      },
      {
        "duration": 28,
        "start_time": "2025-01-26T08:14:01.664Z"
      },
      {
        "duration": 13,
        "start_time": "2025-01-26T08:14:01.898Z"
      },
      {
        "duration": 20,
        "start_time": "2025-01-26T08:14:02.133Z"
      },
      {
        "duration": 5,
        "start_time": "2025-01-26T08:14:02.353Z"
      },
      {
        "duration": 7,
        "start_time": "2025-01-26T08:14:02.780Z"
      },
      {
        "duration": 5,
        "start_time": "2025-01-26T08:14:02.992Z"
      },
      {
        "duration": 8,
        "start_time": "2025-01-26T08:14:03.211Z"
      },
      {
        "duration": 9,
        "start_time": "2025-01-26T08:14:03.432Z"
      },
      {
        "duration": 24,
        "start_time": "2025-01-26T08:14:03.669Z"
      },
      {
        "duration": 19,
        "start_time": "2025-01-26T08:14:03.889Z"
      },
      {
        "duration": 13,
        "start_time": "2025-01-26T08:14:04.134Z"
      },
      {
        "duration": 33,
        "start_time": "2025-01-26T08:14:04.619Z"
      },
      {
        "duration": 21,
        "start_time": "2025-01-26T08:14:05.072Z"
      },
      {
        "duration": 88,
        "start_time": "2025-01-26T08:14:05.308Z"
      },
      {
        "duration": 110,
        "start_time": "2025-01-26T08:22:04.568Z"
      },
      {
        "duration": 40,
        "start_time": "2025-01-26T08:22:26.620Z"
      },
      {
        "duration": 9,
        "start_time": "2025-01-26T08:23:07.242Z"
      },
      {
        "duration": 10,
        "start_time": "2025-01-26T08:25:34.770Z"
      },
      {
        "duration": 45,
        "start_time": "2025-01-26T08:27:49.995Z"
      },
      {
        "duration": 42,
        "start_time": "2025-01-26T08:28:13.631Z"
      },
      {
        "duration": 38,
        "start_time": "2025-01-26T08:30:57.591Z"
      },
      {
        "duration": 38,
        "start_time": "2025-01-26T08:32:59.018Z"
      },
      {
        "duration": 56,
        "start_time": "2025-01-26T08:33:14.029Z"
      },
      {
        "duration": 16,
        "start_time": "2025-01-26T08:34:17.559Z"
      },
      {
        "duration": 50,
        "start_time": "2025-01-26T08:34:54.964Z"
      },
      {
        "duration": 22,
        "start_time": "2025-01-26T08:37:51.742Z"
      },
      {
        "duration": 15,
        "start_time": "2025-01-26T08:38:14.553Z"
      },
      {
        "duration": 17,
        "start_time": "2025-01-26T08:38:20.381Z"
      },
      {
        "duration": 1197,
        "start_time": "2025-01-26T08:38:36.564Z"
      },
      {
        "duration": 242,
        "start_time": "2025-01-26T08:38:37.764Z"
      },
      {
        "duration": 39,
        "start_time": "2025-01-26T08:38:38.008Z"
      },
      {
        "duration": 24,
        "start_time": "2025-01-26T08:38:38.049Z"
      },
      {
        "duration": 18,
        "start_time": "2025-01-26T08:38:38.076Z"
      },
      {
        "duration": 42,
        "start_time": "2025-01-26T08:38:38.096Z"
      },
      {
        "duration": 31,
        "start_time": "2025-01-26T08:38:38.140Z"
      },
      {
        "duration": 21,
        "start_time": "2025-01-26T08:38:38.172Z"
      },
      {
        "duration": 6,
        "start_time": "2025-01-26T08:38:38.195Z"
      },
      {
        "duration": 10,
        "start_time": "2025-01-26T08:38:38.203Z"
      },
      {
        "duration": 15,
        "start_time": "2025-01-26T08:38:38.215Z"
      },
      {
        "duration": 32,
        "start_time": "2025-01-26T08:38:38.232Z"
      },
      {
        "duration": 10,
        "start_time": "2025-01-26T08:38:38.266Z"
      },
      {
        "duration": 28,
        "start_time": "2025-01-26T08:38:38.279Z"
      },
      {
        "duration": 55,
        "start_time": "2025-01-26T08:38:38.309Z"
      },
      {
        "duration": 12,
        "start_time": "2025-01-26T08:38:38.366Z"
      },
      {
        "duration": 28,
        "start_time": "2025-01-26T08:38:38.380Z"
      },
      {
        "duration": 51,
        "start_time": "2025-01-26T08:38:38.410Z"
      },
      {
        "duration": 110,
        "start_time": "2025-01-26T08:38:38.463Z"
      },
      {
        "duration": 0,
        "start_time": "2025-01-26T08:38:38.574Z"
      },
      {
        "duration": 23,
        "start_time": "2025-01-26T08:39:00.260Z"
      },
      {
        "duration": 25,
        "start_time": "2025-01-26T08:41:15.959Z"
      },
      {
        "duration": 8,
        "start_time": "2025-01-26T08:41:25.437Z"
      },
      {
        "duration": 18,
        "start_time": "2025-01-26T08:55:09.823Z"
      },
      {
        "duration": 191,
        "start_time": "2025-01-26T08:55:32.775Z"
      },
      {
        "duration": 373,
        "start_time": "2025-01-26T08:57:46.617Z"
      },
      {
        "duration": 1761,
        "start_time": "2025-01-26T09:00:33.629Z"
      },
      {
        "duration": 204,
        "start_time": "2025-01-26T09:01:00.230Z"
      },
      {
        "duration": 1635,
        "start_time": "2025-01-26T09:02:11.697Z"
      },
      {
        "duration": 193,
        "start_time": "2025-01-26T09:02:33.215Z"
      },
      {
        "duration": 195,
        "start_time": "2025-01-26T09:02:47.020Z"
      },
      {
        "duration": 204,
        "start_time": "2025-01-26T09:04:38.625Z"
      },
      {
        "duration": 199,
        "start_time": "2025-01-26T09:06:51.815Z"
      },
      {
        "duration": 220,
        "start_time": "2025-01-26T09:07:58.239Z"
      },
      {
        "duration": 292,
        "start_time": "2025-01-26T09:10:00.207Z"
      },
      {
        "duration": 221,
        "start_time": "2025-01-26T09:10:42.296Z"
      },
      {
        "duration": 219,
        "start_time": "2025-01-26T09:11:12.900Z"
      },
      {
        "duration": 219,
        "start_time": "2025-01-26T09:11:26.340Z"
      },
      {
        "duration": 221,
        "start_time": "2025-01-26T09:12:09.764Z"
      },
      {
        "duration": 211,
        "start_time": "2025-01-26T09:13:30.466Z"
      },
      {
        "duration": 30,
        "start_time": "2025-01-26T09:16:42.627Z"
      },
      {
        "duration": 65,
        "start_time": "2025-01-26T09:17:20.160Z"
      },
      {
        "duration": 43,
        "start_time": "2025-01-26T09:17:26.752Z"
      },
      {
        "duration": 171,
        "start_time": "2025-01-26T09:18:20.169Z"
      },
      {
        "duration": 159,
        "start_time": "2025-01-26T09:18:26.725Z"
      },
      {
        "duration": 156,
        "start_time": "2025-01-26T09:18:49.669Z"
      },
      {
        "duration": 159,
        "start_time": "2025-01-26T09:19:48.522Z"
      },
      {
        "duration": 282,
        "start_time": "2025-01-26T09:20:02.778Z"
      },
      {
        "duration": 149,
        "start_time": "2025-01-26T09:21:37.390Z"
      },
      {
        "duration": 166,
        "start_time": "2025-01-26T09:22:15.351Z"
      },
      {
        "duration": 393,
        "start_time": "2025-01-26T09:22:48.736Z"
      },
      {
        "duration": 157,
        "start_time": "2025-01-26T09:24:35.096Z"
      },
      {
        "duration": 221,
        "start_time": "2025-01-26T09:25:39.653Z"
      },
      {
        "duration": 4,
        "start_time": "2025-01-26T09:25:50.640Z"
      },
      {
        "duration": 423,
        "start_time": "2025-01-26T09:26:00.405Z"
      },
      {
        "duration": 472,
        "start_time": "2025-01-26T09:26:33.801Z"
      },
      {
        "duration": 87,
        "start_time": "2025-01-26T09:30:35.368Z"
      },
      {
        "duration": 1293,
        "start_time": "2025-01-26T09:31:23.494Z"
      },
      {
        "duration": 186,
        "start_time": "2025-01-26T09:31:24.790Z"
      },
      {
        "duration": 40,
        "start_time": "2025-01-26T09:31:24.978Z"
      },
      {
        "duration": 18,
        "start_time": "2025-01-26T09:31:25.020Z"
      },
      {
        "duration": 49,
        "start_time": "2025-01-26T09:31:25.040Z"
      },
      {
        "duration": 25,
        "start_time": "2025-01-26T09:31:25.090Z"
      },
      {
        "duration": 12,
        "start_time": "2025-01-26T09:31:25.117Z"
      },
      {
        "duration": 45,
        "start_time": "2025-01-26T09:31:25.130Z"
      },
      {
        "duration": 5,
        "start_time": "2025-01-26T09:31:25.177Z"
      },
      {
        "duration": 19,
        "start_time": "2025-01-26T09:31:25.184Z"
      },
      {
        "duration": 18,
        "start_time": "2025-01-26T09:31:25.205Z"
      },
      {
        "duration": 15,
        "start_time": "2025-01-26T09:31:25.224Z"
      },
      {
        "duration": 8,
        "start_time": "2025-01-26T09:31:25.241Z"
      },
      {
        "duration": 34,
        "start_time": "2025-01-26T09:31:25.259Z"
      },
      {
        "duration": 18,
        "start_time": "2025-01-26T09:31:25.295Z"
      },
      {
        "duration": 14,
        "start_time": "2025-01-26T09:31:25.314Z"
      },
      {
        "duration": 56,
        "start_time": "2025-01-26T09:31:25.329Z"
      },
      {
        "duration": 18,
        "start_time": "2025-01-26T09:31:25.387Z"
      },
      {
        "duration": 21,
        "start_time": "2025-01-26T09:31:25.406Z"
      },
      {
        "duration": 1272,
        "start_time": "2025-01-26T09:35:42.316Z"
      },
      {
        "duration": 133,
        "start_time": "2025-01-26T09:35:43.590Z"
      },
      {
        "duration": 37,
        "start_time": "2025-01-26T09:35:43.725Z"
      },
      {
        "duration": 17,
        "start_time": "2025-01-26T09:35:43.763Z"
      },
      {
        "duration": 28,
        "start_time": "2025-01-26T09:35:43.782Z"
      },
      {
        "duration": 23,
        "start_time": "2025-01-26T09:35:43.811Z"
      },
      {
        "duration": 33,
        "start_time": "2025-01-26T09:35:43.836Z"
      },
      {
        "duration": 23,
        "start_time": "2025-01-26T09:35:43.870Z"
      },
      {
        "duration": 4,
        "start_time": "2025-01-26T09:35:43.895Z"
      },
      {
        "duration": 15,
        "start_time": "2025-01-26T09:35:43.901Z"
      },
      {
        "duration": 18,
        "start_time": "2025-01-26T09:35:43.917Z"
      },
      {
        "duration": 25,
        "start_time": "2025-01-26T09:35:43.937Z"
      },
      {
        "duration": 8,
        "start_time": "2025-01-26T09:35:43.964Z"
      },
      {
        "duration": 27,
        "start_time": "2025-01-26T09:35:43.975Z"
      },
      {
        "duration": 15,
        "start_time": "2025-01-26T09:35:44.004Z"
      },
      {
        "duration": 44,
        "start_time": "2025-01-26T09:35:44.021Z"
      },
      {
        "duration": 44,
        "start_time": "2025-01-26T09:35:44.067Z"
      },
      {
        "duration": 21,
        "start_time": "2025-01-26T09:35:44.112Z"
      },
      {
        "duration": 45,
        "start_time": "2025-01-26T09:35:44.135Z"
      },
      {
        "duration": 1390,
        "start_time": "2025-01-26T09:42:23.884Z"
      },
      {
        "duration": 172,
        "start_time": "2025-01-26T09:42:25.277Z"
      },
      {
        "duration": 44,
        "start_time": "2025-01-26T09:42:25.451Z"
      },
      {
        "duration": 17,
        "start_time": "2025-01-26T09:42:25.497Z"
      },
      {
        "duration": 26,
        "start_time": "2025-01-26T09:42:25.516Z"
      },
      {
        "duration": 48,
        "start_time": "2025-01-26T09:42:25.544Z"
      },
      {
        "duration": 13,
        "start_time": "2025-01-26T09:42:25.593Z"
      },
      {
        "duration": 23,
        "start_time": "2025-01-26T09:42:25.608Z"
      },
      {
        "duration": 9,
        "start_time": "2025-01-26T09:42:25.664Z"
      },
      {
        "duration": 12,
        "start_time": "2025-01-26T09:42:25.675Z"
      },
      {
        "duration": 5,
        "start_time": "2025-01-26T09:42:25.688Z"
      },
      {
        "duration": 8,
        "start_time": "2025-01-26T09:42:25.694Z"
      },
      {
        "duration": 9,
        "start_time": "2025-01-26T09:42:25.704Z"
      },
      {
        "duration": 67,
        "start_time": "2025-01-26T09:42:25.717Z"
      },
      {
        "duration": 16,
        "start_time": "2025-01-26T09:42:25.786Z"
      },
      {
        "duration": 9,
        "start_time": "2025-01-26T09:42:25.804Z"
      },
      {
        "duration": 57,
        "start_time": "2025-01-26T09:42:25.815Z"
      },
      {
        "duration": 20,
        "start_time": "2025-01-26T09:42:25.875Z"
      },
      {
        "duration": 22,
        "start_time": "2025-01-26T09:42:25.897Z"
      },
      {
        "duration": 1294,
        "start_time": "2025-01-26T09:47:14.526Z"
      },
      {
        "duration": 169,
        "start_time": "2025-01-26T09:47:15.822Z"
      },
      {
        "duration": 39,
        "start_time": "2025-01-26T09:47:15.992Z"
      },
      {
        "duration": 39,
        "start_time": "2025-01-26T09:47:16.033Z"
      },
      {
        "duration": 20,
        "start_time": "2025-01-26T09:47:16.074Z"
      },
      {
        "duration": 26,
        "start_time": "2025-01-26T09:47:16.096Z"
      },
      {
        "duration": 45,
        "start_time": "2025-01-26T09:47:16.124Z"
      },
      {
        "duration": 21,
        "start_time": "2025-01-26T09:47:16.171Z"
      },
      {
        "duration": 17,
        "start_time": "2025-01-26T09:47:16.194Z"
      },
      {
        "duration": 10,
        "start_time": "2025-01-26T09:47:16.213Z"
      },
      {
        "duration": 5,
        "start_time": "2025-01-26T09:47:16.225Z"
      },
      {
        "duration": 42,
        "start_time": "2025-01-26T09:47:16.232Z"
      },
      {
        "duration": 8,
        "start_time": "2025-01-26T09:47:16.275Z"
      },
      {
        "duration": 25,
        "start_time": "2025-01-26T09:47:16.285Z"
      },
      {
        "duration": 15,
        "start_time": "2025-01-26T09:47:16.312Z"
      },
      {
        "duration": 44,
        "start_time": "2025-01-26T09:47:16.329Z"
      },
      {
        "duration": 24,
        "start_time": "2025-01-26T09:47:16.375Z"
      },
      {
        "duration": 19,
        "start_time": "2025-01-26T09:47:16.401Z"
      },
      {
        "duration": 56,
        "start_time": "2025-01-26T09:47:16.421Z"
      },
      {
        "duration": 445,
        "start_time": "2025-01-26T09:47:16.479Z"
      },
      {
        "duration": 155,
        "start_time": "2025-01-26T09:47:16.926Z"
      },
      {
        "duration": 36,
        "start_time": "2025-01-26T09:47:48.014Z"
      },
      {
        "duration": 38,
        "start_time": "2025-01-26T09:48:10.965Z"
      },
      {
        "duration": 43,
        "start_time": "2025-01-26T09:49:07.859Z"
      },
      {
        "duration": 35,
        "start_time": "2025-01-26T09:49:48.723Z"
      },
      {
        "duration": 45,
        "start_time": "2025-01-26T09:50:53.900Z"
      },
      {
        "duration": 51,
        "start_time": "2025-01-26T09:51:37.133Z"
      },
      {
        "duration": 54,
        "start_time": "2025-01-26T09:51:47.517Z"
      },
      {
        "duration": 57,
        "start_time": "2025-01-26T09:52:16.916Z"
      },
      {
        "duration": 46,
        "start_time": "2025-01-26T09:52:40.351Z"
      },
      {
        "duration": 50,
        "start_time": "2025-01-26T09:54:59.941Z"
      },
      {
        "duration": 51,
        "start_time": "2025-01-26T09:56:17.120Z"
      },
      {
        "duration": 9,
        "start_time": "2025-01-26T10:02:56.618Z"
      },
      {
        "duration": 184,
        "start_time": "2025-01-26T10:15:06.095Z"
      },
      {
        "duration": 450,
        "start_time": "2025-01-26T10:16:12.944Z"
      },
      {
        "duration": 455,
        "start_time": "2025-01-26T10:17:13.128Z"
      },
      {
        "duration": 458,
        "start_time": "2025-01-26T10:17:21.516Z"
      },
      {
        "duration": 534,
        "start_time": "2025-01-26T10:17:34.144Z"
      },
      {
        "duration": 442,
        "start_time": "2025-01-26T10:19:50.597Z"
      },
      {
        "duration": 37,
        "start_time": "2025-01-26T10:20:48.062Z"
      },
      {
        "duration": 26,
        "start_time": "2025-01-26T10:22:34.653Z"
      },
      {
        "duration": 13,
        "start_time": "2025-01-26T10:22:51.311Z"
      },
      {
        "duration": 13,
        "start_time": "2025-01-26T10:23:47.998Z"
      },
      {
        "duration": 21,
        "start_time": "2025-01-26T10:25:54.095Z"
      },
      {
        "duration": 22,
        "start_time": "2025-01-26T10:33:01.512Z"
      },
      {
        "duration": 15,
        "start_time": "2025-01-26T10:36:07.540Z"
      },
      {
        "duration": 13,
        "start_time": "2025-01-26T10:36:12.769Z"
      },
      {
        "duration": 15,
        "start_time": "2025-01-26T10:43:13.661Z"
      },
      {
        "duration": 66,
        "start_time": "2025-01-26T10:45:34.165Z"
      },
      {
        "duration": 58,
        "start_time": "2025-01-26T10:47:14.551Z"
      },
      {
        "duration": 22,
        "start_time": "2025-01-26T10:49:45.200Z"
      },
      {
        "duration": 27,
        "start_time": "2025-01-26T10:50:05.652Z"
      },
      {
        "duration": 22,
        "start_time": "2025-01-26T10:50:32.528Z"
      },
      {
        "duration": 24,
        "start_time": "2025-01-26T10:53:19.156Z"
      },
      {
        "duration": 10,
        "start_time": "2025-01-26T10:55:22.381Z"
      },
      {
        "duration": 1140,
        "start_time": "2025-01-26T10:56:27.209Z"
      },
      {
        "duration": 1450,
        "start_time": "2025-01-26T10:57:51.449Z"
      },
      {
        "duration": 30,
        "start_time": "2025-01-26T11:02:05.381Z"
      },
      {
        "duration": 462,
        "start_time": "2025-01-26T11:03:55.552Z"
      },
      {
        "duration": 59,
        "start_time": "2025-01-26T11:05:17.066Z"
      },
      {
        "duration": 452,
        "start_time": "2025-01-26T11:05:38.650Z"
      },
      {
        "duration": 153,
        "start_time": "2025-01-26T11:07:39.479Z"
      },
      {
        "duration": 167,
        "start_time": "2025-01-26T11:08:08.571Z"
      },
      {
        "duration": 11255,
        "start_time": "2025-01-26T11:09:12.051Z"
      },
      {
        "duration": 2619,
        "start_time": "2025-01-26T11:09:38.196Z"
      },
      {
        "duration": 2474,
        "start_time": "2025-01-26T11:09:59.146Z"
      },
      {
        "duration": 2442,
        "start_time": "2025-01-26T11:10:48.452Z"
      },
      {
        "duration": 2331,
        "start_time": "2025-01-26T11:11:59.205Z"
      },
      {
        "duration": 2358,
        "start_time": "2025-01-26T11:15:47.077Z"
      },
      {
        "duration": 2481,
        "start_time": "2025-01-26T11:22:00.169Z"
      },
      {
        "duration": 2366,
        "start_time": "2025-01-26T11:22:09.645Z"
      },
      {
        "duration": 37,
        "start_time": "2025-01-26T11:32:45.454Z"
      },
      {
        "duration": 18,
        "start_time": "2025-01-26T11:33:19.330Z"
      },
      {
        "duration": 592,
        "start_time": "2025-01-26T11:35:29.728Z"
      },
      {
        "duration": 751,
        "start_time": "2025-01-26T11:36:17.872Z"
      },
      {
        "duration": 21,
        "start_time": "2025-01-26T11:39:14.475Z"
      },
      {
        "duration": 20,
        "start_time": "2025-01-26T11:40:37.419Z"
      },
      {
        "duration": 1179,
        "start_time": "2025-01-26T11:40:54.357Z"
      },
      {
        "duration": 22,
        "start_time": "2025-01-26T11:43:10.705Z"
      },
      {
        "duration": 20,
        "start_time": "2025-01-26T11:43:22.281Z"
      },
      {
        "duration": 2284,
        "start_time": "2025-01-26T11:43:29.097Z"
      },
      {
        "duration": 22,
        "start_time": "2025-01-26T11:44:56.582Z"
      },
      {
        "duration": 590,
        "start_time": "2025-01-26T11:45:13.478Z"
      },
      {
        "duration": 6,
        "start_time": "2025-01-26T11:46:28.776Z"
      },
      {
        "duration": 554,
        "start_time": "2025-01-26T11:46:57.928Z"
      },
      {
        "duration": 19,
        "start_time": "2025-01-26T11:48:07.594Z"
      },
      {
        "duration": 21,
        "start_time": "2025-01-26T11:52:13.292Z"
      },
      {
        "duration": 104,
        "start_time": "2025-01-26T12:01:24.292Z"
      },
      {
        "duration": 230,
        "start_time": "2025-01-26T12:02:47.020Z"
      },
      {
        "duration": 123,
        "start_time": "2025-01-26T12:02:51.722Z"
      },
      {
        "duration": 123,
        "start_time": "2025-01-26T12:03:23.638Z"
      },
      {
        "duration": 108,
        "start_time": "2025-01-26T12:03:58.587Z"
      },
      {
        "duration": 119,
        "start_time": "2025-01-26T12:03:59.693Z"
      },
      {
        "duration": 154,
        "start_time": "2025-01-26T12:05:23.206Z"
      },
      {
        "duration": 137,
        "start_time": "2025-01-26T12:05:25.583Z"
      },
      {
        "duration": 114,
        "start_time": "2025-01-26T12:06:27.539Z"
      },
      {
        "duration": 137,
        "start_time": "2025-01-26T12:06:38.868Z"
      },
      {
        "duration": 194,
        "start_time": "2025-01-26T12:17:31.544Z"
      },
      {
        "duration": 269,
        "start_time": "2025-01-26T12:17:47.076Z"
      },
      {
        "duration": 5,
        "start_time": "2025-01-26T12:19:03.229Z"
      },
      {
        "duration": 256,
        "start_time": "2025-01-26T12:19:09.224Z"
      },
      {
        "duration": 410,
        "start_time": "2025-01-26T12:30:21.987Z"
      },
      {
        "duration": 320,
        "start_time": "2025-01-26T12:30:37.800Z"
      },
      {
        "duration": 308,
        "start_time": "2025-01-26T12:30:49.243Z"
      },
      {
        "duration": 325,
        "start_time": "2025-01-26T12:34:27.374Z"
      },
      {
        "duration": 366,
        "start_time": "2025-01-26T12:36:13.546Z"
      },
      {
        "duration": 355,
        "start_time": "2025-01-26T12:37:27.569Z"
      },
      {
        "duration": 65,
        "start_time": "2025-01-26T12:39:44.190Z"
      },
      {
        "duration": 376,
        "start_time": "2025-01-26T12:40:59.606Z"
      },
      {
        "duration": 1335,
        "start_time": "2025-01-26T12:45:17.645Z"
      },
      {
        "duration": 237,
        "start_time": "2025-01-26T12:45:18.983Z"
      },
      {
        "duration": 46,
        "start_time": "2025-01-26T12:45:19.222Z"
      },
      {
        "duration": 19,
        "start_time": "2025-01-26T12:45:19.270Z"
      },
      {
        "duration": 20,
        "start_time": "2025-01-26T12:45:19.292Z"
      },
      {
        "duration": 60,
        "start_time": "2025-01-26T12:45:19.314Z"
      },
      {
        "duration": 14,
        "start_time": "2025-01-26T12:45:19.376Z"
      },
      {
        "duration": 23,
        "start_time": "2025-01-26T12:45:19.392Z"
      },
      {
        "duration": 6,
        "start_time": "2025-01-26T12:45:19.417Z"
      },
      {
        "duration": 9,
        "start_time": "2025-01-26T12:45:19.460Z"
      },
      {
        "duration": 10,
        "start_time": "2025-01-26T12:45:19.471Z"
      },
      {
        "duration": 10,
        "start_time": "2025-01-26T12:45:19.483Z"
      },
      {
        "duration": 11,
        "start_time": "2025-01-26T12:45:19.495Z"
      },
      {
        "duration": 64,
        "start_time": "2025-01-26T12:45:19.510Z"
      },
      {
        "duration": 18,
        "start_time": "2025-01-26T12:45:19.577Z"
      },
      {
        "duration": 12,
        "start_time": "2025-01-26T12:45:19.597Z"
      },
      {
        "duration": 70,
        "start_time": "2025-01-26T12:45:19.611Z"
      },
      {
        "duration": 21,
        "start_time": "2025-01-26T12:45:19.684Z"
      },
      {
        "duration": 53,
        "start_time": "2025-01-26T12:45:19.707Z"
      },
      {
        "duration": 480,
        "start_time": "2025-01-26T12:45:19.762Z"
      },
      {
        "duration": 27,
        "start_time": "2025-01-26T12:45:20.243Z"
      },
      {
        "duration": 2390,
        "start_time": "2025-01-26T12:45:20.272Z"
      },
      {
        "duration": 21,
        "start_time": "2025-01-26T12:45:22.664Z"
      },
      {
        "duration": 618,
        "start_time": "2025-01-26T12:45:22.687Z"
      },
      {
        "duration": 225,
        "start_time": "2025-01-26T12:45:23.307Z"
      },
      {
        "duration": 152,
        "start_time": "2025-01-26T12:45:23.534Z"
      },
      {
        "duration": 357,
        "start_time": "2025-01-26T12:45:23.687Z"
      },
      {
        "duration": 383,
        "start_time": "2025-01-26T12:45:24.046Z"
      },
      {
        "duration": 281,
        "start_time": "2025-01-26T12:45:24.431Z"
      },
      {
        "duration": 417,
        "start_time": "2025-01-26T12:48:16.210Z"
      },
      {
        "duration": 123,
        "start_time": "2025-01-26T12:53:47.644Z"
      },
      {
        "duration": 590,
        "start_time": "2025-01-26T12:53:55.212Z"
      },
      {
        "duration": 145,
        "start_time": "2025-01-26T12:54:08.020Z"
      },
      {
        "duration": 128,
        "start_time": "2025-01-26T12:54:10.081Z"
      },
      {
        "duration": 391,
        "start_time": "2025-01-26T12:54:12.249Z"
      },
      {
        "duration": 489,
        "start_time": "2025-01-26T12:54:35.313Z"
      },
      {
        "duration": 347,
        "start_time": "2025-01-26T12:56:04.980Z"
      },
      {
        "duration": 400,
        "start_time": "2025-01-26T12:58:40.175Z"
      },
      {
        "duration": 60,
        "start_time": "2025-01-26T13:00:22.088Z"
      },
      {
        "duration": 3,
        "start_time": "2025-01-26T13:00:40.728Z"
      },
      {
        "duration": 120,
        "start_time": "2025-01-26T13:00:41.201Z"
      },
      {
        "duration": 43,
        "start_time": "2025-01-26T13:00:41.631Z"
      },
      {
        "duration": 17,
        "start_time": "2025-01-26T13:00:42.577Z"
      },
      {
        "duration": 18,
        "start_time": "2025-01-26T13:00:42.990Z"
      },
      {
        "duration": 26,
        "start_time": "2025-01-26T13:00:43.212Z"
      },
      {
        "duration": 14,
        "start_time": "2025-01-26T13:00:43.437Z"
      },
      {
        "duration": 22,
        "start_time": "2025-01-26T13:00:43.656Z"
      },
      {
        "duration": 6,
        "start_time": "2025-01-26T13:00:43.872Z"
      },
      {
        "duration": 9,
        "start_time": "2025-01-26T13:00:44.076Z"
      },
      {
        "duration": 5,
        "start_time": "2025-01-26T13:00:44.273Z"
      },
      {
        "duration": 13,
        "start_time": "2025-01-26T13:00:44.501Z"
      },
      {
        "duration": 7,
        "start_time": "2025-01-26T13:00:44.717Z"
      },
      {
        "duration": 28,
        "start_time": "2025-01-26T13:00:44.917Z"
      },
      {
        "duration": 19,
        "start_time": "2025-01-26T13:00:45.133Z"
      },
      {
        "duration": 11,
        "start_time": "2025-01-26T13:00:45.340Z"
      },
      {
        "duration": 26,
        "start_time": "2025-01-26T13:00:45.557Z"
      },
      {
        "duration": 21,
        "start_time": "2025-01-26T13:00:45.956Z"
      },
      {
        "duration": 23,
        "start_time": "2025-01-26T13:00:46.381Z"
      },
      {
        "duration": 455,
        "start_time": "2025-01-26T13:00:47.307Z"
      },
      {
        "duration": 25,
        "start_time": "2025-01-26T13:00:47.997Z"
      },
      {
        "duration": 2370,
        "start_time": "2025-01-26T13:00:48.508Z"
      },
      {
        "duration": 19,
        "start_time": "2025-01-26T13:00:50.881Z"
      },
      {
        "duration": 637,
        "start_time": "2025-01-26T13:00:50.902Z"
      },
      {
        "duration": 287,
        "start_time": "2025-01-26T13:00:51.542Z"
      },
      {
        "duration": 141,
        "start_time": "2025-01-26T13:00:51.830Z"
      },
      {
        "duration": 385,
        "start_time": "2025-01-26T13:00:52.167Z"
      },
      {
        "duration": 367,
        "start_time": "2025-01-26T13:00:52.669Z"
      },
      {
        "duration": 351,
        "start_time": "2025-01-26T13:00:53.416Z"
      },
      {
        "duration": 376,
        "start_time": "2025-01-26T13:00:53.869Z"
      },
      {
        "duration": 270,
        "start_time": "2025-01-26T13:00:55.038Z"
      },
      {
        "duration": 476,
        "start_time": "2025-01-26T13:04:41.509Z"
      },
      {
        "duration": 3,
        "start_time": "2025-01-26T13:06:23.339Z"
      },
      {
        "duration": 158,
        "start_time": "2025-01-26T13:06:23.503Z"
      },
      {
        "duration": 35,
        "start_time": "2025-01-26T13:06:23.876Z"
      },
      {
        "duration": 18,
        "start_time": "2025-01-26T13:06:24.457Z"
      },
      {
        "duration": 19,
        "start_time": "2025-01-26T13:06:24.657Z"
      },
      {
        "duration": 30,
        "start_time": "2025-01-26T13:06:24.838Z"
      },
      {
        "duration": 14,
        "start_time": "2025-01-26T13:06:25.062Z"
      },
      {
        "duration": 28,
        "start_time": "2025-01-26T13:06:25.255Z"
      },
      {
        "duration": 6,
        "start_time": "2025-01-26T13:06:25.454Z"
      },
      {
        "duration": 8,
        "start_time": "2025-01-26T13:06:25.653Z"
      },
      {
        "duration": 5,
        "start_time": "2025-01-26T13:06:25.854Z"
      },
      {
        "duration": 9,
        "start_time": "2025-01-26T13:06:26.065Z"
      },
      {
        "duration": 7,
        "start_time": "2025-01-26T13:06:26.255Z"
      },
      {
        "duration": 24,
        "start_time": "2025-01-26T13:06:26.471Z"
      },
      {
        "duration": 17,
        "start_time": "2025-01-26T13:06:26.677Z"
      },
      {
        "duration": 11,
        "start_time": "2025-01-26T13:06:26.882Z"
      },
      {
        "duration": 27,
        "start_time": "2025-01-26T13:06:27.085Z"
      },
      {
        "duration": 20,
        "start_time": "2025-01-26T13:06:27.501Z"
      },
      {
        "duration": 34,
        "start_time": "2025-01-26T13:06:27.918Z"
      },
      {
        "duration": 448,
        "start_time": "2025-01-26T13:06:28.805Z"
      },
      {
        "duration": 21,
        "start_time": "2025-01-26T13:06:29.450Z"
      },
      {
        "duration": 2490,
        "start_time": "2025-01-26T13:06:29.870Z"
      },
      {
        "duration": 20,
        "start_time": "2025-01-26T13:06:32.362Z"
      },
      {
        "duration": 629,
        "start_time": "2025-01-26T13:06:32.384Z"
      },
      {
        "duration": 149,
        "start_time": "2025-01-26T13:06:33.015Z"
      },
      {
        "duration": 145,
        "start_time": "2025-01-26T13:06:33.165Z"
      },
      {
        "duration": 402,
        "start_time": "2025-01-26T13:06:33.311Z"
      },
      {
        "duration": 375,
        "start_time": "2025-01-26T13:06:34.154Z"
      },
      {
        "duration": 475,
        "start_time": "2025-01-26T13:06:42.160Z"
      },
      {
        "duration": 395,
        "start_time": "2025-01-26T13:06:43.678Z"
      },
      {
        "duration": 438,
        "start_time": "2025-01-26T13:06:45.185Z"
      },
      {
        "duration": 67,
        "start_time": "2025-01-26T13:10:49.918Z"
      },
      {
        "duration": 457,
        "start_time": "2025-01-26T13:21:42.391Z"
      },
      {
        "duration": 61,
        "start_time": "2025-01-26T13:25:05.007Z"
      },
      {
        "duration": 195,
        "start_time": "2025-01-26T13:40:34.031Z"
      },
      {
        "duration": 73,
        "start_time": "2025-01-26T13:41:07.076Z"
      },
      {
        "duration": 18,
        "start_time": "2025-01-26T13:41:16.575Z"
      },
      {
        "duration": 2369,
        "start_time": "2025-01-26T13:42:43.880Z"
      },
      {
        "duration": 25,
        "start_time": "2025-01-26T13:43:18.590Z"
      },
      {
        "duration": 15,
        "start_time": "2025-01-26T13:45:24.360Z"
      },
      {
        "duration": 15,
        "start_time": "2025-01-26T13:46:09.604Z"
      },
      {
        "duration": 15,
        "start_time": "2025-01-26T13:46:33.452Z"
      },
      {
        "duration": 12,
        "start_time": "2025-01-26T13:47:32.718Z"
      },
      {
        "duration": 40,
        "start_time": "2025-01-26T13:47:59.460Z"
      },
      {
        "duration": 15,
        "start_time": "2025-01-26T13:52:06.502Z"
      },
      {
        "duration": 20,
        "start_time": "2025-01-26T13:53:43.678Z"
      },
      {
        "duration": 21,
        "start_time": "2025-01-26T13:54:48.384Z"
      },
      {
        "duration": 1184,
        "start_time": "2025-01-26T13:56:31.014Z"
      },
      {
        "duration": 27,
        "start_time": "2025-01-26T13:58:04.728Z"
      },
      {
        "duration": 20,
        "start_time": "2025-01-26T13:59:17.689Z"
      },
      {
        "duration": 21,
        "start_time": "2025-01-26T13:59:27.711Z"
      },
      {
        "duration": 23,
        "start_time": "2025-01-26T14:01:31.604Z"
      },
      {
        "duration": 66,
        "start_time": "2025-01-26T14:09:37.669Z"
      },
      {
        "duration": 24,
        "start_time": "2025-01-26T14:09:59.857Z"
      },
      {
        "duration": 80,
        "start_time": "2025-01-26T14:10:54.824Z"
      },
      {
        "duration": 68,
        "start_time": "2025-01-26T14:11:18.218Z"
      },
      {
        "duration": 24,
        "start_time": "2025-01-26T14:12:10.529Z"
      },
      {
        "duration": 25,
        "start_time": "2025-01-26T14:12:38.524Z"
      },
      {
        "duration": 24,
        "start_time": "2025-01-26T14:13:24.631Z"
      },
      {
        "duration": 34,
        "start_time": "2025-01-26T14:15:23.602Z"
      },
      {
        "duration": 41,
        "start_time": "2025-01-26T14:15:33.549Z"
      },
      {
        "duration": 33,
        "start_time": "2025-01-26T14:15:39.961Z"
      },
      {
        "duration": 34,
        "start_time": "2025-01-26T14:15:53.853Z"
      },
      {
        "duration": 27,
        "start_time": "2025-01-26T14:16:13.887Z"
      },
      {
        "duration": 30,
        "start_time": "2025-01-26T14:16:34.123Z"
      },
      {
        "duration": 38,
        "start_time": "2025-01-26T14:27:00.241Z"
      },
      {
        "duration": 163,
        "start_time": "2025-01-26T14:27:13.861Z"
      },
      {
        "duration": 43,
        "start_time": "2025-01-26T14:28:42.218Z"
      },
      {
        "duration": 340,
        "start_time": "2025-01-26T14:29:04.431Z"
      },
      {
        "duration": 263,
        "start_time": "2025-01-26T14:29:10.839Z"
      },
      {
        "duration": 157,
        "start_time": "2025-01-26T14:29:36.843Z"
      },
      {
        "duration": 154,
        "start_time": "2025-01-26T14:30:07.484Z"
      },
      {
        "duration": 420,
        "start_time": "2025-01-26T14:30:21.192Z"
      },
      {
        "duration": 151,
        "start_time": "2025-01-26T14:31:58.999Z"
      },
      {
        "duration": 307,
        "start_time": "2025-01-26T14:32:39.685Z"
      },
      {
        "duration": 161,
        "start_time": "2025-01-26T14:33:09.702Z"
      },
      {
        "duration": 1265,
        "start_time": "2025-01-26T14:34:10.086Z"
      },
      {
        "duration": 1074,
        "start_time": "2025-01-26T14:34:33.879Z"
      },
      {
        "duration": 150,
        "start_time": "2025-01-26T14:35:03.956Z"
      },
      {
        "duration": 248,
        "start_time": "2025-01-26T14:35:13.261Z"
      },
      {
        "duration": 272,
        "start_time": "2025-01-26T14:39:03.605Z"
      },
      {
        "duration": 148,
        "start_time": "2025-01-26T14:39:52.149Z"
      },
      {
        "duration": 131,
        "start_time": "2025-01-26T14:39:53.653Z"
      },
      {
        "duration": 135,
        "start_time": "2025-01-26T14:39:55.034Z"
      },
      {
        "duration": 154,
        "start_time": "2025-01-26T14:40:35.786Z"
      },
      {
        "duration": 250,
        "start_time": "2025-01-26T14:40:36.801Z"
      },
      {
        "duration": 128,
        "start_time": "2025-01-26T14:40:37.494Z"
      },
      {
        "duration": 31,
        "start_time": "2025-01-26T14:40:42.370Z"
      },
      {
        "duration": 36,
        "start_time": "2025-01-26T14:40:50.117Z"
      },
      {
        "duration": 155,
        "start_time": "2025-01-26T14:40:55.314Z"
      },
      {
        "duration": 135,
        "start_time": "2025-01-26T14:40:59.773Z"
      },
      {
        "duration": 133,
        "start_time": "2025-01-26T14:41:01.213Z"
      },
      {
        "duration": 160,
        "start_time": "2025-01-26T14:42:09.884Z"
      },
      {
        "duration": 51,
        "start_time": "2025-01-26T14:42:48.535Z"
      },
      {
        "duration": 215,
        "start_time": "2025-01-26T14:43:12.896Z"
      },
      {
        "duration": 209,
        "start_time": "2025-01-26T14:43:37.085Z"
      },
      {
        "duration": 215,
        "start_time": "2025-01-26T14:44:54.129Z"
      },
      {
        "duration": 140,
        "start_time": "2025-01-26T14:45:38.076Z"
      },
      {
        "duration": 128,
        "start_time": "2025-01-26T14:46:13.840Z"
      },
      {
        "duration": 16,
        "start_time": "2025-01-26T14:46:54.439Z"
      },
      {
        "duration": 126,
        "start_time": "2025-01-26T14:47:20.376Z"
      },
      {
        "duration": 192,
        "start_time": "2025-01-26T14:51:40.010Z"
      },
      {
        "duration": 304,
        "start_time": "2025-01-26T14:52:27.140Z"
      },
      {
        "duration": 260,
        "start_time": "2025-01-26T14:54:04.454Z"
      },
      {
        "duration": 199,
        "start_time": "2025-01-26T14:54:14.227Z"
      },
      {
        "duration": 163,
        "start_time": "2025-01-26T14:54:30.155Z"
      },
      {
        "duration": 138,
        "start_time": "2025-01-26T14:54:30.652Z"
      },
      {
        "duration": 158,
        "start_time": "2025-01-26T14:54:31.130Z"
      },
      {
        "duration": 226,
        "start_time": "2025-01-26T14:54:32.046Z"
      },
      {
        "duration": 214,
        "start_time": "2025-01-26T14:54:33.003Z"
      },
      {
        "duration": 219,
        "start_time": "2025-01-26T14:54:33.828Z"
      },
      {
        "duration": 199,
        "start_time": "2025-01-26T15:03:52.517Z"
      },
      {
        "duration": 188,
        "start_time": "2025-01-26T15:03:53.497Z"
      },
      {
        "duration": 311,
        "start_time": "2025-01-26T15:03:54.862Z"
      },
      {
        "duration": 1130,
        "start_time": "2025-01-26T15:10:55.128Z"
      },
      {
        "duration": 1159,
        "start_time": "2025-01-26T15:11:59.417Z"
      },
      {
        "duration": 144,
        "start_time": "2025-01-26T15:12:45.588Z"
      },
      {
        "duration": 139,
        "start_time": "2025-01-26T15:15:33.554Z"
      },
      {
        "duration": 131,
        "start_time": "2025-01-26T15:15:52.700Z"
      },
      {
        "duration": 137,
        "start_time": "2025-01-26T15:16:25.905Z"
      },
      {
        "duration": 129,
        "start_time": "2025-01-26T15:17:36.977Z"
      },
      {
        "duration": 172,
        "start_time": "2025-01-26T15:17:37.874Z"
      },
      {
        "duration": 138,
        "start_time": "2025-01-26T15:17:45.964Z"
      },
      {
        "duration": 62,
        "start_time": "2025-01-26T15:29:00.123Z"
      },
      {
        "duration": 13,
        "start_time": "2025-01-26T15:46:50.446Z"
      },
      {
        "duration": 11,
        "start_time": "2025-01-26T15:47:16.566Z"
      },
      {
        "duration": 961,
        "start_time": "2025-01-26T15:54:21.665Z"
      },
      {
        "duration": 1158,
        "start_time": "2025-01-26T15:57:13.441Z"
      },
      {
        "duration": 871,
        "start_time": "2025-01-26T15:58:12.229Z"
      },
      {
        "duration": 19,
        "start_time": "2025-01-26T15:59:10.004Z"
      },
      {
        "duration": 17,
        "start_time": "2025-01-26T15:59:59.059Z"
      },
      {
        "duration": 17,
        "start_time": "2025-01-26T16:00:15.132Z"
      },
      {
        "duration": 15,
        "start_time": "2025-01-26T16:00:17.572Z"
      },
      {
        "duration": 5,
        "start_time": "2025-01-26T16:02:00.407Z"
      },
      {
        "duration": 50,
        "start_time": "2025-01-26T16:02:14.394Z"
      },
      {
        "duration": 26,
        "start_time": "2025-01-26T16:02:26.565Z"
      },
      {
        "duration": 37,
        "start_time": "2025-01-26T16:02:45.631Z"
      },
      {
        "duration": 14,
        "start_time": "2025-01-26T16:03:03.901Z"
      },
      {
        "duration": 30,
        "start_time": "2025-01-26T16:06:41.549Z"
      },
      {
        "duration": 33,
        "start_time": "2025-01-26T16:07:36.121Z"
      },
      {
        "duration": 14,
        "start_time": "2025-01-26T16:07:58.452Z"
      },
      {
        "duration": 13,
        "start_time": "2025-01-26T16:11:01.790Z"
      },
      {
        "duration": 15,
        "start_time": "2025-01-26T16:11:52.541Z"
      },
      {
        "duration": 1260,
        "start_time": "2025-01-26T16:15:48.037Z"
      },
      {
        "duration": 140,
        "start_time": "2025-01-26T16:15:49.299Z"
      },
      {
        "duration": 40,
        "start_time": "2025-01-26T16:15:49.441Z"
      },
      {
        "duration": 17,
        "start_time": "2025-01-26T16:15:49.483Z"
      },
      {
        "duration": 18,
        "start_time": "2025-01-26T16:15:49.502Z"
      },
      {
        "duration": 49,
        "start_time": "2025-01-26T16:15:49.521Z"
      },
      {
        "duration": 12,
        "start_time": "2025-01-26T16:15:49.572Z"
      },
      {
        "duration": 22,
        "start_time": "2025-01-26T16:15:49.586Z"
      },
      {
        "duration": 5,
        "start_time": "2025-01-26T16:15:49.610Z"
      },
      {
        "duration": 21,
        "start_time": "2025-01-26T16:15:49.618Z"
      },
      {
        "duration": 6,
        "start_time": "2025-01-26T16:15:49.660Z"
      },
      {
        "duration": 32,
        "start_time": "2025-01-26T16:15:49.667Z"
      },
      {
        "duration": 14,
        "start_time": "2025-01-26T16:15:49.700Z"
      },
      {
        "duration": 23,
        "start_time": "2025-01-26T16:15:49.716Z"
      },
      {
        "duration": 28,
        "start_time": "2025-01-26T16:15:49.740Z"
      },
      {
        "duration": 11,
        "start_time": "2025-01-26T16:15:49.770Z"
      },
      {
        "duration": 27,
        "start_time": "2025-01-26T16:15:49.783Z"
      },
      {
        "duration": 48,
        "start_time": "2025-01-26T16:15:49.812Z"
      },
      {
        "duration": 21,
        "start_time": "2025-01-26T16:15:49.862Z"
      },
      {
        "duration": 485,
        "start_time": "2025-01-26T16:15:49.885Z"
      },
      {
        "duration": 23,
        "start_time": "2025-01-26T16:15:50.372Z"
      },
      {
        "duration": 2425,
        "start_time": "2025-01-26T16:15:50.396Z"
      },
      {
        "duration": 21,
        "start_time": "2025-01-26T16:15:52.822Z"
      },
      {
        "duration": 614,
        "start_time": "2025-01-26T16:15:52.845Z"
      },
      {
        "duration": 239,
        "start_time": "2025-01-26T16:15:53.461Z"
      },
      {
        "duration": 143,
        "start_time": "2025-01-26T16:15:53.702Z"
      },
      {
        "duration": 406,
        "start_time": "2025-01-26T16:15:53.853Z"
      },
      {
        "duration": 379,
        "start_time": "2025-01-26T16:15:54.263Z"
      },
      {
        "duration": 368,
        "start_time": "2025-01-26T16:15:54.643Z"
      },
      {
        "duration": 409,
        "start_time": "2025-01-26T16:15:55.013Z"
      },
      {
        "duration": 483,
        "start_time": "2025-01-26T16:15:55.424Z"
      },
      {
        "duration": 282,
        "start_time": "2025-01-26T16:15:55.909Z"
      },
      {
        "duration": 35,
        "start_time": "2025-01-26T16:15:56.193Z"
      },
      {
        "duration": 170,
        "start_time": "2025-01-26T16:15:56.230Z"
      },
      {
        "duration": 136,
        "start_time": "2025-01-26T16:15:56.403Z"
      },
      {
        "duration": 245,
        "start_time": "2025-01-26T16:15:56.541Z"
      },
      {
        "duration": 211,
        "start_time": "2025-01-26T16:15:56.788Z"
      },
      {
        "duration": 199,
        "start_time": "2025-01-26T16:15:57.001Z"
      },
      {
        "duration": 199,
        "start_time": "2025-01-26T16:15:57.201Z"
      },
      {
        "duration": 156,
        "start_time": "2025-01-26T16:15:57.401Z"
      },
      {
        "duration": 136,
        "start_time": "2025-01-26T16:15:57.560Z"
      },
      {
        "duration": 149,
        "start_time": "2025-01-26T16:15:57.698Z"
      },
      {
        "duration": 36,
        "start_time": "2025-01-26T16:15:57.849Z"
      },
      {
        "duration": 14,
        "start_time": "2025-01-26T16:15:57.886Z"
      },
      {
        "duration": 141,
        "start_time": "2025-01-26T16:59:56.646Z"
      },
      {
        "duration": 29,
        "start_time": "2025-01-26T17:02:41.419Z"
      },
      {
        "duration": 8,
        "start_time": "2025-01-26T17:03:08.488Z"
      },
      {
        "duration": 8,
        "start_time": "2025-01-26T17:03:27.532Z"
      },
      {
        "duration": 12,
        "start_time": "2025-01-26T17:03:47.573Z"
      },
      {
        "duration": 9,
        "start_time": "2025-01-26T17:04:04.588Z"
      },
      {
        "duration": 7,
        "start_time": "2025-01-26T17:04:24.372Z"
      },
      {
        "duration": 13,
        "start_time": "2025-01-26T17:05:39.413Z"
      },
      {
        "duration": 91,
        "start_time": "2025-01-26T17:06:27.286Z"
      },
      {
        "duration": 10,
        "start_time": "2025-01-26T17:06:35.006Z"
      },
      {
        "duration": 28,
        "start_time": "2025-01-26T17:11:00.811Z"
      },
      {
        "duration": 1335,
        "start_time": "2025-01-26T17:12:03.844Z"
      },
      {
        "duration": 1175,
        "start_time": "2025-01-26T17:12:11.875Z"
      },
      {
        "duration": 28,
        "start_time": "2025-01-26T17:12:39.546Z"
      },
      {
        "duration": 31,
        "start_time": "2025-01-26T17:13:12.196Z"
      },
      {
        "duration": 28,
        "start_time": "2025-01-26T17:14:21.453Z"
      },
      {
        "duration": 25,
        "start_time": "2025-01-26T17:15:34.362Z"
      },
      {
        "duration": 1157,
        "start_time": "2025-01-26T17:18:20.074Z"
      },
      {
        "duration": 2143,
        "start_time": "2025-01-26T17:20:22.359Z"
      },
      {
        "duration": 170,
        "start_time": "2025-01-26T17:21:09.996Z"
      },
      {
        "duration": 1976,
        "start_time": "2025-01-26T17:21:44.287Z"
      },
      {
        "duration": 28,
        "start_time": "2025-01-26T17:23:42.074Z"
      },
      {
        "duration": 35,
        "start_time": "2025-01-26T17:24:24.330Z"
      },
      {
        "duration": 2271,
        "start_time": "2025-01-26T17:26:05.256Z"
      },
      {
        "duration": 21,
        "start_time": "2025-01-26T17:28:54.621Z"
      },
      {
        "duration": 25,
        "start_time": "2025-01-26T17:32:51.760Z"
      },
      {
        "duration": 988,
        "start_time": "2025-01-26T17:32:57.296Z"
      },
      {
        "duration": 23,
        "start_time": "2025-01-26T17:33:48.293Z"
      },
      {
        "duration": 963,
        "start_time": "2025-01-26T17:33:55.900Z"
      },
      {
        "duration": 21,
        "start_time": "2025-01-26T17:34:51.484Z"
      },
      {
        "duration": 928,
        "start_time": "2025-01-26T17:34:56.097Z"
      },
      {
        "duration": 27,
        "start_time": "2025-01-26T17:35:46.850Z"
      },
      {
        "duration": 21,
        "start_time": "2025-01-26T17:35:59.179Z"
      },
      {
        "duration": 1074,
        "start_time": "2025-01-26T17:36:02.417Z"
      },
      {
        "duration": 25,
        "start_time": "2025-01-26T17:37:02.647Z"
      },
      {
        "duration": 584,
        "start_time": "2025-01-26T17:37:04.547Z"
      },
      {
        "duration": 126,
        "start_time": "2025-01-26T17:39:09.280Z"
      },
      {
        "duration": 130,
        "start_time": "2025-01-26T17:40:11.201Z"
      },
      {
        "duration": 136,
        "start_time": "2025-01-26T17:40:13.211Z"
      },
      {
        "duration": 359,
        "start_time": "2025-01-26T17:42:16.344Z"
      },
      {
        "duration": 359,
        "start_time": "2025-01-26T17:42:20.674Z"
      },
      {
        "duration": 375,
        "start_time": "2025-01-26T17:43:02.010Z"
      },
      {
        "duration": 362,
        "start_time": "2025-01-26T17:45:50.598Z"
      },
      {
        "duration": 377,
        "start_time": "2025-01-26T17:46:47.060Z"
      },
      {
        "duration": 388,
        "start_time": "2025-01-26T17:47:35.972Z"
      },
      {
        "duration": 339,
        "start_time": "2025-01-26T17:48:13.597Z"
      },
      {
        "duration": 437,
        "start_time": "2025-01-26T17:50:28.258Z"
      },
      {
        "duration": 326,
        "start_time": "2025-01-26T17:51:10.323Z"
      },
      {
        "duration": 370,
        "start_time": "2025-01-26T17:52:42.197Z"
      },
      {
        "duration": 459,
        "start_time": "2025-01-26T17:53:18.401Z"
      },
      {
        "duration": 269,
        "start_time": "2025-01-26T17:53:25.351Z"
      },
      {
        "duration": 260,
        "start_time": "2025-01-26T17:53:50.591Z"
      },
      {
        "duration": 41,
        "start_time": "2025-01-26T17:54:01.668Z"
      },
      {
        "duration": 143,
        "start_time": "2025-01-26T17:54:03.805Z"
      },
      {
        "duration": 145,
        "start_time": "2025-01-26T17:54:47.234Z"
      },
      {
        "duration": 1302,
        "start_time": "2025-01-26T17:55:09.463Z"
      },
      {
        "duration": 182,
        "start_time": "2025-01-26T17:55:10.767Z"
      },
      {
        "duration": 40,
        "start_time": "2025-01-26T17:55:10.954Z"
      },
      {
        "duration": 18,
        "start_time": "2025-01-26T17:55:10.997Z"
      },
      {
        "duration": 44,
        "start_time": "2025-01-26T17:55:11.017Z"
      },
      {
        "duration": 23,
        "start_time": "2025-01-26T17:55:11.063Z"
      },
      {
        "duration": 12,
        "start_time": "2025-01-26T17:55:11.088Z"
      },
      {
        "duration": 20,
        "start_time": "2025-01-26T17:55:11.101Z"
      },
      {
        "duration": 63,
        "start_time": "2025-01-26T17:55:11.122Z"
      },
      {
        "duration": 11,
        "start_time": "2025-01-26T17:55:11.187Z"
      },
      {
        "duration": 11,
        "start_time": "2025-01-26T17:55:11.199Z"
      },
      {
        "duration": 13,
        "start_time": "2025-01-26T17:55:11.212Z"
      },
      {
        "duration": 10,
        "start_time": "2025-01-26T17:55:11.229Z"
      },
      {
        "duration": 24,
        "start_time": "2025-01-26T17:55:11.240Z"
      },
      {
        "duration": 15,
        "start_time": "2025-01-26T17:55:11.265Z"
      },
      {
        "duration": 11,
        "start_time": "2025-01-26T17:55:11.282Z"
      },
      {
        "duration": 24,
        "start_time": "2025-01-26T17:55:11.295Z"
      },
      {
        "duration": 55,
        "start_time": "2025-01-26T17:55:11.321Z"
      },
      {
        "duration": 21,
        "start_time": "2025-01-26T17:55:11.378Z"
      },
      {
        "duration": 506,
        "start_time": "2025-01-26T17:55:11.401Z"
      },
      {
        "duration": 29,
        "start_time": "2025-01-26T17:55:11.909Z"
      },
      {
        "duration": 2031,
        "start_time": "2025-01-26T17:55:11.940Z"
      },
      {
        "duration": 19,
        "start_time": "2025-01-26T17:55:13.973Z"
      },
      {
        "duration": 532,
        "start_time": "2025-01-26T17:55:13.993Z"
      },
      {
        "duration": 342,
        "start_time": "2025-01-26T17:55:14.526Z"
      },
      {
        "duration": 0,
        "start_time": "2025-01-26T17:55:14.869Z"
      },
      {
        "duration": 0,
        "start_time": "2025-01-26T17:55:14.871Z"
      },
      {
        "duration": 0,
        "start_time": "2025-01-26T17:55:14.872Z"
      },
      {
        "duration": 0,
        "start_time": "2025-01-26T17:55:14.873Z"
      },
      {
        "duration": 0,
        "start_time": "2025-01-26T17:55:14.874Z"
      },
      {
        "duration": 0,
        "start_time": "2025-01-26T17:55:14.876Z"
      },
      {
        "duration": 0,
        "start_time": "2025-01-26T17:55:14.877Z"
      },
      {
        "duration": 0,
        "start_time": "2025-01-26T17:55:14.878Z"
      },
      {
        "duration": 0,
        "start_time": "2025-01-26T17:55:14.879Z"
      },
      {
        "duration": 0,
        "start_time": "2025-01-26T17:55:14.881Z"
      },
      {
        "duration": 0,
        "start_time": "2025-01-26T17:55:14.882Z"
      },
      {
        "duration": 0,
        "start_time": "2025-01-26T17:55:14.883Z"
      },
      {
        "duration": 0,
        "start_time": "2025-01-26T17:55:14.884Z"
      },
      {
        "duration": 0,
        "start_time": "2025-01-26T17:55:14.885Z"
      },
      {
        "duration": 0,
        "start_time": "2025-01-26T17:55:14.886Z"
      },
      {
        "duration": 0,
        "start_time": "2025-01-26T17:55:14.887Z"
      },
      {
        "duration": 0,
        "start_time": "2025-01-26T17:55:14.888Z"
      },
      {
        "duration": 0,
        "start_time": "2025-01-26T17:55:14.889Z"
      },
      {
        "duration": 128,
        "start_time": "2025-01-26T17:56:15.613Z"
      },
      {
        "duration": 13,
        "start_time": "2025-01-26T17:56:25.418Z"
      },
      {
        "duration": 13,
        "start_time": "2025-01-26T17:56:37.820Z"
      },
      {
        "duration": 128,
        "start_time": "2025-01-26T17:56:44.113Z"
      },
      {
        "duration": 386,
        "start_time": "2025-01-26T17:57:19.330Z"
      },
      {
        "duration": 373,
        "start_time": "2025-01-26T17:57:23.782Z"
      },
      {
        "duration": 380,
        "start_time": "2025-01-26T17:57:25.977Z"
      },
      {
        "duration": 482,
        "start_time": "2025-01-26T17:57:27.690Z"
      },
      {
        "duration": 262,
        "start_time": "2025-01-26T17:57:30.078Z"
      },
      {
        "duration": 36,
        "start_time": "2025-01-26T17:58:10.685Z"
      },
      {
        "duration": 151,
        "start_time": "2025-01-26T17:58:18.562Z"
      },
      {
        "duration": 33,
        "start_time": "2025-01-26T18:00:16.715Z"
      },
      {
        "duration": 119,
        "start_time": "2025-01-26T18:00:44.173Z"
      },
      {
        "duration": 204,
        "start_time": "2025-01-26T18:00:54.831Z"
      },
      {
        "duration": 106,
        "start_time": "2025-01-26T18:00:55.989Z"
      },
      {
        "duration": 35,
        "start_time": "2025-01-26T18:02:54.671Z"
      },
      {
        "duration": 149,
        "start_time": "2025-01-26T18:03:01.048Z"
      },
      {
        "duration": 129,
        "start_time": "2025-01-26T18:03:09.205Z"
      },
      {
        "duration": 149,
        "start_time": "2025-01-26T18:03:10.449Z"
      },
      {
        "duration": 203,
        "start_time": "2025-01-26T18:07:50.295Z"
      },
      {
        "duration": 201,
        "start_time": "2025-01-26T18:09:37.116Z"
      },
      {
        "duration": 201,
        "start_time": "2025-01-26T18:09:47.080Z"
      },
      {
        "duration": 190,
        "start_time": "2025-01-26T18:09:48.073Z"
      },
      {
        "duration": 125,
        "start_time": "2025-01-26T18:14:21.529Z"
      },
      {
        "duration": 116,
        "start_time": "2025-01-26T18:14:27.602Z"
      },
      {
        "duration": 213,
        "start_time": "2025-01-26T18:14:28.690Z"
      },
      {
        "duration": 1296,
        "start_time": "2025-01-26T18:21:55.068Z"
      },
      {
        "duration": 193,
        "start_time": "2025-01-26T18:21:56.367Z"
      },
      {
        "duration": 38,
        "start_time": "2025-01-26T18:21:56.561Z"
      },
      {
        "duration": 17,
        "start_time": "2025-01-26T18:21:56.601Z"
      },
      {
        "duration": 18,
        "start_time": "2025-01-26T18:21:56.620Z"
      },
      {
        "duration": 27,
        "start_time": "2025-01-26T18:21:56.659Z"
      },
      {
        "duration": 12,
        "start_time": "2025-01-26T18:21:56.688Z"
      },
      {
        "duration": 58,
        "start_time": "2025-01-26T18:21:56.702Z"
      },
      {
        "duration": 5,
        "start_time": "2025-01-26T18:21:56.761Z"
      },
      {
        "duration": 11,
        "start_time": "2025-01-26T18:21:56.768Z"
      },
      {
        "duration": 8,
        "start_time": "2025-01-26T18:21:56.780Z"
      },
      {
        "duration": 13,
        "start_time": "2025-01-26T18:21:56.789Z"
      },
      {
        "duration": 9,
        "start_time": "2025-01-26T18:21:56.804Z"
      },
      {
        "duration": 57,
        "start_time": "2025-01-26T18:21:56.817Z"
      },
      {
        "duration": 17,
        "start_time": "2025-01-26T18:21:56.876Z"
      },
      {
        "duration": 11,
        "start_time": "2025-01-26T18:21:56.895Z"
      },
      {
        "duration": 70,
        "start_time": "2025-01-26T18:21:56.908Z"
      },
      {
        "duration": 20,
        "start_time": "2025-01-26T18:21:56.981Z"
      },
      {
        "duration": 22,
        "start_time": "2025-01-26T18:21:57.003Z"
      },
      {
        "duration": 521,
        "start_time": "2025-01-26T18:21:57.027Z"
      },
      {
        "duration": 36,
        "start_time": "2025-01-26T18:21:57.550Z"
      },
      {
        "duration": 2007,
        "start_time": "2025-01-26T18:21:57.588Z"
      },
      {
        "duration": 20,
        "start_time": "2025-01-26T18:21:59.596Z"
      },
      {
        "duration": 516,
        "start_time": "2025-01-26T18:21:59.617Z"
      },
      {
        "duration": 141,
        "start_time": "2025-01-26T18:22:00.135Z"
      },
      {
        "duration": 247,
        "start_time": "2025-01-26T18:22:00.278Z"
      },
      {
        "duration": 381,
        "start_time": "2025-01-26T18:22:00.527Z"
      },
      {
        "duration": 399,
        "start_time": "2025-01-26T18:22:00.910Z"
      },
      {
        "duration": 421,
        "start_time": "2025-01-26T18:22:01.311Z"
      },
      {
        "duration": 454,
        "start_time": "2025-01-26T18:22:01.734Z"
      },
      {
        "duration": 283,
        "start_time": "2025-01-26T18:22:02.190Z"
      },
      {
        "duration": 37,
        "start_time": "2025-01-26T18:22:02.475Z"
      },
      {
        "duration": 167,
        "start_time": "2025-01-26T18:22:02.513Z"
      },
      {
        "duration": 136,
        "start_time": "2025-01-26T18:22:02.682Z"
      },
      {
        "duration": 144,
        "start_time": "2025-01-26T18:22:02.820Z"
      },
      {
        "duration": 213,
        "start_time": "2025-01-26T18:22:02.966Z"
      },
      {
        "duration": 293,
        "start_time": "2025-01-26T18:22:03.181Z"
      },
      {
        "duration": 198,
        "start_time": "2025-01-26T18:22:03.477Z"
      },
      {
        "duration": 136,
        "start_time": "2025-01-26T18:22:03.676Z"
      },
      {
        "duration": 131,
        "start_time": "2025-01-26T18:22:03.814Z"
      },
      {
        "duration": 131,
        "start_time": "2025-01-26T18:22:03.949Z"
      },
      {
        "duration": 28,
        "start_time": "2025-01-26T18:22:04.082Z"
      },
      {
        "duration": 14,
        "start_time": "2025-01-26T18:22:04.112Z"
      },
      {
        "duration": 3,
        "start_time": "2025-01-26T18:22:49.791Z"
      },
      {
        "duration": 124,
        "start_time": "2025-01-26T18:22:49.980Z"
      },
      {
        "duration": 40,
        "start_time": "2025-01-26T18:22:50.173Z"
      },
      {
        "duration": 18,
        "start_time": "2025-01-26T18:22:50.761Z"
      },
      {
        "duration": 18,
        "start_time": "2025-01-26T18:22:50.925Z"
      },
      {
        "duration": 24,
        "start_time": "2025-01-26T18:22:51.129Z"
      },
      {
        "duration": 13,
        "start_time": "2025-01-26T18:22:51.317Z"
      },
      {
        "duration": 21,
        "start_time": "2025-01-26T18:22:51.509Z"
      },
      {
        "duration": 7,
        "start_time": "2025-01-26T18:22:51.728Z"
      },
      {
        "duration": 8,
        "start_time": "2025-01-26T18:22:51.955Z"
      },
      {
        "duration": 4,
        "start_time": "2025-01-26T18:22:52.168Z"
      },
      {
        "duration": 10,
        "start_time": "2025-01-26T18:22:52.380Z"
      },
      {
        "duration": 7,
        "start_time": "2025-01-26T18:22:52.625Z"
      },
      {
        "duration": 26,
        "start_time": "2025-01-26T18:22:52.832Z"
      },
      {
        "duration": 17,
        "start_time": "2025-01-26T18:22:53.038Z"
      },
      {
        "duration": 11,
        "start_time": "2025-01-26T18:22:53.279Z"
      },
      {
        "duration": 29,
        "start_time": "2025-01-26T18:22:53.494Z"
      },
      {
        "duration": 19,
        "start_time": "2025-01-26T18:22:54.544Z"
      },
      {
        "duration": 22,
        "start_time": "2025-01-26T18:22:54.933Z"
      },
      {
        "duration": 440,
        "start_time": "2025-01-26T18:22:55.799Z"
      },
      {
        "duration": 29,
        "start_time": "2025-01-26T18:22:56.416Z"
      },
      {
        "duration": 2107,
        "start_time": "2025-01-26T18:22:57.022Z"
      },
      {
        "duration": 29,
        "start_time": "2025-01-26T18:22:59.131Z"
      },
      {
        "duration": 504,
        "start_time": "2025-01-26T18:22:59.162Z"
      },
      {
        "duration": 140,
        "start_time": "2025-01-26T18:22:59.669Z"
      },
      {
        "duration": 142,
        "start_time": "2025-01-26T18:22:59.811Z"
      },
      {
        "duration": 400,
        "start_time": "2025-01-26T18:22:59.960Z"
      },
      {
        "duration": 389,
        "start_time": "2025-01-26T18:23:00.363Z"
      },
      {
        "duration": 379,
        "start_time": "2025-01-26T18:23:00.778Z"
      },
      {
        "duration": 436,
        "start_time": "2025-01-26T18:23:01.228Z"
      },
      {
        "duration": 269,
        "start_time": "2025-01-26T18:23:02.701Z"
      },
      {
        "duration": 43,
        "start_time": "2025-01-26T18:23:03.509Z"
      },
      {
        "duration": 158,
        "start_time": "2025-01-26T18:23:03.717Z"
      },
      {
        "duration": 141,
        "start_time": "2025-01-26T18:23:03.917Z"
      },
      {
        "duration": 134,
        "start_time": "2025-01-26T18:23:04.117Z"
      },
      {
        "duration": 327,
        "start_time": "2025-01-26T18:23:04.797Z"
      },
      {
        "duration": 199,
        "start_time": "2025-01-26T18:23:05.127Z"
      },
      {
        "duration": 197,
        "start_time": "2025-01-26T18:23:05.365Z"
      },
      {
        "duration": 125,
        "start_time": "2025-01-26T18:23:06.046Z"
      },
      {
        "duration": 114,
        "start_time": "2025-01-26T18:23:06.269Z"
      },
      {
        "duration": 117,
        "start_time": "2025-01-26T18:23:06.509Z"
      },
      {
        "duration": 45,
        "start_time": "2025-01-26T18:23:07.633Z"
      },
      {
        "duration": 14,
        "start_time": "2025-01-26T18:23:08.281Z"
      },
      {
        "duration": 1132,
        "start_time": "2025-01-26T19:17:36.292Z"
      },
      {
        "duration": 163,
        "start_time": "2025-01-26T19:17:37.426Z"
      },
      {
        "duration": 36,
        "start_time": "2025-01-26T19:17:37.591Z"
      },
      {
        "duration": 36,
        "start_time": "2025-01-26T19:17:37.629Z"
      },
      {
        "duration": 16,
        "start_time": "2025-01-26T19:17:37.671Z"
      },
      {
        "duration": 22,
        "start_time": "2025-01-26T19:17:37.689Z"
      },
      {
        "duration": 11,
        "start_time": "2025-01-26T19:17:37.712Z"
      },
      {
        "duration": 52,
        "start_time": "2025-01-26T19:17:37.724Z"
      },
      {
        "duration": 6,
        "start_time": "2025-01-26T19:17:37.777Z"
      },
      {
        "duration": 7,
        "start_time": "2025-01-26T19:17:37.785Z"
      },
      {
        "duration": 95,
        "start_time": "2025-01-26T19:17:37.794Z"
      },
      {
        "duration": 19,
        "start_time": "2025-01-26T19:17:37.891Z"
      },
      {
        "duration": 8,
        "start_time": "2025-01-26T19:17:37.911Z"
      },
      {
        "duration": 54,
        "start_time": "2025-01-26T19:17:37.921Z"
      },
      {
        "duration": 25,
        "start_time": "2025-01-26T19:17:37.976Z"
      },
      {
        "duration": 12,
        "start_time": "2025-01-26T19:17:38.003Z"
      },
      {
        "duration": 23,
        "start_time": "2025-01-26T19:17:38.017Z"
      },
      {
        "duration": 33,
        "start_time": "2025-01-26T19:17:38.041Z"
      },
      {
        "duration": 21,
        "start_time": "2025-01-26T19:17:38.076Z"
      },
      {
        "duration": 428,
        "start_time": "2025-01-26T19:17:38.099Z"
      },
      {
        "duration": 27,
        "start_time": "2025-01-26T19:17:38.528Z"
      },
      {
        "duration": 1855,
        "start_time": "2025-01-26T19:17:38.556Z"
      },
      {
        "duration": 20,
        "start_time": "2025-01-26T19:17:40.412Z"
      },
      {
        "duration": 545,
        "start_time": "2025-01-26T19:17:40.434Z"
      },
      {
        "duration": 128,
        "start_time": "2025-01-26T19:17:40.981Z"
      },
      {
        "duration": 126,
        "start_time": "2025-01-26T19:17:41.111Z"
      },
      {
        "duration": 342,
        "start_time": "2025-01-26T19:17:41.238Z"
      },
      {
        "duration": 360,
        "start_time": "2025-01-26T19:17:41.583Z"
      },
      {
        "duration": 359,
        "start_time": "2025-01-26T19:17:41.945Z"
      },
      {
        "duration": 390,
        "start_time": "2025-01-26T19:17:42.306Z"
      },
      {
        "duration": 247,
        "start_time": "2025-01-26T19:17:42.698Z"
      },
      {
        "duration": 42,
        "start_time": "2025-01-26T19:17:42.946Z"
      },
      {
        "duration": 144,
        "start_time": "2025-01-26T19:17:42.989Z"
      },
      {
        "duration": 135,
        "start_time": "2025-01-26T19:17:43.135Z"
      },
      {
        "duration": 127,
        "start_time": "2025-01-26T19:17:43.272Z"
      },
      {
        "duration": 276,
        "start_time": "2025-01-26T19:17:43.401Z"
      },
      {
        "duration": 183,
        "start_time": "2025-01-26T19:17:43.679Z"
      },
      {
        "duration": 185,
        "start_time": "2025-01-26T19:17:43.863Z"
      },
      {
        "duration": 151,
        "start_time": "2025-01-26T19:17:44.050Z"
      },
      {
        "duration": 121,
        "start_time": "2025-01-26T19:17:44.203Z"
      },
      {
        "duration": 117,
        "start_time": "2025-01-26T19:17:44.326Z"
      },
      {
        "duration": 38,
        "start_time": "2025-01-26T19:17:44.445Z"
      },
      {
        "duration": 12,
        "start_time": "2025-01-26T19:17:44.485Z"
      },
      {
        "duration": 1425,
        "start_time": "2025-01-27T04:26:04.835Z"
      },
      {
        "duration": 180,
        "start_time": "2025-01-27T04:26:06.262Z"
      },
      {
        "duration": 42,
        "start_time": "2025-01-27T04:26:06.931Z"
      },
      {
        "duration": 74,
        "start_time": "2025-01-27T04:26:09.959Z"
      },
      {
        "duration": 17,
        "start_time": "2025-01-27T04:26:23.169Z"
      },
      {
        "duration": 82,
        "start_time": "2025-01-27T04:27:09.079Z"
      },
      {
        "duration": 15,
        "start_time": "2025-01-27T04:27:26.551Z"
      },
      {
        "duration": 107,
        "start_time": "2025-01-27T04:28:25.084Z"
      },
      {
        "duration": 11,
        "start_time": "2025-01-27T04:28:35.594Z"
      },
      {
        "duration": 9,
        "start_time": "2025-01-27T04:28:44.451Z"
      },
      {
        "duration": 9,
        "start_time": "2025-01-27T04:29:14.940Z"
      },
      {
        "duration": 9,
        "start_time": "2025-01-27T04:29:34.248Z"
      },
      {
        "duration": 3,
        "start_time": "2025-01-27T04:29:47.044Z"
      },
      {
        "duration": 153,
        "start_time": "2025-01-27T04:29:47.536Z"
      },
      {
        "duration": 35,
        "start_time": "2025-01-27T04:29:48.012Z"
      },
      {
        "duration": 17,
        "start_time": "2025-01-27T04:29:49.834Z"
      },
      {
        "duration": 16,
        "start_time": "2025-01-27T04:29:52.274Z"
      },
      {
        "duration": 1042,
        "start_time": "2025-01-27T04:29:53.414Z"
      },
      {
        "duration": 9,
        "start_time": "2025-01-27T04:29:56.252Z"
      },
      {
        "duration": 59,
        "start_time": "2025-01-27T04:30:19.299Z"
      },
      {
        "duration": 5,
        "start_time": "2025-01-27T04:30:55.971Z"
      },
      {
        "duration": 172,
        "start_time": "2025-01-27T04:30:56.588Z"
      },
      {
        "duration": 34,
        "start_time": "2025-01-27T04:30:57.217Z"
      },
      {
        "duration": 17,
        "start_time": "2025-01-27T04:30:59.450Z"
      },
      {
        "duration": 15,
        "start_time": "2025-01-27T04:31:02.428Z"
      },
      {
        "duration": 16,
        "start_time": "2025-01-27T04:31:08.324Z"
      },
      {
        "duration": 1068,
        "start_time": "2025-01-27T04:31:09.596Z"
      },
      {
        "duration": 15,
        "start_time": "2025-01-27T04:32:34.123Z"
      },
      {
        "duration": 16,
        "start_time": "2025-01-27T04:33:34.139Z"
      },
      {
        "duration": 18,
        "start_time": "2025-01-27T04:34:09.720Z"
      },
      {
        "duration": 17,
        "start_time": "2025-01-27T04:34:49.452Z"
      },
      {
        "duration": 24,
        "start_time": "2025-01-27T04:34:50.773Z"
      },
      {
        "duration": 18,
        "start_time": "2025-01-27T04:34:53.428Z"
      },
      {
        "duration": 82,
        "start_time": "2025-01-27T04:35:34.810Z"
      },
      {
        "duration": 17,
        "start_time": "2025-01-27T04:36:13.046Z"
      },
      {
        "duration": 11,
        "start_time": "2025-01-27T04:36:13.979Z"
      },
      {
        "duration": 20,
        "start_time": "2025-01-27T04:36:19.219Z"
      },
      {
        "duration": 6,
        "start_time": "2025-01-27T04:36:23.760Z"
      },
      {
        "duration": 6,
        "start_time": "2025-01-27T04:36:52.919Z"
      },
      {
        "duration": 6,
        "start_time": "2025-01-27T04:37:05.190Z"
      },
      {
        "duration": 7,
        "start_time": "2025-01-27T04:37:20.254Z"
      },
      {
        "duration": 5,
        "start_time": "2025-01-27T04:37:22.399Z"
      },
      {
        "duration": 5,
        "start_time": "2025-01-27T04:41:18.200Z"
      },
      {
        "duration": 5,
        "start_time": "2025-01-27T04:41:35.632Z"
      },
      {
        "duration": 8,
        "start_time": "2025-01-27T04:41:36.821Z"
      },
      {
        "duration": 5,
        "start_time": "2025-01-27T04:42:16.473Z"
      },
      {
        "duration": 4,
        "start_time": "2025-01-27T04:43:01.176Z"
      },
      {
        "duration": 175,
        "start_time": "2025-01-27T04:43:01.716Z"
      },
      {
        "duration": 35,
        "start_time": "2025-01-27T04:43:02.238Z"
      },
      {
        "duration": 16,
        "start_time": "2025-01-27T04:43:04.281Z"
      },
      {
        "duration": 15,
        "start_time": "2025-01-27T04:43:05.833Z"
      },
      {
        "duration": 24,
        "start_time": "2025-01-27T04:43:07.407Z"
      },
      {
        "duration": 16,
        "start_time": "2025-01-27T04:43:08.650Z"
      },
      {
        "duration": 12,
        "start_time": "2025-01-27T04:43:09.169Z"
      },
      {
        "duration": 20,
        "start_time": "2025-01-27T04:43:09.730Z"
      },
      {
        "duration": 5,
        "start_time": "2025-01-27T04:43:10.726Z"
      },
      {
        "duration": 6,
        "start_time": "2025-01-27T04:43:11.675Z"
      },
      {
        "duration": 5,
        "start_time": "2025-01-27T04:43:14.250Z"
      },
      {
        "duration": 5,
        "start_time": "2025-01-27T04:43:47.289Z"
      },
      {
        "duration": 5,
        "start_time": "2025-01-27T04:45:39.979Z"
      },
      {
        "duration": 8,
        "start_time": "2025-01-27T04:45:40.615Z"
      },
      {
        "duration": 5,
        "start_time": "2025-01-27T04:45:41.321Z"
      },
      {
        "duration": 7,
        "start_time": "2025-01-27T04:46:23.087Z"
      },
      {
        "duration": 7,
        "start_time": "2025-01-27T04:46:23.655Z"
      },
      {
        "duration": 25,
        "start_time": "2025-01-27T04:46:24.946Z"
      },
      {
        "duration": 16,
        "start_time": "2025-01-27T04:46:26.212Z"
      },
      {
        "duration": 14,
        "start_time": "2025-01-27T04:47:28.143Z"
      },
      {
        "duration": 84,
        "start_time": "2025-01-27T04:48:12.928Z"
      },
      {
        "duration": 10,
        "start_time": "2025-01-27T04:50:13.208Z"
      },
      {
        "duration": 3,
        "start_time": "2025-01-27T04:50:37.441Z"
      },
      {
        "duration": 364,
        "start_time": "2025-01-27T04:50:37.638Z"
      },
      {
        "duration": 33,
        "start_time": "2025-01-27T04:50:38.004Z"
      },
      {
        "duration": 16,
        "start_time": "2025-01-27T04:50:38.652Z"
      },
      {
        "duration": 16,
        "start_time": "2025-01-27T04:50:39.248Z"
      },
      {
        "duration": 23,
        "start_time": "2025-01-27T04:50:39.850Z"
      },
      {
        "duration": 18,
        "start_time": "2025-01-27T04:50:40.424Z"
      },
      {
        "duration": 11,
        "start_time": "2025-01-27T04:50:40.642Z"
      },
      {
        "duration": 22,
        "start_time": "2025-01-27T04:50:40.836Z"
      },
      {
        "duration": 6,
        "start_time": "2025-01-27T04:50:41.253Z"
      },
      {
        "duration": 7,
        "start_time": "2025-01-27T04:50:41.433Z"
      },
      {
        "duration": 6,
        "start_time": "2025-01-27T04:50:41.643Z"
      },
      {
        "duration": 8,
        "start_time": "2025-01-27T04:50:42.256Z"
      },
      {
        "duration": 7,
        "start_time": "2025-01-27T04:50:42.485Z"
      },
      {
        "duration": 26,
        "start_time": "2025-01-27T04:50:42.933Z"
      },
      {
        "duration": 15,
        "start_time": "2025-01-27T04:50:43.428Z"
      },
      {
        "duration": 10,
        "start_time": "2025-01-27T04:50:44.109Z"
      },
      {
        "duration": 25,
        "start_time": "2025-01-27T04:50:45.205Z"
      },
      {
        "duration": 19,
        "start_time": "2025-01-27T04:50:45.746Z"
      },
      {
        "duration": 21,
        "start_time": "2025-01-27T04:50:46.249Z"
      },
      {
        "duration": 440,
        "start_time": "2025-01-27T04:50:47.678Z"
      },
      {
        "duration": 31,
        "start_time": "2025-01-27T04:50:48.490Z"
      },
      {
        "duration": 1983,
        "start_time": "2025-01-27T04:50:49.817Z"
      },
      {
        "duration": 16,
        "start_time": "2025-01-27T04:50:51.808Z"
      },
      {
        "duration": 925,
        "start_time": "2025-01-27T04:51:54.639Z"
      },
      {
        "duration": 146,
        "start_time": "2025-01-27T04:52:05.333Z"
      },
      {
        "duration": 124,
        "start_time": "2025-01-27T04:52:06.414Z"
      },
      {
        "duration": 14,
        "start_time": "2025-01-27T04:55:03.365Z"
      },
      {
        "duration": 1221,
        "start_time": "2025-01-27T04:55:34.759Z"
      },
      {
        "duration": 135,
        "start_time": "2025-01-27T04:55:35.983Z"
      },
      {
        "duration": 37,
        "start_time": "2025-01-27T04:55:36.120Z"
      },
      {
        "duration": 28,
        "start_time": "2025-01-27T04:55:36.159Z"
      },
      {
        "duration": 30,
        "start_time": "2025-01-27T04:55:36.189Z"
      },
      {
        "duration": 53,
        "start_time": "2025-01-27T04:55:36.220Z"
      },
      {
        "duration": 86,
        "start_time": "2025-01-27T04:55:36.274Z"
      },
      {
        "duration": 13,
        "start_time": "2025-01-27T04:55:36.362Z"
      },
      {
        "duration": 43,
        "start_time": "2025-01-27T04:55:36.377Z"
      },
      {
        "duration": 6,
        "start_time": "2025-01-27T04:55:36.422Z"
      },
      {
        "duration": 84,
        "start_time": "2025-01-27T04:55:36.429Z"
      },
      {
        "duration": 30,
        "start_time": "2025-01-27T04:55:36.514Z"
      },
      {
        "duration": 33,
        "start_time": "2025-01-27T04:55:36.545Z"
      },
      {
        "duration": 13,
        "start_time": "2025-01-27T04:55:36.580Z"
      },
      {
        "duration": 24,
        "start_time": "2025-01-27T04:55:36.595Z"
      },
      {
        "duration": 14,
        "start_time": "2025-01-27T04:55:36.621Z"
      },
      {
        "duration": 65,
        "start_time": "2025-01-27T04:55:36.637Z"
      },
      {
        "duration": 80,
        "start_time": "2025-01-27T04:55:36.704Z"
      },
      {
        "duration": 27,
        "start_time": "2025-01-27T04:55:36.786Z"
      },
      {
        "duration": 74,
        "start_time": "2025-01-27T04:55:36.815Z"
      },
      {
        "duration": 443,
        "start_time": "2025-01-27T04:55:36.891Z"
      },
      {
        "duration": 30,
        "start_time": "2025-01-27T04:55:37.335Z"
      },
      {
        "duration": 1952,
        "start_time": "2025-01-27T04:55:37.367Z"
      },
      {
        "duration": 17,
        "start_time": "2025-01-27T04:55:39.321Z"
      },
      {
        "duration": 935,
        "start_time": "2025-01-27T04:55:39.340Z"
      },
      {
        "duration": 139,
        "start_time": "2025-01-27T04:55:40.277Z"
      },
      {
        "duration": 139,
        "start_time": "2025-01-27T04:55:40.418Z"
      },
      {
        "duration": 0,
        "start_time": "2025-01-27T04:55:40.560Z"
      },
      {
        "duration": 0,
        "start_time": "2025-01-27T04:55:40.562Z"
      },
      {
        "duration": 0,
        "start_time": "2025-01-27T04:55:40.563Z"
      },
      {
        "duration": 0,
        "start_time": "2025-01-27T04:55:40.564Z"
      },
      {
        "duration": 0,
        "start_time": "2025-01-27T04:55:40.565Z"
      },
      {
        "duration": 0,
        "start_time": "2025-01-27T04:55:40.567Z"
      },
      {
        "duration": 0,
        "start_time": "2025-01-27T04:55:40.568Z"
      },
      {
        "duration": 0,
        "start_time": "2025-01-27T04:55:40.570Z"
      },
      {
        "duration": 0,
        "start_time": "2025-01-27T04:55:40.570Z"
      },
      {
        "duration": 0,
        "start_time": "2025-01-27T04:55:40.571Z"
      },
      {
        "duration": 0,
        "start_time": "2025-01-27T04:55:40.572Z"
      },
      {
        "duration": 0,
        "start_time": "2025-01-27T04:55:40.573Z"
      },
      {
        "duration": 0,
        "start_time": "2025-01-27T04:55:40.574Z"
      },
      {
        "duration": 0,
        "start_time": "2025-01-27T04:55:40.576Z"
      },
      {
        "duration": 0,
        "start_time": "2025-01-27T04:55:40.576Z"
      },
      {
        "duration": 0,
        "start_time": "2025-01-27T04:55:40.577Z"
      },
      {
        "duration": 0,
        "start_time": "2025-01-27T04:55:40.579Z"
      },
      {
        "duration": 13,
        "start_time": "2025-01-27T04:57:52.450Z"
      },
      {
        "duration": 137,
        "start_time": "2025-01-27T04:58:54.414Z"
      },
      {
        "duration": 142,
        "start_time": "2025-01-27T04:59:26.993Z"
      },
      {
        "duration": 125,
        "start_time": "2025-01-27T05:04:06.876Z"
      },
      {
        "duration": 2040,
        "start_time": "2025-01-27T05:04:29.716Z"
      },
      {
        "duration": 18,
        "start_time": "2025-01-27T05:04:31.759Z"
      },
      {
        "duration": 962,
        "start_time": "2025-01-27T05:04:34.147Z"
      },
      {
        "duration": 155,
        "start_time": "2025-01-27T05:04:40.105Z"
      },
      {
        "duration": 120,
        "start_time": "2025-01-27T05:05:36.797Z"
      },
      {
        "duration": 118,
        "start_time": "2025-01-27T05:06:34.740Z"
      },
      {
        "duration": 132,
        "start_time": "2025-01-27T05:07:44.510Z"
      },
      {
        "duration": 15,
        "start_time": "2025-01-27T05:09:54.188Z"
      },
      {
        "duration": 13,
        "start_time": "2025-01-27T05:11:17.549Z"
      },
      {
        "duration": 14,
        "start_time": "2025-01-27T05:11:36.927Z"
      },
      {
        "duration": 139,
        "start_time": "2025-01-27T05:11:44.463Z"
      },
      {
        "duration": 367,
        "start_time": "2025-01-27T05:13:18.861Z"
      },
      {
        "duration": 359,
        "start_time": "2025-01-27T05:18:28.208Z"
      },
      {
        "duration": 72,
        "start_time": "2025-01-27T05:19:11.099Z"
      },
      {
        "duration": 253,
        "start_time": "2025-01-27T05:20:06.137Z"
      },
      {
        "duration": 256,
        "start_time": "2025-01-27T05:20:29.500Z"
      },
      {
        "duration": 231,
        "start_time": "2025-01-27T05:23:16.430Z"
      },
      {
        "duration": 119,
        "start_time": "2025-01-27T05:26:02.655Z"
      },
      {
        "duration": 132,
        "start_time": "2025-01-27T05:26:08.503Z"
      },
      {
        "duration": 129,
        "start_time": "2025-01-27T05:27:31.304Z"
      },
      {
        "duration": 118,
        "start_time": "2025-01-27T05:27:36.928Z"
      },
      {
        "duration": 124,
        "start_time": "2025-01-27T05:27:52.598Z"
      },
      {
        "duration": 193,
        "start_time": "2025-01-27T05:29:27.696Z"
      },
      {
        "duration": 116,
        "start_time": "2025-01-27T05:29:49.334Z"
      },
      {
        "duration": 119,
        "start_time": "2025-01-27T05:32:16.743Z"
      },
      {
        "duration": 255,
        "start_time": "2025-01-27T05:32:43.699Z"
      },
      {
        "duration": 246,
        "start_time": "2025-01-27T05:33:29.565Z"
      },
      {
        "duration": 227,
        "start_time": "2025-01-27T05:33:51.803Z"
      },
      {
        "duration": 153,
        "start_time": "2025-01-27T05:34:19.210Z"
      },
      {
        "duration": 355,
        "start_time": "2025-01-27T05:34:27.478Z"
      },
      {
        "duration": 358,
        "start_time": "2025-01-27T05:34:29.730Z"
      },
      {
        "duration": 382,
        "start_time": "2025-01-27T05:34:31.462Z"
      },
      {
        "duration": 405,
        "start_time": "2025-01-27T05:34:32.322Z"
      },
      {
        "duration": 287,
        "start_time": "2025-01-27T05:34:34.870Z"
      },
      {
        "duration": 123,
        "start_time": "2025-01-27T05:34:35.958Z"
      },
      {
        "duration": 112,
        "start_time": "2025-01-27T05:35:18.722Z"
      },
      {
        "duration": 108,
        "start_time": "2025-01-27T05:35:26.266Z"
      },
      {
        "duration": 44,
        "start_time": "2025-01-27T05:35:30.502Z"
      },
      {
        "duration": 140,
        "start_time": "2025-01-27T05:35:32.819Z"
      },
      {
        "duration": 224,
        "start_time": "2025-01-27T05:35:35.415Z"
      },
      {
        "duration": 131,
        "start_time": "2025-01-27T05:35:35.927Z"
      },
      {
        "duration": 105,
        "start_time": "2025-01-27T05:35:37.602Z"
      },
      {
        "duration": 89,
        "start_time": "2025-01-27T05:35:38.090Z"
      },
      {
        "duration": 102,
        "start_time": "2025-01-27T05:35:38.599Z"
      },
      {
        "duration": 129,
        "start_time": "2025-01-27T05:35:40.770Z"
      },
      {
        "duration": 119,
        "start_time": "2025-01-27T05:35:41.498Z"
      },
      {
        "duration": 123,
        "start_time": "2025-01-27T05:35:41.984Z"
      },
      {
        "duration": 29,
        "start_time": "2025-01-27T05:35:45.271Z"
      },
      {
        "duration": 1086,
        "start_time": "2025-01-27T05:36:09.620Z"
      },
      {
        "duration": 36,
        "start_time": "2025-01-27T05:39:34.653Z"
      },
      {
        "duration": 30,
        "start_time": "2025-01-27T05:39:58.578Z"
      },
      {
        "duration": 81,
        "start_time": "2025-01-27T05:41:16.589Z"
      },
      {
        "duration": 18,
        "start_time": "2025-01-27T05:41:26.005Z"
      },
      {
        "duration": 33,
        "start_time": "2025-01-27T05:42:24.926Z"
      },
      {
        "duration": 19,
        "start_time": "2025-01-27T05:42:36.916Z"
      },
      {
        "duration": 1175,
        "start_time": "2025-01-27T05:43:21.245Z"
      },
      {
        "duration": 162,
        "start_time": "2025-01-27T05:43:22.423Z"
      },
      {
        "duration": 41,
        "start_time": "2025-01-27T05:43:22.590Z"
      },
      {
        "duration": 69,
        "start_time": "2025-01-27T05:43:22.633Z"
      },
      {
        "duration": 26,
        "start_time": "2025-01-27T05:43:22.704Z"
      },
      {
        "duration": 23,
        "start_time": "2025-01-27T05:43:22.731Z"
      },
      {
        "duration": 75,
        "start_time": "2025-01-27T05:43:22.755Z"
      },
      {
        "duration": 12,
        "start_time": "2025-01-27T05:43:22.832Z"
      },
      {
        "duration": 21,
        "start_time": "2025-01-27T05:43:22.846Z"
      },
      {
        "duration": 5,
        "start_time": "2025-01-27T05:43:22.869Z"
      },
      {
        "duration": 37,
        "start_time": "2025-01-27T05:43:22.875Z"
      },
      {
        "duration": 7,
        "start_time": "2025-01-27T05:43:22.914Z"
      },
      {
        "duration": 9,
        "start_time": "2025-01-27T05:43:22.922Z"
      },
      {
        "duration": 8,
        "start_time": "2025-01-27T05:43:22.933Z"
      },
      {
        "duration": 23,
        "start_time": "2025-01-27T05:43:22.943Z"
      },
      {
        "duration": 49,
        "start_time": "2025-01-27T05:43:22.968Z"
      },
      {
        "duration": 11,
        "start_time": "2025-01-27T05:43:23.019Z"
      },
      {
        "duration": 28,
        "start_time": "2025-01-27T05:43:23.032Z"
      },
      {
        "duration": 62,
        "start_time": "2025-01-27T05:43:23.062Z"
      },
      {
        "duration": 22,
        "start_time": "2025-01-27T05:43:23.126Z"
      },
      {
        "duration": 520,
        "start_time": "2025-01-27T05:43:23.149Z"
      },
      {
        "duration": 51,
        "start_time": "2025-01-27T05:43:23.675Z"
      },
      {
        "duration": 2083,
        "start_time": "2025-01-27T05:43:23.731Z"
      },
      {
        "duration": 19,
        "start_time": "2025-01-27T05:43:25.817Z"
      },
      {
        "duration": 946,
        "start_time": "2025-01-27T05:43:25.837Z"
      },
      {
        "duration": 150,
        "start_time": "2025-01-27T05:43:26.785Z"
      },
      {
        "duration": 168,
        "start_time": "2025-01-27T05:43:26.939Z"
      },
      {
        "duration": 389,
        "start_time": "2025-01-27T05:43:27.109Z"
      },
      {
        "duration": 388,
        "start_time": "2025-01-27T05:43:27.500Z"
      },
      {
        "duration": 387,
        "start_time": "2025-01-27T05:43:27.890Z"
      },
      {
        "duration": 428,
        "start_time": "2025-01-27T05:43:28.279Z"
      },
      {
        "duration": 265,
        "start_time": "2025-01-27T05:43:28.709Z"
      },
      {
        "duration": 116,
        "start_time": "2025-01-27T05:43:28.976Z"
      },
      {
        "duration": 37,
        "start_time": "2025-01-27T05:43:29.093Z"
      },
      {
        "duration": 144,
        "start_time": "2025-01-27T05:43:29.132Z"
      },
      {
        "duration": 225,
        "start_time": "2025-01-27T05:43:29.278Z"
      },
      {
        "duration": 135,
        "start_time": "2025-01-27T05:43:29.504Z"
      },
      {
        "duration": 206,
        "start_time": "2025-01-27T05:43:29.640Z"
      },
      {
        "duration": 193,
        "start_time": "2025-01-27T05:43:29.847Z"
      },
      {
        "duration": 199,
        "start_time": "2025-01-27T05:43:30.041Z"
      },
      {
        "duration": 131,
        "start_time": "2025-01-27T05:43:30.242Z"
      },
      {
        "duration": 146,
        "start_time": "2025-01-27T05:43:30.375Z"
      },
      {
        "duration": 130,
        "start_time": "2025-01-27T05:43:30.523Z"
      },
      {
        "duration": 31,
        "start_time": "2025-01-27T05:43:30.655Z"
      },
      {
        "duration": 15,
        "start_time": "2025-01-27T05:43:30.708Z"
      },
      {
        "duration": 262,
        "start_time": "2025-01-27T05:45:22.565Z"
      },
      {
        "duration": 262,
        "start_time": "2025-01-27T05:46:01.590Z"
      },
      {
        "duration": 107,
        "start_time": "2025-01-27T05:46:05.540Z"
      },
      {
        "duration": 1221,
        "start_time": "2025-01-27T05:47:41.094Z"
      },
      {
        "duration": 171,
        "start_time": "2025-01-27T05:47:42.317Z"
      },
      {
        "duration": 39,
        "start_time": "2025-01-27T05:47:42.490Z"
      },
      {
        "duration": 17,
        "start_time": "2025-01-27T05:47:42.531Z"
      },
      {
        "duration": 16,
        "start_time": "2025-01-27T05:47:42.550Z"
      },
      {
        "duration": 55,
        "start_time": "2025-01-27T05:47:42.568Z"
      },
      {
        "duration": 102,
        "start_time": "2025-01-27T05:47:42.624Z"
      },
      {
        "duration": 12,
        "start_time": "2025-01-27T05:47:42.728Z"
      },
      {
        "duration": 21,
        "start_time": "2025-01-27T05:47:42.742Z"
      },
      {
        "duration": 5,
        "start_time": "2025-01-27T05:47:42.765Z"
      },
      {
        "duration": 10,
        "start_time": "2025-01-27T05:47:42.772Z"
      },
      {
        "duration": 27,
        "start_time": "2025-01-27T05:47:42.784Z"
      },
      {
        "duration": 9,
        "start_time": "2025-01-27T05:47:42.813Z"
      },
      {
        "duration": 8,
        "start_time": "2025-01-27T05:47:42.825Z"
      },
      {
        "duration": 29,
        "start_time": "2025-01-27T05:47:42.835Z"
      },
      {
        "duration": 18,
        "start_time": "2025-01-27T05:47:42.908Z"
      },
      {
        "duration": 11,
        "start_time": "2025-01-27T05:47:42.928Z"
      },
      {
        "duration": 34,
        "start_time": "2025-01-27T05:47:42.941Z"
      },
      {
        "duration": 20,
        "start_time": "2025-01-27T05:47:43.008Z"
      },
      {
        "duration": 22,
        "start_time": "2025-01-27T05:47:43.030Z"
      },
      {
        "duration": 490,
        "start_time": "2025-01-27T05:47:43.055Z"
      },
      {
        "duration": 32,
        "start_time": "2025-01-27T05:47:43.547Z"
      },
      {
        "duration": 2040,
        "start_time": "2025-01-27T05:47:43.580Z"
      },
      {
        "duration": 17,
        "start_time": "2025-01-27T05:47:45.622Z"
      },
      {
        "duration": 951,
        "start_time": "2025-01-27T05:47:45.641Z"
      },
      {
        "duration": 144,
        "start_time": "2025-01-27T05:47:46.593Z"
      },
      {
        "duration": 155,
        "start_time": "2025-01-27T05:47:46.739Z"
      },
      {
        "duration": 368,
        "start_time": "2025-01-27T05:47:46.897Z"
      },
      {
        "duration": 385,
        "start_time": "2025-01-27T05:47:47.267Z"
      },
      {
        "duration": 386,
        "start_time": "2025-01-27T05:47:47.654Z"
      },
      {
        "duration": 435,
        "start_time": "2025-01-27T05:47:48.042Z"
      },
      {
        "duration": 276,
        "start_time": "2025-01-27T05:47:48.479Z"
      },
      {
        "duration": 122,
        "start_time": "2025-01-27T05:47:48.757Z"
      },
      {
        "duration": 52,
        "start_time": "2025-01-27T05:47:48.880Z"
      },
      {
        "duration": 151,
        "start_time": "2025-01-27T05:47:48.934Z"
      },
      {
        "duration": 227,
        "start_time": "2025-01-27T05:47:49.088Z"
      },
      {
        "duration": 140,
        "start_time": "2025-01-27T05:47:49.318Z"
      },
      {
        "duration": 244,
        "start_time": "2025-01-27T05:47:49.460Z"
      },
      {
        "duration": 195,
        "start_time": "2025-01-27T05:47:49.707Z"
      },
      {
        "duration": 195,
        "start_time": "2025-01-27T05:47:49.905Z"
      },
      {
        "duration": 133,
        "start_time": "2025-01-27T05:47:50.103Z"
      },
      {
        "duration": 176,
        "start_time": "2025-01-27T05:47:50.239Z"
      },
      {
        "duration": 151,
        "start_time": "2025-01-27T05:47:50.417Z"
      },
      {
        "duration": 42,
        "start_time": "2025-01-27T05:47:50.570Z"
      },
      {
        "duration": 93,
        "start_time": "2025-01-27T05:47:50.613Z"
      },
      {
        "duration": 1338,
        "start_time": "2025-01-27T07:46:00.445Z"
      },
      {
        "duration": 225,
        "start_time": "2025-01-27T07:46:01.785Z"
      },
      {
        "duration": 50,
        "start_time": "2025-01-27T07:46:02.012Z"
      },
      {
        "duration": 19,
        "start_time": "2025-01-27T07:46:02.064Z"
      },
      {
        "duration": 18,
        "start_time": "2025-01-27T07:46:02.085Z"
      },
      {
        "duration": 58,
        "start_time": "2025-01-27T07:46:02.105Z"
      },
      {
        "duration": 60,
        "start_time": "2025-01-27T07:46:02.165Z"
      },
      {
        "duration": 36,
        "start_time": "2025-01-27T07:46:02.226Z"
      },
      {
        "duration": 26,
        "start_time": "2025-01-27T07:46:02.264Z"
      },
      {
        "duration": 7,
        "start_time": "2025-01-27T07:46:02.292Z"
      },
      {
        "duration": 45,
        "start_time": "2025-01-27T07:46:02.301Z"
      },
      {
        "duration": 23,
        "start_time": "2025-01-27T07:46:02.348Z"
      },
      {
        "duration": 34,
        "start_time": "2025-01-27T07:46:02.373Z"
      },
      {
        "duration": 100,
        "start_time": "2025-01-27T07:46:02.409Z"
      },
      {
        "duration": 49,
        "start_time": "2025-01-27T07:46:02.510Z"
      },
      {
        "duration": 17,
        "start_time": "2025-01-27T07:46:02.561Z"
      },
      {
        "duration": 11,
        "start_time": "2025-01-27T07:46:02.580Z"
      },
      {
        "duration": 67,
        "start_time": "2025-01-27T07:46:02.593Z"
      },
      {
        "duration": 22,
        "start_time": "2025-01-27T07:46:02.663Z"
      },
      {
        "duration": 23,
        "start_time": "2025-01-27T07:46:02.688Z"
      },
      {
        "duration": 501,
        "start_time": "2025-01-27T07:46:02.713Z"
      },
      {
        "duration": 45,
        "start_time": "2025-01-27T07:46:03.216Z"
      },
      {
        "duration": 2133,
        "start_time": "2025-01-27T07:46:03.263Z"
      },
      {
        "duration": 19,
        "start_time": "2025-01-27T07:46:05.398Z"
      },
      {
        "duration": 998,
        "start_time": "2025-01-27T07:46:05.419Z"
      },
      {
        "duration": 148,
        "start_time": "2025-01-27T07:46:06.419Z"
      },
      {
        "duration": 165,
        "start_time": "2025-01-27T07:46:06.569Z"
      },
      {
        "duration": 403,
        "start_time": "2025-01-27T07:46:06.738Z"
      },
      {
        "duration": 410,
        "start_time": "2025-01-27T07:46:07.143Z"
      },
      {
        "duration": 437,
        "start_time": "2025-01-27T07:46:07.555Z"
      },
      {
        "duration": 470,
        "start_time": "2025-01-27T07:46:07.993Z"
      },
      {
        "duration": 284,
        "start_time": "2025-01-27T07:46:08.465Z"
      },
      {
        "duration": 245,
        "start_time": "2025-01-27T07:46:08.751Z"
      },
      {
        "duration": 37,
        "start_time": "2025-01-27T07:46:08.997Z"
      },
      {
        "duration": 163,
        "start_time": "2025-01-27T07:46:09.036Z"
      },
      {
        "duration": 142,
        "start_time": "2025-01-27T07:46:09.201Z"
      },
      {
        "duration": 141,
        "start_time": "2025-01-27T07:46:09.346Z"
      },
      {
        "duration": 212,
        "start_time": "2025-01-27T07:46:09.488Z"
      },
      {
        "duration": 199,
        "start_time": "2025-01-27T07:46:09.702Z"
      },
      {
        "duration": 215,
        "start_time": "2025-01-27T07:46:09.903Z"
      },
      {
        "duration": 144,
        "start_time": "2025-01-27T07:46:10.120Z"
      },
      {
        "duration": 133,
        "start_time": "2025-01-27T07:46:10.266Z"
      },
      {
        "duration": 132,
        "start_time": "2025-01-27T07:46:10.400Z"
      },
      {
        "duration": 43,
        "start_time": "2025-01-27T07:46:10.533Z"
      },
      {
        "duration": 15,
        "start_time": "2025-01-27T07:46:10.578Z"
      },
      {
        "duration": 484,
        "start_time": "2025-01-27T08:02:44.796Z"
      },
      {
        "duration": 53,
        "start_time": "2025-01-27T10:20:54.027Z"
      },
      {
        "duration": 7,
        "start_time": "2025-01-27T10:22:35.737Z"
      },
      {
        "duration": 9,
        "start_time": "2025-01-27T10:23:30.737Z"
      },
      {
        "duration": 1392,
        "start_time": "2025-01-27T10:24:28.934Z"
      },
      {
        "duration": 209,
        "start_time": "2025-01-27T10:24:30.328Z"
      },
      {
        "duration": 39,
        "start_time": "2025-01-27T10:24:30.539Z"
      },
      {
        "duration": 31,
        "start_time": "2025-01-27T10:24:30.580Z"
      },
      {
        "duration": 40,
        "start_time": "2025-01-27T10:24:30.613Z"
      },
      {
        "duration": 55,
        "start_time": "2025-01-27T10:24:30.655Z"
      },
      {
        "duration": 67,
        "start_time": "2025-01-27T10:24:30.711Z"
      },
      {
        "duration": 11,
        "start_time": "2025-01-27T10:24:30.780Z"
      },
      {
        "duration": 143,
        "start_time": "2025-01-27T10:24:30.793Z"
      },
      {
        "duration": 15,
        "start_time": "2025-01-27T10:24:30.937Z"
      },
      {
        "duration": 29,
        "start_time": "2025-01-27T10:24:30.954Z"
      },
      {
        "duration": 12,
        "start_time": "2025-01-27T10:24:30.984Z"
      },
      {
        "duration": 8,
        "start_time": "2025-01-27T10:24:30.998Z"
      },
      {
        "duration": 12,
        "start_time": "2025-01-27T10:24:31.010Z"
      },
      {
        "duration": 45,
        "start_time": "2025-01-27T10:24:31.024Z"
      },
      {
        "duration": 27,
        "start_time": "2025-01-27T10:24:31.071Z"
      },
      {
        "duration": 9,
        "start_time": "2025-01-27T10:24:31.100Z"
      },
      {
        "duration": 57,
        "start_time": "2025-01-27T10:24:31.111Z"
      },
      {
        "duration": 21,
        "start_time": "2025-01-27T10:24:31.170Z"
      },
      {
        "duration": 31,
        "start_time": "2025-01-27T10:24:31.193Z"
      },
      {
        "duration": 476,
        "start_time": "2025-01-27T10:24:31.226Z"
      },
      {
        "duration": 31,
        "start_time": "2025-01-27T10:24:31.707Z"
      },
      {
        "duration": 2029,
        "start_time": "2025-01-27T10:24:31.740Z"
      },
      {
        "duration": 18,
        "start_time": "2025-01-27T10:24:33.770Z"
      },
      {
        "duration": 955,
        "start_time": "2025-01-27T10:24:33.790Z"
      },
      {
        "duration": 142,
        "start_time": "2025-01-27T10:24:34.746Z"
      },
      {
        "duration": 175,
        "start_time": "2025-01-27T10:24:34.890Z"
      },
      {
        "duration": 381,
        "start_time": "2025-01-27T10:24:35.067Z"
      },
      {
        "duration": 381,
        "start_time": "2025-01-27T10:24:35.450Z"
      },
      {
        "duration": 387,
        "start_time": "2025-01-27T10:24:35.833Z"
      },
      {
        "duration": 433,
        "start_time": "2025-01-27T10:24:36.222Z"
      },
      {
        "duration": 273,
        "start_time": "2025-01-27T10:24:36.658Z"
      },
      {
        "duration": 217,
        "start_time": "2025-01-27T10:24:36.933Z"
      },
      {
        "duration": 318,
        "start_time": "2025-01-27T10:24:37.153Z"
      },
      {
        "duration": 50,
        "start_time": "2025-01-27T10:24:37.474Z"
      },
      {
        "duration": 154,
        "start_time": "2025-01-27T10:24:37.526Z"
      },
      {
        "duration": 136,
        "start_time": "2025-01-27T10:24:37.683Z"
      },
      {
        "duration": 144,
        "start_time": "2025-01-27T10:24:37.821Z"
      },
      {
        "duration": 202,
        "start_time": "2025-01-27T10:24:37.967Z"
      },
      {
        "duration": 206,
        "start_time": "2025-01-27T10:24:38.171Z"
      },
      {
        "duration": 199,
        "start_time": "2025-01-27T10:24:38.382Z"
      },
      {
        "duration": 137,
        "start_time": "2025-01-27T10:24:38.583Z"
      },
      {
        "duration": 134,
        "start_time": "2025-01-27T10:24:38.722Z"
      },
      {
        "duration": 230,
        "start_time": "2025-01-27T10:24:38.858Z"
      },
      {
        "duration": 33,
        "start_time": "2025-01-27T10:24:39.090Z"
      },
      {
        "duration": 14,
        "start_time": "2025-01-27T10:24:39.125Z"
      },
      {
        "duration": 361,
        "start_time": "2025-01-27T10:30:48.925Z"
      },
      {
        "duration": 375,
        "start_time": "2025-01-27T10:32:38.292Z"
      },
      {
        "duration": 303,
        "start_time": "2025-01-27T10:34:29.260Z"
      },
      {
        "duration": 117,
        "start_time": "2025-01-27T10:34:53.887Z"
      },
      {
        "duration": 18,
        "start_time": "2025-01-27T10:35:15.049Z"
      },
      {
        "duration": 305,
        "start_time": "2025-01-27T10:35:19.639Z"
      },
      {
        "duration": 82,
        "start_time": "2025-01-27T10:43:08.708Z"
      },
      {
        "duration": 397,
        "start_time": "2025-01-27T10:45:06.604Z"
      },
      {
        "duration": 392,
        "start_time": "2025-01-27T10:46:36.393Z"
      },
      {
        "duration": 211,
        "start_time": "2025-01-27T10:48:19.248Z"
      },
      {
        "duration": 227,
        "start_time": "2025-01-27T10:51:52.209Z"
      },
      {
        "duration": 128,
        "start_time": "2025-01-27T10:53:29.170Z"
      },
      {
        "duration": 2,
        "start_time": "2025-01-27T10:53:44.920Z"
      },
      {
        "duration": 3,
        "start_time": "2025-01-27T10:53:49.040Z"
      },
      {
        "duration": 227,
        "start_time": "2025-01-27T10:53:49.778Z"
      },
      {
        "duration": 82,
        "start_time": "2025-01-27T10:54:35.830Z"
      },
      {
        "duration": 222,
        "start_time": "2025-01-27T10:55:14.271Z"
      },
      {
        "duration": 301,
        "start_time": "2025-01-27T10:55:38.288Z"
      },
      {
        "duration": 1205,
        "start_time": "2025-01-27T10:55:56.326Z"
      },
      {
        "duration": 191,
        "start_time": "2025-01-27T10:55:57.534Z"
      },
      {
        "duration": 39,
        "start_time": "2025-01-27T10:55:57.727Z"
      },
      {
        "duration": 18,
        "start_time": "2025-01-27T10:55:57.768Z"
      },
      {
        "duration": 17,
        "start_time": "2025-01-27T10:55:57.808Z"
      },
      {
        "duration": 29,
        "start_time": "2025-01-27T10:55:57.828Z"
      },
      {
        "duration": 100,
        "start_time": "2025-01-27T10:55:57.859Z"
      },
      {
        "duration": 12,
        "start_time": "2025-01-27T10:55:57.961Z"
      },
      {
        "duration": 39,
        "start_time": "2025-01-27T10:55:57.975Z"
      },
      {
        "duration": 5,
        "start_time": "2025-01-27T10:55:58.016Z"
      },
      {
        "duration": 16,
        "start_time": "2025-01-27T10:55:58.023Z"
      },
      {
        "duration": 13,
        "start_time": "2025-01-27T10:55:58.041Z"
      },
      {
        "duration": 9,
        "start_time": "2025-01-27T10:55:58.055Z"
      },
      {
        "duration": 7,
        "start_time": "2025-01-27T10:55:58.068Z"
      },
      {
        "duration": 51,
        "start_time": "2025-01-27T10:55:58.076Z"
      },
      {
        "duration": 16,
        "start_time": "2025-01-27T10:55:58.129Z"
      },
      {
        "duration": 12,
        "start_time": "2025-01-27T10:55:58.146Z"
      },
      {
        "duration": 65,
        "start_time": "2025-01-27T10:55:58.160Z"
      },
      {
        "duration": 20,
        "start_time": "2025-01-27T10:55:58.227Z"
      },
      {
        "duration": 22,
        "start_time": "2025-01-27T10:55:58.248Z"
      },
      {
        "duration": 495,
        "start_time": "2025-01-27T10:55:58.272Z"
      },
      {
        "duration": 43,
        "start_time": "2025-01-27T10:55:58.769Z"
      },
      {
        "duration": 2025,
        "start_time": "2025-01-27T10:55:58.814Z"
      },
      {
        "duration": 25,
        "start_time": "2025-01-27T10:56:00.841Z"
      },
      {
        "duration": 979,
        "start_time": "2025-01-27T10:56:00.868Z"
      },
      {
        "duration": 3,
        "start_time": "2025-01-27T10:56:01.849Z"
      },
      {
        "duration": 291,
        "start_time": "2025-01-27T10:56:01.854Z"
      },
      {
        "duration": 129,
        "start_time": "2025-01-27T10:56:02.147Z"
      },
      {
        "duration": 0,
        "start_time": "2025-01-27T10:56:02.279Z"
      },
      {
        "duration": 0,
        "start_time": "2025-01-27T10:56:02.281Z"
      },
      {
        "duration": 0,
        "start_time": "2025-01-27T10:56:02.282Z"
      },
      {
        "duration": 0,
        "start_time": "2025-01-27T10:56:02.284Z"
      },
      {
        "duration": 0,
        "start_time": "2025-01-27T10:56:02.286Z"
      },
      {
        "duration": 0,
        "start_time": "2025-01-27T10:56:02.307Z"
      },
      {
        "duration": 0,
        "start_time": "2025-01-27T10:56:02.309Z"
      },
      {
        "duration": 0,
        "start_time": "2025-01-27T10:56:02.311Z"
      },
      {
        "duration": 0,
        "start_time": "2025-01-27T10:56:02.312Z"
      },
      {
        "duration": 0,
        "start_time": "2025-01-27T10:56:02.314Z"
      },
      {
        "duration": 0,
        "start_time": "2025-01-27T10:56:02.316Z"
      },
      {
        "duration": 0,
        "start_time": "2025-01-27T10:56:02.317Z"
      },
      {
        "duration": 0,
        "start_time": "2025-01-27T10:56:02.319Z"
      },
      {
        "duration": 0,
        "start_time": "2025-01-27T10:56:02.321Z"
      },
      {
        "duration": 0,
        "start_time": "2025-01-27T10:56:02.323Z"
      },
      {
        "duration": 0,
        "start_time": "2025-01-27T10:56:02.324Z"
      },
      {
        "duration": 0,
        "start_time": "2025-01-27T10:56:02.326Z"
      },
      {
        "duration": 0,
        "start_time": "2025-01-27T10:56:02.327Z"
      },
      {
        "duration": 330,
        "start_time": "2025-01-27T10:56:17.170Z"
      },
      {
        "duration": 1450,
        "start_time": "2025-01-27T11:13:04.182Z"
      },
      {
        "duration": 275,
        "start_time": "2025-01-27T11:13:05.634Z"
      },
      {
        "duration": 56,
        "start_time": "2025-01-27T11:13:05.910Z"
      },
      {
        "duration": 47,
        "start_time": "2025-01-27T11:13:05.968Z"
      },
      {
        "duration": 35,
        "start_time": "2025-01-27T11:13:06.017Z"
      },
      {
        "duration": 29,
        "start_time": "2025-01-27T11:13:06.054Z"
      },
      {
        "duration": 76,
        "start_time": "2025-01-27T11:13:06.085Z"
      },
      {
        "duration": 17,
        "start_time": "2025-01-27T11:13:06.164Z"
      },
      {
        "duration": 55,
        "start_time": "2025-01-27T11:13:06.183Z"
      },
      {
        "duration": 38,
        "start_time": "2025-01-27T11:13:06.241Z"
      },
      {
        "duration": 37,
        "start_time": "2025-01-27T11:13:06.281Z"
      },
      {
        "duration": 37,
        "start_time": "2025-01-27T11:13:06.321Z"
      },
      {
        "duration": 28,
        "start_time": "2025-01-27T11:13:06.361Z"
      },
      {
        "duration": 29,
        "start_time": "2025-01-27T11:13:06.393Z"
      },
      {
        "duration": 64,
        "start_time": "2025-01-27T11:13:06.424Z"
      },
      {
        "duration": 18,
        "start_time": "2025-01-27T11:13:06.490Z"
      },
      {
        "duration": 60,
        "start_time": "2025-01-27T11:13:06.510Z"
      },
      {
        "duration": 49,
        "start_time": "2025-01-27T11:13:06.573Z"
      },
      {
        "duration": 45,
        "start_time": "2025-01-27T11:13:06.624Z"
      },
      {
        "duration": 64,
        "start_time": "2025-01-27T11:13:06.671Z"
      },
      {
        "duration": 476,
        "start_time": "2025-01-27T11:13:06.737Z"
      },
      {
        "duration": 31,
        "start_time": "2025-01-27T11:13:07.215Z"
      },
      {
        "duration": 2188,
        "start_time": "2025-01-27T11:13:07.260Z"
      },
      {
        "duration": 24,
        "start_time": "2025-01-27T11:13:09.449Z"
      },
      {
        "duration": 924,
        "start_time": "2025-01-27T11:13:09.475Z"
      },
      {
        "duration": 4,
        "start_time": "2025-01-27T11:13:10.401Z"
      },
      {
        "duration": 275,
        "start_time": "2025-01-27T11:13:10.407Z"
      },
      {
        "duration": 124,
        "start_time": "2025-01-27T11:13:10.684Z"
      },
      {
        "duration": 0,
        "start_time": "2025-01-27T11:13:10.811Z"
      },
      {
        "duration": 0,
        "start_time": "2025-01-27T11:13:10.812Z"
      },
      {
        "duration": 1,
        "start_time": "2025-01-27T11:13:10.813Z"
      },
      {
        "duration": 0,
        "start_time": "2025-01-27T11:13:10.815Z"
      },
      {
        "duration": 0,
        "start_time": "2025-01-27T11:13:10.817Z"
      },
      {
        "duration": 0,
        "start_time": "2025-01-27T11:13:10.818Z"
      },
      {
        "duration": 0,
        "start_time": "2025-01-27T11:13:10.819Z"
      },
      {
        "duration": 0,
        "start_time": "2025-01-27T11:13:10.821Z"
      },
      {
        "duration": 0,
        "start_time": "2025-01-27T11:13:10.822Z"
      },
      {
        "duration": 0,
        "start_time": "2025-01-27T11:13:10.825Z"
      },
      {
        "duration": 0,
        "start_time": "2025-01-27T11:13:10.826Z"
      },
      {
        "duration": 0,
        "start_time": "2025-01-27T11:13:10.860Z"
      },
      {
        "duration": 0,
        "start_time": "2025-01-27T11:13:10.861Z"
      },
      {
        "duration": 0,
        "start_time": "2025-01-27T11:13:10.862Z"
      },
      {
        "duration": 0,
        "start_time": "2025-01-27T11:13:10.864Z"
      },
      {
        "duration": 0,
        "start_time": "2025-01-27T11:13:10.866Z"
      },
      {
        "duration": 0,
        "start_time": "2025-01-27T11:13:10.867Z"
      },
      {
        "duration": 0,
        "start_time": "2025-01-27T11:13:10.869Z"
      },
      {
        "duration": 52,
        "start_time": "2025-01-27T12:15:46.466Z"
      },
      {
        "duration": 1439,
        "start_time": "2025-01-27T12:17:23.295Z"
      },
      {
        "duration": 181,
        "start_time": "2025-01-27T12:17:24.736Z"
      },
      {
        "duration": 38,
        "start_time": "2025-01-27T12:17:24.918Z"
      },
      {
        "duration": 15,
        "start_time": "2025-01-27T12:17:24.958Z"
      },
      {
        "duration": 42,
        "start_time": "2025-01-27T12:17:24.975Z"
      },
      {
        "duration": 37,
        "start_time": "2025-01-27T12:17:25.019Z"
      },
      {
        "duration": 93,
        "start_time": "2025-01-27T12:17:25.058Z"
      },
      {
        "duration": 12,
        "start_time": "2025-01-27T12:17:25.152Z"
      },
      {
        "duration": 71,
        "start_time": "2025-01-27T12:17:25.166Z"
      },
      {
        "duration": 5,
        "start_time": "2025-01-27T12:17:25.239Z"
      },
      {
        "duration": 19,
        "start_time": "2025-01-27T12:17:25.246Z"
      },
      {
        "duration": 26,
        "start_time": "2025-01-27T12:17:25.267Z"
      },
      {
        "duration": 20,
        "start_time": "2025-01-27T12:17:25.294Z"
      },
      {
        "duration": 39,
        "start_time": "2025-01-27T12:17:25.317Z"
      },
      {
        "duration": 38,
        "start_time": "2025-01-27T12:17:25.357Z"
      },
      {
        "duration": 14,
        "start_time": "2025-01-27T12:17:25.397Z"
      },
      {
        "duration": 16,
        "start_time": "2025-01-27T12:17:25.413Z"
      },
      {
        "duration": 29,
        "start_time": "2025-01-27T12:17:25.431Z"
      },
      {
        "duration": 18,
        "start_time": "2025-01-27T12:17:25.461Z"
      },
      {
        "duration": 35,
        "start_time": "2025-01-27T12:17:25.481Z"
      },
      {
        "duration": 424,
        "start_time": "2025-01-27T12:17:25.519Z"
      },
      {
        "duration": 30,
        "start_time": "2025-01-27T12:17:25.944Z"
      },
      {
        "duration": 1811,
        "start_time": "2025-01-27T12:17:25.975Z"
      },
      {
        "duration": 27,
        "start_time": "2025-01-27T12:17:27.788Z"
      },
      {
        "duration": 861,
        "start_time": "2025-01-27T12:17:27.817Z"
      },
      {
        "duration": 2,
        "start_time": "2025-01-27T12:17:28.680Z"
      },
      {
        "duration": 303,
        "start_time": "2025-01-27T12:17:28.683Z"
      },
      {
        "duration": 110,
        "start_time": "2025-01-27T12:17:28.988Z"
      },
      {
        "duration": 0,
        "start_time": "2025-01-27T12:17:29.100Z"
      },
      {
        "duration": 0,
        "start_time": "2025-01-27T12:17:29.101Z"
      },
      {
        "duration": 0,
        "start_time": "2025-01-27T12:17:29.102Z"
      },
      {
        "duration": 0,
        "start_time": "2025-01-27T12:17:29.115Z"
      },
      {
        "duration": 0,
        "start_time": "2025-01-27T12:17:29.116Z"
      },
      {
        "duration": 0,
        "start_time": "2025-01-27T12:17:29.117Z"
      },
      {
        "duration": 0,
        "start_time": "2025-01-27T12:17:29.118Z"
      },
      {
        "duration": 0,
        "start_time": "2025-01-27T12:17:29.120Z"
      },
      {
        "duration": 0,
        "start_time": "2025-01-27T12:17:29.121Z"
      },
      {
        "duration": 0,
        "start_time": "2025-01-27T12:17:29.122Z"
      },
      {
        "duration": 0,
        "start_time": "2025-01-27T12:17:29.123Z"
      },
      {
        "duration": 0,
        "start_time": "2025-01-27T12:17:29.124Z"
      },
      {
        "duration": 0,
        "start_time": "2025-01-27T12:17:29.125Z"
      },
      {
        "duration": 0,
        "start_time": "2025-01-27T12:17:29.126Z"
      },
      {
        "duration": 0,
        "start_time": "2025-01-27T12:17:29.127Z"
      },
      {
        "duration": 0,
        "start_time": "2025-01-27T12:17:29.128Z"
      },
      {
        "duration": 0,
        "start_time": "2025-01-27T12:17:29.130Z"
      },
      {
        "duration": 0,
        "start_time": "2025-01-27T12:17:29.131Z"
      },
      {
        "duration": 3,
        "start_time": "2025-01-27T12:40:08.836Z"
      },
      {
        "duration": 209,
        "start_time": "2025-01-27T12:40:09.412Z"
      },
      {
        "duration": 38,
        "start_time": "2025-01-27T12:40:10.003Z"
      },
      {
        "duration": 17,
        "start_time": "2025-01-27T12:40:11.992Z"
      },
      {
        "duration": 17,
        "start_time": "2025-01-27T12:40:13.258Z"
      },
      {
        "duration": 24,
        "start_time": "2025-01-27T12:40:14.034Z"
      },
      {
        "duration": 16,
        "start_time": "2025-01-27T12:40:15.291Z"
      },
      {
        "duration": 13,
        "start_time": "2025-01-27T12:40:15.786Z"
      },
      {
        "duration": 20,
        "start_time": "2025-01-27T12:40:16.180Z"
      },
      {
        "duration": 6,
        "start_time": "2025-01-27T12:40:17.156Z"
      },
      {
        "duration": 8,
        "start_time": "2025-01-27T12:40:17.842Z"
      },
      {
        "duration": 6,
        "start_time": "2025-01-27T12:40:18.283Z"
      },
      {
        "duration": 9,
        "start_time": "2025-01-27T12:40:20.236Z"
      },
      {
        "duration": 7,
        "start_time": "2025-01-27T12:40:20.760Z"
      },
      {
        "duration": 24,
        "start_time": "2025-01-27T12:40:22.009Z"
      },
      {
        "duration": 14,
        "start_time": "2025-01-27T12:40:23.283Z"
      },
      {
        "duration": 9,
        "start_time": "2025-01-27T12:40:25.579Z"
      },
      {
        "duration": 25,
        "start_time": "2025-01-27T12:40:27.546Z"
      },
      {
        "duration": 18,
        "start_time": "2025-01-27T12:40:29.067Z"
      },
      {
        "duration": 21,
        "start_time": "2025-01-27T12:40:30.209Z"
      },
      {
        "duration": 406,
        "start_time": "2025-01-27T12:40:33.232Z"
      },
      {
        "duration": 27,
        "start_time": "2025-01-27T12:40:35.427Z"
      },
      {
        "duration": 1772,
        "start_time": "2025-01-27T12:40:36.658Z"
      },
      {
        "duration": 16,
        "start_time": "2025-01-27T12:40:48.315Z"
      },
      {
        "duration": 757,
        "start_time": "2025-01-27T12:40:56.595Z"
      },
      {
        "duration": 2,
        "start_time": "2025-01-27T12:40:58.627Z"
      },
      {
        "duration": 330,
        "start_time": "2025-01-27T12:40:59.507Z"
      },
      {
        "duration": 12,
        "start_time": "2025-01-27T12:41:03.721Z"
      },
      {
        "duration": 12,
        "start_time": "2025-01-27T12:41:23.114Z"
      },
      {
        "duration": 386,
        "start_time": "2025-01-27T12:41:28.115Z"
      },
      {
        "duration": 3,
        "start_time": "2025-01-27T12:41:44.843Z"
      },
      {
        "duration": 299,
        "start_time": "2025-01-27T12:41:45.322Z"
      },
      {
        "duration": 34,
        "start_time": "2025-01-27T12:41:45.906Z"
      },
      {
        "duration": 17,
        "start_time": "2025-01-27T12:41:48.138Z"
      },
      {
        "duration": 16,
        "start_time": "2025-01-27T12:41:49.586Z"
      },
      {
        "duration": 24,
        "start_time": "2025-01-27T12:41:50.570Z"
      },
      {
        "duration": 17,
        "start_time": "2025-01-27T12:41:52.019Z"
      },
      {
        "duration": 12,
        "start_time": "2025-01-27T12:41:52.528Z"
      },
      {
        "duration": 21,
        "start_time": "2025-01-27T12:41:53.195Z"
      },
      {
        "duration": 6,
        "start_time": "2025-01-27T12:41:54.586Z"
      },
      {
        "duration": 7,
        "start_time": "2025-01-27T12:41:55.074Z"
      },
      {
        "duration": 5,
        "start_time": "2025-01-27T12:41:55.555Z"
      },
      {
        "duration": 8,
        "start_time": "2025-01-27T12:41:57.464Z"
      },
      {
        "duration": 7,
        "start_time": "2025-01-27T12:41:57.922Z"
      },
      {
        "duration": 24,
        "start_time": "2025-01-27T12:41:58.928Z"
      },
      {
        "duration": 19,
        "start_time": "2025-01-27T12:41:59.883Z"
      },
      {
        "duration": 11,
        "start_time": "2025-01-27T12:42:01.705Z"
      },
      {
        "duration": 26,
        "start_time": "2025-01-27T12:42:03.178Z"
      },
      {
        "duration": 19,
        "start_time": "2025-01-27T12:42:04.131Z"
      },
      {
        "duration": 29,
        "start_time": "2025-01-27T12:42:05.043Z"
      },
      {
        "duration": 411,
        "start_time": "2025-01-27T12:42:07.753Z"
      },
      {
        "duration": 30,
        "start_time": "2025-01-27T12:42:09.739Z"
      },
      {
        "duration": 1777,
        "start_time": "2025-01-27T12:42:10.778Z"
      },
      {
        "duration": 16,
        "start_time": "2025-01-27T12:42:13.307Z"
      },
      {
        "duration": 864,
        "start_time": "2025-01-27T12:42:17.291Z"
      },
      {
        "duration": 2,
        "start_time": "2025-01-27T12:42:19.723Z"
      },
      {
        "duration": 211,
        "start_time": "2025-01-27T12:42:20.784Z"
      },
      {
        "duration": 15,
        "start_time": "2025-01-27T12:42:25.658Z"
      },
      {
        "duration": 353,
        "start_time": "2025-01-27T12:44:15.411Z"
      },
      {
        "duration": 355,
        "start_time": "2025-01-27T12:45:06.729Z"
      },
      {
        "duration": 1143,
        "start_time": "2025-01-27T12:46:01.960Z"
      },
      {
        "duration": 137,
        "start_time": "2025-01-27T12:46:03.105Z"
      },
      {
        "duration": 37,
        "start_time": "2025-01-27T12:46:03.244Z"
      },
      {
        "duration": 21,
        "start_time": "2025-01-27T12:46:03.283Z"
      },
      {
        "duration": 16,
        "start_time": "2025-01-27T12:46:03.316Z"
      },
      {
        "duration": 141,
        "start_time": "2025-01-27T12:46:03.333Z"
      },
      {
        "duration": 84,
        "start_time": "2025-01-27T12:46:03.476Z"
      },
      {
        "duration": 10,
        "start_time": "2025-01-27T12:46:03.562Z"
      },
      {
        "duration": 28,
        "start_time": "2025-01-27T12:46:03.573Z"
      },
      {
        "duration": 6,
        "start_time": "2025-01-27T12:46:03.614Z"
      },
      {
        "duration": 25,
        "start_time": "2025-01-27T12:46:03.621Z"
      },
      {
        "duration": 21,
        "start_time": "2025-01-27T12:46:03.648Z"
      },
      {
        "duration": 18,
        "start_time": "2025-01-27T12:46:03.671Z"
      },
      {
        "duration": 16,
        "start_time": "2025-01-27T12:46:03.694Z"
      },
      {
        "duration": 92,
        "start_time": "2025-01-27T12:46:03.712Z"
      },
      {
        "duration": 17,
        "start_time": "2025-01-27T12:46:03.806Z"
      },
      {
        "duration": 12,
        "start_time": "2025-01-27T12:46:03.825Z"
      },
      {
        "duration": 48,
        "start_time": "2025-01-27T12:46:03.839Z"
      },
      {
        "duration": 28,
        "start_time": "2025-01-27T12:46:03.888Z"
      },
      {
        "duration": 20,
        "start_time": "2025-01-27T12:46:03.918Z"
      },
      {
        "duration": 450,
        "start_time": "2025-01-27T12:46:03.940Z"
      },
      {
        "duration": 38,
        "start_time": "2025-01-27T12:46:04.392Z"
      },
      {
        "duration": 2084,
        "start_time": "2025-01-27T12:46:04.432Z"
      },
      {
        "duration": 18,
        "start_time": "2025-01-27T12:46:06.518Z"
      },
      {
        "duration": 949,
        "start_time": "2025-01-27T12:46:06.538Z"
      },
      {
        "duration": 3,
        "start_time": "2025-01-27T12:46:07.488Z"
      },
      {
        "duration": 243,
        "start_time": "2025-01-27T12:46:07.493Z"
      },
      {
        "duration": 364,
        "start_time": "2025-01-27T12:46:07.738Z"
      },
      {
        "duration": 367,
        "start_time": "2025-01-27T12:46:08.104Z"
      },
      {
        "duration": 389,
        "start_time": "2025-01-27T12:46:08.473Z"
      },
      {
        "duration": 362,
        "start_time": "2025-01-27T12:46:08.864Z"
      },
      {
        "duration": 248,
        "start_time": "2025-01-27T12:46:09.227Z"
      },
      {
        "duration": 389,
        "start_time": "2025-01-27T12:46:09.477Z"
      },
      {
        "duration": 300,
        "start_time": "2025-01-27T12:46:09.868Z"
      },
      {
        "duration": 57,
        "start_time": "2025-01-27T12:46:10.170Z"
      },
      {
        "duration": 145,
        "start_time": "2025-01-27T12:46:10.228Z"
      },
      {
        "duration": 133,
        "start_time": "2025-01-27T12:46:10.375Z"
      },
      {
        "duration": 123,
        "start_time": "2025-01-27T12:46:10.514Z"
      },
      {
        "duration": 195,
        "start_time": "2025-01-27T12:46:10.639Z"
      },
      {
        "duration": 183,
        "start_time": "2025-01-27T12:46:10.836Z"
      },
      {
        "duration": 182,
        "start_time": "2025-01-27T12:46:11.023Z"
      },
      {
        "duration": 127,
        "start_time": "2025-01-27T12:46:11.215Z"
      },
      {
        "duration": 121,
        "start_time": "2025-01-27T12:46:11.344Z"
      },
      {
        "duration": 236,
        "start_time": "2025-01-27T12:46:11.467Z"
      },
      {
        "duration": 39,
        "start_time": "2025-01-27T12:46:11.705Z"
      },
      {
        "duration": 17,
        "start_time": "2025-01-27T12:46:11.746Z"
      },
      {
        "duration": 362,
        "start_time": "2025-01-27T12:50:04.538Z"
      },
      {
        "duration": 382,
        "start_time": "2025-01-27T12:50:10.240Z"
      },
      {
        "duration": 358,
        "start_time": "2025-01-27T12:50:11.496Z"
      },
      {
        "duration": 244,
        "start_time": "2025-01-27T12:50:13.561Z"
      },
      {
        "duration": 1200,
        "start_time": "2025-01-27T12:50:21.199Z"
      },
      {
        "duration": 138,
        "start_time": "2025-01-27T12:50:22.403Z"
      },
      {
        "duration": 40,
        "start_time": "2025-01-27T12:50:22.543Z"
      },
      {
        "duration": 35,
        "start_time": "2025-01-27T12:50:22.585Z"
      },
      {
        "duration": 18,
        "start_time": "2025-01-27T12:50:22.623Z"
      },
      {
        "duration": 26,
        "start_time": "2025-01-27T12:50:22.643Z"
      },
      {
        "duration": 90,
        "start_time": "2025-01-27T12:50:22.671Z"
      },
      {
        "duration": 13,
        "start_time": "2025-01-27T12:50:22.763Z"
      },
      {
        "duration": 41,
        "start_time": "2025-01-27T12:50:22.780Z"
      },
      {
        "duration": 7,
        "start_time": "2025-01-27T12:50:22.823Z"
      },
      {
        "duration": 17,
        "start_time": "2025-01-27T12:50:22.832Z"
      },
      {
        "duration": 18,
        "start_time": "2025-01-27T12:50:22.851Z"
      },
      {
        "duration": 13,
        "start_time": "2025-01-27T12:50:22.870Z"
      },
      {
        "duration": 75,
        "start_time": "2025-01-27T12:50:22.885Z"
      },
      {
        "duration": 31,
        "start_time": "2025-01-27T12:50:22.962Z"
      },
      {
        "duration": 14,
        "start_time": "2025-01-27T12:50:22.994Z"
      },
      {
        "duration": 9,
        "start_time": "2025-01-27T12:50:23.009Z"
      },
      {
        "duration": 62,
        "start_time": "2025-01-27T12:50:23.020Z"
      },
      {
        "duration": 47,
        "start_time": "2025-01-27T12:50:23.084Z"
      },
      {
        "duration": 22,
        "start_time": "2025-01-27T12:50:23.133Z"
      },
      {
        "duration": 440,
        "start_time": "2025-01-27T12:50:23.156Z"
      },
      {
        "duration": 43,
        "start_time": "2025-01-27T12:50:23.597Z"
      },
      {
        "duration": 1861,
        "start_time": "2025-01-27T12:50:23.641Z"
      },
      {
        "duration": 24,
        "start_time": "2025-01-27T12:50:25.504Z"
      },
      {
        "duration": 888,
        "start_time": "2025-01-27T12:50:25.530Z"
      },
      {
        "duration": 2,
        "start_time": "2025-01-27T12:50:26.420Z"
      },
      {
        "duration": 258,
        "start_time": "2025-01-27T12:50:26.426Z"
      },
      {
        "duration": 359,
        "start_time": "2025-01-27T12:50:26.686Z"
      },
      {
        "duration": 362,
        "start_time": "2025-01-27T12:50:27.046Z"
      },
      {
        "duration": 394,
        "start_time": "2025-01-27T12:50:27.409Z"
      },
      {
        "duration": 369,
        "start_time": "2025-01-27T12:50:27.804Z"
      },
      {
        "duration": 267,
        "start_time": "2025-01-27T12:50:28.175Z"
      },
      {
        "duration": 401,
        "start_time": "2025-01-27T12:50:28.444Z"
      },
      {
        "duration": 303,
        "start_time": "2025-01-27T12:50:28.847Z"
      },
      {
        "duration": 36,
        "start_time": "2025-01-27T12:50:29.152Z"
      },
      {
        "duration": 156,
        "start_time": "2025-01-27T12:50:29.190Z"
      },
      {
        "duration": 127,
        "start_time": "2025-01-27T12:50:29.348Z"
      },
      {
        "duration": 138,
        "start_time": "2025-01-27T12:50:29.477Z"
      },
      {
        "duration": 199,
        "start_time": "2025-01-27T12:50:29.617Z"
      },
      {
        "duration": 182,
        "start_time": "2025-01-27T12:50:29.818Z"
      },
      {
        "duration": 192,
        "start_time": "2025-01-27T12:50:30.002Z"
      },
      {
        "duration": 131,
        "start_time": "2025-01-27T12:50:30.196Z"
      },
      {
        "duration": 125,
        "start_time": "2025-01-27T12:50:30.328Z"
      },
      {
        "duration": 324,
        "start_time": "2025-01-27T12:50:30.457Z"
      },
      {
        "duration": 34,
        "start_time": "2025-01-27T12:50:30.783Z"
      },
      {
        "duration": 19,
        "start_time": "2025-01-27T12:50:30.818Z"
      },
      {
        "duration": 1178,
        "start_time": "2025-01-27T12:51:51.920Z"
      },
      {
        "duration": 138,
        "start_time": "2025-01-27T12:51:53.100Z"
      },
      {
        "duration": 36,
        "start_time": "2025-01-27T12:51:53.240Z"
      },
      {
        "duration": 15,
        "start_time": "2025-01-27T12:51:53.278Z"
      },
      {
        "duration": 16,
        "start_time": "2025-01-27T12:51:53.314Z"
      },
      {
        "duration": 39,
        "start_time": "2025-01-27T12:51:53.332Z"
      },
      {
        "duration": 70,
        "start_time": "2025-01-27T12:51:53.373Z"
      },
      {
        "duration": 11,
        "start_time": "2025-01-27T12:51:53.445Z"
      },
      {
        "duration": 47,
        "start_time": "2025-01-27T12:51:53.457Z"
      },
      {
        "duration": 5,
        "start_time": "2025-01-27T12:51:53.506Z"
      },
      {
        "duration": 11,
        "start_time": "2025-01-27T12:51:53.512Z"
      },
      {
        "duration": 18,
        "start_time": "2025-01-27T12:51:53.525Z"
      },
      {
        "duration": 17,
        "start_time": "2025-01-27T12:51:53.545Z"
      },
      {
        "duration": 17,
        "start_time": "2025-01-27T12:51:53.565Z"
      },
      {
        "duration": 41,
        "start_time": "2025-01-27T12:51:53.584Z"
      },
      {
        "duration": 24,
        "start_time": "2025-01-27T12:51:53.627Z"
      },
      {
        "duration": 10,
        "start_time": "2025-01-27T12:51:53.652Z"
      },
      {
        "duration": 48,
        "start_time": "2025-01-27T12:51:53.663Z"
      },
      {
        "duration": 17,
        "start_time": "2025-01-27T12:51:53.715Z"
      },
      {
        "duration": 21,
        "start_time": "2025-01-27T12:51:53.734Z"
      },
      {
        "duration": 448,
        "start_time": "2025-01-27T12:51:53.756Z"
      },
      {
        "duration": 34,
        "start_time": "2025-01-27T12:51:54.206Z"
      },
      {
        "duration": 1824,
        "start_time": "2025-01-27T12:51:54.241Z"
      },
      {
        "duration": 21,
        "start_time": "2025-01-27T12:51:56.066Z"
      },
      {
        "duration": 945,
        "start_time": "2025-01-27T12:51:56.090Z"
      },
      {
        "duration": 3,
        "start_time": "2025-01-27T12:51:57.037Z"
      },
      {
        "duration": 225,
        "start_time": "2025-01-27T12:51:57.042Z"
      },
      {
        "duration": 378,
        "start_time": "2025-01-27T12:51:57.269Z"
      },
      {
        "duration": 367,
        "start_time": "2025-01-27T12:51:57.649Z"
      },
      {
        "duration": 399,
        "start_time": "2025-01-27T12:51:58.019Z"
      },
      {
        "duration": 343,
        "start_time": "2025-01-27T12:51:58.420Z"
      },
      {
        "duration": 261,
        "start_time": "2025-01-27T12:51:58.764Z"
      },
      {
        "duration": 382,
        "start_time": "2025-01-27T12:51:59.027Z"
      },
      {
        "duration": 284,
        "start_time": "2025-01-27T12:51:59.414Z"
      },
      {
        "duration": 38,
        "start_time": "2025-01-27T12:51:59.699Z"
      },
      {
        "duration": 145,
        "start_time": "2025-01-27T12:51:59.739Z"
      },
      {
        "duration": 124,
        "start_time": "2025-01-27T12:51:59.887Z"
      },
      {
        "duration": 128,
        "start_time": "2025-01-27T12:52:00.014Z"
      },
      {
        "duration": 192,
        "start_time": "2025-01-27T12:52:00.144Z"
      },
      {
        "duration": 180,
        "start_time": "2025-01-27T12:52:00.338Z"
      },
      {
        "duration": 180,
        "start_time": "2025-01-27T12:52:00.523Z"
      },
      {
        "duration": 150,
        "start_time": "2025-01-27T12:52:00.704Z"
      },
      {
        "duration": 120,
        "start_time": "2025-01-27T12:52:00.856Z"
      },
      {
        "duration": 229,
        "start_time": "2025-01-27T12:52:00.978Z"
      },
      {
        "duration": 33,
        "start_time": "2025-01-27T12:52:01.209Z"
      },
      {
        "duration": 31,
        "start_time": "2025-01-27T12:52:01.243Z"
      },
      {
        "duration": 1410,
        "start_time": "2025-01-27T13:30:37.885Z"
      },
      {
        "duration": 223,
        "start_time": "2025-01-27T13:30:39.297Z"
      },
      {
        "duration": 42,
        "start_time": "2025-01-27T13:30:39.521Z"
      },
      {
        "duration": 19,
        "start_time": "2025-01-27T13:30:39.565Z"
      },
      {
        "duration": 22,
        "start_time": "2025-01-27T13:30:39.586Z"
      },
      {
        "duration": 27,
        "start_time": "2025-01-27T13:30:39.630Z"
      },
      {
        "duration": 83,
        "start_time": "2025-01-27T13:30:39.659Z"
      },
      {
        "duration": 12,
        "start_time": "2025-01-27T13:30:39.744Z"
      },
      {
        "duration": 21,
        "start_time": "2025-01-27T13:30:39.758Z"
      },
      {
        "duration": 7,
        "start_time": "2025-01-27T13:30:39.782Z"
      },
      {
        "duration": 41,
        "start_time": "2025-01-27T13:30:39.790Z"
      },
      {
        "duration": 23,
        "start_time": "2025-01-27T13:30:39.833Z"
      },
      {
        "duration": 11,
        "start_time": "2025-01-27T13:30:39.857Z"
      },
      {
        "duration": 7,
        "start_time": "2025-01-27T13:30:39.869Z"
      },
      {
        "duration": 24,
        "start_time": "2025-01-27T13:30:39.878Z"
      },
      {
        "duration": 35,
        "start_time": "2025-01-27T13:30:39.903Z"
      },
      {
        "duration": 14,
        "start_time": "2025-01-27T13:30:39.940Z"
      },
      {
        "duration": 38,
        "start_time": "2025-01-27T13:30:39.956Z"
      },
      {
        "duration": 34,
        "start_time": "2025-01-27T13:30:39.996Z"
      },
      {
        "duration": 23,
        "start_time": "2025-01-27T13:30:40.032Z"
      },
      {
        "duration": 493,
        "start_time": "2025-01-27T13:30:40.056Z"
      },
      {
        "duration": 29,
        "start_time": "2025-01-27T13:30:40.551Z"
      },
      {
        "duration": 2088,
        "start_time": "2025-01-27T13:30:40.581Z"
      },
      {
        "duration": 17,
        "start_time": "2025-01-27T13:30:42.670Z"
      },
      {
        "duration": 866,
        "start_time": "2025-01-27T13:30:42.689Z"
      },
      {
        "duration": 2,
        "start_time": "2025-01-27T13:30:43.557Z"
      },
      {
        "duration": 239,
        "start_time": "2025-01-27T13:30:43.561Z"
      },
      {
        "duration": 387,
        "start_time": "2025-01-27T13:30:43.804Z"
      },
      {
        "duration": 374,
        "start_time": "2025-01-27T13:30:44.193Z"
      },
      {
        "duration": 427,
        "start_time": "2025-01-27T13:30:44.569Z"
      },
      {
        "duration": 387,
        "start_time": "2025-01-27T13:30:44.998Z"
      },
      {
        "duration": 368,
        "start_time": "2025-01-27T13:30:45.387Z"
      },
      {
        "duration": 316,
        "start_time": "2025-01-27T13:30:45.756Z"
      },
      {
        "duration": 318,
        "start_time": "2025-01-27T13:30:46.074Z"
      },
      {
        "duration": 51,
        "start_time": "2025-01-27T13:30:46.393Z"
      },
      {
        "duration": 148,
        "start_time": "2025-01-27T13:30:46.445Z"
      },
      {
        "duration": 137,
        "start_time": "2025-01-27T13:30:46.595Z"
      },
      {
        "duration": 139,
        "start_time": "2025-01-27T13:30:46.733Z"
      },
      {
        "duration": 207,
        "start_time": "2025-01-27T13:30:46.874Z"
      },
      {
        "duration": 190,
        "start_time": "2025-01-27T13:30:47.082Z"
      },
      {
        "duration": 207,
        "start_time": "2025-01-27T13:30:47.274Z"
      },
      {
        "duration": 231,
        "start_time": "2025-01-27T13:30:47.483Z"
      },
      {
        "duration": 127,
        "start_time": "2025-01-27T13:30:47.716Z"
      },
      {
        "duration": 129,
        "start_time": "2025-01-27T13:30:47.845Z"
      },
      {
        "duration": 29,
        "start_time": "2025-01-27T13:30:47.976Z"
      },
      {
        "duration": 32,
        "start_time": "2025-01-27T13:30:48.006Z"
      }
    ],
    "kernelspec": {
      "display_name": "Python 3 (ipykernel)",
      "language": "python",
      "name": "python3"
    },
    "language_info": {
      "codemirror_mode": {
        "name": "ipython",
        "version": 3
      },
      "file_extension": ".py",
      "mimetype": "text/x-python",
      "name": "python",
      "nbconvert_exporter": "python",
      "pygments_lexer": "ipython3",
      "version": "3.9.5"
    },
    "toc": {
      "base_numbering": 1,
      "nav_menu": {},
      "number_sections": true,
      "sideBar": true,
      "skip_h1_title": true,
      "title_cell": "Table of Contents",
      "title_sidebar": "Contents",
      "toc_cell": false,
      "toc_position": {},
      "toc_section_display": true,
      "toc_window_display": false
    },
    "colab": {
      "provenance": []
    }
  },
  "nbformat": 4,
  "nbformat_minor": 5
}